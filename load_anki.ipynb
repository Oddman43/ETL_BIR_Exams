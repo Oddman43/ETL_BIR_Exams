{
 "cells": [
  {
   "cell_type": "code",
   "execution_count": 1,
   "metadata": {},
   "outputs": [],
   "source": [
    "import pandas as pd\n",
    "import numpy as np\n",
    "import sqlite3\n",
    "import json\n",
    "import urllib.request"
   ]
  },
  {
   "cell_type": "code",
   "execution_count": 2,
   "metadata": {},
   "outputs": [],
   "source": [
    "# Copied from anki connect site\n",
    "def request(action: str, **params) -> dict:\n",
    "    return {\"action\": action, \"params\": params, \"version\": 6}\n",
    "\n",
    "\n",
    "# Copied from anki connect site\n",
    "def invoke(action: str, **params):\n",
    "    requestJson = json.dumps(request(action, **params)).encode(\"utf-8\")\n",
    "    response = json.load(\n",
    "        urllib.request.urlopen(\n",
    "            urllib.request.Request(\"http://127.0.0.1:8765\", requestJson)\n",
    "        )\n",
    "    )\n",
    "    if len(response) != 2:\n",
    "        raise Exception(\"response has an unexpected number of fields\")\n",
    "    if \"error\" not in response:\n",
    "        raise Exception(\"response is missing required error field\")\n",
    "    if \"result\" not in response:\n",
    "        raise Exception(\"response is missing required result field\")\n",
    "    if response[\"error\"] is not None:\n",
    "        raise Exception(response[\"error\"])\n",
    "    return response[\"result\"]"
   ]
  },
  {
   "cell_type": "code",
   "execution_count": 66,
   "metadata": {},
   "outputs": [
    {
     "data": {
      "application/vnd.microsoft.datawrangler.viewer.v0+json": {
       "columns": [
        {
         "name": "index",
         "rawType": "int64",
         "type": "integer"
        },
        {
         "name": "question",
         "rawType": "object",
         "type": "string"
        },
        {
         "name": "exam_type",
         "rawType": "object",
         "type": "string"
        },
        {
         "name": "year_name",
         "rawType": "int32",
         "type": "integer"
        },
        {
         "name": "option_text",
         "rawType": "object",
         "type": "string"
        },
        {
         "name": "is_correct",
         "rawType": "bool",
         "type": "boolean"
        },
        {
         "name": "question_idx",
         "rawType": "object",
         "type": "string"
        }
       ],
       "conversionMethod": "pd.DataFrame",
       "ref": "5ccc18aa-c6c9-47a5-84e7-69240c6adadd",
       "rows": [
        [
         "0",
         "1. La barrera hematoencefálica:",
         "bir",
         "2024",
         "1. Es permeable a todas las sustancias presentes en el plasma.",
         "False",
         "1. La barrera hematoencefálica:bir2024"
        ],
        [
         "1",
         "1. La barrera hematoencefálica:",
         "bir",
         "2024",
         "2. Es permeable al O2 y al CO2.",
         "True",
         "1. La barrera hematoencefálica:bir2024"
        ],
        [
         "2",
         "1. La barrera hematoencefálica:",
         "bir",
         "2024",
         "3. Es impermeable al etanol.",
         "False",
         "1. La barrera hematoencefálica:bir2024"
        ],
        [
         "3",
         "1. La barrera hematoencefálica:",
         "bir",
         "2024",
         "4. Es impermeable al agua.",
         "False",
         "1. La barrera hematoencefálica:bir2024"
        ],
        [
         "4",
         "2. El espacio subaracnoideo se encuentra:",
         "bir",
         "2024",
         "1. Entre la aracnoides y la duramadre.",
         "False",
         "2. El espacio subaracnoideo se encuentra:bir2024"
        ]
       ],
       "shape": {
        "columns": 6,
        "rows": 5
       }
      },
      "text/html": [
       "<div>\n",
       "<style scoped>\n",
       "    .dataframe tbody tr th:only-of-type {\n",
       "        vertical-align: middle;\n",
       "    }\n",
       "\n",
       "    .dataframe tbody tr th {\n",
       "        vertical-align: top;\n",
       "    }\n",
       "\n",
       "    .dataframe thead th {\n",
       "        text-align: right;\n",
       "    }\n",
       "</style>\n",
       "<table border=\"1\" class=\"dataframe\">\n",
       "  <thead>\n",
       "    <tr style=\"text-align: right;\">\n",
       "      <th></th>\n",
       "      <th>question</th>\n",
       "      <th>exam_type</th>\n",
       "      <th>year_name</th>\n",
       "      <th>option_text</th>\n",
       "      <th>is_correct</th>\n",
       "      <th>question_idx</th>\n",
       "    </tr>\n",
       "  </thead>\n",
       "  <tbody>\n",
       "    <tr>\n",
       "      <th>0</th>\n",
       "      <td>1. La barrera hematoencefálica:</td>\n",
       "      <td>bir</td>\n",
       "      <td>2024</td>\n",
       "      <td>1. Es permeable a todas las sustancias present...</td>\n",
       "      <td>False</td>\n",
       "      <td>1. La barrera hematoencefálica:bir2024</td>\n",
       "    </tr>\n",
       "    <tr>\n",
       "      <th>1</th>\n",
       "      <td>1. La barrera hematoencefálica:</td>\n",
       "      <td>bir</td>\n",
       "      <td>2024</td>\n",
       "      <td>2. Es permeable al O2 y al CO2.</td>\n",
       "      <td>True</td>\n",
       "      <td>1. La barrera hematoencefálica:bir2024</td>\n",
       "    </tr>\n",
       "    <tr>\n",
       "      <th>2</th>\n",
       "      <td>1. La barrera hematoencefálica:</td>\n",
       "      <td>bir</td>\n",
       "      <td>2024</td>\n",
       "      <td>3. Es impermeable al etanol.</td>\n",
       "      <td>False</td>\n",
       "      <td>1. La barrera hematoencefálica:bir2024</td>\n",
       "    </tr>\n",
       "    <tr>\n",
       "      <th>3</th>\n",
       "      <td>1. La barrera hematoencefálica:</td>\n",
       "      <td>bir</td>\n",
       "      <td>2024</td>\n",
       "      <td>4. Es impermeable al agua.</td>\n",
       "      <td>False</td>\n",
       "      <td>1. La barrera hematoencefálica:bir2024</td>\n",
       "    </tr>\n",
       "    <tr>\n",
       "      <th>4</th>\n",
       "      <td>2. El espacio subaracnoideo se encuentra:</td>\n",
       "      <td>bir</td>\n",
       "      <td>2024</td>\n",
       "      <td>1. Entre la aracnoides y la duramadre.</td>\n",
       "      <td>False</td>\n",
       "      <td>2. El espacio subaracnoideo se encuentra:bir2024</td>\n",
       "    </tr>\n",
       "  </tbody>\n",
       "</table>\n",
       "</div>"
      ],
      "text/plain": [
       "                                    question exam_type  year_name  \\\n",
       "0            1. La barrera hematoencefálica:       bir       2024   \n",
       "1            1. La barrera hematoencefálica:       bir       2024   \n",
       "2            1. La barrera hematoencefálica:       bir       2024   \n",
       "3            1. La barrera hematoencefálica:       bir       2024   \n",
       "4  2. El espacio subaracnoideo se encuentra:       bir       2024   \n",
       "\n",
       "                                         option_text  is_correct  \\\n",
       "0  1. Es permeable a todas las sustancias present...       False   \n",
       "1                    2. Es permeable al O2 y al CO2.        True   \n",
       "2                       3. Es impermeable al etanol.       False   \n",
       "3                         4. Es impermeable al agua.       False   \n",
       "4             1. Entre la aracnoides y la duramadre.       False   \n",
       "\n",
       "                                       question_idx  \n",
       "0            1. La barrera hematoencefálica:bir2024  \n",
       "1            1. La barrera hematoencefálica:bir2024  \n",
       "2            1. La barrera hematoencefálica:bir2024  \n",
       "3            1. La barrera hematoencefálica:bir2024  \n",
       "4  2. El espacio subaracnoideo se encuentra:bir2024  "
      ]
     },
     "execution_count": 66,
     "metadata": {},
     "output_type": "execute_result"
    }
   ],
   "source": [
    "db_path: str = \"data/clean/bir_warehouse.db\"\n",
    "\n",
    "year_num_options: list = [[4, 2015], [5, 2014]]\n",
    "\n",
    "query_question_text: str = \"\"\"\n",
    "SELECT qn.question, ex.exam_type, yr.year_name, qo.option_text, qo.is_correct\n",
    "FROM questions_options AS qo\n",
    "JOIN questions AS qn ON qo.question_id = qn.id\n",
    "JOIN year AS yr ON qn.exam_year = yr.id_year\n",
    "JOIN exam AS ex ON qn.exam_subject = ex.id_type;\n",
    "\"\"\"\n",
    "\n",
    "conn = sqlite3.connect(db_path)\n",
    "\n",
    "exams_df = pd.read_sql(query_question_text, conn)\n",
    "\n",
    "conn.close()\n",
    "exams_df[\"is_correct\"] = exams_df[\"is_correct\"].astype(bool)\n",
    "exams_df[\"question_idx\"] = exams_df[\"question\"] + exams_df[\"exam_type\"] + exams_df[\"year_name\"]\n",
    "exams_df[\"question\"] = exams_df[\"question\"].str.strip()\n",
    "exams_df[\"year_name\"] = exams_df[\"year_name\"].astype(int)\n",
    "\n",
    "exams_df.head()"
   ]
  },
  {
   "cell_type": "code",
   "execution_count": 67,
   "metadata": {},
   "outputs": [
    {
     "name": "stdout",
     "output_type": "stream",
     "text": [
      "5435\n"
     ]
    }
   ],
   "source": [
    "print(len(exams_df['question_idx'].unique()))"
   ]
  },
  {
   "cell_type": "code",
   "execution_count": 68,
   "metadata": {},
   "outputs": [
    {
     "data": {
      "application/vnd.microsoft.datawrangler.viewer.v0+json": {
       "columns": [
        {
         "name": "index",
         "rawType": "int64",
         "type": "integer"
        },
        {
         "name": "question",
         "rawType": "object",
         "type": "string"
        },
        {
         "name": "exam_type",
         "rawType": "object",
         "type": "string"
        },
        {
         "name": "year_name",
         "rawType": "int32",
         "type": "integer"
        },
        {
         "name": "option_text",
         "rawType": "object",
         "type": "string"
        },
        {
         "name": "is_correct",
         "rawType": "bool",
         "type": "boolean"
        },
        {
         "name": "question_idx",
         "rawType": "object",
         "type": "string"
        },
        {
         "name": "option_num",
         "rawType": "int64",
         "type": "integer"
        }
       ],
       "conversionMethod": "pd.DataFrame",
       "ref": "679cc15d-a3dd-4a8f-a135-dc558e3ee7d7",
       "rows": [
        [
         "0",
         "1. La barrera hematoencefálica:",
         "bir",
         "2024",
         "1. Es permeable a todas las sustancias presentes en el plasma.",
         "False",
         "1. La barrera hematoencefálica:bir2024",
         "1"
        ],
        [
         "1",
         "1. La barrera hematoencefálica:",
         "bir",
         "2024",
         "2. Es permeable al O2 y al CO2.",
         "True",
         "1. La barrera hematoencefálica:bir2024",
         "2"
        ],
        [
         "2",
         "1. La barrera hematoencefálica:",
         "bir",
         "2024",
         "3. Es impermeable al etanol.",
         "False",
         "1. La barrera hematoencefálica:bir2024",
         "3"
        ],
        [
         "3",
         "1. La barrera hematoencefálica:",
         "bir",
         "2024",
         "4. Es impermeable al agua.",
         "False",
         "1. La barrera hematoencefálica:bir2024",
         "4"
        ],
        [
         "4",
         "2. El espacio subaracnoideo se encuentra:",
         "bir",
         "2024",
         "1. Entre la aracnoides y la duramadre.",
         "False",
         "2. El espacio subaracnoideo se encuentra:bir2024",
         "1"
        ]
       ],
       "shape": {
        "columns": 7,
        "rows": 5
       }
      },
      "text/html": [
       "<div>\n",
       "<style scoped>\n",
       "    .dataframe tbody tr th:only-of-type {\n",
       "        vertical-align: middle;\n",
       "    }\n",
       "\n",
       "    .dataframe tbody tr th {\n",
       "        vertical-align: top;\n",
       "    }\n",
       "\n",
       "    .dataframe thead th {\n",
       "        text-align: right;\n",
       "    }\n",
       "</style>\n",
       "<table border=\"1\" class=\"dataframe\">\n",
       "  <thead>\n",
       "    <tr style=\"text-align: right;\">\n",
       "      <th></th>\n",
       "      <th>question</th>\n",
       "      <th>exam_type</th>\n",
       "      <th>year_name</th>\n",
       "      <th>option_text</th>\n",
       "      <th>is_correct</th>\n",
       "      <th>question_idx</th>\n",
       "      <th>option_num</th>\n",
       "    </tr>\n",
       "  </thead>\n",
       "  <tbody>\n",
       "    <tr>\n",
       "      <th>0</th>\n",
       "      <td>1. La barrera hematoencefálica:</td>\n",
       "      <td>bir</td>\n",
       "      <td>2024</td>\n",
       "      <td>1. Es permeable a todas las sustancias present...</td>\n",
       "      <td>False</td>\n",
       "      <td>1. La barrera hematoencefálica:bir2024</td>\n",
       "      <td>1</td>\n",
       "    </tr>\n",
       "    <tr>\n",
       "      <th>1</th>\n",
       "      <td>1. La barrera hematoencefálica:</td>\n",
       "      <td>bir</td>\n",
       "      <td>2024</td>\n",
       "      <td>2. Es permeable al O2 y al CO2.</td>\n",
       "      <td>True</td>\n",
       "      <td>1. La barrera hematoencefálica:bir2024</td>\n",
       "      <td>2</td>\n",
       "    </tr>\n",
       "    <tr>\n",
       "      <th>2</th>\n",
       "      <td>1. La barrera hematoencefálica:</td>\n",
       "      <td>bir</td>\n",
       "      <td>2024</td>\n",
       "      <td>3. Es impermeable al etanol.</td>\n",
       "      <td>False</td>\n",
       "      <td>1. La barrera hematoencefálica:bir2024</td>\n",
       "      <td>3</td>\n",
       "    </tr>\n",
       "    <tr>\n",
       "      <th>3</th>\n",
       "      <td>1. La barrera hematoencefálica:</td>\n",
       "      <td>bir</td>\n",
       "      <td>2024</td>\n",
       "      <td>4. Es impermeable al agua.</td>\n",
       "      <td>False</td>\n",
       "      <td>1. La barrera hematoencefálica:bir2024</td>\n",
       "      <td>4</td>\n",
       "    </tr>\n",
       "    <tr>\n",
       "      <th>4</th>\n",
       "      <td>2. El espacio subaracnoideo se encuentra:</td>\n",
       "      <td>bir</td>\n",
       "      <td>2024</td>\n",
       "      <td>1. Entre la aracnoides y la duramadre.</td>\n",
       "      <td>False</td>\n",
       "      <td>2. El espacio subaracnoideo se encuentra:bir2024</td>\n",
       "      <td>1</td>\n",
       "    </tr>\n",
       "  </tbody>\n",
       "</table>\n",
       "</div>"
      ],
      "text/plain": [
       "                                    question exam_type  year_name  \\\n",
       "0            1. La barrera hematoencefálica:       bir       2024   \n",
       "1            1. La barrera hematoencefálica:       bir       2024   \n",
       "2            1. La barrera hematoencefálica:       bir       2024   \n",
       "3            1. La barrera hematoencefálica:       bir       2024   \n",
       "4  2. El espacio subaracnoideo se encuentra:       bir       2024   \n",
       "\n",
       "                                         option_text  is_correct  \\\n",
       "0  1. Es permeable a todas las sustancias present...       False   \n",
       "1                    2. Es permeable al O2 y al CO2.        True   \n",
       "2                       3. Es impermeable al etanol.       False   \n",
       "3                         4. Es impermeable al agua.       False   \n",
       "4             1. Entre la aracnoides y la duramadre.       False   \n",
       "\n",
       "                                       question_idx  option_num  \n",
       "0            1. La barrera hematoencefálica:bir2024           1  \n",
       "1            1. La barrera hematoencefálica:bir2024           2  \n",
       "2            1. La barrera hematoencefálica:bir2024           3  \n",
       "3            1. La barrera hematoencefálica:bir2024           4  \n",
       "4  2. El espacio subaracnoideo se encuentra:bir2024           1  "
      ]
     },
     "execution_count": 68,
     "metadata": {},
     "output_type": "execute_result"
    }
   ],
   "source": [
    "exams_df[\"option_num\"] = exams_df.groupby([\"question_idx\", \"exam_type\", \"year_name\"]).cumcount() +1\n",
    "exams_df.head()"
   ]
  },
  {
   "cell_type": "code",
   "execution_count": 69,
   "metadata": {},
   "outputs": [
    {
     "data": {
      "application/vnd.microsoft.datawrangler.viewer.v0+json": {
       "columns": [
        {
         "name": "('question', 'exam_type', 'year_name')",
         "rawType": "object",
         "type": "unknown"
        },
        {
         "name": "1",
         "rawType": "object",
         "type": "string"
        },
        {
         "name": "2",
         "rawType": "object",
         "type": "string"
        },
        {
         "name": "3",
         "rawType": "object",
         "type": "string"
        },
        {
         "name": "4",
         "rawType": "object",
         "type": "string"
        },
        {
         "name": "5",
         "rawType": "object",
         "type": "unknown"
        },
        {
         "name": "6",
         "rawType": "object",
         "type": "unknown"
        },
        {
         "name": "7",
         "rawType": "object",
         "type": "unknown"
        },
        {
         "name": "8",
         "rawType": "object",
         "type": "unknown"
        },
        {
         "name": "9",
         "rawType": "object",
         "type": "unknown"
        },
        {
         "name": "10",
         "rawType": "object",
         "type": "unknown"
        }
       ],
       "conversionMethod": "pd.DataFrame",
       "ref": "d28bc903-98ba-4cdf-8b82-3dee7b4bf244",
       "rows": [
        [
         "('1. Cada vuelta de la hélice contiene 3.6 residuos de aminoácido.', 'qir', 2019)",
         "2. Puede ser paralela o antiparalela.",
         "3. Puede acomodar cualquier tipo de aminoácido con la misma probabilidad.",
         "4. En esta estructura secundaria, las cadenas laterales de los aminoácidos se hallan dirigidas hacia su interior.",
         "81. ¿Cuál de las siguientes afirmaciones acerca de los cuerpos cetónicos es cierta?:",
         null,
         null,
         null,
         null,
         null,
         null
        ],
        [
         "('1. Conduce a la síntesis mitocondrial de glucosa a partir de acetil-CoA en mamíferos.', 'qir', 2019)",
         "2. Utiliza exactamente las mismas enzimas que la glucólisis actuando en sentido contrario.",
         "3. Consume una cantidad de energía metabólica considerablemente mayor que la generada por la glucólisis.",
         "4. Es de naturaleza catabólica, aunque genera menor cantidad de ATP que del ciclo de ácido cítrico.",
         "102. ¿Qué tipo de inhibidor enzimático AUMENTA la Km y NO varía la Vmax?:",
         null,
         null,
         null,
         null,
         null,
         null
        ],
        [
         "('1. Confiere a la membrana plasmática alta pe rmeabilidad al agua:', 'bir', 2014)",
         "1. Acuaporinas.",
         "1. Acuaporinas.",
         "2. Canales iónicos.",
         "3. La Na+/K+-ATPasa.",
         "4. Intercambiador Cl/HCO3.",
         "5. Su composición lípidica.",
         null,
         null,
         null,
         null
        ],
        [
         "('1. Cósmido.', 'qir', 2019)",
         "2. Virus.",
         "3. Fago.",
         "4. Operón.",
         "99. La fructosa 2,6-bisfosfato:",
         null,
         null,
         null,
         null,
         null,
         null
        ],
        [
         "('1. Dideoxinucleótidos.', 'qir', 2019)",
         "2. Ribonucleótidos.",
         "3. Desoxinucleótidos.",
         "4. Nucleósidos.",
         "96. ¿Qué es un plásmido?:",
         null,
         null,
         null,
         null,
         null,
         null
        ]
       ],
       "shape": {
        "columns": 10,
        "rows": 5
       }
      },
      "text/html": [
       "<div>\n",
       "<style scoped>\n",
       "    .dataframe tbody tr th:only-of-type {\n",
       "        vertical-align: middle;\n",
       "    }\n",
       "\n",
       "    .dataframe tbody tr th {\n",
       "        vertical-align: top;\n",
       "    }\n",
       "\n",
       "    .dataframe thead th {\n",
       "        text-align: right;\n",
       "    }\n",
       "</style>\n",
       "<table border=\"1\" class=\"dataframe\">\n",
       "  <thead>\n",
       "    <tr style=\"text-align: right;\">\n",
       "      <th></th>\n",
       "      <th></th>\n",
       "      <th>option_num</th>\n",
       "      <th>1</th>\n",
       "      <th>2</th>\n",
       "      <th>3</th>\n",
       "      <th>4</th>\n",
       "      <th>5</th>\n",
       "      <th>6</th>\n",
       "      <th>7</th>\n",
       "      <th>8</th>\n",
       "      <th>9</th>\n",
       "      <th>10</th>\n",
       "    </tr>\n",
       "    <tr>\n",
       "      <th>question</th>\n",
       "      <th>exam_type</th>\n",
       "      <th>year_name</th>\n",
       "      <th></th>\n",
       "      <th></th>\n",
       "      <th></th>\n",
       "      <th></th>\n",
       "      <th></th>\n",
       "      <th></th>\n",
       "      <th></th>\n",
       "      <th></th>\n",
       "      <th></th>\n",
       "      <th></th>\n",
       "    </tr>\n",
       "  </thead>\n",
       "  <tbody>\n",
       "    <tr>\n",
       "      <th>1. Cada vuelta de la hélice contiene 3.6 residuos de aminoácido.</th>\n",
       "      <th>qir</th>\n",
       "      <th>2019</th>\n",
       "      <td>2. Puede ser paralela o antiparalela.</td>\n",
       "      <td>3. Puede acomodar cualquier tipo de aminoácido...</td>\n",
       "      <td>4. En esta estructura secundaria, las cadenas ...</td>\n",
       "      <td>81. ¿Cuál de las siguientes afirmaciones acerc...</td>\n",
       "      <td>NaN</td>\n",
       "      <td>NaN</td>\n",
       "      <td>NaN</td>\n",
       "      <td>NaN</td>\n",
       "      <td>NaN</td>\n",
       "      <td>NaN</td>\n",
       "    </tr>\n",
       "    <tr>\n",
       "      <th>1. Conduce a la síntesis mitocondrial de glucosa a partir de acetil-CoA en mamíferos.</th>\n",
       "      <th>qir</th>\n",
       "      <th>2019</th>\n",
       "      <td>2. Utiliza exactamente las mismas enzimas que ...</td>\n",
       "      <td>3. Consume una cantidad de energía metabólica ...</td>\n",
       "      <td>4. Es de naturaleza catabólica, aunque genera ...</td>\n",
       "      <td>102. ¿Qué tipo de inhibidor enzimático AUMENTA...</td>\n",
       "      <td>NaN</td>\n",
       "      <td>NaN</td>\n",
       "      <td>NaN</td>\n",
       "      <td>NaN</td>\n",
       "      <td>NaN</td>\n",
       "      <td>NaN</td>\n",
       "    </tr>\n",
       "    <tr>\n",
       "      <th>1. Confiere a la membrana plasmática alta pe rmeabilidad al agua:</th>\n",
       "      <th>bir</th>\n",
       "      <th>2014</th>\n",
       "      <td>1. Acuaporinas.</td>\n",
       "      <td>1. Acuaporinas.</td>\n",
       "      <td>2. Canales iónicos.</td>\n",
       "      <td>3. La Na+/K+-ATPasa.</td>\n",
       "      <td>4. Intercambiador Cl/HCO3.</td>\n",
       "      <td>5. Su composición lípidica.</td>\n",
       "      <td>NaN</td>\n",
       "      <td>NaN</td>\n",
       "      <td>NaN</td>\n",
       "      <td>NaN</td>\n",
       "    </tr>\n",
       "    <tr>\n",
       "      <th>1. Cósmido.</th>\n",
       "      <th>qir</th>\n",
       "      <th>2019</th>\n",
       "      <td>2. Virus.</td>\n",
       "      <td>3. Fago.</td>\n",
       "      <td>4. Operón.</td>\n",
       "      <td>99. La fructosa 2,6-bisfosfato:</td>\n",
       "      <td>NaN</td>\n",
       "      <td>NaN</td>\n",
       "      <td>NaN</td>\n",
       "      <td>NaN</td>\n",
       "      <td>NaN</td>\n",
       "      <td>NaN</td>\n",
       "    </tr>\n",
       "    <tr>\n",
       "      <th>1. Dideoxinucleótidos.</th>\n",
       "      <th>qir</th>\n",
       "      <th>2019</th>\n",
       "      <td>2. Ribonucleótidos.</td>\n",
       "      <td>3. Desoxinucleótidos.</td>\n",
       "      <td>4. Nucleósidos.</td>\n",
       "      <td>96. ¿Qué es un plásmido?:</td>\n",
       "      <td>NaN</td>\n",
       "      <td>NaN</td>\n",
       "      <td>NaN</td>\n",
       "      <td>NaN</td>\n",
       "      <td>NaN</td>\n",
       "      <td>NaN</td>\n",
       "    </tr>\n",
       "  </tbody>\n",
       "</table>\n",
       "</div>"
      ],
      "text/plain": [
       "option_num                                                                                                             1   \\\n",
       "question                                           exam_type year_name                                                      \n",
       "1. Cada vuelta de la hélice contiene 3.6 residu... qir       2019                   2. Puede ser paralela o antiparalela.   \n",
       "1. Conduce a la síntesis mitocondrial de glucos... qir       2019       2. Utiliza exactamente las mismas enzimas que ...   \n",
       "1. Confiere a la membrana plasmática alta pe rm... bir       2014                                         1. Acuaporinas.   \n",
       "1. Cósmido.                                        qir       2019                                               2. Virus.   \n",
       "1. Dideoxinucleótidos.                             qir       2019                                     2. Ribonucleótidos.   \n",
       "\n",
       "option_num                                                                                                             2   \\\n",
       "question                                           exam_type year_name                                                      \n",
       "1. Cada vuelta de la hélice contiene 3.6 residu... qir       2019       3. Puede acomodar cualquier tipo de aminoácido...   \n",
       "1. Conduce a la síntesis mitocondrial de glucos... qir       2019       3. Consume una cantidad de energía metabólica ...   \n",
       "1. Confiere a la membrana plasmática alta pe rm... bir       2014                                         1. Acuaporinas.   \n",
       "1. Cósmido.                                        qir       2019                                                3. Fago.   \n",
       "1. Dideoxinucleótidos.                             qir       2019                                   3. Desoxinucleótidos.   \n",
       "\n",
       "option_num                                                                                                             3   \\\n",
       "question                                           exam_type year_name                                                      \n",
       "1. Cada vuelta de la hélice contiene 3.6 residu... qir       2019       4. En esta estructura secundaria, las cadenas ...   \n",
       "1. Conduce a la síntesis mitocondrial de glucos... qir       2019       4. Es de naturaleza catabólica, aunque genera ...   \n",
       "1. Confiere a la membrana plasmática alta pe rm... bir       2014                                     2. Canales iónicos.   \n",
       "1. Cósmido.                                        qir       2019                                              4. Operón.   \n",
       "1. Dideoxinucleótidos.                             qir       2019                                         4. Nucleósidos.   \n",
       "\n",
       "option_num                                                                                                             4   \\\n",
       "question                                           exam_type year_name                                                      \n",
       "1. Cada vuelta de la hélice contiene 3.6 residu... qir       2019       81. ¿Cuál de las siguientes afirmaciones acerc...   \n",
       "1. Conduce a la síntesis mitocondrial de glucos... qir       2019       102. ¿Qué tipo de inhibidor enzimático AUMENTA...   \n",
       "1. Confiere a la membrana plasmática alta pe rm... bir       2014                                    3. La Na+/K+-ATPasa.   \n",
       "1. Cósmido.                                        qir       2019                         99. La fructosa 2,6-bisfosfato:   \n",
       "1. Dideoxinucleótidos.                             qir       2019                               96. ¿Qué es un plásmido?:   \n",
       "\n",
       "option_num                                                                                      5   \\\n",
       "question                                           exam_type year_name                               \n",
       "1. Cada vuelta de la hélice contiene 3.6 residu... qir       2019                              NaN   \n",
       "1. Conduce a la síntesis mitocondrial de glucos... qir       2019                              NaN   \n",
       "1. Confiere a la membrana plasmática alta pe rm... bir       2014       4. Intercambiador Cl/HCO3.   \n",
       "1. Cósmido.                                        qir       2019                              NaN   \n",
       "1. Dideoxinucleótidos.                             qir       2019                              NaN   \n",
       "\n",
       "option_num                                                                                       6   \\\n",
       "question                                           exam_type year_name                                \n",
       "1. Cada vuelta de la hélice contiene 3.6 residu... qir       2019                               NaN   \n",
       "1. Conduce a la síntesis mitocondrial de glucos... qir       2019                               NaN   \n",
       "1. Confiere a la membrana plasmática alta pe rm... bir       2014       5. Su composición lípidica.   \n",
       "1. Cósmido.                                        qir       2019                               NaN   \n",
       "1. Dideoxinucleótidos.                             qir       2019                               NaN   \n",
       "\n",
       "option_num                                                               7   \\\n",
       "question                                           exam_type year_name        \n",
       "1. Cada vuelta de la hélice contiene 3.6 residu... qir       2019       NaN   \n",
       "1. Conduce a la síntesis mitocondrial de glucos... qir       2019       NaN   \n",
       "1. Confiere a la membrana plasmática alta pe rm... bir       2014       NaN   \n",
       "1. Cósmido.                                        qir       2019       NaN   \n",
       "1. Dideoxinucleótidos.                             qir       2019       NaN   \n",
       "\n",
       "option_num                                                               8   \\\n",
       "question                                           exam_type year_name        \n",
       "1. Cada vuelta de la hélice contiene 3.6 residu... qir       2019       NaN   \n",
       "1. Conduce a la síntesis mitocondrial de glucos... qir       2019       NaN   \n",
       "1. Confiere a la membrana plasmática alta pe rm... bir       2014       NaN   \n",
       "1. Cósmido.                                        qir       2019       NaN   \n",
       "1. Dideoxinucleótidos.                             qir       2019       NaN   \n",
       "\n",
       "option_num                                                               9   \\\n",
       "question                                           exam_type year_name        \n",
       "1. Cada vuelta de la hélice contiene 3.6 residu... qir       2019       NaN   \n",
       "1. Conduce a la síntesis mitocondrial de glucos... qir       2019       NaN   \n",
       "1. Confiere a la membrana plasmática alta pe rm... bir       2014       NaN   \n",
       "1. Cósmido.                                        qir       2019       NaN   \n",
       "1. Dideoxinucleótidos.                             qir       2019       NaN   \n",
       "\n",
       "option_num                                                               10  \n",
       "question                                           exam_type year_name       \n",
       "1. Cada vuelta de la hélice contiene 3.6 residu... qir       2019       NaN  \n",
       "1. Conduce a la síntesis mitocondrial de glucos... qir       2019       NaN  \n",
       "1. Confiere a la membrana plasmática alta pe rm... bir       2014       NaN  \n",
       "1. Cósmido.                                        qir       2019       NaN  \n",
       "1. Dideoxinucleótidos.                             qir       2019       NaN  "
      ]
     },
     "execution_count": 69,
     "metadata": {},
     "output_type": "execute_result"
    }
   ],
   "source": [
    "exam_df_pv = exams_df.pivot_table(\n",
    "    index= [\"question\", \"exam_type\", \"year_name\"],\n",
    "    columns= \"option_num\",\n",
    "    values=\"option_text\",\n",
    "    aggfunc= \"first\"\n",
    ")\n",
    "exam_df_pv.head()"
   ]
  },
  {
   "cell_type": "code",
   "execution_count": 39,
   "metadata": {},
   "outputs": [
    {
     "name": "stdout",
     "output_type": "stream",
     "text": [
      "24286\n"
     ]
    },
    {
     "data": {
      "application/vnd.microsoft.datawrangler.viewer.v0+json": {
       "columns": [
        {
         "name": "index",
         "rawType": "int64",
         "type": "integer"
        },
        {
         "name": "question",
         "rawType": "object",
         "type": "string"
        },
        {
         "name": "exam_type",
         "rawType": "object",
         "type": "string"
        },
        {
         "name": "year_name",
         "rawType": "object",
         "type": "string"
        },
        {
         "name": "option_text",
         "rawType": "object",
         "type": "string"
        },
        {
         "name": "is_correct",
         "rawType": "bool",
         "type": "boolean"
        },
        {
         "name": "correct_int",
         "rawType": "object",
         "type": "unknown"
        }
       ],
       "conversionMethod": "pd.DataFrame",
       "ref": "ec519ff0-d67f-4d89-ad48-9d1035643a81",
       "rows": [
        [
         "0",
         "1. La barrera hematoencefálica:",
         "bir",
         "2024",
         "1. Es permeable a todas las sustancias presentes en el plasma.",
         "False",
         null
        ],
        [
         "1",
         "1. La barrera hematoencefálica:",
         "bir",
         "2024",
         "2. Es permeable al O2 y al CO2.",
         "True",
         "2"
        ],
        [
         "2",
         "1. La barrera hematoencefálica:",
         "bir",
         "2024",
         "3. Es impermeable al etanol.",
         "False",
         null
        ],
        [
         "3",
         "1. La barrera hematoencefálica:",
         "bir",
         "2024",
         "4. Es impermeable al agua.",
         "False",
         null
        ],
        [
         "4",
         "2. El espacio subaracnoideo se encuentra:",
         "bir",
         "2024",
         "1. Entre la aracnoides y la duramadre.",
         "False",
         null
        ]
       ],
       "shape": {
        "columns": 6,
        "rows": 5
       }
      },
      "text/html": [
       "<div>\n",
       "<style scoped>\n",
       "    .dataframe tbody tr th:only-of-type {\n",
       "        vertical-align: middle;\n",
       "    }\n",
       "\n",
       "    .dataframe tbody tr th {\n",
       "        vertical-align: top;\n",
       "    }\n",
       "\n",
       "    .dataframe thead th {\n",
       "        text-align: right;\n",
       "    }\n",
       "</style>\n",
       "<table border=\"1\" class=\"dataframe\">\n",
       "  <thead>\n",
       "    <tr style=\"text-align: right;\">\n",
       "      <th></th>\n",
       "      <th>question</th>\n",
       "      <th>exam_type</th>\n",
       "      <th>year_name</th>\n",
       "      <th>option_text</th>\n",
       "      <th>is_correct</th>\n",
       "      <th>correct_int</th>\n",
       "    </tr>\n",
       "  </thead>\n",
       "  <tbody>\n",
       "    <tr>\n",
       "      <th>0</th>\n",
       "      <td>1. La barrera hematoencefálica:</td>\n",
       "      <td>bir</td>\n",
       "      <td>2024</td>\n",
       "      <td>1. Es permeable a todas las sustancias present...</td>\n",
       "      <td>False</td>\n",
       "      <td>NaN</td>\n",
       "    </tr>\n",
       "    <tr>\n",
       "      <th>1</th>\n",
       "      <td>1. La barrera hematoencefálica:</td>\n",
       "      <td>bir</td>\n",
       "      <td>2024</td>\n",
       "      <td>2. Es permeable al O2 y al CO2.</td>\n",
       "      <td>True</td>\n",
       "      <td>2</td>\n",
       "    </tr>\n",
       "    <tr>\n",
       "      <th>2</th>\n",
       "      <td>1. La barrera hematoencefálica:</td>\n",
       "      <td>bir</td>\n",
       "      <td>2024</td>\n",
       "      <td>3. Es impermeable al etanol.</td>\n",
       "      <td>False</td>\n",
       "      <td>NaN</td>\n",
       "    </tr>\n",
       "    <tr>\n",
       "      <th>3</th>\n",
       "      <td>1. La barrera hematoencefálica:</td>\n",
       "      <td>bir</td>\n",
       "      <td>2024</td>\n",
       "      <td>4. Es impermeable al agua.</td>\n",
       "      <td>False</td>\n",
       "      <td>NaN</td>\n",
       "    </tr>\n",
       "    <tr>\n",
       "      <th>4</th>\n",
       "      <td>2. El espacio subaracnoideo se encuentra:</td>\n",
       "      <td>bir</td>\n",
       "      <td>2024</td>\n",
       "      <td>1. Entre la aracnoides y la duramadre.</td>\n",
       "      <td>False</td>\n",
       "      <td>NaN</td>\n",
       "    </tr>\n",
       "  </tbody>\n",
       "</table>\n",
       "</div>"
      ],
      "text/plain": [
       "                                    question exam_type year_name  \\\n",
       "0            1. La barrera hematoencefálica:       bir      2024   \n",
       "1            1. La barrera hematoencefálica:       bir      2024   \n",
       "2            1. La barrera hematoencefálica:       bir      2024   \n",
       "3            1. La barrera hematoencefálica:       bir      2024   \n",
       "4  2. El espacio subaracnoideo se encuentra:       bir      2024   \n",
       "\n",
       "                                         option_text  is_correct correct_int  \n",
       "0  1. Es permeable a todas las sustancias present...       False         NaN  \n",
       "1                    2. Es permeable al O2 y al CO2.        True           2  \n",
       "2                       3. Es impermeable al etanol.       False         NaN  \n",
       "3                         4. Es impermeable al agua.       False         NaN  \n",
       "4             1. Entre la aracnoides y la duramadre.       False         NaN  "
      ]
     },
     "execution_count": 39,
     "metadata": {},
     "output_type": "execute_result"
    }
   ],
   "source": [
    "print(len(exams_df))\n",
    "\n",
    "exams_df[\"correct_int\"] = np.where(\n",
    "    exams_df[\"is_correct\"], \n",
    "    exams_df[\"option_text\"].apply(lambda x: x.split(\".\", 1)[0]),\n",
    "    np.nan)\n",
    "\n",
    "exams_df.head()"
   ]
  },
  {
   "cell_type": "code",
   "execution_count": null,
   "metadata": {},
   "outputs": [
    {
     "data": {
      "application/vnd.microsoft.datawrangler.viewer.v0+json": {
       "columns": [
        {
         "name": "index",
         "rawType": "int64",
         "type": "integer"
        },
        {
         "name": "question",
         "rawType": "object",
         "type": "string"
        },
        {
         "name": "exam_type",
         "rawType": "object",
         "type": "string"
        },
        {
         "name": "year_name",
         "rawType": "object",
         "type": "string"
        },
        {
         "name": "option_text",
         "rawType": "object",
         "type": "string"
        },
        {
         "name": "option_id",
         "rawType": "object",
         "type": "string"
        },
        {
         "name": "num_q",
         "rawType": "object",
         "type": "string"
        }
       ],
       "conversionMethod": "pd.DataFrame",
       "ref": "4b3d1cb5-f8cf-4514-9464-c6131b5225a7",
       "rows": [
        [
         "0",
         "1. La barrera hematoencefálica:",
         "bir",
         "2024",
         "1. Es permeable a todas las sustancias presentes en el plasma.",
         "1",
         "1"
        ],
        [
         "1",
         "1. La barrera hematoencefálica:",
         "bir",
         "2024",
         "2. Es permeable al O2 y al CO2.",
         "2",
         "1"
        ],
        [
         "2",
         "1. La barrera hematoencefálica:",
         "bir",
         "2024",
         "3. Es impermeable al etanol.",
         "3",
         "1"
        ],
        [
         "3",
         "1. La barrera hematoencefálica:",
         "bir",
         "2024",
         "4. Es impermeable al agua.",
         "4",
         "1"
        ],
        [
         "4",
         "2. El espacio subaracnoideo se encuentra:",
         "bir",
         "2024",
         "1. Entre la aracnoides y la duramadre.",
         "1",
         "2"
        ]
       ],
       "shape": {
        "columns": 6,
        "rows": 5
       }
      },
      "text/html": [
       "<div>\n",
       "<style scoped>\n",
       "    .dataframe tbody tr th:only-of-type {\n",
       "        vertical-align: middle;\n",
       "    }\n",
       "\n",
       "    .dataframe tbody tr th {\n",
       "        vertical-align: top;\n",
       "    }\n",
       "\n",
       "    .dataframe thead th {\n",
       "        text-align: right;\n",
       "    }\n",
       "</style>\n",
       "<table border=\"1\" class=\"dataframe\">\n",
       "  <thead>\n",
       "    <tr style=\"text-align: right;\">\n",
       "      <th></th>\n",
       "      <th>question</th>\n",
       "      <th>exam_type</th>\n",
       "      <th>year_name</th>\n",
       "      <th>option_text</th>\n",
       "      <th>option_id</th>\n",
       "      <th>num_q</th>\n",
       "    </tr>\n",
       "  </thead>\n",
       "  <tbody>\n",
       "    <tr>\n",
       "      <th>0</th>\n",
       "      <td>1. La barrera hematoencefálica:</td>\n",
       "      <td>bir</td>\n",
       "      <td>2024</td>\n",
       "      <td>1. Es permeable a todas las sustancias present...</td>\n",
       "      <td>1</td>\n",
       "      <td>1</td>\n",
       "    </tr>\n",
       "    <tr>\n",
       "      <th>1</th>\n",
       "      <td>1. La barrera hematoencefálica:</td>\n",
       "      <td>bir</td>\n",
       "      <td>2024</td>\n",
       "      <td>2. Es permeable al O2 y al CO2.</td>\n",
       "      <td>2</td>\n",
       "      <td>1</td>\n",
       "    </tr>\n",
       "    <tr>\n",
       "      <th>2</th>\n",
       "      <td>1. La barrera hematoencefálica:</td>\n",
       "      <td>bir</td>\n",
       "      <td>2024</td>\n",
       "      <td>3. Es impermeable al etanol.</td>\n",
       "      <td>3</td>\n",
       "      <td>1</td>\n",
       "    </tr>\n",
       "    <tr>\n",
       "      <th>3</th>\n",
       "      <td>1. La barrera hematoencefálica:</td>\n",
       "      <td>bir</td>\n",
       "      <td>2024</td>\n",
       "      <td>4. Es impermeable al agua.</td>\n",
       "      <td>4</td>\n",
       "      <td>1</td>\n",
       "    </tr>\n",
       "    <tr>\n",
       "      <th>4</th>\n",
       "      <td>2. El espacio subaracnoideo se encuentra:</td>\n",
       "      <td>bir</td>\n",
       "      <td>2024</td>\n",
       "      <td>1. Entre la aracnoides y la duramadre.</td>\n",
       "      <td>1</td>\n",
       "      <td>2</td>\n",
       "    </tr>\n",
       "  </tbody>\n",
       "</table>\n",
       "</div>"
      ],
      "text/plain": [
       "                                    question exam_type year_name  \\\n",
       "0            1. La barrera hematoencefálica:       bir      2024   \n",
       "1            1. La barrera hematoencefálica:       bir      2024   \n",
       "2            1. La barrera hematoencefálica:       bir      2024   \n",
       "3            1. La barrera hematoencefálica:       bir      2024   \n",
       "4  2. El espacio subaracnoideo se encuentra:       bir      2024   \n",
       "\n",
       "                                         option_text option_id num_q  \n",
       "0  1. Es permeable a todas las sustancias present...         1     1  \n",
       "1                    2. Es permeable al O2 y al CO2.         2     1  \n",
       "2                       3. Es impermeable al etanol.         3     1  \n",
       "3                         4. Es impermeable al agua.         4     1  \n",
       "4             1. Entre la aracnoides y la duramadre.         1     2  "
      ]
     },
     "execution_count": 49,
     "metadata": {},
     "output_type": "execute_result"
    }
   ],
   "source": [
    "exams_questions = exams_df.iloc[:, 0:4]\n",
    "exams_questions[\"option_id\"] = exams_questions[\"option_text\"].apply(lambda x: x.split(\".\", 1)[0])\n",
    "exams_questions[\"num_q\"] = exams_questions[\"question\"].apply(lambda x: x.split(\".\", 1)[0])\n",
    "exams_questions.head()"
   ]
  },
  {
   "cell_type": "code",
   "execution_count": 48,
   "metadata": {},
   "outputs": [
    {
     "ename": "ValueError",
     "evalue": "Index contains duplicate entries, cannot reshape",
     "output_type": "error",
     "traceback": [
      "\u001b[1;31m---------------------------------------------------------------------------\u001b[0m",
      "\u001b[1;31mValueError\u001b[0m                                Traceback (most recent call last)",
      "Cell \u001b[1;32mIn[48], line 1\u001b[0m\n\u001b[1;32m----> 1\u001b[0m exams_questions_piv \u001b[38;5;241m=\u001b[39m exams_questions\u001b[38;5;241m.\u001b[39mpivot(\n\u001b[0;32m      2\u001b[0m     index\u001b[38;5;241m=\u001b[39m [\u001b[38;5;124m\"\u001b[39m\u001b[38;5;124mquestion\u001b[39m\u001b[38;5;124m\"\u001b[39m, \u001b[38;5;124m\"\u001b[39m\u001b[38;5;124mexam_type\u001b[39m\u001b[38;5;124m\"\u001b[39m, \u001b[38;5;124m\"\u001b[39m\u001b[38;5;124myear_name\u001b[39m\u001b[38;5;124m\"\u001b[39m],\n\u001b[0;32m      3\u001b[0m     columns\u001b[38;5;241m=\u001b[39m \u001b[38;5;124m\"\u001b[39m\u001b[38;5;124moption_id\u001b[39m\u001b[38;5;124m\"\u001b[39m,\n\u001b[0;32m      4\u001b[0m     values\u001b[38;5;241m=\u001b[39m \u001b[38;5;124m\"\u001b[39m\u001b[38;5;124moption_text\u001b[39m\u001b[38;5;124m\"\u001b[39m\n\u001b[0;32m      5\u001b[0m )\n\u001b[0;32m      6\u001b[0m exams_questions_piv\u001b[38;5;241m.\u001b[39mhead()\n",
      "File \u001b[1;32mc:\\Users\\alber\\Anaconda3\\envs\\bir_etl\\Lib\\site-packages\\pandas\\core\\frame.py:9339\u001b[0m, in \u001b[0;36mDataFrame.pivot\u001b[1;34m(self, columns, index, values)\u001b[0m\n\u001b[0;32m   9332\u001b[0m \u001b[38;5;129m@Substitution\u001b[39m(\u001b[38;5;124m\"\u001b[39m\u001b[38;5;124m\"\u001b[39m)\n\u001b[0;32m   9333\u001b[0m \u001b[38;5;129m@Appender\u001b[39m(_shared_docs[\u001b[38;5;124m\"\u001b[39m\u001b[38;5;124mpivot\u001b[39m\u001b[38;5;124m\"\u001b[39m])\n\u001b[0;32m   9334\u001b[0m \u001b[38;5;28;01mdef\u001b[39;00m \u001b[38;5;21mpivot\u001b[39m(\n\u001b[0;32m   9335\u001b[0m     \u001b[38;5;28mself\u001b[39m, \u001b[38;5;241m*\u001b[39m, columns, index\u001b[38;5;241m=\u001b[39mlib\u001b[38;5;241m.\u001b[39mno_default, values\u001b[38;5;241m=\u001b[39mlib\u001b[38;5;241m.\u001b[39mno_default\n\u001b[0;32m   9336\u001b[0m ) \u001b[38;5;241m-\u001b[39m\u001b[38;5;241m>\u001b[39m DataFrame:\n\u001b[0;32m   9337\u001b[0m     \u001b[38;5;28;01mfrom\u001b[39;00m \u001b[38;5;21;01mpandas\u001b[39;00m\u001b[38;5;21;01m.\u001b[39;00m\u001b[38;5;21;01mcore\u001b[39;00m\u001b[38;5;21;01m.\u001b[39;00m\u001b[38;5;21;01mreshape\u001b[39;00m\u001b[38;5;21;01m.\u001b[39;00m\u001b[38;5;21;01mpivot\u001b[39;00m \u001b[38;5;28;01mimport\u001b[39;00m pivot\n\u001b[1;32m-> 9339\u001b[0m     \u001b[38;5;28;01mreturn\u001b[39;00m pivot(\u001b[38;5;28mself\u001b[39m, index\u001b[38;5;241m=\u001b[39mindex, columns\u001b[38;5;241m=\u001b[39mcolumns, values\u001b[38;5;241m=\u001b[39mvalues)\n",
      "File \u001b[1;32mc:\\Users\\alber\\Anaconda3\\envs\\bir_etl\\Lib\\site-packages\\pandas\\core\\reshape\\pivot.py:570\u001b[0m, in \u001b[0;36mpivot\u001b[1;34m(data, columns, index, values)\u001b[0m\n\u001b[0;32m    566\u001b[0m         indexed \u001b[38;5;241m=\u001b[39m data\u001b[38;5;241m.\u001b[39m_constructor_sliced(data[values]\u001b[38;5;241m.\u001b[39m_values, index\u001b[38;5;241m=\u001b[39mmultiindex)\n\u001b[0;32m    567\u001b[0m \u001b[38;5;66;03m# error: Argument 1 to \"unstack\" of \"DataFrame\" has incompatible type \"Union\u001b[39;00m\n\u001b[0;32m    568\u001b[0m \u001b[38;5;66;03m# [List[Any], ExtensionArray, ndarray[Any, Any], Index, Series]\"; expected\u001b[39;00m\n\u001b[0;32m    569\u001b[0m \u001b[38;5;66;03m# \"Hashable\"\u001b[39;00m\n\u001b[1;32m--> 570\u001b[0m result \u001b[38;5;241m=\u001b[39m indexed\u001b[38;5;241m.\u001b[39munstack(columns_listlike)  \u001b[38;5;66;03m# type: ignore[arg-type]\u001b[39;00m\n\u001b[0;32m    571\u001b[0m result\u001b[38;5;241m.\u001b[39mindex\u001b[38;5;241m.\u001b[39mnames \u001b[38;5;241m=\u001b[39m [\n\u001b[0;32m    572\u001b[0m     name \u001b[38;5;28;01mif\u001b[39;00m name \u001b[38;5;129;01mis\u001b[39;00m \u001b[38;5;129;01mnot\u001b[39;00m lib\u001b[38;5;241m.\u001b[39mno_default \u001b[38;5;28;01melse\u001b[39;00m \u001b[38;5;28;01mNone\u001b[39;00m \u001b[38;5;28;01mfor\u001b[39;00m name \u001b[38;5;129;01min\u001b[39;00m result\u001b[38;5;241m.\u001b[39mindex\u001b[38;5;241m.\u001b[39mnames\n\u001b[0;32m    573\u001b[0m ]\n\u001b[0;32m    575\u001b[0m \u001b[38;5;28;01mreturn\u001b[39;00m result\n",
      "File \u001b[1;32mc:\\Users\\alber\\Anaconda3\\envs\\bir_etl\\Lib\\site-packages\\pandas\\core\\series.py:4615\u001b[0m, in \u001b[0;36mSeries.unstack\u001b[1;34m(self, level, fill_value, sort)\u001b[0m\n\u001b[0;32m   4570\u001b[0m \u001b[38;5;250m\u001b[39m\u001b[38;5;124;03m\"\"\"\u001b[39;00m\n\u001b[0;32m   4571\u001b[0m \u001b[38;5;124;03mUnstack, also known as pivot, Series with MultiIndex to produce DataFrame.\u001b[39;00m\n\u001b[0;32m   4572\u001b[0m \n\u001b[1;32m   (...)\u001b[0m\n\u001b[0;32m   4611\u001b[0m \u001b[38;5;124;03mb    2    4\u001b[39;00m\n\u001b[0;32m   4612\u001b[0m \u001b[38;5;124;03m\"\"\"\u001b[39;00m\n\u001b[0;32m   4613\u001b[0m \u001b[38;5;28;01mfrom\u001b[39;00m \u001b[38;5;21;01mpandas\u001b[39;00m\u001b[38;5;21;01m.\u001b[39;00m\u001b[38;5;21;01mcore\u001b[39;00m\u001b[38;5;21;01m.\u001b[39;00m\u001b[38;5;21;01mreshape\u001b[39;00m\u001b[38;5;21;01m.\u001b[39;00m\u001b[38;5;21;01mreshape\u001b[39;00m \u001b[38;5;28;01mimport\u001b[39;00m unstack\n\u001b[1;32m-> 4615\u001b[0m \u001b[38;5;28;01mreturn\u001b[39;00m unstack(\u001b[38;5;28mself\u001b[39m, level, fill_value, sort)\n",
      "File \u001b[1;32mc:\\Users\\alber\\Anaconda3\\envs\\bir_etl\\Lib\\site-packages\\pandas\\core\\reshape\\reshape.py:517\u001b[0m, in \u001b[0;36munstack\u001b[1;34m(obj, level, fill_value, sort)\u001b[0m\n\u001b[0;32m    515\u001b[0m \u001b[38;5;28;01mif\u001b[39;00m is_1d_only_ea_dtype(obj\u001b[38;5;241m.\u001b[39mdtype):\n\u001b[0;32m    516\u001b[0m     \u001b[38;5;28;01mreturn\u001b[39;00m _unstack_extension_series(obj, level, fill_value, sort\u001b[38;5;241m=\u001b[39msort)\n\u001b[1;32m--> 517\u001b[0m unstacker \u001b[38;5;241m=\u001b[39m _Unstacker(\n\u001b[0;32m    518\u001b[0m     obj\u001b[38;5;241m.\u001b[39mindex, level\u001b[38;5;241m=\u001b[39mlevel, constructor\u001b[38;5;241m=\u001b[39mobj\u001b[38;5;241m.\u001b[39m_constructor_expanddim, sort\u001b[38;5;241m=\u001b[39msort\n\u001b[0;32m    519\u001b[0m )\n\u001b[0;32m    520\u001b[0m \u001b[38;5;28;01mreturn\u001b[39;00m unstacker\u001b[38;5;241m.\u001b[39mget_result(\n\u001b[0;32m    521\u001b[0m     obj\u001b[38;5;241m.\u001b[39m_values, value_columns\u001b[38;5;241m=\u001b[39m\u001b[38;5;28;01mNone\u001b[39;00m, fill_value\u001b[38;5;241m=\u001b[39mfill_value\n\u001b[0;32m    522\u001b[0m )\n",
      "File \u001b[1;32mc:\\Users\\alber\\Anaconda3\\envs\\bir_etl\\Lib\\site-packages\\pandas\\core\\reshape\\reshape.py:154\u001b[0m, in \u001b[0;36m_Unstacker.__init__\u001b[1;34m(self, index, level, constructor, sort)\u001b[0m\n\u001b[0;32m    146\u001b[0m \u001b[38;5;28;01mif\u001b[39;00m num_cells \u001b[38;5;241m>\u001b[39m np\u001b[38;5;241m.\u001b[39miinfo(np\u001b[38;5;241m.\u001b[39mint32)\u001b[38;5;241m.\u001b[39mmax:\n\u001b[0;32m    147\u001b[0m     warnings\u001b[38;5;241m.\u001b[39mwarn(\n\u001b[0;32m    148\u001b[0m         \u001b[38;5;124mf\u001b[39m\u001b[38;5;124m\"\u001b[39m\u001b[38;5;124mThe following operation may generate \u001b[39m\u001b[38;5;132;01m{\u001b[39;00mnum_cells\u001b[38;5;132;01m}\u001b[39;00m\u001b[38;5;124m cells \u001b[39m\u001b[38;5;124m\"\u001b[39m\n\u001b[0;32m    149\u001b[0m         \u001b[38;5;124mf\u001b[39m\u001b[38;5;124m\"\u001b[39m\u001b[38;5;124min the resulting pandas object.\u001b[39m\u001b[38;5;124m\"\u001b[39m,\n\u001b[0;32m    150\u001b[0m         PerformanceWarning,\n\u001b[0;32m    151\u001b[0m         stacklevel\u001b[38;5;241m=\u001b[39mfind_stack_level(),\n\u001b[0;32m    152\u001b[0m     )\n\u001b[1;32m--> 154\u001b[0m \u001b[38;5;28mself\u001b[39m\u001b[38;5;241m.\u001b[39m_make_selectors()\n",
      "File \u001b[1;32mc:\\Users\\alber\\Anaconda3\\envs\\bir_etl\\Lib\\site-packages\\pandas\\core\\reshape\\reshape.py:210\u001b[0m, in \u001b[0;36m_Unstacker._make_selectors\u001b[1;34m(self)\u001b[0m\n\u001b[0;32m    207\u001b[0m mask\u001b[38;5;241m.\u001b[39mput(selector, \u001b[38;5;28;01mTrue\u001b[39;00m)\n\u001b[0;32m    209\u001b[0m \u001b[38;5;28;01mif\u001b[39;00m mask\u001b[38;5;241m.\u001b[39msum() \u001b[38;5;241m<\u001b[39m \u001b[38;5;28mlen\u001b[39m(\u001b[38;5;28mself\u001b[39m\u001b[38;5;241m.\u001b[39mindex):\n\u001b[1;32m--> 210\u001b[0m     \u001b[38;5;28;01mraise\u001b[39;00m \u001b[38;5;167;01mValueError\u001b[39;00m(\u001b[38;5;124m\"\u001b[39m\u001b[38;5;124mIndex contains duplicate entries, cannot reshape\u001b[39m\u001b[38;5;124m\"\u001b[39m)\n\u001b[0;32m    212\u001b[0m \u001b[38;5;28mself\u001b[39m\u001b[38;5;241m.\u001b[39mgroup_index \u001b[38;5;241m=\u001b[39m comp_index\n\u001b[0;32m    213\u001b[0m \u001b[38;5;28mself\u001b[39m\u001b[38;5;241m.\u001b[39mmask \u001b[38;5;241m=\u001b[39m mask\n",
      "\u001b[1;31mValueError\u001b[0m: Index contains duplicate entries, cannot reshape"
     ]
    }
   ],
   "source": [
    "exams_questions_piv = exams_questions.pivot(\n",
    "    index= [\"question\", \"exam_type\", \"year_name\"],\n",
    "    columns= \"option_id\",\n",
    "    values= \"option_text\"\n",
    ")\n",
    "exams_questions_piv.head()"
   ]
  },
  {
   "cell_type": "code",
   "execution_count": 44,
   "metadata": {},
   "outputs": [
    {
     "data": {
      "application/vnd.microsoft.datawrangler.viewer.v0+json": {
       "columns": [
        {
         "name": "index",
         "rawType": "int64",
         "type": "integer"
        },
        {
         "name": "year_name",
         "rawType": "object",
         "type": "string"
        },
        {
         "name": "correct_int",
         "rawType": "object",
         "type": "unknown"
        }
       ],
       "conversionMethod": "pd.DataFrame",
       "ref": "7b08d193-b204-4333-be2f-59870cbdac22",
       "rows": [
        [
         "0",
         "2024",
         null
        ],
        [
         "1",
         "2024",
         "2"
        ],
        [
         "2",
         "2024",
         null
        ],
        [
         "3",
         "2024",
         null
        ],
        [
         "4",
         "2024",
         null
        ]
       ],
       "shape": {
        "columns": 2,
        "rows": 5
       }
      },
      "text/html": [
       "<div>\n",
       "<style scoped>\n",
       "    .dataframe tbody tr th:only-of-type {\n",
       "        vertical-align: middle;\n",
       "    }\n",
       "\n",
       "    .dataframe tbody tr th {\n",
       "        vertical-align: top;\n",
       "    }\n",
       "\n",
       "    .dataframe thead th {\n",
       "        text-align: right;\n",
       "    }\n",
       "</style>\n",
       "<table border=\"1\" class=\"dataframe\">\n",
       "  <thead>\n",
       "    <tr style=\"text-align: right;\">\n",
       "      <th></th>\n",
       "      <th>year_name</th>\n",
       "      <th>correct_int</th>\n",
       "    </tr>\n",
       "  </thead>\n",
       "  <tbody>\n",
       "    <tr>\n",
       "      <th>0</th>\n",
       "      <td>2024</td>\n",
       "      <td>NaN</td>\n",
       "    </tr>\n",
       "    <tr>\n",
       "      <th>1</th>\n",
       "      <td>2024</td>\n",
       "      <td>2</td>\n",
       "    </tr>\n",
       "    <tr>\n",
       "      <th>2</th>\n",
       "      <td>2024</td>\n",
       "      <td>NaN</td>\n",
       "    </tr>\n",
       "    <tr>\n",
       "      <th>3</th>\n",
       "      <td>2024</td>\n",
       "      <td>NaN</td>\n",
       "    </tr>\n",
       "    <tr>\n",
       "      <th>4</th>\n",
       "      <td>2024</td>\n",
       "      <td>NaN</td>\n",
       "    </tr>\n",
       "  </tbody>\n",
       "</table>\n",
       "</div>"
      ],
      "text/plain": [
       "  year_name correct_int\n",
       "0      2024         NaN\n",
       "1      2024           2\n",
       "2      2024         NaN\n",
       "3      2024         NaN\n",
       "4      2024         NaN"
      ]
     },
     "execution_count": 44,
     "metadata": {},
     "output_type": "execute_result"
    }
   ],
   "source": [
    "exams_options = exams_df[[\"year_name\", \"correct_int\"]]\n",
    "exams_options.head()"
   ]
  }
 ],
 "metadata": {
  "kernelspec": {
   "display_name": "bir_etl",
   "language": "python",
   "name": "python3"
  },
  "language_info": {
   "codemirror_mode": {
    "name": "ipython",
    "version": 3
   },
   "file_extension": ".py",
   "mimetype": "text/x-python",
   "name": "python",
   "nbconvert_exporter": "python",
   "pygments_lexer": "ipython3",
   "version": "3.12.7"
  }
 },
 "nbformat": 4,
 "nbformat_minor": 2
}
