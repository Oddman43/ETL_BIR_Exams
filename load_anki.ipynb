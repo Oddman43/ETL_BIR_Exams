{
 "cells": [
  {
   "cell_type": "code",
   "execution_count": 6,
   "metadata": {},
   "outputs": [],
   "source": [
    "import pandas as pd\n",
    "import sqlite3\n",
    "import json\n",
    "import urllib.request"
   ]
  },
  {
   "cell_type": "code",
   "execution_count": 7,
   "metadata": {},
   "outputs": [],
   "source": [
    "# Copied from anki connect site\n",
    "def request(action: str, **params) -> dict:\n",
    "    return {\"action\": action, \"params\": params, \"version\": 6}\n",
    "\n",
    "\n",
    "# Copied from anki connect site\n",
    "def invoke(action: str, **params):\n",
    "    requestJson = json.dumps(request(action, **params)).encode(\"utf-8\")\n",
    "    response = json.load(\n",
    "        urllib.request.urlopen(\n",
    "            urllib.request.Request(\"http://127.0.0.1:8765\", requestJson)\n",
    "        )\n",
    "    )\n",
    "    if len(response) != 2:\n",
    "        raise Exception(\"response has an unexpected number of fields\")\n",
    "    if \"error\" not in response:\n",
    "        raise Exception(\"response is missing required error field\")\n",
    "    if \"result\" not in response:\n",
    "        raise Exception(\"response is missing required result field\")\n",
    "    if response[\"error\"] is not None:\n",
    "        raise Exception(response[\"error\"])\n",
    "    return response[\"result\"]"
   ]
  },
  {
   "cell_type": "code",
   "execution_count": 4,
   "metadata": {},
   "outputs": [
    {
     "data": {
      "application/vnd.microsoft.datawrangler.viewer.v0+json": {
       "columns": [
        {
         "name": "index",
         "rawType": "int64",
         "type": "integer"
        },
        {
         "name": "question",
         "rawType": "object",
         "type": "string"
        },
        {
         "name": "exam_type",
         "rawType": "object",
         "type": "string"
        },
        {
         "name": "year_name",
         "rawType": "object",
         "type": "string"
        },
        {
         "name": "option_text",
         "rawType": "object",
         "type": "string"
        },
        {
         "name": "is_correct",
         "rawType": "int64",
         "type": "integer"
        }
       ],
       "conversionMethod": "pd.DataFrame",
       "ref": "e9acea0a-69f2-4c0f-8b34-86e16b0e6a81",
       "rows": [
        [
         "0",
         "1. La barrera hematoencefálica:",
         "bir",
         "2024",
         "1. Es permeable a todas las sustancias presentes en el plasma.",
         "0"
        ],
        [
         "1",
         "1. La barrera hematoencefálica:",
         "bir",
         "2024",
         "2. Es permeable al O2 y al CO2.",
         "1"
        ],
        [
         "2",
         "1. La barrera hematoencefálica:",
         "bir",
         "2024",
         "3. Es impermeable al etanol.",
         "0"
        ],
        [
         "3",
         "1. La barrera hematoencefálica:",
         "bir",
         "2024",
         "4. Es impermeable al agua.",
         "0"
        ],
        [
         "4",
         "2. El espacio subaracnoideo se encuentra:",
         "bir",
         "2024",
         "1. Entre la aracnoides y la duramadre.",
         "0"
        ]
       ],
       "shape": {
        "columns": 5,
        "rows": 5
       }
      },
      "text/html": [
       "<div>\n",
       "<style scoped>\n",
       "    .dataframe tbody tr th:only-of-type {\n",
       "        vertical-align: middle;\n",
       "    }\n",
       "\n",
       "    .dataframe tbody tr th {\n",
       "        vertical-align: top;\n",
       "    }\n",
       "\n",
       "    .dataframe thead th {\n",
       "        text-align: right;\n",
       "    }\n",
       "</style>\n",
       "<table border=\"1\" class=\"dataframe\">\n",
       "  <thead>\n",
       "    <tr style=\"text-align: right;\">\n",
       "      <th></th>\n",
       "      <th>question</th>\n",
       "      <th>exam_type</th>\n",
       "      <th>year_name</th>\n",
       "      <th>option_text</th>\n",
       "      <th>is_correct</th>\n",
       "    </tr>\n",
       "  </thead>\n",
       "  <tbody>\n",
       "    <tr>\n",
       "      <th>0</th>\n",
       "      <td>1. La barrera hematoencefálica:</td>\n",
       "      <td>bir</td>\n",
       "      <td>2024</td>\n",
       "      <td>1. Es permeable a todas las sustancias present...</td>\n",
       "      <td>0</td>\n",
       "    </tr>\n",
       "    <tr>\n",
       "      <th>1</th>\n",
       "      <td>1. La barrera hematoencefálica:</td>\n",
       "      <td>bir</td>\n",
       "      <td>2024</td>\n",
       "      <td>2. Es permeable al O2 y al CO2.</td>\n",
       "      <td>1</td>\n",
       "    </tr>\n",
       "    <tr>\n",
       "      <th>2</th>\n",
       "      <td>1. La barrera hematoencefálica:</td>\n",
       "      <td>bir</td>\n",
       "      <td>2024</td>\n",
       "      <td>3. Es impermeable al etanol.</td>\n",
       "      <td>0</td>\n",
       "    </tr>\n",
       "    <tr>\n",
       "      <th>3</th>\n",
       "      <td>1. La barrera hematoencefálica:</td>\n",
       "      <td>bir</td>\n",
       "      <td>2024</td>\n",
       "      <td>4. Es impermeable al agua.</td>\n",
       "      <td>0</td>\n",
       "    </tr>\n",
       "    <tr>\n",
       "      <th>4</th>\n",
       "      <td>2. El espacio subaracnoideo se encuentra:</td>\n",
       "      <td>bir</td>\n",
       "      <td>2024</td>\n",
       "      <td>1. Entre la aracnoides y la duramadre.</td>\n",
       "      <td>0</td>\n",
       "    </tr>\n",
       "  </tbody>\n",
       "</table>\n",
       "</div>"
      ],
      "text/plain": [
       "                                    question exam_type year_name  \\\n",
       "0            1. La barrera hematoencefálica:       bir      2024   \n",
       "1            1. La barrera hematoencefálica:       bir      2024   \n",
       "2            1. La barrera hematoencefálica:       bir      2024   \n",
       "3            1. La barrera hematoencefálica:       bir      2024   \n",
       "4  2. El espacio subaracnoideo se encuentra:       bir      2024   \n",
       "\n",
       "                                         option_text  is_correct  \n",
       "0  1. Es permeable a todas las sustancias present...           0  \n",
       "1                    2. Es permeable al O2 y al CO2.           1  \n",
       "2                       3. Es impermeable al etanol.           0  \n",
       "3                         4. Es impermeable al agua.           0  \n",
       "4             1. Entre la aracnoides y la duramadre.           0  "
      ]
     },
     "execution_count": 4,
     "metadata": {},
     "output_type": "execute_result"
    }
   ],
   "source": [
    "db_path: str = \"data/clean/bir_warehouse.db\"\n",
    "\n",
    "year_num_options: list = [[4, 2015], [5, 2014]]\n",
    "\n",
    "query_question_text: str = \"\"\"\n",
    "SELECT qn.question, ex.exam_type, yr.year_name, qo.option_text, qo.is_correct\n",
    "FROM questions_options AS qo\n",
    "JOIN questions AS qn ON qo.question_id = qn.id\n",
    "JOIN year AS yr ON qn.exam_year = yr.id_year\n",
    "JOIN exam AS ex ON qn.exam_subject = ex.id_type;\n",
    "\"\"\"\n",
    "\n",
    "conn = sqlite3.connect(db_path)\n",
    "\n",
    "exams_df = pd.read_sql(query_question_text, conn)\n",
    "\n",
    "conn.close()\n",
    "exams_df.head()"
   ]
  },
  {
   "cell_type": "code",
   "execution_count": 5,
   "metadata": {},
   "outputs": [
    {
     "name": "stdout",
     "output_type": "stream",
     "text": [
      "24286\n"
     ]
    }
   ],
   "source": [
    "print(len(exams_df))"
   ]
  }
 ],
 "metadata": {
  "kernelspec": {
   "display_name": "bir_etl",
   "language": "python",
   "name": "python3"
  },
  "language_info": {
   "codemirror_mode": {
    "name": "ipython",
    "version": 3
   },
   "file_extension": ".py",
   "mimetype": "text/x-python",
   "name": "python",
   "nbconvert_exporter": "python",
   "pygments_lexer": "ipython3",
   "version": "3.12.7"
  }
 },
 "nbformat": 4,
 "nbformat_minor": 2
}
