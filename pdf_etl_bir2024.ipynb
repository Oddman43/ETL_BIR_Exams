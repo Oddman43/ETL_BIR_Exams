{
 "cells": [
  {
   "cell_type": "markdown",
   "metadata": {
    "editable": true,
    "id": "56vKIohe8Jou",
    "slideshow": {
     "slide_type": ""
    },
    "tags": []
   },
   "source": [
    "# Data Loading\n",
    "Using the library pypdf extract the text from the pdf file"
   ]
  },
  {
   "cell_type": "markdown",
   "metadata": {
    "id": "8kRORmWM8Joy"
   },
   "source": [
    "## Importing libraries"
   ]
  },
  {
   "cell_type": "code",
   "execution_count": 1,
   "metadata": {
    "colab": {
     "base_uri": "https://localhost:8080/"
    },
    "id": "y8DpYYll8Joz",
    "outputId": "40cac5b3-1153-431b-f780-201aa62b5813"
   },
   "outputs": [],
   "source": [
    "# !pip install pypdf\n",
    "import pandas as pd\n",
    "import numpy as np\n",
    "from pypdf import PdfReader"
   ]
  },
  {
   "cell_type": "code",
   "execution_count": 20,
   "metadata": {},
   "outputs": [],
   "source": [
    "num_q = 210\n",
    "num_o = 4\n",
    "total_num_rows = num_q + (num_q*num_o)\n",
    "year = 2024"
   ]
  },
  {
   "cell_type": "markdown",
   "metadata": {
    "id": "Z1Kjq5ue8Jo1"
   },
   "source": [
    "## Extracting Questions from Pdf file"
   ]
  },
  {
   "cell_type": "code",
   "execution_count": null,
   "metadata": {
    "id": "AB4M4yfr8Jo3"
   },
   "outputs": [],
   "source": [
    "path: str = f\"data/Cuaderno_{year}_BIOLOGÍA_0_C.pdf\"\n",
    "reader = PdfReader(path)\n",
    "full_text = []\n",
    "for n in range(2, len(reader.pages)):\n",
    "    page = reader.pages[n]\n",
    "    text: str = page.extract_text()\n",
    "    full_text += text.split(\"\\n\")"
   ]
  },
  {
   "cell_type": "markdown",
   "metadata": {
    "id": "sj02oBi18Jo4"
   },
   "source": [
    "Create a Data Frame of the text"
   ]
  },
  {
   "cell_type": "code",
   "execution_count": 3,
   "metadata": {
    "colab": {
     "base_uri": "https://localhost:8080/",
     "height": 206
    },
    "id": "XCQUVcG08Jo5",
    "outputId": "ebef165a-03b6-4be2-c63f-f2ac6cadf760"
   },
   "outputs": [
    {
     "data": {
      "text/html": [
       "<div>\n",
       "<style scoped>\n",
       "    .dataframe tbody tr th:only-of-type {\n",
       "        vertical-align: middle;\n",
       "    }\n",
       "\n",
       "    .dataframe tbody tr th {\n",
       "        vertical-align: top;\n",
       "    }\n",
       "\n",
       "    .dataframe thead th {\n",
       "        text-align: right;\n",
       "    }\n",
       "</style>\n",
       "<table border=\"1\" class=\"dataframe\">\n",
       "  <thead>\n",
       "    <tr style=\"text-align: right;\">\n",
       "      <th></th>\n",
       "      <th>text</th>\n",
       "    </tr>\n",
       "  </thead>\n",
       "  <tbody>\n",
       "    <tr>\n",
       "      <th>0</th>\n",
       "      <td></td>\n",
       "    </tr>\n",
       "    <tr>\n",
       "      <th>1</th>\n",
       "      <td>Página: 1 de 19</td>\n",
       "    </tr>\n",
       "    <tr>\n",
       "      <th>2</th>\n",
       "      <td>1. La barrera hematoencefálica:</td>\n",
       "    </tr>\n",
       "    <tr>\n",
       "      <th>3</th>\n",
       "      <td></td>\n",
       "    </tr>\n",
       "    <tr>\n",
       "      <th>4</th>\n",
       "      <td>1. Es permeable a todas las sustancias pre-</td>\n",
       "    </tr>\n",
       "  </tbody>\n",
       "</table>\n",
       "</div>"
      ],
      "text/plain": [
       "                                          text\n",
       "0                                             \n",
       "1                             Página: 1 de 19 \n",
       "2             1. La barrera hematoencefálica: \n",
       "3                                             \n",
       "4  1. Es permeable a todas las sustancias pre-"
      ]
     },
     "execution_count": 3,
     "metadata": {},
     "output_type": "execute_result"
    }
   ],
   "source": [
    "exam_df = pd.DataFrame(full_text, columns=[\"text\"])\n",
    "exam_df.head()"
   ]
  },
  {
   "cell_type": "markdown",
   "metadata": {
    "id": "IBhc5aFQ8Jo6"
   },
   "source": [
    "## Extracting Answers from .tsv file"
   ]
  },
  {
   "cell_type": "code",
   "execution_count": null,
   "metadata": {
    "colab": {
     "base_uri": "https://localhost:8080/",
     "height": 206
    },
    "id": "O1ouB9mQ8Jo7",
    "outputId": "70b7615d-9c90-4f2d-b9e1-a5c86b507ef6"
   },
   "outputs": [
    {
     "data": {
      "text/html": [
       "<div>\n",
       "<style scoped>\n",
       "    .dataframe tbody tr th:only-of-type {\n",
       "        vertical-align: middle;\n",
       "    }\n",
       "\n",
       "    .dataframe tbody tr th {\n",
       "        vertical-align: top;\n",
       "    }\n",
       "\n",
       "    .dataframe thead th {\n",
       "        text-align: right;\n",
       "    }\n",
       "</style>\n",
       "<table border=\"1\" class=\"dataframe\">\n",
       "  <thead>\n",
       "    <tr style=\"text-align: right;\">\n",
       "      <th></th>\n",
       "      <th>V0</th>\n",
       "      <th>RC</th>\n",
       "      <th>V0.1</th>\n",
       "      <th>RC.1</th>\n",
       "      <th>V0.2</th>\n",
       "      <th>RC.2</th>\n",
       "      <th>V0.3</th>\n",
       "      <th>RC.3</th>\n",
       "      <th>V0.4</th>\n",
       "      <th>RC.4</th>\n",
       "    </tr>\n",
       "  </thead>\n",
       "  <tbody>\n",
       "    <tr>\n",
       "      <th>0</th>\n",
       "      <td>1</td>\n",
       "      <td>2</td>\n",
       "      <td>43</td>\n",
       "      <td>1</td>\n",
       "      <td>85</td>\n",
       "      <td>2</td>\n",
       "      <td>127</td>\n",
       "      <td>4</td>\n",
       "      <td>169</td>\n",
       "      <td>3.0</td>\n",
       "    </tr>\n",
       "    <tr>\n",
       "      <th>1</th>\n",
       "      <td>2</td>\n",
       "      <td>2</td>\n",
       "      <td>44</td>\n",
       "      <td>4</td>\n",
       "      <td>86</td>\n",
       "      <td>1</td>\n",
       "      <td>128</td>\n",
       "      <td>1</td>\n",
       "      <td>170</td>\n",
       "      <td>1.0</td>\n",
       "    </tr>\n",
       "    <tr>\n",
       "      <th>2</th>\n",
       "      <td>3</td>\n",
       "      <td>3</td>\n",
       "      <td>45</td>\n",
       "      <td>3</td>\n",
       "      <td>87</td>\n",
       "      <td>2</td>\n",
       "      <td>129</td>\n",
       "      <td>2</td>\n",
       "      <td>171</td>\n",
       "      <td>2.0</td>\n",
       "    </tr>\n",
       "    <tr>\n",
       "      <th>3</th>\n",
       "      <td>4</td>\n",
       "      <td>1</td>\n",
       "      <td>46</td>\n",
       "      <td>3</td>\n",
       "      <td>88</td>\n",
       "      <td>4</td>\n",
       "      <td>130</td>\n",
       "      <td>3</td>\n",
       "      <td>172</td>\n",
       "      <td>2.0</td>\n",
       "    </tr>\n",
       "    <tr>\n",
       "      <th>4</th>\n",
       "      <td>5</td>\n",
       "      <td>2</td>\n",
       "      <td>47</td>\n",
       "      <td>1</td>\n",
       "      <td>89</td>\n",
       "      <td>4</td>\n",
       "      <td>131</td>\n",
       "      <td>1</td>\n",
       "      <td>173</td>\n",
       "      <td>1.0</td>\n",
       "    </tr>\n",
       "  </tbody>\n",
       "</table>\n",
       "</div>"
      ],
      "text/plain": [
       "   V0  RC  V0.1  RC.1  V0.2  RC.2  V0.3  RC.3  V0.4  RC.4\n",
       "0   1   2    43     1    85     2   127     4   169   3.0\n",
       "1   2   2    44     4    86     1   128     1   170   1.0\n",
       "2   3   3    45     3    87     2   129     2   171   2.0\n",
       "3   4   1    46     3    88     4   130     3   172   2.0\n",
       "4   5   2    47     1    89     4   131     1   173   1.0"
      ]
     },
     "execution_count": 4,
     "metadata": {},
     "output_type": "execute_result"
    }
   ],
   "source": [
    "answers_df = pd.read_table(f\"data/Cuaderno_{year}_BIOLOGÍA_0_C_Respuestas.tsv\")\n",
    "answers_df.head()"
   ]
  },
  {
   "cell_type": "markdown",
   "metadata": {
    "id": "uFFlTADP8Jo7"
   },
   "source": [
    "# Data Cleaning"
   ]
  },
  {
   "cell_type": "markdown",
   "metadata": {
    "id": "2QavIIOK8Jo7"
   },
   "source": [
    "Removing rows containing \"Página\" and rows that have a space \" \"\n",
    "Aditionaly removes the last 5 elements because they are empty space"
   ]
  },
  {
   "cell_type": "code",
   "execution_count": 5,
   "metadata": {},
   "outputs": [
    {
     "data": {
      "text/plain": [
       "1816    2. Produce patología mediante la invasión\n",
       "1817                         del tejido entérico.\n",
       "1818    3. Su mecanismo de transmisión es fecal -\n",
       "1819                                        oral.\n",
       "1820     4. Puede dar lugar a brotes y epidemias.\n",
       "Name: text, dtype: object"
      ]
     },
     "execution_count": 5,
     "metadata": {},
     "output_type": "execute_result"
    }
   ],
   "source": [
    "exam_df = exam_df[~exam_df[\"text\"].str.contains(\"Página\")]\n",
    "exam_df = exam_df[\"text\"].str.strip()\n",
    "exam_df = exam_df.replace(\"\", np.nan)\n",
    "exam_df = exam_df.dropna()\n",
    "exam_df = exam_df.reset_index(drop=True)\n",
    "exam_df.tail()"
   ]
  },
  {
   "cell_type": "markdown",
   "metadata": {},
   "source": [
    "Funcition to join the lines "
   ]
  },
  {
   "cell_type": "code",
   "execution_count": null,
   "metadata": {
    "id": "rYZHjn_C8Jo8"
   },
   "outputs": [],
   "source": [
    "def process_multi_line_str(df):\n",
    "    i = 0\n",
    "    while i < len(df) - 1:\n",
    "        line = df.iloc[i]\n",
    "        if i < len(df) -1  and line.endswith(\"-\"):\n",
    "            df.iloc[i] = df.iloc[i][:-1] + df.iloc[i + 1]\n",
    "            df = df.drop(i + 1)\n",
    "            df = df.reset_index(drop=True)\n",
    "        else:\n",
    "            i += 1\n",
    "    n = 0\n",
    "    while n < len(df) -1:\n",
    "        if n + 1 < len(df):\n",
    "            try:\n",
    "                int(df.iloc[n + 1][0:1])\n",
    "                n += 1\n",
    "            except ValueError:\n",
    "                df.iloc[n] = df.iloc[n] + \" \" + df.iloc[n + 1]\n",
    "                df = df.drop(n +1)\n",
    "                df = df.reset_index(drop= True)\n",
    "        else:\n",
    "            break\n",
    "    return df"
   ]
  },
  {
   "cell_type": "code",
   "execution_count": 7,
   "metadata": {
    "colab": {
     "base_uri": "https://localhost:8080/",
     "height": 206
    },
    "id": "2v6dmQuM8_v1",
    "outputId": "215f5328-a43d-4bbb-f221-fba6fc10a5c1"
   },
   "outputs": [
    {
     "data": {
      "text/plain": [
       "0                      1. La barrera hematoencefálica:\n",
       "1    1. Es permeable a todas las sustancias present...\n",
       "2                      2. Es permeable al O2 y al CO2.\n",
       "3                         3. Es impermeable al etanol.\n",
       "4                           4. Es impermeable al agua.\n",
       "Name: text, dtype: object"
      ]
     },
     "execution_count": 7,
     "metadata": {},
     "output_type": "execute_result"
    }
   ],
   "source": [
    "exam_df_concat = process_multi_line_str(exam_df)\n",
    "exam_df_concat.head()"
   ]
  },
  {
   "cell_type": "markdown",
   "metadata": {},
   "source": [
    "Print the rows that do not end in \".\" or \":\" to fix them"
   ]
  },
  {
   "cell_type": "code",
   "execution_count": 8,
   "metadata": {},
   "outputs": [
    {
     "name": "stdout",
     "output_type": "stream",
     "text": [
      "Number of expected incorrect rows = 8\n",
      "55        12. En la fase de despolarización rápida (fase\n",
      "235                                               4. ADP\n",
      "516    104. ¿Qué término describe mejor las siguiente...\n",
      "559           2. Está situado en el cromosoma 13 y en el\n",
      "612            4. Enfermedad de Charcot-Marie-Tooth tipo\n",
      "703            4. La ultracentrifuga ción (100.000 x g –\n",
      "789               4. La hemocromatosis no es hereditaria\n",
      "810        162. La activación del complejo ciclina B-CDK\n",
      "838              2. Mutaciones en el gen que codifica el\n",
      "840             3. Presencia de una metiltransferasa del\n",
      "872                4. Detección de anticuerpos en sangre\n",
      "Name: text, dtype: object\n"
     ]
    }
   ],
   "source": [
    "print(f\"Number of expected incorrect rows = {len(exam_df_concat) - 1050}\")\n",
    "print(exam_df_concat[~exam_df_concat.str.endswith((\".\", \":\"))])"
   ]
  },
  {
   "cell_type": "code",
   "execution_count": 9,
   "metadata": {},
   "outputs": [
    {
     "name": "stdout",
     "output_type": "stream",
     "text": [
      "550     3. Los ARN mensajeros y algunos ARN ribosómicos.\n",
      "551    4. Los ARN mensajeros y algunos ARN no codific...\n",
      "552                111. La inactivación del cromosoma X:\n",
      "553                     1. Origina fenotipos en mosaico.\n",
      "554            2. Favorece su inestabilidad cromosómica.\n",
      "555    3. Incrementa las tasas de mutación de sus genes.\n",
      "556                 4. Impide su recombinación meiótica.\n",
      "557    112. Si un gen se localiza en el 13q14 signifi...\n",
      "558    1. Está situado en el brazo largo del cromosom...\n",
      "559           2. Está situado en el cromosoma 13 y en el\n",
      "560                                                  14.\n",
      "561    3. Está situado en el brazo largo del cromosom...\n",
      "562    4. Está situado en el brazo corto del cromosom...\n",
      "563    113. Cuando la expresión de un gen o de un par...\n",
      "564                                        1. Endogamia.\n",
      "Name: text, dtype: object\n"
     ]
    }
   ],
   "source": [
    "print(exam_df_concat.iloc[550: 565])"
   ]
  },
  {
   "cell_type": "code",
   "execution_count": null,
   "metadata": {
    "editable": true,
    "slideshow": {
     "slide_type": ""
    },
    "tags": []
   },
   "outputs": [],
   "source": [
    "rows_fix = [55, 559, 516, 612, 703, 810, 838, 840, ]"
   ]
  },
  {
   "cell_type": "code",
   "execution_count": 11,
   "metadata": {},
   "outputs": [],
   "source": [
    "def fix_incorrect(num_row, df):\n",
    "    num_row = sorted(num_row, reverse=True)\n",
    "    for n in num_row:\n",
    "        df.iloc[n] = df.iloc[n] + df.iloc[n + 1]\n",
    "        df = df.drop(n + 1)\n",
    "        df = df.reset_index(drop= True)\n",
    "    return df"
   ]
  },
  {
   "cell_type": "markdown",
   "metadata": {},
   "source": [
    "The expeted number of rows for an exam with 210 questions and 4 options per question is 210+(210*4) = {total_num_rows}"
   ]
  },
  {
   "cell_type": "code",
   "execution_count": 12,
   "metadata": {},
   "outputs": [
    {
     "name": "stdout",
     "output_type": "stream",
     "text": [
      "      V0   RC\n",
      "0      1  2.0\n",
      "1      2  2.0\n",
      "2      3  3.0\n",
      "3      4  1.0\n",
      "4      5  2.0\n",
      "..   ...  ...\n",
      "205  206  NaN\n",
      "206  207  4.0\n",
      "207  208  4.0\n",
      "208  209  1.0\n",
      "209  210  2.0\n",
      "\n",
      "[210 rows x 2 columns]\n"
     ]
    }
   ],
   "source": [
    "columnas_base = ['V0', 'RC']\n",
    "columnas_apiladas = ['V0.1', 'B1', 'V0.2', 'B2', '']\n",
    "\n",
    "original_col = [\"V0\", \"RC\"]\n",
    "duplicate_cols = [\"V0.1\", \"RC.1\", \"V0.2\", \"RC.2\", \"V0.3\", \"RC.3\", \"V0.4\", \"RC.4\"]\n",
    "\n",
    "answers_df_list = [answers_df[original_col]]\n",
    "\n",
    "for i in range(0, len(duplicate_cols), 2):\n",
    "    pair_cols = duplicate_cols[i:i+2]\n",
    "    df_pair_col = answers_df[pair_cols].rename(columns={pair_cols[0]: \"V0\", pair_cols[1]: \"RC\"})\n",
    "    answers_df_list.append(df_pair_col)\n",
    "\n",
    "answers_df_clean = pd.concat(answers_df_list, ignore_index=True)\n",
    "\n",
    "print(answers_df_clean)"
   ]
  },
  {
   "cell_type": "code",
   "execution_count": 18,
   "metadata": {},
   "outputs": [
    {
     "name": "stdout",
     "output_type": "stream",
     "text": [
      "1050\n"
     ]
    }
   ],
   "source": [
    "exam_df_fixed = fix_incorrect(rows_fix, exam_df_concat)\n",
    "print(len(exam_df_fixed))"
   ]
  },
  {
   "cell_type": "code",
   "execution_count": 16,
   "metadata": {},
   "outputs": [
    {
     "data": {
      "application/vnd.microsoft.datawrangler.viewer.v0+json": {
       "columns": [
        {
         "name": "index",
         "rawType": "int64",
         "type": "integer"
        },
        {
         "name": "Question",
         "rawType": "object",
         "type": "string"
        },
        {
         "name": "Option 1",
         "rawType": "object",
         "type": "string"
        },
        {
         "name": "Option 2",
         "rawType": "object",
         "type": "string"
        },
        {
         "name": "Option 3",
         "rawType": "object",
         "type": "string"
        },
        {
         "name": "Option 4",
         "rawType": "object",
         "type": "string"
        }
       ],
       "conversionMethod": "pd.DataFrame",
       "ref": "36959f00-cc1f-48a7-9d44-4335afa3171d",
       "rows": [
        [
         "0",
         "1. La barrera hematoencefálica:",
         "1. Es permeable a todas las sustancias presentes en el plasma.",
         "2. Es permeable al O2 y al CO2.",
         "3. Es impermeable al etanol.",
         "4. Es impermeable al agua."
        ],
        [
         "1",
         "2. El espacio subaracnoideo se encuentra:",
         "1. Entre la aracnoides y la duramadre.",
         "2. Entre la aracnoides y la piamadre.",
         "3. Lleno de sangre.",
         "4. En el sistema nervioso periférico."
        ],
        [
         "2",
         "3. La endolinfa:",
         "1. Rellena el laberinto óseo del oído interno.",
         "2. Contiene baja concentración de K+.",
         "3. Rellena el laberinto membranoso del oído interno.",
         "4. Contiene alta concentración de Na+."
        ],
        [
         "3",
         "4. Las células olfatorias humanas:",
         "1. Son células nerviosas bipolares.",
         "2. Son células nerviosas multipolares.",
         "3. Son células nerviosas unipolares.",
         "4. Son células epiteliales."
        ],
        [
         "4",
         "5. La esclerosis múltiple es una patología que se caracteriza por:",
         "1. Hipermielinización de los axones con pérdida del control motor y déficit sensitivos.",
         "2. Desmielinización de los axones con pérdida del control motor y déficit sensitivos.",
         "3. Incremento en la resistencia eléctrica axonal.",
         "4. Reducción en la capacitancia axonal."
        ]
       ],
       "shape": {
        "columns": 5,
        "rows": 5
       }
      },
      "text/html": [
       "<div>\n",
       "<style scoped>\n",
       "    .dataframe tbody tr th:only-of-type {\n",
       "        vertical-align: middle;\n",
       "    }\n",
       "\n",
       "    .dataframe tbody tr th {\n",
       "        vertical-align: top;\n",
       "    }\n",
       "\n",
       "    .dataframe thead th {\n",
       "        text-align: right;\n",
       "    }\n",
       "</style>\n",
       "<table border=\"1\" class=\"dataframe\">\n",
       "  <thead>\n",
       "    <tr style=\"text-align: right;\">\n",
       "      <th></th>\n",
       "      <th>Question</th>\n",
       "      <th>Option 1</th>\n",
       "      <th>Option 2</th>\n",
       "      <th>Option 3</th>\n",
       "      <th>Option 4</th>\n",
       "    </tr>\n",
       "  </thead>\n",
       "  <tbody>\n",
       "    <tr>\n",
       "      <th>0</th>\n",
       "      <td>1. La barrera hematoencefálica:</td>\n",
       "      <td>1. Es permeable a todas las sustancias present...</td>\n",
       "      <td>2. Es permeable al O2 y al CO2.</td>\n",
       "      <td>3. Es impermeable al etanol.</td>\n",
       "      <td>4. Es impermeable al agua.</td>\n",
       "    </tr>\n",
       "    <tr>\n",
       "      <th>1</th>\n",
       "      <td>2. El espacio subaracnoideo se encuentra:</td>\n",
       "      <td>1. Entre la aracnoides y la duramadre.</td>\n",
       "      <td>2. Entre la aracnoides y la piamadre.</td>\n",
       "      <td>3. Lleno de sangre.</td>\n",
       "      <td>4. En el sistema nervioso periférico.</td>\n",
       "    </tr>\n",
       "    <tr>\n",
       "      <th>2</th>\n",
       "      <td>3. La endolinfa:</td>\n",
       "      <td>1. Rellena el laberinto óseo del oído interno.</td>\n",
       "      <td>2. Contiene baja concentración de K+.</td>\n",
       "      <td>3. Rellena el laberinto membranoso del oído in...</td>\n",
       "      <td>4. Contiene alta concentración de Na+.</td>\n",
       "    </tr>\n",
       "    <tr>\n",
       "      <th>3</th>\n",
       "      <td>4. Las células olfatorias humanas:</td>\n",
       "      <td>1. Son células nerviosas bipolares.</td>\n",
       "      <td>2. Son células nerviosas multipolares.</td>\n",
       "      <td>3. Son células nerviosas unipolares.</td>\n",
       "      <td>4. Son células epiteliales.</td>\n",
       "    </tr>\n",
       "    <tr>\n",
       "      <th>4</th>\n",
       "      <td>5. La esclerosis múltiple es una patología que...</td>\n",
       "      <td>1. Hipermielinización de los axones con pérdid...</td>\n",
       "      <td>2. Desmielinización de los axones con pérdida ...</td>\n",
       "      <td>3. Incremento en la resistencia eléctrica axonal.</td>\n",
       "      <td>4. Reducción en la capacitancia axonal.</td>\n",
       "    </tr>\n",
       "  </tbody>\n",
       "</table>\n",
       "</div>"
      ],
      "text/plain": [
       "                                            Question  \\\n",
       "0                    1. La barrera hematoencefálica:   \n",
       "1          2. El espacio subaracnoideo se encuentra:   \n",
       "2                                   3. La endolinfa:   \n",
       "3                 4. Las células olfatorias humanas:   \n",
       "4  5. La esclerosis múltiple es una patología que...   \n",
       "\n",
       "                                            Option 1  \\\n",
       "0  1. Es permeable a todas las sustancias present...   \n",
       "1             1. Entre la aracnoides y la duramadre.   \n",
       "2     1. Rellena el laberinto óseo del oído interno.   \n",
       "3                1. Son células nerviosas bipolares.   \n",
       "4  1. Hipermielinización de los axones con pérdid...   \n",
       "\n",
       "                                            Option 2  \\\n",
       "0                    2. Es permeable al O2 y al CO2.   \n",
       "1              2. Entre la aracnoides y la piamadre.   \n",
       "2              2. Contiene baja concentración de K+.   \n",
       "3             2. Son células nerviosas multipolares.   \n",
       "4  2. Desmielinización de los axones con pérdida ...   \n",
       "\n",
       "                                            Option 3  \\\n",
       "0                       3. Es impermeable al etanol.   \n",
       "1                                3. Lleno de sangre.   \n",
       "2  3. Rellena el laberinto membranoso del oído in...   \n",
       "3               3. Son células nerviosas unipolares.   \n",
       "4  3. Incremento en la resistencia eléctrica axonal.   \n",
       "\n",
       "                                  Option 4  \n",
       "0               4. Es impermeable al agua.  \n",
       "1    4. En el sistema nervioso periférico.  \n",
       "2   4. Contiene alta concentración de Na+.  \n",
       "3              4. Son células epiteliales.  \n",
       "4  4. Reducción en la capacitancia axonal.  "
      ]
     },
     "execution_count": 16,
     "metadata": {},
     "output_type": "execute_result"
    }
   ],
   "source": [
    "exam_df_fixed = exam_df_fixed.to_frame()\n",
    "groups = pd.Series((exam_df_fixed.index // 5) +1)\n",
    "exam_df_fixed[\"group\"] = groups  \n",
    "exam_df_fixed[\"option_num\"] = exam_df_fixed.groupby(\"group\").cumcount() + 1\n",
    "exam_df_pivot = exam_df_fixed.pivot(index=\"group\", columns=\"option_num\", values=\"text\")\n",
    "exam_df_pivot = exam_df_pivot.reset_index()\n",
    "exam_df_pivot = exam_df_pivot.rename_axis(None, axis=1).rename(columns={\n",
    "    1: \"Question\",\n",
    "    2: \"Option 1\",\n",
    "    3: \"Option 2\",\n",
    "    4: \"Option 3\",\n",
    "    5: \"Option 4\"  # Si tienes 4 opciones, ajusta según corresponda\n",
    "})\n",
    "exam_df_pivot = exam_df_pivot.drop(columns=[\"group\"])\n",
    "\n",
    "exam_df_pivot.head()"
   ]
  },
  {
   "cell_type": "code",
   "execution_count": 17,
   "metadata": {},
   "outputs": [
    {
     "data": {
      "application/vnd.microsoft.datawrangler.viewer.v0+json": {
       "columns": [
        {
         "name": "index",
         "rawType": "int64",
         "type": "integer"
        },
        {
         "name": "Question",
         "rawType": "object",
         "type": "string"
        },
        {
         "name": "Option 1",
         "rawType": "object",
         "type": "string"
        },
        {
         "name": "Option 2",
         "rawType": "object",
         "type": "string"
        },
        {
         "name": "Option 3",
         "rawType": "object",
         "type": "string"
        },
        {
         "name": "Option 4",
         "rawType": "object",
         "type": "string"
        },
        {
         "name": "RC",
         "rawType": "float64",
         "type": "float"
        }
       ],
       "conversionMethod": "pd.DataFrame",
       "ref": "9646dd69-0541-4642-b038-539ae6fb04f4",
       "rows": [
        [
         "0",
         "1. La barrera hematoencefálica:",
         "1. Es permeable a todas las sustancias presentes en el plasma.",
         "2. Es permeable al O2 y al CO2.",
         "3. Es impermeable al etanol.",
         "4. Es impermeable al agua.",
         "2.0"
        ],
        [
         "1",
         "2. El espacio subaracnoideo se encuentra:",
         "1. Entre la aracnoides y la duramadre.",
         "2. Entre la aracnoides y la piamadre.",
         "3. Lleno de sangre.",
         "4. En el sistema nervioso periférico.",
         "2.0"
        ],
        [
         "2",
         "3. La endolinfa:",
         "1. Rellena el laberinto óseo del oído interno.",
         "2. Contiene baja concentración de K+.",
         "3. Rellena el laberinto membranoso del oído interno.",
         "4. Contiene alta concentración de Na+.",
         "3.0"
        ],
        [
         "3",
         "4. Las células olfatorias humanas:",
         "1. Son células nerviosas bipolares.",
         "2. Son células nerviosas multipolares.",
         "3. Son células nerviosas unipolares.",
         "4. Son células epiteliales.",
         "1.0"
        ],
        [
         "4",
         "5. La esclerosis múltiple es una patología que se caracteriza por:",
         "1. Hipermielinización de los axones con pérdida del control motor y déficit sensitivos.",
         "2. Desmielinización de los axones con pérdida del control motor y déficit sensitivos.",
         "3. Incremento en la resistencia eléctrica axonal.",
         "4. Reducción en la capacitancia axonal.",
         "2.0"
        ]
       ],
       "shape": {
        "columns": 6,
        "rows": 5
       }
      },
      "text/html": [
       "<div>\n",
       "<style scoped>\n",
       "    .dataframe tbody tr th:only-of-type {\n",
       "        vertical-align: middle;\n",
       "    }\n",
       "\n",
       "    .dataframe tbody tr th {\n",
       "        vertical-align: top;\n",
       "    }\n",
       "\n",
       "    .dataframe thead th {\n",
       "        text-align: right;\n",
       "    }\n",
       "</style>\n",
       "<table border=\"1\" class=\"dataframe\">\n",
       "  <thead>\n",
       "    <tr style=\"text-align: right;\">\n",
       "      <th></th>\n",
       "      <th>Question</th>\n",
       "      <th>Option 1</th>\n",
       "      <th>Option 2</th>\n",
       "      <th>Option 3</th>\n",
       "      <th>Option 4</th>\n",
       "      <th>RC</th>\n",
       "    </tr>\n",
       "  </thead>\n",
       "  <tbody>\n",
       "    <tr>\n",
       "      <th>0</th>\n",
       "      <td>1. La barrera hematoencefálica:</td>\n",
       "      <td>1. Es permeable a todas las sustancias present...</td>\n",
       "      <td>2. Es permeable al O2 y al CO2.</td>\n",
       "      <td>3. Es impermeable al etanol.</td>\n",
       "      <td>4. Es impermeable al agua.</td>\n",
       "      <td>2.0</td>\n",
       "    </tr>\n",
       "    <tr>\n",
       "      <th>1</th>\n",
       "      <td>2. El espacio subaracnoideo se encuentra:</td>\n",
       "      <td>1. Entre la aracnoides y la duramadre.</td>\n",
       "      <td>2. Entre la aracnoides y la piamadre.</td>\n",
       "      <td>3. Lleno de sangre.</td>\n",
       "      <td>4. En el sistema nervioso periférico.</td>\n",
       "      <td>2.0</td>\n",
       "    </tr>\n",
       "    <tr>\n",
       "      <th>2</th>\n",
       "      <td>3. La endolinfa:</td>\n",
       "      <td>1. Rellena el laberinto óseo del oído interno.</td>\n",
       "      <td>2. Contiene baja concentración de K+.</td>\n",
       "      <td>3. Rellena el laberinto membranoso del oído in...</td>\n",
       "      <td>4. Contiene alta concentración de Na+.</td>\n",
       "      <td>3.0</td>\n",
       "    </tr>\n",
       "    <tr>\n",
       "      <th>3</th>\n",
       "      <td>4. Las células olfatorias humanas:</td>\n",
       "      <td>1. Son células nerviosas bipolares.</td>\n",
       "      <td>2. Son células nerviosas multipolares.</td>\n",
       "      <td>3. Son células nerviosas unipolares.</td>\n",
       "      <td>4. Son células epiteliales.</td>\n",
       "      <td>1.0</td>\n",
       "    </tr>\n",
       "    <tr>\n",
       "      <th>4</th>\n",
       "      <td>5. La esclerosis múltiple es una patología que...</td>\n",
       "      <td>1. Hipermielinización de los axones con pérdid...</td>\n",
       "      <td>2. Desmielinización de los axones con pérdida ...</td>\n",
       "      <td>3. Incremento en la resistencia eléctrica axonal.</td>\n",
       "      <td>4. Reducción en la capacitancia axonal.</td>\n",
       "      <td>2.0</td>\n",
       "    </tr>\n",
       "  </tbody>\n",
       "</table>\n",
       "</div>"
      ],
      "text/plain": [
       "                                            Question  \\\n",
       "0                    1. La barrera hematoencefálica:   \n",
       "1          2. El espacio subaracnoideo se encuentra:   \n",
       "2                                   3. La endolinfa:   \n",
       "3                 4. Las células olfatorias humanas:   \n",
       "4  5. La esclerosis múltiple es una patología que...   \n",
       "\n",
       "                                            Option 1  \\\n",
       "0  1. Es permeable a todas las sustancias present...   \n",
       "1             1. Entre la aracnoides y la duramadre.   \n",
       "2     1. Rellena el laberinto óseo del oído interno.   \n",
       "3                1. Son células nerviosas bipolares.   \n",
       "4  1. Hipermielinización de los axones con pérdid...   \n",
       "\n",
       "                                            Option 2  \\\n",
       "0                    2. Es permeable al O2 y al CO2.   \n",
       "1              2. Entre la aracnoides y la piamadre.   \n",
       "2              2. Contiene baja concentración de K+.   \n",
       "3             2. Son células nerviosas multipolares.   \n",
       "4  2. Desmielinización de los axones con pérdida ...   \n",
       "\n",
       "                                            Option 3  \\\n",
       "0                       3. Es impermeable al etanol.   \n",
       "1                                3. Lleno de sangre.   \n",
       "2  3. Rellena el laberinto membranoso del oído in...   \n",
       "3               3. Son células nerviosas unipolares.   \n",
       "4  3. Incremento en la resistencia eléctrica axonal.   \n",
       "\n",
       "                                  Option 4   RC  \n",
       "0               4. Es impermeable al agua.  2.0  \n",
       "1    4. En el sistema nervioso periférico.  2.0  \n",
       "2   4. Contiene alta concentración de Na+.  3.0  \n",
       "3              4. Son células epiteliales.  1.0  \n",
       "4  4. Reducción en la capacitancia axonal.  2.0  "
      ]
     },
     "execution_count": 17,
     "metadata": {},
     "output_type": "execute_result"
    }
   ],
   "source": [
    "clean_df = pd.concat([exam_df_pivot, answers_df_clean], axis=1)\n",
    "clean_df = clean_df.drop(columns=[\"V0\"])\n",
    "clean_df.head()"
   ]
  }
 ],
 "metadata": {
  "colab": {
   "provenance": []
  },
  "kernelspec": {
   "display_name": "bir_etl",
   "language": "python",
   "name": "python3"
  },
  "language_info": {
   "codemirror_mode": {
    "name": "ipython",
    "version": 3
   },
   "file_extension": ".py",
   "mimetype": "text/x-python",
   "name": "python",
   "nbconvert_exporter": "python",
   "pygments_lexer": "ipython3",
   "version": "3.12.7"
  }
 },
 "nbformat": 4,
 "nbformat_minor": 4
}
