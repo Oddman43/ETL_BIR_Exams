{
 "cells": [
  {
   "cell_type": "markdown",
   "metadata": {
    "editable": true,
    "id": "56vKIohe8Jou",
    "slideshow": {
     "slide_type": ""
    },
    "tags": []
   },
   "source": [
    "# Data Extraction\n",
    "This section details the process of extracting question data from a PDF file and corresponding answer keys from a TSV file."
   ]
  },
  {
   "cell_type": "markdown",
   "metadata": {
    "id": "8kRORmWM8Joy"
   },
   "source": [
    "## Importing libraries"
   ]
  },
  {
   "cell_type": "markdown",
   "metadata": {},
   "source": [
    "* Pandas for data manipulation\n",
    "* NumPy for the NaN datatype\n",
    "* PyPDF for its ability to read the pfd files, although it requieres post-processing of the extracted text\n",
    "* sqlite3 to create load the clean data into `bir_warehouse.db`"
   ]
  },
  {
   "cell_type": "code",
   "execution_count": 1,
   "metadata": {
    "colab": {
     "base_uri": "https://localhost:8080/"
    },
    "id": "y8DpYYll8Joz",
    "outputId": "40cac5b3-1153-431b-f780-201aa62b5813"
   },
   "outputs": [],
   "source": [
    "import pandas as pd\n",
    "import numpy as np\n",
    "from pypdf import PdfReader\n",
    "import sqlite3"
   ]
  },
  {
   "cell_type": "markdown",
   "metadata": {},
   "source": [
    "## Selecting year and type of exam"
   ]
  },
  {
   "cell_type": "markdown",
   "metadata": {},
   "source": [
    "This function, `compute_expected_rows`, takes the exam year and topic as input and returns metadata crucial for subsequent data cleaning and loading steps. This metadata includes the expected maximum number of rows in the final DataFrame, the number of questions per exam, and the acronym for the exam type.  The maximum number of rows is calculated based on the number of questions and options per question for each year, following a specific pattern:\n",
    "\n",
    "*   2024-2021: 210 questions, 4 options each\n",
    "*   2020-2019: 185 questions, 4 options each\n",
    "*   2018-2015: 235 questions, 4 options each\n",
    "*   2014-2012: 235 questions, 5 options each\n",
    "*   2011-2004: 260 questions, 5 options each\n",
    "\n",
    "This information is essential for validating data integrity during the ETL process.  For example, the expected row count helps verify that all questions and options have been correctly extracted and transformed. The exam type acronym aids in consistent file naming and data organization."
   ]
  },
  {
   "cell_type": "code",
   "execution_count": 2,
   "metadata": {},
   "outputs": [],
   "source": [
    "def compute_expected_rows(year: int, topic: str) -> tuple:\n",
    "    \"\"\"Computes and returns metadata about the exam for a given year and topic\n",
    "\n",
    "    Args:\n",
    "        year (int): The year of the exam\n",
    "        topic (str): The topic of the exam\n",
    "\n",
    "    Returns:\n",
    "        tuple: Contains:\n",
    "            - max_rows: The expected maximum number of rows in the DataFrame\n",
    "            - num_options: The number of questions in the exam\n",
    "            - exam_type_acronym: The acronym for the exam type\n",
    "\n",
    "    \"\"\"\n",
    "    info_year_dict: dict = {\n",
    "        2011: [260, 5],\n",
    "        2014: [235, 5],\n",
    "        2018: [235, 4],\n",
    "        2020: [185, 4],\n",
    "        2021: [210, 4],\n",
    "    }\n",
    "    save_name_dict: dict = {\n",
    "        \"BIOLOGÍA\": \"bir\",\n",
    "        \"FARMACIA\": \"fir\",\n",
    "        \"QUÍMICA\": \"qir\",\n",
    "        \"MEDICINA\": \"mir\",\n",
    "    }\n",
    "    max_rows: int = 0\n",
    "    num_options: int = 0\n",
    "    for target_year, info_list in info_year_dict.items():\n",
    "        if year <= target_year:\n",
    "            max_rows = (info_list[0] * info_list[1]) + info_list[0]\n",
    "            num_options = info_list[1]\n",
    "            break\n",
    "    else:\n",
    "        max_rows = 1050\n",
    "        num_options = 4\n",
    "    return max_rows, num_options, save_name_dict[topic]"
   ]
  },
  {
   "cell_type": "markdown",
   "metadata": {},
   "source": [
    "### Add year of the exam and topic "
   ]
  },
  {
   "cell_type": "code",
   "execution_count": 3,
   "metadata": {},
   "outputs": [],
   "source": [
    "year: int = 2018\n",
    "topic: str = \"BIOLOGÍA\" # Select from: BIOLOGÍA, FARMACIA, QUÍMICA, MEDICINA\n",
    "total_num_rows: int\n",
    "num_questions: int\n",
    "exam_acronym: str\n",
    "total_num_rows, num_questions, exam_acronym = compute_expected_rows(year, topic)\n",
    "save_format: str = f\"../data/clean/clean_{exam_acronym}_{year}.csv\""
   ]
  },
  {
   "cell_type": "markdown",
   "metadata": {
    "id": "Z1Kjq5ue8Jo1"
   },
   "source": [
    "## Extracting Questions from Pdf file"
   ]
  },
  {
   "cell_type": "markdown",
   "metadata": {},
   "source": [
    "This section focuses on extracting the textual content of the exam questions from the provided PDF file.\n",
    "\n",
    "**Path Definition:**\n",
    "\n",
    "The path to the PDF file is dynamically constructed using the provided `year` and `topic` variables. This ensures flexibility and allows the script to process different exam files without manual path adjustments.\n",
    "\n",
    "Finally it stores the output in a DataFrame and the first 10 rows of the resulting DataFrame are displayed for a quick preview of the loaded data."
   ]
  },
  {
   "cell_type": "code",
   "execution_count": 4,
   "metadata": {
    "id": "AB4M4yfr8Jo3"
   },
   "outputs": [
    {
     "data": {
      "application/vnd.microsoft.datawrangler.viewer.v0+json": {
       "columns": [
        {
         "name": "index",
         "rawType": "int64",
         "type": "integer"
        },
        {
         "name": "text",
         "rawType": "object",
         "type": "string"
        }
       ],
       "conversionMethod": "pd.DataFrame",
       "ref": "f0a5ec65-9ffe-46ea-99de-85f63f02de0a",
       "rows": [
        [
         "0",
         " "
        ],
        [
         "1",
         "- 2 - "
        ],
        [
         "2",
         "1. El fosfolamban: "
        ],
        [
         "3",
         " "
        ],
        [
         "4",
         "1. Regula la Ca2+-ATPasa del retículo sarco-"
        ],
        [
         "5",
         "plásmico. "
        ],
        [
         "6",
         "2. Es un fosfolípido de la membrana plasmática. "
        ],
        [
         "7",
         "3. Bloquea el receptor de dihidropiridinas. "
        ],
        [
         "8",
         "4. Activa receptores de rianodina en retículo "
        ],
        [
         "9",
         "sarcoplásmico. "
        ]
       ],
       "shape": {
        "columns": 1,
        "rows": 10
       }
      },
      "text/html": [
       "<div>\n",
       "<style scoped>\n",
       "    .dataframe tbody tr th:only-of-type {\n",
       "        vertical-align: middle;\n",
       "    }\n",
       "\n",
       "    .dataframe tbody tr th {\n",
       "        vertical-align: top;\n",
       "    }\n",
       "\n",
       "    .dataframe thead th {\n",
       "        text-align: right;\n",
       "    }\n",
       "</style>\n",
       "<table border=\"1\" class=\"dataframe\">\n",
       "  <thead>\n",
       "    <tr style=\"text-align: right;\">\n",
       "      <th></th>\n",
       "      <th>text</th>\n",
       "    </tr>\n",
       "  </thead>\n",
       "  <tbody>\n",
       "    <tr>\n",
       "      <th>0</th>\n",
       "      <td></td>\n",
       "    </tr>\n",
       "    <tr>\n",
       "      <th>1</th>\n",
       "      <td>- 2 -</td>\n",
       "    </tr>\n",
       "    <tr>\n",
       "      <th>2</th>\n",
       "      <td>1. El fosfolamban:</td>\n",
       "    </tr>\n",
       "    <tr>\n",
       "      <th>3</th>\n",
       "      <td></td>\n",
       "    </tr>\n",
       "    <tr>\n",
       "      <th>4</th>\n",
       "      <td>1. Regula la Ca2+-ATPasa del retículo sarco-</td>\n",
       "    </tr>\n",
       "    <tr>\n",
       "      <th>5</th>\n",
       "      <td>plásmico.</td>\n",
       "    </tr>\n",
       "    <tr>\n",
       "      <th>6</th>\n",
       "      <td>2. Es un fosfolípido de la membrana plasmática.</td>\n",
       "    </tr>\n",
       "    <tr>\n",
       "      <th>7</th>\n",
       "      <td>3. Bloquea el receptor de dihidropiridinas.</td>\n",
       "    </tr>\n",
       "    <tr>\n",
       "      <th>8</th>\n",
       "      <td>4. Activa receptores de rianodina en retículo</td>\n",
       "    </tr>\n",
       "    <tr>\n",
       "      <th>9</th>\n",
       "      <td>sarcoplásmico.</td>\n",
       "    </tr>\n",
       "  </tbody>\n",
       "</table>\n",
       "</div>"
      ],
      "text/plain": [
       "                                               text\n",
       "0                                                  \n",
       "1                                            - 2 - \n",
       "2                               1. El fosfolamban: \n",
       "3                                                  \n",
       "4      1. Regula la Ca2+-ATPasa del retículo sarco-\n",
       "5                                        plásmico. \n",
       "6  2. Es un fosfolípido de la membrana plasmática. \n",
       "7      3. Bloquea el receptor de dihidropiridinas. \n",
       "8    4. Activa receptores de rianodina en retículo \n",
       "9                                   sarcoplásmico. "
      ]
     },
     "execution_count": 4,
     "metadata": {},
     "output_type": "execute_result"
    }
   ],
   "source": [
    "path: str = f\"../data/raw/type_1/Raw_Cuaderno_{year}_{topic}_0_C.pdf\"\n",
    "with PdfReader(path) as pdf_file:\n",
    "    full_text: list = []\n",
    "    for n in range(2, len(pdf_file.pages)):\n",
    "        page = pdf_file.pages[n]\n",
    "        text: str = page.extract_text()\n",
    "        full_text.extend(text.splitlines())\n",
    "raw_exam_df: pd.DataFrame = pd.DataFrame(full_text, columns=[\"text\"])\n",
    "raw_exam_df.head(10)"
   ]
  },
  {
   "cell_type": "code",
   "execution_count": 7,
   "metadata": {},
   "outputs": [
    {
     "data": {
      "application/vnd.microsoft.datawrangler.viewer.v0+json": {
       "columns": [
        {
         "name": "index",
         "rawType": "int64",
         "type": "integer"
        },
        {
         "name": "text",
         "rawType": "object",
         "type": "string"
        }
       ],
       "conversionMethod": "pd.DataFrame",
       "ref": "fe55b944-99ad-4dfb-98d7-10aa0389b84d",
       "rows": [
        [
         "2105",
         "4. De varios axones se puede efectuar por una "
        ],
        [
         "2106",
         "misma célula. "
        ],
        [
         "2107",
         " "
        ],
        [
         "2108",
         " "
        ],
        [
         "2109",
         "B-5-0-00014"
        ],
        [
         "2110",
         "FSE BIOLOGÍA 2018/19"
        ],
        [
         "2111",
         "i#\u000e\u0016\u000e\u0011\u000e\u0011d\u0001\u000f(k"
        ],
        [
         "2112",
         "B-5-0-00014"
        ],
        [
         "2113",
         "FSE BIOLOGÍA 2018/19"
        ],
        [
         "2114",
         "i#\u000e\u0016\u000e\u0011\u000e\u0011d\u0001\u000f(k"
        ]
       ],
       "shape": {
        "columns": 1,
        "rows": 10
       }
      },
      "text/html": [
       "<div>\n",
       "<style scoped>\n",
       "    .dataframe tbody tr th:only-of-type {\n",
       "        vertical-align: middle;\n",
       "    }\n",
       "\n",
       "    .dataframe tbody tr th {\n",
       "        vertical-align: top;\n",
       "    }\n",
       "\n",
       "    .dataframe thead th {\n",
       "        text-align: right;\n",
       "    }\n",
       "</style>\n",
       "<table border=\"1\" class=\"dataframe\">\n",
       "  <thead>\n",
       "    <tr style=\"text-align: right;\">\n",
       "      <th></th>\n",
       "      <th>text</th>\n",
       "    </tr>\n",
       "  </thead>\n",
       "  <tbody>\n",
       "    <tr>\n",
       "      <th>2105</th>\n",
       "      <td>4. De varios axones se puede efectuar por una</td>\n",
       "    </tr>\n",
       "    <tr>\n",
       "      <th>2106</th>\n",
       "      <td>misma célula.</td>\n",
       "    </tr>\n",
       "    <tr>\n",
       "      <th>2107</th>\n",
       "      <td></td>\n",
       "    </tr>\n",
       "    <tr>\n",
       "      <th>2108</th>\n",
       "      <td></td>\n",
       "    </tr>\n",
       "    <tr>\n",
       "      <th>2109</th>\n",
       "      <td>B-5-0-00014</td>\n",
       "    </tr>\n",
       "    <tr>\n",
       "      <th>2110</th>\n",
       "      <td>FSE BIOLOGÍA 2018/19</td>\n",
       "    </tr>\n",
       "    <tr>\n",
       "      <th>2111</th>\n",
       "      <td>i#\u000e\u0016\u000e\u0011\u000e\u0011d\u0001\u000f(k</td>\n",
       "    </tr>\n",
       "    <tr>\n",
       "      <th>2112</th>\n",
       "      <td>B-5-0-00014</td>\n",
       "    </tr>\n",
       "    <tr>\n",
       "      <th>2113</th>\n",
       "      <td>FSE BIOLOGÍA 2018/19</td>\n",
       "    </tr>\n",
       "    <tr>\n",
       "      <th>2114</th>\n",
       "      <td>i#\u000e\u0016\u000e\u0011\u000e\u0011d\u0001\u000f(k</td>\n",
       "    </tr>\n",
       "  </tbody>\n",
       "</table>\n",
       "</div>"
      ],
      "text/plain": [
       "                                                text\n",
       "2105  4. De varios axones se puede efectuar por una \n",
       "2106                                  misma célula. \n",
       "2107                                                \n",
       "2108                                                \n",
       "2109                                     B-5-0-00014\n",
       "2110                            FSE BIOLOGÍA 2018/19\n",
       "2111                                   i#\u000e\u0016\u000e\u0011\u000e\u0011d\u0001\u000f(k\n",
       "2112                                     B-5-0-00014\n",
       "2113                            FSE BIOLOGÍA 2018/19\n",
       "2114                                   i#\u000e\u0016\u000e\u0011\u000e\u0011d\u0001\u000f(k"
      ]
     },
     "execution_count": 7,
     "metadata": {},
     "output_type": "execute_result"
    }
   ],
   "source": [
    "raw_exam_df.tail(10)"
   ]
  },
  {
   "cell_type": "markdown",
   "metadata": {
    "id": "IBhc5aFQ8Jo6"
   },
   "source": [
    "## Extracting Answers from .tsv file into a DataFrame"
   ]
  },
  {
   "cell_type": "markdown",
   "metadata": {},
   "source": [
    "This section focuses on extracting the answer key data from the provided .tsv file and loading it into a Pandas DataFrame.\n",
    "\n",
    "**Path Definition and Data Loading:**\n",
    "\n",
    "The path to the .tsv file is dynamically constructed using the `year` and `topic` variables, mirroring the approach used for the PDF file. This ensures consistency and flexibility in processing different exam files. \n",
    "\n",
    "The `pd.read_table()` function is then used to read the .tsv file directly into a Pandas DataFrame. Finally, the first 10 rows of the resulting DataFrame are displayed for a quick preview of the loaded data."
   ]
  },
  {
   "cell_type": "code",
   "execution_count": 5,
   "metadata": {
    "colab": {
     "base_uri": "https://localhost:8080/",
     "height": 206
    },
    "id": "O1ouB9mQ8Jo7",
    "outputId": "70b7615d-9c90-4f2d-b9e1-a5c86b507ef6"
   },
   "outputs": [
    {
     "data": {
      "application/vnd.microsoft.datawrangler.viewer.v0+json": {
       "columns": [
        {
         "name": "index",
         "rawType": "int64",
         "type": "integer"
        },
        {
         "name": "V",
         "rawType": "int64",
         "type": "integer"
        },
        {
         "name": "RC",
         "rawType": "int64",
         "type": "integer"
        },
        {
         "name": "V.1",
         "rawType": "int64",
         "type": "integer"
        },
        {
         "name": "RC.1",
         "rawType": "int64",
         "type": "integer"
        },
        {
         "name": "V.2",
         "rawType": "int64",
         "type": "integer"
        },
        {
         "name": "RC.2",
         "rawType": "int64",
         "type": "integer"
        },
        {
         "name": "V.3",
         "rawType": "int64",
         "type": "integer"
        },
        {
         "name": "RC.3",
         "rawType": "int64",
         "type": "integer"
        },
        {
         "name": "V.4",
         "rawType": "int64",
         "type": "integer"
        },
        {
         "name": "RC.4",
         "rawType": "int64",
         "type": "integer"
        }
       ],
       "conversionMethod": "pd.DataFrame",
       "ref": "ddd34634-4a9a-49ab-914e-644f73050ff6",
       "rows": [
        [
         "0",
         "1",
         "1",
         "48",
         "2",
         "95",
         "4",
         "142",
         "3",
         "189",
         "1"
        ],
        [
         "1",
         "2",
         "2",
         "49",
         "4",
         "96",
         "2",
         "143",
         "4",
         "190",
         "3"
        ],
        [
         "2",
         "3",
         "4",
         "50",
         "2",
         "97",
         "1",
         "144",
         "3",
         "191",
         "2"
        ],
        [
         "3",
         "4",
         "2",
         "51",
         "1",
         "98",
         "3",
         "145",
         "3",
         "192",
         "2"
        ],
        [
         "4",
         "5",
         "3",
         "52",
         "1",
         "99",
         "3",
         "146",
         "2",
         "193",
         "1"
        ],
        [
         "5",
         "6",
         "2",
         "53",
         "2",
         "100",
         "1",
         "147",
         "3",
         "194",
         "3"
        ],
        [
         "6",
         "7",
         "4",
         "54",
         "2",
         "101",
         "1",
         "148",
         "2",
         "195",
         "3"
        ],
        [
         "7",
         "8",
         "4",
         "55",
         "3",
         "102",
         "4",
         "149",
         "4",
         "196",
         "2"
        ],
        [
         "8",
         "9",
         "3",
         "56",
         "3",
         "103",
         "2",
         "150",
         "1",
         "197",
         "4"
        ],
        [
         "9",
         "10",
         "3",
         "57",
         "4",
         "104",
         "3",
         "151",
         "3",
         "198",
         "1"
        ]
       ],
       "shape": {
        "columns": 10,
        "rows": 10
       }
      },
      "text/html": [
       "<div>\n",
       "<style scoped>\n",
       "    .dataframe tbody tr th:only-of-type {\n",
       "        vertical-align: middle;\n",
       "    }\n",
       "\n",
       "    .dataframe tbody tr th {\n",
       "        vertical-align: top;\n",
       "    }\n",
       "\n",
       "    .dataframe thead th {\n",
       "        text-align: right;\n",
       "    }\n",
       "</style>\n",
       "<table border=\"1\" class=\"dataframe\">\n",
       "  <thead>\n",
       "    <tr style=\"text-align: right;\">\n",
       "      <th></th>\n",
       "      <th>V</th>\n",
       "      <th>RC</th>\n",
       "      <th>V.1</th>\n",
       "      <th>RC.1</th>\n",
       "      <th>V.2</th>\n",
       "      <th>RC.2</th>\n",
       "      <th>V.3</th>\n",
       "      <th>RC.3</th>\n",
       "      <th>V.4</th>\n",
       "      <th>RC.4</th>\n",
       "    </tr>\n",
       "  </thead>\n",
       "  <tbody>\n",
       "    <tr>\n",
       "      <th>0</th>\n",
       "      <td>1</td>\n",
       "      <td>1</td>\n",
       "      <td>48</td>\n",
       "      <td>2</td>\n",
       "      <td>95</td>\n",
       "      <td>4</td>\n",
       "      <td>142</td>\n",
       "      <td>3</td>\n",
       "      <td>189</td>\n",
       "      <td>1</td>\n",
       "    </tr>\n",
       "    <tr>\n",
       "      <th>1</th>\n",
       "      <td>2</td>\n",
       "      <td>2</td>\n",
       "      <td>49</td>\n",
       "      <td>4</td>\n",
       "      <td>96</td>\n",
       "      <td>2</td>\n",
       "      <td>143</td>\n",
       "      <td>4</td>\n",
       "      <td>190</td>\n",
       "      <td>3</td>\n",
       "    </tr>\n",
       "    <tr>\n",
       "      <th>2</th>\n",
       "      <td>3</td>\n",
       "      <td>4</td>\n",
       "      <td>50</td>\n",
       "      <td>2</td>\n",
       "      <td>97</td>\n",
       "      <td>1</td>\n",
       "      <td>144</td>\n",
       "      <td>3</td>\n",
       "      <td>191</td>\n",
       "      <td>2</td>\n",
       "    </tr>\n",
       "    <tr>\n",
       "      <th>3</th>\n",
       "      <td>4</td>\n",
       "      <td>2</td>\n",
       "      <td>51</td>\n",
       "      <td>1</td>\n",
       "      <td>98</td>\n",
       "      <td>3</td>\n",
       "      <td>145</td>\n",
       "      <td>3</td>\n",
       "      <td>192</td>\n",
       "      <td>2</td>\n",
       "    </tr>\n",
       "    <tr>\n",
       "      <th>4</th>\n",
       "      <td>5</td>\n",
       "      <td>3</td>\n",
       "      <td>52</td>\n",
       "      <td>1</td>\n",
       "      <td>99</td>\n",
       "      <td>3</td>\n",
       "      <td>146</td>\n",
       "      <td>2</td>\n",
       "      <td>193</td>\n",
       "      <td>1</td>\n",
       "    </tr>\n",
       "    <tr>\n",
       "      <th>5</th>\n",
       "      <td>6</td>\n",
       "      <td>2</td>\n",
       "      <td>53</td>\n",
       "      <td>2</td>\n",
       "      <td>100</td>\n",
       "      <td>1</td>\n",
       "      <td>147</td>\n",
       "      <td>3</td>\n",
       "      <td>194</td>\n",
       "      <td>3</td>\n",
       "    </tr>\n",
       "    <tr>\n",
       "      <th>6</th>\n",
       "      <td>7</td>\n",
       "      <td>4</td>\n",
       "      <td>54</td>\n",
       "      <td>2</td>\n",
       "      <td>101</td>\n",
       "      <td>1</td>\n",
       "      <td>148</td>\n",
       "      <td>2</td>\n",
       "      <td>195</td>\n",
       "      <td>3</td>\n",
       "    </tr>\n",
       "    <tr>\n",
       "      <th>7</th>\n",
       "      <td>8</td>\n",
       "      <td>4</td>\n",
       "      <td>55</td>\n",
       "      <td>3</td>\n",
       "      <td>102</td>\n",
       "      <td>4</td>\n",
       "      <td>149</td>\n",
       "      <td>4</td>\n",
       "      <td>196</td>\n",
       "      <td>2</td>\n",
       "    </tr>\n",
       "    <tr>\n",
       "      <th>8</th>\n",
       "      <td>9</td>\n",
       "      <td>3</td>\n",
       "      <td>56</td>\n",
       "      <td>3</td>\n",
       "      <td>103</td>\n",
       "      <td>2</td>\n",
       "      <td>150</td>\n",
       "      <td>1</td>\n",
       "      <td>197</td>\n",
       "      <td>4</td>\n",
       "    </tr>\n",
       "    <tr>\n",
       "      <th>9</th>\n",
       "      <td>10</td>\n",
       "      <td>3</td>\n",
       "      <td>57</td>\n",
       "      <td>4</td>\n",
       "      <td>104</td>\n",
       "      <td>3</td>\n",
       "      <td>151</td>\n",
       "      <td>3</td>\n",
       "      <td>198</td>\n",
       "      <td>1</td>\n",
       "    </tr>\n",
       "  </tbody>\n",
       "</table>\n",
       "</div>"
      ],
      "text/plain": [
       "    V  RC  V.1  RC.1  V.2  RC.2  V.3  RC.3  V.4  RC.4\n",
       "0   1   1   48     2   95     4  142     3  189     1\n",
       "1   2   2   49     4   96     2  143     4  190     3\n",
       "2   3   4   50     2   97     1  144     3  191     2\n",
       "3   4   2   51     1   98     3  145     3  192     2\n",
       "4   5   3   52     1   99     3  146     2  193     1\n",
       "5   6   2   53     2  100     1  147     3  194     3\n",
       "6   7   4   54     2  101     1  148     2  195     3\n",
       "7   8   4   55     3  102     4  149     4  196     2\n",
       "8   9   3   56     3  103     2  150     1  197     4\n",
       "9  10   3   57     4  104     3  151     3  198     1"
      ]
     },
     "execution_count": 5,
     "metadata": {},
     "output_type": "execute_result"
    }
   ],
   "source": [
    "raw_answers_df: pd.DataFrame = pd.read_table(f\"../data/raw/type_1/Raw_Cuaderno_{year}_{topic}_0_C_Respuestas.tsv\")\n",
    "raw_answers_df.head(10)"
   ]
  },
  {
   "cell_type": "markdown",
   "metadata": {
    "id": "uFFlTADP8Jo7"
   },
   "source": [
    "# Data Transformation"
   ]
  },
  {
   "cell_type": "markdown",
   "metadata": {},
   "source": [
    "## Exam pdf"
   ]
  },
  {
   "cell_type": "markdown",
   "metadata": {},
   "source": [
    "### Removing white space"
   ]
  },
  {
   "cell_type": "markdown",
   "metadata": {
    "id": "2QavIIOK8Jo7"
   },
   "source": [
    "This section focuses on cleaning the raw text extracted from the PDF exam file, preparing it for further processing. This involves removing extraneous whitespace, handling empty lines, and resetting the DataFrame index.\n",
    "\n",
    "**1. Removing Page Number Artifacts:**\n",
    "\n",
    "The extracted text may contain page number artifacts, which are removed by filtering out rows containing the string \"Página\"."
   ]
  },
  {
   "cell_type": "code",
   "execution_count": 8,
   "metadata": {},
   "outputs": [],
   "source": [
    "raw_exam_df = raw_exam_df.drop([x for x in range(2107, 2115, 1)])\n",
    "raw_exam_df = raw_exam_df[~raw_exam_df[\"text\"].str.contains(\"Página\")]\n",
    "\n",
    "footer_list: list = [f\"- {npag} -\" for npag in range(0,30,1)]\n",
    "\n",
    "for footer in footer_list:\n",
    "    raw_exam_df[\"text\"] = raw_exam_df[\"text\"].str.replace(footer, \"\")"
   ]
  },
  {
   "cell_type": "markdown",
   "metadata": {},
   "source": [
    "**2. Striping Leading/Trailing Whitespaces**\n",
    "\n",
    "Leading and trailing whitespace characters are removed from each text entry using the .str.strip() method."
   ]
  },
  {
   "cell_type": "code",
   "execution_count": 9,
   "metadata": {},
   "outputs": [],
   "source": [
    "raw_exam_df = raw_exam_df[\"text\"].str.strip()"
   ]
  },
  {
   "cell_type": "markdown",
   "metadata": {},
   "source": [
    "**3. Handling Empty Lines**\n",
    "\n",
    "Empty lines, represented as empty strings, are replaced with NaN (Not a Number) values. \n",
    "\n",
    "Then rows containing NaN values, representing empty lines, are removed from the DataFrame using .dropna()"
   ]
  },
  {
   "cell_type": "code",
   "execution_count": 10,
   "metadata": {},
   "outputs": [],
   "source": [
    "raw_exam_df = raw_exam_df.replace(\"\", np.nan)\n",
    "raw_exam_df = raw_exam_df.dropna()"
   ]
  },
  {
   "cell_type": "markdown",
   "metadata": {},
   "source": [
    "**4. Reseting DataFrame Index**\n",
    "\n",
    "The DataFrame index is reset after removing rows, ensuring a contiguous index and dropping the old index."
   ]
  },
  {
   "cell_type": "code",
   "execution_count": 11,
   "metadata": {},
   "outputs": [],
   "source": [
    "raw_exam_df = raw_exam_df.reset_index(drop=True)"
   ]
  },
  {
   "cell_type": "markdown",
   "metadata": {},
   "source": [
    "**5. Displays the first 10 rows of the DataFrame**"
   ]
  },
  {
   "cell_type": "code",
   "execution_count": 12,
   "metadata": {},
   "outputs": [
    {
     "data": {
      "text/plain": [
       "0                                 1. El fosfolamban:\n",
       "1       1. Regula la Ca2+-ATPasa del retículo sarco-\n",
       "2                                          plásmico.\n",
       "3    2. Es un fosfolípido de la membrana plasmática.\n",
       "4        3. Bloquea el receptor de dihidropiridinas.\n",
       "5      4. Activa receptores de rianodina en retículo\n",
       "6                                     sarcoplásmico.\n",
       "7      2. En una neurona, a un potencial de membrana\n",
       "8                                           de 0 mV:\n",
       "9                                1. Salen iones Na+.\n",
       "Name: text, dtype: object"
      ]
     },
     "execution_count": 12,
     "metadata": {},
     "output_type": "execute_result"
    }
   ],
   "source": [
    "raw_exam_df.head(10)"
   ]
  },
  {
   "cell_type": "markdown",
   "metadata": {},
   "source": [
    "### Joining Truncated Lines"
   ]
  },
  {
   "cell_type": "markdown",
   "metadata": {},
   "source": [
    "This section addresses the issue of truncated lines and multi-line questions or options within the extracted exam text. A custom function, `process_multi_line_str`, is used to concatenate these lines, ensuring that each question and option is presented as a single, coherent string.\n",
    "\n",
    "**Function: `process_multi_line_str(df)`**\n",
    "\n",
    "This function iterates through the DataFrame, performing two main tasks:\n",
    "\n",
    "1.  **Joining Truncated Words:**\n",
    "    * It checks if a line ends with a hyphen (\"-\"), indicating a word that has been truncated at the end of a line.\n",
    "    * If a line is truncated, it removes the hyphen and appends the content of the following line to the current line.\n",
    "    * The following line is then removed from the DataFrame, and the index is reset.\n",
    "\n",
    "2.  **Joining Multi-Line Questions/Options:**\n",
    "    * It checks if the first character of the next line can be converted to an integer. This is used as a heuristic to identify the start of a new question or option.\n",
    "    * If the next line does not start with an integer (i.e., it's a continuation of the current question or option), it is appended to the current line, separated by a space.\n",
    "    * The next line is then removed, and the index is reset."
   ]
  },
  {
   "cell_type": "code",
   "execution_count": 13,
   "metadata": {
    "id": "rYZHjn_C8Jo8"
   },
   "outputs": [],
   "source": [
    "def process_multi_line_str(df: pd.DataFrame) -> pd.DataFrame:\n",
    "    \"\"\"Function to handle truncated lines\n",
    "\n",
    "    Args:\n",
    "        df (pd.DataFrame): A pandas dataframe\n",
    "\n",
    "    Returns:\n",
    "        pd.DataFrame: Returns the DataFrame without truncated lines\n",
    "    \"\"\"\n",
    "    i: int = 0\n",
    "    while i < len(df) - 1:\n",
    "        if i < len(df) -1  and df.iloc[i].endswith(\"-\"):\n",
    "            df.iloc[i] = df.iloc[i][:-1] + df.iloc[i + 1]\n",
    "            df = df.drop(i + 1)\n",
    "            df = df.reset_index(drop=True)\n",
    "        else:\n",
    "            i += 1\n",
    "    n: int = 0\n",
    "    while n < len(df) -1:\n",
    "        if n + 1 < len(df):\n",
    "            try:\n",
    "                int(df.iloc[n + 1][0:1])\n",
    "                n += 1\n",
    "            except ValueError:\n",
    "                df.iloc[n] = df.iloc[n] + \" \" + df.iloc[n + 1]\n",
    "                df = df.drop(n +1)\n",
    "                df = df.reset_index(drop= True)\n",
    "        else:\n",
    "            break\n",
    "    return df"
   ]
  },
  {
   "cell_type": "markdown",
   "metadata": {},
   "source": [
    "The process_multi_line_str function is applied to the cleaned raw_exam_df DataFrame, and the resulting DataFrame is stored in exam_df_concat. The first few rows of the concatenated DataFrame are displayed to verify the results."
   ]
  },
  {
   "cell_type": "code",
   "execution_count": 14,
   "metadata": {
    "colab": {
     "base_uri": "https://localhost:8080/",
     "height": 206
    },
    "id": "2v6dmQuM8_v1",
    "outputId": "215f5328-a43d-4bbb-f221-fba6fc10a5c1"
   },
   "outputs": [
    {
     "data": {
      "text/plain": [
       "0                                   1. El fosfolamban:\n",
       "1    1. Regula la Ca2+-ATPasa del retículo sarcoplá...\n",
       "2      2. Es un fosfolípido de la membrana plasmática.\n",
       "3          3. Bloquea el receptor de dihidropiridinas.\n",
       "4    4. Activa receptores de rianodina en retículo ...\n",
       "5    2. En una neurona, a un potencial de membrana ...\n",
       "6                                  1. Salen iones Na+.\n",
       "7                                   2. Salen iones K+.\n",
       "8                                 3. Salen iones Ca2+.\n",
       "9    4. No hay movimiento de iones, por alcanzarse ...\n",
       "Name: text, dtype: object"
      ]
     },
     "execution_count": 14,
     "metadata": {},
     "output_type": "execute_result"
    }
   ],
   "source": [
    "exam_df_concat: pd.DataFrame = process_multi_line_str(raw_exam_df)\n",
    "exam_df_concat.head(10)"
   ]
  },
  {
   "cell_type": "markdown",
   "metadata": {},
   "source": [
    "### Validating and Correction Incorrect Rows"
   ]
  },
  {
   "cell_type": "markdown",
   "metadata": {},
   "source": [
    "This section focuses on validating the number of rows in the cleaned DataFrame against the expected number and correcting any rows that do not conform to the expected format.\n",
    "\n",
    "**1. Calculating Expected and Actual Incorrect Rows:**\n",
    "\n",
    "We calculate the expected number of incorrect rows by subtracting the total expected rows from the current number of rows in the DataFrame. We then identify the actual number of incorrect rows by counting the rows that do not end with a period (\".\"), a colon (\":\") or interrogation sign (\"?\")."
   ]
  },
  {
   "cell_type": "code",
   "execution_count": 15,
   "metadata": {},
   "outputs": [
    {
     "name": "stdout",
     "output_type": "stream",
     "text": [
      "Number of expected incorrect rows = 4\n",
      "Number of rows not ending with '.', ':' or '?' = 17\n",
      "[79, 142, 230, 315, 391, 464, 528, 557, 561, 598, 668, 740, 854, 884, 954, 1033, 1109]\n"
     ]
    }
   ],
   "source": [
    "num_rows_incorrect_expected: int = len(exam_df_concat) - total_num_rows\n",
    "num_rows_incorrect: int = exam_df_concat[~exam_df_concat.str.endswith((\".\", \":\", \"?\"))].count()\n",
    "id_rows_incorrect: list = exam_df_concat[~exam_df_concat.str.endswith((\".\", \":\", \"?\"))].index.to_list()\n",
    "print(f\"Number of expected incorrect rows = {num_rows_incorrect_expected}\")\n",
    "print(f\"Number of rows not ending with '.', ':' or '?' = {num_rows_incorrect}\")\n",
    "print(id_rows_incorrect)"
   ]
  },
  {
   "cell_type": "markdown",
   "metadata": {},
   "source": [
    "**2. Function: print_rows_incorrrect(wrong_id, df):**\n",
    "\n",
    "This function takes a list of incorrect row indices and the DataFrame as input. It then prints the row identified as incorrect along with the 2 rows before and 2 rows after, providing context to help determine how to fix the error."
   ]
  },
  {
   "cell_type": "code",
   "execution_count": 16,
   "metadata": {},
   "outputs": [],
   "source": [
    "def print_rows_incorrrect(wrong_id: list[int], df: pd.DataFrame) -> None:\n",
    "    \"\"\"Print +/- 2 rows for context\n",
    "\n",
    "    Args:\n",
    "        wrong_id (list): Generated list of wrong row_id\n",
    "        df (pd.DataFrame): DataFrame corresponding with the worng_id list\n",
    "    \"\"\"\n",
    "    for wid in wrong_id:\n",
    "        print(f\"Id to fix {wid}:\")\n",
    "        print(df.iloc[wid -2: wid +3])"
   ]
  },
  {
   "cell_type": "markdown",
   "metadata": {},
   "source": [
    "**3. Function: fix_incorrect(num_row, df):**\n",
    "\n",
    "This function takes a list of row indices to fix and the DataFrame. It iterates through the indices in reverse order to avoid index shifting problems. Each incorrect row is concatenated with the row immediately following it, and the subsequent row is then dropped. The DataFrame index is reset after each concatenation."
   ]
  },
  {
   "cell_type": "code",
   "execution_count": 17,
   "metadata": {},
   "outputs": [],
   "source": [
    "def fix_incorrect(num_row: list[int], df: pd.DataFrame) -> pd.DataFrame:\n",
    "    \"\"\"Fix the incorrect rows in the DataFrame\n",
    "\n",
    "    Args:\n",
    "        num_row (list): List of ids to fix\n",
    "        df (pd.DataFrame): The DataFrame to fix\n",
    "\n",
    "    Returns:\n",
    "        pd.DataFrame: Fixed\n",
    "    \"\"\"\n",
    "    num_row: list = sorted(num_row, reverse=True)\n",
    "    for n in num_row:\n",
    "        df.iloc[n] = df.iloc[n] + df.iloc[n + 1]\n",
    "        df = df.drop(n + 1)\n",
    "        df = df.reset_index(drop= True)\n",
    "    return df"
   ]
  },
  {
   "cell_type": "markdown",
   "metadata": {},
   "source": [
    "**4. Validation and Correction Logic:**\n",
    "\n",
    "We compare the expected and actual number of incorrect rows. If they match, we proceed to fix the incorrect rows using the `fix_incorrect` function. Otherwise, we print the context of the incorrect rows and raise a warning, indicating that manual inspection and correction are required."
   ]
  },
  {
   "cell_type": "code",
   "execution_count": 19,
   "metadata": {},
   "outputs": [
    {
     "name": "stdout",
     "output_type": "stream",
     "text": [
      "Id to fix 79:\n",
      "77                          2. Eleva la colesterolemia.\n",
      "78           3. Se secreta por células de la granulosa.\n",
      "79    4. Retrasa el cierre de las placas epifisarias...\n",
      "80                  17. La hormona antidiurética (ADH):\n",
      "81             1. Aumenta la reabsorción renal de agua.\n",
      "Name: text, dtype: object\n",
      "Id to fix 142:\n",
      "140             29. El CO2 se transporta en plasma:\n",
      "141             1. Disuelto como gas, en un 80-90%.\n",
      "142    2. Como ácido carbónico y bicarbonato, en un\n",
      "143                                         60-70%.\n",
      "144          3. Exclusivamente unido a hemoglobina.\n",
      "Name: text, dtype: object\n",
      "Id to fix 230:\n",
      "228    2. Gradiente de H+ establecido por la ATPasaH+...\n",
      "229                                3. Hidrólisis de ATP.\n",
      "230    4. Hidrólisis de GTP. B-5-0-00014 FSE BIOLOGÍA...\n",
      "231    47. El receptor de la manosa-6-fosfato viaja d...\n",
      "232                                        1. Lisosomas.\n",
      "Name: text, dtype: object\n",
      "Id to fix 315:\n",
      "313                              2. Albergan osteocitos.\n",
      "314           3. Albergan células de revestimiento óseo.\n",
      "315    4. Se forman por acción de los osteoclastos. B...\n",
      "316    64. Los miocitos cardíacos, a diferencia de ot...\n",
      "317                                   1. Un solo núcleo.\n",
      "Name: text, dtype: object\n",
      "Id to fix 391:\n",
      "389                                     3. Leucotrienos.\n",
      "390                                             4. IL-6.\n",
      "391    79. ¿Qué células del sistema inmunitario innat...\n",
      "392                                       1. Células NK.\n",
      "393                                       2. Mastocitos.\n",
      "Name: text, dtype: object\n",
      "Id to fix 464:\n",
      "462                                1. Exclusión alélica.\n",
      "463                           2. Hipermutación somática.\n",
      "464    3. Recombinación somática. B-5-0-00014 FSE BIO...\n",
      "465                          4. Reordenamiento genético.\n",
      "466    94. Un paciente sufre espondilitis anquilosant...\n",
      "Name: text, dtype: object\n",
      "Id to fix 528:\n",
      "526    106. Se toma una muestra aleatoria de 15 perso...\n",
      "527                                         1. Wilcoxon.\n",
      "528    2. Cochran. B-5-0-00014 FSE BIOLOGÍA 2018/19 i...\n",
      "529                                     3. Chi-cuadrado.\n",
      "530                                4. U de Mann-Whitney.\n",
      "Name: text, dtype: object\n",
      "Id to fix 557:\n",
      "555    4. Que la prueba tendrá un máximo del 5% de fa...\n",
      "556        112. La expresión c.954T>G hace referencia a:\n",
      "557      1. Una sustitución del nucleótido T en posición\n",
      "558           954 de la secuencia codificante por una G.\n",
      "559    2. Una sustitución del aminoácido T (treonina)...\n",
      "Name: text, dtype: object\n",
      "Id to fix 561:\n",
      "559    2. Una sustitución del aminoácido T (treonina)...\n",
      "560    3. Una inserción del nucleótido G a continuaci...\n",
      "561      4. Una sustitución del nucleótido T en posición\n",
      "562               954 de la secuencia del gen por una G.\n",
      "563    113. ¿Qué fórmula cromosómica corresponde con ...\n",
      "Name: text, dtype: object\n",
      "Id to fix 598:\n",
      "596                                             3. 3p26.\n",
      "597                                              4. 5q3.\n",
      "598    120. NO permite detectar una mutación monogéni...\n",
      "599                                             1. FISH.\n",
      "600                             2. Micromatrices de SNP.\n",
      "Name: text, dtype: object\n",
      "Id to fix 668:\n",
      "666                                      3. 21, 13 y 18.\n",
      "667                                          4. 21 y 18.\n",
      "668    134. En una población en equilibrio de HardyWe...\n",
      "669    1. Siempre entre los que tienen el mismo genot...\n",
      "670              2. En función de la eficacia biológica.\n",
      "Name: text, dtype: object\n",
      "Id to fix 740:\n",
      "738    148. ¿Cuántas zonas con poder tamponante prese...\n",
      "739                                              1. Una.\n",
      "740    2. Dos. B-5-0-00014 FSE BIOLOGÍA 2018/19 i#\u000e\u0016\u000e...\n",
      "741                                             3. Tres.\n",
      "742                                           4. Cuatro.\n",
      "Name: text, dtype: object\n",
      "Id to fix 854:\n",
      "852                                         4. Ribozima.\n",
      "853    171. La subunidad delta70 de la RNA polimerasa...\n",
      "854         1. Es un complejo macromolecular formado por\n",
      "855                                      70 subunidades.\n",
      "856    2. Es una proteína que se une a cualquier DNA ...\n",
      "Name: text, dtype: object\n",
      "Id to fix 884:\n",
      "882        3. Se requieren didesoxinucleótidos (ddNTPs).\n",
      "883            4. Se requiere la acción de una helicasa.\n",
      "884    177. Las cianobacterias: B-5-0-00014 FSE BIOLO...\n",
      "885                              1. Tienen cloroplastos.\n",
      "886                2. Realizan fotosíntesis anoxigénica.\n",
      "Name: text, dtype: object\n",
      "Id to fix 954:\n",
      "952                                   3. Mueller-Hinton.\n",
      "953                       4. BHI (agar cerebro corazón).\n",
      "954    191. El complejo calcio-ácido dipicolínico: B-...\n",
      "955    1. Sirve para el almacenamiento de carbono en ...\n",
      "956    2. Es característico de la endospora bacterian...\n",
      "Name: text, dtype: object\n",
      "Id to fix 1033:\n",
      "1031      2. Las proteínas hemaglutinina y neuraminidasa.\n",
      "1032                                    3. La proteína G.\n",
      "1033    4. La nucleoproteína NP y la proteína de la ma...\n",
      "1034    207. La vacuna triple vírica del calendario va...\n",
      "1035              1. Rotavirus, adenovirus y coronavirus.\n",
      "Name: text, dtype: object\n",
      "Id to fix 1109:\n",
      "1107                            3. Intestinal y cerebral.\n",
      "1108                                 4. Renal y cerebral.\n",
      "1109    222. Para el análisis cualitativo de azúcares ...\n",
      "1110                                          1. Fehling.\n",
      "1111                                            2. Edman.\n",
      "Name: text, dtype: object\n"
     ]
    }
   ],
   "source": [
    "if num_rows_incorrect_expected == num_rows_incorrect:\n",
    "    exam_df_fixed = fix_incorrect(id_rows_incorrect, exam_df_concat)\n",
    "    df_correct_rows: bool = len(exam_df_fixed) == num_rows_incorrect_expected\n",
    "else:\n",
    "    print_rows_incorrrect(id_rows_incorrect, exam_df_concat)\n",
    "    # raise Warning(\"More incorrect rows that expected, uncomment the lines below and add ids to the list, and comment this line\")\n",
    "    exam_df_concat.iloc[79] = \"4. Retrasa el cierre de las placas epifisarias\"\n",
    "    exam_df_concat.iloc[159] = \"3. La presión hidrostática en la cápsula de Bowman\"\n",
    "    exam_df_concat.iloc[230] = \"4. Hidrólisis de GTP\"\n",
    "    exam_df_concat.iloc[315] = \"4. Se forman por acción de los osteoclastos\"\n",
    "    exam_df_concat.iloc[391] = \"79. ¿Qué células del sistema inmunitario innato NO tienen origen mieloide?\"\n",
    "    exam_df_concat.iloc[464] = \"3. Recombinación somática\"\n",
    "    exam_df_concat.iloc[528] = \"2. Cocharan.\"\n",
    "    exam_df_concat.iloc[598] = \"120. NO permite detectar una mutación monogénica:\"\n",
    "    exam_df_concat.iloc[668] = \"134. En una población en equilibrio de Hardy Weinberg para cierto locus, los apareamientos entre individuos se producen:\"\n",
    "    exam_df_concat.iloc[740] = \"2. Dos.\"\n",
    "    exam_df_concat.iloc[818] = \"164. El metotrexato es un análogo del dihidrofolato que inhibe la síntesis de:\"\n",
    "    exam_df_concat.iloc[884] = \"177. Las cianobacterias:\"\n",
    "    exam_df_concat.iloc[954] = \"191. El complejo calcio-ácido dipicolínico:\"\n",
    "    exam_df_concat.iloc[1033] = \"4. La nucleoproteína NP y la proteína de matriz M1\"\n",
    "    exam_df_concat.iloc[1109] = \"222. Para el análisis cualitativo de azúcares reductores de emplea la reacción de:\"\n",
    "    rows_fix: list[int] = [142, 557, 561, 854]\n",
    "    exam_df_fixed: pd.DataFrame = fix_incorrect(rows_fix, exam_df_concat)"
   ]
  },
  {
   "cell_type": "markdown",
   "metadata": {},
   "source": [
    "**5. Verification of Corrected Rows:**\n",
    "\n",
    "We print the expected total number of rows and the actual number of rows in the corrected DataFrame to verify the results of the correction process."
   ]
  },
  {
   "cell_type": "code",
   "execution_count": 20,
   "metadata": {},
   "outputs": [
    {
     "name": "stdout",
     "output_type": "stream",
     "text": [
      "Correct number of rows = 1175\n",
      "1175\n"
     ]
    }
   ],
   "source": [
    "print(f\"Correct number of rows = {total_num_rows}\")\n",
    "print(exam_df_fixed.shape[0])"
   ]
  },
  {
   "cell_type": "markdown",
   "metadata": {},
   "source": [
    "### Pivoting the DataFrame\n",
    "\n",
    "This section focuses on transforming the cleaned exam data into a structured format suitable for analysis. The DataFrame is pivoted to create columns for each question and its corresponding options.\n",
    "\n",
    "**1. Preparing the DataFrame for Pivoting:**\n",
    "\n",
    "The `exam_df_fixed` Series is converted to a DataFrame, and a 'group' column is created to identify each question and its options. An 'option_num' column is then generated to enumerate the options within each group.\n"
   ]
  },
  {
   "cell_type": "code",
   "execution_count": 21,
   "metadata": {},
   "outputs": [],
   "source": [
    "exam_df_fixed = exam_df_fixed.to_frame()\n",
    "groups: pd.Series = pd.Series((exam_df_fixed.index // (num_questions+1)) +1)\n",
    "exam_df_fixed[\"group\"] = groups  \n",
    "exam_df_fixed[\"option_num\"] = exam_df_fixed.groupby(\"group\").cumcount() + 1"
   ]
  },
  {
   "cell_type": "markdown",
   "metadata": {},
   "source": [
    "**2. Pivoting the DataFrame:**\n",
    "\n",
    "The DataFrame is pivoted using the 'group' column as the index, the 'option_num' column as the columns, and the 'text' column as the values. The index is then reset."
   ]
  },
  {
   "cell_type": "code",
   "execution_count": 22,
   "metadata": {},
   "outputs": [],
   "source": [
    "exam_df_pivot: pd.DataFrame = exam_df_fixed.pivot(index=\"group\", columns=\"option_num\", values=\"text\")\n",
    "exam_df_pivot = exam_df_pivot.reset_index()"
   ]
  },
  {
   "cell_type": "markdown",
   "metadata": {},
   "source": [
    "**3. Renaming Columns:**\n",
    "\n",
    "The columns are renamed to more descriptive names, such as \"Question\", \"Option_1\", \"Option_2\", etc."
   ]
  },
  {
   "cell_type": "code",
   "execution_count": 23,
   "metadata": {},
   "outputs": [],
   "source": [
    "key_list: list = [x for x in range(1, num_questions+2, 1)]\n",
    "val_list: list = [\"Question\"] + [f\"Option_{x}\" for x in range(1, 4 + 1, 1)]\n",
    "\n",
    "exam_df_pivot = exam_df_pivot.rename_axis(None, axis=1).rename(columns=dict(zip(key_list, val_list)))"
   ]
  },
  {
   "cell_type": "markdown",
   "metadata": {},
   "source": [
    "**4. Dropping the 'group' Column:**\n",
    "\n",
    "The 'group' column is dropped as it is no longer needed"
   ]
  },
  {
   "cell_type": "code",
   "execution_count": 24,
   "metadata": {},
   "outputs": [],
   "source": [
    "exam_df_pivot = exam_df_pivot.drop(columns=[\"group\"])"
   ]
  },
  {
   "cell_type": "markdown",
   "metadata": {},
   "source": [
    "**5. Displaying the Pivoted DataFrame:**\n",
    "\n",
    "The first 10 rows of the pivoted DataFrame are displayed to verify the results of the transformation."
   ]
  },
  {
   "cell_type": "code",
   "execution_count": 25,
   "metadata": {},
   "outputs": [
    {
     "data": {
      "application/vnd.microsoft.datawrangler.viewer.v0+json": {
       "columns": [
        {
         "name": "index",
         "rawType": "int64",
         "type": "integer"
        },
        {
         "name": "Question",
         "rawType": "object",
         "type": "string"
        },
        {
         "name": "Option_1",
         "rawType": "object",
         "type": "string"
        },
        {
         "name": "Option_2",
         "rawType": "object",
         "type": "string"
        },
        {
         "name": "Option_3",
         "rawType": "object",
         "type": "string"
        },
        {
         "name": "Option_4",
         "rawType": "object",
         "type": "string"
        }
       ],
       "conversionMethod": "pd.DataFrame",
       "ref": "b81503e8-fcea-40cd-98cb-ebf1baaf346f",
       "rows": [
        [
         "0",
         "1. El fosfolamban:",
         "1. Regula la Ca2+-ATPasa del retículo sarcoplásmico.",
         "2. Es un fosfolípido de la membrana plasmática.",
         "3. Bloquea el receptor de dihidropiridinas.",
         "4. Activa receptores de rianodina en retículo sarcoplásmico."
        ],
        [
         "1",
         "2. En una neurona, a un potencial de membrana de 0 mV:",
         "1. Salen iones Na+.",
         "2. Salen iones K+.",
         "3. Salen iones Ca2+.",
         "4. No hay movimiento de iones, por alcanzarse el equilibrio eléctrico."
        ],
        [
         "2",
         "3. Proteína de la membrana plasmática implicada en exocitosis sináptica:",
         "1. Sinaptobrevina.",
         "2. NSF (factor sensible a n-etilmaleimida).",
         "3. Sinaptotagmina.",
         "4. Sintaxina."
        ],
        [
         "3",
         "4. La glucosa se transporta al interior de las células por:",
         "1. Difusión simple.",
         "2. Difusión facilitada.",
         "3. Transporte activo primario.",
         "4. Endocitosis."
        ],
        [
         "4",
         "5. Los receptores para la acetilcolina de tipo muscarínico:",
         "1. Son canales iónicos.",
         "2. Generan potenciales sinápticos rápidos.",
         "3. Están asociados a proteínas G.",
         "4. Se localizan en el músculo estriado esquelético."
        ],
        [
         "5",
         "6. Los receptores que informan de la posición estática de la cabeza están en:",
         "1. El oído medio.",
         "2. El utrículo y el sáculo.",
         "3. Los canales semicirculares.",
         "4. La cóclea."
        ],
        [
         "6",
         "7. Las fibras de los cordones posteriores (dorsales):",
         "1. Proyectan al tálamo ipsilateral.",
         "2. Son fibras motoras troncoencefálicas.",
         "3. Se originan en neuronas espinales.",
         "4. Envían información táctil discriminativa a núcleos bulbares."
        ],
        [
         "7",
         "8. Los receptores T2R gustativos responden a estímulos asociados al sabor:",
         "1. Ácido.",
         "2. Umami.",
         "3. Dulce.",
         "4. Amargo."
        ],
        [
         "8",
         "9. La LTP sináptica (potenciación a largo plazo) está mediada por receptores:",
         "1. GABAA.",
         "2. Nicotínicos.",
         "3. NMDA.",
         "4. Adrenérgicos."
        ],
        [
         "9",
         "10. El núcleo supraquiasmático se localiza en:",
         "1. Bulbo raquídeo.",
         "2. Cerebelo.",
         "3. Hipotálamo.",
         "4. Ganglios basales."
        ]
       ],
       "shape": {
        "columns": 5,
        "rows": 10
       }
      },
      "text/html": [
       "<div>\n",
       "<style scoped>\n",
       "    .dataframe tbody tr th:only-of-type {\n",
       "        vertical-align: middle;\n",
       "    }\n",
       "\n",
       "    .dataframe tbody tr th {\n",
       "        vertical-align: top;\n",
       "    }\n",
       "\n",
       "    .dataframe thead th {\n",
       "        text-align: right;\n",
       "    }\n",
       "</style>\n",
       "<table border=\"1\" class=\"dataframe\">\n",
       "  <thead>\n",
       "    <tr style=\"text-align: right;\">\n",
       "      <th></th>\n",
       "      <th>Question</th>\n",
       "      <th>Option_1</th>\n",
       "      <th>Option_2</th>\n",
       "      <th>Option_3</th>\n",
       "      <th>Option_4</th>\n",
       "    </tr>\n",
       "  </thead>\n",
       "  <tbody>\n",
       "    <tr>\n",
       "      <th>0</th>\n",
       "      <td>1. El fosfolamban:</td>\n",
       "      <td>1. Regula la Ca2+-ATPasa del retículo sarcoplá...</td>\n",
       "      <td>2. Es un fosfolípido de la membrana plasmática.</td>\n",
       "      <td>3. Bloquea el receptor de dihidropiridinas.</td>\n",
       "      <td>4. Activa receptores de rianodina en retículo ...</td>\n",
       "    </tr>\n",
       "    <tr>\n",
       "      <th>1</th>\n",
       "      <td>2. En una neurona, a un potencial de membrana ...</td>\n",
       "      <td>1. Salen iones Na+.</td>\n",
       "      <td>2. Salen iones K+.</td>\n",
       "      <td>3. Salen iones Ca2+.</td>\n",
       "      <td>4. No hay movimiento de iones, por alcanzarse ...</td>\n",
       "    </tr>\n",
       "    <tr>\n",
       "      <th>2</th>\n",
       "      <td>3. Proteína de la membrana plasmática implicad...</td>\n",
       "      <td>1. Sinaptobrevina.</td>\n",
       "      <td>2. NSF (factor sensible a n-etilmaleimida).</td>\n",
       "      <td>3. Sinaptotagmina.</td>\n",
       "      <td>4. Sintaxina.</td>\n",
       "    </tr>\n",
       "    <tr>\n",
       "      <th>3</th>\n",
       "      <td>4. La glucosa se transporta al interior de las...</td>\n",
       "      <td>1. Difusión simple.</td>\n",
       "      <td>2. Difusión facilitada.</td>\n",
       "      <td>3. Transporte activo primario.</td>\n",
       "      <td>4. Endocitosis.</td>\n",
       "    </tr>\n",
       "    <tr>\n",
       "      <th>4</th>\n",
       "      <td>5. Los receptores para la acetilcolina de tipo...</td>\n",
       "      <td>1. Son canales iónicos.</td>\n",
       "      <td>2. Generan potenciales sinápticos rápidos.</td>\n",
       "      <td>3. Están asociados a proteínas G.</td>\n",
       "      <td>4. Se localizan en el músculo estriado esquelé...</td>\n",
       "    </tr>\n",
       "    <tr>\n",
       "      <th>5</th>\n",
       "      <td>6. Los receptores que informan de la posición ...</td>\n",
       "      <td>1. El oído medio.</td>\n",
       "      <td>2. El utrículo y el sáculo.</td>\n",
       "      <td>3. Los canales semicirculares.</td>\n",
       "      <td>4. La cóclea.</td>\n",
       "    </tr>\n",
       "    <tr>\n",
       "      <th>6</th>\n",
       "      <td>7. Las fibras de los cordones posteriores (dor...</td>\n",
       "      <td>1. Proyectan al tálamo ipsilateral.</td>\n",
       "      <td>2. Son fibras motoras troncoencefálicas.</td>\n",
       "      <td>3. Se originan en neuronas espinales.</td>\n",
       "      <td>4. Envían información táctil discriminativa a ...</td>\n",
       "    </tr>\n",
       "    <tr>\n",
       "      <th>7</th>\n",
       "      <td>8. Los receptores T2R gustativos responden a e...</td>\n",
       "      <td>1. Ácido.</td>\n",
       "      <td>2. Umami.</td>\n",
       "      <td>3. Dulce.</td>\n",
       "      <td>4. Amargo.</td>\n",
       "    </tr>\n",
       "    <tr>\n",
       "      <th>8</th>\n",
       "      <td>9. La LTP sináptica (potenciación a largo plaz...</td>\n",
       "      <td>1. GABAA.</td>\n",
       "      <td>2. Nicotínicos.</td>\n",
       "      <td>3. NMDA.</td>\n",
       "      <td>4. Adrenérgicos.</td>\n",
       "    </tr>\n",
       "    <tr>\n",
       "      <th>9</th>\n",
       "      <td>10. El núcleo supraquiasmático se localiza en:</td>\n",
       "      <td>1. Bulbo raquídeo.</td>\n",
       "      <td>2. Cerebelo.</td>\n",
       "      <td>3. Hipotálamo.</td>\n",
       "      <td>4. Ganglios basales.</td>\n",
       "    </tr>\n",
       "  </tbody>\n",
       "</table>\n",
       "</div>"
      ],
      "text/plain": [
       "                                            Question  \\\n",
       "0                                 1. El fosfolamban:   \n",
       "1  2. En una neurona, a un potencial de membrana ...   \n",
       "2  3. Proteína de la membrana plasmática implicad...   \n",
       "3  4. La glucosa se transporta al interior de las...   \n",
       "4  5. Los receptores para la acetilcolina de tipo...   \n",
       "5  6. Los receptores que informan de la posición ...   \n",
       "6  7. Las fibras de los cordones posteriores (dor...   \n",
       "7  8. Los receptores T2R gustativos responden a e...   \n",
       "8  9. La LTP sináptica (potenciación a largo plaz...   \n",
       "9     10. El núcleo supraquiasmático se localiza en:   \n",
       "\n",
       "                                            Option_1  \\\n",
       "0  1. Regula la Ca2+-ATPasa del retículo sarcoplá...   \n",
       "1                                1. Salen iones Na+.   \n",
       "2                                 1. Sinaptobrevina.   \n",
       "3                                1. Difusión simple.   \n",
       "4                            1. Son canales iónicos.   \n",
       "5                                  1. El oído medio.   \n",
       "6                1. Proyectan al tálamo ipsilateral.   \n",
       "7                                          1. Ácido.   \n",
       "8                                          1. GABAA.   \n",
       "9                                 1. Bulbo raquídeo.   \n",
       "\n",
       "                                          Option_2  \\\n",
       "0  2. Es un fosfolípido de la membrana plasmática.   \n",
       "1                               2. Salen iones K+.   \n",
       "2      2. NSF (factor sensible a n-etilmaleimida).   \n",
       "3                          2. Difusión facilitada.   \n",
       "4       2. Generan potenciales sinápticos rápidos.   \n",
       "5                      2. El utrículo y el sáculo.   \n",
       "6         2. Son fibras motoras troncoencefálicas.   \n",
       "7                                        2. Umami.   \n",
       "8                                  2. Nicotínicos.   \n",
       "9                                     2. Cerebelo.   \n",
       "\n",
       "                                      Option_3  \\\n",
       "0  3. Bloquea el receptor de dihidropiridinas.   \n",
       "1                         3. Salen iones Ca2+.   \n",
       "2                           3. Sinaptotagmina.   \n",
       "3               3. Transporte activo primario.   \n",
       "4            3. Están asociados a proteínas G.   \n",
       "5               3. Los canales semicirculares.   \n",
       "6        3. Se originan en neuronas espinales.   \n",
       "7                                    3. Dulce.   \n",
       "8                                     3. NMDA.   \n",
       "9                               3. Hipotálamo.   \n",
       "\n",
       "                                            Option_4  \n",
       "0  4. Activa receptores de rianodina en retículo ...  \n",
       "1  4. No hay movimiento de iones, por alcanzarse ...  \n",
       "2                                      4. Sintaxina.  \n",
       "3                                    4. Endocitosis.  \n",
       "4  4. Se localizan en el músculo estriado esquelé...  \n",
       "5                                      4. La cóclea.  \n",
       "6  4. Envían información táctil discriminativa a ...  \n",
       "7                                         4. Amargo.  \n",
       "8                                   4. Adrenérgicos.  \n",
       "9                               4. Ganglios basales.  "
      ]
     },
     "execution_count": 25,
     "metadata": {},
     "output_type": "execute_result"
    }
   ],
   "source": [
    "exam_df_pivot.head(10)"
   ]
  },
  {
   "cell_type": "markdown",
   "metadata": {},
   "source": [
    "## Answers tsv\n",
    "\n",
    "This section focuses on cleaning and consolidating the answer key data from the TSV file. The original data contains duplicate columns, which are processed and combined into a single, clean DataFrame.\n",
    "\n",
    "**1. Defining Column Lists:**\n",
    "\n",
    "We define lists containing the original column names and the duplicate column names."
   ]
  },
  {
   "cell_type": "code",
   "execution_count": 26,
   "metadata": {},
   "outputs": [],
   "source": [
    "original_col: list[str] = [\"V\", \"RC\"]\n",
    "duplicate_cols: list[str] = [\"V.1\", \"RC.1\", \"V.2\", \"RC.2\", \"V.3\", \"RC.3\", \"V.4\", \"RC.4\"]"
   ]
  },
  {
   "cell_type": "markdown",
   "metadata": {},
   "source": [
    "**2. Processing Duplicate Columns:**\n",
    "\n",
    "We iterate through the duplicate_cols list in pairs, extracting the corresponding columns, renaming them to the original column names, and appending them to a list of DataFrames."
   ]
  },
  {
   "cell_type": "code",
   "execution_count": 27,
   "metadata": {},
   "outputs": [],
   "source": [
    "answers_df_list: list[pd.DataFrame] = [raw_answers_df[original_col]]\n",
    "\n",
    "for i in range(0, len(duplicate_cols), 2):\n",
    "    pair_cols: list = duplicate_cols[i:i+2]\n",
    "    df_pair_col: pd.DataFrame = raw_answers_df[pair_cols].rename(columns={pair_cols[0]: \"V\", pair_cols[1]: \"RC\"})\n",
    "    answers_df_list.append(df_pair_col)"
   ]
  },
  {
   "cell_type": "markdown",
   "metadata": {},
   "source": [
    "**3. Concatenating DataFrames:**\n",
    "\n",
    "The list of DataFrames is concatenated into a single DataFrame, ignoring the original index."
   ]
  },
  {
   "cell_type": "code",
   "execution_count": 28,
   "metadata": {},
   "outputs": [],
   "source": [
    "answers_df_clean: pd.DataFrame = pd.concat(answers_df_list, ignore_index=True)"
   ]
  },
  {
   "cell_type": "markdown",
   "metadata": {},
   "source": [
    "**4. Displaying the Cleaned DataFrame:**\n",
    "\n",
    "The cleaned DataFrame is printed to verify the results of the consolidation process."
   ]
  },
  {
   "cell_type": "code",
   "execution_count": 29,
   "metadata": {},
   "outputs": [
    {
     "data": {
      "application/vnd.microsoft.datawrangler.viewer.v0+json": {
       "columns": [
        {
         "name": "index",
         "rawType": "int64",
         "type": "integer"
        },
        {
         "name": "V",
         "rawType": "int64",
         "type": "integer"
        },
        {
         "name": "RC",
         "rawType": "int64",
         "type": "integer"
        }
       ],
       "conversionMethod": "pd.DataFrame",
       "ref": "2c56586f-86ab-4d35-ba33-d6338af9d495",
       "rows": [
        [
         "0",
         "1",
         "1"
        ],
        [
         "1",
         "2",
         "2"
        ],
        [
         "2",
         "3",
         "4"
        ],
        [
         "3",
         "4",
         "2"
        ],
        [
         "4",
         "5",
         "3"
        ],
        [
         "5",
         "6",
         "2"
        ],
        [
         "6",
         "7",
         "4"
        ],
        [
         "7",
         "8",
         "4"
        ],
        [
         "8",
         "9",
         "3"
        ],
        [
         "9",
         "10",
         "3"
        ]
       ],
       "shape": {
        "columns": 2,
        "rows": 10
       }
      },
      "text/html": [
       "<div>\n",
       "<style scoped>\n",
       "    .dataframe tbody tr th:only-of-type {\n",
       "        vertical-align: middle;\n",
       "    }\n",
       "\n",
       "    .dataframe tbody tr th {\n",
       "        vertical-align: top;\n",
       "    }\n",
       "\n",
       "    .dataframe thead th {\n",
       "        text-align: right;\n",
       "    }\n",
       "</style>\n",
       "<table border=\"1\" class=\"dataframe\">\n",
       "  <thead>\n",
       "    <tr style=\"text-align: right;\">\n",
       "      <th></th>\n",
       "      <th>V</th>\n",
       "      <th>RC</th>\n",
       "    </tr>\n",
       "  </thead>\n",
       "  <tbody>\n",
       "    <tr>\n",
       "      <th>0</th>\n",
       "      <td>1</td>\n",
       "      <td>1</td>\n",
       "    </tr>\n",
       "    <tr>\n",
       "      <th>1</th>\n",
       "      <td>2</td>\n",
       "      <td>2</td>\n",
       "    </tr>\n",
       "    <tr>\n",
       "      <th>2</th>\n",
       "      <td>3</td>\n",
       "      <td>4</td>\n",
       "    </tr>\n",
       "    <tr>\n",
       "      <th>3</th>\n",
       "      <td>4</td>\n",
       "      <td>2</td>\n",
       "    </tr>\n",
       "    <tr>\n",
       "      <th>4</th>\n",
       "      <td>5</td>\n",
       "      <td>3</td>\n",
       "    </tr>\n",
       "    <tr>\n",
       "      <th>5</th>\n",
       "      <td>6</td>\n",
       "      <td>2</td>\n",
       "    </tr>\n",
       "    <tr>\n",
       "      <th>6</th>\n",
       "      <td>7</td>\n",
       "      <td>4</td>\n",
       "    </tr>\n",
       "    <tr>\n",
       "      <th>7</th>\n",
       "      <td>8</td>\n",
       "      <td>4</td>\n",
       "    </tr>\n",
       "    <tr>\n",
       "      <th>8</th>\n",
       "      <td>9</td>\n",
       "      <td>3</td>\n",
       "    </tr>\n",
       "    <tr>\n",
       "      <th>9</th>\n",
       "      <td>10</td>\n",
       "      <td>3</td>\n",
       "    </tr>\n",
       "  </tbody>\n",
       "</table>\n",
       "</div>"
      ],
      "text/plain": [
       "    V  RC\n",
       "0   1   1\n",
       "1   2   2\n",
       "2   3   4\n",
       "3   4   2\n",
       "4   5   3\n",
       "5   6   2\n",
       "6   7   4\n",
       "7   8   4\n",
       "8   9   3\n",
       "9  10   3"
      ]
     },
     "execution_count": 29,
     "metadata": {},
     "output_type": "execute_result"
    }
   ],
   "source": [
    "answers_df_clean.head(10)"
   ]
  },
  {
   "cell_type": "markdown",
   "metadata": {},
   "source": [
    "## Joining the DataFrames\n",
    "\n",
    "This section focuses on merging the processed exam questions DataFrame with the cleaned answers DataFrame, performing final data cleaning, and verifying the integrity of the joined data.\n",
    "\n",
    "**1. Joining the DataFrames:**\n",
    "\n",
    "The pivoted exam questions DataFrame (`exam_df_pivot`) and the cleaned answers DataFrame (`answers_df_clean`) are joined horizontally using `pd.concat`. The 'V0' column, which represents the question number from the answers DataFrame, is then dropped. The first 10 rows of the joined DataFrame are displayed."
   ]
  },
  {
   "cell_type": "code",
   "execution_count": 30,
   "metadata": {},
   "outputs": [
    {
     "data": {
      "application/vnd.microsoft.datawrangler.viewer.v0+json": {
       "columns": [
        {
         "name": "index",
         "rawType": "int64",
         "type": "integer"
        },
        {
         "name": "Question",
         "rawType": "object",
         "type": "string"
        },
        {
         "name": "Option_1",
         "rawType": "object",
         "type": "string"
        },
        {
         "name": "Option_2",
         "rawType": "object",
         "type": "string"
        },
        {
         "name": "Option_3",
         "rawType": "object",
         "type": "string"
        },
        {
         "name": "Option_4",
         "rawType": "object",
         "type": "string"
        },
        {
         "name": "RC",
         "rawType": "int64",
         "type": "integer"
        }
       ],
       "conversionMethod": "pd.DataFrame",
       "ref": "dc06fc18-41f1-4361-a255-7ca3765f30c0",
       "rows": [
        [
         "0",
         "1. El fosfolamban:",
         "1. Regula la Ca2+-ATPasa del retículo sarcoplásmico.",
         "2. Es un fosfolípido de la membrana plasmática.",
         "3. Bloquea el receptor de dihidropiridinas.",
         "4. Activa receptores de rianodina en retículo sarcoplásmico.",
         "1"
        ],
        [
         "1",
         "2. En una neurona, a un potencial de membrana de 0 mV:",
         "1. Salen iones Na+.",
         "2. Salen iones K+.",
         "3. Salen iones Ca2+.",
         "4. No hay movimiento de iones, por alcanzarse el equilibrio eléctrico.",
         "2"
        ],
        [
         "2",
         "3. Proteína de la membrana plasmática implicada en exocitosis sináptica:",
         "1. Sinaptobrevina.",
         "2. NSF (factor sensible a n-etilmaleimida).",
         "3. Sinaptotagmina.",
         "4. Sintaxina.",
         "4"
        ],
        [
         "3",
         "4. La glucosa se transporta al interior de las células por:",
         "1. Difusión simple.",
         "2. Difusión facilitada.",
         "3. Transporte activo primario.",
         "4. Endocitosis.",
         "2"
        ],
        [
         "4",
         "5. Los receptores para la acetilcolina de tipo muscarínico:",
         "1. Son canales iónicos.",
         "2. Generan potenciales sinápticos rápidos.",
         "3. Están asociados a proteínas G.",
         "4. Se localizan en el músculo estriado esquelético.",
         "3"
        ],
        [
         "5",
         "6. Los receptores que informan de la posición estática de la cabeza están en:",
         "1. El oído medio.",
         "2. El utrículo y el sáculo.",
         "3. Los canales semicirculares.",
         "4. La cóclea.",
         "2"
        ],
        [
         "6",
         "7. Las fibras de los cordones posteriores (dorsales):",
         "1. Proyectan al tálamo ipsilateral.",
         "2. Son fibras motoras troncoencefálicas.",
         "3. Se originan en neuronas espinales.",
         "4. Envían información táctil discriminativa a núcleos bulbares.",
         "4"
        ],
        [
         "7",
         "8. Los receptores T2R gustativos responden a estímulos asociados al sabor:",
         "1. Ácido.",
         "2. Umami.",
         "3. Dulce.",
         "4. Amargo.",
         "4"
        ],
        [
         "8",
         "9. La LTP sináptica (potenciación a largo plazo) está mediada por receptores:",
         "1. GABAA.",
         "2. Nicotínicos.",
         "3. NMDA.",
         "4. Adrenérgicos.",
         "3"
        ],
        [
         "9",
         "10. El núcleo supraquiasmático se localiza en:",
         "1. Bulbo raquídeo.",
         "2. Cerebelo.",
         "3. Hipotálamo.",
         "4. Ganglios basales.",
         "3"
        ]
       ],
       "shape": {
        "columns": 6,
        "rows": 10
       }
      },
      "text/html": [
       "<div>\n",
       "<style scoped>\n",
       "    .dataframe tbody tr th:only-of-type {\n",
       "        vertical-align: middle;\n",
       "    }\n",
       "\n",
       "    .dataframe tbody tr th {\n",
       "        vertical-align: top;\n",
       "    }\n",
       "\n",
       "    .dataframe thead th {\n",
       "        text-align: right;\n",
       "    }\n",
       "</style>\n",
       "<table border=\"1\" class=\"dataframe\">\n",
       "  <thead>\n",
       "    <tr style=\"text-align: right;\">\n",
       "      <th></th>\n",
       "      <th>Question</th>\n",
       "      <th>Option_1</th>\n",
       "      <th>Option_2</th>\n",
       "      <th>Option_3</th>\n",
       "      <th>Option_4</th>\n",
       "      <th>RC</th>\n",
       "    </tr>\n",
       "  </thead>\n",
       "  <tbody>\n",
       "    <tr>\n",
       "      <th>0</th>\n",
       "      <td>1. El fosfolamban:</td>\n",
       "      <td>1. Regula la Ca2+-ATPasa del retículo sarcoplá...</td>\n",
       "      <td>2. Es un fosfolípido de la membrana plasmática.</td>\n",
       "      <td>3. Bloquea el receptor de dihidropiridinas.</td>\n",
       "      <td>4. Activa receptores de rianodina en retículo ...</td>\n",
       "      <td>1</td>\n",
       "    </tr>\n",
       "    <tr>\n",
       "      <th>1</th>\n",
       "      <td>2. En una neurona, a un potencial de membrana ...</td>\n",
       "      <td>1. Salen iones Na+.</td>\n",
       "      <td>2. Salen iones K+.</td>\n",
       "      <td>3. Salen iones Ca2+.</td>\n",
       "      <td>4. No hay movimiento de iones, por alcanzarse ...</td>\n",
       "      <td>2</td>\n",
       "    </tr>\n",
       "    <tr>\n",
       "      <th>2</th>\n",
       "      <td>3. Proteína de la membrana plasmática implicad...</td>\n",
       "      <td>1. Sinaptobrevina.</td>\n",
       "      <td>2. NSF (factor sensible a n-etilmaleimida).</td>\n",
       "      <td>3. Sinaptotagmina.</td>\n",
       "      <td>4. Sintaxina.</td>\n",
       "      <td>4</td>\n",
       "    </tr>\n",
       "    <tr>\n",
       "      <th>3</th>\n",
       "      <td>4. La glucosa se transporta al interior de las...</td>\n",
       "      <td>1. Difusión simple.</td>\n",
       "      <td>2. Difusión facilitada.</td>\n",
       "      <td>3. Transporte activo primario.</td>\n",
       "      <td>4. Endocitosis.</td>\n",
       "      <td>2</td>\n",
       "    </tr>\n",
       "    <tr>\n",
       "      <th>4</th>\n",
       "      <td>5. Los receptores para la acetilcolina de tipo...</td>\n",
       "      <td>1. Son canales iónicos.</td>\n",
       "      <td>2. Generan potenciales sinápticos rápidos.</td>\n",
       "      <td>3. Están asociados a proteínas G.</td>\n",
       "      <td>4. Se localizan en el músculo estriado esquelé...</td>\n",
       "      <td>3</td>\n",
       "    </tr>\n",
       "    <tr>\n",
       "      <th>5</th>\n",
       "      <td>6. Los receptores que informan de la posición ...</td>\n",
       "      <td>1. El oído medio.</td>\n",
       "      <td>2. El utrículo y el sáculo.</td>\n",
       "      <td>3. Los canales semicirculares.</td>\n",
       "      <td>4. La cóclea.</td>\n",
       "      <td>2</td>\n",
       "    </tr>\n",
       "    <tr>\n",
       "      <th>6</th>\n",
       "      <td>7. Las fibras de los cordones posteriores (dor...</td>\n",
       "      <td>1. Proyectan al tálamo ipsilateral.</td>\n",
       "      <td>2. Son fibras motoras troncoencefálicas.</td>\n",
       "      <td>3. Se originan en neuronas espinales.</td>\n",
       "      <td>4. Envían información táctil discriminativa a ...</td>\n",
       "      <td>4</td>\n",
       "    </tr>\n",
       "    <tr>\n",
       "      <th>7</th>\n",
       "      <td>8. Los receptores T2R gustativos responden a e...</td>\n",
       "      <td>1. Ácido.</td>\n",
       "      <td>2. Umami.</td>\n",
       "      <td>3. Dulce.</td>\n",
       "      <td>4. Amargo.</td>\n",
       "      <td>4</td>\n",
       "    </tr>\n",
       "    <tr>\n",
       "      <th>8</th>\n",
       "      <td>9. La LTP sináptica (potenciación a largo plaz...</td>\n",
       "      <td>1. GABAA.</td>\n",
       "      <td>2. Nicotínicos.</td>\n",
       "      <td>3. NMDA.</td>\n",
       "      <td>4. Adrenérgicos.</td>\n",
       "      <td>3</td>\n",
       "    </tr>\n",
       "    <tr>\n",
       "      <th>9</th>\n",
       "      <td>10. El núcleo supraquiasmático se localiza en:</td>\n",
       "      <td>1. Bulbo raquídeo.</td>\n",
       "      <td>2. Cerebelo.</td>\n",
       "      <td>3. Hipotálamo.</td>\n",
       "      <td>4. Ganglios basales.</td>\n",
       "      <td>3</td>\n",
       "    </tr>\n",
       "  </tbody>\n",
       "</table>\n",
       "</div>"
      ],
      "text/plain": [
       "                                            Question  \\\n",
       "0                                 1. El fosfolamban:   \n",
       "1  2. En una neurona, a un potencial de membrana ...   \n",
       "2  3. Proteína de la membrana plasmática implicad...   \n",
       "3  4. La glucosa se transporta al interior de las...   \n",
       "4  5. Los receptores para la acetilcolina de tipo...   \n",
       "5  6. Los receptores que informan de la posición ...   \n",
       "6  7. Las fibras de los cordones posteriores (dor...   \n",
       "7  8. Los receptores T2R gustativos responden a e...   \n",
       "8  9. La LTP sináptica (potenciación a largo plaz...   \n",
       "9     10. El núcleo supraquiasmático se localiza en:   \n",
       "\n",
       "                                            Option_1  \\\n",
       "0  1. Regula la Ca2+-ATPasa del retículo sarcoplá...   \n",
       "1                                1. Salen iones Na+.   \n",
       "2                                 1. Sinaptobrevina.   \n",
       "3                                1. Difusión simple.   \n",
       "4                            1. Son canales iónicos.   \n",
       "5                                  1. El oído medio.   \n",
       "6                1. Proyectan al tálamo ipsilateral.   \n",
       "7                                          1. Ácido.   \n",
       "8                                          1. GABAA.   \n",
       "9                                 1. Bulbo raquídeo.   \n",
       "\n",
       "                                          Option_2  \\\n",
       "0  2. Es un fosfolípido de la membrana plasmática.   \n",
       "1                               2. Salen iones K+.   \n",
       "2      2. NSF (factor sensible a n-etilmaleimida).   \n",
       "3                          2. Difusión facilitada.   \n",
       "4       2. Generan potenciales sinápticos rápidos.   \n",
       "5                      2. El utrículo y el sáculo.   \n",
       "6         2. Son fibras motoras troncoencefálicas.   \n",
       "7                                        2. Umami.   \n",
       "8                                  2. Nicotínicos.   \n",
       "9                                     2. Cerebelo.   \n",
       "\n",
       "                                      Option_3  \\\n",
       "0  3. Bloquea el receptor de dihidropiridinas.   \n",
       "1                         3. Salen iones Ca2+.   \n",
       "2                           3. Sinaptotagmina.   \n",
       "3               3. Transporte activo primario.   \n",
       "4            3. Están asociados a proteínas G.   \n",
       "5               3. Los canales semicirculares.   \n",
       "6        3. Se originan en neuronas espinales.   \n",
       "7                                    3. Dulce.   \n",
       "8                                     3. NMDA.   \n",
       "9                               3. Hipotálamo.   \n",
       "\n",
       "                                            Option_4  RC  \n",
       "0  4. Activa receptores de rianodina en retículo ...   1  \n",
       "1  4. No hay movimiento de iones, por alcanzarse ...   2  \n",
       "2                                      4. Sintaxina.   4  \n",
       "3                                    4. Endocitosis.   2  \n",
       "4  4. Se localizan en el músculo estriado esquelé...   3  \n",
       "5                                      4. La cóclea.   2  \n",
       "6  4. Envían información táctil discriminativa a ...   4  \n",
       "7                                         4. Amargo.   4  \n",
       "8                                   4. Adrenérgicos.   3  \n",
       "9                               4. Ganglios basales.   3  "
      ]
     },
     "execution_count": 30,
     "metadata": {},
     "output_type": "execute_result"
    }
   ],
   "source": [
    "processed_exam_df: pd.DataFrame = pd.concat([exam_df_pivot, answers_df_clean], axis=1)\n",
    "processed_exam_df = processed_exam_df.drop(columns=[\"V\"])\n",
    "processed_exam_df.head(10)"
   ]
  },
  {
   "cell_type": "markdown",
   "metadata": {},
   "source": [
    "**2. Identifying and Handling Missing Values:**\n",
    "\n",
    "Missing values are then replaced with 0."
   ]
  },
  {
   "cell_type": "code",
   "execution_count": 31,
   "metadata": {},
   "outputs": [],
   "source": [
    "processed_exam_df = processed_exam_df.fillna(0)"
   ]
  },
  {
   "cell_type": "markdown",
   "metadata": {},
   "source": [
    "**3. Verifying Missing Values and Data Types:**\n",
    "\n",
    "The number of missing values in each column is checked, and the data types of the columns are displayed. The 'RC' (correct answer) column is then converted to integer type."
   ]
  },
  {
   "cell_type": "code",
   "execution_count": 32,
   "metadata": {},
   "outputs": [
    {
     "data": {
      "text/plain": [
       "Question    object\n",
       "Option_1    object\n",
       "Option_2    object\n",
       "Option_3    object\n",
       "Option_4    object\n",
       "RC           int32\n",
       "dtype: object"
      ]
     },
     "execution_count": 32,
     "metadata": {},
     "output_type": "execute_result"
    }
   ],
   "source": [
    "processed_exam_df.isnull().sum()\n",
    "processed_exam_df[\"RC\"] = processed_exam_df[\"RC\"].astype(int)\n",
    "processed_exam_df.dtypes"
   ]
  },
  {
   "cell_type": "markdown",
   "metadata": {},
   "source": [
    "**4. Adding year column**\n",
    "\n",
    "A column containing the year of the exam is added to the DataFrame."
   ]
  },
  {
   "cell_type": "code",
   "execution_count": 33,
   "metadata": {},
   "outputs": [],
   "source": [
    "processed_exam_df[\"year\"] = year"
   ]
  },
  {
   "cell_type": "markdown",
   "metadata": {},
   "source": [
    "**5. Displaying the Final DataFrame:**\n",
    "\n",
    "The first 10 rows of the final joined and cleaned DataFrame are displayed."
   ]
  },
  {
   "cell_type": "code",
   "execution_count": 34,
   "metadata": {},
   "outputs": [
    {
     "data": {
      "application/vnd.microsoft.datawrangler.viewer.v0+json": {
       "columns": [
        {
         "name": "index",
         "rawType": "int64",
         "type": "integer"
        },
        {
         "name": "Question",
         "rawType": "object",
         "type": "string"
        },
        {
         "name": "Option_1",
         "rawType": "object",
         "type": "string"
        },
        {
         "name": "Option_2",
         "rawType": "object",
         "type": "string"
        },
        {
         "name": "Option_3",
         "rawType": "object",
         "type": "string"
        },
        {
         "name": "Option_4",
         "rawType": "object",
         "type": "string"
        },
        {
         "name": "RC",
         "rawType": "int32",
         "type": "integer"
        },
        {
         "name": "year",
         "rawType": "int64",
         "type": "integer"
        }
       ],
       "conversionMethod": "pd.DataFrame",
       "ref": "47f1946a-cfa7-4b25-9815-fb03acbcb7f8",
       "rows": [
        [
         "0",
         "1. El fosfolamban:",
         "1. Regula la Ca2+-ATPasa del retículo sarcoplásmico.",
         "2. Es un fosfolípido de la membrana plasmática.",
         "3. Bloquea el receptor de dihidropiridinas.",
         "4. Activa receptores de rianodina en retículo sarcoplásmico.",
         "1",
         "2018"
        ],
        [
         "1",
         "2. En una neurona, a un potencial de membrana de 0 mV:",
         "1. Salen iones Na+.",
         "2. Salen iones K+.",
         "3. Salen iones Ca2+.",
         "4. No hay movimiento de iones, por alcanzarse el equilibrio eléctrico.",
         "2",
         "2018"
        ],
        [
         "2",
         "3. Proteína de la membrana plasmática implicada en exocitosis sináptica:",
         "1. Sinaptobrevina.",
         "2. NSF (factor sensible a n-etilmaleimida).",
         "3. Sinaptotagmina.",
         "4. Sintaxina.",
         "4",
         "2018"
        ],
        [
         "3",
         "4. La glucosa se transporta al interior de las células por:",
         "1. Difusión simple.",
         "2. Difusión facilitada.",
         "3. Transporte activo primario.",
         "4. Endocitosis.",
         "2",
         "2018"
        ],
        [
         "4",
         "5. Los receptores para la acetilcolina de tipo muscarínico:",
         "1. Son canales iónicos.",
         "2. Generan potenciales sinápticos rápidos.",
         "3. Están asociados a proteínas G.",
         "4. Se localizan en el músculo estriado esquelético.",
         "3",
         "2018"
        ],
        [
         "5",
         "6. Los receptores que informan de la posición estática de la cabeza están en:",
         "1. El oído medio.",
         "2. El utrículo y el sáculo.",
         "3. Los canales semicirculares.",
         "4. La cóclea.",
         "2",
         "2018"
        ],
        [
         "6",
         "7. Las fibras de los cordones posteriores (dorsales):",
         "1. Proyectan al tálamo ipsilateral.",
         "2. Son fibras motoras troncoencefálicas.",
         "3. Se originan en neuronas espinales.",
         "4. Envían información táctil discriminativa a núcleos bulbares.",
         "4",
         "2018"
        ],
        [
         "7",
         "8. Los receptores T2R gustativos responden a estímulos asociados al sabor:",
         "1. Ácido.",
         "2. Umami.",
         "3. Dulce.",
         "4. Amargo.",
         "4",
         "2018"
        ],
        [
         "8",
         "9. La LTP sináptica (potenciación a largo plazo) está mediada por receptores:",
         "1. GABAA.",
         "2. Nicotínicos.",
         "3. NMDA.",
         "4. Adrenérgicos.",
         "3",
         "2018"
        ],
        [
         "9",
         "10. El núcleo supraquiasmático se localiza en:",
         "1. Bulbo raquídeo.",
         "2. Cerebelo.",
         "3. Hipotálamo.",
         "4. Ganglios basales.",
         "3",
         "2018"
        ]
       ],
       "shape": {
        "columns": 7,
        "rows": 10
       }
      },
      "text/html": [
       "<div>\n",
       "<style scoped>\n",
       "    .dataframe tbody tr th:only-of-type {\n",
       "        vertical-align: middle;\n",
       "    }\n",
       "\n",
       "    .dataframe tbody tr th {\n",
       "        vertical-align: top;\n",
       "    }\n",
       "\n",
       "    .dataframe thead th {\n",
       "        text-align: right;\n",
       "    }\n",
       "</style>\n",
       "<table border=\"1\" class=\"dataframe\">\n",
       "  <thead>\n",
       "    <tr style=\"text-align: right;\">\n",
       "      <th></th>\n",
       "      <th>Question</th>\n",
       "      <th>Option_1</th>\n",
       "      <th>Option_2</th>\n",
       "      <th>Option_3</th>\n",
       "      <th>Option_4</th>\n",
       "      <th>RC</th>\n",
       "      <th>year</th>\n",
       "    </tr>\n",
       "  </thead>\n",
       "  <tbody>\n",
       "    <tr>\n",
       "      <th>0</th>\n",
       "      <td>1. El fosfolamban:</td>\n",
       "      <td>1. Regula la Ca2+-ATPasa del retículo sarcoplá...</td>\n",
       "      <td>2. Es un fosfolípido de la membrana plasmática.</td>\n",
       "      <td>3. Bloquea el receptor de dihidropiridinas.</td>\n",
       "      <td>4. Activa receptores de rianodina en retículo ...</td>\n",
       "      <td>1</td>\n",
       "      <td>2018</td>\n",
       "    </tr>\n",
       "    <tr>\n",
       "      <th>1</th>\n",
       "      <td>2. En una neurona, a un potencial de membrana ...</td>\n",
       "      <td>1. Salen iones Na+.</td>\n",
       "      <td>2. Salen iones K+.</td>\n",
       "      <td>3. Salen iones Ca2+.</td>\n",
       "      <td>4. No hay movimiento de iones, por alcanzarse ...</td>\n",
       "      <td>2</td>\n",
       "      <td>2018</td>\n",
       "    </tr>\n",
       "    <tr>\n",
       "      <th>2</th>\n",
       "      <td>3. Proteína de la membrana plasmática implicad...</td>\n",
       "      <td>1. Sinaptobrevina.</td>\n",
       "      <td>2. NSF (factor sensible a n-etilmaleimida).</td>\n",
       "      <td>3. Sinaptotagmina.</td>\n",
       "      <td>4. Sintaxina.</td>\n",
       "      <td>4</td>\n",
       "      <td>2018</td>\n",
       "    </tr>\n",
       "    <tr>\n",
       "      <th>3</th>\n",
       "      <td>4. La glucosa se transporta al interior de las...</td>\n",
       "      <td>1. Difusión simple.</td>\n",
       "      <td>2. Difusión facilitada.</td>\n",
       "      <td>3. Transporte activo primario.</td>\n",
       "      <td>4. Endocitosis.</td>\n",
       "      <td>2</td>\n",
       "      <td>2018</td>\n",
       "    </tr>\n",
       "    <tr>\n",
       "      <th>4</th>\n",
       "      <td>5. Los receptores para la acetilcolina de tipo...</td>\n",
       "      <td>1. Son canales iónicos.</td>\n",
       "      <td>2. Generan potenciales sinápticos rápidos.</td>\n",
       "      <td>3. Están asociados a proteínas G.</td>\n",
       "      <td>4. Se localizan en el músculo estriado esquelé...</td>\n",
       "      <td>3</td>\n",
       "      <td>2018</td>\n",
       "    </tr>\n",
       "    <tr>\n",
       "      <th>5</th>\n",
       "      <td>6. Los receptores que informan de la posición ...</td>\n",
       "      <td>1. El oído medio.</td>\n",
       "      <td>2. El utrículo y el sáculo.</td>\n",
       "      <td>3. Los canales semicirculares.</td>\n",
       "      <td>4. La cóclea.</td>\n",
       "      <td>2</td>\n",
       "      <td>2018</td>\n",
       "    </tr>\n",
       "    <tr>\n",
       "      <th>6</th>\n",
       "      <td>7. Las fibras de los cordones posteriores (dor...</td>\n",
       "      <td>1. Proyectan al tálamo ipsilateral.</td>\n",
       "      <td>2. Son fibras motoras troncoencefálicas.</td>\n",
       "      <td>3. Se originan en neuronas espinales.</td>\n",
       "      <td>4. Envían información táctil discriminativa a ...</td>\n",
       "      <td>4</td>\n",
       "      <td>2018</td>\n",
       "    </tr>\n",
       "    <tr>\n",
       "      <th>7</th>\n",
       "      <td>8. Los receptores T2R gustativos responden a e...</td>\n",
       "      <td>1. Ácido.</td>\n",
       "      <td>2. Umami.</td>\n",
       "      <td>3. Dulce.</td>\n",
       "      <td>4. Amargo.</td>\n",
       "      <td>4</td>\n",
       "      <td>2018</td>\n",
       "    </tr>\n",
       "    <tr>\n",
       "      <th>8</th>\n",
       "      <td>9. La LTP sináptica (potenciación a largo plaz...</td>\n",
       "      <td>1. GABAA.</td>\n",
       "      <td>2. Nicotínicos.</td>\n",
       "      <td>3. NMDA.</td>\n",
       "      <td>4. Adrenérgicos.</td>\n",
       "      <td>3</td>\n",
       "      <td>2018</td>\n",
       "    </tr>\n",
       "    <tr>\n",
       "      <th>9</th>\n",
       "      <td>10. El núcleo supraquiasmático se localiza en:</td>\n",
       "      <td>1. Bulbo raquídeo.</td>\n",
       "      <td>2. Cerebelo.</td>\n",
       "      <td>3. Hipotálamo.</td>\n",
       "      <td>4. Ganglios basales.</td>\n",
       "      <td>3</td>\n",
       "      <td>2018</td>\n",
       "    </tr>\n",
       "  </tbody>\n",
       "</table>\n",
       "</div>"
      ],
      "text/plain": [
       "                                            Question  \\\n",
       "0                                 1. El fosfolamban:   \n",
       "1  2. En una neurona, a un potencial de membrana ...   \n",
       "2  3. Proteína de la membrana plasmática implicad...   \n",
       "3  4. La glucosa se transporta al interior de las...   \n",
       "4  5. Los receptores para la acetilcolina de tipo...   \n",
       "5  6. Los receptores que informan de la posición ...   \n",
       "6  7. Las fibras de los cordones posteriores (dor...   \n",
       "7  8. Los receptores T2R gustativos responden a e...   \n",
       "8  9. La LTP sináptica (potenciación a largo plaz...   \n",
       "9     10. El núcleo supraquiasmático se localiza en:   \n",
       "\n",
       "                                            Option_1  \\\n",
       "0  1. Regula la Ca2+-ATPasa del retículo sarcoplá...   \n",
       "1                                1. Salen iones Na+.   \n",
       "2                                 1. Sinaptobrevina.   \n",
       "3                                1. Difusión simple.   \n",
       "4                            1. Son canales iónicos.   \n",
       "5                                  1. El oído medio.   \n",
       "6                1. Proyectan al tálamo ipsilateral.   \n",
       "7                                          1. Ácido.   \n",
       "8                                          1. GABAA.   \n",
       "9                                 1. Bulbo raquídeo.   \n",
       "\n",
       "                                          Option_2  \\\n",
       "0  2. Es un fosfolípido de la membrana plasmática.   \n",
       "1                               2. Salen iones K+.   \n",
       "2      2. NSF (factor sensible a n-etilmaleimida).   \n",
       "3                          2. Difusión facilitada.   \n",
       "4       2. Generan potenciales sinápticos rápidos.   \n",
       "5                      2. El utrículo y el sáculo.   \n",
       "6         2. Son fibras motoras troncoencefálicas.   \n",
       "7                                        2. Umami.   \n",
       "8                                  2. Nicotínicos.   \n",
       "9                                     2. Cerebelo.   \n",
       "\n",
       "                                      Option_3  \\\n",
       "0  3. Bloquea el receptor de dihidropiridinas.   \n",
       "1                         3. Salen iones Ca2+.   \n",
       "2                           3. Sinaptotagmina.   \n",
       "3               3. Transporte activo primario.   \n",
       "4            3. Están asociados a proteínas G.   \n",
       "5               3. Los canales semicirculares.   \n",
       "6        3. Se originan en neuronas espinales.   \n",
       "7                                    3. Dulce.   \n",
       "8                                     3. NMDA.   \n",
       "9                               3. Hipotálamo.   \n",
       "\n",
       "                                            Option_4  RC  year  \n",
       "0  4. Activa receptores de rianodina en retículo ...   1  2018  \n",
       "1  4. No hay movimiento de iones, por alcanzarse ...   2  2018  \n",
       "2                                      4. Sintaxina.   4  2018  \n",
       "3                                    4. Endocitosis.   2  2018  \n",
       "4  4. Se localizan en el músculo estriado esquelé...   3  2018  \n",
       "5                                      4. La cóclea.   2  2018  \n",
       "6  4. Envían información táctil discriminativa a ...   4  2018  \n",
       "7                                         4. Amargo.   4  2018  \n",
       "8                                   4. Adrenérgicos.   3  2018  \n",
       "9                               4. Ganglios basales.   3  2018  "
      ]
     },
     "execution_count": 34,
     "metadata": {},
     "output_type": "execute_result"
    }
   ],
   "source": [
    "processed_exam_df.head(10)"
   ]
  },
  {
   "cell_type": "markdown",
   "metadata": {},
   "source": [
    "# Data Loading"
   ]
  },
  {
   "cell_type": "markdown",
   "metadata": {},
   "source": [
    "## Saving in csv file\n",
    "\n",
    "The `processed_exam_df` DataFrame, containing the cleaned and transformed exam data, is saved to a CSV file with the name generatd in the first step in the \"data\" directory. The `index=False` argument ensures that the DataFrame index is not written to the file, resulting in a cleaner output. This CSV file can be used for further analysis or as input for other applications."
   ]
  },
  {
   "cell_type": "code",
   "execution_count": 35,
   "metadata": {},
   "outputs": [],
   "source": [
    "processed_exam_df.to_csv(save_format, index= False)"
   ]
  },
  {
   "cell_type": "markdown",
   "metadata": {},
   "source": [
    "## Writing into data warehouse\n",
    "\n",
    "This section details the process of loading the cleaned and transformed exam data into an SQLite database, serving as a data warehouse for further analysis and querying.\n",
    "\n",
    "**1. Database Connection and Path:**\n",
    "\n",
    "The path to the SQLite database file is defined, and a connection is established using the `sqlite3` library."
   ]
  },
  {
   "cell_type": "code",
   "execution_count": 36,
   "metadata": {},
   "outputs": [],
   "source": [
    "db_path: str = \"../data/clean/bir_warehouse.db\""
   ]
  },
  {
   "cell_type": "markdown",
   "metadata": {},
   "source": [
    "**2. SQL Queries Definition:**\n",
    "\n",
    "Two SQL queries are defined: one for inserting questions into the questions table and another for inserting options into the questions_options table."
   ]
  },
  {
   "cell_type": "code",
   "execution_count": 37,
   "metadata": {},
   "outputs": [],
   "source": [
    "query_question: str = \"\"\"\n",
    "INSERT INTO questions (exam_year, exam_subject, question) \n",
    "VALUES((SELECT id_year FROM year WHERE year_name = ?),\n",
    "    (SELECT id_type FROM exam WHERE exam_type = ?),\n",
    "    ?);\n",
    "\"\"\"\n",
    "\n",
    "query_options: str = \"\"\"\n",
    "INSERT INTO questions_options (question_id, option_num, option_text, is_correct)\n",
    "VALUES((SELECT id FROM questions WHERE question = ?),\n",
    "    ?,\n",
    "    ?,\n",
    "    ?)\n",
    "\"\"\""
   ]
  },
  {
   "cell_type": "markdown",
   "metadata": {},
   "source": [
    "**3. Database Interaction and Data Insertion:**\n",
    "\n",
    "A with statement is used to establish a connection to the SQLite database, ensuring that the connection is properly closed after use. A cursor is created, and the processed_exam_df DataFrame is iterated over to insert each question and its options"
   ]
  },
  {
   "cell_type": "code",
   "execution_count": 38,
   "metadata": {},
   "outputs": [],
   "source": [
    "with sqlite3.connect(db_path) as bir_warehouse:\n",
    "    cur = bir_warehouse.cursor()\n",
    "    for question in processed_exam_df.itertuples():\n",
    "        cur.execute(query_question, (str(question[7]), exam_acronym, question[1]))\n",
    "        bir_warehouse.commit()\n",
    "        for n, option in enumerate(question[2:6]):\n",
    "            cur.execute(query_options, (question[1], n+1, option, n+1 == question[6]))\n",
    "            bir_warehouse.commit()"
   ]
  }
 ],
 "metadata": {
  "colab": {
   "provenance": []
  },
  "kernelspec": {
   "display_name": "bir_etl",
   "language": "python",
   "name": "python3"
  },
  "language_info": {
   "codemirror_mode": {
    "name": "ipython",
    "version": 3
   },
   "file_extension": ".py",
   "mimetype": "text/x-python",
   "name": "python",
   "nbconvert_exporter": "python",
   "pygments_lexer": "ipython3",
   "version": "3.12.7"
  }
 },
 "nbformat": 4,
 "nbformat_minor": 4
}
