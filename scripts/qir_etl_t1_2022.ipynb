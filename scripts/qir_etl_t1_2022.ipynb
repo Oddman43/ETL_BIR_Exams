{
 "cells": [
  {
   "cell_type": "markdown",
   "metadata": {
    "editable": true,
    "id": "56vKIohe8Jou",
    "slideshow": {
     "slide_type": ""
    },
    "tags": []
   },
   "source": [
    "# Data Extraction\n",
    "This section details the process of extracting question data from a PDF file and corresponding answer keys from a TSV file."
   ]
  },
  {
   "cell_type": "markdown",
   "metadata": {
    "id": "8kRORmWM8Joy"
   },
   "source": [
    "## Importing libraries"
   ]
  },
  {
   "cell_type": "markdown",
   "metadata": {},
   "source": [
    "* Pandas for data manipulation\n",
    "* NumPy for the NaN datatype\n",
    "* PyPDF for its ability to read the pfd files, although it requieres post-processing of the extracted text\n",
    "* sqlite3 to create load the clean data into `bir_warehouse.db`"
   ]
  },
  {
   "cell_type": "code",
   "execution_count": 1,
   "metadata": {
    "colab": {
     "base_uri": "https://localhost:8080/"
    },
    "id": "y8DpYYll8Joz",
    "outputId": "40cac5b3-1153-431b-f780-201aa62b5813"
   },
   "outputs": [],
   "source": [
    "import pandas as pd\n",
    "import numpy as np\n",
    "from pypdf import PdfReader\n",
    "import sqlite3"
   ]
  },
  {
   "cell_type": "markdown",
   "metadata": {},
   "source": [
    "## Selecting year and type of exam"
   ]
  },
  {
   "cell_type": "markdown",
   "metadata": {},
   "source": [
    "This function, `compute_expected_rows`, takes the exam year and topic as input and returns metadata crucial for subsequent data cleaning and loading steps. This metadata includes the expected maximum number of rows in the final DataFrame, the number of questions per exam, and the acronym for the exam type.  The maximum number of rows is calculated based on the number of questions and options per question for each year, following a specific pattern:\n",
    "\n",
    "*   2024-2021: 210 questions, 4 options each\n",
    "*   2020-2019: 185 questions, 4 options each\n",
    "*   2018-2015: 235 questions, 4 options each\n",
    "*   2014-2012: 235 questions, 5 options each\n",
    "*   2011-2004: 260 questions, 5 options each\n",
    "\n",
    "This information is essential for validating data integrity during the ETL process.  For example, the expected row count helps verify that all questions and options have been correctly extracted and transformed. The exam type acronym aids in consistent file naming and data organization."
   ]
  },
  {
   "cell_type": "code",
   "execution_count": 2,
   "metadata": {},
   "outputs": [],
   "source": [
    "def compute_expected_rows(year: int, topic: str) -> tuple:\n",
    "    \"\"\"Computes and returns metadata about the exam for a given year and topic\n",
    "\n",
    "    Args:\n",
    "        year (int): The year of the exam\n",
    "        topic (str): The topic of the exam\n",
    "\n",
    "    Returns:\n",
    "        tuple: Contains:\n",
    "            - max_rows: The expected maximum number of rows in the DataFrame\n",
    "            - num_options: The number of questions in the exam\n",
    "            - exam_type_acronym: The acronym for the exam type\n",
    "\n",
    "    \"\"\"\n",
    "    info_year_dict: dict = {\n",
    "        2011: [260, 5],\n",
    "        2014: [235, 5],\n",
    "        2018: [235, 4],\n",
    "        2020: [185, 4],\n",
    "        2021: [210, 4],\n",
    "    }\n",
    "    save_name_dict: dict = {\n",
    "        \"BIOLOGÍA\": \"bir\",\n",
    "        \"FARMACIA\": \"fir\",\n",
    "        \"QUÍMICA\": \"qir\",\n",
    "        \"MEDICINA\": \"mir\",\n",
    "    }\n",
    "    max_rows: int = 0\n",
    "    num_options: int = 0\n",
    "    for target_year, info_list in info_year_dict.items():\n",
    "        if year <= target_year:\n",
    "            max_rows = (info_list[0] * info_list[1]) + info_list[0]\n",
    "            num_options = info_list[1]\n",
    "            break\n",
    "    else:\n",
    "        max_rows = 1050\n",
    "        num_options = 4\n",
    "    return max_rows, num_options, save_name_dict[topic]"
   ]
  },
  {
   "cell_type": "markdown",
   "metadata": {},
   "source": [
    "### Add year of the exam and topic "
   ]
  },
  {
   "cell_type": "code",
   "execution_count": 3,
   "metadata": {},
   "outputs": [],
   "source": [
    "year: int = 2022\n",
    "topic: str = \"QUÍMICA\" # Select from: BIOLOGÍA, FARMACIA, QUÍMICA, MEDICINA\n",
    "total_num_rows: int\n",
    "num_questions: int\n",
    "exam_acronym: str\n",
    "total_num_rows, num_questions, exam_acronym = compute_expected_rows(year, topic)\n",
    "save_format: str = f\"../data/clean/clean_{exam_acronym}_{year}.csv\""
   ]
  },
  {
   "cell_type": "markdown",
   "metadata": {
    "id": "Z1Kjq5ue8Jo1"
   },
   "source": [
    "## Extracting Questions from Pdf file"
   ]
  },
  {
   "cell_type": "markdown",
   "metadata": {},
   "source": [
    "This section focuses on extracting the textual content of the exam questions from the provided PDF file.\n",
    "\n",
    "**Path Definition:**\n",
    "\n",
    "The path to the PDF file is dynamically constructed using the provided `year` and `topic` variables. This ensures flexibility and allows the script to process different exam files without manual path adjustments.\n",
    "\n",
    "Finally it stores the output in a DataFrame and the first 10 rows of the resulting DataFrame are displayed for a quick preview of the loaded data."
   ]
  },
  {
   "cell_type": "code",
   "execution_count": 4,
   "metadata": {
    "id": "AB4M4yfr8Jo3"
   },
   "outputs": [
    {
     "data": {
      "application/vnd.microsoft.datawrangler.viewer.v0+json": {
       "columns": [
        {
         "name": "index",
         "rawType": "int64",
         "type": "integer"
        },
        {
         "name": "text",
         "rawType": "object",
         "type": "string"
        }
       ],
       "conversionMethod": "pd.DataFrame",
       "ref": "f2856836-d9f5-4533-ba35-3dbc8585e3b8",
       "rows": [
        [
         "0",
         " "
        ],
        [
         "1",
         "- 1 - "
        ],
        [
         "2",
         "1. ¿Qué especie se determina cuando se valora una "
        ],
        [
         "3",
         "muestra que contiene Ca 2+ y Mg 2+ con EDTA a "
        ],
        [
         "4",
         "pH=12 y murexida como indicador?: "
        ],
        [
         "5",
         " "
        ],
        [
         "6",
         "1. Ca2+. "
        ],
        [
         "7",
         "2. Mg2+. "
        ],
        [
         "8",
         "3. Ca2+ + Mg2+. "
        ],
        [
         "9",
         "4. Ninguna de las dos especies. "
        ]
       ],
       "shape": {
        "columns": 1,
        "rows": 10
       }
      },
      "text/html": [
       "<div>\n",
       "<style scoped>\n",
       "    .dataframe tbody tr th:only-of-type {\n",
       "        vertical-align: middle;\n",
       "    }\n",
       "\n",
       "    .dataframe tbody tr th {\n",
       "        vertical-align: top;\n",
       "    }\n",
       "\n",
       "    .dataframe thead th {\n",
       "        text-align: right;\n",
       "    }\n",
       "</style>\n",
       "<table border=\"1\" class=\"dataframe\">\n",
       "  <thead>\n",
       "    <tr style=\"text-align: right;\">\n",
       "      <th></th>\n",
       "      <th>text</th>\n",
       "    </tr>\n",
       "  </thead>\n",
       "  <tbody>\n",
       "    <tr>\n",
       "      <th>0</th>\n",
       "      <td></td>\n",
       "    </tr>\n",
       "    <tr>\n",
       "      <th>1</th>\n",
       "      <td>- 1 -</td>\n",
       "    </tr>\n",
       "    <tr>\n",
       "      <th>2</th>\n",
       "      <td>1. ¿Qué especie se determina cuando se valora ...</td>\n",
       "    </tr>\n",
       "    <tr>\n",
       "      <th>3</th>\n",
       "      <td>muestra que contiene Ca 2+ y Mg 2+ con EDTA a</td>\n",
       "    </tr>\n",
       "    <tr>\n",
       "      <th>4</th>\n",
       "      <td>pH=12 y murexida como indicador?:</td>\n",
       "    </tr>\n",
       "    <tr>\n",
       "      <th>5</th>\n",
       "      <td></td>\n",
       "    </tr>\n",
       "    <tr>\n",
       "      <th>6</th>\n",
       "      <td>1. Ca2+.</td>\n",
       "    </tr>\n",
       "    <tr>\n",
       "      <th>7</th>\n",
       "      <td>2. Mg2+.</td>\n",
       "    </tr>\n",
       "    <tr>\n",
       "      <th>8</th>\n",
       "      <td>3. Ca2+ + Mg2+.</td>\n",
       "    </tr>\n",
       "    <tr>\n",
       "      <th>9</th>\n",
       "      <td>4. Ninguna de las dos especies.</td>\n",
       "    </tr>\n",
       "  </tbody>\n",
       "</table>\n",
       "</div>"
      ],
      "text/plain": [
       "                                                text\n",
       "0                                                   \n",
       "1                                             - 1 - \n",
       "2  1. ¿Qué especie se determina cuando se valora ...\n",
       "3     muestra que contiene Ca 2+ y Mg 2+ con EDTA a \n",
       "4                 pH=12 y murexida como indicador?: \n",
       "5                                                   \n",
       "6                                          1. Ca2+. \n",
       "7                                          2. Mg2+. \n",
       "8                                   3. Ca2+ + Mg2+. \n",
       "9                   4. Ninguna de las dos especies. "
      ]
     },
     "execution_count": 4,
     "metadata": {},
     "output_type": "execute_result"
    }
   ],
   "source": [
    "path: str = f\"../data/raw/type_1/Raw_Cuaderno_{year}_{topic}_0_C.pdf\"\n",
    "with PdfReader(path) as pdf_file:\n",
    "    full_text: list = []\n",
    "    for n in range(2, len(pdf_file.pages)):\n",
    "        page = pdf_file.pages[n]\n",
    "        text: str = page.extract_text()\n",
    "        full_text.extend(text.splitlines())\n",
    "raw_exam_df: pd.DataFrame = pd.DataFrame(full_text, columns=[\"text\"])\n",
    "raw_exam_df.head(10)"
   ]
  },
  {
   "cell_type": "markdown",
   "metadata": {
    "id": "IBhc5aFQ8Jo6"
   },
   "source": [
    "## Extracting Answers from .tsv file into a DataFrame"
   ]
  },
  {
   "cell_type": "markdown",
   "metadata": {},
   "source": [
    "This section focuses on extracting the answer key data from the provided .tsv file and loading it into a Pandas DataFrame.\n",
    "\n",
    "**Path Definition and Data Loading:**\n",
    "\n",
    "The path to the .tsv file is dynamically constructed using the `year` and `topic` variables, mirroring the approach used for the PDF file. This ensures consistency and flexibility in processing different exam files. \n",
    "\n",
    "The `pd.read_table()` function is then used to read the .tsv file directly into a Pandas DataFrame. Finally, the first 10 rows of the resulting DataFrame are displayed for a quick preview of the loaded data."
   ]
  },
  {
   "cell_type": "code",
   "execution_count": 5,
   "metadata": {
    "colab": {
     "base_uri": "https://localhost:8080/",
     "height": 206
    },
    "id": "O1ouB9mQ8Jo7",
    "outputId": "70b7615d-9c90-4f2d-b9e1-a5c86b507ef6"
   },
   "outputs": [
    {
     "data": {
      "application/vnd.microsoft.datawrangler.viewer.v0+json": {
       "columns": [
        {
         "name": "index",
         "rawType": "int64",
         "type": "integer"
        },
        {
         "name": "V",
         "rawType": "int64",
         "type": "integer"
        },
        {
         "name": "RC",
         "rawType": "int64",
         "type": "integer"
        },
        {
         "name": "V.1",
         "rawType": "int64",
         "type": "integer"
        },
        {
         "name": "RC.1",
         "rawType": "float64",
         "type": "float"
        },
        {
         "name": "V.2",
         "rawType": "int64",
         "type": "integer"
        },
        {
         "name": "RC.2",
         "rawType": "int64",
         "type": "integer"
        },
        {
         "name": "V.3",
         "rawType": "int64",
         "type": "integer"
        },
        {
         "name": "RC.3",
         "rawType": "float64",
         "type": "float"
        },
        {
         "name": "V.4",
         "rawType": "int64",
         "type": "integer"
        },
        {
         "name": "RC.4",
         "rawType": "float64",
         "type": "float"
        }
       ],
       "conversionMethod": "pd.DataFrame",
       "ref": "78086e67-1cb1-4a8f-8e24-e1ce5e29c737",
       "rows": [
        [
         "0",
         "1",
         "1",
         "43",
         "4.0",
         "85",
         "4",
         "127",
         "4.0",
         "169",
         "2.0"
        ],
        [
         "1",
         "2",
         "4",
         "44",
         "2.0",
         "86",
         "1",
         "128",
         "3.0",
         "170",
         "3.0"
        ],
        [
         "2",
         "3",
         "2",
         "45",
         "2.0",
         "87",
         "1",
         "129",
         "4.0",
         "171",
         "1.0"
        ],
        [
         "3",
         "4",
         "1",
         "46",
         "4.0",
         "88",
         "2",
         "130",
         "2.0",
         "172",
         "4.0"
        ],
        [
         "4",
         "5",
         "4",
         "47",
         null,
         "89",
         "1",
         "131",
         "4.0",
         "173",
         "2.0"
        ],
        [
         "5",
         "6",
         "3",
         "48",
         "4.0",
         "90",
         "3",
         "132",
         "4.0",
         "174",
         "3.0"
        ],
        [
         "6",
         "7",
         "4",
         "49",
         "4.0",
         "91",
         "1",
         "133",
         "2.0",
         "175",
         "2.0"
        ],
        [
         "7",
         "8",
         "2",
         "50",
         "2.0",
         "92",
         "2",
         "134",
         "4.0",
         "176",
         "2.0"
        ],
        [
         "8",
         "9",
         "3",
         "51",
         "3.0",
         "93",
         "3",
         "135",
         "4.0",
         "177",
         "3.0"
        ],
        [
         "9",
         "10",
         "4",
         "52",
         "3.0",
         "94",
         "3",
         "136",
         "3.0",
         "178",
         "4.0"
        ]
       ],
       "shape": {
        "columns": 10,
        "rows": 10
       }
      },
      "text/html": [
       "<div>\n",
       "<style scoped>\n",
       "    .dataframe tbody tr th:only-of-type {\n",
       "        vertical-align: middle;\n",
       "    }\n",
       "\n",
       "    .dataframe tbody tr th {\n",
       "        vertical-align: top;\n",
       "    }\n",
       "\n",
       "    .dataframe thead th {\n",
       "        text-align: right;\n",
       "    }\n",
       "</style>\n",
       "<table border=\"1\" class=\"dataframe\">\n",
       "  <thead>\n",
       "    <tr style=\"text-align: right;\">\n",
       "      <th></th>\n",
       "      <th>V</th>\n",
       "      <th>RC</th>\n",
       "      <th>V.1</th>\n",
       "      <th>RC.1</th>\n",
       "      <th>V.2</th>\n",
       "      <th>RC.2</th>\n",
       "      <th>V.3</th>\n",
       "      <th>RC.3</th>\n",
       "      <th>V.4</th>\n",
       "      <th>RC.4</th>\n",
       "    </tr>\n",
       "  </thead>\n",
       "  <tbody>\n",
       "    <tr>\n",
       "      <th>0</th>\n",
       "      <td>1</td>\n",
       "      <td>1</td>\n",
       "      <td>43</td>\n",
       "      <td>4.0</td>\n",
       "      <td>85</td>\n",
       "      <td>4</td>\n",
       "      <td>127</td>\n",
       "      <td>4.0</td>\n",
       "      <td>169</td>\n",
       "      <td>2.0</td>\n",
       "    </tr>\n",
       "    <tr>\n",
       "      <th>1</th>\n",
       "      <td>2</td>\n",
       "      <td>4</td>\n",
       "      <td>44</td>\n",
       "      <td>2.0</td>\n",
       "      <td>86</td>\n",
       "      <td>1</td>\n",
       "      <td>128</td>\n",
       "      <td>3.0</td>\n",
       "      <td>170</td>\n",
       "      <td>3.0</td>\n",
       "    </tr>\n",
       "    <tr>\n",
       "      <th>2</th>\n",
       "      <td>3</td>\n",
       "      <td>2</td>\n",
       "      <td>45</td>\n",
       "      <td>2.0</td>\n",
       "      <td>87</td>\n",
       "      <td>1</td>\n",
       "      <td>129</td>\n",
       "      <td>4.0</td>\n",
       "      <td>171</td>\n",
       "      <td>1.0</td>\n",
       "    </tr>\n",
       "    <tr>\n",
       "      <th>3</th>\n",
       "      <td>4</td>\n",
       "      <td>1</td>\n",
       "      <td>46</td>\n",
       "      <td>4.0</td>\n",
       "      <td>88</td>\n",
       "      <td>2</td>\n",
       "      <td>130</td>\n",
       "      <td>2.0</td>\n",
       "      <td>172</td>\n",
       "      <td>4.0</td>\n",
       "    </tr>\n",
       "    <tr>\n",
       "      <th>4</th>\n",
       "      <td>5</td>\n",
       "      <td>4</td>\n",
       "      <td>47</td>\n",
       "      <td>NaN</td>\n",
       "      <td>89</td>\n",
       "      <td>1</td>\n",
       "      <td>131</td>\n",
       "      <td>4.0</td>\n",
       "      <td>173</td>\n",
       "      <td>2.0</td>\n",
       "    </tr>\n",
       "    <tr>\n",
       "      <th>5</th>\n",
       "      <td>6</td>\n",
       "      <td>3</td>\n",
       "      <td>48</td>\n",
       "      <td>4.0</td>\n",
       "      <td>90</td>\n",
       "      <td>3</td>\n",
       "      <td>132</td>\n",
       "      <td>4.0</td>\n",
       "      <td>174</td>\n",
       "      <td>3.0</td>\n",
       "    </tr>\n",
       "    <tr>\n",
       "      <th>6</th>\n",
       "      <td>7</td>\n",
       "      <td>4</td>\n",
       "      <td>49</td>\n",
       "      <td>4.0</td>\n",
       "      <td>91</td>\n",
       "      <td>1</td>\n",
       "      <td>133</td>\n",
       "      <td>2.0</td>\n",
       "      <td>175</td>\n",
       "      <td>2.0</td>\n",
       "    </tr>\n",
       "    <tr>\n",
       "      <th>7</th>\n",
       "      <td>8</td>\n",
       "      <td>2</td>\n",
       "      <td>50</td>\n",
       "      <td>2.0</td>\n",
       "      <td>92</td>\n",
       "      <td>2</td>\n",
       "      <td>134</td>\n",
       "      <td>4.0</td>\n",
       "      <td>176</td>\n",
       "      <td>2.0</td>\n",
       "    </tr>\n",
       "    <tr>\n",
       "      <th>8</th>\n",
       "      <td>9</td>\n",
       "      <td>3</td>\n",
       "      <td>51</td>\n",
       "      <td>3.0</td>\n",
       "      <td>93</td>\n",
       "      <td>3</td>\n",
       "      <td>135</td>\n",
       "      <td>4.0</td>\n",
       "      <td>177</td>\n",
       "      <td>3.0</td>\n",
       "    </tr>\n",
       "    <tr>\n",
       "      <th>9</th>\n",
       "      <td>10</td>\n",
       "      <td>4</td>\n",
       "      <td>52</td>\n",
       "      <td>3.0</td>\n",
       "      <td>94</td>\n",
       "      <td>3</td>\n",
       "      <td>136</td>\n",
       "      <td>3.0</td>\n",
       "      <td>178</td>\n",
       "      <td>4.0</td>\n",
       "    </tr>\n",
       "  </tbody>\n",
       "</table>\n",
       "</div>"
      ],
      "text/plain": [
       "    V  RC  V.1  RC.1  V.2  RC.2  V.3  RC.3  V.4  RC.4\n",
       "0   1   1   43   4.0   85     4  127   4.0  169   2.0\n",
       "1   2   4   44   2.0   86     1  128   3.0  170   3.0\n",
       "2   3   2   45   2.0   87     1  129   4.0  171   1.0\n",
       "3   4   1   46   4.0   88     2  130   2.0  172   4.0\n",
       "4   5   4   47   NaN   89     1  131   4.0  173   2.0\n",
       "5   6   3   48   4.0   90     3  132   4.0  174   3.0\n",
       "6   7   4   49   4.0   91     1  133   2.0  175   2.0\n",
       "7   8   2   50   2.0   92     2  134   4.0  176   2.0\n",
       "8   9   3   51   3.0   93     3  135   4.0  177   3.0\n",
       "9  10   4   52   3.0   94     3  136   3.0  178   4.0"
      ]
     },
     "execution_count": 5,
     "metadata": {},
     "output_type": "execute_result"
    }
   ],
   "source": [
    "raw_answers_df: pd.DataFrame = pd.read_table(f\"../data/raw/type_1/Raw_Cuaderno_{year}_{topic}_0_C_Respuestas.tsv\")\n",
    "raw_answers_df.head(10)"
   ]
  },
  {
   "cell_type": "markdown",
   "metadata": {
    "id": "uFFlTADP8Jo7"
   },
   "source": [
    "# Data Transformation"
   ]
  },
  {
   "cell_type": "markdown",
   "metadata": {},
   "source": [
    "## Exam pdf"
   ]
  },
  {
   "cell_type": "markdown",
   "metadata": {},
   "source": [
    "### Removing white space"
   ]
  },
  {
   "cell_type": "markdown",
   "metadata": {
    "id": "2QavIIOK8Jo7"
   },
   "source": [
    "This section focuses on cleaning the raw text extracted from the PDF exam file, preparing it for further processing. This involves removing extraneous whitespace, handling empty lines, and resetting the DataFrame index.\n",
    "\n",
    "**1. Removing Page Number Artifacts:**\n",
    "\n",
    "The extracted text may contain page number artifacts, which are removed by filtering out rows containing the string \"Página\"."
   ]
  },
  {
   "cell_type": "code",
   "execution_count": 6,
   "metadata": {},
   "outputs": [],
   "source": [
    "raw_exam_df = raw_exam_df[~raw_exam_df[\"text\"].str.contains(\"Página\")]\n",
    "raw_exam_df = raw_exam_df[~raw_exam_df[\"text\"].str.contains(\"Pagina\")]\n",
    "raw_exam_df = raw_exam_df[~raw_exam_df[\"text\"].str.contains(topic)]\n",
    "\n",
    "footer_list: list = [f\"- {npag} -\" for npag in range(0,30,1)]\n",
    "\n",
    "for footer in footer_list:\n",
    "    raw_exam_df[\"text\"] = raw_exam_df[\"text\"].str.replace(footer, \"\")"
   ]
  },
  {
   "cell_type": "markdown",
   "metadata": {},
   "source": [
    "**2. Striping Leading/Trailing Whitespaces**\n",
    "\n",
    "Leading and trailing whitespace characters are removed from each text entry using the .str.strip() method."
   ]
  },
  {
   "cell_type": "code",
   "execution_count": 7,
   "metadata": {},
   "outputs": [],
   "source": [
    "raw_exam_df = raw_exam_df[\"text\"].str.strip()"
   ]
  },
  {
   "cell_type": "markdown",
   "metadata": {},
   "source": [
    "**3. Handling Empty Lines**\n",
    "\n",
    "Empty lines, represented as empty strings, are replaced with NaN (Not a Number) values. \n",
    "\n",
    "Then rows containing NaN values, representing empty lines, are removed from the DataFrame using .dropna()"
   ]
  },
  {
   "cell_type": "code",
   "execution_count": 8,
   "metadata": {},
   "outputs": [],
   "source": [
    "raw_exam_df = raw_exam_df.replace(\"\", np.nan)\n",
    "raw_exam_df = raw_exam_df.dropna()"
   ]
  },
  {
   "cell_type": "markdown",
   "metadata": {},
   "source": [
    "**4. Reseting DataFrame Index**\n",
    "\n",
    "The DataFrame index is reset after removing rows, ensuring a contiguous index and dropping the old index."
   ]
  },
  {
   "cell_type": "code",
   "execution_count": 9,
   "metadata": {},
   "outputs": [],
   "source": [
    "raw_exam_df = raw_exam_df.reset_index(drop=True)"
   ]
  },
  {
   "cell_type": "markdown",
   "metadata": {},
   "source": [
    "**5. Displays the first 10 rows of the DataFrame**"
   ]
  },
  {
   "cell_type": "code",
   "execution_count": 10,
   "metadata": {},
   "outputs": [
    {
     "data": {
      "text/plain": [
       "0    1. ¿Qué especie se determina cuando se valora una\n",
       "1        muestra que contiene Ca 2+ y Mg 2+ con EDTA a\n",
       "2                    pH=12 y murexida como indicador?:\n",
       "3                                             1. Ca2+.\n",
       "4                                             2. Mg2+.\n",
       "5                                      3. Ca2+ + Mg2+.\n",
       "6                      4. Ninguna de las dos especies.\n",
       "7           2. Si valoramos 50,0 mL de HCl 0,050 M con\n",
       "8         NaOH 0,100 M, ¿cuál es el valor del pH en el\n",
       "9                              punto de equivalencia?:\n",
       "Name: text, dtype: object"
      ]
     },
     "execution_count": 10,
     "metadata": {},
     "output_type": "execute_result"
    }
   ],
   "source": [
    "raw_exam_df.head(10)"
   ]
  },
  {
   "cell_type": "code",
   "execution_count": 11,
   "metadata": {},
   "outputs": [
    {
     "data": {
      "text/plain": [
       "1844                            3. No se pueden corregir.\n",
       "1845      4. Son debidos al azar y no se pueden eliminar,\n",
       "1846                                 aunque sí minimizar.\n",
       "1847    210. ¿Cuál es la enzima encargada de desenroll...\n",
       "1848       doble hélice durante el proceso de replicación\n",
       "1849                                            del DNA?:\n",
       "1850                                          1. Primasa.\n",
       "1851                                       2. DNA girasa.\n",
       "1852                                     3. DNA helicasa.\n",
       "1853                                   4. DNA polimerasa.\n",
       "Name: text, dtype: object"
      ]
     },
     "execution_count": 11,
     "metadata": {},
     "output_type": "execute_result"
    }
   ],
   "source": [
    "raw_exam_df.tail(10)"
   ]
  },
  {
   "cell_type": "markdown",
   "metadata": {},
   "source": [
    "### Joining Truncated Lines"
   ]
  },
  {
   "cell_type": "markdown",
   "metadata": {},
   "source": [
    "This section addresses the issue of truncated lines and multi-line questions or options within the extracted exam text. A custom function, `process_multi_line_str`, is used to concatenate these lines, ensuring that each question and option is presented as a single, coherent string.\n",
    "\n",
    "**Function: `process_multi_line_str(df)`**\n",
    "\n",
    "This function iterates through the DataFrame, performing two main tasks:\n",
    "\n",
    "1.  **Joining Truncated Words:**\n",
    "    * It checks if a line ends with a hyphen (\"-\"), indicating a word that has been truncated at the end of a line.\n",
    "    * If a line is truncated, it removes the hyphen and appends the content of the following line to the current line.\n",
    "    * The following line is then removed from the DataFrame, and the index is reset.\n",
    "\n",
    "2.  **Joining Multi-Line Questions/Options:**\n",
    "    * It checks if the first character of the next line can be converted to an integer. This is used as a heuristic to identify the start of a new question or option.\n",
    "    * If the next line does not start with an integer (i.e., it's a continuation of the current question or option), it is appended to the current line, separated by a space.\n",
    "    * The next line is then removed, and the index is reset."
   ]
  },
  {
   "cell_type": "code",
   "execution_count": 12,
   "metadata": {
    "id": "rYZHjn_C8Jo8"
   },
   "outputs": [],
   "source": [
    "def process_multi_line_str(df: pd.DataFrame) -> pd.DataFrame:\n",
    "    \"\"\"Function to handle truncated lines\n",
    "\n",
    "    Args:\n",
    "        df (pd.DataFrame): A pandas dataframe\n",
    "\n",
    "    Returns:\n",
    "        pd.DataFrame: Returns the DataFrame without truncated lines\n",
    "    \"\"\"\n",
    "    i: int = 0\n",
    "    while i < len(df) - 1:\n",
    "        if i < len(df) -1  and df.iloc[i].endswith(\"-\"):\n",
    "            df.iloc[i] = df.iloc[i][:-1] + df.iloc[i + 1]\n",
    "            df = df.drop(i + 1)\n",
    "            df = df.reset_index(drop=True)\n",
    "        else:\n",
    "            i += 1\n",
    "    n: int = 0\n",
    "    while n < len(df) -1:\n",
    "        if n + 1 < len(df):\n",
    "            try:\n",
    "                int(df.iloc[n + 1][0:1])\n",
    "                n += 1\n",
    "            except ValueError:\n",
    "                df.iloc[n] = df.iloc[n] + \" \" + df.iloc[n + 1]\n",
    "                df = df.drop(n +1)\n",
    "                df = df.reset_index(drop= True)\n",
    "        else:\n",
    "            break\n",
    "    return df"
   ]
  },
  {
   "cell_type": "markdown",
   "metadata": {},
   "source": [
    "The process_multi_line_str function is applied to the cleaned raw_exam_df DataFrame, and the resulting DataFrame is stored in exam_df_concat. The first few rows of the concatenated DataFrame are displayed to verify the results."
   ]
  },
  {
   "cell_type": "code",
   "execution_count": 13,
   "metadata": {
    "colab": {
     "base_uri": "https://localhost:8080/",
     "height": 206
    },
    "id": "2v6dmQuM8_v1",
    "outputId": "215f5328-a43d-4bbb-f221-fba6fc10a5c1"
   },
   "outputs": [
    {
     "data": {
      "text/plain": [
       "0    1. ¿Qué especie se determina cuando se valora ...\n",
       "1                                             1. Ca2+.\n",
       "2                                             2. Mg2+.\n",
       "3                                      3. Ca2+ + Mg2+.\n",
       "4                      4. Ninguna de las dos especies.\n",
       "5    2. Si valoramos 50,0 mL de HCl 0,050 M con NaO...\n",
       "6                                                1. 1.\n",
       "7                                                2. 2.\n",
       "8                                                3. 5.\n",
       "9                                                4. 7.\n",
       "Name: text, dtype: object"
      ]
     },
     "execution_count": 13,
     "metadata": {},
     "output_type": "execute_result"
    }
   ],
   "source": [
    "exam_df_concat: pd.DataFrame = process_multi_line_str(raw_exam_df)\n",
    "exam_df_concat.head(10)"
   ]
  },
  {
   "cell_type": "markdown",
   "metadata": {},
   "source": [
    "### Validating and Correction Incorrect Rows"
   ]
  },
  {
   "cell_type": "markdown",
   "metadata": {},
   "source": [
    "This section focuses on validating the number of rows in the cleaned DataFrame against the expected number and correcting any rows that do not conform to the expected format.\n",
    "\n",
    "**1. Calculating Expected and Actual Incorrect Rows:**\n",
    "\n",
    "We calculate the expected number of incorrect rows by subtracting the total expected rows from the current number of rows in the DataFrame. We then identify the actual number of incorrect rows by counting the rows that do not end with a period (\".\"), a colon (\":\") or interrogation sign (\"?\")."
   ]
  },
  {
   "cell_type": "code",
   "execution_count": 14,
   "metadata": {},
   "outputs": [
    {
     "name": "stdout",
     "output_type": "stream",
     "text": [
      "Number of expected incorrect rows = 10\n",
      "Number of rows not ending with '.', ':' or '?' = 10\n",
      "[140, 471, 473, 475, 477, 495, 511, 512, 692, 829]\n"
     ]
    }
   ],
   "source": [
    "num_rows_incorrect_expected: int = len(exam_df_concat) - total_num_rows\n",
    "num_rows_incorrect: int = exam_df_concat[~exam_df_concat.str.endswith((\".\", \":\", \"?\"))].count()\n",
    "id_rows_incorrect: list = exam_df_concat[~exam_df_concat.str.endswith((\".\", \":\", \"?\"))].index.to_list()\n",
    "print(f\"Number of expected incorrect rows = {num_rows_incorrect_expected}\")\n",
    "print(f\"Number of rows not ending with '.', ':' or '?' = {num_rows_incorrect}\")\n",
    "print(id_rows_incorrect)"
   ]
  },
  {
   "cell_type": "markdown",
   "metadata": {},
   "source": [
    "**2. Function: print_rows_incorrrect(wrong_id, df):**\n",
    "\n",
    "This function takes a list of incorrect row indices and the DataFrame as input. It then prints the row identified as incorrect along with the 2 rows before and 2 rows after, providing context to help determine how to fix the error."
   ]
  },
  {
   "cell_type": "code",
   "execution_count": 15,
   "metadata": {},
   "outputs": [],
   "source": [
    "def print_rows_incorrrect(wrong_id: list[int], df: pd.DataFrame) -> None:\n",
    "    \"\"\"Print +/- 2 rows for context\n",
    "\n",
    "    Args:\n",
    "        wrong_id (list): Generated list of wrong row_id\n",
    "        df (pd.DataFrame): DataFrame corresponding with the worng_id list\n",
    "    \"\"\"\n",
    "    for wid in wrong_id:\n",
    "        print(f\"Id to fix {wid}:\")\n",
    "        print(df.iloc[wid -2: wid +3])"
   ]
  },
  {
   "cell_type": "markdown",
   "metadata": {},
   "source": [
    "**3. Function: fix_incorrect(num_row, df):**\n",
    "\n",
    "This function takes a list of row indices to fix and the DataFrame. It iterates through the indices in reverse order to avoid index shifting problems. Each incorrect row is concatenated with the row immediately following it, and the subsequent row is then dropped. The DataFrame index is reset after each concatenation."
   ]
  },
  {
   "cell_type": "code",
   "execution_count": 16,
   "metadata": {},
   "outputs": [],
   "source": [
    "def fix_incorrect(num_row: list[int], df: pd.DataFrame) -> pd.DataFrame:\n",
    "    \"\"\"Fix the incorrect rows in the DataFrame\n",
    "\n",
    "    Args:\n",
    "        num_row (list): List of ids to fix\n",
    "        df (pd.DataFrame): The DataFrame to fix\n",
    "\n",
    "    Returns:\n",
    "        pd.DataFrame: Fixed\n",
    "    \"\"\"\n",
    "    num_row: list = sorted(num_row, reverse=True)\n",
    "    for n in num_row:\n",
    "        df.iloc[n] = df.iloc[n] + df.iloc[n + 1]\n",
    "        df = df.drop(n + 1)\n",
    "        df = df.reset_index(drop= True)\n",
    "    return df"
   ]
  },
  {
   "cell_type": "markdown",
   "metadata": {},
   "source": [
    "**4. Validation and Correction Logic:**\n",
    "\n",
    "We compare the expected and actual number of incorrect rows. If they match, we proceed to fix the incorrect rows using the `fix_incorrect` function. Otherwise, we print the context of the incorrect rows and raise a warning, indicating that manual inspection and correction are required."
   ]
  },
  {
   "cell_type": "code",
   "execution_count": 17,
   "metadata": {},
   "outputs": [],
   "source": [
    "if num_rows_incorrect_expected == num_rows_incorrect:\n",
    "    exam_df_fixed = fix_incorrect(id_rows_incorrect, exam_df_concat)\n",
    "    df_correct_rows: bool = len(exam_df_fixed) == num_rows_incorrect_expected\n",
    "else:\n",
    "    print_rows_incorrrect(id_rows_incorrect, exam_df_concat)\n",
    "    # raise Warning(\"More incorrect rows that expected, uncomment the lines below and add ids to the list, and comment this line\")\n",
    "    rows_fix: list[int] = [2, 86]\n",
    "    exam_df_fixed: pd.DataFrame = fix_incorrect(rows_fix, exam_df_concat)"
   ]
  },
  {
   "cell_type": "markdown",
   "metadata": {},
   "source": [
    "**5. Verification of Corrected Rows:**\n",
    "\n",
    "We print the expected total number of rows and the actual number of rows in the corrected DataFrame to verify the results of the correction process."
   ]
  },
  {
   "cell_type": "code",
   "execution_count": 18,
   "metadata": {},
   "outputs": [
    {
     "name": "stdout",
     "output_type": "stream",
     "text": [
      "Correct number of rows = 1050\n",
      "1050\n"
     ]
    }
   ],
   "source": [
    "print(f\"Correct number of rows = {total_num_rows}\")\n",
    "print(exam_df_fixed.shape[0])"
   ]
  },
  {
   "cell_type": "markdown",
   "metadata": {},
   "source": [
    "### Pivoting the DataFrame\n",
    "\n",
    "This section focuses on transforming the cleaned exam data into a structured format suitable for analysis. The DataFrame is pivoted to create columns for each question and its corresponding options.\n",
    "\n",
    "**1. Preparing the DataFrame for Pivoting:**\n",
    "\n",
    "The `exam_df_fixed` Series is converted to a DataFrame, and a 'group' column is created to identify each question and its options. An 'option_num' column is then generated to enumerate the options within each group.\n"
   ]
  },
  {
   "cell_type": "code",
   "execution_count": 19,
   "metadata": {},
   "outputs": [],
   "source": [
    "exam_df_fixed = exam_df_fixed.to_frame()\n",
    "groups: pd.Series = pd.Series((exam_df_fixed.index // (num_questions+1)) +1)\n",
    "exam_df_fixed[\"group\"] = groups  \n",
    "exam_df_fixed[\"option_num\"] = exam_df_fixed.groupby(\"group\").cumcount() + 1"
   ]
  },
  {
   "cell_type": "markdown",
   "metadata": {},
   "source": [
    "**2. Pivoting the DataFrame:**\n",
    "\n",
    "The DataFrame is pivoted using the 'group' column as the index, the 'option_num' column as the columns, and the 'text' column as the values. The index is then reset."
   ]
  },
  {
   "cell_type": "code",
   "execution_count": 20,
   "metadata": {},
   "outputs": [],
   "source": [
    "exam_df_pivot: pd.DataFrame = exam_df_fixed.pivot(index=\"group\", columns=\"option_num\", values=\"text\")\n",
    "exam_df_pivot = exam_df_pivot.reset_index()"
   ]
  },
  {
   "cell_type": "markdown",
   "metadata": {},
   "source": [
    "**3. Renaming Columns:**\n",
    "\n",
    "The columns are renamed to more descriptive names, such as \"Question\", \"Option_1\", \"Option_2\", etc."
   ]
  },
  {
   "cell_type": "code",
   "execution_count": 21,
   "metadata": {},
   "outputs": [],
   "source": [
    "key_list: list = [x for x in range(1, num_questions+2, 1)]\n",
    "val_list: list = [\"Question\"] + [f\"Option_{x}\" for x in range(1, 4 + 1, 1)]\n",
    "\n",
    "exam_df_pivot = exam_df_pivot.rename_axis(None, axis=1).rename(columns=dict(zip(key_list, val_list)))"
   ]
  },
  {
   "cell_type": "markdown",
   "metadata": {},
   "source": [
    "**4. Dropping the 'group' Column:**\n",
    "\n",
    "The 'group' column is dropped as it is no longer needed"
   ]
  },
  {
   "cell_type": "code",
   "execution_count": 22,
   "metadata": {},
   "outputs": [],
   "source": [
    "exam_df_pivot = exam_df_pivot.drop(columns=[\"group\"])"
   ]
  },
  {
   "cell_type": "markdown",
   "metadata": {},
   "source": [
    "**5. Displaying the Pivoted DataFrame:**\n",
    "\n",
    "The first 10 rows of the pivoted DataFrame are displayed to verify the results of the transformation."
   ]
  },
  {
   "cell_type": "code",
   "execution_count": 23,
   "metadata": {},
   "outputs": [
    {
     "data": {
      "application/vnd.microsoft.datawrangler.viewer.v0+json": {
       "columns": [
        {
         "name": "index",
         "rawType": "int64",
         "type": "integer"
        },
        {
         "name": "Question",
         "rawType": "object",
         "type": "string"
        },
        {
         "name": "Option_1",
         "rawType": "object",
         "type": "string"
        },
        {
         "name": "Option_2",
         "rawType": "object",
         "type": "string"
        },
        {
         "name": "Option_3",
         "rawType": "object",
         "type": "string"
        },
        {
         "name": "Option_4",
         "rawType": "object",
         "type": "string"
        }
       ],
       "conversionMethod": "pd.DataFrame",
       "ref": "d727f183-0402-4584-86ed-3feecea3006e",
       "rows": [
        [
         "0",
         "1. ¿Qué especie se determina cuando se valora una muestra que contiene Ca 2+ y Mg 2+ con EDTA a pH=12 y murexida como indicador?:",
         "1. Ca2+.",
         "2. Mg2+.",
         "3. Ca2+ + Mg2+.",
         "4. Ninguna de las dos especies."
        ],
        [
         "1",
         "2. Si valoramos 50,0 mL de HCl 0,050 M con NaOH 0,100 M, ¿cuál es el valor del pH en el punto de equivalencia?:",
         "1. 1.",
         "2. 2.",
         "3. 5.",
         "4. 7."
        ],
        [
         "2",
         "3. En una disolución acuosa de KHA, ¿cuál es la relación entre la concentración del ion potasio y la concentración del resto de las especies?:",
         "1. [K+]= [HA-] + [OH-].",
         "2. [K+]= [H2A] + [HA-] + [A2-].",
         "3. [K+]= [HA-] + [OH-] + 2[A2-].",
         "4. [K+]= [HA-] + [OH-] + 2[A2-]."
        ],
        [
         "3",
         "4. ¿Qué proceso controla la corriente en la polarografía convencional?:",
         "1. La difusión.",
         "2. La convección.",
         "3. La adsorción.",
         "4. La conducción."
        ],
        [
         "4",
         "5. ¿Cuál de las siguientes afirmaciones es FALSA en relación con la calibración con patrón interno?:",
         "1. Se aplica cuando, entre medidas sucesivas, es difícil mantener alguno de los parámetros operatorios o reproducir la cantidad de muestra sometida al proceso de medida.",
         "2. Se añaden a las muestras y a los patrones de calibración cantidades c onocidas del patrón interno.",
         "3. El patrón interno debe presentar, en el proceso analítico, un comportamiento análogo al del analito que se quiere determinar.",
         "4. La concentración del analito de interés se obtiene por extrapolación de la recta de regresión al punto del eje x (cantidad de analito añadida) donde la señal analítica medida es cero."
        ],
        [
         "5",
         "6. Una disolución 0.1 M de un ácido débil monoprótico (HA) tiene un pH de 4. Se cumple que:",
         "1. pKa = 2.",
         "2. pKa = 5.",
         "3. pKa = 7.",
         "4. pKa = 9."
        ],
        [
         "6",
         "7. ¿Cuál de las siguientes afirmaciones es FALSA en relación con la yodometría?:",
         "1. Es un método que consiste en la valoración del yodo generado en la reacción entre un analito oxidante y un exceso de yoduro.",
         "2. El reactivo valorante del yodo generado es una disolución patrón de carácter reductor, generalmente tiosulfato de sodio.",
         "3. El almidón (indicador) se añade cerca del punto final de la valoración cuando la mayor parte del yodo ha sido valorada.",
         "4. El punto final de la valoración yodométrica se pone de manifiesto por la aparición de color azul."
        ],
        [
         "7",
         "8. Las variaciones de presión en cromatografía de fluidos supercríticos:",
         "1. No presentan ningún efecto sobre los tiempos de retención de las especies separadas.",
         "2. Presentan un efecto muy marcado sobre el factor de retención k.",
         "3. Tienen lugar durante l a separación debido a fenómenos de descomposición de los fluidos utilizados.",
         "4. Empeoran significativamente los cromatogramas obtenidos."
        ],
        [
         "8",
         "9. La valoración de Karl Fischer está relacionada con:",
         "1. La determinación de la dureza de un agua mineral.",
         "2. La determinación potenciométrica de haluros.",
         "3. La determinación de agua.",
         "4. La determinación del punto isoeléctrico de una proteína."
        ],
        [
         "9",
         "10. Identifica la sustancia que se utiliza con más frecuencia como fase móvil en cromatografía de fluidos supercríticos:",
         "1. Agua.",
         "2. Metanol.",
         "3. Hexano.",
         "4. Dióxido de carbono."
        ]
       ],
       "shape": {
        "columns": 5,
        "rows": 10
       }
      },
      "text/html": [
       "<div>\n",
       "<style scoped>\n",
       "    .dataframe tbody tr th:only-of-type {\n",
       "        vertical-align: middle;\n",
       "    }\n",
       "\n",
       "    .dataframe tbody tr th {\n",
       "        vertical-align: top;\n",
       "    }\n",
       "\n",
       "    .dataframe thead th {\n",
       "        text-align: right;\n",
       "    }\n",
       "</style>\n",
       "<table border=\"1\" class=\"dataframe\">\n",
       "  <thead>\n",
       "    <tr style=\"text-align: right;\">\n",
       "      <th></th>\n",
       "      <th>Question</th>\n",
       "      <th>Option_1</th>\n",
       "      <th>Option_2</th>\n",
       "      <th>Option_3</th>\n",
       "      <th>Option_4</th>\n",
       "    </tr>\n",
       "  </thead>\n",
       "  <tbody>\n",
       "    <tr>\n",
       "      <th>0</th>\n",
       "      <td>1. ¿Qué especie se determina cuando se valora ...</td>\n",
       "      <td>1. Ca2+.</td>\n",
       "      <td>2. Mg2+.</td>\n",
       "      <td>3. Ca2+ + Mg2+.</td>\n",
       "      <td>4. Ninguna de las dos especies.</td>\n",
       "    </tr>\n",
       "    <tr>\n",
       "      <th>1</th>\n",
       "      <td>2. Si valoramos 50,0 mL de HCl 0,050 M con NaO...</td>\n",
       "      <td>1. 1.</td>\n",
       "      <td>2. 2.</td>\n",
       "      <td>3. 5.</td>\n",
       "      <td>4. 7.</td>\n",
       "    </tr>\n",
       "    <tr>\n",
       "      <th>2</th>\n",
       "      <td>3. En una disolución acuosa de KHA, ¿cuál es l...</td>\n",
       "      <td>1. [K+]= [HA-] + [OH-].</td>\n",
       "      <td>2. [K+]= [H2A] + [HA-] + [A2-].</td>\n",
       "      <td>3. [K+]= [HA-] + [OH-] + 2[A2-].</td>\n",
       "      <td>4. [K+]= [HA-] + [OH-] + 2[A2-].</td>\n",
       "    </tr>\n",
       "    <tr>\n",
       "      <th>3</th>\n",
       "      <td>4. ¿Qué proceso controla la corriente en la po...</td>\n",
       "      <td>1. La difusión.</td>\n",
       "      <td>2. La convección.</td>\n",
       "      <td>3. La adsorción.</td>\n",
       "      <td>4. La conducción.</td>\n",
       "    </tr>\n",
       "    <tr>\n",
       "      <th>4</th>\n",
       "      <td>5. ¿Cuál de las siguientes afirmaciones es FAL...</td>\n",
       "      <td>1. Se aplica cuando, entre medidas sucesivas, ...</td>\n",
       "      <td>2. Se añaden a las muestras y a los patrones d...</td>\n",
       "      <td>3. El patrón interno debe presentar, en el pro...</td>\n",
       "      <td>4. La concentración del analito de interés se ...</td>\n",
       "    </tr>\n",
       "    <tr>\n",
       "      <th>5</th>\n",
       "      <td>6. Una disolución 0.1 M de un ácido débil mono...</td>\n",
       "      <td>1. pKa = 2.</td>\n",
       "      <td>2. pKa = 5.</td>\n",
       "      <td>3. pKa = 7.</td>\n",
       "      <td>4. pKa = 9.</td>\n",
       "    </tr>\n",
       "    <tr>\n",
       "      <th>6</th>\n",
       "      <td>7. ¿Cuál de las siguientes afirmaciones es FAL...</td>\n",
       "      <td>1. Es un método que consiste en la valoración ...</td>\n",
       "      <td>2. El reactivo valorante del yodo generado es ...</td>\n",
       "      <td>3. El almidón (indicador) se añade cerca del p...</td>\n",
       "      <td>4. El punto final de la valoración yodométrica...</td>\n",
       "    </tr>\n",
       "    <tr>\n",
       "      <th>7</th>\n",
       "      <td>8. Las variaciones de presión en cromatografía...</td>\n",
       "      <td>1. No presentan ningún efecto sobre los tiempo...</td>\n",
       "      <td>2. Presentan un efecto muy marcado sobre el fa...</td>\n",
       "      <td>3. Tienen lugar durante l a separación debido ...</td>\n",
       "      <td>4. Empeoran significativamente los cromatogram...</td>\n",
       "    </tr>\n",
       "    <tr>\n",
       "      <th>8</th>\n",
       "      <td>9. La valoración de Karl Fischer está relacion...</td>\n",
       "      <td>1. La determinación de la dureza de un agua mi...</td>\n",
       "      <td>2. La determinación potenciométrica de haluros.</td>\n",
       "      <td>3. La determinación de agua.</td>\n",
       "      <td>4. La determinación del punto isoeléctrico de ...</td>\n",
       "    </tr>\n",
       "    <tr>\n",
       "      <th>9</th>\n",
       "      <td>10. Identifica la sustancia que se utiliza con...</td>\n",
       "      <td>1. Agua.</td>\n",
       "      <td>2. Metanol.</td>\n",
       "      <td>3. Hexano.</td>\n",
       "      <td>4. Dióxido de carbono.</td>\n",
       "    </tr>\n",
       "  </tbody>\n",
       "</table>\n",
       "</div>"
      ],
      "text/plain": [
       "                                            Question  \\\n",
       "0  1. ¿Qué especie se determina cuando se valora ...   \n",
       "1  2. Si valoramos 50,0 mL de HCl 0,050 M con NaO...   \n",
       "2  3. En una disolución acuosa de KHA, ¿cuál es l...   \n",
       "3  4. ¿Qué proceso controla la corriente en la po...   \n",
       "4  5. ¿Cuál de las siguientes afirmaciones es FAL...   \n",
       "5  6. Una disolución 0.1 M de un ácido débil mono...   \n",
       "6  7. ¿Cuál de las siguientes afirmaciones es FAL...   \n",
       "7  8. Las variaciones de presión en cromatografía...   \n",
       "8  9. La valoración de Karl Fischer está relacion...   \n",
       "9  10. Identifica la sustancia que se utiliza con...   \n",
       "\n",
       "                                            Option_1  \\\n",
       "0                                           1. Ca2+.   \n",
       "1                                              1. 1.   \n",
       "2                            1. [K+]= [HA-] + [OH-].   \n",
       "3                                    1. La difusión.   \n",
       "4  1. Se aplica cuando, entre medidas sucesivas, ...   \n",
       "5                                        1. pKa = 2.   \n",
       "6  1. Es un método que consiste en la valoración ...   \n",
       "7  1. No presentan ningún efecto sobre los tiempo...   \n",
       "8  1. La determinación de la dureza de un agua mi...   \n",
       "9                                           1. Agua.   \n",
       "\n",
       "                                            Option_2  \\\n",
       "0                                           2. Mg2+.   \n",
       "1                                              2. 2.   \n",
       "2                    2. [K+]= [H2A] + [HA-] + [A2-].   \n",
       "3                                  2. La convección.   \n",
       "4  2. Se añaden a las muestras y a los patrones d...   \n",
       "5                                        2. pKa = 5.   \n",
       "6  2. El reactivo valorante del yodo generado es ...   \n",
       "7  2. Presentan un efecto muy marcado sobre el fa...   \n",
       "8    2. La determinación potenciométrica de haluros.   \n",
       "9                                        2. Metanol.   \n",
       "\n",
       "                                            Option_3  \\\n",
       "0                                    3. Ca2+ + Mg2+.   \n",
       "1                                              3. 5.   \n",
       "2                   3. [K+]= [HA-] + [OH-] + 2[A2-].   \n",
       "3                                   3. La adsorción.   \n",
       "4  3. El patrón interno debe presentar, en el pro...   \n",
       "5                                        3. pKa = 7.   \n",
       "6  3. El almidón (indicador) se añade cerca del p...   \n",
       "7  3. Tienen lugar durante l a separación debido ...   \n",
       "8                       3. La determinación de agua.   \n",
       "9                                         3. Hexano.   \n",
       "\n",
       "                                            Option_4  \n",
       "0                    4. Ninguna de las dos especies.  \n",
       "1                                              4. 7.  \n",
       "2                   4. [K+]= [HA-] + [OH-] + 2[A2-].  \n",
       "3                                  4. La conducción.  \n",
       "4  4. La concentración del analito de interés se ...  \n",
       "5                                        4. pKa = 9.  \n",
       "6  4. El punto final de la valoración yodométrica...  \n",
       "7  4. Empeoran significativamente los cromatogram...  \n",
       "8  4. La determinación del punto isoeléctrico de ...  \n",
       "9                             4. Dióxido de carbono.  "
      ]
     },
     "execution_count": 23,
     "metadata": {},
     "output_type": "execute_result"
    }
   ],
   "source": [
    "exam_df_pivot.head(10)"
   ]
  },
  {
   "cell_type": "code",
   "execution_count": 24,
   "metadata": {},
   "outputs": [
    {
     "data": {
      "application/vnd.microsoft.datawrangler.viewer.v0+json": {
       "columns": [
        {
         "name": "index",
         "rawType": "int64",
         "type": "integer"
        },
        {
         "name": "Question",
         "rawType": "object",
         "type": "string"
        },
        {
         "name": "Option_1",
         "rawType": "object",
         "type": "string"
        },
        {
         "name": "Option_2",
         "rawType": "object",
         "type": "string"
        },
        {
         "name": "Option_3",
         "rawType": "object",
         "type": "string"
        },
        {
         "name": "Option_4",
         "rawType": "object",
         "type": "string"
        }
       ],
       "conversionMethod": "pd.DataFrame",
       "ref": "824df0a5-c58d-413d-a460-fe71b9ab6ffa",
       "rows": [
        [
         "200",
         "201. ¿Cuál de las siguientes afirmaciones sobre los diagramas de Pourbaix es FALSA?:",
         "1. Son representaciones gráficas del potencial (ordenada) en función del pH (abscisa) para un elemento dado bajo condiciones termodinámicas estándar (usualmente agua a 25°C).",
         "2. Las especies más oxidadas se hallan en la parte superior del diagrama, mientras que las especies más reducidas se encuentran en la parte inferior.",
         "3. Las líneas oblicuas indican reacciones entre especies con dependencia tanto del potencial como del pH.",
         "4. Dos líneas oblicuas y paralelas, que representan la oxidación del agua (línea inferior) y la reducción del agua (línea superior), delimitan una zona del diagrama que contiene las especies estables en solución acuosa."
        ],
        [
         "201",
         "202. ¿Cuál de los siguientes compuestos experimentará un reagrupamiento cuando sea sometido a una reacción de solvólisis?:",
         "1. 3-yodo-5-metilhexano.",
         "2. 3-yodohexano.",
         "3. 3-yodo-2-metilhexano.",
         "4. 3-yodo-3-metilhexano."
        ],
        [
         "202",
         "203. ¿Qué mide la escala de Mohs?:",
         "1. Acidez.",
         "2. Conductividad.",
         "3. Dureza.",
         "4. Viscosidad."
        ],
        [
         "203",
         "204. La bilirrubina es:",
         "1. Un biomarcador de función hepática.",
         "2. Un biomarcador de función renal.",
         "3. Un biomarcador de función cardiaca.",
         "4. Un biomarcador de función cerebral."
        ],
        [
         "204",
         "205. ¿Qué tipo de electroforesis capilar emplea un gradiente de pH continuo y estable?:",
         "1. Electroforesis capilar de zona (CZE).",
         "2. Electroforesis capilar en gel (CGE).",
         "3. Isotacoforesis capilar (CITP).",
         "4. Isoelectroenfoque capilar (CIEF)."
        ],
        [
         "205",
         "206. ¿A qué corresponde el código UFI que consta obligatoriamente en la etiqueta de productos clasificados por sus riesgos para la salud?:",
         "1. Código alfanumérico que  permite identificar de forma unívoca un producto durante una llamada de emergencia a un centro toxicológico.",
         "2. Código QR que incluye información sobre el lote y fecha de caducidad de un producto.",
         "3. Código de barras que incluye información sobre el lote y fecha de caducidad de un producto y permite identificarlo durante una emergencia.",
         "4. Código QR que permite identificar de forma unívoca un producto durante una llamada de emergencia a un centro toxicológico."
        ],
        [
         "206",
         "207. La fluorescencia molecular:",
         "1. Es más intensa al aumentar la temperatura.",
         "2. Es más intensa al disminuir la viscosidad del disolvente.",
         "3. Está particularmente favorecida en las moléculas rígidas.",
         "4. Presenta un mayor rendimiento cuántico de emisión en medios con niveles de oxígeno elevados."
        ],
        [
         "207",
         "208. Considere la siguiente reacción: C (s) +  H2O(g) ⇌ CO(g) + H2(g). En el equilibrio a una temperatura determinada las concentraciones son: [H2O]=0,12 M y [CO]=[H 2]=1,2 M. Si todas estas concentraciones aumentan en 0,5 M de forma simultánea, ¿cuál de las siguientes respuestas es cierta?:",
         "1. Se formará más H2O(g).",
         "2. Se formarán más productos.",
         "3. Es preciso conocer el valor de K p para saber lo que sucede.",
         "4. El valor de K c no cambia, por lo tanto, no pasa nada."
        ],
        [
         "208",
         "209. Toda medida lleva asociada un error. Los errores sistemáticos son aquellos producidos por los equipos de medida o por los analistas que:",
         "1. Se corrigen realizando un número elevado de medidas.",
         "2. S e  p r o d u c e n  s i e m p r e  e n  e l  m i s m o  s e n t i d o , provocando un sesgo.",
         "3. No se pueden corregir.",
         "4. Son debidos al azar y no se pueden eliminar, aunque sí minimizar."
        ],
        [
         "209",
         "210. ¿Cuál es la enzima encargada de desenrollar la doble hélice durante el proceso de replicación del DNA?:",
         "1. Primasa.",
         "2. DNA girasa.",
         "3. DNA helicasa.",
         "4. DNA polimerasa."
        ]
       ],
       "shape": {
        "columns": 5,
        "rows": 10
       }
      },
      "text/html": [
       "<div>\n",
       "<style scoped>\n",
       "    .dataframe tbody tr th:only-of-type {\n",
       "        vertical-align: middle;\n",
       "    }\n",
       "\n",
       "    .dataframe tbody tr th {\n",
       "        vertical-align: top;\n",
       "    }\n",
       "\n",
       "    .dataframe thead th {\n",
       "        text-align: right;\n",
       "    }\n",
       "</style>\n",
       "<table border=\"1\" class=\"dataframe\">\n",
       "  <thead>\n",
       "    <tr style=\"text-align: right;\">\n",
       "      <th></th>\n",
       "      <th>Question</th>\n",
       "      <th>Option_1</th>\n",
       "      <th>Option_2</th>\n",
       "      <th>Option_3</th>\n",
       "      <th>Option_4</th>\n",
       "    </tr>\n",
       "  </thead>\n",
       "  <tbody>\n",
       "    <tr>\n",
       "      <th>200</th>\n",
       "      <td>201. ¿Cuál de las siguientes afirmaciones sobr...</td>\n",
       "      <td>1. Son representaciones gráficas del potencial...</td>\n",
       "      <td>2. Las especies más oxidadas se hallan en la p...</td>\n",
       "      <td>3. Las líneas oblicuas indican reacciones entr...</td>\n",
       "      <td>4. Dos líneas oblicuas y paralelas, que repres...</td>\n",
       "    </tr>\n",
       "    <tr>\n",
       "      <th>201</th>\n",
       "      <td>202. ¿Cuál de los siguientes compuestos experi...</td>\n",
       "      <td>1. 3-yodo-5-metilhexano.</td>\n",
       "      <td>2. 3-yodohexano.</td>\n",
       "      <td>3. 3-yodo-2-metilhexano.</td>\n",
       "      <td>4. 3-yodo-3-metilhexano.</td>\n",
       "    </tr>\n",
       "    <tr>\n",
       "      <th>202</th>\n",
       "      <td>203. ¿Qué mide la escala de Mohs?:</td>\n",
       "      <td>1. Acidez.</td>\n",
       "      <td>2. Conductividad.</td>\n",
       "      <td>3. Dureza.</td>\n",
       "      <td>4. Viscosidad.</td>\n",
       "    </tr>\n",
       "    <tr>\n",
       "      <th>203</th>\n",
       "      <td>204. La bilirrubina es:</td>\n",
       "      <td>1. Un biomarcador de función hepática.</td>\n",
       "      <td>2. Un biomarcador de función renal.</td>\n",
       "      <td>3. Un biomarcador de función cardiaca.</td>\n",
       "      <td>4. Un biomarcador de función cerebral.</td>\n",
       "    </tr>\n",
       "    <tr>\n",
       "      <th>204</th>\n",
       "      <td>205. ¿Qué tipo de electroforesis capilar emple...</td>\n",
       "      <td>1. Electroforesis capilar de zona (CZE).</td>\n",
       "      <td>2. Electroforesis capilar en gel (CGE).</td>\n",
       "      <td>3. Isotacoforesis capilar (CITP).</td>\n",
       "      <td>4. Isoelectroenfoque capilar (CIEF).</td>\n",
       "    </tr>\n",
       "    <tr>\n",
       "      <th>205</th>\n",
       "      <td>206. ¿A qué corresponde el código UFI que cons...</td>\n",
       "      <td>1. Código alfanumérico que  permite identifica...</td>\n",
       "      <td>2. Código QR que incluye información sobre el ...</td>\n",
       "      <td>3. Código de barras que incluye información so...</td>\n",
       "      <td>4. Código QR que permite identificar de forma ...</td>\n",
       "    </tr>\n",
       "    <tr>\n",
       "      <th>206</th>\n",
       "      <td>207. La fluorescencia molecular:</td>\n",
       "      <td>1. Es más intensa al aumentar la temperatura.</td>\n",
       "      <td>2. Es más intensa al disminuir la viscosidad d...</td>\n",
       "      <td>3. Está particularmente favorecida en las molé...</td>\n",
       "      <td>4. Presenta un mayor rendimiento cuántico de e...</td>\n",
       "    </tr>\n",
       "    <tr>\n",
       "      <th>207</th>\n",
       "      <td>208. Considere la siguiente reacción: C (s) + ...</td>\n",
       "      <td>1. Se formará más H2O(g).</td>\n",
       "      <td>2. Se formarán más productos.</td>\n",
       "      <td>3. Es preciso conocer el valor de K p para sab...</td>\n",
       "      <td>4. El valor de K c no cambia, por lo tanto, no...</td>\n",
       "    </tr>\n",
       "    <tr>\n",
       "      <th>208</th>\n",
       "      <td>209. Toda medida lleva asociada un error. Los ...</td>\n",
       "      <td>1. Se corrigen realizando un número elevado de...</td>\n",
       "      <td>2. S e  p r o d u c e n  s i e m p r e  e n  e...</td>\n",
       "      <td>3. No se pueden corregir.</td>\n",
       "      <td>4. Son debidos al azar y no se pueden eliminar...</td>\n",
       "    </tr>\n",
       "    <tr>\n",
       "      <th>209</th>\n",
       "      <td>210. ¿Cuál es la enzima encargada de desenroll...</td>\n",
       "      <td>1. Primasa.</td>\n",
       "      <td>2. DNA girasa.</td>\n",
       "      <td>3. DNA helicasa.</td>\n",
       "      <td>4. DNA polimerasa.</td>\n",
       "    </tr>\n",
       "  </tbody>\n",
       "</table>\n",
       "</div>"
      ],
      "text/plain": [
       "                                              Question  \\\n",
       "200  201. ¿Cuál de las siguientes afirmaciones sobr...   \n",
       "201  202. ¿Cuál de los siguientes compuestos experi...   \n",
       "202                 203. ¿Qué mide la escala de Mohs?:   \n",
       "203                            204. La bilirrubina es:   \n",
       "204  205. ¿Qué tipo de electroforesis capilar emple...   \n",
       "205  206. ¿A qué corresponde el código UFI que cons...   \n",
       "206                   207. La fluorescencia molecular:   \n",
       "207  208. Considere la siguiente reacción: C (s) + ...   \n",
       "208  209. Toda medida lleva asociada un error. Los ...   \n",
       "209  210. ¿Cuál es la enzima encargada de desenroll...   \n",
       "\n",
       "                                              Option_1  \\\n",
       "200  1. Son representaciones gráficas del potencial...   \n",
       "201                           1. 3-yodo-5-metilhexano.   \n",
       "202                                         1. Acidez.   \n",
       "203             1. Un biomarcador de función hepática.   \n",
       "204           1. Electroforesis capilar de zona (CZE).   \n",
       "205  1. Código alfanumérico que  permite identifica...   \n",
       "206      1. Es más intensa al aumentar la temperatura.   \n",
       "207                          1. Se formará más H2O(g).   \n",
       "208  1. Se corrigen realizando un número elevado de...   \n",
       "209                                        1. Primasa.   \n",
       "\n",
       "                                              Option_2  \\\n",
       "200  2. Las especies más oxidadas se hallan en la p...   \n",
       "201                                   2. 3-yodohexano.   \n",
       "202                                  2. Conductividad.   \n",
       "203                2. Un biomarcador de función renal.   \n",
       "204            2. Electroforesis capilar en gel (CGE).   \n",
       "205  2. Código QR que incluye información sobre el ...   \n",
       "206  2. Es más intensa al disminuir la viscosidad d...   \n",
       "207                      2. Se formarán más productos.   \n",
       "208  2. S e  p r o d u c e n  s i e m p r e  e n  e...   \n",
       "209                                     2. DNA girasa.   \n",
       "\n",
       "                                              Option_3  \\\n",
       "200  3. Las líneas oblicuas indican reacciones entr...   \n",
       "201                           3. 3-yodo-2-metilhexano.   \n",
       "202                                         3. Dureza.   \n",
       "203             3. Un biomarcador de función cardiaca.   \n",
       "204                  3. Isotacoforesis capilar (CITP).   \n",
       "205  3. Código de barras que incluye información so...   \n",
       "206  3. Está particularmente favorecida en las molé...   \n",
       "207  3. Es preciso conocer el valor de K p para sab...   \n",
       "208                          3. No se pueden corregir.   \n",
       "209                                   3. DNA helicasa.   \n",
       "\n",
       "                                              Option_4  \n",
       "200  4. Dos líneas oblicuas y paralelas, que repres...  \n",
       "201                           4. 3-yodo-3-metilhexano.  \n",
       "202                                     4. Viscosidad.  \n",
       "203             4. Un biomarcador de función cerebral.  \n",
       "204               4. Isoelectroenfoque capilar (CIEF).  \n",
       "205  4. Código QR que permite identificar de forma ...  \n",
       "206  4. Presenta un mayor rendimiento cuántico de e...  \n",
       "207  4. El valor de K c no cambia, por lo tanto, no...  \n",
       "208  4. Son debidos al azar y no se pueden eliminar...  \n",
       "209                                 4. DNA polimerasa.  "
      ]
     },
     "execution_count": 24,
     "metadata": {},
     "output_type": "execute_result"
    }
   ],
   "source": [
    "exam_df_pivot.tail(10)"
   ]
  },
  {
   "cell_type": "markdown",
   "metadata": {},
   "source": [
    "## Answers tsv\n",
    "\n",
    "This section focuses on cleaning and consolidating the answer key data from the TSV file. The original data contains duplicate columns, which are processed and combined into a single, clean DataFrame.\n",
    "\n",
    "**1. Defining Column Lists:**\n",
    "\n",
    "We define lists containing the original column names and the duplicate column names."
   ]
  },
  {
   "cell_type": "code",
   "execution_count": 25,
   "metadata": {},
   "outputs": [],
   "source": [
    "original_col: list[str] = [\"V\", \"RC\"]\n",
    "duplicate_cols: list[str] = [\"V.1\", \"RC.1\", \"V.2\", \"RC.2\", \"V.3\", \"RC.3\", \"V.4\", \"RC.4\"]"
   ]
  },
  {
   "cell_type": "markdown",
   "metadata": {},
   "source": [
    "**2. Processing Duplicate Columns:**\n",
    "\n",
    "We iterate through the duplicate_cols list in pairs, extracting the corresponding columns, renaming them to the original column names, and appending them to a list of DataFrames."
   ]
  },
  {
   "cell_type": "code",
   "execution_count": 26,
   "metadata": {},
   "outputs": [],
   "source": [
    "answers_df_list: list[pd.DataFrame] = [raw_answers_df[original_col]]\n",
    "\n",
    "for i in range(0, len(duplicate_cols), 2):\n",
    "    pair_cols: list = duplicate_cols[i:i+2]\n",
    "    df_pair_col: pd.DataFrame = raw_answers_df[pair_cols].rename(columns={pair_cols[0]: \"V\", pair_cols[1]: \"RC\"})\n",
    "    answers_df_list.append(df_pair_col)"
   ]
  },
  {
   "cell_type": "markdown",
   "metadata": {},
   "source": [
    "**3. Concatenating DataFrames:**\n",
    "\n",
    "The list of DataFrames is concatenated into a single DataFrame, ignoring the original index."
   ]
  },
  {
   "cell_type": "code",
   "execution_count": 27,
   "metadata": {},
   "outputs": [],
   "source": [
    "answers_df_clean: pd.DataFrame = pd.concat(answers_df_list, ignore_index=True)"
   ]
  },
  {
   "cell_type": "markdown",
   "metadata": {},
   "source": [
    "**4. Displaying the Cleaned DataFrame:**\n",
    "\n",
    "The cleaned DataFrame is printed to verify the results of the consolidation process."
   ]
  },
  {
   "cell_type": "code",
   "execution_count": 28,
   "metadata": {},
   "outputs": [
    {
     "data": {
      "application/vnd.microsoft.datawrangler.viewer.v0+json": {
       "columns": [
        {
         "name": "index",
         "rawType": "int64",
         "type": "integer"
        },
        {
         "name": "V",
         "rawType": "int64",
         "type": "integer"
        },
        {
         "name": "RC",
         "rawType": "float64",
         "type": "float"
        }
       ],
       "conversionMethod": "pd.DataFrame",
       "ref": "4dd6e1f7-c77d-4a5f-9d4b-f89bebe99a55",
       "rows": [
        [
         "0",
         "1",
         "1.0"
        ],
        [
         "1",
         "2",
         "4.0"
        ],
        [
         "2",
         "3",
         "2.0"
        ],
        [
         "3",
         "4",
         "1.0"
        ],
        [
         "4",
         "5",
         "4.0"
        ],
        [
         "5",
         "6",
         "3.0"
        ],
        [
         "6",
         "7",
         "4.0"
        ],
        [
         "7",
         "8",
         "2.0"
        ],
        [
         "8",
         "9",
         "3.0"
        ],
        [
         "9",
         "10",
         "4.0"
        ]
       ],
       "shape": {
        "columns": 2,
        "rows": 10
       }
      },
      "text/html": [
       "<div>\n",
       "<style scoped>\n",
       "    .dataframe tbody tr th:only-of-type {\n",
       "        vertical-align: middle;\n",
       "    }\n",
       "\n",
       "    .dataframe tbody tr th {\n",
       "        vertical-align: top;\n",
       "    }\n",
       "\n",
       "    .dataframe thead th {\n",
       "        text-align: right;\n",
       "    }\n",
       "</style>\n",
       "<table border=\"1\" class=\"dataframe\">\n",
       "  <thead>\n",
       "    <tr style=\"text-align: right;\">\n",
       "      <th></th>\n",
       "      <th>V</th>\n",
       "      <th>RC</th>\n",
       "    </tr>\n",
       "  </thead>\n",
       "  <tbody>\n",
       "    <tr>\n",
       "      <th>0</th>\n",
       "      <td>1</td>\n",
       "      <td>1.0</td>\n",
       "    </tr>\n",
       "    <tr>\n",
       "      <th>1</th>\n",
       "      <td>2</td>\n",
       "      <td>4.0</td>\n",
       "    </tr>\n",
       "    <tr>\n",
       "      <th>2</th>\n",
       "      <td>3</td>\n",
       "      <td>2.0</td>\n",
       "    </tr>\n",
       "    <tr>\n",
       "      <th>3</th>\n",
       "      <td>4</td>\n",
       "      <td>1.0</td>\n",
       "    </tr>\n",
       "    <tr>\n",
       "      <th>4</th>\n",
       "      <td>5</td>\n",
       "      <td>4.0</td>\n",
       "    </tr>\n",
       "    <tr>\n",
       "      <th>5</th>\n",
       "      <td>6</td>\n",
       "      <td>3.0</td>\n",
       "    </tr>\n",
       "    <tr>\n",
       "      <th>6</th>\n",
       "      <td>7</td>\n",
       "      <td>4.0</td>\n",
       "    </tr>\n",
       "    <tr>\n",
       "      <th>7</th>\n",
       "      <td>8</td>\n",
       "      <td>2.0</td>\n",
       "    </tr>\n",
       "    <tr>\n",
       "      <th>8</th>\n",
       "      <td>9</td>\n",
       "      <td>3.0</td>\n",
       "    </tr>\n",
       "    <tr>\n",
       "      <th>9</th>\n",
       "      <td>10</td>\n",
       "      <td>4.0</td>\n",
       "    </tr>\n",
       "  </tbody>\n",
       "</table>\n",
       "</div>"
      ],
      "text/plain": [
       "    V   RC\n",
       "0   1  1.0\n",
       "1   2  4.0\n",
       "2   3  2.0\n",
       "3   4  1.0\n",
       "4   5  4.0\n",
       "5   6  3.0\n",
       "6   7  4.0\n",
       "7   8  2.0\n",
       "8   9  3.0\n",
       "9  10  4.0"
      ]
     },
     "execution_count": 28,
     "metadata": {},
     "output_type": "execute_result"
    }
   ],
   "source": [
    "answers_df_clean.head(10)"
   ]
  },
  {
   "cell_type": "markdown",
   "metadata": {},
   "source": [
    "## Joining the DataFrames\n",
    "\n",
    "This section focuses on merging the processed exam questions DataFrame with the cleaned answers DataFrame, performing final data cleaning, and verifying the integrity of the joined data.\n",
    "\n",
    "**1. Joining the DataFrames:**\n",
    "\n",
    "The pivoted exam questions DataFrame (`exam_df_pivot`) and the cleaned answers DataFrame (`answers_df_clean`) are joined horizontally using `pd.concat`. The 'V0' column, which represents the question number from the answers DataFrame, is then dropped. The first 10 rows of the joined DataFrame are displayed."
   ]
  },
  {
   "cell_type": "code",
   "execution_count": 29,
   "metadata": {},
   "outputs": [
    {
     "data": {
      "application/vnd.microsoft.datawrangler.viewer.v0+json": {
       "columns": [
        {
         "name": "index",
         "rawType": "int64",
         "type": "integer"
        },
        {
         "name": "Question",
         "rawType": "object",
         "type": "string"
        },
        {
         "name": "Option_1",
         "rawType": "object",
         "type": "string"
        },
        {
         "name": "Option_2",
         "rawType": "object",
         "type": "string"
        },
        {
         "name": "Option_3",
         "rawType": "object",
         "type": "string"
        },
        {
         "name": "Option_4",
         "rawType": "object",
         "type": "string"
        },
        {
         "name": "RC",
         "rawType": "float64",
         "type": "float"
        }
       ],
       "conversionMethod": "pd.DataFrame",
       "ref": "ebaa67c0-e044-4d3f-b3e6-1f1e7e4317f0",
       "rows": [
        [
         "0",
         "1. ¿Qué especie se determina cuando se valora una muestra que contiene Ca 2+ y Mg 2+ con EDTA a pH=12 y murexida como indicador?:",
         "1. Ca2+.",
         "2. Mg2+.",
         "3. Ca2+ + Mg2+.",
         "4. Ninguna de las dos especies.",
         "1.0"
        ],
        [
         "1",
         "2. Si valoramos 50,0 mL de HCl 0,050 M con NaOH 0,100 M, ¿cuál es el valor del pH en el punto de equivalencia?:",
         "1. 1.",
         "2. 2.",
         "3. 5.",
         "4. 7.",
         "4.0"
        ],
        [
         "2",
         "3. En una disolución acuosa de KHA, ¿cuál es la relación entre la concentración del ion potasio y la concentración del resto de las especies?:",
         "1. [K+]= [HA-] + [OH-].",
         "2. [K+]= [H2A] + [HA-] + [A2-].",
         "3. [K+]= [HA-] + [OH-] + 2[A2-].",
         "4. [K+]= [HA-] + [OH-] + 2[A2-].",
         "2.0"
        ],
        [
         "3",
         "4. ¿Qué proceso controla la corriente en la polarografía convencional?:",
         "1. La difusión.",
         "2. La convección.",
         "3. La adsorción.",
         "4. La conducción.",
         "1.0"
        ],
        [
         "4",
         "5. ¿Cuál de las siguientes afirmaciones es FALSA en relación con la calibración con patrón interno?:",
         "1. Se aplica cuando, entre medidas sucesivas, es difícil mantener alguno de los parámetros operatorios o reproducir la cantidad de muestra sometida al proceso de medida.",
         "2. Se añaden a las muestras y a los patrones de calibración cantidades c onocidas del patrón interno.",
         "3. El patrón interno debe presentar, en el proceso analítico, un comportamiento análogo al del analito que se quiere determinar.",
         "4. La concentración del analito de interés se obtiene por extrapolación de la recta de regresión al punto del eje x (cantidad de analito añadida) donde la señal analítica medida es cero.",
         "4.0"
        ],
        [
         "5",
         "6. Una disolución 0.1 M de un ácido débil monoprótico (HA) tiene un pH de 4. Se cumple que:",
         "1. pKa = 2.",
         "2. pKa = 5.",
         "3. pKa = 7.",
         "4. pKa = 9.",
         "3.0"
        ],
        [
         "6",
         "7. ¿Cuál de las siguientes afirmaciones es FALSA en relación con la yodometría?:",
         "1. Es un método que consiste en la valoración del yodo generado en la reacción entre un analito oxidante y un exceso de yoduro.",
         "2. El reactivo valorante del yodo generado es una disolución patrón de carácter reductor, generalmente tiosulfato de sodio.",
         "3. El almidón (indicador) se añade cerca del punto final de la valoración cuando la mayor parte del yodo ha sido valorada.",
         "4. El punto final de la valoración yodométrica se pone de manifiesto por la aparición de color azul.",
         "4.0"
        ],
        [
         "7",
         "8. Las variaciones de presión en cromatografía de fluidos supercríticos:",
         "1. No presentan ningún efecto sobre los tiempos de retención de las especies separadas.",
         "2. Presentan un efecto muy marcado sobre el factor de retención k.",
         "3. Tienen lugar durante l a separación debido a fenómenos de descomposición de los fluidos utilizados.",
         "4. Empeoran significativamente los cromatogramas obtenidos.",
         "2.0"
        ],
        [
         "8",
         "9. La valoración de Karl Fischer está relacionada con:",
         "1. La determinación de la dureza de un agua mineral.",
         "2. La determinación potenciométrica de haluros.",
         "3. La determinación de agua.",
         "4. La determinación del punto isoeléctrico de una proteína.",
         "3.0"
        ],
        [
         "9",
         "10. Identifica la sustancia que se utiliza con más frecuencia como fase móvil en cromatografía de fluidos supercríticos:",
         "1. Agua.",
         "2. Metanol.",
         "3. Hexano.",
         "4. Dióxido de carbono.",
         "4.0"
        ]
       ],
       "shape": {
        "columns": 6,
        "rows": 10
       }
      },
      "text/html": [
       "<div>\n",
       "<style scoped>\n",
       "    .dataframe tbody tr th:only-of-type {\n",
       "        vertical-align: middle;\n",
       "    }\n",
       "\n",
       "    .dataframe tbody tr th {\n",
       "        vertical-align: top;\n",
       "    }\n",
       "\n",
       "    .dataframe thead th {\n",
       "        text-align: right;\n",
       "    }\n",
       "</style>\n",
       "<table border=\"1\" class=\"dataframe\">\n",
       "  <thead>\n",
       "    <tr style=\"text-align: right;\">\n",
       "      <th></th>\n",
       "      <th>Question</th>\n",
       "      <th>Option_1</th>\n",
       "      <th>Option_2</th>\n",
       "      <th>Option_3</th>\n",
       "      <th>Option_4</th>\n",
       "      <th>RC</th>\n",
       "    </tr>\n",
       "  </thead>\n",
       "  <tbody>\n",
       "    <tr>\n",
       "      <th>0</th>\n",
       "      <td>1. ¿Qué especie se determina cuando se valora ...</td>\n",
       "      <td>1. Ca2+.</td>\n",
       "      <td>2. Mg2+.</td>\n",
       "      <td>3. Ca2+ + Mg2+.</td>\n",
       "      <td>4. Ninguna de las dos especies.</td>\n",
       "      <td>1.0</td>\n",
       "    </tr>\n",
       "    <tr>\n",
       "      <th>1</th>\n",
       "      <td>2. Si valoramos 50,0 mL de HCl 0,050 M con NaO...</td>\n",
       "      <td>1. 1.</td>\n",
       "      <td>2. 2.</td>\n",
       "      <td>3. 5.</td>\n",
       "      <td>4. 7.</td>\n",
       "      <td>4.0</td>\n",
       "    </tr>\n",
       "    <tr>\n",
       "      <th>2</th>\n",
       "      <td>3. En una disolución acuosa de KHA, ¿cuál es l...</td>\n",
       "      <td>1. [K+]= [HA-] + [OH-].</td>\n",
       "      <td>2. [K+]= [H2A] + [HA-] + [A2-].</td>\n",
       "      <td>3. [K+]= [HA-] + [OH-] + 2[A2-].</td>\n",
       "      <td>4. [K+]= [HA-] + [OH-] + 2[A2-].</td>\n",
       "      <td>2.0</td>\n",
       "    </tr>\n",
       "    <tr>\n",
       "      <th>3</th>\n",
       "      <td>4. ¿Qué proceso controla la corriente en la po...</td>\n",
       "      <td>1. La difusión.</td>\n",
       "      <td>2. La convección.</td>\n",
       "      <td>3. La adsorción.</td>\n",
       "      <td>4. La conducción.</td>\n",
       "      <td>1.0</td>\n",
       "    </tr>\n",
       "    <tr>\n",
       "      <th>4</th>\n",
       "      <td>5. ¿Cuál de las siguientes afirmaciones es FAL...</td>\n",
       "      <td>1. Se aplica cuando, entre medidas sucesivas, ...</td>\n",
       "      <td>2. Se añaden a las muestras y a los patrones d...</td>\n",
       "      <td>3. El patrón interno debe presentar, en el pro...</td>\n",
       "      <td>4. La concentración del analito de interés se ...</td>\n",
       "      <td>4.0</td>\n",
       "    </tr>\n",
       "    <tr>\n",
       "      <th>5</th>\n",
       "      <td>6. Una disolución 0.1 M de un ácido débil mono...</td>\n",
       "      <td>1. pKa = 2.</td>\n",
       "      <td>2. pKa = 5.</td>\n",
       "      <td>3. pKa = 7.</td>\n",
       "      <td>4. pKa = 9.</td>\n",
       "      <td>3.0</td>\n",
       "    </tr>\n",
       "    <tr>\n",
       "      <th>6</th>\n",
       "      <td>7. ¿Cuál de las siguientes afirmaciones es FAL...</td>\n",
       "      <td>1. Es un método que consiste en la valoración ...</td>\n",
       "      <td>2. El reactivo valorante del yodo generado es ...</td>\n",
       "      <td>3. El almidón (indicador) se añade cerca del p...</td>\n",
       "      <td>4. El punto final de la valoración yodométrica...</td>\n",
       "      <td>4.0</td>\n",
       "    </tr>\n",
       "    <tr>\n",
       "      <th>7</th>\n",
       "      <td>8. Las variaciones de presión en cromatografía...</td>\n",
       "      <td>1. No presentan ningún efecto sobre los tiempo...</td>\n",
       "      <td>2. Presentan un efecto muy marcado sobre el fa...</td>\n",
       "      <td>3. Tienen lugar durante l a separación debido ...</td>\n",
       "      <td>4. Empeoran significativamente los cromatogram...</td>\n",
       "      <td>2.0</td>\n",
       "    </tr>\n",
       "    <tr>\n",
       "      <th>8</th>\n",
       "      <td>9. La valoración de Karl Fischer está relacion...</td>\n",
       "      <td>1. La determinación de la dureza de un agua mi...</td>\n",
       "      <td>2. La determinación potenciométrica de haluros.</td>\n",
       "      <td>3. La determinación de agua.</td>\n",
       "      <td>4. La determinación del punto isoeléctrico de ...</td>\n",
       "      <td>3.0</td>\n",
       "    </tr>\n",
       "    <tr>\n",
       "      <th>9</th>\n",
       "      <td>10. Identifica la sustancia que se utiliza con...</td>\n",
       "      <td>1. Agua.</td>\n",
       "      <td>2. Metanol.</td>\n",
       "      <td>3. Hexano.</td>\n",
       "      <td>4. Dióxido de carbono.</td>\n",
       "      <td>4.0</td>\n",
       "    </tr>\n",
       "  </tbody>\n",
       "</table>\n",
       "</div>"
      ],
      "text/plain": [
       "                                            Question  \\\n",
       "0  1. ¿Qué especie se determina cuando se valora ...   \n",
       "1  2. Si valoramos 50,0 mL de HCl 0,050 M con NaO...   \n",
       "2  3. En una disolución acuosa de KHA, ¿cuál es l...   \n",
       "3  4. ¿Qué proceso controla la corriente en la po...   \n",
       "4  5. ¿Cuál de las siguientes afirmaciones es FAL...   \n",
       "5  6. Una disolución 0.1 M de un ácido débil mono...   \n",
       "6  7. ¿Cuál de las siguientes afirmaciones es FAL...   \n",
       "7  8. Las variaciones de presión en cromatografía...   \n",
       "8  9. La valoración de Karl Fischer está relacion...   \n",
       "9  10. Identifica la sustancia que se utiliza con...   \n",
       "\n",
       "                                            Option_1  \\\n",
       "0                                           1. Ca2+.   \n",
       "1                                              1. 1.   \n",
       "2                            1. [K+]= [HA-] + [OH-].   \n",
       "3                                    1. La difusión.   \n",
       "4  1. Se aplica cuando, entre medidas sucesivas, ...   \n",
       "5                                        1. pKa = 2.   \n",
       "6  1. Es un método que consiste en la valoración ...   \n",
       "7  1. No presentan ningún efecto sobre los tiempo...   \n",
       "8  1. La determinación de la dureza de un agua mi...   \n",
       "9                                           1. Agua.   \n",
       "\n",
       "                                            Option_2  \\\n",
       "0                                           2. Mg2+.   \n",
       "1                                              2. 2.   \n",
       "2                    2. [K+]= [H2A] + [HA-] + [A2-].   \n",
       "3                                  2. La convección.   \n",
       "4  2. Se añaden a las muestras y a los patrones d...   \n",
       "5                                        2. pKa = 5.   \n",
       "6  2. El reactivo valorante del yodo generado es ...   \n",
       "7  2. Presentan un efecto muy marcado sobre el fa...   \n",
       "8    2. La determinación potenciométrica de haluros.   \n",
       "9                                        2. Metanol.   \n",
       "\n",
       "                                            Option_3  \\\n",
       "0                                    3. Ca2+ + Mg2+.   \n",
       "1                                              3. 5.   \n",
       "2                   3. [K+]= [HA-] + [OH-] + 2[A2-].   \n",
       "3                                   3. La adsorción.   \n",
       "4  3. El patrón interno debe presentar, en el pro...   \n",
       "5                                        3. pKa = 7.   \n",
       "6  3. El almidón (indicador) se añade cerca del p...   \n",
       "7  3. Tienen lugar durante l a separación debido ...   \n",
       "8                       3. La determinación de agua.   \n",
       "9                                         3. Hexano.   \n",
       "\n",
       "                                            Option_4   RC  \n",
       "0                    4. Ninguna de las dos especies.  1.0  \n",
       "1                                              4. 7.  4.0  \n",
       "2                   4. [K+]= [HA-] + [OH-] + 2[A2-].  2.0  \n",
       "3                                  4. La conducción.  1.0  \n",
       "4  4. La concentración del analito de interés se ...  4.0  \n",
       "5                                        4. pKa = 9.  3.0  \n",
       "6  4. El punto final de la valoración yodométrica...  4.0  \n",
       "7  4. Empeoran significativamente los cromatogram...  2.0  \n",
       "8  4. La determinación del punto isoeléctrico de ...  3.0  \n",
       "9                             4. Dióxido de carbono.  4.0  "
      ]
     },
     "execution_count": 29,
     "metadata": {},
     "output_type": "execute_result"
    }
   ],
   "source": [
    "processed_exam_df: pd.DataFrame = pd.concat([exam_df_pivot, answers_df_clean], axis=1)\n",
    "processed_exam_df = processed_exam_df.drop(columns=[\"V\"])\n",
    "processed_exam_df.head(10)"
   ]
  },
  {
   "cell_type": "markdown",
   "metadata": {},
   "source": [
    "**2. Identifying and Handling Missing Values:**\n",
    "\n",
    "Missing values are then replaced with 0."
   ]
  },
  {
   "cell_type": "code",
   "execution_count": 30,
   "metadata": {},
   "outputs": [],
   "source": [
    "processed_exam_df = processed_exam_df.fillna(0)"
   ]
  },
  {
   "cell_type": "markdown",
   "metadata": {},
   "source": [
    "**3. Verifying Missing Values and Data Types:**\n",
    "\n",
    "The number of missing values in each column is checked, and the data types of the columns are displayed. The 'RC' (correct answer) column is then converted to integer type."
   ]
  },
  {
   "cell_type": "code",
   "execution_count": 31,
   "metadata": {},
   "outputs": [
    {
     "data": {
      "text/plain": [
       "Question    object\n",
       "Option_1    object\n",
       "Option_2    object\n",
       "Option_3    object\n",
       "Option_4    object\n",
       "RC           int32\n",
       "dtype: object"
      ]
     },
     "execution_count": 31,
     "metadata": {},
     "output_type": "execute_result"
    }
   ],
   "source": [
    "processed_exam_df.isnull().sum()\n",
    "processed_exam_df[\"RC\"] = processed_exam_df[\"RC\"].astype(int)\n",
    "processed_exam_df.dtypes"
   ]
  },
  {
   "cell_type": "markdown",
   "metadata": {},
   "source": [
    "**4. Adding year column**\n",
    "\n",
    "A column containing the year of the exam is added to the DataFrame."
   ]
  },
  {
   "cell_type": "code",
   "execution_count": 32,
   "metadata": {},
   "outputs": [],
   "source": [
    "processed_exam_df[\"year\"] = year"
   ]
  },
  {
   "cell_type": "markdown",
   "metadata": {},
   "source": [
    "**5. Displaying the Final DataFrame:**\n",
    "\n",
    "The first 10 rows of the final joined and cleaned DataFrame are displayed."
   ]
  },
  {
   "cell_type": "code",
   "execution_count": 33,
   "metadata": {},
   "outputs": [
    {
     "data": {
      "application/vnd.microsoft.datawrangler.viewer.v0+json": {
       "columns": [
        {
         "name": "index",
         "rawType": "int64",
         "type": "integer"
        },
        {
         "name": "Question",
         "rawType": "object",
         "type": "string"
        },
        {
         "name": "Option_1",
         "rawType": "object",
         "type": "string"
        },
        {
         "name": "Option_2",
         "rawType": "object",
         "type": "string"
        },
        {
         "name": "Option_3",
         "rawType": "object",
         "type": "string"
        },
        {
         "name": "Option_4",
         "rawType": "object",
         "type": "string"
        },
        {
         "name": "RC",
         "rawType": "int32",
         "type": "integer"
        },
        {
         "name": "year",
         "rawType": "int64",
         "type": "integer"
        }
       ],
       "conversionMethod": "pd.DataFrame",
       "ref": "6cdb7554-66a8-4919-b91a-d2e8d21c4456",
       "rows": [
        [
         "0",
         "1. ¿Qué especie se determina cuando se valora una muestra que contiene Ca 2+ y Mg 2+ con EDTA a pH=12 y murexida como indicador?:",
         "1. Ca2+.",
         "2. Mg2+.",
         "3. Ca2+ + Mg2+.",
         "4. Ninguna de las dos especies.",
         "1",
         "2022"
        ],
        [
         "1",
         "2. Si valoramos 50,0 mL de HCl 0,050 M con NaOH 0,100 M, ¿cuál es el valor del pH en el punto de equivalencia?:",
         "1. 1.",
         "2. 2.",
         "3. 5.",
         "4. 7.",
         "4",
         "2022"
        ],
        [
         "2",
         "3. En una disolución acuosa de KHA, ¿cuál es la relación entre la concentración del ion potasio y la concentración del resto de las especies?:",
         "1. [K+]= [HA-] + [OH-].",
         "2. [K+]= [H2A] + [HA-] + [A2-].",
         "3. [K+]= [HA-] + [OH-] + 2[A2-].",
         "4. [K+]= [HA-] + [OH-] + 2[A2-].",
         "2",
         "2022"
        ],
        [
         "3",
         "4. ¿Qué proceso controla la corriente en la polarografía convencional?:",
         "1. La difusión.",
         "2. La convección.",
         "3. La adsorción.",
         "4. La conducción.",
         "1",
         "2022"
        ],
        [
         "4",
         "5. ¿Cuál de las siguientes afirmaciones es FALSA en relación con la calibración con patrón interno?:",
         "1. Se aplica cuando, entre medidas sucesivas, es difícil mantener alguno de los parámetros operatorios o reproducir la cantidad de muestra sometida al proceso de medida.",
         "2. Se añaden a las muestras y a los patrones de calibración cantidades c onocidas del patrón interno.",
         "3. El patrón interno debe presentar, en el proceso analítico, un comportamiento análogo al del analito que se quiere determinar.",
         "4. La concentración del analito de interés se obtiene por extrapolación de la recta de regresión al punto del eje x (cantidad de analito añadida) donde la señal analítica medida es cero.",
         "4",
         "2022"
        ],
        [
         "5",
         "6. Una disolución 0.1 M de un ácido débil monoprótico (HA) tiene un pH de 4. Se cumple que:",
         "1. pKa = 2.",
         "2. pKa = 5.",
         "3. pKa = 7.",
         "4. pKa = 9.",
         "3",
         "2022"
        ],
        [
         "6",
         "7. ¿Cuál de las siguientes afirmaciones es FALSA en relación con la yodometría?:",
         "1. Es un método que consiste en la valoración del yodo generado en la reacción entre un analito oxidante y un exceso de yoduro.",
         "2. El reactivo valorante del yodo generado es una disolución patrón de carácter reductor, generalmente tiosulfato de sodio.",
         "3. El almidón (indicador) se añade cerca del punto final de la valoración cuando la mayor parte del yodo ha sido valorada.",
         "4. El punto final de la valoración yodométrica se pone de manifiesto por la aparición de color azul.",
         "4",
         "2022"
        ],
        [
         "7",
         "8. Las variaciones de presión en cromatografía de fluidos supercríticos:",
         "1. No presentan ningún efecto sobre los tiempos de retención de las especies separadas.",
         "2. Presentan un efecto muy marcado sobre el factor de retención k.",
         "3. Tienen lugar durante l a separación debido a fenómenos de descomposición de los fluidos utilizados.",
         "4. Empeoran significativamente los cromatogramas obtenidos.",
         "2",
         "2022"
        ],
        [
         "8",
         "9. La valoración de Karl Fischer está relacionada con:",
         "1. La determinación de la dureza de un agua mineral.",
         "2. La determinación potenciométrica de haluros.",
         "3. La determinación de agua.",
         "4. La determinación del punto isoeléctrico de una proteína.",
         "3",
         "2022"
        ],
        [
         "9",
         "10. Identifica la sustancia que se utiliza con más frecuencia como fase móvil en cromatografía de fluidos supercríticos:",
         "1. Agua.",
         "2. Metanol.",
         "3. Hexano.",
         "4. Dióxido de carbono.",
         "4",
         "2022"
        ]
       ],
       "shape": {
        "columns": 7,
        "rows": 10
       }
      },
      "text/html": [
       "<div>\n",
       "<style scoped>\n",
       "    .dataframe tbody tr th:only-of-type {\n",
       "        vertical-align: middle;\n",
       "    }\n",
       "\n",
       "    .dataframe tbody tr th {\n",
       "        vertical-align: top;\n",
       "    }\n",
       "\n",
       "    .dataframe thead th {\n",
       "        text-align: right;\n",
       "    }\n",
       "</style>\n",
       "<table border=\"1\" class=\"dataframe\">\n",
       "  <thead>\n",
       "    <tr style=\"text-align: right;\">\n",
       "      <th></th>\n",
       "      <th>Question</th>\n",
       "      <th>Option_1</th>\n",
       "      <th>Option_2</th>\n",
       "      <th>Option_3</th>\n",
       "      <th>Option_4</th>\n",
       "      <th>RC</th>\n",
       "      <th>year</th>\n",
       "    </tr>\n",
       "  </thead>\n",
       "  <tbody>\n",
       "    <tr>\n",
       "      <th>0</th>\n",
       "      <td>1. ¿Qué especie se determina cuando se valora ...</td>\n",
       "      <td>1. Ca2+.</td>\n",
       "      <td>2. Mg2+.</td>\n",
       "      <td>3. Ca2+ + Mg2+.</td>\n",
       "      <td>4. Ninguna de las dos especies.</td>\n",
       "      <td>1</td>\n",
       "      <td>2022</td>\n",
       "    </tr>\n",
       "    <tr>\n",
       "      <th>1</th>\n",
       "      <td>2. Si valoramos 50,0 mL de HCl 0,050 M con NaO...</td>\n",
       "      <td>1. 1.</td>\n",
       "      <td>2. 2.</td>\n",
       "      <td>3. 5.</td>\n",
       "      <td>4. 7.</td>\n",
       "      <td>4</td>\n",
       "      <td>2022</td>\n",
       "    </tr>\n",
       "    <tr>\n",
       "      <th>2</th>\n",
       "      <td>3. En una disolución acuosa de KHA, ¿cuál es l...</td>\n",
       "      <td>1. [K+]= [HA-] + [OH-].</td>\n",
       "      <td>2. [K+]= [H2A] + [HA-] + [A2-].</td>\n",
       "      <td>3. [K+]= [HA-] + [OH-] + 2[A2-].</td>\n",
       "      <td>4. [K+]= [HA-] + [OH-] + 2[A2-].</td>\n",
       "      <td>2</td>\n",
       "      <td>2022</td>\n",
       "    </tr>\n",
       "    <tr>\n",
       "      <th>3</th>\n",
       "      <td>4. ¿Qué proceso controla la corriente en la po...</td>\n",
       "      <td>1. La difusión.</td>\n",
       "      <td>2. La convección.</td>\n",
       "      <td>3. La adsorción.</td>\n",
       "      <td>4. La conducción.</td>\n",
       "      <td>1</td>\n",
       "      <td>2022</td>\n",
       "    </tr>\n",
       "    <tr>\n",
       "      <th>4</th>\n",
       "      <td>5. ¿Cuál de las siguientes afirmaciones es FAL...</td>\n",
       "      <td>1. Se aplica cuando, entre medidas sucesivas, ...</td>\n",
       "      <td>2. Se añaden a las muestras y a los patrones d...</td>\n",
       "      <td>3. El patrón interno debe presentar, en el pro...</td>\n",
       "      <td>4. La concentración del analito de interés se ...</td>\n",
       "      <td>4</td>\n",
       "      <td>2022</td>\n",
       "    </tr>\n",
       "    <tr>\n",
       "      <th>5</th>\n",
       "      <td>6. Una disolución 0.1 M de un ácido débil mono...</td>\n",
       "      <td>1. pKa = 2.</td>\n",
       "      <td>2. pKa = 5.</td>\n",
       "      <td>3. pKa = 7.</td>\n",
       "      <td>4. pKa = 9.</td>\n",
       "      <td>3</td>\n",
       "      <td>2022</td>\n",
       "    </tr>\n",
       "    <tr>\n",
       "      <th>6</th>\n",
       "      <td>7. ¿Cuál de las siguientes afirmaciones es FAL...</td>\n",
       "      <td>1. Es un método que consiste en la valoración ...</td>\n",
       "      <td>2. El reactivo valorante del yodo generado es ...</td>\n",
       "      <td>3. El almidón (indicador) se añade cerca del p...</td>\n",
       "      <td>4. El punto final de la valoración yodométrica...</td>\n",
       "      <td>4</td>\n",
       "      <td>2022</td>\n",
       "    </tr>\n",
       "    <tr>\n",
       "      <th>7</th>\n",
       "      <td>8. Las variaciones de presión en cromatografía...</td>\n",
       "      <td>1. No presentan ningún efecto sobre los tiempo...</td>\n",
       "      <td>2. Presentan un efecto muy marcado sobre el fa...</td>\n",
       "      <td>3. Tienen lugar durante l a separación debido ...</td>\n",
       "      <td>4. Empeoran significativamente los cromatogram...</td>\n",
       "      <td>2</td>\n",
       "      <td>2022</td>\n",
       "    </tr>\n",
       "    <tr>\n",
       "      <th>8</th>\n",
       "      <td>9. La valoración de Karl Fischer está relacion...</td>\n",
       "      <td>1. La determinación de la dureza de un agua mi...</td>\n",
       "      <td>2. La determinación potenciométrica de haluros.</td>\n",
       "      <td>3. La determinación de agua.</td>\n",
       "      <td>4. La determinación del punto isoeléctrico de ...</td>\n",
       "      <td>3</td>\n",
       "      <td>2022</td>\n",
       "    </tr>\n",
       "    <tr>\n",
       "      <th>9</th>\n",
       "      <td>10. Identifica la sustancia que se utiliza con...</td>\n",
       "      <td>1. Agua.</td>\n",
       "      <td>2. Metanol.</td>\n",
       "      <td>3. Hexano.</td>\n",
       "      <td>4. Dióxido de carbono.</td>\n",
       "      <td>4</td>\n",
       "      <td>2022</td>\n",
       "    </tr>\n",
       "  </tbody>\n",
       "</table>\n",
       "</div>"
      ],
      "text/plain": [
       "                                            Question  \\\n",
       "0  1. ¿Qué especie se determina cuando se valora ...   \n",
       "1  2. Si valoramos 50,0 mL de HCl 0,050 M con NaO...   \n",
       "2  3. En una disolución acuosa de KHA, ¿cuál es l...   \n",
       "3  4. ¿Qué proceso controla la corriente en la po...   \n",
       "4  5. ¿Cuál de las siguientes afirmaciones es FAL...   \n",
       "5  6. Una disolución 0.1 M de un ácido débil mono...   \n",
       "6  7. ¿Cuál de las siguientes afirmaciones es FAL...   \n",
       "7  8. Las variaciones de presión en cromatografía...   \n",
       "8  9. La valoración de Karl Fischer está relacion...   \n",
       "9  10. Identifica la sustancia que se utiliza con...   \n",
       "\n",
       "                                            Option_1  \\\n",
       "0                                           1. Ca2+.   \n",
       "1                                              1. 1.   \n",
       "2                            1. [K+]= [HA-] + [OH-].   \n",
       "3                                    1. La difusión.   \n",
       "4  1. Se aplica cuando, entre medidas sucesivas, ...   \n",
       "5                                        1. pKa = 2.   \n",
       "6  1. Es un método que consiste en la valoración ...   \n",
       "7  1. No presentan ningún efecto sobre los tiempo...   \n",
       "8  1. La determinación de la dureza de un agua mi...   \n",
       "9                                           1. Agua.   \n",
       "\n",
       "                                            Option_2  \\\n",
       "0                                           2. Mg2+.   \n",
       "1                                              2. 2.   \n",
       "2                    2. [K+]= [H2A] + [HA-] + [A2-].   \n",
       "3                                  2. La convección.   \n",
       "4  2. Se añaden a las muestras y a los patrones d...   \n",
       "5                                        2. pKa = 5.   \n",
       "6  2. El reactivo valorante del yodo generado es ...   \n",
       "7  2. Presentan un efecto muy marcado sobre el fa...   \n",
       "8    2. La determinación potenciométrica de haluros.   \n",
       "9                                        2. Metanol.   \n",
       "\n",
       "                                            Option_3  \\\n",
       "0                                    3. Ca2+ + Mg2+.   \n",
       "1                                              3. 5.   \n",
       "2                   3. [K+]= [HA-] + [OH-] + 2[A2-].   \n",
       "3                                   3. La adsorción.   \n",
       "4  3. El patrón interno debe presentar, en el pro...   \n",
       "5                                        3. pKa = 7.   \n",
       "6  3. El almidón (indicador) se añade cerca del p...   \n",
       "7  3. Tienen lugar durante l a separación debido ...   \n",
       "8                       3. La determinación de agua.   \n",
       "9                                         3. Hexano.   \n",
       "\n",
       "                                            Option_4  RC  year  \n",
       "0                    4. Ninguna de las dos especies.   1  2022  \n",
       "1                                              4. 7.   4  2022  \n",
       "2                   4. [K+]= [HA-] + [OH-] + 2[A2-].   2  2022  \n",
       "3                                  4. La conducción.   1  2022  \n",
       "4  4. La concentración del analito de interés se ...   4  2022  \n",
       "5                                        4. pKa = 9.   3  2022  \n",
       "6  4. El punto final de la valoración yodométrica...   4  2022  \n",
       "7  4. Empeoran significativamente los cromatogram...   2  2022  \n",
       "8  4. La determinación del punto isoeléctrico de ...   3  2022  \n",
       "9                             4. Dióxido de carbono.   4  2022  "
      ]
     },
     "execution_count": 33,
     "metadata": {},
     "output_type": "execute_result"
    }
   ],
   "source": [
    "processed_exam_df.head(10)"
   ]
  },
  {
   "cell_type": "code",
   "execution_count": 34,
   "metadata": {},
   "outputs": [
    {
     "data": {
      "application/vnd.microsoft.datawrangler.viewer.v0+json": {
       "columns": [
        {
         "name": "index",
         "rawType": "int64",
         "type": "integer"
        },
        {
         "name": "Question",
         "rawType": "object",
         "type": "string"
        },
        {
         "name": "Option_1",
         "rawType": "object",
         "type": "string"
        },
        {
         "name": "Option_2",
         "rawType": "object",
         "type": "string"
        },
        {
         "name": "Option_3",
         "rawType": "object",
         "type": "string"
        },
        {
         "name": "Option_4",
         "rawType": "object",
         "type": "string"
        },
        {
         "name": "RC",
         "rawType": "int32",
         "type": "integer"
        },
        {
         "name": "year",
         "rawType": "int64",
         "type": "integer"
        }
       ],
       "conversionMethod": "pd.DataFrame",
       "ref": "98ccfa25-a20a-4637-82c7-936321d0824c",
       "rows": [
        [
         "200",
         "201. ¿Cuál de las siguientes afirmaciones sobre los diagramas de Pourbaix es FALSA?:",
         "1. Son representaciones gráficas del potencial (ordenada) en función del pH (abscisa) para un elemento dado bajo condiciones termodinámicas estándar (usualmente agua a 25°C).",
         "2. Las especies más oxidadas se hallan en la parte superior del diagrama, mientras que las especies más reducidas se encuentran en la parte inferior.",
         "3. Las líneas oblicuas indican reacciones entre especies con dependencia tanto del potencial como del pH.",
         "4. Dos líneas oblicuas y paralelas, que representan la oxidación del agua (línea inferior) y la reducción del agua (línea superior), delimitan una zona del diagrama que contiene las especies estables en solución acuosa.",
         "4",
         "2022"
        ],
        [
         "201",
         "202. ¿Cuál de los siguientes compuestos experimentará un reagrupamiento cuando sea sometido a una reacción de solvólisis?:",
         "1. 3-yodo-5-metilhexano.",
         "2. 3-yodohexano.",
         "3. 3-yodo-2-metilhexano.",
         "4. 3-yodo-3-metilhexano.",
         "3",
         "2022"
        ],
        [
         "202",
         "203. ¿Qué mide la escala de Mohs?:",
         "1. Acidez.",
         "2. Conductividad.",
         "3. Dureza.",
         "4. Viscosidad.",
         "3",
         "2022"
        ],
        [
         "203",
         "204. La bilirrubina es:",
         "1. Un biomarcador de función hepática.",
         "2. Un biomarcador de función renal.",
         "3. Un biomarcador de función cardiaca.",
         "4. Un biomarcador de función cerebral.",
         "1",
         "2022"
        ],
        [
         "204",
         "205. ¿Qué tipo de electroforesis capilar emplea un gradiente de pH continuo y estable?:",
         "1. Electroforesis capilar de zona (CZE).",
         "2. Electroforesis capilar en gel (CGE).",
         "3. Isotacoforesis capilar (CITP).",
         "4. Isoelectroenfoque capilar (CIEF).",
         "4",
         "2022"
        ],
        [
         "205",
         "206. ¿A qué corresponde el código UFI que consta obligatoriamente en la etiqueta de productos clasificados por sus riesgos para la salud?:",
         "1. Código alfanumérico que  permite identificar de forma unívoca un producto durante una llamada de emergencia a un centro toxicológico.",
         "2. Código QR que incluye información sobre el lote y fecha de caducidad de un producto.",
         "3. Código de barras que incluye información sobre el lote y fecha de caducidad de un producto y permite identificarlo durante una emergencia.",
         "4. Código QR que permite identificar de forma unívoca un producto durante una llamada de emergencia a un centro toxicológico.",
         "1",
         "2022"
        ],
        [
         "206",
         "207. La fluorescencia molecular:",
         "1. Es más intensa al aumentar la temperatura.",
         "2. Es más intensa al disminuir la viscosidad del disolvente.",
         "3. Está particularmente favorecida en las moléculas rígidas.",
         "4. Presenta un mayor rendimiento cuántico de emisión en medios con niveles de oxígeno elevados.",
         "3",
         "2022"
        ],
        [
         "207",
         "208. Considere la siguiente reacción: C (s) +  H2O(g) ⇌ CO(g) + H2(g). En el equilibrio a una temperatura determinada las concentraciones son: [H2O]=0,12 M y [CO]=[H 2]=1,2 M. Si todas estas concentraciones aumentan en 0,5 M de forma simultánea, ¿cuál de las siguientes respuestas es cierta?:",
         "1. Se formará más H2O(g).",
         "2. Se formarán más productos.",
         "3. Es preciso conocer el valor de K p para saber lo que sucede.",
         "4. El valor de K c no cambia, por lo tanto, no pasa nada.",
         "2",
         "2022"
        ],
        [
         "208",
         "209. Toda medida lleva asociada un error. Los errores sistemáticos son aquellos producidos por los equipos de medida o por los analistas que:",
         "1. Se corrigen realizando un número elevado de medidas.",
         "2. S e  p r o d u c e n  s i e m p r e  e n  e l  m i s m o  s e n t i d o , provocando un sesgo.",
         "3. No se pueden corregir.",
         "4. Son debidos al azar y no se pueden eliminar, aunque sí minimizar.",
         "2",
         "2022"
        ],
        [
         "209",
         "210. ¿Cuál es la enzima encargada de desenrollar la doble hélice durante el proceso de replicación del DNA?:",
         "1. Primasa.",
         "2. DNA girasa.",
         "3. DNA helicasa.",
         "4. DNA polimerasa.",
         "3",
         "2022"
        ]
       ],
       "shape": {
        "columns": 7,
        "rows": 10
       }
      },
      "text/html": [
       "<div>\n",
       "<style scoped>\n",
       "    .dataframe tbody tr th:only-of-type {\n",
       "        vertical-align: middle;\n",
       "    }\n",
       "\n",
       "    .dataframe tbody tr th {\n",
       "        vertical-align: top;\n",
       "    }\n",
       "\n",
       "    .dataframe thead th {\n",
       "        text-align: right;\n",
       "    }\n",
       "</style>\n",
       "<table border=\"1\" class=\"dataframe\">\n",
       "  <thead>\n",
       "    <tr style=\"text-align: right;\">\n",
       "      <th></th>\n",
       "      <th>Question</th>\n",
       "      <th>Option_1</th>\n",
       "      <th>Option_2</th>\n",
       "      <th>Option_3</th>\n",
       "      <th>Option_4</th>\n",
       "      <th>RC</th>\n",
       "      <th>year</th>\n",
       "    </tr>\n",
       "  </thead>\n",
       "  <tbody>\n",
       "    <tr>\n",
       "      <th>200</th>\n",
       "      <td>201. ¿Cuál de las siguientes afirmaciones sobr...</td>\n",
       "      <td>1. Son representaciones gráficas del potencial...</td>\n",
       "      <td>2. Las especies más oxidadas se hallan en la p...</td>\n",
       "      <td>3. Las líneas oblicuas indican reacciones entr...</td>\n",
       "      <td>4. Dos líneas oblicuas y paralelas, que repres...</td>\n",
       "      <td>4</td>\n",
       "      <td>2022</td>\n",
       "    </tr>\n",
       "    <tr>\n",
       "      <th>201</th>\n",
       "      <td>202. ¿Cuál de los siguientes compuestos experi...</td>\n",
       "      <td>1. 3-yodo-5-metilhexano.</td>\n",
       "      <td>2. 3-yodohexano.</td>\n",
       "      <td>3. 3-yodo-2-metilhexano.</td>\n",
       "      <td>4. 3-yodo-3-metilhexano.</td>\n",
       "      <td>3</td>\n",
       "      <td>2022</td>\n",
       "    </tr>\n",
       "    <tr>\n",
       "      <th>202</th>\n",
       "      <td>203. ¿Qué mide la escala de Mohs?:</td>\n",
       "      <td>1. Acidez.</td>\n",
       "      <td>2. Conductividad.</td>\n",
       "      <td>3. Dureza.</td>\n",
       "      <td>4. Viscosidad.</td>\n",
       "      <td>3</td>\n",
       "      <td>2022</td>\n",
       "    </tr>\n",
       "    <tr>\n",
       "      <th>203</th>\n",
       "      <td>204. La bilirrubina es:</td>\n",
       "      <td>1. Un biomarcador de función hepática.</td>\n",
       "      <td>2. Un biomarcador de función renal.</td>\n",
       "      <td>3. Un biomarcador de función cardiaca.</td>\n",
       "      <td>4. Un biomarcador de función cerebral.</td>\n",
       "      <td>1</td>\n",
       "      <td>2022</td>\n",
       "    </tr>\n",
       "    <tr>\n",
       "      <th>204</th>\n",
       "      <td>205. ¿Qué tipo de electroforesis capilar emple...</td>\n",
       "      <td>1. Electroforesis capilar de zona (CZE).</td>\n",
       "      <td>2. Electroforesis capilar en gel (CGE).</td>\n",
       "      <td>3. Isotacoforesis capilar (CITP).</td>\n",
       "      <td>4. Isoelectroenfoque capilar (CIEF).</td>\n",
       "      <td>4</td>\n",
       "      <td>2022</td>\n",
       "    </tr>\n",
       "    <tr>\n",
       "      <th>205</th>\n",
       "      <td>206. ¿A qué corresponde el código UFI que cons...</td>\n",
       "      <td>1. Código alfanumérico que  permite identifica...</td>\n",
       "      <td>2. Código QR que incluye información sobre el ...</td>\n",
       "      <td>3. Código de barras que incluye información so...</td>\n",
       "      <td>4. Código QR que permite identificar de forma ...</td>\n",
       "      <td>1</td>\n",
       "      <td>2022</td>\n",
       "    </tr>\n",
       "    <tr>\n",
       "      <th>206</th>\n",
       "      <td>207. La fluorescencia molecular:</td>\n",
       "      <td>1. Es más intensa al aumentar la temperatura.</td>\n",
       "      <td>2. Es más intensa al disminuir la viscosidad d...</td>\n",
       "      <td>3. Está particularmente favorecida en las molé...</td>\n",
       "      <td>4. Presenta un mayor rendimiento cuántico de e...</td>\n",
       "      <td>3</td>\n",
       "      <td>2022</td>\n",
       "    </tr>\n",
       "    <tr>\n",
       "      <th>207</th>\n",
       "      <td>208. Considere la siguiente reacción: C (s) + ...</td>\n",
       "      <td>1. Se formará más H2O(g).</td>\n",
       "      <td>2. Se formarán más productos.</td>\n",
       "      <td>3. Es preciso conocer el valor de K p para sab...</td>\n",
       "      <td>4. El valor de K c no cambia, por lo tanto, no...</td>\n",
       "      <td>2</td>\n",
       "      <td>2022</td>\n",
       "    </tr>\n",
       "    <tr>\n",
       "      <th>208</th>\n",
       "      <td>209. Toda medida lleva asociada un error. Los ...</td>\n",
       "      <td>1. Se corrigen realizando un número elevado de...</td>\n",
       "      <td>2. S e  p r o d u c e n  s i e m p r e  e n  e...</td>\n",
       "      <td>3. No se pueden corregir.</td>\n",
       "      <td>4. Son debidos al azar y no se pueden eliminar...</td>\n",
       "      <td>2</td>\n",
       "      <td>2022</td>\n",
       "    </tr>\n",
       "    <tr>\n",
       "      <th>209</th>\n",
       "      <td>210. ¿Cuál es la enzima encargada de desenroll...</td>\n",
       "      <td>1. Primasa.</td>\n",
       "      <td>2. DNA girasa.</td>\n",
       "      <td>3. DNA helicasa.</td>\n",
       "      <td>4. DNA polimerasa.</td>\n",
       "      <td>3</td>\n",
       "      <td>2022</td>\n",
       "    </tr>\n",
       "  </tbody>\n",
       "</table>\n",
       "</div>"
      ],
      "text/plain": [
       "                                              Question  \\\n",
       "200  201. ¿Cuál de las siguientes afirmaciones sobr...   \n",
       "201  202. ¿Cuál de los siguientes compuestos experi...   \n",
       "202                 203. ¿Qué mide la escala de Mohs?:   \n",
       "203                            204. La bilirrubina es:   \n",
       "204  205. ¿Qué tipo de electroforesis capilar emple...   \n",
       "205  206. ¿A qué corresponde el código UFI que cons...   \n",
       "206                   207. La fluorescencia molecular:   \n",
       "207  208. Considere la siguiente reacción: C (s) + ...   \n",
       "208  209. Toda medida lleva asociada un error. Los ...   \n",
       "209  210. ¿Cuál es la enzima encargada de desenroll...   \n",
       "\n",
       "                                              Option_1  \\\n",
       "200  1. Son representaciones gráficas del potencial...   \n",
       "201                           1. 3-yodo-5-metilhexano.   \n",
       "202                                         1. Acidez.   \n",
       "203             1. Un biomarcador de función hepática.   \n",
       "204           1. Electroforesis capilar de zona (CZE).   \n",
       "205  1. Código alfanumérico que  permite identifica...   \n",
       "206      1. Es más intensa al aumentar la temperatura.   \n",
       "207                          1. Se formará más H2O(g).   \n",
       "208  1. Se corrigen realizando un número elevado de...   \n",
       "209                                        1. Primasa.   \n",
       "\n",
       "                                              Option_2  \\\n",
       "200  2. Las especies más oxidadas se hallan en la p...   \n",
       "201                                   2. 3-yodohexano.   \n",
       "202                                  2. Conductividad.   \n",
       "203                2. Un biomarcador de función renal.   \n",
       "204            2. Electroforesis capilar en gel (CGE).   \n",
       "205  2. Código QR que incluye información sobre el ...   \n",
       "206  2. Es más intensa al disminuir la viscosidad d...   \n",
       "207                      2. Se formarán más productos.   \n",
       "208  2. S e  p r o d u c e n  s i e m p r e  e n  e...   \n",
       "209                                     2. DNA girasa.   \n",
       "\n",
       "                                              Option_3  \\\n",
       "200  3. Las líneas oblicuas indican reacciones entr...   \n",
       "201                           3. 3-yodo-2-metilhexano.   \n",
       "202                                         3. Dureza.   \n",
       "203             3. Un biomarcador de función cardiaca.   \n",
       "204                  3. Isotacoforesis capilar (CITP).   \n",
       "205  3. Código de barras que incluye información so...   \n",
       "206  3. Está particularmente favorecida en las molé...   \n",
       "207  3. Es preciso conocer el valor de K p para sab...   \n",
       "208                          3. No se pueden corregir.   \n",
       "209                                   3. DNA helicasa.   \n",
       "\n",
       "                                              Option_4  RC  year  \n",
       "200  4. Dos líneas oblicuas y paralelas, que repres...   4  2022  \n",
       "201                           4. 3-yodo-3-metilhexano.   3  2022  \n",
       "202                                     4. Viscosidad.   3  2022  \n",
       "203             4. Un biomarcador de función cerebral.   1  2022  \n",
       "204               4. Isoelectroenfoque capilar (CIEF).   4  2022  \n",
       "205  4. Código QR que permite identificar de forma ...   1  2022  \n",
       "206  4. Presenta un mayor rendimiento cuántico de e...   3  2022  \n",
       "207  4. El valor de K c no cambia, por lo tanto, no...   2  2022  \n",
       "208  4. Son debidos al azar y no se pueden eliminar...   2  2022  \n",
       "209                                 4. DNA polimerasa.   3  2022  "
      ]
     },
     "execution_count": 34,
     "metadata": {},
     "output_type": "execute_result"
    }
   ],
   "source": [
    "processed_exam_df.tail(10)"
   ]
  },
  {
   "cell_type": "markdown",
   "metadata": {},
   "source": [
    "### Filtering by relevant questions\n",
    "\n",
    "**1. Filtering for id**\n",
    "\n",
    "A list of the number of question is used to filter the DataFrame, but first doing a -1 so it matches with the id. \n",
    "\n",
    "Finally the indexes are reseted"
   ]
  },
  {
   "cell_type": "code",
   "execution_count": 35,
   "metadata": {},
   "outputs": [
    {
     "name": "stdout",
     "output_type": "stream",
     "text": [
      "Expected number of rows = 44\n",
      "Number of rows in filtered df = 44\n"
     ]
    }
   ],
   "source": [
    "id_filter = [x for x in range(159, 200, 1)] + [203, 208, 209]\n",
    "processed_exam_df_filtered = processed_exam_df.iloc[id_filter]\n",
    "processed_exam_df_filtered = processed_exam_df_filtered.reset_index(drop= True)\n",
    "print(f\"Expected number of rows = {len(id_filter)}\\nNumber of rows in filtered df = {processed_exam_df_filtered.shape[0]}\")"
   ]
  },
  {
   "cell_type": "markdown",
   "metadata": {},
   "source": [
    "**2. Showing the filtered DataFrame**\n",
    "\n",
    "Using head and tail"
   ]
  },
  {
   "cell_type": "code",
   "execution_count": 36,
   "metadata": {},
   "outputs": [
    {
     "data": {
      "application/vnd.microsoft.datawrangler.viewer.v0+json": {
       "columns": [
        {
         "name": "index",
         "rawType": "int64",
         "type": "integer"
        },
        {
         "name": "Question",
         "rawType": "object",
         "type": "string"
        },
        {
         "name": "Option_1",
         "rawType": "object",
         "type": "string"
        },
        {
         "name": "Option_2",
         "rawType": "object",
         "type": "string"
        },
        {
         "name": "Option_3",
         "rawType": "object",
         "type": "string"
        },
        {
         "name": "Option_4",
         "rawType": "object",
         "type": "string"
        },
        {
         "name": "RC",
         "rawType": "int32",
         "type": "integer"
        },
        {
         "name": "year",
         "rawType": "int64",
         "type": "integer"
        }
       ],
       "conversionMethod": "pd.DataFrame",
       "ref": "856aaa22-175c-4427-aaec-bc18e60664c3",
       "rows": [
        [
         "0",
         "160. ¿Cuál de las siguientes afirmaciones es correcta para los glicoesfingolípidos?:",
         "1. Son apolares.",
         "2. Su función principal es la reserva energética.",
         "3. En el caso de que porten ácido siálico, se denominan gangliósidos.",
         "4. Tienen dos residuos de ácidos grasos en su molécula.",
         "3",
         "2022"
        ],
        [
         "1",
         "161. ¿Cuál de las siguientes afirmaciones es cierta para la oxidación de ácidos grasos?:",
         "1. La oxidación y la síntesis de ácidos grasos se dan con las mismas reacciones, pero en sentido contrario.",
         "2. Tiene lugar en el citosol.",
         "3. Tiene lugar con niveles plasmáticos bajos de glucagón o adrenalina.",
         "4. Los ácidos grasos deben activarse (uniéndose a CoA) para permitir su internalización en la mitocondria.",
         "4",
         "2022"
        ],
        [
         "2",
         "162. ¿Cuál de las siguientes afirmaciones es cierta para el metabolismo del nitrógeno de los aminoácidos?:",
         "1. El nitrógeno es liberado en el proceso de digestión por las proteasas pancreáticas.",
         "2. El primer paso de la eliminación del nitrógeno suele ser la transferencia del grupo αamino al α-cetoglutarato.",
         "3. Las aminotransferasas son inespecíficas y actúan sobre todos los aminoácidos.",
         "4. Las reacciones de transaminación son altamente irreversibles.",
         "2",
         "2022"
        ],
        [
         "3",
         "163. ¿Cuál de las siguientes afirmaciones es FALSA para síntesis de desoxirribonucleótidos?:",
         "1. La enzima clave es la ribonucleótido reductasa.",
         "2. La fuente de equivalentes reductores es el NADPH + H+.",
         "3. El dATP inhibe alostéricamente la síntesis.",
         "4. Se sintetizan directamente desde desoxirribosa.",
         "4",
         "2022"
        ],
        [
         "4",
         "164. ¿Cuál de las siguientes afirmaciones es cierta para la regulación hormonal de la glucolisis?:",
         "1. Se realiza únicamente en el inicio de la ruta, controlando la actividad de la hexoquinasa/glucoquinasa.",
         "2. El glucagón inhibe la piruvato quinasa.",
         "3. La insulina activa la síntesis de fructosa-2,6bisfosfato.",
         "4. La insulina inhibe la fosfofructoquinasa-1.",
         "0",
         "2022"
        ],
        [
         "5",
         "165. Los valores de pKa del ácido aspártico son 2,1;3,9 y 9,8. Su punto isoeléctrico (pI) es:",
         "1. 7,0.",
         "2. 5,3.",
         "3. 3,0.",
         "4. 3,9.",
         "3",
         "2022"
        ],
        [
         "6",
         "166. Las proteínas destinadas a ser secretadas se sintetizan en:",
         "1. Los polisomas libres.",
         "2. El retículo endoplásmico rugoso.",
         "3. El aparato de Golgi.",
         "4. El retículo endoplásmico liso.",
         "2",
         "2022"
        ],
        [
         "7",
         "167. El escualeno es  un precursor de:",
         "1. Esfingosina.",
         "2. Prostaglandinas.",
         "3. Ácido araquidónico.",
         "4. Colesterol.",
         "4",
         "2022"
        ],
        [
         "8",
         "168. Cada ciclo de oxidación de los ácidos grasos:",
         "1. Libera una molécula de acetil-CoA.",
         "2. Consume dos moléculas de NADH.",
         "3. Genera dos moléculas de FADH2.",
         "4. Produce una deshidratación.",
         "1",
         "2022"
        ],
        [
         "9",
         "169. La lanzadera malato-aspartato:",
         "1. Permite la regeneración del NADH citosólico necesario para la glucolisis.",
         "2. Sirve para pasar los electrones del NADH del citosol a la mitocondria.",
         "3. Transfiere los electrones del NADH al citrato.",
         "4. Es un complejo transportador de electrones.",
         "2",
         "2022"
        ]
       ],
       "shape": {
        "columns": 7,
        "rows": 10
       }
      },
      "text/html": [
       "<div>\n",
       "<style scoped>\n",
       "    .dataframe tbody tr th:only-of-type {\n",
       "        vertical-align: middle;\n",
       "    }\n",
       "\n",
       "    .dataframe tbody tr th {\n",
       "        vertical-align: top;\n",
       "    }\n",
       "\n",
       "    .dataframe thead th {\n",
       "        text-align: right;\n",
       "    }\n",
       "</style>\n",
       "<table border=\"1\" class=\"dataframe\">\n",
       "  <thead>\n",
       "    <tr style=\"text-align: right;\">\n",
       "      <th></th>\n",
       "      <th>Question</th>\n",
       "      <th>Option_1</th>\n",
       "      <th>Option_2</th>\n",
       "      <th>Option_3</th>\n",
       "      <th>Option_4</th>\n",
       "      <th>RC</th>\n",
       "      <th>year</th>\n",
       "    </tr>\n",
       "  </thead>\n",
       "  <tbody>\n",
       "    <tr>\n",
       "      <th>0</th>\n",
       "      <td>160. ¿Cuál de las siguientes afirmaciones es c...</td>\n",
       "      <td>1. Son apolares.</td>\n",
       "      <td>2. Su función principal es la reserva energética.</td>\n",
       "      <td>3. En el caso de que porten ácido siálico, se ...</td>\n",
       "      <td>4. Tienen dos residuos de ácidos grasos en su ...</td>\n",
       "      <td>3</td>\n",
       "      <td>2022</td>\n",
       "    </tr>\n",
       "    <tr>\n",
       "      <th>1</th>\n",
       "      <td>161. ¿Cuál de las siguientes afirmaciones es c...</td>\n",
       "      <td>1. La oxidación y la síntesis de ácidos grasos...</td>\n",
       "      <td>2. Tiene lugar en el citosol.</td>\n",
       "      <td>3. Tiene lugar con niveles plasmáticos bajos d...</td>\n",
       "      <td>4. Los ácidos grasos deben activarse (uniéndos...</td>\n",
       "      <td>4</td>\n",
       "      <td>2022</td>\n",
       "    </tr>\n",
       "    <tr>\n",
       "      <th>2</th>\n",
       "      <td>162. ¿Cuál de las siguientes afirmaciones es c...</td>\n",
       "      <td>1. El nitrógeno es liberado en el proceso de d...</td>\n",
       "      <td>2. El primer paso de la eliminación del nitróg...</td>\n",
       "      <td>3. Las aminotransferasas son inespecíficas y a...</td>\n",
       "      <td>4. Las reacciones de transaminación son altame...</td>\n",
       "      <td>2</td>\n",
       "      <td>2022</td>\n",
       "    </tr>\n",
       "    <tr>\n",
       "      <th>3</th>\n",
       "      <td>163. ¿Cuál de las siguientes afirmaciones es F...</td>\n",
       "      <td>1. La enzima clave es la ribonucleótido reduct...</td>\n",
       "      <td>2. La fuente de equivalentes reductores es el ...</td>\n",
       "      <td>3. El dATP inhibe alostéricamente la síntesis.</td>\n",
       "      <td>4. Se sintetizan directamente desde desoxirrib...</td>\n",
       "      <td>4</td>\n",
       "      <td>2022</td>\n",
       "    </tr>\n",
       "    <tr>\n",
       "      <th>4</th>\n",
       "      <td>164. ¿Cuál de las siguientes afirmaciones es c...</td>\n",
       "      <td>1. Se realiza únicamente en el inicio de la ru...</td>\n",
       "      <td>2. El glucagón inhibe la piruvato quinasa.</td>\n",
       "      <td>3. La insulina activa la síntesis de fructosa-...</td>\n",
       "      <td>4. La insulina inhibe la fosfofructoquinasa-1.</td>\n",
       "      <td>0</td>\n",
       "      <td>2022</td>\n",
       "    </tr>\n",
       "    <tr>\n",
       "      <th>5</th>\n",
       "      <td>165. Los valores de pKa del ácido aspártico so...</td>\n",
       "      <td>1. 7,0.</td>\n",
       "      <td>2. 5,3.</td>\n",
       "      <td>3. 3,0.</td>\n",
       "      <td>4. 3,9.</td>\n",
       "      <td>3</td>\n",
       "      <td>2022</td>\n",
       "    </tr>\n",
       "    <tr>\n",
       "      <th>6</th>\n",
       "      <td>166. Las proteínas destinadas a ser secretadas...</td>\n",
       "      <td>1. Los polisomas libres.</td>\n",
       "      <td>2. El retículo endoplásmico rugoso.</td>\n",
       "      <td>3. El aparato de Golgi.</td>\n",
       "      <td>4. El retículo endoplásmico liso.</td>\n",
       "      <td>2</td>\n",
       "      <td>2022</td>\n",
       "    </tr>\n",
       "    <tr>\n",
       "      <th>7</th>\n",
       "      <td>167. El escualeno es  un precursor de:</td>\n",
       "      <td>1. Esfingosina.</td>\n",
       "      <td>2. Prostaglandinas.</td>\n",
       "      <td>3. Ácido araquidónico.</td>\n",
       "      <td>4. Colesterol.</td>\n",
       "      <td>4</td>\n",
       "      <td>2022</td>\n",
       "    </tr>\n",
       "    <tr>\n",
       "      <th>8</th>\n",
       "      <td>168. Cada ciclo de oxidación de los ácidos gra...</td>\n",
       "      <td>1. Libera una molécula de acetil-CoA.</td>\n",
       "      <td>2. Consume dos moléculas de NADH.</td>\n",
       "      <td>3. Genera dos moléculas de FADH2.</td>\n",
       "      <td>4. Produce una deshidratación.</td>\n",
       "      <td>1</td>\n",
       "      <td>2022</td>\n",
       "    </tr>\n",
       "    <tr>\n",
       "      <th>9</th>\n",
       "      <td>169. La lanzadera malato-aspartato:</td>\n",
       "      <td>1. Permite la regeneración del NADH citosólico...</td>\n",
       "      <td>2. Sirve para pasar los electrones del NADH de...</td>\n",
       "      <td>3. Transfiere los electrones del NADH al citrato.</td>\n",
       "      <td>4. Es un complejo transportador de electrones.</td>\n",
       "      <td>2</td>\n",
       "      <td>2022</td>\n",
       "    </tr>\n",
       "  </tbody>\n",
       "</table>\n",
       "</div>"
      ],
      "text/plain": [
       "                                            Question  \\\n",
       "0  160. ¿Cuál de las siguientes afirmaciones es c...   \n",
       "1  161. ¿Cuál de las siguientes afirmaciones es c...   \n",
       "2  162. ¿Cuál de las siguientes afirmaciones es c...   \n",
       "3  163. ¿Cuál de las siguientes afirmaciones es F...   \n",
       "4  164. ¿Cuál de las siguientes afirmaciones es c...   \n",
       "5  165. Los valores de pKa del ácido aspártico so...   \n",
       "6  166. Las proteínas destinadas a ser secretadas...   \n",
       "7             167. El escualeno es  un precursor de:   \n",
       "8  168. Cada ciclo de oxidación de los ácidos gra...   \n",
       "9                169. La lanzadera malato-aspartato:   \n",
       "\n",
       "                                            Option_1  \\\n",
       "0                                   1. Son apolares.   \n",
       "1  1. La oxidación y la síntesis de ácidos grasos...   \n",
       "2  1. El nitrógeno es liberado en el proceso de d...   \n",
       "3  1. La enzima clave es la ribonucleótido reduct...   \n",
       "4  1. Se realiza únicamente en el inicio de la ru...   \n",
       "5                                            1. 7,0.   \n",
       "6                           1. Los polisomas libres.   \n",
       "7                                    1. Esfingosina.   \n",
       "8              1. Libera una molécula de acetil-CoA.   \n",
       "9  1. Permite la regeneración del NADH citosólico...   \n",
       "\n",
       "                                            Option_2  \\\n",
       "0  2. Su función principal es la reserva energética.   \n",
       "1                      2. Tiene lugar en el citosol.   \n",
       "2  2. El primer paso de la eliminación del nitróg...   \n",
       "3  2. La fuente de equivalentes reductores es el ...   \n",
       "4         2. El glucagón inhibe la piruvato quinasa.   \n",
       "5                                            2. 5,3.   \n",
       "6                2. El retículo endoplásmico rugoso.   \n",
       "7                                2. Prostaglandinas.   \n",
       "8                  2. Consume dos moléculas de NADH.   \n",
       "9  2. Sirve para pasar los electrones del NADH de...   \n",
       "\n",
       "                                            Option_3  \\\n",
       "0  3. En el caso de que porten ácido siálico, se ...   \n",
       "1  3. Tiene lugar con niveles plasmáticos bajos d...   \n",
       "2  3. Las aminotransferasas son inespecíficas y a...   \n",
       "3     3. El dATP inhibe alostéricamente la síntesis.   \n",
       "4  3. La insulina activa la síntesis de fructosa-...   \n",
       "5                                            3. 3,0.   \n",
       "6                            3. El aparato de Golgi.   \n",
       "7                             3. Ácido araquidónico.   \n",
       "8                  3. Genera dos moléculas de FADH2.   \n",
       "9  3. Transfiere los electrones del NADH al citrato.   \n",
       "\n",
       "                                            Option_4  RC  year  \n",
       "0  4. Tienen dos residuos de ácidos grasos en su ...   3  2022  \n",
       "1  4. Los ácidos grasos deben activarse (uniéndos...   4  2022  \n",
       "2  4. Las reacciones de transaminación son altame...   2  2022  \n",
       "3  4. Se sintetizan directamente desde desoxirrib...   4  2022  \n",
       "4     4. La insulina inhibe la fosfofructoquinasa-1.   0  2022  \n",
       "5                                            4. 3,9.   3  2022  \n",
       "6                  4. El retículo endoplásmico liso.   2  2022  \n",
       "7                                     4. Colesterol.   4  2022  \n",
       "8                     4. Produce una deshidratación.   1  2022  \n",
       "9     4. Es un complejo transportador de electrones.   2  2022  "
      ]
     },
     "execution_count": 36,
     "metadata": {},
     "output_type": "execute_result"
    }
   ],
   "source": [
    "processed_exam_df_filtered.head(10)"
   ]
  },
  {
   "cell_type": "code",
   "execution_count": 37,
   "metadata": {},
   "outputs": [
    {
     "data": {
      "application/vnd.microsoft.datawrangler.viewer.v0+json": {
       "columns": [
        {
         "name": "index",
         "rawType": "int64",
         "type": "integer"
        },
        {
         "name": "Question",
         "rawType": "object",
         "type": "string"
        },
        {
         "name": "Option_1",
         "rawType": "object",
         "type": "string"
        },
        {
         "name": "Option_2",
         "rawType": "object",
         "type": "string"
        },
        {
         "name": "Option_3",
         "rawType": "object",
         "type": "string"
        },
        {
         "name": "Option_4",
         "rawType": "object",
         "type": "string"
        },
        {
         "name": "RC",
         "rawType": "int32",
         "type": "integer"
        },
        {
         "name": "year",
         "rawType": "int64",
         "type": "integer"
        }
       ],
       "conversionMethod": "pd.DataFrame",
       "ref": "20878c91-2bca-4dac-b5dd-896d57bbb3df",
       "rows": [
        [
         "34",
         "194. La alta fidelidad del p roceso de síntesis de proteínas se debe principalmente a:",
         "1. La actividad de la enzima peptidil transferasa.",
         "2. La presencia de factores de iniciación y de elongación específicos para cada aminoaciltRNA.",
         "3. El acoplamiento entre el ribosoma y el RNA de transferencia.",
         "4. La actividad correctora de la aminoacil-tRNA sintetasa.",
         "4",
         "2022"
        ],
        [
         "35",
         "195. La impronta genética ( imprinting) es la:",
         "1. Expresión diferencial de uno de los alelos.",
         "2. Ausencia en el genoma de ciertos genes.",
         "3. Expresión de genes causantes de enfermedades.",
         "4. Presencia en el genoma de genes que permiten la identificación individual.",
         "1",
         "2022"
        ],
        [
         "36",
         "196. Las hormonas esteroideas actúan a nivel celular:",
         "1. Inhibiendo enzimas preexistentes.",
         "2. Mediante la formación de un segundo mensajero.",
         "3. Mediante la regulación de la expresión génica.",
         "4. Modificando la concentr ación de calcio iónico intracelular.",
         "3",
         "2022"
        ],
        [
         "37",
         "197. En referencia al fragmento Klenow, señale la respuesta FALSA:",
         "1. Es un fragmento de la enzima DNA polimerasa I.",
         "2. Su gran ventaja es su estabilidad a altas temperaturas.",
         "3. Se utiliza para el relleno de extremos 3´ de fragmentos de DNA.",
         "4. Tiene actividad de polimerasa y de 3´→5´ exonucleasa.",
         "2",
         "2022"
        ],
        [
         "38",
         "198. ¿Qué es la secuencia Shine-Dalgarno?:",
         "1. Una secuencia de RNA mensajero que solo existe en procariotas.",
         "2. Una secuencia situada a 6 o 7 nucleótidos del codón de terminación d e la traducción del RNA.",
         "3. Una secuencia de DNA consenso en la región promotora de genes eucariotas.",
         "4. Secuencia situada a 25 nucleótidos del sitio de inicio de la transcripción.",
         "1",
         "2022"
        ],
        [
         "39",
         "199. ¿Cómo afecta el aumen to de la temperatura a la reacción antígeno-anticuerpo?:",
         "1. Aumenta la velocidad y disminuye la afinidad de unión.",
         "2. Disminuye la velocidad y aumenta la afinidad de unión.",
         "3. Aumenta la velocidad y la afinidad de unión.",
         "4. Disminuye la velocidad y la afinidad de unión.",
         "1",
         "2022"
        ],
        [
         "40",
         "200. Los plásmidos son:",
         "1. Fragmentos de DNA lineales con genes de resistencia a antibióticos.",
         "2. Moléculas de RNA de cadena doble y circulares con genes de resistencia a antibióticos.",
         "3. Moléculas de DNA circulares que se replican de forma dependiente del cromosoma del huésped.",
         "4. Moléculas de DNA circulares que se replican independientemente del cromosoma del huésped.",
         "4",
         "2022"
        ],
        [
         "41",
         "204. La bilirrubina es:",
         "1. Un biomarcador de función hepática.",
         "2. Un biomarcador de función renal.",
         "3. Un biomarcador de función cardiaca.",
         "4. Un biomarcador de función cerebral.",
         "1",
         "2022"
        ],
        [
         "42",
         "209. Toda medida lleva asociada un error. Los errores sistemáticos son aquellos producidos por los equipos de medida o por los analistas que:",
         "1. Se corrigen realizando un número elevado de medidas.",
         "2. S e  p r o d u c e n  s i e m p r e  e n  e l  m i s m o  s e n t i d o , provocando un sesgo.",
         "3. No se pueden corregir.",
         "4. Son debidos al azar y no se pueden eliminar, aunque sí minimizar.",
         "2",
         "2022"
        ],
        [
         "43",
         "210. ¿Cuál es la enzima encargada de desenrollar la doble hélice durante el proceso de replicación del DNA?:",
         "1. Primasa.",
         "2. DNA girasa.",
         "3. DNA helicasa.",
         "4. DNA polimerasa.",
         "3",
         "2022"
        ]
       ],
       "shape": {
        "columns": 7,
        "rows": 10
       }
      },
      "text/html": [
       "<div>\n",
       "<style scoped>\n",
       "    .dataframe tbody tr th:only-of-type {\n",
       "        vertical-align: middle;\n",
       "    }\n",
       "\n",
       "    .dataframe tbody tr th {\n",
       "        vertical-align: top;\n",
       "    }\n",
       "\n",
       "    .dataframe thead th {\n",
       "        text-align: right;\n",
       "    }\n",
       "</style>\n",
       "<table border=\"1\" class=\"dataframe\">\n",
       "  <thead>\n",
       "    <tr style=\"text-align: right;\">\n",
       "      <th></th>\n",
       "      <th>Question</th>\n",
       "      <th>Option_1</th>\n",
       "      <th>Option_2</th>\n",
       "      <th>Option_3</th>\n",
       "      <th>Option_4</th>\n",
       "      <th>RC</th>\n",
       "      <th>year</th>\n",
       "    </tr>\n",
       "  </thead>\n",
       "  <tbody>\n",
       "    <tr>\n",
       "      <th>34</th>\n",
       "      <td>194. La alta fidelidad del p roceso de síntesi...</td>\n",
       "      <td>1. La actividad de la enzima peptidil transfer...</td>\n",
       "      <td>2. La presencia de factores de iniciación y de...</td>\n",
       "      <td>3. El acoplamiento entre el ribosoma y el RNA ...</td>\n",
       "      <td>4. La actividad correctora de la aminoacil-tRN...</td>\n",
       "      <td>4</td>\n",
       "      <td>2022</td>\n",
       "    </tr>\n",
       "    <tr>\n",
       "      <th>35</th>\n",
       "      <td>195. La impronta genética ( imprinting) es la:</td>\n",
       "      <td>1. Expresión diferencial de uno de los alelos.</td>\n",
       "      <td>2. Ausencia en el genoma de ciertos genes.</td>\n",
       "      <td>3. Expresión de genes causantes de enfermedades.</td>\n",
       "      <td>4. Presencia en el genoma de genes que permite...</td>\n",
       "      <td>1</td>\n",
       "      <td>2022</td>\n",
       "    </tr>\n",
       "    <tr>\n",
       "      <th>36</th>\n",
       "      <td>196. Las hormonas esteroideas actúan a nivel c...</td>\n",
       "      <td>1. Inhibiendo enzimas preexistentes.</td>\n",
       "      <td>2. Mediante la formación de un segundo mensajero.</td>\n",
       "      <td>3. Mediante la regulación de la expresión génica.</td>\n",
       "      <td>4. Modificando la concentr ación de calcio ión...</td>\n",
       "      <td>3</td>\n",
       "      <td>2022</td>\n",
       "    </tr>\n",
       "    <tr>\n",
       "      <th>37</th>\n",
       "      <td>197. En referencia al fragmento Klenow, señale...</td>\n",
       "      <td>1. Es un fragmento de la enzima DNA polimerasa I.</td>\n",
       "      <td>2. Su gran ventaja es su estabilidad a altas t...</td>\n",
       "      <td>3. Se utiliza para el relleno de extremos 3´ d...</td>\n",
       "      <td>4. Tiene actividad de polimerasa y de 3´→5´ ex...</td>\n",
       "      <td>2</td>\n",
       "      <td>2022</td>\n",
       "    </tr>\n",
       "    <tr>\n",
       "      <th>38</th>\n",
       "      <td>198. ¿Qué es la secuencia Shine-Dalgarno?:</td>\n",
       "      <td>1. Una secuencia de RNA mensajero que solo exi...</td>\n",
       "      <td>2. Una secuencia situada a 6 o 7 nucleótidos d...</td>\n",
       "      <td>3. Una secuencia de DNA consenso en la región ...</td>\n",
       "      <td>4. Secuencia situada a 25 nucleótidos del siti...</td>\n",
       "      <td>1</td>\n",
       "      <td>2022</td>\n",
       "    </tr>\n",
       "    <tr>\n",
       "      <th>39</th>\n",
       "      <td>199. ¿Cómo afecta el aumen to de la temperatur...</td>\n",
       "      <td>1. Aumenta la velocidad y disminuye la afinida...</td>\n",
       "      <td>2. Disminuye la velocidad y aumenta la afinida...</td>\n",
       "      <td>3. Aumenta la velocidad y la afinidad de unión.</td>\n",
       "      <td>4. Disminuye la velocidad y la afinidad de unión.</td>\n",
       "      <td>1</td>\n",
       "      <td>2022</td>\n",
       "    </tr>\n",
       "    <tr>\n",
       "      <th>40</th>\n",
       "      <td>200. Los plásmidos son:</td>\n",
       "      <td>1. Fragmentos de DNA lineales con genes de res...</td>\n",
       "      <td>2. Moléculas de RNA de cadena doble y circular...</td>\n",
       "      <td>3. Moléculas de DNA circulares que se replican...</td>\n",
       "      <td>4. Moléculas de DNA circulares que se replican...</td>\n",
       "      <td>4</td>\n",
       "      <td>2022</td>\n",
       "    </tr>\n",
       "    <tr>\n",
       "      <th>41</th>\n",
       "      <td>204. La bilirrubina es:</td>\n",
       "      <td>1. Un biomarcador de función hepática.</td>\n",
       "      <td>2. Un biomarcador de función renal.</td>\n",
       "      <td>3. Un biomarcador de función cardiaca.</td>\n",
       "      <td>4. Un biomarcador de función cerebral.</td>\n",
       "      <td>1</td>\n",
       "      <td>2022</td>\n",
       "    </tr>\n",
       "    <tr>\n",
       "      <th>42</th>\n",
       "      <td>209. Toda medida lleva asociada un error. Los ...</td>\n",
       "      <td>1. Se corrigen realizando un número elevado de...</td>\n",
       "      <td>2. S e  p r o d u c e n  s i e m p r e  e n  e...</td>\n",
       "      <td>3. No se pueden corregir.</td>\n",
       "      <td>4. Son debidos al azar y no se pueden eliminar...</td>\n",
       "      <td>2</td>\n",
       "      <td>2022</td>\n",
       "    </tr>\n",
       "    <tr>\n",
       "      <th>43</th>\n",
       "      <td>210. ¿Cuál es la enzima encargada de desenroll...</td>\n",
       "      <td>1. Primasa.</td>\n",
       "      <td>2. DNA girasa.</td>\n",
       "      <td>3. DNA helicasa.</td>\n",
       "      <td>4. DNA polimerasa.</td>\n",
       "      <td>3</td>\n",
       "      <td>2022</td>\n",
       "    </tr>\n",
       "  </tbody>\n",
       "</table>\n",
       "</div>"
      ],
      "text/plain": [
       "                                             Question  \\\n",
       "34  194. La alta fidelidad del p roceso de síntesi...   \n",
       "35     195. La impronta genética ( imprinting) es la:   \n",
       "36  196. Las hormonas esteroideas actúan a nivel c...   \n",
       "37  197. En referencia al fragmento Klenow, señale...   \n",
       "38         198. ¿Qué es la secuencia Shine-Dalgarno?:   \n",
       "39  199. ¿Cómo afecta el aumen to de la temperatur...   \n",
       "40                            200. Los plásmidos son:   \n",
       "41                            204. La bilirrubina es:   \n",
       "42  209. Toda medida lleva asociada un error. Los ...   \n",
       "43  210. ¿Cuál es la enzima encargada de desenroll...   \n",
       "\n",
       "                                             Option_1  \\\n",
       "34  1. La actividad de la enzima peptidil transfer...   \n",
       "35     1. Expresión diferencial de uno de los alelos.   \n",
       "36               1. Inhibiendo enzimas preexistentes.   \n",
       "37  1. Es un fragmento de la enzima DNA polimerasa I.   \n",
       "38  1. Una secuencia de RNA mensajero que solo exi...   \n",
       "39  1. Aumenta la velocidad y disminuye la afinida...   \n",
       "40  1. Fragmentos de DNA lineales con genes de res...   \n",
       "41             1. Un biomarcador de función hepática.   \n",
       "42  1. Se corrigen realizando un número elevado de...   \n",
       "43                                        1. Primasa.   \n",
       "\n",
       "                                             Option_2  \\\n",
       "34  2. La presencia de factores de iniciación y de...   \n",
       "35         2. Ausencia en el genoma de ciertos genes.   \n",
       "36  2. Mediante la formación de un segundo mensajero.   \n",
       "37  2. Su gran ventaja es su estabilidad a altas t...   \n",
       "38  2. Una secuencia situada a 6 o 7 nucleótidos d...   \n",
       "39  2. Disminuye la velocidad y aumenta la afinida...   \n",
       "40  2. Moléculas de RNA de cadena doble y circular...   \n",
       "41                2. Un biomarcador de función renal.   \n",
       "42  2. S e  p r o d u c e n  s i e m p r e  e n  e...   \n",
       "43                                     2. DNA girasa.   \n",
       "\n",
       "                                             Option_3  \\\n",
       "34  3. El acoplamiento entre el ribosoma y el RNA ...   \n",
       "35   3. Expresión de genes causantes de enfermedades.   \n",
       "36  3. Mediante la regulación de la expresión génica.   \n",
       "37  3. Se utiliza para el relleno de extremos 3´ d...   \n",
       "38  3. Una secuencia de DNA consenso en la región ...   \n",
       "39    3. Aumenta la velocidad y la afinidad de unión.   \n",
       "40  3. Moléculas de DNA circulares que se replican...   \n",
       "41             3. Un biomarcador de función cardiaca.   \n",
       "42                          3. No se pueden corregir.   \n",
       "43                                   3. DNA helicasa.   \n",
       "\n",
       "                                             Option_4  RC  year  \n",
       "34  4. La actividad correctora de la aminoacil-tRN...   4  2022  \n",
       "35  4. Presencia en el genoma de genes que permite...   1  2022  \n",
       "36  4. Modificando la concentr ación de calcio ión...   3  2022  \n",
       "37  4. Tiene actividad de polimerasa y de 3´→5´ ex...   2  2022  \n",
       "38  4. Secuencia situada a 25 nucleótidos del siti...   1  2022  \n",
       "39  4. Disminuye la velocidad y la afinidad de unión.   1  2022  \n",
       "40  4. Moléculas de DNA circulares que se replican...   4  2022  \n",
       "41             4. Un biomarcador de función cerebral.   1  2022  \n",
       "42  4. Son debidos al azar y no se pueden eliminar...   2  2022  \n",
       "43                                 4. DNA polimerasa.   3  2022  "
      ]
     },
     "execution_count": 37,
     "metadata": {},
     "output_type": "execute_result"
    }
   ],
   "source": [
    "processed_exam_df_filtered.tail(10)"
   ]
  },
  {
   "cell_type": "markdown",
   "metadata": {},
   "source": [
    "# Data Loading"
   ]
  },
  {
   "cell_type": "markdown",
   "metadata": {},
   "source": [
    "## Saving in csv file\n",
    "\n",
    "The `processed_exam_df_filtered` DataFrame, containing the cleaned and transformed exam data, is saved to a CSV file with the name generatd in the first step in the \"data\" directory. The `index=False` argument ensures that the DataFrame index is not written to the file, resulting in a cleaner output. This CSV file can be used for further analysis or as input for other applications."
   ]
  },
  {
   "cell_type": "code",
   "execution_count": 38,
   "metadata": {},
   "outputs": [],
   "source": [
    "processed_exam_df_filtered.to_csv(save_format, index= False)"
   ]
  },
  {
   "cell_type": "markdown",
   "metadata": {},
   "source": [
    "## Writing into data warehouse\n",
    "\n",
    "This section details the process of loading the cleaned and transformed exam data into an SQLite database, serving as a data warehouse for further analysis and querying.\n",
    "\n",
    "**1. Database Connection and Path:**\n",
    "\n",
    "The path to the SQLite database file is defined, and a connection is established using the `sqlite3` library."
   ]
  },
  {
   "cell_type": "code",
   "execution_count": 39,
   "metadata": {},
   "outputs": [],
   "source": [
    "db_path: str = \"../data/clean/bir_warehouse.db\""
   ]
  },
  {
   "cell_type": "markdown",
   "metadata": {},
   "source": [
    "**2. SQL Queries Definition:**\n",
    "\n",
    "Two SQL queries are defined: one for inserting questions into the questions table and another for inserting options into the questions_options table."
   ]
  },
  {
   "cell_type": "code",
   "execution_count": 40,
   "metadata": {},
   "outputs": [],
   "source": [
    "query_question: str = \"\"\"\n",
    "INSERT INTO questions (exam_year, exam_subject, question) \n",
    "VALUES((SELECT id_year FROM year WHERE year_name = ?),\n",
    "    (SELECT id_type FROM exam WHERE exam_type = ?),\n",
    "    ?);\n",
    "\"\"\"\n",
    "\n",
    "query_options: str = \"\"\"\n",
    "INSERT INTO questions_options (question_id, option_num, option_text, is_correct)\n",
    "VALUES((SELECT q.id \n",
    "        FROM questions AS q\n",
    "        JOIN year AS y ON q.exam_year = y.id_year\n",
    "        WHERE q.question = ? AND y.year_name = ?),\n",
    "    ?,\n",
    "    ?,\n",
    "    ?)\n",
    "\"\"\""
   ]
  },
  {
   "cell_type": "markdown",
   "metadata": {},
   "source": [
    "**3. Database Interaction and Data Insertion:**\n",
    "\n",
    "A with statement is used to establish a connection to the SQLite database, ensuring that the connection is properly closed after use. A cursor is created, and the processed_exam_df DataFrame is iterated over to insert each question and its options"
   ]
  },
  {
   "cell_type": "code",
   "execution_count": 41,
   "metadata": {},
   "outputs": [],
   "source": [
    "with sqlite3.connect(db_path) as bir_warehouse:\n",
    "    cur = bir_warehouse.cursor()\n",
    "    for question in processed_exam_df_filtered.itertuples():\n",
    "        cur.execute(query_question, (str(question[7]), exam_acronym, question[1]))\n",
    "        bir_warehouse.commit()\n",
    "        for n, option in enumerate(question[2:6]):\n",
    "            cur.execute(query_options, (question[1], str(year), n+1, option, n+1 == question[6]))\n",
    "            bir_warehouse.commit()"
   ]
  }
 ],
 "metadata": {
  "colab": {
   "provenance": []
  },
  "kernelspec": {
   "display_name": "bir_etl",
   "language": "python",
   "name": "python3"
  },
  "language_info": {
   "codemirror_mode": {
    "name": "ipython",
    "version": 3
   },
   "file_extension": ".py",
   "mimetype": "text/x-python",
   "name": "python",
   "nbconvert_exporter": "python",
   "pygments_lexer": "ipython3",
   "version": "3.12.7"
  }
 },
 "nbformat": 4,
 "nbformat_minor": 4
}
