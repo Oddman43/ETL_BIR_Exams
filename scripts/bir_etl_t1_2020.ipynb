{
 "cells": [
  {
   "cell_type": "markdown",
   "metadata": {
    "editable": true,
    "id": "56vKIohe8Jou",
    "slideshow": {
     "slide_type": ""
    },
    "tags": []
   },
   "source": [
    "# Data Extraction\n",
    "This section details the process of extracting question data from a PDF file and corresponding answer keys from a TSV file."
   ]
  },
  {
   "cell_type": "markdown",
   "metadata": {
    "id": "8kRORmWM8Joy"
   },
   "source": [
    "## Importing libraries"
   ]
  },
  {
   "cell_type": "markdown",
   "metadata": {},
   "source": [
    "* Pandas for data manipulation\n",
    "* NumPy for the NaN datatype\n",
    "* PyPDF for its ability to read the pfd files, although it requieres post-processing of the extracted text\n",
    "* sqlite3 to create load the clean data into `bir_warehouse.db`"
   ]
  },
  {
   "cell_type": "code",
   "execution_count": 1,
   "metadata": {
    "colab": {
     "base_uri": "https://localhost:8080/"
    },
    "id": "y8DpYYll8Joz",
    "outputId": "40cac5b3-1153-431b-f780-201aa62b5813"
   },
   "outputs": [],
   "source": [
    "import pandas as pd\n",
    "import numpy as np\n",
    "from pypdf import PdfReader\n",
    "import sqlite3"
   ]
  },
  {
   "cell_type": "markdown",
   "metadata": {},
   "source": [
    "## Selecting year and type of exam"
   ]
  },
  {
   "cell_type": "markdown",
   "metadata": {},
   "source": [
    "This function, `compute_expected_rows`, takes the exam year and topic as input and returns metadata crucial for subsequent data cleaning and loading steps. This metadata includes the expected maximum number of rows in the final DataFrame, the number of questions per exam, and the acronym for the exam type.  The maximum number of rows is calculated based on the number of questions and options per question for each year, following a specific pattern:\n",
    "\n",
    "*   2024-2021: 210 questions, 4 options each\n",
    "*   2020-2019: 185 questions, 4 options each\n",
    "*   2018-2015: 235 questions, 4 options each\n",
    "*   2014-2012: 235 questions, 5 options each\n",
    "*   2011-2004: 260 questions, 5 options each\n",
    "\n",
    "This information is essential for validating data integrity during the ETL process.  For example, the expected row count helps verify that all questions and options have been correctly extracted and transformed. The exam type acronym aids in consistent file naming and data organization."
   ]
  },
  {
   "cell_type": "code",
   "execution_count": 2,
   "metadata": {},
   "outputs": [],
   "source": [
    "def compute_expected_rows(year: int, topic: str) -> tuple:\n",
    "    \"\"\"Computes and returns metadata about the exam for a given year and topic\n",
    "\n",
    "    Args:\n",
    "        year (int): The year of the exam\n",
    "        topic (str): The topic of the exam\n",
    "\n",
    "    Returns:\n",
    "        tuple: Contains:\n",
    "            - max_rows: The expected maximum number of rows in the DataFrame\n",
    "            - num_options: The number of questions in the exam\n",
    "            - exam_type_acronym: The acronym for the exam type\n",
    "\n",
    "    \"\"\"\n",
    "    info_year_dict: dict = {\n",
    "        2011: [260, 5],\n",
    "        2014: [235, 5],\n",
    "        2018: [235, 4],\n",
    "        2020: [185, 4],\n",
    "        2021: [210, 4],\n",
    "    }\n",
    "    save_name_dict: dict = {\n",
    "        \"BIOLOGÍA\": \"bir\",\n",
    "        \"FARMACIA\": \"fir\",\n",
    "        \"QUÍMICA\": \"qir\",\n",
    "        \"MEDICINA\": \"mir\",\n",
    "    }\n",
    "    max_rows: int = 0\n",
    "    num_options: int = 0\n",
    "    for target_year, info_list in info_year_dict.items():\n",
    "        if year <= target_year:\n",
    "            max_rows = (info_list[0] * info_list[1]) + info_list[0]\n",
    "            num_options = info_list[1]\n",
    "            break\n",
    "    else:\n",
    "        max_rows = 1050\n",
    "        num_options = 4\n",
    "    return max_rows, num_options, save_name_dict[topic]"
   ]
  },
  {
   "cell_type": "markdown",
   "metadata": {},
   "source": [
    "### Add year of the exam and topic "
   ]
  },
  {
   "cell_type": "code",
   "execution_count": 4,
   "metadata": {},
   "outputs": [],
   "source": [
    "year: int = 2020\n",
    "topic: str = \"BIOLOGÍA\" # Select from: BIOLOGÍA, FARMACIA, QUÍMICA, MEDICINA\n",
    "total_num_rows: int\n",
    "num_questions: int\n",
    "exam_acronym: str\n",
    "total_num_rows, num_questions, exam_acronym = compute_expected_rows(year, topic)\n",
    "save_format: str = f\"../data/clean/clean_{exam_acronym}_{year}.csv\""
   ]
  },
  {
   "cell_type": "markdown",
   "metadata": {
    "id": "Z1Kjq5ue8Jo1"
   },
   "source": [
    "## Extracting Questions from Pdf file"
   ]
  },
  {
   "cell_type": "markdown",
   "metadata": {},
   "source": [
    "This section focuses on extracting the textual content of the exam questions from the provided PDF file.\n",
    "\n",
    "**Path Definition:**\n",
    "\n",
    "The path to the PDF file is dynamically constructed using the provided `year` and `topic` variables. This ensures flexibility and allows the script to process different exam files without manual path adjustments.\n",
    "\n",
    "Finally it stores the output in a DataFrame and the first 10 rows of the resulting DataFrame are displayed for a quick preview of the loaded data."
   ]
  },
  {
   "cell_type": "code",
   "execution_count": 12,
   "metadata": {
    "id": "AB4M4yfr8Jo3"
   },
   "outputs": [
    {
     "data": {
      "application/vnd.microsoft.datawrangler.viewer.v0+json": {
       "columns": [
        {
         "name": "index",
         "rawType": "int64",
         "type": "integer"
        },
        {
         "name": "text",
         "rawType": "object",
         "type": "string"
        }
       ],
       "conversionMethod": "pd.DataFrame",
       "ref": "b0208bf0-d8bd-4199-9333-0346c1e2cc43",
       "rows": [
        [
         "0",
         " "
        ],
        [
         "1",
         "- 1 - "
        ],
        [
         "2",
         "1. La velocidad de conducción de un potencial de "
        ],
        [
         "3",
         "acción será mayor: "
        ],
        [
         "4",
         " "
        ],
        [
         "5",
         "1. Cuanto mayor sea el diámetro del axón. "
        ],
        [
         "6",
         "2. En los axones sin mielina. "
        ],
        [
         "7",
         "3. Cuanto mayor sea la longitud del axón. "
        ],
        [
         "8",
         "4. Cuanto menor sea el diámetro del axón. "
        ],
        [
         "9",
         " "
        ]
       ],
       "shape": {
        "columns": 1,
        "rows": 10
       }
      },
      "text/html": [
       "<div>\n",
       "<style scoped>\n",
       "    .dataframe tbody tr th:only-of-type {\n",
       "        vertical-align: middle;\n",
       "    }\n",
       "\n",
       "    .dataframe tbody tr th {\n",
       "        vertical-align: top;\n",
       "    }\n",
       "\n",
       "    .dataframe thead th {\n",
       "        text-align: right;\n",
       "    }\n",
       "</style>\n",
       "<table border=\"1\" class=\"dataframe\">\n",
       "  <thead>\n",
       "    <tr style=\"text-align: right;\">\n",
       "      <th></th>\n",
       "      <th>text</th>\n",
       "    </tr>\n",
       "  </thead>\n",
       "  <tbody>\n",
       "    <tr>\n",
       "      <th>0</th>\n",
       "      <td></td>\n",
       "    </tr>\n",
       "    <tr>\n",
       "      <th>1</th>\n",
       "      <td>- 1 -</td>\n",
       "    </tr>\n",
       "    <tr>\n",
       "      <th>2</th>\n",
       "      <td>1. La velocidad de conducción de un potencial de</td>\n",
       "    </tr>\n",
       "    <tr>\n",
       "      <th>3</th>\n",
       "      <td>acción será mayor:</td>\n",
       "    </tr>\n",
       "    <tr>\n",
       "      <th>4</th>\n",
       "      <td></td>\n",
       "    </tr>\n",
       "    <tr>\n",
       "      <th>5</th>\n",
       "      <td>1. Cuanto mayor sea el diámetro del axón.</td>\n",
       "    </tr>\n",
       "    <tr>\n",
       "      <th>6</th>\n",
       "      <td>2. En los axones sin mielina.</td>\n",
       "    </tr>\n",
       "    <tr>\n",
       "      <th>7</th>\n",
       "      <td>3. Cuanto mayor sea la longitud del axón.</td>\n",
       "    </tr>\n",
       "    <tr>\n",
       "      <th>8</th>\n",
       "      <td>4. Cuanto menor sea el diámetro del axón.</td>\n",
       "    </tr>\n",
       "    <tr>\n",
       "      <th>9</th>\n",
       "      <td></td>\n",
       "    </tr>\n",
       "  </tbody>\n",
       "</table>\n",
       "</div>"
      ],
      "text/plain": [
       "                                                text\n",
       "0                                                   \n",
       "1                                             - 1 - \n",
       "2  1. La velocidad de conducción de un potencial de \n",
       "3                                acción será mayor: \n",
       "4                                                   \n",
       "5         1. Cuanto mayor sea el diámetro del axón. \n",
       "6                     2. En los axones sin mielina. \n",
       "7         3. Cuanto mayor sea la longitud del axón. \n",
       "8         4. Cuanto menor sea el diámetro del axón. \n",
       "9                                                   "
      ]
     },
     "execution_count": 12,
     "metadata": {},
     "output_type": "execute_result"
    }
   ],
   "source": [
    "path: str = f\"../data/raw/type_1/Raw_Cuaderno_{year}_{topic}_0_C.pdf\"\n",
    "with PdfReader(path) as pdf_file:\n",
    "    full_text: list = []\n",
    "    for n in range(2, len(pdf_file.pages)):\n",
    "        page = pdf_file.pages[n]\n",
    "        text: str = page.extract_text()\n",
    "        full_text.extend(text.splitlines())\n",
    "raw_exam_df: pd.DataFrame = pd.DataFrame(full_text, columns=[\"text\"])\n",
    "raw_exam_df.head(10)"
   ]
  },
  {
   "cell_type": "markdown",
   "metadata": {
    "id": "IBhc5aFQ8Jo6"
   },
   "source": [
    "## Extracting Answers from .tsv file into a DataFrame"
   ]
  },
  {
   "cell_type": "markdown",
   "metadata": {},
   "source": [
    "This section focuses on extracting the answer key data from the provided .tsv file and loading it into a Pandas DataFrame.\n",
    "\n",
    "**Path Definition and Data Loading:**\n",
    "\n",
    "The path to the .tsv file is dynamically constructed using the `year` and `topic` variables, mirroring the approach used for the PDF file. This ensures consistency and flexibility in processing different exam files. \n",
    "\n",
    "The `pd.read_table()` function is then used to read the .tsv file directly into a Pandas DataFrame. Finally, the first 10 rows of the resulting DataFrame are displayed for a quick preview of the loaded data."
   ]
  },
  {
   "cell_type": "code",
   "execution_count": 6,
   "metadata": {
    "colab": {
     "base_uri": "https://localhost:8080/",
     "height": 206
    },
    "id": "O1ouB9mQ8Jo7",
    "outputId": "70b7615d-9c90-4f2d-b9e1-a5c86b507ef6"
   },
   "outputs": [
    {
     "data": {
      "application/vnd.microsoft.datawrangler.viewer.v0+json": {
       "columns": [
        {
         "name": "index",
         "rawType": "int64",
         "type": "integer"
        },
        {
         "name": "V",
         "rawType": "int64",
         "type": "integer"
        },
        {
         "name": "RC",
         "rawType": "int64",
         "type": "integer"
        },
        {
         "name": "V.1",
         "rawType": "int64",
         "type": "integer"
        },
        {
         "name": "RC.1",
         "rawType": "float64",
         "type": "float"
        },
        {
         "name": "V.2",
         "rawType": "int64",
         "type": "integer"
        },
        {
         "name": "RC.2",
         "rawType": "float64",
         "type": "float"
        },
        {
         "name": "V.3",
         "rawType": "int64",
         "type": "integer"
        },
        {
         "name": "RC.3",
         "rawType": "float64",
         "type": "float"
        },
        {
         "name": "V.4",
         "rawType": "int64",
         "type": "integer"
        },
        {
         "name": "RC.4",
         "rawType": "int64",
         "type": "integer"
        }
       ],
       "conversionMethod": "pd.DataFrame",
       "ref": "c40329a4-d3ed-4d21-9dc3-1207b9a475e1",
       "rows": [
        [
         "0",
         "1",
         "1",
         "38",
         "2.0",
         "75",
         "1.0",
         "112",
         "3.0",
         "149",
         "2"
        ],
        [
         "1",
         "2",
         "3",
         "39",
         "2.0",
         "76",
         "1.0",
         "113",
         "2.0",
         "150",
         "4"
        ],
        [
         "2",
         "3",
         "2",
         "40",
         "1.0",
         "77",
         "1.0",
         "114",
         "2.0",
         "151",
         "4"
        ],
        [
         "3",
         "4",
         "2",
         "41",
         "4.0",
         "78",
         "1.0",
         "115",
         "4.0",
         "152",
         "2"
        ],
        [
         "4",
         "5",
         "1",
         "42",
         "4.0",
         "79",
         "1.0",
         "116",
         "1.0",
         "153",
         "4"
        ],
        [
         "5",
         "6",
         "4",
         "43",
         "1.0",
         "80",
         "3.0",
         "117",
         null,
         "154",
         "1"
        ],
        [
         "6",
         "7",
         "1",
         "44",
         "4.0",
         "81",
         null,
         "118",
         "4.0",
         "155",
         "1"
        ],
        [
         "7",
         "8",
         "1",
         "45",
         "1.0",
         "82",
         "4.0",
         "119",
         "2.0",
         "156",
         "3"
        ],
        [
         "8",
         "9",
         "3",
         "46",
         "4.0",
         "83",
         "1.0",
         "120",
         "2.0",
         "157",
         "2"
        ],
        [
         "9",
         "10",
         "3",
         "47",
         "2.0",
         "84",
         "3.0",
         "121",
         "3.0",
         "158",
         "3"
        ]
       ],
       "shape": {
        "columns": 10,
        "rows": 10
       }
      },
      "text/html": [
       "<div>\n",
       "<style scoped>\n",
       "    .dataframe tbody tr th:only-of-type {\n",
       "        vertical-align: middle;\n",
       "    }\n",
       "\n",
       "    .dataframe tbody tr th {\n",
       "        vertical-align: top;\n",
       "    }\n",
       "\n",
       "    .dataframe thead th {\n",
       "        text-align: right;\n",
       "    }\n",
       "</style>\n",
       "<table border=\"1\" class=\"dataframe\">\n",
       "  <thead>\n",
       "    <tr style=\"text-align: right;\">\n",
       "      <th></th>\n",
       "      <th>V</th>\n",
       "      <th>RC</th>\n",
       "      <th>V.1</th>\n",
       "      <th>RC.1</th>\n",
       "      <th>V.2</th>\n",
       "      <th>RC.2</th>\n",
       "      <th>V.3</th>\n",
       "      <th>RC.3</th>\n",
       "      <th>V.4</th>\n",
       "      <th>RC.4</th>\n",
       "    </tr>\n",
       "  </thead>\n",
       "  <tbody>\n",
       "    <tr>\n",
       "      <th>0</th>\n",
       "      <td>1</td>\n",
       "      <td>1</td>\n",
       "      <td>38</td>\n",
       "      <td>2.0</td>\n",
       "      <td>75</td>\n",
       "      <td>1.0</td>\n",
       "      <td>112</td>\n",
       "      <td>3.0</td>\n",
       "      <td>149</td>\n",
       "      <td>2</td>\n",
       "    </tr>\n",
       "    <tr>\n",
       "      <th>1</th>\n",
       "      <td>2</td>\n",
       "      <td>3</td>\n",
       "      <td>39</td>\n",
       "      <td>2.0</td>\n",
       "      <td>76</td>\n",
       "      <td>1.0</td>\n",
       "      <td>113</td>\n",
       "      <td>2.0</td>\n",
       "      <td>150</td>\n",
       "      <td>4</td>\n",
       "    </tr>\n",
       "    <tr>\n",
       "      <th>2</th>\n",
       "      <td>3</td>\n",
       "      <td>2</td>\n",
       "      <td>40</td>\n",
       "      <td>1.0</td>\n",
       "      <td>77</td>\n",
       "      <td>1.0</td>\n",
       "      <td>114</td>\n",
       "      <td>2.0</td>\n",
       "      <td>151</td>\n",
       "      <td>4</td>\n",
       "    </tr>\n",
       "    <tr>\n",
       "      <th>3</th>\n",
       "      <td>4</td>\n",
       "      <td>2</td>\n",
       "      <td>41</td>\n",
       "      <td>4.0</td>\n",
       "      <td>78</td>\n",
       "      <td>1.0</td>\n",
       "      <td>115</td>\n",
       "      <td>4.0</td>\n",
       "      <td>152</td>\n",
       "      <td>2</td>\n",
       "    </tr>\n",
       "    <tr>\n",
       "      <th>4</th>\n",
       "      <td>5</td>\n",
       "      <td>1</td>\n",
       "      <td>42</td>\n",
       "      <td>4.0</td>\n",
       "      <td>79</td>\n",
       "      <td>1.0</td>\n",
       "      <td>116</td>\n",
       "      <td>1.0</td>\n",
       "      <td>153</td>\n",
       "      <td>4</td>\n",
       "    </tr>\n",
       "    <tr>\n",
       "      <th>5</th>\n",
       "      <td>6</td>\n",
       "      <td>4</td>\n",
       "      <td>43</td>\n",
       "      <td>1.0</td>\n",
       "      <td>80</td>\n",
       "      <td>3.0</td>\n",
       "      <td>117</td>\n",
       "      <td>NaN</td>\n",
       "      <td>154</td>\n",
       "      <td>1</td>\n",
       "    </tr>\n",
       "    <tr>\n",
       "      <th>6</th>\n",
       "      <td>7</td>\n",
       "      <td>1</td>\n",
       "      <td>44</td>\n",
       "      <td>4.0</td>\n",
       "      <td>81</td>\n",
       "      <td>NaN</td>\n",
       "      <td>118</td>\n",
       "      <td>4.0</td>\n",
       "      <td>155</td>\n",
       "      <td>1</td>\n",
       "    </tr>\n",
       "    <tr>\n",
       "      <th>7</th>\n",
       "      <td>8</td>\n",
       "      <td>1</td>\n",
       "      <td>45</td>\n",
       "      <td>1.0</td>\n",
       "      <td>82</td>\n",
       "      <td>4.0</td>\n",
       "      <td>119</td>\n",
       "      <td>2.0</td>\n",
       "      <td>156</td>\n",
       "      <td>3</td>\n",
       "    </tr>\n",
       "    <tr>\n",
       "      <th>8</th>\n",
       "      <td>9</td>\n",
       "      <td>3</td>\n",
       "      <td>46</td>\n",
       "      <td>4.0</td>\n",
       "      <td>83</td>\n",
       "      <td>1.0</td>\n",
       "      <td>120</td>\n",
       "      <td>2.0</td>\n",
       "      <td>157</td>\n",
       "      <td>2</td>\n",
       "    </tr>\n",
       "    <tr>\n",
       "      <th>9</th>\n",
       "      <td>10</td>\n",
       "      <td>3</td>\n",
       "      <td>47</td>\n",
       "      <td>2.0</td>\n",
       "      <td>84</td>\n",
       "      <td>3.0</td>\n",
       "      <td>121</td>\n",
       "      <td>3.0</td>\n",
       "      <td>158</td>\n",
       "      <td>3</td>\n",
       "    </tr>\n",
       "  </tbody>\n",
       "</table>\n",
       "</div>"
      ],
      "text/plain": [
       "    V  RC  V.1  RC.1  V.2  RC.2  V.3  RC.3  V.4  RC.4\n",
       "0   1   1   38   2.0   75   1.0  112   3.0  149     2\n",
       "1   2   3   39   2.0   76   1.0  113   2.0  150     4\n",
       "2   3   2   40   1.0   77   1.0  114   2.0  151     4\n",
       "3   4   2   41   4.0   78   1.0  115   4.0  152     2\n",
       "4   5   1   42   4.0   79   1.0  116   1.0  153     4\n",
       "5   6   4   43   1.0   80   3.0  117   NaN  154     1\n",
       "6   7   1   44   4.0   81   NaN  118   4.0  155     1\n",
       "7   8   1   45   1.0   82   4.0  119   2.0  156     3\n",
       "8   9   3   46   4.0   83   1.0  120   2.0  157     2\n",
       "9  10   3   47   2.0   84   3.0  121   3.0  158     3"
      ]
     },
     "execution_count": 6,
     "metadata": {},
     "output_type": "execute_result"
    }
   ],
   "source": [
    "raw_answers_df: pd.DataFrame = pd.read_table(f\"../data/raw/type_1/Raw_Cuaderno_{year}_{topic}_0_C_Respuestas.tsv\")\n",
    "raw_answers_df.head(10)"
   ]
  },
  {
   "cell_type": "markdown",
   "metadata": {
    "id": "uFFlTADP8Jo7"
   },
   "source": [
    "# Data Transformation"
   ]
  },
  {
   "cell_type": "markdown",
   "metadata": {},
   "source": [
    "## Exam pdf"
   ]
  },
  {
   "cell_type": "markdown",
   "metadata": {},
   "source": [
    "### Removing white space"
   ]
  },
  {
   "cell_type": "markdown",
   "metadata": {
    "id": "2QavIIOK8Jo7"
   },
   "source": [
    "This section focuses on cleaning the raw text extracted from the PDF exam file, preparing it for further processing. This involves removing extraneous whitespace, handling empty lines, and resetting the DataFrame index.\n",
    "\n",
    "**1. Removing Page Number Artifacts:**\n",
    "\n",
    "The extracted text may contain page number artifacts, which are removed by filtering out rows containing the string \"Página\"."
   ]
  },
  {
   "cell_type": "code",
   "execution_count": 13,
   "metadata": {},
   "outputs": [],
   "source": [
    "raw_exam_df = raw_exam_df[~raw_exam_df[\"text\"].str.contains(\"Página\")]\n",
    "raw_exam_df = raw_exam_df[~raw_exam_df[\"text\"].str.contains(\"BIOLOGÍA\")]\n",
    "\n",
    "footer_list: list = [f\"- {npag} -\" for npag in range(0,30,1)]\n",
    "\n",
    "for footer in footer_list:\n",
    "    raw_exam_df[\"text\"] = raw_exam_df[\"text\"].str.replace(footer, \"\")"
   ]
  },
  {
   "cell_type": "markdown",
   "metadata": {},
   "source": [
    "**2. Striping Leading/Trailing Whitespaces**\n",
    "\n",
    "Leading and trailing whitespace characters are removed from each text entry using the .str.strip() method."
   ]
  },
  {
   "cell_type": "code",
   "execution_count": 14,
   "metadata": {},
   "outputs": [],
   "source": [
    "raw_exam_df = raw_exam_df[\"text\"].str.strip()"
   ]
  },
  {
   "cell_type": "markdown",
   "metadata": {},
   "source": [
    "**3. Handling Empty Lines**\n",
    "\n",
    "Empty lines, represented as empty strings, are replaced with NaN (Not a Number) values. \n",
    "\n",
    "Then rows containing NaN values, representing empty lines, are removed from the DataFrame using .dropna()"
   ]
  },
  {
   "cell_type": "code",
   "execution_count": 15,
   "metadata": {},
   "outputs": [],
   "source": [
    "raw_exam_df = raw_exam_df.replace(\"\", np.nan)\n",
    "raw_exam_df = raw_exam_df.dropna()"
   ]
  },
  {
   "cell_type": "markdown",
   "metadata": {},
   "source": [
    "**4. Reseting DataFrame Index**\n",
    "\n",
    "The DataFrame index is reset after removing rows, ensuring a contiguous index and dropping the old index."
   ]
  },
  {
   "cell_type": "code",
   "execution_count": 16,
   "metadata": {},
   "outputs": [],
   "source": [
    "raw_exam_df = raw_exam_df.reset_index(drop=True)"
   ]
  },
  {
   "cell_type": "markdown",
   "metadata": {},
   "source": [
    "**5. Displays the first 10 rows of the DataFrame**"
   ]
  },
  {
   "cell_type": "code",
   "execution_count": 17,
   "metadata": {},
   "outputs": [
    {
     "data": {
      "text/plain": [
       "0     1. La velocidad de conducción de un potencial de\n",
       "1                                   acción será mayor:\n",
       "2            1. Cuanto mayor sea el diámetro del axón.\n",
       "3                        2. En los axones sin mielina.\n",
       "4            3. Cuanto mayor sea la longitud del axón.\n",
       "5            4. Cuanto menor sea el diámetro del axón.\n",
       "6      2. Las sinapsis eléctricas se caracterizan por:\n",
       "7     1. Mostrar un retraso sináptico mayor que en las\n",
       "8                                   sinapsis químicas.\n",
       "9    2. Utilizar un neurotransmisor para transmitir la\n",
       "Name: text, dtype: object"
      ]
     },
     "execution_count": 17,
     "metadata": {},
     "output_type": "execute_result"
    }
   ],
   "source": [
    "raw_exam_df.head(10)"
   ]
  },
  {
   "cell_type": "markdown",
   "metadata": {},
   "source": [
    "### Joining Truncated Lines"
   ]
  },
  {
   "cell_type": "markdown",
   "metadata": {},
   "source": [
    "This section addresses the issue of truncated lines and multi-line questions or options within the extracted exam text. A custom function, `process_multi_line_str`, is used to concatenate these lines, ensuring that each question and option is presented as a single, coherent string.\n",
    "\n",
    "**Function: `process_multi_line_str(df)`**\n",
    "\n",
    "This function iterates through the DataFrame, performing two main tasks:\n",
    "\n",
    "1.  **Joining Truncated Words:**\n",
    "    * It checks if a line ends with a hyphen (\"-\"), indicating a word that has been truncated at the end of a line.\n",
    "    * If a line is truncated, it removes the hyphen and appends the content of the following line to the current line.\n",
    "    * The following line is then removed from the DataFrame, and the index is reset.\n",
    "\n",
    "2.  **Joining Multi-Line Questions/Options:**\n",
    "    * It checks if the first character of the next line can be converted to an integer. This is used as a heuristic to identify the start of a new question or option.\n",
    "    * If the next line does not start with an integer (i.e., it's a continuation of the current question or option), it is appended to the current line, separated by a space.\n",
    "    * The next line is then removed, and the index is reset."
   ]
  },
  {
   "cell_type": "code",
   "execution_count": 18,
   "metadata": {
    "id": "rYZHjn_C8Jo8"
   },
   "outputs": [],
   "source": [
    "def process_multi_line_str(df: pd.DataFrame) -> pd.DataFrame:\n",
    "    \"\"\"Function to handle truncated lines\n",
    "\n",
    "    Args:\n",
    "        df (pd.DataFrame): A pandas dataframe\n",
    "\n",
    "    Returns:\n",
    "        pd.DataFrame: Returns the DataFrame without truncated lines\n",
    "    \"\"\"\n",
    "    i: int = 0\n",
    "    while i < len(df) - 1:\n",
    "        if i < len(df) -1  and df.iloc[i].endswith(\"-\"):\n",
    "            df.iloc[i] = df.iloc[i][:-1] + df.iloc[i + 1]\n",
    "            df = df.drop(i + 1)\n",
    "            df = df.reset_index(drop=True)\n",
    "        else:\n",
    "            i += 1\n",
    "    n: int = 0\n",
    "    while n < len(df) -1:\n",
    "        if n + 1 < len(df):\n",
    "            try:\n",
    "                int(df.iloc[n + 1][0:1])\n",
    "                n += 1\n",
    "            except ValueError:\n",
    "                df.iloc[n] = df.iloc[n] + \" \" + df.iloc[n + 1]\n",
    "                df = df.drop(n +1)\n",
    "                df = df.reset_index(drop= True)\n",
    "        else:\n",
    "            break\n",
    "    return df"
   ]
  },
  {
   "cell_type": "markdown",
   "metadata": {},
   "source": [
    "The process_multi_line_str function is applied to the cleaned raw_exam_df DataFrame, and the resulting DataFrame is stored in exam_df_concat. The first few rows of the concatenated DataFrame are displayed to verify the results."
   ]
  },
  {
   "cell_type": "code",
   "execution_count": 19,
   "metadata": {
    "colab": {
     "base_uri": "https://localhost:8080/",
     "height": 206
    },
    "id": "2v6dmQuM8_v1",
    "outputId": "215f5328-a43d-4bbb-f221-fba6fc10a5c1"
   },
   "outputs": [
    {
     "data": {
      "text/plain": [
       "0    1. La velocidad de conducción de un potencial ...\n",
       "1            1. Cuanto mayor sea el diámetro del axón.\n",
       "2                        2. En los axones sin mielina.\n",
       "3            3. Cuanto mayor sea la longitud del axón.\n",
       "4            4. Cuanto menor sea el diámetro del axón.\n",
       "5      2. Las sinapsis eléctricas se caracterizan por:\n",
       "6    1. Mostrar un retraso sináptico mayor que en l...\n",
       "7    2. Utilizar un neurotransmisor para transmitir...\n",
       "8    3. Utilizar canales para transmitir la informa...\n",
       "9    4. Transmitir la información de manera unidire...\n",
       "Name: text, dtype: object"
      ]
     },
     "execution_count": 19,
     "metadata": {},
     "output_type": "execute_result"
    }
   ],
   "source": [
    "exam_df_concat: pd.DataFrame = process_multi_line_str(raw_exam_df)\n",
    "exam_df_concat.head(10)"
   ]
  },
  {
   "cell_type": "markdown",
   "metadata": {},
   "source": [
    "### Validating and Correction Incorrect Rows"
   ]
  },
  {
   "cell_type": "markdown",
   "metadata": {},
   "source": [
    "This section focuses on validating the number of rows in the cleaned DataFrame against the expected number and correcting any rows that do not conform to the expected format.\n",
    "\n",
    "**1. Calculating Expected and Actual Incorrect Rows:**\n",
    "\n",
    "We calculate the expected number of incorrect rows by subtracting the total expected rows from the current number of rows in the DataFrame. We then identify the actual number of incorrect rows by counting the rows that do not end with a period (\".\"), a colon (\":\") or interrogation sign (\"?\")."
   ]
  },
  {
   "cell_type": "code",
   "execution_count": 20,
   "metadata": {},
   "outputs": [
    {
     "name": "stdout",
     "output_type": "stream",
     "text": [
      "Number of expected incorrect rows = 5\n",
      "Number of rows not ending with '.', ':' or '?' = 5\n",
      "[516, 518, 541, 579, 622]\n"
     ]
    }
   ],
   "source": [
    "num_rows_incorrect_expected: int = len(exam_df_concat) - total_num_rows\n",
    "num_rows_incorrect: int = exam_df_concat[~exam_df_concat.str.endswith((\".\", \":\", \"?\"))].count()\n",
    "id_rows_incorrect: list = exam_df_concat[~exam_df_concat.str.endswith((\".\", \":\", \"?\"))].index.to_list()\n",
    "print(f\"Number of expected incorrect rows = {num_rows_incorrect_expected}\")\n",
    "print(f\"Number of rows not ending with '.', ':' or '?' = {num_rows_incorrect}\")\n",
    "print(id_rows_incorrect)"
   ]
  },
  {
   "cell_type": "markdown",
   "metadata": {},
   "source": [
    "**2. Function: print_rows_incorrrect(wrong_id, df):**\n",
    "\n",
    "This function takes a list of incorrect row indices and the DataFrame as input. It then prints the row identified as incorrect along with the 2 rows before and 2 rows after, providing context to help determine how to fix the error."
   ]
  },
  {
   "cell_type": "code",
   "execution_count": 21,
   "metadata": {},
   "outputs": [],
   "source": [
    "def print_rows_incorrrect(wrong_id: list[int], df: pd.DataFrame) -> None:\n",
    "    \"\"\"Print +/- 2 rows for context\n",
    "\n",
    "    Args:\n",
    "        wrong_id (list): Generated list of wrong row_id\n",
    "        df (pd.DataFrame): DataFrame corresponding with the worng_id list\n",
    "    \"\"\"\n",
    "    for wid in wrong_id:\n",
    "        print(f\"Id to fix {wid}:\")\n",
    "        print(df.iloc[wid -2: wid +3])"
   ]
  },
  {
   "cell_type": "markdown",
   "metadata": {},
   "source": [
    "**3. Function: fix_incorrect(num_row, df):**\n",
    "\n",
    "This function takes a list of row indices to fix and the DataFrame. It iterates through the indices in reverse order to avoid index shifting problems. Each incorrect row is concatenated with the row immediately following it, and the subsequent row is then dropped. The DataFrame index is reset after each concatenation."
   ]
  },
  {
   "cell_type": "code",
   "execution_count": 22,
   "metadata": {},
   "outputs": [],
   "source": [
    "def fix_incorrect(num_row: list[int], df: pd.DataFrame) -> pd.DataFrame:\n",
    "    \"\"\"Fix the incorrect rows in the DataFrame\n",
    "\n",
    "    Args:\n",
    "        num_row (list): List of ids to fix\n",
    "        df (pd.DataFrame): The DataFrame to fix\n",
    "\n",
    "    Returns:\n",
    "        pd.DataFrame: Fixed\n",
    "    \"\"\"\n",
    "    num_row: list = sorted(num_row, reverse=True)\n",
    "    for n in num_row:\n",
    "        df.iloc[n] = df.iloc[n] + df.iloc[n + 1]\n",
    "        df = df.drop(n + 1)\n",
    "        df = df.reset_index(drop= True)\n",
    "    return df"
   ]
  },
  {
   "cell_type": "markdown",
   "metadata": {},
   "source": [
    "**4. Validation and Correction Logic:**\n",
    "\n",
    "We compare the expected and actual number of incorrect rows. If they match, we proceed to fix the incorrect rows using the `fix_incorrect` function. Otherwise, we print the context of the incorrect rows and raise a warning, indicating that manual inspection and correction are required."
   ]
  },
  {
   "cell_type": "code",
   "execution_count": 23,
   "metadata": {},
   "outputs": [],
   "source": [
    "if num_rows_incorrect_expected == num_rows_incorrect:\n",
    "    exam_df_fixed = fix_incorrect(id_rows_incorrect, exam_df_concat)\n",
    "    df_correct_rows: bool = len(exam_df_fixed) == num_rows_incorrect_expected\n",
    "else:\n",
    "    print_rows_incorrrect(id_rows_incorrect, exam_df_concat)\n",
    "    raise Warning(\"More incorrect rows that expected, uncomment the lines below and add ids to the list, and comment this line\")\n",
    "    # rows_fix: list[int] = []\n",
    "    # exam_df_fixed: pd.DataFrame = fix_incorrect(rows_fix, exam_df_concat)"
   ]
  },
  {
   "cell_type": "markdown",
   "metadata": {},
   "source": [
    "**5. Verification of Corrected Rows:**\n",
    "\n",
    "We print the expected total number of rows and the actual number of rows in the corrected DataFrame to verify the results of the correction process."
   ]
  },
  {
   "cell_type": "code",
   "execution_count": 24,
   "metadata": {},
   "outputs": [
    {
     "name": "stdout",
     "output_type": "stream",
     "text": [
      "Correct number of rows = 925\n",
      "925\n"
     ]
    }
   ],
   "source": [
    "print(f\"Correct number of rows = {total_num_rows}\")\n",
    "print(exam_df_fixed.shape[0])"
   ]
  },
  {
   "cell_type": "markdown",
   "metadata": {},
   "source": [
    "### Pivoting the DataFrame\n",
    "\n",
    "This section focuses on transforming the cleaned exam data into a structured format suitable for analysis. The DataFrame is pivoted to create columns for each question and its corresponding options.\n",
    "\n",
    "**1. Preparing the DataFrame for Pivoting:**\n",
    "\n",
    "The `exam_df_fixed` Series is converted to a DataFrame, and a 'group' column is created to identify each question and its options. An 'option_num' column is then generated to enumerate the options within each group.\n"
   ]
  },
  {
   "cell_type": "code",
   "execution_count": 25,
   "metadata": {},
   "outputs": [],
   "source": [
    "exam_df_fixed = exam_df_fixed.to_frame()\n",
    "groups: pd.Series = pd.Series((exam_df_fixed.index // (num_questions+1)) +1)\n",
    "exam_df_fixed[\"group\"] = groups  \n",
    "exam_df_fixed[\"option_num\"] = exam_df_fixed.groupby(\"group\").cumcount() + 1"
   ]
  },
  {
   "cell_type": "markdown",
   "metadata": {},
   "source": [
    "**2. Pivoting the DataFrame:**\n",
    "\n",
    "The DataFrame is pivoted using the 'group' column as the index, the 'option_num' column as the columns, and the 'text' column as the values. The index is then reset."
   ]
  },
  {
   "cell_type": "code",
   "execution_count": 26,
   "metadata": {},
   "outputs": [],
   "source": [
    "exam_df_pivot: pd.DataFrame = exam_df_fixed.pivot(index=\"group\", columns=\"option_num\", values=\"text\")\n",
    "exam_df_pivot = exam_df_pivot.reset_index()"
   ]
  },
  {
   "cell_type": "markdown",
   "metadata": {},
   "source": [
    "**3. Renaming Columns:**\n",
    "\n",
    "The columns are renamed to more descriptive names, such as \"Question\", \"Option_1\", \"Option_2\", etc."
   ]
  },
  {
   "cell_type": "code",
   "execution_count": 27,
   "metadata": {},
   "outputs": [],
   "source": [
    "key_list: list = [x for x in range(1, num_questions+2, 1)]\n",
    "val_list: list = [\"Question\"] + [f\"Option_{x}\" for x in range(1, 4 + 1, 1)]\n",
    "\n",
    "exam_df_pivot = exam_df_pivot.rename_axis(None, axis=1).rename(columns=dict(zip(key_list, val_list)))"
   ]
  },
  {
   "cell_type": "markdown",
   "metadata": {},
   "source": [
    "**4. Dropping the 'group' Column:**\n",
    "\n",
    "The 'group' column is dropped as it is no longer needed"
   ]
  },
  {
   "cell_type": "code",
   "execution_count": 28,
   "metadata": {},
   "outputs": [],
   "source": [
    "exam_df_pivot = exam_df_pivot.drop(columns=[\"group\"])"
   ]
  },
  {
   "cell_type": "markdown",
   "metadata": {},
   "source": [
    "**5. Displaying the Pivoted DataFrame:**\n",
    "\n",
    "The first 10 rows of the pivoted DataFrame are displayed to verify the results of the transformation."
   ]
  },
  {
   "cell_type": "code",
   "execution_count": 29,
   "metadata": {},
   "outputs": [
    {
     "data": {
      "application/vnd.microsoft.datawrangler.viewer.v0+json": {
       "columns": [
        {
         "name": "index",
         "rawType": "int64",
         "type": "integer"
        },
        {
         "name": "Question",
         "rawType": "object",
         "type": "string"
        },
        {
         "name": "Option_1",
         "rawType": "object",
         "type": "string"
        },
        {
         "name": "Option_2",
         "rawType": "object",
         "type": "string"
        },
        {
         "name": "Option_3",
         "rawType": "object",
         "type": "string"
        },
        {
         "name": "Option_4",
         "rawType": "object",
         "type": "string"
        }
       ],
       "conversionMethod": "pd.DataFrame",
       "ref": "66afa97b-31ab-4422-b78d-4d711a738f0e",
       "rows": [
        [
         "0",
         "1. La velocidad de conducción de un potencial de acción será mayor:",
         "1. Cuanto mayor sea el diámetro del axón.",
         "2. En los axones sin mielina.",
         "3. Cuanto mayor sea la longitud del axón.",
         "4. Cuanto menor sea el diámetro del axón."
        ],
        [
         "1",
         "2. Las sinapsis eléctricas se caracterizan por:",
         "1. Mostrar un retraso sináptico mayor que en las sinapsis químicas.",
         "2. Utilizar un neurotransmisor para transmitir la información.",
         "3. Utilizar canales para transmitir la información.",
         "4. Transmitir la información de manera unidireccional."
        ],
        [
         "2",
         "3. Los sistemas sensoriales codifican la intensidad de los estímulos en función de:",
         "1. El tamaño de los potenciales de acción.",
         "2. La frecuencia de los potenciales de acción.",
         "3. La velocidad de transmisión del potencial de acción.",
         "4. La duración del potencial de acción."
        ],
        [
         "3",
         "4. En las neuronas receptoras del olfato, las proteínas receptoras de odorantes se localizan en:",
         "1. El soma neuronal.",
         "2. Los cilios.",
         "3. El axón.",
         "4. La terminal sináptica."
        ],
        [
         "4",
         "5. Se llama unidad motora:",
         "1. Al conjunto de una motoneurona alfa y todas las células musculares que inerva.",
         "2. A un nervio y todos los músculos que inerva.",
         "3. Al conjunto de músculos que mueven una articulación.",
         "4. Al conjunto de husos musculares que contiene un músculo."
        ],
        [
         "5",
         "6. Si el mecanismo de acción de una hormona se produce a través de la activación de la fosfolipasa C:",
         "1. El segundo mensajero implicado es el AMPc.",
         "2. Se activa primero un receptor intracelular.",
         "3. Se activa la adenilato ciclasa.",
         "4. Se induce liberación de Ca2+ de los depósitos intracelulares."
        ],
        [
         "6",
         "7. ¿Cuál de las siguientes hormonas se sintetiza en la hipófisis?:",
         "1. Prolactina.",
         "2. Hormona antidiurética.",
         "3. Oxitocina.",
         "4. Hormona liberadora de tirotropina."
        ],
        [
         "7",
         "8. La hormona del crecimiento:",
         "1. Estimula la síntesis de proteínas.",
         "2. Es un péptido de 10 aminoácidos.",
         "3. Los productos de su degradación se llaman somatomedinas.",
         "4. Es hipoglucemiante."
        ],
        [
         "8",
         "9. ¿Cuál de los siguientes factores disminuye la secreción de insulina?:",
         "1. Glucagón.",
         "2. Sulfonilureas.",
         "3. Somatostatina.",
         "4. Obesidad."
        ],
        [
         "9",
         "10. La secreción de hormonas tiroideas:",
         "1. Está controlada por el eje hipotálamohipofisario-adrenal.",
         "2. Se inhibe por la hormona estimulante del tiroides.",
         "3. Se inhibe por las hormonas tiroideas.",
         "4. No depende del control por retroalimentación."
        ]
       ],
       "shape": {
        "columns": 5,
        "rows": 10
       }
      },
      "text/html": [
       "<div>\n",
       "<style scoped>\n",
       "    .dataframe tbody tr th:only-of-type {\n",
       "        vertical-align: middle;\n",
       "    }\n",
       "\n",
       "    .dataframe tbody tr th {\n",
       "        vertical-align: top;\n",
       "    }\n",
       "\n",
       "    .dataframe thead th {\n",
       "        text-align: right;\n",
       "    }\n",
       "</style>\n",
       "<table border=\"1\" class=\"dataframe\">\n",
       "  <thead>\n",
       "    <tr style=\"text-align: right;\">\n",
       "      <th></th>\n",
       "      <th>Question</th>\n",
       "      <th>Option_1</th>\n",
       "      <th>Option_2</th>\n",
       "      <th>Option_3</th>\n",
       "      <th>Option_4</th>\n",
       "    </tr>\n",
       "  </thead>\n",
       "  <tbody>\n",
       "    <tr>\n",
       "      <th>0</th>\n",
       "      <td>1. La velocidad de conducción de un potencial ...</td>\n",
       "      <td>1. Cuanto mayor sea el diámetro del axón.</td>\n",
       "      <td>2. En los axones sin mielina.</td>\n",
       "      <td>3. Cuanto mayor sea la longitud del axón.</td>\n",
       "      <td>4. Cuanto menor sea el diámetro del axón.</td>\n",
       "    </tr>\n",
       "    <tr>\n",
       "      <th>1</th>\n",
       "      <td>2. Las sinapsis eléctricas se caracterizan por:</td>\n",
       "      <td>1. Mostrar un retraso sináptico mayor que en l...</td>\n",
       "      <td>2. Utilizar un neurotransmisor para transmitir...</td>\n",
       "      <td>3. Utilizar canales para transmitir la informa...</td>\n",
       "      <td>4. Transmitir la información de manera unidire...</td>\n",
       "    </tr>\n",
       "    <tr>\n",
       "      <th>2</th>\n",
       "      <td>3. Los sistemas sensoriales codifican la inten...</td>\n",
       "      <td>1. El tamaño de los potenciales de acción.</td>\n",
       "      <td>2. La frecuencia de los potenciales de acción.</td>\n",
       "      <td>3. La velocidad de transmisión del potencial d...</td>\n",
       "      <td>4. La duración del potencial de acción.</td>\n",
       "    </tr>\n",
       "    <tr>\n",
       "      <th>3</th>\n",
       "      <td>4. En las neuronas receptoras del olfato, las ...</td>\n",
       "      <td>1. El soma neuronal.</td>\n",
       "      <td>2. Los cilios.</td>\n",
       "      <td>3. El axón.</td>\n",
       "      <td>4. La terminal sináptica.</td>\n",
       "    </tr>\n",
       "    <tr>\n",
       "      <th>4</th>\n",
       "      <td>5. Se llama unidad motora:</td>\n",
       "      <td>1. Al conjunto de una motoneurona alfa y todas...</td>\n",
       "      <td>2. A un nervio y todos los músculos que inerva.</td>\n",
       "      <td>3. Al conjunto de músculos que mueven una arti...</td>\n",
       "      <td>4. Al conjunto de husos musculares que contien...</td>\n",
       "    </tr>\n",
       "    <tr>\n",
       "      <th>5</th>\n",
       "      <td>6. Si el mecanismo de acción de una hormona se...</td>\n",
       "      <td>1. El segundo mensajero implicado es el AMPc.</td>\n",
       "      <td>2. Se activa primero un receptor intracelular.</td>\n",
       "      <td>3. Se activa la adenilato ciclasa.</td>\n",
       "      <td>4. Se induce liberación de Ca2+ de los depósit...</td>\n",
       "    </tr>\n",
       "    <tr>\n",
       "      <th>6</th>\n",
       "      <td>7. ¿Cuál de las siguientes hormonas se sinteti...</td>\n",
       "      <td>1. Prolactina.</td>\n",
       "      <td>2. Hormona antidiurética.</td>\n",
       "      <td>3. Oxitocina.</td>\n",
       "      <td>4. Hormona liberadora de tirotropina.</td>\n",
       "    </tr>\n",
       "    <tr>\n",
       "      <th>7</th>\n",
       "      <td>8. La hormona del crecimiento:</td>\n",
       "      <td>1. Estimula la síntesis de proteínas.</td>\n",
       "      <td>2. Es un péptido de 10 aminoácidos.</td>\n",
       "      <td>3. Los productos de su degradación se llaman s...</td>\n",
       "      <td>4. Es hipoglucemiante.</td>\n",
       "    </tr>\n",
       "    <tr>\n",
       "      <th>8</th>\n",
       "      <td>9. ¿Cuál de los siguientes factores disminuye ...</td>\n",
       "      <td>1. Glucagón.</td>\n",
       "      <td>2. Sulfonilureas.</td>\n",
       "      <td>3. Somatostatina.</td>\n",
       "      <td>4. Obesidad.</td>\n",
       "    </tr>\n",
       "    <tr>\n",
       "      <th>9</th>\n",
       "      <td>10. La secreción de hormonas tiroideas:</td>\n",
       "      <td>1. Está controlada por el eje hipotálamohipofi...</td>\n",
       "      <td>2. Se inhibe por la hormona estimulante del ti...</td>\n",
       "      <td>3. Se inhibe por las hormonas tiroideas.</td>\n",
       "      <td>4. No depende del control por retroalimentación.</td>\n",
       "    </tr>\n",
       "  </tbody>\n",
       "</table>\n",
       "</div>"
      ],
      "text/plain": [
       "                                            Question  \\\n",
       "0  1. La velocidad de conducción de un potencial ...   \n",
       "1    2. Las sinapsis eléctricas se caracterizan por:   \n",
       "2  3. Los sistemas sensoriales codifican la inten...   \n",
       "3  4. En las neuronas receptoras del olfato, las ...   \n",
       "4                         5. Se llama unidad motora:   \n",
       "5  6. Si el mecanismo de acción de una hormona se...   \n",
       "6  7. ¿Cuál de las siguientes hormonas se sinteti...   \n",
       "7                     8. La hormona del crecimiento:   \n",
       "8  9. ¿Cuál de los siguientes factores disminuye ...   \n",
       "9            10. La secreción de hormonas tiroideas:   \n",
       "\n",
       "                                            Option_1  \\\n",
       "0          1. Cuanto mayor sea el diámetro del axón.   \n",
       "1  1. Mostrar un retraso sináptico mayor que en l...   \n",
       "2         1. El tamaño de los potenciales de acción.   \n",
       "3                               1. El soma neuronal.   \n",
       "4  1. Al conjunto de una motoneurona alfa y todas...   \n",
       "5      1. El segundo mensajero implicado es el AMPc.   \n",
       "6                                     1. Prolactina.   \n",
       "7              1. Estimula la síntesis de proteínas.   \n",
       "8                                       1. Glucagón.   \n",
       "9  1. Está controlada por el eje hipotálamohipofi...   \n",
       "\n",
       "                                            Option_2  \\\n",
       "0                      2. En los axones sin mielina.   \n",
       "1  2. Utilizar un neurotransmisor para transmitir...   \n",
       "2     2. La frecuencia de los potenciales de acción.   \n",
       "3                                     2. Los cilios.   \n",
       "4    2. A un nervio y todos los músculos que inerva.   \n",
       "5     2. Se activa primero un receptor intracelular.   \n",
       "6                          2. Hormona antidiurética.   \n",
       "7                2. Es un péptido de 10 aminoácidos.   \n",
       "8                                  2. Sulfonilureas.   \n",
       "9  2. Se inhibe por la hormona estimulante del ti...   \n",
       "\n",
       "                                            Option_3  \\\n",
       "0          3. Cuanto mayor sea la longitud del axón.   \n",
       "1  3. Utilizar canales para transmitir la informa...   \n",
       "2  3. La velocidad de transmisión del potencial d...   \n",
       "3                                        3. El axón.   \n",
       "4  3. Al conjunto de músculos que mueven una arti...   \n",
       "5                 3. Se activa la adenilato ciclasa.   \n",
       "6                                      3. Oxitocina.   \n",
       "7  3. Los productos de su degradación se llaman s...   \n",
       "8                                  3. Somatostatina.   \n",
       "9           3. Se inhibe por las hormonas tiroideas.   \n",
       "\n",
       "                                            Option_4  \n",
       "0          4. Cuanto menor sea el diámetro del axón.  \n",
       "1  4. Transmitir la información de manera unidire...  \n",
       "2            4. La duración del potencial de acción.  \n",
       "3                          4. La terminal sináptica.  \n",
       "4  4. Al conjunto de husos musculares que contien...  \n",
       "5  4. Se induce liberación de Ca2+ de los depósit...  \n",
       "6              4. Hormona liberadora de tirotropina.  \n",
       "7                             4. Es hipoglucemiante.  \n",
       "8                                       4. Obesidad.  \n",
       "9   4. No depende del control por retroalimentación.  "
      ]
     },
     "execution_count": 29,
     "metadata": {},
     "output_type": "execute_result"
    }
   ],
   "source": [
    "exam_df_pivot.head(10)"
   ]
  },
  {
   "cell_type": "markdown",
   "metadata": {},
   "source": [
    "## Answers tsv\n",
    "\n",
    "This section focuses on cleaning and consolidating the answer key data from the TSV file. The original data contains duplicate columns, which are processed and combined into a single, clean DataFrame.\n",
    "\n",
    "**1. Defining Column Lists:**\n",
    "\n",
    "We define lists containing the original column names and the duplicate column names."
   ]
  },
  {
   "cell_type": "code",
   "execution_count": 30,
   "metadata": {},
   "outputs": [],
   "source": [
    "original_col: list[str] = [\"V\", \"RC\"]\n",
    "duplicate_cols: list[str] = [\"V.1\", \"RC.1\", \"V.2\", \"RC.2\", \"V.3\", \"RC.3\", \"V.4\", \"RC.4\"]"
   ]
  },
  {
   "cell_type": "markdown",
   "metadata": {},
   "source": [
    "**2. Processing Duplicate Columns:**\n",
    "\n",
    "We iterate through the duplicate_cols list in pairs, extracting the corresponding columns, renaming them to the original column names, and appending them to a list of DataFrames."
   ]
  },
  {
   "cell_type": "code",
   "execution_count": 31,
   "metadata": {},
   "outputs": [],
   "source": [
    "answers_df_list: list[pd.DataFrame] = [raw_answers_df[original_col]]\n",
    "\n",
    "for i in range(0, len(duplicate_cols), 2):\n",
    "    pair_cols: list = duplicate_cols[i:i+2]\n",
    "    df_pair_col: pd.DataFrame = raw_answers_df[pair_cols].rename(columns={pair_cols[0]: \"V\", pair_cols[1]: \"RC\"})\n",
    "    answers_df_list.append(df_pair_col)"
   ]
  },
  {
   "cell_type": "markdown",
   "metadata": {},
   "source": [
    "**3. Concatenating DataFrames:**\n",
    "\n",
    "The list of DataFrames is concatenated into a single DataFrame, ignoring the original index."
   ]
  },
  {
   "cell_type": "code",
   "execution_count": 32,
   "metadata": {},
   "outputs": [],
   "source": [
    "answers_df_clean: pd.DataFrame = pd.concat(answers_df_list, ignore_index=True)"
   ]
  },
  {
   "cell_type": "markdown",
   "metadata": {},
   "source": [
    "**4. Displaying the Cleaned DataFrame:**\n",
    "\n",
    "The cleaned DataFrame is printed to verify the results of the consolidation process."
   ]
  },
  {
   "cell_type": "code",
   "execution_count": 33,
   "metadata": {},
   "outputs": [
    {
     "data": {
      "application/vnd.microsoft.datawrangler.viewer.v0+json": {
       "columns": [
        {
         "name": "index",
         "rawType": "int64",
         "type": "integer"
        },
        {
         "name": "V",
         "rawType": "int64",
         "type": "integer"
        },
        {
         "name": "RC",
         "rawType": "float64",
         "type": "float"
        }
       ],
       "conversionMethod": "pd.DataFrame",
       "ref": "578b293a-62a0-46c5-8366-f8f7ff78ec0d",
       "rows": [
        [
         "0",
         "1",
         "1.0"
        ],
        [
         "1",
         "2",
         "3.0"
        ],
        [
         "2",
         "3",
         "2.0"
        ],
        [
         "3",
         "4",
         "2.0"
        ],
        [
         "4",
         "5",
         "1.0"
        ],
        [
         "5",
         "6",
         "4.0"
        ],
        [
         "6",
         "7",
         "1.0"
        ],
        [
         "7",
         "8",
         "1.0"
        ],
        [
         "8",
         "9",
         "3.0"
        ],
        [
         "9",
         "10",
         "3.0"
        ]
       ],
       "shape": {
        "columns": 2,
        "rows": 10
       }
      },
      "text/html": [
       "<div>\n",
       "<style scoped>\n",
       "    .dataframe tbody tr th:only-of-type {\n",
       "        vertical-align: middle;\n",
       "    }\n",
       "\n",
       "    .dataframe tbody tr th {\n",
       "        vertical-align: top;\n",
       "    }\n",
       "\n",
       "    .dataframe thead th {\n",
       "        text-align: right;\n",
       "    }\n",
       "</style>\n",
       "<table border=\"1\" class=\"dataframe\">\n",
       "  <thead>\n",
       "    <tr style=\"text-align: right;\">\n",
       "      <th></th>\n",
       "      <th>V</th>\n",
       "      <th>RC</th>\n",
       "    </tr>\n",
       "  </thead>\n",
       "  <tbody>\n",
       "    <tr>\n",
       "      <th>0</th>\n",
       "      <td>1</td>\n",
       "      <td>1.0</td>\n",
       "    </tr>\n",
       "    <tr>\n",
       "      <th>1</th>\n",
       "      <td>2</td>\n",
       "      <td>3.0</td>\n",
       "    </tr>\n",
       "    <tr>\n",
       "      <th>2</th>\n",
       "      <td>3</td>\n",
       "      <td>2.0</td>\n",
       "    </tr>\n",
       "    <tr>\n",
       "      <th>3</th>\n",
       "      <td>4</td>\n",
       "      <td>2.0</td>\n",
       "    </tr>\n",
       "    <tr>\n",
       "      <th>4</th>\n",
       "      <td>5</td>\n",
       "      <td>1.0</td>\n",
       "    </tr>\n",
       "    <tr>\n",
       "      <th>5</th>\n",
       "      <td>6</td>\n",
       "      <td>4.0</td>\n",
       "    </tr>\n",
       "    <tr>\n",
       "      <th>6</th>\n",
       "      <td>7</td>\n",
       "      <td>1.0</td>\n",
       "    </tr>\n",
       "    <tr>\n",
       "      <th>7</th>\n",
       "      <td>8</td>\n",
       "      <td>1.0</td>\n",
       "    </tr>\n",
       "    <tr>\n",
       "      <th>8</th>\n",
       "      <td>9</td>\n",
       "      <td>3.0</td>\n",
       "    </tr>\n",
       "    <tr>\n",
       "      <th>9</th>\n",
       "      <td>10</td>\n",
       "      <td>3.0</td>\n",
       "    </tr>\n",
       "  </tbody>\n",
       "</table>\n",
       "</div>"
      ],
      "text/plain": [
       "    V   RC\n",
       "0   1  1.0\n",
       "1   2  3.0\n",
       "2   3  2.0\n",
       "3   4  2.0\n",
       "4   5  1.0\n",
       "5   6  4.0\n",
       "6   7  1.0\n",
       "7   8  1.0\n",
       "8   9  3.0\n",
       "9  10  3.0"
      ]
     },
     "execution_count": 33,
     "metadata": {},
     "output_type": "execute_result"
    }
   ],
   "source": [
    "answers_df_clean.head(10)"
   ]
  },
  {
   "cell_type": "markdown",
   "metadata": {},
   "source": [
    "## Joining the DataFrames\n",
    "\n",
    "This section focuses on merging the processed exam questions DataFrame with the cleaned answers DataFrame, performing final data cleaning, and verifying the integrity of the joined data.\n",
    "\n",
    "**1. Joining the DataFrames:**\n",
    "\n",
    "The pivoted exam questions DataFrame (`exam_df_pivot`) and the cleaned answers DataFrame (`answers_df_clean`) are joined horizontally using `pd.concat`. The 'V0' column, which represents the question number from the answers DataFrame, is then dropped. The first 10 rows of the joined DataFrame are displayed."
   ]
  },
  {
   "cell_type": "code",
   "execution_count": 34,
   "metadata": {},
   "outputs": [
    {
     "data": {
      "application/vnd.microsoft.datawrangler.viewer.v0+json": {
       "columns": [
        {
         "name": "index",
         "rawType": "int64",
         "type": "integer"
        },
        {
         "name": "Question",
         "rawType": "object",
         "type": "string"
        },
        {
         "name": "Option_1",
         "rawType": "object",
         "type": "string"
        },
        {
         "name": "Option_2",
         "rawType": "object",
         "type": "string"
        },
        {
         "name": "Option_3",
         "rawType": "object",
         "type": "string"
        },
        {
         "name": "Option_4",
         "rawType": "object",
         "type": "string"
        },
        {
         "name": "RC",
         "rawType": "float64",
         "type": "float"
        }
       ],
       "conversionMethod": "pd.DataFrame",
       "ref": "84473438-383c-420f-9282-0fa26d0569d1",
       "rows": [
        [
         "0",
         "1. La velocidad de conducción de un potencial de acción será mayor:",
         "1. Cuanto mayor sea el diámetro del axón.",
         "2. En los axones sin mielina.",
         "3. Cuanto mayor sea la longitud del axón.",
         "4. Cuanto menor sea el diámetro del axón.",
         "1.0"
        ],
        [
         "1",
         "2. Las sinapsis eléctricas se caracterizan por:",
         "1. Mostrar un retraso sináptico mayor que en las sinapsis químicas.",
         "2. Utilizar un neurotransmisor para transmitir la información.",
         "3. Utilizar canales para transmitir la información.",
         "4. Transmitir la información de manera unidireccional.",
         "3.0"
        ],
        [
         "2",
         "3. Los sistemas sensoriales codifican la intensidad de los estímulos en función de:",
         "1. El tamaño de los potenciales de acción.",
         "2. La frecuencia de los potenciales de acción.",
         "3. La velocidad de transmisión del potencial de acción.",
         "4. La duración del potencial de acción.",
         "2.0"
        ],
        [
         "3",
         "4. En las neuronas receptoras del olfato, las proteínas receptoras de odorantes se localizan en:",
         "1. El soma neuronal.",
         "2. Los cilios.",
         "3. El axón.",
         "4. La terminal sináptica.",
         "2.0"
        ],
        [
         "4",
         "5. Se llama unidad motora:",
         "1. Al conjunto de una motoneurona alfa y todas las células musculares que inerva.",
         "2. A un nervio y todos los músculos que inerva.",
         "3. Al conjunto de músculos que mueven una articulación.",
         "4. Al conjunto de husos musculares que contiene un músculo.",
         "1.0"
        ],
        [
         "5",
         "6. Si el mecanismo de acción de una hormona se produce a través de la activación de la fosfolipasa C:",
         "1. El segundo mensajero implicado es el AMPc.",
         "2. Se activa primero un receptor intracelular.",
         "3. Se activa la adenilato ciclasa.",
         "4. Se induce liberación de Ca2+ de los depósitos intracelulares.",
         "4.0"
        ],
        [
         "6",
         "7. ¿Cuál de las siguientes hormonas se sintetiza en la hipófisis?:",
         "1. Prolactina.",
         "2. Hormona antidiurética.",
         "3. Oxitocina.",
         "4. Hormona liberadora de tirotropina.",
         "1.0"
        ],
        [
         "7",
         "8. La hormona del crecimiento:",
         "1. Estimula la síntesis de proteínas.",
         "2. Es un péptido de 10 aminoácidos.",
         "3. Los productos de su degradación se llaman somatomedinas.",
         "4. Es hipoglucemiante.",
         "1.0"
        ],
        [
         "8",
         "9. ¿Cuál de los siguientes factores disminuye la secreción de insulina?:",
         "1. Glucagón.",
         "2. Sulfonilureas.",
         "3. Somatostatina.",
         "4. Obesidad.",
         "3.0"
        ],
        [
         "9",
         "10. La secreción de hormonas tiroideas:",
         "1. Está controlada por el eje hipotálamohipofisario-adrenal.",
         "2. Se inhibe por la hormona estimulante del tiroides.",
         "3. Se inhibe por las hormonas tiroideas.",
         "4. No depende del control por retroalimentación.",
         "3.0"
        ]
       ],
       "shape": {
        "columns": 6,
        "rows": 10
       }
      },
      "text/html": [
       "<div>\n",
       "<style scoped>\n",
       "    .dataframe tbody tr th:only-of-type {\n",
       "        vertical-align: middle;\n",
       "    }\n",
       "\n",
       "    .dataframe tbody tr th {\n",
       "        vertical-align: top;\n",
       "    }\n",
       "\n",
       "    .dataframe thead th {\n",
       "        text-align: right;\n",
       "    }\n",
       "</style>\n",
       "<table border=\"1\" class=\"dataframe\">\n",
       "  <thead>\n",
       "    <tr style=\"text-align: right;\">\n",
       "      <th></th>\n",
       "      <th>Question</th>\n",
       "      <th>Option_1</th>\n",
       "      <th>Option_2</th>\n",
       "      <th>Option_3</th>\n",
       "      <th>Option_4</th>\n",
       "      <th>RC</th>\n",
       "    </tr>\n",
       "  </thead>\n",
       "  <tbody>\n",
       "    <tr>\n",
       "      <th>0</th>\n",
       "      <td>1. La velocidad de conducción de un potencial ...</td>\n",
       "      <td>1. Cuanto mayor sea el diámetro del axón.</td>\n",
       "      <td>2. En los axones sin mielina.</td>\n",
       "      <td>3. Cuanto mayor sea la longitud del axón.</td>\n",
       "      <td>4. Cuanto menor sea el diámetro del axón.</td>\n",
       "      <td>1.0</td>\n",
       "    </tr>\n",
       "    <tr>\n",
       "      <th>1</th>\n",
       "      <td>2. Las sinapsis eléctricas se caracterizan por:</td>\n",
       "      <td>1. Mostrar un retraso sináptico mayor que en l...</td>\n",
       "      <td>2. Utilizar un neurotransmisor para transmitir...</td>\n",
       "      <td>3. Utilizar canales para transmitir la informa...</td>\n",
       "      <td>4. Transmitir la información de manera unidire...</td>\n",
       "      <td>3.0</td>\n",
       "    </tr>\n",
       "    <tr>\n",
       "      <th>2</th>\n",
       "      <td>3. Los sistemas sensoriales codifican la inten...</td>\n",
       "      <td>1. El tamaño de los potenciales de acción.</td>\n",
       "      <td>2. La frecuencia de los potenciales de acción.</td>\n",
       "      <td>3. La velocidad de transmisión del potencial d...</td>\n",
       "      <td>4. La duración del potencial de acción.</td>\n",
       "      <td>2.0</td>\n",
       "    </tr>\n",
       "    <tr>\n",
       "      <th>3</th>\n",
       "      <td>4. En las neuronas receptoras del olfato, las ...</td>\n",
       "      <td>1. El soma neuronal.</td>\n",
       "      <td>2. Los cilios.</td>\n",
       "      <td>3. El axón.</td>\n",
       "      <td>4. La terminal sináptica.</td>\n",
       "      <td>2.0</td>\n",
       "    </tr>\n",
       "    <tr>\n",
       "      <th>4</th>\n",
       "      <td>5. Se llama unidad motora:</td>\n",
       "      <td>1. Al conjunto de una motoneurona alfa y todas...</td>\n",
       "      <td>2. A un nervio y todos los músculos que inerva.</td>\n",
       "      <td>3. Al conjunto de músculos que mueven una arti...</td>\n",
       "      <td>4. Al conjunto de husos musculares que contien...</td>\n",
       "      <td>1.0</td>\n",
       "    </tr>\n",
       "    <tr>\n",
       "      <th>5</th>\n",
       "      <td>6. Si el mecanismo de acción de una hormona se...</td>\n",
       "      <td>1. El segundo mensajero implicado es el AMPc.</td>\n",
       "      <td>2. Se activa primero un receptor intracelular.</td>\n",
       "      <td>3. Se activa la adenilato ciclasa.</td>\n",
       "      <td>4. Se induce liberación de Ca2+ de los depósit...</td>\n",
       "      <td>4.0</td>\n",
       "    </tr>\n",
       "    <tr>\n",
       "      <th>6</th>\n",
       "      <td>7. ¿Cuál de las siguientes hormonas se sinteti...</td>\n",
       "      <td>1. Prolactina.</td>\n",
       "      <td>2. Hormona antidiurética.</td>\n",
       "      <td>3. Oxitocina.</td>\n",
       "      <td>4. Hormona liberadora de tirotropina.</td>\n",
       "      <td>1.0</td>\n",
       "    </tr>\n",
       "    <tr>\n",
       "      <th>7</th>\n",
       "      <td>8. La hormona del crecimiento:</td>\n",
       "      <td>1. Estimula la síntesis de proteínas.</td>\n",
       "      <td>2. Es un péptido de 10 aminoácidos.</td>\n",
       "      <td>3. Los productos de su degradación se llaman s...</td>\n",
       "      <td>4. Es hipoglucemiante.</td>\n",
       "      <td>1.0</td>\n",
       "    </tr>\n",
       "    <tr>\n",
       "      <th>8</th>\n",
       "      <td>9. ¿Cuál de los siguientes factores disminuye ...</td>\n",
       "      <td>1. Glucagón.</td>\n",
       "      <td>2. Sulfonilureas.</td>\n",
       "      <td>3. Somatostatina.</td>\n",
       "      <td>4. Obesidad.</td>\n",
       "      <td>3.0</td>\n",
       "    </tr>\n",
       "    <tr>\n",
       "      <th>9</th>\n",
       "      <td>10. La secreción de hormonas tiroideas:</td>\n",
       "      <td>1. Está controlada por el eje hipotálamohipofi...</td>\n",
       "      <td>2. Se inhibe por la hormona estimulante del ti...</td>\n",
       "      <td>3. Se inhibe por las hormonas tiroideas.</td>\n",
       "      <td>4. No depende del control por retroalimentación.</td>\n",
       "      <td>3.0</td>\n",
       "    </tr>\n",
       "  </tbody>\n",
       "</table>\n",
       "</div>"
      ],
      "text/plain": [
       "                                            Question  \\\n",
       "0  1. La velocidad de conducción de un potencial ...   \n",
       "1    2. Las sinapsis eléctricas se caracterizan por:   \n",
       "2  3. Los sistemas sensoriales codifican la inten...   \n",
       "3  4. En las neuronas receptoras del olfato, las ...   \n",
       "4                         5. Se llama unidad motora:   \n",
       "5  6. Si el mecanismo de acción de una hormona se...   \n",
       "6  7. ¿Cuál de las siguientes hormonas se sinteti...   \n",
       "7                     8. La hormona del crecimiento:   \n",
       "8  9. ¿Cuál de los siguientes factores disminuye ...   \n",
       "9            10. La secreción de hormonas tiroideas:   \n",
       "\n",
       "                                            Option_1  \\\n",
       "0          1. Cuanto mayor sea el diámetro del axón.   \n",
       "1  1. Mostrar un retraso sináptico mayor que en l...   \n",
       "2         1. El tamaño de los potenciales de acción.   \n",
       "3                               1. El soma neuronal.   \n",
       "4  1. Al conjunto de una motoneurona alfa y todas...   \n",
       "5      1. El segundo mensajero implicado es el AMPc.   \n",
       "6                                     1. Prolactina.   \n",
       "7              1. Estimula la síntesis de proteínas.   \n",
       "8                                       1. Glucagón.   \n",
       "9  1. Está controlada por el eje hipotálamohipofi...   \n",
       "\n",
       "                                            Option_2  \\\n",
       "0                      2. En los axones sin mielina.   \n",
       "1  2. Utilizar un neurotransmisor para transmitir...   \n",
       "2     2. La frecuencia de los potenciales de acción.   \n",
       "3                                     2. Los cilios.   \n",
       "4    2. A un nervio y todos los músculos que inerva.   \n",
       "5     2. Se activa primero un receptor intracelular.   \n",
       "6                          2. Hormona antidiurética.   \n",
       "7                2. Es un péptido de 10 aminoácidos.   \n",
       "8                                  2. Sulfonilureas.   \n",
       "9  2. Se inhibe por la hormona estimulante del ti...   \n",
       "\n",
       "                                            Option_3  \\\n",
       "0          3. Cuanto mayor sea la longitud del axón.   \n",
       "1  3. Utilizar canales para transmitir la informa...   \n",
       "2  3. La velocidad de transmisión del potencial d...   \n",
       "3                                        3. El axón.   \n",
       "4  3. Al conjunto de músculos que mueven una arti...   \n",
       "5                 3. Se activa la adenilato ciclasa.   \n",
       "6                                      3. Oxitocina.   \n",
       "7  3. Los productos de su degradación se llaman s...   \n",
       "8                                  3. Somatostatina.   \n",
       "9           3. Se inhibe por las hormonas tiroideas.   \n",
       "\n",
       "                                            Option_4   RC  \n",
       "0          4. Cuanto menor sea el diámetro del axón.  1.0  \n",
       "1  4. Transmitir la información de manera unidire...  3.0  \n",
       "2            4. La duración del potencial de acción.  2.0  \n",
       "3                          4. La terminal sináptica.  2.0  \n",
       "4  4. Al conjunto de husos musculares que contien...  1.0  \n",
       "5  4. Se induce liberación de Ca2+ de los depósit...  4.0  \n",
       "6              4. Hormona liberadora de tirotropina.  1.0  \n",
       "7                             4. Es hipoglucemiante.  1.0  \n",
       "8                                       4. Obesidad.  3.0  \n",
       "9   4. No depende del control por retroalimentación.  3.0  "
      ]
     },
     "execution_count": 34,
     "metadata": {},
     "output_type": "execute_result"
    }
   ],
   "source": [
    "processed_exam_df: pd.DataFrame = pd.concat([exam_df_pivot, answers_df_clean], axis=1)\n",
    "processed_exam_df = processed_exam_df.drop(columns=[\"V\"])\n",
    "processed_exam_df.head(10)"
   ]
  },
  {
   "cell_type": "markdown",
   "metadata": {},
   "source": [
    "**2. Identifying and Handling Missing Values:**\n",
    "\n",
    "Missing values are then replaced with 0."
   ]
  },
  {
   "cell_type": "code",
   "execution_count": 35,
   "metadata": {},
   "outputs": [],
   "source": [
    "processed_exam_df = processed_exam_df.fillna(0)"
   ]
  },
  {
   "cell_type": "markdown",
   "metadata": {},
   "source": [
    "**3. Verifying Missing Values and Data Types:**\n",
    "\n",
    "The number of missing values in each column is checked, and the data types of the columns are displayed. The 'RC' (correct answer) column is then converted to integer type."
   ]
  },
  {
   "cell_type": "code",
   "execution_count": 36,
   "metadata": {},
   "outputs": [
    {
     "data": {
      "text/plain": [
       "Question    object\n",
       "Option_1    object\n",
       "Option_2    object\n",
       "Option_3    object\n",
       "Option_4    object\n",
       "RC           int32\n",
       "dtype: object"
      ]
     },
     "execution_count": 36,
     "metadata": {},
     "output_type": "execute_result"
    }
   ],
   "source": [
    "processed_exam_df.isnull().sum()\n",
    "processed_exam_df[\"RC\"] = processed_exam_df[\"RC\"].astype(int)\n",
    "processed_exam_df.dtypes"
   ]
  },
  {
   "cell_type": "markdown",
   "metadata": {},
   "source": [
    "**4. Adding year column**\n",
    "\n",
    "A column containing the year of the exam is added to the DataFrame."
   ]
  },
  {
   "cell_type": "code",
   "execution_count": 37,
   "metadata": {},
   "outputs": [],
   "source": [
    "processed_exam_df[\"year\"] = year"
   ]
  },
  {
   "cell_type": "markdown",
   "metadata": {},
   "source": [
    "**5. Displaying the Final DataFrame:**\n",
    "\n",
    "The first 10 rows of the final joined and cleaned DataFrame are displayed."
   ]
  },
  {
   "cell_type": "code",
   "execution_count": 38,
   "metadata": {},
   "outputs": [
    {
     "data": {
      "application/vnd.microsoft.datawrangler.viewer.v0+json": {
       "columns": [
        {
         "name": "index",
         "rawType": "int64",
         "type": "integer"
        },
        {
         "name": "Question",
         "rawType": "object",
         "type": "string"
        },
        {
         "name": "Option_1",
         "rawType": "object",
         "type": "string"
        },
        {
         "name": "Option_2",
         "rawType": "object",
         "type": "string"
        },
        {
         "name": "Option_3",
         "rawType": "object",
         "type": "string"
        },
        {
         "name": "Option_4",
         "rawType": "object",
         "type": "string"
        },
        {
         "name": "RC",
         "rawType": "int32",
         "type": "integer"
        },
        {
         "name": "year",
         "rawType": "int64",
         "type": "integer"
        }
       ],
       "conversionMethod": "pd.DataFrame",
       "ref": "a1eecd39-8a67-4ede-86fa-2bf33ee10324",
       "rows": [
        [
         "0",
         "1. La velocidad de conducción de un potencial de acción será mayor:",
         "1. Cuanto mayor sea el diámetro del axón.",
         "2. En los axones sin mielina.",
         "3. Cuanto mayor sea la longitud del axón.",
         "4. Cuanto menor sea el diámetro del axón.",
         "1",
         "2020"
        ],
        [
         "1",
         "2. Las sinapsis eléctricas se caracterizan por:",
         "1. Mostrar un retraso sináptico mayor que en las sinapsis químicas.",
         "2. Utilizar un neurotransmisor para transmitir la información.",
         "3. Utilizar canales para transmitir la información.",
         "4. Transmitir la información de manera unidireccional.",
         "3",
         "2020"
        ],
        [
         "2",
         "3. Los sistemas sensoriales codifican la intensidad de los estímulos en función de:",
         "1. El tamaño de los potenciales de acción.",
         "2. La frecuencia de los potenciales de acción.",
         "3. La velocidad de transmisión del potencial de acción.",
         "4. La duración del potencial de acción.",
         "2",
         "2020"
        ],
        [
         "3",
         "4. En las neuronas receptoras del olfato, las proteínas receptoras de odorantes se localizan en:",
         "1. El soma neuronal.",
         "2. Los cilios.",
         "3. El axón.",
         "4. La terminal sináptica.",
         "2",
         "2020"
        ],
        [
         "4",
         "5. Se llama unidad motora:",
         "1. Al conjunto de una motoneurona alfa y todas las células musculares que inerva.",
         "2. A un nervio y todos los músculos que inerva.",
         "3. Al conjunto de músculos que mueven una articulación.",
         "4. Al conjunto de husos musculares que contiene un músculo.",
         "1",
         "2020"
        ],
        [
         "5",
         "6. Si el mecanismo de acción de una hormona se produce a través de la activación de la fosfolipasa C:",
         "1. El segundo mensajero implicado es el AMPc.",
         "2. Se activa primero un receptor intracelular.",
         "3. Se activa la adenilato ciclasa.",
         "4. Se induce liberación de Ca2+ de los depósitos intracelulares.",
         "4",
         "2020"
        ],
        [
         "6",
         "7. ¿Cuál de las siguientes hormonas se sintetiza en la hipófisis?:",
         "1. Prolactina.",
         "2. Hormona antidiurética.",
         "3. Oxitocina.",
         "4. Hormona liberadora de tirotropina.",
         "1",
         "2020"
        ],
        [
         "7",
         "8. La hormona del crecimiento:",
         "1. Estimula la síntesis de proteínas.",
         "2. Es un péptido de 10 aminoácidos.",
         "3. Los productos de su degradación se llaman somatomedinas.",
         "4. Es hipoglucemiante.",
         "1",
         "2020"
        ],
        [
         "8",
         "9. ¿Cuál de los siguientes factores disminuye la secreción de insulina?:",
         "1. Glucagón.",
         "2. Sulfonilureas.",
         "3. Somatostatina.",
         "4. Obesidad.",
         "3",
         "2020"
        ],
        [
         "9",
         "10. La secreción de hormonas tiroideas:",
         "1. Está controlada por el eje hipotálamohipofisario-adrenal.",
         "2. Se inhibe por la hormona estimulante del tiroides.",
         "3. Se inhibe por las hormonas tiroideas.",
         "4. No depende del control por retroalimentación.",
         "3",
         "2020"
        ]
       ],
       "shape": {
        "columns": 7,
        "rows": 10
       }
      },
      "text/html": [
       "<div>\n",
       "<style scoped>\n",
       "    .dataframe tbody tr th:only-of-type {\n",
       "        vertical-align: middle;\n",
       "    }\n",
       "\n",
       "    .dataframe tbody tr th {\n",
       "        vertical-align: top;\n",
       "    }\n",
       "\n",
       "    .dataframe thead th {\n",
       "        text-align: right;\n",
       "    }\n",
       "</style>\n",
       "<table border=\"1\" class=\"dataframe\">\n",
       "  <thead>\n",
       "    <tr style=\"text-align: right;\">\n",
       "      <th></th>\n",
       "      <th>Question</th>\n",
       "      <th>Option_1</th>\n",
       "      <th>Option_2</th>\n",
       "      <th>Option_3</th>\n",
       "      <th>Option_4</th>\n",
       "      <th>RC</th>\n",
       "      <th>year</th>\n",
       "    </tr>\n",
       "  </thead>\n",
       "  <tbody>\n",
       "    <tr>\n",
       "      <th>0</th>\n",
       "      <td>1. La velocidad de conducción de un potencial ...</td>\n",
       "      <td>1. Cuanto mayor sea el diámetro del axón.</td>\n",
       "      <td>2. En los axones sin mielina.</td>\n",
       "      <td>3. Cuanto mayor sea la longitud del axón.</td>\n",
       "      <td>4. Cuanto menor sea el diámetro del axón.</td>\n",
       "      <td>1</td>\n",
       "      <td>2020</td>\n",
       "    </tr>\n",
       "    <tr>\n",
       "      <th>1</th>\n",
       "      <td>2. Las sinapsis eléctricas se caracterizan por:</td>\n",
       "      <td>1. Mostrar un retraso sináptico mayor que en l...</td>\n",
       "      <td>2. Utilizar un neurotransmisor para transmitir...</td>\n",
       "      <td>3. Utilizar canales para transmitir la informa...</td>\n",
       "      <td>4. Transmitir la información de manera unidire...</td>\n",
       "      <td>3</td>\n",
       "      <td>2020</td>\n",
       "    </tr>\n",
       "    <tr>\n",
       "      <th>2</th>\n",
       "      <td>3. Los sistemas sensoriales codifican la inten...</td>\n",
       "      <td>1. El tamaño de los potenciales de acción.</td>\n",
       "      <td>2. La frecuencia de los potenciales de acción.</td>\n",
       "      <td>3. La velocidad de transmisión del potencial d...</td>\n",
       "      <td>4. La duración del potencial de acción.</td>\n",
       "      <td>2</td>\n",
       "      <td>2020</td>\n",
       "    </tr>\n",
       "    <tr>\n",
       "      <th>3</th>\n",
       "      <td>4. En las neuronas receptoras del olfato, las ...</td>\n",
       "      <td>1. El soma neuronal.</td>\n",
       "      <td>2. Los cilios.</td>\n",
       "      <td>3. El axón.</td>\n",
       "      <td>4. La terminal sináptica.</td>\n",
       "      <td>2</td>\n",
       "      <td>2020</td>\n",
       "    </tr>\n",
       "    <tr>\n",
       "      <th>4</th>\n",
       "      <td>5. Se llama unidad motora:</td>\n",
       "      <td>1. Al conjunto de una motoneurona alfa y todas...</td>\n",
       "      <td>2. A un nervio y todos los músculos que inerva.</td>\n",
       "      <td>3. Al conjunto de músculos que mueven una arti...</td>\n",
       "      <td>4. Al conjunto de husos musculares que contien...</td>\n",
       "      <td>1</td>\n",
       "      <td>2020</td>\n",
       "    </tr>\n",
       "    <tr>\n",
       "      <th>5</th>\n",
       "      <td>6. Si el mecanismo de acción de una hormona se...</td>\n",
       "      <td>1. El segundo mensajero implicado es el AMPc.</td>\n",
       "      <td>2. Se activa primero un receptor intracelular.</td>\n",
       "      <td>3. Se activa la adenilato ciclasa.</td>\n",
       "      <td>4. Se induce liberación de Ca2+ de los depósit...</td>\n",
       "      <td>4</td>\n",
       "      <td>2020</td>\n",
       "    </tr>\n",
       "    <tr>\n",
       "      <th>6</th>\n",
       "      <td>7. ¿Cuál de las siguientes hormonas se sinteti...</td>\n",
       "      <td>1. Prolactina.</td>\n",
       "      <td>2. Hormona antidiurética.</td>\n",
       "      <td>3. Oxitocina.</td>\n",
       "      <td>4. Hormona liberadora de tirotropina.</td>\n",
       "      <td>1</td>\n",
       "      <td>2020</td>\n",
       "    </tr>\n",
       "    <tr>\n",
       "      <th>7</th>\n",
       "      <td>8. La hormona del crecimiento:</td>\n",
       "      <td>1. Estimula la síntesis de proteínas.</td>\n",
       "      <td>2. Es un péptido de 10 aminoácidos.</td>\n",
       "      <td>3. Los productos de su degradación se llaman s...</td>\n",
       "      <td>4. Es hipoglucemiante.</td>\n",
       "      <td>1</td>\n",
       "      <td>2020</td>\n",
       "    </tr>\n",
       "    <tr>\n",
       "      <th>8</th>\n",
       "      <td>9. ¿Cuál de los siguientes factores disminuye ...</td>\n",
       "      <td>1. Glucagón.</td>\n",
       "      <td>2. Sulfonilureas.</td>\n",
       "      <td>3. Somatostatina.</td>\n",
       "      <td>4. Obesidad.</td>\n",
       "      <td>3</td>\n",
       "      <td>2020</td>\n",
       "    </tr>\n",
       "    <tr>\n",
       "      <th>9</th>\n",
       "      <td>10. La secreción de hormonas tiroideas:</td>\n",
       "      <td>1. Está controlada por el eje hipotálamohipofi...</td>\n",
       "      <td>2. Se inhibe por la hormona estimulante del ti...</td>\n",
       "      <td>3. Se inhibe por las hormonas tiroideas.</td>\n",
       "      <td>4. No depende del control por retroalimentación.</td>\n",
       "      <td>3</td>\n",
       "      <td>2020</td>\n",
       "    </tr>\n",
       "  </tbody>\n",
       "</table>\n",
       "</div>"
      ],
      "text/plain": [
       "                                            Question  \\\n",
       "0  1. La velocidad de conducción de un potencial ...   \n",
       "1    2. Las sinapsis eléctricas se caracterizan por:   \n",
       "2  3. Los sistemas sensoriales codifican la inten...   \n",
       "3  4. En las neuronas receptoras del olfato, las ...   \n",
       "4                         5. Se llama unidad motora:   \n",
       "5  6. Si el mecanismo de acción de una hormona se...   \n",
       "6  7. ¿Cuál de las siguientes hormonas se sinteti...   \n",
       "7                     8. La hormona del crecimiento:   \n",
       "8  9. ¿Cuál de los siguientes factores disminuye ...   \n",
       "9            10. La secreción de hormonas tiroideas:   \n",
       "\n",
       "                                            Option_1  \\\n",
       "0          1. Cuanto mayor sea el diámetro del axón.   \n",
       "1  1. Mostrar un retraso sináptico mayor que en l...   \n",
       "2         1. El tamaño de los potenciales de acción.   \n",
       "3                               1. El soma neuronal.   \n",
       "4  1. Al conjunto de una motoneurona alfa y todas...   \n",
       "5      1. El segundo mensajero implicado es el AMPc.   \n",
       "6                                     1. Prolactina.   \n",
       "7              1. Estimula la síntesis de proteínas.   \n",
       "8                                       1. Glucagón.   \n",
       "9  1. Está controlada por el eje hipotálamohipofi...   \n",
       "\n",
       "                                            Option_2  \\\n",
       "0                      2. En los axones sin mielina.   \n",
       "1  2. Utilizar un neurotransmisor para transmitir...   \n",
       "2     2. La frecuencia de los potenciales de acción.   \n",
       "3                                     2. Los cilios.   \n",
       "4    2. A un nervio y todos los músculos que inerva.   \n",
       "5     2. Se activa primero un receptor intracelular.   \n",
       "6                          2. Hormona antidiurética.   \n",
       "7                2. Es un péptido de 10 aminoácidos.   \n",
       "8                                  2. Sulfonilureas.   \n",
       "9  2. Se inhibe por la hormona estimulante del ti...   \n",
       "\n",
       "                                            Option_3  \\\n",
       "0          3. Cuanto mayor sea la longitud del axón.   \n",
       "1  3. Utilizar canales para transmitir la informa...   \n",
       "2  3. La velocidad de transmisión del potencial d...   \n",
       "3                                        3. El axón.   \n",
       "4  3. Al conjunto de músculos que mueven una arti...   \n",
       "5                 3. Se activa la adenilato ciclasa.   \n",
       "6                                      3. Oxitocina.   \n",
       "7  3. Los productos de su degradación se llaman s...   \n",
       "8                                  3. Somatostatina.   \n",
       "9           3. Se inhibe por las hormonas tiroideas.   \n",
       "\n",
       "                                            Option_4  RC  year  \n",
       "0          4. Cuanto menor sea el diámetro del axón.   1  2020  \n",
       "1  4. Transmitir la información de manera unidire...   3  2020  \n",
       "2            4. La duración del potencial de acción.   2  2020  \n",
       "3                          4. La terminal sináptica.   2  2020  \n",
       "4  4. Al conjunto de husos musculares que contien...   1  2020  \n",
       "5  4. Se induce liberación de Ca2+ de los depósit...   4  2020  \n",
       "6              4. Hormona liberadora de tirotropina.   1  2020  \n",
       "7                             4. Es hipoglucemiante.   1  2020  \n",
       "8                                       4. Obesidad.   3  2020  \n",
       "9   4. No depende del control por retroalimentación.   3  2020  "
      ]
     },
     "execution_count": 38,
     "metadata": {},
     "output_type": "execute_result"
    }
   ],
   "source": [
    "processed_exam_df.head(10)"
   ]
  },
  {
   "cell_type": "markdown",
   "metadata": {},
   "source": [
    "# Data Loading"
   ]
  },
  {
   "cell_type": "markdown",
   "metadata": {},
   "source": [
    "## Saving in csv file\n",
    "\n",
    "The `processed_exam_df` DataFrame, containing the cleaned and transformed exam data, is saved to a CSV file with the name generatd in the first step in the \"data\" directory. The `index=False` argument ensures that the DataFrame index is not written to the file, resulting in a cleaner output. This CSV file can be used for further analysis or as input for other applications."
   ]
  },
  {
   "cell_type": "code",
   "execution_count": 39,
   "metadata": {},
   "outputs": [],
   "source": [
    "processed_exam_df.to_csv(save_format, index= False)"
   ]
  },
  {
   "cell_type": "markdown",
   "metadata": {},
   "source": [
    "## Writing into data warehouse\n",
    "\n",
    "This section details the process of loading the cleaned and transformed exam data into an SQLite database, serving as a data warehouse for further analysis and querying.\n",
    "\n",
    "**1. Database Connection and Path:**\n",
    "\n",
    "The path to the SQLite database file is defined, and a connection is established using the `sqlite3` library."
   ]
  },
  {
   "cell_type": "code",
   "execution_count": 40,
   "metadata": {},
   "outputs": [],
   "source": [
    "db_path: str = \"../data/clean/bir_warehouse.db\""
   ]
  },
  {
   "cell_type": "markdown",
   "metadata": {},
   "source": [
    "**2. SQL Queries Definition:**\n",
    "\n",
    "Two SQL queries are defined: one for inserting questions into the questions table and another for inserting options into the questions_options table."
   ]
  },
  {
   "cell_type": "code",
   "execution_count": 41,
   "metadata": {},
   "outputs": [],
   "source": [
    "query_question: str = \"\"\"\n",
    "INSERT INTO questions (exam_year, exam_subject, question) \n",
    "VALUES((SELECT id_year FROM year WHERE year_name = ?),\n",
    "    (SELECT id_type FROM exam WHERE exam_type = ?),\n",
    "    ?);\n",
    "\"\"\"\n",
    "\n",
    "query_options: str = \"\"\"\n",
    "INSERT INTO questions_options (question_id, option_num, option_text, is_correct)\n",
    "VALUES((SELECT id FROM questions WHERE question = ?),\n",
    "    ?,\n",
    "    ?,\n",
    "    ?)\n",
    "\"\"\""
   ]
  },
  {
   "cell_type": "markdown",
   "metadata": {},
   "source": [
    "**3. Database Interaction and Data Insertion:**\n",
    "\n",
    "A with statement is used to establish a connection to the SQLite database, ensuring that the connection is properly closed after use. A cursor is created, and the processed_exam_df DataFrame is iterated over to insert each question and its options"
   ]
  },
  {
   "cell_type": "code",
   "execution_count": 42,
   "metadata": {},
   "outputs": [],
   "source": [
    "with sqlite3.connect(db_path) as bir_warehouse:\n",
    "    cur = bir_warehouse.cursor()\n",
    "    for question in processed_exam_df.itertuples():\n",
    "        cur.execute(query_question, (str(question[7]), exam_acronym, question[1]))\n",
    "        bir_warehouse.commit()\n",
    "        for n, option in enumerate(question[2:6]):\n",
    "            cur.execute(query_options, (question[1], n+1, option, n+1 == question[6]))\n",
    "            bir_warehouse.commit()"
   ]
  }
 ],
 "metadata": {
  "colab": {
   "provenance": []
  },
  "kernelspec": {
   "display_name": "bir_etl",
   "language": "python",
   "name": "python3"
  },
  "language_info": {
   "codemirror_mode": {
    "name": "ipython",
    "version": 3
   },
   "file_extension": ".py",
   "mimetype": "text/x-python",
   "name": "python",
   "nbconvert_exporter": "python",
   "pygments_lexer": "ipython3",
   "version": "3.12.7"
  }
 },
 "nbformat": 4,
 "nbformat_minor": 4
}
