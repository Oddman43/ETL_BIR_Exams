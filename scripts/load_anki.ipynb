{
 "cells": [
  {
   "cell_type": "code",
   "execution_count": 68,
   "metadata": {},
   "outputs": [],
   "source": [
    "import pandas as pd\n",
    "import numpy as np\n",
    "import json\n",
    "import urllib.request\n",
    "import sqlite3"
   ]
  },
  {
   "cell_type": "code",
   "execution_count": 79,
   "metadata": {},
   "outputs": [],
   "source": [
    "# Copied from anki connect site\n",
    "def request(action: str, **params) -> dict:\n",
    "    return {\"action\": action, \"params\": params, \"version\": 6}\n",
    "\n",
    "\n",
    "# Copied from anki connect site\n",
    "def invoke(action: str, **params):\n",
    "    requestJson = json.dumps(request(action, **params)).encode(\"utf-8\")\n",
    "    response = json.load(\n",
    "        urllib.request.urlopen(\n",
    "            urllib.request.Request(\"http://127.0.0.1:8765\", requestJson)\n",
    "        )\n",
    "    )\n",
    "    if len(response) != 2:\n",
    "        raise Exception(\"response has an unexpected number of fields\")\n",
    "    if \"error\" not in response:\n",
    "        raise Exception(\"response is missing required error field\")\n",
    "    if \"result\" not in response:\n",
    "        raise Exception(\"response is missing required result field\")\n",
    "    if response[\"error\"] is not None:\n",
    "        raise Exception(response[\"error\"])\n",
    "    return response[\"result\"]"
   ]
  },
  {
   "cell_type": "code",
   "execution_count": 87,
   "metadata": {},
   "outputs": [
    {
     "data": {
      "application/vnd.microsoft.datawrangler.viewer.v0+json": {
       "columns": [
        {
         "name": "index",
         "rawType": "int64",
         "type": "integer"
        },
        {
         "name": "year_name",
         "rawType": "int32",
         "type": "integer"
        },
        {
         "name": "exam_type",
         "rawType": "object",
         "type": "string"
        },
        {
         "name": "question",
         "rawType": "object",
         "type": "string"
        },
        {
         "name": "option_text",
         "rawType": "object",
         "type": "string"
        },
        {
         "name": "is_correct",
         "rawType": "bool",
         "type": "boolean"
        },
        {
         "name": "index",
         "rawType": "object",
         "type": "string"
        }
       ],
       "conversionMethod": "pd.DataFrame",
       "ref": "02a7c980-f2fd-4115-bb0b-ceab750bd374",
       "rows": [
        [
         "0",
         "2024",
         "bir",
         "1. La barrera hematoencefálica:",
         "1. Es permeable a todas las sustancias presentes en el plasma.",
         "False",
         "2024bir1. La barrera hematoencefálica:"
        ],
        [
         "1",
         "2024",
         "bir",
         "1. La barrera hematoencefálica:",
         "2. Es permeable al O2 y al CO2.",
         "True",
         "2024bir1. La barrera hematoencefálica:"
        ],
        [
         "2",
         "2024",
         "bir",
         "1. La barrera hematoencefálica:",
         "3. Es impermeable al etanol.",
         "False",
         "2024bir1. La barrera hematoencefálica:"
        ],
        [
         "3",
         "2024",
         "bir",
         "1. La barrera hematoencefálica:",
         "4. Es impermeable al agua.",
         "False",
         "2024bir1. La barrera hematoencefálica:"
        ],
        [
         "4",
         "2024",
         "bir",
         "2. El espacio subaracnoideo se encuentra:",
         "1. Entre la aracnoides y la duramadre.",
         "False",
         "2024bir2. El espacio subaracnoideo se encuentra:"
        ]
       ],
       "shape": {
        "columns": 6,
        "rows": 5
       }
      },
      "text/html": [
       "<div>\n",
       "<style scoped>\n",
       "    .dataframe tbody tr th:only-of-type {\n",
       "        vertical-align: middle;\n",
       "    }\n",
       "\n",
       "    .dataframe tbody tr th {\n",
       "        vertical-align: top;\n",
       "    }\n",
       "\n",
       "    .dataframe thead th {\n",
       "        text-align: right;\n",
       "    }\n",
       "</style>\n",
       "<table border=\"1\" class=\"dataframe\">\n",
       "  <thead>\n",
       "    <tr style=\"text-align: right;\">\n",
       "      <th></th>\n",
       "      <th>year_name</th>\n",
       "      <th>exam_type</th>\n",
       "      <th>question</th>\n",
       "      <th>option_text</th>\n",
       "      <th>is_correct</th>\n",
       "      <th>index</th>\n",
       "    </tr>\n",
       "  </thead>\n",
       "  <tbody>\n",
       "    <tr>\n",
       "      <th>0</th>\n",
       "      <td>2024</td>\n",
       "      <td>bir</td>\n",
       "      <td>1. La barrera hematoencefálica:</td>\n",
       "      <td>1. Es permeable a todas las sustancias present...</td>\n",
       "      <td>False</td>\n",
       "      <td>2024bir1. La barrera hematoencefálica:</td>\n",
       "    </tr>\n",
       "    <tr>\n",
       "      <th>1</th>\n",
       "      <td>2024</td>\n",
       "      <td>bir</td>\n",
       "      <td>1. La barrera hematoencefálica:</td>\n",
       "      <td>2. Es permeable al O2 y al CO2.</td>\n",
       "      <td>True</td>\n",
       "      <td>2024bir1. La barrera hematoencefálica:</td>\n",
       "    </tr>\n",
       "    <tr>\n",
       "      <th>2</th>\n",
       "      <td>2024</td>\n",
       "      <td>bir</td>\n",
       "      <td>1. La barrera hematoencefálica:</td>\n",
       "      <td>3. Es impermeable al etanol.</td>\n",
       "      <td>False</td>\n",
       "      <td>2024bir1. La barrera hematoencefálica:</td>\n",
       "    </tr>\n",
       "    <tr>\n",
       "      <th>3</th>\n",
       "      <td>2024</td>\n",
       "      <td>bir</td>\n",
       "      <td>1. La barrera hematoencefálica:</td>\n",
       "      <td>4. Es impermeable al agua.</td>\n",
       "      <td>False</td>\n",
       "      <td>2024bir1. La barrera hematoencefálica:</td>\n",
       "    </tr>\n",
       "    <tr>\n",
       "      <th>4</th>\n",
       "      <td>2024</td>\n",
       "      <td>bir</td>\n",
       "      <td>2. El espacio subaracnoideo se encuentra:</td>\n",
       "      <td>1. Entre la aracnoides y la duramadre.</td>\n",
       "      <td>False</td>\n",
       "      <td>2024bir2. El espacio subaracnoideo se encuentra:</td>\n",
       "    </tr>\n",
       "  </tbody>\n",
       "</table>\n",
       "</div>"
      ],
      "text/plain": [
       "   year_name exam_type                                   question  \\\n",
       "0       2024       bir            1. La barrera hematoencefálica:   \n",
       "1       2024       bir            1. La barrera hematoencefálica:   \n",
       "2       2024       bir            1. La barrera hematoencefálica:   \n",
       "3       2024       bir            1. La barrera hematoencefálica:   \n",
       "4       2024       bir  2. El espacio subaracnoideo se encuentra:   \n",
       "\n",
       "                                         option_text  is_correct  \\\n",
       "0  1. Es permeable a todas las sustancias present...       False   \n",
       "1                    2. Es permeable al O2 y al CO2.        True   \n",
       "2                       3. Es impermeable al etanol.       False   \n",
       "3                         4. Es impermeable al agua.       False   \n",
       "4             1. Entre la aracnoides y la duramadre.       False   \n",
       "\n",
       "                                              index  \n",
       "0            2024bir1. La barrera hematoencefálica:  \n",
       "1            2024bir1. La barrera hematoencefálica:  \n",
       "2            2024bir1. La barrera hematoencefálica:  \n",
       "3            2024bir1. La barrera hematoencefálica:  \n",
       "4  2024bir2. El espacio subaracnoideo se encuentra:  "
      ]
     },
     "execution_count": 87,
     "metadata": {},
     "output_type": "execute_result"
    }
   ],
   "source": [
    "db_path = \"../data/clean/bir_warehouse.db\"\n",
    "query: str = \"\"\"\n",
    "SELECT y.year_name, ex.exam_type, q.question, qo.option_text, qo.is_correct\n",
    "FROM questions_options AS qo\n",
    "JOIN questions AS q ON qo.question_id = q.id\n",
    "JOIN year AS y ON q.exam_year = y.id_year\n",
    "JOIN exam AS ex ON q.exam_subject = ex.id_type;\n",
    "\"\"\"\n",
    "\n",
    "con = sqlite3.connect(db_path)\n",
    "\n",
    "exams_df: pd.DataFrame = pd.read_sql(query,con)\n",
    "\n",
    "con.close()\n",
    "\n",
    "exams_df[\"index\"] = exams_df[\"year_name\"] + exams_df[\"exam_type\"] + exams_df[\"question\"]\n",
    "exams_df[\"year_name\"] = exams_df[\"year_name\"].astype(int)\n",
    "exams_df[\"is_correct\"] = exams_df[\"is_correct\"].astype(bool)\n",
    "\n",
    "exams_df.head()"
   ]
  },
  {
   "cell_type": "code",
   "execution_count": 88,
   "metadata": {},
   "outputs": [
    {
     "data": {
      "application/vnd.microsoft.datawrangler.viewer.v0+json": {
       "columns": [
        {
         "name": "index",
         "rawType": "int64",
         "type": "integer"
        },
        {
         "name": "year_name",
         "rawType": "int32",
         "type": "integer"
        },
        {
         "name": "exam_type",
         "rawType": "object",
         "type": "string"
        },
        {
         "name": "question",
         "rawType": "object",
         "type": "string"
        },
        {
         "name": "option_text",
         "rawType": "object",
         "type": "string"
        },
        {
         "name": "is_correct",
         "rawType": "bool",
         "type": "boolean"
        },
        {
         "name": "index",
         "rawType": "object",
         "type": "string"
        }
       ],
       "conversionMethod": "pd.DataFrame",
       "ref": "053175c2-8b71-48b6-8fc0-73c18345d8cd",
       "rows": [
        [
         "0",
         "2024",
         "bir",
         "1. La barrera hematoencefálica:",
         "1. Es permeable a todas las sustancias presentes en el plasma.",
         "False",
         "2024bir1. La barrera hematoencefálica:"
        ],
        [
         "1",
         "2024",
         "bir",
         "1. La barrera hematoencefálica:",
         "2. Es permeable al O2 y al CO2.",
         "True",
         "2024bir1. La barrera hematoencefálica:"
        ],
        [
         "2",
         "2024",
         "bir",
         "1. La barrera hematoencefálica:",
         "3. Es impermeable al etanol.",
         "False",
         "2024bir1. La barrera hematoencefálica:"
        ],
        [
         "3",
         "2024",
         "bir",
         "1. La barrera hematoencefálica:",
         "4. Es impermeable al agua.",
         "False",
         "2024bir1. La barrera hematoencefálica:"
        ],
        [
         "4",
         "2024",
         "bir",
         "2. El espacio subaracnoideo se encuentra:",
         "1. Entre la aracnoides y la duramadre.",
         "False",
         "2024bir2. El espacio subaracnoideo se encuentra:"
        ],
        [
         "5",
         "2024",
         "bir",
         "2. El espacio subaracnoideo se encuentra:",
         "2. Entre la aracnoides y la piamadre.",
         "True",
         "2024bir2. El espacio subaracnoideo se encuentra:"
        ],
        [
         "6",
         "2024",
         "bir",
         "2. El espacio subaracnoideo se encuentra:",
         "3. Lleno de sangre.",
         "False",
         "2024bir2. El espacio subaracnoideo se encuentra:"
        ],
        [
         "7",
         "2024",
         "bir",
         "2. El espacio subaracnoideo se encuentra:",
         "4. En el sistema nervioso periférico.",
         "False",
         "2024bir2. El espacio subaracnoideo se encuentra:"
        ],
        [
         "8",
         "2024",
         "bir",
         "3. La endolinfa:",
         "1. Rellena el laberinto óseo del oído interno.",
         "False",
         "2024bir3. La endolinfa:"
        ],
        [
         "9",
         "2024",
         "bir",
         "3. La endolinfa:",
         "2. Contiene baja concentración de K+.",
         "False",
         "2024bir3. La endolinfa:"
        ],
        [
         "10",
         "2024",
         "bir",
         "3. La endolinfa:",
         "3. Rellena el laberinto membranoso del oído interno.",
         "True",
         "2024bir3. La endolinfa:"
        ],
        [
         "11",
         "2024",
         "bir",
         "3. La endolinfa:",
         "4. Contiene alta concentración de Na+.",
         "False",
         "2024bir3. La endolinfa:"
        ],
        [
         "12",
         "2024",
         "bir",
         "4. Las células olfatorias humanas:",
         "1. Son células nerviosas bipolares.",
         "True",
         "2024bir4. Las células olfatorias humanas:"
        ],
        [
         "13",
         "2024",
         "bir",
         "4. Las células olfatorias humanas:",
         "2. Son células nerviosas multipolares.",
         "False",
         "2024bir4. Las células olfatorias humanas:"
        ],
        [
         "14",
         "2024",
         "bir",
         "4. Las células olfatorias humanas:",
         "3. Son células nerviosas unipolares.",
         "False",
         "2024bir4. Las células olfatorias humanas:"
        ],
        [
         "15",
         "2024",
         "bir",
         "4. Las células olfatorias humanas:",
         "4. Son células epiteliales.",
         "False",
         "2024bir4. Las células olfatorias humanas:"
        ],
        [
         "16",
         "2024",
         "bir",
         "5. La esclerosis múltiple es una patología que se caracteriza por:",
         "1. Hipermielinización de los axones con pérdida del control motor y déficit sensitivos.",
         "False",
         "2024bir5. La esclerosis múltiple es una patología que se caracteriza por:"
        ],
        [
         "17",
         "2024",
         "bir",
         "5. La esclerosis múltiple es una patología que se caracteriza por:",
         "2. Desmielinización de los axones con pérdida del control motor y déficit sensitivos.",
         "True",
         "2024bir5. La esclerosis múltiple es una patología que se caracteriza por:"
        ],
        [
         "18",
         "2024",
         "bir",
         "5. La esclerosis múltiple es una patología que se caracteriza por:",
         "3. Incremento en la resistencia eléctrica axonal.",
         "False",
         "2024bir5. La esclerosis múltiple es una patología que se caracteriza por:"
        ],
        [
         "19",
         "2024",
         "bir",
         "5. La esclerosis múltiple es una patología que se caracteriza por:",
         "4. Reducción en la capacitancia axonal.",
         "False",
         "2024bir5. La esclerosis múltiple es una patología que se caracteriza por:"
        ],
        [
         "20",
         "2024",
         "bir",
         "6. ¿La hormona oxitocina es?:",
         "1. Un péptido.",
         "True",
         "2024bir6. ¿La hormona oxitocina es?:"
        ],
        [
         "21",
         "2024",
         "bir",
         "6. ¿La hormona oxitocina es?:",
         "2. Una amina.",
         "False",
         "2024bir6. ¿La hormona oxitocina es?:"
        ],
        [
         "22",
         "2024",
         "bir",
         "6. ¿La hormona oxitocina es?:",
         "3. Un esteroide.",
         "False",
         "2024bir6. ¿La hormona oxitocina es?:"
        ],
        [
         "23",
         "2024",
         "bir",
         "6. ¿La hormona oxitocina es?:",
         "4. Un glúcido.",
         "False",
         "2024bir6. ¿La hormona oxitocina es?:"
        ],
        [
         "24",
         "2024",
         "bir",
         "7. De las siguientes moléculas, ¿cuál actúa como señal anorexigénica?:",
         "1. Neuropéptido Y.",
         "False",
         "2024bir7. De las siguientes moléculas, ¿cuál actúa como señal anorexigénica?:"
        ],
        [
         "25",
         "2024",
         "bir",
         "7. De las siguientes moléculas, ¿cuál actúa como señal anorexigénica?:",
         "2. Grelina.",
         "False",
         "2024bir7. De las siguientes moléculas, ¿cuál actúa como señal anorexigénica?:"
        ],
        [
         "26",
         "2024",
         "bir",
         "7. De las siguientes moléculas, ¿cuál actúa como señal anorexigénica?:",
         "3. Leptina.",
         "True",
         "2024bir7. De las siguientes moléculas, ¿cuál actúa como señal anorexigénica?:"
        ],
        [
         "27",
         "2024",
         "bir",
         "7. De las siguientes moléculas, ¿cuál actúa como señal anorexigénica?:",
         "4. Proteína relacionada con agutí (AGRP).",
         "False",
         "2024bir7. De las siguientes moléculas, ¿cuál actúa como señal anorexigénica?:"
        ],
        [
         "28",
         "2024",
         "bir",
         "8. La insulina:",
         "1. Aumenta la lipolisis.",
         "False",
         "2024bir8. La insulina:"
        ],
        [
         "29",
         "2024",
         "bir",
         "8. La insulina:",
         "2. Disminuye la síntesis de proteínas.",
         "False",
         "2024bir8. La insulina:"
        ],
        [
         "30",
         "2024",
         "bir",
         "8. La insulina:",
         "3. Disminuye la formación de glucógeno.",
         "False",
         "2024bir8. La insulina:"
        ],
        [
         "31",
         "2024",
         "bir",
         "8. La insulina:",
         "4. Disminuye la gluconeogénesis.",
         "True",
         "2024bir8. La insulina:"
        ],
        [
         "32",
         "2024",
         "bir",
         "9. La secreción de glucagón es inhibida por:",
         "1. Somatostatina.",
         "True",
         "2024bir9. La secreción de glucagón es inhibida por:"
        ],
        [
         "33",
         "2024",
         "bir",
         "9. La secreción de glucagón es inhibida por:",
         "2. Aumento de aminoácidos en sangre.",
         "False",
         "2024bir9. La secreción de glucagón es inhibida por:"
        ],
        [
         "34",
         "2024",
         "bir",
         "9. La secreción de glucagón es inhibida por:",
         "3. Disminución de glucosa en sangre.",
         "False",
         "2024bir9. La secreción de glucagón es inhibida por:"
        ],
        [
         "35",
         "2024",
         "bir",
         "9. La secreción de glucagón es inhibida por:",
         "4. Ejercicio físico.",
         "False",
         "2024bir9. La secreción de glucagón es inhibida por:"
        ],
        [
         "36",
         "2024",
         "bir",
         "10. En la homeostasis del calcio y el fosfato interaccionan estrechamente dos hormonas:",
         "1. Cortisol y vasopresina.",
         "False",
         "2024bir10. En la homeostasis del calcio y el fosfato interaccionan estrechamente dos hormonas:"
        ],
        [
         "37",
         "2024",
         "bir",
         "10. En la homeostasis del calcio y el fosfato interaccionan estrechamente dos hormonas:",
         "2. Hormona estimulante del tiroides y aldosterona.",
         "False",
         "2024bir10. En la homeostasis del calcio y el fosfato interaccionan estrechamente dos hormonas:"
        ],
        [
         "38",
         "2024",
         "bir",
         "10. En la homeostasis del calcio y el fosfato interaccionan estrechamente dos hormonas:",
         "3. Hormona paratiroidea y vitamina D.",
         "True",
         "2024bir10. En la homeostasis del calcio y el fosfato interaccionan estrechamente dos hormonas:"
        ],
        [
         "39",
         "2024",
         "bir",
         "10. En la homeostasis del calcio y el fosfato interaccionan estrechamente dos hormonas:",
         "4. Hormona antidiurética y calcitonina.",
         "False",
         "2024bir10. En la homeostasis del calcio y el fosfato interaccionan estrechamente dos hormonas:"
        ],
        [
         "40",
         "2024",
         "bir",
         "11. La gonadotropina coriónica:",
         "1. Es un esteroide.",
         "False",
         "2024bir11. La gonadotropina coriónica:"
        ],
        [
         "41",
         "2024",
         "bir",
         "11. La gonadotropina coriónica:",
         "2. Se secreta por la corteza suprarrenal fetal.",
         "False",
         "2024bir11. La gonadotropina coriónica:"
        ],
        [
         "42",
         "2024",
         "bir",
         "11. La gonadotropina coriónica:",
         "3. Estimula la secreción de progesterona y estrógenos.",
         "True",
         "2024bir11. La gonadotropina coriónica:"
        ],
        [
         "43",
         "2024",
         "bir",
         "11. La gonadotropina coriónica:",
         "4. Comienza a ser secretada tras la involución del cuerpo lúteo.",
         "False",
         "2024bir11. La gonadotropina coriónica:"
        ],
        [
         "44",
         "2024",
         "bir",
         "12. En la fase de despolarización rápida (fase0) del potencial de acción cardíaco, el principal ion que entra a la célula es:",
         "1. Ca2+.",
         "False",
         "2024bir12. En la fase de despolarización rápida (fase0) del potencial de acción cardíaco, el principal ion que entra a la célula es:"
        ],
        [
         "45",
         "2024",
         "bir",
         "12. En la fase de despolarización rápida (fase0) del potencial de acción cardíaco, el principal ion que entra a la célula es:",
         "2. K+.",
         "False",
         "2024bir12. En la fase de despolarización rápida (fase0) del potencial de acción cardíaco, el principal ion que entra a la célula es:"
        ],
        [
         "46",
         "2024",
         "bir",
         "12. En la fase de despolarización rápida (fase0) del potencial de acción cardíaco, el principal ion que entra a la célula es:",
         "3. Na+.",
         "True",
         "2024bir12. En la fase de despolarización rápida (fase0) del potencial de acción cardíaco, el principal ion que entra a la célula es:"
        ],
        [
         "47",
         "2024",
         "bir",
         "12. En la fase de despolarización rápida (fase0) del potencial de acción cardíaco, el principal ion que entra a la célula es:",
         "4. Mg2+.",
         "False",
         "2024bir12. En la fase de despolarización rápida (fase0) del potencial de acción cardíaco, el principal ion que entra a la célula es:"
        ],
        [
         "48",
         "2024",
         "bir",
         "13. ¿Cuál es la secuencia correcta del potencial de acción en el corazón?:",
         "1. Nodo sinoauricular → Haz de His → Nodo auriculoventricular → Fibras de  Purkinje.",
         "False",
         "2024bir13. ¿Cuál es la secuencia correcta del potencial de acción en el corazón?:"
        ],
        [
         "49",
         "2024",
         "bir",
         "13. ¿Cuál es la secuencia correcta del potencial de acción en el corazón?:",
         "2. Nodo sinoauricular → Nodo auriculoventricular → Haz de His → Fibras de Purkinje.",
         "True",
         "2024bir13. ¿Cuál es la secuencia correcta del potencial de acción en el corazón?:"
        ]
       ],
       "shape": {
        "columns": 6,
        "rows": 24281
       }
      },
      "text/html": [
       "<div>\n",
       "<style scoped>\n",
       "    .dataframe tbody tr th:only-of-type {\n",
       "        vertical-align: middle;\n",
       "    }\n",
       "\n",
       "    .dataframe tbody tr th {\n",
       "        vertical-align: top;\n",
       "    }\n",
       "\n",
       "    .dataframe thead th {\n",
       "        text-align: right;\n",
       "    }\n",
       "</style>\n",
       "<table border=\"1\" class=\"dataframe\">\n",
       "  <thead>\n",
       "    <tr style=\"text-align: right;\">\n",
       "      <th></th>\n",
       "      <th>year_name</th>\n",
       "      <th>exam_type</th>\n",
       "      <th>question</th>\n",
       "      <th>option_text</th>\n",
       "      <th>is_correct</th>\n",
       "      <th>index</th>\n",
       "    </tr>\n",
       "  </thead>\n",
       "  <tbody>\n",
       "    <tr>\n",
       "      <th>0</th>\n",
       "      <td>2024</td>\n",
       "      <td>bir</td>\n",
       "      <td>1. La barrera hematoencefálica:</td>\n",
       "      <td>1. Es permeable a todas las sustancias present...</td>\n",
       "      <td>False</td>\n",
       "      <td>2024bir1. La barrera hematoencefálica:</td>\n",
       "    </tr>\n",
       "    <tr>\n",
       "      <th>1</th>\n",
       "      <td>2024</td>\n",
       "      <td>bir</td>\n",
       "      <td>1. La barrera hematoencefálica:</td>\n",
       "      <td>2. Es permeable al O2 y al CO2.</td>\n",
       "      <td>True</td>\n",
       "      <td>2024bir1. La barrera hematoencefálica:</td>\n",
       "    </tr>\n",
       "    <tr>\n",
       "      <th>2</th>\n",
       "      <td>2024</td>\n",
       "      <td>bir</td>\n",
       "      <td>1. La barrera hematoencefálica:</td>\n",
       "      <td>3. Es impermeable al etanol.</td>\n",
       "      <td>False</td>\n",
       "      <td>2024bir1. La barrera hematoencefálica:</td>\n",
       "    </tr>\n",
       "    <tr>\n",
       "      <th>3</th>\n",
       "      <td>2024</td>\n",
       "      <td>bir</td>\n",
       "      <td>1. La barrera hematoencefálica:</td>\n",
       "      <td>4. Es impermeable al agua.</td>\n",
       "      <td>False</td>\n",
       "      <td>2024bir1. La barrera hematoencefálica:</td>\n",
       "    </tr>\n",
       "    <tr>\n",
       "      <th>4</th>\n",
       "      <td>2024</td>\n",
       "      <td>bir</td>\n",
       "      <td>2. El espacio subaracnoideo se encuentra:</td>\n",
       "      <td>1. Entre la aracnoides y la duramadre.</td>\n",
       "      <td>False</td>\n",
       "      <td>2024bir2. El espacio subaracnoideo se encuentra:</td>\n",
       "    </tr>\n",
       "    <tr>\n",
       "      <th>...</th>\n",
       "      <td>...</td>\n",
       "      <td>...</td>\n",
       "      <td>...</td>\n",
       "      <td>...</td>\n",
       "      <td>...</td>\n",
       "      <td>...</td>\n",
       "    </tr>\n",
       "    <tr>\n",
       "      <th>24276</th>\n",
       "      <td>2013</td>\n",
       "      <td>bir</td>\n",
       "      <td>235. En la electroforesis de hemoglobina en ac...</td>\n",
       "      <td>1. Se emplean como colorantes el Rojo Neutro o...</td>\n",
       "      <td>False</td>\n",
       "      <td>2013bir235. En la electroforesis de hemoglobin...</td>\n",
       "    </tr>\n",
       "    <tr>\n",
       "      <th>24277</th>\n",
       "      <td>2013</td>\n",
       "      <td>bir</td>\n",
       "      <td>235. En la electroforesis de hemoglobina en ac...</td>\n",
       "      <td>2. Se obtienen tres fraccione s diferenciadas:...</td>\n",
       "      <td>True</td>\n",
       "      <td>2013bir235. En la electroforesis de hemoglobin...</td>\n",
       "    </tr>\n",
       "    <tr>\n",
       "      <th>24278</th>\n",
       "      <td>2013</td>\n",
       "      <td>bir</td>\n",
       "      <td>235. En la electroforesis de hemoglobina en ac...</td>\n",
       "      <td>3. La fracción mayoritaria es la HbA2.</td>\n",
       "      <td>False</td>\n",
       "      <td>2013bir235. En la electroforesis de hemoglobin...</td>\n",
       "    </tr>\n",
       "    <tr>\n",
       "      <th>24279</th>\n",
       "      <td>2013</td>\n",
       "      <td>bir</td>\n",
       "      <td>235. En la electroforesis de hemoglobina en ac...</td>\n",
       "      <td>4. Se obtiene el hemolizado empleando CINH4.</td>\n",
       "      <td>False</td>\n",
       "      <td>2013bir235. En la electroforesis de hemoglobin...</td>\n",
       "    </tr>\n",
       "    <tr>\n",
       "      <th>24280</th>\n",
       "      <td>2013</td>\n",
       "      <td>bir</td>\n",
       "      <td>235. En la electroforesis de hemoglobina en ac...</td>\n",
       "      <td>5. Se emplea como decolorante Acetona-Etanol (...</td>\n",
       "      <td>False</td>\n",
       "      <td>2013bir235. En la electroforesis de hemoglobin...</td>\n",
       "    </tr>\n",
       "  </tbody>\n",
       "</table>\n",
       "<p>24281 rows × 6 columns</p>\n",
       "</div>"
      ],
      "text/plain": [
       "       year_name exam_type                                           question  \\\n",
       "0           2024       bir                    1. La barrera hematoencefálica:   \n",
       "1           2024       bir                    1. La barrera hematoencefálica:   \n",
       "2           2024       bir                    1. La barrera hematoencefálica:   \n",
       "3           2024       bir                    1. La barrera hematoencefálica:   \n",
       "4           2024       bir          2. El espacio subaracnoideo se encuentra:   \n",
       "...          ...       ...                                                ...   \n",
       "24276       2013       bir  235. En la electroforesis de hemoglobina en ac...   \n",
       "24277       2013       bir  235. En la electroforesis de hemoglobina en ac...   \n",
       "24278       2013       bir  235. En la electroforesis de hemoglobina en ac...   \n",
       "24279       2013       bir  235. En la electroforesis de hemoglobina en ac...   \n",
       "24280       2013       bir  235. En la electroforesis de hemoglobina en ac...   \n",
       "\n",
       "                                             option_text  is_correct  \\\n",
       "0      1. Es permeable a todas las sustancias present...       False   \n",
       "1                        2. Es permeable al O2 y al CO2.        True   \n",
       "2                           3. Es impermeable al etanol.       False   \n",
       "3                             4. Es impermeable al agua.       False   \n",
       "4                 1. Entre la aracnoides y la duramadre.       False   \n",
       "...                                                  ...         ...   \n",
       "24276  1. Se emplean como colorantes el Rojo Neutro o...       False   \n",
       "24277  2. Se obtienen tres fraccione s diferenciadas:...        True   \n",
       "24278             3. La fracción mayoritaria es la HbA2.       False   \n",
       "24279       4. Se obtiene el hemolizado empleando CINH4.       False   \n",
       "24280  5. Se emplea como decolorante Acetona-Etanol (...       False   \n",
       "\n",
       "                                                   index  \n",
       "0                 2024bir1. La barrera hematoencefálica:  \n",
       "1                 2024bir1. La barrera hematoencefálica:  \n",
       "2                 2024bir1. La barrera hematoencefálica:  \n",
       "3                 2024bir1. La barrera hematoencefálica:  \n",
       "4       2024bir2. El espacio subaracnoideo se encuentra:  \n",
       "...                                                  ...  \n",
       "24276  2013bir235. En la electroforesis de hemoglobin...  \n",
       "24277  2013bir235. En la electroforesis de hemoglobin...  \n",
       "24278  2013bir235. En la electroforesis de hemoglobin...  \n",
       "24279  2013bir235. En la electroforesis de hemoglobin...  \n",
       "24280  2013bir235. En la electroforesis de hemoglobin...  \n",
       "\n",
       "[24281 rows x 6 columns]"
      ]
     },
     "execution_count": 88,
     "metadata": {},
     "output_type": "execute_result"
    }
   ],
   "source": [
    "exams_df_group = exams_df.groupby(\"index\")\n",
    "exams_df_group.head()"
   ]
  },
  {
   "cell_type": "code",
   "execution_count": 89,
   "metadata": {},
   "outputs": [],
   "source": [
    "col_names = [\"year\", \"exam\", \"question\", \"option1\", \"option2\", \"option3\", \"option4\", \"option5\", \"correct\"]\n",
    "exams_df_pivoted = pd.DataFrame(columns= col_names)"
   ]
  },
  {
   "cell_type": "code",
   "execution_count": 90,
   "metadata": {},
   "outputs": [],
   "source": [
    "n_question: int = 0\n",
    "quest_dict = {}\n",
    "for _, group in exams_df_group:\n",
    "    question: list = [group[\"year_name\"].iloc[0], group[\"exam_type\"].iloc[0], group[\"question\"].iloc[0]]\n",
    "    for row_tuple in group.itertuples():\n",
    "        question.append(row_tuple[4])\n",
    "    if group[\"year_name\"].iloc[0] > 2014:\n",
    "        question.append(\"blank\")\n",
    "    correct = ([i+1 for i, boolean in enumerate(group[\"is_correct\"]) if boolean] or [0])[0]\n",
    "    question.append(correct)\n",
    "    if len(question) > 9:\n",
    "        question.append(\"0\")\n",
    "    exams_df_pivoted.loc[n_question] = [str(x) for x in question]\n",
    "    n_question += 1"
   ]
  },
  {
   "cell_type": "code",
   "execution_count": 91,
   "metadata": {},
   "outputs": [
    {
     "data": {
      "application/vnd.microsoft.datawrangler.viewer.v0+json": {
       "columns": [
        {
         "name": "index",
         "rawType": "int64",
         "type": "integer"
        },
        {
         "name": "year",
         "rawType": "object",
         "type": "string"
        },
        {
         "name": "exam",
         "rawType": "object",
         "type": "string"
        },
        {
         "name": "question",
         "rawType": "object",
         "type": "string"
        },
        {
         "name": "option1",
         "rawType": "object",
         "type": "string"
        },
        {
         "name": "option2",
         "rawType": "object",
         "type": "string"
        },
        {
         "name": "option3",
         "rawType": "object",
         "type": "string"
        },
        {
         "name": "option4",
         "rawType": "object",
         "type": "string"
        },
        {
         "name": "option5",
         "rawType": "object",
         "type": "string"
        },
        {
         "name": "correct",
         "rawType": "object",
         "type": "string"
        }
       ],
       "conversionMethod": "pd.DataFrame",
       "ref": "509b7e5f-c3c8-47a7-916f-00f27bb86bf4",
       "rows": [
        [
         "0",
         "2005",
         "bir",
         "1. Un agente que está impidiendo la división bacteriana actúa como:",
         "1. Antibiótico.",
         "2. Bactericida.",
         "3. Bacteriostático.",
         "4. Desinfectante.",
         "5. Esterilizante.",
         "3"
        ],
        [
         "1",
         "2005",
         "bir",
         "10. Los transposones bacterianos:",
         "1. Poseen replicación autónoma.",
         "2. Son un tipo de propfago.",
         "3. No tienen secuencias de inserción.",
         "4. Son plásmidos especializados.",
         "5. Pueden incluir genes de  resistencia a antibióticos.",
         "5"
        ],
        [
         "2",
         "2005",
         "bir",
         "100. La fibronectina es uno de los componentes de:",
         "1. La matriz extracelular.",
         "2. El citoesqueleto.",
         "3. La lámina nuclear.",
         "4. Las uniones estrechas.",
         "5. Los complejos de poro nucleares.",
         "1"
        ],
        [
         "3",
         "2005",
         "bir",
         "101. En una fibra nerviosa mielínica, la conducción de potenciales de acción es:",
         "1. Con decremento.",
         "2. Saltatoria.",
         "3. Más lenta que en una fibra amielínica.",
         "4. De tipo electrotónico.",
         "5. Más lenta cuanto más gruesa sea la fibra.",
         "2"
        ],
        [
         "4",
         "2005",
         "bir",
         "102. Los potenciales de acción se dan:",
         "1. Cuando la membrana se hiperpolariza.",
         "2. Tras un aumento transitorio de la permeabilidad al sodio.",
         "3. Por una disminución de la permeabilidad al potasio.",
         "4. Con una amplitud variable según la fuerza del estímulo.",
         "5. Sólo en las neuronas.",
         "2"
        ]
       ],
       "shape": {
        "columns": 9,
        "rows": 5
       }
      },
      "text/html": [
       "<div>\n",
       "<style scoped>\n",
       "    .dataframe tbody tr th:only-of-type {\n",
       "        vertical-align: middle;\n",
       "    }\n",
       "\n",
       "    .dataframe tbody tr th {\n",
       "        vertical-align: top;\n",
       "    }\n",
       "\n",
       "    .dataframe thead th {\n",
       "        text-align: right;\n",
       "    }\n",
       "</style>\n",
       "<table border=\"1\" class=\"dataframe\">\n",
       "  <thead>\n",
       "    <tr style=\"text-align: right;\">\n",
       "      <th></th>\n",
       "      <th>year</th>\n",
       "      <th>exam</th>\n",
       "      <th>question</th>\n",
       "      <th>option1</th>\n",
       "      <th>option2</th>\n",
       "      <th>option3</th>\n",
       "      <th>option4</th>\n",
       "      <th>option5</th>\n",
       "      <th>correct</th>\n",
       "    </tr>\n",
       "  </thead>\n",
       "  <tbody>\n",
       "    <tr>\n",
       "      <th>0</th>\n",
       "      <td>2005</td>\n",
       "      <td>bir</td>\n",
       "      <td>1. Un agente que está impidiendo la división b...</td>\n",
       "      <td>1. Antibiótico.</td>\n",
       "      <td>2. Bactericida.</td>\n",
       "      <td>3. Bacteriostático.</td>\n",
       "      <td>4. Desinfectante.</td>\n",
       "      <td>5. Esterilizante.</td>\n",
       "      <td>3</td>\n",
       "    </tr>\n",
       "    <tr>\n",
       "      <th>1</th>\n",
       "      <td>2005</td>\n",
       "      <td>bir</td>\n",
       "      <td>10. Los transposones bacterianos:</td>\n",
       "      <td>1. Poseen replicación autónoma.</td>\n",
       "      <td>2. Son un tipo de propfago.</td>\n",
       "      <td>3. No tienen secuencias de inserción.</td>\n",
       "      <td>4. Son plásmidos especializados.</td>\n",
       "      <td>5. Pueden incluir genes de  resistencia a anti...</td>\n",
       "      <td>5</td>\n",
       "    </tr>\n",
       "    <tr>\n",
       "      <th>2</th>\n",
       "      <td>2005</td>\n",
       "      <td>bir</td>\n",
       "      <td>100. La fibronectina es uno de los componentes...</td>\n",
       "      <td>1. La matriz extracelular.</td>\n",
       "      <td>2. El citoesqueleto.</td>\n",
       "      <td>3. La lámina nuclear.</td>\n",
       "      <td>4. Las uniones estrechas.</td>\n",
       "      <td>5. Los complejos de poro nucleares.</td>\n",
       "      <td>1</td>\n",
       "    </tr>\n",
       "    <tr>\n",
       "      <th>3</th>\n",
       "      <td>2005</td>\n",
       "      <td>bir</td>\n",
       "      <td>101. En una fibra nerviosa mielínica, la condu...</td>\n",
       "      <td>1. Con decremento.</td>\n",
       "      <td>2. Saltatoria.</td>\n",
       "      <td>3. Más lenta que en una fibra amielínica.</td>\n",
       "      <td>4. De tipo electrotónico.</td>\n",
       "      <td>5. Más lenta cuanto más gruesa sea la fibra.</td>\n",
       "      <td>2</td>\n",
       "    </tr>\n",
       "    <tr>\n",
       "      <th>4</th>\n",
       "      <td>2005</td>\n",
       "      <td>bir</td>\n",
       "      <td>102. Los potenciales de acción se dan:</td>\n",
       "      <td>1. Cuando la membrana se hiperpolariza.</td>\n",
       "      <td>2. Tras un aumento transitorio de la permeabil...</td>\n",
       "      <td>3. Por una disminución de la permeabilidad al ...</td>\n",
       "      <td>4. Con una amplitud variable según la fuerza d...</td>\n",
       "      <td>5. Sólo en las neuronas.</td>\n",
       "      <td>2</td>\n",
       "    </tr>\n",
       "  </tbody>\n",
       "</table>\n",
       "</div>"
      ],
      "text/plain": [
       "   year exam                                           question  \\\n",
       "0  2005  bir  1. Un agente que está impidiendo la división b...   \n",
       "1  2005  bir                  10. Los transposones bacterianos:   \n",
       "2  2005  bir  100. La fibronectina es uno de los componentes...   \n",
       "3  2005  bir  101. En una fibra nerviosa mielínica, la condu...   \n",
       "4  2005  bir             102. Los potenciales de acción se dan:   \n",
       "\n",
       "                                   option1  \\\n",
       "0                          1. Antibiótico.   \n",
       "1          1. Poseen replicación autónoma.   \n",
       "2               1. La matriz extracelular.   \n",
       "3                       1. Con decremento.   \n",
       "4  1. Cuando la membrana se hiperpolariza.   \n",
       "\n",
       "                                             option2  \\\n",
       "0                                    2. Bactericida.   \n",
       "1                        2. Son un tipo de propfago.   \n",
       "2                               2. El citoesqueleto.   \n",
       "3                                     2. Saltatoria.   \n",
       "4  2. Tras un aumento transitorio de la permeabil...   \n",
       "\n",
       "                                             option3  \\\n",
       "0                                3. Bacteriostático.   \n",
       "1              3. No tienen secuencias de inserción.   \n",
       "2                              3. La lámina nuclear.   \n",
       "3          3. Más lenta que en una fibra amielínica.   \n",
       "4  3. Por una disminución de la permeabilidad al ...   \n",
       "\n",
       "                                             option4  \\\n",
       "0                                  4. Desinfectante.   \n",
       "1                   4. Son plásmidos especializados.   \n",
       "2                          4. Las uniones estrechas.   \n",
       "3                          4. De tipo electrotónico.   \n",
       "4  4. Con una amplitud variable según la fuerza d...   \n",
       "\n",
       "                                             option5 correct  \n",
       "0                                  5. Esterilizante.       3  \n",
       "1  5. Pueden incluir genes de  resistencia a anti...       5  \n",
       "2                5. Los complejos de poro nucleares.       1  \n",
       "3       5. Más lenta cuanto más gruesa sea la fibra.       2  \n",
       "4                           5. Sólo en las neuronas.       2  "
      ]
     },
     "execution_count": 91,
     "metadata": {},
     "output_type": "execute_result"
    }
   ],
   "source": [
    "exams_df_pivoted.head()"
   ]
  },
  {
   "cell_type": "code",
   "execution_count": 95,
   "metadata": {},
   "outputs": [],
   "source": [
    "exams_df_clean = exams_df_pivoted"
   ]
  },
  {
   "cell_type": "code",
   "execution_count": 96,
   "metadata": {},
   "outputs": [
    {
     "data": {
      "application/vnd.microsoft.datawrangler.viewer.v0+json": {
       "columns": [
        {
         "name": "index",
         "rawType": "int64",
         "type": "integer"
        },
        {
         "name": "year",
         "rawType": "int32",
         "type": "integer"
        },
        {
         "name": "exam",
         "rawType": "object",
         "type": "string"
        },
        {
         "name": "question",
         "rawType": "object",
         "type": "string"
        },
        {
         "name": "option1",
         "rawType": "object",
         "type": "string"
        },
        {
         "name": "option2",
         "rawType": "object",
         "type": "string"
        },
        {
         "name": "option3",
         "rawType": "object",
         "type": "string"
        },
        {
         "name": "option4",
         "rawType": "object",
         "type": "string"
        },
        {
         "name": "option5",
         "rawType": "object",
         "type": "string"
        },
        {
         "name": "correct",
         "rawType": "int32",
         "type": "integer"
        },
        {
         "name": "num_q",
         "rawType": "int32",
         "type": "integer"
        }
       ],
       "conversionMethod": "pd.DataFrame",
       "ref": "dcf33fe3-a4d1-4108-9939-423e66bacd3b",
       "rows": [
        [
         "0",
         "2005",
         "bir",
         "1. Un agente que está impidiendo la división bacteriana actúa como:",
         "1. Antibiótico.",
         "2. Bactericida.",
         "3. Bacteriostático.",
         "4. Desinfectante.",
         "5. Esterilizante.",
         "3",
         "1"
        ],
        [
         "1",
         "2005",
         "bir",
         "10. Los transposones bacterianos:",
         "1. Poseen replicación autónoma.",
         "2. Son un tipo de propfago.",
         "3. No tienen secuencias de inserción.",
         "4. Son plásmidos especializados.",
         "5. Pueden incluir genes de  resistencia a antibióticos.",
         "5",
         "10"
        ],
        [
         "2",
         "2005",
         "bir",
         "100. La fibronectina es uno de los componentes de:",
         "1. La matriz extracelular.",
         "2. El citoesqueleto.",
         "3. La lámina nuclear.",
         "4. Las uniones estrechas.",
         "5. Los complejos de poro nucleares.",
         "1",
         "100"
        ],
        [
         "3",
         "2005",
         "bir",
         "101. En una fibra nerviosa mielínica, la conducción de potenciales de acción es:",
         "1. Con decremento.",
         "2. Saltatoria.",
         "3. Más lenta que en una fibra amielínica.",
         "4. De tipo electrotónico.",
         "5. Más lenta cuanto más gruesa sea la fibra.",
         "2",
         "101"
        ],
        [
         "4",
         "2005",
         "bir",
         "102. Los potenciales de acción se dan:",
         "1. Cuando la membrana se hiperpolariza.",
         "2. Tras un aumento transitorio de la permeabilidad al sodio.",
         "3. Por una disminución de la permeabilidad al potasio.",
         "4. Con una amplitud variable según la fuerza del estímulo.",
         "5. Sólo en las neuronas.",
         "2",
         "102"
        ]
       ],
       "shape": {
        "columns": 10,
        "rows": 5
       }
      },
      "text/html": [
       "<div>\n",
       "<style scoped>\n",
       "    .dataframe tbody tr th:only-of-type {\n",
       "        vertical-align: middle;\n",
       "    }\n",
       "\n",
       "    .dataframe tbody tr th {\n",
       "        vertical-align: top;\n",
       "    }\n",
       "\n",
       "    .dataframe thead th {\n",
       "        text-align: right;\n",
       "    }\n",
       "</style>\n",
       "<table border=\"1\" class=\"dataframe\">\n",
       "  <thead>\n",
       "    <tr style=\"text-align: right;\">\n",
       "      <th></th>\n",
       "      <th>year</th>\n",
       "      <th>exam</th>\n",
       "      <th>question</th>\n",
       "      <th>option1</th>\n",
       "      <th>option2</th>\n",
       "      <th>option3</th>\n",
       "      <th>option4</th>\n",
       "      <th>option5</th>\n",
       "      <th>correct</th>\n",
       "      <th>num_q</th>\n",
       "    </tr>\n",
       "  </thead>\n",
       "  <tbody>\n",
       "    <tr>\n",
       "      <th>0</th>\n",
       "      <td>2005</td>\n",
       "      <td>bir</td>\n",
       "      <td>1. Un agente que está impidiendo la división b...</td>\n",
       "      <td>1. Antibiótico.</td>\n",
       "      <td>2. Bactericida.</td>\n",
       "      <td>3. Bacteriostático.</td>\n",
       "      <td>4. Desinfectante.</td>\n",
       "      <td>5. Esterilizante.</td>\n",
       "      <td>3</td>\n",
       "      <td>1</td>\n",
       "    </tr>\n",
       "    <tr>\n",
       "      <th>1</th>\n",
       "      <td>2005</td>\n",
       "      <td>bir</td>\n",
       "      <td>10. Los transposones bacterianos:</td>\n",
       "      <td>1. Poseen replicación autónoma.</td>\n",
       "      <td>2. Son un tipo de propfago.</td>\n",
       "      <td>3. No tienen secuencias de inserción.</td>\n",
       "      <td>4. Son plásmidos especializados.</td>\n",
       "      <td>5. Pueden incluir genes de  resistencia a anti...</td>\n",
       "      <td>5</td>\n",
       "      <td>10</td>\n",
       "    </tr>\n",
       "    <tr>\n",
       "      <th>2</th>\n",
       "      <td>2005</td>\n",
       "      <td>bir</td>\n",
       "      <td>100. La fibronectina es uno de los componentes...</td>\n",
       "      <td>1. La matriz extracelular.</td>\n",
       "      <td>2. El citoesqueleto.</td>\n",
       "      <td>3. La lámina nuclear.</td>\n",
       "      <td>4. Las uniones estrechas.</td>\n",
       "      <td>5. Los complejos de poro nucleares.</td>\n",
       "      <td>1</td>\n",
       "      <td>100</td>\n",
       "    </tr>\n",
       "    <tr>\n",
       "      <th>3</th>\n",
       "      <td>2005</td>\n",
       "      <td>bir</td>\n",
       "      <td>101. En una fibra nerviosa mielínica, la condu...</td>\n",
       "      <td>1. Con decremento.</td>\n",
       "      <td>2. Saltatoria.</td>\n",
       "      <td>3. Más lenta que en una fibra amielínica.</td>\n",
       "      <td>4. De tipo electrotónico.</td>\n",
       "      <td>5. Más lenta cuanto más gruesa sea la fibra.</td>\n",
       "      <td>2</td>\n",
       "      <td>101</td>\n",
       "    </tr>\n",
       "    <tr>\n",
       "      <th>4</th>\n",
       "      <td>2005</td>\n",
       "      <td>bir</td>\n",
       "      <td>102. Los potenciales de acción se dan:</td>\n",
       "      <td>1. Cuando la membrana se hiperpolariza.</td>\n",
       "      <td>2. Tras un aumento transitorio de la permeabil...</td>\n",
       "      <td>3. Por una disminución de la permeabilidad al ...</td>\n",
       "      <td>4. Con una amplitud variable según la fuerza d...</td>\n",
       "      <td>5. Sólo en las neuronas.</td>\n",
       "      <td>2</td>\n",
       "      <td>102</td>\n",
       "    </tr>\n",
       "  </tbody>\n",
       "</table>\n",
       "</div>"
      ],
      "text/plain": [
       "   year exam                                           question  \\\n",
       "0  2005  bir  1. Un agente que está impidiendo la división b...   \n",
       "1  2005  bir                  10. Los transposones bacterianos:   \n",
       "2  2005  bir  100. La fibronectina es uno de los componentes...   \n",
       "3  2005  bir  101. En una fibra nerviosa mielínica, la condu...   \n",
       "4  2005  bir             102. Los potenciales de acción se dan:   \n",
       "\n",
       "                                   option1  \\\n",
       "0                          1. Antibiótico.   \n",
       "1          1. Poseen replicación autónoma.   \n",
       "2               1. La matriz extracelular.   \n",
       "3                       1. Con decremento.   \n",
       "4  1. Cuando la membrana se hiperpolariza.   \n",
       "\n",
       "                                             option2  \\\n",
       "0                                    2. Bactericida.   \n",
       "1                        2. Son un tipo de propfago.   \n",
       "2                               2. El citoesqueleto.   \n",
       "3                                     2. Saltatoria.   \n",
       "4  2. Tras un aumento transitorio de la permeabil...   \n",
       "\n",
       "                                             option3  \\\n",
       "0                                3. Bacteriostático.   \n",
       "1              3. No tienen secuencias de inserción.   \n",
       "2                              3. La lámina nuclear.   \n",
       "3          3. Más lenta que en una fibra amielínica.   \n",
       "4  3. Por una disminución de la permeabilidad al ...   \n",
       "\n",
       "                                             option4  \\\n",
       "0                                  4. Desinfectante.   \n",
       "1                   4. Son plásmidos especializados.   \n",
       "2                          4. Las uniones estrechas.   \n",
       "3                          4. De tipo electrotónico.   \n",
       "4  4. Con una amplitud variable según la fuerza d...   \n",
       "\n",
       "                                             option5  correct  num_q  \n",
       "0                                  5. Esterilizante.        3      1  \n",
       "1  5. Pueden incluir genes de  resistencia a anti...        5     10  \n",
       "2                5. Los complejos de poro nucleares.        1    100  \n",
       "3       5. Más lenta cuanto más gruesa sea la fibra.        2    101  \n",
       "4                           5. Sólo en las neuronas.        2    102  "
      ]
     },
     "execution_count": 96,
     "metadata": {},
     "output_type": "execute_result"
    }
   ],
   "source": [
    "exams_df_clean[\"year\"] = exams_df_clean[\"year\"].astype(int)\n",
    "exams_df_clean[\"correct\"] = exams_df_clean[\"correct\"].astype(int)\n",
    "exams_df_clean[\"num_q\"] = exams_df_clean[\"question\"].apply(lambda x: x.split(\".\", 1)[0])\n",
    "exams_df_clean[\"num_q\"] = exams_df_clean[\"num_q\"].astype(int)\n",
    "exams_df_clean[\"option5\"] = exams_df_clean[\"option5\"].replace(\"blank\", np.nan)\n",
    "exams_df_clean.head()"
   ]
  },
  {
   "cell_type": "code",
   "execution_count": 97,
   "metadata": {},
   "outputs": [
    {
     "name": "stdout",
     "output_type": "stream",
     "text": [
      "DataFrame validated\n"
     ]
    }
   ],
   "source": [
    "validate_option_1 = (exams_df_clean[\"option1\"].str.startswith(\"1\")).all()\n",
    "validate_option_2 = (exams_df_clean[\"option2\"].str.startswith(\"2\")).all()\n",
    "validate_option_3 = (exams_df_clean[\"option3\"].str.startswith(\"3\")).all()\n",
    "validate_option_4 = (exams_df_clean[\"option4\"].str.startswith(\"4\")).all()\n",
    "validate_option_5 = (exams_df_clean[\"option5\"][exams_df_clean[\"option5\"].notna()].str.startswith(\"5\")).all()\n",
    "\n",
    "if not all([validate_option_1, validate_option_2, validate_option_3, validate_option_4, validate_option_5]):\n",
    "    raise Warning\n",
    "print(\"DataFrame validated\")"
   ]
  },
  {
   "cell_type": "code",
   "execution_count": null,
   "metadata": {},
   "outputs": [],
   "source": []
  }
 ],
 "metadata": {
  "kernelspec": {
   "display_name": "bir_etl",
   "language": "python",
   "name": "python3"
  },
  "language_info": {
   "codemirror_mode": {
    "name": "ipython",
    "version": 3
   },
   "file_extension": ".py",
   "mimetype": "text/x-python",
   "name": "python",
   "nbconvert_exporter": "python",
   "pygments_lexer": "ipython3",
   "version": "3.12.7"
  }
 },
 "nbformat": 4,
 "nbformat_minor": 2
}
