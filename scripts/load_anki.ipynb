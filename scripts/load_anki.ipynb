{
 "cells": [
  {
   "cell_type": "code",
   "execution_count": null,
   "metadata": {},
   "outputs": [],
   "source": [
    "import pandas as pd\n",
    "import json\n",
    "import urllib.request\n",
    "import sqlite3"
   ]
  },
  {
   "cell_type": "code",
   "execution_count": 2,
   "metadata": {},
   "outputs": [],
   "source": [
    "# Copied from anki connect site\n",
    "def request(action: str, **params) -> dict:\n",
    "    return {\"action\": action, \"params\": params, \"version\": 6}\n",
    "\n",
    "\n",
    "# Copied from anki connect site\n",
    "def invoke(action: str, **params):\n",
    "    requestJson = json.dumps(request(action, **params)).encode(\"utf-8\")\n",
    "    response = json.load(\n",
    "        urllib.request.urlopen(\n",
    "            urllib.request.Request(\"http://127.0.0.1:8765\", requestJson)\n",
    "        )\n",
    "    )\n",
    "    if len(response) != 2:\n",
    "        raise Exception(\"response has an unexpected number of fields\")\n",
    "    if \"error\" not in response:\n",
    "        raise Exception(\"response is missing required error field\")\n",
    "    if \"result\" not in response:\n",
    "        raise Exception(\"response is missing required result field\")\n",
    "    if response[\"error\"] is not None:\n",
    "        raise Exception(response[\"error\"])\n",
    "    return response[\"result\"]"
   ]
  },
  {
   "cell_type": "code",
   "execution_count": 11,
   "metadata": {},
   "outputs": [
    {
     "data": {
      "application/vnd.microsoft.datawrangler.viewer.v0+json": {
       "columns": [
        {
         "name": "index",
         "rawType": "int64",
         "type": "integer"
        },
        {
         "name": "year_name",
         "rawType": "int32",
         "type": "integer"
        },
        {
         "name": "exam_type",
         "rawType": "object",
         "type": "string"
        },
        {
         "name": "question",
         "rawType": "object",
         "type": "string"
        },
        {
         "name": "option_text",
         "rawType": "object",
         "type": "string"
        },
        {
         "name": "is_correct",
         "rawType": "bool",
         "type": "boolean"
        },
        {
         "name": "index",
         "rawType": "object",
         "type": "string"
        }
       ],
       "conversionMethod": "pd.DataFrame",
       "ref": "aa3dfe45-d305-46dd-a696-5498e5b26ce6",
       "rows": [
        [
         "0",
         "2024",
         "bir",
         "1. La barrera hematoencefálica:",
         "1. Es permeable a todas las sustancias presentes en el plasma.",
         "False",
         "2024bir1. La barrera hematoencefálica:"
        ],
        [
         "1",
         "2024",
         "bir",
         "1. La barrera hematoencefálica:",
         "2. Es permeable al O2 y al CO2.",
         "True",
         "2024bir1. La barrera hematoencefálica:"
        ],
        [
         "2",
         "2024",
         "bir",
         "1. La barrera hematoencefálica:",
         "3. Es impermeable al etanol.",
         "False",
         "2024bir1. La barrera hematoencefálica:"
        ],
        [
         "3",
         "2024",
         "bir",
         "1. La barrera hematoencefálica:",
         "4. Es impermeable al agua.",
         "False",
         "2024bir1. La barrera hematoencefálica:"
        ],
        [
         "4",
         "2024",
         "bir",
         "2. El espacio subaracnoideo se encuentra:",
         "1. Entre la aracnoides y la duramadre.",
         "False",
         "2024bir2. El espacio subaracnoideo se encuentra:"
        ]
       ],
       "shape": {
        "columns": 6,
        "rows": 5
       }
      },
      "text/html": [
       "<div>\n",
       "<style scoped>\n",
       "    .dataframe tbody tr th:only-of-type {\n",
       "        vertical-align: middle;\n",
       "    }\n",
       "\n",
       "    .dataframe tbody tr th {\n",
       "        vertical-align: top;\n",
       "    }\n",
       "\n",
       "    .dataframe thead th {\n",
       "        text-align: right;\n",
       "    }\n",
       "</style>\n",
       "<table border=\"1\" class=\"dataframe\">\n",
       "  <thead>\n",
       "    <tr style=\"text-align: right;\">\n",
       "      <th></th>\n",
       "      <th>year_name</th>\n",
       "      <th>exam_type</th>\n",
       "      <th>question</th>\n",
       "      <th>option_text</th>\n",
       "      <th>is_correct</th>\n",
       "      <th>index</th>\n",
       "    </tr>\n",
       "  </thead>\n",
       "  <tbody>\n",
       "    <tr>\n",
       "      <th>0</th>\n",
       "      <td>2024</td>\n",
       "      <td>bir</td>\n",
       "      <td>1. La barrera hematoencefálica:</td>\n",
       "      <td>1. Es permeable a todas las sustancias present...</td>\n",
       "      <td>False</td>\n",
       "      <td>2024bir1. La barrera hematoencefálica:</td>\n",
       "    </tr>\n",
       "    <tr>\n",
       "      <th>1</th>\n",
       "      <td>2024</td>\n",
       "      <td>bir</td>\n",
       "      <td>1. La barrera hematoencefálica:</td>\n",
       "      <td>2. Es permeable al O2 y al CO2.</td>\n",
       "      <td>True</td>\n",
       "      <td>2024bir1. La barrera hematoencefálica:</td>\n",
       "    </tr>\n",
       "    <tr>\n",
       "      <th>2</th>\n",
       "      <td>2024</td>\n",
       "      <td>bir</td>\n",
       "      <td>1. La barrera hematoencefálica:</td>\n",
       "      <td>3. Es impermeable al etanol.</td>\n",
       "      <td>False</td>\n",
       "      <td>2024bir1. La barrera hematoencefálica:</td>\n",
       "    </tr>\n",
       "    <tr>\n",
       "      <th>3</th>\n",
       "      <td>2024</td>\n",
       "      <td>bir</td>\n",
       "      <td>1. La barrera hematoencefálica:</td>\n",
       "      <td>4. Es impermeable al agua.</td>\n",
       "      <td>False</td>\n",
       "      <td>2024bir1. La barrera hematoencefálica:</td>\n",
       "    </tr>\n",
       "    <tr>\n",
       "      <th>4</th>\n",
       "      <td>2024</td>\n",
       "      <td>bir</td>\n",
       "      <td>2. El espacio subaracnoideo se encuentra:</td>\n",
       "      <td>1. Entre la aracnoides y la duramadre.</td>\n",
       "      <td>False</td>\n",
       "      <td>2024bir2. El espacio subaracnoideo se encuentra:</td>\n",
       "    </tr>\n",
       "  </tbody>\n",
       "</table>\n",
       "</div>"
      ],
      "text/plain": [
       "   year_name exam_type                                   question  \\\n",
       "0       2024       bir            1. La barrera hematoencefálica:   \n",
       "1       2024       bir            1. La barrera hematoencefálica:   \n",
       "2       2024       bir            1. La barrera hematoencefálica:   \n",
       "3       2024       bir            1. La barrera hematoencefálica:   \n",
       "4       2024       bir  2. El espacio subaracnoideo se encuentra:   \n",
       "\n",
       "                                         option_text  is_correct  \\\n",
       "0  1. Es permeable a todas las sustancias present...       False   \n",
       "1                    2. Es permeable al O2 y al CO2.        True   \n",
       "2                       3. Es impermeable al etanol.       False   \n",
       "3                         4. Es impermeable al agua.       False   \n",
       "4             1. Entre la aracnoides y la duramadre.       False   \n",
       "\n",
       "                                              index  \n",
       "0            2024bir1. La barrera hematoencefálica:  \n",
       "1            2024bir1. La barrera hematoencefálica:  \n",
       "2            2024bir1. La barrera hematoencefálica:  \n",
       "3            2024bir1. La barrera hematoencefálica:  \n",
       "4  2024bir2. El espacio subaracnoideo se encuentra:  "
      ]
     },
     "execution_count": 11,
     "metadata": {},
     "output_type": "execute_result"
    }
   ],
   "source": [
    "db_path = \"../data/clean/bir_warehouse.db\"\n",
    "query: str = \"\"\"\n",
    "SELECT y.year_name, ex.exam_type, q.question, qo.option_text, qo.is_correct\n",
    "FROM questions_options AS qo\n",
    "JOIN questions AS q ON qo.question_id = q.id\n",
    "JOIN year AS y ON q.exam_year = y.id_year\n",
    "JOIN exam AS ex ON q.exam_subject = ex.id_type;\n",
    "\"\"\"\n",
    "\n",
    "con = sqlite3.connect(db_path)\n",
    "\n",
    "exams_df: pd.DataFrame = pd.read_sql(query,con)\n",
    "\n",
    "con.close()\n",
    "\n",
    "exams_df[\"index\"] = exams_df[\"year_name\"] + exams_df[\"exam_type\"] + exams_df[\"question\"]\n",
    "exams_df[\"year_name\"] = exams_df[\"year_name\"].astype(int)\n",
    "exams_df[\"is_correct\"] = exams_df[\"is_correct\"].astype(bool)\n",
    "\n",
    "exams_df.head()"
   ]
  },
  {
   "cell_type": "code",
   "execution_count": 12,
   "metadata": {},
   "outputs": [
    {
     "data": {
      "application/vnd.microsoft.datawrangler.viewer.v0+json": {
       "columns": [
        {
         "name": "index",
         "rawType": "int64",
         "type": "integer"
        },
        {
         "name": "year_name",
         "rawType": "int32",
         "type": "integer"
        },
        {
         "name": "exam_type",
         "rawType": "object",
         "type": "string"
        },
        {
         "name": "question",
         "rawType": "object",
         "type": "string"
        },
        {
         "name": "option_text",
         "rawType": "object",
         "type": "string"
        },
        {
         "name": "is_correct",
         "rawType": "bool",
         "type": "boolean"
        },
        {
         "name": "index",
         "rawType": "object",
         "type": "string"
        }
       ],
       "conversionMethod": "pd.DataFrame",
       "ref": "d170b662-695f-476f-8635-85ae2dde9246",
       "rows": [
        [
         "0",
         "2024",
         "bir",
         "1. La barrera hematoencefálica:",
         "1. Es permeable a todas las sustancias presentes en el plasma.",
         "False",
         "2024bir1. La barrera hematoencefálica:"
        ],
        [
         "1",
         "2024",
         "bir",
         "1. La barrera hematoencefálica:",
         "2. Es permeable al O2 y al CO2.",
         "True",
         "2024bir1. La barrera hematoencefálica:"
        ],
        [
         "2",
         "2024",
         "bir",
         "1. La barrera hematoencefálica:",
         "3. Es impermeable al etanol.",
         "False",
         "2024bir1. La barrera hematoencefálica:"
        ],
        [
         "3",
         "2024",
         "bir",
         "1. La barrera hematoencefálica:",
         "4. Es impermeable al agua.",
         "False",
         "2024bir1. La barrera hematoencefálica:"
        ],
        [
         "4",
         "2024",
         "bir",
         "2. El espacio subaracnoideo se encuentra:",
         "1. Entre la aracnoides y la duramadre.",
         "False",
         "2024bir2. El espacio subaracnoideo se encuentra:"
        ],
        [
         "5",
         "2024",
         "bir",
         "2. El espacio subaracnoideo se encuentra:",
         "2. Entre la aracnoides y la piamadre.",
         "True",
         "2024bir2. El espacio subaracnoideo se encuentra:"
        ],
        [
         "6",
         "2024",
         "bir",
         "2. El espacio subaracnoideo se encuentra:",
         "3. Lleno de sangre.",
         "False",
         "2024bir2. El espacio subaracnoideo se encuentra:"
        ],
        [
         "7",
         "2024",
         "bir",
         "2. El espacio subaracnoideo se encuentra:",
         "4. En el sistema nervioso periférico.",
         "False",
         "2024bir2. El espacio subaracnoideo se encuentra:"
        ],
        [
         "8",
         "2024",
         "bir",
         "3. La endolinfa:",
         "1. Rellena el laberinto óseo del oído interno.",
         "False",
         "2024bir3. La endolinfa:"
        ],
        [
         "9",
         "2024",
         "bir",
         "3. La endolinfa:",
         "2. Contiene baja concentración de K+.",
         "False",
         "2024bir3. La endolinfa:"
        ],
        [
         "10",
         "2024",
         "bir",
         "3. La endolinfa:",
         "3. Rellena el laberinto membranoso del oído interno.",
         "True",
         "2024bir3. La endolinfa:"
        ],
        [
         "11",
         "2024",
         "bir",
         "3. La endolinfa:",
         "4. Contiene alta concentración de Na+.",
         "False",
         "2024bir3. La endolinfa:"
        ],
        [
         "12",
         "2024",
         "bir",
         "4. Las células olfatorias humanas:",
         "1. Son células nerviosas bipolares.",
         "True",
         "2024bir4. Las células olfatorias humanas:"
        ],
        [
         "13",
         "2024",
         "bir",
         "4. Las células olfatorias humanas:",
         "2. Son células nerviosas multipolares.",
         "False",
         "2024bir4. Las células olfatorias humanas:"
        ],
        [
         "14",
         "2024",
         "bir",
         "4. Las células olfatorias humanas:",
         "3. Son células nerviosas unipolares.",
         "False",
         "2024bir4. Las células olfatorias humanas:"
        ],
        [
         "15",
         "2024",
         "bir",
         "4. Las células olfatorias humanas:",
         "4. Son células epiteliales.",
         "False",
         "2024bir4. Las células olfatorias humanas:"
        ],
        [
         "16",
         "2024",
         "bir",
         "5. La esclerosis múltiple es una patología que se caracteriza por:",
         "1. Hipermielinización de los axones con pérdida del control motor y déficit sensitivos.",
         "False",
         "2024bir5. La esclerosis múltiple es una patología que se caracteriza por:"
        ],
        [
         "17",
         "2024",
         "bir",
         "5. La esclerosis múltiple es una patología que se caracteriza por:",
         "2. Desmielinización de los axones con pérdida del control motor y déficit sensitivos.",
         "True",
         "2024bir5. La esclerosis múltiple es una patología que se caracteriza por:"
        ],
        [
         "18",
         "2024",
         "bir",
         "5. La esclerosis múltiple es una patología que se caracteriza por:",
         "3. Incremento en la resistencia eléctrica axonal.",
         "False",
         "2024bir5. La esclerosis múltiple es una patología que se caracteriza por:"
        ],
        [
         "19",
         "2024",
         "bir",
         "5. La esclerosis múltiple es una patología que se caracteriza por:",
         "4. Reducción en la capacitancia axonal.",
         "False",
         "2024bir5. La esclerosis múltiple es una patología que se caracteriza por:"
        ],
        [
         "20",
         "2024",
         "bir",
         "6. ¿La hormona oxitocina es?:",
         "1. Un péptido.",
         "True",
         "2024bir6. ¿La hormona oxitocina es?:"
        ],
        [
         "21",
         "2024",
         "bir",
         "6. ¿La hormona oxitocina es?:",
         "2. Una amina.",
         "False",
         "2024bir6. ¿La hormona oxitocina es?:"
        ],
        [
         "22",
         "2024",
         "bir",
         "6. ¿La hormona oxitocina es?:",
         "3. Un esteroide.",
         "False",
         "2024bir6. ¿La hormona oxitocina es?:"
        ],
        [
         "23",
         "2024",
         "bir",
         "6. ¿La hormona oxitocina es?:",
         "4. Un glúcido.",
         "False",
         "2024bir6. ¿La hormona oxitocina es?:"
        ],
        [
         "24",
         "2024",
         "bir",
         "7. De las siguientes moléculas, ¿cuál actúa como señal anorexigénica?:",
         "1. Neuropéptido Y.",
         "False",
         "2024bir7. De las siguientes moléculas, ¿cuál actúa como señal anorexigénica?:"
        ],
        [
         "25",
         "2024",
         "bir",
         "7. De las siguientes moléculas, ¿cuál actúa como señal anorexigénica?:",
         "2. Grelina.",
         "False",
         "2024bir7. De las siguientes moléculas, ¿cuál actúa como señal anorexigénica?:"
        ],
        [
         "26",
         "2024",
         "bir",
         "7. De las siguientes moléculas, ¿cuál actúa como señal anorexigénica?:",
         "3. Leptina.",
         "True",
         "2024bir7. De las siguientes moléculas, ¿cuál actúa como señal anorexigénica?:"
        ],
        [
         "27",
         "2024",
         "bir",
         "7. De las siguientes moléculas, ¿cuál actúa como señal anorexigénica?:",
         "4. Proteína relacionada con agutí (AGRP).",
         "False",
         "2024bir7. De las siguientes moléculas, ¿cuál actúa como señal anorexigénica?:"
        ],
        [
         "28",
         "2024",
         "bir",
         "8. La insulina:",
         "1. Aumenta la lipolisis.",
         "False",
         "2024bir8. La insulina:"
        ],
        [
         "29",
         "2024",
         "bir",
         "8. La insulina:",
         "2. Disminuye la síntesis de proteínas.",
         "False",
         "2024bir8. La insulina:"
        ],
        [
         "30",
         "2024",
         "bir",
         "8. La insulina:",
         "3. Disminuye la formación de glucógeno.",
         "False",
         "2024bir8. La insulina:"
        ],
        [
         "31",
         "2024",
         "bir",
         "8. La insulina:",
         "4. Disminuye la gluconeogénesis.",
         "True",
         "2024bir8. La insulina:"
        ],
        [
         "32",
         "2024",
         "bir",
         "9. La secreción de glucagón es inhibida por:",
         "1. Somatostatina.",
         "True",
         "2024bir9. La secreción de glucagón es inhibida por:"
        ],
        [
         "33",
         "2024",
         "bir",
         "9. La secreción de glucagón es inhibida por:",
         "2. Aumento de aminoácidos en sangre.",
         "False",
         "2024bir9. La secreción de glucagón es inhibida por:"
        ],
        [
         "34",
         "2024",
         "bir",
         "9. La secreción de glucagón es inhibida por:",
         "3. Disminución de glucosa en sangre.",
         "False",
         "2024bir9. La secreción de glucagón es inhibida por:"
        ],
        [
         "35",
         "2024",
         "bir",
         "9. La secreción de glucagón es inhibida por:",
         "4. Ejercicio físico.",
         "False",
         "2024bir9. La secreción de glucagón es inhibida por:"
        ],
        [
         "36",
         "2024",
         "bir",
         "10. En la homeostasis del calcio y el fosfato interaccionan estrechamente dos hormonas:",
         "1. Cortisol y vasopresina.",
         "False",
         "2024bir10. En la homeostasis del calcio y el fosfato interaccionan estrechamente dos hormonas:"
        ],
        [
         "37",
         "2024",
         "bir",
         "10. En la homeostasis del calcio y el fosfato interaccionan estrechamente dos hormonas:",
         "2. Hormona estimulante del tiroides y aldosterona.",
         "False",
         "2024bir10. En la homeostasis del calcio y el fosfato interaccionan estrechamente dos hormonas:"
        ],
        [
         "38",
         "2024",
         "bir",
         "10. En la homeostasis del calcio y el fosfato interaccionan estrechamente dos hormonas:",
         "3. Hormona paratiroidea y vitamina D.",
         "True",
         "2024bir10. En la homeostasis del calcio y el fosfato interaccionan estrechamente dos hormonas:"
        ],
        [
         "39",
         "2024",
         "bir",
         "10. En la homeostasis del calcio y el fosfato interaccionan estrechamente dos hormonas:",
         "4. Hormona antidiurética y calcitonina.",
         "False",
         "2024bir10. En la homeostasis del calcio y el fosfato interaccionan estrechamente dos hormonas:"
        ],
        [
         "40",
         "2024",
         "bir",
         "11. La gonadotropina coriónica:",
         "1. Es un esteroide.",
         "False",
         "2024bir11. La gonadotropina coriónica:"
        ],
        [
         "41",
         "2024",
         "bir",
         "11. La gonadotropina coriónica:",
         "2. Se secreta por la corteza suprarrenal fetal.",
         "False",
         "2024bir11. La gonadotropina coriónica:"
        ],
        [
         "42",
         "2024",
         "bir",
         "11. La gonadotropina coriónica:",
         "3. Estimula la secreción de progesterona y estrógenos.",
         "True",
         "2024bir11. La gonadotropina coriónica:"
        ],
        [
         "43",
         "2024",
         "bir",
         "11. La gonadotropina coriónica:",
         "4. Comienza a ser secretada tras la involución del cuerpo lúteo.",
         "False",
         "2024bir11. La gonadotropina coriónica:"
        ],
        [
         "44",
         "2024",
         "bir",
         "12. En la fase de despolarización rápida (fase0) del potencial de acción cardíaco, el principal ion que entra a la célula es:",
         "1. Ca2+.",
         "False",
         "2024bir12. En la fase de despolarización rápida (fase0) del potencial de acción cardíaco, el principal ion que entra a la célula es:"
        ],
        [
         "45",
         "2024",
         "bir",
         "12. En la fase de despolarización rápida (fase0) del potencial de acción cardíaco, el principal ion que entra a la célula es:",
         "2. K+.",
         "False",
         "2024bir12. En la fase de despolarización rápida (fase0) del potencial de acción cardíaco, el principal ion que entra a la célula es:"
        ],
        [
         "46",
         "2024",
         "bir",
         "12. En la fase de despolarización rápida (fase0) del potencial de acción cardíaco, el principal ion que entra a la célula es:",
         "3. Na+.",
         "True",
         "2024bir12. En la fase de despolarización rápida (fase0) del potencial de acción cardíaco, el principal ion que entra a la célula es:"
        ],
        [
         "47",
         "2024",
         "bir",
         "12. En la fase de despolarización rápida (fase0) del potencial de acción cardíaco, el principal ion que entra a la célula es:",
         "4. Mg2+.",
         "False",
         "2024bir12. En la fase de despolarización rápida (fase0) del potencial de acción cardíaco, el principal ion que entra a la célula es:"
        ],
        [
         "48",
         "2024",
         "bir",
         "13. ¿Cuál es la secuencia correcta del potencial de acción en el corazón?:",
         "1. Nodo sinoauricular → Haz de His → Nodo auriculoventricular → Fibras de  Purkinje.",
         "False",
         "2024bir13. ¿Cuál es la secuencia correcta del potencial de acción en el corazón?:"
        ],
        [
         "49",
         "2024",
         "bir",
         "13. ¿Cuál es la secuencia correcta del potencial de acción en el corazón?:",
         "2. Nodo sinoauricular → Nodo auriculoventricular → Haz de His → Fibras de Purkinje.",
         "True",
         "2024bir13. ¿Cuál es la secuencia correcta del potencial de acción en el corazón?:"
        ]
       ],
       "shape": {
        "columns": 6,
        "rows": 24285
       }
      },
      "text/html": [
       "<div>\n",
       "<style scoped>\n",
       "    .dataframe tbody tr th:only-of-type {\n",
       "        vertical-align: middle;\n",
       "    }\n",
       "\n",
       "    .dataframe tbody tr th {\n",
       "        vertical-align: top;\n",
       "    }\n",
       "\n",
       "    .dataframe thead th {\n",
       "        text-align: right;\n",
       "    }\n",
       "</style>\n",
       "<table border=\"1\" class=\"dataframe\">\n",
       "  <thead>\n",
       "    <tr style=\"text-align: right;\">\n",
       "      <th></th>\n",
       "      <th>year_name</th>\n",
       "      <th>exam_type</th>\n",
       "      <th>question</th>\n",
       "      <th>option_text</th>\n",
       "      <th>is_correct</th>\n",
       "      <th>index</th>\n",
       "    </tr>\n",
       "  </thead>\n",
       "  <tbody>\n",
       "    <tr>\n",
       "      <th>0</th>\n",
       "      <td>2024</td>\n",
       "      <td>bir</td>\n",
       "      <td>1. La barrera hematoencefálica:</td>\n",
       "      <td>1. Es permeable a todas las sustancias present...</td>\n",
       "      <td>False</td>\n",
       "      <td>2024bir1. La barrera hematoencefálica:</td>\n",
       "    </tr>\n",
       "    <tr>\n",
       "      <th>1</th>\n",
       "      <td>2024</td>\n",
       "      <td>bir</td>\n",
       "      <td>1. La barrera hematoencefálica:</td>\n",
       "      <td>2. Es permeable al O2 y al CO2.</td>\n",
       "      <td>True</td>\n",
       "      <td>2024bir1. La barrera hematoencefálica:</td>\n",
       "    </tr>\n",
       "    <tr>\n",
       "      <th>2</th>\n",
       "      <td>2024</td>\n",
       "      <td>bir</td>\n",
       "      <td>1. La barrera hematoencefálica:</td>\n",
       "      <td>3. Es impermeable al etanol.</td>\n",
       "      <td>False</td>\n",
       "      <td>2024bir1. La barrera hematoencefálica:</td>\n",
       "    </tr>\n",
       "    <tr>\n",
       "      <th>3</th>\n",
       "      <td>2024</td>\n",
       "      <td>bir</td>\n",
       "      <td>1. La barrera hematoencefálica:</td>\n",
       "      <td>4. Es impermeable al agua.</td>\n",
       "      <td>False</td>\n",
       "      <td>2024bir1. La barrera hematoencefálica:</td>\n",
       "    </tr>\n",
       "    <tr>\n",
       "      <th>4</th>\n",
       "      <td>2024</td>\n",
       "      <td>bir</td>\n",
       "      <td>2. El espacio subaracnoideo se encuentra:</td>\n",
       "      <td>1. Entre la aracnoides y la duramadre.</td>\n",
       "      <td>False</td>\n",
       "      <td>2024bir2. El espacio subaracnoideo se encuentra:</td>\n",
       "    </tr>\n",
       "    <tr>\n",
       "      <th>...</th>\n",
       "      <td>...</td>\n",
       "      <td>...</td>\n",
       "      <td>...</td>\n",
       "      <td>...</td>\n",
       "      <td>...</td>\n",
       "      <td>...</td>\n",
       "    </tr>\n",
       "    <tr>\n",
       "      <th>24280</th>\n",
       "      <td>2013</td>\n",
       "      <td>bir</td>\n",
       "      <td>235. En la electroforesis de hemoglobina en ac...</td>\n",
       "      <td>1. Se emplean como colorantes el Rojo Neutro o...</td>\n",
       "      <td>False</td>\n",
       "      <td>2013bir235. En la electroforesis de hemoglobin...</td>\n",
       "    </tr>\n",
       "    <tr>\n",
       "      <th>24281</th>\n",
       "      <td>2013</td>\n",
       "      <td>bir</td>\n",
       "      <td>235. En la electroforesis de hemoglobina en ac...</td>\n",
       "      <td>2. Se obtienen tres fraccione s diferenciadas:...</td>\n",
       "      <td>True</td>\n",
       "      <td>2013bir235. En la electroforesis de hemoglobin...</td>\n",
       "    </tr>\n",
       "    <tr>\n",
       "      <th>24282</th>\n",
       "      <td>2013</td>\n",
       "      <td>bir</td>\n",
       "      <td>235. En la electroforesis de hemoglobina en ac...</td>\n",
       "      <td>3. La fracción mayoritaria es la HbA2.</td>\n",
       "      <td>False</td>\n",
       "      <td>2013bir235. En la electroforesis de hemoglobin...</td>\n",
       "    </tr>\n",
       "    <tr>\n",
       "      <th>24283</th>\n",
       "      <td>2013</td>\n",
       "      <td>bir</td>\n",
       "      <td>235. En la electroforesis de hemoglobina en ac...</td>\n",
       "      <td>4. Se obtiene el hemolizado empleando CINH4.</td>\n",
       "      <td>False</td>\n",
       "      <td>2013bir235. En la electroforesis de hemoglobin...</td>\n",
       "    </tr>\n",
       "    <tr>\n",
       "      <th>24284</th>\n",
       "      <td>2013</td>\n",
       "      <td>bir</td>\n",
       "      <td>235. En la electroforesis de hemoglobina en ac...</td>\n",
       "      <td>5. Se emplea como decolorante Acetona-Etanol (...</td>\n",
       "      <td>False</td>\n",
       "      <td>2013bir235. En la electroforesis de hemoglobin...</td>\n",
       "    </tr>\n",
       "  </tbody>\n",
       "</table>\n",
       "<p>24285 rows × 6 columns</p>\n",
       "</div>"
      ],
      "text/plain": [
       "       year_name exam_type                                           question  \\\n",
       "0           2024       bir                    1. La barrera hematoencefálica:   \n",
       "1           2024       bir                    1. La barrera hematoencefálica:   \n",
       "2           2024       bir                    1. La barrera hematoencefálica:   \n",
       "3           2024       bir                    1. La barrera hematoencefálica:   \n",
       "4           2024       bir          2. El espacio subaracnoideo se encuentra:   \n",
       "...          ...       ...                                                ...   \n",
       "24280       2013       bir  235. En la electroforesis de hemoglobina en ac...   \n",
       "24281       2013       bir  235. En la electroforesis de hemoglobina en ac...   \n",
       "24282       2013       bir  235. En la electroforesis de hemoglobina en ac...   \n",
       "24283       2013       bir  235. En la electroforesis de hemoglobina en ac...   \n",
       "24284       2013       bir  235. En la electroforesis de hemoglobina en ac...   \n",
       "\n",
       "                                             option_text  is_correct  \\\n",
       "0      1. Es permeable a todas las sustancias present...       False   \n",
       "1                        2. Es permeable al O2 y al CO2.        True   \n",
       "2                           3. Es impermeable al etanol.       False   \n",
       "3                             4. Es impermeable al agua.       False   \n",
       "4                 1. Entre la aracnoides y la duramadre.       False   \n",
       "...                                                  ...         ...   \n",
       "24280  1. Se emplean como colorantes el Rojo Neutro o...       False   \n",
       "24281  2. Se obtienen tres fraccione s diferenciadas:...        True   \n",
       "24282             3. La fracción mayoritaria es la HbA2.       False   \n",
       "24283       4. Se obtiene el hemolizado empleando CINH4.       False   \n",
       "24284  5. Se emplea como decolorante Acetona-Etanol (...       False   \n",
       "\n",
       "                                                   index  \n",
       "0                 2024bir1. La barrera hematoencefálica:  \n",
       "1                 2024bir1. La barrera hematoencefálica:  \n",
       "2                 2024bir1. La barrera hematoencefálica:  \n",
       "3                 2024bir1. La barrera hematoencefálica:  \n",
       "4       2024bir2. El espacio subaracnoideo se encuentra:  \n",
       "...                                                  ...  \n",
       "24280  2013bir235. En la electroforesis de hemoglobin...  \n",
       "24281  2013bir235. En la electroforesis de hemoglobin...  \n",
       "24282  2013bir235. En la electroforesis de hemoglobin...  \n",
       "24283  2013bir235. En la electroforesis de hemoglobin...  \n",
       "24284  2013bir235. En la electroforesis de hemoglobin...  \n",
       "\n",
       "[24285 rows x 6 columns]"
      ]
     },
     "execution_count": 12,
     "metadata": {},
     "output_type": "execute_result"
    }
   ],
   "source": [
    "exams_df_group = exams_df.groupby(\"index\")\n",
    "exams_df_group.head()"
   ]
  },
  {
   "cell_type": "code",
   "execution_count": null,
   "metadata": {},
   "outputs": [],
   "source": [
    "for _, group in exams_df_group:\n",
    "    ..."
   ]
  }
 ],
 "metadata": {
  "kernelspec": {
   "display_name": "bir_etl",
   "language": "python",
   "name": "python3"
  },
  "language_info": {
   "codemirror_mode": {
    "name": "ipython",
    "version": 3
   },
   "file_extension": ".py",
   "mimetype": "text/x-python",
   "name": "python",
   "nbconvert_exporter": "python",
   "pygments_lexer": "ipython3",
   "version": "3.12.7"
  }
 },
 "nbformat": 4,
 "nbformat_minor": 2
}
