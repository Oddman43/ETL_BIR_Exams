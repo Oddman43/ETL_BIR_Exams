{
 "cells": [
  {
   "cell_type": "markdown",
   "metadata": {},
   "source": [
    "# Loading the Questions into Anki and csv file\n",
    "\n",
    "This section focuses on loading data from the data warehouse into an Anki deck and creating a consolidated CSV file containing all exams.\n",
    "\n",
    "## Importing libraries\n",
    "\n",
    "We will use the following libraries:\n",
    "\n",
    "* **pandas:** For efficient data manipulation.\n",
    "* **numpy:** To handle NaN (Not a Number) data types.\n",
    "* **sqlite3:** To read cleaned data from the 'bir_warehouse.db' database.\n",
    "* **json and urllib.request:** To interact with the AnkiConnect add-on API."
   ]
  },
  {
   "cell_type": "code",
   "execution_count": 3,
   "metadata": {},
   "outputs": [],
   "source": [
    "import pandas as pd\n",
    "import numpy as np\n",
    "import sqlite3\n",
    "import json\n",
    "import urllib.request"
   ]
  },
  {
   "cell_type": "markdown",
   "metadata": {},
   "source": [
    "## Importing code to interface with the Anki Connect API"
   ]
  },
  {
   "cell_type": "code",
   "execution_count": 4,
   "metadata": {},
   "outputs": [],
   "source": [
    "# Copied from anki connect site\n",
    "def request(action: str, **params) -> dict:\n",
    "    return {\"action\": action, \"params\": params, \"version\": 6}\n",
    "\n",
    "\n",
    "# Copied from anki connect site\n",
    "def invoke(action: str, **params):\n",
    "    requestJson = json.dumps(request(action, **params)).encode(\"utf-8\")\n",
    "    response = json.load(\n",
    "        urllib.request.urlopen(\n",
    "            urllib.request.Request(\"http://127.0.0.1:8765\", requestJson)\n",
    "        )\n",
    "    )\n",
    "    if len(response) != 2:\n",
    "        raise Exception(\"response has an unexpected number of fields\")\n",
    "    if \"error\" not in response:\n",
    "        raise Exception(\"response is missing required error field\")\n",
    "    if \"result\" not in response:\n",
    "        raise Exception(\"response is missing required result field\")\n",
    "    if response[\"error\"] is not None:\n",
    "        raise Exception(response[\"error\"])\n",
    "    return response[\"result\"]"
   ]
  },
  {
   "cell_type": "markdown",
   "metadata": {},
   "source": [
    "## Retriving Data from Data Warehouse\n",
    "\n",
    "Using the sqlite3 library to create the connection with the Data Warehouse, performing the query joining and selecting all the relevant data, and finally using the pandas function `read_sql()` to extract the relevant information."
   ]
  },
  {
   "cell_type": "code",
   "execution_count": 5,
   "metadata": {},
   "outputs": [
    {
     "data": {
      "application/vnd.microsoft.datawrangler.viewer.v0+json": {
       "columns": [
        {
         "name": "index",
         "rawType": "int64",
         "type": "integer"
        },
        {
         "name": "year_name",
         "rawType": "object",
         "type": "string"
        },
        {
         "name": "exam_type",
         "rawType": "object",
         "type": "string"
        },
        {
         "name": "question",
         "rawType": "object",
         "type": "string"
        },
        {
         "name": "option_text",
         "rawType": "object",
         "type": "string"
        },
        {
         "name": "is_correct",
         "rawType": "int64",
         "type": "integer"
        }
       ],
       "conversionMethod": "pd.DataFrame",
       "ref": "68278562-2515-4e8b-b2dd-51069186d269",
       "rows": [
        [
         "0",
         "2024",
         "bir",
         "1. La barrera hematoencefálica:",
         "1. Es permeable a todas las sustancias presentes en el plasma.",
         "0"
        ],
        [
         "1",
         "2024",
         "bir",
         "1. La barrera hematoencefálica:",
         "2. Es permeable al O2 y al CO2.",
         "1"
        ],
        [
         "2",
         "2024",
         "bir",
         "1. La barrera hematoencefálica:",
         "3. Es impermeable al etanol.",
         "0"
        ],
        [
         "3",
         "2024",
         "bir",
         "1. La barrera hematoencefálica:",
         "4. Es impermeable al agua.",
         "0"
        ],
        [
         "4",
         "2024",
         "bir",
         "2. El espacio subaracnoideo se encuentra:",
         "1. Entre la aracnoides y la duramadre.",
         "0"
        ]
       ],
       "shape": {
        "columns": 5,
        "rows": 5
       }
      },
      "text/html": [
       "<div>\n",
       "<style scoped>\n",
       "    .dataframe tbody tr th:only-of-type {\n",
       "        vertical-align: middle;\n",
       "    }\n",
       "\n",
       "    .dataframe tbody tr th {\n",
       "        vertical-align: top;\n",
       "    }\n",
       "\n",
       "    .dataframe thead th {\n",
       "        text-align: right;\n",
       "    }\n",
       "</style>\n",
       "<table border=\"1\" class=\"dataframe\">\n",
       "  <thead>\n",
       "    <tr style=\"text-align: right;\">\n",
       "      <th></th>\n",
       "      <th>year_name</th>\n",
       "      <th>exam_type</th>\n",
       "      <th>question</th>\n",
       "      <th>option_text</th>\n",
       "      <th>is_correct</th>\n",
       "    </tr>\n",
       "  </thead>\n",
       "  <tbody>\n",
       "    <tr>\n",
       "      <th>0</th>\n",
       "      <td>2024</td>\n",
       "      <td>bir</td>\n",
       "      <td>1. La barrera hematoencefálica:</td>\n",
       "      <td>1. Es permeable a todas las sustancias present...</td>\n",
       "      <td>0</td>\n",
       "    </tr>\n",
       "    <tr>\n",
       "      <th>1</th>\n",
       "      <td>2024</td>\n",
       "      <td>bir</td>\n",
       "      <td>1. La barrera hematoencefálica:</td>\n",
       "      <td>2. Es permeable al O2 y al CO2.</td>\n",
       "      <td>1</td>\n",
       "    </tr>\n",
       "    <tr>\n",
       "      <th>2</th>\n",
       "      <td>2024</td>\n",
       "      <td>bir</td>\n",
       "      <td>1. La barrera hematoencefálica:</td>\n",
       "      <td>3. Es impermeable al etanol.</td>\n",
       "      <td>0</td>\n",
       "    </tr>\n",
       "    <tr>\n",
       "      <th>3</th>\n",
       "      <td>2024</td>\n",
       "      <td>bir</td>\n",
       "      <td>1. La barrera hematoencefálica:</td>\n",
       "      <td>4. Es impermeable al agua.</td>\n",
       "      <td>0</td>\n",
       "    </tr>\n",
       "    <tr>\n",
       "      <th>4</th>\n",
       "      <td>2024</td>\n",
       "      <td>bir</td>\n",
       "      <td>2. El espacio subaracnoideo se encuentra:</td>\n",
       "      <td>1. Entre la aracnoides y la duramadre.</td>\n",
       "      <td>0</td>\n",
       "    </tr>\n",
       "  </tbody>\n",
       "</table>\n",
       "</div>"
      ],
      "text/plain": [
       "  year_name exam_type                                   question  \\\n",
       "0      2024       bir            1. La barrera hematoencefálica:   \n",
       "1      2024       bir            1. La barrera hematoencefálica:   \n",
       "2      2024       bir            1. La barrera hematoencefálica:   \n",
       "3      2024       bir            1. La barrera hematoencefálica:   \n",
       "4      2024       bir  2. El espacio subaracnoideo se encuentra:   \n",
       "\n",
       "                                         option_text  is_correct  \n",
       "0  1. Es permeable a todas las sustancias present...           0  \n",
       "1                    2. Es permeable al O2 y al CO2.           1  \n",
       "2                       3. Es impermeable al etanol.           0  \n",
       "3                         4. Es impermeable al agua.           0  \n",
       "4             1. Entre la aracnoides y la duramadre.           0  "
      ]
     },
     "execution_count": 5,
     "metadata": {},
     "output_type": "execute_result"
    }
   ],
   "source": [
    "db_path = \"../data/clean/bir_warehouse.db\"\n",
    "query: str = \"\"\"\n",
    "SELECT y.year_name, ex.exam_type, q.question, qo.option_text, qo.is_correct\n",
    "FROM questions_options AS qo\n",
    "JOIN questions AS q ON qo.question_id = q.id\n",
    "JOIN year AS y ON q.exam_year = y.id_year\n",
    "JOIN exam AS ex ON q.exam_subject = ex.id_type;\n",
    "\"\"\"\n",
    "\n",
    "con = sqlite3.connect(db_path)\n",
    "exams_df: pd.DataFrame = pd.read_sql(query,con)\n",
    "con.close()\n",
    "\n",
    "exams_df.head()"
   ]
  },
  {
   "cell_type": "markdown",
   "metadata": {},
   "source": [
    "## Formating the Data extracted\n",
    "\n",
    "This step will focus on cleaning the data into a suitable format for pandas as practice.\n",
    "\n",
    "### Changing Columns Datatypes\n",
    "\n",
    "Using `.astype`, the columns will be converted to the correct datatype."
   ]
  },
  {
   "cell_type": "code",
   "execution_count": 6,
   "metadata": {},
   "outputs": [
    {
     "data": {
      "application/vnd.microsoft.datawrangler.viewer.v0+json": {
       "columns": [
        {
         "name": "index",
         "rawType": "int64",
         "type": "integer"
        },
        {
         "name": "year_name",
         "rawType": "int32",
         "type": "integer"
        },
        {
         "name": "exam_type",
         "rawType": "object",
         "type": "string"
        },
        {
         "name": "question",
         "rawType": "object",
         "type": "string"
        },
        {
         "name": "option_text",
         "rawType": "object",
         "type": "string"
        },
        {
         "name": "is_correct",
         "rawType": "bool",
         "type": "boolean"
        }
       ],
       "conversionMethod": "pd.DataFrame",
       "ref": "4c4b39df-cfdd-4eb9-9ff7-feba41af871c",
       "rows": [
        [
         "0",
         "2024",
         "bir",
         "1. La barrera hematoencefálica:",
         "1. Es permeable a todas las sustancias presentes en el plasma.",
         "False"
        ],
        [
         "1",
         "2024",
         "bir",
         "1. La barrera hematoencefálica:",
         "2. Es permeable al O2 y al CO2.",
         "True"
        ],
        [
         "2",
         "2024",
         "bir",
         "1. La barrera hematoencefálica:",
         "3. Es impermeable al etanol.",
         "False"
        ],
        [
         "3",
         "2024",
         "bir",
         "1. La barrera hematoencefálica:",
         "4. Es impermeable al agua.",
         "False"
        ],
        [
         "4",
         "2024",
         "bir",
         "2. El espacio subaracnoideo se encuentra:",
         "1. Entre la aracnoides y la duramadre.",
         "False"
        ]
       ],
       "shape": {
        "columns": 5,
        "rows": 5
       }
      },
      "text/html": [
       "<div>\n",
       "<style scoped>\n",
       "    .dataframe tbody tr th:only-of-type {\n",
       "        vertical-align: middle;\n",
       "    }\n",
       "\n",
       "    .dataframe tbody tr th {\n",
       "        vertical-align: top;\n",
       "    }\n",
       "\n",
       "    .dataframe thead th {\n",
       "        text-align: right;\n",
       "    }\n",
       "</style>\n",
       "<table border=\"1\" class=\"dataframe\">\n",
       "  <thead>\n",
       "    <tr style=\"text-align: right;\">\n",
       "      <th></th>\n",
       "      <th>year_name</th>\n",
       "      <th>exam_type</th>\n",
       "      <th>question</th>\n",
       "      <th>option_text</th>\n",
       "      <th>is_correct</th>\n",
       "    </tr>\n",
       "  </thead>\n",
       "  <tbody>\n",
       "    <tr>\n",
       "      <th>0</th>\n",
       "      <td>2024</td>\n",
       "      <td>bir</td>\n",
       "      <td>1. La barrera hematoencefálica:</td>\n",
       "      <td>1. Es permeable a todas las sustancias present...</td>\n",
       "      <td>False</td>\n",
       "    </tr>\n",
       "    <tr>\n",
       "      <th>1</th>\n",
       "      <td>2024</td>\n",
       "      <td>bir</td>\n",
       "      <td>1. La barrera hematoencefálica:</td>\n",
       "      <td>2. Es permeable al O2 y al CO2.</td>\n",
       "      <td>True</td>\n",
       "    </tr>\n",
       "    <tr>\n",
       "      <th>2</th>\n",
       "      <td>2024</td>\n",
       "      <td>bir</td>\n",
       "      <td>1. La barrera hematoencefálica:</td>\n",
       "      <td>3. Es impermeable al etanol.</td>\n",
       "      <td>False</td>\n",
       "    </tr>\n",
       "    <tr>\n",
       "      <th>3</th>\n",
       "      <td>2024</td>\n",
       "      <td>bir</td>\n",
       "      <td>1. La barrera hematoencefálica:</td>\n",
       "      <td>4. Es impermeable al agua.</td>\n",
       "      <td>False</td>\n",
       "    </tr>\n",
       "    <tr>\n",
       "      <th>4</th>\n",
       "      <td>2024</td>\n",
       "      <td>bir</td>\n",
       "      <td>2. El espacio subaracnoideo se encuentra:</td>\n",
       "      <td>1. Entre la aracnoides y la duramadre.</td>\n",
       "      <td>False</td>\n",
       "    </tr>\n",
       "  </tbody>\n",
       "</table>\n",
       "</div>"
      ],
      "text/plain": [
       "   year_name exam_type                                   question  \\\n",
       "0       2024       bir            1. La barrera hematoencefálica:   \n",
       "1       2024       bir            1. La barrera hematoencefálica:   \n",
       "2       2024       bir            1. La barrera hematoencefálica:   \n",
       "3       2024       bir            1. La barrera hematoencefálica:   \n",
       "4       2024       bir  2. El espacio subaracnoideo se encuentra:   \n",
       "\n",
       "                                         option_text  is_correct  \n",
       "0  1. Es permeable a todas las sustancias present...       False  \n",
       "1                    2. Es permeable al O2 y al CO2.        True  \n",
       "2                       3. Es impermeable al etanol.       False  \n",
       "3                         4. Es impermeable al agua.       False  \n",
       "4             1. Entre la aracnoides y la duramadre.       False  "
      ]
     },
     "execution_count": 6,
     "metadata": {},
     "output_type": "execute_result"
    }
   ],
   "source": [
    "exams_df[\"year_name\"] = exams_df[\"year_name\"].astype(int)\n",
    "exams_df[\"is_correct\"] = exams_df[\"is_correct\"].astype(bool)\n",
    "exams_df.head()"
   ]
  },
  {
   "cell_type": "markdown",
   "metadata": {},
   "source": [
    "### Grouping the Questions\n",
    "\n",
    "To get the desired DataFrame, the rows are grouped by question, exam_type, and year_name, since this combination will be unique for any question."
   ]
  },
  {
   "cell_type": "code",
   "execution_count": 7,
   "metadata": {},
   "outputs": [
    {
     "data": {
      "application/vnd.microsoft.datawrangler.viewer.v0+json": {
       "columns": [
        {
         "name": "index",
         "rawType": "int64",
         "type": "integer"
        },
        {
         "name": "year_name",
         "rawType": "int32",
         "type": "integer"
        },
        {
         "name": "exam_type",
         "rawType": "object",
         "type": "string"
        },
        {
         "name": "question",
         "rawType": "object",
         "type": "string"
        },
        {
         "name": "option_text",
         "rawType": "object",
         "type": "string"
        },
        {
         "name": "is_correct",
         "rawType": "bool",
         "type": "boolean"
        }
       ],
       "conversionMethod": "pd.DataFrame",
       "ref": "1a66ab31-425b-4eeb-800f-3f3782dab37b",
       "rows": [
        [
         "0",
         "2024",
         "bir",
         "1. La barrera hematoencefálica:",
         "1. Es permeable a todas las sustancias presentes en el plasma.",
         "False"
        ],
        [
         "1",
         "2024",
         "bir",
         "1. La barrera hematoencefálica:",
         "2. Es permeable al O2 y al CO2.",
         "True"
        ],
        [
         "2",
         "2024",
         "bir",
         "1. La barrera hematoencefálica:",
         "3. Es impermeable al etanol.",
         "False"
        ],
        [
         "3",
         "2024",
         "bir",
         "1. La barrera hematoencefálica:",
         "4. Es impermeable al agua.",
         "False"
        ],
        [
         "4",
         "2024",
         "bir",
         "2. El espacio subaracnoideo se encuentra:",
         "1. Entre la aracnoides y la duramadre.",
         "False"
        ],
        [
         "5",
         "2024",
         "bir",
         "2. El espacio subaracnoideo se encuentra:",
         "2. Entre la aracnoides y la piamadre.",
         "True"
        ],
        [
         "6",
         "2024",
         "bir",
         "2. El espacio subaracnoideo se encuentra:",
         "3. Lleno de sangre.",
         "False"
        ],
        [
         "7",
         "2024",
         "bir",
         "2. El espacio subaracnoideo se encuentra:",
         "4. En el sistema nervioso periférico.",
         "False"
        ],
        [
         "8",
         "2024",
         "bir",
         "3. La endolinfa:",
         "1. Rellena el laberinto óseo del oído interno.",
         "False"
        ],
        [
         "9",
         "2024",
         "bir",
         "3. La endolinfa:",
         "2. Contiene baja concentración de K+.",
         "False"
        ],
        [
         "10",
         "2024",
         "bir",
         "3. La endolinfa:",
         "3. Rellena el laberinto membranoso del oído interno.",
         "True"
        ],
        [
         "11",
         "2024",
         "bir",
         "3. La endolinfa:",
         "4. Contiene alta concentración de Na+.",
         "False"
        ],
        [
         "12",
         "2024",
         "bir",
         "4. Las células olfatorias humanas:",
         "1. Son células nerviosas bipolares.",
         "True"
        ],
        [
         "13",
         "2024",
         "bir",
         "4. Las células olfatorias humanas:",
         "2. Son células nerviosas multipolares.",
         "False"
        ],
        [
         "14",
         "2024",
         "bir",
         "4. Las células olfatorias humanas:",
         "3. Son células nerviosas unipolares.",
         "False"
        ],
        [
         "15",
         "2024",
         "bir",
         "4. Las células olfatorias humanas:",
         "4. Son células epiteliales.",
         "False"
        ],
        [
         "16",
         "2024",
         "bir",
         "5. La esclerosis múltiple es una patología que se caracteriza por:",
         "1. Hipermielinización de los axones con pérdida del control motor y déficit sensitivos.",
         "False"
        ],
        [
         "17",
         "2024",
         "bir",
         "5. La esclerosis múltiple es una patología que se caracteriza por:",
         "2. Desmielinización de los axones con pérdida del control motor y déficit sensitivos.",
         "True"
        ],
        [
         "18",
         "2024",
         "bir",
         "5. La esclerosis múltiple es una patología que se caracteriza por:",
         "3. Incremento en la resistencia eléctrica axonal.",
         "False"
        ],
        [
         "19",
         "2024",
         "bir",
         "5. La esclerosis múltiple es una patología que se caracteriza por:",
         "4. Reducción en la capacitancia axonal.",
         "False"
        ],
        [
         "20",
         "2024",
         "bir",
         "6. ¿La hormona oxitocina es?:",
         "1. Un péptido.",
         "True"
        ],
        [
         "21",
         "2024",
         "bir",
         "6. ¿La hormona oxitocina es?:",
         "2. Una amina.",
         "False"
        ],
        [
         "22",
         "2024",
         "bir",
         "6. ¿La hormona oxitocina es?:",
         "3. Un esteroide.",
         "False"
        ],
        [
         "23",
         "2024",
         "bir",
         "6. ¿La hormona oxitocina es?:",
         "4. Un glúcido.",
         "False"
        ],
        [
         "24",
         "2024",
         "bir",
         "7. De las siguientes moléculas, ¿cuál actúa como señal anorexigénica?:",
         "1. Neuropéptido Y.",
         "False"
        ],
        [
         "25",
         "2024",
         "bir",
         "7. De las siguientes moléculas, ¿cuál actúa como señal anorexigénica?:",
         "2. Grelina.",
         "False"
        ],
        [
         "26",
         "2024",
         "bir",
         "7. De las siguientes moléculas, ¿cuál actúa como señal anorexigénica?:",
         "3. Leptina.",
         "True"
        ],
        [
         "27",
         "2024",
         "bir",
         "7. De las siguientes moléculas, ¿cuál actúa como señal anorexigénica?:",
         "4. Proteína relacionada con agutí (AGRP).",
         "False"
        ],
        [
         "28",
         "2024",
         "bir",
         "8. La insulina:",
         "1. Aumenta la lipolisis.",
         "False"
        ],
        [
         "29",
         "2024",
         "bir",
         "8. La insulina:",
         "2. Disminuye la síntesis de proteínas.",
         "False"
        ],
        [
         "30",
         "2024",
         "bir",
         "8. La insulina:",
         "3. Disminuye la formación de glucógeno.",
         "False"
        ],
        [
         "31",
         "2024",
         "bir",
         "8. La insulina:",
         "4. Disminuye la gluconeogénesis.",
         "True"
        ],
        [
         "32",
         "2024",
         "bir",
         "9. La secreción de glucagón es inhibida por:",
         "1. Somatostatina.",
         "True"
        ],
        [
         "33",
         "2024",
         "bir",
         "9. La secreción de glucagón es inhibida por:",
         "2. Aumento de aminoácidos en sangre.",
         "False"
        ],
        [
         "34",
         "2024",
         "bir",
         "9. La secreción de glucagón es inhibida por:",
         "3. Disminución de glucosa en sangre.",
         "False"
        ],
        [
         "35",
         "2024",
         "bir",
         "9. La secreción de glucagón es inhibida por:",
         "4. Ejercicio físico.",
         "False"
        ],
        [
         "36",
         "2024",
         "bir",
         "10. En la homeostasis del calcio y el fosfato interaccionan estrechamente dos hormonas:",
         "1. Cortisol y vasopresina.",
         "False"
        ],
        [
         "37",
         "2024",
         "bir",
         "10. En la homeostasis del calcio y el fosfato interaccionan estrechamente dos hormonas:",
         "2. Hormona estimulante del tiroides y aldosterona.",
         "False"
        ],
        [
         "38",
         "2024",
         "bir",
         "10. En la homeostasis del calcio y el fosfato interaccionan estrechamente dos hormonas:",
         "3. Hormona paratiroidea y vitamina D.",
         "True"
        ],
        [
         "39",
         "2024",
         "bir",
         "10. En la homeostasis del calcio y el fosfato interaccionan estrechamente dos hormonas:",
         "4. Hormona antidiurética y calcitonina.",
         "False"
        ],
        [
         "40",
         "2024",
         "bir",
         "11. La gonadotropina coriónica:",
         "1. Es un esteroide.",
         "False"
        ],
        [
         "41",
         "2024",
         "bir",
         "11. La gonadotropina coriónica:",
         "2. Se secreta por la corteza suprarrenal fetal.",
         "False"
        ],
        [
         "42",
         "2024",
         "bir",
         "11. La gonadotropina coriónica:",
         "3. Estimula la secreción de progesterona y estrógenos.",
         "True"
        ],
        [
         "43",
         "2024",
         "bir",
         "11. La gonadotropina coriónica:",
         "4. Comienza a ser secretada tras la involución del cuerpo lúteo.",
         "False"
        ],
        [
         "44",
         "2024",
         "bir",
         "12. En la fase de despolarización rápida (fase0) del potencial de acción cardíaco, el principal ion que entra a la célula es:",
         "1. Ca2+.",
         "False"
        ],
        [
         "45",
         "2024",
         "bir",
         "12. En la fase de despolarización rápida (fase0) del potencial de acción cardíaco, el principal ion que entra a la célula es:",
         "2. K+.",
         "False"
        ],
        [
         "46",
         "2024",
         "bir",
         "12. En la fase de despolarización rápida (fase0) del potencial de acción cardíaco, el principal ion que entra a la célula es:",
         "3. Na+.",
         "True"
        ],
        [
         "47",
         "2024",
         "bir",
         "12. En la fase de despolarización rápida (fase0) del potencial de acción cardíaco, el principal ion que entra a la célula es:",
         "4. Mg2+.",
         "False"
        ],
        [
         "48",
         "2024",
         "bir",
         "13. ¿Cuál es la secuencia correcta del potencial de acción en el corazón?:",
         "1. Nodo sinoauricular → Haz de His → Nodo auriculoventricular → Fibras de  Purkinje.",
         "False"
        ],
        [
         "49",
         "2024",
         "bir",
         "13. ¿Cuál es la secuencia correcta del potencial de acción en el corazón?:",
         "2. Nodo sinoauricular → Nodo auriculoventricular → Haz de His → Fibras de Purkinje.",
         "True"
        ]
       ],
       "shape": {
        "columns": 5,
        "rows": 24281
       }
      },
      "text/html": [
       "<div>\n",
       "<style scoped>\n",
       "    .dataframe tbody tr th:only-of-type {\n",
       "        vertical-align: middle;\n",
       "    }\n",
       "\n",
       "    .dataframe tbody tr th {\n",
       "        vertical-align: top;\n",
       "    }\n",
       "\n",
       "    .dataframe thead th {\n",
       "        text-align: right;\n",
       "    }\n",
       "</style>\n",
       "<table border=\"1\" class=\"dataframe\">\n",
       "  <thead>\n",
       "    <tr style=\"text-align: right;\">\n",
       "      <th></th>\n",
       "      <th>year_name</th>\n",
       "      <th>exam_type</th>\n",
       "      <th>question</th>\n",
       "      <th>option_text</th>\n",
       "      <th>is_correct</th>\n",
       "    </tr>\n",
       "  </thead>\n",
       "  <tbody>\n",
       "    <tr>\n",
       "      <th>0</th>\n",
       "      <td>2024</td>\n",
       "      <td>bir</td>\n",
       "      <td>1. La barrera hematoencefálica:</td>\n",
       "      <td>1. Es permeable a todas las sustancias present...</td>\n",
       "      <td>False</td>\n",
       "    </tr>\n",
       "    <tr>\n",
       "      <th>1</th>\n",
       "      <td>2024</td>\n",
       "      <td>bir</td>\n",
       "      <td>1. La barrera hematoencefálica:</td>\n",
       "      <td>2. Es permeable al O2 y al CO2.</td>\n",
       "      <td>True</td>\n",
       "    </tr>\n",
       "    <tr>\n",
       "      <th>2</th>\n",
       "      <td>2024</td>\n",
       "      <td>bir</td>\n",
       "      <td>1. La barrera hematoencefálica:</td>\n",
       "      <td>3. Es impermeable al etanol.</td>\n",
       "      <td>False</td>\n",
       "    </tr>\n",
       "    <tr>\n",
       "      <th>3</th>\n",
       "      <td>2024</td>\n",
       "      <td>bir</td>\n",
       "      <td>1. La barrera hematoencefálica:</td>\n",
       "      <td>4. Es impermeable al agua.</td>\n",
       "      <td>False</td>\n",
       "    </tr>\n",
       "    <tr>\n",
       "      <th>4</th>\n",
       "      <td>2024</td>\n",
       "      <td>bir</td>\n",
       "      <td>2. El espacio subaracnoideo se encuentra:</td>\n",
       "      <td>1. Entre la aracnoides y la duramadre.</td>\n",
       "      <td>False</td>\n",
       "    </tr>\n",
       "    <tr>\n",
       "      <th>...</th>\n",
       "      <td>...</td>\n",
       "      <td>...</td>\n",
       "      <td>...</td>\n",
       "      <td>...</td>\n",
       "      <td>...</td>\n",
       "    </tr>\n",
       "    <tr>\n",
       "      <th>24276</th>\n",
       "      <td>2013</td>\n",
       "      <td>bir</td>\n",
       "      <td>235. En la electroforesis de hemoglobina en ac...</td>\n",
       "      <td>1. Se emplean como colorantes el Rojo Neutro o...</td>\n",
       "      <td>False</td>\n",
       "    </tr>\n",
       "    <tr>\n",
       "      <th>24277</th>\n",
       "      <td>2013</td>\n",
       "      <td>bir</td>\n",
       "      <td>235. En la electroforesis de hemoglobina en ac...</td>\n",
       "      <td>2. Se obtienen tres fraccione s diferenciadas:...</td>\n",
       "      <td>True</td>\n",
       "    </tr>\n",
       "    <tr>\n",
       "      <th>24278</th>\n",
       "      <td>2013</td>\n",
       "      <td>bir</td>\n",
       "      <td>235. En la electroforesis de hemoglobina en ac...</td>\n",
       "      <td>3. La fracción mayoritaria es la HbA2.</td>\n",
       "      <td>False</td>\n",
       "    </tr>\n",
       "    <tr>\n",
       "      <th>24279</th>\n",
       "      <td>2013</td>\n",
       "      <td>bir</td>\n",
       "      <td>235. En la electroforesis de hemoglobina en ac...</td>\n",
       "      <td>4. Se obtiene el hemolizado empleando CINH4.</td>\n",
       "      <td>False</td>\n",
       "    </tr>\n",
       "    <tr>\n",
       "      <th>24280</th>\n",
       "      <td>2013</td>\n",
       "      <td>bir</td>\n",
       "      <td>235. En la electroforesis de hemoglobina en ac...</td>\n",
       "      <td>5. Se emplea como decolorante Acetona-Etanol (...</td>\n",
       "      <td>False</td>\n",
       "    </tr>\n",
       "  </tbody>\n",
       "</table>\n",
       "<p>24281 rows × 5 columns</p>\n",
       "</div>"
      ],
      "text/plain": [
       "       year_name exam_type                                           question  \\\n",
       "0           2024       bir                    1. La barrera hematoencefálica:   \n",
       "1           2024       bir                    1. La barrera hematoencefálica:   \n",
       "2           2024       bir                    1. La barrera hematoencefálica:   \n",
       "3           2024       bir                    1. La barrera hematoencefálica:   \n",
       "4           2024       bir          2. El espacio subaracnoideo se encuentra:   \n",
       "...          ...       ...                                                ...   \n",
       "24276       2013       bir  235. En la electroforesis de hemoglobina en ac...   \n",
       "24277       2013       bir  235. En la electroforesis de hemoglobina en ac...   \n",
       "24278       2013       bir  235. En la electroforesis de hemoglobina en ac...   \n",
       "24279       2013       bir  235. En la electroforesis de hemoglobina en ac...   \n",
       "24280       2013       bir  235. En la electroforesis de hemoglobina en ac...   \n",
       "\n",
       "                                             option_text  is_correct  \n",
       "0      1. Es permeable a todas las sustancias present...       False  \n",
       "1                        2. Es permeable al O2 y al CO2.        True  \n",
       "2                           3. Es impermeable al etanol.       False  \n",
       "3                             4. Es impermeable al agua.       False  \n",
       "4                 1. Entre la aracnoides y la duramadre.       False  \n",
       "...                                                  ...         ...  \n",
       "24276  1. Se emplean como colorantes el Rojo Neutro o...       False  \n",
       "24277  2. Se obtienen tres fraccione s diferenciadas:...        True  \n",
       "24278             3. La fracción mayoritaria es la HbA2.       False  \n",
       "24279       4. Se obtiene el hemolizado empleando CINH4.       False  \n",
       "24280  5. Se emplea como decolorante Acetona-Etanol (...       False  \n",
       "\n",
       "[24281 rows x 5 columns]"
      ]
     },
     "execution_count": 7,
     "metadata": {},
     "output_type": "execute_result"
    }
   ],
   "source": [
    "exams_df_group = exams_df.groupby([\"question\", \"exam_type\", \"year_name\"])\n",
    "exams_df_group.head()"
   ]
  },
  {
   "cell_type": "markdown",
   "metadata": {},
   "source": [
    "Once the grouped DataFrame is created, an empty DataFrame with the final columns is created."
   ]
  },
  {
   "cell_type": "code",
   "execution_count": 9,
   "metadata": {},
   "outputs": [],
   "source": [
    "col_names = [\"year\", \"exam\", \"question\", \"option1\", \"option2\", \"option3\", \"option4\", \"option5\", \"correct\"]\n",
    "exams_df_pivoted = pd.DataFrame(columns= col_names)"
   ]
  },
  {
   "cell_type": "markdown",
   "metadata": {},
   "source": [
    "To pivot the DataFrame so it automatically computes the correct answer option from the `is_correct` column, I decided to use a for loop over the grouped DataFrame. This way, the iteration over the individual DataFrames for each question allows me to extract all the relevant information, while also handling questions with 4 or 5 options and annulled questions that have no correct option."
   ]
  },
  {
   "cell_type": "code",
   "execution_count": 10,
   "metadata": {},
   "outputs": [
    {
     "data": {
      "application/vnd.microsoft.datawrangler.viewer.v0+json": {
       "columns": [
        {
         "name": "index",
         "rawType": "int64",
         "type": "integer"
        },
        {
         "name": "year",
         "rawType": "object",
         "type": "string"
        },
        {
         "name": "exam",
         "rawType": "object",
         "type": "string"
        },
        {
         "name": "question",
         "rawType": "object",
         "type": "string"
        },
        {
         "name": "option1",
         "rawType": "object",
         "type": "string"
        },
        {
         "name": "option2",
         "rawType": "object",
         "type": "string"
        },
        {
         "name": "option3",
         "rawType": "object",
         "type": "string"
        },
        {
         "name": "option4",
         "rawType": "object",
         "type": "string"
        },
        {
         "name": "option5",
         "rawType": "object",
         "type": "string"
        },
        {
         "name": "correct",
         "rawType": "object",
         "type": "string"
        }
       ],
       "conversionMethod": "pd.DataFrame",
       "ref": "eca1bf55-f623-4eda-9a74-eba1650200d8",
       "rows": [
        [
         "0",
         "2014",
         "bir",
         "1. Confiere a la membrana plasmática alta pe rmeabilidad al agua:",
         "1. Acuaporinas.",
         "2. Canales iónicos.",
         "3. La Na+/K+-ATPasa.",
         "4. Intercambiador Cl/HCO3.",
         "5. Su composición lípidica.",
         "1"
        ],
        [
         "1",
         "2018",
         "bir",
         "1. El fosfolamban:",
         "1. Regula la Ca2+-ATPasa del retículo sarcoplásmico.",
         "2. Es un fosfolípido de la membrana plasmática.",
         "3. Bloquea el receptor de dihidropiridinas.",
         "4. Activa receptores de rianodina en retículo sarcoplásmico.",
         "blank",
         "1"
        ],
        [
         "2",
         "2007",
         "bir",
         "1. El movimiento de rotación es detectado por el:",
         "1. Utrículo.",
         "2. Sáculo.",
         "3. Canales semicirculares.",
         "4. Órgano de Corti.",
         "5. Otolitos.",
         "3"
        ],
        [
         "3",
         "2017",
         "bir",
         "1. El periodo refractario absoluto de una fibra nerviosa se debe a:",
         "1. Inactivación de canales de Ca2+.",
         "2. Inactivación de canales de K+.",
         "3. Inactivación de canales de Na+.",
         "4. La posthiperpolarización que sigue al potencial de acción.",
         "blank",
         "3"
        ],
        [
         "4",
         "2015",
         "bir",
         "1. El potencial de equilibrio para un ión permeante a través de una membrana se calcula mediante:",
         "1. El equilibrio de Gibbs-Donnan.",
         "2. La ecuación de Goldman-Hodgkin-Katz.",
         "3. La ecuación de Ohm.",
         "4. La ecuación de Nernst.",
         "blank",
         "4"
        ]
       ],
       "shape": {
        "columns": 9,
        "rows": 5
       }
      },
      "text/html": [
       "<div>\n",
       "<style scoped>\n",
       "    .dataframe tbody tr th:only-of-type {\n",
       "        vertical-align: middle;\n",
       "    }\n",
       "\n",
       "    .dataframe tbody tr th {\n",
       "        vertical-align: top;\n",
       "    }\n",
       "\n",
       "    .dataframe thead th {\n",
       "        text-align: right;\n",
       "    }\n",
       "</style>\n",
       "<table border=\"1\" class=\"dataframe\">\n",
       "  <thead>\n",
       "    <tr style=\"text-align: right;\">\n",
       "      <th></th>\n",
       "      <th>year</th>\n",
       "      <th>exam</th>\n",
       "      <th>question</th>\n",
       "      <th>option1</th>\n",
       "      <th>option2</th>\n",
       "      <th>option3</th>\n",
       "      <th>option4</th>\n",
       "      <th>option5</th>\n",
       "      <th>correct</th>\n",
       "    </tr>\n",
       "  </thead>\n",
       "  <tbody>\n",
       "    <tr>\n",
       "      <th>0</th>\n",
       "      <td>2014</td>\n",
       "      <td>bir</td>\n",
       "      <td>1. Confiere a la membrana plasmática alta pe r...</td>\n",
       "      <td>1. Acuaporinas.</td>\n",
       "      <td>2. Canales iónicos.</td>\n",
       "      <td>3. La Na+/K+-ATPasa.</td>\n",
       "      <td>4. Intercambiador Cl/HCO3.</td>\n",
       "      <td>5. Su composición lípidica.</td>\n",
       "      <td>1</td>\n",
       "    </tr>\n",
       "    <tr>\n",
       "      <th>1</th>\n",
       "      <td>2018</td>\n",
       "      <td>bir</td>\n",
       "      <td>1. El fosfolamban:</td>\n",
       "      <td>1. Regula la Ca2+-ATPasa del retículo sarcoplá...</td>\n",
       "      <td>2. Es un fosfolípido de la membrana plasmática.</td>\n",
       "      <td>3. Bloquea el receptor de dihidropiridinas.</td>\n",
       "      <td>4. Activa receptores de rianodina en retículo ...</td>\n",
       "      <td>blank</td>\n",
       "      <td>1</td>\n",
       "    </tr>\n",
       "    <tr>\n",
       "      <th>2</th>\n",
       "      <td>2007</td>\n",
       "      <td>bir</td>\n",
       "      <td>1. El movimiento de rotación es detectado por el:</td>\n",
       "      <td>1. Utrículo.</td>\n",
       "      <td>2. Sáculo.</td>\n",
       "      <td>3. Canales semicirculares.</td>\n",
       "      <td>4. Órgano de Corti.</td>\n",
       "      <td>5. Otolitos.</td>\n",
       "      <td>3</td>\n",
       "    </tr>\n",
       "    <tr>\n",
       "      <th>3</th>\n",
       "      <td>2017</td>\n",
       "      <td>bir</td>\n",
       "      <td>1. El periodo refractario absoluto de una fibr...</td>\n",
       "      <td>1. Inactivación de canales de Ca2+.</td>\n",
       "      <td>2. Inactivación de canales de K+.</td>\n",
       "      <td>3. Inactivación de canales de Na+.</td>\n",
       "      <td>4. La posthiperpolarización que sigue al poten...</td>\n",
       "      <td>blank</td>\n",
       "      <td>3</td>\n",
       "    </tr>\n",
       "    <tr>\n",
       "      <th>4</th>\n",
       "      <td>2015</td>\n",
       "      <td>bir</td>\n",
       "      <td>1. El potencial de equilibrio para un ión perm...</td>\n",
       "      <td>1. El equilibrio de Gibbs-Donnan.</td>\n",
       "      <td>2. La ecuación de Goldman-Hodgkin-Katz.</td>\n",
       "      <td>3. La ecuación de Ohm.</td>\n",
       "      <td>4. La ecuación de Nernst.</td>\n",
       "      <td>blank</td>\n",
       "      <td>4</td>\n",
       "    </tr>\n",
       "  </tbody>\n",
       "</table>\n",
       "</div>"
      ],
      "text/plain": [
       "   year exam                                           question  \\\n",
       "0  2014  bir  1. Confiere a la membrana plasmática alta pe r...   \n",
       "1  2018  bir                                 1. El fosfolamban:   \n",
       "2  2007  bir  1. El movimiento de rotación es detectado por el:   \n",
       "3  2017  bir  1. El periodo refractario absoluto de una fibr...   \n",
       "4  2015  bir  1. El potencial de equilibrio para un ión perm...   \n",
       "\n",
       "                                             option1  \\\n",
       "0                                    1. Acuaporinas.   \n",
       "1  1. Regula la Ca2+-ATPasa del retículo sarcoplá...   \n",
       "2                                       1. Utrículo.   \n",
       "3                1. Inactivación de canales de Ca2+.   \n",
       "4                  1. El equilibrio de Gibbs-Donnan.   \n",
       "\n",
       "                                           option2  \\\n",
       "0                              2. Canales iónicos.   \n",
       "1  2. Es un fosfolípido de la membrana plasmática.   \n",
       "2                                       2. Sáculo.   \n",
       "3                2. Inactivación de canales de K+.   \n",
       "4          2. La ecuación de Goldman-Hodgkin-Katz.   \n",
       "\n",
       "                                       option3  \\\n",
       "0                         3. La Na+/K+-ATPasa.   \n",
       "1  3. Bloquea el receptor de dihidropiridinas.   \n",
       "2                   3. Canales semicirculares.   \n",
       "3           3. Inactivación de canales de Na+.   \n",
       "4                       3. La ecuación de Ohm.   \n",
       "\n",
       "                                             option4  \\\n",
       "0                         4. Intercambiador Cl/HCO3.   \n",
       "1  4. Activa receptores de rianodina en retículo ...   \n",
       "2                                4. Órgano de Corti.   \n",
       "3  4. La posthiperpolarización que sigue al poten...   \n",
       "4                          4. La ecuación de Nernst.   \n",
       "\n",
       "                       option5 correct  \n",
       "0  5. Su composición lípidica.       1  \n",
       "1                        blank       1  \n",
       "2                 5. Otolitos.       3  \n",
       "3                        blank       3  \n",
       "4                        blank       4  "
      ]
     },
     "execution_count": 10,
     "metadata": {},
     "output_type": "execute_result"
    }
   ],
   "source": [
    "n_question: int = 0\n",
    "quest_dict = {}\n",
    "for _, group in exams_df_group:\n",
    "    question: list = [group[\"year_name\"].iloc[0], group[\"exam_type\"].iloc[0], group[\"question\"].iloc[0]]\n",
    "    for row_tuple in group.itertuples():\n",
    "        question.append(row_tuple[4])\n",
    "    if group[\"year_name\"].iloc[0] > 2014:\n",
    "        question.append(\"blank\")\n",
    "    correct = ([i+1 for i, boolean in enumerate(group[\"is_correct\"]) if boolean] or [0])[0]\n",
    "    question.append(correct)\n",
    "    if len(question) > 9:\n",
    "        question.append(\"0\")\n",
    "    exams_df_pivoted.loc[n_question] = [str(x) for x in question]\n",
    "    n_question += 1\n",
    "exams_df_pivoted.head()"
   ]
  },
  {
   "cell_type": "markdown",
   "metadata": {},
   "source": [
    "In this step, the correct datatypes are assigned to the columns, and a new column named `num_q` is created by splitting the `question` column at the period and taking the first item. This field is relevant for sorting the DataFrame in a later step"
   ]
  },
  {
   "cell_type": "code",
   "execution_count": 13,
   "metadata": {},
   "outputs": [
    {
     "data": {
      "application/vnd.microsoft.datawrangler.viewer.v0+json": {
       "columns": [
        {
         "name": "index",
         "rawType": "int64",
         "type": "integer"
        },
        {
         "name": "year",
         "rawType": "int32",
         "type": "integer"
        },
        {
         "name": "exam",
         "rawType": "object",
         "type": "string"
        },
        {
         "name": "question",
         "rawType": "object",
         "type": "string"
        },
        {
         "name": "option1",
         "rawType": "object",
         "type": "string"
        },
        {
         "name": "option2",
         "rawType": "object",
         "type": "string"
        },
        {
         "name": "option3",
         "rawType": "object",
         "type": "string"
        },
        {
         "name": "option4",
         "rawType": "object",
         "type": "string"
        },
        {
         "name": "option5",
         "rawType": "object",
         "type": "unknown"
        },
        {
         "name": "correct",
         "rawType": "int32",
         "type": "integer"
        },
        {
         "name": "num_q",
         "rawType": "int32",
         "type": "integer"
        }
       ],
       "conversionMethod": "pd.DataFrame",
       "ref": "633bc649-4ae4-4269-953c-d74070e15713",
       "rows": [
        [
         "0",
         "2014",
         "bir",
         "1. Confiere a la membrana plasmática alta pe rmeabilidad al agua:",
         "1. Acuaporinas.",
         "2. Canales iónicos.",
         "3. La Na+/K+-ATPasa.",
         "4. Intercambiador Cl/HCO3.",
         "5. Su composición lípidica.",
         "1",
         "1"
        ],
        [
         "1",
         "2018",
         "bir",
         "1. El fosfolamban:",
         "1. Regula la Ca2+-ATPasa del retículo sarcoplásmico.",
         "2. Es un fosfolípido de la membrana plasmática.",
         "3. Bloquea el receptor de dihidropiridinas.",
         "4. Activa receptores de rianodina en retículo sarcoplásmico.",
         null,
         "1",
         "1"
        ],
        [
         "2",
         "2007",
         "bir",
         "1. El movimiento de rotación es detectado por el:",
         "1. Utrículo.",
         "2. Sáculo.",
         "3. Canales semicirculares.",
         "4. Órgano de Corti.",
         "5. Otolitos.",
         "3",
         "1"
        ],
        [
         "3",
         "2017",
         "bir",
         "1. El periodo refractario absoluto de una fibra nerviosa se debe a:",
         "1. Inactivación de canales de Ca2+.",
         "2. Inactivación de canales de K+.",
         "3. Inactivación de canales de Na+.",
         "4. La posthiperpolarización que sigue al potencial de acción.",
         null,
         "3",
         "1"
        ],
        [
         "4",
         "2015",
         "bir",
         "1. El potencial de equilibrio para un ión permeante a través de una membrana se calcula mediante:",
         "1. El equilibrio de Gibbs-Donnan.",
         "2. La ecuación de Goldman-Hodgkin-Katz.",
         "3. La ecuación de Ohm.",
         "4. La ecuación de Nernst.",
         null,
         "4",
         "1"
        ]
       ],
       "shape": {
        "columns": 10,
        "rows": 5
       }
      },
      "text/html": [
       "<div>\n",
       "<style scoped>\n",
       "    .dataframe tbody tr th:only-of-type {\n",
       "        vertical-align: middle;\n",
       "    }\n",
       "\n",
       "    .dataframe tbody tr th {\n",
       "        vertical-align: top;\n",
       "    }\n",
       "\n",
       "    .dataframe thead th {\n",
       "        text-align: right;\n",
       "    }\n",
       "</style>\n",
       "<table border=\"1\" class=\"dataframe\">\n",
       "  <thead>\n",
       "    <tr style=\"text-align: right;\">\n",
       "      <th></th>\n",
       "      <th>year</th>\n",
       "      <th>exam</th>\n",
       "      <th>question</th>\n",
       "      <th>option1</th>\n",
       "      <th>option2</th>\n",
       "      <th>option3</th>\n",
       "      <th>option4</th>\n",
       "      <th>option5</th>\n",
       "      <th>correct</th>\n",
       "      <th>num_q</th>\n",
       "    </tr>\n",
       "  </thead>\n",
       "  <tbody>\n",
       "    <tr>\n",
       "      <th>0</th>\n",
       "      <td>2014</td>\n",
       "      <td>bir</td>\n",
       "      <td>1. Confiere a la membrana plasmática alta pe r...</td>\n",
       "      <td>1. Acuaporinas.</td>\n",
       "      <td>2. Canales iónicos.</td>\n",
       "      <td>3. La Na+/K+-ATPasa.</td>\n",
       "      <td>4. Intercambiador Cl/HCO3.</td>\n",
       "      <td>5. Su composición lípidica.</td>\n",
       "      <td>1</td>\n",
       "      <td>1</td>\n",
       "    </tr>\n",
       "    <tr>\n",
       "      <th>1</th>\n",
       "      <td>2018</td>\n",
       "      <td>bir</td>\n",
       "      <td>1. El fosfolamban:</td>\n",
       "      <td>1. Regula la Ca2+-ATPasa del retículo sarcoplá...</td>\n",
       "      <td>2. Es un fosfolípido de la membrana plasmática.</td>\n",
       "      <td>3. Bloquea el receptor de dihidropiridinas.</td>\n",
       "      <td>4. Activa receptores de rianodina en retículo ...</td>\n",
       "      <td>NaN</td>\n",
       "      <td>1</td>\n",
       "      <td>1</td>\n",
       "    </tr>\n",
       "    <tr>\n",
       "      <th>2</th>\n",
       "      <td>2007</td>\n",
       "      <td>bir</td>\n",
       "      <td>1. El movimiento de rotación es detectado por el:</td>\n",
       "      <td>1. Utrículo.</td>\n",
       "      <td>2. Sáculo.</td>\n",
       "      <td>3. Canales semicirculares.</td>\n",
       "      <td>4. Órgano de Corti.</td>\n",
       "      <td>5. Otolitos.</td>\n",
       "      <td>3</td>\n",
       "      <td>1</td>\n",
       "    </tr>\n",
       "    <tr>\n",
       "      <th>3</th>\n",
       "      <td>2017</td>\n",
       "      <td>bir</td>\n",
       "      <td>1. El periodo refractario absoluto de una fibr...</td>\n",
       "      <td>1. Inactivación de canales de Ca2+.</td>\n",
       "      <td>2. Inactivación de canales de K+.</td>\n",
       "      <td>3. Inactivación de canales de Na+.</td>\n",
       "      <td>4. La posthiperpolarización que sigue al poten...</td>\n",
       "      <td>NaN</td>\n",
       "      <td>3</td>\n",
       "      <td>1</td>\n",
       "    </tr>\n",
       "    <tr>\n",
       "      <th>4</th>\n",
       "      <td>2015</td>\n",
       "      <td>bir</td>\n",
       "      <td>1. El potencial de equilibrio para un ión perm...</td>\n",
       "      <td>1. El equilibrio de Gibbs-Donnan.</td>\n",
       "      <td>2. La ecuación de Goldman-Hodgkin-Katz.</td>\n",
       "      <td>3. La ecuación de Ohm.</td>\n",
       "      <td>4. La ecuación de Nernst.</td>\n",
       "      <td>NaN</td>\n",
       "      <td>4</td>\n",
       "      <td>1</td>\n",
       "    </tr>\n",
       "  </tbody>\n",
       "</table>\n",
       "</div>"
      ],
      "text/plain": [
       "   year exam                                           question  \\\n",
       "0  2014  bir  1. Confiere a la membrana plasmática alta pe r...   \n",
       "1  2018  bir                                 1. El fosfolamban:   \n",
       "2  2007  bir  1. El movimiento de rotación es detectado por el:   \n",
       "3  2017  bir  1. El periodo refractario absoluto de una fibr...   \n",
       "4  2015  bir  1. El potencial de equilibrio para un ión perm...   \n",
       "\n",
       "                                             option1  \\\n",
       "0                                    1. Acuaporinas.   \n",
       "1  1. Regula la Ca2+-ATPasa del retículo sarcoplá...   \n",
       "2                                       1. Utrículo.   \n",
       "3                1. Inactivación de canales de Ca2+.   \n",
       "4                  1. El equilibrio de Gibbs-Donnan.   \n",
       "\n",
       "                                           option2  \\\n",
       "0                              2. Canales iónicos.   \n",
       "1  2. Es un fosfolípido de la membrana plasmática.   \n",
       "2                                       2. Sáculo.   \n",
       "3                2. Inactivación de canales de K+.   \n",
       "4          2. La ecuación de Goldman-Hodgkin-Katz.   \n",
       "\n",
       "                                       option3  \\\n",
       "0                         3. La Na+/K+-ATPasa.   \n",
       "1  3. Bloquea el receptor de dihidropiridinas.   \n",
       "2                   3. Canales semicirculares.   \n",
       "3           3. Inactivación de canales de Na+.   \n",
       "4                       3. La ecuación de Ohm.   \n",
       "\n",
       "                                             option4  \\\n",
       "0                         4. Intercambiador Cl/HCO3.   \n",
       "1  4. Activa receptores de rianodina en retículo ...   \n",
       "2                                4. Órgano de Corti.   \n",
       "3  4. La posthiperpolarización que sigue al poten...   \n",
       "4                          4. La ecuación de Nernst.   \n",
       "\n",
       "                       option5  correct  num_q  \n",
       "0  5. Su composición lípidica.        1      1  \n",
       "1                          NaN        1      1  \n",
       "2                 5. Otolitos.        3      1  \n",
       "3                          NaN        3      1  \n",
       "4                          NaN        4      1  "
      ]
     },
     "execution_count": 13,
     "metadata": {},
     "output_type": "execute_result"
    }
   ],
   "source": [
    "exams_df_clean = exams_df_pivoted\n",
    "exams_df_clean[\"year\"] = exams_df_clean[\"year\"].astype(int)\n",
    "exams_df_clean[\"correct\"] = exams_df_clean[\"correct\"].astype(int)\n",
    "exams_df_clean[\"num_q\"] = exams_df_clean[\"question\"].apply(lambda x: x.split(\".\", 1)[0])\n",
    "exams_df_clean[\"num_q\"] = exams_df_clean[\"num_q\"].astype(int)\n",
    "exams_df_clean[\"option5\"] = exams_df_clean[\"option5\"].replace(\"blank\", np.nan)\n",
    "exams_df_clean.head()"
   ]
  },
  {
   "cell_type": "markdown",
   "metadata": {},
   "source": [
    "## Validating the Data\n",
    "\n",
    "This step performs a simple check using the fact that the option columns should always begin with the option number. Using `startswith`, we can validate the data, and using the `all()` function ensures that `True` is returned only if all evaluations are correct.\n",
    "\n",
    "To handle option 5 having missing values for years that only have 4 options, a Boolean Series is used to select only the rows containing text.\n",
    "\n",
    "Finally, with the validations of all the options, a simple `if` statement and the `all()` function check if all tests passed. If not, a warning is raised to check the data."
   ]
  },
  {
   "cell_type": "code",
   "execution_count": 14,
   "metadata": {},
   "outputs": [
    {
     "name": "stdout",
     "output_type": "stream",
     "text": [
      "DataFrame validated\n"
     ]
    }
   ],
   "source": [
    "validate_option_1 = (exams_df_clean[\"option1\"].str.startswith(\"1\")).all()\n",
    "validate_option_2 = (exams_df_clean[\"option2\"].str.startswith(\"2\")).all()\n",
    "validate_option_3 = (exams_df_clean[\"option3\"].str.startswith(\"3\")).all()\n",
    "validate_option_4 = (exams_df_clean[\"option4\"].str.startswith(\"4\")).all()\n",
    "validate_option_5 = (exams_df_clean[\"option5\"][exams_df_clean[\"option5\"].notna()].str.startswith(\"5\")).all()\n",
    "\n",
    "if not all([validate_option_1, validate_option_2, validate_option_3, validate_option_4, validate_option_5]):\n",
    "    raise Warning(\"Data Validation failed, please check the DataFrame for missing values\")\n",
    "print(\"DataFrame validated\")"
   ]
  },
  {
   "cell_type": "markdown",
   "metadata": {},
   "source": [
    "## Final Sorting\n",
    "\n",
    "In this step, the DataFrame will be sorted by:\n",
    "\n",
    "* Year in descending order.\n",
    "* Type of exam in ascending order.\n",
    "* Number of question in ascending order.\n",
    "\n",
    "Also, the `num_q` column will be deleted once the DataFrame is sorted."
   ]
  },
  {
   "cell_type": "code",
   "execution_count": 15,
   "metadata": {},
   "outputs": [
    {
     "data": {
      "application/vnd.microsoft.datawrangler.viewer.v0+json": {
       "columns": [
        {
         "name": "index",
         "rawType": "int64",
         "type": "integer"
        },
        {
         "name": "year",
         "rawType": "int32",
         "type": "integer"
        },
        {
         "name": "exam",
         "rawType": "object",
         "type": "string"
        },
        {
         "name": "question",
         "rawType": "object",
         "type": "string"
        },
        {
         "name": "option1",
         "rawType": "object",
         "type": "string"
        },
        {
         "name": "option2",
         "rawType": "object",
         "type": "string"
        },
        {
         "name": "option3",
         "rawType": "object",
         "type": "string"
        },
        {
         "name": "option4",
         "rawType": "object",
         "type": "string"
        },
        {
         "name": "option5",
         "rawType": "object",
         "type": "unknown"
        },
        {
         "name": "correct",
         "rawType": "int32",
         "type": "integer"
        }
       ],
       "conversionMethod": "pd.DataFrame",
       "ref": "5b365364-2663-4ca0-a7c8-b5181e99f77f",
       "rows": [
        [
         "0",
         "2024",
         "bir",
         "1. La barrera hematoencefálica:",
         "1. Es permeable a todas las sustancias presentes en el plasma.",
         "2. Es permeable al O2 y al CO2.",
         "3. Es impermeable al etanol.",
         "4. Es impermeable al agua.",
         null,
         "2"
        ],
        [
         "1",
         "2024",
         "bir",
         "2. El espacio subaracnoideo se encuentra:",
         "1. Entre la aracnoides y la duramadre.",
         "2. Entre la aracnoides y la piamadre.",
         "3. Lleno de sangre.",
         "4. En el sistema nervioso periférico.",
         null,
         "2"
        ],
        [
         "2",
         "2024",
         "bir",
         "3. La endolinfa:",
         "1. Rellena el laberinto óseo del oído interno.",
         "2. Contiene baja concentración de K+.",
         "3. Rellena el laberinto membranoso del oído interno.",
         "4. Contiene alta concentración de Na+.",
         null,
         "3"
        ],
        [
         "3",
         "2024",
         "bir",
         "4. Las células olfatorias humanas:",
         "1. Son células nerviosas bipolares.",
         "2. Son células nerviosas multipolares.",
         "3. Son células nerviosas unipolares.",
         "4. Son células epiteliales.",
         null,
         "1"
        ],
        [
         "4",
         "2024",
         "bir",
         "5. La esclerosis múltiple es una patología que se caracteriza por:",
         "1. Hipermielinización de los axones con pérdida del control motor y déficit sensitivos.",
         "2. Desmielinización de los axones con pérdida del control motor y déficit sensitivos.",
         "3. Incremento en la resistencia eléctrica axonal.",
         "4. Reducción en la capacitancia axonal.",
         null,
         "2"
        ]
       ],
       "shape": {
        "columns": 9,
        "rows": 5
       }
      },
      "text/html": [
       "<div>\n",
       "<style scoped>\n",
       "    .dataframe tbody tr th:only-of-type {\n",
       "        vertical-align: middle;\n",
       "    }\n",
       "\n",
       "    .dataframe tbody tr th {\n",
       "        vertical-align: top;\n",
       "    }\n",
       "\n",
       "    .dataframe thead th {\n",
       "        text-align: right;\n",
       "    }\n",
       "</style>\n",
       "<table border=\"1\" class=\"dataframe\">\n",
       "  <thead>\n",
       "    <tr style=\"text-align: right;\">\n",
       "      <th></th>\n",
       "      <th>year</th>\n",
       "      <th>exam</th>\n",
       "      <th>question</th>\n",
       "      <th>option1</th>\n",
       "      <th>option2</th>\n",
       "      <th>option3</th>\n",
       "      <th>option4</th>\n",
       "      <th>option5</th>\n",
       "      <th>correct</th>\n",
       "    </tr>\n",
       "  </thead>\n",
       "  <tbody>\n",
       "    <tr>\n",
       "      <th>0</th>\n",
       "      <td>2024</td>\n",
       "      <td>bir</td>\n",
       "      <td>1. La barrera hematoencefálica:</td>\n",
       "      <td>1. Es permeable a todas las sustancias present...</td>\n",
       "      <td>2. Es permeable al O2 y al CO2.</td>\n",
       "      <td>3. Es impermeable al etanol.</td>\n",
       "      <td>4. Es impermeable al agua.</td>\n",
       "      <td>NaN</td>\n",
       "      <td>2</td>\n",
       "    </tr>\n",
       "    <tr>\n",
       "      <th>1</th>\n",
       "      <td>2024</td>\n",
       "      <td>bir</td>\n",
       "      <td>2. El espacio subaracnoideo se encuentra:</td>\n",
       "      <td>1. Entre la aracnoides y la duramadre.</td>\n",
       "      <td>2. Entre la aracnoides y la piamadre.</td>\n",
       "      <td>3. Lleno de sangre.</td>\n",
       "      <td>4. En el sistema nervioso periférico.</td>\n",
       "      <td>NaN</td>\n",
       "      <td>2</td>\n",
       "    </tr>\n",
       "    <tr>\n",
       "      <th>2</th>\n",
       "      <td>2024</td>\n",
       "      <td>bir</td>\n",
       "      <td>3. La endolinfa:</td>\n",
       "      <td>1. Rellena el laberinto óseo del oído interno.</td>\n",
       "      <td>2. Contiene baja concentración de K+.</td>\n",
       "      <td>3. Rellena el laberinto membranoso del oído in...</td>\n",
       "      <td>4. Contiene alta concentración de Na+.</td>\n",
       "      <td>NaN</td>\n",
       "      <td>3</td>\n",
       "    </tr>\n",
       "    <tr>\n",
       "      <th>3</th>\n",
       "      <td>2024</td>\n",
       "      <td>bir</td>\n",
       "      <td>4. Las células olfatorias humanas:</td>\n",
       "      <td>1. Son células nerviosas bipolares.</td>\n",
       "      <td>2. Son células nerviosas multipolares.</td>\n",
       "      <td>3. Son células nerviosas unipolares.</td>\n",
       "      <td>4. Son células epiteliales.</td>\n",
       "      <td>NaN</td>\n",
       "      <td>1</td>\n",
       "    </tr>\n",
       "    <tr>\n",
       "      <th>4</th>\n",
       "      <td>2024</td>\n",
       "      <td>bir</td>\n",
       "      <td>5. La esclerosis múltiple es una patología que...</td>\n",
       "      <td>1. Hipermielinización de los axones con pérdid...</td>\n",
       "      <td>2. Desmielinización de los axones con pérdida ...</td>\n",
       "      <td>3. Incremento en la resistencia eléctrica axonal.</td>\n",
       "      <td>4. Reducción en la capacitancia axonal.</td>\n",
       "      <td>NaN</td>\n",
       "      <td>2</td>\n",
       "    </tr>\n",
       "  </tbody>\n",
       "</table>\n",
       "</div>"
      ],
      "text/plain": [
       "   year exam                                           question  \\\n",
       "0  2024  bir                    1. La barrera hematoencefálica:   \n",
       "1  2024  bir          2. El espacio subaracnoideo se encuentra:   \n",
       "2  2024  bir                                   3. La endolinfa:   \n",
       "3  2024  bir                 4. Las células olfatorias humanas:   \n",
       "4  2024  bir  5. La esclerosis múltiple es una patología que...   \n",
       "\n",
       "                                             option1  \\\n",
       "0  1. Es permeable a todas las sustancias present...   \n",
       "1             1. Entre la aracnoides y la duramadre.   \n",
       "2     1. Rellena el laberinto óseo del oído interno.   \n",
       "3                1. Son células nerviosas bipolares.   \n",
       "4  1. Hipermielinización de los axones con pérdid...   \n",
       "\n",
       "                                             option2  \\\n",
       "0                    2. Es permeable al O2 y al CO2.   \n",
       "1              2. Entre la aracnoides y la piamadre.   \n",
       "2              2. Contiene baja concentración de K+.   \n",
       "3             2. Son células nerviosas multipolares.   \n",
       "4  2. Desmielinización de los axones con pérdida ...   \n",
       "\n",
       "                                             option3  \\\n",
       "0                       3. Es impermeable al etanol.   \n",
       "1                                3. Lleno de sangre.   \n",
       "2  3. Rellena el laberinto membranoso del oído in...   \n",
       "3               3. Son células nerviosas unipolares.   \n",
       "4  3. Incremento en la resistencia eléctrica axonal.   \n",
       "\n",
       "                                   option4 option5  correct  \n",
       "0               4. Es impermeable al agua.     NaN        2  \n",
       "1    4. En el sistema nervioso periférico.     NaN        2  \n",
       "2   4. Contiene alta concentración de Na+.     NaN        3  \n",
       "3              4. Son células epiteliales.     NaN        1  \n",
       "4  4. Reducción en la capacitancia axonal.     NaN        2  "
      ]
     },
     "execution_count": 15,
     "metadata": {},
     "output_type": "execute_result"
    }
   ],
   "source": [
    "exams_df_sorted = exams_df_clean.sort_values(by=[\"year\", \"exam\", \"num_q\"], ascending= [False, True, True])\n",
    "exams_df_sorted = exams_df_sorted.reset_index(drop= True)\n",
    "del exams_df_sorted[\"num_q\"]\n",
    "exams_df_sorted.head()"
   ]
  },
  {
   "cell_type": "markdown",
   "metadata": {},
   "source": [
    "## Loading\n",
    "\n",
    "This step focuses on loading the formated data.\n",
    "\n",
    "### csv file\n",
    "\n",
    "For ease of use, a combined CSV file with all the questions is created."
   ]
  },
  {
   "cell_type": "code",
   "execution_count": null,
   "metadata": {},
   "outputs": [],
   "source": [
    "exams_df_sorted.to_csv(\"../data/clean/bir_examenes.csv\", index= False)"
   ]
  },
  {
   "cell_type": "markdown",
   "metadata": {},
   "source": [
    "### Anki Deck\n",
    "\n",
    "In this step, a for loop and `itertuples` are used to append the cards, formatted as per the AnkiConnect documentation, and then added to the Anki deck using the `addNotes` method.\n",
    "\n",
    "The questions will have the following structure:\n",
    "\n",
    "Front:\n",
    "\n",
    "* Year and exam type, followed by a newline.\n",
    "* The question, followed by three newlines.\n",
    "* Each option, followed by two newlines.\n",
    "\n",
    "Back:\n",
    "\n",
    "* The number of the correct question."
   ]
  },
  {
   "cell_type": "code",
   "execution_count": null,
   "metadata": {},
   "outputs": [],
   "source": [
    "deck_name: str = \"BIR_Examenes\"\n",
    "notes_list: list = []\n",
    "\n",
    "for row in exams_df_sorted.itertuples():\n",
    "    front: str = f\"{row[1]} {row[2].upper()}<br>{row[3]}<br><br><br>{row[4]}<br><br>{row[5]}<br><br>{row[6]}<br><br>{row[7]}\" \n",
    "    back: str = str(row[9])\n",
    "    tags: list = [f\"Examen::{row[2].upper()}::{row[1]}\"]\n",
    "    if not pd.isna(row[8]):\n",
    "        front += f\"<br><br>{row[8]}\"\n",
    "    note = {\n",
    "        \"deckName\": deck_name,\n",
    "        \"modelName\": \"Basic\",\n",
    "        \"fields\": {\"Front\": front, \"Back\": back},\n",
    "        \"tags\": tags\n",
    "    }\n",
    "    notes_list.append(note)\n",
    "\n",
    "invoke(\"addNotes\", notes = notes_list)"
   ]
  }
 ],
 "metadata": {
  "kernelspec": {
   "display_name": "bir_etl",
   "language": "python",
   "name": "python3"
  },
  "language_info": {
   "codemirror_mode": {
    "name": "ipython",
    "version": 3
   },
   "file_extension": ".py",
   "mimetype": "text/x-python",
   "name": "python",
   "nbconvert_exporter": "python",
   "pygments_lexer": "ipython3",
   "version": "3.12.7"
  }
 },
 "nbformat": 4,
 "nbformat_minor": 2
}
