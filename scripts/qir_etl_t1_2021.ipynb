{
 "cells": [
  {
   "cell_type": "markdown",
   "metadata": {
    "editable": true,
    "id": "56vKIohe8Jou",
    "slideshow": {
     "slide_type": ""
    },
    "tags": []
   },
   "source": [
    "# Data Extraction\n",
    "This section details the process of extracting question data from a PDF file and corresponding answer keys from a TSV file."
   ]
  },
  {
   "cell_type": "markdown",
   "metadata": {
    "id": "8kRORmWM8Joy"
   },
   "source": [
    "## Importing libraries"
   ]
  },
  {
   "cell_type": "markdown",
   "metadata": {},
   "source": [
    "* Pandas for data manipulation\n",
    "* NumPy for the NaN datatype\n",
    "* PyPDF for its ability to read the pfd files, although it requieres post-processing of the extracted text\n",
    "* sqlite3 to create load the clean data into `bir_warehouse.db`"
   ]
  },
  {
   "cell_type": "code",
   "execution_count": 1,
   "metadata": {
    "colab": {
     "base_uri": "https://localhost:8080/"
    },
    "id": "y8DpYYll8Joz",
    "outputId": "40cac5b3-1153-431b-f780-201aa62b5813"
   },
   "outputs": [],
   "source": [
    "import pandas as pd\n",
    "import numpy as np\n",
    "from pypdf import PdfReader\n",
    "import sqlite3"
   ]
  },
  {
   "cell_type": "markdown",
   "metadata": {},
   "source": [
    "## Selecting year and type of exam"
   ]
  },
  {
   "cell_type": "markdown",
   "metadata": {},
   "source": [
    "This function, `compute_expected_rows`, takes the exam year and topic as input and returns metadata crucial for subsequent data cleaning and loading steps. This metadata includes the expected maximum number of rows in the final DataFrame, the number of questions per exam, and the acronym for the exam type.  The maximum number of rows is calculated based on the number of questions and options per question for each year, following a specific pattern:\n",
    "\n",
    "*   2024-2021: 210 questions, 4 options each\n",
    "*   2020-2019: 185 questions, 4 options each\n",
    "*   2018-2015: 235 questions, 4 options each\n",
    "*   2014-2012: 235 questions, 5 options each\n",
    "*   2011-2004: 260 questions, 5 options each\n",
    "\n",
    "This information is essential for validating data integrity during the ETL process.  For example, the expected row count helps verify that all questions and options have been correctly extracted and transformed. The exam type acronym aids in consistent file naming and data organization."
   ]
  },
  {
   "cell_type": "code",
   "execution_count": 2,
   "metadata": {},
   "outputs": [],
   "source": [
    "def compute_expected_rows(year: int, topic: str) -> tuple:\n",
    "    \"\"\"Computes and returns metadata about the exam for a given year and topic\n",
    "\n",
    "    Args:\n",
    "        year (int): The year of the exam\n",
    "        topic (str): The topic of the exam\n",
    "\n",
    "    Returns:\n",
    "        tuple: Contains:\n",
    "            - max_rows: The expected maximum number of rows in the DataFrame\n",
    "            - num_options: The number of questions in the exam\n",
    "            - exam_type_acronym: The acronym for the exam type\n",
    "\n",
    "    \"\"\"\n",
    "    info_year_dict: dict = {\n",
    "        2011: [260, 5],\n",
    "        2014: [235, 5],\n",
    "        2018: [235, 4],\n",
    "        2020: [185, 4],\n",
    "        2021: [210, 4],\n",
    "    }\n",
    "    save_name_dict: dict = {\n",
    "        \"BIOLOGÍA\": \"bir\",\n",
    "        \"FARMACIA\": \"fir\",\n",
    "        \"QUÍMICA\": \"qir\",\n",
    "        \"MEDICINA\": \"mir\",\n",
    "    }\n",
    "    max_rows: int = 0\n",
    "    num_options: int = 0\n",
    "    for target_year, info_list in info_year_dict.items():\n",
    "        if year <= target_year:\n",
    "            max_rows = (info_list[0] * info_list[1]) + info_list[0]\n",
    "            num_options = info_list[1]\n",
    "            break\n",
    "    else:\n",
    "        max_rows = 1050\n",
    "        num_options = 4\n",
    "    return max_rows, num_options, save_name_dict[topic]"
   ]
  },
  {
   "cell_type": "markdown",
   "metadata": {},
   "source": [
    "### Add year of the exam and topic "
   ]
  },
  {
   "cell_type": "code",
   "execution_count": 3,
   "metadata": {},
   "outputs": [],
   "source": [
    "year: int = 2021\n",
    "topic: str = \"QUÍMICA\" # Select from: BIOLOGÍA, FARMACIA, QUÍMICA, MEDICINA\n",
    "total_num_rows: int\n",
    "num_questions: int\n",
    "exam_acronym: str\n",
    "total_num_rows, num_questions, exam_acronym = compute_expected_rows(year, topic)\n",
    "save_format: str = f\"../data/clean/clean_{exam_acronym}_{year}.csv\""
   ]
  },
  {
   "cell_type": "markdown",
   "metadata": {
    "id": "Z1Kjq5ue8Jo1"
   },
   "source": [
    "## Extracting Questions from Pdf file"
   ]
  },
  {
   "cell_type": "markdown",
   "metadata": {},
   "source": [
    "This section focuses on extracting the textual content of the exam questions from the provided PDF file.\n",
    "\n",
    "**Path Definition:**\n",
    "\n",
    "The path to the PDF file is dynamically constructed using the provided `year` and `topic` variables. This ensures flexibility and allows the script to process different exam files without manual path adjustments.\n",
    "\n",
    "Finally it stores the output in a DataFrame and the first 10 rows of the resulting DataFrame are displayed for a quick preview of the loaded data."
   ]
  },
  {
   "cell_type": "code",
   "execution_count": 4,
   "metadata": {
    "id": "AB4M4yfr8Jo3"
   },
   "outputs": [
    {
     "data": {
      "application/vnd.microsoft.datawrangler.viewer.v0+json": {
       "columns": [
        {
         "name": "index",
         "rawType": "int64",
         "type": "integer"
        },
        {
         "name": "text",
         "rawType": "object",
         "type": "string"
        }
       ],
       "conversionMethod": "pd.DataFrame",
       "ref": "4c4ef046-fa94-4ddf-ad94-6213b47e07d9",
       "rows": [
        [
         "0",
         " "
        ],
        [
         "1",
         "- 1 - "
        ],
        [
         "2",
         "1. ¿Cómo se denomina al proceso mediante el que "
        ],
        [
         "3",
         "se elimina el sulfuro de hidrógeno presente en el "
        ],
        [
         "4",
         "gas natural, produciendo azufre?: "
        ],
        [
         "5",
         " "
        ],
        [
         "6",
         "1. Proceso Frasch. "
        ],
        [
         "7",
         "2. Proceso Claus. "
        ],
        [
         "8",
         "3. Proceso Kroll. "
        ],
        [
         "9",
         "4. Proceso de las cámaras de plomo. "
        ]
       ],
       "shape": {
        "columns": 1,
        "rows": 10
       }
      },
      "text/html": [
       "<div>\n",
       "<style scoped>\n",
       "    .dataframe tbody tr th:only-of-type {\n",
       "        vertical-align: middle;\n",
       "    }\n",
       "\n",
       "    .dataframe tbody tr th {\n",
       "        vertical-align: top;\n",
       "    }\n",
       "\n",
       "    .dataframe thead th {\n",
       "        text-align: right;\n",
       "    }\n",
       "</style>\n",
       "<table border=\"1\" class=\"dataframe\">\n",
       "  <thead>\n",
       "    <tr style=\"text-align: right;\">\n",
       "      <th></th>\n",
       "      <th>text</th>\n",
       "    </tr>\n",
       "  </thead>\n",
       "  <tbody>\n",
       "    <tr>\n",
       "      <th>0</th>\n",
       "      <td></td>\n",
       "    </tr>\n",
       "    <tr>\n",
       "      <th>1</th>\n",
       "      <td>- 1 -</td>\n",
       "    </tr>\n",
       "    <tr>\n",
       "      <th>2</th>\n",
       "      <td>1. ¿Cómo se denomina al proceso mediante el que</td>\n",
       "    </tr>\n",
       "    <tr>\n",
       "      <th>3</th>\n",
       "      <td>se elimina el sulfuro de hidrógeno presente en...</td>\n",
       "    </tr>\n",
       "    <tr>\n",
       "      <th>4</th>\n",
       "      <td>gas natural, produciendo azufre?:</td>\n",
       "    </tr>\n",
       "    <tr>\n",
       "      <th>5</th>\n",
       "      <td></td>\n",
       "    </tr>\n",
       "    <tr>\n",
       "      <th>6</th>\n",
       "      <td>1. Proceso Frasch.</td>\n",
       "    </tr>\n",
       "    <tr>\n",
       "      <th>7</th>\n",
       "      <td>2. Proceso Claus.</td>\n",
       "    </tr>\n",
       "    <tr>\n",
       "      <th>8</th>\n",
       "      <td>3. Proceso Kroll.</td>\n",
       "    </tr>\n",
       "    <tr>\n",
       "      <th>9</th>\n",
       "      <td>4. Proceso de las cámaras de plomo.</td>\n",
       "    </tr>\n",
       "  </tbody>\n",
       "</table>\n",
       "</div>"
      ],
      "text/plain": [
       "                                                text\n",
       "0                                                   \n",
       "1                                             - 1 - \n",
       "2   1. ¿Cómo se denomina al proceso mediante el que \n",
       "3  se elimina el sulfuro de hidrógeno presente en...\n",
       "4                 gas natural, produciendo azufre?: \n",
       "5                                                   \n",
       "6                                1. Proceso Frasch. \n",
       "7                                 2. Proceso Claus. \n",
       "8                                 3. Proceso Kroll. \n",
       "9               4. Proceso de las cámaras de plomo. "
      ]
     },
     "execution_count": 4,
     "metadata": {},
     "output_type": "execute_result"
    }
   ],
   "source": [
    "path: str = f\"../data/raw/type_1/Raw_Cuaderno_{year}_{topic}_0_C.pdf\"\n",
    "with PdfReader(path) as pdf_file:\n",
    "    full_text: list = []\n",
    "    for n in range(2, len(pdf_file.pages)):\n",
    "        page = pdf_file.pages[n]\n",
    "        text: str = page.extract_text()\n",
    "        full_text.extend(text.splitlines())\n",
    "raw_exam_df: pd.DataFrame = pd.DataFrame(full_text, columns=[\"text\"])\n",
    "raw_exam_df.head(10)"
   ]
  },
  {
   "cell_type": "markdown",
   "metadata": {
    "id": "IBhc5aFQ8Jo6"
   },
   "source": [
    "## Extracting Answers from .tsv file into a DataFrame"
   ]
  },
  {
   "cell_type": "markdown",
   "metadata": {},
   "source": [
    "This section focuses on extracting the answer key data from the provided .tsv file and loading it into a Pandas DataFrame.\n",
    "\n",
    "**Path Definition and Data Loading:**\n",
    "\n",
    "The path to the .tsv file is dynamically constructed using the `year` and `topic` variables, mirroring the approach used for the PDF file. This ensures consistency and flexibility in processing different exam files. \n",
    "\n",
    "The `pd.read_table()` function is then used to read the .tsv file directly into a Pandas DataFrame. Finally, the first 10 rows of the resulting DataFrame are displayed for a quick preview of the loaded data."
   ]
  },
  {
   "cell_type": "code",
   "execution_count": 5,
   "metadata": {
    "colab": {
     "base_uri": "https://localhost:8080/",
     "height": 206
    },
    "id": "O1ouB9mQ8Jo7",
    "outputId": "70b7615d-9c90-4f2d-b9e1-a5c86b507ef6"
   },
   "outputs": [
    {
     "data": {
      "application/vnd.microsoft.datawrangler.viewer.v0+json": {
       "columns": [
        {
         "name": "index",
         "rawType": "int64",
         "type": "integer"
        },
        {
         "name": "V",
         "rawType": "int64",
         "type": "integer"
        },
        {
         "name": "RC",
         "rawType": "float64",
         "type": "float"
        },
        {
         "name": "V.1",
         "rawType": "int64",
         "type": "integer"
        },
        {
         "name": "RC.1",
         "rawType": "float64",
         "type": "float"
        },
        {
         "name": "V.2",
         "rawType": "int64",
         "type": "integer"
        },
        {
         "name": "RC.2",
         "rawType": "int64",
         "type": "integer"
        },
        {
         "name": "V.3",
         "rawType": "int64",
         "type": "integer"
        },
        {
         "name": "RC.3",
         "rawType": "float64",
         "type": "float"
        },
        {
         "name": "V.4",
         "rawType": "int64",
         "type": "integer"
        },
        {
         "name": "RC.4",
         "rawType": "float64",
         "type": "float"
        }
       ],
       "conversionMethod": "pd.DataFrame",
       "ref": "3c8ebb6f-6577-401f-8481-221a4e0e3b11",
       "rows": [
        [
         "0",
         "1",
         "2.0",
         "43",
         "3.0",
         "85",
         "3",
         "127",
         "2.0",
         "169",
         "1.0"
        ],
        [
         "1",
         "2",
         "4.0",
         "44",
         "4.0",
         "86",
         "2",
         "128",
         "1.0",
         "170",
         "2.0"
        ],
        [
         "2",
         "3",
         "1.0",
         "45",
         "2.0",
         "87",
         "4",
         "129",
         "1.0",
         "171",
         "3.0"
        ],
        [
         "3",
         "4",
         "3.0",
         "46",
         "3.0",
         "88",
         "1",
         "130",
         "4.0",
         "172",
         "4.0"
        ],
        [
         "4",
         "5",
         "1.0",
         "47",
         "4.0",
         "89",
         "3",
         "131",
         "3.0",
         "173",
         "1.0"
        ],
        [
         "5",
         "6",
         "2.0",
         "48",
         "2.0",
         "90",
         "4",
         "132",
         "2.0",
         "174",
         "2.0"
        ],
        [
         "6",
         "7",
         "2.0",
         "49",
         "3.0",
         "91",
         "4",
         "133",
         "1.0",
         "175",
         null
        ],
        [
         "7",
         "8",
         "4.0",
         "50",
         "2.0",
         "92",
         "2",
         "134",
         "4.0",
         "176",
         "2.0"
        ],
        [
         "8",
         "9",
         "2.0",
         "51",
         "4.0",
         "93",
         "1",
         "135",
         "3.0",
         "177",
         "1.0"
        ],
        [
         "9",
         "10",
         "1.0",
         "52",
         "2.0",
         "94",
         "3",
         "136",
         "2.0",
         "178",
         "3.0"
        ]
       ],
       "shape": {
        "columns": 10,
        "rows": 10
       }
      },
      "text/html": [
       "<div>\n",
       "<style scoped>\n",
       "    .dataframe tbody tr th:only-of-type {\n",
       "        vertical-align: middle;\n",
       "    }\n",
       "\n",
       "    .dataframe tbody tr th {\n",
       "        vertical-align: top;\n",
       "    }\n",
       "\n",
       "    .dataframe thead th {\n",
       "        text-align: right;\n",
       "    }\n",
       "</style>\n",
       "<table border=\"1\" class=\"dataframe\">\n",
       "  <thead>\n",
       "    <tr style=\"text-align: right;\">\n",
       "      <th></th>\n",
       "      <th>V</th>\n",
       "      <th>RC</th>\n",
       "      <th>V.1</th>\n",
       "      <th>RC.1</th>\n",
       "      <th>V.2</th>\n",
       "      <th>RC.2</th>\n",
       "      <th>V.3</th>\n",
       "      <th>RC.3</th>\n",
       "      <th>V.4</th>\n",
       "      <th>RC.4</th>\n",
       "    </tr>\n",
       "  </thead>\n",
       "  <tbody>\n",
       "    <tr>\n",
       "      <th>0</th>\n",
       "      <td>1</td>\n",
       "      <td>2.0</td>\n",
       "      <td>43</td>\n",
       "      <td>3.0</td>\n",
       "      <td>85</td>\n",
       "      <td>3</td>\n",
       "      <td>127</td>\n",
       "      <td>2.0</td>\n",
       "      <td>169</td>\n",
       "      <td>1.0</td>\n",
       "    </tr>\n",
       "    <tr>\n",
       "      <th>1</th>\n",
       "      <td>2</td>\n",
       "      <td>4.0</td>\n",
       "      <td>44</td>\n",
       "      <td>4.0</td>\n",
       "      <td>86</td>\n",
       "      <td>2</td>\n",
       "      <td>128</td>\n",
       "      <td>1.0</td>\n",
       "      <td>170</td>\n",
       "      <td>2.0</td>\n",
       "    </tr>\n",
       "    <tr>\n",
       "      <th>2</th>\n",
       "      <td>3</td>\n",
       "      <td>1.0</td>\n",
       "      <td>45</td>\n",
       "      <td>2.0</td>\n",
       "      <td>87</td>\n",
       "      <td>4</td>\n",
       "      <td>129</td>\n",
       "      <td>1.0</td>\n",
       "      <td>171</td>\n",
       "      <td>3.0</td>\n",
       "    </tr>\n",
       "    <tr>\n",
       "      <th>3</th>\n",
       "      <td>4</td>\n",
       "      <td>3.0</td>\n",
       "      <td>46</td>\n",
       "      <td>3.0</td>\n",
       "      <td>88</td>\n",
       "      <td>1</td>\n",
       "      <td>130</td>\n",
       "      <td>4.0</td>\n",
       "      <td>172</td>\n",
       "      <td>4.0</td>\n",
       "    </tr>\n",
       "    <tr>\n",
       "      <th>4</th>\n",
       "      <td>5</td>\n",
       "      <td>1.0</td>\n",
       "      <td>47</td>\n",
       "      <td>4.0</td>\n",
       "      <td>89</td>\n",
       "      <td>3</td>\n",
       "      <td>131</td>\n",
       "      <td>3.0</td>\n",
       "      <td>173</td>\n",
       "      <td>1.0</td>\n",
       "    </tr>\n",
       "    <tr>\n",
       "      <th>5</th>\n",
       "      <td>6</td>\n",
       "      <td>2.0</td>\n",
       "      <td>48</td>\n",
       "      <td>2.0</td>\n",
       "      <td>90</td>\n",
       "      <td>4</td>\n",
       "      <td>132</td>\n",
       "      <td>2.0</td>\n",
       "      <td>174</td>\n",
       "      <td>2.0</td>\n",
       "    </tr>\n",
       "    <tr>\n",
       "      <th>6</th>\n",
       "      <td>7</td>\n",
       "      <td>2.0</td>\n",
       "      <td>49</td>\n",
       "      <td>3.0</td>\n",
       "      <td>91</td>\n",
       "      <td>4</td>\n",
       "      <td>133</td>\n",
       "      <td>1.0</td>\n",
       "      <td>175</td>\n",
       "      <td>NaN</td>\n",
       "    </tr>\n",
       "    <tr>\n",
       "      <th>7</th>\n",
       "      <td>8</td>\n",
       "      <td>4.0</td>\n",
       "      <td>50</td>\n",
       "      <td>2.0</td>\n",
       "      <td>92</td>\n",
       "      <td>2</td>\n",
       "      <td>134</td>\n",
       "      <td>4.0</td>\n",
       "      <td>176</td>\n",
       "      <td>2.0</td>\n",
       "    </tr>\n",
       "    <tr>\n",
       "      <th>8</th>\n",
       "      <td>9</td>\n",
       "      <td>2.0</td>\n",
       "      <td>51</td>\n",
       "      <td>4.0</td>\n",
       "      <td>93</td>\n",
       "      <td>1</td>\n",
       "      <td>135</td>\n",
       "      <td>3.0</td>\n",
       "      <td>177</td>\n",
       "      <td>1.0</td>\n",
       "    </tr>\n",
       "    <tr>\n",
       "      <th>9</th>\n",
       "      <td>10</td>\n",
       "      <td>1.0</td>\n",
       "      <td>52</td>\n",
       "      <td>2.0</td>\n",
       "      <td>94</td>\n",
       "      <td>3</td>\n",
       "      <td>136</td>\n",
       "      <td>2.0</td>\n",
       "      <td>178</td>\n",
       "      <td>3.0</td>\n",
       "    </tr>\n",
       "  </tbody>\n",
       "</table>\n",
       "</div>"
      ],
      "text/plain": [
       "    V   RC  V.1  RC.1  V.2  RC.2  V.3  RC.3  V.4  RC.4\n",
       "0   1  2.0   43   3.0   85     3  127   2.0  169   1.0\n",
       "1   2  4.0   44   4.0   86     2  128   1.0  170   2.0\n",
       "2   3  1.0   45   2.0   87     4  129   1.0  171   3.0\n",
       "3   4  3.0   46   3.0   88     1  130   4.0  172   4.0\n",
       "4   5  1.0   47   4.0   89     3  131   3.0  173   1.0\n",
       "5   6  2.0   48   2.0   90     4  132   2.0  174   2.0\n",
       "6   7  2.0   49   3.0   91     4  133   1.0  175   NaN\n",
       "7   8  4.0   50   2.0   92     2  134   4.0  176   2.0\n",
       "8   9  2.0   51   4.0   93     1  135   3.0  177   1.0\n",
       "9  10  1.0   52   2.0   94     3  136   2.0  178   3.0"
      ]
     },
     "execution_count": 5,
     "metadata": {},
     "output_type": "execute_result"
    }
   ],
   "source": [
    "raw_answers_df: pd.DataFrame = pd.read_table(f\"../data/raw/type_1/Raw_Cuaderno_{year}_{topic}_0_C_Respuestas.tsv\")\n",
    "raw_answers_df.head(10)"
   ]
  },
  {
   "cell_type": "markdown",
   "metadata": {
    "id": "uFFlTADP8Jo7"
   },
   "source": [
    "# Data Transformation"
   ]
  },
  {
   "cell_type": "markdown",
   "metadata": {},
   "source": [
    "## Exam pdf"
   ]
  },
  {
   "cell_type": "markdown",
   "metadata": {},
   "source": [
    "### Removing white space"
   ]
  },
  {
   "cell_type": "markdown",
   "metadata": {
    "id": "2QavIIOK8Jo7"
   },
   "source": [
    "This section focuses on cleaning the raw text extracted from the PDF exam file, preparing it for further processing. This involves removing extraneous whitespace, handling empty lines, and resetting the DataFrame index.\n",
    "\n",
    "**1. Removing Page Number Artifacts:**\n",
    "\n",
    "The extracted text may contain page number artifacts, which are removed by filtering out rows containing the string \"Página\"."
   ]
  },
  {
   "cell_type": "code",
   "execution_count": 6,
   "metadata": {},
   "outputs": [],
   "source": [
    "raw_exam_df = raw_exam_df[~raw_exam_df[\"text\"].str.contains(\"Página\")]\n",
    "raw_exam_df = raw_exam_df[~raw_exam_df[\"text\"].str.contains(\"Pagina\")]\n",
    "raw_exam_df = raw_exam_df[~raw_exam_df[\"text\"].str.contains(topic)]\n",
    "\n",
    "footer_list: list = [f\"- {npag} -\" for npag in range(0,30,1)]\n",
    "\n",
    "for footer in footer_list:\n",
    "    raw_exam_df[\"text\"] = raw_exam_df[\"text\"].str.replace(footer, \"\")"
   ]
  },
  {
   "cell_type": "markdown",
   "metadata": {},
   "source": [
    "**2. Striping Leading/Trailing Whitespaces**\n",
    "\n",
    "Leading and trailing whitespace characters are removed from each text entry using the .str.strip() method."
   ]
  },
  {
   "cell_type": "code",
   "execution_count": 7,
   "metadata": {},
   "outputs": [],
   "source": [
    "raw_exam_df = raw_exam_df[\"text\"].str.strip()"
   ]
  },
  {
   "cell_type": "markdown",
   "metadata": {},
   "source": [
    "**3. Handling Empty Lines**\n",
    "\n",
    "Empty lines, represented as empty strings, are replaced with NaN (Not a Number) values. \n",
    "\n",
    "Then rows containing NaN values, representing empty lines, are removed from the DataFrame using .dropna()"
   ]
  },
  {
   "cell_type": "code",
   "execution_count": 8,
   "metadata": {},
   "outputs": [],
   "source": [
    "raw_exam_df = raw_exam_df.replace(\"\", np.nan)\n",
    "raw_exam_df = raw_exam_df.dropna()"
   ]
  },
  {
   "cell_type": "markdown",
   "metadata": {},
   "source": [
    "**4. Reseting DataFrame Index**\n",
    "\n",
    "The DataFrame index is reset after removing rows, ensuring a contiguous index and dropping the old index."
   ]
  },
  {
   "cell_type": "code",
   "execution_count": 9,
   "metadata": {},
   "outputs": [],
   "source": [
    "raw_exam_df = raw_exam_df.reset_index(drop=True)"
   ]
  },
  {
   "cell_type": "markdown",
   "metadata": {},
   "source": [
    "**5. Displays the first 10 rows of the DataFrame**"
   ]
  },
  {
   "cell_type": "code",
   "execution_count": 10,
   "metadata": {},
   "outputs": [
    {
     "data": {
      "text/plain": [
       "0      1. ¿Cómo se denomina al proceso mediante el que\n",
       "1    se elimina el sulfuro de hidrógeno presente en el\n",
       "2                    gas natural, produciendo azufre?:\n",
       "3                                   1. Proceso Frasch.\n",
       "4                                    2. Proceso Claus.\n",
       "5                                    3. Proceso Kroll.\n",
       "6                  4. Proceso de las cámaras de plomo.\n",
       "7       2. La forma alotrópica más estable del fósforo\n",
       "8                                        elemental es:\n",
       "9                                1. El fósforo blanco.\n",
       "Name: text, dtype: object"
      ]
     },
     "execution_count": 10,
     "metadata": {},
     "output_type": "execute_result"
    }
   ],
   "source": [
    "raw_exam_df.head(10)"
   ]
  },
  {
   "cell_type": "code",
   "execution_count": 11,
   "metadata": {},
   "outputs": [
    {
     "data": {
      "text/plain": [
       "1841                               2. Entre 0 y -0.019ºC.\n",
       "1842                                         3. -0.019ºC.\n",
       "1843                        4. Entre -0.019ºC y -0.038ºC.\n",
       "1844    210. La principal fuente d e colesterol extrac...\n",
       "1845                         para los tejidos humanos es:\n",
       "1846            1. Las lipoproteínas de muy baja densidad\n",
       "1847                                              (VLDL).\n",
       "1848         2. Las lipoproteínas de baja densidad (LDL).\n",
       "1849      3. Las lipoproteínas de elevada densidad (HDL).\n",
       "1850                                4. Los quilomicrones.\n",
       "Name: text, dtype: object"
      ]
     },
     "execution_count": 11,
     "metadata": {},
     "output_type": "execute_result"
    }
   ],
   "source": [
    "raw_exam_df.tail(10)"
   ]
  },
  {
   "cell_type": "markdown",
   "metadata": {},
   "source": [
    "### Joining Truncated Lines"
   ]
  },
  {
   "cell_type": "markdown",
   "metadata": {},
   "source": [
    "This section addresses the issue of truncated lines and multi-line questions or options within the extracted exam text. A custom function, `process_multi_line_str`, is used to concatenate these lines, ensuring that each question and option is presented as a single, coherent string.\n",
    "\n",
    "**Function: `process_multi_line_str(df)`**\n",
    "\n",
    "This function iterates through the DataFrame, performing two main tasks:\n",
    "\n",
    "1.  **Joining Truncated Words:**\n",
    "    * It checks if a line ends with a hyphen (\"-\"), indicating a word that has been truncated at the end of a line.\n",
    "    * If a line is truncated, it removes the hyphen and appends the content of the following line to the current line.\n",
    "    * The following line is then removed from the DataFrame, and the index is reset.\n",
    "\n",
    "2.  **Joining Multi-Line Questions/Options:**\n",
    "    * It checks if the first character of the next line can be converted to an integer. This is used as a heuristic to identify the start of a new question or option.\n",
    "    * If the next line does not start with an integer (i.e., it's a continuation of the current question or option), it is appended to the current line, separated by a space.\n",
    "    * The next line is then removed, and the index is reset."
   ]
  },
  {
   "cell_type": "code",
   "execution_count": 12,
   "metadata": {
    "id": "rYZHjn_C8Jo8"
   },
   "outputs": [],
   "source": [
    "def process_multi_line_str(df: pd.DataFrame) -> pd.DataFrame:\n",
    "    \"\"\"Function to handle truncated lines\n",
    "\n",
    "    Args:\n",
    "        df (pd.DataFrame): A pandas dataframe\n",
    "\n",
    "    Returns:\n",
    "        pd.DataFrame: Returns the DataFrame without truncated lines\n",
    "    \"\"\"\n",
    "    i: int = 0\n",
    "    while i < len(df) - 1:\n",
    "        if i < len(df) -1  and df.iloc[i].endswith(\"-\"):\n",
    "            df.iloc[i] = df.iloc[i][:-1] + df.iloc[i + 1]\n",
    "            df = df.drop(i + 1)\n",
    "            df = df.reset_index(drop=True)\n",
    "        else:\n",
    "            i += 1\n",
    "    n: int = 0\n",
    "    while n < len(df) -1:\n",
    "        if n + 1 < len(df):\n",
    "            try:\n",
    "                int(df.iloc[n + 1][0:1])\n",
    "                n += 1\n",
    "            except ValueError:\n",
    "                df.iloc[n] = df.iloc[n] + \" \" + df.iloc[n + 1]\n",
    "                df = df.drop(n +1)\n",
    "                df = df.reset_index(drop= True)\n",
    "        else:\n",
    "            break\n",
    "    return df"
   ]
  },
  {
   "cell_type": "markdown",
   "metadata": {},
   "source": [
    "The process_multi_line_str function is applied to the cleaned raw_exam_df DataFrame, and the resulting DataFrame is stored in exam_df_concat. The first few rows of the concatenated DataFrame are displayed to verify the results."
   ]
  },
  {
   "cell_type": "code",
   "execution_count": 13,
   "metadata": {
    "colab": {
     "base_uri": "https://localhost:8080/",
     "height": 206
    },
    "id": "2v6dmQuM8_v1",
    "outputId": "215f5328-a43d-4bbb-f221-fba6fc10a5c1"
   },
   "outputs": [
    {
     "data": {
      "text/plain": [
       "0    1. ¿Cómo se denomina al proceso mediante el qu...\n",
       "1                                   1. Proceso Frasch.\n",
       "2                                    2. Proceso Claus.\n",
       "3                                    3. Proceso Kroll.\n",
       "4                  4. Proceso de las cámaras de plomo.\n",
       "5    2. La forma alotrópica más estable del fósforo...\n",
       "6                                1. El fósforo blanco.\n",
       "7                                  2. El fósforo rojo.\n",
       "8                               3. El fósforo violeta.\n",
       "9                                 4. El fósforo negro.\n",
       "Name: text, dtype: object"
      ]
     },
     "execution_count": 13,
     "metadata": {},
     "output_type": "execute_result"
    }
   ],
   "source": [
    "exam_df_concat: pd.DataFrame = process_multi_line_str(raw_exam_df)\n",
    "exam_df_concat.head(10)"
   ]
  },
  {
   "cell_type": "markdown",
   "metadata": {},
   "source": [
    "### Validating and Correction Incorrect Rows"
   ]
  },
  {
   "cell_type": "markdown",
   "metadata": {},
   "source": [
    "This section focuses on validating the number of rows in the cleaned DataFrame against the expected number and correcting any rows that do not conform to the expected format.\n",
    "\n",
    "**1. Calculating Expected and Actual Incorrect Rows:**\n",
    "\n",
    "We calculate the expected number of incorrect rows by subtracting the total expected rows from the current number of rows in the DataFrame. We then identify the actual number of incorrect rows by counting the rows that do not end with a period (\".\"), a colon (\":\") or interrogation sign (\"?\")."
   ]
  },
  {
   "cell_type": "code",
   "execution_count": 14,
   "metadata": {},
   "outputs": [
    {
     "name": "stdout",
     "output_type": "stream",
     "text": [
      "Number of expected incorrect rows = 13\n",
      "Number of rows not ending with '.', ':' or '?' = 15\n",
      "[80, 114, 186, 187, 203, 256, 259, 360, 470, 507, 508, 712, 1007, 1027, 1030]\n"
     ]
    }
   ],
   "source": [
    "num_rows_incorrect_expected: int = len(exam_df_concat) - total_num_rows\n",
    "num_rows_incorrect: int = exam_df_concat[~exam_df_concat.str.endswith((\".\", \":\", \"?\"))].count()\n",
    "id_rows_incorrect: list = exam_df_concat[~exam_df_concat.str.endswith((\".\", \":\", \"?\"))].index.to_list()\n",
    "print(f\"Number of expected incorrect rows = {num_rows_incorrect_expected}\")\n",
    "print(f\"Number of rows not ending with '.', ':' or '?' = {num_rows_incorrect}\")\n",
    "print(id_rows_incorrect)"
   ]
  },
  {
   "cell_type": "markdown",
   "metadata": {},
   "source": [
    "**2. Function: print_rows_incorrrect(wrong_id, df):**\n",
    "\n",
    "This function takes a list of incorrect row indices and the DataFrame as input. It then prints the row identified as incorrect along with the 2 rows before and 2 rows after, providing context to help determine how to fix the error."
   ]
  },
  {
   "cell_type": "code",
   "execution_count": 15,
   "metadata": {},
   "outputs": [],
   "source": [
    "def print_rows_incorrrect(wrong_id: list[int], df: pd.DataFrame) -> None:\n",
    "    \"\"\"Print +/- 2 rows for context\n",
    "\n",
    "    Args:\n",
    "        wrong_id (list): Generated list of wrong row_id\n",
    "        df (pd.DataFrame): DataFrame corresponding with the worng_id list\n",
    "    \"\"\"\n",
    "    for wid in wrong_id:\n",
    "        print(f\"Id to fix {wid}:\")\n",
    "        print(df.iloc[wid -2: wid +3])"
   ]
  },
  {
   "cell_type": "markdown",
   "metadata": {},
   "source": [
    "**3. Function: fix_incorrect(num_row, df):**\n",
    "\n",
    "This function takes a list of row indices to fix and the DataFrame. It iterates through the indices in reverse order to avoid index shifting problems. Each incorrect row is concatenated with the row immediately following it, and the subsequent row is then dropped. The DataFrame index is reset after each concatenation."
   ]
  },
  {
   "cell_type": "code",
   "execution_count": 16,
   "metadata": {},
   "outputs": [],
   "source": [
    "def fix_incorrect(num_row: list[int], df: pd.DataFrame) -> pd.DataFrame:\n",
    "    \"\"\"Fix the incorrect rows in the DataFrame\n",
    "\n",
    "    Args:\n",
    "        num_row (list): List of ids to fix\n",
    "        df (pd.DataFrame): The DataFrame to fix\n",
    "\n",
    "    Returns:\n",
    "        pd.DataFrame: Fixed\n",
    "    \"\"\"\n",
    "    num_row: list = sorted(num_row, reverse=True)\n",
    "    for n in num_row:\n",
    "        df.iloc[n] = df.iloc[n] + df.iloc[n + 1]\n",
    "        df = df.drop(n + 1)\n",
    "        df = df.reset_index(drop= True)\n",
    "    return df"
   ]
  },
  {
   "cell_type": "markdown",
   "metadata": {},
   "source": [
    "**4. Validation and Correction Logic:**\n",
    "\n",
    "We compare the expected and actual number of incorrect rows. If they match, we proceed to fix the incorrect rows using the `fix_incorrect` function. Otherwise, we print the context of the incorrect rows and raise a warning, indicating that manual inspection and correction are required."
   ]
  },
  {
   "cell_type": "code",
   "execution_count": 17,
   "metadata": {},
   "outputs": [
    {
     "name": "stdout",
     "output_type": "stream",
     "text": [
      "Id to fix 80:\n",
      "78                                 3. Con el wolframio.\n",
      "79                                     4. Con el plomo.\n",
      "80    17. ¿Cuál de las siguientes reacciones es la q...\n",
      "81                                             200º C?:\n",
      "82                            1. NH4ClO4 → NH3 + HClO4.\n",
      "Name: text, dtype: object\n",
      "Id to fix 114:\n",
      "112          1. Tetraedros [SiO4] compartiendo vértices.\n",
      "113           2. Tetraedros [SiO4] compartiendo aristas.\n",
      "114            3. Octaedros [SiO6] compartiendo vértices\n",
      "115            4. Octaedros [SiO6] compartiendo aristas.\n",
      "116    24. Indica el principal producto de la combust...\n",
      "Name: text, dtype: object\n",
      "Id to fix 186:\n",
      "184    3. Es un gas muy estable a cualquier temperatura.\n",
      "185    4. Puede utilizarse para aumentar la potencia ...\n",
      "186                                          38. El 𝑷𝒐𝟖𝟒\n",
      "187                    𝟐𝟏𝟎  decae espontáneamente a 𝑷𝒃𝟖𝟐\n",
      "188                               𝟐𝟎𝟔  c o n emisión de:\n",
      "Name: text, dtype: object\n",
      "Id to fix 187:\n",
      "185    4. Puede utilizarse para aumentar la potencia ...\n",
      "186                                          38. El 𝑷𝒐𝟖𝟒\n",
      "187                    𝟐𝟏𝟎  decae espontáneamente a 𝑷𝒃𝟖𝟐\n",
      "188                               𝟐𝟎𝟔  c o n emisión de:\n",
      "189                                  1. Una partícula α.\n",
      "Name: text, dtype: object\n",
      "Id to fix 203:\n",
      "201                                          3. Cianuro.\n",
      "202                              4. Carbonato y nitrito.\n",
      "203    41. El punto triple del agua está a una presió...\n",
      "204    4.58 mm de Hg y a  una temperatura de +0,01ºC....\n",
      "205                           1. Sólido → Líquido → Gas.\n",
      "Name: text, dtype: object\n",
      "Id to fix 256:\n",
      "254    51. Si en una farmacia pedimos alcohol de 96º,...\n",
      "255                                     1. Alcohol puro.\n",
      "256        2. Una mezcla azeotrópica de 96% de alcohol y\n",
      "257    4% de agua con un punto de ebullición entre el...\n",
      "258      3. Alcohol cuyo punto de ebullición es de 96ºC.\n",
      "Name: text, dtype: object\n",
      "Id to fix 259:\n",
      "257    4% de agua con un punto de ebullición entre el...\n",
      "258      3. Alcohol cuyo punto de ebullición es de 96ºC.\n",
      "259        4. Una mezcla azeotrópica de 96% de alcohol y\n",
      "260    4% de agua con un punto de ebullición inferior...\n",
      "261    52. ¿Qué afirma el principi o de exclusión de ...\n",
      "Name: text, dtype: object\n",
      "Id to fix 360:\n",
      "358                        2. NaOH + HNO3 → NaNO3 + H2O.\n",
      "359                              3. H2 + CuO → H2O + Cu.\n",
      "360                                      4. CO2 + C → CO\n",
      "361    72. ¿Cuál de las siguientes combinaciones de l...\n",
      "362                                  1. Etanol y hexano.\n",
      "Name: text, dtype: object\n",
      "Id to fix 470:\n",
      "468    2. Sirve para estudiar cualquier núcleo atómic...\n",
      "469    3. Para poder ser analizado mediante RMN, es n...\n",
      "470    4. La RMN no puede utilizarse para estudiar ca...\n",
      "471                                                   6.\n",
      "472    94.  ¿Cuál de los siguientes factores favorece...\n",
      "Name: text, dtype: object\n",
      "Id to fix 507:\n",
      "505                                     3. Tetradentado.\n",
      "506                                      4. Hexadentado.\n",
      "507    101. Con 10 mL de una muestra que contiene dif...\n",
      "508     8.3∙10-17, Kps (AgBrO3) = 5.7∙10-5, Kps (AgBr) =\n",
      "509    5.2∙10-13,  K p s  ( A g C l )  =  8 . 3 ∙ 1 0...\n",
      "Name: text, dtype: object\n",
      "Id to fix 508:\n",
      "506                                      4. Hexadentado.\n",
      "507    101. Con 10 mL de una muestra que contiene dif...\n",
      "508     8.3∙10-17, Kps (AgBrO3) = 5.7∙10-5, Kps (AgBr) =\n",
      "509    5.2∙10-13,  K p s  ( A g C l )  =  8 . 3 ∙ 1 0...\n",
      "510                                              1. Agl.\n",
      "Name: text, dtype: object\n",
      "Id to fix 712:\n",
      "710    1. El ribosoma se une al extremo 3' del mRNA p...\n",
      "711    2. Los codones UAG, UGA y UGC señalizan el fin...\n",
      "712    3. La secuencia codificante de aminoácidos se ...\n",
      "713                                             3' a 5'.\n",
      "714    4. La síntesis de proteínas comienza por el ex...\n",
      "Name: text, dtype: object\n",
      "Id to fix 1007:\n",
      "1005    200. ¿Cuál de los siguientes enunciados, refer...\n",
      "1006    1. La adición de bromo al ciclopenteno, en tet...\n",
      "1007                    2. La hidroboración-oxidación del\n",
      "1008    1-metilciclopenteno conduce al trans-2metilcic...\n",
      "1009    3. La alcoximercuriación-desmercuriación (redu...\n",
      "Name: text, dtype: object\n",
      "Id to fix 1027:\n",
      "1025                                             4. Seis.\n",
      "1026    204. ¿Cuáles son las configuraciones electróni...\n",
      "1027    1. Cr: [Ar] 4s 23d5; Cr2+: [Ar] 4s 23d3; Cr3+:...\n",
      "1028                                              4s13d3.\n",
      "1029    2. Cr: [Ar] 4s23d5; Cr2+: [Ar] 3d5; Cr3+: [Ar]...\n",
      "Name: text, dtype: object\n",
      "Id to fix 1030:\n",
      "1028                                              4s13d3.\n",
      "1029    2. Cr: [Ar] 4s23d5; Cr2+: [Ar] 3d5; Cr3+: [Ar]...\n",
      "1030    3. Cr: [Ar] 4s 23d4; Cr2+: [Ar] 4s 23d2; Cr3+:...\n",
      "1031                                              4s23d1.\n",
      "1032    4. Cr: [Ar] 4s23d4; Cr2+: [Ar] 3d4; Cr3+: [Ar]...\n",
      "Name: text, dtype: object\n"
     ]
    }
   ],
   "source": [
    "if num_rows_incorrect_expected == num_rows_incorrect:\n",
    "    exam_df_fixed = fix_incorrect(id_rows_incorrect, exam_df_concat)\n",
    "    df_correct_rows: bool = len(exam_df_fixed) == num_rows_incorrect_expected\n",
    "else:\n",
    "    print_rows_incorrrect(id_rows_incorrect, exam_df_concat)\n",
    "    # raise Warning(\"More incorrect rows that expected, uncomment the lines below and add ids to the list, and comment this line\")\n",
    "    rows_fix: list[int] = [80, 186, 187, 203, 256, 259, 470, 507, 508, 712, 1007, 1027, 1030]\n",
    "    exam_df_fixed: pd.DataFrame = fix_incorrect(rows_fix, exam_df_concat)"
   ]
  },
  {
   "cell_type": "markdown",
   "metadata": {},
   "source": [
    "**5. Verification of Corrected Rows:**\n",
    "\n",
    "We print the expected total number of rows and the actual number of rows in the corrected DataFrame to verify the results of the correction process."
   ]
  },
  {
   "cell_type": "code",
   "execution_count": 18,
   "metadata": {},
   "outputs": [
    {
     "name": "stdout",
     "output_type": "stream",
     "text": [
      "Correct number of rows = 1050\n",
      "1050\n"
     ]
    }
   ],
   "source": [
    "print(f\"Correct number of rows = {total_num_rows}\")\n",
    "print(exam_df_fixed.shape[0])"
   ]
  },
  {
   "cell_type": "markdown",
   "metadata": {},
   "source": [
    "### Pivoting the DataFrame\n",
    "\n",
    "This section focuses on transforming the cleaned exam data into a structured format suitable for analysis. The DataFrame is pivoted to create columns for each question and its corresponding options.\n",
    "\n",
    "**1. Preparing the DataFrame for Pivoting:**\n",
    "\n",
    "The `exam_df_fixed` Series is converted to a DataFrame, and a 'group' column is created to identify each question and its options. An 'option_num' column is then generated to enumerate the options within each group.\n"
   ]
  },
  {
   "cell_type": "code",
   "execution_count": 19,
   "metadata": {},
   "outputs": [],
   "source": [
    "exam_df_fixed = exam_df_fixed.to_frame()\n",
    "groups: pd.Series = pd.Series((exam_df_fixed.index // (num_questions+1)) +1)\n",
    "exam_df_fixed[\"group\"] = groups  \n",
    "exam_df_fixed[\"option_num\"] = exam_df_fixed.groupby(\"group\").cumcount() + 1"
   ]
  },
  {
   "cell_type": "markdown",
   "metadata": {},
   "source": [
    "**2. Pivoting the DataFrame:**\n",
    "\n",
    "The DataFrame is pivoted using the 'group' column as the index, the 'option_num' column as the columns, and the 'text' column as the values. The index is then reset."
   ]
  },
  {
   "cell_type": "code",
   "execution_count": 20,
   "metadata": {},
   "outputs": [],
   "source": [
    "exam_df_pivot: pd.DataFrame = exam_df_fixed.pivot(index=\"group\", columns=\"option_num\", values=\"text\")\n",
    "exam_df_pivot = exam_df_pivot.reset_index()"
   ]
  },
  {
   "cell_type": "markdown",
   "metadata": {},
   "source": [
    "**3. Renaming Columns:**\n",
    "\n",
    "The columns are renamed to more descriptive names, such as \"Question\", \"Option_1\", \"Option_2\", etc."
   ]
  },
  {
   "cell_type": "code",
   "execution_count": 21,
   "metadata": {},
   "outputs": [],
   "source": [
    "key_list: list = [x for x in range(1, num_questions+2, 1)]\n",
    "val_list: list = [\"Question\"] + [f\"Option_{x}\" for x in range(1, 4 + 1, 1)]\n",
    "\n",
    "exam_df_pivot = exam_df_pivot.rename_axis(None, axis=1).rename(columns=dict(zip(key_list, val_list)))"
   ]
  },
  {
   "cell_type": "markdown",
   "metadata": {},
   "source": [
    "**4. Dropping the 'group' Column:**\n",
    "\n",
    "The 'group' column is dropped as it is no longer needed"
   ]
  },
  {
   "cell_type": "code",
   "execution_count": 22,
   "metadata": {},
   "outputs": [],
   "source": [
    "exam_df_pivot = exam_df_pivot.drop(columns=[\"group\"])"
   ]
  },
  {
   "cell_type": "markdown",
   "metadata": {},
   "source": [
    "**5. Displaying the Pivoted DataFrame:**\n",
    "\n",
    "The first 10 rows of the pivoted DataFrame are displayed to verify the results of the transformation."
   ]
  },
  {
   "cell_type": "code",
   "execution_count": 23,
   "metadata": {},
   "outputs": [
    {
     "data": {
      "application/vnd.microsoft.datawrangler.viewer.v0+json": {
       "columns": [
        {
         "name": "index",
         "rawType": "int64",
         "type": "integer"
        },
        {
         "name": "Question",
         "rawType": "object",
         "type": "string"
        },
        {
         "name": "Option_1",
         "rawType": "object",
         "type": "string"
        },
        {
         "name": "Option_2",
         "rawType": "object",
         "type": "string"
        },
        {
         "name": "Option_3",
         "rawType": "object",
         "type": "string"
        },
        {
         "name": "Option_4",
         "rawType": "object",
         "type": "string"
        }
       ],
       "conversionMethod": "pd.DataFrame",
       "ref": "0d57e517-0948-4437-b067-21a32b4ae82c",
       "rows": [
        [
         "0",
         "1. ¿Cómo se denomina al proceso mediante el que se elimina el sulfuro de hidrógeno presente en el gas natural, produciendo azufre?:",
         "1. Proceso Frasch.",
         "2. Proceso Claus.",
         "3. Proceso Kroll.",
         "4. Proceso de las cámaras de plomo."
        ],
        [
         "1",
         "2. La forma alotrópica más estable del fósforo elemental es:",
         "1. El fósforo blanco.",
         "2. El fósforo rojo.",
         "3. El fósforo violeta.",
         "4. El fósforo negro."
        ],
        [
         "2",
         "3. ¿Es posible obtener algún compuesto en estado de oxidación 8?:",
         "1. Si, por ejemplo, el OsO4 y el RuO4.",
         "2. No, pero se puede alcanzar estado de oxidación 7, por ejemplo OsF7.",
         "3. No, pero se puede alcanzar estado de oxidación 7, por ejemplo OsCl7.",
         "4. No, pero se puede alcanzar estado de oxidación 7, por ejemplo OsBr7."
        ],
        [
         "3",
         "4. ¿Cuál de las siguientes afirmaciones sobre los compuestos iónicos es FALSA?:",
         "1. Todos los compuestos iónicos son sólidos y sus cristales son duros y frágiles.",
         "2. Tienen puntos de fusión elevados.",
         "3. Si no descomponen al calentarlos, en estado fundido actúan como aislantes.",
         "4. Casi todos se disuelven en disolventes muy polares (como el agua) generando soluciones que conducen la electricidad."
        ],
        [
         "4",
         "5. ¿Con qué elementos forma compuestos el flúor?:",
         "1. Con todos menos con He, Ne y Ar.",
         "2. Con todos menos con los gases nobles.",
         "3. Con todos menos con los alcalinos.",
         "4. Con todos menos con los otros halógenos."
        ],
        [
         "5",
         "6. ¿Qué es la fibra óptica?:",
         "1. Fibra delgada de óxido de hierro de ultra alta pureza.",
         "2. Fibra delgada de sílice de ultra alta pureza.",
         "3. Fibra delgada de óxido de hierro con impurezas de óxido de manganeso.",
         "4. Fibra delgada de sílice con impurezas de óxido de aluminio."
        ],
        [
         "6",
         "7. El anión tiosulfato se empleó de forma muy amplia en fotografía, es muy utilizado como reductor y tiene diversos usos en Medicina. ¿Cuál es su fórmula?:",
         "1. S4O62-.",
         "2. S2O32-.",
         "3. HSO3-.",
         "4. S2O72-."
        ],
        [
         "7",
         "8. El cobalto:",
         "1. Es un metal blando de color metálico.",
         "2. En su forma metálica no tiene propiedades magnéticas.",
         "3. Es muy reactivo como elemento químico.",
         "4. Es un elemento esencial para los seres vivos."
        ],
        [
         "8",
         "9. ¿Qué tipo de defecto es un defecto de Schottky?:",
         "1. Defecto puntual extrínseco.",
         "2. Defecto puntual intrínseco.",
         "3. Defecto extendido.",
         "4. Defecto lineal."
        ],
        [
         "9",
         "10. ¿Cuál de las siguientes reacciones necesita de un catalizador para ser rápida?:",
         "1. H2O2 (liq.) → H2O (liq.) + ½ O2 (gas).",
         "2. H2O2 (liq.) + SO2 (gas) → H2SO4.",
         "3. NO (gas) + ½ O2 (gas) → NO2 (gas).",
         "4. Cl2 +  2 NaOH → NaCl + NaClO + H2O."
        ]
       ],
       "shape": {
        "columns": 5,
        "rows": 10
       }
      },
      "text/html": [
       "<div>\n",
       "<style scoped>\n",
       "    .dataframe tbody tr th:only-of-type {\n",
       "        vertical-align: middle;\n",
       "    }\n",
       "\n",
       "    .dataframe tbody tr th {\n",
       "        vertical-align: top;\n",
       "    }\n",
       "\n",
       "    .dataframe thead th {\n",
       "        text-align: right;\n",
       "    }\n",
       "</style>\n",
       "<table border=\"1\" class=\"dataframe\">\n",
       "  <thead>\n",
       "    <tr style=\"text-align: right;\">\n",
       "      <th></th>\n",
       "      <th>Question</th>\n",
       "      <th>Option_1</th>\n",
       "      <th>Option_2</th>\n",
       "      <th>Option_3</th>\n",
       "      <th>Option_4</th>\n",
       "    </tr>\n",
       "  </thead>\n",
       "  <tbody>\n",
       "    <tr>\n",
       "      <th>0</th>\n",
       "      <td>1. ¿Cómo se denomina al proceso mediante el qu...</td>\n",
       "      <td>1. Proceso Frasch.</td>\n",
       "      <td>2. Proceso Claus.</td>\n",
       "      <td>3. Proceso Kroll.</td>\n",
       "      <td>4. Proceso de las cámaras de plomo.</td>\n",
       "    </tr>\n",
       "    <tr>\n",
       "      <th>1</th>\n",
       "      <td>2. La forma alotrópica más estable del fósforo...</td>\n",
       "      <td>1. El fósforo blanco.</td>\n",
       "      <td>2. El fósforo rojo.</td>\n",
       "      <td>3. El fósforo violeta.</td>\n",
       "      <td>4. El fósforo negro.</td>\n",
       "    </tr>\n",
       "    <tr>\n",
       "      <th>2</th>\n",
       "      <td>3. ¿Es posible obtener algún compuesto en esta...</td>\n",
       "      <td>1. Si, por ejemplo, el OsO4 y el RuO4.</td>\n",
       "      <td>2. No, pero se puede alcanzar estado de oxidac...</td>\n",
       "      <td>3. No, pero se puede alcanzar estado de oxidac...</td>\n",
       "      <td>4. No, pero se puede alcanzar estado de oxidac...</td>\n",
       "    </tr>\n",
       "    <tr>\n",
       "      <th>3</th>\n",
       "      <td>4. ¿Cuál de las siguientes afirmaciones sobre ...</td>\n",
       "      <td>1. Todos los compuestos iónicos son sólidos y ...</td>\n",
       "      <td>2. Tienen puntos de fusión elevados.</td>\n",
       "      <td>3. Si no descomponen al calentarlos, en estado...</td>\n",
       "      <td>4. Casi todos se disuelven en disolventes muy ...</td>\n",
       "    </tr>\n",
       "    <tr>\n",
       "      <th>4</th>\n",
       "      <td>5. ¿Con qué elementos forma compuestos el flúor?:</td>\n",
       "      <td>1. Con todos menos con He, Ne y Ar.</td>\n",
       "      <td>2. Con todos menos con los gases nobles.</td>\n",
       "      <td>3. Con todos menos con los alcalinos.</td>\n",
       "      <td>4. Con todos menos con los otros halógenos.</td>\n",
       "    </tr>\n",
       "    <tr>\n",
       "      <th>5</th>\n",
       "      <td>6. ¿Qué es la fibra óptica?:</td>\n",
       "      <td>1. Fibra delgada de óxido de hierro de ultra a...</td>\n",
       "      <td>2. Fibra delgada de sílice de ultra alta pureza.</td>\n",
       "      <td>3. Fibra delgada de óxido de hierro con impure...</td>\n",
       "      <td>4. Fibra delgada de sílice con impurezas de óx...</td>\n",
       "    </tr>\n",
       "    <tr>\n",
       "      <th>6</th>\n",
       "      <td>7. El anión tiosulfato se empleó de forma muy ...</td>\n",
       "      <td>1. S4O62-.</td>\n",
       "      <td>2. S2O32-.</td>\n",
       "      <td>3. HSO3-.</td>\n",
       "      <td>4. S2O72-.</td>\n",
       "    </tr>\n",
       "    <tr>\n",
       "      <th>7</th>\n",
       "      <td>8. El cobalto:</td>\n",
       "      <td>1. Es un metal blando de color metálico.</td>\n",
       "      <td>2. En su forma metálica no tiene propiedades m...</td>\n",
       "      <td>3. Es muy reactivo como elemento químico.</td>\n",
       "      <td>4. Es un elemento esencial para los seres vivos.</td>\n",
       "    </tr>\n",
       "    <tr>\n",
       "      <th>8</th>\n",
       "      <td>9. ¿Qué tipo de defecto es un defecto de Schot...</td>\n",
       "      <td>1. Defecto puntual extrínseco.</td>\n",
       "      <td>2. Defecto puntual intrínseco.</td>\n",
       "      <td>3. Defecto extendido.</td>\n",
       "      <td>4. Defecto lineal.</td>\n",
       "    </tr>\n",
       "    <tr>\n",
       "      <th>9</th>\n",
       "      <td>10. ¿Cuál de las siguientes reacciones necesit...</td>\n",
       "      <td>1. H2O2 (liq.) → H2O (liq.) + ½ O2 (gas).</td>\n",
       "      <td>2. H2O2 (liq.) + SO2 (gas) → H2SO4.</td>\n",
       "      <td>3. NO (gas) + ½ O2 (gas) → NO2 (gas).</td>\n",
       "      <td>4. Cl2 +  2 NaOH → NaCl + NaClO + H2O.</td>\n",
       "    </tr>\n",
       "  </tbody>\n",
       "</table>\n",
       "</div>"
      ],
      "text/plain": [
       "                                            Question  \\\n",
       "0  1. ¿Cómo se denomina al proceso mediante el qu...   \n",
       "1  2. La forma alotrópica más estable del fósforo...   \n",
       "2  3. ¿Es posible obtener algún compuesto en esta...   \n",
       "3  4. ¿Cuál de las siguientes afirmaciones sobre ...   \n",
       "4  5. ¿Con qué elementos forma compuestos el flúor?:   \n",
       "5                       6. ¿Qué es la fibra óptica?:   \n",
       "6  7. El anión tiosulfato se empleó de forma muy ...   \n",
       "7                                     8. El cobalto:   \n",
       "8  9. ¿Qué tipo de defecto es un defecto de Schot...   \n",
       "9  10. ¿Cuál de las siguientes reacciones necesit...   \n",
       "\n",
       "                                            Option_1  \\\n",
       "0                                 1. Proceso Frasch.   \n",
       "1                              1. El fósforo blanco.   \n",
       "2             1. Si, por ejemplo, el OsO4 y el RuO4.   \n",
       "3  1. Todos los compuestos iónicos son sólidos y ...   \n",
       "4                1. Con todos menos con He, Ne y Ar.   \n",
       "5  1. Fibra delgada de óxido de hierro de ultra a...   \n",
       "6                                         1. S4O62-.   \n",
       "7           1. Es un metal blando de color metálico.   \n",
       "8                     1. Defecto puntual extrínseco.   \n",
       "9          1. H2O2 (liq.) → H2O (liq.) + ½ O2 (gas).   \n",
       "\n",
       "                                            Option_2  \\\n",
       "0                                  2. Proceso Claus.   \n",
       "1                                2. El fósforo rojo.   \n",
       "2  2. No, pero se puede alcanzar estado de oxidac...   \n",
       "3               2. Tienen puntos de fusión elevados.   \n",
       "4           2. Con todos menos con los gases nobles.   \n",
       "5   2. Fibra delgada de sílice de ultra alta pureza.   \n",
       "6                                         2. S2O32-.   \n",
       "7  2. En su forma metálica no tiene propiedades m...   \n",
       "8                     2. Defecto puntual intrínseco.   \n",
       "9                2. H2O2 (liq.) + SO2 (gas) → H2SO4.   \n",
       "\n",
       "                                            Option_3  \\\n",
       "0                                  3. Proceso Kroll.   \n",
       "1                             3. El fósforo violeta.   \n",
       "2  3. No, pero se puede alcanzar estado de oxidac...   \n",
       "3  3. Si no descomponen al calentarlos, en estado...   \n",
       "4              3. Con todos menos con los alcalinos.   \n",
       "5  3. Fibra delgada de óxido de hierro con impure...   \n",
       "6                                          3. HSO3-.   \n",
       "7          3. Es muy reactivo como elemento químico.   \n",
       "8                              3. Defecto extendido.   \n",
       "9              3. NO (gas) + ½ O2 (gas) → NO2 (gas).   \n",
       "\n",
       "                                            Option_4  \n",
       "0                4. Proceso de las cámaras de plomo.  \n",
       "1                               4. El fósforo negro.  \n",
       "2  4. No, pero se puede alcanzar estado de oxidac...  \n",
       "3  4. Casi todos se disuelven en disolventes muy ...  \n",
       "4        4. Con todos menos con los otros halógenos.  \n",
       "5  4. Fibra delgada de sílice con impurezas de óx...  \n",
       "6                                         4. S2O72-.  \n",
       "7   4. Es un elemento esencial para los seres vivos.  \n",
       "8                                 4. Defecto lineal.  \n",
       "9             4. Cl2 +  2 NaOH → NaCl + NaClO + H2O.  "
      ]
     },
     "execution_count": 23,
     "metadata": {},
     "output_type": "execute_result"
    }
   ],
   "source": [
    "exam_df_pivot.head(10)"
   ]
  },
  {
   "cell_type": "code",
   "execution_count": 24,
   "metadata": {},
   "outputs": [
    {
     "data": {
      "application/vnd.microsoft.datawrangler.viewer.v0+json": {
       "columns": [
        {
         "name": "index",
         "rawType": "int64",
         "type": "integer"
        },
        {
         "name": "Question",
         "rawType": "object",
         "type": "string"
        },
        {
         "name": "Option_1",
         "rawType": "object",
         "type": "string"
        },
        {
         "name": "Option_2",
         "rawType": "object",
         "type": "string"
        },
        {
         "name": "Option_3",
         "rawType": "object",
         "type": "string"
        },
        {
         "name": "Option_4",
         "rawType": "object",
         "type": "string"
        }
       ],
       "conversionMethod": "pd.DataFrame",
       "ref": "f5375a50-722f-4df6-b9bd-010e122412b3",
       "rows": [
        [
         "200",
         "201. ¿Cuál de las siguientes es una metaloenzima que contiene wolframio?:",
         "1. Carboxipeptidasa A.",
         "2. Formilmetanofurano deshidrogenasa.",
         "3. Monóxido de carbono deshidrogenasa.",
         "4. Carboxipeptidas B."
        ],
        [
         "201",
         "202. Las lipoproteínas más ligeras (densidad <1.00 g/cm3) son:",
         "1. Las de baja densidad (LDL).",
         "2. Las de alta densidad (HDL).",
         "3. Los quilomicrones.",
         "4. Las de muy baja densidad (VLDL)."
        ],
        [
         "202",
         "203. ¿Cuántos átomos de nitrógeno contiene una molécula de adenina?:",
         "1. Cinco.",
         "2. Cuatro.",
         "3. Tres.",
         "4. Seis."
        ],
        [
         "203",
         "204. ¿Cuáles son las configuraciones electrónicas del cromo y de sus iones Cr2+ y Cr3+?:",
         "1. Cr: [Ar] 4s 23d5; Cr2+: [Ar] 4s 23d3; Cr3+: [Ar]4s13d3.",
         "2. Cr: [Ar] 4s23d5; Cr2+: [Ar] 3d5; Cr3+: [Ar] 3d4.",
         "3. Cr: [Ar] 4s 23d4; Cr2+: [Ar] 4s 23d2; Cr3+: [Ar]4s23d1.",
         "4. Cr: [Ar] 4s23d4; Cr2+: [Ar] 3d4; Cr3+: [Ar] 3d3."
        ],
        [
         "204",
         "205. En un procedimiento de medida, la menor concentración de analito que somos capaces de medir con una exactitud o fiabilidad previamente establecidas, recibe el nombre de:",
         "1. Límite de detección.",
         "2. Límite de cuantificación.",
         "3. Capacidad del procedimiento de medida.",
         "4. Límite de dilución."
        ],
        [
         "205",
         "206. ¿Cuál es la composición del núcleo del deuterio, isótopo del hidrógeno?:",
         "1. Dos protones.",
         "2. Dos neutrones.",
         "3. Un protón y un neutrón.",
         "4. Un protón y dos neutrones."
        ],
        [
         "206",
         "207. La Rifampicina inhibe la transcripción en las bacterias porque:",
         "1. Se une a la subunidad beta de las RNA polimerasas bacterianas impidiendo el desalojo del promotor.",
         "2. Se une en el DNA a las secuencias promotoras de la transcripción.",
         "3. Desestabiliza el heteroduplex DNA-RNA formado durante el proceso de elongación.",
         "4. Se intercala en el molde de DNA e impide la elongación de la transcripción."
        ],
        [
         "207",
         "208. Si una reacción compuesta por varias etapas elementales, 𝑨 𝒌ష𝟏 ር⎯⎯ሲ ሬሬሬሬሬሬሬሬ⃗ 𝒌𝟏 𝑩 B 𝒌𝟐 →C tiene una constante de velocidad, K, que se puede expresar como: K= 𝒌𝟏𝒌𝟐 𝒌ష𝟏 . Entonces su energía de activación, E A, se puede expresar en función de EA1, EA2 Y EA-1 según la expresión :",
         "1. EA=-EA1+EA-1-EA2.",
         "2. EA=EA1-EA-1+EA2.",
         "3. EA=-EA1+EA-1+EA2.",
         "4. EA=-EA1-EA-1-EA2."
        ],
        [
         "208",
         "209. Una disolución de urea en agua, con concentración 0.010 molal, tiene un punto de congelación de -0.019ºC. Una disolución de NaCl 0.010 molal tendrá un punto de congelación de:",
         "1. 0ºC.",
         "2. Entre 0 y -0.019ºC.",
         "3. -0.019ºC.",
         "4. Entre -0.019ºC y -0.038ºC."
        ],
        [
         "209",
         "210. La principal fuente d e colesterol extracelular para los tejidos humanos es:",
         "1. Las lipoproteínas de muy baja densidad (VLDL).",
         "2. Las lipoproteínas de baja densidad (LDL).",
         "3. Las lipoproteínas de elevada densidad (HDL).",
         "4. Los quilomicrones."
        ]
       ],
       "shape": {
        "columns": 5,
        "rows": 10
       }
      },
      "text/html": [
       "<div>\n",
       "<style scoped>\n",
       "    .dataframe tbody tr th:only-of-type {\n",
       "        vertical-align: middle;\n",
       "    }\n",
       "\n",
       "    .dataframe tbody tr th {\n",
       "        vertical-align: top;\n",
       "    }\n",
       "\n",
       "    .dataframe thead th {\n",
       "        text-align: right;\n",
       "    }\n",
       "</style>\n",
       "<table border=\"1\" class=\"dataframe\">\n",
       "  <thead>\n",
       "    <tr style=\"text-align: right;\">\n",
       "      <th></th>\n",
       "      <th>Question</th>\n",
       "      <th>Option_1</th>\n",
       "      <th>Option_2</th>\n",
       "      <th>Option_3</th>\n",
       "      <th>Option_4</th>\n",
       "    </tr>\n",
       "  </thead>\n",
       "  <tbody>\n",
       "    <tr>\n",
       "      <th>200</th>\n",
       "      <td>201. ¿Cuál de las siguientes es una metaloenzi...</td>\n",
       "      <td>1. Carboxipeptidasa A.</td>\n",
       "      <td>2. Formilmetanofurano deshidrogenasa.</td>\n",
       "      <td>3. Monóxido de carbono deshidrogenasa.</td>\n",
       "      <td>4. Carboxipeptidas B.</td>\n",
       "    </tr>\n",
       "    <tr>\n",
       "      <th>201</th>\n",
       "      <td>202. Las lipoproteínas más ligeras (densidad &lt;...</td>\n",
       "      <td>1. Las de baja densidad (LDL).</td>\n",
       "      <td>2. Las de alta densidad (HDL).</td>\n",
       "      <td>3. Los quilomicrones.</td>\n",
       "      <td>4. Las de muy baja densidad (VLDL).</td>\n",
       "    </tr>\n",
       "    <tr>\n",
       "      <th>202</th>\n",
       "      <td>203. ¿Cuántos átomos de nitrógeno contiene una...</td>\n",
       "      <td>1. Cinco.</td>\n",
       "      <td>2. Cuatro.</td>\n",
       "      <td>3. Tres.</td>\n",
       "      <td>4. Seis.</td>\n",
       "    </tr>\n",
       "    <tr>\n",
       "      <th>203</th>\n",
       "      <td>204. ¿Cuáles son las configuraciones electróni...</td>\n",
       "      <td>1. Cr: [Ar] 4s 23d5; Cr2+: [Ar] 4s 23d3; Cr3+:...</td>\n",
       "      <td>2. Cr: [Ar] 4s23d5; Cr2+: [Ar] 3d5; Cr3+: [Ar]...</td>\n",
       "      <td>3. Cr: [Ar] 4s 23d4; Cr2+: [Ar] 4s 23d2; Cr3+:...</td>\n",
       "      <td>4. Cr: [Ar] 4s23d4; Cr2+: [Ar] 3d4; Cr3+: [Ar]...</td>\n",
       "    </tr>\n",
       "    <tr>\n",
       "      <th>204</th>\n",
       "      <td>205. En un procedimiento de medida, la menor c...</td>\n",
       "      <td>1. Límite de detección.</td>\n",
       "      <td>2. Límite de cuantificación.</td>\n",
       "      <td>3. Capacidad del procedimiento de medida.</td>\n",
       "      <td>4. Límite de dilución.</td>\n",
       "    </tr>\n",
       "    <tr>\n",
       "      <th>205</th>\n",
       "      <td>206. ¿Cuál es la composición del núcleo del de...</td>\n",
       "      <td>1. Dos protones.</td>\n",
       "      <td>2. Dos neutrones.</td>\n",
       "      <td>3. Un protón y un neutrón.</td>\n",
       "      <td>4. Un protón y dos neutrones.</td>\n",
       "    </tr>\n",
       "    <tr>\n",
       "      <th>206</th>\n",
       "      <td>207. La Rifampicina inhibe la transcripción en...</td>\n",
       "      <td>1. Se une a la subunidad beta de las RNA polim...</td>\n",
       "      <td>2. Se une en el DNA a las secuencias promotora...</td>\n",
       "      <td>3. Desestabiliza el heteroduplex DNA-RNA forma...</td>\n",
       "      <td>4. Se intercala en el molde de DNA e impide la...</td>\n",
       "    </tr>\n",
       "    <tr>\n",
       "      <th>207</th>\n",
       "      <td>208. Si una reacción compuesta por varias etap...</td>\n",
       "      <td>1. EA=-EA1+EA-1-EA2.</td>\n",
       "      <td>2. EA=EA1-EA-1+EA2.</td>\n",
       "      <td>3. EA=-EA1+EA-1+EA2.</td>\n",
       "      <td>4. EA=-EA1-EA-1-EA2.</td>\n",
       "    </tr>\n",
       "    <tr>\n",
       "      <th>208</th>\n",
       "      <td>209. Una disolución de urea en agua, con conce...</td>\n",
       "      <td>1. 0ºC.</td>\n",
       "      <td>2. Entre 0 y -0.019ºC.</td>\n",
       "      <td>3. -0.019ºC.</td>\n",
       "      <td>4. Entre -0.019ºC y -0.038ºC.</td>\n",
       "    </tr>\n",
       "    <tr>\n",
       "      <th>209</th>\n",
       "      <td>210. La principal fuente d e colesterol extrac...</td>\n",
       "      <td>1. Las lipoproteínas de muy baja densidad (VLDL).</td>\n",
       "      <td>2. Las lipoproteínas de baja densidad (LDL).</td>\n",
       "      <td>3. Las lipoproteínas de elevada densidad (HDL).</td>\n",
       "      <td>4. Los quilomicrones.</td>\n",
       "    </tr>\n",
       "  </tbody>\n",
       "</table>\n",
       "</div>"
      ],
      "text/plain": [
       "                                              Question  \\\n",
       "200  201. ¿Cuál de las siguientes es una metaloenzi...   \n",
       "201  202. Las lipoproteínas más ligeras (densidad <...   \n",
       "202  203. ¿Cuántos átomos de nitrógeno contiene una...   \n",
       "203  204. ¿Cuáles son las configuraciones electróni...   \n",
       "204  205. En un procedimiento de medida, la menor c...   \n",
       "205  206. ¿Cuál es la composición del núcleo del de...   \n",
       "206  207. La Rifampicina inhibe la transcripción en...   \n",
       "207  208. Si una reacción compuesta por varias etap...   \n",
       "208  209. Una disolución de urea en agua, con conce...   \n",
       "209  210. La principal fuente d e colesterol extrac...   \n",
       "\n",
       "                                              Option_1  \\\n",
       "200                             1. Carboxipeptidasa A.   \n",
       "201                     1. Las de baja densidad (LDL).   \n",
       "202                                          1. Cinco.   \n",
       "203  1. Cr: [Ar] 4s 23d5; Cr2+: [Ar] 4s 23d3; Cr3+:...   \n",
       "204                            1. Límite de detección.   \n",
       "205                                   1. Dos protones.   \n",
       "206  1. Se une a la subunidad beta de las RNA polim...   \n",
       "207                               1. EA=-EA1+EA-1-EA2.   \n",
       "208                                            1. 0ºC.   \n",
       "209  1. Las lipoproteínas de muy baja densidad (VLDL).   \n",
       "\n",
       "                                              Option_2  \\\n",
       "200              2. Formilmetanofurano deshidrogenasa.   \n",
       "201                     2. Las de alta densidad (HDL).   \n",
       "202                                         2. Cuatro.   \n",
       "203  2. Cr: [Ar] 4s23d5; Cr2+: [Ar] 3d5; Cr3+: [Ar]...   \n",
       "204                       2. Límite de cuantificación.   \n",
       "205                                  2. Dos neutrones.   \n",
       "206  2. Se une en el DNA a las secuencias promotora...   \n",
       "207                                2. EA=EA1-EA-1+EA2.   \n",
       "208                             2. Entre 0 y -0.019ºC.   \n",
       "209       2. Las lipoproteínas de baja densidad (LDL).   \n",
       "\n",
       "                                              Option_3  \\\n",
       "200             3. Monóxido de carbono deshidrogenasa.   \n",
       "201                              3. Los quilomicrones.   \n",
       "202                                           3. Tres.   \n",
       "203  3. Cr: [Ar] 4s 23d4; Cr2+: [Ar] 4s 23d2; Cr3+:...   \n",
       "204          3. Capacidad del procedimiento de medida.   \n",
       "205                         3. Un protón y un neutrón.   \n",
       "206  3. Desestabiliza el heteroduplex DNA-RNA forma...   \n",
       "207                               3. EA=-EA1+EA-1+EA2.   \n",
       "208                                       3. -0.019ºC.   \n",
       "209    3. Las lipoproteínas de elevada densidad (HDL).   \n",
       "\n",
       "                                              Option_4  \n",
       "200                              4. Carboxipeptidas B.  \n",
       "201                4. Las de muy baja densidad (VLDL).  \n",
       "202                                           4. Seis.  \n",
       "203  4. Cr: [Ar] 4s23d4; Cr2+: [Ar] 3d4; Cr3+: [Ar]...  \n",
       "204                             4. Límite de dilución.  \n",
       "205                      4. Un protón y dos neutrones.  \n",
       "206  4. Se intercala en el molde de DNA e impide la...  \n",
       "207                               4. EA=-EA1-EA-1-EA2.  \n",
       "208                      4. Entre -0.019ºC y -0.038ºC.  \n",
       "209                              4. Los quilomicrones.  "
      ]
     },
     "execution_count": 24,
     "metadata": {},
     "output_type": "execute_result"
    }
   ],
   "source": [
    "exam_df_pivot.tail(10)"
   ]
  },
  {
   "cell_type": "markdown",
   "metadata": {},
   "source": [
    "## Answers tsv\n",
    "\n",
    "This section focuses on cleaning and consolidating the answer key data from the TSV file. The original data contains duplicate columns, which are processed and combined into a single, clean DataFrame.\n",
    "\n",
    "**1. Defining Column Lists:**\n",
    "\n",
    "We define lists containing the original column names and the duplicate column names."
   ]
  },
  {
   "cell_type": "code",
   "execution_count": 25,
   "metadata": {},
   "outputs": [],
   "source": [
    "original_col: list[str] = [\"V\", \"RC\"]\n",
    "duplicate_cols: list[str] = [\"V.1\", \"RC.1\", \"V.2\", \"RC.2\", \"V.3\", \"RC.3\", \"V.4\", \"RC.4\"]"
   ]
  },
  {
   "cell_type": "markdown",
   "metadata": {},
   "source": [
    "**2. Processing Duplicate Columns:**\n",
    "\n",
    "We iterate through the duplicate_cols list in pairs, extracting the corresponding columns, renaming them to the original column names, and appending them to a list of DataFrames."
   ]
  },
  {
   "cell_type": "code",
   "execution_count": 26,
   "metadata": {},
   "outputs": [],
   "source": [
    "answers_df_list: list[pd.DataFrame] = [raw_answers_df[original_col]]\n",
    "\n",
    "for i in range(0, len(duplicate_cols), 2):\n",
    "    pair_cols: list = duplicate_cols[i:i+2]\n",
    "    df_pair_col: pd.DataFrame = raw_answers_df[pair_cols].rename(columns={pair_cols[0]: \"V\", pair_cols[1]: \"RC\"})\n",
    "    answers_df_list.append(df_pair_col)"
   ]
  },
  {
   "cell_type": "markdown",
   "metadata": {},
   "source": [
    "**3. Concatenating DataFrames:**\n",
    "\n",
    "The list of DataFrames is concatenated into a single DataFrame, ignoring the original index."
   ]
  },
  {
   "cell_type": "code",
   "execution_count": 27,
   "metadata": {},
   "outputs": [],
   "source": [
    "answers_df_clean: pd.DataFrame = pd.concat(answers_df_list, ignore_index=True)"
   ]
  },
  {
   "cell_type": "markdown",
   "metadata": {},
   "source": [
    "**4. Displaying the Cleaned DataFrame:**\n",
    "\n",
    "The cleaned DataFrame is printed to verify the results of the consolidation process."
   ]
  },
  {
   "cell_type": "code",
   "execution_count": 28,
   "metadata": {},
   "outputs": [
    {
     "data": {
      "application/vnd.microsoft.datawrangler.viewer.v0+json": {
       "columns": [
        {
         "name": "index",
         "rawType": "int64",
         "type": "integer"
        },
        {
         "name": "V",
         "rawType": "int64",
         "type": "integer"
        },
        {
         "name": "RC",
         "rawType": "float64",
         "type": "float"
        }
       ],
       "conversionMethod": "pd.DataFrame",
       "ref": "749b8658-c61a-40c4-a9ab-8e59443896c9",
       "rows": [
        [
         "0",
         "1",
         "2.0"
        ],
        [
         "1",
         "2",
         "4.0"
        ],
        [
         "2",
         "3",
         "1.0"
        ],
        [
         "3",
         "4",
         "3.0"
        ],
        [
         "4",
         "5",
         "1.0"
        ],
        [
         "5",
         "6",
         "2.0"
        ],
        [
         "6",
         "7",
         "2.0"
        ],
        [
         "7",
         "8",
         "4.0"
        ],
        [
         "8",
         "9",
         "2.0"
        ],
        [
         "9",
         "10",
         "1.0"
        ]
       ],
       "shape": {
        "columns": 2,
        "rows": 10
       }
      },
      "text/html": [
       "<div>\n",
       "<style scoped>\n",
       "    .dataframe tbody tr th:only-of-type {\n",
       "        vertical-align: middle;\n",
       "    }\n",
       "\n",
       "    .dataframe tbody tr th {\n",
       "        vertical-align: top;\n",
       "    }\n",
       "\n",
       "    .dataframe thead th {\n",
       "        text-align: right;\n",
       "    }\n",
       "</style>\n",
       "<table border=\"1\" class=\"dataframe\">\n",
       "  <thead>\n",
       "    <tr style=\"text-align: right;\">\n",
       "      <th></th>\n",
       "      <th>V</th>\n",
       "      <th>RC</th>\n",
       "    </tr>\n",
       "  </thead>\n",
       "  <tbody>\n",
       "    <tr>\n",
       "      <th>0</th>\n",
       "      <td>1</td>\n",
       "      <td>2.0</td>\n",
       "    </tr>\n",
       "    <tr>\n",
       "      <th>1</th>\n",
       "      <td>2</td>\n",
       "      <td>4.0</td>\n",
       "    </tr>\n",
       "    <tr>\n",
       "      <th>2</th>\n",
       "      <td>3</td>\n",
       "      <td>1.0</td>\n",
       "    </tr>\n",
       "    <tr>\n",
       "      <th>3</th>\n",
       "      <td>4</td>\n",
       "      <td>3.0</td>\n",
       "    </tr>\n",
       "    <tr>\n",
       "      <th>4</th>\n",
       "      <td>5</td>\n",
       "      <td>1.0</td>\n",
       "    </tr>\n",
       "    <tr>\n",
       "      <th>5</th>\n",
       "      <td>6</td>\n",
       "      <td>2.0</td>\n",
       "    </tr>\n",
       "    <tr>\n",
       "      <th>6</th>\n",
       "      <td>7</td>\n",
       "      <td>2.0</td>\n",
       "    </tr>\n",
       "    <tr>\n",
       "      <th>7</th>\n",
       "      <td>8</td>\n",
       "      <td>4.0</td>\n",
       "    </tr>\n",
       "    <tr>\n",
       "      <th>8</th>\n",
       "      <td>9</td>\n",
       "      <td>2.0</td>\n",
       "    </tr>\n",
       "    <tr>\n",
       "      <th>9</th>\n",
       "      <td>10</td>\n",
       "      <td>1.0</td>\n",
       "    </tr>\n",
       "  </tbody>\n",
       "</table>\n",
       "</div>"
      ],
      "text/plain": [
       "    V   RC\n",
       "0   1  2.0\n",
       "1   2  4.0\n",
       "2   3  1.0\n",
       "3   4  3.0\n",
       "4   5  1.0\n",
       "5   6  2.0\n",
       "6   7  2.0\n",
       "7   8  4.0\n",
       "8   9  2.0\n",
       "9  10  1.0"
      ]
     },
     "execution_count": 28,
     "metadata": {},
     "output_type": "execute_result"
    }
   ],
   "source": [
    "answers_df_clean.head(10)"
   ]
  },
  {
   "cell_type": "markdown",
   "metadata": {},
   "source": [
    "## Joining the DataFrames\n",
    "\n",
    "This section focuses on merging the processed exam questions DataFrame with the cleaned answers DataFrame, performing final data cleaning, and verifying the integrity of the joined data.\n",
    "\n",
    "**1. Joining the DataFrames:**\n",
    "\n",
    "The pivoted exam questions DataFrame (`exam_df_pivot`) and the cleaned answers DataFrame (`answers_df_clean`) are joined horizontally using `pd.concat`. The 'V0' column, which represents the question number from the answers DataFrame, is then dropped. The first 10 rows of the joined DataFrame are displayed."
   ]
  },
  {
   "cell_type": "code",
   "execution_count": 29,
   "metadata": {},
   "outputs": [
    {
     "data": {
      "application/vnd.microsoft.datawrangler.viewer.v0+json": {
       "columns": [
        {
         "name": "index",
         "rawType": "int64",
         "type": "integer"
        },
        {
         "name": "Question",
         "rawType": "object",
         "type": "string"
        },
        {
         "name": "Option_1",
         "rawType": "object",
         "type": "string"
        },
        {
         "name": "Option_2",
         "rawType": "object",
         "type": "string"
        },
        {
         "name": "Option_3",
         "rawType": "object",
         "type": "string"
        },
        {
         "name": "Option_4",
         "rawType": "object",
         "type": "string"
        },
        {
         "name": "RC",
         "rawType": "float64",
         "type": "float"
        }
       ],
       "conversionMethod": "pd.DataFrame",
       "ref": "b3fdb979-4b62-4083-a79f-ba8beee928b4",
       "rows": [
        [
         "0",
         "1. ¿Cómo se denomina al proceso mediante el que se elimina el sulfuro de hidrógeno presente en el gas natural, produciendo azufre?:",
         "1. Proceso Frasch.",
         "2. Proceso Claus.",
         "3. Proceso Kroll.",
         "4. Proceso de las cámaras de plomo.",
         "2.0"
        ],
        [
         "1",
         "2. La forma alotrópica más estable del fósforo elemental es:",
         "1. El fósforo blanco.",
         "2. El fósforo rojo.",
         "3. El fósforo violeta.",
         "4. El fósforo negro.",
         "4.0"
        ],
        [
         "2",
         "3. ¿Es posible obtener algún compuesto en estado de oxidación 8?:",
         "1. Si, por ejemplo, el OsO4 y el RuO4.",
         "2. No, pero se puede alcanzar estado de oxidación 7, por ejemplo OsF7.",
         "3. No, pero se puede alcanzar estado de oxidación 7, por ejemplo OsCl7.",
         "4. No, pero se puede alcanzar estado de oxidación 7, por ejemplo OsBr7.",
         "1.0"
        ],
        [
         "3",
         "4. ¿Cuál de las siguientes afirmaciones sobre los compuestos iónicos es FALSA?:",
         "1. Todos los compuestos iónicos son sólidos y sus cristales son duros y frágiles.",
         "2. Tienen puntos de fusión elevados.",
         "3. Si no descomponen al calentarlos, en estado fundido actúan como aislantes.",
         "4. Casi todos se disuelven en disolventes muy polares (como el agua) generando soluciones que conducen la electricidad.",
         "3.0"
        ],
        [
         "4",
         "5. ¿Con qué elementos forma compuestos el flúor?:",
         "1. Con todos menos con He, Ne y Ar.",
         "2. Con todos menos con los gases nobles.",
         "3. Con todos menos con los alcalinos.",
         "4. Con todos menos con los otros halógenos.",
         "1.0"
        ],
        [
         "5",
         "6. ¿Qué es la fibra óptica?:",
         "1. Fibra delgada de óxido de hierro de ultra alta pureza.",
         "2. Fibra delgada de sílice de ultra alta pureza.",
         "3. Fibra delgada de óxido de hierro con impurezas de óxido de manganeso.",
         "4. Fibra delgada de sílice con impurezas de óxido de aluminio.",
         "2.0"
        ],
        [
         "6",
         "7. El anión tiosulfato se empleó de forma muy amplia en fotografía, es muy utilizado como reductor y tiene diversos usos en Medicina. ¿Cuál es su fórmula?:",
         "1. S4O62-.",
         "2. S2O32-.",
         "3. HSO3-.",
         "4. S2O72-.",
         "2.0"
        ],
        [
         "7",
         "8. El cobalto:",
         "1. Es un metal blando de color metálico.",
         "2. En su forma metálica no tiene propiedades magnéticas.",
         "3. Es muy reactivo como elemento químico.",
         "4. Es un elemento esencial para los seres vivos.",
         "4.0"
        ],
        [
         "8",
         "9. ¿Qué tipo de defecto es un defecto de Schottky?:",
         "1. Defecto puntual extrínseco.",
         "2. Defecto puntual intrínseco.",
         "3. Defecto extendido.",
         "4. Defecto lineal.",
         "2.0"
        ],
        [
         "9",
         "10. ¿Cuál de las siguientes reacciones necesita de un catalizador para ser rápida?:",
         "1. H2O2 (liq.) → H2O (liq.) + ½ O2 (gas).",
         "2. H2O2 (liq.) + SO2 (gas) → H2SO4.",
         "3. NO (gas) + ½ O2 (gas) → NO2 (gas).",
         "4. Cl2 +  2 NaOH → NaCl + NaClO + H2O.",
         "1.0"
        ]
       ],
       "shape": {
        "columns": 6,
        "rows": 10
       }
      },
      "text/html": [
       "<div>\n",
       "<style scoped>\n",
       "    .dataframe tbody tr th:only-of-type {\n",
       "        vertical-align: middle;\n",
       "    }\n",
       "\n",
       "    .dataframe tbody tr th {\n",
       "        vertical-align: top;\n",
       "    }\n",
       "\n",
       "    .dataframe thead th {\n",
       "        text-align: right;\n",
       "    }\n",
       "</style>\n",
       "<table border=\"1\" class=\"dataframe\">\n",
       "  <thead>\n",
       "    <tr style=\"text-align: right;\">\n",
       "      <th></th>\n",
       "      <th>Question</th>\n",
       "      <th>Option_1</th>\n",
       "      <th>Option_2</th>\n",
       "      <th>Option_3</th>\n",
       "      <th>Option_4</th>\n",
       "      <th>RC</th>\n",
       "    </tr>\n",
       "  </thead>\n",
       "  <tbody>\n",
       "    <tr>\n",
       "      <th>0</th>\n",
       "      <td>1. ¿Cómo se denomina al proceso mediante el qu...</td>\n",
       "      <td>1. Proceso Frasch.</td>\n",
       "      <td>2. Proceso Claus.</td>\n",
       "      <td>3. Proceso Kroll.</td>\n",
       "      <td>4. Proceso de las cámaras de plomo.</td>\n",
       "      <td>2.0</td>\n",
       "    </tr>\n",
       "    <tr>\n",
       "      <th>1</th>\n",
       "      <td>2. La forma alotrópica más estable del fósforo...</td>\n",
       "      <td>1. El fósforo blanco.</td>\n",
       "      <td>2. El fósforo rojo.</td>\n",
       "      <td>3. El fósforo violeta.</td>\n",
       "      <td>4. El fósforo negro.</td>\n",
       "      <td>4.0</td>\n",
       "    </tr>\n",
       "    <tr>\n",
       "      <th>2</th>\n",
       "      <td>3. ¿Es posible obtener algún compuesto en esta...</td>\n",
       "      <td>1. Si, por ejemplo, el OsO4 y el RuO4.</td>\n",
       "      <td>2. No, pero se puede alcanzar estado de oxidac...</td>\n",
       "      <td>3. No, pero se puede alcanzar estado de oxidac...</td>\n",
       "      <td>4. No, pero se puede alcanzar estado de oxidac...</td>\n",
       "      <td>1.0</td>\n",
       "    </tr>\n",
       "    <tr>\n",
       "      <th>3</th>\n",
       "      <td>4. ¿Cuál de las siguientes afirmaciones sobre ...</td>\n",
       "      <td>1. Todos los compuestos iónicos son sólidos y ...</td>\n",
       "      <td>2. Tienen puntos de fusión elevados.</td>\n",
       "      <td>3. Si no descomponen al calentarlos, en estado...</td>\n",
       "      <td>4. Casi todos se disuelven en disolventes muy ...</td>\n",
       "      <td>3.0</td>\n",
       "    </tr>\n",
       "    <tr>\n",
       "      <th>4</th>\n",
       "      <td>5. ¿Con qué elementos forma compuestos el flúor?:</td>\n",
       "      <td>1. Con todos menos con He, Ne y Ar.</td>\n",
       "      <td>2. Con todos menos con los gases nobles.</td>\n",
       "      <td>3. Con todos menos con los alcalinos.</td>\n",
       "      <td>4. Con todos menos con los otros halógenos.</td>\n",
       "      <td>1.0</td>\n",
       "    </tr>\n",
       "    <tr>\n",
       "      <th>5</th>\n",
       "      <td>6. ¿Qué es la fibra óptica?:</td>\n",
       "      <td>1. Fibra delgada de óxido de hierro de ultra a...</td>\n",
       "      <td>2. Fibra delgada de sílice de ultra alta pureza.</td>\n",
       "      <td>3. Fibra delgada de óxido de hierro con impure...</td>\n",
       "      <td>4. Fibra delgada de sílice con impurezas de óx...</td>\n",
       "      <td>2.0</td>\n",
       "    </tr>\n",
       "    <tr>\n",
       "      <th>6</th>\n",
       "      <td>7. El anión tiosulfato se empleó de forma muy ...</td>\n",
       "      <td>1. S4O62-.</td>\n",
       "      <td>2. S2O32-.</td>\n",
       "      <td>3. HSO3-.</td>\n",
       "      <td>4. S2O72-.</td>\n",
       "      <td>2.0</td>\n",
       "    </tr>\n",
       "    <tr>\n",
       "      <th>7</th>\n",
       "      <td>8. El cobalto:</td>\n",
       "      <td>1. Es un metal blando de color metálico.</td>\n",
       "      <td>2. En su forma metálica no tiene propiedades m...</td>\n",
       "      <td>3. Es muy reactivo como elemento químico.</td>\n",
       "      <td>4. Es un elemento esencial para los seres vivos.</td>\n",
       "      <td>4.0</td>\n",
       "    </tr>\n",
       "    <tr>\n",
       "      <th>8</th>\n",
       "      <td>9. ¿Qué tipo de defecto es un defecto de Schot...</td>\n",
       "      <td>1. Defecto puntual extrínseco.</td>\n",
       "      <td>2. Defecto puntual intrínseco.</td>\n",
       "      <td>3. Defecto extendido.</td>\n",
       "      <td>4. Defecto lineal.</td>\n",
       "      <td>2.0</td>\n",
       "    </tr>\n",
       "    <tr>\n",
       "      <th>9</th>\n",
       "      <td>10. ¿Cuál de las siguientes reacciones necesit...</td>\n",
       "      <td>1. H2O2 (liq.) → H2O (liq.) + ½ O2 (gas).</td>\n",
       "      <td>2. H2O2 (liq.) + SO2 (gas) → H2SO4.</td>\n",
       "      <td>3. NO (gas) + ½ O2 (gas) → NO2 (gas).</td>\n",
       "      <td>4. Cl2 +  2 NaOH → NaCl + NaClO + H2O.</td>\n",
       "      <td>1.0</td>\n",
       "    </tr>\n",
       "  </tbody>\n",
       "</table>\n",
       "</div>"
      ],
      "text/plain": [
       "                                            Question  \\\n",
       "0  1. ¿Cómo se denomina al proceso mediante el qu...   \n",
       "1  2. La forma alotrópica más estable del fósforo...   \n",
       "2  3. ¿Es posible obtener algún compuesto en esta...   \n",
       "3  4. ¿Cuál de las siguientes afirmaciones sobre ...   \n",
       "4  5. ¿Con qué elementos forma compuestos el flúor?:   \n",
       "5                       6. ¿Qué es la fibra óptica?:   \n",
       "6  7. El anión tiosulfato se empleó de forma muy ...   \n",
       "7                                     8. El cobalto:   \n",
       "8  9. ¿Qué tipo de defecto es un defecto de Schot...   \n",
       "9  10. ¿Cuál de las siguientes reacciones necesit...   \n",
       "\n",
       "                                            Option_1  \\\n",
       "0                                 1. Proceso Frasch.   \n",
       "1                              1. El fósforo blanco.   \n",
       "2             1. Si, por ejemplo, el OsO4 y el RuO4.   \n",
       "3  1. Todos los compuestos iónicos son sólidos y ...   \n",
       "4                1. Con todos menos con He, Ne y Ar.   \n",
       "5  1. Fibra delgada de óxido de hierro de ultra a...   \n",
       "6                                         1. S4O62-.   \n",
       "7           1. Es un metal blando de color metálico.   \n",
       "8                     1. Defecto puntual extrínseco.   \n",
       "9          1. H2O2 (liq.) → H2O (liq.) + ½ O2 (gas).   \n",
       "\n",
       "                                            Option_2  \\\n",
       "0                                  2. Proceso Claus.   \n",
       "1                                2. El fósforo rojo.   \n",
       "2  2. No, pero se puede alcanzar estado de oxidac...   \n",
       "3               2. Tienen puntos de fusión elevados.   \n",
       "4           2. Con todos menos con los gases nobles.   \n",
       "5   2. Fibra delgada de sílice de ultra alta pureza.   \n",
       "6                                         2. S2O32-.   \n",
       "7  2. En su forma metálica no tiene propiedades m...   \n",
       "8                     2. Defecto puntual intrínseco.   \n",
       "9                2. H2O2 (liq.) + SO2 (gas) → H2SO4.   \n",
       "\n",
       "                                            Option_3  \\\n",
       "0                                  3. Proceso Kroll.   \n",
       "1                             3. El fósforo violeta.   \n",
       "2  3. No, pero se puede alcanzar estado de oxidac...   \n",
       "3  3. Si no descomponen al calentarlos, en estado...   \n",
       "4              3. Con todos menos con los alcalinos.   \n",
       "5  3. Fibra delgada de óxido de hierro con impure...   \n",
       "6                                          3. HSO3-.   \n",
       "7          3. Es muy reactivo como elemento químico.   \n",
       "8                              3. Defecto extendido.   \n",
       "9              3. NO (gas) + ½ O2 (gas) → NO2 (gas).   \n",
       "\n",
       "                                            Option_4   RC  \n",
       "0                4. Proceso de las cámaras de plomo.  2.0  \n",
       "1                               4. El fósforo negro.  4.0  \n",
       "2  4. No, pero se puede alcanzar estado de oxidac...  1.0  \n",
       "3  4. Casi todos se disuelven en disolventes muy ...  3.0  \n",
       "4        4. Con todos menos con los otros halógenos.  1.0  \n",
       "5  4. Fibra delgada de sílice con impurezas de óx...  2.0  \n",
       "6                                         4. S2O72-.  2.0  \n",
       "7   4. Es un elemento esencial para los seres vivos.  4.0  \n",
       "8                                 4. Defecto lineal.  2.0  \n",
       "9             4. Cl2 +  2 NaOH → NaCl + NaClO + H2O.  1.0  "
      ]
     },
     "execution_count": 29,
     "metadata": {},
     "output_type": "execute_result"
    }
   ],
   "source": [
    "processed_exam_df: pd.DataFrame = pd.concat([exam_df_pivot, answers_df_clean], axis=1)\n",
    "processed_exam_df = processed_exam_df.drop(columns=[\"V\"])\n",
    "processed_exam_df.head(10)"
   ]
  },
  {
   "cell_type": "markdown",
   "metadata": {},
   "source": [
    "**2. Identifying and Handling Missing Values:**\n",
    "\n",
    "Missing values are then replaced with 0."
   ]
  },
  {
   "cell_type": "code",
   "execution_count": 30,
   "metadata": {},
   "outputs": [],
   "source": [
    "processed_exam_df = processed_exam_df.fillna(0)"
   ]
  },
  {
   "cell_type": "markdown",
   "metadata": {},
   "source": [
    "**3. Verifying Missing Values and Data Types:**\n",
    "\n",
    "The number of missing values in each column is checked, and the data types of the columns are displayed. The 'RC' (correct answer) column is then converted to integer type."
   ]
  },
  {
   "cell_type": "code",
   "execution_count": 31,
   "metadata": {},
   "outputs": [
    {
     "data": {
      "text/plain": [
       "Question    object\n",
       "Option_1    object\n",
       "Option_2    object\n",
       "Option_3    object\n",
       "Option_4    object\n",
       "RC           int32\n",
       "dtype: object"
      ]
     },
     "execution_count": 31,
     "metadata": {},
     "output_type": "execute_result"
    }
   ],
   "source": [
    "processed_exam_df.isnull().sum()\n",
    "processed_exam_df[\"RC\"] = processed_exam_df[\"RC\"].astype(int)\n",
    "processed_exam_df.dtypes"
   ]
  },
  {
   "cell_type": "markdown",
   "metadata": {},
   "source": [
    "**4. Adding year column**\n",
    "\n",
    "A column containing the year of the exam is added to the DataFrame."
   ]
  },
  {
   "cell_type": "code",
   "execution_count": 32,
   "metadata": {},
   "outputs": [],
   "source": [
    "processed_exam_df[\"year\"] = year"
   ]
  },
  {
   "cell_type": "markdown",
   "metadata": {},
   "source": [
    "**5. Displaying the Final DataFrame:**\n",
    "\n",
    "The first 10 rows of the final joined and cleaned DataFrame are displayed."
   ]
  },
  {
   "cell_type": "code",
   "execution_count": 33,
   "metadata": {},
   "outputs": [
    {
     "data": {
      "application/vnd.microsoft.datawrangler.viewer.v0+json": {
       "columns": [
        {
         "name": "index",
         "rawType": "int64",
         "type": "integer"
        },
        {
         "name": "Question",
         "rawType": "object",
         "type": "string"
        },
        {
         "name": "Option_1",
         "rawType": "object",
         "type": "string"
        },
        {
         "name": "Option_2",
         "rawType": "object",
         "type": "string"
        },
        {
         "name": "Option_3",
         "rawType": "object",
         "type": "string"
        },
        {
         "name": "Option_4",
         "rawType": "object",
         "type": "string"
        },
        {
         "name": "RC",
         "rawType": "int32",
         "type": "integer"
        },
        {
         "name": "year",
         "rawType": "int64",
         "type": "integer"
        }
       ],
       "conversionMethod": "pd.DataFrame",
       "ref": "6be20750-8ee6-44db-9cfa-5a46d92a5d00",
       "rows": [
        [
         "0",
         "1. ¿Cómo se denomina al proceso mediante el que se elimina el sulfuro de hidrógeno presente en el gas natural, produciendo azufre?:",
         "1. Proceso Frasch.",
         "2. Proceso Claus.",
         "3. Proceso Kroll.",
         "4. Proceso de las cámaras de plomo.",
         "2",
         "2021"
        ],
        [
         "1",
         "2. La forma alotrópica más estable del fósforo elemental es:",
         "1. El fósforo blanco.",
         "2. El fósforo rojo.",
         "3. El fósforo violeta.",
         "4. El fósforo negro.",
         "4",
         "2021"
        ],
        [
         "2",
         "3. ¿Es posible obtener algún compuesto en estado de oxidación 8?:",
         "1. Si, por ejemplo, el OsO4 y el RuO4.",
         "2. No, pero se puede alcanzar estado de oxidación 7, por ejemplo OsF7.",
         "3. No, pero se puede alcanzar estado de oxidación 7, por ejemplo OsCl7.",
         "4. No, pero se puede alcanzar estado de oxidación 7, por ejemplo OsBr7.",
         "1",
         "2021"
        ],
        [
         "3",
         "4. ¿Cuál de las siguientes afirmaciones sobre los compuestos iónicos es FALSA?:",
         "1. Todos los compuestos iónicos son sólidos y sus cristales son duros y frágiles.",
         "2. Tienen puntos de fusión elevados.",
         "3. Si no descomponen al calentarlos, en estado fundido actúan como aislantes.",
         "4. Casi todos se disuelven en disolventes muy polares (como el agua) generando soluciones que conducen la electricidad.",
         "3",
         "2021"
        ],
        [
         "4",
         "5. ¿Con qué elementos forma compuestos el flúor?:",
         "1. Con todos menos con He, Ne y Ar.",
         "2. Con todos menos con los gases nobles.",
         "3. Con todos menos con los alcalinos.",
         "4. Con todos menos con los otros halógenos.",
         "1",
         "2021"
        ],
        [
         "5",
         "6. ¿Qué es la fibra óptica?:",
         "1. Fibra delgada de óxido de hierro de ultra alta pureza.",
         "2. Fibra delgada de sílice de ultra alta pureza.",
         "3. Fibra delgada de óxido de hierro con impurezas de óxido de manganeso.",
         "4. Fibra delgada de sílice con impurezas de óxido de aluminio.",
         "2",
         "2021"
        ],
        [
         "6",
         "7. El anión tiosulfato se empleó de forma muy amplia en fotografía, es muy utilizado como reductor y tiene diversos usos en Medicina. ¿Cuál es su fórmula?:",
         "1. S4O62-.",
         "2. S2O32-.",
         "3. HSO3-.",
         "4. S2O72-.",
         "2",
         "2021"
        ],
        [
         "7",
         "8. El cobalto:",
         "1. Es un metal blando de color metálico.",
         "2. En su forma metálica no tiene propiedades magnéticas.",
         "3. Es muy reactivo como elemento químico.",
         "4. Es un elemento esencial para los seres vivos.",
         "4",
         "2021"
        ],
        [
         "8",
         "9. ¿Qué tipo de defecto es un defecto de Schottky?:",
         "1. Defecto puntual extrínseco.",
         "2. Defecto puntual intrínseco.",
         "3. Defecto extendido.",
         "4. Defecto lineal.",
         "2",
         "2021"
        ],
        [
         "9",
         "10. ¿Cuál de las siguientes reacciones necesita de un catalizador para ser rápida?:",
         "1. H2O2 (liq.) → H2O (liq.) + ½ O2 (gas).",
         "2. H2O2 (liq.) + SO2 (gas) → H2SO4.",
         "3. NO (gas) + ½ O2 (gas) → NO2 (gas).",
         "4. Cl2 +  2 NaOH → NaCl + NaClO + H2O.",
         "1",
         "2021"
        ]
       ],
       "shape": {
        "columns": 7,
        "rows": 10
       }
      },
      "text/html": [
       "<div>\n",
       "<style scoped>\n",
       "    .dataframe tbody tr th:only-of-type {\n",
       "        vertical-align: middle;\n",
       "    }\n",
       "\n",
       "    .dataframe tbody tr th {\n",
       "        vertical-align: top;\n",
       "    }\n",
       "\n",
       "    .dataframe thead th {\n",
       "        text-align: right;\n",
       "    }\n",
       "</style>\n",
       "<table border=\"1\" class=\"dataframe\">\n",
       "  <thead>\n",
       "    <tr style=\"text-align: right;\">\n",
       "      <th></th>\n",
       "      <th>Question</th>\n",
       "      <th>Option_1</th>\n",
       "      <th>Option_2</th>\n",
       "      <th>Option_3</th>\n",
       "      <th>Option_4</th>\n",
       "      <th>RC</th>\n",
       "      <th>year</th>\n",
       "    </tr>\n",
       "  </thead>\n",
       "  <tbody>\n",
       "    <tr>\n",
       "      <th>0</th>\n",
       "      <td>1. ¿Cómo se denomina al proceso mediante el qu...</td>\n",
       "      <td>1. Proceso Frasch.</td>\n",
       "      <td>2. Proceso Claus.</td>\n",
       "      <td>3. Proceso Kroll.</td>\n",
       "      <td>4. Proceso de las cámaras de plomo.</td>\n",
       "      <td>2</td>\n",
       "      <td>2021</td>\n",
       "    </tr>\n",
       "    <tr>\n",
       "      <th>1</th>\n",
       "      <td>2. La forma alotrópica más estable del fósforo...</td>\n",
       "      <td>1. El fósforo blanco.</td>\n",
       "      <td>2. El fósforo rojo.</td>\n",
       "      <td>3. El fósforo violeta.</td>\n",
       "      <td>4. El fósforo negro.</td>\n",
       "      <td>4</td>\n",
       "      <td>2021</td>\n",
       "    </tr>\n",
       "    <tr>\n",
       "      <th>2</th>\n",
       "      <td>3. ¿Es posible obtener algún compuesto en esta...</td>\n",
       "      <td>1. Si, por ejemplo, el OsO4 y el RuO4.</td>\n",
       "      <td>2. No, pero se puede alcanzar estado de oxidac...</td>\n",
       "      <td>3. No, pero se puede alcanzar estado de oxidac...</td>\n",
       "      <td>4. No, pero se puede alcanzar estado de oxidac...</td>\n",
       "      <td>1</td>\n",
       "      <td>2021</td>\n",
       "    </tr>\n",
       "    <tr>\n",
       "      <th>3</th>\n",
       "      <td>4. ¿Cuál de las siguientes afirmaciones sobre ...</td>\n",
       "      <td>1. Todos los compuestos iónicos son sólidos y ...</td>\n",
       "      <td>2. Tienen puntos de fusión elevados.</td>\n",
       "      <td>3. Si no descomponen al calentarlos, en estado...</td>\n",
       "      <td>4. Casi todos se disuelven en disolventes muy ...</td>\n",
       "      <td>3</td>\n",
       "      <td>2021</td>\n",
       "    </tr>\n",
       "    <tr>\n",
       "      <th>4</th>\n",
       "      <td>5. ¿Con qué elementos forma compuestos el flúor?:</td>\n",
       "      <td>1. Con todos menos con He, Ne y Ar.</td>\n",
       "      <td>2. Con todos menos con los gases nobles.</td>\n",
       "      <td>3. Con todos menos con los alcalinos.</td>\n",
       "      <td>4. Con todos menos con los otros halógenos.</td>\n",
       "      <td>1</td>\n",
       "      <td>2021</td>\n",
       "    </tr>\n",
       "    <tr>\n",
       "      <th>5</th>\n",
       "      <td>6. ¿Qué es la fibra óptica?:</td>\n",
       "      <td>1. Fibra delgada de óxido de hierro de ultra a...</td>\n",
       "      <td>2. Fibra delgada de sílice de ultra alta pureza.</td>\n",
       "      <td>3. Fibra delgada de óxido de hierro con impure...</td>\n",
       "      <td>4. Fibra delgada de sílice con impurezas de óx...</td>\n",
       "      <td>2</td>\n",
       "      <td>2021</td>\n",
       "    </tr>\n",
       "    <tr>\n",
       "      <th>6</th>\n",
       "      <td>7. El anión tiosulfato se empleó de forma muy ...</td>\n",
       "      <td>1. S4O62-.</td>\n",
       "      <td>2. S2O32-.</td>\n",
       "      <td>3. HSO3-.</td>\n",
       "      <td>4. S2O72-.</td>\n",
       "      <td>2</td>\n",
       "      <td>2021</td>\n",
       "    </tr>\n",
       "    <tr>\n",
       "      <th>7</th>\n",
       "      <td>8. El cobalto:</td>\n",
       "      <td>1. Es un metal blando de color metálico.</td>\n",
       "      <td>2. En su forma metálica no tiene propiedades m...</td>\n",
       "      <td>3. Es muy reactivo como elemento químico.</td>\n",
       "      <td>4. Es un elemento esencial para los seres vivos.</td>\n",
       "      <td>4</td>\n",
       "      <td>2021</td>\n",
       "    </tr>\n",
       "    <tr>\n",
       "      <th>8</th>\n",
       "      <td>9. ¿Qué tipo de defecto es un defecto de Schot...</td>\n",
       "      <td>1. Defecto puntual extrínseco.</td>\n",
       "      <td>2. Defecto puntual intrínseco.</td>\n",
       "      <td>3. Defecto extendido.</td>\n",
       "      <td>4. Defecto lineal.</td>\n",
       "      <td>2</td>\n",
       "      <td>2021</td>\n",
       "    </tr>\n",
       "    <tr>\n",
       "      <th>9</th>\n",
       "      <td>10. ¿Cuál de las siguientes reacciones necesit...</td>\n",
       "      <td>1. H2O2 (liq.) → H2O (liq.) + ½ O2 (gas).</td>\n",
       "      <td>2. H2O2 (liq.) + SO2 (gas) → H2SO4.</td>\n",
       "      <td>3. NO (gas) + ½ O2 (gas) → NO2 (gas).</td>\n",
       "      <td>4. Cl2 +  2 NaOH → NaCl + NaClO + H2O.</td>\n",
       "      <td>1</td>\n",
       "      <td>2021</td>\n",
       "    </tr>\n",
       "  </tbody>\n",
       "</table>\n",
       "</div>"
      ],
      "text/plain": [
       "                                            Question  \\\n",
       "0  1. ¿Cómo se denomina al proceso mediante el qu...   \n",
       "1  2. La forma alotrópica más estable del fósforo...   \n",
       "2  3. ¿Es posible obtener algún compuesto en esta...   \n",
       "3  4. ¿Cuál de las siguientes afirmaciones sobre ...   \n",
       "4  5. ¿Con qué elementos forma compuestos el flúor?:   \n",
       "5                       6. ¿Qué es la fibra óptica?:   \n",
       "6  7. El anión tiosulfato se empleó de forma muy ...   \n",
       "7                                     8. El cobalto:   \n",
       "8  9. ¿Qué tipo de defecto es un defecto de Schot...   \n",
       "9  10. ¿Cuál de las siguientes reacciones necesit...   \n",
       "\n",
       "                                            Option_1  \\\n",
       "0                                 1. Proceso Frasch.   \n",
       "1                              1. El fósforo blanco.   \n",
       "2             1. Si, por ejemplo, el OsO4 y el RuO4.   \n",
       "3  1. Todos los compuestos iónicos son sólidos y ...   \n",
       "4                1. Con todos menos con He, Ne y Ar.   \n",
       "5  1. Fibra delgada de óxido de hierro de ultra a...   \n",
       "6                                         1. S4O62-.   \n",
       "7           1. Es un metal blando de color metálico.   \n",
       "8                     1. Defecto puntual extrínseco.   \n",
       "9          1. H2O2 (liq.) → H2O (liq.) + ½ O2 (gas).   \n",
       "\n",
       "                                            Option_2  \\\n",
       "0                                  2. Proceso Claus.   \n",
       "1                                2. El fósforo rojo.   \n",
       "2  2. No, pero se puede alcanzar estado de oxidac...   \n",
       "3               2. Tienen puntos de fusión elevados.   \n",
       "4           2. Con todos menos con los gases nobles.   \n",
       "5   2. Fibra delgada de sílice de ultra alta pureza.   \n",
       "6                                         2. S2O32-.   \n",
       "7  2. En su forma metálica no tiene propiedades m...   \n",
       "8                     2. Defecto puntual intrínseco.   \n",
       "9                2. H2O2 (liq.) + SO2 (gas) → H2SO4.   \n",
       "\n",
       "                                            Option_3  \\\n",
       "0                                  3. Proceso Kroll.   \n",
       "1                             3. El fósforo violeta.   \n",
       "2  3. No, pero se puede alcanzar estado de oxidac...   \n",
       "3  3. Si no descomponen al calentarlos, en estado...   \n",
       "4              3. Con todos menos con los alcalinos.   \n",
       "5  3. Fibra delgada de óxido de hierro con impure...   \n",
       "6                                          3. HSO3-.   \n",
       "7          3. Es muy reactivo como elemento químico.   \n",
       "8                              3. Defecto extendido.   \n",
       "9              3. NO (gas) + ½ O2 (gas) → NO2 (gas).   \n",
       "\n",
       "                                            Option_4  RC  year  \n",
       "0                4. Proceso de las cámaras de plomo.   2  2021  \n",
       "1                               4. El fósforo negro.   4  2021  \n",
       "2  4. No, pero se puede alcanzar estado de oxidac...   1  2021  \n",
       "3  4. Casi todos se disuelven en disolventes muy ...   3  2021  \n",
       "4        4. Con todos menos con los otros halógenos.   1  2021  \n",
       "5  4. Fibra delgada de sílice con impurezas de óx...   2  2021  \n",
       "6                                         4. S2O72-.   2  2021  \n",
       "7   4. Es un elemento esencial para los seres vivos.   4  2021  \n",
       "8                                 4. Defecto lineal.   2  2021  \n",
       "9             4. Cl2 +  2 NaOH → NaCl + NaClO + H2O.   1  2021  "
      ]
     },
     "execution_count": 33,
     "metadata": {},
     "output_type": "execute_result"
    }
   ],
   "source": [
    "processed_exam_df.head(10)"
   ]
  },
  {
   "cell_type": "code",
   "execution_count": 34,
   "metadata": {},
   "outputs": [
    {
     "data": {
      "application/vnd.microsoft.datawrangler.viewer.v0+json": {
       "columns": [
        {
         "name": "index",
         "rawType": "int64",
         "type": "integer"
        },
        {
         "name": "Question",
         "rawType": "object",
         "type": "string"
        },
        {
         "name": "Option_1",
         "rawType": "object",
         "type": "string"
        },
        {
         "name": "Option_2",
         "rawType": "object",
         "type": "string"
        },
        {
         "name": "Option_3",
         "rawType": "object",
         "type": "string"
        },
        {
         "name": "Option_4",
         "rawType": "object",
         "type": "string"
        },
        {
         "name": "RC",
         "rawType": "int32",
         "type": "integer"
        },
        {
         "name": "year",
         "rawType": "int64",
         "type": "integer"
        }
       ],
       "conversionMethod": "pd.DataFrame",
       "ref": "b4103bcb-3d57-42f9-b6bd-fb95f67f8c8d",
       "rows": [
        [
         "200",
         "201. ¿Cuál de las siguientes es una metaloenzima que contiene wolframio?:",
         "1. Carboxipeptidasa A.",
         "2. Formilmetanofurano deshidrogenasa.",
         "3. Monóxido de carbono deshidrogenasa.",
         "4. Carboxipeptidas B.",
         "2",
         "2021"
        ],
        [
         "201",
         "202. Las lipoproteínas más ligeras (densidad <1.00 g/cm3) son:",
         "1. Las de baja densidad (LDL).",
         "2. Las de alta densidad (HDL).",
         "3. Los quilomicrones.",
         "4. Las de muy baja densidad (VLDL).",
         "3",
         "2021"
        ],
        [
         "202",
         "203. ¿Cuántos átomos de nitrógeno contiene una molécula de adenina?:",
         "1. Cinco.",
         "2. Cuatro.",
         "3. Tres.",
         "4. Seis.",
         "1",
         "2021"
        ],
        [
         "203",
         "204. ¿Cuáles son las configuraciones electrónicas del cromo y de sus iones Cr2+ y Cr3+?:",
         "1. Cr: [Ar] 4s 23d5; Cr2+: [Ar] 4s 23d3; Cr3+: [Ar]4s13d3.",
         "2. Cr: [Ar] 4s23d5; Cr2+: [Ar] 3d5; Cr3+: [Ar] 3d4.",
         "3. Cr: [Ar] 4s 23d4; Cr2+: [Ar] 4s 23d2; Cr3+: [Ar]4s23d1.",
         "4. Cr: [Ar] 4s23d4; Cr2+: [Ar] 3d4; Cr3+: [Ar] 3d3.",
         "0",
         "2021"
        ],
        [
         "204",
         "205. En un procedimiento de medida, la menor concentración de analito que somos capaces de medir con una exactitud o fiabilidad previamente establecidas, recibe el nombre de:",
         "1. Límite de detección.",
         "2. Límite de cuantificación.",
         "3. Capacidad del procedimiento de medida.",
         "4. Límite de dilución.",
         "2",
         "2021"
        ],
        [
         "205",
         "206. ¿Cuál es la composición del núcleo del deuterio, isótopo del hidrógeno?:",
         "1. Dos protones.",
         "2. Dos neutrones.",
         "3. Un protón y un neutrón.",
         "4. Un protón y dos neutrones.",
         "3",
         "2021"
        ],
        [
         "206",
         "207. La Rifampicina inhibe la transcripción en las bacterias porque:",
         "1. Se une a la subunidad beta de las RNA polimerasas bacterianas impidiendo el desalojo del promotor.",
         "2. Se une en el DNA a las secuencias promotoras de la transcripción.",
         "3. Desestabiliza el heteroduplex DNA-RNA formado durante el proceso de elongación.",
         "4. Se intercala en el molde de DNA e impide la elongación de la transcripción.",
         "1",
         "2021"
        ],
        [
         "207",
         "208. Si una reacción compuesta por varias etapas elementales, 𝑨 𝒌ష𝟏 ር⎯⎯ሲ ሬሬሬሬሬሬሬሬ⃗ 𝒌𝟏 𝑩 B 𝒌𝟐 →C tiene una constante de velocidad, K, que se puede expresar como: K= 𝒌𝟏𝒌𝟐 𝒌ష𝟏 . Entonces su energía de activación, E A, se puede expresar en función de EA1, EA2 Y EA-1 según la expresión :",
         "1. EA=-EA1+EA-1-EA2.",
         "2. EA=EA1-EA-1+EA2.",
         "3. EA=-EA1+EA-1+EA2.",
         "4. EA=-EA1-EA-1-EA2.",
         "2",
         "2021"
        ],
        [
         "208",
         "209. Una disolución de urea en agua, con concentración 0.010 molal, tiene un punto de congelación de -0.019ºC. Una disolución de NaCl 0.010 molal tendrá un punto de congelación de:",
         "1. 0ºC.",
         "2. Entre 0 y -0.019ºC.",
         "3. -0.019ºC.",
         "4. Entre -0.019ºC y -0.038ºC.",
         "4",
         "2021"
        ],
        [
         "209",
         "210. La principal fuente d e colesterol extracelular para los tejidos humanos es:",
         "1. Las lipoproteínas de muy baja densidad (VLDL).",
         "2. Las lipoproteínas de baja densidad (LDL).",
         "3. Las lipoproteínas de elevada densidad (HDL).",
         "4. Los quilomicrones.",
         "2",
         "2021"
        ]
       ],
       "shape": {
        "columns": 7,
        "rows": 10
       }
      },
      "text/html": [
       "<div>\n",
       "<style scoped>\n",
       "    .dataframe tbody tr th:only-of-type {\n",
       "        vertical-align: middle;\n",
       "    }\n",
       "\n",
       "    .dataframe tbody tr th {\n",
       "        vertical-align: top;\n",
       "    }\n",
       "\n",
       "    .dataframe thead th {\n",
       "        text-align: right;\n",
       "    }\n",
       "</style>\n",
       "<table border=\"1\" class=\"dataframe\">\n",
       "  <thead>\n",
       "    <tr style=\"text-align: right;\">\n",
       "      <th></th>\n",
       "      <th>Question</th>\n",
       "      <th>Option_1</th>\n",
       "      <th>Option_2</th>\n",
       "      <th>Option_3</th>\n",
       "      <th>Option_4</th>\n",
       "      <th>RC</th>\n",
       "      <th>year</th>\n",
       "    </tr>\n",
       "  </thead>\n",
       "  <tbody>\n",
       "    <tr>\n",
       "      <th>200</th>\n",
       "      <td>201. ¿Cuál de las siguientes es una metaloenzi...</td>\n",
       "      <td>1. Carboxipeptidasa A.</td>\n",
       "      <td>2. Formilmetanofurano deshidrogenasa.</td>\n",
       "      <td>3. Monóxido de carbono deshidrogenasa.</td>\n",
       "      <td>4. Carboxipeptidas B.</td>\n",
       "      <td>2</td>\n",
       "      <td>2021</td>\n",
       "    </tr>\n",
       "    <tr>\n",
       "      <th>201</th>\n",
       "      <td>202. Las lipoproteínas más ligeras (densidad &lt;...</td>\n",
       "      <td>1. Las de baja densidad (LDL).</td>\n",
       "      <td>2. Las de alta densidad (HDL).</td>\n",
       "      <td>3. Los quilomicrones.</td>\n",
       "      <td>4. Las de muy baja densidad (VLDL).</td>\n",
       "      <td>3</td>\n",
       "      <td>2021</td>\n",
       "    </tr>\n",
       "    <tr>\n",
       "      <th>202</th>\n",
       "      <td>203. ¿Cuántos átomos de nitrógeno contiene una...</td>\n",
       "      <td>1. Cinco.</td>\n",
       "      <td>2. Cuatro.</td>\n",
       "      <td>3. Tres.</td>\n",
       "      <td>4. Seis.</td>\n",
       "      <td>1</td>\n",
       "      <td>2021</td>\n",
       "    </tr>\n",
       "    <tr>\n",
       "      <th>203</th>\n",
       "      <td>204. ¿Cuáles son las configuraciones electróni...</td>\n",
       "      <td>1. Cr: [Ar] 4s 23d5; Cr2+: [Ar] 4s 23d3; Cr3+:...</td>\n",
       "      <td>2. Cr: [Ar] 4s23d5; Cr2+: [Ar] 3d5; Cr3+: [Ar]...</td>\n",
       "      <td>3. Cr: [Ar] 4s 23d4; Cr2+: [Ar] 4s 23d2; Cr3+:...</td>\n",
       "      <td>4. Cr: [Ar] 4s23d4; Cr2+: [Ar] 3d4; Cr3+: [Ar]...</td>\n",
       "      <td>0</td>\n",
       "      <td>2021</td>\n",
       "    </tr>\n",
       "    <tr>\n",
       "      <th>204</th>\n",
       "      <td>205. En un procedimiento de medida, la menor c...</td>\n",
       "      <td>1. Límite de detección.</td>\n",
       "      <td>2. Límite de cuantificación.</td>\n",
       "      <td>3. Capacidad del procedimiento de medida.</td>\n",
       "      <td>4. Límite de dilución.</td>\n",
       "      <td>2</td>\n",
       "      <td>2021</td>\n",
       "    </tr>\n",
       "    <tr>\n",
       "      <th>205</th>\n",
       "      <td>206. ¿Cuál es la composición del núcleo del de...</td>\n",
       "      <td>1. Dos protones.</td>\n",
       "      <td>2. Dos neutrones.</td>\n",
       "      <td>3. Un protón y un neutrón.</td>\n",
       "      <td>4. Un protón y dos neutrones.</td>\n",
       "      <td>3</td>\n",
       "      <td>2021</td>\n",
       "    </tr>\n",
       "    <tr>\n",
       "      <th>206</th>\n",
       "      <td>207. La Rifampicina inhibe la transcripción en...</td>\n",
       "      <td>1. Se une a la subunidad beta de las RNA polim...</td>\n",
       "      <td>2. Se une en el DNA a las secuencias promotora...</td>\n",
       "      <td>3. Desestabiliza el heteroduplex DNA-RNA forma...</td>\n",
       "      <td>4. Se intercala en el molde de DNA e impide la...</td>\n",
       "      <td>1</td>\n",
       "      <td>2021</td>\n",
       "    </tr>\n",
       "    <tr>\n",
       "      <th>207</th>\n",
       "      <td>208. Si una reacción compuesta por varias etap...</td>\n",
       "      <td>1. EA=-EA1+EA-1-EA2.</td>\n",
       "      <td>2. EA=EA1-EA-1+EA2.</td>\n",
       "      <td>3. EA=-EA1+EA-1+EA2.</td>\n",
       "      <td>4. EA=-EA1-EA-1-EA2.</td>\n",
       "      <td>2</td>\n",
       "      <td>2021</td>\n",
       "    </tr>\n",
       "    <tr>\n",
       "      <th>208</th>\n",
       "      <td>209. Una disolución de urea en agua, con conce...</td>\n",
       "      <td>1. 0ºC.</td>\n",
       "      <td>2. Entre 0 y -0.019ºC.</td>\n",
       "      <td>3. -0.019ºC.</td>\n",
       "      <td>4. Entre -0.019ºC y -0.038ºC.</td>\n",
       "      <td>4</td>\n",
       "      <td>2021</td>\n",
       "    </tr>\n",
       "    <tr>\n",
       "      <th>209</th>\n",
       "      <td>210. La principal fuente d e colesterol extrac...</td>\n",
       "      <td>1. Las lipoproteínas de muy baja densidad (VLDL).</td>\n",
       "      <td>2. Las lipoproteínas de baja densidad (LDL).</td>\n",
       "      <td>3. Las lipoproteínas de elevada densidad (HDL).</td>\n",
       "      <td>4. Los quilomicrones.</td>\n",
       "      <td>2</td>\n",
       "      <td>2021</td>\n",
       "    </tr>\n",
       "  </tbody>\n",
       "</table>\n",
       "</div>"
      ],
      "text/plain": [
       "                                              Question  \\\n",
       "200  201. ¿Cuál de las siguientes es una metaloenzi...   \n",
       "201  202. Las lipoproteínas más ligeras (densidad <...   \n",
       "202  203. ¿Cuántos átomos de nitrógeno contiene una...   \n",
       "203  204. ¿Cuáles son las configuraciones electróni...   \n",
       "204  205. En un procedimiento de medida, la menor c...   \n",
       "205  206. ¿Cuál es la composición del núcleo del de...   \n",
       "206  207. La Rifampicina inhibe la transcripción en...   \n",
       "207  208. Si una reacción compuesta por varias etap...   \n",
       "208  209. Una disolución de urea en agua, con conce...   \n",
       "209  210. La principal fuente d e colesterol extrac...   \n",
       "\n",
       "                                              Option_1  \\\n",
       "200                             1. Carboxipeptidasa A.   \n",
       "201                     1. Las de baja densidad (LDL).   \n",
       "202                                          1. Cinco.   \n",
       "203  1. Cr: [Ar] 4s 23d5; Cr2+: [Ar] 4s 23d3; Cr3+:...   \n",
       "204                            1. Límite de detección.   \n",
       "205                                   1. Dos protones.   \n",
       "206  1. Se une a la subunidad beta de las RNA polim...   \n",
       "207                               1. EA=-EA1+EA-1-EA2.   \n",
       "208                                            1. 0ºC.   \n",
       "209  1. Las lipoproteínas de muy baja densidad (VLDL).   \n",
       "\n",
       "                                              Option_2  \\\n",
       "200              2. Formilmetanofurano deshidrogenasa.   \n",
       "201                     2. Las de alta densidad (HDL).   \n",
       "202                                         2. Cuatro.   \n",
       "203  2. Cr: [Ar] 4s23d5; Cr2+: [Ar] 3d5; Cr3+: [Ar]...   \n",
       "204                       2. Límite de cuantificación.   \n",
       "205                                  2. Dos neutrones.   \n",
       "206  2. Se une en el DNA a las secuencias promotora...   \n",
       "207                                2. EA=EA1-EA-1+EA2.   \n",
       "208                             2. Entre 0 y -0.019ºC.   \n",
       "209       2. Las lipoproteínas de baja densidad (LDL).   \n",
       "\n",
       "                                              Option_3  \\\n",
       "200             3. Monóxido de carbono deshidrogenasa.   \n",
       "201                              3. Los quilomicrones.   \n",
       "202                                           3. Tres.   \n",
       "203  3. Cr: [Ar] 4s 23d4; Cr2+: [Ar] 4s 23d2; Cr3+:...   \n",
       "204          3. Capacidad del procedimiento de medida.   \n",
       "205                         3. Un protón y un neutrón.   \n",
       "206  3. Desestabiliza el heteroduplex DNA-RNA forma...   \n",
       "207                               3. EA=-EA1+EA-1+EA2.   \n",
       "208                                       3. -0.019ºC.   \n",
       "209    3. Las lipoproteínas de elevada densidad (HDL).   \n",
       "\n",
       "                                              Option_4  RC  year  \n",
       "200                              4. Carboxipeptidas B.   2  2021  \n",
       "201                4. Las de muy baja densidad (VLDL).   3  2021  \n",
       "202                                           4. Seis.   1  2021  \n",
       "203  4. Cr: [Ar] 4s23d4; Cr2+: [Ar] 3d4; Cr3+: [Ar]...   0  2021  \n",
       "204                             4. Límite de dilución.   2  2021  \n",
       "205                      4. Un protón y dos neutrones.   3  2021  \n",
       "206  4. Se intercala en el molde de DNA e impide la...   1  2021  \n",
       "207                               4. EA=-EA1-EA-1-EA2.   2  2021  \n",
       "208                      4. Entre -0.019ºC y -0.038ºC.   4  2021  \n",
       "209                              4. Los quilomicrones.   2  2021  "
      ]
     },
     "execution_count": 34,
     "metadata": {},
     "output_type": "execute_result"
    }
   ],
   "source": [
    "processed_exam_df.tail(10)"
   ]
  },
  {
   "cell_type": "markdown",
   "metadata": {},
   "source": [
    "### Filtering by relevant questions\n",
    "\n",
    "**1. Filtering for id**\n",
    "\n",
    "A list of the number of question is used to filter the DataFrame, but first doing a -1 so it matches with the id. \n",
    "\n",
    "Finally the indexes are reseted"
   ]
  },
  {
   "cell_type": "code",
   "execution_count": 35,
   "metadata": {},
   "outputs": [
    {
     "name": "stdout",
     "output_type": "stream",
     "text": [
      "Expected number of rows = 41\n",
      "Number of rows in filtered df = 41\n"
     ]
    }
   ],
   "source": [
    "id_filter = [x for x in range(121, 160, 1)] + [206, 209]\n",
    "processed_exam_df_filtered = processed_exam_df.iloc[id_filter]\n",
    "processed_exam_df_filtered = processed_exam_df_filtered.reset_index(drop= True)\n",
    "print(f\"Expected number of rows = {len(id_filter)}\\nNumber of rows in filtered df = {processed_exam_df_filtered.shape[0]}\")"
   ]
  },
  {
   "cell_type": "markdown",
   "metadata": {},
   "source": [
    "**2. Showing the filtered DataFrame**\n",
    "\n",
    "Using head and tail"
   ]
  },
  {
   "cell_type": "code",
   "execution_count": 36,
   "metadata": {},
   "outputs": [
    {
     "data": {
      "application/vnd.microsoft.datawrangler.viewer.v0+json": {
       "columns": [
        {
         "name": "index",
         "rawType": "int64",
         "type": "integer"
        },
        {
         "name": "Question",
         "rawType": "object",
         "type": "string"
        },
        {
         "name": "Option_1",
         "rawType": "object",
         "type": "string"
        },
        {
         "name": "Option_2",
         "rawType": "object",
         "type": "string"
        },
        {
         "name": "Option_3",
         "rawType": "object",
         "type": "string"
        },
        {
         "name": "Option_4",
         "rawType": "object",
         "type": "string"
        },
        {
         "name": "RC",
         "rawType": "int32",
         "type": "integer"
        },
        {
         "name": "year",
         "rawType": "int64",
         "type": "integer"
        }
       ],
       "conversionMethod": "pd.DataFrame",
       "ref": "b8bdf025-ae45-43af-bcce-4e4a3d6fd14f",
       "rows": [
        [
         "0",
         "122. La presencia de cuál de las siguientes disposiciones estructurales de una proteína sugiere que es una proteína reguladora de unión al DNA:",
         "1. Dedo de zinc.",
         "2. Hélice α.",
         "3. Cadena β.",
         "4. Región desordenada.",
         "1",
         "2021"
        ],
        [
         "1",
         "123. La síntesis de la urea requiere la siguientes enzimas, EXCEPTO:",
         "1. Carbamil fosfato sintetasa I.",
         "2. Carbamil fosfato sintetasa II.",
         "3. Ornitina transcarbamilasa.",
         "4. Argininosuccinato sintetasa.",
         "2",
         "2021"
        ],
        [
         "2",
         "124. ¿Cuál de los siguientes parámetros se eleva más en el suero de una muestra hemolizada?:",
         "1. Lactato deshidrogenasa.",
         "2. Potasio.",
         "3. Fosfato inorgánico.",
         "4. Calcio.",
         "1",
         "2021"
        ],
        [
         "3",
         "125. Las endonucleasas de restricción (o enzimas de restricción):",
         "1. Hidrolizan enlaces fos foéster comenzando por los extremos 5' del DNA.",
         "2. Se utilizan para la formación de moléculas híbridas mediante recombinación.",
         "3. Reconocen y cortan el DNA en secuencias libres de nucleosomas.",
         "4. Reconocen y cortan el DNA en secuencias de reconocimiento específicas.",
         "4",
         "2021"
        ],
        [
         "4",
         "126. ¿Cuál de las siguientes afirmaciones sobre la complementariedad de las bases nitrogenadas en el DNA es cierta?:",
         "1. Las bases G y C se unen mediante 3 puentes de hidrógeno.",
         "2. Las bases A y T se unen mediante 3 puentes de hidrógeno.",
         "3. Las bases A y G se unen mediante 2 puentes de hidrógeno.",
         "4. Las bases A y C se unen mediante 2 puentes de hidrógeno.",
         "1",
         "2021"
        ],
        [
         "5",
         "127. ¿Cuál de estas frases referidas a la teoría quimiosmótica que relaciona el transporte electrónico mitocondrial y la fosforilación oxidativa es correcta?:",
         "1. La ATP sintasa no se afecta por el gradiente de protones.",
         "2. La energía liberada por el transporte electrónico se conserva como un gradiente de pH transmembrana.",
         "3. La fosforilación oxidativa puede tener lugar en un sistema libre de membranas.",
         "4. Independientemente del punto de entrada de los electrones en la cadena de transporte, el número de moléculas de ATP sintetizadas es constante.",
         "2",
         "2021"
        ],
        [
         "6",
         "128. La principal enzima reguladora de la velocidad de la vía glucolítica es:",
         "1. Fosfofructoquinasa1.",
         "2. Hexoquinasa.",
         "3. Piruvato deshidrogenasa.",
         "4. Enolasa.",
         "1",
         "2021"
        ],
        [
         "7",
         "129. ¿Cuál es la principal utilidad de la hemoglobina glicosilada?:",
         "1. Valorar el control metabólico de un diabético.",
         "2. Diagnóstico de la diabetes mellitus.",
         "3. Indicar cuando existen complicaciones en una diabetes.",
         "4. Indicar cuando puede existir una diabetes gestacional.",
         "1",
         "2021"
        ],
        [
         "8",
         "130. El cerebro está adapta do a usar preferentemente glucosa. Por ello, cabe esperar que su transportador de glucosa sea:",
         "1. De alta afinidad y por tanto con elevada Km.",
         "2. De baja afinidad y por tanto con elevada Km.",
         "3. De alta afinidad, independientemente de su Km.",
         "4. De alta afinidad y por tanto con baja Km.",
         "4",
         "2021"
        ],
        [
         "9",
         "131. La acetil-Coenzima A (Acetil-CoA) es portador de:",
         "1. Grupos acetonitrilo en algunas reacciones enzimáticas.",
         "2. Grupos amino en algunas reacciones de transaminación.",
         "3. Grupos acetilo en algunas reacciones enzimáticas.",
         "4. Grupos etilo en algunas reacciones enzimáticas.",
         "3",
         "2021"
        ]
       ],
       "shape": {
        "columns": 7,
        "rows": 10
       }
      },
      "text/html": [
       "<div>\n",
       "<style scoped>\n",
       "    .dataframe tbody tr th:only-of-type {\n",
       "        vertical-align: middle;\n",
       "    }\n",
       "\n",
       "    .dataframe tbody tr th {\n",
       "        vertical-align: top;\n",
       "    }\n",
       "\n",
       "    .dataframe thead th {\n",
       "        text-align: right;\n",
       "    }\n",
       "</style>\n",
       "<table border=\"1\" class=\"dataframe\">\n",
       "  <thead>\n",
       "    <tr style=\"text-align: right;\">\n",
       "      <th></th>\n",
       "      <th>Question</th>\n",
       "      <th>Option_1</th>\n",
       "      <th>Option_2</th>\n",
       "      <th>Option_3</th>\n",
       "      <th>Option_4</th>\n",
       "      <th>RC</th>\n",
       "      <th>year</th>\n",
       "    </tr>\n",
       "  </thead>\n",
       "  <tbody>\n",
       "    <tr>\n",
       "      <th>0</th>\n",
       "      <td>122. La presencia de cuál de las siguientes di...</td>\n",
       "      <td>1. Dedo de zinc.</td>\n",
       "      <td>2. Hélice α.</td>\n",
       "      <td>3. Cadena β.</td>\n",
       "      <td>4. Región desordenada.</td>\n",
       "      <td>1</td>\n",
       "      <td>2021</td>\n",
       "    </tr>\n",
       "    <tr>\n",
       "      <th>1</th>\n",
       "      <td>123. La síntesis de la urea requiere la siguie...</td>\n",
       "      <td>1. Carbamil fosfato sintetasa I.</td>\n",
       "      <td>2. Carbamil fosfato sintetasa II.</td>\n",
       "      <td>3. Ornitina transcarbamilasa.</td>\n",
       "      <td>4. Argininosuccinato sintetasa.</td>\n",
       "      <td>2</td>\n",
       "      <td>2021</td>\n",
       "    </tr>\n",
       "    <tr>\n",
       "      <th>2</th>\n",
       "      <td>124. ¿Cuál de los siguientes parámetros se ele...</td>\n",
       "      <td>1. Lactato deshidrogenasa.</td>\n",
       "      <td>2. Potasio.</td>\n",
       "      <td>3. Fosfato inorgánico.</td>\n",
       "      <td>4. Calcio.</td>\n",
       "      <td>1</td>\n",
       "      <td>2021</td>\n",
       "    </tr>\n",
       "    <tr>\n",
       "      <th>3</th>\n",
       "      <td>125. Las endonucleasas de restricción (o enzim...</td>\n",
       "      <td>1. Hidrolizan enlaces fos foéster comenzando p...</td>\n",
       "      <td>2. Se utilizan para la formación de moléculas ...</td>\n",
       "      <td>3. Reconocen y cortan el DNA en secuencias lib...</td>\n",
       "      <td>4. Reconocen y cortan el DNA en secuencias de ...</td>\n",
       "      <td>4</td>\n",
       "      <td>2021</td>\n",
       "    </tr>\n",
       "    <tr>\n",
       "      <th>4</th>\n",
       "      <td>126. ¿Cuál de las siguientes afirmaciones sobr...</td>\n",
       "      <td>1. Las bases G y C se unen mediante 3 puentes ...</td>\n",
       "      <td>2. Las bases A y T se unen mediante 3 puentes ...</td>\n",
       "      <td>3. Las bases A y G se unen mediante 2 puentes ...</td>\n",
       "      <td>4. Las bases A y C se unen mediante 2 puentes ...</td>\n",
       "      <td>1</td>\n",
       "      <td>2021</td>\n",
       "    </tr>\n",
       "    <tr>\n",
       "      <th>5</th>\n",
       "      <td>127. ¿Cuál de estas frases referidas a la teor...</td>\n",
       "      <td>1. La ATP sintasa no se afecta por el gradient...</td>\n",
       "      <td>2. La energía liberada por el transporte elect...</td>\n",
       "      <td>3. La fosforilación oxidativa puede tener luga...</td>\n",
       "      <td>4. Independientemente del punto de entrada de ...</td>\n",
       "      <td>2</td>\n",
       "      <td>2021</td>\n",
       "    </tr>\n",
       "    <tr>\n",
       "      <th>6</th>\n",
       "      <td>128. La principal enzima reguladora de la velo...</td>\n",
       "      <td>1. Fosfofructoquinasa1.</td>\n",
       "      <td>2. Hexoquinasa.</td>\n",
       "      <td>3. Piruvato deshidrogenasa.</td>\n",
       "      <td>4. Enolasa.</td>\n",
       "      <td>1</td>\n",
       "      <td>2021</td>\n",
       "    </tr>\n",
       "    <tr>\n",
       "      <th>7</th>\n",
       "      <td>129. ¿Cuál es la principal utilidad de la hemo...</td>\n",
       "      <td>1. Valorar el control metabólico de un diabético.</td>\n",
       "      <td>2. Diagnóstico de la diabetes mellitus.</td>\n",
       "      <td>3. Indicar cuando existen complicaciones en un...</td>\n",
       "      <td>4. Indicar cuando puede existir una diabetes g...</td>\n",
       "      <td>1</td>\n",
       "      <td>2021</td>\n",
       "    </tr>\n",
       "    <tr>\n",
       "      <th>8</th>\n",
       "      <td>130. El cerebro está adapta do a usar preferen...</td>\n",
       "      <td>1. De alta afinidad y por tanto con elevada Km.</td>\n",
       "      <td>2. De baja afinidad y por tanto con elevada Km.</td>\n",
       "      <td>3. De alta afinidad, independientemente de su Km.</td>\n",
       "      <td>4. De alta afinidad y por tanto con baja Km.</td>\n",
       "      <td>4</td>\n",
       "      <td>2021</td>\n",
       "    </tr>\n",
       "    <tr>\n",
       "      <th>9</th>\n",
       "      <td>131. La acetil-Coenzima A (Acetil-CoA) es port...</td>\n",
       "      <td>1. Grupos acetonitrilo en algunas reacciones e...</td>\n",
       "      <td>2. Grupos amino en algunas reacciones de trans...</td>\n",
       "      <td>3. Grupos acetilo en algunas reacciones enzimá...</td>\n",
       "      <td>4. Grupos etilo en algunas reacciones enzimáti...</td>\n",
       "      <td>3</td>\n",
       "      <td>2021</td>\n",
       "    </tr>\n",
       "  </tbody>\n",
       "</table>\n",
       "</div>"
      ],
      "text/plain": [
       "                                            Question  \\\n",
       "0  122. La presencia de cuál de las siguientes di...   \n",
       "1  123. La síntesis de la urea requiere la siguie...   \n",
       "2  124. ¿Cuál de los siguientes parámetros se ele...   \n",
       "3  125. Las endonucleasas de restricción (o enzim...   \n",
       "4  126. ¿Cuál de las siguientes afirmaciones sobr...   \n",
       "5  127. ¿Cuál de estas frases referidas a la teor...   \n",
       "6  128. La principal enzima reguladora de la velo...   \n",
       "7  129. ¿Cuál es la principal utilidad de la hemo...   \n",
       "8  130. El cerebro está adapta do a usar preferen...   \n",
       "9  131. La acetil-Coenzima A (Acetil-CoA) es port...   \n",
       "\n",
       "                                            Option_1  \\\n",
       "0                                   1. Dedo de zinc.   \n",
       "1                   1. Carbamil fosfato sintetasa I.   \n",
       "2                         1. Lactato deshidrogenasa.   \n",
       "3  1. Hidrolizan enlaces fos foéster comenzando p...   \n",
       "4  1. Las bases G y C se unen mediante 3 puentes ...   \n",
       "5  1. La ATP sintasa no se afecta por el gradient...   \n",
       "6                            1. Fosfofructoquinasa1.   \n",
       "7  1. Valorar el control metabólico de un diabético.   \n",
       "8    1. De alta afinidad y por tanto con elevada Km.   \n",
       "9  1. Grupos acetonitrilo en algunas reacciones e...   \n",
       "\n",
       "                                            Option_2  \\\n",
       "0                                       2. Hélice α.   \n",
       "1                  2. Carbamil fosfato sintetasa II.   \n",
       "2                                        2. Potasio.   \n",
       "3  2. Se utilizan para la formación de moléculas ...   \n",
       "4  2. Las bases A y T se unen mediante 3 puentes ...   \n",
       "5  2. La energía liberada por el transporte elect...   \n",
       "6                                    2. Hexoquinasa.   \n",
       "7            2. Diagnóstico de la diabetes mellitus.   \n",
       "8    2. De baja afinidad y por tanto con elevada Km.   \n",
       "9  2. Grupos amino en algunas reacciones de trans...   \n",
       "\n",
       "                                            Option_3  \\\n",
       "0                                       3. Cadena β.   \n",
       "1                      3. Ornitina transcarbamilasa.   \n",
       "2                             3. Fosfato inorgánico.   \n",
       "3  3. Reconocen y cortan el DNA en secuencias lib...   \n",
       "4  3. Las bases A y G se unen mediante 2 puentes ...   \n",
       "5  3. La fosforilación oxidativa puede tener luga...   \n",
       "6                        3. Piruvato deshidrogenasa.   \n",
       "7  3. Indicar cuando existen complicaciones en un...   \n",
       "8  3. De alta afinidad, independientemente de su Km.   \n",
       "9  3. Grupos acetilo en algunas reacciones enzimá...   \n",
       "\n",
       "                                            Option_4  RC  year  \n",
       "0                             4. Región desordenada.   1  2021  \n",
       "1                    4. Argininosuccinato sintetasa.   2  2021  \n",
       "2                                         4. Calcio.   1  2021  \n",
       "3  4. Reconocen y cortan el DNA en secuencias de ...   4  2021  \n",
       "4  4. Las bases A y C se unen mediante 2 puentes ...   1  2021  \n",
       "5  4. Independientemente del punto de entrada de ...   2  2021  \n",
       "6                                        4. Enolasa.   1  2021  \n",
       "7  4. Indicar cuando puede existir una diabetes g...   1  2021  \n",
       "8       4. De alta afinidad y por tanto con baja Km.   4  2021  \n",
       "9  4. Grupos etilo en algunas reacciones enzimáti...   3  2021  "
      ]
     },
     "execution_count": 36,
     "metadata": {},
     "output_type": "execute_result"
    }
   ],
   "source": [
    "processed_exam_df_filtered.head(10)"
   ]
  },
  {
   "cell_type": "code",
   "execution_count": 37,
   "metadata": {},
   "outputs": [
    {
     "data": {
      "application/vnd.microsoft.datawrangler.viewer.v0+json": {
       "columns": [
        {
         "name": "index",
         "rawType": "int64",
         "type": "integer"
        },
        {
         "name": "Question",
         "rawType": "object",
         "type": "string"
        },
        {
         "name": "Option_1",
         "rawType": "object",
         "type": "string"
        },
        {
         "name": "Option_2",
         "rawType": "object",
         "type": "string"
        },
        {
         "name": "Option_3",
         "rawType": "object",
         "type": "string"
        },
        {
         "name": "Option_4",
         "rawType": "object",
         "type": "string"
        },
        {
         "name": "RC",
         "rawType": "int32",
         "type": "integer"
        },
        {
         "name": "year",
         "rawType": "int64",
         "type": "integer"
        }
       ],
       "conversionMethod": "pd.DataFrame",
       "ref": "f6d275b1-61e9-4bff-82cb-539701d86069",
       "rows": [
        [
         "31",
         "153. El escorbuto es una e nfermedad provocada por un déficit en vitamina C.  El efecto bioquímico de esta deficiencia es:",
         "1. La ausencia de síntesis de retinal y la consiguiente pérdida de la visión.",
         "2. Un menor rendimiento d el transporte electrónico mitocondrial, donde la vitamina C juega un papel importante.",
         "3. Un defecto en una enzima responsable de la síntesis de ácidos grasos que acarrea una grave pérdida de peso.",
         "4. La imposibilidad de hidroxilación de la prolina del colágeno a hidroxiprolina, lo que acarrea graves defectos en la estructura de esta proteína.",
         "4",
         "2021"
        ],
        [
         "32",
         "154. ¿En cuál de los siguien tes tejidos es dependiente de insulina el transporte de glucosa al interior de la célula?:",
         "1. Adiposo.",
         "2. Cerebral.",
         "3. Hepático.",
         "4. Eritrocítico.",
         "1",
         "2021"
        ],
        [
         "33",
         "155. La actividad de corrección de pruebas de la DNA Polimerasa I procariótica es una actividad:",
         "1. Polimerizante 5´-3´.",
         "2. Transesterificadora 5- 3´.",
         "3. Exonucleasa 5´ -3´.",
         "4. Exonucleasa 3´ -5´.",
         "4",
         "2021"
        ],
        [
         "34",
         "156. ¿Qué ocurrirá en el caso de que el pH sanguíneo pase de ser 7.4 a ser 7.2?:",
         "1. Se verá afectada la unión de oxígeno a la mioglobina.",
         "2. Descenderá la afinidad de la hemoglobina por el oxígeno.",
         "3. Aumentará la afinidad de la hemoglobina por el oxígeno.",
         "4. La hemoglobina no podrá fijar 2,3bisfosfoglicerato en el espacio central entre subunidadades.",
         "2",
         "2021"
        ],
        [
         "35",
         "157. La gluconeogénesis se realiza en:",
         "1. Únicamente hígado y corteza adrenal.",
         "2. Hígado y corteza adrenal y, en condiciones de ayuno, intestino delgado.",
         "3. Hígado y corteza adrenal y, en condiciones de ayuno, músculo.",
         "4. Hígado e intestino delgado.",
         "2",
         "2021"
        ],
        [
         "36",
         "158. Todos los aminoácidos siguientes contienen sólo g r u p o s  m e t i l o  o  m e t i l e n o  c o m o  c o n s t i t u y e n t e s de sus cadenas laterales, EXCEPTO:",
         "1. Leucina.",
         "2. Alanina.",
         "3. Isoleucina.",
         "4. Lisina.",
         "4",
         "2021"
        ],
        [
         "37",
         "159. ¿Cuál de las siguientes  afirmaciones sobre la vía de las pentosas fosfato NO es cierta?:",
         "1. Es una ruta cerrada, siempre transcurre con la misma secuencia de reacciones.",
         "2. Todas las reacciones de la vía transcurren en el citoplasma.",
         "3. Todas las enzimas implicadas en eta vía son solubles.",
         "4. Algunas de las enzimas implicadas no son exclusivas de esta vía.",
         "1",
         "2021"
        ],
        [
         "38",
         "160. Con relación a la reacción en cadena de la polimerasa, señale la respuesta correcta:",
         "1. Es una reacción química, in vivo, que inhibe la síntesis de los ácidos nucleicos eucariotas.",
         "2. Utiliza una mezcla equimolar de ribonucleótidos trifosfato (NTPs).",
         "3. Se hace a través de la acción de una polimerasa de DNA termoestable.",
         "4. No necesita cebadores.",
         "3",
         "2021"
        ],
        [
         "39",
         "207. La Rifampicina inhibe la transcripción en las bacterias porque:",
         "1. Se une a la subunidad beta de las RNA polimerasas bacterianas impidiendo el desalojo del promotor.",
         "2. Se une en el DNA a las secuencias promotoras de la transcripción.",
         "3. Desestabiliza el heteroduplex DNA-RNA formado durante el proceso de elongación.",
         "4. Se intercala en el molde de DNA e impide la elongación de la transcripción.",
         "1",
         "2021"
        ],
        [
         "40",
         "210. La principal fuente d e colesterol extracelular para los tejidos humanos es:",
         "1. Las lipoproteínas de muy baja densidad (VLDL).",
         "2. Las lipoproteínas de baja densidad (LDL).",
         "3. Las lipoproteínas de elevada densidad (HDL).",
         "4. Los quilomicrones.",
         "2",
         "2021"
        ]
       ],
       "shape": {
        "columns": 7,
        "rows": 10
       }
      },
      "text/html": [
       "<div>\n",
       "<style scoped>\n",
       "    .dataframe tbody tr th:only-of-type {\n",
       "        vertical-align: middle;\n",
       "    }\n",
       "\n",
       "    .dataframe tbody tr th {\n",
       "        vertical-align: top;\n",
       "    }\n",
       "\n",
       "    .dataframe thead th {\n",
       "        text-align: right;\n",
       "    }\n",
       "</style>\n",
       "<table border=\"1\" class=\"dataframe\">\n",
       "  <thead>\n",
       "    <tr style=\"text-align: right;\">\n",
       "      <th></th>\n",
       "      <th>Question</th>\n",
       "      <th>Option_1</th>\n",
       "      <th>Option_2</th>\n",
       "      <th>Option_3</th>\n",
       "      <th>Option_4</th>\n",
       "      <th>RC</th>\n",
       "      <th>year</th>\n",
       "    </tr>\n",
       "  </thead>\n",
       "  <tbody>\n",
       "    <tr>\n",
       "      <th>31</th>\n",
       "      <td>153. El escorbuto es una e nfermedad provocada...</td>\n",
       "      <td>1. La ausencia de síntesis de retinal y la con...</td>\n",
       "      <td>2. Un menor rendimiento d el transporte electr...</td>\n",
       "      <td>3. Un defecto en una enzima responsable de la ...</td>\n",
       "      <td>4. La imposibilidad de hidroxilación de la pro...</td>\n",
       "      <td>4</td>\n",
       "      <td>2021</td>\n",
       "    </tr>\n",
       "    <tr>\n",
       "      <th>32</th>\n",
       "      <td>154. ¿En cuál de los siguien tes tejidos es de...</td>\n",
       "      <td>1. Adiposo.</td>\n",
       "      <td>2. Cerebral.</td>\n",
       "      <td>3. Hepático.</td>\n",
       "      <td>4. Eritrocítico.</td>\n",
       "      <td>1</td>\n",
       "      <td>2021</td>\n",
       "    </tr>\n",
       "    <tr>\n",
       "      <th>33</th>\n",
       "      <td>155. La actividad de corrección de pruebas de ...</td>\n",
       "      <td>1. Polimerizante 5´-3´.</td>\n",
       "      <td>2. Transesterificadora 5- 3´.</td>\n",
       "      <td>3. Exonucleasa 5´ -3´.</td>\n",
       "      <td>4. Exonucleasa 3´ -5´.</td>\n",
       "      <td>4</td>\n",
       "      <td>2021</td>\n",
       "    </tr>\n",
       "    <tr>\n",
       "      <th>34</th>\n",
       "      <td>156. ¿Qué ocurrirá en el caso de que el pH san...</td>\n",
       "      <td>1. Se verá afectada la unión de oxígeno a la m...</td>\n",
       "      <td>2. Descenderá la afinidad de la hemoglobina po...</td>\n",
       "      <td>3. Aumentará la afinidad de la hemoglobina por...</td>\n",
       "      <td>4. La hemoglobina no podrá fijar 2,3bisfosfogl...</td>\n",
       "      <td>2</td>\n",
       "      <td>2021</td>\n",
       "    </tr>\n",
       "    <tr>\n",
       "      <th>35</th>\n",
       "      <td>157. La gluconeogénesis se realiza en:</td>\n",
       "      <td>1. Únicamente hígado y corteza adrenal.</td>\n",
       "      <td>2. Hígado y corteza adrenal y, en condiciones ...</td>\n",
       "      <td>3. Hígado y corteza adrenal y, en condiciones ...</td>\n",
       "      <td>4. Hígado e intestino delgado.</td>\n",
       "      <td>2</td>\n",
       "      <td>2021</td>\n",
       "    </tr>\n",
       "    <tr>\n",
       "      <th>36</th>\n",
       "      <td>158. Todos los aminoácidos siguientes contiene...</td>\n",
       "      <td>1. Leucina.</td>\n",
       "      <td>2. Alanina.</td>\n",
       "      <td>3. Isoleucina.</td>\n",
       "      <td>4. Lisina.</td>\n",
       "      <td>4</td>\n",
       "      <td>2021</td>\n",
       "    </tr>\n",
       "    <tr>\n",
       "      <th>37</th>\n",
       "      <td>159. ¿Cuál de las siguientes  afirmaciones sob...</td>\n",
       "      <td>1. Es una ruta cerrada, siempre transcurre con...</td>\n",
       "      <td>2. Todas las reacciones de la vía transcurren ...</td>\n",
       "      <td>3. Todas las enzimas implicadas en eta vía son...</td>\n",
       "      <td>4. Algunas de las enzimas implicadas no son ex...</td>\n",
       "      <td>1</td>\n",
       "      <td>2021</td>\n",
       "    </tr>\n",
       "    <tr>\n",
       "      <th>38</th>\n",
       "      <td>160. Con relación a la reacción en cadena de l...</td>\n",
       "      <td>1. Es una reacción química, in vivo, que inhib...</td>\n",
       "      <td>2. Utiliza una mezcla equimolar de ribonucleót...</td>\n",
       "      <td>3. Se hace a través de la acción de una polime...</td>\n",
       "      <td>4. No necesita cebadores.</td>\n",
       "      <td>3</td>\n",
       "      <td>2021</td>\n",
       "    </tr>\n",
       "    <tr>\n",
       "      <th>39</th>\n",
       "      <td>207. La Rifampicina inhibe la transcripción en...</td>\n",
       "      <td>1. Se une a la subunidad beta de las RNA polim...</td>\n",
       "      <td>2. Se une en el DNA a las secuencias promotora...</td>\n",
       "      <td>3. Desestabiliza el heteroduplex DNA-RNA forma...</td>\n",
       "      <td>4. Se intercala en el molde de DNA e impide la...</td>\n",
       "      <td>1</td>\n",
       "      <td>2021</td>\n",
       "    </tr>\n",
       "    <tr>\n",
       "      <th>40</th>\n",
       "      <td>210. La principal fuente d e colesterol extrac...</td>\n",
       "      <td>1. Las lipoproteínas de muy baja densidad (VLDL).</td>\n",
       "      <td>2. Las lipoproteínas de baja densidad (LDL).</td>\n",
       "      <td>3. Las lipoproteínas de elevada densidad (HDL).</td>\n",
       "      <td>4. Los quilomicrones.</td>\n",
       "      <td>2</td>\n",
       "      <td>2021</td>\n",
       "    </tr>\n",
       "  </tbody>\n",
       "</table>\n",
       "</div>"
      ],
      "text/plain": [
       "                                             Question  \\\n",
       "31  153. El escorbuto es una e nfermedad provocada...   \n",
       "32  154. ¿En cuál de los siguien tes tejidos es de...   \n",
       "33  155. La actividad de corrección de pruebas de ...   \n",
       "34  156. ¿Qué ocurrirá en el caso de que el pH san...   \n",
       "35             157. La gluconeogénesis se realiza en:   \n",
       "36  158. Todos los aminoácidos siguientes contiene...   \n",
       "37  159. ¿Cuál de las siguientes  afirmaciones sob...   \n",
       "38  160. Con relación a la reacción en cadena de l...   \n",
       "39  207. La Rifampicina inhibe la transcripción en...   \n",
       "40  210. La principal fuente d e colesterol extrac...   \n",
       "\n",
       "                                             Option_1  \\\n",
       "31  1. La ausencia de síntesis de retinal y la con...   \n",
       "32                                        1. Adiposo.   \n",
       "33                            1. Polimerizante 5´-3´.   \n",
       "34  1. Se verá afectada la unión de oxígeno a la m...   \n",
       "35            1. Únicamente hígado y corteza adrenal.   \n",
       "36                                        1. Leucina.   \n",
       "37  1. Es una ruta cerrada, siempre transcurre con...   \n",
       "38  1. Es una reacción química, in vivo, que inhib...   \n",
       "39  1. Se une a la subunidad beta de las RNA polim...   \n",
       "40  1. Las lipoproteínas de muy baja densidad (VLDL).   \n",
       "\n",
       "                                             Option_2  \\\n",
       "31  2. Un menor rendimiento d el transporte electr...   \n",
       "32                                       2. Cerebral.   \n",
       "33                      2. Transesterificadora 5- 3´.   \n",
       "34  2. Descenderá la afinidad de la hemoglobina po...   \n",
       "35  2. Hígado y corteza adrenal y, en condiciones ...   \n",
       "36                                        2. Alanina.   \n",
       "37  2. Todas las reacciones de la vía transcurren ...   \n",
       "38  2. Utiliza una mezcla equimolar de ribonucleót...   \n",
       "39  2. Se une en el DNA a las secuencias promotora...   \n",
       "40       2. Las lipoproteínas de baja densidad (LDL).   \n",
       "\n",
       "                                             Option_3  \\\n",
       "31  3. Un defecto en una enzima responsable de la ...   \n",
       "32                                       3. Hepático.   \n",
       "33                             3. Exonucleasa 5´ -3´.   \n",
       "34  3. Aumentará la afinidad de la hemoglobina por...   \n",
       "35  3. Hígado y corteza adrenal y, en condiciones ...   \n",
       "36                                     3. Isoleucina.   \n",
       "37  3. Todas las enzimas implicadas en eta vía son...   \n",
       "38  3. Se hace a través de la acción de una polime...   \n",
       "39  3. Desestabiliza el heteroduplex DNA-RNA forma...   \n",
       "40    3. Las lipoproteínas de elevada densidad (HDL).   \n",
       "\n",
       "                                             Option_4  RC  year  \n",
       "31  4. La imposibilidad de hidroxilación de la pro...   4  2021  \n",
       "32                                   4. Eritrocítico.   1  2021  \n",
       "33                             4. Exonucleasa 3´ -5´.   4  2021  \n",
       "34  4. La hemoglobina no podrá fijar 2,3bisfosfogl...   2  2021  \n",
       "35                     4. Hígado e intestino delgado.   2  2021  \n",
       "36                                         4. Lisina.   4  2021  \n",
       "37  4. Algunas de las enzimas implicadas no son ex...   1  2021  \n",
       "38                          4. No necesita cebadores.   3  2021  \n",
       "39  4. Se intercala en el molde de DNA e impide la...   1  2021  \n",
       "40                              4. Los quilomicrones.   2  2021  "
      ]
     },
     "execution_count": 37,
     "metadata": {},
     "output_type": "execute_result"
    }
   ],
   "source": [
    "processed_exam_df_filtered.tail(10)"
   ]
  },
  {
   "cell_type": "markdown",
   "metadata": {},
   "source": [
    "# Data Loading"
   ]
  },
  {
   "cell_type": "markdown",
   "metadata": {},
   "source": [
    "## Saving in csv file\n",
    "\n",
    "The `processed_exam_df_filtered` DataFrame, containing the cleaned and transformed exam data, is saved to a CSV file with the name generatd in the first step in the \"data\" directory. The `index=False` argument ensures that the DataFrame index is not written to the file, resulting in a cleaner output. This CSV file can be used for further analysis or as input for other applications."
   ]
  },
  {
   "cell_type": "code",
   "execution_count": 38,
   "metadata": {},
   "outputs": [],
   "source": [
    "processed_exam_df_filtered.to_csv(save_format, index= False)"
   ]
  },
  {
   "cell_type": "markdown",
   "metadata": {},
   "source": [
    "## Writing into data warehouse\n",
    "\n",
    "This section details the process of loading the cleaned and transformed exam data into an SQLite database, serving as a data warehouse for further analysis and querying.\n",
    "\n",
    "**1. Database Connection and Path:**\n",
    "\n",
    "The path to the SQLite database file is defined, and a connection is established using the `sqlite3` library."
   ]
  },
  {
   "cell_type": "code",
   "execution_count": 39,
   "metadata": {},
   "outputs": [],
   "source": [
    "db_path: str = \"../data/clean/bir_warehouse.db\""
   ]
  },
  {
   "cell_type": "markdown",
   "metadata": {},
   "source": [
    "**2. SQL Queries Definition:**\n",
    "\n",
    "Two SQL queries are defined: one for inserting questions into the questions table and another for inserting options into the questions_options table."
   ]
  },
  {
   "cell_type": "code",
   "execution_count": 40,
   "metadata": {},
   "outputs": [],
   "source": [
    "query_question: str = \"\"\"\n",
    "INSERT INTO questions (exam_year, exam_subject, question) \n",
    "VALUES((SELECT id_year FROM year WHERE year_name = ?),\n",
    "    (SELECT id_type FROM exam WHERE exam_type = ?),\n",
    "    ?);\n",
    "\"\"\"\n",
    "\n",
    "query_options: str = \"\"\"\n",
    "INSERT INTO questions_options (question_id, option_num, option_text, is_correct)\n",
    "VALUES((SELECT q.id \n",
    "        FROM questions AS q\n",
    "        JOIN year AS y ON q.exam_year = y.id_year\n",
    "        WHERE q.question = ? AND y.year_name = ?),\n",
    "    ?,\n",
    "    ?,\n",
    "    ?)\n",
    "\"\"\"\n"
   ]
  },
  {
   "cell_type": "markdown",
   "metadata": {},
   "source": [
    "**3. Database Interaction and Data Insertion:**\n",
    "\n",
    "A with statement is used to establish a connection to the SQLite database, ensuring that the connection is properly closed after use. A cursor is created, and the processed_exam_df DataFrame is iterated over to insert each question and its options\n",
    "\n",
    "Fixed spacing issue manually in the csv file, so the DataFrame it will be loaded from the csv file"
   ]
  },
  {
   "cell_type": "code",
   "execution_count": 42,
   "metadata": {},
   "outputs": [
    {
     "data": {
      "application/vnd.microsoft.datawrangler.viewer.v0+json": {
       "columns": [
        {
         "name": "index",
         "rawType": "int64",
         "type": "integer"
        },
        {
         "name": "Question",
         "rawType": "object",
         "type": "string"
        },
        {
         "name": "Option_1",
         "rawType": "object",
         "type": "string"
        },
        {
         "name": "Option_2",
         "rawType": "object",
         "type": "string"
        },
        {
         "name": "Option_3",
         "rawType": "object",
         "type": "string"
        },
        {
         "name": "Option_4",
         "rawType": "object",
         "type": "string"
        },
        {
         "name": "RC",
         "rawType": "int64",
         "type": "integer"
        },
        {
         "name": "year",
         "rawType": "int64",
         "type": "integer"
        }
       ],
       "conversionMethod": "pd.DataFrame",
       "ref": "d303bf73-ebd7-4770-872e-3970b146e57b",
       "rows": [
        [
         "36",
         "158. Todos los aminoácidos siguientes contienen sólo grupos metilo o metileno como constituyentes de sus cadenas laterales, EXCEPTO:",
         "1. Leucina.",
         "2. Alanina.",
         "3. Isoleucina.",
         "4. Lisina.",
         "4",
         "2021"
        ],
        [
         "37",
         "159. ¿Cuál de las siguientes  afirmaciones sobre la vía de las pentosas fosfato NO es cierta?:",
         "1. Es una ruta cerrada, siempre transcurre con la misma secuencia de reacciones.",
         "2. Todas las reacciones de la vía transcurren en el citoplasma.",
         "3. Todas las enzimas implicadas en eta vía son solubles.",
         "4. Algunas de las enzimas implicadas no son exclusivas de esta vía.",
         "1",
         "2021"
        ],
        [
         "38",
         "160. Con relación a la reacción en cadena de la polimerasa, señale la respuesta correcta:",
         "1. Es una reacción química, in vivo, que inhibe la síntesis de los ácidos nucleicos eucariotas.",
         "2. Utiliza una mezcla equimolar de ribonucleótidos trifosfato (NTPs).",
         "3. Se hace a través de la acción de una polimerasa de DNA termoestable.",
         "4. No necesita cebadores.",
         "3",
         "2021"
        ],
        [
         "39",
         "207. La Rifampicina inhibe la transcripción en las bacterias porque:",
         "1. Se une a la subunidad beta de las RNA polimerasas bacterianas impidiendo el desalojo del promotor.",
         "2. Se une en el DNA a las secuencias promotoras de la transcripción.",
         "3. Desestabiliza el heteroduplex DNA-RNA formado durante el proceso de elongación.",
         "4. Se intercala en el molde de DNA e impide la elongación de la transcripción.",
         "1",
         "2021"
        ],
        [
         "40",
         "210. La principal fuente d e colesterol extracelular para los tejidos humanos es:",
         "1. Las lipoproteínas de muy baja densidad (VLDL).",
         "2. Las lipoproteínas de baja densidad (LDL).",
         "3. Las lipoproteínas de elevada densidad (HDL).",
         "4. Los quilomicrones.",
         "2",
         "2021"
        ]
       ],
       "shape": {
        "columns": 7,
        "rows": 5
       }
      },
      "text/html": [
       "<div>\n",
       "<style scoped>\n",
       "    .dataframe tbody tr th:only-of-type {\n",
       "        vertical-align: middle;\n",
       "    }\n",
       "\n",
       "    .dataframe tbody tr th {\n",
       "        vertical-align: top;\n",
       "    }\n",
       "\n",
       "    .dataframe thead th {\n",
       "        text-align: right;\n",
       "    }\n",
       "</style>\n",
       "<table border=\"1\" class=\"dataframe\">\n",
       "  <thead>\n",
       "    <tr style=\"text-align: right;\">\n",
       "      <th></th>\n",
       "      <th>Question</th>\n",
       "      <th>Option_1</th>\n",
       "      <th>Option_2</th>\n",
       "      <th>Option_3</th>\n",
       "      <th>Option_4</th>\n",
       "      <th>RC</th>\n",
       "      <th>year</th>\n",
       "    </tr>\n",
       "  </thead>\n",
       "  <tbody>\n",
       "    <tr>\n",
       "      <th>36</th>\n",
       "      <td>158. Todos los aminoácidos siguientes contiene...</td>\n",
       "      <td>1. Leucina.</td>\n",
       "      <td>2. Alanina.</td>\n",
       "      <td>3. Isoleucina.</td>\n",
       "      <td>4. Lisina.</td>\n",
       "      <td>4</td>\n",
       "      <td>2021</td>\n",
       "    </tr>\n",
       "    <tr>\n",
       "      <th>37</th>\n",
       "      <td>159. ¿Cuál de las siguientes  afirmaciones sob...</td>\n",
       "      <td>1. Es una ruta cerrada, siempre transcurre con...</td>\n",
       "      <td>2. Todas las reacciones de la vía transcurren ...</td>\n",
       "      <td>3. Todas las enzimas implicadas en eta vía son...</td>\n",
       "      <td>4. Algunas de las enzimas implicadas no son ex...</td>\n",
       "      <td>1</td>\n",
       "      <td>2021</td>\n",
       "    </tr>\n",
       "    <tr>\n",
       "      <th>38</th>\n",
       "      <td>160. Con relación a la reacción en cadena de l...</td>\n",
       "      <td>1. Es una reacción química, in vivo, que inhib...</td>\n",
       "      <td>2. Utiliza una mezcla equimolar de ribonucleót...</td>\n",
       "      <td>3. Se hace a través de la acción de una polime...</td>\n",
       "      <td>4. No necesita cebadores.</td>\n",
       "      <td>3</td>\n",
       "      <td>2021</td>\n",
       "    </tr>\n",
       "    <tr>\n",
       "      <th>39</th>\n",
       "      <td>207. La Rifampicina inhibe la transcripción en...</td>\n",
       "      <td>1. Se une a la subunidad beta de las RNA polim...</td>\n",
       "      <td>2. Se une en el DNA a las secuencias promotora...</td>\n",
       "      <td>3. Desestabiliza el heteroduplex DNA-RNA forma...</td>\n",
       "      <td>4. Se intercala en el molde de DNA e impide la...</td>\n",
       "      <td>1</td>\n",
       "      <td>2021</td>\n",
       "    </tr>\n",
       "    <tr>\n",
       "      <th>40</th>\n",
       "      <td>210. La principal fuente d e colesterol extrac...</td>\n",
       "      <td>1. Las lipoproteínas de muy baja densidad (VLDL).</td>\n",
       "      <td>2. Las lipoproteínas de baja densidad (LDL).</td>\n",
       "      <td>3. Las lipoproteínas de elevada densidad (HDL).</td>\n",
       "      <td>4. Los quilomicrones.</td>\n",
       "      <td>2</td>\n",
       "      <td>2021</td>\n",
       "    </tr>\n",
       "  </tbody>\n",
       "</table>\n",
       "</div>"
      ],
      "text/plain": [
       "                                             Question  \\\n",
       "36  158. Todos los aminoácidos siguientes contiene...   \n",
       "37  159. ¿Cuál de las siguientes  afirmaciones sob...   \n",
       "38  160. Con relación a la reacción en cadena de l...   \n",
       "39  207. La Rifampicina inhibe la transcripción en...   \n",
       "40  210. La principal fuente d e colesterol extrac...   \n",
       "\n",
       "                                             Option_1  \\\n",
       "36                                        1. Leucina.   \n",
       "37  1. Es una ruta cerrada, siempre transcurre con...   \n",
       "38  1. Es una reacción química, in vivo, que inhib...   \n",
       "39  1. Se une a la subunidad beta de las RNA polim...   \n",
       "40  1. Las lipoproteínas de muy baja densidad (VLDL).   \n",
       "\n",
       "                                             Option_2  \\\n",
       "36                                        2. Alanina.   \n",
       "37  2. Todas las reacciones de la vía transcurren ...   \n",
       "38  2. Utiliza una mezcla equimolar de ribonucleót...   \n",
       "39  2. Se une en el DNA a las secuencias promotora...   \n",
       "40       2. Las lipoproteínas de baja densidad (LDL).   \n",
       "\n",
       "                                             Option_3  \\\n",
       "36                                     3. Isoleucina.   \n",
       "37  3. Todas las enzimas implicadas en eta vía son...   \n",
       "38  3. Se hace a través de la acción de una polime...   \n",
       "39  3. Desestabiliza el heteroduplex DNA-RNA forma...   \n",
       "40    3. Las lipoproteínas de elevada densidad (HDL).   \n",
       "\n",
       "                                             Option_4  RC  year  \n",
       "36                                         4. Lisina.   4  2021  \n",
       "37  4. Algunas de las enzimas implicadas no son ex...   1  2021  \n",
       "38                          4. No necesita cebadores.   3  2021  \n",
       "39  4. Se intercala en el molde de DNA e impide la...   1  2021  \n",
       "40                              4. Los quilomicrones.   2  2021  "
      ]
     },
     "execution_count": 42,
     "metadata": {},
     "output_type": "execute_result"
    }
   ],
   "source": [
    "processed_exam_df_filtered = pd.read_csv(\"../data/clean/clean_qir_2021.csv\")\n",
    "processed_exam_df_filtered.tail()"
   ]
  },
  {
   "cell_type": "code",
   "execution_count": 43,
   "metadata": {},
   "outputs": [],
   "source": [
    "with sqlite3.connect(db_path) as bir_warehouse:\n",
    "    cur = bir_warehouse.cursor()\n",
    "    for question in processed_exam_df_filtered.itertuples():\n",
    "        cur.execute(query_question, (str(question[7]), exam_acronym, question[1]))\n",
    "        bir_warehouse.commit()\n",
    "        for n, option in enumerate(question[2:6]):\n",
    "            cur.execute(query_options, (question[1], str(year), n+1, option, n+1 == question[6]))\n",
    "            bir_warehouse.commit()"
   ]
  }
 ],
 "metadata": {
  "colab": {
   "provenance": []
  },
  "kernelspec": {
   "display_name": "bir_etl",
   "language": "python",
   "name": "python3"
  },
  "language_info": {
   "codemirror_mode": {
    "name": "ipython",
    "version": 3
   },
   "file_extension": ".py",
   "mimetype": "text/x-python",
   "name": "python",
   "nbconvert_exporter": "python",
   "pygments_lexer": "ipython3",
   "version": "3.12.7"
  }
 },
 "nbformat": 4,
 "nbformat_minor": 4
}
