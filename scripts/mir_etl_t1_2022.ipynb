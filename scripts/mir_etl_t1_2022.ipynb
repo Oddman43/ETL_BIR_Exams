{
 "cells": [
  {
   "cell_type": "markdown",
   "metadata": {
    "editable": true,
    "id": "56vKIohe8Jou",
    "slideshow": {
     "slide_type": ""
    },
    "tags": []
   },
   "source": [
    "# Data Extraction\n",
    "This section details the process of extracting question data from a PDF file and corresponding answer keys from a TSV file."
   ]
  },
  {
   "cell_type": "markdown",
   "metadata": {
    "id": "8kRORmWM8Joy"
   },
   "source": [
    "## Importing libraries"
   ]
  },
  {
   "cell_type": "markdown",
   "metadata": {},
   "source": [
    "* Pandas for data manipulation\n",
    "* NumPy for the NaN datatype\n",
    "* PyPDF for its ability to read the pfd files, although it requieres post-processing of the extracted text\n",
    "* sqlite3 to create load the clean data into `bir_warehouse.db`"
   ]
  },
  {
   "cell_type": "code",
   "execution_count": 1,
   "metadata": {
    "colab": {
     "base_uri": "https://localhost:8080/"
    },
    "id": "y8DpYYll8Joz",
    "outputId": "40cac5b3-1153-431b-f780-201aa62b5813"
   },
   "outputs": [],
   "source": [
    "import pandas as pd\n",
    "import numpy as np\n",
    "from pypdf import PdfReader\n",
    "import sqlite3"
   ]
  },
  {
   "cell_type": "markdown",
   "metadata": {},
   "source": [
    "## Selecting year and type of exam"
   ]
  },
  {
   "cell_type": "markdown",
   "metadata": {},
   "source": [
    "This function, `compute_expected_rows`, takes the exam year and topic as input and returns metadata crucial for subsequent data cleaning and loading steps. This metadata includes the expected maximum number of rows in the final DataFrame, the number of questions per exam, and the acronym for the exam type.  The maximum number of rows is calculated based on the number of questions and options per question for each year, following a specific pattern:\n",
    "\n",
    "*   2024-2021: 210 questions, 4 options each\n",
    "*   2020-2019: 185 questions, 4 options each\n",
    "*   2018-2015: 235 questions, 4 options each\n",
    "*   2014-2012: 235 questions, 5 options each\n",
    "*   2011-2004: 260 questions, 5 options each\n",
    "\n",
    "This information is essential for validating data integrity during the ETL process.  For example, the expected row count helps verify that all questions and options have been correctly extracted and transformed. The exam type acronym aids in consistent file naming and data organization."
   ]
  },
  {
   "cell_type": "code",
   "execution_count": 2,
   "metadata": {},
   "outputs": [],
   "source": [
    "def compute_expected_rows(year: int, topic: str) -> tuple:\n",
    "    \"\"\"Computes and returns metadata about the exam for a given year and topic\n",
    "\n",
    "    Args:\n",
    "        year (int): The year of the exam\n",
    "        topic (str): The topic of the exam\n",
    "\n",
    "    Returns:\n",
    "        tuple: Contains:\n",
    "            - max_rows: The expected maximum number of rows in the DataFrame\n",
    "            - num_options: The number of questions in the exam\n",
    "            - exam_type_acronym: The acronym for the exam type\n",
    "\n",
    "    \"\"\"\n",
    "    info_year_dict: dict = {\n",
    "        2011: [260, 5],\n",
    "        2014: [235, 5],\n",
    "        2018: [235, 4],\n",
    "        2020: [185, 4],\n",
    "        2021: [210, 4],\n",
    "    }\n",
    "    save_name_dict: dict = {\n",
    "        \"BIOLOGÍA\": \"bir\",\n",
    "        \"FARMACIA\": \"fir\",\n",
    "        \"QUÍMICA\": \"qir\",\n",
    "        \"MEDICINA\": \"mir\",\n",
    "    }\n",
    "    max_rows: int = 0\n",
    "    num_options: int = 0\n",
    "    for target_year, info_list in info_year_dict.items():\n",
    "        if year <= target_year:\n",
    "            max_rows = (info_list[0] * info_list[1]) + info_list[0]\n",
    "            num_options = info_list[1]\n",
    "            break\n",
    "    else:\n",
    "        max_rows = 1050\n",
    "        num_options = 4\n",
    "    return max_rows, num_options, save_name_dict[topic]"
   ]
  },
  {
   "cell_type": "markdown",
   "metadata": {},
   "source": [
    "### Add year of the exam and topic "
   ]
  },
  {
   "cell_type": "code",
   "execution_count": 5,
   "metadata": {},
   "outputs": [],
   "source": [
    "year: int = 2022\n",
    "topic: str = \"MEDICINA\" # Select from: BIOLOGÍA, FARMACIA, QUÍMICA, MEDICINA\n",
    "total_num_rows: int\n",
    "num_questions: int\n",
    "exam_acronym: str\n",
    "total_num_rows, num_questions, exam_acronym = compute_expected_rows(year, topic)\n",
    "save_format: str = f\"../data/clean/clean_{exam_acronym}_{year}.csv\""
   ]
  },
  {
   "cell_type": "code",
   "execution_count": 6,
   "metadata": {},
   "outputs": [],
   "source": [
    "add_list: list = [x for x in range(26, 36, 1)] + [36, 37, 38, 41, 42, 45, 47, 51, 96, 158, 168, 170]"
   ]
  },
  {
   "cell_type": "markdown",
   "metadata": {
    "id": "Z1Kjq5ue8Jo1"
   },
   "source": [
    "## Extracting Questions from Pdf file"
   ]
  },
  {
   "cell_type": "markdown",
   "metadata": {},
   "source": [
    "This section focuses on extracting the textual content of the exam questions from the provided PDF file.\n",
    "\n",
    "**Path Definition:**\n",
    "\n",
    "The path to the PDF file is dynamically constructed using the provided `year` and `topic` variables. This ensures flexibility and allows the script to process different exam files without manual path adjustments.\n",
    "\n",
    "Finally it stores the output in a DataFrame and the first 10 rows of the resulting DataFrame are displayed for a quick preview of the loaded data."
   ]
  },
  {
   "cell_type": "code",
   "execution_count": 7,
   "metadata": {
    "id": "AB4M4yfr8Jo3"
   },
   "outputs": [
    {
     "data": {
      "application/vnd.microsoft.datawrangler.viewer.v0+json": {
       "columns": [
        {
         "name": "index",
         "rawType": "int64",
         "type": "integer"
        },
        {
         "name": "text",
         "rawType": "object",
         "type": "string"
        }
       ],
       "conversionMethod": "pd.DataFrame",
       "ref": "b4dcb1c5-0b34-4322-b58b-599727316c48",
       "rows": [
        [
         "0",
         " "
        ],
        [
         "1",
         " "
        ],
        [
         "2",
         "1. Pregunta asociada a la imagen 1. "
        ],
        [
         "3",
         " "
        ],
        [
         "4",
         "Varón de 45 años que, tras un cuadro de dos días "
        ],
        [
         "5",
         "de hiporexia, astenia leve, sensación distérmica y "
        ],
        [
         "6",
         "cefalea holocraneal, sin nauseas ni vómitos, acu-"
        ],
        [
         "7",
         "d e  a  u rgencias por inestabilidad en la marcha. "
        ],
        [
         "8",
         "Refiere otorrea fluctuan te en oído izquierdo "
        ],
        [
         "9",
         "desde la infancia. Exploración neurológica: pares "
        ]
       ],
       "shape": {
        "columns": 1,
        "rows": 10
       }
      },
      "text/html": [
       "<div>\n",
       "<style scoped>\n",
       "    .dataframe tbody tr th:only-of-type {\n",
       "        vertical-align: middle;\n",
       "    }\n",
       "\n",
       "    .dataframe tbody tr th {\n",
       "        vertical-align: top;\n",
       "    }\n",
       "\n",
       "    .dataframe thead th {\n",
       "        text-align: right;\n",
       "    }\n",
       "</style>\n",
       "<table border=\"1\" class=\"dataframe\">\n",
       "  <thead>\n",
       "    <tr style=\"text-align: right;\">\n",
       "      <th></th>\n",
       "      <th>text</th>\n",
       "    </tr>\n",
       "  </thead>\n",
       "  <tbody>\n",
       "    <tr>\n",
       "      <th>0</th>\n",
       "      <td></td>\n",
       "    </tr>\n",
       "    <tr>\n",
       "      <th>1</th>\n",
       "      <td></td>\n",
       "    </tr>\n",
       "    <tr>\n",
       "      <th>2</th>\n",
       "      <td>1. Pregunta asociada a la imagen 1.</td>\n",
       "    </tr>\n",
       "    <tr>\n",
       "      <th>3</th>\n",
       "      <td></td>\n",
       "    </tr>\n",
       "    <tr>\n",
       "      <th>4</th>\n",
       "      <td>Varón de 45 años que, tras un cuadro de dos días</td>\n",
       "    </tr>\n",
       "    <tr>\n",
       "      <th>5</th>\n",
       "      <td>de hiporexia, astenia leve, sensación distérmi...</td>\n",
       "    </tr>\n",
       "    <tr>\n",
       "      <th>6</th>\n",
       "      <td>cefalea holocraneal, sin nauseas ni vómitos, acu-</td>\n",
       "    </tr>\n",
       "    <tr>\n",
       "      <th>7</th>\n",
       "      <td>d e  a  u rgencias por inestabilidad en la mar...</td>\n",
       "    </tr>\n",
       "    <tr>\n",
       "      <th>8</th>\n",
       "      <td>Refiere otorrea fluctuan te en oído izquierdo</td>\n",
       "    </tr>\n",
       "    <tr>\n",
       "      <th>9</th>\n",
       "      <td>desde la infancia. Exploración neurológica: pa...</td>\n",
       "    </tr>\n",
       "  </tbody>\n",
       "</table>\n",
       "</div>"
      ],
      "text/plain": [
       "                                                text\n",
       "0                                                   \n",
       "1                                                   \n",
       "2               1. Pregunta asociada a la imagen 1. \n",
       "3                                                   \n",
       "4  Varón de 45 años que, tras un cuadro de dos días \n",
       "5  de hiporexia, astenia leve, sensación distérmi...\n",
       "6  cefalea holocraneal, sin nauseas ni vómitos, acu-\n",
       "7  d e  a  u rgencias por inestabilidad en la mar...\n",
       "8     Refiere otorrea fluctuan te en oído izquierdo \n",
       "9  desde la infancia. Exploración neurológica: pa..."
      ]
     },
     "execution_count": 7,
     "metadata": {},
     "output_type": "execute_result"
    }
   ],
   "source": [
    "path: str = f\"../data/raw/type_1/Raw_Cuaderno_{year}_{topic}_0_C.pdf\"\n",
    "with PdfReader(path) as pdf_file:\n",
    "    full_text: list = []\n",
    "    for n in range(2, len(pdf_file.pages)):\n",
    "        page = pdf_file.pages[n]\n",
    "        text: str = page.extract_text()\n",
    "        full_text.extend(text.splitlines())\n",
    "raw_exam_df: pd.DataFrame = pd.DataFrame(full_text, columns=[\"text\"])\n",
    "raw_exam_df.head(10)"
   ]
  },
  {
   "cell_type": "markdown",
   "metadata": {
    "id": "IBhc5aFQ8Jo6"
   },
   "source": [
    "## Extracting Answers from .tsv file into a DataFrame"
   ]
  },
  {
   "cell_type": "markdown",
   "metadata": {},
   "source": [
    "This section focuses on extracting the answer key data from the provided .tsv file and loading it into a Pandas DataFrame.\n",
    "\n",
    "**Path Definition and Data Loading:**\n",
    "\n",
    "The path to the .tsv file is dynamically constructed using the `year` and `topic` variables, mirroring the approach used for the PDF file. This ensures consistency and flexibility in processing different exam files. \n",
    "\n",
    "The `pd.read_table()` function is then used to read the .tsv file directly into a Pandas DataFrame. Finally, the first 10 rows of the resulting DataFrame are displayed for a quick preview of the loaded data."
   ]
  },
  {
   "cell_type": "code",
   "execution_count": 8,
   "metadata": {
    "colab": {
     "base_uri": "https://localhost:8080/",
     "height": 206
    },
    "id": "O1ouB9mQ8Jo7",
    "outputId": "70b7615d-9c90-4f2d-b9e1-a5c86b507ef6"
   },
   "outputs": [
    {
     "data": {
      "application/vnd.microsoft.datawrangler.viewer.v0+json": {
       "columns": [
        {
         "name": "index",
         "rawType": "int64",
         "type": "integer"
        },
        {
         "name": "V",
         "rawType": "int64",
         "type": "integer"
        },
        {
         "name": "RC",
         "rawType": "float64",
         "type": "float"
        },
        {
         "name": "V.1",
         "rawType": "int64",
         "type": "integer"
        },
        {
         "name": "RC.1",
         "rawType": "int64",
         "type": "integer"
        },
        {
         "name": "V.2",
         "rawType": "int64",
         "type": "integer"
        },
        {
         "name": "RC.2",
         "rawType": "int64",
         "type": "integer"
        },
        {
         "name": "V.3",
         "rawType": "int64",
         "type": "integer"
        },
        {
         "name": "RC.3",
         "rawType": "float64",
         "type": "float"
        },
        {
         "name": "V.4",
         "rawType": "int64",
         "type": "integer"
        },
        {
         "name": "RC.4",
         "rawType": "int64",
         "type": "integer"
        }
       ],
       "conversionMethod": "pd.DataFrame",
       "ref": "39eb2b8d-1bd2-4ddb-84de-7d16ebba1c89",
       "rows": [
        [
         "0",
         "1",
         "3.0",
         "43",
         "1",
         "85",
         "1",
         "127",
         "4.0",
         "169",
         "1"
        ],
        [
         "1",
         "2",
         "3.0",
         "44",
         "2",
         "86",
         "3",
         "128",
         null,
         "170",
         "2"
        ],
        [
         "2",
         "3",
         "4.0",
         "45",
         "1",
         "87",
         "4",
         "129",
         "4.0",
         "171",
         "1"
        ],
        [
         "3",
         "4",
         "1.0",
         "46",
         "1",
         "88",
         "3",
         "130",
         "3.0",
         "172",
         "3"
        ],
        [
         "4",
         "5",
         "3.0",
         "47",
         "4",
         "89",
         "4",
         "131",
         "2.0",
         "173",
         "2"
        ],
        [
         "5",
         "6",
         "2.0",
         "48",
         "2",
         "90",
         "4",
         "132",
         "3.0",
         "174",
         "1"
        ],
        [
         "6",
         "7",
         "4.0",
         "49",
         "4",
         "91",
         "1",
         "133",
         "4.0",
         "175",
         "4"
        ],
        [
         "7",
         "8",
         "1.0",
         "50",
         "4",
         "92",
         "2",
         "134",
         "3.0",
         "176",
         "4"
        ],
        [
         "8",
         "9",
         "4.0",
         "51",
         "4",
         "93",
         "1",
         "135",
         "2.0",
         "177",
         "3"
        ],
        [
         "9",
         "10",
         "2.0",
         "52",
         "3",
         "94",
         "4",
         "136",
         "2.0",
         "178",
         "4"
        ]
       ],
       "shape": {
        "columns": 10,
        "rows": 10
       }
      },
      "text/html": [
       "<div>\n",
       "<style scoped>\n",
       "    .dataframe tbody tr th:only-of-type {\n",
       "        vertical-align: middle;\n",
       "    }\n",
       "\n",
       "    .dataframe tbody tr th {\n",
       "        vertical-align: top;\n",
       "    }\n",
       "\n",
       "    .dataframe thead th {\n",
       "        text-align: right;\n",
       "    }\n",
       "</style>\n",
       "<table border=\"1\" class=\"dataframe\">\n",
       "  <thead>\n",
       "    <tr style=\"text-align: right;\">\n",
       "      <th></th>\n",
       "      <th>V</th>\n",
       "      <th>RC</th>\n",
       "      <th>V.1</th>\n",
       "      <th>RC.1</th>\n",
       "      <th>V.2</th>\n",
       "      <th>RC.2</th>\n",
       "      <th>V.3</th>\n",
       "      <th>RC.3</th>\n",
       "      <th>V.4</th>\n",
       "      <th>RC.4</th>\n",
       "    </tr>\n",
       "  </thead>\n",
       "  <tbody>\n",
       "    <tr>\n",
       "      <th>0</th>\n",
       "      <td>1</td>\n",
       "      <td>3.0</td>\n",
       "      <td>43</td>\n",
       "      <td>1</td>\n",
       "      <td>85</td>\n",
       "      <td>1</td>\n",
       "      <td>127</td>\n",
       "      <td>4.0</td>\n",
       "      <td>169</td>\n",
       "      <td>1</td>\n",
       "    </tr>\n",
       "    <tr>\n",
       "      <th>1</th>\n",
       "      <td>2</td>\n",
       "      <td>3.0</td>\n",
       "      <td>44</td>\n",
       "      <td>2</td>\n",
       "      <td>86</td>\n",
       "      <td>3</td>\n",
       "      <td>128</td>\n",
       "      <td>NaN</td>\n",
       "      <td>170</td>\n",
       "      <td>2</td>\n",
       "    </tr>\n",
       "    <tr>\n",
       "      <th>2</th>\n",
       "      <td>3</td>\n",
       "      <td>4.0</td>\n",
       "      <td>45</td>\n",
       "      <td>1</td>\n",
       "      <td>87</td>\n",
       "      <td>4</td>\n",
       "      <td>129</td>\n",
       "      <td>4.0</td>\n",
       "      <td>171</td>\n",
       "      <td>1</td>\n",
       "    </tr>\n",
       "    <tr>\n",
       "      <th>3</th>\n",
       "      <td>4</td>\n",
       "      <td>1.0</td>\n",
       "      <td>46</td>\n",
       "      <td>1</td>\n",
       "      <td>88</td>\n",
       "      <td>3</td>\n",
       "      <td>130</td>\n",
       "      <td>3.0</td>\n",
       "      <td>172</td>\n",
       "      <td>3</td>\n",
       "    </tr>\n",
       "    <tr>\n",
       "      <th>4</th>\n",
       "      <td>5</td>\n",
       "      <td>3.0</td>\n",
       "      <td>47</td>\n",
       "      <td>4</td>\n",
       "      <td>89</td>\n",
       "      <td>4</td>\n",
       "      <td>131</td>\n",
       "      <td>2.0</td>\n",
       "      <td>173</td>\n",
       "      <td>2</td>\n",
       "    </tr>\n",
       "    <tr>\n",
       "      <th>5</th>\n",
       "      <td>6</td>\n",
       "      <td>2.0</td>\n",
       "      <td>48</td>\n",
       "      <td>2</td>\n",
       "      <td>90</td>\n",
       "      <td>4</td>\n",
       "      <td>132</td>\n",
       "      <td>3.0</td>\n",
       "      <td>174</td>\n",
       "      <td>1</td>\n",
       "    </tr>\n",
       "    <tr>\n",
       "      <th>6</th>\n",
       "      <td>7</td>\n",
       "      <td>4.0</td>\n",
       "      <td>49</td>\n",
       "      <td>4</td>\n",
       "      <td>91</td>\n",
       "      <td>1</td>\n",
       "      <td>133</td>\n",
       "      <td>4.0</td>\n",
       "      <td>175</td>\n",
       "      <td>4</td>\n",
       "    </tr>\n",
       "    <tr>\n",
       "      <th>7</th>\n",
       "      <td>8</td>\n",
       "      <td>1.0</td>\n",
       "      <td>50</td>\n",
       "      <td>4</td>\n",
       "      <td>92</td>\n",
       "      <td>2</td>\n",
       "      <td>134</td>\n",
       "      <td>3.0</td>\n",
       "      <td>176</td>\n",
       "      <td>4</td>\n",
       "    </tr>\n",
       "    <tr>\n",
       "      <th>8</th>\n",
       "      <td>9</td>\n",
       "      <td>4.0</td>\n",
       "      <td>51</td>\n",
       "      <td>4</td>\n",
       "      <td>93</td>\n",
       "      <td>1</td>\n",
       "      <td>135</td>\n",
       "      <td>2.0</td>\n",
       "      <td>177</td>\n",
       "      <td>3</td>\n",
       "    </tr>\n",
       "    <tr>\n",
       "      <th>9</th>\n",
       "      <td>10</td>\n",
       "      <td>2.0</td>\n",
       "      <td>52</td>\n",
       "      <td>3</td>\n",
       "      <td>94</td>\n",
       "      <td>4</td>\n",
       "      <td>136</td>\n",
       "      <td>2.0</td>\n",
       "      <td>178</td>\n",
       "      <td>4</td>\n",
       "    </tr>\n",
       "  </tbody>\n",
       "</table>\n",
       "</div>"
      ],
      "text/plain": [
       "    V   RC  V.1  RC.1  V.2  RC.2  V.3  RC.3  V.4  RC.4\n",
       "0   1  3.0   43     1   85     1  127   4.0  169     1\n",
       "1   2  3.0   44     2   86     3  128   NaN  170     2\n",
       "2   3  4.0   45     1   87     4  129   4.0  171     1\n",
       "3   4  1.0   46     1   88     3  130   3.0  172     3\n",
       "4   5  3.0   47     4   89     4  131   2.0  173     2\n",
       "5   6  2.0   48     2   90     4  132   3.0  174     1\n",
       "6   7  4.0   49     4   91     1  133   4.0  175     4\n",
       "7   8  1.0   50     4   92     2  134   3.0  176     4\n",
       "8   9  4.0   51     4   93     1  135   2.0  177     3\n",
       "9  10  2.0   52     3   94     4  136   2.0  178     4"
      ]
     },
     "execution_count": 8,
     "metadata": {},
     "output_type": "execute_result"
    }
   ],
   "source": [
    "raw_answers_df: pd.DataFrame = pd.read_table(f\"../data/raw/type_1/Raw_Cuaderno_{year}_{topic}_0_C_Respuestas.tsv\")\n",
    "raw_answers_df.head(10)"
   ]
  },
  {
   "cell_type": "markdown",
   "metadata": {
    "id": "uFFlTADP8Jo7"
   },
   "source": [
    "# Data Transformation"
   ]
  },
  {
   "cell_type": "markdown",
   "metadata": {},
   "source": [
    "## Exam pdf"
   ]
  },
  {
   "cell_type": "markdown",
   "metadata": {},
   "source": [
    "### Removing white space"
   ]
  },
  {
   "cell_type": "markdown",
   "metadata": {
    "id": "2QavIIOK8Jo7"
   },
   "source": [
    "This section focuses on cleaning the raw text extracted from the PDF exam file, preparing it for further processing. This involves removing extraneous whitespace, handling empty lines, and resetting the DataFrame index.\n",
    "\n",
    "**1. Removing Page Number Artifacts:**\n",
    "\n",
    "The extracted text may contain page number artifacts, which are removed by filtering out rows containing the string \"Página\"."
   ]
  },
  {
   "cell_type": "code",
   "execution_count": 9,
   "metadata": {},
   "outputs": [],
   "source": [
    "raw_exam_df = raw_exam_df[~raw_exam_df[\"text\"].str.contains(\"Página\")]\n",
    "raw_exam_df = raw_exam_df[~raw_exam_df[\"text\"].str.contains(\"Pagina\")]\n",
    "raw_exam_df = raw_exam_df[~raw_exam_df[\"text\"].str.contains(topic)]\n",
    "\n",
    "footer_list: list = [f\"- {npag} -\" for npag in range(0,30,1)]\n",
    "\n",
    "for footer in footer_list:\n",
    "    raw_exam_df[\"text\"] = raw_exam_df[\"text\"].str.replace(footer, \"\")"
   ]
  },
  {
   "cell_type": "markdown",
   "metadata": {},
   "source": [
    "**2. Striping Leading/Trailing Whitespaces**\n",
    "\n",
    "Leading and trailing whitespace characters are removed from each text entry using the .str.strip() method."
   ]
  },
  {
   "cell_type": "code",
   "execution_count": 10,
   "metadata": {},
   "outputs": [],
   "source": [
    "raw_exam_df = raw_exam_df[\"text\"].str.strip()"
   ]
  },
  {
   "cell_type": "markdown",
   "metadata": {},
   "source": [
    "**3. Handling Empty Lines**\n",
    "\n",
    "Empty lines, represented as empty strings, are replaced with NaN (Not a Number) values. \n",
    "\n",
    "Then rows containing NaN values, representing empty lines, are removed from the DataFrame using .dropna()"
   ]
  },
  {
   "cell_type": "code",
   "execution_count": 11,
   "metadata": {},
   "outputs": [],
   "source": [
    "raw_exam_df = raw_exam_df.replace(\"\", np.nan)\n",
    "raw_exam_df = raw_exam_df.dropna()"
   ]
  },
  {
   "cell_type": "markdown",
   "metadata": {},
   "source": [
    "**4. Reseting DataFrame Index**\n",
    "\n",
    "The DataFrame index is reset after removing rows, ensuring a contiguous index and dropping the old index."
   ]
  },
  {
   "cell_type": "code",
   "execution_count": 12,
   "metadata": {},
   "outputs": [],
   "source": [
    "raw_exam_df = raw_exam_df.reset_index(drop=True)"
   ]
  },
  {
   "cell_type": "markdown",
   "metadata": {},
   "source": [
    "**5. Displays the first 10 rows of the DataFrame**"
   ]
  },
  {
   "cell_type": "code",
   "execution_count": 13,
   "metadata": {},
   "outputs": [
    {
     "data": {
      "text/plain": [
       "0                  1. Pregunta asociada a la imagen 1.\n",
       "1     Varón de 45 años que, tras un cuadro de dos días\n",
       "2    de hiporexia, astenia leve, sensación distérmi...\n",
       "3    cefalea holocraneal, sin nauseas ni vómitos, acu-\n",
       "4    d e  a  u rgencias por inestabilidad en la mar...\n",
       "5        Refiere otorrea fluctuan te en oído izquierdo\n",
       "6    desde la infancia. Exploración neurológica: pares\n",
       "7        craneales normales, ma rcha con lateropulsión\n",
       "8      izquierda, ligera dismetría dedo-nariz con mano\n",
       "9     izquierda, Glasgow 15. En la otoscopia se obser-\n",
       "Name: text, dtype: object"
      ]
     },
     "execution_count": 13,
     "metadata": {},
     "output_type": "execute_result"
    }
   ],
   "source": [
    "raw_exam_df.head(10)"
   ]
  },
  {
   "cell_type": "code",
   "execution_count": 14,
   "metadata": {},
   "outputs": [
    {
     "data": {
      "text/plain": [
       "2975       consulta de 140/85 mmHg. Señale la medida más\n",
       "2976    eficaz, de las si guientes, para evitar un nuevo\n",
       "2977                              evento cardiovascular:\n",
       "2978      1. Optimizar el tratamiento de la hipertensión\n",
       "2979               arterial, ya que está mal controlado.\n",
       "2980      2. Optimizar el tratamiento hipolipemiante, ya\n",
       "2981                            que está mal controlado.\n",
       "2982              3. Añadir un fármaco para la diabetes.\n",
       "2983    4. Abandonar el hábito tabáquico, caminar a dia-\n",
       "2984                                  rio y perder peso.\n",
       "Name: text, dtype: object"
      ]
     },
     "execution_count": 14,
     "metadata": {},
     "output_type": "execute_result"
    }
   ],
   "source": [
    "raw_exam_df.tail(10)"
   ]
  },
  {
   "cell_type": "markdown",
   "metadata": {},
   "source": [
    "### Joining Truncated Lines"
   ]
  },
  {
   "cell_type": "markdown",
   "metadata": {},
   "source": [
    "This section addresses the issue of truncated lines and multi-line questions or options within the extracted exam text. A custom function, `process_multi_line_str`, is used to concatenate these lines, ensuring that each question and option is presented as a single, coherent string.\n",
    "\n",
    "**Function: `process_multi_line_str(df)`**\n",
    "\n",
    "This function iterates through the DataFrame, performing two main tasks:\n",
    "\n",
    "1.  **Joining Truncated Words:**\n",
    "    * It checks if a line ends with a hyphen (\"-\"), indicating a word that has been truncated at the end of a line.\n",
    "    * If a line is truncated, it removes the hyphen and appends the content of the following line to the current line.\n",
    "    * The following line is then removed from the DataFrame, and the index is reset.\n",
    "\n",
    "2.  **Joining Multi-Line Questions/Options:**\n",
    "    * It checks if the first character of the next line can be converted to an integer. This is used as a heuristic to identify the start of a new question or option.\n",
    "    * If the next line does not start with an integer (i.e., it's a continuation of the current question or option), it is appended to the current line, separated by a space.\n",
    "    * The next line is then removed, and the index is reset."
   ]
  },
  {
   "cell_type": "code",
   "execution_count": 15,
   "metadata": {
    "id": "rYZHjn_C8Jo8"
   },
   "outputs": [],
   "source": [
    "def process_multi_line_str(df: pd.DataFrame) -> pd.DataFrame:\n",
    "    \"\"\"Function to handle truncated lines\n",
    "\n",
    "    Args:\n",
    "        df (pd.DataFrame): A pandas dataframe\n",
    "\n",
    "    Returns:\n",
    "        pd.DataFrame: Returns the DataFrame without truncated lines\n",
    "    \"\"\"\n",
    "    i: int = 0\n",
    "    while i < len(df) - 1:\n",
    "        if i < len(df) -1  and df.iloc[i].endswith(\"-\"):\n",
    "            df.iloc[i] = df.iloc[i][:-1] + df.iloc[i + 1]\n",
    "            df = df.drop(i + 1)\n",
    "            df = df.reset_index(drop=True)\n",
    "        else:\n",
    "            i += 1\n",
    "    n: int = 0\n",
    "    while n < len(df) -1:\n",
    "        if n + 1 < len(df):\n",
    "            try:\n",
    "                int(df.iloc[n + 1][0:1])\n",
    "                n += 1\n",
    "            except ValueError:\n",
    "                df.iloc[n] = df.iloc[n] + \" \" + df.iloc[n + 1]\n",
    "                df = df.drop(n +1)\n",
    "                df = df.reset_index(drop= True)\n",
    "        else:\n",
    "            break\n",
    "    return df"
   ]
  },
  {
   "cell_type": "markdown",
   "metadata": {},
   "source": [
    "The process_multi_line_str function is applied to the cleaned raw_exam_df DataFrame, and the resulting DataFrame is stored in exam_df_concat. The first few rows of the concatenated DataFrame are displayed to verify the results."
   ]
  },
  {
   "cell_type": "code",
   "execution_count": 16,
   "metadata": {
    "colab": {
     "base_uri": "https://localhost:8080/",
     "height": 206
    },
    "id": "2v6dmQuM8_v1",
    "outputId": "215f5328-a43d-4bbb-f221-fba6fc10a5c1"
   },
   "outputs": [
    {
     "data": {
      "text/plain": [
       "0    1. Pregunta asociada a la imagen 1. Varón de 4...\n",
       "1    1. Vértigo periférico por laberintitis difusa ...\n",
       "2                     2. Meningitis otógena izquierda.\n",
       "3    3. Síndrome cerebeloso po r absceso intraparen...\n",
       "4    4. Trombosis de seno lateral por otitis media ...\n",
       "5    2. Pregunta asociada a la imagen 2. P a c i e ...\n",
       "6    1. Infarto cerebral secundario a consumo de dr...\n",
       "7    2. Hemorragia intraparenquimatosa profunda aso...\n",
       "8    3. Hemorragia parietal lobar izquierda asociad...\n",
       "9    4. Hemorragia intraparenquimatosa asociada a u...\n",
       "Name: text, dtype: object"
      ]
     },
     "execution_count": 16,
     "metadata": {},
     "output_type": "execute_result"
    }
   ],
   "source": [
    "exam_df_concat: pd.DataFrame = process_multi_line_str(raw_exam_df)\n",
    "exam_df_concat.head(10)"
   ]
  },
  {
   "cell_type": "markdown",
   "metadata": {},
   "source": [
    "### Validating and Correction Incorrect Rows"
   ]
  },
  {
   "cell_type": "markdown",
   "metadata": {},
   "source": [
    "This section focuses on validating the number of rows in the cleaned DataFrame against the expected number and correcting any rows that do not conform to the expected format.\n",
    "\n",
    "**1. Calculating Expected and Actual Incorrect Rows:**\n",
    "\n",
    "We calculate the expected number of incorrect rows by subtracting the total expected rows from the current number of rows in the DataFrame. We then identify the actual number of incorrect rows by counting the rows that do not end with a period (\".\"), a colon (\":\") or interrogation sign (\"?\")."
   ]
  },
  {
   "cell_type": "code",
   "execution_count": 17,
   "metadata": {},
   "outputs": [
    {
     "name": "stdout",
     "output_type": "stream",
     "text": [
      "Number of expected incorrect rows = 23\n",
      "Number of rows not ending with '.', ':' or '?' = 24\n",
      "[100, 121, 171, 209, 360, 374, 380, 391, 567, 698, 704, 705, 757, 791, 803, 843, 853, 887, 907, 963, 964, 975, 1006, 1042]\n"
     ]
    }
   ],
   "source": [
    "num_rows_incorrect_expected: int = len(exam_df_concat) - total_num_rows\n",
    "num_rows_incorrect: int = exam_df_concat[~exam_df_concat.str.endswith((\".\", \":\", \"?\"))].count()\n",
    "id_rows_incorrect: list = exam_df_concat[~exam_df_concat.str.endswith((\".\", \":\", \"?\"))].index.to_list()\n",
    "print(f\"Number of expected incorrect rows = {num_rows_incorrect_expected}\")\n",
    "print(f\"Number of rows not ending with '.', ':' or '?' = {num_rows_incorrect}\")\n",
    "print(id_rows_incorrect)"
   ]
  },
  {
   "cell_type": "markdown",
   "metadata": {},
   "source": [
    "**2. Function: print_rows_incorrrect(wrong_id, df):**\n",
    "\n",
    "This function takes a list of incorrect row indices and the DataFrame as input. It then prints the row identified as incorrect along with the 2 rows before and 2 rows after, providing context to help determine how to fix the error."
   ]
  },
  {
   "cell_type": "code",
   "execution_count": 18,
   "metadata": {},
   "outputs": [],
   "source": [
    "def print_rows_incorrrect(wrong_id: list[int], df: pd.DataFrame) -> None:\n",
    "    \"\"\"Print +/- 2 rows for context\n",
    "\n",
    "    Args:\n",
    "        wrong_id (list): Generated list of wrong row_id\n",
    "        df (pd.DataFrame): DataFrame corresponding with the worng_id list\n",
    "    \"\"\"\n",
    "    for wid in wrong_id:\n",
    "        print(f\"Id to fix {wid}:\")\n",
    "        print(df.iloc[wid -2: wid +3])"
   ]
  },
  {
   "cell_type": "markdown",
   "metadata": {},
   "source": [
    "**3. Function: fix_incorrect(num_row, df):**\n",
    "\n",
    "This function takes a list of row indices to fix and the DataFrame. It iterates through the indices in reverse order to avoid index shifting problems. Each incorrect row is concatenated with the row immediately following it, and the subsequent row is then dropped. The DataFrame index is reset after each concatenation."
   ]
  },
  {
   "cell_type": "code",
   "execution_count": 19,
   "metadata": {},
   "outputs": [],
   "source": [
    "def fix_incorrect(num_row: list[int], df: pd.DataFrame) -> pd.DataFrame:\n",
    "    \"\"\"Fix the incorrect rows in the DataFrame\n",
    "\n",
    "    Args:\n",
    "        num_row (list): List of ids to fix\n",
    "        df (pd.DataFrame): The DataFrame to fix\n",
    "\n",
    "    Returns:\n",
    "        pd.DataFrame: Fixed\n",
    "    \"\"\"\n",
    "    num_row: list = sorted(num_row, reverse=True)\n",
    "    for n in num_row:\n",
    "        df.iloc[n] = df.iloc[n] + df.iloc[n + 1]\n",
    "        df = df.drop(n + 1)\n",
    "        df = df.reset_index(drop= True)\n",
    "    return df"
   ]
  },
  {
   "cell_type": "markdown",
   "metadata": {},
   "source": [
    "**4. Validation and Correction Logic:**\n",
    "\n",
    "We compare the expected and actual number of incorrect rows. If they match, we proceed to fix the incorrect rows using the `fix_incorrect` function. Otherwise, we print the context of the incorrect rows and raise a warning, indicating that manual inspection and correction are required."
   ]
  },
  {
   "cell_type": "code",
   "execution_count": 21,
   "metadata": {},
   "outputs": [
    {
     "name": "stdout",
     "output_type": "stream",
     "text": [
      "Id to fix 100:\n",
      "98                                 3. Quiste aracnoideo.\n",
      "99                                        4. Metástasis.\n",
      "100    21. Pregunta asociad a a la imagen 21. Mujer d...\n",
      "101    17.000 leucocitos, con neutrófilos 88 %. Se mu...\n",
      "102                                        1. Ooforitis.\n",
      "Name: text, dtype: object\n",
      "Id to fix 121:\n",
      "119                         3. Espasmo esofágico difuso.\n",
      "120    4. Retención alimentaria por tumor submucoso (...\n",
      "121    25. Pregunta asociad a a la imagen 25. Mujer d...\n",
      "122    30 años (fumó durante 10 años 1 paq/día). La a...\n",
      "123         1. Atelectasia de lóbulo inferior izquierdo.\n",
      "Name: text, dtype: object\n",
      "Id to fix 171:\n",
      "169    2. La IgA pasa de la madre al recién nacido du...\n",
      "170    3. La IgA puede atravesar la barrera epitelial...\n",
      "171    4. El déficit selectivo de IgA es la inmunodef...\n",
      "172    1:400) y la mayoría de los casos son asintomát...\n",
      "173    35. Entre las nuevas medidas de protección con...\n",
      "Name: text, dtype: object\n",
      "Id to fix 209:\n",
      "207    4. 50 % en cada embarazo independiente del sex...\n",
      "208    42. En un determinado gen la secuencia de ADN ...\n",
      "209    1. A la que inicia la transcripción para forma...\n",
      "210       2. A la que no está presente en el ARN maduro.\n",
      "211    3. A la que se transcribe para estar presente ...\n",
      "Name: text, dtype: object\n",
      "Id to fix 360:\n",
      "358    72. Primigesta de 26 semanas de gestación, con...\n",
      "359    1. Debe ser informada del riesgo de diabetes g...\n",
      "360     2. Se indicará una sobrecarga oral de glucosa de\n",
      "361    100 g solamente si tiene factores de riesgo pa...\n",
      "362    3. Al ser un valor superior a 165 mg/dL se con...\n",
      "Name: text, dtype: object\n",
      "Id to fix 374:\n",
      "372    3. Indicación de flujometrí a y evaluación de ...\n",
      "373    4. Prescripción de tratamiento oral con fármac...\n",
      "374    75. Primi gesta de 29 años sin antecedentes de...\n",
      "375    125/75 mmHg y e n  l a  e c ografía obstétrica...\n",
      "376    1. Finalización de la gestación de forma inmed...\n",
      "Name: text, dtype: object\n",
      "Id to fix 380:\n",
      "378    3. Controles semanales con monitorización feta...\n",
      "379    4. Inducción del parto a partir de las 37 sema...\n",
      "380    76. Mu jer de 35 años que consulta por amenorr...\n",
      "381    6 meses de evolución. En la anamnesis le dice ...\n",
      "382    1. Probablemente está menopáusica, pero hasta ...\n",
      "Name: text, dtype: object\n",
      "Id to fix 391:\n",
      "389                       3. Vacuna frente al rotavirus.\n",
      "390                  4. Vacuna antimeningocócica tipo B.\n",
      "391    78. Varón de 19 meses, correctamente vacunado ...\n",
      "392    40 ºC sin otra sintomatolo gía, salvo irritabi...\n",
      "393           1. Eritema infeccioso o quinta enfermedad.\n",
      "Name: text, dtype: object\n",
      "Id to fix 567:\n",
      "565    3. A largo plazo suele provocar una artrosis r...\n",
      "566    4. En estadios iniciales el tratamiento de ele...\n",
      "567    113. Varón de 69 años, con índice de masa corp...\n",
      "568    37 y gran obesidad central (abdominal) que aqu...\n",
      "569                      1. Hernia discal a nivel L5-S1.\n",
      "Name: text, dtype: object\n",
      "Id to fix 698:\n",
      "696    3. Tomar muestra para urocultivo y comenzar de...\n",
      "697    4. Ecografía para descartar complicaciones, ur...\n",
      "698    139. Varón de 73 años que acude a ur gencias p...\n",
      "699    5,4 mg/dL, Na 134 mEq/L, K 5,1mEq/L, Ca 11,3 m...\n",
      "700    1. Nefropatía intersticial aguda por analgésicos.\n",
      "Name: text, dtype: object\n",
      "Id to fix 704:\n",
      "702                              3. Pielonefritis aguda.\n",
      "703    4. Progresión del aneurisma aórtico con afecta...\n",
      "704    140. Varón de 45 años que es traído a ur genci...\n",
      "705         3,4 mEq/L, Ca 9,7 m g/dL, osmolaridad sérica\n",
      "706    252 mOsm/k g, osmolaridad urinaria 78 mOsm/kg,...\n",
      "Name: text, dtype: object\n",
      "Id to fix 705:\n",
      "703    4. Progresión del aneurisma aórtico con afecta...\n",
      "704    140. Varón de 45 años que es traído a ur genci...\n",
      "705         3,4 mEq/L, Ca 9,7 m g/dL, osmolaridad sérica\n",
      "706    252 mOsm/k g, osmolaridad urinaria 78 mOsm/kg,...\n",
      "707                        1. Insuficiencia suprarrenal.\n",
      "Name: text, dtype: object\n",
      "Id to fix 757:\n",
      "755     4. Mielopatía crónica de la esclerosis múltiple.\n",
      "756    150. Varón de 41 años ingresado en la UCI por ...\n",
      "757    15.500 leucocitos; Hb 10,4 g/ d L ;  H c t o  ...\n",
      "758    52.000 plaquetas; LDH 820 U (normal 110-210); ...\n",
      "759                                 1. Fibrinógeno bajo.\n",
      "Name: text, dtype: object\n",
      "Id to fix 791:\n",
      "789                      1. No presenta riego de caídas.\n",
      "790    2. Tiene el diagnóstico de sarcopenia confirmada.\n",
      "791           3. Si tuviera sarcopenia, ésta sería grave\n",
      "792                        4. No se sospecha sarcopenia.\n",
      "793    157. Varón de 24 años con ginecomastia bilater...\n",
      "Name: text, dtype: object\n",
      "Id to fix 803:\n",
      "801    3. El tratamiento médico de elección son los a...\n",
      "802                  4. Causa amenorrea hipogonadotropa.\n",
      "803    159. Mu jer de 63 años con diabetes mellitus t...\n",
      "804    41,3 k g/m2. Para el tratamiento de la obesida...\n",
      "805                                     1. Pioglitazona.\n",
      "Name: text, dtype: object\n",
      "Id to fix 843:\n",
      "841    2. Cloxacilina 500 mg cada 6 horas durante 7 d...\n",
      "842    3. C e f t r i a x ona  0 , 5 g I M  ( una  ú ...\n",
      "843       4. Moxifloxacino 400 mg una vez al día durante\n",
      "844                                              7 días.\n",
      "845    167. Varón de 34 años dia gnosticado de otitis...\n",
      "Name: text, dtype: object\n",
      "Id to fix 853:\n",
      "851    1. El cuadro clínico es diagnóstico: fiebre el...\n",
      "852    2. Los test de diagnóstico rápido presentan un...\n",
      "853    3. La pauta de tratamiento de elección es amox...\n",
      "854                                             10 días.\n",
      "855    4. El tratamiento antibiótico ha demostrado re...\n",
      "Name: text, dtype: object\n",
      "Id to fix 887:\n",
      "885    4. Alteración en la beta- oxidación de los áci...\n",
      "886    175. Mu jer de 42 años que desde hace 4 años, ...\n",
      "887                                          1. Anti-ADN\n",
      "888                                2. Anti-proteinasa 3.\n",
      "889                   3. Anti-membrana basal glomerular.\n",
      "Name: text, dtype: object\n",
      "Id to fix 907:\n",
      "905                    4. Iniciar tratamiento con IECAs.\n",
      "906    179. Mujer de 65 años que consulta por hiperco...\n",
      "907    6,4-8,3) y albúmina 3 g/dL (N: 3,5-5). Orina e...\n",
      "908    2.000 m g/g y proteinuria +++. En el examen fí...\n",
      "909    1. Dislipemia secundaria a un síndrome nefrótico.\n",
      "Name: text, dtype: object\n",
      "Id to fix 963:\n",
      "961                             3. Prevención terciaria.\n",
      "962                           4. Prevención cuaternaria.\n",
      "963    190. Varón de 50  años, sin antecedentes de in...\n",
      "964    136/89 mmHg. En la analítica destaca: triglicé...\n",
      "965    2001 ( Adult Treatment Panel III. The National...\n",
      "Name: text, dtype: object\n",
      "Id to fix 964:\n",
      "962                           4. Prevención cuaternaria.\n",
      "963    190. Varón de 50  años, sin antecedentes de in...\n",
      "964    136/89 mmHg. En la analítica destaca: triglicé...\n",
      "965    2001 ( Adult Treatment Panel III. The National...\n",
      "966                                    1. Dos criterios.\n",
      "Name: text, dtype: object\n",
      "Id to fix 975:\n",
      "973                                           3. Axilar.\n",
      "974                                         4. Inguinal.\n",
      "975    192. Varón de 70 años, con  antecedentes de hi...\n",
      "976    78 lpm, sin signos de insuficiencia cardiaca. ...\n",
      "977                                1. Añadir bisoprolol.\n",
      "Name: text, dtype: object\n",
      "Id to fix 1006:\n",
      "1004    3. El uso de mantas de enfriamiento es la medi...\n",
      "1005    4. Medidas de soporte, enfriamiento con esponj...\n",
      "1006    198. El SOFA rápido o qSOFA ( Quick Sequential...\n",
      "1007    92 mmHg. ¿Qué puntuación presenta si se utiliz...\n",
      "1008                                         1. Un punto.\n",
      "Name: text, dtype: object\n",
      "Id to fix 1042:\n",
      "1040                                  3. Hiperfosfatemia.\n",
      "1041                                           4. Uremia.\n",
      "1042    205. Varón de 35 años que presenta desde hace ...\n",
      "1043    4ª interfalán gicas de la mano izquierda. En l...\n",
      "1044                              1. Artritis reumatoide.\n",
      "Name: text, dtype: object\n"
     ]
    }
   ],
   "source": [
    "if num_rows_incorrect_expected == num_rows_incorrect:\n",
    "    exam_df_fixed = fix_incorrect(id_rows_incorrect, exam_df_concat)\n",
    "    df_correct_rows: bool = len(exam_df_fixed) == num_rows_incorrect_expected\n",
    "else:\n",
    "    print_rows_incorrrect(id_rows_incorrect, exam_df_concat)\n",
    "    # raise Warning(\"More incorrect rows that expected, uncomment the lines below and add ids to the list, and comment this line\")\n",
    "    rows_fix: list[int] = [100, 121, 171, 360, 374, 380, 391, 567, 698, 704, 705, 757, 791, 803, 843, 853, 887, 907, 963, 964, 975, 1006, 1042]\n",
    "    exam_df_fixed: pd.DataFrame = fix_incorrect(rows_fix, exam_df_concat)"
   ]
  },
  {
   "cell_type": "markdown",
   "metadata": {},
   "source": [
    "**5. Verification of Corrected Rows:**\n",
    "\n",
    "We print the expected total number of rows and the actual number of rows in the corrected DataFrame to verify the results of the correction process."
   ]
  },
  {
   "cell_type": "code",
   "execution_count": 22,
   "metadata": {},
   "outputs": [
    {
     "name": "stdout",
     "output_type": "stream",
     "text": [
      "Correct number of rows = 1050\n",
      "1050\n"
     ]
    }
   ],
   "source": [
    "print(f\"Correct number of rows = {total_num_rows}\")\n",
    "print(exam_df_fixed.shape[0])"
   ]
  },
  {
   "cell_type": "markdown",
   "metadata": {},
   "source": [
    "### Pivoting the DataFrame\n",
    "\n",
    "This section focuses on transforming the cleaned exam data into a structured format suitable for analysis. The DataFrame is pivoted to create columns for each question and its corresponding options.\n",
    "\n",
    "**1. Preparing the DataFrame for Pivoting:**\n",
    "\n",
    "The `exam_df_fixed` Series is converted to a DataFrame, and a 'group' column is created to identify each question and its options. An 'option_num' column is then generated to enumerate the options within each group.\n"
   ]
  },
  {
   "cell_type": "code",
   "execution_count": 23,
   "metadata": {},
   "outputs": [],
   "source": [
    "exam_df_fixed = exam_df_fixed.to_frame()\n",
    "groups: pd.Series = pd.Series((exam_df_fixed.index // (num_questions+1)) +1)\n",
    "exam_df_fixed[\"group\"] = groups  \n",
    "exam_df_fixed[\"option_num\"] = exam_df_fixed.groupby(\"group\").cumcount() + 1"
   ]
  },
  {
   "cell_type": "markdown",
   "metadata": {},
   "source": [
    "**2. Pivoting the DataFrame:**\n",
    "\n",
    "The DataFrame is pivoted using the 'group' column as the index, the 'option_num' column as the columns, and the 'text' column as the values. The index is then reset."
   ]
  },
  {
   "cell_type": "code",
   "execution_count": 24,
   "metadata": {},
   "outputs": [],
   "source": [
    "exam_df_pivot: pd.DataFrame = exam_df_fixed.pivot(index=\"group\", columns=\"option_num\", values=\"text\")\n",
    "exam_df_pivot = exam_df_pivot.reset_index()"
   ]
  },
  {
   "cell_type": "markdown",
   "metadata": {},
   "source": [
    "**3. Renaming Columns:**\n",
    "\n",
    "The columns are renamed to more descriptive names, such as \"Question\", \"Option_1\", \"Option_2\", etc."
   ]
  },
  {
   "cell_type": "code",
   "execution_count": 25,
   "metadata": {},
   "outputs": [],
   "source": [
    "key_list: list = [x for x in range(1, num_questions+2, 1)]\n",
    "val_list: list = [\"Question\"] + [f\"Option_{x}\" for x in range(1, 4 + 1, 1)]\n",
    "\n",
    "exam_df_pivot = exam_df_pivot.rename_axis(None, axis=1).rename(columns=dict(zip(key_list, val_list)))"
   ]
  },
  {
   "cell_type": "markdown",
   "metadata": {},
   "source": [
    "**4. Dropping the 'group' Column:**\n",
    "\n",
    "The 'group' column is dropped as it is no longer needed"
   ]
  },
  {
   "cell_type": "code",
   "execution_count": 26,
   "metadata": {},
   "outputs": [],
   "source": [
    "exam_df_pivot = exam_df_pivot.drop(columns=[\"group\"])"
   ]
  },
  {
   "cell_type": "markdown",
   "metadata": {},
   "source": [
    "**5. Displaying the Pivoted DataFrame:**\n",
    "\n",
    "The first 10 rows of the pivoted DataFrame are displayed to verify the results of the transformation."
   ]
  },
  {
   "cell_type": "code",
   "execution_count": 27,
   "metadata": {},
   "outputs": [
    {
     "data": {
      "application/vnd.microsoft.datawrangler.viewer.v0+json": {
       "columns": [
        {
         "name": "index",
         "rawType": "int64",
         "type": "integer"
        },
        {
         "name": "Question",
         "rawType": "object",
         "type": "string"
        },
        {
         "name": "Option_1",
         "rawType": "object",
         "type": "string"
        },
        {
         "name": "Option_2",
         "rawType": "object",
         "type": "string"
        },
        {
         "name": "Option_3",
         "rawType": "object",
         "type": "string"
        },
        {
         "name": "Option_4",
         "rawType": "object",
         "type": "string"
        }
       ],
       "conversionMethod": "pd.DataFrame",
       "ref": "17919295-c8f4-41d1-80fd-e464e2a6bfb8",
       "rows": [
        [
         "0",
         "1. Pregunta asociada a la imagen 1. Varón de 45 años que, tras un cuadro de dos días de hiporexia, astenia leve, sensación distérmica y cefalea holocraneal, sin nauseas ni vómitos, acud e  a  u rgencias por inestabilidad en la marcha. Refiere otorrea fluctuan te en oído izquierdo desde la infancia. Exploración neurológica: pares craneales normales, ma rcha con lateropulsión izquierda, ligera dismetría dedo-nariz con mano izquierda, Glasgow 15. En la otoscopia se observa otorrea purulenta y perforación timpánica con epitelio a nivel atical. En la analítica destaca leucocitos 12,8 x10^9/L; 81 % neutrófilos. Se muestra imagen de TC craneal. ¿Cuál de los siguientes es el diagnóstico más probable?:",
         "1. Vértigo periférico por laberintitis difusa purulenta.",
         "2. Meningitis otógena izquierda.",
         "3. Síndrome cerebeloso po r absceso intraparenquimatoso otógeno izquierdo.",
         "4. Trombosis de seno lateral por otitis media crónica colesteatomatosa izquierda."
        ],
        [
         "1",
         "2. Pregunta asociada a la imagen 2. P a c i e n t e  d e  8 0  a ñ o s ,  c o n  d i s l i p e m i a ,  s i n  o t r o s factores de ries go vascular conocidos, con un cuadro de deterioro cognitivo de un año de evolución quien de manera brusca el día del in greso presenta una hemiparesia derecha. Se activa código ictus y se traslada a su hospital de referencia, donde a su llegada se objetiva exploración neurológica con debilidad faciobraquiocrural derecha (escala NIHSS 8) y se realiza TC craneal que se muestra en la ima gen. ¿Cuál de los siguientes es el diagnóstico más probable?:",
         "1. Infarto cerebral secundario a consumo de drogas tipo cocaína.",
         "2. Hemorragia intraparenquimatosa profunda asociada a hipertensión no diagnosticada.",
         "3. Hemorragia parietal lobar izquierda asociada a una posible angiopatia amiloide.",
         "4. Hemorragia intraparenquimatosa asociada a una hemorragia subaracnoidea, por un posible traumatismo craneoencefálico."
        ],
        [
         "2",
         "3. Pregunta asociada a la imagen 3. Mujer de 78 años, sin an tecedentes médicos de interés, que presenta la fractura-luxación de húmero proximal mostrada en la ima gen. ¿Cuál es el tratamiento más recomendable?:",
         "1. Clavo trocantérico largo acerrojado proximal y distal.",
         "2. Rehabilitación intensiva inmediata sin inmovilización.",
         "3. Inmovilización con yeso b raquial colgante de Caldwell.",
         "4. Artroplastia glenohumeral."
        ],
        [
         "3",
         "4. Pregunta asociada a la imagen 4. Mujer de 51 años con antecedentes de diabetes mellitus tipo I e hipertensión arterial de lar ga evolución. En tratamiento sustitutivo renal mediante hemodiálisis desde hace 14 años como consecuencia de una enfermedad renal crónica estadio 5. Durante una de las sesiones de diálisis refiere dolor centrotorácico y disnea de aparición súbita. Las constantes hemodinámicas son normales. Se pauta nitro glicerina intravenosa para la corrección del dolor torácico, que cede en unos quince minutos. Se muestran los electrocardiogramas realizados con y sin dolor torácico. No hubo elevación posterior de enzimas de necrosis miocárdica. ¿Cuál es el dia gnóstico de sospecha y la actitud a seguir?:",
         "1. Síndrome coronario agudo sin elevación del segmento ST, de alto riesgo. Debe ingresar en una unidad con vigilancia electrocardiográfica continua con recomendación de coronariografía temprana (≤48 h).",
         "2. Síndrome coronario agudo sin elevación del segmento ST, de riesgo moderado. Debe ingresar en una unidad con vigilancia electrocardiográfica continua, con recomendación inicial de coronariografía diferida (>48 h).",
         "3. Síndrome coronario agudo sin elevación del segmento ST, de bajo riesgo. Debe ingresar en planta de hospitalización convencional con recomendación de prueba de inducción de isquemia antes del alta hospitalaria y coronariografía diferida según resultado.",
         "4. Los cambios electrocardiográficos no son diagnósticos de síndrome coronario agudo y se consideran secundarios a la hemodiálisis. No precisa ingreso hospitalario."
        ],
        [
         "4",
         "5. Pregunta asociada a la imagen 5. Varón de 57 años, sin factores de riesgo cardiovascular conocidos, que acude a su consulta aquejando disnea de esfuerzo estable de varios meses de evolución. Aporta electrocardio grama de 12 derivaciones (ima gen) y e n  l a  e x p l o r a c i ó n física se ausculta un soplo sistólico en borde paraesternal izquierdo, cuya intensidad y duración aumentan durante la maniobra de Valsalva. De entre las siguientes patologías cardiacas ¿cuál es el diagnóstico más probable?:",
         "1. Insuficiencia tricuspídea.",
         "2. Estenosis aórtica.",
         "3. Miocardiopatía hipertrófica.",
         "4. Insuficiencia mitral."
        ],
        [
         "5",
         "6. Pregunta asociada a la imagen 6. Varón de 39 años, fumador de 20 ci garrillos al día, con antecedentes de un infarto a gudo de miocardio inferior a los 38 años. En el cateterismo se observó una lesión en la coronaria derecha proximal y se implantó un stent fármacoactivo. La FEVI era normal. Está en tratamiento con atorvastatina 80 mg/día, ácido acetilsalicílico 100 mg/día y bisoprolol 2,5 m g/día. Realiza dieta adecuada y ejercicio y está asintomático desde el punto de vista cardiovascular. Aporta analítica con lipoproteína (a) 380 nmol/L (valor normal hasta 125 nmol/L), colesterol total 238 m g/dL, HDL 45 m g/ d L ,  L D L  1 3 2  mg/dL y TG 142 mg/dL. En la exploración física se observa el siguiente hallazgo (ver imagen). Además de insistirle en que deje de fumar ¿cuál de las siguientes recomendaciones es más adecuada?:",
         "1. Para llegar a los objetivos de tratamiento de la dislipemia, añadir ezetimiba.",
         "2. Añadir un inhibidor de la PCSK9 y solicitar un test genético de hipercolesterolemia familiar.",
         "3. Enviarle al oftalmólogo para descartar una enfermedad de Wilson.",
         "4. Añadir niacina para disminuir la lipoproteína (a)."
        ],
        [
         "6",
         "7. Pregunta asociada a la imagen 7. Varón de 60 años, fumador activo, que presenta tos y expec tor ación  di aria d e años  de  e volución, ocasionalmente hemoptoica. En los últimos meses se añade disnea progresiva. Presenta acropaquia y en la auscultación pulmonar destacan roncus y sibilantes teleinspiratorios en pulmón izquierdo. La TC pulmonar de alta resolución se muestra en la imagen adjunta. ¿Cuál es el diagnóstico más probable?:",
         "1. Carcinoma quístico.",
         "2. Enfisema pulmonar.",
         "3. Tuberculosis cavitada.",
         "4. Bronquiectasias."
        ],
        [
         "7",
         "8. Pregunta asociada a la imagen 8. Mujer de 82 años que acude a ur gencias por un cuadro de dolor abdominal localizado en flanco derecho, irradiado a espalda y febrícula de 37,3 ºC. Se realiza ecografía abdominal que en hipocondrio derecho muestra los resultados de la imagen. ¿Cuál es el diagnóstico más probable?:",
         "1. Colecistitis aguda.",
         "2. Enfermedad de Caroli.",
         "3. Vesícula en porcelana.",
         "4. Cólico biliar."
        ],
        [
         "8",
         "9. Pregunta asociada a la imagen 9. En relación con la patolo gía que se observa en la imagen, es correcto que:",
         "1. Su forma de debut más frecuente es un sangrado menstrual.",
         "2. La citología no es útil en el diagnóstico pero sí en el seguimiento.",
         "3. Es más frecuente en mujeres jóvenes.",
         "4. Uno de los factores de riesgo más importantes es el tabaco."
        ],
        [
         "9",
         "10. Pregunta asociad a a la imagen 10. Varón de 38 años de ori gen centroafricano que presenta el siguiente frotis. Respecto a la enfermedad que sospecha, señale la respuesta correcta:",
         "1. La esplenomegalia es un hallazgo frecuente en los cuadros de larga evolución.",
         "2. Puede producir episodios dolorosos por crisis oclusivas vasculares.",
         "3. Es debida a un defecto congénito en las proteínas de la membrana eritrocitaria.",
         "4. En el examen del frotis  sanguíneo se observa trombopenia y numerosos esquistocitos."
        ]
       ],
       "shape": {
        "columns": 5,
        "rows": 10
       }
      },
      "text/html": [
       "<div>\n",
       "<style scoped>\n",
       "    .dataframe tbody tr th:only-of-type {\n",
       "        vertical-align: middle;\n",
       "    }\n",
       "\n",
       "    .dataframe tbody tr th {\n",
       "        vertical-align: top;\n",
       "    }\n",
       "\n",
       "    .dataframe thead th {\n",
       "        text-align: right;\n",
       "    }\n",
       "</style>\n",
       "<table border=\"1\" class=\"dataframe\">\n",
       "  <thead>\n",
       "    <tr style=\"text-align: right;\">\n",
       "      <th></th>\n",
       "      <th>Question</th>\n",
       "      <th>Option_1</th>\n",
       "      <th>Option_2</th>\n",
       "      <th>Option_3</th>\n",
       "      <th>Option_4</th>\n",
       "    </tr>\n",
       "  </thead>\n",
       "  <tbody>\n",
       "    <tr>\n",
       "      <th>0</th>\n",
       "      <td>1. Pregunta asociada a la imagen 1. Varón de 4...</td>\n",
       "      <td>1. Vértigo periférico por laberintitis difusa ...</td>\n",
       "      <td>2. Meningitis otógena izquierda.</td>\n",
       "      <td>3. Síndrome cerebeloso po r absceso intraparen...</td>\n",
       "      <td>4. Trombosis de seno lateral por otitis media ...</td>\n",
       "    </tr>\n",
       "    <tr>\n",
       "      <th>1</th>\n",
       "      <td>2. Pregunta asociada a la imagen 2. P a c i e ...</td>\n",
       "      <td>1. Infarto cerebral secundario a consumo de dr...</td>\n",
       "      <td>2. Hemorragia intraparenquimatosa profunda aso...</td>\n",
       "      <td>3. Hemorragia parietal lobar izquierda asociad...</td>\n",
       "      <td>4. Hemorragia intraparenquimatosa asociada a u...</td>\n",
       "    </tr>\n",
       "    <tr>\n",
       "      <th>2</th>\n",
       "      <td>3. Pregunta asociada a la imagen 3. Mujer de 7...</td>\n",
       "      <td>1. Clavo trocantérico largo acerrojado proxima...</td>\n",
       "      <td>2. Rehabilitación intensiva inmediata sin inmo...</td>\n",
       "      <td>3. Inmovilización con yeso b raquial colgante ...</td>\n",
       "      <td>4. Artroplastia glenohumeral.</td>\n",
       "    </tr>\n",
       "    <tr>\n",
       "      <th>3</th>\n",
       "      <td>4. Pregunta asociada a la imagen 4. Mujer de 5...</td>\n",
       "      <td>1. Síndrome coronario agudo sin elevación del ...</td>\n",
       "      <td>2. Síndrome coronario agudo sin elevación del ...</td>\n",
       "      <td>3. Síndrome coronario agudo sin elevación del ...</td>\n",
       "      <td>4. Los cambios electrocardiográficos no son di...</td>\n",
       "    </tr>\n",
       "    <tr>\n",
       "      <th>4</th>\n",
       "      <td>5. Pregunta asociada a la imagen 5. Varón de 5...</td>\n",
       "      <td>1. Insuficiencia tricuspídea.</td>\n",
       "      <td>2. Estenosis aórtica.</td>\n",
       "      <td>3. Miocardiopatía hipertrófica.</td>\n",
       "      <td>4. Insuficiencia mitral.</td>\n",
       "    </tr>\n",
       "    <tr>\n",
       "      <th>5</th>\n",
       "      <td>6. Pregunta asociada a la imagen 6. Varón de 3...</td>\n",
       "      <td>1. Para llegar a los objetivos de tratamiento ...</td>\n",
       "      <td>2. Añadir un inhibidor de la PCSK9 y solicitar...</td>\n",
       "      <td>3. Enviarle al oftalmólogo para descartar una ...</td>\n",
       "      <td>4. Añadir niacina para disminuir la lipoproteí...</td>\n",
       "    </tr>\n",
       "    <tr>\n",
       "      <th>6</th>\n",
       "      <td>7. Pregunta asociada a la imagen 7. Varón de 6...</td>\n",
       "      <td>1. Carcinoma quístico.</td>\n",
       "      <td>2. Enfisema pulmonar.</td>\n",
       "      <td>3. Tuberculosis cavitada.</td>\n",
       "      <td>4. Bronquiectasias.</td>\n",
       "    </tr>\n",
       "    <tr>\n",
       "      <th>7</th>\n",
       "      <td>8. Pregunta asociada a la imagen 8. Mujer de 8...</td>\n",
       "      <td>1. Colecistitis aguda.</td>\n",
       "      <td>2. Enfermedad de Caroli.</td>\n",
       "      <td>3. Vesícula en porcelana.</td>\n",
       "      <td>4. Cólico biliar.</td>\n",
       "    </tr>\n",
       "    <tr>\n",
       "      <th>8</th>\n",
       "      <td>9. Pregunta asociada a la imagen 9. En relació...</td>\n",
       "      <td>1. Su forma de debut más frecuente es un sangr...</td>\n",
       "      <td>2. La citología no es útil en el diagnóstico p...</td>\n",
       "      <td>3. Es más frecuente en mujeres jóvenes.</td>\n",
       "      <td>4. Uno de los factores de riesgo más important...</td>\n",
       "    </tr>\n",
       "    <tr>\n",
       "      <th>9</th>\n",
       "      <td>10. Pregunta asociad a a la imagen 10. Varón d...</td>\n",
       "      <td>1. La esplenomegalia es un hallazgo frecuente ...</td>\n",
       "      <td>2. Puede producir episodios dolorosos por cris...</td>\n",
       "      <td>3. Es debida a un defecto congénito en las pro...</td>\n",
       "      <td>4. En el examen del frotis  sanguíneo se obser...</td>\n",
       "    </tr>\n",
       "  </tbody>\n",
       "</table>\n",
       "</div>"
      ],
      "text/plain": [
       "                                            Question  \\\n",
       "0  1. Pregunta asociada a la imagen 1. Varón de 4...   \n",
       "1  2. Pregunta asociada a la imagen 2. P a c i e ...   \n",
       "2  3. Pregunta asociada a la imagen 3. Mujer de 7...   \n",
       "3  4. Pregunta asociada a la imagen 4. Mujer de 5...   \n",
       "4  5. Pregunta asociada a la imagen 5. Varón de 5...   \n",
       "5  6. Pregunta asociada a la imagen 6. Varón de 3...   \n",
       "6  7. Pregunta asociada a la imagen 7. Varón de 6...   \n",
       "7  8. Pregunta asociada a la imagen 8. Mujer de 8...   \n",
       "8  9. Pregunta asociada a la imagen 9. En relació...   \n",
       "9  10. Pregunta asociad a a la imagen 10. Varón d...   \n",
       "\n",
       "                                            Option_1  \\\n",
       "0  1. Vértigo periférico por laberintitis difusa ...   \n",
       "1  1. Infarto cerebral secundario a consumo de dr...   \n",
       "2  1. Clavo trocantérico largo acerrojado proxima...   \n",
       "3  1. Síndrome coronario agudo sin elevación del ...   \n",
       "4                      1. Insuficiencia tricuspídea.   \n",
       "5  1. Para llegar a los objetivos de tratamiento ...   \n",
       "6                             1. Carcinoma quístico.   \n",
       "7                             1. Colecistitis aguda.   \n",
       "8  1. Su forma de debut más frecuente es un sangr...   \n",
       "9  1. La esplenomegalia es un hallazgo frecuente ...   \n",
       "\n",
       "                                            Option_2  \\\n",
       "0                   2. Meningitis otógena izquierda.   \n",
       "1  2. Hemorragia intraparenquimatosa profunda aso...   \n",
       "2  2. Rehabilitación intensiva inmediata sin inmo...   \n",
       "3  2. Síndrome coronario agudo sin elevación del ...   \n",
       "4                              2. Estenosis aórtica.   \n",
       "5  2. Añadir un inhibidor de la PCSK9 y solicitar...   \n",
       "6                              2. Enfisema pulmonar.   \n",
       "7                           2. Enfermedad de Caroli.   \n",
       "8  2. La citología no es útil en el diagnóstico p...   \n",
       "9  2. Puede producir episodios dolorosos por cris...   \n",
       "\n",
       "                                            Option_3  \\\n",
       "0  3. Síndrome cerebeloso po r absceso intraparen...   \n",
       "1  3. Hemorragia parietal lobar izquierda asociad...   \n",
       "2  3. Inmovilización con yeso b raquial colgante ...   \n",
       "3  3. Síndrome coronario agudo sin elevación del ...   \n",
       "4                    3. Miocardiopatía hipertrófica.   \n",
       "5  3. Enviarle al oftalmólogo para descartar una ...   \n",
       "6                          3. Tuberculosis cavitada.   \n",
       "7                          3. Vesícula en porcelana.   \n",
       "8            3. Es más frecuente en mujeres jóvenes.   \n",
       "9  3. Es debida a un defecto congénito en las pro...   \n",
       "\n",
       "                                            Option_4  \n",
       "0  4. Trombosis de seno lateral por otitis media ...  \n",
       "1  4. Hemorragia intraparenquimatosa asociada a u...  \n",
       "2                      4. Artroplastia glenohumeral.  \n",
       "3  4. Los cambios electrocardiográficos no son di...  \n",
       "4                           4. Insuficiencia mitral.  \n",
       "5  4. Añadir niacina para disminuir la lipoproteí...  \n",
       "6                                4. Bronquiectasias.  \n",
       "7                                  4. Cólico biliar.  \n",
       "8  4. Uno de los factores de riesgo más important...  \n",
       "9  4. En el examen del frotis  sanguíneo se obser...  "
      ]
     },
     "execution_count": 27,
     "metadata": {},
     "output_type": "execute_result"
    }
   ],
   "source": [
    "exam_df_pivot.head(10)"
   ]
  },
  {
   "cell_type": "markdown",
   "metadata": {},
   "source": [
    "## Answers tsv\n",
    "\n",
    "This section focuses on cleaning and consolidating the answer key data from the TSV file. The original data contains duplicate columns, which are processed and combined into a single, clean DataFrame.\n",
    "\n",
    "**1. Defining Column Lists:**\n",
    "\n",
    "We define lists containing the original column names and the duplicate column names."
   ]
  },
  {
   "cell_type": "code",
   "execution_count": 28,
   "metadata": {},
   "outputs": [],
   "source": [
    "original_col: list[str] = [\"V\", \"RC\"]\n",
    "duplicate_cols: list[str] = [\"V.1\", \"RC.1\", \"V.2\", \"RC.2\", \"V.3\", \"RC.3\", \"V.4\", \"RC.4\"]"
   ]
  },
  {
   "cell_type": "markdown",
   "metadata": {},
   "source": [
    "**2. Processing Duplicate Columns:**\n",
    "\n",
    "We iterate through the duplicate_cols list in pairs, extracting the corresponding columns, renaming them to the original column names, and appending them to a list of DataFrames."
   ]
  },
  {
   "cell_type": "code",
   "execution_count": 29,
   "metadata": {},
   "outputs": [],
   "source": [
    "answers_df_list: list[pd.DataFrame] = [raw_answers_df[original_col]]\n",
    "\n",
    "for i in range(0, len(duplicate_cols), 2):\n",
    "    pair_cols: list = duplicate_cols[i:i+2]\n",
    "    df_pair_col: pd.DataFrame = raw_answers_df[pair_cols].rename(columns={pair_cols[0]: \"V\", pair_cols[1]: \"RC\"})\n",
    "    answers_df_list.append(df_pair_col)"
   ]
  },
  {
   "cell_type": "markdown",
   "metadata": {},
   "source": [
    "**3. Concatenating DataFrames:**\n",
    "\n",
    "The list of DataFrames is concatenated into a single DataFrame, ignoring the original index."
   ]
  },
  {
   "cell_type": "code",
   "execution_count": 30,
   "metadata": {},
   "outputs": [],
   "source": [
    "answers_df_clean: pd.DataFrame = pd.concat(answers_df_list, ignore_index=True)"
   ]
  },
  {
   "cell_type": "markdown",
   "metadata": {},
   "source": [
    "**4. Displaying the Cleaned DataFrame:**\n",
    "\n",
    "The cleaned DataFrame is printed to verify the results of the consolidation process."
   ]
  },
  {
   "cell_type": "code",
   "execution_count": 31,
   "metadata": {},
   "outputs": [
    {
     "data": {
      "application/vnd.microsoft.datawrangler.viewer.v0+json": {
       "columns": [
        {
         "name": "index",
         "rawType": "int64",
         "type": "integer"
        },
        {
         "name": "V",
         "rawType": "int64",
         "type": "integer"
        },
        {
         "name": "RC",
         "rawType": "float64",
         "type": "float"
        }
       ],
       "conversionMethod": "pd.DataFrame",
       "ref": "e755c8cd-686b-4888-a765-83afb7b1fb30",
       "rows": [
        [
         "0",
         "1",
         "3.0"
        ],
        [
         "1",
         "2",
         "3.0"
        ],
        [
         "2",
         "3",
         "4.0"
        ],
        [
         "3",
         "4",
         "1.0"
        ],
        [
         "4",
         "5",
         "3.0"
        ],
        [
         "5",
         "6",
         "2.0"
        ],
        [
         "6",
         "7",
         "4.0"
        ],
        [
         "7",
         "8",
         "1.0"
        ],
        [
         "8",
         "9",
         "4.0"
        ],
        [
         "9",
         "10",
         "2.0"
        ]
       ],
       "shape": {
        "columns": 2,
        "rows": 10
       }
      },
      "text/html": [
       "<div>\n",
       "<style scoped>\n",
       "    .dataframe tbody tr th:only-of-type {\n",
       "        vertical-align: middle;\n",
       "    }\n",
       "\n",
       "    .dataframe tbody tr th {\n",
       "        vertical-align: top;\n",
       "    }\n",
       "\n",
       "    .dataframe thead th {\n",
       "        text-align: right;\n",
       "    }\n",
       "</style>\n",
       "<table border=\"1\" class=\"dataframe\">\n",
       "  <thead>\n",
       "    <tr style=\"text-align: right;\">\n",
       "      <th></th>\n",
       "      <th>V</th>\n",
       "      <th>RC</th>\n",
       "    </tr>\n",
       "  </thead>\n",
       "  <tbody>\n",
       "    <tr>\n",
       "      <th>0</th>\n",
       "      <td>1</td>\n",
       "      <td>3.0</td>\n",
       "    </tr>\n",
       "    <tr>\n",
       "      <th>1</th>\n",
       "      <td>2</td>\n",
       "      <td>3.0</td>\n",
       "    </tr>\n",
       "    <tr>\n",
       "      <th>2</th>\n",
       "      <td>3</td>\n",
       "      <td>4.0</td>\n",
       "    </tr>\n",
       "    <tr>\n",
       "      <th>3</th>\n",
       "      <td>4</td>\n",
       "      <td>1.0</td>\n",
       "    </tr>\n",
       "    <tr>\n",
       "      <th>4</th>\n",
       "      <td>5</td>\n",
       "      <td>3.0</td>\n",
       "    </tr>\n",
       "    <tr>\n",
       "      <th>5</th>\n",
       "      <td>6</td>\n",
       "      <td>2.0</td>\n",
       "    </tr>\n",
       "    <tr>\n",
       "      <th>6</th>\n",
       "      <td>7</td>\n",
       "      <td>4.0</td>\n",
       "    </tr>\n",
       "    <tr>\n",
       "      <th>7</th>\n",
       "      <td>8</td>\n",
       "      <td>1.0</td>\n",
       "    </tr>\n",
       "    <tr>\n",
       "      <th>8</th>\n",
       "      <td>9</td>\n",
       "      <td>4.0</td>\n",
       "    </tr>\n",
       "    <tr>\n",
       "      <th>9</th>\n",
       "      <td>10</td>\n",
       "      <td>2.0</td>\n",
       "    </tr>\n",
       "  </tbody>\n",
       "</table>\n",
       "</div>"
      ],
      "text/plain": [
       "    V   RC\n",
       "0   1  3.0\n",
       "1   2  3.0\n",
       "2   3  4.0\n",
       "3   4  1.0\n",
       "4   5  3.0\n",
       "5   6  2.0\n",
       "6   7  4.0\n",
       "7   8  1.0\n",
       "8   9  4.0\n",
       "9  10  2.0"
      ]
     },
     "execution_count": 31,
     "metadata": {},
     "output_type": "execute_result"
    }
   ],
   "source": [
    "answers_df_clean.head(10)"
   ]
  },
  {
   "cell_type": "markdown",
   "metadata": {},
   "source": [
    "## Joining the DataFrames\n",
    "\n",
    "This section focuses on merging the processed exam questions DataFrame with the cleaned answers DataFrame, performing final data cleaning, and verifying the integrity of the joined data.\n",
    "\n",
    "**1. Joining the DataFrames:**\n",
    "\n",
    "The pivoted exam questions DataFrame (`exam_df_pivot`) and the cleaned answers DataFrame (`answers_df_clean`) are joined horizontally using `pd.concat`. The 'V0' column, which represents the question number from the answers DataFrame, is then dropped. The first 10 rows of the joined DataFrame are displayed."
   ]
  },
  {
   "cell_type": "code",
   "execution_count": 32,
   "metadata": {},
   "outputs": [
    {
     "data": {
      "application/vnd.microsoft.datawrangler.viewer.v0+json": {
       "columns": [
        {
         "name": "index",
         "rawType": "int64",
         "type": "integer"
        },
        {
         "name": "Question",
         "rawType": "object",
         "type": "string"
        },
        {
         "name": "Option_1",
         "rawType": "object",
         "type": "string"
        },
        {
         "name": "Option_2",
         "rawType": "object",
         "type": "string"
        },
        {
         "name": "Option_3",
         "rawType": "object",
         "type": "string"
        },
        {
         "name": "Option_4",
         "rawType": "object",
         "type": "string"
        },
        {
         "name": "RC",
         "rawType": "float64",
         "type": "float"
        }
       ],
       "conversionMethod": "pd.DataFrame",
       "ref": "1b83c03b-4c63-40e4-b5d0-0457aa2647fe",
       "rows": [
        [
         "0",
         "1. Pregunta asociada a la imagen 1. Varón de 45 años que, tras un cuadro de dos días de hiporexia, astenia leve, sensación distérmica y cefalea holocraneal, sin nauseas ni vómitos, acud e  a  u rgencias por inestabilidad en la marcha. Refiere otorrea fluctuan te en oído izquierdo desde la infancia. Exploración neurológica: pares craneales normales, ma rcha con lateropulsión izquierda, ligera dismetría dedo-nariz con mano izquierda, Glasgow 15. En la otoscopia se observa otorrea purulenta y perforación timpánica con epitelio a nivel atical. En la analítica destaca leucocitos 12,8 x10^9/L; 81 % neutrófilos. Se muestra imagen de TC craneal. ¿Cuál de los siguientes es el diagnóstico más probable?:",
         "1. Vértigo periférico por laberintitis difusa purulenta.",
         "2. Meningitis otógena izquierda.",
         "3. Síndrome cerebeloso po r absceso intraparenquimatoso otógeno izquierdo.",
         "4. Trombosis de seno lateral por otitis media crónica colesteatomatosa izquierda.",
         "3.0"
        ],
        [
         "1",
         "2. Pregunta asociada a la imagen 2. P a c i e n t e  d e  8 0  a ñ o s ,  c o n  d i s l i p e m i a ,  s i n  o t r o s factores de ries go vascular conocidos, con un cuadro de deterioro cognitivo de un año de evolución quien de manera brusca el día del in greso presenta una hemiparesia derecha. Se activa código ictus y se traslada a su hospital de referencia, donde a su llegada se objetiva exploración neurológica con debilidad faciobraquiocrural derecha (escala NIHSS 8) y se realiza TC craneal que se muestra en la ima gen. ¿Cuál de los siguientes es el diagnóstico más probable?:",
         "1. Infarto cerebral secundario a consumo de drogas tipo cocaína.",
         "2. Hemorragia intraparenquimatosa profunda asociada a hipertensión no diagnosticada.",
         "3. Hemorragia parietal lobar izquierda asociada a una posible angiopatia amiloide.",
         "4. Hemorragia intraparenquimatosa asociada a una hemorragia subaracnoidea, por un posible traumatismo craneoencefálico.",
         "3.0"
        ],
        [
         "2",
         "3. Pregunta asociada a la imagen 3. Mujer de 78 años, sin an tecedentes médicos de interés, que presenta la fractura-luxación de húmero proximal mostrada en la ima gen. ¿Cuál es el tratamiento más recomendable?:",
         "1. Clavo trocantérico largo acerrojado proximal y distal.",
         "2. Rehabilitación intensiva inmediata sin inmovilización.",
         "3. Inmovilización con yeso b raquial colgante de Caldwell.",
         "4. Artroplastia glenohumeral.",
         "4.0"
        ],
        [
         "3",
         "4. Pregunta asociada a la imagen 4. Mujer de 51 años con antecedentes de diabetes mellitus tipo I e hipertensión arterial de lar ga evolución. En tratamiento sustitutivo renal mediante hemodiálisis desde hace 14 años como consecuencia de una enfermedad renal crónica estadio 5. Durante una de las sesiones de diálisis refiere dolor centrotorácico y disnea de aparición súbita. Las constantes hemodinámicas son normales. Se pauta nitro glicerina intravenosa para la corrección del dolor torácico, que cede en unos quince minutos. Se muestran los electrocardiogramas realizados con y sin dolor torácico. No hubo elevación posterior de enzimas de necrosis miocárdica. ¿Cuál es el dia gnóstico de sospecha y la actitud a seguir?:",
         "1. Síndrome coronario agudo sin elevación del segmento ST, de alto riesgo. Debe ingresar en una unidad con vigilancia electrocardiográfica continua con recomendación de coronariografía temprana (≤48 h).",
         "2. Síndrome coronario agudo sin elevación del segmento ST, de riesgo moderado. Debe ingresar en una unidad con vigilancia electrocardiográfica continua, con recomendación inicial de coronariografía diferida (>48 h).",
         "3. Síndrome coronario agudo sin elevación del segmento ST, de bajo riesgo. Debe ingresar en planta de hospitalización convencional con recomendación de prueba de inducción de isquemia antes del alta hospitalaria y coronariografía diferida según resultado.",
         "4. Los cambios electrocardiográficos no son diagnósticos de síndrome coronario agudo y se consideran secundarios a la hemodiálisis. No precisa ingreso hospitalario.",
         "1.0"
        ],
        [
         "4",
         "5. Pregunta asociada a la imagen 5. Varón de 57 años, sin factores de riesgo cardiovascular conocidos, que acude a su consulta aquejando disnea de esfuerzo estable de varios meses de evolución. Aporta electrocardio grama de 12 derivaciones (ima gen) y e n  l a  e x p l o r a c i ó n física se ausculta un soplo sistólico en borde paraesternal izquierdo, cuya intensidad y duración aumentan durante la maniobra de Valsalva. De entre las siguientes patologías cardiacas ¿cuál es el diagnóstico más probable?:",
         "1. Insuficiencia tricuspídea.",
         "2. Estenosis aórtica.",
         "3. Miocardiopatía hipertrófica.",
         "4. Insuficiencia mitral.",
         "3.0"
        ],
        [
         "5",
         "6. Pregunta asociada a la imagen 6. Varón de 39 años, fumador de 20 ci garrillos al día, con antecedentes de un infarto a gudo de miocardio inferior a los 38 años. En el cateterismo se observó una lesión en la coronaria derecha proximal y se implantó un stent fármacoactivo. La FEVI era normal. Está en tratamiento con atorvastatina 80 mg/día, ácido acetilsalicílico 100 mg/día y bisoprolol 2,5 m g/día. Realiza dieta adecuada y ejercicio y está asintomático desde el punto de vista cardiovascular. Aporta analítica con lipoproteína (a) 380 nmol/L (valor normal hasta 125 nmol/L), colesterol total 238 m g/dL, HDL 45 m g/ d L ,  L D L  1 3 2  mg/dL y TG 142 mg/dL. En la exploración física se observa el siguiente hallazgo (ver imagen). Además de insistirle en que deje de fumar ¿cuál de las siguientes recomendaciones es más adecuada?:",
         "1. Para llegar a los objetivos de tratamiento de la dislipemia, añadir ezetimiba.",
         "2. Añadir un inhibidor de la PCSK9 y solicitar un test genético de hipercolesterolemia familiar.",
         "3. Enviarle al oftalmólogo para descartar una enfermedad de Wilson.",
         "4. Añadir niacina para disminuir la lipoproteína (a).",
         "2.0"
        ],
        [
         "6",
         "7. Pregunta asociada a la imagen 7. Varón de 60 años, fumador activo, que presenta tos y expec tor ación  di aria d e años  de  e volución, ocasionalmente hemoptoica. En los últimos meses se añade disnea progresiva. Presenta acropaquia y en la auscultación pulmonar destacan roncus y sibilantes teleinspiratorios en pulmón izquierdo. La TC pulmonar de alta resolución se muestra en la imagen adjunta. ¿Cuál es el diagnóstico más probable?:",
         "1. Carcinoma quístico.",
         "2. Enfisema pulmonar.",
         "3. Tuberculosis cavitada.",
         "4. Bronquiectasias.",
         "4.0"
        ],
        [
         "7",
         "8. Pregunta asociada a la imagen 8. Mujer de 82 años que acude a ur gencias por un cuadro de dolor abdominal localizado en flanco derecho, irradiado a espalda y febrícula de 37,3 ºC. Se realiza ecografía abdominal que en hipocondrio derecho muestra los resultados de la imagen. ¿Cuál es el diagnóstico más probable?:",
         "1. Colecistitis aguda.",
         "2. Enfermedad de Caroli.",
         "3. Vesícula en porcelana.",
         "4. Cólico biliar.",
         "1.0"
        ],
        [
         "8",
         "9. Pregunta asociada a la imagen 9. En relación con la patolo gía que se observa en la imagen, es correcto que:",
         "1. Su forma de debut más frecuente es un sangrado menstrual.",
         "2. La citología no es útil en el diagnóstico pero sí en el seguimiento.",
         "3. Es más frecuente en mujeres jóvenes.",
         "4. Uno de los factores de riesgo más importantes es el tabaco.",
         "4.0"
        ],
        [
         "9",
         "10. Pregunta asociad a a la imagen 10. Varón de 38 años de ori gen centroafricano que presenta el siguiente frotis. Respecto a la enfermedad que sospecha, señale la respuesta correcta:",
         "1. La esplenomegalia es un hallazgo frecuente en los cuadros de larga evolución.",
         "2. Puede producir episodios dolorosos por crisis oclusivas vasculares.",
         "3. Es debida a un defecto congénito en las proteínas de la membrana eritrocitaria.",
         "4. En el examen del frotis  sanguíneo se observa trombopenia y numerosos esquistocitos.",
         "2.0"
        ]
       ],
       "shape": {
        "columns": 6,
        "rows": 10
       }
      },
      "text/html": [
       "<div>\n",
       "<style scoped>\n",
       "    .dataframe tbody tr th:only-of-type {\n",
       "        vertical-align: middle;\n",
       "    }\n",
       "\n",
       "    .dataframe tbody tr th {\n",
       "        vertical-align: top;\n",
       "    }\n",
       "\n",
       "    .dataframe thead th {\n",
       "        text-align: right;\n",
       "    }\n",
       "</style>\n",
       "<table border=\"1\" class=\"dataframe\">\n",
       "  <thead>\n",
       "    <tr style=\"text-align: right;\">\n",
       "      <th></th>\n",
       "      <th>Question</th>\n",
       "      <th>Option_1</th>\n",
       "      <th>Option_2</th>\n",
       "      <th>Option_3</th>\n",
       "      <th>Option_4</th>\n",
       "      <th>RC</th>\n",
       "    </tr>\n",
       "  </thead>\n",
       "  <tbody>\n",
       "    <tr>\n",
       "      <th>0</th>\n",
       "      <td>1. Pregunta asociada a la imagen 1. Varón de 4...</td>\n",
       "      <td>1. Vértigo periférico por laberintitis difusa ...</td>\n",
       "      <td>2. Meningitis otógena izquierda.</td>\n",
       "      <td>3. Síndrome cerebeloso po r absceso intraparen...</td>\n",
       "      <td>4. Trombosis de seno lateral por otitis media ...</td>\n",
       "      <td>3.0</td>\n",
       "    </tr>\n",
       "    <tr>\n",
       "      <th>1</th>\n",
       "      <td>2. Pregunta asociada a la imagen 2. P a c i e ...</td>\n",
       "      <td>1. Infarto cerebral secundario a consumo de dr...</td>\n",
       "      <td>2. Hemorragia intraparenquimatosa profunda aso...</td>\n",
       "      <td>3. Hemorragia parietal lobar izquierda asociad...</td>\n",
       "      <td>4. Hemorragia intraparenquimatosa asociada a u...</td>\n",
       "      <td>3.0</td>\n",
       "    </tr>\n",
       "    <tr>\n",
       "      <th>2</th>\n",
       "      <td>3. Pregunta asociada a la imagen 3. Mujer de 7...</td>\n",
       "      <td>1. Clavo trocantérico largo acerrojado proxima...</td>\n",
       "      <td>2. Rehabilitación intensiva inmediata sin inmo...</td>\n",
       "      <td>3. Inmovilización con yeso b raquial colgante ...</td>\n",
       "      <td>4. Artroplastia glenohumeral.</td>\n",
       "      <td>4.0</td>\n",
       "    </tr>\n",
       "    <tr>\n",
       "      <th>3</th>\n",
       "      <td>4. Pregunta asociada a la imagen 4. Mujer de 5...</td>\n",
       "      <td>1. Síndrome coronario agudo sin elevación del ...</td>\n",
       "      <td>2. Síndrome coronario agudo sin elevación del ...</td>\n",
       "      <td>3. Síndrome coronario agudo sin elevación del ...</td>\n",
       "      <td>4. Los cambios electrocardiográficos no son di...</td>\n",
       "      <td>1.0</td>\n",
       "    </tr>\n",
       "    <tr>\n",
       "      <th>4</th>\n",
       "      <td>5. Pregunta asociada a la imagen 5. Varón de 5...</td>\n",
       "      <td>1. Insuficiencia tricuspídea.</td>\n",
       "      <td>2. Estenosis aórtica.</td>\n",
       "      <td>3. Miocardiopatía hipertrófica.</td>\n",
       "      <td>4. Insuficiencia mitral.</td>\n",
       "      <td>3.0</td>\n",
       "    </tr>\n",
       "    <tr>\n",
       "      <th>5</th>\n",
       "      <td>6. Pregunta asociada a la imagen 6. Varón de 3...</td>\n",
       "      <td>1. Para llegar a los objetivos de tratamiento ...</td>\n",
       "      <td>2. Añadir un inhibidor de la PCSK9 y solicitar...</td>\n",
       "      <td>3. Enviarle al oftalmólogo para descartar una ...</td>\n",
       "      <td>4. Añadir niacina para disminuir la lipoproteí...</td>\n",
       "      <td>2.0</td>\n",
       "    </tr>\n",
       "    <tr>\n",
       "      <th>6</th>\n",
       "      <td>7. Pregunta asociada a la imagen 7. Varón de 6...</td>\n",
       "      <td>1. Carcinoma quístico.</td>\n",
       "      <td>2. Enfisema pulmonar.</td>\n",
       "      <td>3. Tuberculosis cavitada.</td>\n",
       "      <td>4. Bronquiectasias.</td>\n",
       "      <td>4.0</td>\n",
       "    </tr>\n",
       "    <tr>\n",
       "      <th>7</th>\n",
       "      <td>8. Pregunta asociada a la imagen 8. Mujer de 8...</td>\n",
       "      <td>1. Colecistitis aguda.</td>\n",
       "      <td>2. Enfermedad de Caroli.</td>\n",
       "      <td>3. Vesícula en porcelana.</td>\n",
       "      <td>4. Cólico biliar.</td>\n",
       "      <td>1.0</td>\n",
       "    </tr>\n",
       "    <tr>\n",
       "      <th>8</th>\n",
       "      <td>9. Pregunta asociada a la imagen 9. En relació...</td>\n",
       "      <td>1. Su forma de debut más frecuente es un sangr...</td>\n",
       "      <td>2. La citología no es útil en el diagnóstico p...</td>\n",
       "      <td>3. Es más frecuente en mujeres jóvenes.</td>\n",
       "      <td>4. Uno de los factores de riesgo más important...</td>\n",
       "      <td>4.0</td>\n",
       "    </tr>\n",
       "    <tr>\n",
       "      <th>9</th>\n",
       "      <td>10. Pregunta asociad a a la imagen 10. Varón d...</td>\n",
       "      <td>1. La esplenomegalia es un hallazgo frecuente ...</td>\n",
       "      <td>2. Puede producir episodios dolorosos por cris...</td>\n",
       "      <td>3. Es debida a un defecto congénito en las pro...</td>\n",
       "      <td>4. En el examen del frotis  sanguíneo se obser...</td>\n",
       "      <td>2.0</td>\n",
       "    </tr>\n",
       "  </tbody>\n",
       "</table>\n",
       "</div>"
      ],
      "text/plain": [
       "                                            Question  \\\n",
       "0  1. Pregunta asociada a la imagen 1. Varón de 4...   \n",
       "1  2. Pregunta asociada a la imagen 2. P a c i e ...   \n",
       "2  3. Pregunta asociada a la imagen 3. Mujer de 7...   \n",
       "3  4. Pregunta asociada a la imagen 4. Mujer de 5...   \n",
       "4  5. Pregunta asociada a la imagen 5. Varón de 5...   \n",
       "5  6. Pregunta asociada a la imagen 6. Varón de 3...   \n",
       "6  7. Pregunta asociada a la imagen 7. Varón de 6...   \n",
       "7  8. Pregunta asociada a la imagen 8. Mujer de 8...   \n",
       "8  9. Pregunta asociada a la imagen 9. En relació...   \n",
       "9  10. Pregunta asociad a a la imagen 10. Varón d...   \n",
       "\n",
       "                                            Option_1  \\\n",
       "0  1. Vértigo periférico por laberintitis difusa ...   \n",
       "1  1. Infarto cerebral secundario a consumo de dr...   \n",
       "2  1. Clavo trocantérico largo acerrojado proxima...   \n",
       "3  1. Síndrome coronario agudo sin elevación del ...   \n",
       "4                      1. Insuficiencia tricuspídea.   \n",
       "5  1. Para llegar a los objetivos de tratamiento ...   \n",
       "6                             1. Carcinoma quístico.   \n",
       "7                             1. Colecistitis aguda.   \n",
       "8  1. Su forma de debut más frecuente es un sangr...   \n",
       "9  1. La esplenomegalia es un hallazgo frecuente ...   \n",
       "\n",
       "                                            Option_2  \\\n",
       "0                   2. Meningitis otógena izquierda.   \n",
       "1  2. Hemorragia intraparenquimatosa profunda aso...   \n",
       "2  2. Rehabilitación intensiva inmediata sin inmo...   \n",
       "3  2. Síndrome coronario agudo sin elevación del ...   \n",
       "4                              2. Estenosis aórtica.   \n",
       "5  2. Añadir un inhibidor de la PCSK9 y solicitar...   \n",
       "6                              2. Enfisema pulmonar.   \n",
       "7                           2. Enfermedad de Caroli.   \n",
       "8  2. La citología no es útil en el diagnóstico p...   \n",
       "9  2. Puede producir episodios dolorosos por cris...   \n",
       "\n",
       "                                            Option_3  \\\n",
       "0  3. Síndrome cerebeloso po r absceso intraparen...   \n",
       "1  3. Hemorragia parietal lobar izquierda asociad...   \n",
       "2  3. Inmovilización con yeso b raquial colgante ...   \n",
       "3  3. Síndrome coronario agudo sin elevación del ...   \n",
       "4                    3. Miocardiopatía hipertrófica.   \n",
       "5  3. Enviarle al oftalmólogo para descartar una ...   \n",
       "6                          3. Tuberculosis cavitada.   \n",
       "7                          3. Vesícula en porcelana.   \n",
       "8            3. Es más frecuente en mujeres jóvenes.   \n",
       "9  3. Es debida a un defecto congénito en las pro...   \n",
       "\n",
       "                                            Option_4   RC  \n",
       "0  4. Trombosis de seno lateral por otitis media ...  3.0  \n",
       "1  4. Hemorragia intraparenquimatosa asociada a u...  3.0  \n",
       "2                      4. Artroplastia glenohumeral.  4.0  \n",
       "3  4. Los cambios electrocardiográficos no son di...  1.0  \n",
       "4                           4. Insuficiencia mitral.  3.0  \n",
       "5  4. Añadir niacina para disminuir la lipoproteí...  2.0  \n",
       "6                                4. Bronquiectasias.  4.0  \n",
       "7                                  4. Cólico biliar.  1.0  \n",
       "8  4. Uno de los factores de riesgo más important...  4.0  \n",
       "9  4. En el examen del frotis  sanguíneo se obser...  2.0  "
      ]
     },
     "execution_count": 32,
     "metadata": {},
     "output_type": "execute_result"
    }
   ],
   "source": [
    "processed_exam_df: pd.DataFrame = pd.concat([exam_df_pivot, answers_df_clean], axis=1)\n",
    "processed_exam_df = processed_exam_df.drop(columns=[\"V\"])\n",
    "processed_exam_df.head(10)"
   ]
  },
  {
   "cell_type": "markdown",
   "metadata": {},
   "source": [
    "**2. Identifying and Handling Missing Values:**\n",
    "\n",
    "Missing values are then replaced with 0."
   ]
  },
  {
   "cell_type": "code",
   "execution_count": 33,
   "metadata": {},
   "outputs": [],
   "source": [
    "processed_exam_df = processed_exam_df.fillna(0)"
   ]
  },
  {
   "cell_type": "markdown",
   "metadata": {},
   "source": [
    "**3. Verifying Missing Values and Data Types:**\n",
    "\n",
    "The number of missing values in each column is checked, and the data types of the columns are displayed. The 'RC' (correct answer) column is then converted to integer type."
   ]
  },
  {
   "cell_type": "code",
   "execution_count": 34,
   "metadata": {},
   "outputs": [
    {
     "data": {
      "text/plain": [
       "Question    object\n",
       "Option_1    object\n",
       "Option_2    object\n",
       "Option_3    object\n",
       "Option_4    object\n",
       "RC           int32\n",
       "dtype: object"
      ]
     },
     "execution_count": 34,
     "metadata": {},
     "output_type": "execute_result"
    }
   ],
   "source": [
    "processed_exam_df.isnull().sum()\n",
    "processed_exam_df[\"RC\"] = processed_exam_df[\"RC\"].astype(int)\n",
    "processed_exam_df.dtypes"
   ]
  },
  {
   "cell_type": "markdown",
   "metadata": {},
   "source": [
    "**4. Adding year column**\n",
    "\n",
    "A column containing the year of the exam is added to the DataFrame."
   ]
  },
  {
   "cell_type": "code",
   "execution_count": 35,
   "metadata": {},
   "outputs": [],
   "source": [
    "processed_exam_df[\"year\"] = year"
   ]
  },
  {
   "cell_type": "markdown",
   "metadata": {},
   "source": [
    "**5. Displaying the Final DataFrame:**\n",
    "\n",
    "The first 10 rows of the final joined and cleaned DataFrame are displayed."
   ]
  },
  {
   "cell_type": "code",
   "execution_count": 36,
   "metadata": {},
   "outputs": [
    {
     "data": {
      "application/vnd.microsoft.datawrangler.viewer.v0+json": {
       "columns": [
        {
         "name": "index",
         "rawType": "int64",
         "type": "integer"
        },
        {
         "name": "Question",
         "rawType": "object",
         "type": "string"
        },
        {
         "name": "Option_1",
         "rawType": "object",
         "type": "string"
        },
        {
         "name": "Option_2",
         "rawType": "object",
         "type": "string"
        },
        {
         "name": "Option_3",
         "rawType": "object",
         "type": "string"
        },
        {
         "name": "Option_4",
         "rawType": "object",
         "type": "string"
        },
        {
         "name": "RC",
         "rawType": "int32",
         "type": "integer"
        },
        {
         "name": "year",
         "rawType": "int64",
         "type": "integer"
        }
       ],
       "conversionMethod": "pd.DataFrame",
       "ref": "8faa7c8e-5d53-4db9-8a44-147e4d97e60b",
       "rows": [
        [
         "0",
         "1. Pregunta asociada a la imagen 1. Varón de 45 años que, tras un cuadro de dos días de hiporexia, astenia leve, sensación distérmica y cefalea holocraneal, sin nauseas ni vómitos, acud e  a  u rgencias por inestabilidad en la marcha. Refiere otorrea fluctuan te en oído izquierdo desde la infancia. Exploración neurológica: pares craneales normales, ma rcha con lateropulsión izquierda, ligera dismetría dedo-nariz con mano izquierda, Glasgow 15. En la otoscopia se observa otorrea purulenta y perforación timpánica con epitelio a nivel atical. En la analítica destaca leucocitos 12,8 x10^9/L; 81 % neutrófilos. Se muestra imagen de TC craneal. ¿Cuál de los siguientes es el diagnóstico más probable?:",
         "1. Vértigo periférico por laberintitis difusa purulenta.",
         "2. Meningitis otógena izquierda.",
         "3. Síndrome cerebeloso po r absceso intraparenquimatoso otógeno izquierdo.",
         "4. Trombosis de seno lateral por otitis media crónica colesteatomatosa izquierda.",
         "3",
         "2022"
        ],
        [
         "1",
         "2. Pregunta asociada a la imagen 2. P a c i e n t e  d e  8 0  a ñ o s ,  c o n  d i s l i p e m i a ,  s i n  o t r o s factores de ries go vascular conocidos, con un cuadro de deterioro cognitivo de un año de evolución quien de manera brusca el día del in greso presenta una hemiparesia derecha. Se activa código ictus y se traslada a su hospital de referencia, donde a su llegada se objetiva exploración neurológica con debilidad faciobraquiocrural derecha (escala NIHSS 8) y se realiza TC craneal que se muestra en la ima gen. ¿Cuál de los siguientes es el diagnóstico más probable?:",
         "1. Infarto cerebral secundario a consumo de drogas tipo cocaína.",
         "2. Hemorragia intraparenquimatosa profunda asociada a hipertensión no diagnosticada.",
         "3. Hemorragia parietal lobar izquierda asociada a una posible angiopatia amiloide.",
         "4. Hemorragia intraparenquimatosa asociada a una hemorragia subaracnoidea, por un posible traumatismo craneoencefálico.",
         "3",
         "2022"
        ],
        [
         "2",
         "3. Pregunta asociada a la imagen 3. Mujer de 78 años, sin an tecedentes médicos de interés, que presenta la fractura-luxación de húmero proximal mostrada en la ima gen. ¿Cuál es el tratamiento más recomendable?:",
         "1. Clavo trocantérico largo acerrojado proximal y distal.",
         "2. Rehabilitación intensiva inmediata sin inmovilización.",
         "3. Inmovilización con yeso b raquial colgante de Caldwell.",
         "4. Artroplastia glenohumeral.",
         "4",
         "2022"
        ],
        [
         "3",
         "4. Pregunta asociada a la imagen 4. Mujer de 51 años con antecedentes de diabetes mellitus tipo I e hipertensión arterial de lar ga evolución. En tratamiento sustitutivo renal mediante hemodiálisis desde hace 14 años como consecuencia de una enfermedad renal crónica estadio 5. Durante una de las sesiones de diálisis refiere dolor centrotorácico y disnea de aparición súbita. Las constantes hemodinámicas son normales. Se pauta nitro glicerina intravenosa para la corrección del dolor torácico, que cede en unos quince minutos. Se muestran los electrocardiogramas realizados con y sin dolor torácico. No hubo elevación posterior de enzimas de necrosis miocárdica. ¿Cuál es el dia gnóstico de sospecha y la actitud a seguir?:",
         "1. Síndrome coronario agudo sin elevación del segmento ST, de alto riesgo. Debe ingresar en una unidad con vigilancia electrocardiográfica continua con recomendación de coronariografía temprana (≤48 h).",
         "2. Síndrome coronario agudo sin elevación del segmento ST, de riesgo moderado. Debe ingresar en una unidad con vigilancia electrocardiográfica continua, con recomendación inicial de coronariografía diferida (>48 h).",
         "3. Síndrome coronario agudo sin elevación del segmento ST, de bajo riesgo. Debe ingresar en planta de hospitalización convencional con recomendación de prueba de inducción de isquemia antes del alta hospitalaria y coronariografía diferida según resultado.",
         "4. Los cambios electrocardiográficos no son diagnósticos de síndrome coronario agudo y se consideran secundarios a la hemodiálisis. No precisa ingreso hospitalario.",
         "1",
         "2022"
        ],
        [
         "4",
         "5. Pregunta asociada a la imagen 5. Varón de 57 años, sin factores de riesgo cardiovascular conocidos, que acude a su consulta aquejando disnea de esfuerzo estable de varios meses de evolución. Aporta electrocardio grama de 12 derivaciones (ima gen) y e n  l a  e x p l o r a c i ó n física se ausculta un soplo sistólico en borde paraesternal izquierdo, cuya intensidad y duración aumentan durante la maniobra de Valsalva. De entre las siguientes patologías cardiacas ¿cuál es el diagnóstico más probable?:",
         "1. Insuficiencia tricuspídea.",
         "2. Estenosis aórtica.",
         "3. Miocardiopatía hipertrófica.",
         "4. Insuficiencia mitral.",
         "3",
         "2022"
        ],
        [
         "5",
         "6. Pregunta asociada a la imagen 6. Varón de 39 años, fumador de 20 ci garrillos al día, con antecedentes de un infarto a gudo de miocardio inferior a los 38 años. En el cateterismo se observó una lesión en la coronaria derecha proximal y se implantó un stent fármacoactivo. La FEVI era normal. Está en tratamiento con atorvastatina 80 mg/día, ácido acetilsalicílico 100 mg/día y bisoprolol 2,5 m g/día. Realiza dieta adecuada y ejercicio y está asintomático desde el punto de vista cardiovascular. Aporta analítica con lipoproteína (a) 380 nmol/L (valor normal hasta 125 nmol/L), colesterol total 238 m g/dL, HDL 45 m g/ d L ,  L D L  1 3 2  mg/dL y TG 142 mg/dL. En la exploración física se observa el siguiente hallazgo (ver imagen). Además de insistirle en que deje de fumar ¿cuál de las siguientes recomendaciones es más adecuada?:",
         "1. Para llegar a los objetivos de tratamiento de la dislipemia, añadir ezetimiba.",
         "2. Añadir un inhibidor de la PCSK9 y solicitar un test genético de hipercolesterolemia familiar.",
         "3. Enviarle al oftalmólogo para descartar una enfermedad de Wilson.",
         "4. Añadir niacina para disminuir la lipoproteína (a).",
         "2",
         "2022"
        ],
        [
         "6",
         "7. Pregunta asociada a la imagen 7. Varón de 60 años, fumador activo, que presenta tos y expec tor ación  di aria d e años  de  e volución, ocasionalmente hemoptoica. En los últimos meses se añade disnea progresiva. Presenta acropaquia y en la auscultación pulmonar destacan roncus y sibilantes teleinspiratorios en pulmón izquierdo. La TC pulmonar de alta resolución se muestra en la imagen adjunta. ¿Cuál es el diagnóstico más probable?:",
         "1. Carcinoma quístico.",
         "2. Enfisema pulmonar.",
         "3. Tuberculosis cavitada.",
         "4. Bronquiectasias.",
         "4",
         "2022"
        ],
        [
         "7",
         "8. Pregunta asociada a la imagen 8. Mujer de 82 años que acude a ur gencias por un cuadro de dolor abdominal localizado en flanco derecho, irradiado a espalda y febrícula de 37,3 ºC. Se realiza ecografía abdominal que en hipocondrio derecho muestra los resultados de la imagen. ¿Cuál es el diagnóstico más probable?:",
         "1. Colecistitis aguda.",
         "2. Enfermedad de Caroli.",
         "3. Vesícula en porcelana.",
         "4. Cólico biliar.",
         "1",
         "2022"
        ],
        [
         "8",
         "9. Pregunta asociada a la imagen 9. En relación con la patolo gía que se observa en la imagen, es correcto que:",
         "1. Su forma de debut más frecuente es un sangrado menstrual.",
         "2. La citología no es útil en el diagnóstico pero sí en el seguimiento.",
         "3. Es más frecuente en mujeres jóvenes.",
         "4. Uno de los factores de riesgo más importantes es el tabaco.",
         "4",
         "2022"
        ],
        [
         "9",
         "10. Pregunta asociad a a la imagen 10. Varón de 38 años de ori gen centroafricano que presenta el siguiente frotis. Respecto a la enfermedad que sospecha, señale la respuesta correcta:",
         "1. La esplenomegalia es un hallazgo frecuente en los cuadros de larga evolución.",
         "2. Puede producir episodios dolorosos por crisis oclusivas vasculares.",
         "3. Es debida a un defecto congénito en las proteínas de la membrana eritrocitaria.",
         "4. En el examen del frotis  sanguíneo se observa trombopenia y numerosos esquistocitos.",
         "2",
         "2022"
        ]
       ],
       "shape": {
        "columns": 7,
        "rows": 10
       }
      },
      "text/html": [
       "<div>\n",
       "<style scoped>\n",
       "    .dataframe tbody tr th:only-of-type {\n",
       "        vertical-align: middle;\n",
       "    }\n",
       "\n",
       "    .dataframe tbody tr th {\n",
       "        vertical-align: top;\n",
       "    }\n",
       "\n",
       "    .dataframe thead th {\n",
       "        text-align: right;\n",
       "    }\n",
       "</style>\n",
       "<table border=\"1\" class=\"dataframe\">\n",
       "  <thead>\n",
       "    <tr style=\"text-align: right;\">\n",
       "      <th></th>\n",
       "      <th>Question</th>\n",
       "      <th>Option_1</th>\n",
       "      <th>Option_2</th>\n",
       "      <th>Option_3</th>\n",
       "      <th>Option_4</th>\n",
       "      <th>RC</th>\n",
       "      <th>year</th>\n",
       "    </tr>\n",
       "  </thead>\n",
       "  <tbody>\n",
       "    <tr>\n",
       "      <th>0</th>\n",
       "      <td>1. Pregunta asociada a la imagen 1. Varón de 4...</td>\n",
       "      <td>1. Vértigo periférico por laberintitis difusa ...</td>\n",
       "      <td>2. Meningitis otógena izquierda.</td>\n",
       "      <td>3. Síndrome cerebeloso po r absceso intraparen...</td>\n",
       "      <td>4. Trombosis de seno lateral por otitis media ...</td>\n",
       "      <td>3</td>\n",
       "      <td>2022</td>\n",
       "    </tr>\n",
       "    <tr>\n",
       "      <th>1</th>\n",
       "      <td>2. Pregunta asociada a la imagen 2. P a c i e ...</td>\n",
       "      <td>1. Infarto cerebral secundario a consumo de dr...</td>\n",
       "      <td>2. Hemorragia intraparenquimatosa profunda aso...</td>\n",
       "      <td>3. Hemorragia parietal lobar izquierda asociad...</td>\n",
       "      <td>4. Hemorragia intraparenquimatosa asociada a u...</td>\n",
       "      <td>3</td>\n",
       "      <td>2022</td>\n",
       "    </tr>\n",
       "    <tr>\n",
       "      <th>2</th>\n",
       "      <td>3. Pregunta asociada a la imagen 3. Mujer de 7...</td>\n",
       "      <td>1. Clavo trocantérico largo acerrojado proxima...</td>\n",
       "      <td>2. Rehabilitación intensiva inmediata sin inmo...</td>\n",
       "      <td>3. Inmovilización con yeso b raquial colgante ...</td>\n",
       "      <td>4. Artroplastia glenohumeral.</td>\n",
       "      <td>4</td>\n",
       "      <td>2022</td>\n",
       "    </tr>\n",
       "    <tr>\n",
       "      <th>3</th>\n",
       "      <td>4. Pregunta asociada a la imagen 4. Mujer de 5...</td>\n",
       "      <td>1. Síndrome coronario agudo sin elevación del ...</td>\n",
       "      <td>2. Síndrome coronario agudo sin elevación del ...</td>\n",
       "      <td>3. Síndrome coronario agudo sin elevación del ...</td>\n",
       "      <td>4. Los cambios electrocardiográficos no son di...</td>\n",
       "      <td>1</td>\n",
       "      <td>2022</td>\n",
       "    </tr>\n",
       "    <tr>\n",
       "      <th>4</th>\n",
       "      <td>5. Pregunta asociada a la imagen 5. Varón de 5...</td>\n",
       "      <td>1. Insuficiencia tricuspídea.</td>\n",
       "      <td>2. Estenosis aórtica.</td>\n",
       "      <td>3. Miocardiopatía hipertrófica.</td>\n",
       "      <td>4. Insuficiencia mitral.</td>\n",
       "      <td>3</td>\n",
       "      <td>2022</td>\n",
       "    </tr>\n",
       "    <tr>\n",
       "      <th>5</th>\n",
       "      <td>6. Pregunta asociada a la imagen 6. Varón de 3...</td>\n",
       "      <td>1. Para llegar a los objetivos de tratamiento ...</td>\n",
       "      <td>2. Añadir un inhibidor de la PCSK9 y solicitar...</td>\n",
       "      <td>3. Enviarle al oftalmólogo para descartar una ...</td>\n",
       "      <td>4. Añadir niacina para disminuir la lipoproteí...</td>\n",
       "      <td>2</td>\n",
       "      <td>2022</td>\n",
       "    </tr>\n",
       "    <tr>\n",
       "      <th>6</th>\n",
       "      <td>7. Pregunta asociada a la imagen 7. Varón de 6...</td>\n",
       "      <td>1. Carcinoma quístico.</td>\n",
       "      <td>2. Enfisema pulmonar.</td>\n",
       "      <td>3. Tuberculosis cavitada.</td>\n",
       "      <td>4. Bronquiectasias.</td>\n",
       "      <td>4</td>\n",
       "      <td>2022</td>\n",
       "    </tr>\n",
       "    <tr>\n",
       "      <th>7</th>\n",
       "      <td>8. Pregunta asociada a la imagen 8. Mujer de 8...</td>\n",
       "      <td>1. Colecistitis aguda.</td>\n",
       "      <td>2. Enfermedad de Caroli.</td>\n",
       "      <td>3. Vesícula en porcelana.</td>\n",
       "      <td>4. Cólico biliar.</td>\n",
       "      <td>1</td>\n",
       "      <td>2022</td>\n",
       "    </tr>\n",
       "    <tr>\n",
       "      <th>8</th>\n",
       "      <td>9. Pregunta asociada a la imagen 9. En relació...</td>\n",
       "      <td>1. Su forma de debut más frecuente es un sangr...</td>\n",
       "      <td>2. La citología no es útil en el diagnóstico p...</td>\n",
       "      <td>3. Es más frecuente en mujeres jóvenes.</td>\n",
       "      <td>4. Uno de los factores de riesgo más important...</td>\n",
       "      <td>4</td>\n",
       "      <td>2022</td>\n",
       "    </tr>\n",
       "    <tr>\n",
       "      <th>9</th>\n",
       "      <td>10. Pregunta asociad a a la imagen 10. Varón d...</td>\n",
       "      <td>1. La esplenomegalia es un hallazgo frecuente ...</td>\n",
       "      <td>2. Puede producir episodios dolorosos por cris...</td>\n",
       "      <td>3. Es debida a un defecto congénito en las pro...</td>\n",
       "      <td>4. En el examen del frotis  sanguíneo se obser...</td>\n",
       "      <td>2</td>\n",
       "      <td>2022</td>\n",
       "    </tr>\n",
       "  </tbody>\n",
       "</table>\n",
       "</div>"
      ],
      "text/plain": [
       "                                            Question  \\\n",
       "0  1. Pregunta asociada a la imagen 1. Varón de 4...   \n",
       "1  2. Pregunta asociada a la imagen 2. P a c i e ...   \n",
       "2  3. Pregunta asociada a la imagen 3. Mujer de 7...   \n",
       "3  4. Pregunta asociada a la imagen 4. Mujer de 5...   \n",
       "4  5. Pregunta asociada a la imagen 5. Varón de 5...   \n",
       "5  6. Pregunta asociada a la imagen 6. Varón de 3...   \n",
       "6  7. Pregunta asociada a la imagen 7. Varón de 6...   \n",
       "7  8. Pregunta asociada a la imagen 8. Mujer de 8...   \n",
       "8  9. Pregunta asociada a la imagen 9. En relació...   \n",
       "9  10. Pregunta asociad a a la imagen 10. Varón d...   \n",
       "\n",
       "                                            Option_1  \\\n",
       "0  1. Vértigo periférico por laberintitis difusa ...   \n",
       "1  1. Infarto cerebral secundario a consumo de dr...   \n",
       "2  1. Clavo trocantérico largo acerrojado proxima...   \n",
       "3  1. Síndrome coronario agudo sin elevación del ...   \n",
       "4                      1. Insuficiencia tricuspídea.   \n",
       "5  1. Para llegar a los objetivos de tratamiento ...   \n",
       "6                             1. Carcinoma quístico.   \n",
       "7                             1. Colecistitis aguda.   \n",
       "8  1. Su forma de debut más frecuente es un sangr...   \n",
       "9  1. La esplenomegalia es un hallazgo frecuente ...   \n",
       "\n",
       "                                            Option_2  \\\n",
       "0                   2. Meningitis otógena izquierda.   \n",
       "1  2. Hemorragia intraparenquimatosa profunda aso...   \n",
       "2  2. Rehabilitación intensiva inmediata sin inmo...   \n",
       "3  2. Síndrome coronario agudo sin elevación del ...   \n",
       "4                              2. Estenosis aórtica.   \n",
       "5  2. Añadir un inhibidor de la PCSK9 y solicitar...   \n",
       "6                              2. Enfisema pulmonar.   \n",
       "7                           2. Enfermedad de Caroli.   \n",
       "8  2. La citología no es útil en el diagnóstico p...   \n",
       "9  2. Puede producir episodios dolorosos por cris...   \n",
       "\n",
       "                                            Option_3  \\\n",
       "0  3. Síndrome cerebeloso po r absceso intraparen...   \n",
       "1  3. Hemorragia parietal lobar izquierda asociad...   \n",
       "2  3. Inmovilización con yeso b raquial colgante ...   \n",
       "3  3. Síndrome coronario agudo sin elevación del ...   \n",
       "4                    3. Miocardiopatía hipertrófica.   \n",
       "5  3. Enviarle al oftalmólogo para descartar una ...   \n",
       "6                          3. Tuberculosis cavitada.   \n",
       "7                          3. Vesícula en porcelana.   \n",
       "8            3. Es más frecuente en mujeres jóvenes.   \n",
       "9  3. Es debida a un defecto congénito en las pro...   \n",
       "\n",
       "                                            Option_4  RC  year  \n",
       "0  4. Trombosis de seno lateral por otitis media ...   3  2022  \n",
       "1  4. Hemorragia intraparenquimatosa asociada a u...   3  2022  \n",
       "2                      4. Artroplastia glenohumeral.   4  2022  \n",
       "3  4. Los cambios electrocardiográficos no son di...   1  2022  \n",
       "4                           4. Insuficiencia mitral.   3  2022  \n",
       "5  4. Añadir niacina para disminuir la lipoproteí...   2  2022  \n",
       "6                                4. Bronquiectasias.   4  2022  \n",
       "7                                  4. Cólico biliar.   1  2022  \n",
       "8  4. Uno de los factores de riesgo más important...   4  2022  \n",
       "9  4. En el examen del frotis  sanguíneo se obser...   2  2022  "
      ]
     },
     "execution_count": 36,
     "metadata": {},
     "output_type": "execute_result"
    }
   ],
   "source": [
    "processed_exam_df.head(10)"
   ]
  },
  {
   "cell_type": "markdown",
   "metadata": {},
   "source": [
    "### Filtering by relevant questions\n",
    "\n",
    "**1. Filtering for id**\n",
    "\n",
    "A list of the number of question is used to filter the DataFrame, but first doing a -1 so it matches with the id. \n",
    "\n",
    "Finally the indexes are reseted"
   ]
  },
  {
   "cell_type": "code",
   "execution_count": 37,
   "metadata": {},
   "outputs": [
    {
     "name": "stdout",
     "output_type": "stream",
     "text": [
      "Expected number of rows = 22\n",
      "Number of rows in filtered df = 22\n"
     ]
    }
   ],
   "source": [
    "id_filter = [x-1 for x in add_list]\n",
    "processed_exam_df_filtered = processed_exam_df.iloc[id_filter]\n",
    "processed_exam_df_filtered = processed_exam_df_filtered.reset_index(drop= True)\n",
    "print(f\"Expected number of rows = {len(id_filter)}\\nNumber of rows in filtered df = {processed_exam_df_filtered.shape[0]}\")"
   ]
  },
  {
   "cell_type": "markdown",
   "metadata": {},
   "source": [
    "**2. Showing the filtered DataFrame**\n",
    "\n",
    "Using head and tail"
   ]
  },
  {
   "cell_type": "code",
   "execution_count": 38,
   "metadata": {},
   "outputs": [
    {
     "data": {
      "application/vnd.microsoft.datawrangler.viewer.v0+json": {
       "columns": [
        {
         "name": "index",
         "rawType": "int64",
         "type": "integer"
        },
        {
         "name": "Question",
         "rawType": "object",
         "type": "string"
        },
        {
         "name": "Option_1",
         "rawType": "object",
         "type": "string"
        },
        {
         "name": "Option_2",
         "rawType": "object",
         "type": "string"
        },
        {
         "name": "Option_3",
         "rawType": "object",
         "type": "string"
        },
        {
         "name": "Option_4",
         "rawType": "object",
         "type": "string"
        },
        {
         "name": "RC",
         "rawType": "int32",
         "type": "integer"
        },
        {
         "name": "year",
         "rawType": "int64",
         "type": "integer"
        }
       ],
       "conversionMethod": "pd.DataFrame",
       "ref": "3f7c2749-98e6-4d3d-a817-e390a803192e",
       "rows": [
        [
         "0",
         "26. En un paciente con síndrome nefrótico es posible encontrar una de las si guientes alteraciones plasmáticas en el perfil lipoproteico:",
         "1. Disminución de las lipoproteínas de muy baja densidad (VLDL).",
         "2. Aumento de la apolipoproteína B-100.",
         "3. Aumento de la apolipoproteína A-I.",
         "4. Aumento de la actividad lipoproteínlipasa (LPL).",
         "2",
         "2022"
        ],
        [
         "1",
         "27. En relación con el metabolismo de compuestos nitrogenados, el músculo esquelético es capaz de:",
         "1. Sintetizar de forma limitada urea en situaciones de disfunción hepática para paliar la toxicidad del amoníaco.",
         "2. Utilizar los alfa-cetoácidos derivados de los aminoácidos ramificados como fuente energética.",
         "3. Producir alanina por transaminación a partir de piruvato y ácido aspártico, particularmente en determinadas situaciones de ayuno.",
         "4. Elaborar creatina utilizando glicina, ATP y amoníaco para obtener creatin-fosfato como reserva energética y posibilitar su uso durante el ejercicio.",
         "2",
         "2022"
        ],
        [
         "2",
         "28. En la glucogenosis de t ipo Ia (enfermedad de von Gierke) por déficit de glucosa-6-fosfatasa es característico:",
         "1. El aumento de glucógeno muscular.",
         "2. La hipouricemia por reducción en la reabsorción renal de ácido úrico.",
         "3. El aumento del lactato plasmático.",
         "4. La disminución de la síntesis hepática de triglicéridos.",
         "3",
         "2022"
        ],
        [
         "3",
         "29. En relación con las presiones que ori ginan el movimiento de entrada y salida de aire en los pulmones en una persona sana, señale la afirmación INCORRECTA:",
         "1. La aspiración continua del exceso de líquidos hacia los conductos linfáticos mantiene una ligera presión negativa entre la superficie visceral del pulmón y la superficie pleural parietal de la cavidad torácica.",
         "2. Durante la inspiración normal, la presión pleural se hace más negativa.",
         "3. Durante la espiración normal, la presión alveolar disminuye con respecto al valor de la presión atmosférica.",
         "4. La presión transpulmonar (presión alveolar menos presión pleural) tiende a colapsar los pulmones durante el ciclo respiratorio completo.",
         "3",
         "2022"
        ],
        [
         "4",
         "30. El flujo sanguíneo tur bulento tiende a aumentar en proporción directa a to dos los siguientes factores EXCEPTO UNO. Señale cuál:",
         "1. Viscosidad de la sangre.",
         "2. Velocidad del flujo sanguíneo.",
         "3. Diámetro del vaso sanguíneo.",
         "4. Densidad de la sangre.",
         "1",
         "2022"
        ],
        [
         "5",
         "31. En relación con la re gulación del intercambio de líquido y del equilibrio osmótico entre los líquidos intracelular y extracelular en una situación fisiológica, señale la afirmación INCORRECTA:",
         "1. La distribución del líquido entre los compartimentos intracelular y extracelular está determinada sobre todo por el efecto osmótico de los iones más pequeños.",
         "2. Alrededor del 80 % de la osmolaridad total del líquido intersticial y del plasma se debe a los iones sodio y cloro.",
         "3. Alrededor del 50 % de la osmolaridad en el líquido intracelular se debe a los iones calcio.",
         "4. Cambios relativamente pequeños en la concentración de solutos no difusibles en el líquido extracelular pueden causar grandes cambios en el volumen celular.",
         "3",
         "2022"
        ],
        [
         "6",
         "32. Señala la respuesta correcta respecto a la reabsorción renal de sodio:",
         "1. En el asa ascendente de Henle se reabsorbe sodio, sin reabsorber agua.",
         "2. En el túbulo colector se reabsorbe un 20 % del sodio.",
         "3. La mayor reabsorción de sodio se produce en el túbulo distal.",
         "4. La reabsorción de sodio en el túbulo proximal está mediada por la aldosterona.",
         "1",
         "2022"
        ],
        [
         "7",
         "33. ¿Cómo se denomina el inicio pro gresivamente más precoz y el incremento de la gravedad de las manifestaciones clínicas de una enfermedad a lo largo de las sucesivas generaciones?:",
         "1. Penetrancia variable.",
         "2. Anticipación genética.",
         "3. Anticipación alélica.",
         "4. Penetrancia completa.",
         "2",
         "2022"
        ],
        [
         "8",
         "34. En relación con el papel de la inmuno globulina A (IgA) en la defensa frente a pató genos, señale la respuesta INCORRECTA:",
         "1. La IgA activa la vía clásica del complemento contribuyendo a la eliminación de bacterias extracelulares.",
         "2. La IgA pasa de la madre al recién nacido durante la lactancia contribuyendo a la protección de las mucosas del neonato.",
         "3. La IgA puede atravesar la barrera epitelial de las mucosas uniéndose al receptor poli-Ig (pIgR) siendo la inmunoglobulina más abundante en las mucosas.",
         "4. El déficit selectivo de IgA es la inmunodeficiencia más frecuente (aproximadamente1:400) y la mayoría de los casos son asintomáticos.",
         "1",
         "2022"
        ],
        [
         "9",
         "35. Entre las nuevas medidas de protección contra el COVID-19 se inclu ye el uso de terapias basadas en anticuerpos monoclonales frente la proteína S (spike) del SARS-CoV-2 (tixagevimab y cilgavimab). Este tratamiento:",
         "1. Es una forma de inmunización activa cuyo resultado depende de la activación de linfocitos memoria.",
         "2. Está indicado en pacientes inmunodeprimidos, como los pacientes con trasplante de órganos.",
         "3. Confiere protección durante un período de tiempo aproximado de dos años.",
         "4. Induce memoria inmunológica basada en la activación de linfocitos B.",
         "2",
         "2022"
        ]
       ],
       "shape": {
        "columns": 7,
        "rows": 10
       }
      },
      "text/html": [
       "<div>\n",
       "<style scoped>\n",
       "    .dataframe tbody tr th:only-of-type {\n",
       "        vertical-align: middle;\n",
       "    }\n",
       "\n",
       "    .dataframe tbody tr th {\n",
       "        vertical-align: top;\n",
       "    }\n",
       "\n",
       "    .dataframe thead th {\n",
       "        text-align: right;\n",
       "    }\n",
       "</style>\n",
       "<table border=\"1\" class=\"dataframe\">\n",
       "  <thead>\n",
       "    <tr style=\"text-align: right;\">\n",
       "      <th></th>\n",
       "      <th>Question</th>\n",
       "      <th>Option_1</th>\n",
       "      <th>Option_2</th>\n",
       "      <th>Option_3</th>\n",
       "      <th>Option_4</th>\n",
       "      <th>RC</th>\n",
       "      <th>year</th>\n",
       "    </tr>\n",
       "  </thead>\n",
       "  <tbody>\n",
       "    <tr>\n",
       "      <th>0</th>\n",
       "      <td>26. En un paciente con síndrome nefrótico es p...</td>\n",
       "      <td>1. Disminución de las lipoproteínas de muy baj...</td>\n",
       "      <td>2. Aumento de la apolipoproteína B-100.</td>\n",
       "      <td>3. Aumento de la apolipoproteína A-I.</td>\n",
       "      <td>4. Aumento de la actividad lipoproteínlipasa (...</td>\n",
       "      <td>2</td>\n",
       "      <td>2022</td>\n",
       "    </tr>\n",
       "    <tr>\n",
       "      <th>1</th>\n",
       "      <td>27. En relación con el metabolismo de compuest...</td>\n",
       "      <td>1. Sintetizar de forma limitada urea en situac...</td>\n",
       "      <td>2. Utilizar los alfa-cetoácidos derivados de l...</td>\n",
       "      <td>3. Producir alanina por transaminación a parti...</td>\n",
       "      <td>4. Elaborar creatina utilizando glicina, ATP y...</td>\n",
       "      <td>2</td>\n",
       "      <td>2022</td>\n",
       "    </tr>\n",
       "    <tr>\n",
       "      <th>2</th>\n",
       "      <td>28. En la glucogenosis de t ipo Ia (enfermedad...</td>\n",
       "      <td>1. El aumento de glucógeno muscular.</td>\n",
       "      <td>2. La hipouricemia por reducción en la reabsor...</td>\n",
       "      <td>3. El aumento del lactato plasmático.</td>\n",
       "      <td>4. La disminución de la síntesis hepática de t...</td>\n",
       "      <td>3</td>\n",
       "      <td>2022</td>\n",
       "    </tr>\n",
       "    <tr>\n",
       "      <th>3</th>\n",
       "      <td>29. En relación con las presiones que ori gina...</td>\n",
       "      <td>1. La aspiración continua del exceso de líquid...</td>\n",
       "      <td>2. Durante la inspiración normal, la presión p...</td>\n",
       "      <td>3. Durante la espiración normal, la presión al...</td>\n",
       "      <td>4. La presión transpulmonar (presión alveolar ...</td>\n",
       "      <td>3</td>\n",
       "      <td>2022</td>\n",
       "    </tr>\n",
       "    <tr>\n",
       "      <th>4</th>\n",
       "      <td>30. El flujo sanguíneo tur bulento tiende a au...</td>\n",
       "      <td>1. Viscosidad de la sangre.</td>\n",
       "      <td>2. Velocidad del flujo sanguíneo.</td>\n",
       "      <td>3. Diámetro del vaso sanguíneo.</td>\n",
       "      <td>4. Densidad de la sangre.</td>\n",
       "      <td>1</td>\n",
       "      <td>2022</td>\n",
       "    </tr>\n",
       "    <tr>\n",
       "      <th>5</th>\n",
       "      <td>31. En relación con la re gulación del interca...</td>\n",
       "      <td>1. La distribución del líquido entre los compa...</td>\n",
       "      <td>2. Alrededor del 80 % de la osmolaridad total ...</td>\n",
       "      <td>3. Alrededor del 50 % de la osmolaridad en el ...</td>\n",
       "      <td>4. Cambios relativamente pequeños en la concen...</td>\n",
       "      <td>3</td>\n",
       "      <td>2022</td>\n",
       "    </tr>\n",
       "    <tr>\n",
       "      <th>6</th>\n",
       "      <td>32. Señala la respuesta correcta respecto a la...</td>\n",
       "      <td>1. En el asa ascendente de Henle se reabsorbe ...</td>\n",
       "      <td>2. En el túbulo colector se reabsorbe un 20 % ...</td>\n",
       "      <td>3. La mayor reabsorción de sodio se produce en...</td>\n",
       "      <td>4. La reabsorción de sodio en el túbulo proxim...</td>\n",
       "      <td>1</td>\n",
       "      <td>2022</td>\n",
       "    </tr>\n",
       "    <tr>\n",
       "      <th>7</th>\n",
       "      <td>33. ¿Cómo se denomina el inicio pro gresivamen...</td>\n",
       "      <td>1. Penetrancia variable.</td>\n",
       "      <td>2. Anticipación genética.</td>\n",
       "      <td>3. Anticipación alélica.</td>\n",
       "      <td>4. Penetrancia completa.</td>\n",
       "      <td>2</td>\n",
       "      <td>2022</td>\n",
       "    </tr>\n",
       "    <tr>\n",
       "      <th>8</th>\n",
       "      <td>34. En relación con el papel de la inmuno glob...</td>\n",
       "      <td>1. La IgA activa la vía clásica del complement...</td>\n",
       "      <td>2. La IgA pasa de la madre al recién nacido du...</td>\n",
       "      <td>3. La IgA puede atravesar la barrera epitelial...</td>\n",
       "      <td>4. El déficit selectivo de IgA es la inmunodef...</td>\n",
       "      <td>1</td>\n",
       "      <td>2022</td>\n",
       "    </tr>\n",
       "    <tr>\n",
       "      <th>9</th>\n",
       "      <td>35. Entre las nuevas medidas de protección con...</td>\n",
       "      <td>1. Es una forma de inmunización activa cuyo re...</td>\n",
       "      <td>2. Está indicado en pacientes inmunodeprimidos...</td>\n",
       "      <td>3. Confiere protección durante un período de t...</td>\n",
       "      <td>4. Induce memoria inmunológica basada en la ac...</td>\n",
       "      <td>2</td>\n",
       "      <td>2022</td>\n",
       "    </tr>\n",
       "  </tbody>\n",
       "</table>\n",
       "</div>"
      ],
      "text/plain": [
       "                                            Question  \\\n",
       "0  26. En un paciente con síndrome nefrótico es p...   \n",
       "1  27. En relación con el metabolismo de compuest...   \n",
       "2  28. En la glucogenosis de t ipo Ia (enfermedad...   \n",
       "3  29. En relación con las presiones que ori gina...   \n",
       "4  30. El flujo sanguíneo tur bulento tiende a au...   \n",
       "5  31. En relación con la re gulación del interca...   \n",
       "6  32. Señala la respuesta correcta respecto a la...   \n",
       "7  33. ¿Cómo se denomina el inicio pro gresivamen...   \n",
       "8  34. En relación con el papel de la inmuno glob...   \n",
       "9  35. Entre las nuevas medidas de protección con...   \n",
       "\n",
       "                                            Option_1  \\\n",
       "0  1. Disminución de las lipoproteínas de muy baj...   \n",
       "1  1. Sintetizar de forma limitada urea en situac...   \n",
       "2               1. El aumento de glucógeno muscular.   \n",
       "3  1. La aspiración continua del exceso de líquid...   \n",
       "4                        1. Viscosidad de la sangre.   \n",
       "5  1. La distribución del líquido entre los compa...   \n",
       "6  1. En el asa ascendente de Henle se reabsorbe ...   \n",
       "7                           1. Penetrancia variable.   \n",
       "8  1. La IgA activa la vía clásica del complement...   \n",
       "9  1. Es una forma de inmunización activa cuyo re...   \n",
       "\n",
       "                                            Option_2  \\\n",
       "0            2. Aumento de la apolipoproteína B-100.   \n",
       "1  2. Utilizar los alfa-cetoácidos derivados de l...   \n",
       "2  2. La hipouricemia por reducción en la reabsor...   \n",
       "3  2. Durante la inspiración normal, la presión p...   \n",
       "4                  2. Velocidad del flujo sanguíneo.   \n",
       "5  2. Alrededor del 80 % de la osmolaridad total ...   \n",
       "6  2. En el túbulo colector se reabsorbe un 20 % ...   \n",
       "7                          2. Anticipación genética.   \n",
       "8  2. La IgA pasa de la madre al recién nacido du...   \n",
       "9  2. Está indicado en pacientes inmunodeprimidos...   \n",
       "\n",
       "                                            Option_3  \\\n",
       "0              3. Aumento de la apolipoproteína A-I.   \n",
       "1  3. Producir alanina por transaminación a parti...   \n",
       "2              3. El aumento del lactato plasmático.   \n",
       "3  3. Durante la espiración normal, la presión al...   \n",
       "4                    3. Diámetro del vaso sanguíneo.   \n",
       "5  3. Alrededor del 50 % de la osmolaridad en el ...   \n",
       "6  3. La mayor reabsorción de sodio se produce en...   \n",
       "7                           3. Anticipación alélica.   \n",
       "8  3. La IgA puede atravesar la barrera epitelial...   \n",
       "9  3. Confiere protección durante un período de t...   \n",
       "\n",
       "                                            Option_4  RC  year  \n",
       "0  4. Aumento de la actividad lipoproteínlipasa (...   2  2022  \n",
       "1  4. Elaborar creatina utilizando glicina, ATP y...   2  2022  \n",
       "2  4. La disminución de la síntesis hepática de t...   3  2022  \n",
       "3  4. La presión transpulmonar (presión alveolar ...   3  2022  \n",
       "4                          4. Densidad de la sangre.   1  2022  \n",
       "5  4. Cambios relativamente pequeños en la concen...   3  2022  \n",
       "6  4. La reabsorción de sodio en el túbulo proxim...   1  2022  \n",
       "7                           4. Penetrancia completa.   2  2022  \n",
       "8  4. El déficit selectivo de IgA es la inmunodef...   1  2022  \n",
       "9  4. Induce memoria inmunológica basada en la ac...   2  2022  "
      ]
     },
     "execution_count": 38,
     "metadata": {},
     "output_type": "execute_result"
    }
   ],
   "source": [
    "processed_exam_df_filtered.head(10)"
   ]
  },
  {
   "cell_type": "code",
   "execution_count": 39,
   "metadata": {},
   "outputs": [
    {
     "data": {
      "application/vnd.microsoft.datawrangler.viewer.v0+json": {
       "columns": [
        {
         "name": "index",
         "rawType": "int64",
         "type": "integer"
        },
        {
         "name": "Question",
         "rawType": "object",
         "type": "string"
        },
        {
         "name": "Option_1",
         "rawType": "object",
         "type": "string"
        },
        {
         "name": "Option_2",
         "rawType": "object",
         "type": "string"
        },
        {
         "name": "Option_3",
         "rawType": "object",
         "type": "string"
        },
        {
         "name": "Option_4",
         "rawType": "object",
         "type": "string"
        },
        {
         "name": "RC",
         "rawType": "int32",
         "type": "integer"
        },
        {
         "name": "year",
         "rawType": "int64",
         "type": "integer"
        }
       ],
       "conversionMethod": "pd.DataFrame",
       "ref": "d377bd70-8b7d-4300-8ad1-020ab19249f2",
       "rows": [
        [
         "12",
         "38. Entre los avances en inmunoterapia antitumoral se incluye el uso de linfocitos T modificados para que expresen un receptor CAR ( chimeric antigen receptor, receptor quimérico para el antí geno), denominados CAR-T. En relación con las células CAR-T para el tratamiento de linfomas y leucemias que expresan CD19, señale la respuesta INCORRECTA:",
         "1. El elemento de reconocimiento del receptor CAR está basado en fragmentos variables de anticuerpos anti-CD19 ( single-chain variable fragments, scFvs).",
         "2. El receptor CAR posee un dominio intracelular responsable de la transmisión de señales.",
         "3. Entre los efectos secundarios graves de este tratamiento se encuentra el síndrome de liberación de citocinas.",
         "4. El reconocimiento del antígeno por el receptor CAR depende de las moléculas de histocompatibilidad (HLA) clase I en la célula tumoral.",
         "4",
         "2022"
        ],
        [
         "13",
         "41. En una enfermedad genética con un patrón de herencia autosómico recesi vo el riesgo de la enfermedad en una futura descendencia cuando ambos padres son portadores es:",
         "1. 25 % en cada embarazo independiente del sexo de la descendencia.",
         "2. 50 % en cada embarazo de un hijo varón.",
         "3. 50 % en cada embarazo de una hija mujer.",
         "4. 50 % en cada embarazo independiente del sexo de la descendencia.",
         "1",
         "2022"
        ],
        [
         "14",
         "42. En un determinado gen la secuencia de ADN se transcribe para formar el ARN maduro y e s t e ARN maduro se traduce para formar la proteína. ¿A qué región (secuencia) de la estructura de un gen se denomina intrón?:",
         "1. A la que inicia la transcripción para formar el ARN",
         "2. A la que no está presente en el ARN maduro.",
         "3. A la que se transcribe para estar presente en el ARN maduro y dar lugar a la proteína.",
         "4. A la que regula la expresión del gen.",
         "2",
         "2022"
        ],
        [
         "15",
         "45. El valor predictivo negativo de una prueba diagnóstica es del 92 %. ¿Cómo debe interpretarse dicho resultado?:",
         "1. De cada 100 resultados negativos, 92 corresponderán a personas sanas.",
         "2. De cada 100 personas sanas, en 92 de ellos el resultado de la prueba será negativo.",
         "3. De cada 100 enfermos, en 8 de ellos el resultado de la prueba será negativo.",
         "4. De cada 100 resultados positivos, 8 de ellos corresponderán a enfermos.",
         "1",
         "2022"
        ],
        [
         "16",
         "47. ¿En cuál de las siguientes enfermedades debemos aplicar precauciones de aislamiento por contacto y aire (aerosoles)?:",
         "1. Sarampión.",
         "2. Tuberculosis.",
         "3. Norovirus.",
         "4. Varicela.",
         "4",
         "2022"
        ],
        [
         "17",
         "51. Las vacunas conjugadas:",
         "1. Son vacunas de virus y bacterias combinadas para hacerlas menos inmunógenas y que provoquen menos efectos secundarios.",
         "2. Son vacunas de virus enteros conjugadas con un polisacárido para poder combinarlas y hacer la trivalente o tetravalente vírica.",
         "3. Son vacunas bacterianas conjugadas con un polisacárido para poder combinarlas y hacer vacunas penta o hexavalentes.",
         "4. Son vacunas polisacáridas conjugadas con una proteína para hacerla dependiente de linfocitos T y lograr memoria inmunológica a largo plazo.",
         "4",
         "2022"
        ],
        [
         "18",
         "96. Respecto a la exploración neuroló gica de una lesión en la vía córtico-espinal, señale la afirmación INCORRECTA:",
         "1. Se encuentra debilidad global en todos los grupos musculares de los miembros afectados.",
         "2. El reflejo de Babinski está presente.",
         "3. Presenta hipertonía tipo rigidez.",
         "4. Existe hiperreflexia en los reflejos osteotendinosos rotulianos.",
         "3",
         "2022"
        ],
        [
         "19",
         "158. En relación con la hiperprolactinemia, señale la afirmación INCORRECTA:",
         "1. La hiperprolactinemia puede estar ocasionada por fármacos.",
         "2. El hipertiroidismo provoca elevación de prolactina.",
         "3. El tratamiento médico de elección son los agonistas dopaminérgicos.",
         "4. Causa amenorrea hipogonadotropa.",
         "2",
         "2022"
        ],
        [
         "20",
         "168. En las faringitis causadas por Streptococcus pyogenes del grupo A es cierto que:",
         "1. El cuadro clínico es diagnóstico: fiebre elevada, malestar general, dolor de garganta y en ocasiones, adenopatías.",
         "2. Los test de diagnóstico rápido presentan una elevada sensibilidad, por lo que si el resultado es positivo podemos establecer un diagnóstico definitivo.",
         "3. La pauta de tratamiento de elección es amoxicilina-clavulánico 875 mg cada 8 horas durante10 días.",
         "4. El tratamiento antibiótico ha demostrado reducir la posibilidad de fiebre reumática pero no de glomerulonefritis postestreptocócica.",
         "4",
         "2022"
        ],
        [
         "21",
         "170. Mu jer de 67 años que sufrió dos meses antes de la consulta una infección por Clostridioides difficile. Acude por un nuevo cuadro compatible con una infección recurrente por el mismo germen. ¿Cuál es el tratamiento más eficaz para evitar recurrencias adicionales de la infección?:",
         "1. Metronidazol.",
         "2. Fidaxomicina.",
         "3. Vancomicina.",
         "4. Rifaximina.",
         "2",
         "2022"
        ]
       ],
       "shape": {
        "columns": 7,
        "rows": 10
       }
      },
      "text/html": [
       "<div>\n",
       "<style scoped>\n",
       "    .dataframe tbody tr th:only-of-type {\n",
       "        vertical-align: middle;\n",
       "    }\n",
       "\n",
       "    .dataframe tbody tr th {\n",
       "        vertical-align: top;\n",
       "    }\n",
       "\n",
       "    .dataframe thead th {\n",
       "        text-align: right;\n",
       "    }\n",
       "</style>\n",
       "<table border=\"1\" class=\"dataframe\">\n",
       "  <thead>\n",
       "    <tr style=\"text-align: right;\">\n",
       "      <th></th>\n",
       "      <th>Question</th>\n",
       "      <th>Option_1</th>\n",
       "      <th>Option_2</th>\n",
       "      <th>Option_3</th>\n",
       "      <th>Option_4</th>\n",
       "      <th>RC</th>\n",
       "      <th>year</th>\n",
       "    </tr>\n",
       "  </thead>\n",
       "  <tbody>\n",
       "    <tr>\n",
       "      <th>12</th>\n",
       "      <td>38. Entre los avances en inmunoterapia antitum...</td>\n",
       "      <td>1. El elemento de reconocimiento del receptor ...</td>\n",
       "      <td>2. El receptor CAR posee un dominio intracelul...</td>\n",
       "      <td>3. Entre los efectos secundarios graves de est...</td>\n",
       "      <td>4. El reconocimiento del antígeno por el recep...</td>\n",
       "      <td>4</td>\n",
       "      <td>2022</td>\n",
       "    </tr>\n",
       "    <tr>\n",
       "      <th>13</th>\n",
       "      <td>41. En una enfermedad genética con un patrón d...</td>\n",
       "      <td>1. 25 % en cada embarazo independiente del sex...</td>\n",
       "      <td>2. 50 % en cada embarazo de un hijo varón.</td>\n",
       "      <td>3. 50 % en cada embarazo de una hija mujer.</td>\n",
       "      <td>4. 50 % en cada embarazo independiente del sex...</td>\n",
       "      <td>1</td>\n",
       "      <td>2022</td>\n",
       "    </tr>\n",
       "    <tr>\n",
       "      <th>14</th>\n",
       "      <td>42. En un determinado gen la secuencia de ADN ...</td>\n",
       "      <td>1. A la que inicia la transcripción para forma...</td>\n",
       "      <td>2. A la que no está presente en el ARN maduro.</td>\n",
       "      <td>3. A la que se transcribe para estar presente ...</td>\n",
       "      <td>4. A la que regula la expresión del gen.</td>\n",
       "      <td>2</td>\n",
       "      <td>2022</td>\n",
       "    </tr>\n",
       "    <tr>\n",
       "      <th>15</th>\n",
       "      <td>45. El valor predictivo negativo de una prueba...</td>\n",
       "      <td>1. De cada 100 resultados negativos, 92 corres...</td>\n",
       "      <td>2. De cada 100 personas sanas, en 92 de ellos ...</td>\n",
       "      <td>3. De cada 100 enfermos, en 8 de ellos el resu...</td>\n",
       "      <td>4. De cada 100 resultados positivos, 8 de ello...</td>\n",
       "      <td>1</td>\n",
       "      <td>2022</td>\n",
       "    </tr>\n",
       "    <tr>\n",
       "      <th>16</th>\n",
       "      <td>47. ¿En cuál de las siguientes enfermedades de...</td>\n",
       "      <td>1. Sarampión.</td>\n",
       "      <td>2. Tuberculosis.</td>\n",
       "      <td>3. Norovirus.</td>\n",
       "      <td>4. Varicela.</td>\n",
       "      <td>4</td>\n",
       "      <td>2022</td>\n",
       "    </tr>\n",
       "    <tr>\n",
       "      <th>17</th>\n",
       "      <td>51. Las vacunas conjugadas:</td>\n",
       "      <td>1. Son vacunas de virus y bacterias combinadas...</td>\n",
       "      <td>2. Son vacunas de virus enteros conjugadas con...</td>\n",
       "      <td>3. Son vacunas bacterianas conjugadas con un p...</td>\n",
       "      <td>4. Son vacunas polisacáridas conjugadas con un...</td>\n",
       "      <td>4</td>\n",
       "      <td>2022</td>\n",
       "    </tr>\n",
       "    <tr>\n",
       "      <th>18</th>\n",
       "      <td>96. Respecto a la exploración neuroló gica de ...</td>\n",
       "      <td>1. Se encuentra debilidad global en todos los ...</td>\n",
       "      <td>2. El reflejo de Babinski está presente.</td>\n",
       "      <td>3. Presenta hipertonía tipo rigidez.</td>\n",
       "      <td>4. Existe hiperreflexia en los reflejos osteot...</td>\n",
       "      <td>3</td>\n",
       "      <td>2022</td>\n",
       "    </tr>\n",
       "    <tr>\n",
       "      <th>19</th>\n",
       "      <td>158. En relación con la hiperprolactinemia, se...</td>\n",
       "      <td>1. La hiperprolactinemia puede estar ocasionad...</td>\n",
       "      <td>2. El hipertiroidismo provoca elevación de pro...</td>\n",
       "      <td>3. El tratamiento médico de elección son los a...</td>\n",
       "      <td>4. Causa amenorrea hipogonadotropa.</td>\n",
       "      <td>2</td>\n",
       "      <td>2022</td>\n",
       "    </tr>\n",
       "    <tr>\n",
       "      <th>20</th>\n",
       "      <td>168. En las faringitis causadas por Streptococ...</td>\n",
       "      <td>1. El cuadro clínico es diagnóstico: fiebre el...</td>\n",
       "      <td>2. Los test de diagnóstico rápido presentan un...</td>\n",
       "      <td>3. La pauta de tratamiento de elección es amox...</td>\n",
       "      <td>4. El tratamiento antibiótico ha demostrado re...</td>\n",
       "      <td>4</td>\n",
       "      <td>2022</td>\n",
       "    </tr>\n",
       "    <tr>\n",
       "      <th>21</th>\n",
       "      <td>170. Mu jer de 67 años que sufrió dos meses an...</td>\n",
       "      <td>1. Metronidazol.</td>\n",
       "      <td>2. Fidaxomicina.</td>\n",
       "      <td>3. Vancomicina.</td>\n",
       "      <td>4. Rifaximina.</td>\n",
       "      <td>2</td>\n",
       "      <td>2022</td>\n",
       "    </tr>\n",
       "  </tbody>\n",
       "</table>\n",
       "</div>"
      ],
      "text/plain": [
       "                                             Question  \\\n",
       "12  38. Entre los avances en inmunoterapia antitum...   \n",
       "13  41. En una enfermedad genética con un patrón d...   \n",
       "14  42. En un determinado gen la secuencia de ADN ...   \n",
       "15  45. El valor predictivo negativo de una prueba...   \n",
       "16  47. ¿En cuál de las siguientes enfermedades de...   \n",
       "17                        51. Las vacunas conjugadas:   \n",
       "18  96. Respecto a la exploración neuroló gica de ...   \n",
       "19  158. En relación con la hiperprolactinemia, se...   \n",
       "20  168. En las faringitis causadas por Streptococ...   \n",
       "21  170. Mu jer de 67 años que sufrió dos meses an...   \n",
       "\n",
       "                                             Option_1  \\\n",
       "12  1. El elemento de reconocimiento del receptor ...   \n",
       "13  1. 25 % en cada embarazo independiente del sex...   \n",
       "14  1. A la que inicia la transcripción para forma...   \n",
       "15  1. De cada 100 resultados negativos, 92 corres...   \n",
       "16                                      1. Sarampión.   \n",
       "17  1. Son vacunas de virus y bacterias combinadas...   \n",
       "18  1. Se encuentra debilidad global en todos los ...   \n",
       "19  1. La hiperprolactinemia puede estar ocasionad...   \n",
       "20  1. El cuadro clínico es diagnóstico: fiebre el...   \n",
       "21                                   1. Metronidazol.   \n",
       "\n",
       "                                             Option_2  \\\n",
       "12  2. El receptor CAR posee un dominio intracelul...   \n",
       "13         2. 50 % en cada embarazo de un hijo varón.   \n",
       "14     2. A la que no está presente en el ARN maduro.   \n",
       "15  2. De cada 100 personas sanas, en 92 de ellos ...   \n",
       "16                                   2. Tuberculosis.   \n",
       "17  2. Son vacunas de virus enteros conjugadas con...   \n",
       "18           2. El reflejo de Babinski está presente.   \n",
       "19  2. El hipertiroidismo provoca elevación de pro...   \n",
       "20  2. Los test de diagnóstico rápido presentan un...   \n",
       "21                                   2. Fidaxomicina.   \n",
       "\n",
       "                                             Option_3  \\\n",
       "12  3. Entre los efectos secundarios graves de est...   \n",
       "13        3. 50 % en cada embarazo de una hija mujer.   \n",
       "14  3. A la que se transcribe para estar presente ...   \n",
       "15  3. De cada 100 enfermos, en 8 de ellos el resu...   \n",
       "16                                      3. Norovirus.   \n",
       "17  3. Son vacunas bacterianas conjugadas con un p...   \n",
       "18               3. Presenta hipertonía tipo rigidez.   \n",
       "19  3. El tratamiento médico de elección son los a...   \n",
       "20  3. La pauta de tratamiento de elección es amox...   \n",
       "21                                    3. Vancomicina.   \n",
       "\n",
       "                                             Option_4  RC  year  \n",
       "12  4. El reconocimiento del antígeno por el recep...   4  2022  \n",
       "13  4. 50 % en cada embarazo independiente del sex...   1  2022  \n",
       "14           4. A la que regula la expresión del gen.   2  2022  \n",
       "15  4. De cada 100 resultados positivos, 8 de ello...   1  2022  \n",
       "16                                       4. Varicela.   4  2022  \n",
       "17  4. Son vacunas polisacáridas conjugadas con un...   4  2022  \n",
       "18  4. Existe hiperreflexia en los reflejos osteot...   3  2022  \n",
       "19                4. Causa amenorrea hipogonadotropa.   2  2022  \n",
       "20  4. El tratamiento antibiótico ha demostrado re...   4  2022  \n",
       "21                                     4. Rifaximina.   2  2022  "
      ]
     },
     "execution_count": 39,
     "metadata": {},
     "output_type": "execute_result"
    }
   ],
   "source": [
    "processed_exam_df_filtered.tail(10)"
   ]
  },
  {
   "cell_type": "markdown",
   "metadata": {},
   "source": [
    "# Data Loading"
   ]
  },
  {
   "cell_type": "markdown",
   "metadata": {},
   "source": [
    "## Saving in csv file\n",
    "\n",
    "The `processed_exam_df_filtered` DataFrame, containing the cleaned and transformed exam data, is saved to a CSV file with the name generatd in the first step in the \"data\" directory. The `index=False` argument ensures that the DataFrame index is not written to the file, resulting in a cleaner output. This CSV file can be used for further analysis or as input for other applications."
   ]
  },
  {
   "cell_type": "code",
   "execution_count": 40,
   "metadata": {},
   "outputs": [],
   "source": [
    "processed_exam_df_filtered.to_csv(save_format, index= False)"
   ]
  },
  {
   "cell_type": "markdown",
   "metadata": {},
   "source": [
    "## Writing into data warehouse\n",
    "\n",
    "This section details the process of loading the cleaned and transformed exam data into an SQLite database, serving as a data warehouse for further analysis and querying.\n",
    "\n",
    "**1. Database Connection and Path:**\n",
    "\n",
    "The path to the SQLite database file is defined, and a connection is established using the `sqlite3` library."
   ]
  },
  {
   "cell_type": "code",
   "execution_count": 41,
   "metadata": {},
   "outputs": [],
   "source": [
    "db_path: str = \"../data/clean/bir_warehouse.db\""
   ]
  },
  {
   "cell_type": "markdown",
   "metadata": {},
   "source": [
    "**2. SQL Queries Definition:**\n",
    "\n",
    "Two SQL queries are defined: one for inserting questions into the questions table and another for inserting options into the questions_options table."
   ]
  },
  {
   "cell_type": "code",
   "execution_count": 42,
   "metadata": {},
   "outputs": [],
   "source": [
    "query_question: str = \"\"\"\n",
    "INSERT INTO questions (exam_year, exam_subject, question) \n",
    "VALUES((SELECT id_year FROM year WHERE year_name = ?),\n",
    "    (SELECT id_type FROM exam WHERE exam_type = ?),\n",
    "    ?);\n",
    "\"\"\"\n",
    "\n",
    "query_options: str = \"\"\"\n",
    "INSERT INTO questions_options (question_id, option_num, option_text, is_correct)\n",
    "VALUES((SELECT id FROM questions WHERE question = ?),\n",
    "    ?,\n",
    "    ?,\n",
    "    ?)\n",
    "\"\"\""
   ]
  },
  {
   "cell_type": "markdown",
   "metadata": {},
   "source": [
    "**3. Database Interaction and Data Insertion:**\n",
    "\n",
    "A with statement is used to establish a connection to the SQLite database, ensuring that the connection is properly closed after use. A cursor is created, and the processed_exam_df DataFrame is iterated over to insert each question and its options"
   ]
  },
  {
   "cell_type": "code",
   "execution_count": 43,
   "metadata": {},
   "outputs": [],
   "source": [
    "with sqlite3.connect(db_path) as bir_warehouse:\n",
    "    cur = bir_warehouse.cursor()\n",
    "    for question in processed_exam_df_filtered.itertuples():\n",
    "        cur.execute(query_question, (str(question[7]), exam_acronym, question[1]))\n",
    "        bir_warehouse.commit()\n",
    "        for n, option in enumerate(question[2:6]):\n",
    "            cur.execute(query_options, (question[1], n+1, option, n+1 == question[6]))\n",
    "            bir_warehouse.commit()"
   ]
  }
 ],
 "metadata": {
  "colab": {
   "provenance": []
  },
  "kernelspec": {
   "display_name": "bir_etl",
   "language": "python",
   "name": "python3"
  },
  "language_info": {
   "codemirror_mode": {
    "name": "ipython",
    "version": 3
   },
   "file_extension": ".py",
   "mimetype": "text/x-python",
   "name": "python",
   "nbconvert_exporter": "python",
   "pygments_lexer": "ipython3",
   "version": "3.12.7"
  }
 },
 "nbformat": 4,
 "nbformat_minor": 4
}
