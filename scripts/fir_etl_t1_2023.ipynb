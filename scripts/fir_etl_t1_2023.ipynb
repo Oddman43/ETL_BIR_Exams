{
 "cells": [
  {
   "cell_type": "markdown",
   "metadata": {
    "editable": true,
    "id": "56vKIohe8Jou",
    "slideshow": {
     "slide_type": ""
    },
    "tags": []
   },
   "source": [
    "# Data Extraction\n",
    "This section details the process of extracting question data from a PDF file and corresponding answer keys from a TSV file."
   ]
  },
  {
   "cell_type": "markdown",
   "metadata": {
    "id": "8kRORmWM8Joy"
   },
   "source": [
    "## Importing libraries"
   ]
  },
  {
   "cell_type": "markdown",
   "metadata": {},
   "source": [
    "* Pandas for data manipulation\n",
    "* NumPy for the NaN datatype\n",
    "* PyPDF for its ability to read the pfd files, although it requieres post-processing of the extracted text\n",
    "* sqlite3 to create load the clean data into `bir_warehouse.db`"
   ]
  },
  {
   "cell_type": "code",
   "execution_count": 1,
   "metadata": {
    "colab": {
     "base_uri": "https://localhost:8080/"
    },
    "id": "y8DpYYll8Joz",
    "outputId": "40cac5b3-1153-431b-f780-201aa62b5813"
   },
   "outputs": [],
   "source": [
    "import pandas as pd\n",
    "import numpy as np\n",
    "from pypdf import PdfReader\n",
    "import sqlite3"
   ]
  },
  {
   "cell_type": "markdown",
   "metadata": {},
   "source": [
    "## Selecting year and type of exam"
   ]
  },
  {
   "cell_type": "markdown",
   "metadata": {},
   "source": [
    "This function, `compute_expected_rows`, takes the exam year and topic as input and returns metadata crucial for subsequent data cleaning and loading steps. This metadata includes the expected maximum number of rows in the final DataFrame, the number of questions per exam, and the acronym for the exam type.  The maximum number of rows is calculated based on the number of questions and options per question for each year, following a specific pattern:\n",
    "\n",
    "*   2024-2021: 210 questions, 4 options each\n",
    "*   2020-2019: 185 questions, 4 options each\n",
    "*   2018-2015: 235 questions, 4 options each\n",
    "*   2014-2012: 235 questions, 5 options each\n",
    "*   2011-2004: 260 questions, 5 options each\n",
    "\n",
    "This information is essential for validating data integrity during the ETL process.  For example, the expected row count helps verify that all questions and options have been correctly extracted and transformed. The exam type acronym aids in consistent file naming and data organization."
   ]
  },
  {
   "cell_type": "code",
   "execution_count": 2,
   "metadata": {},
   "outputs": [],
   "source": [
    "def compute_expected_rows(year: int, topic: str) -> tuple:\n",
    "    \"\"\"Computes and returns metadata about the exam for a given year and topic\n",
    "\n",
    "    Args:\n",
    "        year (int): The year of the exam\n",
    "        topic (str): The topic of the exam\n",
    "\n",
    "    Returns:\n",
    "        tuple: Contains:\n",
    "            - max_rows: The expected maximum number of rows in the DataFrame\n",
    "            - num_options: The number of questions in the exam\n",
    "            - exam_type_acronym: The acronym for the exam type\n",
    "\n",
    "    \"\"\"\n",
    "    info_year_dict: dict = {\n",
    "        2011: [260, 5],\n",
    "        2014: [235, 5],\n",
    "        2018: [235, 4],\n",
    "        2020: [185, 4],\n",
    "        2021: [210, 4],\n",
    "    }\n",
    "    save_name_dict: dict = {\n",
    "        \"BIOLOGÍA\": \"bir\",\n",
    "        \"FARMACIA\": \"fir\",\n",
    "        \"QUÍMICA\": \"qir\",\n",
    "        \"MEDICINA\": \"mir\",\n",
    "    }\n",
    "    max_rows: int = 0\n",
    "    num_options: int = 0\n",
    "    for target_year, info_list in info_year_dict.items():\n",
    "        if year <= target_year:\n",
    "            max_rows = (info_list[0] * info_list[1]) + info_list[0]\n",
    "            num_options = info_list[1]\n",
    "            break\n",
    "    else:\n",
    "        max_rows = 1050\n",
    "        num_options = 4\n",
    "    return max_rows, num_options, save_name_dict[topic]"
   ]
  },
  {
   "cell_type": "markdown",
   "metadata": {},
   "source": [
    "### Add year of the exam and topic "
   ]
  },
  {
   "cell_type": "code",
   "execution_count": 3,
   "metadata": {},
   "outputs": [],
   "source": [
    "year: int = 2023\n",
    "topic: str = \"FARMACIA\" # Select from: BIOLOGÍA, FARMACIA, QUÍMICA, MEDICINA\n",
    "total_num_rows: int\n",
    "num_questions: int\n",
    "exam_acronym: str\n",
    "total_num_rows, num_questions, exam_acronym = compute_expected_rows(year, topic)\n",
    "save_format: str = f\"../data/clean/clean_{exam_acronym}_{year}.csv\""
   ]
  },
  {
   "cell_type": "code",
   "execution_count": 4,
   "metadata": {},
   "outputs": [],
   "source": [
    "add_list: list = [x for x in range(19, 41, 1)] + [x for x in range(48, 82, 1)] + [123, 125] + [x for x in range(127, 150, 2)] + [x for x in range(183, 189, 1)] + [x for x in range(194, 203, 1)] + [x for x in range(205, 211, 1)]"
   ]
  },
  {
   "cell_type": "markdown",
   "metadata": {
    "id": "Z1Kjq5ue8Jo1"
   },
   "source": [
    "## Extracting Questions from Pdf file"
   ]
  },
  {
   "cell_type": "markdown",
   "metadata": {},
   "source": [
    "This section focuses on extracting the textual content of the exam questions from the provided PDF file.\n",
    "\n",
    "**Path Definition:**\n",
    "\n",
    "The path to the PDF file is dynamically constructed using the provided `year` and `topic` variables. This ensures flexibility and allows the script to process different exam files without manual path adjustments.\n",
    "\n",
    "Finally it stores the output in a DataFrame and the first 10 rows of the resulting DataFrame are displayed for a quick preview of the loaded data."
   ]
  },
  {
   "cell_type": "code",
   "execution_count": 5,
   "metadata": {
    "id": "AB4M4yfr8Jo3"
   },
   "outputs": [
    {
     "data": {
      "text/html": [
       "<div>\n",
       "<style scoped>\n",
       "    .dataframe tbody tr th:only-of-type {\n",
       "        vertical-align: middle;\n",
       "    }\n",
       "\n",
       "    .dataframe tbody tr th {\n",
       "        vertical-align: top;\n",
       "    }\n",
       "\n",
       "    .dataframe thead th {\n",
       "        text-align: right;\n",
       "    }\n",
       "</style>\n",
       "<table border=\"1\" class=\"dataframe\">\n",
       "  <thead>\n",
       "    <tr style=\"text-align: right;\">\n",
       "      <th></th>\n",
       "      <th>text</th>\n",
       "    </tr>\n",
       "  </thead>\n",
       "  <tbody>\n",
       "    <tr>\n",
       "      <th>0</th>\n",
       "      <td>1. Teniendo en cuenta la relación estructura-</td>\n",
       "    </tr>\n",
       "    <tr>\n",
       "      <th>1</th>\n",
       "      <td>actividad ge neral de los agentes ne urolépticos</td>\n",
       "    </tr>\n",
       "    <tr>\n",
       "      <th>2</th>\n",
       "      <td>derivados de butirofenona, ¿cuál de las modifi-</td>\n",
       "    </tr>\n",
       "    <tr>\n",
       "      <th>3</th>\n",
       "      <td>caciones pr opuestas c onduciría a compuestos</td>\n",
       "    </tr>\n",
       "    <tr>\n",
       "      <th>4</th>\n",
       "      <td>más activos?:</td>\n",
       "    </tr>\n",
       "    <tr>\n",
       "      <th>5</th>\n",
       "      <td>1. Sustitución del grupo carbonilo B por un</td>\n",
       "    </tr>\n",
       "    <tr>\n",
       "      <th>6</th>\n",
       "      <td>tiocarbonilo.</td>\n",
       "    </tr>\n",
       "    <tr>\n",
       "      <th>7</th>\n",
       "      <td>2. Eliminación del átomo de flúor en el ani-</td>\n",
       "    </tr>\n",
       "    <tr>\n",
       "      <th>8</th>\n",
       "      <td>llo aromático A.</td>\n",
       "    </tr>\n",
       "    <tr>\n",
       "      <th>9</th>\n",
       "      <td>3. Introducción de un an illo d e piperidina,</td>\n",
       "    </tr>\n",
       "  </tbody>\n",
       "</table>\n",
       "</div>"
      ],
      "text/plain": [
       "                                               text\n",
       "0     1. Teniendo en cuenta la relación estructura-\n",
       "1  actividad ge neral de los agentes ne urolépticos\n",
       "2   derivados de butirofenona, ¿cuál de las modifi-\n",
       "3     caciones pr opuestas c onduciría a compuestos\n",
       "4                                     más activos?:\n",
       "5       1. Sustitución del grupo carbonilo B por un\n",
       "6                                     tiocarbonilo.\n",
       "7      2. Eliminación del átomo de flúor en el ani-\n",
       "8                                  llo aromático A.\n",
       "9     3. Introducción de un an illo d e piperidina,"
      ]
     },
     "execution_count": 5,
     "metadata": {},
     "output_type": "execute_result"
    }
   ],
   "source": [
    "path: str = f\"../data/raw/type_1/Raw_Cuaderno_{year}_{topic}_0_C.pdf\"\n",
    "with PdfReader(path) as pdf_file:\n",
    "    full_text: list = []\n",
    "    for n in range(2, len(pdf_file.pages)):\n",
    "        page = pdf_file.pages[n]\n",
    "        text: str = page.extract_text()\n",
    "        full_text.extend(text.splitlines())\n",
    "raw_exam_df: pd.DataFrame = pd.DataFrame(full_text, columns=[\"text\"])\n",
    "raw_exam_df.head(10)"
   ]
  },
  {
   "cell_type": "markdown",
   "metadata": {
    "id": "IBhc5aFQ8Jo6"
   },
   "source": [
    "## Extracting Answers from .tsv file into a DataFrame"
   ]
  },
  {
   "cell_type": "markdown",
   "metadata": {},
   "source": [
    "This section focuses on extracting the answer key data from the provided .tsv file and loading it into a Pandas DataFrame.\n",
    "\n",
    "**Path Definition and Data Loading:**\n",
    "\n",
    "The path to the .tsv file is dynamically constructed using the `year` and `topic` variables, mirroring the approach used for the PDF file. This ensures consistency and flexibility in processing different exam files. \n",
    "\n",
    "The `pd.read_table()` function is then used to read the .tsv file directly into a Pandas DataFrame. Finally, the first 10 rows of the resulting DataFrame are displayed for a quick preview of the loaded data."
   ]
  },
  {
   "cell_type": "code",
   "execution_count": 6,
   "metadata": {
    "colab": {
     "base_uri": "https://localhost:8080/",
     "height": 206
    },
    "id": "O1ouB9mQ8Jo7",
    "outputId": "70b7615d-9c90-4f2d-b9e1-a5c86b507ef6"
   },
   "outputs": [
    {
     "data": {
      "text/html": [
       "<div>\n",
       "<style scoped>\n",
       "    .dataframe tbody tr th:only-of-type {\n",
       "        vertical-align: middle;\n",
       "    }\n",
       "\n",
       "    .dataframe tbody tr th {\n",
       "        vertical-align: top;\n",
       "    }\n",
       "\n",
       "    .dataframe thead th {\n",
       "        text-align: right;\n",
       "    }\n",
       "</style>\n",
       "<table border=\"1\" class=\"dataframe\">\n",
       "  <thead>\n",
       "    <tr style=\"text-align: right;\">\n",
       "      <th></th>\n",
       "      <th>V</th>\n",
       "      <th>RC</th>\n",
       "      <th>V.1</th>\n",
       "      <th>RC.1</th>\n",
       "      <th>V.2</th>\n",
       "      <th>RC.2</th>\n",
       "      <th>V.3</th>\n",
       "      <th>RC.3</th>\n",
       "      <th>V.4</th>\n",
       "      <th>RC.4</th>\n",
       "    </tr>\n",
       "  </thead>\n",
       "  <tbody>\n",
       "    <tr>\n",
       "      <th>0</th>\n",
       "      <td>1</td>\n",
       "      <td>3.0</td>\n",
       "      <td>43</td>\n",
       "      <td>2.0</td>\n",
       "      <td>85</td>\n",
       "      <td>2.0</td>\n",
       "      <td>127</td>\n",
       "      <td>3.0</td>\n",
       "      <td>169</td>\n",
       "      <td>3.0</td>\n",
       "    </tr>\n",
       "    <tr>\n",
       "      <th>1</th>\n",
       "      <td>2</td>\n",
       "      <td>2.0</td>\n",
       "      <td>44</td>\n",
       "      <td>1.0</td>\n",
       "      <td>86</td>\n",
       "      <td>3.0</td>\n",
       "      <td>128</td>\n",
       "      <td>3.0</td>\n",
       "      <td>170</td>\n",
       "      <td>2.0</td>\n",
       "    </tr>\n",
       "    <tr>\n",
       "      <th>2</th>\n",
       "      <td>3</td>\n",
       "      <td>4.0</td>\n",
       "      <td>45</td>\n",
       "      <td>3.0</td>\n",
       "      <td>87</td>\n",
       "      <td>2.0</td>\n",
       "      <td>129</td>\n",
       "      <td>1.0</td>\n",
       "      <td>171</td>\n",
       "      <td>1.0</td>\n",
       "    </tr>\n",
       "    <tr>\n",
       "      <th>3</th>\n",
       "      <td>4</td>\n",
       "      <td>3.0</td>\n",
       "      <td>46</td>\n",
       "      <td>2.0</td>\n",
       "      <td>88</td>\n",
       "      <td>2.0</td>\n",
       "      <td>130</td>\n",
       "      <td>2.0</td>\n",
       "      <td>172</td>\n",
       "      <td>4.0</td>\n",
       "    </tr>\n",
       "    <tr>\n",
       "      <th>4</th>\n",
       "      <td>5</td>\n",
       "      <td>2.0</td>\n",
       "      <td>47</td>\n",
       "      <td>NaN</td>\n",
       "      <td>89</td>\n",
       "      <td>1.0</td>\n",
       "      <td>131</td>\n",
       "      <td>4.0</td>\n",
       "      <td>173</td>\n",
       "      <td>3.0</td>\n",
       "    </tr>\n",
       "    <tr>\n",
       "      <th>5</th>\n",
       "      <td>6</td>\n",
       "      <td>1.0</td>\n",
       "      <td>48</td>\n",
       "      <td>2.0</td>\n",
       "      <td>90</td>\n",
       "      <td>3.0</td>\n",
       "      <td>132</td>\n",
       "      <td>NaN</td>\n",
       "      <td>174</td>\n",
       "      <td>2.0</td>\n",
       "    </tr>\n",
       "    <tr>\n",
       "      <th>6</th>\n",
       "      <td>7</td>\n",
       "      <td>1.0</td>\n",
       "      <td>49</td>\n",
       "      <td>4.0</td>\n",
       "      <td>91</td>\n",
       "      <td>3.0</td>\n",
       "      <td>133</td>\n",
       "      <td>3.0</td>\n",
       "      <td>175</td>\n",
       "      <td>2.0</td>\n",
       "    </tr>\n",
       "    <tr>\n",
       "      <th>7</th>\n",
       "      <td>8</td>\n",
       "      <td>4.0</td>\n",
       "      <td>50</td>\n",
       "      <td>3.0</td>\n",
       "      <td>92</td>\n",
       "      <td>3.0</td>\n",
       "      <td>134</td>\n",
       "      <td>2.0</td>\n",
       "      <td>176</td>\n",
       "      <td>4.0</td>\n",
       "    </tr>\n",
       "    <tr>\n",
       "      <th>8</th>\n",
       "      <td>9</td>\n",
       "      <td>4.0</td>\n",
       "      <td>51</td>\n",
       "      <td>4.0</td>\n",
       "      <td>93</td>\n",
       "      <td>3.0</td>\n",
       "      <td>135</td>\n",
       "      <td>1.0</td>\n",
       "      <td>177</td>\n",
       "      <td>2.0</td>\n",
       "    </tr>\n",
       "    <tr>\n",
       "      <th>9</th>\n",
       "      <td>10</td>\n",
       "      <td>2.0</td>\n",
       "      <td>52</td>\n",
       "      <td>3.0</td>\n",
       "      <td>94</td>\n",
       "      <td>1.0</td>\n",
       "      <td>136</td>\n",
       "      <td>1.0</td>\n",
       "      <td>178</td>\n",
       "      <td>4.0</td>\n",
       "    </tr>\n",
       "  </tbody>\n",
       "</table>\n",
       "</div>"
      ],
      "text/plain": [
       "    V   RC  V.1  RC.1  V.2  RC.2  V.3  RC.3  V.4  RC.4\n",
       "0   1  3.0   43   2.0   85   2.0  127   3.0  169   3.0\n",
       "1   2  2.0   44   1.0   86   3.0  128   3.0  170   2.0\n",
       "2   3  4.0   45   3.0   87   2.0  129   1.0  171   1.0\n",
       "3   4  3.0   46   2.0   88   2.0  130   2.0  172   4.0\n",
       "4   5  2.0   47   NaN   89   1.0  131   4.0  173   3.0\n",
       "5   6  1.0   48   2.0   90   3.0  132   NaN  174   2.0\n",
       "6   7  1.0   49   4.0   91   3.0  133   3.0  175   2.0\n",
       "7   8  4.0   50   3.0   92   3.0  134   2.0  176   4.0\n",
       "8   9  4.0   51   4.0   93   3.0  135   1.0  177   2.0\n",
       "9  10  2.0   52   3.0   94   1.0  136   1.0  178   4.0"
      ]
     },
     "execution_count": 6,
     "metadata": {},
     "output_type": "execute_result"
    }
   ],
   "source": [
    "raw_answers_df: pd.DataFrame = pd.read_table(f\"../data/raw/type_1/Raw_Cuaderno_{year}_{topic}_0_C_Respuestas.tsv\")\n",
    "raw_answers_df.head(10)"
   ]
  },
  {
   "cell_type": "markdown",
   "metadata": {
    "id": "uFFlTADP8Jo7"
   },
   "source": [
    "# Data Transformation"
   ]
  },
  {
   "cell_type": "markdown",
   "metadata": {},
   "source": [
    "## Exam pdf"
   ]
  },
  {
   "cell_type": "markdown",
   "metadata": {},
   "source": [
    "### Removing white space"
   ]
  },
  {
   "cell_type": "markdown",
   "metadata": {
    "id": "2QavIIOK8Jo7"
   },
   "source": [
    "This section focuses on cleaning the raw text extracted from the PDF exam file, preparing it for further processing. This involves removing extraneous whitespace, handling empty lines, and resetting the DataFrame index.\n",
    "\n",
    "**1. Removing Page Number Artifacts:**\n",
    "\n",
    "The extracted text may contain page number artifacts, which are removed by filtering out rows containing the string \"Página\"."
   ]
  },
  {
   "cell_type": "code",
   "execution_count": 7,
   "metadata": {},
   "outputs": [],
   "source": [
    "raw_exam_df = raw_exam_df[~raw_exam_df[\"text\"].str.contains(\"Página\")]\n",
    "raw_exam_df = raw_exam_df[~raw_exam_df[\"text\"].str.contains(\"Pagina\")]\n",
    "raw_exam_df = raw_exam_df[~raw_exam_df[\"text\"].str.contains(topic)]\n",
    "\n",
    "footer_list: list = [f\"- {npag} -\" for npag in range(0,30,1)]\n",
    "\n",
    "for footer in footer_list:\n",
    "    raw_exam_df[\"text\"] = raw_exam_df[\"text\"].str.replace(footer, \"\")"
   ]
  },
  {
   "cell_type": "markdown",
   "metadata": {},
   "source": [
    "**2. Striping Leading/Trailing Whitespaces**\n",
    "\n",
    "Leading and trailing whitespace characters are removed from each text entry using the .str.strip() method."
   ]
  },
  {
   "cell_type": "code",
   "execution_count": 8,
   "metadata": {},
   "outputs": [],
   "source": [
    "raw_exam_df = raw_exam_df[\"text\"].str.strip()"
   ]
  },
  {
   "cell_type": "markdown",
   "metadata": {},
   "source": [
    "**3. Handling Empty Lines**\n",
    "\n",
    "Empty lines, represented as empty strings, are replaced with NaN (Not a Number) values. \n",
    "\n",
    "Then rows containing NaN values, representing empty lines, are removed from the DataFrame using .dropna()"
   ]
  },
  {
   "cell_type": "code",
   "execution_count": 9,
   "metadata": {},
   "outputs": [],
   "source": [
    "raw_exam_df = raw_exam_df.replace(\"\", np.nan)\n",
    "raw_exam_df = raw_exam_df.dropna()"
   ]
  },
  {
   "cell_type": "markdown",
   "metadata": {},
   "source": [
    "**4. Reseting DataFrame Index**\n",
    "\n",
    "The DataFrame index is reset after removing rows, ensuring a contiguous index and dropping the old index."
   ]
  },
  {
   "cell_type": "code",
   "execution_count": 10,
   "metadata": {},
   "outputs": [],
   "source": [
    "raw_exam_df = raw_exam_df.reset_index(drop=True)"
   ]
  },
  {
   "cell_type": "markdown",
   "metadata": {},
   "source": [
    "**5. Displays the first 10 rows of the DataFrame**"
   ]
  },
  {
   "cell_type": "code",
   "execution_count": 11,
   "metadata": {},
   "outputs": [
    {
     "data": {
      "text/plain": [
       "0       1. Teniendo en cuenta la relación estructura-\n",
       "1    actividad ge neral de los agentes ne urolépticos\n",
       "2     derivados de butirofenona, ¿cuál de las modifi-\n",
       "3       caciones pr opuestas c onduciría a compuestos\n",
       "4                                       más activos?:\n",
       "5         1. Sustitución del grupo carbonilo B por un\n",
       "6                                       tiocarbonilo.\n",
       "7        2. Eliminación del átomo de flúor en el ani-\n",
       "8                                    llo aromático A.\n",
       "9       3. Introducción de un an illo d e piperidina,\n",
       "Name: text, dtype: object"
      ]
     },
     "execution_count": 11,
     "metadata": {},
     "output_type": "execute_result"
    }
   ],
   "source": [
    "raw_exam_df.head(10)"
   ]
  },
  {
   "cell_type": "code",
   "execution_count": 12,
   "metadata": {},
   "outputs": [
    {
     "data": {
      "text/plain": [
       "2325                                2. Ceftriaxona.\n",
       "2326                               3. Azitromicina.\n",
       "2327                                4. Doxiciclina.\n",
       "2328           210. El voriconazol tiene actividad:\n",
       "2329    1. Fungiestática frente a hongos filamento-\n",
       "2330                                           sos.\n",
       "2331             2. Fungicida frente a Candida spp.\n",
       "2332    3. Fungicida frente a Cryptococcus neof or-\n",
       "2333                                          mans.\n",
       "2334         4. Fungicida frente a Aspergillus spp.\n",
       "Name: text, dtype: object"
      ]
     },
     "execution_count": 12,
     "metadata": {},
     "output_type": "execute_result"
    }
   ],
   "source": [
    "raw_exam_df.tail(10)"
   ]
  },
  {
   "cell_type": "markdown",
   "metadata": {},
   "source": [
    "### Joining Truncated Lines"
   ]
  },
  {
   "cell_type": "markdown",
   "metadata": {},
   "source": [
    "This section addresses the issue of truncated lines and multi-line questions or options within the extracted exam text. A custom function, `process_multi_line_str`, is used to concatenate these lines, ensuring that each question and option is presented as a single, coherent string.\n",
    "\n",
    "**Function: `process_multi_line_str(df)`**\n",
    "\n",
    "This function iterates through the DataFrame, performing two main tasks:\n",
    "\n",
    "1.  **Joining Truncated Words:**\n",
    "    * It checks if a line ends with a hyphen (\"-\"), indicating a word that has been truncated at the end of a line.\n",
    "    * If a line is truncated, it removes the hyphen and appends the content of the following line to the current line.\n",
    "    * The following line is then removed from the DataFrame, and the index is reset.\n",
    "\n",
    "2.  **Joining Multi-Line Questions/Options:**\n",
    "    * It checks if the first character of the next line can be converted to an integer. This is used as a heuristic to identify the start of a new question or option.\n",
    "    * If the next line does not start with an integer (i.e., it's a continuation of the current question or option), it is appended to the current line, separated by a space.\n",
    "    * The next line is then removed, and the index is reset."
   ]
  },
  {
   "cell_type": "code",
   "execution_count": 13,
   "metadata": {
    "id": "rYZHjn_C8Jo8"
   },
   "outputs": [],
   "source": [
    "def process_multi_line_str(df: pd.DataFrame) -> pd.DataFrame:\n",
    "    \"\"\"Function to handle truncated lines\n",
    "\n",
    "    Args:\n",
    "        df (pd.DataFrame): A pandas dataframe\n",
    "\n",
    "    Returns:\n",
    "        pd.DataFrame: Returns the DataFrame without truncated lines\n",
    "    \"\"\"\n",
    "    i: int = 0\n",
    "    while i < len(df) - 1:\n",
    "        if i < len(df) -1  and df.iloc[i].endswith(\"-\"):\n",
    "            df.iloc[i] = df.iloc[i][:-1] + df.iloc[i + 1]\n",
    "            df = df.drop(i + 1)\n",
    "            df = df.reset_index(drop=True)\n",
    "        else:\n",
    "            i += 1\n",
    "    n: int = 0\n",
    "    while n < len(df) -1:\n",
    "        if n + 1 < len(df):\n",
    "            try:\n",
    "                int(df.iloc[n + 1][0:1])\n",
    "                n += 1\n",
    "            except ValueError:\n",
    "                df.iloc[n] = df.iloc[n] + \" \" + df.iloc[n + 1]\n",
    "                df = df.drop(n +1)\n",
    "                df = df.reset_index(drop= True)\n",
    "        else:\n",
    "            break\n",
    "    return df"
   ]
  },
  {
   "cell_type": "markdown",
   "metadata": {},
   "source": [
    "The process_multi_line_str function is applied to the cleaned raw_exam_df DataFrame, and the resulting DataFrame is stored in exam_df_concat. The first few rows of the concatenated DataFrame are displayed to verify the results."
   ]
  },
  {
   "cell_type": "code",
   "execution_count": 14,
   "metadata": {
    "colab": {
     "base_uri": "https://localhost:8080/",
     "height": 206
    },
    "id": "2v6dmQuM8_v1",
    "outputId": "215f5328-a43d-4bbb-f221-fba6fc10a5c1"
   },
   "outputs": [
    {
     "data": {
      "text/plain": [
       "0    1. Teniendo en cuenta la relación estructuraac...\n",
       "1    1. Sustitución del grupo carbonilo B por un ti...\n",
       "2    2. Eliminación del átomo de flúor en el anillo...\n",
       "3    3. Introducción de un an illo d e piperidina, ...\n",
       "4                      4. Alargamiento de la cadena C.\n",
       "5    2. La siguiente reacción es un proceso de semi...\n",
       "6                                          1. Adenina.\n",
       "7                                          2. Guanina.\n",
       "8                                3. 8-amino-9H-purina.\n",
       "9                            4. 2-amino-9H-purin-8-ol.\n",
       "Name: text, dtype: object"
      ]
     },
     "execution_count": 14,
     "metadata": {},
     "output_type": "execute_result"
    }
   ],
   "source": [
    "exam_df_concat: pd.DataFrame = process_multi_line_str(raw_exam_df)\n",
    "exam_df_concat.head(10)"
   ]
  },
  {
   "cell_type": "markdown",
   "metadata": {},
   "source": [
    "### Validating and Correction Incorrect Rows"
   ]
  },
  {
   "cell_type": "markdown",
   "metadata": {},
   "source": [
    "This section focuses on validating the number of rows in the cleaned DataFrame against the expected number and correcting any rows that do not conform to the expected format.\n",
    "\n",
    "**1. Calculating Expected and Actual Incorrect Rows:**\n",
    "\n",
    "We calculate the expected number of incorrect rows by subtracting the total expected rows from the current number of rows in the DataFrame. We then identify the actual number of incorrect rows by counting the rows that do not end with a period (\".\"), a colon (\":\") or interrogation sign (\"?\")."
   ]
  },
  {
   "cell_type": "code",
   "execution_count": 15,
   "metadata": {},
   "outputs": [
    {
     "name": "stdout",
     "output_type": "stream",
     "text": [
      "Number of expected incorrect rows = 11\n",
      "Number of rows not ending with '.', ':' or '?' = 10\n",
      "[84, 571, 593, 676, 690, 896, 897, 918, 969, 974]\n"
     ]
    }
   ],
   "source": [
    "num_rows_incorrect_expected: int = len(exam_df_concat) - total_num_rows\n",
    "num_rows_incorrect: int = exam_df_concat[~exam_df_concat.str.endswith((\".\", \":\", \"?\"))].count()\n",
    "id_rows_incorrect: list = exam_df_concat[~exam_df_concat.str.endswith((\".\", \":\", \"?\"))].index.to_list()\n",
    "print(f\"Number of expected incorrect rows = {num_rows_incorrect_expected}\")\n",
    "print(f\"Number of rows not ending with '.', ':' or '?' = {num_rows_incorrect}\")\n",
    "print(id_rows_incorrect)"
   ]
  },
  {
   "cell_type": "markdown",
   "metadata": {},
   "source": [
    "**2. Function: print_rows_incorrrect(wrong_id, df):**\n",
    "\n",
    "This function takes a list of incorrect row indices and the DataFrame as input. It then prints the row identified as incorrect along with the 2 rows before and 2 rows after, providing context to help determine how to fix the error."
   ]
  },
  {
   "cell_type": "code",
   "execution_count": 16,
   "metadata": {},
   "outputs": [],
   "source": [
    "def print_rows_incorrrect(wrong_id: list[int], df: pd.DataFrame) -> None:\n",
    "    \"\"\"Print +/- 2 rows for context\n",
    "\n",
    "    Args:\n",
    "        wrong_id (list): Generated list of wrong row_id\n",
    "        df (pd.DataFrame): DataFrame corresponding with the worng_id list\n",
    "    \"\"\"\n",
    "    for wid in wrong_id:\n",
    "        print(f\"Id to fix {wid}:\")\n",
    "        print(df.iloc[wid -2: wid +3])"
   ]
  },
  {
   "cell_type": "markdown",
   "metadata": {},
   "source": [
    "**3. Function: fix_incorrect(num_row, df):**\n",
    "\n",
    "This function takes a list of row indices to fix and the DataFrame. It iterates through the indices in reverse order to avoid index shifting problems. Each incorrect row is concatenated with the row immediately following it, and the subsequent row is then dropped. The DataFrame index is reset after each concatenation."
   ]
  },
  {
   "cell_type": "code",
   "execution_count": 17,
   "metadata": {},
   "outputs": [],
   "source": [
    "def fix_incorrect(num_row: list[int], df: pd.DataFrame) -> pd.DataFrame:\n",
    "    \"\"\"Fix the incorrect rows in the DataFrame\n",
    "\n",
    "    Args:\n",
    "        num_row (list): List of ids to fix\n",
    "        df (pd.DataFrame): The DataFrame to fix\n",
    "\n",
    "    Returns:\n",
    "        pd.DataFrame: Fixed\n",
    "    \"\"\"\n",
    "    num_row: list = sorted(num_row, reverse=True)\n",
    "    for n in num_row:\n",
    "        df.iloc[n] = df.iloc[n] + df.iloc[n + 1]\n",
    "        df = df.drop(n + 1)\n",
    "        df = df.reset_index(drop= True)\n",
    "    return df"
   ]
  },
  {
   "cell_type": "markdown",
   "metadata": {},
   "source": [
    "**4. Validation and Correction Logic:**\n",
    "\n",
    "We compare the expected and actual number of incorrect rows. If they match, we proceed to fix the incorrect rows using the `fix_incorrect` function. Otherwise, we print the context of the incorrect rows and raise a warning, indicating that manual inspection and correction are required."
   ]
  },
  {
   "cell_type": "code",
   "execution_count": 18,
   "metadata": {},
   "outputs": [
    {
     "name": "stdout",
     "output_type": "stream",
     "text": [
      "Id to fix 84:\n",
      "82            2. Sustitución del carbono 2 por oxígeno.\n",
      "83                       3. Aromatización del anillo A.\n",
      "84        4. Introducción de u n metilo en la p osición\n",
      "85                                                 16α.\n",
      "86    18. ¿Cuál de las siguientes estrategias aument...\n",
      "Name: text, dtype: object\n",
      "Id to fix 571:\n",
      "569    2. Vancomicina - área bajo la curva (AUC)/CMI ...\n",
      "570    3. Ceftazidima/avibactam - c oncentración pico...\n",
      "571           4. Fosfomicina - concentración valle entre\n",
      "572           20-40 mcg/mL para determinar su seguridad.\n",
      "573    115. AM va a i niciar t ratamiento con c apeci...\n",
      "Name: text, dtype: object\n",
      "Id to fix 593:\n",
      "591                                      3. Endocitosis.\n",
      "592                                   4. Pares de iones.\n",
      "593    119. Se admi nistra un antibiótico medi ante i...\n",
      "594    25% del peso corporal. L a Css (c oncentración...\n",
      "595                                           1. 250 mg.\n",
      "Name: text, dtype: object\n",
      "Id to fix 676:\n",
      "674    135. El proces o de cor te y empalme ( splicin...\n",
      "675    1. Post-transcripcional de mad uración del ARN...\n",
      "676    2. Que tien e lugar en lo s ex tremos 5' de la...\n",
      "677                                                  3'.\n",
      "678    3. En el que los exones del transcrito primari...\n",
      "Name: text, dtype: object\n",
      "Id to fix 690:\n",
      "688    3. Corrección de errores cometidos en la repli...\n",
      "689    4. Reparación d e la r otura física d el ADN q...\n",
      "690    138. ¿Cuál de las siguientes enzimas NO está i...\n",
      "691    5’ del ARN mensajero eucariótico que ocurre po...\n",
      "692                                        1. Fosfatasa.\n",
      "Name: text, dtype: object\n",
      "Id to fix 896:\n",
      "894                            3. Un derivado de pirrol.\n",
      "895                    4. Un derivado de fenilhidrazina.\n",
      "896    179. En la técnica de datación con carbono rad...\n",
      "897                        𝟏𝟒  se desintegra para dar 𝐍𝟕\n",
      "898                        𝟏𝟒 , emitiendo una partícula:\n",
      "Name: text, dtype: object\n",
      "Id to fix 897:\n",
      "895                    4. Un derivado de fenilhidrazina.\n",
      "896    179. En la técnica de datación con carbono rad...\n",
      "897                        𝟏𝟒  se desintegra para dar 𝐍𝟕\n",
      "898                        𝟏𝟒 , emitiendo una partícula:\n",
      "899                                    1. Beta negativa.\n",
      "Name: text, dtype: object\n",
      "Id to fix 918:\n",
      "916                                              3. HCN.\n",
      "917                                               4. NO.\n",
      "918    183. ¿Cuál es el rango intercuartílico corresp...\n",
      "919                                       9, 9, 9 y 16?:\n",
      "920                                                1. 1.\n",
      "Name: text, dtype: object\n",
      "Id to fix 969:\n",
      "967                                          3. 10 años.\n",
      "968                                       4. Indefinido.\n",
      "969    193. ¿Para cuál d e las si guientes su stancia...\n",
      "970    1961, se rea lizará en la correspondiente rece...\n",
      "971                   1. Petidina, ampollas de 50 mg/mL.\n",
      "Name: text, dtype: object\n",
      "Id to fix 974:\n",
      "972                  2. Oxicodona, comprimidos de 40 mg.\n",
      "973                  3. Codeína, comprimidos de 28,7 mg.\n",
      "974          4. Fentanilo, comprimido s sublinguales d e\n",
      "975                                             600 mcg.\n",
      "976    194. ¿Cuál de las siguientes afirmaciones en r...\n",
      "Name: text, dtype: object\n"
     ]
    }
   ],
   "source": [
    "if num_rows_incorrect_expected == num_rows_incorrect:\n",
    "    exam_df_fixed = fix_incorrect(id_rows_incorrect, exam_df_concat)\n",
    "    df_correct_rows: bool = len(exam_df_fixed) == num_rows_incorrect_expected\n",
    "else:\n",
    "    print_rows_incorrrect(id_rows_incorrect, exam_df_concat)\n",
    "    # raise Warning(\"More incorrect rows that expected, uncomment the lines below and add ids to the list, and comment this line\")\n",
    "    rows_fix: list[int] = [84, 335, 571, 593, 676, 690, 896, 897, 918, 969, 974]\n",
    "    exam_df_fixed: pd.DataFrame = fix_incorrect(rows_fix, exam_df_concat)"
   ]
  },
  {
   "cell_type": "markdown",
   "metadata": {},
   "source": [
    "**5. Verification of Corrected Rows:**\n",
    "\n",
    "We print the expected total number of rows and the actual number of rows in the corrected DataFrame to verify the results of the correction process."
   ]
  },
  {
   "cell_type": "code",
   "execution_count": 19,
   "metadata": {},
   "outputs": [
    {
     "name": "stdout",
     "output_type": "stream",
     "text": [
      "Correct number of rows = 1050\n",
      "1050\n"
     ]
    }
   ],
   "source": [
    "print(f\"Correct number of rows = {total_num_rows}\")\n",
    "print(exam_df_fixed.shape[0])"
   ]
  },
  {
   "cell_type": "markdown",
   "metadata": {},
   "source": [
    "### Pivoting the DataFrame\n",
    "\n",
    "This section focuses on transforming the cleaned exam data into a structured format suitable for analysis. The DataFrame is pivoted to create columns for each question and its corresponding options.\n",
    "\n",
    "**1. Preparing the DataFrame for Pivoting:**\n",
    "\n",
    "The `exam_df_fixed` Series is converted to a DataFrame, and a 'group' column is created to identify each question and its options. An 'option_num' column is then generated to enumerate the options within each group.\n"
   ]
  },
  {
   "cell_type": "code",
   "execution_count": 20,
   "metadata": {},
   "outputs": [],
   "source": [
    "exam_df_fixed = exam_df_fixed.to_frame()\n",
    "groups: pd.Series = pd.Series((exam_df_fixed.index // (num_questions+1)) +1)\n",
    "exam_df_fixed[\"group\"] = groups  \n",
    "exam_df_fixed[\"option_num\"] = exam_df_fixed.groupby(\"group\").cumcount() + 1"
   ]
  },
  {
   "cell_type": "markdown",
   "metadata": {},
   "source": [
    "**2. Pivoting the DataFrame:**\n",
    "\n",
    "The DataFrame is pivoted using the 'group' column as the index, the 'option_num' column as the columns, and the 'text' column as the values. The index is then reset."
   ]
  },
  {
   "cell_type": "code",
   "execution_count": 21,
   "metadata": {},
   "outputs": [],
   "source": [
    "exam_df_pivot: pd.DataFrame = exam_df_fixed.pivot(index=\"group\", columns=\"option_num\", values=\"text\")\n",
    "exam_df_pivot = exam_df_pivot.reset_index()"
   ]
  },
  {
   "cell_type": "markdown",
   "metadata": {},
   "source": [
    "**3. Renaming Columns:**\n",
    "\n",
    "The columns are renamed to more descriptive names, such as \"Question\", \"Option_1\", \"Option_2\", etc."
   ]
  },
  {
   "cell_type": "code",
   "execution_count": 22,
   "metadata": {},
   "outputs": [],
   "source": [
    "key_list: list = [x for x in range(1, num_questions+2, 1)]\n",
    "val_list: list = [\"Question\"] + [f\"Option_{x}\" for x in range(1, 4 + 1, 1)]\n",
    "\n",
    "exam_df_pivot = exam_df_pivot.rename_axis(None, axis=1).rename(columns=dict(zip(key_list, val_list)))"
   ]
  },
  {
   "cell_type": "markdown",
   "metadata": {},
   "source": [
    "**4. Dropping the 'group' Column:**\n",
    "\n",
    "The 'group' column is dropped as it is no longer needed"
   ]
  },
  {
   "cell_type": "code",
   "execution_count": 23,
   "metadata": {},
   "outputs": [],
   "source": [
    "exam_df_pivot = exam_df_pivot.drop(columns=[\"group\"])"
   ]
  },
  {
   "cell_type": "markdown",
   "metadata": {},
   "source": [
    "**5. Displaying the Pivoted DataFrame:**\n",
    "\n",
    "The first 10 rows of the pivoted DataFrame are displayed to verify the results of the transformation."
   ]
  },
  {
   "cell_type": "code",
   "execution_count": 24,
   "metadata": {},
   "outputs": [
    {
     "data": {
      "text/html": [
       "<div>\n",
       "<style scoped>\n",
       "    .dataframe tbody tr th:only-of-type {\n",
       "        vertical-align: middle;\n",
       "    }\n",
       "\n",
       "    .dataframe tbody tr th {\n",
       "        vertical-align: top;\n",
       "    }\n",
       "\n",
       "    .dataframe thead th {\n",
       "        text-align: right;\n",
       "    }\n",
       "</style>\n",
       "<table border=\"1\" class=\"dataframe\">\n",
       "  <thead>\n",
       "    <tr style=\"text-align: right;\">\n",
       "      <th></th>\n",
       "      <th>Question</th>\n",
       "      <th>Option_1</th>\n",
       "      <th>Option_2</th>\n",
       "      <th>Option_3</th>\n",
       "      <th>Option_4</th>\n",
       "    </tr>\n",
       "  </thead>\n",
       "  <tbody>\n",
       "    <tr>\n",
       "      <th>0</th>\n",
       "      <td>1. Teniendo en cuenta la relación estructuraac...</td>\n",
       "      <td>1. Sustitución del grupo carbonilo B por un ti...</td>\n",
       "      <td>2. Eliminación del átomo de flúor en el anillo...</td>\n",
       "      <td>3. Introducción de un an illo d e piperidina, ...</td>\n",
       "      <td>4. Alargamiento de la cadena C.</td>\n",
       "    </tr>\n",
       "    <tr>\n",
       "      <th>1</th>\n",
       "      <td>2. La siguiente reacción es un proceso de semi...</td>\n",
       "      <td>1. Adenina.</td>\n",
       "      <td>2. Guanina.</td>\n",
       "      <td>3. 8-amino-9H-purina.</td>\n",
       "      <td>4. 2-amino-9H-purin-8-ol.</td>\n",
       "    </tr>\n",
       "    <tr>\n",
       "      <th>2</th>\n",
       "      <td>3. ¿Qué representa el símbolo 𝝅 (pi) en una ec...</td>\n",
       "      <td>1. El co eficiente d e partición octanol/agua ...</td>\n",
       "      <td>2. Los efectos electrónicos de un sustituyente.</td>\n",
       "      <td>3. Los efectos estéricos de un sustituyente.</td>\n",
       "      <td>4. La constante de hidrofobicidad de un sustit...</td>\n",
       "    </tr>\n",
       "    <tr>\n",
       "      <th>3</th>\n",
       "      <td>4. Un compuesto inactivo que necesita ser acti...</td>\n",
       "      <td>1. Fármaco huérfano.</td>\n",
       "      <td>2. Fármaco bioequivalente.</td>\n",
       "      <td>3. Profármaco.</td>\n",
       "      <td>4. Antimetabolito.</td>\n",
       "    </tr>\n",
       "    <tr>\n",
       "      <th>4</th>\n",
       "      <td>5. ¿Cuál de l os siguientes grupos funcionales...</td>\n",
       "      <td>1. Grupo nitrilo.</td>\n",
       "      <td>2. Tetrazol.</td>\n",
       "      <td>3. Tiofeno.</td>\n",
       "      <td>4. Fenol.</td>\n",
       "    </tr>\n",
       "    <tr>\n",
       "      <th>5</th>\n",
       "      <td>6. ¿Qué efec to tiene en l a actividad de  l a...</td>\n",
       "      <td>1. Conduce a compuestos que se  el iminan más ...</td>\n",
       "      <td>2. Conduce a compuestos de vida media más larga.</td>\n",
       "      <td>3. Conduce a c ompuestos ant agonistas del GABA.</td>\n",
       "      <td>4. Conduce a  c ompuestos sin actividad a nsio...</td>\n",
       "    </tr>\n",
       "    <tr>\n",
       "      <th>6</th>\n",
       "      <td>7. La conjugación con aminoácidos es  un a re ...</td>\n",
       "      <td>1. Ácidos carboxílicos activados como tioésteres.</td>\n",
       "      <td>2. Aminas primarias aromáticas.</td>\n",
       "      <td>3. Fenoles.</td>\n",
       "      <td>4. Hidroxilaminas ar omáticas, procedentes de ...</td>\n",
       "    </tr>\n",
       "    <tr>\n",
       "      <th>7</th>\n",
       "      <td>8. La hidrólisis de la amida en la po sición 7...</td>\n",
       "      <td>1. Enamina.</td>\n",
       "      <td>2. Cloruro de ácido.</td>\n",
       "      <td>3. Hemiacetal.</td>\n",
       "      <td>4. Iminoéter.</td>\n",
       "    </tr>\n",
       "    <tr>\n",
       "      <th>8</th>\n",
       "      <td>9. La siguiente estruc tura corresponde al ant...</td>\n",
       "      <td>1. Apertura del anillo de aziridina.</td>\n",
       "      <td>2. Hidrólisis del carbamato.</td>\n",
       "      <td>3. Formación de una enamina por pérdida de met...</td>\n",
       "      <td>4. Reducción del anillo de quinona.</td>\n",
       "    </tr>\n",
       "    <tr>\n",
       "      <th>9</th>\n",
       "      <td>10. ¿Qué relación tiene el sigui ente c ompues...</td>\n",
       "      <td>1. Es un análogo que establece interacciones a...</td>\n",
       "      <td>2. Es un profármaco más lipófilo para su uso e...</td>\n",
       "      <td>3. Es un anál ogo blando que s e metaboliza po...</td>\n",
       "      <td>4. Es un anál ogo de  acción c orta porque  la...</td>\n",
       "    </tr>\n",
       "  </tbody>\n",
       "</table>\n",
       "</div>"
      ],
      "text/plain": [
       "                                            Question  \\\n",
       "0  1. Teniendo en cuenta la relación estructuraac...   \n",
       "1  2. La siguiente reacción es un proceso de semi...   \n",
       "2  3. ¿Qué representa el símbolo 𝝅 (pi) en una ec...   \n",
       "3  4. Un compuesto inactivo que necesita ser acti...   \n",
       "4  5. ¿Cuál de l os siguientes grupos funcionales...   \n",
       "5  6. ¿Qué efec to tiene en l a actividad de  l a...   \n",
       "6  7. La conjugación con aminoácidos es  un a re ...   \n",
       "7  8. La hidrólisis de la amida en la po sición 7...   \n",
       "8  9. La siguiente estruc tura corresponde al ant...   \n",
       "9  10. ¿Qué relación tiene el sigui ente c ompues...   \n",
       "\n",
       "                                            Option_1  \\\n",
       "0  1. Sustitución del grupo carbonilo B por un ti...   \n",
       "1                                        1. Adenina.   \n",
       "2  1. El co eficiente d e partición octanol/agua ...   \n",
       "3                               1. Fármaco huérfano.   \n",
       "4                                  1. Grupo nitrilo.   \n",
       "5  1. Conduce a compuestos que se  el iminan más ...   \n",
       "6  1. Ácidos carboxílicos activados como tioésteres.   \n",
       "7                                        1. Enamina.   \n",
       "8               1. Apertura del anillo de aziridina.   \n",
       "9  1. Es un análogo que establece interacciones a...   \n",
       "\n",
       "                                            Option_2  \\\n",
       "0  2. Eliminación del átomo de flúor en el anillo...   \n",
       "1                                        2. Guanina.   \n",
       "2    2. Los efectos electrónicos de un sustituyente.   \n",
       "3                         2. Fármaco bioequivalente.   \n",
       "4                                       2. Tetrazol.   \n",
       "5   2. Conduce a compuestos de vida media más larga.   \n",
       "6                    2. Aminas primarias aromáticas.   \n",
       "7                               2. Cloruro de ácido.   \n",
       "8                       2. Hidrólisis del carbamato.   \n",
       "9  2. Es un profármaco más lipófilo para su uso e...   \n",
       "\n",
       "                                            Option_3  \\\n",
       "0  3. Introducción de un an illo d e piperidina, ...   \n",
       "1                              3. 8-amino-9H-purina.   \n",
       "2       3. Los efectos estéricos de un sustituyente.   \n",
       "3                                     3. Profármaco.   \n",
       "4                                        3. Tiofeno.   \n",
       "5   3. Conduce a c ompuestos ant agonistas del GABA.   \n",
       "6                                        3. Fenoles.   \n",
       "7                                     3. Hemiacetal.   \n",
       "8  3. Formación de una enamina por pérdida de met...   \n",
       "9  3. Es un anál ogo blando que s e metaboliza po...   \n",
       "\n",
       "                                            Option_4  \n",
       "0                    4. Alargamiento de la cadena C.  \n",
       "1                          4. 2-amino-9H-purin-8-ol.  \n",
       "2  4. La constante de hidrofobicidad de un sustit...  \n",
       "3                                 4. Antimetabolito.  \n",
       "4                                          4. Fenol.  \n",
       "5  4. Conduce a  c ompuestos sin actividad a nsio...  \n",
       "6  4. Hidroxilaminas ar omáticas, procedentes de ...  \n",
       "7                                      4. Iminoéter.  \n",
       "8                4. Reducción del anillo de quinona.  \n",
       "9  4. Es un anál ogo de  acción c orta porque  la...  "
      ]
     },
     "execution_count": 24,
     "metadata": {},
     "output_type": "execute_result"
    }
   ],
   "source": [
    "exam_df_pivot.head(10)"
   ]
  },
  {
   "cell_type": "markdown",
   "metadata": {},
   "source": [
    "## Answers tsv\n",
    "\n",
    "This section focuses on cleaning and consolidating the answer key data from the TSV file. The original data contains duplicate columns, which are processed and combined into a single, clean DataFrame.\n",
    "\n",
    "**1. Defining Column Lists:**\n",
    "\n",
    "We define lists containing the original column names and the duplicate column names."
   ]
  },
  {
   "cell_type": "code",
   "execution_count": 25,
   "metadata": {},
   "outputs": [],
   "source": [
    "original_col: list[str] = [\"V\", \"RC\"]\n",
    "duplicate_cols: list[str] = [\"V.1\", \"RC.1\", \"V.2\", \"RC.2\", \"V.3\", \"RC.3\", \"V.4\", \"RC.4\"]"
   ]
  },
  {
   "cell_type": "markdown",
   "metadata": {},
   "source": [
    "**2. Processing Duplicate Columns:**\n",
    "\n",
    "We iterate through the duplicate_cols list in pairs, extracting the corresponding columns, renaming them to the original column names, and appending them to a list of DataFrames."
   ]
  },
  {
   "cell_type": "code",
   "execution_count": 26,
   "metadata": {},
   "outputs": [],
   "source": [
    "answers_df_list: list[pd.DataFrame] = [raw_answers_df[original_col]]\n",
    "\n",
    "for i in range(0, len(duplicate_cols), 2):\n",
    "    pair_cols: list = duplicate_cols[i:i+2]\n",
    "    df_pair_col: pd.DataFrame = raw_answers_df[pair_cols].rename(columns={pair_cols[0]: \"V\", pair_cols[1]: \"RC\"})\n",
    "    answers_df_list.append(df_pair_col)"
   ]
  },
  {
   "cell_type": "markdown",
   "metadata": {},
   "source": [
    "**3. Concatenating DataFrames:**\n",
    "\n",
    "The list of DataFrames is concatenated into a single DataFrame, ignoring the original index."
   ]
  },
  {
   "cell_type": "code",
   "execution_count": 27,
   "metadata": {},
   "outputs": [],
   "source": [
    "answers_df_clean: pd.DataFrame = pd.concat(answers_df_list, ignore_index=True)"
   ]
  },
  {
   "cell_type": "markdown",
   "metadata": {},
   "source": [
    "**4. Displaying the Cleaned DataFrame:**\n",
    "\n",
    "The cleaned DataFrame is printed to verify the results of the consolidation process."
   ]
  },
  {
   "cell_type": "code",
   "execution_count": 28,
   "metadata": {},
   "outputs": [
    {
     "data": {
      "text/html": [
       "<div>\n",
       "<style scoped>\n",
       "    .dataframe tbody tr th:only-of-type {\n",
       "        vertical-align: middle;\n",
       "    }\n",
       "\n",
       "    .dataframe tbody tr th {\n",
       "        vertical-align: top;\n",
       "    }\n",
       "\n",
       "    .dataframe thead th {\n",
       "        text-align: right;\n",
       "    }\n",
       "</style>\n",
       "<table border=\"1\" class=\"dataframe\">\n",
       "  <thead>\n",
       "    <tr style=\"text-align: right;\">\n",
       "      <th></th>\n",
       "      <th>V</th>\n",
       "      <th>RC</th>\n",
       "    </tr>\n",
       "  </thead>\n",
       "  <tbody>\n",
       "    <tr>\n",
       "      <th>0</th>\n",
       "      <td>1</td>\n",
       "      <td>3.0</td>\n",
       "    </tr>\n",
       "    <tr>\n",
       "      <th>1</th>\n",
       "      <td>2</td>\n",
       "      <td>2.0</td>\n",
       "    </tr>\n",
       "    <tr>\n",
       "      <th>2</th>\n",
       "      <td>3</td>\n",
       "      <td>4.0</td>\n",
       "    </tr>\n",
       "    <tr>\n",
       "      <th>3</th>\n",
       "      <td>4</td>\n",
       "      <td>3.0</td>\n",
       "    </tr>\n",
       "    <tr>\n",
       "      <th>4</th>\n",
       "      <td>5</td>\n",
       "      <td>2.0</td>\n",
       "    </tr>\n",
       "    <tr>\n",
       "      <th>5</th>\n",
       "      <td>6</td>\n",
       "      <td>1.0</td>\n",
       "    </tr>\n",
       "    <tr>\n",
       "      <th>6</th>\n",
       "      <td>7</td>\n",
       "      <td>1.0</td>\n",
       "    </tr>\n",
       "    <tr>\n",
       "      <th>7</th>\n",
       "      <td>8</td>\n",
       "      <td>4.0</td>\n",
       "    </tr>\n",
       "    <tr>\n",
       "      <th>8</th>\n",
       "      <td>9</td>\n",
       "      <td>4.0</td>\n",
       "    </tr>\n",
       "    <tr>\n",
       "      <th>9</th>\n",
       "      <td>10</td>\n",
       "      <td>2.0</td>\n",
       "    </tr>\n",
       "  </tbody>\n",
       "</table>\n",
       "</div>"
      ],
      "text/plain": [
       "    V   RC\n",
       "0   1  3.0\n",
       "1   2  2.0\n",
       "2   3  4.0\n",
       "3   4  3.0\n",
       "4   5  2.0\n",
       "5   6  1.0\n",
       "6   7  1.0\n",
       "7   8  4.0\n",
       "8   9  4.0\n",
       "9  10  2.0"
      ]
     },
     "execution_count": 28,
     "metadata": {},
     "output_type": "execute_result"
    }
   ],
   "source": [
    "answers_df_clean.head(10)"
   ]
  },
  {
   "cell_type": "markdown",
   "metadata": {},
   "source": [
    "## Joining the DataFrames\n",
    "\n",
    "This section focuses on merging the processed exam questions DataFrame with the cleaned answers DataFrame, performing final data cleaning, and verifying the integrity of the joined data.\n",
    "\n",
    "**1. Joining the DataFrames:**\n",
    "\n",
    "The pivoted exam questions DataFrame (`exam_df_pivot`) and the cleaned answers DataFrame (`answers_df_clean`) are joined horizontally using `pd.concat`. The 'V0' column, which represents the question number from the answers DataFrame, is then dropped. The first 10 rows of the joined DataFrame are displayed."
   ]
  },
  {
   "cell_type": "code",
   "execution_count": 29,
   "metadata": {},
   "outputs": [
    {
     "data": {
      "text/html": [
       "<div>\n",
       "<style scoped>\n",
       "    .dataframe tbody tr th:only-of-type {\n",
       "        vertical-align: middle;\n",
       "    }\n",
       "\n",
       "    .dataframe tbody tr th {\n",
       "        vertical-align: top;\n",
       "    }\n",
       "\n",
       "    .dataframe thead th {\n",
       "        text-align: right;\n",
       "    }\n",
       "</style>\n",
       "<table border=\"1\" class=\"dataframe\">\n",
       "  <thead>\n",
       "    <tr style=\"text-align: right;\">\n",
       "      <th></th>\n",
       "      <th>Question</th>\n",
       "      <th>Option_1</th>\n",
       "      <th>Option_2</th>\n",
       "      <th>Option_3</th>\n",
       "      <th>Option_4</th>\n",
       "      <th>RC</th>\n",
       "    </tr>\n",
       "  </thead>\n",
       "  <tbody>\n",
       "    <tr>\n",
       "      <th>0</th>\n",
       "      <td>1. Teniendo en cuenta la relación estructuraac...</td>\n",
       "      <td>1. Sustitución del grupo carbonilo B por un ti...</td>\n",
       "      <td>2. Eliminación del átomo de flúor en el anillo...</td>\n",
       "      <td>3. Introducción de un an illo d e piperidina, ...</td>\n",
       "      <td>4. Alargamiento de la cadena C.</td>\n",
       "      <td>3.0</td>\n",
       "    </tr>\n",
       "    <tr>\n",
       "      <th>1</th>\n",
       "      <td>2. La siguiente reacción es un proceso de semi...</td>\n",
       "      <td>1. Adenina.</td>\n",
       "      <td>2. Guanina.</td>\n",
       "      <td>3. 8-amino-9H-purina.</td>\n",
       "      <td>4. 2-amino-9H-purin-8-ol.</td>\n",
       "      <td>2.0</td>\n",
       "    </tr>\n",
       "    <tr>\n",
       "      <th>2</th>\n",
       "      <td>3. ¿Qué representa el símbolo 𝝅 (pi) en una ec...</td>\n",
       "      <td>1. El co eficiente d e partición octanol/agua ...</td>\n",
       "      <td>2. Los efectos electrónicos de un sustituyente.</td>\n",
       "      <td>3. Los efectos estéricos de un sustituyente.</td>\n",
       "      <td>4. La constante de hidrofobicidad de un sustit...</td>\n",
       "      <td>4.0</td>\n",
       "    </tr>\n",
       "    <tr>\n",
       "      <th>3</th>\n",
       "      <td>4. Un compuesto inactivo que necesita ser acti...</td>\n",
       "      <td>1. Fármaco huérfano.</td>\n",
       "      <td>2. Fármaco bioequivalente.</td>\n",
       "      <td>3. Profármaco.</td>\n",
       "      <td>4. Antimetabolito.</td>\n",
       "      <td>3.0</td>\n",
       "    </tr>\n",
       "    <tr>\n",
       "      <th>4</th>\n",
       "      <td>5. ¿Cuál de l os siguientes grupos funcionales...</td>\n",
       "      <td>1. Grupo nitrilo.</td>\n",
       "      <td>2. Tetrazol.</td>\n",
       "      <td>3. Tiofeno.</td>\n",
       "      <td>4. Fenol.</td>\n",
       "      <td>2.0</td>\n",
       "    </tr>\n",
       "    <tr>\n",
       "      <th>5</th>\n",
       "      <td>6. ¿Qué efec to tiene en l a actividad de  l a...</td>\n",
       "      <td>1. Conduce a compuestos que se  el iminan más ...</td>\n",
       "      <td>2. Conduce a compuestos de vida media más larga.</td>\n",
       "      <td>3. Conduce a c ompuestos ant agonistas del GABA.</td>\n",
       "      <td>4. Conduce a  c ompuestos sin actividad a nsio...</td>\n",
       "      <td>1.0</td>\n",
       "    </tr>\n",
       "    <tr>\n",
       "      <th>6</th>\n",
       "      <td>7. La conjugación con aminoácidos es  un a re ...</td>\n",
       "      <td>1. Ácidos carboxílicos activados como tioésteres.</td>\n",
       "      <td>2. Aminas primarias aromáticas.</td>\n",
       "      <td>3. Fenoles.</td>\n",
       "      <td>4. Hidroxilaminas ar omáticas, procedentes de ...</td>\n",
       "      <td>1.0</td>\n",
       "    </tr>\n",
       "    <tr>\n",
       "      <th>7</th>\n",
       "      <td>8. La hidrólisis de la amida en la po sición 7...</td>\n",
       "      <td>1. Enamina.</td>\n",
       "      <td>2. Cloruro de ácido.</td>\n",
       "      <td>3. Hemiacetal.</td>\n",
       "      <td>4. Iminoéter.</td>\n",
       "      <td>4.0</td>\n",
       "    </tr>\n",
       "    <tr>\n",
       "      <th>8</th>\n",
       "      <td>9. La siguiente estruc tura corresponde al ant...</td>\n",
       "      <td>1. Apertura del anillo de aziridina.</td>\n",
       "      <td>2. Hidrólisis del carbamato.</td>\n",
       "      <td>3. Formación de una enamina por pérdida de met...</td>\n",
       "      <td>4. Reducción del anillo de quinona.</td>\n",
       "      <td>4.0</td>\n",
       "    </tr>\n",
       "    <tr>\n",
       "      <th>9</th>\n",
       "      <td>10. ¿Qué relación tiene el sigui ente c ompues...</td>\n",
       "      <td>1. Es un análogo que establece interacciones a...</td>\n",
       "      <td>2. Es un profármaco más lipófilo para su uso e...</td>\n",
       "      <td>3. Es un anál ogo blando que s e metaboliza po...</td>\n",
       "      <td>4. Es un anál ogo de  acción c orta porque  la...</td>\n",
       "      <td>2.0</td>\n",
       "    </tr>\n",
       "  </tbody>\n",
       "</table>\n",
       "</div>"
      ],
      "text/plain": [
       "                                            Question  \\\n",
       "0  1. Teniendo en cuenta la relación estructuraac...   \n",
       "1  2. La siguiente reacción es un proceso de semi...   \n",
       "2  3. ¿Qué representa el símbolo 𝝅 (pi) en una ec...   \n",
       "3  4. Un compuesto inactivo que necesita ser acti...   \n",
       "4  5. ¿Cuál de l os siguientes grupos funcionales...   \n",
       "5  6. ¿Qué efec to tiene en l a actividad de  l a...   \n",
       "6  7. La conjugación con aminoácidos es  un a re ...   \n",
       "7  8. La hidrólisis de la amida en la po sición 7...   \n",
       "8  9. La siguiente estruc tura corresponde al ant...   \n",
       "9  10. ¿Qué relación tiene el sigui ente c ompues...   \n",
       "\n",
       "                                            Option_1  \\\n",
       "0  1. Sustitución del grupo carbonilo B por un ti...   \n",
       "1                                        1. Adenina.   \n",
       "2  1. El co eficiente d e partición octanol/agua ...   \n",
       "3                               1. Fármaco huérfano.   \n",
       "4                                  1. Grupo nitrilo.   \n",
       "5  1. Conduce a compuestos que se  el iminan más ...   \n",
       "6  1. Ácidos carboxílicos activados como tioésteres.   \n",
       "7                                        1. Enamina.   \n",
       "8               1. Apertura del anillo de aziridina.   \n",
       "9  1. Es un análogo que establece interacciones a...   \n",
       "\n",
       "                                            Option_2  \\\n",
       "0  2. Eliminación del átomo de flúor en el anillo...   \n",
       "1                                        2. Guanina.   \n",
       "2    2. Los efectos electrónicos de un sustituyente.   \n",
       "3                         2. Fármaco bioequivalente.   \n",
       "4                                       2. Tetrazol.   \n",
       "5   2. Conduce a compuestos de vida media más larga.   \n",
       "6                    2. Aminas primarias aromáticas.   \n",
       "7                               2. Cloruro de ácido.   \n",
       "8                       2. Hidrólisis del carbamato.   \n",
       "9  2. Es un profármaco más lipófilo para su uso e...   \n",
       "\n",
       "                                            Option_3  \\\n",
       "0  3. Introducción de un an illo d e piperidina, ...   \n",
       "1                              3. 8-amino-9H-purina.   \n",
       "2       3. Los efectos estéricos de un sustituyente.   \n",
       "3                                     3. Profármaco.   \n",
       "4                                        3. Tiofeno.   \n",
       "5   3. Conduce a c ompuestos ant agonistas del GABA.   \n",
       "6                                        3. Fenoles.   \n",
       "7                                     3. Hemiacetal.   \n",
       "8  3. Formación de una enamina por pérdida de met...   \n",
       "9  3. Es un anál ogo blando que s e metaboliza po...   \n",
       "\n",
       "                                            Option_4   RC  \n",
       "0                    4. Alargamiento de la cadena C.  3.0  \n",
       "1                          4. 2-amino-9H-purin-8-ol.  2.0  \n",
       "2  4. La constante de hidrofobicidad de un sustit...  4.0  \n",
       "3                                 4. Antimetabolito.  3.0  \n",
       "4                                          4. Fenol.  2.0  \n",
       "5  4. Conduce a  c ompuestos sin actividad a nsio...  1.0  \n",
       "6  4. Hidroxilaminas ar omáticas, procedentes de ...  1.0  \n",
       "7                                      4. Iminoéter.  4.0  \n",
       "8                4. Reducción del anillo de quinona.  4.0  \n",
       "9  4. Es un anál ogo de  acción c orta porque  la...  2.0  "
      ]
     },
     "execution_count": 29,
     "metadata": {},
     "output_type": "execute_result"
    }
   ],
   "source": [
    "processed_exam_df: pd.DataFrame = pd.concat([exam_df_pivot, answers_df_clean], axis=1)\n",
    "processed_exam_df = processed_exam_df.drop(columns=[\"V\"])\n",
    "processed_exam_df.head(10)"
   ]
  },
  {
   "cell_type": "markdown",
   "metadata": {},
   "source": [
    "**2. Identifying and Handling Missing Values:**\n",
    "\n",
    "Missing values are then replaced with 0."
   ]
  },
  {
   "cell_type": "code",
   "execution_count": 30,
   "metadata": {},
   "outputs": [],
   "source": [
    "processed_exam_df = processed_exam_df.fillna(0)"
   ]
  },
  {
   "cell_type": "markdown",
   "metadata": {},
   "source": [
    "**3. Verifying Missing Values and Data Types:**\n",
    "\n",
    "The number of missing values in each column is checked, and the data types of the columns are displayed. The 'RC' (correct answer) column is then converted to integer type."
   ]
  },
  {
   "cell_type": "code",
   "execution_count": 31,
   "metadata": {},
   "outputs": [
    {
     "data": {
      "text/plain": [
       "Question    object\n",
       "Option_1    object\n",
       "Option_2    object\n",
       "Option_3    object\n",
       "Option_4    object\n",
       "RC           int32\n",
       "dtype: object"
      ]
     },
     "execution_count": 31,
     "metadata": {},
     "output_type": "execute_result"
    }
   ],
   "source": [
    "processed_exam_df.isnull().sum()\n",
    "processed_exam_df[\"RC\"] = processed_exam_df[\"RC\"].astype(int)\n",
    "processed_exam_df.dtypes"
   ]
  },
  {
   "cell_type": "markdown",
   "metadata": {},
   "source": [
    "**4. Adding year column**\n",
    "\n",
    "A column containing the year of the exam is added to the DataFrame."
   ]
  },
  {
   "cell_type": "code",
   "execution_count": 32,
   "metadata": {},
   "outputs": [],
   "source": [
    "processed_exam_df[\"year\"] = year"
   ]
  },
  {
   "cell_type": "markdown",
   "metadata": {},
   "source": [
    "**5. Displaying the Final DataFrame:**\n",
    "\n",
    "The first 10 rows of the final joined and cleaned DataFrame are displayed."
   ]
  },
  {
   "cell_type": "code",
   "execution_count": 33,
   "metadata": {},
   "outputs": [
    {
     "data": {
      "text/html": [
       "<div>\n",
       "<style scoped>\n",
       "    .dataframe tbody tr th:only-of-type {\n",
       "        vertical-align: middle;\n",
       "    }\n",
       "\n",
       "    .dataframe tbody tr th {\n",
       "        vertical-align: top;\n",
       "    }\n",
       "\n",
       "    .dataframe thead th {\n",
       "        text-align: right;\n",
       "    }\n",
       "</style>\n",
       "<table border=\"1\" class=\"dataframe\">\n",
       "  <thead>\n",
       "    <tr style=\"text-align: right;\">\n",
       "      <th></th>\n",
       "      <th>Question</th>\n",
       "      <th>Option_1</th>\n",
       "      <th>Option_2</th>\n",
       "      <th>Option_3</th>\n",
       "      <th>Option_4</th>\n",
       "      <th>RC</th>\n",
       "      <th>year</th>\n",
       "    </tr>\n",
       "  </thead>\n",
       "  <tbody>\n",
       "    <tr>\n",
       "      <th>0</th>\n",
       "      <td>1. Teniendo en cuenta la relación estructuraac...</td>\n",
       "      <td>1. Sustitución del grupo carbonilo B por un ti...</td>\n",
       "      <td>2. Eliminación del átomo de flúor en el anillo...</td>\n",
       "      <td>3. Introducción de un an illo d e piperidina, ...</td>\n",
       "      <td>4. Alargamiento de la cadena C.</td>\n",
       "      <td>3</td>\n",
       "      <td>2023</td>\n",
       "    </tr>\n",
       "    <tr>\n",
       "      <th>1</th>\n",
       "      <td>2. La siguiente reacción es un proceso de semi...</td>\n",
       "      <td>1. Adenina.</td>\n",
       "      <td>2. Guanina.</td>\n",
       "      <td>3. 8-amino-9H-purina.</td>\n",
       "      <td>4. 2-amino-9H-purin-8-ol.</td>\n",
       "      <td>2</td>\n",
       "      <td>2023</td>\n",
       "    </tr>\n",
       "    <tr>\n",
       "      <th>2</th>\n",
       "      <td>3. ¿Qué representa el símbolo 𝝅 (pi) en una ec...</td>\n",
       "      <td>1. El co eficiente d e partición octanol/agua ...</td>\n",
       "      <td>2. Los efectos electrónicos de un sustituyente.</td>\n",
       "      <td>3. Los efectos estéricos de un sustituyente.</td>\n",
       "      <td>4. La constante de hidrofobicidad de un sustit...</td>\n",
       "      <td>4</td>\n",
       "      <td>2023</td>\n",
       "    </tr>\n",
       "    <tr>\n",
       "      <th>3</th>\n",
       "      <td>4. Un compuesto inactivo que necesita ser acti...</td>\n",
       "      <td>1. Fármaco huérfano.</td>\n",
       "      <td>2. Fármaco bioequivalente.</td>\n",
       "      <td>3. Profármaco.</td>\n",
       "      <td>4. Antimetabolito.</td>\n",
       "      <td>3</td>\n",
       "      <td>2023</td>\n",
       "    </tr>\n",
       "    <tr>\n",
       "      <th>4</th>\n",
       "      <td>5. ¿Cuál de l os siguientes grupos funcionales...</td>\n",
       "      <td>1. Grupo nitrilo.</td>\n",
       "      <td>2. Tetrazol.</td>\n",
       "      <td>3. Tiofeno.</td>\n",
       "      <td>4. Fenol.</td>\n",
       "      <td>2</td>\n",
       "      <td>2023</td>\n",
       "    </tr>\n",
       "    <tr>\n",
       "      <th>5</th>\n",
       "      <td>6. ¿Qué efec to tiene en l a actividad de  l a...</td>\n",
       "      <td>1. Conduce a compuestos que se  el iminan más ...</td>\n",
       "      <td>2. Conduce a compuestos de vida media más larga.</td>\n",
       "      <td>3. Conduce a c ompuestos ant agonistas del GABA.</td>\n",
       "      <td>4. Conduce a  c ompuestos sin actividad a nsio...</td>\n",
       "      <td>1</td>\n",
       "      <td>2023</td>\n",
       "    </tr>\n",
       "    <tr>\n",
       "      <th>6</th>\n",
       "      <td>7. La conjugación con aminoácidos es  un a re ...</td>\n",
       "      <td>1. Ácidos carboxílicos activados como tioésteres.</td>\n",
       "      <td>2. Aminas primarias aromáticas.</td>\n",
       "      <td>3. Fenoles.</td>\n",
       "      <td>4. Hidroxilaminas ar omáticas, procedentes de ...</td>\n",
       "      <td>1</td>\n",
       "      <td>2023</td>\n",
       "    </tr>\n",
       "    <tr>\n",
       "      <th>7</th>\n",
       "      <td>8. La hidrólisis de la amida en la po sición 7...</td>\n",
       "      <td>1. Enamina.</td>\n",
       "      <td>2. Cloruro de ácido.</td>\n",
       "      <td>3. Hemiacetal.</td>\n",
       "      <td>4. Iminoéter.</td>\n",
       "      <td>4</td>\n",
       "      <td>2023</td>\n",
       "    </tr>\n",
       "    <tr>\n",
       "      <th>8</th>\n",
       "      <td>9. La siguiente estruc tura corresponde al ant...</td>\n",
       "      <td>1. Apertura del anillo de aziridina.</td>\n",
       "      <td>2. Hidrólisis del carbamato.</td>\n",
       "      <td>3. Formación de una enamina por pérdida de met...</td>\n",
       "      <td>4. Reducción del anillo de quinona.</td>\n",
       "      <td>4</td>\n",
       "      <td>2023</td>\n",
       "    </tr>\n",
       "    <tr>\n",
       "      <th>9</th>\n",
       "      <td>10. ¿Qué relación tiene el sigui ente c ompues...</td>\n",
       "      <td>1. Es un análogo que establece interacciones a...</td>\n",
       "      <td>2. Es un profármaco más lipófilo para su uso e...</td>\n",
       "      <td>3. Es un anál ogo blando que s e metaboliza po...</td>\n",
       "      <td>4. Es un anál ogo de  acción c orta porque  la...</td>\n",
       "      <td>2</td>\n",
       "      <td>2023</td>\n",
       "    </tr>\n",
       "  </tbody>\n",
       "</table>\n",
       "</div>"
      ],
      "text/plain": [
       "                                            Question  \\\n",
       "0  1. Teniendo en cuenta la relación estructuraac...   \n",
       "1  2. La siguiente reacción es un proceso de semi...   \n",
       "2  3. ¿Qué representa el símbolo 𝝅 (pi) en una ec...   \n",
       "3  4. Un compuesto inactivo que necesita ser acti...   \n",
       "4  5. ¿Cuál de l os siguientes grupos funcionales...   \n",
       "5  6. ¿Qué efec to tiene en l a actividad de  l a...   \n",
       "6  7. La conjugación con aminoácidos es  un a re ...   \n",
       "7  8. La hidrólisis de la amida en la po sición 7...   \n",
       "8  9. La siguiente estruc tura corresponde al ant...   \n",
       "9  10. ¿Qué relación tiene el sigui ente c ompues...   \n",
       "\n",
       "                                            Option_1  \\\n",
       "0  1. Sustitución del grupo carbonilo B por un ti...   \n",
       "1                                        1. Adenina.   \n",
       "2  1. El co eficiente d e partición octanol/agua ...   \n",
       "3                               1. Fármaco huérfano.   \n",
       "4                                  1. Grupo nitrilo.   \n",
       "5  1. Conduce a compuestos que se  el iminan más ...   \n",
       "6  1. Ácidos carboxílicos activados como tioésteres.   \n",
       "7                                        1. Enamina.   \n",
       "8               1. Apertura del anillo de aziridina.   \n",
       "9  1. Es un análogo que establece interacciones a...   \n",
       "\n",
       "                                            Option_2  \\\n",
       "0  2. Eliminación del átomo de flúor en el anillo...   \n",
       "1                                        2. Guanina.   \n",
       "2    2. Los efectos electrónicos de un sustituyente.   \n",
       "3                         2. Fármaco bioequivalente.   \n",
       "4                                       2. Tetrazol.   \n",
       "5   2. Conduce a compuestos de vida media más larga.   \n",
       "6                    2. Aminas primarias aromáticas.   \n",
       "7                               2. Cloruro de ácido.   \n",
       "8                       2. Hidrólisis del carbamato.   \n",
       "9  2. Es un profármaco más lipófilo para su uso e...   \n",
       "\n",
       "                                            Option_3  \\\n",
       "0  3. Introducción de un an illo d e piperidina, ...   \n",
       "1                              3. 8-amino-9H-purina.   \n",
       "2       3. Los efectos estéricos de un sustituyente.   \n",
       "3                                     3. Profármaco.   \n",
       "4                                        3. Tiofeno.   \n",
       "5   3. Conduce a c ompuestos ant agonistas del GABA.   \n",
       "6                                        3. Fenoles.   \n",
       "7                                     3. Hemiacetal.   \n",
       "8  3. Formación de una enamina por pérdida de met...   \n",
       "9  3. Es un anál ogo blando que s e metaboliza po...   \n",
       "\n",
       "                                            Option_4  RC  year  \n",
       "0                    4. Alargamiento de la cadena C.   3  2023  \n",
       "1                          4. 2-amino-9H-purin-8-ol.   2  2023  \n",
       "2  4. La constante de hidrofobicidad de un sustit...   4  2023  \n",
       "3                                 4. Antimetabolito.   3  2023  \n",
       "4                                          4. Fenol.   2  2023  \n",
       "5  4. Conduce a  c ompuestos sin actividad a nsio...   1  2023  \n",
       "6  4. Hidroxilaminas ar omáticas, procedentes de ...   1  2023  \n",
       "7                                      4. Iminoéter.   4  2023  \n",
       "8                4. Reducción del anillo de quinona.   4  2023  \n",
       "9  4. Es un anál ogo de  acción c orta porque  la...   2  2023  "
      ]
     },
     "execution_count": 33,
     "metadata": {},
     "output_type": "execute_result"
    }
   ],
   "source": [
    "processed_exam_df.head(10)"
   ]
  },
  {
   "cell_type": "markdown",
   "metadata": {},
   "source": [
    "### Filtering by relevant questions\n",
    "\n",
    "**1. Filtering for id**\n",
    "\n",
    "A list of the number of question is used to filter the DataFrame, but first doing a -1 so it matches with the id. \n",
    "\n",
    "Finally the indexes are reseted"
   ]
  },
  {
   "cell_type": "code",
   "execution_count": 34,
   "metadata": {},
   "outputs": [
    {
     "name": "stdout",
     "output_type": "stream",
     "text": [
      "Expected number of rows = 91\n",
      "Number of rows in filtered df = 91\n"
     ]
    }
   ],
   "source": [
    "id_filter = [x-1 for x in add_list]\n",
    "processed_exam_df_filtered = processed_exam_df.iloc[id_filter]\n",
    "processed_exam_df_filtered = processed_exam_df_filtered.reset_index(drop= True)\n",
    "print(f\"Expected number of rows = {len(id_filter)}\\nNumber of rows in filtered df = {processed_exam_df_filtered.shape[0]}\")"
   ]
  },
  {
   "cell_type": "markdown",
   "metadata": {},
   "source": [
    "**2. Showing the filtered DataFrame**\n",
    "\n",
    "Using head and tail"
   ]
  },
  {
   "cell_type": "code",
   "execution_count": 35,
   "metadata": {},
   "outputs": [
    {
     "data": {
      "text/html": [
       "<div>\n",
       "<style scoped>\n",
       "    .dataframe tbody tr th:only-of-type {\n",
       "        vertical-align: middle;\n",
       "    }\n",
       "\n",
       "    .dataframe tbody tr th {\n",
       "        vertical-align: top;\n",
       "    }\n",
       "\n",
       "    .dataframe thead th {\n",
       "        text-align: right;\n",
       "    }\n",
       "</style>\n",
       "<table border=\"1\" class=\"dataframe\">\n",
       "  <thead>\n",
       "    <tr style=\"text-align: right;\">\n",
       "      <th></th>\n",
       "      <th>Question</th>\n",
       "      <th>Option_1</th>\n",
       "      <th>Option_2</th>\n",
       "      <th>Option_3</th>\n",
       "      <th>Option_4</th>\n",
       "      <th>RC</th>\n",
       "      <th>year</th>\n",
       "    </tr>\n",
       "  </thead>\n",
       "  <tbody>\n",
       "    <tr>\n",
       "      <th>0</th>\n",
       "      <td>19. ¿Cuál de los siguientes antibióticos betal...</td>\n",
       "      <td>1. Cefepime.</td>\n",
       "      <td>2. Ceftolozano-tazobactam.</td>\n",
       "      <td>3. Meropenem.</td>\n",
       "      <td>4. Ertapenem.</td>\n",
       "      <td>4</td>\n",
       "      <td>2023</td>\n",
       "    </tr>\n",
       "    <tr>\n",
       "      <th>1</th>\n",
       "      <td>20. Para generar una infecci ón, los  derm ato...</td>\n",
       "      <td>1. Hemoglobina.</td>\n",
       "      <td>2. Colágeno.</td>\n",
       "      <td>3. Queratina.</td>\n",
       "      <td>4. Ácido hialurónico.</td>\n",
       "      <td>3</td>\n",
       "      <td>2023</td>\n",
       "    </tr>\n",
       "    <tr>\n",
       "      <th>2</th>\n",
       "      <td>21. El marcador 1- 3-beta-D-glucano se ele va ...</td>\n",
       "      <td>1. Aspergilosis invasiva.</td>\n",
       "      <td>2. Candidiasis hepatoesplénica.</td>\n",
       "      <td>3. Mucormicosis rinocerebral.</td>\n",
       "      <td>4. Neumonía causad a por Pn eumocystis jirovecii.</td>\n",
       "      <td>3</td>\n",
       "      <td>2023</td>\n",
       "    </tr>\n",
       "    <tr>\n",
       "      <th>3</th>\n",
       "      <td>22. ¿Cuál de las siguientes c aracterísticas c...</td>\n",
       "      <td>1. Es un microorganismo cuyo reservorio es exc...</td>\n",
       "      <td>2. Es un bacilo grampositivo.</td>\n",
       "      <td>3. Produce dia rrea asociada al consumo de car...</td>\n",
       "      <td>4. En la actualidad se dispone de una vacuna e...</td>\n",
       "      <td>3</td>\n",
       "      <td>2023</td>\n",
       "    </tr>\n",
       "    <tr>\n",
       "      <th>4</th>\n",
       "      <td>23. ¿Cuál de las infecciones causadas por uno ...</td>\n",
       "      <td>1. Treponema pallidum.</td>\n",
       "      <td>2. Streptococcus pyogenes.</td>\n",
       "      <td>3. Mycoplasma pneumoniae.</td>\n",
       "      <td>4. Streptococcus agalactiae.</td>\n",
       "      <td>3</td>\n",
       "      <td>2023</td>\n",
       "    </tr>\n",
       "    <tr>\n",
       "      <th>5</th>\n",
       "      <td>24. En rela ción con la sífilis, seña le la re...</td>\n",
       "      <td>1. El tratamiento de elección es colistina.</td>\n",
       "      <td>2. El age nte etiológico es Treponema pallidum.</td>\n",
       "      <td>3. Es una infección de transmisión sexual.</td>\n",
       "      <td>4. En fase avanzada puede afectar al sistema n...</td>\n",
       "      <td>1</td>\n",
       "      <td>2023</td>\n",
       "    </tr>\n",
       "    <tr>\n",
       "      <th>6</th>\n",
       "      <td>25. En el cultivo de una muestra de l íquido c...</td>\n",
       "      <td>1. Streptococcus pneumoniae.</td>\n",
       "      <td>2. Klebsiella pneumoniae.</td>\n",
       "      <td>3. Escherichia coli.</td>\n",
       "      <td>4. Staphylococcus aureus.</td>\n",
       "      <td>1</td>\n",
       "      <td>2023</td>\n",
       "    </tr>\n",
       "    <tr>\n",
       "      <th>7</th>\n",
       "      <td>26. Señale la afirmación INCORRECTA respecto a...</td>\n",
       "      <td>1. Es un bacilo grampositivo f ormador de espo...</td>\n",
       "      <td>2. Es anaerobio obligado.</td>\n",
       "      <td>3. El tratamiento de  elección de las infeccio...</td>\n",
       "      <td>4. Existen cepas epidémicas que han causado br...</td>\n",
       "      <td>3</td>\n",
       "      <td>2023</td>\n",
       "    </tr>\n",
       "    <tr>\n",
       "      <th>8</th>\n",
       "      <td>27. ¿Cuál de l as siguientes r espuestas es c ...</td>\n",
       "      <td>1. Es un virus A RN bi catenario de simetría h...</td>\n",
       "      <td>2. Reconoce el receptor humano ACE2 (enzima co...</td>\n",
       "      <td>3. El gen estructural S es idéntico al del vir...</td>\n",
       "      <td>4. Pertenece a la familia Orthomyxoviridae.</td>\n",
       "      <td>2</td>\n",
       "      <td>2023</td>\n",
       "    </tr>\n",
       "    <tr>\n",
       "      <th>9</th>\n",
       "      <td>28. ¿Cuál de las siguientes especies NO perten...</td>\n",
       "      <td>1. Enterobacter asburiae.</td>\n",
       "      <td>2. Enterobacter bugandensis.</td>\n",
       "      <td>3. Enterobacter kobei.</td>\n",
       "      <td>4. Enterobacter hormaechei.</td>\n",
       "      <td>0</td>\n",
       "      <td>2023</td>\n",
       "    </tr>\n",
       "  </tbody>\n",
       "</table>\n",
       "</div>"
      ],
      "text/plain": [
       "                                            Question  \\\n",
       "0  19. ¿Cuál de los siguientes antibióticos betal...   \n",
       "1  20. Para generar una infecci ón, los  derm ato...   \n",
       "2  21. El marcador 1- 3-beta-D-glucano se ele va ...   \n",
       "3  22. ¿Cuál de las siguientes c aracterísticas c...   \n",
       "4  23. ¿Cuál de las infecciones causadas por uno ...   \n",
       "5  24. En rela ción con la sífilis, seña le la re...   \n",
       "6  25. En el cultivo de una muestra de l íquido c...   \n",
       "7  26. Señale la afirmación INCORRECTA respecto a...   \n",
       "8  27. ¿Cuál de l as siguientes r espuestas es c ...   \n",
       "9  28. ¿Cuál de las siguientes especies NO perten...   \n",
       "\n",
       "                                            Option_1  \\\n",
       "0                                       1. Cefepime.   \n",
       "1                                    1. Hemoglobina.   \n",
       "2                          1. Aspergilosis invasiva.   \n",
       "3  1. Es un microorganismo cuyo reservorio es exc...   \n",
       "4                             1. Treponema pallidum.   \n",
       "5        1. El tratamiento de elección es colistina.   \n",
       "6                       1. Streptococcus pneumoniae.   \n",
       "7  1. Es un bacilo grampositivo f ormador de espo...   \n",
       "8  1. Es un virus A RN bi catenario de simetría h...   \n",
       "9                          1. Enterobacter asburiae.   \n",
       "\n",
       "                                            Option_2  \\\n",
       "0                         2. Ceftolozano-tazobactam.   \n",
       "1                                       2. Colágeno.   \n",
       "2                    2. Candidiasis hepatoesplénica.   \n",
       "3                      2. Es un bacilo grampositivo.   \n",
       "4                         2. Streptococcus pyogenes.   \n",
       "5    2. El age nte etiológico es Treponema pallidum.   \n",
       "6                          2. Klebsiella pneumoniae.   \n",
       "7                          2. Es anaerobio obligado.   \n",
       "8  2. Reconoce el receptor humano ACE2 (enzima co...   \n",
       "9                       2. Enterobacter bugandensis.   \n",
       "\n",
       "                                            Option_3  \\\n",
       "0                                      3. Meropenem.   \n",
       "1                                      3. Queratina.   \n",
       "2                      3. Mucormicosis rinocerebral.   \n",
       "3  3. Produce dia rrea asociada al consumo de car...   \n",
       "4                          3. Mycoplasma pneumoniae.   \n",
       "5         3. Es una infección de transmisión sexual.   \n",
       "6                               3. Escherichia coli.   \n",
       "7  3. El tratamiento de  elección de las infeccio...   \n",
       "8  3. El gen estructural S es idéntico al del vir...   \n",
       "9                             3. Enterobacter kobei.   \n",
       "\n",
       "                                            Option_4  RC  year  \n",
       "0                                      4. Ertapenem.   4  2023  \n",
       "1                              4. Ácido hialurónico.   3  2023  \n",
       "2  4. Neumonía causad a por Pn eumocystis jirovecii.   3  2023  \n",
       "3  4. En la actualidad se dispone de una vacuna e...   3  2023  \n",
       "4                       4. Streptococcus agalactiae.   3  2023  \n",
       "5  4. En fase avanzada puede afectar al sistema n...   1  2023  \n",
       "6                          4. Staphylococcus aureus.   1  2023  \n",
       "7  4. Existen cepas epidémicas que han causado br...   3  2023  \n",
       "8        4. Pertenece a la familia Orthomyxoviridae.   2  2023  \n",
       "9                        4. Enterobacter hormaechei.   0  2023  "
      ]
     },
     "execution_count": 35,
     "metadata": {},
     "output_type": "execute_result"
    }
   ],
   "source": [
    "processed_exam_df_filtered.head(10)"
   ]
  },
  {
   "cell_type": "code",
   "execution_count": 36,
   "metadata": {},
   "outputs": [
    {
     "data": {
      "text/html": [
       "<div>\n",
       "<style scoped>\n",
       "    .dataframe tbody tr th:only-of-type {\n",
       "        vertical-align: middle;\n",
       "    }\n",
       "\n",
       "    .dataframe tbody tr th {\n",
       "        vertical-align: top;\n",
       "    }\n",
       "\n",
       "    .dataframe thead th {\n",
       "        text-align: right;\n",
       "    }\n",
       "</style>\n",
       "<table border=\"1\" class=\"dataframe\">\n",
       "  <thead>\n",
       "    <tr style=\"text-align: right;\">\n",
       "      <th></th>\n",
       "      <th>Question</th>\n",
       "      <th>Option_1</th>\n",
       "      <th>Option_2</th>\n",
       "      <th>Option_3</th>\n",
       "      <th>Option_4</th>\n",
       "      <th>RC</th>\n",
       "      <th>year</th>\n",
       "    </tr>\n",
       "  </thead>\n",
       "  <tbody>\n",
       "    <tr>\n",
       "      <th>81</th>\n",
       "      <td>199. Indique la re lación I NCORRECTA entre qu...</td>\n",
       "      <td>1. CXCL13 contribuye a  l a entrada de l os li...</td>\n",
       "      <td>2. CXCL5 dirige el movimiento de l os l infoci...</td>\n",
       "      <td>3. CXCL8 es una quimiocina i mplicada e n la q...</td>\n",
       "      <td>4. CCR7 participa en la mig ración d e los lin...</td>\n",
       "      <td>2</td>\n",
       "      <td>2023</td>\n",
       "    </tr>\n",
       "    <tr>\n",
       "      <th>82</th>\n",
       "      <td>200. El componente farmacológico de ARN monoca...</td>\n",
       "      <td>1. TLR2 y TLR4.</td>\n",
       "      <td>2. TLR1 y TLR5.</td>\n",
       "      <td>3. TLR7 y TLR8.</td>\n",
       "      <td>4. TLR9.</td>\n",
       "      <td>3</td>\n",
       "      <td>2023</td>\n",
       "    </tr>\n",
       "    <tr>\n",
       "      <th>83</th>\n",
       "      <td>201. En cuanto a la artritis reumatoide:</td>\n",
       "      <td>1. Una d e las pri ncipales cito cinas imp lic...</td>\n",
       "      <td>2. Las articulaciones más comúnmente afectadas...</td>\n",
       "      <td>3. Para d iagnosticar u na artritis reumatoide...</td>\n",
       "      <td>4. Es indiferente para el pronóstico de la enf...</td>\n",
       "      <td>3</td>\n",
       "      <td>2023</td>\n",
       "    </tr>\n",
       "    <tr>\n",
       "      <th>84</th>\n",
       "      <td>202. ¿Cuál de l as si guientes re spuestas es ...</td>\n",
       "      <td>1. Uno de los síntomas de la intoxicación es l...</td>\n",
       "      <td>2. La exc reción del cadmio es  muy lenta, por...</td>\n",
       "      <td>3. El principal órg ano d iana d e la intoxica...</td>\n",
       "      <td>4. Puede t ratarse con fá rmacos quelantes com...</td>\n",
       "      <td>3</td>\n",
       "      <td>2023</td>\n",
       "    </tr>\n",
       "    <tr>\n",
       "      <th>85</th>\n",
       "      <td>205. Los huesecillos de la cavidad del o ído m...</td>\n",
       "      <td>1. Al conducto endolinfático.</td>\n",
       "      <td>2. Al conducto coclear.</td>\n",
       "      <td>3. Al helicotrema.</td>\n",
       "      <td>4. A la ventana oval.</td>\n",
       "      <td>4</td>\n",
       "      <td>2023</td>\n",
       "    </tr>\n",
       "    <tr>\n",
       "      <th>86</th>\n",
       "      <td>206. ¿Cuál de l as siguientes hormonas atravie...</td>\n",
       "      <td>1. Somatostatina.</td>\n",
       "      <td>2. Prostaglandina E.</td>\n",
       "      <td>3. Tiroxina.</td>\n",
       "      <td>4. Óxido nítrico.</td>\n",
       "      <td>3</td>\n",
       "      <td>2023</td>\n",
       "    </tr>\n",
       "    <tr>\n",
       "      <th>87</th>\n",
       "      <td>207. ¿Cuál es la asociación correcta entre hor...</td>\n",
       "      <td>1. Aldosterona – zona fasciculada.</td>\n",
       "      <td>2. Dehidroepiandrosterona (DHEA) – zona estriada.</td>\n",
       "      <td>3. Cortisol – zona reticular.</td>\n",
       "      <td>4. Desoxicorticosterona – zona glomerular.</td>\n",
       "      <td>4</td>\n",
       "      <td>2023</td>\n",
       "    </tr>\n",
       "    <tr>\n",
       "      <th>88</th>\n",
       "      <td>208. ¿Qué ocurre cuando aumenta la prevalencia...</td>\n",
       "      <td>1. Que el valor pred ictivo po sitivo d e la p...</td>\n",
       "      <td>2. Que disminuyen en valor absoluto los falsos...</td>\n",
       "      <td>3. Que el valor predictivo negativo de  la pru...</td>\n",
       "      <td>4. No quedan afectados los valores predictivos...</td>\n",
       "      <td>3</td>\n",
       "      <td>2023</td>\n",
       "    </tr>\n",
       "    <tr>\n",
       "      <th>89</th>\n",
       "      <td>209. ¿Cuál es el tratamiento de primera línea ...</td>\n",
       "      <td>1. Penicilina G.</td>\n",
       "      <td>2. Ceftriaxona.</td>\n",
       "      <td>3. Azitromicina.</td>\n",
       "      <td>4. Doxiciclina.</td>\n",
       "      <td>1</td>\n",
       "      <td>2023</td>\n",
       "    </tr>\n",
       "    <tr>\n",
       "      <th>90</th>\n",
       "      <td>210. El voriconazol tiene actividad:</td>\n",
       "      <td>1. Fungiestática frente a hongos filamentosos.</td>\n",
       "      <td>2. Fungicida frente a Candida spp.</td>\n",
       "      <td>3. Fungicida frente a Cryptococcus neof ormans.</td>\n",
       "      <td>4. Fungicida frente a Aspergillus spp.</td>\n",
       "      <td>4</td>\n",
       "      <td>2023</td>\n",
       "    </tr>\n",
       "  </tbody>\n",
       "</table>\n",
       "</div>"
      ],
      "text/plain": [
       "                                             Question  \\\n",
       "81  199. Indique la re lación I NCORRECTA entre qu...   \n",
       "82  200. El componente farmacológico de ARN monoca...   \n",
       "83           201. En cuanto a la artritis reumatoide:   \n",
       "84  202. ¿Cuál de l as si guientes re spuestas es ...   \n",
       "85  205. Los huesecillos de la cavidad del o ído m...   \n",
       "86  206. ¿Cuál de l as siguientes hormonas atravie...   \n",
       "87  207. ¿Cuál es la asociación correcta entre hor...   \n",
       "88  208. ¿Qué ocurre cuando aumenta la prevalencia...   \n",
       "89  209. ¿Cuál es el tratamiento de primera línea ...   \n",
       "90               210. El voriconazol tiene actividad:   \n",
       "\n",
       "                                             Option_1  \\\n",
       "81  1. CXCL13 contribuye a  l a entrada de l os li...   \n",
       "82                                    1. TLR2 y TLR4.   \n",
       "83  1. Una d e las pri ncipales cito cinas imp lic...   \n",
       "84  1. Uno de los síntomas de la intoxicación es l...   \n",
       "85                      1. Al conducto endolinfático.   \n",
       "86                                  1. Somatostatina.   \n",
       "87                 1. Aldosterona – zona fasciculada.   \n",
       "88  1. Que el valor pred ictivo po sitivo d e la p...   \n",
       "89                                   1. Penicilina G.   \n",
       "90     1. Fungiestática frente a hongos filamentosos.   \n",
       "\n",
       "                                             Option_2  \\\n",
       "81  2. CXCL5 dirige el movimiento de l os l infoci...   \n",
       "82                                    2. TLR1 y TLR5.   \n",
       "83  2. Las articulaciones más comúnmente afectadas...   \n",
       "84  2. La exc reción del cadmio es  muy lenta, por...   \n",
       "85                            2. Al conducto coclear.   \n",
       "86                               2. Prostaglandina E.   \n",
       "87  2. Dehidroepiandrosterona (DHEA) – zona estriada.   \n",
       "88  2. Que disminuyen en valor absoluto los falsos...   \n",
       "89                                    2. Ceftriaxona.   \n",
       "90                 2. Fungicida frente a Candida spp.   \n",
       "\n",
       "                                             Option_3  \\\n",
       "81  3. CXCL8 es una quimiocina i mplicada e n la q...   \n",
       "82                                    3. TLR7 y TLR8.   \n",
       "83  3. Para d iagnosticar u na artritis reumatoide...   \n",
       "84  3. El principal órg ano d iana d e la intoxica...   \n",
       "85                                 3. Al helicotrema.   \n",
       "86                                       3. Tiroxina.   \n",
       "87                      3. Cortisol – zona reticular.   \n",
       "88  3. Que el valor predictivo negativo de  la pru...   \n",
       "89                                   3. Azitromicina.   \n",
       "90    3. Fungicida frente a Cryptococcus neof ormans.   \n",
       "\n",
       "                                             Option_4  RC  year  \n",
       "81  4. CCR7 participa en la mig ración d e los lin...   2  2023  \n",
       "82                                           4. TLR9.   3  2023  \n",
       "83  4. Es indiferente para el pronóstico de la enf...   3  2023  \n",
       "84  4. Puede t ratarse con fá rmacos quelantes com...   3  2023  \n",
       "85                              4. A la ventana oval.   4  2023  \n",
       "86                                  4. Óxido nítrico.   3  2023  \n",
       "87         4. Desoxicorticosterona – zona glomerular.   4  2023  \n",
       "88  4. No quedan afectados los valores predictivos...   3  2023  \n",
       "89                                    4. Doxiciclina.   1  2023  \n",
       "90             4. Fungicida frente a Aspergillus spp.   4  2023  "
      ]
     },
     "execution_count": 36,
     "metadata": {},
     "output_type": "execute_result"
    }
   ],
   "source": [
    "processed_exam_df_filtered.tail(10)"
   ]
  },
  {
   "cell_type": "markdown",
   "metadata": {},
   "source": [
    "# Data Loading"
   ]
  },
  {
   "cell_type": "markdown",
   "metadata": {},
   "source": [
    "## Saving in csv file\n",
    "\n",
    "The `processed_exam_df_filtered` DataFrame, containing the cleaned and transformed exam data, is saved to a CSV file with the name generatd in the first step in the \"data\" directory. The `index=False` argument ensures that the DataFrame index is not written to the file, resulting in a cleaner output. This CSV file can be used for further analysis or as input for other applications."
   ]
  },
  {
   "cell_type": "code",
   "execution_count": 37,
   "metadata": {},
   "outputs": [],
   "source": [
    "processed_exam_df_filtered.to_csv(save_format, index= False)"
   ]
  },
  {
   "cell_type": "markdown",
   "metadata": {},
   "source": [
    "## Writing into data warehouse\n",
    "\n",
    "This section details the process of loading the cleaned and transformed exam data into an SQLite database, serving as a data warehouse for further analysis and querying.\n",
    "\n",
    "**1. Database Connection and Path:**\n",
    "\n",
    "The path to the SQLite database file is defined, and a connection is established using the `sqlite3` library."
   ]
  },
  {
   "cell_type": "code",
   "execution_count": 38,
   "metadata": {},
   "outputs": [],
   "source": [
    "db_path: str = \"../data/clean/bir_warehouse.db\""
   ]
  },
  {
   "cell_type": "markdown",
   "metadata": {},
   "source": [
    "**2. SQL Queries Definition:**\n",
    "\n",
    "Two SQL queries are defined: one for inserting questions into the questions table and another for inserting options into the questions_options table."
   ]
  },
  {
   "cell_type": "code",
   "execution_count": 39,
   "metadata": {},
   "outputs": [],
   "source": [
    "query_question: str = \"\"\"\n",
    "INSERT INTO questions (exam_year, exam_subject, question) \n",
    "VALUES((SELECT id_year FROM year WHERE year_name = ?),\n",
    "    (SELECT id_type FROM exam WHERE exam_type = ?),\n",
    "    ?);\n",
    "\"\"\"\n",
    "\n",
    "query_options: str = \"\"\"\n",
    "INSERT INTO questions_options (question_id, option_num, option_text, is_correct)\n",
    "VALUES((SELECT q.id \n",
    "        FROM questions AS q\n",
    "        JOIN year AS y ON q.exam_year = y.id_year\n",
    "        WHERE q.question = ? AND y.year_name = ?),\n",
    "    ?,\n",
    "    ?,\n",
    "    ?)\n",
    "\"\"\""
   ]
  },
  {
   "cell_type": "markdown",
   "metadata": {},
   "source": [
    "**3. Database Interaction and Data Insertion:**\n",
    "\n",
    "A with statement is used to establish a connection to the SQLite database, ensuring that the connection is properly closed after use. A cursor is created, and the processed_exam_df DataFrame is iterated over to insert each question and its options"
   ]
  },
  {
   "cell_type": "code",
   "execution_count": 40,
   "metadata": {},
   "outputs": [],
   "source": [
    "with sqlite3.connect(db_path) as bir_warehouse:\n",
    "    cur = bir_warehouse.cursor()\n",
    "    for question in processed_exam_df_filtered.itertuples():\n",
    "        cur.execute(query_question, (str(question[7]), exam_acronym, question[1]))\n",
    "        bir_warehouse.commit()\n",
    "        for n, option in enumerate(question[2:6]):\n",
    "            cur.execute(query_options, (question[1], str(year), n+1, option, n+1 == question[6]))\n",
    "            bir_warehouse.commit()"
   ]
  }
 ],
 "metadata": {
  "colab": {
   "provenance": []
  },
  "kernelspec": {
   "display_name": "bir_etl",
   "language": "python",
   "name": "python3"
  },
  "language_info": {
   "codemirror_mode": {
    "name": "ipython",
    "version": 3
   },
   "file_extension": ".py",
   "mimetype": "text/x-python",
   "name": "python",
   "nbconvert_exporter": "python",
   "pygments_lexer": "ipython3",
   "version": "3.12.7"
  }
 },
 "nbformat": 4,
 "nbformat_minor": 4
}
