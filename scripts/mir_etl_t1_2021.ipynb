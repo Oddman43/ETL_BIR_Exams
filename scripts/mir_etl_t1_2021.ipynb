{
 "cells": [
  {
   "cell_type": "markdown",
   "metadata": {
    "editable": true,
    "id": "56vKIohe8Jou",
    "slideshow": {
     "slide_type": ""
    },
    "tags": []
   },
   "source": [
    "# Data Extraction\n",
    "This section details the process of extracting question data from a PDF file and corresponding answer keys from a TSV file."
   ]
  },
  {
   "cell_type": "markdown",
   "metadata": {
    "id": "8kRORmWM8Joy"
   },
   "source": [
    "## Importing libraries"
   ]
  },
  {
   "cell_type": "markdown",
   "metadata": {},
   "source": [
    "* Pandas for data manipulation\n",
    "* NumPy for the NaN datatype\n",
    "* PyPDF for its ability to read the pfd files, although it requieres post-processing of the extracted text\n",
    "* sqlite3 to create load the clean data into `bir_warehouse.db`"
   ]
  },
  {
   "cell_type": "code",
   "execution_count": 1,
   "metadata": {
    "colab": {
     "base_uri": "https://localhost:8080/"
    },
    "id": "y8DpYYll8Joz",
    "outputId": "40cac5b3-1153-431b-f780-201aa62b5813"
   },
   "outputs": [],
   "source": [
    "import pandas as pd\n",
    "import numpy as np\n",
    "from pypdf import PdfReader\n",
    "import sqlite3"
   ]
  },
  {
   "cell_type": "markdown",
   "metadata": {},
   "source": [
    "## Selecting year and type of exam"
   ]
  },
  {
   "cell_type": "markdown",
   "metadata": {},
   "source": [
    "This function, `compute_expected_rows`, takes the exam year and topic as input and returns metadata crucial for subsequent data cleaning and loading steps. This metadata includes the expected maximum number of rows in the final DataFrame, the number of questions per exam, and the acronym for the exam type.  The maximum number of rows is calculated based on the number of questions and options per question for each year, following a specific pattern:\n",
    "\n",
    "*   2024-2021: 210 questions, 4 options each\n",
    "*   2020-2019: 185 questions, 4 options each\n",
    "*   2018-2015: 235 questions, 4 options each\n",
    "*   2014-2012: 235 questions, 5 options each\n",
    "*   2011-2004: 260 questions, 5 options each\n",
    "\n",
    "This information is essential for validating data integrity during the ETL process.  For example, the expected row count helps verify that all questions and options have been correctly extracted and transformed. The exam type acronym aids in consistent file naming and data organization."
   ]
  },
  {
   "cell_type": "code",
   "execution_count": 2,
   "metadata": {},
   "outputs": [],
   "source": [
    "def compute_expected_rows(year: int, topic: str) -> tuple:\n",
    "    \"\"\"Computes and returns metadata about the exam for a given year and topic\n",
    "\n",
    "    Args:\n",
    "        year (int): The year of the exam\n",
    "        topic (str): The topic of the exam\n",
    "\n",
    "    Returns:\n",
    "        tuple: Contains:\n",
    "            - max_rows: The expected maximum number of rows in the DataFrame\n",
    "            - num_options: The number of questions in the exam\n",
    "            - exam_type_acronym: The acronym for the exam type\n",
    "\n",
    "    \"\"\"\n",
    "    info_year_dict: dict = {\n",
    "        2011: [260, 5],\n",
    "        2014: [235, 5],\n",
    "        2018: [235, 4],\n",
    "        2020: [185, 4],\n",
    "        2021: [210, 4],\n",
    "    }\n",
    "    save_name_dict: dict = {\n",
    "        \"BIOLOGÍA\": \"bir\",\n",
    "        \"FARMACIA\": \"fir\",\n",
    "        \"QUÍMICA\": \"qir\",\n",
    "        \"MEDICINA\": \"mir\",\n",
    "    }\n",
    "    max_rows: int = 0\n",
    "    num_options: int = 0\n",
    "    for target_year, info_list in info_year_dict.items():\n",
    "        if year <= target_year:\n",
    "            max_rows = (info_list[0] * info_list[1]) + info_list[0]\n",
    "            num_options = info_list[1]\n",
    "            break\n",
    "    else:\n",
    "        max_rows = 1050\n",
    "        num_options = 4\n",
    "    return max_rows, num_options, save_name_dict[topic]"
   ]
  },
  {
   "cell_type": "markdown",
   "metadata": {},
   "source": [
    "### Add year of the exam and topic "
   ]
  },
  {
   "cell_type": "code",
   "execution_count": 3,
   "metadata": {},
   "outputs": [],
   "source": [
    "year: int = 2021\n",
    "topic: str = \"MEDICINA\" # Select from: BIOLOGÍA, FARMACIA, QUÍMICA, MEDICINA\n",
    "total_num_rows: int\n",
    "num_questions: int\n",
    "exam_acronym: str\n",
    "total_num_rows, num_questions, exam_acronym = compute_expected_rows(year, topic)\n",
    "save_format: str = f\"../data/clean/clean_{exam_acronym}_{year}.csv\""
   ]
  },
  {
   "cell_type": "code",
   "execution_count": 4,
   "metadata": {},
   "outputs": [],
   "source": [
    "add_list: list = [26, 27, 29, 30, 31, 32, 33, 34, 35, 37, 44, 47, 71, 79, 83, 84, 101, 145, 161]"
   ]
  },
  {
   "cell_type": "markdown",
   "metadata": {
    "id": "Z1Kjq5ue8Jo1"
   },
   "source": [
    "## Extracting Questions from Pdf file"
   ]
  },
  {
   "cell_type": "markdown",
   "metadata": {},
   "source": [
    "This section focuses on extracting the textual content of the exam questions from the provided PDF file.\n",
    "\n",
    "**Path Definition:**\n",
    "\n",
    "The path to the PDF file is dynamically constructed using the provided `year` and `topic` variables. This ensures flexibility and allows the script to process different exam files without manual path adjustments.\n",
    "\n",
    "Finally it stores the output in a DataFrame and the first 10 rows of the resulting DataFrame are displayed for a quick preview of the loaded data."
   ]
  },
  {
   "cell_type": "code",
   "execution_count": 5,
   "metadata": {
    "id": "AB4M4yfr8Jo3"
   },
   "outputs": [
    {
     "data": {
      "application/vnd.microsoft.datawrangler.viewer.v0+json": {
       "columns": [
        {
         "name": "index",
         "rawType": "int64",
         "type": "integer"
        },
        {
         "name": "text",
         "rawType": "object",
         "type": "string"
        }
       ],
       "conversionMethod": "pd.DataFrame",
       "ref": "9e8fea4f-0858-4aeb-b3b6-1aab53277809",
       "rows": [
        [
         "0",
         " "
        ],
        [
         "1",
         "- 1 - "
        ],
        [
         "2",
         "1. Pregunta asociada a la imagen 1. "
        ],
        [
         "3",
         " "
        ],
        [
         "4",
         "Varón de 65 años, sin antecedentes de interés, "
        ],
        [
         "5",
         "que consulta por tos, dolor torácico, fiebre, "
        ],
        [
         "6",
         "sudoración nocturna y disnea. En la radiografía "
        ],
        [
         "7",
         "de tórax se observa un derrame pleural unilate-"
        ],
        [
         "8",
         "ral izquierdo, por lo que se realiza una TC torá-"
        ],
        [
         "9",
         "cica que confirma el d errame pleural y donde "
        ]
       ],
       "shape": {
        "columns": 1,
        "rows": 10
       }
      },
      "text/html": [
       "<div>\n",
       "<style scoped>\n",
       "    .dataframe tbody tr th:only-of-type {\n",
       "        vertical-align: middle;\n",
       "    }\n",
       "\n",
       "    .dataframe tbody tr th {\n",
       "        vertical-align: top;\n",
       "    }\n",
       "\n",
       "    .dataframe thead th {\n",
       "        text-align: right;\n",
       "    }\n",
       "</style>\n",
       "<table border=\"1\" class=\"dataframe\">\n",
       "  <thead>\n",
       "    <tr style=\"text-align: right;\">\n",
       "      <th></th>\n",
       "      <th>text</th>\n",
       "    </tr>\n",
       "  </thead>\n",
       "  <tbody>\n",
       "    <tr>\n",
       "      <th>0</th>\n",
       "      <td></td>\n",
       "    </tr>\n",
       "    <tr>\n",
       "      <th>1</th>\n",
       "      <td>- 1 -</td>\n",
       "    </tr>\n",
       "    <tr>\n",
       "      <th>2</th>\n",
       "      <td>1. Pregunta asociada a la imagen 1.</td>\n",
       "    </tr>\n",
       "    <tr>\n",
       "      <th>3</th>\n",
       "      <td></td>\n",
       "    </tr>\n",
       "    <tr>\n",
       "      <th>4</th>\n",
       "      <td>Varón de 65 años, sin antecedentes de interés,</td>\n",
       "    </tr>\n",
       "    <tr>\n",
       "      <th>5</th>\n",
       "      <td>que consulta por tos, dolor torácico, fiebre,</td>\n",
       "    </tr>\n",
       "    <tr>\n",
       "      <th>6</th>\n",
       "      <td>sudoración nocturna y disnea. En la radiografía</td>\n",
       "    </tr>\n",
       "    <tr>\n",
       "      <th>7</th>\n",
       "      <td>de tórax se observa un derrame pleural unilate-</td>\n",
       "    </tr>\n",
       "    <tr>\n",
       "      <th>8</th>\n",
       "      <td>ral izquierdo, por lo que se realiza una TC torá-</td>\n",
       "    </tr>\n",
       "    <tr>\n",
       "      <th>9</th>\n",
       "      <td>cica que confirma el d errame pleural y donde</td>\n",
       "    </tr>\n",
       "  </tbody>\n",
       "</table>\n",
       "</div>"
      ],
      "text/plain": [
       "                                                text\n",
       "0                                                   \n",
       "1                                             - 1 - \n",
       "2               1. Pregunta asociada a la imagen 1. \n",
       "3                                                   \n",
       "4    Varón de 65 años, sin antecedentes de interés, \n",
       "5     que consulta por tos, dolor torácico, fiebre, \n",
       "6   sudoración nocturna y disnea. En la radiografía \n",
       "7    de tórax se observa un derrame pleural unilate-\n",
       "8  ral izquierdo, por lo que se realiza una TC torá-\n",
       "9     cica que confirma el d errame pleural y donde "
      ]
     },
     "execution_count": 5,
     "metadata": {},
     "output_type": "execute_result"
    }
   ],
   "source": [
    "path: str = f\"../data/raw/type_1/Raw_Cuaderno_{year}_{topic}_0_C.pdf\"\n",
    "with PdfReader(path) as pdf_file:\n",
    "    full_text: list = []\n",
    "    for n in range(2, len(pdf_file.pages)):\n",
    "        page = pdf_file.pages[n]\n",
    "        text: str = page.extract_text()\n",
    "        full_text.extend(text.splitlines())\n",
    "raw_exam_df: pd.DataFrame = pd.DataFrame(full_text, columns=[\"text\"])\n",
    "raw_exam_df.head(10)"
   ]
  },
  {
   "cell_type": "markdown",
   "metadata": {
    "id": "IBhc5aFQ8Jo6"
   },
   "source": [
    "## Extracting Answers from .tsv file into a DataFrame"
   ]
  },
  {
   "cell_type": "markdown",
   "metadata": {},
   "source": [
    "This section focuses on extracting the answer key data from the provided .tsv file and loading it into a Pandas DataFrame.\n",
    "\n",
    "**Path Definition and Data Loading:**\n",
    "\n",
    "The path to the .tsv file is dynamically constructed using the `year` and `topic` variables, mirroring the approach used for the PDF file. This ensures consistency and flexibility in processing different exam files. \n",
    "\n",
    "The `pd.read_table()` function is then used to read the .tsv file directly into a Pandas DataFrame. Finally, the first 10 rows of the resulting DataFrame are displayed for a quick preview of the loaded data."
   ]
  },
  {
   "cell_type": "code",
   "execution_count": 6,
   "metadata": {
    "colab": {
     "base_uri": "https://localhost:8080/",
     "height": 206
    },
    "id": "O1ouB9mQ8Jo7",
    "outputId": "70b7615d-9c90-4f2d-b9e1-a5c86b507ef6"
   },
   "outputs": [
    {
     "data": {
      "application/vnd.microsoft.datawrangler.viewer.v0+json": {
       "columns": [
        {
         "name": "index",
         "rawType": "int64",
         "type": "integer"
        },
        {
         "name": "V",
         "rawType": "int64",
         "type": "integer"
        },
        {
         "name": "RC",
         "rawType": "int64",
         "type": "integer"
        },
        {
         "name": "V.1",
         "rawType": "int64",
         "type": "integer"
        },
        {
         "name": "RC.1",
         "rawType": "int64",
         "type": "integer"
        },
        {
         "name": "V.2",
         "rawType": "int64",
         "type": "integer"
        },
        {
         "name": "RC.2",
         "rawType": "float64",
         "type": "float"
        },
        {
         "name": "V.3",
         "rawType": "int64",
         "type": "integer"
        },
        {
         "name": "RC.3",
         "rawType": "int64",
         "type": "integer"
        },
        {
         "name": "V.4",
         "rawType": "int64",
         "type": "integer"
        },
        {
         "name": "RC.4",
         "rawType": "float64",
         "type": "float"
        }
       ],
       "conversionMethod": "pd.DataFrame",
       "ref": "fd89427a-4a13-42a5-b633-5ab654eeeda9",
       "rows": [
        [
         "0",
         "1",
         "3",
         "43",
         "3",
         "85",
         "4.0",
         "127",
         "1",
         "169",
         "2.0"
        ],
        [
         "1",
         "2",
         "3",
         "44",
         "2",
         "86",
         "3.0",
         "128",
         "3",
         "170",
         "3.0"
        ],
        [
         "2",
         "3",
         "1",
         "45",
         "1",
         "87",
         "3.0",
         "129",
         "4",
         "171",
         "1.0"
        ],
        [
         "3",
         "4",
         "4",
         "46",
         "1",
         "88",
         "2.0",
         "130",
         "3",
         "172",
         "4.0"
        ],
        [
         "4",
         "5",
         "1",
         "47",
         "2",
         "89",
         "1.0",
         "131",
         "3",
         "173",
         "4.0"
        ],
        [
         "5",
         "6",
         "3",
         "48",
         "4",
         "90",
         "2.0",
         "132",
         "1",
         "174",
         "4.0"
        ],
        [
         "6",
         "7",
         "2",
         "49",
         "4",
         "91",
         "3.0",
         "133",
         "2",
         "175",
         "1.0"
        ],
        [
         "7",
         "8",
         "3",
         "50",
         "1",
         "92",
         "3.0",
         "134",
         "4",
         "176",
         "3.0"
        ],
        [
         "8",
         "9",
         "2",
         "51",
         "4",
         "93",
         "1.0",
         "135",
         "1",
         "177",
         "2.0"
        ],
        [
         "9",
         "10",
         "2",
         "52",
         "2",
         "94",
         "3.0",
         "136",
         "3",
         "178",
         "4.0"
        ]
       ],
       "shape": {
        "columns": 10,
        "rows": 10
       }
      },
      "text/html": [
       "<div>\n",
       "<style scoped>\n",
       "    .dataframe tbody tr th:only-of-type {\n",
       "        vertical-align: middle;\n",
       "    }\n",
       "\n",
       "    .dataframe tbody tr th {\n",
       "        vertical-align: top;\n",
       "    }\n",
       "\n",
       "    .dataframe thead th {\n",
       "        text-align: right;\n",
       "    }\n",
       "</style>\n",
       "<table border=\"1\" class=\"dataframe\">\n",
       "  <thead>\n",
       "    <tr style=\"text-align: right;\">\n",
       "      <th></th>\n",
       "      <th>V</th>\n",
       "      <th>RC</th>\n",
       "      <th>V.1</th>\n",
       "      <th>RC.1</th>\n",
       "      <th>V.2</th>\n",
       "      <th>RC.2</th>\n",
       "      <th>V.3</th>\n",
       "      <th>RC.3</th>\n",
       "      <th>V.4</th>\n",
       "      <th>RC.4</th>\n",
       "    </tr>\n",
       "  </thead>\n",
       "  <tbody>\n",
       "    <tr>\n",
       "      <th>0</th>\n",
       "      <td>1</td>\n",
       "      <td>3</td>\n",
       "      <td>43</td>\n",
       "      <td>3</td>\n",
       "      <td>85</td>\n",
       "      <td>4.0</td>\n",
       "      <td>127</td>\n",
       "      <td>1</td>\n",
       "      <td>169</td>\n",
       "      <td>2.0</td>\n",
       "    </tr>\n",
       "    <tr>\n",
       "      <th>1</th>\n",
       "      <td>2</td>\n",
       "      <td>3</td>\n",
       "      <td>44</td>\n",
       "      <td>2</td>\n",
       "      <td>86</td>\n",
       "      <td>3.0</td>\n",
       "      <td>128</td>\n",
       "      <td>3</td>\n",
       "      <td>170</td>\n",
       "      <td>3.0</td>\n",
       "    </tr>\n",
       "    <tr>\n",
       "      <th>2</th>\n",
       "      <td>3</td>\n",
       "      <td>1</td>\n",
       "      <td>45</td>\n",
       "      <td>1</td>\n",
       "      <td>87</td>\n",
       "      <td>3.0</td>\n",
       "      <td>129</td>\n",
       "      <td>4</td>\n",
       "      <td>171</td>\n",
       "      <td>1.0</td>\n",
       "    </tr>\n",
       "    <tr>\n",
       "      <th>3</th>\n",
       "      <td>4</td>\n",
       "      <td>4</td>\n",
       "      <td>46</td>\n",
       "      <td>1</td>\n",
       "      <td>88</td>\n",
       "      <td>2.0</td>\n",
       "      <td>130</td>\n",
       "      <td>3</td>\n",
       "      <td>172</td>\n",
       "      <td>4.0</td>\n",
       "    </tr>\n",
       "    <tr>\n",
       "      <th>4</th>\n",
       "      <td>5</td>\n",
       "      <td>1</td>\n",
       "      <td>47</td>\n",
       "      <td>2</td>\n",
       "      <td>89</td>\n",
       "      <td>1.0</td>\n",
       "      <td>131</td>\n",
       "      <td>3</td>\n",
       "      <td>173</td>\n",
       "      <td>4.0</td>\n",
       "    </tr>\n",
       "    <tr>\n",
       "      <th>5</th>\n",
       "      <td>6</td>\n",
       "      <td>3</td>\n",
       "      <td>48</td>\n",
       "      <td>4</td>\n",
       "      <td>90</td>\n",
       "      <td>2.0</td>\n",
       "      <td>132</td>\n",
       "      <td>1</td>\n",
       "      <td>174</td>\n",
       "      <td>4.0</td>\n",
       "    </tr>\n",
       "    <tr>\n",
       "      <th>6</th>\n",
       "      <td>7</td>\n",
       "      <td>2</td>\n",
       "      <td>49</td>\n",
       "      <td>4</td>\n",
       "      <td>91</td>\n",
       "      <td>3.0</td>\n",
       "      <td>133</td>\n",
       "      <td>2</td>\n",
       "      <td>175</td>\n",
       "      <td>1.0</td>\n",
       "    </tr>\n",
       "    <tr>\n",
       "      <th>7</th>\n",
       "      <td>8</td>\n",
       "      <td>3</td>\n",
       "      <td>50</td>\n",
       "      <td>1</td>\n",
       "      <td>92</td>\n",
       "      <td>3.0</td>\n",
       "      <td>134</td>\n",
       "      <td>4</td>\n",
       "      <td>176</td>\n",
       "      <td>3.0</td>\n",
       "    </tr>\n",
       "    <tr>\n",
       "      <th>8</th>\n",
       "      <td>9</td>\n",
       "      <td>2</td>\n",
       "      <td>51</td>\n",
       "      <td>4</td>\n",
       "      <td>93</td>\n",
       "      <td>1.0</td>\n",
       "      <td>135</td>\n",
       "      <td>1</td>\n",
       "      <td>177</td>\n",
       "      <td>2.0</td>\n",
       "    </tr>\n",
       "    <tr>\n",
       "      <th>9</th>\n",
       "      <td>10</td>\n",
       "      <td>2</td>\n",
       "      <td>52</td>\n",
       "      <td>2</td>\n",
       "      <td>94</td>\n",
       "      <td>3.0</td>\n",
       "      <td>136</td>\n",
       "      <td>3</td>\n",
       "      <td>178</td>\n",
       "      <td>4.0</td>\n",
       "    </tr>\n",
       "  </tbody>\n",
       "</table>\n",
       "</div>"
      ],
      "text/plain": [
       "    V  RC  V.1  RC.1  V.2  RC.2  V.3  RC.3  V.4  RC.4\n",
       "0   1   3   43     3   85   4.0  127     1  169   2.0\n",
       "1   2   3   44     2   86   3.0  128     3  170   3.0\n",
       "2   3   1   45     1   87   3.0  129     4  171   1.0\n",
       "3   4   4   46     1   88   2.0  130     3  172   4.0\n",
       "4   5   1   47     2   89   1.0  131     3  173   4.0\n",
       "5   6   3   48     4   90   2.0  132     1  174   4.0\n",
       "6   7   2   49     4   91   3.0  133     2  175   1.0\n",
       "7   8   3   50     1   92   3.0  134     4  176   3.0\n",
       "8   9   2   51     4   93   1.0  135     1  177   2.0\n",
       "9  10   2   52     2   94   3.0  136     3  178   4.0"
      ]
     },
     "execution_count": 6,
     "metadata": {},
     "output_type": "execute_result"
    }
   ],
   "source": [
    "raw_answers_df: pd.DataFrame = pd.read_table(f\"../data/raw/type_1/Raw_Cuaderno_{year}_{topic}_0_C_Respuestas.tsv\")\n",
    "raw_answers_df.head(10)"
   ]
  },
  {
   "cell_type": "markdown",
   "metadata": {
    "id": "uFFlTADP8Jo7"
   },
   "source": [
    "# Data Transformation"
   ]
  },
  {
   "cell_type": "markdown",
   "metadata": {},
   "source": [
    "## Exam pdf"
   ]
  },
  {
   "cell_type": "markdown",
   "metadata": {},
   "source": [
    "### Removing white space"
   ]
  },
  {
   "cell_type": "markdown",
   "metadata": {
    "id": "2QavIIOK8Jo7"
   },
   "source": [
    "This section focuses on cleaning the raw text extracted from the PDF exam file, preparing it for further processing. This involves removing extraneous whitespace, handling empty lines, and resetting the DataFrame index.\n",
    "\n",
    "**1. Removing Page Number Artifacts:**\n",
    "\n",
    "The extracted text may contain page number artifacts, which are removed by filtering out rows containing the string \"Página\"."
   ]
  },
  {
   "cell_type": "code",
   "execution_count": 7,
   "metadata": {},
   "outputs": [],
   "source": [
    "raw_exam_df = raw_exam_df[~raw_exam_df[\"text\"].str.contains(\"Página\")]\n",
    "raw_exam_df = raw_exam_df[~raw_exam_df[\"text\"].str.contains(\"Pagina\")]\n",
    "raw_exam_df = raw_exam_df[~raw_exam_df[\"text\"].str.contains(topic)]\n",
    "\n",
    "footer_list: list = [f\"- {npag} -\" for npag in range(0,35,1)]\n",
    "\n",
    "for footer in footer_list:\n",
    "    raw_exam_df[\"text\"] = raw_exam_df[\"text\"].str.replace(footer, \"\")"
   ]
  },
  {
   "cell_type": "markdown",
   "metadata": {},
   "source": [
    "**2. Striping Leading/Trailing Whitespaces**\n",
    "\n",
    "Leading and trailing whitespace characters are removed from each text entry using the .str.strip() method."
   ]
  },
  {
   "cell_type": "code",
   "execution_count": 8,
   "metadata": {},
   "outputs": [],
   "source": [
    "raw_exam_df = raw_exam_df[\"text\"].str.strip()"
   ]
  },
  {
   "cell_type": "markdown",
   "metadata": {},
   "source": [
    "**3. Handling Empty Lines**\n",
    "\n",
    "Empty lines, represented as empty strings, are replaced with NaN (Not a Number) values. \n",
    "\n",
    "Then rows containing NaN values, representing empty lines, are removed from the DataFrame using .dropna()"
   ]
  },
  {
   "cell_type": "code",
   "execution_count": 9,
   "metadata": {},
   "outputs": [],
   "source": [
    "raw_exam_df = raw_exam_df.replace(\"\", np.nan)\n",
    "raw_exam_df = raw_exam_df.dropna()"
   ]
  },
  {
   "cell_type": "markdown",
   "metadata": {},
   "source": [
    "**4. Reseting DataFrame Index**\n",
    "\n",
    "The DataFrame index is reset after removing rows, ensuring a contiguous index and dropping the old index."
   ]
  },
  {
   "cell_type": "code",
   "execution_count": 10,
   "metadata": {},
   "outputs": [],
   "source": [
    "raw_exam_df = raw_exam_df.reset_index(drop=True)"
   ]
  },
  {
   "cell_type": "markdown",
   "metadata": {},
   "source": [
    "**5. Displays the first 10 rows of the DataFrame**"
   ]
  },
  {
   "cell_type": "code",
   "execution_count": 11,
   "metadata": {},
   "outputs": [
    {
     "data": {
      "text/plain": [
       "0                  1. Pregunta asociada a la imagen 1.\n",
       "1       Varón de 65 años, sin antecedentes de interés,\n",
       "2        que consulta por tos, dolor torácico, fiebre,\n",
       "3      sudoración nocturna y disnea. En la radiografía\n",
       "4      de tórax se observa un derrame pleural unilate-\n",
       "5    ral izquierdo, por lo que se realiza una TC torá-\n",
       "6        cica que confirma el d errame pleural y donde\n",
       "7         además se observa un engrosamiento pleural y\n",
       "8      micronódulos subpleurales en el lóbulo superior\n",
       "9     izquierdo. Ante este hallazgo se decide realizar\n",
       "Name: text, dtype: object"
      ]
     },
     "execution_count": 11,
     "metadata": {},
     "output_type": "execute_result"
    }
   ],
   "source": [
    "raw_exam_df.head(10)"
   ]
  },
  {
   "cell_type": "code",
   "execution_count": 12,
   "metadata": {},
   "outputs": [
    {
     "data": {
      "text/plain": [
       "2900        3. Enfermedad por reflujo gastro-esofágico no\n",
       "2901                                             erosiva.\n",
       "2902                4. Esofagitis grado B de Los Ángeles.\n",
       "2903    210. Señale cuál de las sigu ientes NO es una ...\n",
       "2904     tación usual de las metástasis leptomeníngeas de\n",
       "2905                                      los carcinomas:\n",
       "2906                           1. Radiculopatía cervical.\n",
       "2907                                      2. Hemiparesia.\n",
       "2908                    3. Neuropatía de pares craneales.\n",
       "2909                   4. Encefalopatía por hidrocefalia.\n",
       "Name: text, dtype: object"
      ]
     },
     "execution_count": 12,
     "metadata": {},
     "output_type": "execute_result"
    }
   ],
   "source": [
    "raw_exam_df.tail(10)"
   ]
  },
  {
   "cell_type": "markdown",
   "metadata": {},
   "source": [
    "### Joining Truncated Lines"
   ]
  },
  {
   "cell_type": "markdown",
   "metadata": {},
   "source": [
    "This section addresses the issue of truncated lines and multi-line questions or options within the extracted exam text. A custom function, `process_multi_line_str`, is used to concatenate these lines, ensuring that each question and option is presented as a single, coherent string.\n",
    "\n",
    "**Function: `process_multi_line_str(df)`**\n",
    "\n",
    "This function iterates through the DataFrame, performing two main tasks:\n",
    "\n",
    "1.  **Joining Truncated Words:**\n",
    "    * It checks if a line ends with a hyphen (\"-\"), indicating a word that has been truncated at the end of a line.\n",
    "    * If a line is truncated, it removes the hyphen and appends the content of the following line to the current line.\n",
    "    * The following line is then removed from the DataFrame, and the index is reset.\n",
    "\n",
    "2.  **Joining Multi-Line Questions/Options:**\n",
    "    * It checks if the first character of the next line can be converted to an integer. This is used as a heuristic to identify the start of a new question or option.\n",
    "    * If the next line does not start with an integer (i.e., it's a continuation of the current question or option), it is appended to the current line, separated by a space.\n",
    "    * The next line is then removed, and the index is reset."
   ]
  },
  {
   "cell_type": "code",
   "execution_count": 13,
   "metadata": {
    "id": "rYZHjn_C8Jo8"
   },
   "outputs": [],
   "source": [
    "def process_multi_line_str(df: pd.DataFrame) -> pd.DataFrame:\n",
    "    \"\"\"Function to handle truncated lines\n",
    "\n",
    "    Args:\n",
    "        df (pd.DataFrame): A pandas dataframe\n",
    "\n",
    "    Returns:\n",
    "        pd.DataFrame: Returns the DataFrame without truncated lines\n",
    "    \"\"\"\n",
    "    i: int = 0\n",
    "    while i < len(df) - 1:\n",
    "        if i < len(df) -1  and df.iloc[i].endswith(\"-\"):\n",
    "            df.iloc[i] = df.iloc[i][:-1] + df.iloc[i + 1]\n",
    "            df = df.drop(i + 1)\n",
    "            df = df.reset_index(drop=True)\n",
    "        else:\n",
    "            i += 1\n",
    "    n: int = 0\n",
    "    while n < len(df) -1:\n",
    "        if n + 1 < len(df):\n",
    "            try:\n",
    "                int(df.iloc[n + 1][0:1])\n",
    "                n += 1\n",
    "            except ValueError:\n",
    "                df.iloc[n] = df.iloc[n] + \" \" + df.iloc[n + 1]\n",
    "                df = df.drop(n +1)\n",
    "                df = df.reset_index(drop= True)\n",
    "        else:\n",
    "            break\n",
    "    return df"
   ]
  },
  {
   "cell_type": "markdown",
   "metadata": {},
   "source": [
    "The process_multi_line_str function is applied to the cleaned raw_exam_df DataFrame, and the resulting DataFrame is stored in exam_df_concat. The first few rows of the concatenated DataFrame are displayed to verify the results."
   ]
  },
  {
   "cell_type": "code",
   "execution_count": 14,
   "metadata": {
    "colab": {
     "base_uri": "https://localhost:8080/",
     "height": 206
    },
    "id": "2v6dmQuM8_v1",
    "outputId": "215f5328-a43d-4bbb-f221-fba6fc10a5c1"
   },
   "outputs": [
    {
     "data": {
      "text/plain": [
       "0    1. Pregunta asociada a la imagen 1. Varón de 6...\n",
       "1                  1. Infiltración por adenocarcinoma.\n",
       "2            2. Inflamación aguda con abscesificación.\n",
       "3                        3. Inflamación granulomatosa.\n",
       "4                                      4. Mesotelioma.\n",
       "5    2. Pregunta asociada a la imagen 2. Varón de 2...\n",
       "6                                 1. Embolia pulmonar.\n",
       "7    2. Traumatismo torácico con afectación de la a...\n",
       "8    3. Necrosis quística de la media y síndrome de...\n",
       "9    4. Síndrome dislipémico familiar con grave ate...\n",
       "Name: text, dtype: object"
      ]
     },
     "execution_count": 14,
     "metadata": {},
     "output_type": "execute_result"
    }
   ],
   "source": [
    "exam_df_concat: pd.DataFrame = process_multi_line_str(raw_exam_df)\n",
    "exam_df_concat.head(10)"
   ]
  },
  {
   "cell_type": "markdown",
   "metadata": {},
   "source": [
    "### Validating and Correction Incorrect Rows"
   ]
  },
  {
   "cell_type": "markdown",
   "metadata": {},
   "source": [
    "This section focuses on validating the number of rows in the cleaned DataFrame against the expected number and correcting any rows that do not conform to the expected format.\n",
    "\n",
    "**1. Calculating Expected and Actual Incorrect Rows:**\n",
    "\n",
    "We calculate the expected number of incorrect rows by subtracting the total expected rows from the current number of rows in the DataFrame. We then identify the actual number of incorrect rows by counting the rows that do not end with a period (\".\"), a colon (\":\") or interrogation sign (\"?\")."
   ]
  },
  {
   "cell_type": "code",
   "execution_count": 15,
   "metadata": {},
   "outputs": [
    {
     "name": "stdout",
     "output_type": "stream",
     "text": [
      "Number of expected incorrect rows = 23\n",
      "Number of rows not ending with '.', ':' or '?' = 26\n",
      "[55, 66, 92, 98, 99, 375, 384, 397, 443, 444, 594, 601, 674, 762, 763, 764, 810, 950, 967, 968, 1014, 1015, 1028, 1029, 1046, 1057]\n"
     ]
    }
   ],
   "source": [
    "num_rows_incorrect_expected: int = len(exam_df_concat) - total_num_rows\n",
    "num_rows_incorrect: int = exam_df_concat[~exam_df_concat.str.endswith((\".\", \":\", \"?\"))].count()\n",
    "id_rows_incorrect: list = exam_df_concat[~exam_df_concat.str.endswith((\".\", \":\", \"?\"))].index.to_list()\n",
    "print(f\"Number of expected incorrect rows = {num_rows_incorrect_expected}\")\n",
    "print(f\"Number of rows not ending with '.', ':' or '?' = {num_rows_incorrect}\")\n",
    "print(id_rows_incorrect)"
   ]
  },
  {
   "cell_type": "markdown",
   "metadata": {},
   "source": [
    "**2. Function: print_rows_incorrrect(wrong_id, df):**\n",
    "\n",
    "This function takes a list of incorrect row indices and the DataFrame as input. It then prints the row identified as incorrect along with the 2 rows before and 2 rows after, providing context to help determine how to fix the error."
   ]
  },
  {
   "cell_type": "code",
   "execution_count": 16,
   "metadata": {},
   "outputs": [],
   "source": [
    "def print_rows_incorrrect(wrong_id: list[int], df: pd.DataFrame) -> None:\n",
    "    \"\"\"Print +/- 2 rows for context\n",
    "\n",
    "    Args:\n",
    "        wrong_id (list): Generated list of wrong row_id\n",
    "        df (pd.DataFrame): DataFrame corresponding with the worng_id list\n",
    "    \"\"\"\n",
    "    for wid in wrong_id:\n",
    "        print(f\"Id to fix {wid}:\")\n",
    "        print(df.iloc[wid -2: wid +3])"
   ]
  },
  {
   "cell_type": "markdown",
   "metadata": {},
   "source": [
    "**3. Function: fix_incorrect(num_row, df):**\n",
    "\n",
    "This function takes a list of row indices to fix and the DataFrame. It iterates through the indices in reverse order to avoid index shifting problems. Each incorrect row is concatenated with the row immediately following it, and the subsequent row is then dropped. The DataFrame index is reset after each concatenation."
   ]
  },
  {
   "cell_type": "code",
   "execution_count": 17,
   "metadata": {},
   "outputs": [],
   "source": [
    "def fix_incorrect(num_row: list[int], df: pd.DataFrame) -> pd.DataFrame:\n",
    "    \"\"\"Fix the incorrect rows in the DataFrame\n",
    "\n",
    "    Args:\n",
    "        num_row (list): List of ids to fix\n",
    "        df (pd.DataFrame): The DataFrame to fix\n",
    "\n",
    "    Returns:\n",
    "        pd.DataFrame: Fixed\n",
    "    \"\"\"\n",
    "    num_row: list = sorted(num_row, reverse=True)\n",
    "    for n in num_row:\n",
    "        df.iloc[n] = df.iloc[n] + df.iloc[n + 1]\n",
    "        df = df.drop(n + 1)\n",
    "        df = df.reset_index(drop= True)\n",
    "    return df"
   ]
  },
  {
   "cell_type": "markdown",
   "metadata": {},
   "source": [
    "**4. Validation and Correction Logic:**\n",
    "\n",
    "We compare the expected and actual number of incorrect rows. If they match, we proceed to fix the incorrect rows using the `fix_incorrect` function. Otherwise, we print the context of the incorrect rows and raise a warning, indicating that manual inspection and correction are required."
   ]
  },
  {
   "cell_type": "code",
   "execution_count": 18,
   "metadata": {},
   "outputs": [
    {
     "name": "stdout",
     "output_type": "stream",
     "text": [
      "Id to fix 55:\n",
      "53                    3. Retinitis por citomegalovirus.\n",
      "54           4. Trombosis de vena central de la retina.\n",
      "55    12. Pregunta asociad a a la imagen 12. Varón d...\n",
      "56    1 paquete de cigarrillos al día desde hace 30 ...\n",
      "57    1. Carcinoma transglótico derecho con adenopat...\n",
      "Name: text, dtype: object\n",
      "Id to fix 66:\n",
      "64                                         3. Neumonía.\n",
      "65                                    4. Hernia hiatal.\n",
      "66    14. Pregunta asociad a a la imagen 14. Varón d...\n",
      "67    92,9 mg/L y dímero D 1.630 ng/ml (normal <500)...\n",
      "68    1. Solicitar angioTC  de arterias pulmonares p...\n",
      "Name: text, dtype: object\n",
      "Id to fix 92:\n",
      "90                         3. Faringitis abscesificada.\n",
      "91            4. Quiste dermoide lingual abscesificado.\n",
      "92    19. Pregunta asociad a a la imagen 19. Varón d...\n",
      "93    6 meses, así como diarrea frecuente. No ha com...\n",
      "94                           1. Toxoplasmosis cerebral.\n",
      "Name: text, dtype: object\n",
      "Id to fix 98:\n",
      "96          3. Leucoencefalopatía multifocal progresiva.\n",
      "97                               4. Encefalitis por CMV.\n",
      "98     20. Pregunta asociad a a la imagen 20. Pacient...\n",
      "99     1-2/6, ecocardiografía transtorácica compatibl...\n",
      "100    110/55 mmHg. Se aprecia un soplo en foco mitra...\n",
      "Name: text, dtype: object\n",
      "Id to fix 99:\n",
      "97                               4. Encefalitis por CMV.\n",
      "98     20. Pregunta asociad a a la imagen 20. Pacient...\n",
      "99     1-2/6, ecocardiografía transtorácica compatibl...\n",
      "100    110/55 mmHg. Se aprecia un soplo en foco mitra...\n",
      "101                1. Añadir al tratamiento voriconazol.\n",
      "Name: text, dtype: object\n",
      "Id to fix 375:\n",
      "373    3. Finalización de la gestación cuando complet...\n",
      "374           4. Finalización inmediata de la gestación.\n",
      "375    75. Mujer de 30 años que solicita un método an...\n",
      "376    3.550 g. Está dando lactancia materna exclusiv...\n",
      "377    1. Le explica que, si está en amenorrea, no re...\n",
      "Name: text, dtype: object\n",
      "Id to fix 384:\n",
      "382    1. Tranquilizarle, puesto que ya se ha hecho u...\n",
      "383    2. Esa clasificación implica probablemente cir...\n",
      "384    3. Se trata de un hallazgo probablemente benig...\n",
      "385                              24 meses o una biopsia.\n",
      "386    4. Los hallazgos son de baja sospecha de cánce...\n",
      "Name: text, dtype: object\n",
      "Id to fix 397:\n",
      "395    3. 50 % en cada embarazo siempre que la pareja...\n",
      "396    4. 50 % en cada embarazo independiente del sex...\n",
      "397    79. En caso de que haya manifestaciones clínic...\n",
      "398                    1 en lactantes y niños pequeños?:\n",
      "399                                       1. Meningitis.\n",
      "Name: text, dtype: object\n",
      "Id to fix 443:\n",
      "441    3. La edad del niño superior a 1 año excluye e...\n",
      "442    4. La existencia de una patología grave diagno...\n",
      "443    88. Niño de 23 meses que presenta fiebre, hipo...\n",
      "444    25.000 leucocitos (75 % neutrófilos, 10 % caya...\n",
      "445      35 %. ¿Qué opción NO es adecuada en su manejo?:\n",
      "Name: text, dtype: object\n",
      "Id to fix 444:\n",
      "442    4. La existencia de una patología grave diagno...\n",
      "443    88. Niño de 23 meses que presenta fiebre, hipo...\n",
      "444    25.000 leucocitos (75 % neutrófilos, 10 % caya...\n",
      "445      35 %. ¿Qué opción NO es adecuada en su manejo?:\n",
      "446         1. Administración de cefotaxima intravenosa.\n",
      "Name: text, dtype: object\n",
      "Id to fix 594:\n",
      "592    2. Están asociadas hasta en un 50 % de los cas...\n",
      "593    3. Pueden presentar asociada una neurapraxia d...\n",
      "594     4. Es más frecuente en niños de edades entre 4 y\n",
      "595                                              6 años.\n",
      "596    118. Varón de 41 años que consulta por gonalgi...\n",
      "Name: text, dtype: object\n",
      "Id to fix 601:\n",
      "599    3. Lesión por rotura del ligamento cruzado pos...\n",
      "600               4. Lesión por artropatía degenerativa.\n",
      "601    119. Mujer de 13 años, sin antecedentes releva...\n",
      "602    10 años por escoliosis idiopática que ha empeo...\n",
      "603     1. Recomendar natación y revisión en tres meses.\n",
      "Name: text, dtype: object\n",
      "Id to fix 674:\n",
      "672    133. Mujer de 78 años que consulta por disnea,...\n",
      "673    1. En este caso es preferibl e administrar pre...\n",
      "674    2. Una buena opción sería administrar predniso...\n",
      "675    3. La dosis de prednisona debe ser cómo mínimo...\n",
      "676    4. La prednisona debe pautarse de tal forma qu...\n",
      "Name: text, dtype: object\n",
      "Id to fix 762:\n",
      "760                              3. Pielonefritis aguda.\n",
      "761                      4. Nefritis intersticial aguda.\n",
      "762    151. Varón de 22 años que acude a urgencias po...\n",
      "763    37,3 ºC, PA 150/95, FC 8 5 lpm, ligero eritema...\n",
      "764    12,8 g/dl, Hcto 39 %, leucocitos 10.500 /mm3 c...\n",
      "Name: text, dtype: object\n",
      "Id to fix 763:\n",
      "761                      4. Nefritis intersticial aguda.\n",
      "762    151. Varón de 22 años que acude a urgencias po...\n",
      "763    37,3 ºC, PA 150/95, FC 8 5 lpm, ligero eritema...\n",
      "764    12,8 g/dl, Hcto 39 %, leucocitos 10.500 /mm3 c...\n",
      "765    0,8 mg/dl, iones, perfil hepático, lipídico, a...\n",
      "Name: text, dtype: object\n",
      "Id to fix 764:\n",
      "762    151. Varón de 22 años que acude a urgencias po...\n",
      "763    37,3 ºC, PA 150/95, FC 8 5 lpm, ligero eritema...\n",
      "764    12,8 g/dl, Hcto 39 %, leucocitos 10.500 /mm3 c...\n",
      "765    0,8 mg/dl, iones, perfil hepático, lipídico, a...\n",
      "766                   1. Nefropatía por cambios mínimos.\n",
      "Name: text, dtype: object\n",
      "Id to fix 810:\n",
      "808    3. Alcalosis metabólica por toxicidad tubular ...\n",
      "809    4. Trombopenia grave acompañada de fenómenos t...\n",
      "810    160. Mujer de 35 años, que toma anticonceptivo...\n",
      "811    7.000/microl, leucocitos normales con recuento...\n",
      "812                     1. Anemia hemolítica autoinmune.\n",
      "Name: text, dtype: object\n",
      "Id to fix 950:\n",
      "948    2. La combinación de gabapentina y nortriptili...\n",
      "949    3. La confusión y la somnolencia son efectos s...\n",
      "950         4. Por lo común es eficaz una dosis de 900 a\n",
      "951                                        3.600 mg/día.\n",
      "952    188. ¿Cuál de las siguientes características n...\n",
      "Name: text, dtype: object\n",
      "Id to fix 967:\n",
      "965         3. Heridas de tanteo (intención autolítica).\n",
      "966    4. Heridas autoproducidas con finalidad de sim...\n",
      "967    191. Varón de 54 años de edad que acude a su c...\n",
      "968    20 años, bebedor habitual de 6 UBE/día y en va...\n",
      "969    150-216 mg/dl, colesterol-HDL de entre 45-52 m...\n",
      "Name: text, dtype: object\n",
      "Id to fix 968:\n",
      "966    4. Heridas autoproducidas con finalidad de sim...\n",
      "967    191. Varón de 54 años de edad que acude a su c...\n",
      "968    20 años, bebedor habitual de 6 UBE/día y en va...\n",
      "969    150-216 mg/dl, colesterol-HDL de entre 45-52 m...\n",
      "970                           1. Disbetalipoproteinemia.\n",
      "Name: text, dtype: object\n",
      "Id to fix 1014:\n",
      "1012    3. Debe administrarse hidrocortisona si tras e...\n",
      "1013    4. Debe iniciarse una perfusión con noradrenal...\n",
      "1014    200. Varón de 83 años con antecedentes de hipe...\n",
      "1015           126 lpm y se objetiva TA 79/47 mmHg, SatO2\n",
      "1016    89 %, temperatura 36,7ºC y frecuencia respirat...\n",
      "Name: text, dtype: object\n",
      "Id to fix 1015:\n",
      "1013    4. Debe iniciarse una perfusión con noradrenal...\n",
      "1014    200. Varón de 83 años con antecedentes de hipe...\n",
      "1015           126 lpm y se objetiva TA 79/47 mmHg, SatO2\n",
      "1016    89 %, temperatura 36,7ºC y frecuencia respirat...\n",
      "1017    1. Incrementa la capacidad residual funcional ...\n",
      "Name: text, dtype: object\n",
      "Id to fix 1028:\n",
      "1026    202. ¿Cuál de estos síntomas NO va a favor de ...\n",
      "1027    1. La presencia de hipoacusia y acúfenos acomp...\n",
      "1028    2. La aparición de diplopia acompañando al vér...\n",
      "1029    3. La descripción del vértigo como una sensaci...\n",
      "1030    4. Que en la exploración se objetive un nistag...\n",
      "Name: text, dtype: object\n",
      "Id to fix 1029:\n",
      "1027    1. La presencia de hipoacusia y acúfenos acomp...\n",
      "1028    2. La aparición de diplopia acompañando al vér...\n",
      "1029    3. La descripción del vértigo como una sensaci...\n",
      "1030    4. Que en la exploración se objetive un nistag...\n",
      "1031            203. La distrofia fa scioescapulohumeral:\n",
      "Name: text, dtype: object\n",
      "Id to fix 1046:\n",
      "1044    3. Es necesario realizar una TC craneal para e...\n",
      "1045    4. El tratamiento quirúrgico está indicado si ...\n",
      "1046    206. Ante un derrame pleural derecho con los s...\n",
      "1047    36 0 U I / L ;  p r o t e í n as  e n  s u e r...\n",
      "1048    1. Derrame pleural tipo trasudado, por tanto e...\n",
      "Name: text, dtype: object\n",
      "Id to fix 1057:\n",
      "1055    3. Disminución de la PaCO2 y la PaO2 con aumen...\n",
      "1056    4. Aumento de la PaCO2 con descenso de la PaO2...\n",
      "1057    208. Varón de 53 años sin  antecedentes de int...\n",
      "1058    40º, reflejo aquíleo abolido y no se puede pon...\n",
      "1059                      1. Hernia discal L2-L3 derecha.\n",
      "Name: text, dtype: object\n"
     ]
    }
   ],
   "source": [
    "if num_rows_incorrect_expected == num_rows_incorrect:\n",
    "    exam_df_fixed = fix_incorrect(id_rows_incorrect, exam_df_concat)\n",
    "    df_correct_rows: bool = len(exam_df_fixed) == num_rows_incorrect_expected\n",
    "else:\n",
    "    print_rows_incorrrect(id_rows_incorrect, exam_df_concat)\n",
    "    # raise Warning(\"More incorrect rows that expected, uncomment the lines below and add ids to the list, and comment this line\")\n",
    "    rows_fix: list[int] = [55, 66, 92, 98, 99, 375, 384, 397, 443, 444, 594, 601, 762, 763, 764, 810, 950, 967, 968, 1014, 1015, 1046, 1057]\n",
    "    exam_df_fixed: pd.DataFrame = fix_incorrect(rows_fix, exam_df_concat)"
   ]
  },
  {
   "cell_type": "markdown",
   "metadata": {},
   "source": [
    "**5. Verification of Corrected Rows:**\n",
    "\n",
    "We print the expected total number of rows and the actual number of rows in the corrected DataFrame to verify the results of the correction process."
   ]
  },
  {
   "cell_type": "code",
   "execution_count": 19,
   "metadata": {},
   "outputs": [
    {
     "name": "stdout",
     "output_type": "stream",
     "text": [
      "Correct number of rows = 1050\n",
      "1050\n"
     ]
    }
   ],
   "source": [
    "print(f\"Correct number of rows = {total_num_rows}\")\n",
    "print(exam_df_fixed.shape[0])"
   ]
  },
  {
   "cell_type": "markdown",
   "metadata": {},
   "source": [
    "### Pivoting the DataFrame\n",
    "\n",
    "This section focuses on transforming the cleaned exam data into a structured format suitable for analysis. The DataFrame is pivoted to create columns for each question and its corresponding options.\n",
    "\n",
    "**1. Preparing the DataFrame for Pivoting:**\n",
    "\n",
    "The `exam_df_fixed` Series is converted to a DataFrame, and a 'group' column is created to identify each question and its options. An 'option_num' column is then generated to enumerate the options within each group.\n"
   ]
  },
  {
   "cell_type": "code",
   "execution_count": 20,
   "metadata": {},
   "outputs": [],
   "source": [
    "exam_df_fixed = exam_df_fixed.to_frame()\n",
    "groups: pd.Series = pd.Series((exam_df_fixed.index // (num_questions+1)) +1)\n",
    "exam_df_fixed[\"group\"] = groups  \n",
    "exam_df_fixed[\"option_num\"] = exam_df_fixed.groupby(\"group\").cumcount() + 1"
   ]
  },
  {
   "cell_type": "markdown",
   "metadata": {},
   "source": [
    "**2. Pivoting the DataFrame:**\n",
    "\n",
    "The DataFrame is pivoted using the 'group' column as the index, the 'option_num' column as the columns, and the 'text' column as the values. The index is then reset."
   ]
  },
  {
   "cell_type": "code",
   "execution_count": 21,
   "metadata": {},
   "outputs": [],
   "source": [
    "exam_df_pivot: pd.DataFrame = exam_df_fixed.pivot(index=\"group\", columns=\"option_num\", values=\"text\")\n",
    "exam_df_pivot = exam_df_pivot.reset_index()"
   ]
  },
  {
   "cell_type": "markdown",
   "metadata": {},
   "source": [
    "**3. Renaming Columns:**\n",
    "\n",
    "The columns are renamed to more descriptive names, such as \"Question\", \"Option_1\", \"Option_2\", etc."
   ]
  },
  {
   "cell_type": "code",
   "execution_count": 22,
   "metadata": {},
   "outputs": [],
   "source": [
    "key_list: list = [x for x in range(1, num_questions+2, 1)]\n",
    "val_list: list = [\"Question\"] + [f\"Option_{x}\" for x in range(1, 4 + 1, 1)]\n",
    "\n",
    "exam_df_pivot = exam_df_pivot.rename_axis(None, axis=1).rename(columns=dict(zip(key_list, val_list)))"
   ]
  },
  {
   "cell_type": "markdown",
   "metadata": {},
   "source": [
    "**4. Dropping the 'group' Column:**\n",
    "\n",
    "The 'group' column is dropped as it is no longer needed"
   ]
  },
  {
   "cell_type": "code",
   "execution_count": 23,
   "metadata": {},
   "outputs": [],
   "source": [
    "exam_df_pivot = exam_df_pivot.drop(columns=[\"group\"])"
   ]
  },
  {
   "cell_type": "markdown",
   "metadata": {},
   "source": [
    "**5. Displaying the Pivoted DataFrame:**\n",
    "\n",
    "The first 10 rows of the pivoted DataFrame are displayed to verify the results of the transformation."
   ]
  },
  {
   "cell_type": "code",
   "execution_count": 24,
   "metadata": {},
   "outputs": [
    {
     "data": {
      "application/vnd.microsoft.datawrangler.viewer.v0+json": {
       "columns": [
        {
         "name": "index",
         "rawType": "int64",
         "type": "integer"
        },
        {
         "name": "Question",
         "rawType": "object",
         "type": "string"
        },
        {
         "name": "Option_1",
         "rawType": "object",
         "type": "string"
        },
        {
         "name": "Option_2",
         "rawType": "object",
         "type": "string"
        },
        {
         "name": "Option_3",
         "rawType": "object",
         "type": "string"
        },
        {
         "name": "Option_4",
         "rawType": "object",
         "type": "string"
        }
       ],
       "conversionMethod": "pd.DataFrame",
       "ref": "c78a40ec-b09c-488e-a9a1-67f7eb2f3e3c",
       "rows": [
        [
         "0",
         "1. Pregunta asociada a la imagen 1. Varón de 65 años, sin antecedentes de interés, que consulta por tos, dolor torácico, fiebre, sudoración nocturna y disnea. En la radiografía de tórax se observa un derrame pleural unilateral izquierdo, por lo que se realiza una TC torácica que confirma el d errame pleural y donde además se observa un engrosamiento pleural y micronódulos subpleurales en el lóbulo superior izquierdo. Ante este hallazgo se decide realizar una toracoscopia con biop sia pleural, cuya histología se muestra en la figura. ¿Cuál es el diagnóstico anatomopatológico de la lesión pleural?:",
         "1. Infiltración por adenocarcinoma.",
         "2. Inflamación aguda con abscesificación.",
         "3. Inflamación granulomatosa.",
         "4. Mesotelioma."
        ],
        [
         "1",
         "2. Pregunta asociada a la imagen 2. Varón de 20 años, de constitución longilínea, que presenta desde hace unos 15 meses disnea d e  g r a n d e s  e s f u e r z o s  q u e  p r o g r e s a  a  p e q u e ñ o s esfuerzos, con palpitaciones y dolor precordial. Fallece de forma súbita subiendo escaleras. En la necropsia se encuentra un vaso con la imagen de la figura. De las siguientes ¿cuál es la enfermedad más probable?:",
         "1. Embolia pulmonar.",
         "2. Traumatismo torácico con afectación de la aorta y el corazón.",
         "3. Necrosis quística de la media y síndrome de Marfan.",
         "4. Síndrome dislipémico familiar con grave aterosclerosis."
        ],
        [
         "2",
         "3. Pregunta asociada a la imagen 3. Mujer de 81 años que consulta por ictericia, dolor epigástrico, astenia y anorexia. La TC abdominal muestra en la cabeza del páncreas u n a  l e s i ó n  s ó l i d a ,  m a l  d e l i m i t a d a ,  d e  2 4  x  2 4 m m ,  q u e  c o n t a c t a  f o c a l m e n t e  c o n  l a  v e n a  m e sentérica superior y comporta dilatación de la vía biliar. No se observa un claro contacto con otras estructuras vasculares principales. Con la sospecha de proceso neoformativo se indica la intervención quirúrgica. Se muestra una imagen macroscópica y una microscópica de la lesión pancreática. El estudio inmunohistoquímico realizado en la pieza de resección muestra positividad para citoqueratina 7 y negatividad para sinaptofisina, tripsina, CK20 y CDX2. ¿Cuál es el diagnóstico anatomopatológico de la lesión pancreática?:",
         "1. Adenocarcinoma ductal.",
         "2. Cistadenoma seroso.",
         "3. Neoplasia mucinosa quística.",
         "4. Pancreatitis autoinmune asociada a enfermedad por IgG4."
        ],
        [
         "3",
         "4. Pregunta asociada a la imagen 4. Se realizó una biopsia hepática en una paciente de 37 años con obesidad y alteración de las transaminasas (figura 2014) que demostró una intensa esteatosis que afectaba al 70% de los hepatocitos. A los 7 años, tras ser diagnosticada de esclerosis múltiple y ganar peso, se repitió la biopsia (figura 2021). ¿Cuál de las siguientes afirmaciones describe mejor la evolución?:",
         "1. La esteatosis es menos intensa en la segunda biopsia, lo que es signo de buen pronóstico.",
         "2. En la segunda biopsia no hay datos de inflamación ni degeneración balonizante, lo que es signo de buen pronóstico.",
         "3. La segunda biopsia muestra una situación estable.",
         "4. La presencia de fibrosis en puentes demuestra la progresión de la enfermedad."
        ],
        [
         "4",
         "5. Pregunta asociada a la imagen 5. Mujer de 90 años de ed ad que presenta desde hace un mes y medio la lesión de la imagen. La lesión ha crecido rápidamente, sangra con facilidad y le ocasiona ligero dolor.  De entre las siguientes  opciones ¿cuál es la más probable?:",
         "1. Carcinoma de células escamosas cutáneo invasivo.",
         "2. Carcinoma basocelular esclerodermiforme.",
         "3. Sarcoma de Kaposi.",
         "4. Lupus vulgar."
        ],
        [
         "5",
         "6. Pregunta asociada a la imagen 6. M u j e r   d e  7 0   a ñ o s  q u e  c o n s u l t a  p o r  l e s i o n e s cutáneas de 1 año de evolución, sin otra sintomatología asociada. Ni ega antecedentes personales de interés. En la exploración presenta 20 placas eritematosas finamente descamativas y discretamente atróficas,  de tamaños de 4 a 10 cm en glúteos, ambas axilas y mamas, sin otros hallazgos. La anatomía patológica muestra un infiltrado en dermis sup erficial de linfocitos atípicos en banda, con marcado epidermotropismo y formación de microabscesos intraepidérmicos. La analítica sanguínea completa fue normal. De los siguientes ¿cuál es el diagnóstico más probable?:",
         "1. Linfoma de Hodgkin cutáneo.",
         "2. Síndrome de Sézary.",
         "3. Linfoma no Hodgkin cutáneo tipo T.",
         "4. Psoriasis pustulosa."
        ],
        [
         "6",
         "7. Pregunta asociada a la imagen 7. Niño de 23 meses de edad que ingresa por rectorragias de repetición y anemización (hemoglobina 10,0 g/dl, hematocrito 27,9 %. Se realiza estudio ecográfico abdominal sin hallazgos. Se muestra en la imagen la gammagrafía con pertecnetato-99mTc. De los siguientes, el diagnóstico más probable es:",
         "1. Punto de sangrado de origen gástrico.",
         "2. Divertículo de Meckel revestido de mucosa gástrica ectópica.",
         "3. Punto de sangrado de origen genitourinario.",
         "4. Gammagrafía normal."
        ],
        [
         "7",
         "8. Pregunta asociada a la imagen 8. Varón de 86 años con antecedentes de adenocarcinoma de próstata t r a t a d o  c o n  b r a q u i t e r a pia e HTA bien controlada que acude a urgencias por la aparición de edemas en MMII en las dos últimas semanas y disnea progresiva hasta hacerse de reposo. Se realiza ecocardiograma transtorácico observando una hipertrofia leve concéntrica del VI con función sistólica conservada. Se muestra la gammagrafía con pirofosfatos-99mTc. ¿Cuál de los siguientes es el diagnóstico más probable?:",
         "1. Infarto agudo de miocardio.",
         "2. Gammagrafía cardiaca normal.",
         "3. Amiloidosis cardiaca mediada por transtiretina.",
         "4. Derrame pericárdico."
        ],
        [
         "8",
         "9. Pregunta asociada a la imagen 9. Mujer de 85 años, en tra tamiento con rosuvastatina por dislipemia, que en las últimas 4 semanas presenta fiebre diaria (38-38,5ºC), bien tolerada, sin escalofríos y sin sudoración nocturna, y pérdida de 3 kg de peso. En la exploración física destaca engrosamiento de la arteria temporal izquierda. Análisis: PCR 12 mg/dl, hemoglobina 9,5 g/dl. Radiografía de tórax normal. El resultado de la PET/TC se muestra en la figura. En este contexto ¿cuál es la respuesta correcta?:",
         "1. La fiebre o febrícula es un síntoma presente en menos del 10 % de los pacientes.",
         "2. Cuando se diagnostica la enfermedad, los hallazgos radiológicos (como los observados en esta PET/TC) están presentes en un 50-70 % de los pacientes.",
         "3. Atendiendo a los hallazgos de la PET/TC en esta paciente tiene indicación de tratamiento inmediato con glucocorticoides (20 mg/día) y tocilizumab.",
         "4. La PET/TC es la técnica más específica para establecer el diagnóstico."
        ],
        [
         "9",
         "10. Pregunta asociad a a la imagen 10. Mujer de 30 años sin cirugías previas en estudio de esterilidad primaria de 18 meses de evolución. No existen hallazgos patológicos en su pareja masculina. La ecografía ginecológica es normal. La histerosalpingografía se muestra en l a  i m a g e n .  C o n  e s t o s  d a t o s  ¿ c u á l  s e r í a  e l  s i guiente procedimiento a realizar?:",
         "1. Fecundación in vitro.",
         "2. Inseminación artificial.",
         "3. Salpinguectomía bilateral laparoscópica.",
         "4. Cromopertubación laparoscópica."
        ]
       ],
       "shape": {
        "columns": 5,
        "rows": 10
       }
      },
      "text/html": [
       "<div>\n",
       "<style scoped>\n",
       "    .dataframe tbody tr th:only-of-type {\n",
       "        vertical-align: middle;\n",
       "    }\n",
       "\n",
       "    .dataframe tbody tr th {\n",
       "        vertical-align: top;\n",
       "    }\n",
       "\n",
       "    .dataframe thead th {\n",
       "        text-align: right;\n",
       "    }\n",
       "</style>\n",
       "<table border=\"1\" class=\"dataframe\">\n",
       "  <thead>\n",
       "    <tr style=\"text-align: right;\">\n",
       "      <th></th>\n",
       "      <th>Question</th>\n",
       "      <th>Option_1</th>\n",
       "      <th>Option_2</th>\n",
       "      <th>Option_3</th>\n",
       "      <th>Option_4</th>\n",
       "    </tr>\n",
       "  </thead>\n",
       "  <tbody>\n",
       "    <tr>\n",
       "      <th>0</th>\n",
       "      <td>1. Pregunta asociada a la imagen 1. Varón de 6...</td>\n",
       "      <td>1. Infiltración por adenocarcinoma.</td>\n",
       "      <td>2. Inflamación aguda con abscesificación.</td>\n",
       "      <td>3. Inflamación granulomatosa.</td>\n",
       "      <td>4. Mesotelioma.</td>\n",
       "    </tr>\n",
       "    <tr>\n",
       "      <th>1</th>\n",
       "      <td>2. Pregunta asociada a la imagen 2. Varón de 2...</td>\n",
       "      <td>1. Embolia pulmonar.</td>\n",
       "      <td>2. Traumatismo torácico con afectación de la a...</td>\n",
       "      <td>3. Necrosis quística de la media y síndrome de...</td>\n",
       "      <td>4. Síndrome dislipémico familiar con grave ate...</td>\n",
       "    </tr>\n",
       "    <tr>\n",
       "      <th>2</th>\n",
       "      <td>3. Pregunta asociada a la imagen 3. Mujer de 8...</td>\n",
       "      <td>1. Adenocarcinoma ductal.</td>\n",
       "      <td>2. Cistadenoma seroso.</td>\n",
       "      <td>3. Neoplasia mucinosa quística.</td>\n",
       "      <td>4. Pancreatitis autoinmune asociada a enfermed...</td>\n",
       "    </tr>\n",
       "    <tr>\n",
       "      <th>3</th>\n",
       "      <td>4. Pregunta asociada a la imagen 4. Se realizó...</td>\n",
       "      <td>1. La esteatosis es menos intensa en la segund...</td>\n",
       "      <td>2. En la segunda biopsia no hay datos de infla...</td>\n",
       "      <td>3. La segunda biopsia muestra una situación es...</td>\n",
       "      <td>4. La presencia de fibrosis en puentes demuest...</td>\n",
       "    </tr>\n",
       "    <tr>\n",
       "      <th>4</th>\n",
       "      <td>5. Pregunta asociada a la imagen 5. Mujer de 9...</td>\n",
       "      <td>1. Carcinoma de células escamosas cutáneo inva...</td>\n",
       "      <td>2. Carcinoma basocelular esclerodermiforme.</td>\n",
       "      <td>3. Sarcoma de Kaposi.</td>\n",
       "      <td>4. Lupus vulgar.</td>\n",
       "    </tr>\n",
       "    <tr>\n",
       "      <th>5</th>\n",
       "      <td>6. Pregunta asociada a la imagen 6. M u j e r ...</td>\n",
       "      <td>1. Linfoma de Hodgkin cutáneo.</td>\n",
       "      <td>2. Síndrome de Sézary.</td>\n",
       "      <td>3. Linfoma no Hodgkin cutáneo tipo T.</td>\n",
       "      <td>4. Psoriasis pustulosa.</td>\n",
       "    </tr>\n",
       "    <tr>\n",
       "      <th>6</th>\n",
       "      <td>7. Pregunta asociada a la imagen 7. Niño de 23...</td>\n",
       "      <td>1. Punto de sangrado de origen gástrico.</td>\n",
       "      <td>2. Divertículo de Meckel revestido de mucosa g...</td>\n",
       "      <td>3. Punto de sangrado de origen genitourinario.</td>\n",
       "      <td>4. Gammagrafía normal.</td>\n",
       "    </tr>\n",
       "    <tr>\n",
       "      <th>7</th>\n",
       "      <td>8. Pregunta asociada a la imagen 8. Varón de 8...</td>\n",
       "      <td>1. Infarto agudo de miocardio.</td>\n",
       "      <td>2. Gammagrafía cardiaca normal.</td>\n",
       "      <td>3. Amiloidosis cardiaca mediada por transtiret...</td>\n",
       "      <td>4. Derrame pericárdico.</td>\n",
       "    </tr>\n",
       "    <tr>\n",
       "      <th>8</th>\n",
       "      <td>9. Pregunta asociada a la imagen 9. Mujer de 8...</td>\n",
       "      <td>1. La fiebre o febrícula es un síntoma present...</td>\n",
       "      <td>2. Cuando se diagnostica la enfermedad, los ha...</td>\n",
       "      <td>3. Atendiendo a los hallazgos de la PET/TC en ...</td>\n",
       "      <td>4. La PET/TC es la técnica más específica para...</td>\n",
       "    </tr>\n",
       "    <tr>\n",
       "      <th>9</th>\n",
       "      <td>10. Pregunta asociad a a la imagen 10. Mujer d...</td>\n",
       "      <td>1. Fecundación in vitro.</td>\n",
       "      <td>2. Inseminación artificial.</td>\n",
       "      <td>3. Salpinguectomía bilateral laparoscópica.</td>\n",
       "      <td>4. Cromopertubación laparoscópica.</td>\n",
       "    </tr>\n",
       "  </tbody>\n",
       "</table>\n",
       "</div>"
      ],
      "text/plain": [
       "                                            Question  \\\n",
       "0  1. Pregunta asociada a la imagen 1. Varón de 6...   \n",
       "1  2. Pregunta asociada a la imagen 2. Varón de 2...   \n",
       "2  3. Pregunta asociada a la imagen 3. Mujer de 8...   \n",
       "3  4. Pregunta asociada a la imagen 4. Se realizó...   \n",
       "4  5. Pregunta asociada a la imagen 5. Mujer de 9...   \n",
       "5  6. Pregunta asociada a la imagen 6. M u j e r ...   \n",
       "6  7. Pregunta asociada a la imagen 7. Niño de 23...   \n",
       "7  8. Pregunta asociada a la imagen 8. Varón de 8...   \n",
       "8  9. Pregunta asociada a la imagen 9. Mujer de 8...   \n",
       "9  10. Pregunta asociad a a la imagen 10. Mujer d...   \n",
       "\n",
       "                                            Option_1  \\\n",
       "0                1. Infiltración por adenocarcinoma.   \n",
       "1                               1. Embolia pulmonar.   \n",
       "2                          1. Adenocarcinoma ductal.   \n",
       "3  1. La esteatosis es menos intensa en la segund...   \n",
       "4  1. Carcinoma de células escamosas cutáneo inva...   \n",
       "5                     1. Linfoma de Hodgkin cutáneo.   \n",
       "6           1. Punto de sangrado de origen gástrico.   \n",
       "7                     1. Infarto agudo de miocardio.   \n",
       "8  1. La fiebre o febrícula es un síntoma present...   \n",
       "9                           1. Fecundación in vitro.   \n",
       "\n",
       "                                            Option_2  \\\n",
       "0          2. Inflamación aguda con abscesificación.   \n",
       "1  2. Traumatismo torácico con afectación de la a...   \n",
       "2                             2. Cistadenoma seroso.   \n",
       "3  2. En la segunda biopsia no hay datos de infla...   \n",
       "4        2. Carcinoma basocelular esclerodermiforme.   \n",
       "5                             2. Síndrome de Sézary.   \n",
       "6  2. Divertículo de Meckel revestido de mucosa g...   \n",
       "7                    2. Gammagrafía cardiaca normal.   \n",
       "8  2. Cuando se diagnostica la enfermedad, los ha...   \n",
       "9                        2. Inseminación artificial.   \n",
       "\n",
       "                                            Option_3  \\\n",
       "0                      3. Inflamación granulomatosa.   \n",
       "1  3. Necrosis quística de la media y síndrome de...   \n",
       "2                    3. Neoplasia mucinosa quística.   \n",
       "3  3. La segunda biopsia muestra una situación es...   \n",
       "4                              3. Sarcoma de Kaposi.   \n",
       "5              3. Linfoma no Hodgkin cutáneo tipo T.   \n",
       "6     3. Punto de sangrado de origen genitourinario.   \n",
       "7  3. Amiloidosis cardiaca mediada por transtiret...   \n",
       "8  3. Atendiendo a los hallazgos de la PET/TC en ...   \n",
       "9        3. Salpinguectomía bilateral laparoscópica.   \n",
       "\n",
       "                                            Option_4  \n",
       "0                                    4. Mesotelioma.  \n",
       "1  4. Síndrome dislipémico familiar con grave ate...  \n",
       "2  4. Pancreatitis autoinmune asociada a enfermed...  \n",
       "3  4. La presencia de fibrosis en puentes demuest...  \n",
       "4                                   4. Lupus vulgar.  \n",
       "5                            4. Psoriasis pustulosa.  \n",
       "6                             4. Gammagrafía normal.  \n",
       "7                            4. Derrame pericárdico.  \n",
       "8  4. La PET/TC es la técnica más específica para...  \n",
       "9                 4. Cromopertubación laparoscópica.  "
      ]
     },
     "execution_count": 24,
     "metadata": {},
     "output_type": "execute_result"
    }
   ],
   "source": [
    "exam_df_pivot.head(10)"
   ]
  },
  {
   "cell_type": "markdown",
   "metadata": {},
   "source": [
    "## Answers tsv\n",
    "\n",
    "This section focuses on cleaning and consolidating the answer key data from the TSV file. The original data contains duplicate columns, which are processed and combined into a single, clean DataFrame.\n",
    "\n",
    "**1. Defining Column Lists:**\n",
    "\n",
    "We define lists containing the original column names and the duplicate column names."
   ]
  },
  {
   "cell_type": "code",
   "execution_count": 25,
   "metadata": {},
   "outputs": [],
   "source": [
    "original_col: list[str] = [\"V\", \"RC\"]\n",
    "duplicate_cols: list[str] = [\"V.1\", \"RC.1\", \"V.2\", \"RC.2\", \"V.3\", \"RC.3\", \"V.4\", \"RC.4\"]"
   ]
  },
  {
   "cell_type": "markdown",
   "metadata": {},
   "source": [
    "**2. Processing Duplicate Columns:**\n",
    "\n",
    "We iterate through the duplicate_cols list in pairs, extracting the corresponding columns, renaming them to the original column names, and appending them to a list of DataFrames."
   ]
  },
  {
   "cell_type": "code",
   "execution_count": 26,
   "metadata": {},
   "outputs": [],
   "source": [
    "answers_df_list: list[pd.DataFrame] = [raw_answers_df[original_col]]\n",
    "\n",
    "for i in range(0, len(duplicate_cols), 2):\n",
    "    pair_cols: list = duplicate_cols[i:i+2]\n",
    "    df_pair_col: pd.DataFrame = raw_answers_df[pair_cols].rename(columns={pair_cols[0]: \"V\", pair_cols[1]: \"RC\"})\n",
    "    answers_df_list.append(df_pair_col)"
   ]
  },
  {
   "cell_type": "markdown",
   "metadata": {},
   "source": [
    "**3. Concatenating DataFrames:**\n",
    "\n",
    "The list of DataFrames is concatenated into a single DataFrame, ignoring the original index."
   ]
  },
  {
   "cell_type": "code",
   "execution_count": 27,
   "metadata": {},
   "outputs": [],
   "source": [
    "answers_df_clean: pd.DataFrame = pd.concat(answers_df_list, ignore_index=True)"
   ]
  },
  {
   "cell_type": "markdown",
   "metadata": {},
   "source": [
    "**4. Displaying the Cleaned DataFrame:**\n",
    "\n",
    "The cleaned DataFrame is printed to verify the results of the consolidation process."
   ]
  },
  {
   "cell_type": "code",
   "execution_count": 28,
   "metadata": {},
   "outputs": [
    {
     "data": {
      "application/vnd.microsoft.datawrangler.viewer.v0+json": {
       "columns": [
        {
         "name": "index",
         "rawType": "int64",
         "type": "integer"
        },
        {
         "name": "V",
         "rawType": "int64",
         "type": "integer"
        },
        {
         "name": "RC",
         "rawType": "float64",
         "type": "float"
        }
       ],
       "conversionMethod": "pd.DataFrame",
       "ref": "827a3161-855b-43ff-bedb-c435d5c0fa67",
       "rows": [
        [
         "0",
         "1",
         "3.0"
        ],
        [
         "1",
         "2",
         "3.0"
        ],
        [
         "2",
         "3",
         "1.0"
        ],
        [
         "3",
         "4",
         "4.0"
        ],
        [
         "4",
         "5",
         "1.0"
        ],
        [
         "5",
         "6",
         "3.0"
        ],
        [
         "6",
         "7",
         "2.0"
        ],
        [
         "7",
         "8",
         "3.0"
        ],
        [
         "8",
         "9",
         "2.0"
        ],
        [
         "9",
         "10",
         "2.0"
        ]
       ],
       "shape": {
        "columns": 2,
        "rows": 10
       }
      },
      "text/html": [
       "<div>\n",
       "<style scoped>\n",
       "    .dataframe tbody tr th:only-of-type {\n",
       "        vertical-align: middle;\n",
       "    }\n",
       "\n",
       "    .dataframe tbody tr th {\n",
       "        vertical-align: top;\n",
       "    }\n",
       "\n",
       "    .dataframe thead th {\n",
       "        text-align: right;\n",
       "    }\n",
       "</style>\n",
       "<table border=\"1\" class=\"dataframe\">\n",
       "  <thead>\n",
       "    <tr style=\"text-align: right;\">\n",
       "      <th></th>\n",
       "      <th>V</th>\n",
       "      <th>RC</th>\n",
       "    </tr>\n",
       "  </thead>\n",
       "  <tbody>\n",
       "    <tr>\n",
       "      <th>0</th>\n",
       "      <td>1</td>\n",
       "      <td>3.0</td>\n",
       "    </tr>\n",
       "    <tr>\n",
       "      <th>1</th>\n",
       "      <td>2</td>\n",
       "      <td>3.0</td>\n",
       "    </tr>\n",
       "    <tr>\n",
       "      <th>2</th>\n",
       "      <td>3</td>\n",
       "      <td>1.0</td>\n",
       "    </tr>\n",
       "    <tr>\n",
       "      <th>3</th>\n",
       "      <td>4</td>\n",
       "      <td>4.0</td>\n",
       "    </tr>\n",
       "    <tr>\n",
       "      <th>4</th>\n",
       "      <td>5</td>\n",
       "      <td>1.0</td>\n",
       "    </tr>\n",
       "    <tr>\n",
       "      <th>5</th>\n",
       "      <td>6</td>\n",
       "      <td>3.0</td>\n",
       "    </tr>\n",
       "    <tr>\n",
       "      <th>6</th>\n",
       "      <td>7</td>\n",
       "      <td>2.0</td>\n",
       "    </tr>\n",
       "    <tr>\n",
       "      <th>7</th>\n",
       "      <td>8</td>\n",
       "      <td>3.0</td>\n",
       "    </tr>\n",
       "    <tr>\n",
       "      <th>8</th>\n",
       "      <td>9</td>\n",
       "      <td>2.0</td>\n",
       "    </tr>\n",
       "    <tr>\n",
       "      <th>9</th>\n",
       "      <td>10</td>\n",
       "      <td>2.0</td>\n",
       "    </tr>\n",
       "  </tbody>\n",
       "</table>\n",
       "</div>"
      ],
      "text/plain": [
       "    V   RC\n",
       "0   1  3.0\n",
       "1   2  3.0\n",
       "2   3  1.0\n",
       "3   4  4.0\n",
       "4   5  1.0\n",
       "5   6  3.0\n",
       "6   7  2.0\n",
       "7   8  3.0\n",
       "8   9  2.0\n",
       "9  10  2.0"
      ]
     },
     "execution_count": 28,
     "metadata": {},
     "output_type": "execute_result"
    }
   ],
   "source": [
    "answers_df_clean.head(10)"
   ]
  },
  {
   "cell_type": "markdown",
   "metadata": {},
   "source": [
    "## Joining the DataFrames\n",
    "\n",
    "This section focuses on merging the processed exam questions DataFrame with the cleaned answers DataFrame, performing final data cleaning, and verifying the integrity of the joined data.\n",
    "\n",
    "**1. Joining the DataFrames:**\n",
    "\n",
    "The pivoted exam questions DataFrame (`exam_df_pivot`) and the cleaned answers DataFrame (`answers_df_clean`) are joined horizontally using `pd.concat`. The 'V0' column, which represents the question number from the answers DataFrame, is then dropped. The first 10 rows of the joined DataFrame are displayed."
   ]
  },
  {
   "cell_type": "code",
   "execution_count": 29,
   "metadata": {},
   "outputs": [
    {
     "data": {
      "application/vnd.microsoft.datawrangler.viewer.v0+json": {
       "columns": [
        {
         "name": "index",
         "rawType": "int64",
         "type": "integer"
        },
        {
         "name": "Question",
         "rawType": "object",
         "type": "string"
        },
        {
         "name": "Option_1",
         "rawType": "object",
         "type": "string"
        },
        {
         "name": "Option_2",
         "rawType": "object",
         "type": "string"
        },
        {
         "name": "Option_3",
         "rawType": "object",
         "type": "string"
        },
        {
         "name": "Option_4",
         "rawType": "object",
         "type": "string"
        },
        {
         "name": "RC",
         "rawType": "float64",
         "type": "float"
        }
       ],
       "conversionMethod": "pd.DataFrame",
       "ref": "789eaa64-4bc2-44fc-82d7-f1c7996abb06",
       "rows": [
        [
         "0",
         "1. Pregunta asociada a la imagen 1. Varón de 65 años, sin antecedentes de interés, que consulta por tos, dolor torácico, fiebre, sudoración nocturna y disnea. En la radiografía de tórax se observa un derrame pleural unilateral izquierdo, por lo que se realiza una TC torácica que confirma el d errame pleural y donde además se observa un engrosamiento pleural y micronódulos subpleurales en el lóbulo superior izquierdo. Ante este hallazgo se decide realizar una toracoscopia con biop sia pleural, cuya histología se muestra en la figura. ¿Cuál es el diagnóstico anatomopatológico de la lesión pleural?:",
         "1. Infiltración por adenocarcinoma.",
         "2. Inflamación aguda con abscesificación.",
         "3. Inflamación granulomatosa.",
         "4. Mesotelioma.",
         "3.0"
        ],
        [
         "1",
         "2. Pregunta asociada a la imagen 2. Varón de 20 años, de constitución longilínea, que presenta desde hace unos 15 meses disnea d e  g r a n d e s  e s f u e r z o s  q u e  p r o g r e s a  a  p e q u e ñ o s esfuerzos, con palpitaciones y dolor precordial. Fallece de forma súbita subiendo escaleras. En la necropsia se encuentra un vaso con la imagen de la figura. De las siguientes ¿cuál es la enfermedad más probable?:",
         "1. Embolia pulmonar.",
         "2. Traumatismo torácico con afectación de la aorta y el corazón.",
         "3. Necrosis quística de la media y síndrome de Marfan.",
         "4. Síndrome dislipémico familiar con grave aterosclerosis.",
         "3.0"
        ],
        [
         "2",
         "3. Pregunta asociada a la imagen 3. Mujer de 81 años que consulta por ictericia, dolor epigástrico, astenia y anorexia. La TC abdominal muestra en la cabeza del páncreas u n a  l e s i ó n  s ó l i d a ,  m a l  d e l i m i t a d a ,  d e  2 4  x  2 4 m m ,  q u e  c o n t a c t a  f o c a l m e n t e  c o n  l a  v e n a  m e sentérica superior y comporta dilatación de la vía biliar. No se observa un claro contacto con otras estructuras vasculares principales. Con la sospecha de proceso neoformativo se indica la intervención quirúrgica. Se muestra una imagen macroscópica y una microscópica de la lesión pancreática. El estudio inmunohistoquímico realizado en la pieza de resección muestra positividad para citoqueratina 7 y negatividad para sinaptofisina, tripsina, CK20 y CDX2. ¿Cuál es el diagnóstico anatomopatológico de la lesión pancreática?:",
         "1. Adenocarcinoma ductal.",
         "2. Cistadenoma seroso.",
         "3. Neoplasia mucinosa quística.",
         "4. Pancreatitis autoinmune asociada a enfermedad por IgG4.",
         "1.0"
        ],
        [
         "3",
         "4. Pregunta asociada a la imagen 4. Se realizó una biopsia hepática en una paciente de 37 años con obesidad y alteración de las transaminasas (figura 2014) que demostró una intensa esteatosis que afectaba al 70% de los hepatocitos. A los 7 años, tras ser diagnosticada de esclerosis múltiple y ganar peso, se repitió la biopsia (figura 2021). ¿Cuál de las siguientes afirmaciones describe mejor la evolución?:",
         "1. La esteatosis es menos intensa en la segunda biopsia, lo que es signo de buen pronóstico.",
         "2. En la segunda biopsia no hay datos de inflamación ni degeneración balonizante, lo que es signo de buen pronóstico.",
         "3. La segunda biopsia muestra una situación estable.",
         "4. La presencia de fibrosis en puentes demuestra la progresión de la enfermedad.",
         "4.0"
        ],
        [
         "4",
         "5. Pregunta asociada a la imagen 5. Mujer de 90 años de ed ad que presenta desde hace un mes y medio la lesión de la imagen. La lesión ha crecido rápidamente, sangra con facilidad y le ocasiona ligero dolor.  De entre las siguientes  opciones ¿cuál es la más probable?:",
         "1. Carcinoma de células escamosas cutáneo invasivo.",
         "2. Carcinoma basocelular esclerodermiforme.",
         "3. Sarcoma de Kaposi.",
         "4. Lupus vulgar.",
         "1.0"
        ],
        [
         "5",
         "6. Pregunta asociada a la imagen 6. M u j e r   d e  7 0   a ñ o s  q u e  c o n s u l t a  p o r  l e s i o n e s cutáneas de 1 año de evolución, sin otra sintomatología asociada. Ni ega antecedentes personales de interés. En la exploración presenta 20 placas eritematosas finamente descamativas y discretamente atróficas,  de tamaños de 4 a 10 cm en glúteos, ambas axilas y mamas, sin otros hallazgos. La anatomía patológica muestra un infiltrado en dermis sup erficial de linfocitos atípicos en banda, con marcado epidermotropismo y formación de microabscesos intraepidérmicos. La analítica sanguínea completa fue normal. De los siguientes ¿cuál es el diagnóstico más probable?:",
         "1. Linfoma de Hodgkin cutáneo.",
         "2. Síndrome de Sézary.",
         "3. Linfoma no Hodgkin cutáneo tipo T.",
         "4. Psoriasis pustulosa.",
         "3.0"
        ],
        [
         "6",
         "7. Pregunta asociada a la imagen 7. Niño de 23 meses de edad que ingresa por rectorragias de repetición y anemización (hemoglobina 10,0 g/dl, hematocrito 27,9 %. Se realiza estudio ecográfico abdominal sin hallazgos. Se muestra en la imagen la gammagrafía con pertecnetato-99mTc. De los siguientes, el diagnóstico más probable es:",
         "1. Punto de sangrado de origen gástrico.",
         "2. Divertículo de Meckel revestido de mucosa gástrica ectópica.",
         "3. Punto de sangrado de origen genitourinario.",
         "4. Gammagrafía normal.",
         "2.0"
        ],
        [
         "7",
         "8. Pregunta asociada a la imagen 8. Varón de 86 años con antecedentes de adenocarcinoma de próstata t r a t a d o  c o n  b r a q u i t e r a pia e HTA bien controlada que acude a urgencias por la aparición de edemas en MMII en las dos últimas semanas y disnea progresiva hasta hacerse de reposo. Se realiza ecocardiograma transtorácico observando una hipertrofia leve concéntrica del VI con función sistólica conservada. Se muestra la gammagrafía con pirofosfatos-99mTc. ¿Cuál de los siguientes es el diagnóstico más probable?:",
         "1. Infarto agudo de miocardio.",
         "2. Gammagrafía cardiaca normal.",
         "3. Amiloidosis cardiaca mediada por transtiretina.",
         "4. Derrame pericárdico.",
         "3.0"
        ],
        [
         "8",
         "9. Pregunta asociada a la imagen 9. Mujer de 85 años, en tra tamiento con rosuvastatina por dislipemia, que en las últimas 4 semanas presenta fiebre diaria (38-38,5ºC), bien tolerada, sin escalofríos y sin sudoración nocturna, y pérdida de 3 kg de peso. En la exploración física destaca engrosamiento de la arteria temporal izquierda. Análisis: PCR 12 mg/dl, hemoglobina 9,5 g/dl. Radiografía de tórax normal. El resultado de la PET/TC se muestra en la figura. En este contexto ¿cuál es la respuesta correcta?:",
         "1. La fiebre o febrícula es un síntoma presente en menos del 10 % de los pacientes.",
         "2. Cuando se diagnostica la enfermedad, los hallazgos radiológicos (como los observados en esta PET/TC) están presentes en un 50-70 % de los pacientes.",
         "3. Atendiendo a los hallazgos de la PET/TC en esta paciente tiene indicación de tratamiento inmediato con glucocorticoides (20 mg/día) y tocilizumab.",
         "4. La PET/TC es la técnica más específica para establecer el diagnóstico.",
         "2.0"
        ],
        [
         "9",
         "10. Pregunta asociad a a la imagen 10. Mujer de 30 años sin cirugías previas en estudio de esterilidad primaria de 18 meses de evolución. No existen hallazgos patológicos en su pareja masculina. La ecografía ginecológica es normal. La histerosalpingografía se muestra en l a  i m a g e n .  C o n  e s t o s  d a t o s  ¿ c u á l  s e r í a  e l  s i guiente procedimiento a realizar?:",
         "1. Fecundación in vitro.",
         "2. Inseminación artificial.",
         "3. Salpinguectomía bilateral laparoscópica.",
         "4. Cromopertubación laparoscópica.",
         "2.0"
        ]
       ],
       "shape": {
        "columns": 6,
        "rows": 10
       }
      },
      "text/html": [
       "<div>\n",
       "<style scoped>\n",
       "    .dataframe tbody tr th:only-of-type {\n",
       "        vertical-align: middle;\n",
       "    }\n",
       "\n",
       "    .dataframe tbody tr th {\n",
       "        vertical-align: top;\n",
       "    }\n",
       "\n",
       "    .dataframe thead th {\n",
       "        text-align: right;\n",
       "    }\n",
       "</style>\n",
       "<table border=\"1\" class=\"dataframe\">\n",
       "  <thead>\n",
       "    <tr style=\"text-align: right;\">\n",
       "      <th></th>\n",
       "      <th>Question</th>\n",
       "      <th>Option_1</th>\n",
       "      <th>Option_2</th>\n",
       "      <th>Option_3</th>\n",
       "      <th>Option_4</th>\n",
       "      <th>RC</th>\n",
       "    </tr>\n",
       "  </thead>\n",
       "  <tbody>\n",
       "    <tr>\n",
       "      <th>0</th>\n",
       "      <td>1. Pregunta asociada a la imagen 1. Varón de 6...</td>\n",
       "      <td>1. Infiltración por adenocarcinoma.</td>\n",
       "      <td>2. Inflamación aguda con abscesificación.</td>\n",
       "      <td>3. Inflamación granulomatosa.</td>\n",
       "      <td>4. Mesotelioma.</td>\n",
       "      <td>3.0</td>\n",
       "    </tr>\n",
       "    <tr>\n",
       "      <th>1</th>\n",
       "      <td>2. Pregunta asociada a la imagen 2. Varón de 2...</td>\n",
       "      <td>1. Embolia pulmonar.</td>\n",
       "      <td>2. Traumatismo torácico con afectación de la a...</td>\n",
       "      <td>3. Necrosis quística de la media y síndrome de...</td>\n",
       "      <td>4. Síndrome dislipémico familiar con grave ate...</td>\n",
       "      <td>3.0</td>\n",
       "    </tr>\n",
       "    <tr>\n",
       "      <th>2</th>\n",
       "      <td>3. Pregunta asociada a la imagen 3. Mujer de 8...</td>\n",
       "      <td>1. Adenocarcinoma ductal.</td>\n",
       "      <td>2. Cistadenoma seroso.</td>\n",
       "      <td>3. Neoplasia mucinosa quística.</td>\n",
       "      <td>4. Pancreatitis autoinmune asociada a enfermed...</td>\n",
       "      <td>1.0</td>\n",
       "    </tr>\n",
       "    <tr>\n",
       "      <th>3</th>\n",
       "      <td>4. Pregunta asociada a la imagen 4. Se realizó...</td>\n",
       "      <td>1. La esteatosis es menos intensa en la segund...</td>\n",
       "      <td>2. En la segunda biopsia no hay datos de infla...</td>\n",
       "      <td>3. La segunda biopsia muestra una situación es...</td>\n",
       "      <td>4. La presencia de fibrosis en puentes demuest...</td>\n",
       "      <td>4.0</td>\n",
       "    </tr>\n",
       "    <tr>\n",
       "      <th>4</th>\n",
       "      <td>5. Pregunta asociada a la imagen 5. Mujer de 9...</td>\n",
       "      <td>1. Carcinoma de células escamosas cutáneo inva...</td>\n",
       "      <td>2. Carcinoma basocelular esclerodermiforme.</td>\n",
       "      <td>3. Sarcoma de Kaposi.</td>\n",
       "      <td>4. Lupus vulgar.</td>\n",
       "      <td>1.0</td>\n",
       "    </tr>\n",
       "    <tr>\n",
       "      <th>5</th>\n",
       "      <td>6. Pregunta asociada a la imagen 6. M u j e r ...</td>\n",
       "      <td>1. Linfoma de Hodgkin cutáneo.</td>\n",
       "      <td>2. Síndrome de Sézary.</td>\n",
       "      <td>3. Linfoma no Hodgkin cutáneo tipo T.</td>\n",
       "      <td>4. Psoriasis pustulosa.</td>\n",
       "      <td>3.0</td>\n",
       "    </tr>\n",
       "    <tr>\n",
       "      <th>6</th>\n",
       "      <td>7. Pregunta asociada a la imagen 7. Niño de 23...</td>\n",
       "      <td>1. Punto de sangrado de origen gástrico.</td>\n",
       "      <td>2. Divertículo de Meckel revestido de mucosa g...</td>\n",
       "      <td>3. Punto de sangrado de origen genitourinario.</td>\n",
       "      <td>4. Gammagrafía normal.</td>\n",
       "      <td>2.0</td>\n",
       "    </tr>\n",
       "    <tr>\n",
       "      <th>7</th>\n",
       "      <td>8. Pregunta asociada a la imagen 8. Varón de 8...</td>\n",
       "      <td>1. Infarto agudo de miocardio.</td>\n",
       "      <td>2. Gammagrafía cardiaca normal.</td>\n",
       "      <td>3. Amiloidosis cardiaca mediada por transtiret...</td>\n",
       "      <td>4. Derrame pericárdico.</td>\n",
       "      <td>3.0</td>\n",
       "    </tr>\n",
       "    <tr>\n",
       "      <th>8</th>\n",
       "      <td>9. Pregunta asociada a la imagen 9. Mujer de 8...</td>\n",
       "      <td>1. La fiebre o febrícula es un síntoma present...</td>\n",
       "      <td>2. Cuando se diagnostica la enfermedad, los ha...</td>\n",
       "      <td>3. Atendiendo a los hallazgos de la PET/TC en ...</td>\n",
       "      <td>4. La PET/TC es la técnica más específica para...</td>\n",
       "      <td>2.0</td>\n",
       "    </tr>\n",
       "    <tr>\n",
       "      <th>9</th>\n",
       "      <td>10. Pregunta asociad a a la imagen 10. Mujer d...</td>\n",
       "      <td>1. Fecundación in vitro.</td>\n",
       "      <td>2. Inseminación artificial.</td>\n",
       "      <td>3. Salpinguectomía bilateral laparoscópica.</td>\n",
       "      <td>4. Cromopertubación laparoscópica.</td>\n",
       "      <td>2.0</td>\n",
       "    </tr>\n",
       "  </tbody>\n",
       "</table>\n",
       "</div>"
      ],
      "text/plain": [
       "                                            Question  \\\n",
       "0  1. Pregunta asociada a la imagen 1. Varón de 6...   \n",
       "1  2. Pregunta asociada a la imagen 2. Varón de 2...   \n",
       "2  3. Pregunta asociada a la imagen 3. Mujer de 8...   \n",
       "3  4. Pregunta asociada a la imagen 4. Se realizó...   \n",
       "4  5. Pregunta asociada a la imagen 5. Mujer de 9...   \n",
       "5  6. Pregunta asociada a la imagen 6. M u j e r ...   \n",
       "6  7. Pregunta asociada a la imagen 7. Niño de 23...   \n",
       "7  8. Pregunta asociada a la imagen 8. Varón de 8...   \n",
       "8  9. Pregunta asociada a la imagen 9. Mujer de 8...   \n",
       "9  10. Pregunta asociad a a la imagen 10. Mujer d...   \n",
       "\n",
       "                                            Option_1  \\\n",
       "0                1. Infiltración por adenocarcinoma.   \n",
       "1                               1. Embolia pulmonar.   \n",
       "2                          1. Adenocarcinoma ductal.   \n",
       "3  1. La esteatosis es menos intensa en la segund...   \n",
       "4  1. Carcinoma de células escamosas cutáneo inva...   \n",
       "5                     1. Linfoma de Hodgkin cutáneo.   \n",
       "6           1. Punto de sangrado de origen gástrico.   \n",
       "7                     1. Infarto agudo de miocardio.   \n",
       "8  1. La fiebre o febrícula es un síntoma present...   \n",
       "9                           1. Fecundación in vitro.   \n",
       "\n",
       "                                            Option_2  \\\n",
       "0          2. Inflamación aguda con abscesificación.   \n",
       "1  2. Traumatismo torácico con afectación de la a...   \n",
       "2                             2. Cistadenoma seroso.   \n",
       "3  2. En la segunda biopsia no hay datos de infla...   \n",
       "4        2. Carcinoma basocelular esclerodermiforme.   \n",
       "5                             2. Síndrome de Sézary.   \n",
       "6  2. Divertículo de Meckel revestido de mucosa g...   \n",
       "7                    2. Gammagrafía cardiaca normal.   \n",
       "8  2. Cuando se diagnostica la enfermedad, los ha...   \n",
       "9                        2. Inseminación artificial.   \n",
       "\n",
       "                                            Option_3  \\\n",
       "0                      3. Inflamación granulomatosa.   \n",
       "1  3. Necrosis quística de la media y síndrome de...   \n",
       "2                    3. Neoplasia mucinosa quística.   \n",
       "3  3. La segunda biopsia muestra una situación es...   \n",
       "4                              3. Sarcoma de Kaposi.   \n",
       "5              3. Linfoma no Hodgkin cutáneo tipo T.   \n",
       "6     3. Punto de sangrado de origen genitourinario.   \n",
       "7  3. Amiloidosis cardiaca mediada por transtiret...   \n",
       "8  3. Atendiendo a los hallazgos de la PET/TC en ...   \n",
       "9        3. Salpinguectomía bilateral laparoscópica.   \n",
       "\n",
       "                                            Option_4   RC  \n",
       "0                                    4. Mesotelioma.  3.0  \n",
       "1  4. Síndrome dislipémico familiar con grave ate...  3.0  \n",
       "2  4. Pancreatitis autoinmune asociada a enfermed...  1.0  \n",
       "3  4. La presencia de fibrosis en puentes demuest...  4.0  \n",
       "4                                   4. Lupus vulgar.  1.0  \n",
       "5                            4. Psoriasis pustulosa.  3.0  \n",
       "6                             4. Gammagrafía normal.  2.0  \n",
       "7                            4. Derrame pericárdico.  3.0  \n",
       "8  4. La PET/TC es la técnica más específica para...  2.0  \n",
       "9                 4. Cromopertubación laparoscópica.  2.0  "
      ]
     },
     "execution_count": 29,
     "metadata": {},
     "output_type": "execute_result"
    }
   ],
   "source": [
    "processed_exam_df: pd.DataFrame = pd.concat([exam_df_pivot, answers_df_clean], axis=1)\n",
    "processed_exam_df = processed_exam_df.drop(columns=[\"V\"])\n",
    "processed_exam_df.head(10)"
   ]
  },
  {
   "cell_type": "markdown",
   "metadata": {},
   "source": [
    "**2. Identifying and Handling Missing Values:**\n",
    "\n",
    "Missing values are then replaced with 0."
   ]
  },
  {
   "cell_type": "code",
   "execution_count": 30,
   "metadata": {},
   "outputs": [],
   "source": [
    "processed_exam_df = processed_exam_df.fillna(0)"
   ]
  },
  {
   "cell_type": "markdown",
   "metadata": {},
   "source": [
    "**3. Verifying Missing Values and Data Types:**\n",
    "\n",
    "The number of missing values in each column is checked, and the data types of the columns are displayed. The 'RC' (correct answer) column is then converted to integer type."
   ]
  },
  {
   "cell_type": "code",
   "execution_count": 31,
   "metadata": {},
   "outputs": [
    {
     "data": {
      "text/plain": [
       "Question    object\n",
       "Option_1    object\n",
       "Option_2    object\n",
       "Option_3    object\n",
       "Option_4    object\n",
       "RC           int32\n",
       "dtype: object"
      ]
     },
     "execution_count": 31,
     "metadata": {},
     "output_type": "execute_result"
    }
   ],
   "source": [
    "processed_exam_df.isnull().sum()\n",
    "processed_exam_df[\"RC\"] = processed_exam_df[\"RC\"].astype(int)\n",
    "processed_exam_df.dtypes"
   ]
  },
  {
   "cell_type": "markdown",
   "metadata": {},
   "source": [
    "**4. Adding year column**\n",
    "\n",
    "A column containing the year of the exam is added to the DataFrame."
   ]
  },
  {
   "cell_type": "code",
   "execution_count": 32,
   "metadata": {},
   "outputs": [],
   "source": [
    "processed_exam_df[\"year\"] = year"
   ]
  },
  {
   "cell_type": "markdown",
   "metadata": {},
   "source": [
    "**5. Displaying the Final DataFrame:**\n",
    "\n",
    "The first 10 rows of the final joined and cleaned DataFrame are displayed."
   ]
  },
  {
   "cell_type": "code",
   "execution_count": 33,
   "metadata": {},
   "outputs": [
    {
     "data": {
      "application/vnd.microsoft.datawrangler.viewer.v0+json": {
       "columns": [
        {
         "name": "index",
         "rawType": "int64",
         "type": "integer"
        },
        {
         "name": "Question",
         "rawType": "object",
         "type": "string"
        },
        {
         "name": "Option_1",
         "rawType": "object",
         "type": "string"
        },
        {
         "name": "Option_2",
         "rawType": "object",
         "type": "string"
        },
        {
         "name": "Option_3",
         "rawType": "object",
         "type": "string"
        },
        {
         "name": "Option_4",
         "rawType": "object",
         "type": "string"
        },
        {
         "name": "RC",
         "rawType": "int32",
         "type": "integer"
        },
        {
         "name": "year",
         "rawType": "int64",
         "type": "integer"
        }
       ],
       "conversionMethod": "pd.DataFrame",
       "ref": "b89874e7-8f85-424b-a8e9-f6fa5fb57a48",
       "rows": [
        [
         "0",
         "1. Pregunta asociada a la imagen 1. Varón de 65 años, sin antecedentes de interés, que consulta por tos, dolor torácico, fiebre, sudoración nocturna y disnea. En la radiografía de tórax se observa un derrame pleural unilateral izquierdo, por lo que se realiza una TC torácica que confirma el d errame pleural y donde además se observa un engrosamiento pleural y micronódulos subpleurales en el lóbulo superior izquierdo. Ante este hallazgo se decide realizar una toracoscopia con biop sia pleural, cuya histología se muestra en la figura. ¿Cuál es el diagnóstico anatomopatológico de la lesión pleural?:",
         "1. Infiltración por adenocarcinoma.",
         "2. Inflamación aguda con abscesificación.",
         "3. Inflamación granulomatosa.",
         "4. Mesotelioma.",
         "3",
         "2021"
        ],
        [
         "1",
         "2. Pregunta asociada a la imagen 2. Varón de 20 años, de constitución longilínea, que presenta desde hace unos 15 meses disnea d e  g r a n d e s  e s f u e r z o s  q u e  p r o g r e s a  a  p e q u e ñ o s esfuerzos, con palpitaciones y dolor precordial. Fallece de forma súbita subiendo escaleras. En la necropsia se encuentra un vaso con la imagen de la figura. De las siguientes ¿cuál es la enfermedad más probable?:",
         "1. Embolia pulmonar.",
         "2. Traumatismo torácico con afectación de la aorta y el corazón.",
         "3. Necrosis quística de la media y síndrome de Marfan.",
         "4. Síndrome dislipémico familiar con grave aterosclerosis.",
         "3",
         "2021"
        ],
        [
         "2",
         "3. Pregunta asociada a la imagen 3. Mujer de 81 años que consulta por ictericia, dolor epigástrico, astenia y anorexia. La TC abdominal muestra en la cabeza del páncreas u n a  l e s i ó n  s ó l i d a ,  m a l  d e l i m i t a d a ,  d e  2 4  x  2 4 m m ,  q u e  c o n t a c t a  f o c a l m e n t e  c o n  l a  v e n a  m e sentérica superior y comporta dilatación de la vía biliar. No se observa un claro contacto con otras estructuras vasculares principales. Con la sospecha de proceso neoformativo se indica la intervención quirúrgica. Se muestra una imagen macroscópica y una microscópica de la lesión pancreática. El estudio inmunohistoquímico realizado en la pieza de resección muestra positividad para citoqueratina 7 y negatividad para sinaptofisina, tripsina, CK20 y CDX2. ¿Cuál es el diagnóstico anatomopatológico de la lesión pancreática?:",
         "1. Adenocarcinoma ductal.",
         "2. Cistadenoma seroso.",
         "3. Neoplasia mucinosa quística.",
         "4. Pancreatitis autoinmune asociada a enfermedad por IgG4.",
         "1",
         "2021"
        ],
        [
         "3",
         "4. Pregunta asociada a la imagen 4. Se realizó una biopsia hepática en una paciente de 37 años con obesidad y alteración de las transaminasas (figura 2014) que demostró una intensa esteatosis que afectaba al 70% de los hepatocitos. A los 7 años, tras ser diagnosticada de esclerosis múltiple y ganar peso, se repitió la biopsia (figura 2021). ¿Cuál de las siguientes afirmaciones describe mejor la evolución?:",
         "1. La esteatosis es menos intensa en la segunda biopsia, lo que es signo de buen pronóstico.",
         "2. En la segunda biopsia no hay datos de inflamación ni degeneración balonizante, lo que es signo de buen pronóstico.",
         "3. La segunda biopsia muestra una situación estable.",
         "4. La presencia de fibrosis en puentes demuestra la progresión de la enfermedad.",
         "4",
         "2021"
        ],
        [
         "4",
         "5. Pregunta asociada a la imagen 5. Mujer de 90 años de ed ad que presenta desde hace un mes y medio la lesión de la imagen. La lesión ha crecido rápidamente, sangra con facilidad y le ocasiona ligero dolor.  De entre las siguientes  opciones ¿cuál es la más probable?:",
         "1. Carcinoma de células escamosas cutáneo invasivo.",
         "2. Carcinoma basocelular esclerodermiforme.",
         "3. Sarcoma de Kaposi.",
         "4. Lupus vulgar.",
         "1",
         "2021"
        ],
        [
         "5",
         "6. Pregunta asociada a la imagen 6. M u j e r   d e  7 0   a ñ o s  q u e  c o n s u l t a  p o r  l e s i o n e s cutáneas de 1 año de evolución, sin otra sintomatología asociada. Ni ega antecedentes personales de interés. En la exploración presenta 20 placas eritematosas finamente descamativas y discretamente atróficas,  de tamaños de 4 a 10 cm en glúteos, ambas axilas y mamas, sin otros hallazgos. La anatomía patológica muestra un infiltrado en dermis sup erficial de linfocitos atípicos en banda, con marcado epidermotropismo y formación de microabscesos intraepidérmicos. La analítica sanguínea completa fue normal. De los siguientes ¿cuál es el diagnóstico más probable?:",
         "1. Linfoma de Hodgkin cutáneo.",
         "2. Síndrome de Sézary.",
         "3. Linfoma no Hodgkin cutáneo tipo T.",
         "4. Psoriasis pustulosa.",
         "3",
         "2021"
        ],
        [
         "6",
         "7. Pregunta asociada a la imagen 7. Niño de 23 meses de edad que ingresa por rectorragias de repetición y anemización (hemoglobina 10,0 g/dl, hematocrito 27,9 %. Se realiza estudio ecográfico abdominal sin hallazgos. Se muestra en la imagen la gammagrafía con pertecnetato-99mTc. De los siguientes, el diagnóstico más probable es:",
         "1. Punto de sangrado de origen gástrico.",
         "2. Divertículo de Meckel revestido de mucosa gástrica ectópica.",
         "3. Punto de sangrado de origen genitourinario.",
         "4. Gammagrafía normal.",
         "2",
         "2021"
        ],
        [
         "7",
         "8. Pregunta asociada a la imagen 8. Varón de 86 años con antecedentes de adenocarcinoma de próstata t r a t a d o  c o n  b r a q u i t e r a pia e HTA bien controlada que acude a urgencias por la aparición de edemas en MMII en las dos últimas semanas y disnea progresiva hasta hacerse de reposo. Se realiza ecocardiograma transtorácico observando una hipertrofia leve concéntrica del VI con función sistólica conservada. Se muestra la gammagrafía con pirofosfatos-99mTc. ¿Cuál de los siguientes es el diagnóstico más probable?:",
         "1. Infarto agudo de miocardio.",
         "2. Gammagrafía cardiaca normal.",
         "3. Amiloidosis cardiaca mediada por transtiretina.",
         "4. Derrame pericárdico.",
         "3",
         "2021"
        ],
        [
         "8",
         "9. Pregunta asociada a la imagen 9. Mujer de 85 años, en tra tamiento con rosuvastatina por dislipemia, que en las últimas 4 semanas presenta fiebre diaria (38-38,5ºC), bien tolerada, sin escalofríos y sin sudoración nocturna, y pérdida de 3 kg de peso. En la exploración física destaca engrosamiento de la arteria temporal izquierda. Análisis: PCR 12 mg/dl, hemoglobina 9,5 g/dl. Radiografía de tórax normal. El resultado de la PET/TC se muestra en la figura. En este contexto ¿cuál es la respuesta correcta?:",
         "1. La fiebre o febrícula es un síntoma presente en menos del 10 % de los pacientes.",
         "2. Cuando se diagnostica la enfermedad, los hallazgos radiológicos (como los observados en esta PET/TC) están presentes en un 50-70 % de los pacientes.",
         "3. Atendiendo a los hallazgos de la PET/TC en esta paciente tiene indicación de tratamiento inmediato con glucocorticoides (20 mg/día) y tocilizumab.",
         "4. La PET/TC es la técnica más específica para establecer el diagnóstico.",
         "2",
         "2021"
        ],
        [
         "9",
         "10. Pregunta asociad a a la imagen 10. Mujer de 30 años sin cirugías previas en estudio de esterilidad primaria de 18 meses de evolución. No existen hallazgos patológicos en su pareja masculina. La ecografía ginecológica es normal. La histerosalpingografía se muestra en l a  i m a g e n .  C o n  e s t o s  d a t o s  ¿ c u á l  s e r í a  e l  s i guiente procedimiento a realizar?:",
         "1. Fecundación in vitro.",
         "2. Inseminación artificial.",
         "3. Salpinguectomía bilateral laparoscópica.",
         "4. Cromopertubación laparoscópica.",
         "2",
         "2021"
        ]
       ],
       "shape": {
        "columns": 7,
        "rows": 10
       }
      },
      "text/html": [
       "<div>\n",
       "<style scoped>\n",
       "    .dataframe tbody tr th:only-of-type {\n",
       "        vertical-align: middle;\n",
       "    }\n",
       "\n",
       "    .dataframe tbody tr th {\n",
       "        vertical-align: top;\n",
       "    }\n",
       "\n",
       "    .dataframe thead th {\n",
       "        text-align: right;\n",
       "    }\n",
       "</style>\n",
       "<table border=\"1\" class=\"dataframe\">\n",
       "  <thead>\n",
       "    <tr style=\"text-align: right;\">\n",
       "      <th></th>\n",
       "      <th>Question</th>\n",
       "      <th>Option_1</th>\n",
       "      <th>Option_2</th>\n",
       "      <th>Option_3</th>\n",
       "      <th>Option_4</th>\n",
       "      <th>RC</th>\n",
       "      <th>year</th>\n",
       "    </tr>\n",
       "  </thead>\n",
       "  <tbody>\n",
       "    <tr>\n",
       "      <th>0</th>\n",
       "      <td>1. Pregunta asociada a la imagen 1. Varón de 6...</td>\n",
       "      <td>1. Infiltración por adenocarcinoma.</td>\n",
       "      <td>2. Inflamación aguda con abscesificación.</td>\n",
       "      <td>3. Inflamación granulomatosa.</td>\n",
       "      <td>4. Mesotelioma.</td>\n",
       "      <td>3</td>\n",
       "      <td>2021</td>\n",
       "    </tr>\n",
       "    <tr>\n",
       "      <th>1</th>\n",
       "      <td>2. Pregunta asociada a la imagen 2. Varón de 2...</td>\n",
       "      <td>1. Embolia pulmonar.</td>\n",
       "      <td>2. Traumatismo torácico con afectación de la a...</td>\n",
       "      <td>3. Necrosis quística de la media y síndrome de...</td>\n",
       "      <td>4. Síndrome dislipémico familiar con grave ate...</td>\n",
       "      <td>3</td>\n",
       "      <td>2021</td>\n",
       "    </tr>\n",
       "    <tr>\n",
       "      <th>2</th>\n",
       "      <td>3. Pregunta asociada a la imagen 3. Mujer de 8...</td>\n",
       "      <td>1. Adenocarcinoma ductal.</td>\n",
       "      <td>2. Cistadenoma seroso.</td>\n",
       "      <td>3. Neoplasia mucinosa quística.</td>\n",
       "      <td>4. Pancreatitis autoinmune asociada a enfermed...</td>\n",
       "      <td>1</td>\n",
       "      <td>2021</td>\n",
       "    </tr>\n",
       "    <tr>\n",
       "      <th>3</th>\n",
       "      <td>4. Pregunta asociada a la imagen 4. Se realizó...</td>\n",
       "      <td>1. La esteatosis es menos intensa en la segund...</td>\n",
       "      <td>2. En la segunda biopsia no hay datos de infla...</td>\n",
       "      <td>3. La segunda biopsia muestra una situación es...</td>\n",
       "      <td>4. La presencia de fibrosis en puentes demuest...</td>\n",
       "      <td>4</td>\n",
       "      <td>2021</td>\n",
       "    </tr>\n",
       "    <tr>\n",
       "      <th>4</th>\n",
       "      <td>5. Pregunta asociada a la imagen 5. Mujer de 9...</td>\n",
       "      <td>1. Carcinoma de células escamosas cutáneo inva...</td>\n",
       "      <td>2. Carcinoma basocelular esclerodermiforme.</td>\n",
       "      <td>3. Sarcoma de Kaposi.</td>\n",
       "      <td>4. Lupus vulgar.</td>\n",
       "      <td>1</td>\n",
       "      <td>2021</td>\n",
       "    </tr>\n",
       "    <tr>\n",
       "      <th>5</th>\n",
       "      <td>6. Pregunta asociada a la imagen 6. M u j e r ...</td>\n",
       "      <td>1. Linfoma de Hodgkin cutáneo.</td>\n",
       "      <td>2. Síndrome de Sézary.</td>\n",
       "      <td>3. Linfoma no Hodgkin cutáneo tipo T.</td>\n",
       "      <td>4. Psoriasis pustulosa.</td>\n",
       "      <td>3</td>\n",
       "      <td>2021</td>\n",
       "    </tr>\n",
       "    <tr>\n",
       "      <th>6</th>\n",
       "      <td>7. Pregunta asociada a la imagen 7. Niño de 23...</td>\n",
       "      <td>1. Punto de sangrado de origen gástrico.</td>\n",
       "      <td>2. Divertículo de Meckel revestido de mucosa g...</td>\n",
       "      <td>3. Punto de sangrado de origen genitourinario.</td>\n",
       "      <td>4. Gammagrafía normal.</td>\n",
       "      <td>2</td>\n",
       "      <td>2021</td>\n",
       "    </tr>\n",
       "    <tr>\n",
       "      <th>7</th>\n",
       "      <td>8. Pregunta asociada a la imagen 8. Varón de 8...</td>\n",
       "      <td>1. Infarto agudo de miocardio.</td>\n",
       "      <td>2. Gammagrafía cardiaca normal.</td>\n",
       "      <td>3. Amiloidosis cardiaca mediada por transtiret...</td>\n",
       "      <td>4. Derrame pericárdico.</td>\n",
       "      <td>3</td>\n",
       "      <td>2021</td>\n",
       "    </tr>\n",
       "    <tr>\n",
       "      <th>8</th>\n",
       "      <td>9. Pregunta asociada a la imagen 9. Mujer de 8...</td>\n",
       "      <td>1. La fiebre o febrícula es un síntoma present...</td>\n",
       "      <td>2. Cuando se diagnostica la enfermedad, los ha...</td>\n",
       "      <td>3. Atendiendo a los hallazgos de la PET/TC en ...</td>\n",
       "      <td>4. La PET/TC es la técnica más específica para...</td>\n",
       "      <td>2</td>\n",
       "      <td>2021</td>\n",
       "    </tr>\n",
       "    <tr>\n",
       "      <th>9</th>\n",
       "      <td>10. Pregunta asociad a a la imagen 10. Mujer d...</td>\n",
       "      <td>1. Fecundación in vitro.</td>\n",
       "      <td>2. Inseminación artificial.</td>\n",
       "      <td>3. Salpinguectomía bilateral laparoscópica.</td>\n",
       "      <td>4. Cromopertubación laparoscópica.</td>\n",
       "      <td>2</td>\n",
       "      <td>2021</td>\n",
       "    </tr>\n",
       "  </tbody>\n",
       "</table>\n",
       "</div>"
      ],
      "text/plain": [
       "                                            Question  \\\n",
       "0  1. Pregunta asociada a la imagen 1. Varón de 6...   \n",
       "1  2. Pregunta asociada a la imagen 2. Varón de 2...   \n",
       "2  3. Pregunta asociada a la imagen 3. Mujer de 8...   \n",
       "3  4. Pregunta asociada a la imagen 4. Se realizó...   \n",
       "4  5. Pregunta asociada a la imagen 5. Mujer de 9...   \n",
       "5  6. Pregunta asociada a la imagen 6. M u j e r ...   \n",
       "6  7. Pregunta asociada a la imagen 7. Niño de 23...   \n",
       "7  8. Pregunta asociada a la imagen 8. Varón de 8...   \n",
       "8  9. Pregunta asociada a la imagen 9. Mujer de 8...   \n",
       "9  10. Pregunta asociad a a la imagen 10. Mujer d...   \n",
       "\n",
       "                                            Option_1  \\\n",
       "0                1. Infiltración por adenocarcinoma.   \n",
       "1                               1. Embolia pulmonar.   \n",
       "2                          1. Adenocarcinoma ductal.   \n",
       "3  1. La esteatosis es menos intensa en la segund...   \n",
       "4  1. Carcinoma de células escamosas cutáneo inva...   \n",
       "5                     1. Linfoma de Hodgkin cutáneo.   \n",
       "6           1. Punto de sangrado de origen gástrico.   \n",
       "7                     1. Infarto agudo de miocardio.   \n",
       "8  1. La fiebre o febrícula es un síntoma present...   \n",
       "9                           1. Fecundación in vitro.   \n",
       "\n",
       "                                            Option_2  \\\n",
       "0          2. Inflamación aguda con abscesificación.   \n",
       "1  2. Traumatismo torácico con afectación de la a...   \n",
       "2                             2. Cistadenoma seroso.   \n",
       "3  2. En la segunda biopsia no hay datos de infla...   \n",
       "4        2. Carcinoma basocelular esclerodermiforme.   \n",
       "5                             2. Síndrome de Sézary.   \n",
       "6  2. Divertículo de Meckel revestido de mucosa g...   \n",
       "7                    2. Gammagrafía cardiaca normal.   \n",
       "8  2. Cuando se diagnostica la enfermedad, los ha...   \n",
       "9                        2. Inseminación artificial.   \n",
       "\n",
       "                                            Option_3  \\\n",
       "0                      3. Inflamación granulomatosa.   \n",
       "1  3. Necrosis quística de la media y síndrome de...   \n",
       "2                    3. Neoplasia mucinosa quística.   \n",
       "3  3. La segunda biopsia muestra una situación es...   \n",
       "4                              3. Sarcoma de Kaposi.   \n",
       "5              3. Linfoma no Hodgkin cutáneo tipo T.   \n",
       "6     3. Punto de sangrado de origen genitourinario.   \n",
       "7  3. Amiloidosis cardiaca mediada por transtiret...   \n",
       "8  3. Atendiendo a los hallazgos de la PET/TC en ...   \n",
       "9        3. Salpinguectomía bilateral laparoscópica.   \n",
       "\n",
       "                                            Option_4  RC  year  \n",
       "0                                    4. Mesotelioma.   3  2021  \n",
       "1  4. Síndrome dislipémico familiar con grave ate...   3  2021  \n",
       "2  4. Pancreatitis autoinmune asociada a enfermed...   1  2021  \n",
       "3  4. La presencia de fibrosis en puentes demuest...   4  2021  \n",
       "4                                   4. Lupus vulgar.   1  2021  \n",
       "5                            4. Psoriasis pustulosa.   3  2021  \n",
       "6                             4. Gammagrafía normal.   2  2021  \n",
       "7                            4. Derrame pericárdico.   3  2021  \n",
       "8  4. La PET/TC es la técnica más específica para...   2  2021  \n",
       "9                 4. Cromopertubación laparoscópica.   2  2021  "
      ]
     },
     "execution_count": 33,
     "metadata": {},
     "output_type": "execute_result"
    }
   ],
   "source": [
    "processed_exam_df.head(10)"
   ]
  },
  {
   "cell_type": "markdown",
   "metadata": {},
   "source": [
    "### Filtering by relevant questions\n",
    "\n",
    "**1. Filtering for id**\n",
    "\n",
    "A list of the number of question is used to filter the DataFrame, but first doing a -1 so it matches with the id. \n",
    "\n",
    "Finally the indexes are reseted"
   ]
  },
  {
   "cell_type": "code",
   "execution_count": 34,
   "metadata": {},
   "outputs": [
    {
     "name": "stdout",
     "output_type": "stream",
     "text": [
      "Expected number of rows = 19\n",
      "Number of rows in filtered df = 19\n"
     ]
    }
   ],
   "source": [
    "id_filter = [x-1 for x in add_list]\n",
    "processed_exam_df_filtered = processed_exam_df.iloc[id_filter]\n",
    "processed_exam_df_filtered = processed_exam_df_filtered.reset_index(drop= True)\n",
    "print(f\"Expected number of rows = {len(id_filter)}\\nNumber of rows in filtered df = {processed_exam_df_filtered.shape[0]}\")"
   ]
  },
  {
   "cell_type": "markdown",
   "metadata": {},
   "source": [
    "**2. Showing the filtered DataFrame**\n",
    "\n",
    "Using head and tail"
   ]
  },
  {
   "cell_type": "code",
   "execution_count": 35,
   "metadata": {},
   "outputs": [
    {
     "data": {
      "application/vnd.microsoft.datawrangler.viewer.v0+json": {
       "columns": [
        {
         "name": "index",
         "rawType": "int64",
         "type": "integer"
        },
        {
         "name": "Question",
         "rawType": "object",
         "type": "string"
        },
        {
         "name": "Option_1",
         "rawType": "object",
         "type": "string"
        },
        {
         "name": "Option_2",
         "rawType": "object",
         "type": "string"
        },
        {
         "name": "Option_3",
         "rawType": "object",
         "type": "string"
        },
        {
         "name": "Option_4",
         "rawType": "object",
         "type": "string"
        },
        {
         "name": "RC",
         "rawType": "int32",
         "type": "integer"
        },
        {
         "name": "year",
         "rawType": "int64",
         "type": "integer"
        }
       ],
       "conversionMethod": "pd.DataFrame",
       "ref": "70474519-be79-42c1-ba0c-b3c32e0bbe21",
       "rows": [
        [
         "0",
         "26. ¿Cuál de los siguientes estudios de la coagulación se encontraría alterado en un paciente en el que se sospecha un trastorno hemorrágico hereditario por deficiencia del factor VII?:",
         "1. Tiempo de tromboplastina parcial activado.",
         "2. Tiempo de trombina.",
         "3. Tiempo de protrombina.",
         "4. Determinación de factor von Willebrand.",
         "3",
         "2021"
        ],
        [
         "1",
         "27. En relación con la toxicidad del etanol, señale la afirmación correcta:",
         "1. El acetato producido en el metabolismo hepático del etanol es oxidado en este tejido para obtener energía.",
         "2. El incremento en la relación NADH/NAD+ en el metabolismo hepático del etanol inhibe la gluconeogénesis.",
         "3. El ácido úrico compite con el lactato en la excreción urinaria, contribuyendo a la hiperlactacidemia.",
         "4. Los principales marcadores bioquímicos de ingesta habitual de etanol son las transaminasas, especialmente la alaninaaminotransferasa sobre la aspartatoaminotransferasa.",
         "2",
         "2021"
        ],
        [
         "2",
         "29. En relación con el control fisiológico hormonal y por autacoides de la f iltración glomerular y del flujo sanguíneo renal, indique la afirmación FALSA:",
         "1. El óxido nítrico derivado del endotelio aumenta la resistencia vascular y disminuye la filtración glomerular.",
         "2. Las prostaglandinas y la bradicinina reducen la resistencia vascular renal y tienden a aumentar la filtración glomerular.",
         "3. La noradrenalina y la adrenalina contraen los vasos sanguíneos y reducen la filtración glomerular.",
         "4. La angiotensina II contrae preferentemente las arteriolas eferentes en la mayoría de los estados fisiológicos.",
         "1",
         "2021"
        ],
        [
         "3",
         "30. Con respecto a la actividad eléctrica del músculo liso gastrointestinal en una situación fisiológica, indique la afirmación FALSA:",
         "1. El ritmo de casi todas las contracciones gastrointestinales viene determinado por la frecuencia de las ondas lentas.",
         "2. La despolarización de las ondas lentas viene determinada por la entrada de iones sodio y calcio.",
         "3. Los potenciales en espiga son potenciales de acción y tienen una duración mayor que el de las grandes fibras nerviosas.",
         "4. En la generación y características de los potenciales en espiga es determinante la participación de iones calcio.",
         "2",
         "2021"
        ],
        [
         "4",
         "31. En relación con el volumen y flujo sanguíneo en los pulmones, en un sujeto sano y en bipedestación, señale la afirmación FALSA:",
         "1. En la espiración forzada se puede generar trasvase de sangre de la circulación pulmonar a la circulación sistémica.",
         "2. Cuando disminuye la concentración de oxígeno en los alvéolos, los vasos adyacentes se dilatan.",
         "3. El ejercicio aumenta el flujo sanguíneo en todas las zonas pulmonares.",
         "4. El aumento del gasto cardiaco durante el ejercicio intenso es asumido normalmente sin grandes aumentos en la presión arterial pulmonar.",
         "2",
         "2021"
        ],
        [
         "5",
         "32. En cuanto a las características de los potenciales de acción que presentan las fibras musculares esqueléticas, en relación con los potenciales de acción de las fibras de las motoneuronas A alfa que las inervan, señale la respuesta INCORRECTA:",
         "1. El potencial de membrana de reposo tiene un valor similar.",
         "2. La duración del potencial de acción de la fibra muscular es mayor.",
         "3. La velocidad de conducción del potencial de acción de la fibra muscular es menor.",
         "4. El flujo de corriente en la profundidad de la fibra muscular es similar al de la motoneurona.",
         "4",
         "2021"
        ],
        [
         "6",
         "33. Las diferentes clases ( isotipos) de inmunoglobulinas (Ig) tienen diferentes funciones que dependen de los fragmentos Fc de sus cadenas pesadas. ¿Cuál de las siguientes afirmaciones es FALSA?:",
         "1. La IgA se une al receptor poli-Ig (pIgR) para atravesar la placenta y participar en la defensa del neonato.",
         "2. La IgG se une al receptor III para Fc-gamma (Fc-gamma-RIII) de los fagocitos activando el proceso de opsonización.",
         "3. La IgM se une a C1q y activa la vía clásica del complemento contribuyendo a la eliminación de bacterias extracelulares.",
         "4. La IgE se une al receptor para Fc-épsilon (Fcépsilon-R) y activa a eosinófilos y mastocitos participando en la defensa frente a los helmintos.",
         "1",
         "2021"
        ],
        [
         "7",
         "34. En la inmunoterapia antitumoral basada en el uso de anticuerpos monoclonales contra puntos de control inmunológico (checkpoints) destaca el uso de los anticuerpos monoclonales que bloquean la interacción entre PD-1 y sus ligandos. ¿Cuál de las siguientes afirmaciones es cierta?:",
         "1. La molécula PD-1 es un receptor inhibidor de los linfocitos T que se expresa mayoritariamente en linfocitos T naive.",
         "2. La interacción de PD-1 y sus ligandos inhibe la activación de los lin focitos T en los ganglios linfáticos.",
         "3. El bloqueo de PD-1 o de sus ligandos potencia la capacidad antitumoral de los linfocitos T CD8+.",
         "4. El uso de este tipo de inmunoterapia no se debe combinar con tratamientos de quimioterapia.",
         "3",
         "2021"
        ],
        [
         "8",
         "35. Diferentes mutaciones en el gen AIRE (Autoimmune Regulator) causan una enfermedad rara denominada síndrome poliglandular autoinmune tipo 1 (APS-1). Respecto al gen ¿cuál de las siguientes afirmaciones es cierta?:",
         "1. Está ligado al cromosoma X, por lo que el síndrome APS-1 también se conoce como IPEX (Inmunodesregulación, Poliendocrinopatía y Enteropatía ligada al cromosoma X).",
         "2. Se expresa en los timocitos que no expresan CD4 ni CD8 (doble negativos) promoviendo su expansión y participando en el proceso de selección positiva en el timo.",
         "3. S e  e x pr e s a  e n l a s  c é l ul a s  T  r e gul a do r a s  c o ntrolando su función y siendo responsable del proceso de tolerancia periférica.",
         "4. Se expresa en células epiteliales de la médula tímica regulando la expresión antígenos específicos de otros tejidos y participando en el proceso de selección negativa en el timo.",
         "4",
         "2021"
        ],
        [
         "9",
         "3 7 .  R e s p e c t o  a  l a s  c é l u l a s  T  r e g u l a d o r a s  ( T r e g )  e s cierto que:",
         "1. Colaboran en la eliminación de células tumorales.",
         "2. Expresan el correceptor inhibidor CTLA-4.",
         "3. Coexpresan tanto CD4 como CD8.",
         "4. Liberan citoquinas como IL-17 o IL-22.",
         "2",
         "2021"
        ]
       ],
       "shape": {
        "columns": 7,
        "rows": 10
       }
      },
      "text/html": [
       "<div>\n",
       "<style scoped>\n",
       "    .dataframe tbody tr th:only-of-type {\n",
       "        vertical-align: middle;\n",
       "    }\n",
       "\n",
       "    .dataframe tbody tr th {\n",
       "        vertical-align: top;\n",
       "    }\n",
       "\n",
       "    .dataframe thead th {\n",
       "        text-align: right;\n",
       "    }\n",
       "</style>\n",
       "<table border=\"1\" class=\"dataframe\">\n",
       "  <thead>\n",
       "    <tr style=\"text-align: right;\">\n",
       "      <th></th>\n",
       "      <th>Question</th>\n",
       "      <th>Option_1</th>\n",
       "      <th>Option_2</th>\n",
       "      <th>Option_3</th>\n",
       "      <th>Option_4</th>\n",
       "      <th>RC</th>\n",
       "      <th>year</th>\n",
       "    </tr>\n",
       "  </thead>\n",
       "  <tbody>\n",
       "    <tr>\n",
       "      <th>0</th>\n",
       "      <td>26. ¿Cuál de los siguientes estudios de la coa...</td>\n",
       "      <td>1. Tiempo de tromboplastina parcial activado.</td>\n",
       "      <td>2. Tiempo de trombina.</td>\n",
       "      <td>3. Tiempo de protrombina.</td>\n",
       "      <td>4. Determinación de factor von Willebrand.</td>\n",
       "      <td>3</td>\n",
       "      <td>2021</td>\n",
       "    </tr>\n",
       "    <tr>\n",
       "      <th>1</th>\n",
       "      <td>27. En relación con la toxicidad del etanol, s...</td>\n",
       "      <td>1. El acetato producido en el metabolismo hepá...</td>\n",
       "      <td>2. El incremento en la relación NADH/NAD+ en e...</td>\n",
       "      <td>3. El ácido úrico compite con el lactato en la...</td>\n",
       "      <td>4. Los principales marcadores bioquímicos de i...</td>\n",
       "      <td>2</td>\n",
       "      <td>2021</td>\n",
       "    </tr>\n",
       "    <tr>\n",
       "      <th>2</th>\n",
       "      <td>29. En relación con el control fisiológico hor...</td>\n",
       "      <td>1. El óxido nítrico derivado del endotelio aum...</td>\n",
       "      <td>2. Las prostaglandinas y la bradicinina reduce...</td>\n",
       "      <td>3. La noradrenalina y la adrenalina contraen l...</td>\n",
       "      <td>4. La angiotensina II contrae preferentemente ...</td>\n",
       "      <td>1</td>\n",
       "      <td>2021</td>\n",
       "    </tr>\n",
       "    <tr>\n",
       "      <th>3</th>\n",
       "      <td>30. Con respecto a la actividad eléctrica del ...</td>\n",
       "      <td>1. El ritmo de casi todas las contracciones ga...</td>\n",
       "      <td>2. La despolarización de las ondas lentas vien...</td>\n",
       "      <td>3. Los potenciales en espiga son potenciales d...</td>\n",
       "      <td>4. En la generación y características de los p...</td>\n",
       "      <td>2</td>\n",
       "      <td>2021</td>\n",
       "    </tr>\n",
       "    <tr>\n",
       "      <th>4</th>\n",
       "      <td>31. En relación con el volumen y flujo sanguín...</td>\n",
       "      <td>1. En la espiración forzada se puede generar t...</td>\n",
       "      <td>2. Cuando disminuye la concentración de oxígen...</td>\n",
       "      <td>3. El ejercicio aumenta el flujo sanguíneo en ...</td>\n",
       "      <td>4. El aumento del gasto cardiaco durante el ej...</td>\n",
       "      <td>2</td>\n",
       "      <td>2021</td>\n",
       "    </tr>\n",
       "    <tr>\n",
       "      <th>5</th>\n",
       "      <td>32. En cuanto a las características de los pot...</td>\n",
       "      <td>1. El potencial de membrana de reposo tiene un...</td>\n",
       "      <td>2. La duración del potencial de acción de la f...</td>\n",
       "      <td>3. La velocidad de conducción del potencial de...</td>\n",
       "      <td>4. El flujo de corriente en la profundidad de ...</td>\n",
       "      <td>4</td>\n",
       "      <td>2021</td>\n",
       "    </tr>\n",
       "    <tr>\n",
       "      <th>6</th>\n",
       "      <td>33. Las diferentes clases ( isotipos) de inmun...</td>\n",
       "      <td>1. La IgA se une al receptor poli-Ig (pIgR) pa...</td>\n",
       "      <td>2. La IgG se une al receptor III para Fc-gamma...</td>\n",
       "      <td>3. La IgM se une a C1q y activa la vía clásica...</td>\n",
       "      <td>4. La IgE se une al receptor para Fc-épsilon (...</td>\n",
       "      <td>1</td>\n",
       "      <td>2021</td>\n",
       "    </tr>\n",
       "    <tr>\n",
       "      <th>7</th>\n",
       "      <td>34. En la inmunoterapia antitumoral basada en ...</td>\n",
       "      <td>1. La molécula PD-1 es un receptor inhibidor d...</td>\n",
       "      <td>2. La interacción de PD-1 y sus ligandos inhib...</td>\n",
       "      <td>3. El bloqueo de PD-1 o de sus ligandos potenc...</td>\n",
       "      <td>4. El uso de este tipo de inmunoterapia no se ...</td>\n",
       "      <td>3</td>\n",
       "      <td>2021</td>\n",
       "    </tr>\n",
       "    <tr>\n",
       "      <th>8</th>\n",
       "      <td>35. Diferentes mutaciones en el gen AIRE (Auto...</td>\n",
       "      <td>1. Está ligado al cromosoma X, por lo que el s...</td>\n",
       "      <td>2. Se expresa en los timocitos que no expresan...</td>\n",
       "      <td>3. S e  e x pr e s a  e n l a s  c é l ul a s ...</td>\n",
       "      <td>4. Se expresa en células epiteliales de la méd...</td>\n",
       "      <td>4</td>\n",
       "      <td>2021</td>\n",
       "    </tr>\n",
       "    <tr>\n",
       "      <th>9</th>\n",
       "      <td>3 7 .  R e s p e c t o  a  l a s  c é l u l a ...</td>\n",
       "      <td>1. Colaboran en la eliminación de células tumo...</td>\n",
       "      <td>2. Expresan el correceptor inhibidor CTLA-4.</td>\n",
       "      <td>3. Coexpresan tanto CD4 como CD8.</td>\n",
       "      <td>4. Liberan citoquinas como IL-17 o IL-22.</td>\n",
       "      <td>2</td>\n",
       "      <td>2021</td>\n",
       "    </tr>\n",
       "  </tbody>\n",
       "</table>\n",
       "</div>"
      ],
      "text/plain": [
       "                                            Question  \\\n",
       "0  26. ¿Cuál de los siguientes estudios de la coa...   \n",
       "1  27. En relación con la toxicidad del etanol, s...   \n",
       "2  29. En relación con el control fisiológico hor...   \n",
       "3  30. Con respecto a la actividad eléctrica del ...   \n",
       "4  31. En relación con el volumen y flujo sanguín...   \n",
       "5  32. En cuanto a las características de los pot...   \n",
       "6  33. Las diferentes clases ( isotipos) de inmun...   \n",
       "7  34. En la inmunoterapia antitumoral basada en ...   \n",
       "8  35. Diferentes mutaciones en el gen AIRE (Auto...   \n",
       "9  3 7 .  R e s p e c t o  a  l a s  c é l u l a ...   \n",
       "\n",
       "                                            Option_1  \\\n",
       "0      1. Tiempo de tromboplastina parcial activado.   \n",
       "1  1. El acetato producido en el metabolismo hepá...   \n",
       "2  1. El óxido nítrico derivado del endotelio aum...   \n",
       "3  1. El ritmo de casi todas las contracciones ga...   \n",
       "4  1. En la espiración forzada se puede generar t...   \n",
       "5  1. El potencial de membrana de reposo tiene un...   \n",
       "6  1. La IgA se une al receptor poli-Ig (pIgR) pa...   \n",
       "7  1. La molécula PD-1 es un receptor inhibidor d...   \n",
       "8  1. Está ligado al cromosoma X, por lo que el s...   \n",
       "9  1. Colaboran en la eliminación de células tumo...   \n",
       "\n",
       "                                            Option_2  \\\n",
       "0                             2. Tiempo de trombina.   \n",
       "1  2. El incremento en la relación NADH/NAD+ en e...   \n",
       "2  2. Las prostaglandinas y la bradicinina reduce...   \n",
       "3  2. La despolarización de las ondas lentas vien...   \n",
       "4  2. Cuando disminuye la concentración de oxígen...   \n",
       "5  2. La duración del potencial de acción de la f...   \n",
       "6  2. La IgG se une al receptor III para Fc-gamma...   \n",
       "7  2. La interacción de PD-1 y sus ligandos inhib...   \n",
       "8  2. Se expresa en los timocitos que no expresan...   \n",
       "9       2. Expresan el correceptor inhibidor CTLA-4.   \n",
       "\n",
       "                                            Option_3  \\\n",
       "0                          3. Tiempo de protrombina.   \n",
       "1  3. El ácido úrico compite con el lactato en la...   \n",
       "2  3. La noradrenalina y la adrenalina contraen l...   \n",
       "3  3. Los potenciales en espiga son potenciales d...   \n",
       "4  3. El ejercicio aumenta el flujo sanguíneo en ...   \n",
       "5  3. La velocidad de conducción del potencial de...   \n",
       "6  3. La IgM se une a C1q y activa la vía clásica...   \n",
       "7  3. El bloqueo de PD-1 o de sus ligandos potenc...   \n",
       "8  3. S e  e x pr e s a  e n l a s  c é l ul a s ...   \n",
       "9                  3. Coexpresan tanto CD4 como CD8.   \n",
       "\n",
       "                                            Option_4  RC  year  \n",
       "0         4. Determinación de factor von Willebrand.   3  2021  \n",
       "1  4. Los principales marcadores bioquímicos de i...   2  2021  \n",
       "2  4. La angiotensina II contrae preferentemente ...   1  2021  \n",
       "3  4. En la generación y características de los p...   2  2021  \n",
       "4  4. El aumento del gasto cardiaco durante el ej...   2  2021  \n",
       "5  4. El flujo de corriente en la profundidad de ...   4  2021  \n",
       "6  4. La IgE se une al receptor para Fc-épsilon (...   1  2021  \n",
       "7  4. El uso de este tipo de inmunoterapia no se ...   3  2021  \n",
       "8  4. Se expresa en células epiteliales de la méd...   4  2021  \n",
       "9          4. Liberan citoquinas como IL-17 o IL-22.   2  2021  "
      ]
     },
     "execution_count": 35,
     "metadata": {},
     "output_type": "execute_result"
    }
   ],
   "source": [
    "processed_exam_df_filtered.head(10)"
   ]
  },
  {
   "cell_type": "code",
   "execution_count": 36,
   "metadata": {},
   "outputs": [
    {
     "data": {
      "application/vnd.microsoft.datawrangler.viewer.v0+json": {
       "columns": [
        {
         "name": "index",
         "rawType": "int64",
         "type": "integer"
        },
        {
         "name": "Question",
         "rawType": "object",
         "type": "string"
        },
        {
         "name": "Option_1",
         "rawType": "object",
         "type": "string"
        },
        {
         "name": "Option_2",
         "rawType": "object",
         "type": "string"
        },
        {
         "name": "Option_3",
         "rawType": "object",
         "type": "string"
        },
        {
         "name": "Option_4",
         "rawType": "object",
         "type": "string"
        },
        {
         "name": "RC",
         "rawType": "int32",
         "type": "integer"
        },
        {
         "name": "year",
         "rawType": "int64",
         "type": "integer"
        }
       ],
       "conversionMethod": "pd.DataFrame",
       "ref": "6bf37542-61a1-46e1-9f93-e2273cfbe998",
       "rows": [
        [
         "9",
         "3 7 .  R e s p e c t o  a  l a s  c é l u l a s  T  r e g u l a d o r a s  ( T r e g )  e s cierto que:",
         "1. Colaboran en la eliminación de células tumorales.",
         "2. Expresan el correceptor inhibidor CTLA-4.",
         "3. Coexpresan tanto CD4 como CD8.",
         "4. Liberan citoquinas como IL-17 o IL-22.",
         "2",
         "2021"
        ],
        [
         "10",
         "44. La especificidad de una prueba diagnóstica es del 94 %. ¿Cuál es la interpretación correcta?:",
         "1. De cada 100 resultados negativos, 94 corresponden a pacientes sanos.",
         "2. De cada 100 pacientes sanos, en 94 el resultado de la prueba será negativo.",
         "3. De cada 100 pacientes enfermos, en 6 el resultado de la prueba será negativo.",
         "4. De cada 100 resultados positivos, 6 corresponden a pacientes enfermos.",
         "2",
         "2021"
        ],
        [
         "11",
         "47. ¿En cuál de las siguientes infecciones se precisan medidas de aislamiento de contacto y gotas?:",
         "1. Varicela.",
         "2. Fiebres hemorrágicas virales.",
         "3. Norovirus.",
         "4. Clostridioides difficile.",
         "2",
         "2021"
        ],
        [
         "12",
         "71. En relación con el estudio prenatal de aneuploidías mediante el cribado combinado del primer trimestre ¿Cuál es la afirmación correcta?:",
         "1. El valor de la fracción libre de la gonadotropina coriónica se encuentra disminuido en la trisomía 21.",
         "2. Se realiza mediante la combinación de datos analíticos y ecográficos.",
         "3. Está indicada en el primer trimestre en población gestante de riesgo.",
         "4. La transonolucencia nucal debe medirse entre las 11 y 14 semanas, mediante la realización de un corte sagital y con el embrión en posición de hiperflexión.",
         "2",
         "2021"
        ],
        [
         "13",
         "79. En caso de que haya manifestaciones clínicas ¿cuál es la forma clínica más frecuente de primoinfección por el virus del herpes simple tipo1 en lactantes y niños pequeños?:",
         "1. Meningitis.",
         "2. Genital.",
         "3. Neumonía.",
         "4. Gingivoestomatitis y faringitis.",
         "4",
         "2021"
        ],
        [
         "14",
         "83. La fenilcetonuria es una enfermedad metabólica congénita. En relación con la misma, indique la contestación FALSA:",
         "1. La fenilalanina debe suprimirse en la dieta completamente.",
         "2. La discapacidad intelectual es constante y progresiva en caso de no realizar bien la dieta.",
         "3. Puede deberse a un déficit de tetrahidrobiopterina BH4.",
         "4. S e  r e c o m i e n d a  s u  e s t u d i o  a  l a s  2 4 - 4 8  h o r a s del inicio de la ingesta del recién nacido.",
         "1",
         "2021"
        ],
        [
         "15",
         "84. En una enfermedad genética neurológica, el fenómeno de anticipación implica la aparición de las manifestaciones más precozmente y en general de forma más grave en la siguiente generación. Dado que la anticipación ocurre por la expansión de trinucleótidos, indique en cuál de estas enfermedades es posible esperar este fenómeno:",
         "1. Atrofia muscular espinal.",
         "2. Distrofia muscular de Duchenne.",
         "3. Enfermedad de Parkinson.",
         "4. Distrofia miotónica de Steinert.",
         "4",
         "2021"
        ],
        [
         "16",
         "101. Todas las siguientes enfermedades neurodegenerativas están relacionadas con una alteración en la proteína Tau, EXCEPTO:",
         "1. Enfermedad de Alzheimer.",
         "2. Demencia frontotemporal.",
         "3. Enfermedad de Parkinson.",
         "4. Parálisis supranuclear progresiva.",
         "3",
         "2021"
        ],
        [
         "17",
         "145. ¿Cuál de las siguientes vacunas NO está recom e n d a d a  p r e v i a m e n t e  a  u n a  e s p l e n e c t o m í a electiva en un adulto?:",
         "1. Vacuna antineumococo PPV  23.",
         "2. Vacuna antihaemophilus influenza B.",
         "3. Vacuna antimeningocócica C.",
         "4. Vacuna antitetánica.",
         "4",
         "2021"
        ],
        [
         "18",
         "161. En el diagnóstico de un proceso linfoproliferativo es fundamental el estudio molecular y del inmunofenotipo. La detección de la translocación 11:14 con afectación de la ciclina D1 es característica de un:",
         "1. Linfoma folicular.",
         "2. Linfoma de la zona marginal.",
         "3. Linfoma linfoblástico.",
         "4. Linfoma del manto.",
         "4",
         "2021"
        ]
       ],
       "shape": {
        "columns": 7,
        "rows": 10
       }
      },
      "text/html": [
       "<div>\n",
       "<style scoped>\n",
       "    .dataframe tbody tr th:only-of-type {\n",
       "        vertical-align: middle;\n",
       "    }\n",
       "\n",
       "    .dataframe tbody tr th {\n",
       "        vertical-align: top;\n",
       "    }\n",
       "\n",
       "    .dataframe thead th {\n",
       "        text-align: right;\n",
       "    }\n",
       "</style>\n",
       "<table border=\"1\" class=\"dataframe\">\n",
       "  <thead>\n",
       "    <tr style=\"text-align: right;\">\n",
       "      <th></th>\n",
       "      <th>Question</th>\n",
       "      <th>Option_1</th>\n",
       "      <th>Option_2</th>\n",
       "      <th>Option_3</th>\n",
       "      <th>Option_4</th>\n",
       "      <th>RC</th>\n",
       "      <th>year</th>\n",
       "    </tr>\n",
       "  </thead>\n",
       "  <tbody>\n",
       "    <tr>\n",
       "      <th>9</th>\n",
       "      <td>3 7 .  R e s p e c t o  a  l a s  c é l u l a ...</td>\n",
       "      <td>1. Colaboran en la eliminación de células tumo...</td>\n",
       "      <td>2. Expresan el correceptor inhibidor CTLA-4.</td>\n",
       "      <td>3. Coexpresan tanto CD4 como CD8.</td>\n",
       "      <td>4. Liberan citoquinas como IL-17 o IL-22.</td>\n",
       "      <td>2</td>\n",
       "      <td>2021</td>\n",
       "    </tr>\n",
       "    <tr>\n",
       "      <th>10</th>\n",
       "      <td>44. La especificidad de una prueba diagnóstica...</td>\n",
       "      <td>1. De cada 100 resultados negativos, 94 corres...</td>\n",
       "      <td>2. De cada 100 pacientes sanos, en 94 el resul...</td>\n",
       "      <td>3. De cada 100 pacientes enfermos, en 6 el res...</td>\n",
       "      <td>4. De cada 100 resultados positivos, 6 corresp...</td>\n",
       "      <td>2</td>\n",
       "      <td>2021</td>\n",
       "    </tr>\n",
       "    <tr>\n",
       "      <th>11</th>\n",
       "      <td>47. ¿En cuál de las siguientes infecciones se ...</td>\n",
       "      <td>1. Varicela.</td>\n",
       "      <td>2. Fiebres hemorrágicas virales.</td>\n",
       "      <td>3. Norovirus.</td>\n",
       "      <td>4. Clostridioides difficile.</td>\n",
       "      <td>2</td>\n",
       "      <td>2021</td>\n",
       "    </tr>\n",
       "    <tr>\n",
       "      <th>12</th>\n",
       "      <td>71. En relación con el estudio prenatal de ane...</td>\n",
       "      <td>1. El valor de la fracción libre de la gonadot...</td>\n",
       "      <td>2. Se realiza mediante la combinación de datos...</td>\n",
       "      <td>3. Está indicada en el primer trimestre en pob...</td>\n",
       "      <td>4. La transonolucencia nucal debe medirse entr...</td>\n",
       "      <td>2</td>\n",
       "      <td>2021</td>\n",
       "    </tr>\n",
       "    <tr>\n",
       "      <th>13</th>\n",
       "      <td>79. En caso de que haya manifestaciones clínic...</td>\n",
       "      <td>1. Meningitis.</td>\n",
       "      <td>2. Genital.</td>\n",
       "      <td>3. Neumonía.</td>\n",
       "      <td>4. Gingivoestomatitis y faringitis.</td>\n",
       "      <td>4</td>\n",
       "      <td>2021</td>\n",
       "    </tr>\n",
       "    <tr>\n",
       "      <th>14</th>\n",
       "      <td>83. La fenilcetonuria es una enfermedad metabó...</td>\n",
       "      <td>1. La fenilalanina debe suprimirse en la dieta...</td>\n",
       "      <td>2. La discapacidad intelectual es constante y ...</td>\n",
       "      <td>3. Puede deberse a un déficit de tetrahidrobio...</td>\n",
       "      <td>4. S e  r e c o m i e n d a  s u  e s t u d i ...</td>\n",
       "      <td>1</td>\n",
       "      <td>2021</td>\n",
       "    </tr>\n",
       "    <tr>\n",
       "      <th>15</th>\n",
       "      <td>84. En una enfermedad genética neurológica, el...</td>\n",
       "      <td>1. Atrofia muscular espinal.</td>\n",
       "      <td>2. Distrofia muscular de Duchenne.</td>\n",
       "      <td>3. Enfermedad de Parkinson.</td>\n",
       "      <td>4. Distrofia miotónica de Steinert.</td>\n",
       "      <td>4</td>\n",
       "      <td>2021</td>\n",
       "    </tr>\n",
       "    <tr>\n",
       "      <th>16</th>\n",
       "      <td>101. Todas las siguientes enfermedades neurode...</td>\n",
       "      <td>1. Enfermedad de Alzheimer.</td>\n",
       "      <td>2. Demencia frontotemporal.</td>\n",
       "      <td>3. Enfermedad de Parkinson.</td>\n",
       "      <td>4. Parálisis supranuclear progresiva.</td>\n",
       "      <td>3</td>\n",
       "      <td>2021</td>\n",
       "    </tr>\n",
       "    <tr>\n",
       "      <th>17</th>\n",
       "      <td>145. ¿Cuál de las siguientes vacunas NO está r...</td>\n",
       "      <td>1. Vacuna antineumococo PPV  23.</td>\n",
       "      <td>2. Vacuna antihaemophilus influenza B.</td>\n",
       "      <td>3. Vacuna antimeningocócica C.</td>\n",
       "      <td>4. Vacuna antitetánica.</td>\n",
       "      <td>4</td>\n",
       "      <td>2021</td>\n",
       "    </tr>\n",
       "    <tr>\n",
       "      <th>18</th>\n",
       "      <td>161. En el diagnóstico de un proceso linfoprol...</td>\n",
       "      <td>1. Linfoma folicular.</td>\n",
       "      <td>2. Linfoma de la zona marginal.</td>\n",
       "      <td>3. Linfoma linfoblástico.</td>\n",
       "      <td>4. Linfoma del manto.</td>\n",
       "      <td>4</td>\n",
       "      <td>2021</td>\n",
       "    </tr>\n",
       "  </tbody>\n",
       "</table>\n",
       "</div>"
      ],
      "text/plain": [
       "                                             Question  \\\n",
       "9   3 7 .  R e s p e c t o  a  l a s  c é l u l a ...   \n",
       "10  44. La especificidad de una prueba diagnóstica...   \n",
       "11  47. ¿En cuál de las siguientes infecciones se ...   \n",
       "12  71. En relación con el estudio prenatal de ane...   \n",
       "13  79. En caso de que haya manifestaciones clínic...   \n",
       "14  83. La fenilcetonuria es una enfermedad metabó...   \n",
       "15  84. En una enfermedad genética neurológica, el...   \n",
       "16  101. Todas las siguientes enfermedades neurode...   \n",
       "17  145. ¿Cuál de las siguientes vacunas NO está r...   \n",
       "18  161. En el diagnóstico de un proceso linfoprol...   \n",
       "\n",
       "                                             Option_1  \\\n",
       "9   1. Colaboran en la eliminación de células tumo...   \n",
       "10  1. De cada 100 resultados negativos, 94 corres...   \n",
       "11                                       1. Varicela.   \n",
       "12  1. El valor de la fracción libre de la gonadot...   \n",
       "13                                     1. Meningitis.   \n",
       "14  1. La fenilalanina debe suprimirse en la dieta...   \n",
       "15                       1. Atrofia muscular espinal.   \n",
       "16                        1. Enfermedad de Alzheimer.   \n",
       "17                   1. Vacuna antineumococo PPV  23.   \n",
       "18                              1. Linfoma folicular.   \n",
       "\n",
       "                                             Option_2  \\\n",
       "9        2. Expresan el correceptor inhibidor CTLA-4.   \n",
       "10  2. De cada 100 pacientes sanos, en 94 el resul...   \n",
       "11                   2. Fiebres hemorrágicas virales.   \n",
       "12  2. Se realiza mediante la combinación de datos...   \n",
       "13                                        2. Genital.   \n",
       "14  2. La discapacidad intelectual es constante y ...   \n",
       "15                 2. Distrofia muscular de Duchenne.   \n",
       "16                        2. Demencia frontotemporal.   \n",
       "17             2. Vacuna antihaemophilus influenza B.   \n",
       "18                    2. Linfoma de la zona marginal.   \n",
       "\n",
       "                                             Option_3  \\\n",
       "9                   3. Coexpresan tanto CD4 como CD8.   \n",
       "10  3. De cada 100 pacientes enfermos, en 6 el res...   \n",
       "11                                      3. Norovirus.   \n",
       "12  3. Está indicada en el primer trimestre en pob...   \n",
       "13                                       3. Neumonía.   \n",
       "14  3. Puede deberse a un déficit de tetrahidrobio...   \n",
       "15                        3. Enfermedad de Parkinson.   \n",
       "16                        3. Enfermedad de Parkinson.   \n",
       "17                     3. Vacuna antimeningocócica C.   \n",
       "18                          3. Linfoma linfoblástico.   \n",
       "\n",
       "                                             Option_4  RC  year  \n",
       "9           4. Liberan citoquinas como IL-17 o IL-22.   2  2021  \n",
       "10  4. De cada 100 resultados positivos, 6 corresp...   2  2021  \n",
       "11                       4. Clostridioides difficile.   2  2021  \n",
       "12  4. La transonolucencia nucal debe medirse entr...   2  2021  \n",
       "13                4. Gingivoestomatitis y faringitis.   4  2021  \n",
       "14  4. S e  r e c o m i e n d a  s u  e s t u d i ...   1  2021  \n",
       "15                4. Distrofia miotónica de Steinert.   4  2021  \n",
       "16              4. Parálisis supranuclear progresiva.   3  2021  \n",
       "17                            4. Vacuna antitetánica.   4  2021  \n",
       "18                              4. Linfoma del manto.   4  2021  "
      ]
     },
     "execution_count": 36,
     "metadata": {},
     "output_type": "execute_result"
    }
   ],
   "source": [
    "processed_exam_df_filtered.tail(10)"
   ]
  },
  {
   "cell_type": "markdown",
   "metadata": {},
   "source": [
    "# Data Loading"
   ]
  },
  {
   "cell_type": "markdown",
   "metadata": {},
   "source": [
    "## Saving in csv file\n",
    "\n",
    "The `processed_exam_df_filtered` DataFrame, containing the cleaned and transformed exam data, is saved to a CSV file with the name generatd in the first step in the \"data\" directory. The `index=False` argument ensures that the DataFrame index is not written to the file, resulting in a cleaner output. This CSV file can be used for further analysis or as input for other applications."
   ]
  },
  {
   "cell_type": "code",
   "execution_count": 37,
   "metadata": {},
   "outputs": [],
   "source": [
    "processed_exam_df_filtered.to_csv(save_format, index= False)"
   ]
  },
  {
   "cell_type": "markdown",
   "metadata": {},
   "source": [
    "## Writing into data warehouse\n",
    "\n",
    "This section details the process of loading the cleaned and transformed exam data into an SQLite database, serving as a data warehouse for further analysis and querying.\n",
    "\n",
    "**1. Database Connection and Path:**\n",
    "\n",
    "The path to the SQLite database file is defined, and a connection is established using the `sqlite3` library."
   ]
  },
  {
   "cell_type": "code",
   "execution_count": 38,
   "metadata": {},
   "outputs": [],
   "source": [
    "db_path: str = \"../data/clean/bir_warehouse.db\""
   ]
  },
  {
   "cell_type": "markdown",
   "metadata": {},
   "source": [
    "**2. SQL Queries Definition:**\n",
    "\n",
    "Two SQL queries are defined: one for inserting questions into the questions table and another for inserting options into the questions_options table."
   ]
  },
  {
   "cell_type": "code",
   "execution_count": 40,
   "metadata": {},
   "outputs": [],
   "source": [
    "query_question: str = \"\"\"\n",
    "INSERT INTO questions (exam_year, exam_subject, question) \n",
    "VALUES((SELECT id_year FROM year WHERE year_name = ?),\n",
    "    (SELECT id_type FROM exam WHERE exam_type = ?),\n",
    "    ?);\n",
    "\"\"\"\n",
    "\n",
    "query_options: str = \"\"\"\n",
    "INSERT INTO questions_options (question_id, option_num, option_text, is_correct)\n",
    "VALUES((SELECT q.id \n",
    "        FROM questions AS q\n",
    "        JOIN year AS y ON q.exam_year = y.id_year\n",
    "        WHERE q.question = ? AND y.year_name = ?),\n",
    "    ?,\n",
    "    ?,\n",
    "    ?)\n",
    "\"\"\""
   ]
  },
  {
   "cell_type": "markdown",
   "metadata": {},
   "source": [
    "**3. Database Interaction and Data Insertion:**\n",
    "\n",
    "A with statement is used to establish a connection to the SQLite database, ensuring that the connection is properly closed after use. A cursor is created, and the processed_exam_df DataFrame is iterated over to insert each question and its options\n",
    "\n",
    "Some spacing issues were fixed in the csv file, so the DataFrame will be loaded from the csv file"
   ]
  },
  {
   "cell_type": "code",
   "execution_count": 41,
   "metadata": {},
   "outputs": [
    {
     "data": {
      "application/vnd.microsoft.datawrangler.viewer.v0+json": {
       "columns": [
        {
         "name": "index",
         "rawType": "int64",
         "type": "integer"
        },
        {
         "name": "Question",
         "rawType": "object",
         "type": "string"
        },
        {
         "name": "Option_1",
         "rawType": "object",
         "type": "string"
        },
        {
         "name": "Option_2",
         "rawType": "object",
         "type": "string"
        },
        {
         "name": "Option_3",
         "rawType": "object",
         "type": "string"
        },
        {
         "name": "Option_4",
         "rawType": "object",
         "type": "string"
        },
        {
         "name": "RC",
         "rawType": "int64",
         "type": "integer"
        },
        {
         "name": "year",
         "rawType": "int64",
         "type": "integer"
        }
       ],
       "conversionMethod": "pd.DataFrame",
       "ref": "26eb8aa5-060b-4f80-be27-d5658b6cd804",
       "rows": [
        [
         "0",
         "26. ¿Cuál de los siguientes estudios de la coagulación se encontraría alterado en un paciente en el que se sospecha un trastorno hemorrágico hereditario por deficiencia del factor VII?:",
         "1. Tiempo de tromboplastina parcial activado.",
         "2. Tiempo de trombina.",
         "3. Tiempo de protrombina.",
         "4. Determinación de factor von Willebrand.",
         "3",
         "2021"
        ],
        [
         "1",
         "27. En relación con la toxicidad del etanol, señale la afirmación correcta:",
         "1. El acetato producido en el metabolismo hepático del etanol es oxidado en este tejido para obtener energía.",
         "2. El incremento en la relación NADH/NAD+ en el metabolismo hepático del etanol inhibe la gluconeogénesis.",
         "3. El ácido úrico compite con el lactato en la excreción urinaria, contribuyendo a la hiperlactacidemia.",
         "4. Los principales marcadores bioquímicos de ingesta habitual de etanol son las transaminasas, especialmente la alaninaaminotransferasa sobre la aspartatoaminotransferasa.",
         "2",
         "2021"
        ],
        [
         "2",
         "29. En relación con el control fisiológico hormonal y por autacoides de la f iltración glomerular y del flujo sanguíneo renal, indique la afirmación FALSA:",
         "1. El óxido nítrico derivado del endotelio aumenta la resistencia vascular y disminuye la filtración glomerular.",
         "2. Las prostaglandinas y la bradicinina reducen la resistencia vascular renal y tienden a aumentar la filtración glomerular.",
         "3. La noradrenalina y la adrenalina contraen los vasos sanguíneos y reducen la filtración glomerular.",
         "4. La angiotensina II contrae preferentemente las arteriolas eferentes en la mayoría de los estados fisiológicos.",
         "1",
         "2021"
        ],
        [
         "3",
         "30. Con respecto a la actividad eléctrica del músculo liso gastrointestinal en una situación fisiológica, indique la afirmación FALSA:",
         "1. El ritmo de casi todas las contracciones gastrointestinales viene determinado por la frecuencia de las ondas lentas.",
         "2. La despolarización de las ondas lentas viene determinada por la entrada de iones sodio y calcio.",
         "3. Los potenciales en espiga son potenciales de acción y tienen una duración mayor que el de las grandes fibras nerviosas.",
         "4. En la generación y características de los potenciales en espiga es determinante la participación de iones calcio.",
         "2",
         "2021"
        ],
        [
         "4",
         "31. En relación con el volumen y flujo sanguíneo en los pulmones, en un sujeto sano y en bipedestación, señale la afirmación FALSA:",
         "1. En la espiración forzada se puede generar trasvase de sangre de la circulación pulmonar a la circulación sistémica.",
         "2. Cuando disminuye la concentración de oxígeno en los alvéolos, los vasos adyacentes se dilatan.",
         "3. El ejercicio aumenta el flujo sanguíneo en todas las zonas pulmonares.",
         "4. El aumento del gasto cardiaco durante el ejercicio intenso es asumido normalmente sin grandes aumentos en la presión arterial pulmonar.",
         "2",
         "2021"
        ]
       ],
       "shape": {
        "columns": 7,
        "rows": 5
       }
      },
      "text/html": [
       "<div>\n",
       "<style scoped>\n",
       "    .dataframe tbody tr th:only-of-type {\n",
       "        vertical-align: middle;\n",
       "    }\n",
       "\n",
       "    .dataframe tbody tr th {\n",
       "        vertical-align: top;\n",
       "    }\n",
       "\n",
       "    .dataframe thead th {\n",
       "        text-align: right;\n",
       "    }\n",
       "</style>\n",
       "<table border=\"1\" class=\"dataframe\">\n",
       "  <thead>\n",
       "    <tr style=\"text-align: right;\">\n",
       "      <th></th>\n",
       "      <th>Question</th>\n",
       "      <th>Option_1</th>\n",
       "      <th>Option_2</th>\n",
       "      <th>Option_3</th>\n",
       "      <th>Option_4</th>\n",
       "      <th>RC</th>\n",
       "      <th>year</th>\n",
       "    </tr>\n",
       "  </thead>\n",
       "  <tbody>\n",
       "    <tr>\n",
       "      <th>0</th>\n",
       "      <td>26. ¿Cuál de los siguientes estudios de la coa...</td>\n",
       "      <td>1. Tiempo de tromboplastina parcial activado.</td>\n",
       "      <td>2. Tiempo de trombina.</td>\n",
       "      <td>3. Tiempo de protrombina.</td>\n",
       "      <td>4. Determinación de factor von Willebrand.</td>\n",
       "      <td>3</td>\n",
       "      <td>2021</td>\n",
       "    </tr>\n",
       "    <tr>\n",
       "      <th>1</th>\n",
       "      <td>27. En relación con la toxicidad del etanol, s...</td>\n",
       "      <td>1. El acetato producido en el metabolismo hepá...</td>\n",
       "      <td>2. El incremento en la relación NADH/NAD+ en e...</td>\n",
       "      <td>3. El ácido úrico compite con el lactato en la...</td>\n",
       "      <td>4. Los principales marcadores bioquímicos de i...</td>\n",
       "      <td>2</td>\n",
       "      <td>2021</td>\n",
       "    </tr>\n",
       "    <tr>\n",
       "      <th>2</th>\n",
       "      <td>29. En relación con el control fisiológico hor...</td>\n",
       "      <td>1. El óxido nítrico derivado del endotelio aum...</td>\n",
       "      <td>2. Las prostaglandinas y la bradicinina reduce...</td>\n",
       "      <td>3. La noradrenalina y la adrenalina contraen l...</td>\n",
       "      <td>4. La angiotensina II contrae preferentemente ...</td>\n",
       "      <td>1</td>\n",
       "      <td>2021</td>\n",
       "    </tr>\n",
       "    <tr>\n",
       "      <th>3</th>\n",
       "      <td>30. Con respecto a la actividad eléctrica del ...</td>\n",
       "      <td>1. El ritmo de casi todas las contracciones ga...</td>\n",
       "      <td>2. La despolarización de las ondas lentas vien...</td>\n",
       "      <td>3. Los potenciales en espiga son potenciales d...</td>\n",
       "      <td>4. En la generación y características de los p...</td>\n",
       "      <td>2</td>\n",
       "      <td>2021</td>\n",
       "    </tr>\n",
       "    <tr>\n",
       "      <th>4</th>\n",
       "      <td>31. En relación con el volumen y flujo sanguín...</td>\n",
       "      <td>1. En la espiración forzada se puede generar t...</td>\n",
       "      <td>2. Cuando disminuye la concentración de oxígen...</td>\n",
       "      <td>3. El ejercicio aumenta el flujo sanguíneo en ...</td>\n",
       "      <td>4. El aumento del gasto cardiaco durante el ej...</td>\n",
       "      <td>2</td>\n",
       "      <td>2021</td>\n",
       "    </tr>\n",
       "  </tbody>\n",
       "</table>\n",
       "</div>"
      ],
      "text/plain": [
       "                                            Question  \\\n",
       "0  26. ¿Cuál de los siguientes estudios de la coa...   \n",
       "1  27. En relación con la toxicidad del etanol, s...   \n",
       "2  29. En relación con el control fisiológico hor...   \n",
       "3  30. Con respecto a la actividad eléctrica del ...   \n",
       "4  31. En relación con el volumen y flujo sanguín...   \n",
       "\n",
       "                                            Option_1  \\\n",
       "0      1. Tiempo de tromboplastina parcial activado.   \n",
       "1  1. El acetato producido en el metabolismo hepá...   \n",
       "2  1. El óxido nítrico derivado del endotelio aum...   \n",
       "3  1. El ritmo de casi todas las contracciones ga...   \n",
       "4  1. En la espiración forzada se puede generar t...   \n",
       "\n",
       "                                            Option_2  \\\n",
       "0                             2. Tiempo de trombina.   \n",
       "1  2. El incremento en la relación NADH/NAD+ en e...   \n",
       "2  2. Las prostaglandinas y la bradicinina reduce...   \n",
       "3  2. La despolarización de las ondas lentas vien...   \n",
       "4  2. Cuando disminuye la concentración de oxígen...   \n",
       "\n",
       "                                            Option_3  \\\n",
       "0                          3. Tiempo de protrombina.   \n",
       "1  3. El ácido úrico compite con el lactato en la...   \n",
       "2  3. La noradrenalina y la adrenalina contraen l...   \n",
       "3  3. Los potenciales en espiga son potenciales d...   \n",
       "4  3. El ejercicio aumenta el flujo sanguíneo en ...   \n",
       "\n",
       "                                            Option_4  RC  year  \n",
       "0         4. Determinación de factor von Willebrand.   3  2021  \n",
       "1  4. Los principales marcadores bioquímicos de i...   2  2021  \n",
       "2  4. La angiotensina II contrae preferentemente ...   1  2021  \n",
       "3  4. En la generación y características de los p...   2  2021  \n",
       "4  4. El aumento del gasto cardiaco durante el ej...   2  2021  "
      ]
     },
     "execution_count": 41,
     "metadata": {},
     "output_type": "execute_result"
    }
   ],
   "source": [
    "processed_exam_df_filtered = pd.read_csv(\"../data/clean/clean_mir_2021.csv\")\n",
    "processed_exam_df_filtered.head()"
   ]
  },
  {
   "cell_type": "code",
   "execution_count": 44,
   "metadata": {},
   "outputs": [],
   "source": [
    "with sqlite3.connect(db_path) as bir_warehouse:\n",
    "    cur = bir_warehouse.cursor()\n",
    "    for question in processed_exam_df_filtered.itertuples():\n",
    "        cur.execute(query_question, (str(question[7]), exam_acronym, question[1]))\n",
    "        bir_warehouse.commit()\n",
    "        for n, option in enumerate(question[2:6]):\n",
    "            cur.execute(query_options, (question[1], str(year), n+1, option, n+1 == question[6]))\n",
    "            bir_warehouse.commit()"
   ]
  }
 ],
 "metadata": {
  "colab": {
   "provenance": []
  },
  "kernelspec": {
   "display_name": "bir_etl",
   "language": "python",
   "name": "python3"
  },
  "language_info": {
   "codemirror_mode": {
    "name": "ipython",
    "version": 3
   },
   "file_extension": ".py",
   "mimetype": "text/x-python",
   "name": "python",
   "nbconvert_exporter": "python",
   "pygments_lexer": "ipython3",
   "version": "3.12.7"
  }
 },
 "nbformat": 4,
 "nbformat_minor": 4
}
