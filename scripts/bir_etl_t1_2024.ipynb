{
 "cells": [
  {
   "cell_type": "markdown",
   "metadata": {
    "editable": true,
    "id": "56vKIohe8Jou",
    "slideshow": {
     "slide_type": ""
    },
    "tags": []
   },
   "source": [
    "# Data Extraction\n",
    "This section details the process of extracting question data from a PDF file and corresponding answer keys from a TSV file."
   ]
  },
  {
   "cell_type": "markdown",
   "metadata": {
    "id": "8kRORmWM8Joy"
   },
   "source": [
    "## Importing libraries"
   ]
  },
  {
   "cell_type": "markdown",
   "metadata": {},
   "source": [
    "* Pandas for data manipulation\n",
    "* NumPy for the NaN datatype\n",
    "* PyPDF for its ability to read the pfd files, although it requieres post-processing of the extracted text\n",
    "* sqlite3 to create load the clean data into `bir_warehouse.db`"
   ]
  },
  {
   "cell_type": "code",
   "execution_count": 1,
   "metadata": {
    "colab": {
     "base_uri": "https://localhost:8080/"
    },
    "id": "y8DpYYll8Joz",
    "outputId": "40cac5b3-1153-431b-f780-201aa62b5813"
   },
   "outputs": [],
   "source": [
    "import pandas as pd\n",
    "import numpy as np\n",
    "from pypdf import PdfReader\n",
    "import sqlite3"
   ]
  },
  {
   "cell_type": "markdown",
   "metadata": {},
   "source": [
    "## Selecting year and type of exam"
   ]
  },
  {
   "cell_type": "markdown",
   "metadata": {},
   "source": [
    "This function, `compute_expected_rows`, takes the exam year and topic as input and returns metadata crucial for subsequent data cleaning and loading steps. This metadata includes the expected maximum number of rows in the final DataFrame, the number of questions per exam, and the acronym for the exam type.  The maximum number of rows is calculated based on the number of questions and options per question for each year, following a specific pattern:\n",
    "\n",
    "*   2024-2021: 210 questions, 4 options each\n",
    "*   2020-2019: 185 questions, 4 options each\n",
    "*   2018-2015: 235 questions, 4 options each\n",
    "*   2014-2012: 235 questions, 5 options each\n",
    "*   2011-2004: 260 questions, 5 options each\n",
    "\n",
    "This information is essential for validating data integrity during the ETL process.  For example, the expected row count helps verify that all questions and options have been correctly extracted and transformed. The exam type acronym aids in consistent file naming and data organization."
   ]
  },
  {
   "cell_type": "code",
   "execution_count": 2,
   "metadata": {},
   "outputs": [],
   "source": [
    "def compute_expected_rows(year: int, topic: str) -> tuple:\n",
    "    \"\"\"Computes and returns metadata about the exam for a given year and topic\n",
    "\n",
    "    Args:\n",
    "        year (int): The year of the exam\n",
    "        topic (str): The topic of the exam\n",
    "\n",
    "    Returns:\n",
    "        tuple: Contains:\n",
    "            - max_rows: The expected maximum number of rows in the DataFrame\n",
    "            - num_options: The number of questions in the exam\n",
    "            - exam_type_acronym: The acronym for the exam type\n",
    "\n",
    "    \"\"\"\n",
    "    info_year_dict: dict = {\n",
    "        2011: [260, 5],\n",
    "        2014: [235, 5],\n",
    "        2018: [235, 4],\n",
    "        2020: [185, 4],\n",
    "        2021: [210, 4],\n",
    "    }\n",
    "    save_name_dict: dict = {\n",
    "        \"BIOLOGÍA\": \"bir\",\n",
    "        \"FARMACIA\": \"fir\",\n",
    "        \"QUÍMICA\": \"qir\",\n",
    "        \"MEDICINA\": \"mir\",\n",
    "    }\n",
    "    max_rows: int = 0\n",
    "    num_options: int = 0\n",
    "    for target_year, info_list in info_year_dict.items():\n",
    "        if year <= target_year:\n",
    "            max_rows = (info_list[0] * info_list[1]) + info_list[0]\n",
    "            num_options = info_list[1]\n",
    "            break\n",
    "    else:\n",
    "        max_rows = 1050\n",
    "        num_options = 4\n",
    "    return max_rows, num_options, save_name_dict[topic]"
   ]
  },
  {
   "cell_type": "markdown",
   "metadata": {},
   "source": [
    "### Add year of the exam and topic "
   ]
  },
  {
   "cell_type": "code",
   "execution_count": 3,
   "metadata": {},
   "outputs": [],
   "source": [
    "year: int = 2024\n",
    "topic: str = \"BIOLOGÍA\" # Select from: BIOLOGÍA, FARMACIA, QUÍMICA, MEDICINA\n",
    "total_num_rows: int\n",
    "num_questions: int\n",
    "exam_acronym: str\n",
    "total_num_rows, num_questions, exam_acronym = compute_expected_rows(year, topic)\n",
    "save_format: str = f\"../data/clean/clean_{exam_acronym}_{year}.csv\""
   ]
  },
  {
   "cell_type": "markdown",
   "metadata": {
    "id": "Z1Kjq5ue8Jo1"
   },
   "source": [
    "## Extracting Questions from Pdf file"
   ]
  },
  {
   "cell_type": "markdown",
   "metadata": {},
   "source": [
    "This section focuses on extracting the textual content of the exam questions from the provided PDF file.\n",
    "\n",
    "**Path Definition:**\n",
    "\n",
    "The path to the PDF file is dynamically constructed using the provided `year` and `topic` variables. This ensures flexibility and allows the script to process different exam files without manual path adjustments.\n",
    "\n",
    "Finally it stores the output in a DataFrame and the first 10 rows of the resulting DataFrame are displayed for a quick preview of the loaded data."
   ]
  },
  {
   "cell_type": "code",
   "execution_count": 4,
   "metadata": {
    "id": "AB4M4yfr8Jo3"
   },
   "outputs": [
    {
     "data": {
      "text/html": [
       "<div>\n",
       "<style scoped>\n",
       "    .dataframe tbody tr th:only-of-type {\n",
       "        vertical-align: middle;\n",
       "    }\n",
       "\n",
       "    .dataframe tbody tr th {\n",
       "        vertical-align: top;\n",
       "    }\n",
       "\n",
       "    .dataframe thead th {\n",
       "        text-align: right;\n",
       "    }\n",
       "</style>\n",
       "<table border=\"1\" class=\"dataframe\">\n",
       "  <thead>\n",
       "    <tr style=\"text-align: right;\">\n",
       "      <th></th>\n",
       "      <th>text</th>\n",
       "    </tr>\n",
       "  </thead>\n",
       "  <tbody>\n",
       "    <tr>\n",
       "      <th>0</th>\n",
       "      <td></td>\n",
       "    </tr>\n",
       "    <tr>\n",
       "      <th>1</th>\n",
       "      <td>Página: 1 de 19</td>\n",
       "    </tr>\n",
       "    <tr>\n",
       "      <th>2</th>\n",
       "      <td>1. La barrera hematoencefálica:</td>\n",
       "    </tr>\n",
       "    <tr>\n",
       "      <th>3</th>\n",
       "      <td></td>\n",
       "    </tr>\n",
       "    <tr>\n",
       "      <th>4</th>\n",
       "      <td>1. Es permeable a todas las sustancias pre-</td>\n",
       "    </tr>\n",
       "    <tr>\n",
       "      <th>5</th>\n",
       "      <td>sentes en el plasma.</td>\n",
       "    </tr>\n",
       "    <tr>\n",
       "      <th>6</th>\n",
       "      <td>2. Es permeable al O2 y al CO2.</td>\n",
       "    </tr>\n",
       "    <tr>\n",
       "      <th>7</th>\n",
       "      <td>3. Es impermeable al etanol.</td>\n",
       "    </tr>\n",
       "    <tr>\n",
       "      <th>8</th>\n",
       "      <td>4. Es impermeable al agua.</td>\n",
       "    </tr>\n",
       "    <tr>\n",
       "      <th>9</th>\n",
       "      <td></td>\n",
       "    </tr>\n",
       "  </tbody>\n",
       "</table>\n",
       "</div>"
      ],
      "text/plain": [
       "                                          text\n",
       "0                                             \n",
       "1                             Página: 1 de 19 \n",
       "2             1. La barrera hematoencefálica: \n",
       "3                                             \n",
       "4  1. Es permeable a todas las sustancias pre-\n",
       "5                        sentes en el plasma. \n",
       "6             2. Es permeable al O2 y al CO2. \n",
       "7                3. Es impermeable al etanol. \n",
       "8                  4. Es impermeable al agua. \n",
       "9                                             "
      ]
     },
     "execution_count": 4,
     "metadata": {},
     "output_type": "execute_result"
    }
   ],
   "source": [
    "path: str = f\"../data/raw/type_1/Raw_Cuaderno_{year}_{topic}_0_C.pdf\"\n",
    "with PdfReader(path) as pdf_file:\n",
    "    full_text: list = []\n",
    "    for n in range(2, len(pdf_file.pages)):\n",
    "        page = pdf_file.pages[n]\n",
    "        text: str = page.extract_text()\n",
    "        full_text.extend(text.splitlines())\n",
    "raw_exam_df: pd.DataFrame = pd.DataFrame(full_text, columns=[\"text\"])\n",
    "raw_exam_df.head(10)"
   ]
  },
  {
   "cell_type": "markdown",
   "metadata": {
    "id": "IBhc5aFQ8Jo6"
   },
   "source": [
    "## Extracting Answers from .tsv file into a DataFrame"
   ]
  },
  {
   "cell_type": "markdown",
   "metadata": {},
   "source": [
    "This section focuses on extracting the answer key data from the provided .tsv file and loading it into a Pandas DataFrame.\n",
    "\n",
    "**Path Definition and Data Loading:**\n",
    "\n",
    "The path to the .tsv file is dynamically constructed using the `year` and `topic` variables, mirroring the approach used for the PDF file. This ensures consistency and flexibility in processing different exam files. \n",
    "\n",
    "The `pd.read_table()` function is then used to read the .tsv file directly into a Pandas DataFrame. Finally, the first 10 rows of the resulting DataFrame are displayed for a quick preview of the loaded data."
   ]
  },
  {
   "cell_type": "code",
   "execution_count": 5,
   "metadata": {
    "colab": {
     "base_uri": "https://localhost:8080/",
     "height": 206
    },
    "id": "O1ouB9mQ8Jo7",
    "outputId": "70b7615d-9c90-4f2d-b9e1-a5c86b507ef6"
   },
   "outputs": [
    {
     "data": {
      "text/html": [
       "<div>\n",
       "<style scoped>\n",
       "    .dataframe tbody tr th:only-of-type {\n",
       "        vertical-align: middle;\n",
       "    }\n",
       "\n",
       "    .dataframe tbody tr th {\n",
       "        vertical-align: top;\n",
       "    }\n",
       "\n",
       "    .dataframe thead th {\n",
       "        text-align: right;\n",
       "    }\n",
       "</style>\n",
       "<table border=\"1\" class=\"dataframe\">\n",
       "  <thead>\n",
       "    <tr style=\"text-align: right;\">\n",
       "      <th></th>\n",
       "      <th>V0</th>\n",
       "      <th>RC</th>\n",
       "      <th>V0.1</th>\n",
       "      <th>RC.1</th>\n",
       "      <th>V0.2</th>\n",
       "      <th>RC.2</th>\n",
       "      <th>V0.3</th>\n",
       "      <th>RC.3</th>\n",
       "      <th>V0.4</th>\n",
       "      <th>RC.4</th>\n",
       "    </tr>\n",
       "  </thead>\n",
       "  <tbody>\n",
       "    <tr>\n",
       "      <th>0</th>\n",
       "      <td>1</td>\n",
       "      <td>2</td>\n",
       "      <td>43</td>\n",
       "      <td>1</td>\n",
       "      <td>85</td>\n",
       "      <td>2</td>\n",
       "      <td>127</td>\n",
       "      <td>4</td>\n",
       "      <td>169</td>\n",
       "      <td>3.0</td>\n",
       "    </tr>\n",
       "    <tr>\n",
       "      <th>1</th>\n",
       "      <td>2</td>\n",
       "      <td>2</td>\n",
       "      <td>44</td>\n",
       "      <td>4</td>\n",
       "      <td>86</td>\n",
       "      <td>1</td>\n",
       "      <td>128</td>\n",
       "      <td>1</td>\n",
       "      <td>170</td>\n",
       "      <td>1.0</td>\n",
       "    </tr>\n",
       "    <tr>\n",
       "      <th>2</th>\n",
       "      <td>3</td>\n",
       "      <td>3</td>\n",
       "      <td>45</td>\n",
       "      <td>3</td>\n",
       "      <td>87</td>\n",
       "      <td>2</td>\n",
       "      <td>129</td>\n",
       "      <td>2</td>\n",
       "      <td>171</td>\n",
       "      <td>2.0</td>\n",
       "    </tr>\n",
       "    <tr>\n",
       "      <th>3</th>\n",
       "      <td>4</td>\n",
       "      <td>1</td>\n",
       "      <td>46</td>\n",
       "      <td>3</td>\n",
       "      <td>88</td>\n",
       "      <td>4</td>\n",
       "      <td>130</td>\n",
       "      <td>3</td>\n",
       "      <td>172</td>\n",
       "      <td>2.0</td>\n",
       "    </tr>\n",
       "    <tr>\n",
       "      <th>4</th>\n",
       "      <td>5</td>\n",
       "      <td>2</td>\n",
       "      <td>47</td>\n",
       "      <td>1</td>\n",
       "      <td>89</td>\n",
       "      <td>4</td>\n",
       "      <td>131</td>\n",
       "      <td>1</td>\n",
       "      <td>173</td>\n",
       "      <td>1.0</td>\n",
       "    </tr>\n",
       "    <tr>\n",
       "      <th>5</th>\n",
       "      <td>6</td>\n",
       "      <td>1</td>\n",
       "      <td>48</td>\n",
       "      <td>4</td>\n",
       "      <td>90</td>\n",
       "      <td>1</td>\n",
       "      <td>132</td>\n",
       "      <td>3</td>\n",
       "      <td>174</td>\n",
       "      <td>2.0</td>\n",
       "    </tr>\n",
       "    <tr>\n",
       "      <th>6</th>\n",
       "      <td>7</td>\n",
       "      <td>3</td>\n",
       "      <td>49</td>\n",
       "      <td>1</td>\n",
       "      <td>91</td>\n",
       "      <td>1</td>\n",
       "      <td>133</td>\n",
       "      <td>2</td>\n",
       "      <td>175</td>\n",
       "      <td>3.0</td>\n",
       "    </tr>\n",
       "    <tr>\n",
       "      <th>7</th>\n",
       "      <td>8</td>\n",
       "      <td>4</td>\n",
       "      <td>50</td>\n",
       "      <td>4</td>\n",
       "      <td>92</td>\n",
       "      <td>3</td>\n",
       "      <td>134</td>\n",
       "      <td>1</td>\n",
       "      <td>176</td>\n",
       "      <td>1.0</td>\n",
       "    </tr>\n",
       "    <tr>\n",
       "      <th>8</th>\n",
       "      <td>9</td>\n",
       "      <td>1</td>\n",
       "      <td>51</td>\n",
       "      <td>1</td>\n",
       "      <td>93</td>\n",
       "      <td>3</td>\n",
       "      <td>135</td>\n",
       "      <td>3</td>\n",
       "      <td>177</td>\n",
       "      <td>1.0</td>\n",
       "    </tr>\n",
       "    <tr>\n",
       "      <th>9</th>\n",
       "      <td>10</td>\n",
       "      <td>3</td>\n",
       "      <td>52</td>\n",
       "      <td>3</td>\n",
       "      <td>94</td>\n",
       "      <td>3</td>\n",
       "      <td>136</td>\n",
       "      <td>3</td>\n",
       "      <td>178</td>\n",
       "      <td>4.0</td>\n",
       "    </tr>\n",
       "  </tbody>\n",
       "</table>\n",
       "</div>"
      ],
      "text/plain": [
       "   V0  RC  V0.1  RC.1  V0.2  RC.2  V0.3  RC.3  V0.4  RC.4\n",
       "0   1   2    43     1    85     2   127     4   169   3.0\n",
       "1   2   2    44     4    86     1   128     1   170   1.0\n",
       "2   3   3    45     3    87     2   129     2   171   2.0\n",
       "3   4   1    46     3    88     4   130     3   172   2.0\n",
       "4   5   2    47     1    89     4   131     1   173   1.0\n",
       "5   6   1    48     4    90     1   132     3   174   2.0\n",
       "6   7   3    49     1    91     1   133     2   175   3.0\n",
       "7   8   4    50     4    92     3   134     1   176   1.0\n",
       "8   9   1    51     1    93     3   135     3   177   1.0\n",
       "9  10   3    52     3    94     3   136     3   178   4.0"
      ]
     },
     "execution_count": 5,
     "metadata": {},
     "output_type": "execute_result"
    }
   ],
   "source": [
    "raw_answers_df: pd.DataFrame = pd.read_table(f\"../data/raw/type_1/Raw_Cuaderno_{year}_{topic}_0_C_Respuestas.tsv\")\n",
    "raw_answers_df.head(10)"
   ]
  },
  {
   "cell_type": "markdown",
   "metadata": {
    "id": "uFFlTADP8Jo7"
   },
   "source": [
    "# Data Transformation"
   ]
  },
  {
   "cell_type": "markdown",
   "metadata": {},
   "source": [
    "## Exam pdf"
   ]
  },
  {
   "cell_type": "markdown",
   "metadata": {},
   "source": [
    "### Removing white space"
   ]
  },
  {
   "cell_type": "markdown",
   "metadata": {
    "id": "2QavIIOK8Jo7"
   },
   "source": [
    "This section focuses on cleaning the raw text extracted from the PDF exam file, preparing it for further processing. This involves removing extraneous whitespace, handling empty lines, and resetting the DataFrame index.\n",
    "\n",
    "**1. Removing Page Number Artifacts:**\n",
    "\n",
    "The extracted text may contain page number artifacts, which are removed by filtering out rows containing the string \"Página\"."
   ]
  },
  {
   "cell_type": "code",
   "execution_count": 6,
   "metadata": {},
   "outputs": [],
   "source": [
    "raw_exam_df = raw_exam_df[~raw_exam_df[\"text\"].str.contains(\"Página\")]"
   ]
  },
  {
   "cell_type": "markdown",
   "metadata": {},
   "source": [
    "**2. Striping Leading/Trailing Whitespaces**\n",
    "\n",
    "Leading and trailing whitespace characters are removed from each text entry using the .str.strip() method."
   ]
  },
  {
   "cell_type": "code",
   "execution_count": 7,
   "metadata": {},
   "outputs": [],
   "source": [
    "raw_exam_df = raw_exam_df[\"text\"].str.strip()"
   ]
  },
  {
   "cell_type": "markdown",
   "metadata": {},
   "source": [
    "**3. Handling Empty Lines**\n",
    "\n",
    "Empty lines, represented as empty strings, are replaced with NaN (Not a Number) values. \n",
    "\n",
    "Then rows containing NaN values, representing empty lines, are removed from the DataFrame using .dropna()"
   ]
  },
  {
   "cell_type": "code",
   "execution_count": 8,
   "metadata": {},
   "outputs": [],
   "source": [
    "raw_exam_df = raw_exam_df.replace(\"\", np.nan)\n",
    "raw_exam_df = raw_exam_df.dropna()"
   ]
  },
  {
   "cell_type": "markdown",
   "metadata": {},
   "source": [
    "**4. Reseting DataFrame Index**\n",
    "\n",
    "The DataFrame index is reset after removing rows, ensuring a contiguous index and dropping the old index."
   ]
  },
  {
   "cell_type": "code",
   "execution_count": 9,
   "metadata": {},
   "outputs": [],
   "source": [
    "raw_exam_df = raw_exam_df.reset_index(drop=True)"
   ]
  },
  {
   "cell_type": "markdown",
   "metadata": {},
   "source": [
    "**5. Displays the first 10 rows of the DataFrame**"
   ]
  },
  {
   "cell_type": "code",
   "execution_count": 10,
   "metadata": {},
   "outputs": [
    {
     "data": {
      "text/plain": [
       "0                1. La barrera hematoencefálica:\n",
       "1    1. Es permeable a todas las sustancias pre-\n",
       "2                           sentes en el plasma.\n",
       "3                2. Es permeable al O2 y al CO2.\n",
       "4                   3. Es impermeable al etanol.\n",
       "5                     4. Es impermeable al agua.\n",
       "6      2. El espacio subaracnoideo se encuentra:\n",
       "7         1. Entre la aracnoides y la duramadre.\n",
       "8          2. Entre la aracnoides y la piamadre.\n",
       "9                            3. Lleno de sangre.\n",
       "Name: text, dtype: object"
      ]
     },
     "execution_count": 10,
     "metadata": {},
     "output_type": "execute_result"
    }
   ],
   "source": [
    "raw_exam_df.head(10)"
   ]
  },
  {
   "cell_type": "markdown",
   "metadata": {},
   "source": [
    "### Joining Truncated Lines"
   ]
  },
  {
   "cell_type": "markdown",
   "metadata": {},
   "source": [
    "This section addresses the issue of truncated lines and multi-line questions or options within the extracted exam text. A custom function, `process_multi_line_str`, is used to concatenate these lines, ensuring that each question and option is presented as a single, coherent string.\n",
    "\n",
    "**Function: `process_multi_line_str(df)`**\n",
    "\n",
    "This function iterates through the DataFrame, performing two main tasks:\n",
    "\n",
    "1.  **Joining Truncated Words:**\n",
    "    * It checks if a line ends with a hyphen (\"-\"), indicating a word that has been truncated at the end of a line.\n",
    "    * If a line is truncated, it removes the hyphen and appends the content of the following line to the current line.\n",
    "    * The following line is then removed from the DataFrame, and the index is reset.\n",
    "\n",
    "2.  **Joining Multi-Line Questions/Options:**\n",
    "    * It checks if the first character of the next line can be converted to an integer. This is used as a heuristic to identify the start of a new question or option.\n",
    "    * If the next line does not start with an integer (i.e., it's a continuation of the current question or option), it is appended to the current line, separated by a space.\n",
    "    * The next line is then removed, and the index is reset."
   ]
  },
  {
   "cell_type": "code",
   "execution_count": 11,
   "metadata": {
    "id": "rYZHjn_C8Jo8"
   },
   "outputs": [],
   "source": [
    "def process_multi_line_str(df: pd.DataFrame) -> pd.DataFrame:\n",
    "    \"\"\"Function to handle truncated lines\n",
    "\n",
    "    Args:\n",
    "        df (pd.DataFrame): A pandas dataframe\n",
    "\n",
    "    Returns:\n",
    "        pd.DataFrame: Returns the DataFrame without truncated lines\n",
    "    \"\"\"\n",
    "    i: int = 0\n",
    "    while i < len(df) - 1:\n",
    "        if i < len(df) -1  and df.iloc[i].endswith(\"-\"):\n",
    "            df.iloc[i] = df.iloc[i][:-1] + df.iloc[i + 1]\n",
    "            df = df.drop(i + 1)\n",
    "            df = df.reset_index(drop=True)\n",
    "        else:\n",
    "            i += 1\n",
    "    n: int = 0\n",
    "    while n < len(df) -1:\n",
    "        if n + 1 < len(df):\n",
    "            try:\n",
    "                int(df.iloc[n + 1][0:1])\n",
    "                n += 1\n",
    "            except ValueError:\n",
    "                df.iloc[n] = df.iloc[n] + \" \" + df.iloc[n + 1]\n",
    "                df = df.drop(n +1)\n",
    "                df = df.reset_index(drop= True)\n",
    "        else:\n",
    "            break\n",
    "    return df"
   ]
  },
  {
   "cell_type": "markdown",
   "metadata": {},
   "source": [
    "The process_multi_line_str function is applied to the cleaned raw_exam_df DataFrame, and the resulting DataFrame is stored in exam_df_concat. The first few rows of the concatenated DataFrame are displayed to verify the results."
   ]
  },
  {
   "cell_type": "code",
   "execution_count": 12,
   "metadata": {
    "colab": {
     "base_uri": "https://localhost:8080/",
     "height": 206
    },
    "id": "2v6dmQuM8_v1",
    "outputId": "215f5328-a43d-4bbb-f221-fba6fc10a5c1"
   },
   "outputs": [
    {
     "data": {
      "text/plain": [
       "0                      1. La barrera hematoencefálica:\n",
       "1    1. Es permeable a todas las sustancias present...\n",
       "2                      2. Es permeable al O2 y al CO2.\n",
       "3                         3. Es impermeable al etanol.\n",
       "4                           4. Es impermeable al agua.\n",
       "5            2. El espacio subaracnoideo se encuentra:\n",
       "6               1. Entre la aracnoides y la duramadre.\n",
       "7                2. Entre la aracnoides y la piamadre.\n",
       "8                                  3. Lleno de sangre.\n",
       "9                4. En el sistema nervioso periférico.\n",
       "Name: text, dtype: object"
      ]
     },
     "execution_count": 12,
     "metadata": {},
     "output_type": "execute_result"
    }
   ],
   "source": [
    "exam_df_concat: pd.DataFrame = process_multi_line_str(raw_exam_df)\n",
    "exam_df_concat.head(10)"
   ]
  },
  {
   "cell_type": "markdown",
   "metadata": {},
   "source": [
    "### Validating and Correction Incorrect Rows"
   ]
  },
  {
   "cell_type": "markdown",
   "metadata": {},
   "source": [
    "This section focuses on validating the number of rows in the cleaned DataFrame against the expected number and correcting any rows that do not conform to the expected format.\n",
    "\n",
    "**1. Calculating Expected and Actual Incorrect Rows:**\n",
    "\n",
    "We calculate the expected number of incorrect rows by subtracting the total expected rows from the current number of rows in the DataFrame. We then identify the actual number of incorrect rows by counting the rows that do not end with a period (\".\"), a colon (\":\") or interrogation sign (\"?\")."
   ]
  },
  {
   "cell_type": "code",
   "execution_count": 13,
   "metadata": {},
   "outputs": [
    {
     "name": "stdout",
     "output_type": "stream",
     "text": [
      "Number of expected incorrect rows = 8\n",
      "Number of rows not ending with '.', ':' or '?' = 11\n",
      "[55, 235, 516, 559, 612, 703, 789, 810, 838, 840, 872]\n"
     ]
    }
   ],
   "source": [
    "num_rows_incorrect_expected: int = len(exam_df_concat) - total_num_rows\n",
    "num_rows_incorrect: int = exam_df_concat[~exam_df_concat.str.endswith((\".\", \":\", \"?\"))].count()\n",
    "id_rows_incorrect: list = exam_df_concat[~exam_df_concat.str.endswith((\".\", \":\", \"?\"))].index.to_list()\n",
    "print(f\"Number of expected incorrect rows = {num_rows_incorrect_expected}\")\n",
    "print(f\"Number of rows not ending with '.', ':' or '?' = {num_rows_incorrect}\")\n",
    "print(id_rows_incorrect)"
   ]
  },
  {
   "cell_type": "markdown",
   "metadata": {},
   "source": [
    "**2. Function: print_rows_incorrrect(wrong_id, df):**\n",
    "\n",
    "This function takes a list of incorrect row indices and the DataFrame as input. It then prints the row identified as incorrect along with the 2 rows before and 2 rows after, providing context to help determine how to fix the error."
   ]
  },
  {
   "cell_type": "code",
   "execution_count": 14,
   "metadata": {},
   "outputs": [],
   "source": [
    "def print_rows_incorrrect(wrong_id: list[int], df: pd.DataFrame) -> None:\n",
    "    \"\"\"Print +/- 2 rows for context\n",
    "\n",
    "    Args:\n",
    "        wrong_id (list): Generated list of wrong row_id\n",
    "        df (pd.DataFrame): DataFrame corresponding with the worng_id list\n",
    "    \"\"\"\n",
    "    for wid in wrong_id:\n",
    "        print(f\"Id to fix {wid}:\")\n",
    "        print(df.iloc[wid -2: wid +3])"
   ]
  },
  {
   "cell_type": "markdown",
   "metadata": {},
   "source": [
    "**3. Function: fix_incorrect(num_row, df):**\n",
    "\n",
    "This function takes a list of row indices to fix and the DataFrame. It iterates through the indices in reverse order to avoid index shifting problems. Each incorrect row is concatenated with the row immediately following it, and the subsequent row is then dropped. The DataFrame index is reset after each concatenation."
   ]
  },
  {
   "cell_type": "code",
   "execution_count": 15,
   "metadata": {},
   "outputs": [],
   "source": [
    "def fix_incorrect(num_row: list[int], df: pd.DataFrame) -> pd.DataFrame:\n",
    "    \"\"\"Fix the incorrect rows in the DataFrame\n",
    "\n",
    "    Args:\n",
    "        num_row (list): List of ids to fix\n",
    "        df (pd.DataFrame): The DataFrame to fix\n",
    "\n",
    "    Returns:\n",
    "        pd.DataFrame: Fixed\n",
    "    \"\"\"\n",
    "    num_row: list = sorted(num_row, reverse=True)\n",
    "    for n in num_row:\n",
    "        df.iloc[n] = df.iloc[n] + df.iloc[n + 1]\n",
    "        df = df.drop(n + 1)\n",
    "        df = df.reset_index(drop= True)\n",
    "    return df"
   ]
  },
  {
   "cell_type": "markdown",
   "metadata": {},
   "source": [
    "**4. Validation and Correction Logic:**\n",
    "\n",
    "We compare the expected and actual number of incorrect rows. If they match, we proceed to fix the incorrect rows using the `fix_incorrect` function. Otherwise, we print the context of the incorrect rows and raise a warning, indicating that manual inspection and correction are required."
   ]
  },
  {
   "cell_type": "code",
   "execution_count": 16,
   "metadata": {},
   "outputs": [
    {
     "name": "stdout",
     "output_type": "stream",
     "text": [
      "Id to fix 55:\n",
      "53    3. Estimula la secreción de progesterona y est...\n",
      "54    4. Comienza a ser secretada tras la involución...\n",
      "55       12. En la fase de despolarización rápida (fase\n",
      "56    0) del potencial de acción cardíaco, el princi...\n",
      "57                                             1. Ca2+.\n",
      "Name: text, dtype: object\n",
      "Id to fix 235:\n",
      "233                                              2. ATP.\n",
      "234                                    3. ARN mensajero.\n",
      "235                                               4. ADP\n",
      "236    48. ¿Qué mecanismo actúa para transmitir la se...\n",
      "237    1. Reciben la señal de un neurotransmisor, cam...\n",
      "Name: text, dtype: object\n",
      "Id to fix 516:\n",
      "514                                       3. Transición.\n",
      "515                                       4. Traducción.\n",
      "516    104. ¿Qué término describe mejor las siguiente...\n",
      "517                                      1, SINE y Alu?:\n",
      "518                          1. Elementos transponibles.\n",
      "Name: text, dtype: object\n",
      "Id to fix 559:\n",
      "557    112. Si un gen se localiza en el 13q14 signifi...\n",
      "558    1. Está situado en el brazo largo del cromosom...\n",
      "559           2. Está situado en el cromosoma 13 y en el\n",
      "560                                                  14.\n",
      "561    3. Está situado en el brazo largo del cromosom...\n",
      "Name: text, dtype: object\n",
      "Id to fix 612:\n",
      "610                              2. Enfermedad de Crohn.\n",
      "611                                3. Fibrosis quística.\n",
      "612            4. Enfermedad de Charcot-Marie-Tooth tipo\n",
      "613                                                  1A.\n",
      "614    123. ¿Cuál de los siguientes síndromes de tumo...\n",
      "Name: text, dtype: object\n",
      "Id to fix 703:\n",
      "701    2. En muestras hemolizadas , parámetros analít...\n",
      "702    3. La ictericia es una interferencia analítica...\n",
      "703            4. La ultracentrifuga ción (100.000 x g –\n",
      "704    2.000.000 x g) es una metodo logía ineficaz pa...\n",
      "705    141. De las siguientes lipoproteínas, ¿Cuáles ...\n",
      "Name: text, dtype: object\n",
      "Id to fix 789:\n",
      "787                              2. Autosómica recesiva.\n",
      "788                            3. Ligada al cromosoma X.\n",
      "789               4. La hemocromatosis no es hereditaria\n",
      "790    158. Una fórmula cromosómica 47XXY indica la p...\n",
      "791    1. De sexo masculino con síndrome de Klinefelter.\n",
      "Name: text, dtype: object\n",
      "Id to fix 810:\n",
      "808    3. Eliminación de intrones durante el procesam...\n",
      "809    4. Inactivación del cromosoma X en las células...\n",
      "810        162. La activación del complejo ciclina B-CDK\n",
      "811                                                   1:\n",
      "812    1. Se produce cuando la célula va a replicar e...\n",
      "Name: text, dtype: object\n",
      "Id to fix 838:\n",
      "836    167. ¿Cuál de los siguientes mecanismos NO se ...\n",
      "837    1. Alteraciones de las proteínas fijadoras de ...\n",
      "838              2. Mutaciones en el gen que codifica el\n",
      "839                                 23S-ARNr bacteriano.\n",
      "840             3. Presencia de una metiltransferasa del\n",
      "Name: text, dtype: object\n",
      "Id to fix 840:\n",
      "838             2. Mutaciones en el gen que codifica el\n",
      "839                                23S-ARNr bacteriano.\n",
      "840            3. Presencia de una metiltransferasa del\n",
      "841                 23S-ARNr codificada por el gen cfr.\n",
      "842    4. Cambios en las proteínas ribosomales L3 y L4.\n",
      "Name: text, dtype: object\n",
      "Id to fix 872:\n",
      "870         2. Detección del antígeno capsular en orina.\n",
      "871    3. Inmunofluorescencia indirecta de muestra re...\n",
      "872                4. Detección de anticuerpos en sangre\n",
      "873    174. Respecto a las infecciones por Legionella...\n",
      "874    1. Se asocian a la inhalación de aerosoles de ...\n",
      "Name: text, dtype: object\n"
     ]
    }
   ],
   "source": [
    "if num_rows_incorrect_expected == num_rows_incorrect:\n",
    "    exam_df_fixed = fix_incorrect(id_rows_incorrect, exam_df_concat)\n",
    "    df_correct_rows: bool = len(exam_df_fixed) == num_rows_incorrect_expected\n",
    "else:\n",
    "    print_rows_incorrrect(id_rows_incorrect, exam_df_concat)\n",
    "    # raise Warning(\"More incorrect rows that expected, uncomment the lines below and add ids to the list, and comment this line\")\n",
    "    rows_fix: list[int] = [55, 559, 516, 612, 703, 810, 838, 840, ]\n",
    "    exam_df_fixed: pd.DataFrame = fix_incorrect(rows_fix, exam_df_concat)"
   ]
  },
  {
   "cell_type": "markdown",
   "metadata": {},
   "source": [
    "**5. Verification of Corrected Rows:**\n",
    "\n",
    "We print the expected total number of rows and the actual number of rows in the corrected DataFrame to verify the results of the correction process."
   ]
  },
  {
   "cell_type": "code",
   "execution_count": 17,
   "metadata": {},
   "outputs": [
    {
     "name": "stdout",
     "output_type": "stream",
     "text": [
      "Correct number of rows = 1050\n",
      "1050\n"
     ]
    }
   ],
   "source": [
    "print(f\"Correct number of rows = {total_num_rows}\")\n",
    "print(exam_df_fixed.shape[0])"
   ]
  },
  {
   "cell_type": "markdown",
   "metadata": {},
   "source": [
    "### Pivoting the DataFrame\n",
    "\n",
    "This section focuses on transforming the cleaned exam data into a structured format suitable for analysis. The DataFrame is pivoted to create columns for each question and its corresponding options.\n",
    "\n",
    "**1. Preparing the DataFrame for Pivoting:**\n",
    "\n",
    "The `exam_df_fixed` Series is converted to a DataFrame, and a 'group' column is created to identify each question and its options. An 'option_num' column is then generated to enumerate the options within each group.\n"
   ]
  },
  {
   "cell_type": "code",
   "execution_count": 18,
   "metadata": {},
   "outputs": [],
   "source": [
    "exam_df_fixed = exam_df_fixed.to_frame()\n",
    "groups: pd.Series = pd.Series((exam_df_fixed.index // (num_questions+1)) +1)\n",
    "exam_df_fixed[\"group\"] = groups  \n",
    "exam_df_fixed[\"option_num\"] = exam_df_fixed.groupby(\"group\").cumcount() + 1"
   ]
  },
  {
   "cell_type": "markdown",
   "metadata": {},
   "source": [
    "**2. Pivoting the DataFrame:**\n",
    "\n",
    "The DataFrame is pivoted using the 'group' column as the index, the 'option_num' column as the columns, and the 'text' column as the values. The index is then reset."
   ]
  },
  {
   "cell_type": "code",
   "execution_count": 19,
   "metadata": {},
   "outputs": [],
   "source": [
    "exam_df_pivot: pd.DataFrame = exam_df_fixed.pivot(index=\"group\", columns=\"option_num\", values=\"text\")\n",
    "exam_df_pivot = exam_df_pivot.reset_index()"
   ]
  },
  {
   "cell_type": "markdown",
   "metadata": {},
   "source": [
    "**3. Renaming Columns:**\n",
    "\n",
    "The columns are renamed to more descriptive names, such as \"Question\", \"Option_1\", \"Option_2\", etc."
   ]
  },
  {
   "cell_type": "code",
   "execution_count": 20,
   "metadata": {},
   "outputs": [],
   "source": [
    "key_list: list = [x for x in range(1, num_questions+2, 1)]\n",
    "val_list: list = [\"Question\"] + [f\"Option_{x}\" for x in range(1, 4 + 1, 1)]\n",
    "\n",
    "exam_df_pivot = exam_df_pivot.rename_axis(None, axis=1).rename(columns=dict(zip(key_list, val_list)))"
   ]
  },
  {
   "cell_type": "markdown",
   "metadata": {},
   "source": [
    "**4. Dropping the 'group' Column:**\n",
    "\n",
    "The 'group' column is dropped as it is no longer needed"
   ]
  },
  {
   "cell_type": "code",
   "execution_count": 21,
   "metadata": {},
   "outputs": [],
   "source": [
    "exam_df_pivot = exam_df_pivot.drop(columns=[\"group\"])"
   ]
  },
  {
   "cell_type": "markdown",
   "metadata": {},
   "source": [
    "**5. Displaying the Pivoted DataFrame:**\n",
    "\n",
    "The first 10 rows of the pivoted DataFrame are displayed to verify the results of the transformation."
   ]
  },
  {
   "cell_type": "code",
   "execution_count": 22,
   "metadata": {},
   "outputs": [
    {
     "data": {
      "text/html": [
       "<div>\n",
       "<style scoped>\n",
       "    .dataframe tbody tr th:only-of-type {\n",
       "        vertical-align: middle;\n",
       "    }\n",
       "\n",
       "    .dataframe tbody tr th {\n",
       "        vertical-align: top;\n",
       "    }\n",
       "\n",
       "    .dataframe thead th {\n",
       "        text-align: right;\n",
       "    }\n",
       "</style>\n",
       "<table border=\"1\" class=\"dataframe\">\n",
       "  <thead>\n",
       "    <tr style=\"text-align: right;\">\n",
       "      <th></th>\n",
       "      <th>Question</th>\n",
       "      <th>Option_1</th>\n",
       "      <th>Option_2</th>\n",
       "      <th>Option_3</th>\n",
       "      <th>Option_4</th>\n",
       "    </tr>\n",
       "  </thead>\n",
       "  <tbody>\n",
       "    <tr>\n",
       "      <th>0</th>\n",
       "      <td>1. La barrera hematoencefálica:</td>\n",
       "      <td>1. Es permeable a todas las sustancias present...</td>\n",
       "      <td>2. Es permeable al O2 y al CO2.</td>\n",
       "      <td>3. Es impermeable al etanol.</td>\n",
       "      <td>4. Es impermeable al agua.</td>\n",
       "    </tr>\n",
       "    <tr>\n",
       "      <th>1</th>\n",
       "      <td>2. El espacio subaracnoideo se encuentra:</td>\n",
       "      <td>1. Entre la aracnoides y la duramadre.</td>\n",
       "      <td>2. Entre la aracnoides y la piamadre.</td>\n",
       "      <td>3. Lleno de sangre.</td>\n",
       "      <td>4. En el sistema nervioso periférico.</td>\n",
       "    </tr>\n",
       "    <tr>\n",
       "      <th>2</th>\n",
       "      <td>3. La endolinfa:</td>\n",
       "      <td>1. Rellena el laberinto óseo del oído interno.</td>\n",
       "      <td>2. Contiene baja concentración de K+.</td>\n",
       "      <td>3. Rellena el laberinto membranoso del oído in...</td>\n",
       "      <td>4. Contiene alta concentración de Na+.</td>\n",
       "    </tr>\n",
       "    <tr>\n",
       "      <th>3</th>\n",
       "      <td>4. Las células olfatorias humanas:</td>\n",
       "      <td>1. Son células nerviosas bipolares.</td>\n",
       "      <td>2. Son células nerviosas multipolares.</td>\n",
       "      <td>3. Son células nerviosas unipolares.</td>\n",
       "      <td>4. Son células epiteliales.</td>\n",
       "    </tr>\n",
       "    <tr>\n",
       "      <th>4</th>\n",
       "      <td>5. La esclerosis múltiple es una patología que...</td>\n",
       "      <td>1. Hipermielinización de los axones con pérdid...</td>\n",
       "      <td>2. Desmielinización de los axones con pérdida ...</td>\n",
       "      <td>3. Incremento en la resistencia eléctrica axonal.</td>\n",
       "      <td>4. Reducción en la capacitancia axonal.</td>\n",
       "    </tr>\n",
       "    <tr>\n",
       "      <th>5</th>\n",
       "      <td>6. ¿La hormona oxitocina es?:</td>\n",
       "      <td>1. Un péptido.</td>\n",
       "      <td>2. Una amina.</td>\n",
       "      <td>3. Un esteroide.</td>\n",
       "      <td>4. Un glúcido.</td>\n",
       "    </tr>\n",
       "    <tr>\n",
       "      <th>6</th>\n",
       "      <td>7. De las siguientes moléculas, ¿cuál actúa co...</td>\n",
       "      <td>1. Neuropéptido Y.</td>\n",
       "      <td>2. Grelina.</td>\n",
       "      <td>3. Leptina.</td>\n",
       "      <td>4. Proteína relacionada con agutí (AGRP).</td>\n",
       "    </tr>\n",
       "    <tr>\n",
       "      <th>7</th>\n",
       "      <td>8. La insulina:</td>\n",
       "      <td>1. Aumenta la lipolisis.</td>\n",
       "      <td>2. Disminuye la síntesis de proteínas.</td>\n",
       "      <td>3. Disminuye la formación de glucógeno.</td>\n",
       "      <td>4. Disminuye la gluconeogénesis.</td>\n",
       "    </tr>\n",
       "    <tr>\n",
       "      <th>8</th>\n",
       "      <td>9. La secreción de glucagón es inhibida por:</td>\n",
       "      <td>1. Somatostatina.</td>\n",
       "      <td>2. Aumento de aminoácidos en sangre.</td>\n",
       "      <td>3. Disminución de glucosa en sangre.</td>\n",
       "      <td>4. Ejercicio físico.</td>\n",
       "    </tr>\n",
       "    <tr>\n",
       "      <th>9</th>\n",
       "      <td>10. En la homeostasis del calcio y el fosfato ...</td>\n",
       "      <td>1. Cortisol y vasopresina.</td>\n",
       "      <td>2. Hormona estimulante del tiroides y aldoster...</td>\n",
       "      <td>3. Hormona paratiroidea y vitamina D.</td>\n",
       "      <td>4. Hormona antidiurética y calcitonina.</td>\n",
       "    </tr>\n",
       "  </tbody>\n",
       "</table>\n",
       "</div>"
      ],
      "text/plain": [
       "                                            Question  \\\n",
       "0                    1. La barrera hematoencefálica:   \n",
       "1          2. El espacio subaracnoideo se encuentra:   \n",
       "2                                   3. La endolinfa:   \n",
       "3                 4. Las células olfatorias humanas:   \n",
       "4  5. La esclerosis múltiple es una patología que...   \n",
       "5                      6. ¿La hormona oxitocina es?:   \n",
       "6  7. De las siguientes moléculas, ¿cuál actúa co...   \n",
       "7                                    8. La insulina:   \n",
       "8       9. La secreción de glucagón es inhibida por:   \n",
       "9  10. En la homeostasis del calcio y el fosfato ...   \n",
       "\n",
       "                                            Option_1  \\\n",
       "0  1. Es permeable a todas las sustancias present...   \n",
       "1             1. Entre la aracnoides y la duramadre.   \n",
       "2     1. Rellena el laberinto óseo del oído interno.   \n",
       "3                1. Son células nerviosas bipolares.   \n",
       "4  1. Hipermielinización de los axones con pérdid...   \n",
       "5                                     1. Un péptido.   \n",
       "6                                 1. Neuropéptido Y.   \n",
       "7                           1. Aumenta la lipolisis.   \n",
       "8                                  1. Somatostatina.   \n",
       "9                         1. Cortisol y vasopresina.   \n",
       "\n",
       "                                            Option_2  \\\n",
       "0                    2. Es permeable al O2 y al CO2.   \n",
       "1              2. Entre la aracnoides y la piamadre.   \n",
       "2              2. Contiene baja concentración de K+.   \n",
       "3             2. Son células nerviosas multipolares.   \n",
       "4  2. Desmielinización de los axones con pérdida ...   \n",
       "5                                      2. Una amina.   \n",
       "6                                        2. Grelina.   \n",
       "7             2. Disminuye la síntesis de proteínas.   \n",
       "8               2. Aumento de aminoácidos en sangre.   \n",
       "9  2. Hormona estimulante del tiroides y aldoster...   \n",
       "\n",
       "                                            Option_3  \\\n",
       "0                       3. Es impermeable al etanol.   \n",
       "1                                3. Lleno de sangre.   \n",
       "2  3. Rellena el laberinto membranoso del oído in...   \n",
       "3               3. Son células nerviosas unipolares.   \n",
       "4  3. Incremento en la resistencia eléctrica axonal.   \n",
       "5                                   3. Un esteroide.   \n",
       "6                                        3. Leptina.   \n",
       "7            3. Disminuye la formación de glucógeno.   \n",
       "8               3. Disminución de glucosa en sangre.   \n",
       "9              3. Hormona paratiroidea y vitamina D.   \n",
       "\n",
       "                                    Option_4  \n",
       "0                 4. Es impermeable al agua.  \n",
       "1      4. En el sistema nervioso periférico.  \n",
       "2     4. Contiene alta concentración de Na+.  \n",
       "3                4. Son células epiteliales.  \n",
       "4    4. Reducción en la capacitancia axonal.  \n",
       "5                             4. Un glúcido.  \n",
       "6  4. Proteína relacionada con agutí (AGRP).  \n",
       "7           4. Disminuye la gluconeogénesis.  \n",
       "8                       4. Ejercicio físico.  \n",
       "9    4. Hormona antidiurética y calcitonina.  "
      ]
     },
     "execution_count": 22,
     "metadata": {},
     "output_type": "execute_result"
    }
   ],
   "source": [
    "exam_df_pivot.head(10)"
   ]
  },
  {
   "cell_type": "markdown",
   "metadata": {},
   "source": [
    "## Answers tsv\n",
    "\n",
    "This section focuses on cleaning and consolidating the answer key data from the TSV file. The original data contains duplicate columns, which are processed and combined into a single, clean DataFrame.\n",
    "\n",
    "**1. Defining Column Lists:**\n",
    "\n",
    "We define lists containing the original column names and the duplicate column names."
   ]
  },
  {
   "cell_type": "code",
   "execution_count": 23,
   "metadata": {},
   "outputs": [],
   "source": [
    "original_col: list[str] = [\"V0\", \"RC\"]\n",
    "duplicate_cols: list[str] = [\"V0.1\", \"RC.1\", \"V0.2\", \"RC.2\", \"V0.3\", \"RC.3\", \"V0.4\", \"RC.4\"]"
   ]
  },
  {
   "cell_type": "markdown",
   "metadata": {},
   "source": [
    "**2. Processing Duplicate Columns:**\n",
    "\n",
    "We iterate through the duplicate_cols list in pairs, extracting the corresponding columns, renaming them to the original column names, and appending them to a list of DataFrames."
   ]
  },
  {
   "cell_type": "code",
   "execution_count": 24,
   "metadata": {},
   "outputs": [],
   "source": [
    "answers_df_list: list[pd.DataFrame] = [raw_answers_df[original_col]]\n",
    "\n",
    "for i in range(0, len(duplicate_cols), 2):\n",
    "    pair_cols: list = duplicate_cols[i:i+2]\n",
    "    df_pair_col: pd.DataFrame = raw_answers_df[pair_cols].rename(columns={pair_cols[0]: \"V0\", pair_cols[1]: \"RC\"})\n",
    "    answers_df_list.append(df_pair_col)"
   ]
  },
  {
   "cell_type": "markdown",
   "metadata": {},
   "source": [
    "**3. Concatenating DataFrames:**\n",
    "\n",
    "The list of DataFrames is concatenated into a single DataFrame, ignoring the original index."
   ]
  },
  {
   "cell_type": "code",
   "execution_count": 25,
   "metadata": {},
   "outputs": [],
   "source": [
    "answers_df_clean: pd.DataFrame = pd.concat(answers_df_list, ignore_index=True)"
   ]
  },
  {
   "cell_type": "markdown",
   "metadata": {},
   "source": [
    "**4. Displaying the Cleaned DataFrame:**\n",
    "\n",
    "The cleaned DataFrame is printed to verify the results of the consolidation process."
   ]
  },
  {
   "cell_type": "code",
   "execution_count": 26,
   "metadata": {},
   "outputs": [
    {
     "data": {
      "text/html": [
       "<div>\n",
       "<style scoped>\n",
       "    .dataframe tbody tr th:only-of-type {\n",
       "        vertical-align: middle;\n",
       "    }\n",
       "\n",
       "    .dataframe tbody tr th {\n",
       "        vertical-align: top;\n",
       "    }\n",
       "\n",
       "    .dataframe thead th {\n",
       "        text-align: right;\n",
       "    }\n",
       "</style>\n",
       "<table border=\"1\" class=\"dataframe\">\n",
       "  <thead>\n",
       "    <tr style=\"text-align: right;\">\n",
       "      <th></th>\n",
       "      <th>V0</th>\n",
       "      <th>RC</th>\n",
       "    </tr>\n",
       "  </thead>\n",
       "  <tbody>\n",
       "    <tr>\n",
       "      <th>0</th>\n",
       "      <td>1</td>\n",
       "      <td>2.0</td>\n",
       "    </tr>\n",
       "    <tr>\n",
       "      <th>1</th>\n",
       "      <td>2</td>\n",
       "      <td>2.0</td>\n",
       "    </tr>\n",
       "    <tr>\n",
       "      <th>2</th>\n",
       "      <td>3</td>\n",
       "      <td>3.0</td>\n",
       "    </tr>\n",
       "    <tr>\n",
       "      <th>3</th>\n",
       "      <td>4</td>\n",
       "      <td>1.0</td>\n",
       "    </tr>\n",
       "    <tr>\n",
       "      <th>4</th>\n",
       "      <td>5</td>\n",
       "      <td>2.0</td>\n",
       "    </tr>\n",
       "    <tr>\n",
       "      <th>5</th>\n",
       "      <td>6</td>\n",
       "      <td>1.0</td>\n",
       "    </tr>\n",
       "    <tr>\n",
       "      <th>6</th>\n",
       "      <td>7</td>\n",
       "      <td>3.0</td>\n",
       "    </tr>\n",
       "    <tr>\n",
       "      <th>7</th>\n",
       "      <td>8</td>\n",
       "      <td>4.0</td>\n",
       "    </tr>\n",
       "    <tr>\n",
       "      <th>8</th>\n",
       "      <td>9</td>\n",
       "      <td>1.0</td>\n",
       "    </tr>\n",
       "    <tr>\n",
       "      <th>9</th>\n",
       "      <td>10</td>\n",
       "      <td>3.0</td>\n",
       "    </tr>\n",
       "  </tbody>\n",
       "</table>\n",
       "</div>"
      ],
      "text/plain": [
       "   V0   RC\n",
       "0   1  2.0\n",
       "1   2  2.0\n",
       "2   3  3.0\n",
       "3   4  1.0\n",
       "4   5  2.0\n",
       "5   6  1.0\n",
       "6   7  3.0\n",
       "7   8  4.0\n",
       "8   9  1.0\n",
       "9  10  3.0"
      ]
     },
     "execution_count": 26,
     "metadata": {},
     "output_type": "execute_result"
    }
   ],
   "source": [
    "answers_df_clean.head(10)"
   ]
  },
  {
   "cell_type": "markdown",
   "metadata": {},
   "source": [
    "## Joining the DataFrames\n",
    "\n",
    "This section focuses on merging the processed exam questions DataFrame with the cleaned answers DataFrame, performing final data cleaning, and verifying the integrity of the joined data.\n",
    "\n",
    "**1. Joining the DataFrames:**\n",
    "\n",
    "The pivoted exam questions DataFrame (`exam_df_pivot`) and the cleaned answers DataFrame (`answers_df_clean`) are joined horizontally using `pd.concat`. The 'V0' column, which represents the question number from the answers DataFrame, is then dropped. The first 10 rows of the joined DataFrame are displayed."
   ]
  },
  {
   "cell_type": "code",
   "execution_count": 27,
   "metadata": {},
   "outputs": [
    {
     "data": {
      "text/html": [
       "<div>\n",
       "<style scoped>\n",
       "    .dataframe tbody tr th:only-of-type {\n",
       "        vertical-align: middle;\n",
       "    }\n",
       "\n",
       "    .dataframe tbody tr th {\n",
       "        vertical-align: top;\n",
       "    }\n",
       "\n",
       "    .dataframe thead th {\n",
       "        text-align: right;\n",
       "    }\n",
       "</style>\n",
       "<table border=\"1\" class=\"dataframe\">\n",
       "  <thead>\n",
       "    <tr style=\"text-align: right;\">\n",
       "      <th></th>\n",
       "      <th>Question</th>\n",
       "      <th>Option_1</th>\n",
       "      <th>Option_2</th>\n",
       "      <th>Option_3</th>\n",
       "      <th>Option_4</th>\n",
       "      <th>RC</th>\n",
       "    </tr>\n",
       "  </thead>\n",
       "  <tbody>\n",
       "    <tr>\n",
       "      <th>0</th>\n",
       "      <td>1. La barrera hematoencefálica:</td>\n",
       "      <td>1. Es permeable a todas las sustancias present...</td>\n",
       "      <td>2. Es permeable al O2 y al CO2.</td>\n",
       "      <td>3. Es impermeable al etanol.</td>\n",
       "      <td>4. Es impermeable al agua.</td>\n",
       "      <td>2.0</td>\n",
       "    </tr>\n",
       "    <tr>\n",
       "      <th>1</th>\n",
       "      <td>2. El espacio subaracnoideo se encuentra:</td>\n",
       "      <td>1. Entre la aracnoides y la duramadre.</td>\n",
       "      <td>2. Entre la aracnoides y la piamadre.</td>\n",
       "      <td>3. Lleno de sangre.</td>\n",
       "      <td>4. En el sistema nervioso periférico.</td>\n",
       "      <td>2.0</td>\n",
       "    </tr>\n",
       "    <tr>\n",
       "      <th>2</th>\n",
       "      <td>3. La endolinfa:</td>\n",
       "      <td>1. Rellena el laberinto óseo del oído interno.</td>\n",
       "      <td>2. Contiene baja concentración de K+.</td>\n",
       "      <td>3. Rellena el laberinto membranoso del oído in...</td>\n",
       "      <td>4. Contiene alta concentración de Na+.</td>\n",
       "      <td>3.0</td>\n",
       "    </tr>\n",
       "    <tr>\n",
       "      <th>3</th>\n",
       "      <td>4. Las células olfatorias humanas:</td>\n",
       "      <td>1. Son células nerviosas bipolares.</td>\n",
       "      <td>2. Son células nerviosas multipolares.</td>\n",
       "      <td>3. Son células nerviosas unipolares.</td>\n",
       "      <td>4. Son células epiteliales.</td>\n",
       "      <td>1.0</td>\n",
       "    </tr>\n",
       "    <tr>\n",
       "      <th>4</th>\n",
       "      <td>5. La esclerosis múltiple es una patología que...</td>\n",
       "      <td>1. Hipermielinización de los axones con pérdid...</td>\n",
       "      <td>2. Desmielinización de los axones con pérdida ...</td>\n",
       "      <td>3. Incremento en la resistencia eléctrica axonal.</td>\n",
       "      <td>4. Reducción en la capacitancia axonal.</td>\n",
       "      <td>2.0</td>\n",
       "    </tr>\n",
       "    <tr>\n",
       "      <th>5</th>\n",
       "      <td>6. ¿La hormona oxitocina es?:</td>\n",
       "      <td>1. Un péptido.</td>\n",
       "      <td>2. Una amina.</td>\n",
       "      <td>3. Un esteroide.</td>\n",
       "      <td>4. Un glúcido.</td>\n",
       "      <td>1.0</td>\n",
       "    </tr>\n",
       "    <tr>\n",
       "      <th>6</th>\n",
       "      <td>7. De las siguientes moléculas, ¿cuál actúa co...</td>\n",
       "      <td>1. Neuropéptido Y.</td>\n",
       "      <td>2. Grelina.</td>\n",
       "      <td>3. Leptina.</td>\n",
       "      <td>4. Proteína relacionada con agutí (AGRP).</td>\n",
       "      <td>3.0</td>\n",
       "    </tr>\n",
       "    <tr>\n",
       "      <th>7</th>\n",
       "      <td>8. La insulina:</td>\n",
       "      <td>1. Aumenta la lipolisis.</td>\n",
       "      <td>2. Disminuye la síntesis de proteínas.</td>\n",
       "      <td>3. Disminuye la formación de glucógeno.</td>\n",
       "      <td>4. Disminuye la gluconeogénesis.</td>\n",
       "      <td>4.0</td>\n",
       "    </tr>\n",
       "    <tr>\n",
       "      <th>8</th>\n",
       "      <td>9. La secreción de glucagón es inhibida por:</td>\n",
       "      <td>1. Somatostatina.</td>\n",
       "      <td>2. Aumento de aminoácidos en sangre.</td>\n",
       "      <td>3. Disminución de glucosa en sangre.</td>\n",
       "      <td>4. Ejercicio físico.</td>\n",
       "      <td>1.0</td>\n",
       "    </tr>\n",
       "    <tr>\n",
       "      <th>9</th>\n",
       "      <td>10. En la homeostasis del calcio y el fosfato ...</td>\n",
       "      <td>1. Cortisol y vasopresina.</td>\n",
       "      <td>2. Hormona estimulante del tiroides y aldoster...</td>\n",
       "      <td>3. Hormona paratiroidea y vitamina D.</td>\n",
       "      <td>4. Hormona antidiurética y calcitonina.</td>\n",
       "      <td>3.0</td>\n",
       "    </tr>\n",
       "  </tbody>\n",
       "</table>\n",
       "</div>"
      ],
      "text/plain": [
       "                                            Question  \\\n",
       "0                    1. La barrera hematoencefálica:   \n",
       "1          2. El espacio subaracnoideo se encuentra:   \n",
       "2                                   3. La endolinfa:   \n",
       "3                 4. Las células olfatorias humanas:   \n",
       "4  5. La esclerosis múltiple es una patología que...   \n",
       "5                      6. ¿La hormona oxitocina es?:   \n",
       "6  7. De las siguientes moléculas, ¿cuál actúa co...   \n",
       "7                                    8. La insulina:   \n",
       "8       9. La secreción de glucagón es inhibida por:   \n",
       "9  10. En la homeostasis del calcio y el fosfato ...   \n",
       "\n",
       "                                            Option_1  \\\n",
       "0  1. Es permeable a todas las sustancias present...   \n",
       "1             1. Entre la aracnoides y la duramadre.   \n",
       "2     1. Rellena el laberinto óseo del oído interno.   \n",
       "3                1. Son células nerviosas bipolares.   \n",
       "4  1. Hipermielinización de los axones con pérdid...   \n",
       "5                                     1. Un péptido.   \n",
       "6                                 1. Neuropéptido Y.   \n",
       "7                           1. Aumenta la lipolisis.   \n",
       "8                                  1. Somatostatina.   \n",
       "9                         1. Cortisol y vasopresina.   \n",
       "\n",
       "                                            Option_2  \\\n",
       "0                    2. Es permeable al O2 y al CO2.   \n",
       "1              2. Entre la aracnoides y la piamadre.   \n",
       "2              2. Contiene baja concentración de K+.   \n",
       "3             2. Son células nerviosas multipolares.   \n",
       "4  2. Desmielinización de los axones con pérdida ...   \n",
       "5                                      2. Una amina.   \n",
       "6                                        2. Grelina.   \n",
       "7             2. Disminuye la síntesis de proteínas.   \n",
       "8               2. Aumento de aminoácidos en sangre.   \n",
       "9  2. Hormona estimulante del tiroides y aldoster...   \n",
       "\n",
       "                                            Option_3  \\\n",
       "0                       3. Es impermeable al etanol.   \n",
       "1                                3. Lleno de sangre.   \n",
       "2  3. Rellena el laberinto membranoso del oído in...   \n",
       "3               3. Son células nerviosas unipolares.   \n",
       "4  3. Incremento en la resistencia eléctrica axonal.   \n",
       "5                                   3. Un esteroide.   \n",
       "6                                        3. Leptina.   \n",
       "7            3. Disminuye la formación de glucógeno.   \n",
       "8               3. Disminución de glucosa en sangre.   \n",
       "9              3. Hormona paratiroidea y vitamina D.   \n",
       "\n",
       "                                    Option_4   RC  \n",
       "0                 4. Es impermeable al agua.  2.0  \n",
       "1      4. En el sistema nervioso periférico.  2.0  \n",
       "2     4. Contiene alta concentración de Na+.  3.0  \n",
       "3                4. Son células epiteliales.  1.0  \n",
       "4    4. Reducción en la capacitancia axonal.  2.0  \n",
       "5                             4. Un glúcido.  1.0  \n",
       "6  4. Proteína relacionada con agutí (AGRP).  3.0  \n",
       "7           4. Disminuye la gluconeogénesis.  4.0  \n",
       "8                       4. Ejercicio físico.  1.0  \n",
       "9    4. Hormona antidiurética y calcitonina.  3.0  "
      ]
     },
     "execution_count": 27,
     "metadata": {},
     "output_type": "execute_result"
    }
   ],
   "source": [
    "processed_exam_df: pd.DataFrame = pd.concat([exam_df_pivot, answers_df_clean], axis=1)\n",
    "processed_exam_df = processed_exam_df.drop(columns=[\"V0\"])\n",
    "processed_exam_df.head(10)"
   ]
  },
  {
   "cell_type": "markdown",
   "metadata": {},
   "source": [
    "**2. Identifying and Handling Missing Values:**\n",
    "\n",
    "Missing values are then replaced with 0."
   ]
  },
  {
   "cell_type": "code",
   "execution_count": 28,
   "metadata": {},
   "outputs": [],
   "source": [
    "processed_exam_df = processed_exam_df.fillna(0)"
   ]
  },
  {
   "cell_type": "markdown",
   "metadata": {},
   "source": [
    "**3. Verifying Missing Values and Data Types:**\n",
    "\n",
    "The number of missing values in each column is checked, and the data types of the columns are displayed. The 'RC' (correct answer) column is then converted to integer type."
   ]
  },
  {
   "cell_type": "code",
   "execution_count": 29,
   "metadata": {},
   "outputs": [
    {
     "data": {
      "text/plain": [
       "Question    object\n",
       "Option_1    object\n",
       "Option_2    object\n",
       "Option_3    object\n",
       "Option_4    object\n",
       "RC           int32\n",
       "dtype: object"
      ]
     },
     "execution_count": 29,
     "metadata": {},
     "output_type": "execute_result"
    }
   ],
   "source": [
    "processed_exam_df.isnull().sum()\n",
    "processed_exam_df[\"RC\"] = processed_exam_df[\"RC\"].astype(int)\n",
    "processed_exam_df.dtypes"
   ]
  },
  {
   "cell_type": "markdown",
   "metadata": {},
   "source": [
    "**4. Adding year column**\n",
    "\n",
    "A column containing the year of the exam is added to the DataFrame."
   ]
  },
  {
   "cell_type": "code",
   "execution_count": 30,
   "metadata": {},
   "outputs": [],
   "source": [
    "processed_exam_df[\"year\"] = year"
   ]
  },
  {
   "cell_type": "markdown",
   "metadata": {},
   "source": [
    "**5. Displaying the Final DataFrame:**\n",
    "\n",
    "The first 10 rows of the final joined and cleaned DataFrame are displayed."
   ]
  },
  {
   "cell_type": "code",
   "execution_count": 31,
   "metadata": {},
   "outputs": [
    {
     "data": {
      "text/html": [
       "<div>\n",
       "<style scoped>\n",
       "    .dataframe tbody tr th:only-of-type {\n",
       "        vertical-align: middle;\n",
       "    }\n",
       "\n",
       "    .dataframe tbody tr th {\n",
       "        vertical-align: top;\n",
       "    }\n",
       "\n",
       "    .dataframe thead th {\n",
       "        text-align: right;\n",
       "    }\n",
       "</style>\n",
       "<table border=\"1\" class=\"dataframe\">\n",
       "  <thead>\n",
       "    <tr style=\"text-align: right;\">\n",
       "      <th></th>\n",
       "      <th>Question</th>\n",
       "      <th>Option_1</th>\n",
       "      <th>Option_2</th>\n",
       "      <th>Option_3</th>\n",
       "      <th>Option_4</th>\n",
       "      <th>RC</th>\n",
       "      <th>year</th>\n",
       "    </tr>\n",
       "  </thead>\n",
       "  <tbody>\n",
       "    <tr>\n",
       "      <th>0</th>\n",
       "      <td>1. La barrera hematoencefálica:</td>\n",
       "      <td>1. Es permeable a todas las sustancias present...</td>\n",
       "      <td>2. Es permeable al O2 y al CO2.</td>\n",
       "      <td>3. Es impermeable al etanol.</td>\n",
       "      <td>4. Es impermeable al agua.</td>\n",
       "      <td>2</td>\n",
       "      <td>2024</td>\n",
       "    </tr>\n",
       "    <tr>\n",
       "      <th>1</th>\n",
       "      <td>2. El espacio subaracnoideo se encuentra:</td>\n",
       "      <td>1. Entre la aracnoides y la duramadre.</td>\n",
       "      <td>2. Entre la aracnoides y la piamadre.</td>\n",
       "      <td>3. Lleno de sangre.</td>\n",
       "      <td>4. En el sistema nervioso periférico.</td>\n",
       "      <td>2</td>\n",
       "      <td>2024</td>\n",
       "    </tr>\n",
       "    <tr>\n",
       "      <th>2</th>\n",
       "      <td>3. La endolinfa:</td>\n",
       "      <td>1. Rellena el laberinto óseo del oído interno.</td>\n",
       "      <td>2. Contiene baja concentración de K+.</td>\n",
       "      <td>3. Rellena el laberinto membranoso del oído in...</td>\n",
       "      <td>4. Contiene alta concentración de Na+.</td>\n",
       "      <td>3</td>\n",
       "      <td>2024</td>\n",
       "    </tr>\n",
       "    <tr>\n",
       "      <th>3</th>\n",
       "      <td>4. Las células olfatorias humanas:</td>\n",
       "      <td>1. Son células nerviosas bipolares.</td>\n",
       "      <td>2. Son células nerviosas multipolares.</td>\n",
       "      <td>3. Son células nerviosas unipolares.</td>\n",
       "      <td>4. Son células epiteliales.</td>\n",
       "      <td>1</td>\n",
       "      <td>2024</td>\n",
       "    </tr>\n",
       "    <tr>\n",
       "      <th>4</th>\n",
       "      <td>5. La esclerosis múltiple es una patología que...</td>\n",
       "      <td>1. Hipermielinización de los axones con pérdid...</td>\n",
       "      <td>2. Desmielinización de los axones con pérdida ...</td>\n",
       "      <td>3. Incremento en la resistencia eléctrica axonal.</td>\n",
       "      <td>4. Reducción en la capacitancia axonal.</td>\n",
       "      <td>2</td>\n",
       "      <td>2024</td>\n",
       "    </tr>\n",
       "    <tr>\n",
       "      <th>5</th>\n",
       "      <td>6. ¿La hormona oxitocina es?:</td>\n",
       "      <td>1. Un péptido.</td>\n",
       "      <td>2. Una amina.</td>\n",
       "      <td>3. Un esteroide.</td>\n",
       "      <td>4. Un glúcido.</td>\n",
       "      <td>1</td>\n",
       "      <td>2024</td>\n",
       "    </tr>\n",
       "    <tr>\n",
       "      <th>6</th>\n",
       "      <td>7. De las siguientes moléculas, ¿cuál actúa co...</td>\n",
       "      <td>1. Neuropéptido Y.</td>\n",
       "      <td>2. Grelina.</td>\n",
       "      <td>3. Leptina.</td>\n",
       "      <td>4. Proteína relacionada con agutí (AGRP).</td>\n",
       "      <td>3</td>\n",
       "      <td>2024</td>\n",
       "    </tr>\n",
       "    <tr>\n",
       "      <th>7</th>\n",
       "      <td>8. La insulina:</td>\n",
       "      <td>1. Aumenta la lipolisis.</td>\n",
       "      <td>2. Disminuye la síntesis de proteínas.</td>\n",
       "      <td>3. Disminuye la formación de glucógeno.</td>\n",
       "      <td>4. Disminuye la gluconeogénesis.</td>\n",
       "      <td>4</td>\n",
       "      <td>2024</td>\n",
       "    </tr>\n",
       "    <tr>\n",
       "      <th>8</th>\n",
       "      <td>9. La secreción de glucagón es inhibida por:</td>\n",
       "      <td>1. Somatostatina.</td>\n",
       "      <td>2. Aumento de aminoácidos en sangre.</td>\n",
       "      <td>3. Disminución de glucosa en sangre.</td>\n",
       "      <td>4. Ejercicio físico.</td>\n",
       "      <td>1</td>\n",
       "      <td>2024</td>\n",
       "    </tr>\n",
       "    <tr>\n",
       "      <th>9</th>\n",
       "      <td>10. En la homeostasis del calcio y el fosfato ...</td>\n",
       "      <td>1. Cortisol y vasopresina.</td>\n",
       "      <td>2. Hormona estimulante del tiroides y aldoster...</td>\n",
       "      <td>3. Hormona paratiroidea y vitamina D.</td>\n",
       "      <td>4. Hormona antidiurética y calcitonina.</td>\n",
       "      <td>3</td>\n",
       "      <td>2024</td>\n",
       "    </tr>\n",
       "  </tbody>\n",
       "</table>\n",
       "</div>"
      ],
      "text/plain": [
       "                                            Question  \\\n",
       "0                    1. La barrera hematoencefálica:   \n",
       "1          2. El espacio subaracnoideo se encuentra:   \n",
       "2                                   3. La endolinfa:   \n",
       "3                 4. Las células olfatorias humanas:   \n",
       "4  5. La esclerosis múltiple es una patología que...   \n",
       "5                      6. ¿La hormona oxitocina es?:   \n",
       "6  7. De las siguientes moléculas, ¿cuál actúa co...   \n",
       "7                                    8. La insulina:   \n",
       "8       9. La secreción de glucagón es inhibida por:   \n",
       "9  10. En la homeostasis del calcio y el fosfato ...   \n",
       "\n",
       "                                            Option_1  \\\n",
       "0  1. Es permeable a todas las sustancias present...   \n",
       "1             1. Entre la aracnoides y la duramadre.   \n",
       "2     1. Rellena el laberinto óseo del oído interno.   \n",
       "3                1. Son células nerviosas bipolares.   \n",
       "4  1. Hipermielinización de los axones con pérdid...   \n",
       "5                                     1. Un péptido.   \n",
       "6                                 1. Neuropéptido Y.   \n",
       "7                           1. Aumenta la lipolisis.   \n",
       "8                                  1. Somatostatina.   \n",
       "9                         1. Cortisol y vasopresina.   \n",
       "\n",
       "                                            Option_2  \\\n",
       "0                    2. Es permeable al O2 y al CO2.   \n",
       "1              2. Entre la aracnoides y la piamadre.   \n",
       "2              2. Contiene baja concentración de K+.   \n",
       "3             2. Son células nerviosas multipolares.   \n",
       "4  2. Desmielinización de los axones con pérdida ...   \n",
       "5                                      2. Una amina.   \n",
       "6                                        2. Grelina.   \n",
       "7             2. Disminuye la síntesis de proteínas.   \n",
       "8               2. Aumento de aminoácidos en sangre.   \n",
       "9  2. Hormona estimulante del tiroides y aldoster...   \n",
       "\n",
       "                                            Option_3  \\\n",
       "0                       3. Es impermeable al etanol.   \n",
       "1                                3. Lleno de sangre.   \n",
       "2  3. Rellena el laberinto membranoso del oído in...   \n",
       "3               3. Son células nerviosas unipolares.   \n",
       "4  3. Incremento en la resistencia eléctrica axonal.   \n",
       "5                                   3. Un esteroide.   \n",
       "6                                        3. Leptina.   \n",
       "7            3. Disminuye la formación de glucógeno.   \n",
       "8               3. Disminución de glucosa en sangre.   \n",
       "9              3. Hormona paratiroidea y vitamina D.   \n",
       "\n",
       "                                    Option_4  RC  year  \n",
       "0                 4. Es impermeable al agua.   2  2024  \n",
       "1      4. En el sistema nervioso periférico.   2  2024  \n",
       "2     4. Contiene alta concentración de Na+.   3  2024  \n",
       "3                4. Son células epiteliales.   1  2024  \n",
       "4    4. Reducción en la capacitancia axonal.   2  2024  \n",
       "5                             4. Un glúcido.   1  2024  \n",
       "6  4. Proteína relacionada con agutí (AGRP).   3  2024  \n",
       "7           4. Disminuye la gluconeogénesis.   4  2024  \n",
       "8                       4. Ejercicio físico.   1  2024  \n",
       "9    4. Hormona antidiurética y calcitonina.   3  2024  "
      ]
     },
     "execution_count": 31,
     "metadata": {},
     "output_type": "execute_result"
    }
   ],
   "source": [
    "processed_exam_df.head(10)"
   ]
  },
  {
   "cell_type": "markdown",
   "metadata": {},
   "source": [
    "# Data Loading"
   ]
  },
  {
   "cell_type": "markdown",
   "metadata": {},
   "source": [
    "## Saving in csv file\n",
    "\n",
    "The `processed_exam_df` DataFrame, containing the cleaned and transformed exam data, is saved to a CSV file with the name generatd in the first step in the \"data\" directory. The `index=False` argument ensures that the DataFrame index is not written to the file, resulting in a cleaner output. This CSV file can be used for further analysis or as input for other applications."
   ]
  },
  {
   "cell_type": "code",
   "execution_count": 32,
   "metadata": {},
   "outputs": [],
   "source": [
    "processed_exam_df.to_csv(save_format, index= False)"
   ]
  },
  {
   "cell_type": "markdown",
   "metadata": {},
   "source": [
    "## Writing into data warehouse\n",
    "\n",
    "This section details the process of loading the cleaned and transformed exam data into an SQLite database, serving as a data warehouse for further analysis and querying.\n",
    "\n",
    "**1. Database Connection and Path:**\n",
    "\n",
    "The path to the SQLite database file is defined, and a connection is established using the `sqlite3` library."
   ]
  },
  {
   "cell_type": "code",
   "execution_count": 33,
   "metadata": {},
   "outputs": [],
   "source": [
    "db_path: str = \"../data/clean/bir_warehouse.db\""
   ]
  },
  {
   "cell_type": "markdown",
   "metadata": {},
   "source": [
    "**2. SQL Queries Definition:**\n",
    "\n",
    "Two SQL queries are defined: one for inserting questions into the questions table and another for inserting options into the questions_options table."
   ]
  },
  {
   "cell_type": "code",
   "execution_count": 34,
   "metadata": {},
   "outputs": [],
   "source": [
    "query_question: str = \"\"\"\n",
    "INSERT INTO questions (exam_year, exam_subject, question) \n",
    "VALUES((SELECT id_year FROM year WHERE year_name = ?),\n",
    "    (SELECT id_type FROM exam WHERE exam_type = ?),\n",
    "    ?);\n",
    "\"\"\"\n",
    "\n",
    "query_options: str = \"\"\"\n",
    "INSERT INTO questions_options (question_id, option_num, option_text, is_correct)\n",
    "VALUES((SELECT q.id \n",
    "        FROM questions AS q\n",
    "        JOIN year AS y ON q.exam_year = y.id_year\n",
    "        WHERE q.question = ? AND y.year_name = ?),\n",
    "    ?,\n",
    "    ?,\n",
    "    ?)\n",
    "\"\"\""
   ]
  },
  {
   "cell_type": "markdown",
   "metadata": {},
   "source": [
    "**3. Database Interaction and Data Insertion:**\n",
    "\n",
    "A with statement is used to establish a connection to the SQLite database, ensuring that the connection is properly closed after use. A cursor is created, and the processed_exam_df DataFrame is iterated over to insert each question and its options"
   ]
  },
  {
   "cell_type": "code",
   "execution_count": 35,
   "metadata": {},
   "outputs": [],
   "source": [
    "with sqlite3.connect(db_path) as bir_warehouse:\n",
    "    cur = bir_warehouse.cursor()\n",
    "    for question in processed_exam_df.itertuples():\n",
    "        cur.execute(query_question, (str(question[7]), exam_acronym, question[1]))\n",
    "        bir_warehouse.commit()\n",
    "        for n, option in enumerate(question[2:6]):\n",
    "            cur.execute(query_options, (question[1], str(year), n+1, option, n+1 == question[6]))\n",
    "            bir_warehouse.commit()"
   ]
  }
 ],
 "metadata": {
  "colab": {
   "provenance": []
  },
  "kernelspec": {
   "display_name": "bir_etl",
   "language": "python",
   "name": "python3"
  },
  "language_info": {
   "codemirror_mode": {
    "name": "ipython",
    "version": 3
   },
   "file_extension": ".py",
   "mimetype": "text/x-python",
   "name": "python",
   "nbconvert_exporter": "python",
   "pygments_lexer": "ipython3",
   "version": "3.12.7"
  }
 },
 "nbformat": 4,
 "nbformat_minor": 4
}
