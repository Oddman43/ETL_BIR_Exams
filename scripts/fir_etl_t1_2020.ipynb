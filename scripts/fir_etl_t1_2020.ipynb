{
 "cells": [
  {
   "cell_type": "markdown",
   "metadata": {
    "editable": true,
    "id": "56vKIohe8Jou",
    "slideshow": {
     "slide_type": ""
    },
    "tags": []
   },
   "source": [
    "# Data Extraction\n",
    "This section details the process of extracting question data from a PDF file and corresponding answer keys from a TSV file."
   ]
  },
  {
   "cell_type": "markdown",
   "metadata": {
    "id": "8kRORmWM8Joy"
   },
   "source": [
    "## Importing libraries"
   ]
  },
  {
   "cell_type": "markdown",
   "metadata": {},
   "source": [
    "* Pandas for data manipulation\n",
    "* NumPy for the NaN datatype\n",
    "* PyPDF for its ability to read the pfd files, although it requieres post-processing of the extracted text\n",
    "* sqlite3 to create load the clean data into `bir_warehouse.db`"
   ]
  },
  {
   "cell_type": "code",
   "execution_count": 22,
   "metadata": {
    "colab": {
     "base_uri": "https://localhost:8080/"
    },
    "id": "y8DpYYll8Joz",
    "outputId": "40cac5b3-1153-431b-f780-201aa62b5813"
   },
   "outputs": [],
   "source": [
    "import pandas as pd\n",
    "import numpy as np\n",
    "from pypdf import PdfReader\n",
    "import sqlite3"
   ]
  },
  {
   "cell_type": "markdown",
   "metadata": {},
   "source": [
    "## Selecting year and type of exam"
   ]
  },
  {
   "cell_type": "markdown",
   "metadata": {},
   "source": [
    "This function, `compute_expected_rows`, takes the exam year and topic as input and returns metadata crucial for subsequent data cleaning and loading steps. This metadata includes the expected maximum number of rows in the final DataFrame, the number of questions per exam, and the acronym for the exam type.  The maximum number of rows is calculated based on the number of questions and options per question for each year, following a specific pattern:\n",
    "\n",
    "*   2024-2021: 210 questions, 4 options each\n",
    "*   2020-2019: 185 questions, 4 options each\n",
    "*   2018-2015: 235 questions, 4 options each\n",
    "*   2014-2012: 235 questions, 5 options each\n",
    "*   2011-2004: 260 questions, 5 options each\n",
    "\n",
    "This information is essential for validating data integrity during the ETL process.  For example, the expected row count helps verify that all questions and options have been correctly extracted and transformed. The exam type acronym aids in consistent file naming and data organization."
   ]
  },
  {
   "cell_type": "code",
   "execution_count": 23,
   "metadata": {},
   "outputs": [],
   "source": [
    "def compute_expected_rows(year: int, topic: str) -> tuple:\n",
    "    \"\"\"Computes and returns metadata about the exam for a given year and topic\n",
    "\n",
    "    Args:\n",
    "        year (int): The year of the exam\n",
    "        topic (str): The topic of the exam\n",
    "\n",
    "    Returns:\n",
    "        tuple: Contains:\n",
    "            - max_rows: The expected maximum number of rows in the DataFrame\n",
    "            - num_options: The number of questions in the exam\n",
    "            - exam_type_acronym: The acronym for the exam type\n",
    "\n",
    "    \"\"\"\n",
    "    info_year_dict: dict = {\n",
    "        2011: [260, 5],\n",
    "        2014: [235, 5],\n",
    "        2018: [235, 4],\n",
    "        2020: [185, 4],\n",
    "        2021: [210, 4],\n",
    "    }\n",
    "    save_name_dict: dict = {\n",
    "        \"BIOLOGÍA\": \"bir\",\n",
    "        \"FARMACIA\": \"fir\",\n",
    "        \"QUÍMICA\": \"qir\",\n",
    "        \"MEDICINA\": \"mir\",\n",
    "    }\n",
    "    max_rows: int = 0\n",
    "    num_options: int = 0\n",
    "    for target_year, info_list in info_year_dict.items():\n",
    "        if year <= target_year:\n",
    "            max_rows = (info_list[0] * info_list[1]) + info_list[0]\n",
    "            num_options = info_list[1]\n",
    "            break\n",
    "    else:\n",
    "        max_rows = 1050\n",
    "        num_options = 4\n",
    "    return max_rows, num_options, save_name_dict[topic]"
   ]
  },
  {
   "cell_type": "markdown",
   "metadata": {},
   "source": [
    "### Add year of the exam and topic "
   ]
  },
  {
   "cell_type": "code",
   "execution_count": 24,
   "metadata": {},
   "outputs": [],
   "source": [
    "year: int = 2020\n",
    "topic: str = \"FARMACIA\" # Select from: BIOLOGÍA, FARMACIA, QUÍMICA, MEDICINA\n",
    "total_num_rows: int\n",
    "num_questions: int\n",
    "exam_acronym: str\n",
    "total_num_rows, num_questions, exam_acronym = compute_expected_rows(year, topic)\n",
    "save_format: str = f\"../data/clean/clean_{exam_acronym}_{year}.csv\""
   ]
  },
  {
   "cell_type": "code",
   "execution_count": 25,
   "metadata": {},
   "outputs": [],
   "source": [
    "add_list: list = [x for x in range(14, 67, 1)] + [x for x in range(104, 131, 1)] + [x for x in range(158, 162, 1)] + [x for x in range(167, 179, 1)]"
   ]
  },
  {
   "cell_type": "markdown",
   "metadata": {
    "id": "Z1Kjq5ue8Jo1"
   },
   "source": [
    "## Extracting Questions from Pdf file"
   ]
  },
  {
   "cell_type": "markdown",
   "metadata": {},
   "source": [
    "This section focuses on extracting the textual content of the exam questions from the provided PDF file.\n",
    "\n",
    "**Path Definition:**\n",
    "\n",
    "The path to the PDF file is dynamically constructed using the provided `year` and `topic` variables. This ensures flexibility and allows the script to process different exam files without manual path adjustments.\n",
    "\n",
    "Finally it stores the output in a DataFrame and the first 10 rows of the resulting DataFrame are displayed for a quick preview of the loaded data."
   ]
  },
  {
   "cell_type": "code",
   "execution_count": 26,
   "metadata": {
    "id": "AB4M4yfr8Jo3"
   },
   "outputs": [
    {
     "data": {
      "application/vnd.microsoft.datawrangler.viewer.v0+json": {
       "columns": [
        {
         "name": "index",
         "rawType": "int64",
         "type": "integer"
        },
        {
         "name": "text",
         "rawType": "object",
         "type": "string"
        }
       ],
       "conversionMethod": "pd.DataFrame",
       "ref": "57302bdd-3672-416e-bd5f-c0e99df1b4e8",
       "rows": [
        [
         "0",
         " "
        ],
        [
         "1",
         "- 1 - "
        ],
        [
         "2",
         "1. Las ortopramidas son un grupo de antipsicóticos que "
        ],
        [
         "3",
         "se caracterizan estructuralmente por ser: "
        ],
        [
         "4",
         " "
        ],
        [
         "5",
         "1. Benzamidas con un grupo metoxilo en orto. "
        ],
        [
         "6",
         "2. Benzoatos con un grupo metoxilo en orto. "
        ],
        [
         "7",
         "3. Benzamidas con un grupo amino en orto. "
        ],
        [
         "8",
         "4. Benzoatos con un grupo amino en orto. "
        ],
        [
         "9",
         " "
        ]
       ],
       "shape": {
        "columns": 1,
        "rows": 10
       }
      },
      "text/html": [
       "<div>\n",
       "<style scoped>\n",
       "    .dataframe tbody tr th:only-of-type {\n",
       "        vertical-align: middle;\n",
       "    }\n",
       "\n",
       "    .dataframe tbody tr th {\n",
       "        vertical-align: top;\n",
       "    }\n",
       "\n",
       "    .dataframe thead th {\n",
       "        text-align: right;\n",
       "    }\n",
       "</style>\n",
       "<table border=\"1\" class=\"dataframe\">\n",
       "  <thead>\n",
       "    <tr style=\"text-align: right;\">\n",
       "      <th></th>\n",
       "      <th>text</th>\n",
       "    </tr>\n",
       "  </thead>\n",
       "  <tbody>\n",
       "    <tr>\n",
       "      <th>0</th>\n",
       "      <td></td>\n",
       "    </tr>\n",
       "    <tr>\n",
       "      <th>1</th>\n",
       "      <td>- 1 -</td>\n",
       "    </tr>\n",
       "    <tr>\n",
       "      <th>2</th>\n",
       "      <td>1. Las ortopramidas son un grupo de antipsicót...</td>\n",
       "    </tr>\n",
       "    <tr>\n",
       "      <th>3</th>\n",
       "      <td>se caracterizan estructuralmente por ser:</td>\n",
       "    </tr>\n",
       "    <tr>\n",
       "      <th>4</th>\n",
       "      <td></td>\n",
       "    </tr>\n",
       "    <tr>\n",
       "      <th>5</th>\n",
       "      <td>1. Benzamidas con un grupo metoxilo en orto.</td>\n",
       "    </tr>\n",
       "    <tr>\n",
       "      <th>6</th>\n",
       "      <td>2. Benzoatos con un grupo metoxilo en orto.</td>\n",
       "    </tr>\n",
       "    <tr>\n",
       "      <th>7</th>\n",
       "      <td>3. Benzamidas con un grupo amino en orto.</td>\n",
       "    </tr>\n",
       "    <tr>\n",
       "      <th>8</th>\n",
       "      <td>4. Benzoatos con un grupo amino en orto.</td>\n",
       "    </tr>\n",
       "    <tr>\n",
       "      <th>9</th>\n",
       "      <td></td>\n",
       "    </tr>\n",
       "  </tbody>\n",
       "</table>\n",
       "</div>"
      ],
      "text/plain": [
       "                                                text\n",
       "0                                                   \n",
       "1                                             - 1 - \n",
       "2  1. Las ortopramidas son un grupo de antipsicót...\n",
       "3         se caracterizan estructuralmente por ser: \n",
       "4                                                   \n",
       "5      1. Benzamidas con un grupo metoxilo en orto. \n",
       "6       2. Benzoatos con un grupo metoxilo en orto. \n",
       "7         3. Benzamidas con un grupo amino en orto. \n",
       "8          4. Benzoatos con un grupo amino en orto. \n",
       "9                                                   "
      ]
     },
     "execution_count": 26,
     "metadata": {},
     "output_type": "execute_result"
    }
   ],
   "source": [
    "path: str = f\"../data/raw/type_1/Raw_Cuaderno_{year}_{topic}_0_C.pdf\"\n",
    "with PdfReader(path) as pdf_file:\n",
    "    full_text: list = []\n",
    "    for n in range(2, len(pdf_file.pages)):\n",
    "        page = pdf_file.pages[n]\n",
    "        text: str = page.extract_text()\n",
    "        full_text.extend(text.splitlines())\n",
    "raw_exam_df: pd.DataFrame = pd.DataFrame(full_text, columns=[\"text\"])\n",
    "raw_exam_df.head(10)"
   ]
  },
  {
   "cell_type": "markdown",
   "metadata": {
    "id": "IBhc5aFQ8Jo6"
   },
   "source": [
    "## Extracting Answers from .tsv file into a DataFrame"
   ]
  },
  {
   "cell_type": "markdown",
   "metadata": {},
   "source": [
    "This section focuses on extracting the answer key data from the provided .tsv file and loading it into a Pandas DataFrame.\n",
    "\n",
    "**Path Definition and Data Loading:**\n",
    "\n",
    "The path to the .tsv file is dynamically constructed using the `year` and `topic` variables, mirroring the approach used for the PDF file. This ensures consistency and flexibility in processing different exam files. \n",
    "\n",
    "The `pd.read_table()` function is then used to read the .tsv file directly into a Pandas DataFrame. Finally, the first 10 rows of the resulting DataFrame are displayed for a quick preview of the loaded data."
   ]
  },
  {
   "cell_type": "code",
   "execution_count": 27,
   "metadata": {
    "colab": {
     "base_uri": "https://localhost:8080/",
     "height": 206
    },
    "id": "O1ouB9mQ8Jo7",
    "outputId": "70b7615d-9c90-4f2d-b9e1-a5c86b507ef6"
   },
   "outputs": [
    {
     "data": {
      "application/vnd.microsoft.datawrangler.viewer.v0+json": {
       "columns": [
        {
         "name": "index",
         "rawType": "int64",
         "type": "integer"
        },
        {
         "name": "V",
         "rawType": "int64",
         "type": "integer"
        },
        {
         "name": "RC",
         "rawType": "int64",
         "type": "integer"
        },
        {
         "name": "V.1",
         "rawType": "int64",
         "type": "integer"
        },
        {
         "name": "RC.1",
         "rawType": "int64",
         "type": "integer"
        },
        {
         "name": "V.2",
         "rawType": "int64",
         "type": "integer"
        },
        {
         "name": "RC.2",
         "rawType": "float64",
         "type": "float"
        },
        {
         "name": "V.3",
         "rawType": "int64",
         "type": "integer"
        },
        {
         "name": "RC.3",
         "rawType": "int64",
         "type": "integer"
        },
        {
         "name": "V.4",
         "rawType": "int64",
         "type": "integer"
        },
        {
         "name": "RC.4",
         "rawType": "int64",
         "type": "integer"
        }
       ],
       "conversionMethod": "pd.DataFrame",
       "ref": "747480f0-949c-4902-8796-e00c0a123e28",
       "rows": [
        [
         "0",
         "1",
         "1",
         "38",
         "3",
         "75",
         "4.0",
         "112",
         "1",
         "149",
         "2"
        ],
        [
         "1",
         "2",
         "3",
         "39",
         "2",
         "76",
         "3.0",
         "113",
         "2",
         "150",
         "1"
        ],
        [
         "2",
         "3",
         "3",
         "40",
         "3",
         "77",
         "1.0",
         "114",
         "4",
         "151",
         "3"
        ],
        [
         "3",
         "4",
         "2",
         "41",
         "4",
         "78",
         "1.0",
         "115",
         "2",
         "152",
         "2"
        ],
        [
         "4",
         "5",
         "3",
         "42",
         "2",
         "79",
         "4.0",
         "116",
         "4",
         "153",
         "3"
        ],
        [
         "5",
         "6",
         "1",
         "43",
         "2",
         "80",
         "2.0",
         "117",
         "4",
         "154",
         "3"
        ],
        [
         "6",
         "7",
         "3",
         "44",
         "4",
         "81",
         "1.0",
         "118",
         "2",
         "155",
         "2"
        ],
        [
         "7",
         "8",
         "3",
         "45",
         "2",
         "82",
         "4.0",
         "119",
         "1",
         "156",
         "3"
        ],
        [
         "8",
         "9",
         "4",
         "46",
         "3",
         "83",
         "2.0",
         "120",
         "2",
         "157",
         "1"
        ],
        [
         "9",
         "10",
         "1",
         "47",
         "4",
         "84",
         "4.0",
         "121",
         "1",
         "158",
         "1"
        ]
       ],
       "shape": {
        "columns": 10,
        "rows": 10
       }
      },
      "text/html": [
       "<div>\n",
       "<style scoped>\n",
       "    .dataframe tbody tr th:only-of-type {\n",
       "        vertical-align: middle;\n",
       "    }\n",
       "\n",
       "    .dataframe tbody tr th {\n",
       "        vertical-align: top;\n",
       "    }\n",
       "\n",
       "    .dataframe thead th {\n",
       "        text-align: right;\n",
       "    }\n",
       "</style>\n",
       "<table border=\"1\" class=\"dataframe\">\n",
       "  <thead>\n",
       "    <tr style=\"text-align: right;\">\n",
       "      <th></th>\n",
       "      <th>V</th>\n",
       "      <th>RC</th>\n",
       "      <th>V.1</th>\n",
       "      <th>RC.1</th>\n",
       "      <th>V.2</th>\n",
       "      <th>RC.2</th>\n",
       "      <th>V.3</th>\n",
       "      <th>RC.3</th>\n",
       "      <th>V.4</th>\n",
       "      <th>RC.4</th>\n",
       "    </tr>\n",
       "  </thead>\n",
       "  <tbody>\n",
       "    <tr>\n",
       "      <th>0</th>\n",
       "      <td>1</td>\n",
       "      <td>1</td>\n",
       "      <td>38</td>\n",
       "      <td>3</td>\n",
       "      <td>75</td>\n",
       "      <td>4.0</td>\n",
       "      <td>112</td>\n",
       "      <td>1</td>\n",
       "      <td>149</td>\n",
       "      <td>2</td>\n",
       "    </tr>\n",
       "    <tr>\n",
       "      <th>1</th>\n",
       "      <td>2</td>\n",
       "      <td>3</td>\n",
       "      <td>39</td>\n",
       "      <td>2</td>\n",
       "      <td>76</td>\n",
       "      <td>3.0</td>\n",
       "      <td>113</td>\n",
       "      <td>2</td>\n",
       "      <td>150</td>\n",
       "      <td>1</td>\n",
       "    </tr>\n",
       "    <tr>\n",
       "      <th>2</th>\n",
       "      <td>3</td>\n",
       "      <td>3</td>\n",
       "      <td>40</td>\n",
       "      <td>3</td>\n",
       "      <td>77</td>\n",
       "      <td>1.0</td>\n",
       "      <td>114</td>\n",
       "      <td>4</td>\n",
       "      <td>151</td>\n",
       "      <td>3</td>\n",
       "    </tr>\n",
       "    <tr>\n",
       "      <th>3</th>\n",
       "      <td>4</td>\n",
       "      <td>2</td>\n",
       "      <td>41</td>\n",
       "      <td>4</td>\n",
       "      <td>78</td>\n",
       "      <td>1.0</td>\n",
       "      <td>115</td>\n",
       "      <td>2</td>\n",
       "      <td>152</td>\n",
       "      <td>2</td>\n",
       "    </tr>\n",
       "    <tr>\n",
       "      <th>4</th>\n",
       "      <td>5</td>\n",
       "      <td>3</td>\n",
       "      <td>42</td>\n",
       "      <td>2</td>\n",
       "      <td>79</td>\n",
       "      <td>4.0</td>\n",
       "      <td>116</td>\n",
       "      <td>4</td>\n",
       "      <td>153</td>\n",
       "      <td>3</td>\n",
       "    </tr>\n",
       "    <tr>\n",
       "      <th>5</th>\n",
       "      <td>6</td>\n",
       "      <td>1</td>\n",
       "      <td>43</td>\n",
       "      <td>2</td>\n",
       "      <td>80</td>\n",
       "      <td>2.0</td>\n",
       "      <td>117</td>\n",
       "      <td>4</td>\n",
       "      <td>154</td>\n",
       "      <td>3</td>\n",
       "    </tr>\n",
       "    <tr>\n",
       "      <th>6</th>\n",
       "      <td>7</td>\n",
       "      <td>3</td>\n",
       "      <td>44</td>\n",
       "      <td>4</td>\n",
       "      <td>81</td>\n",
       "      <td>1.0</td>\n",
       "      <td>118</td>\n",
       "      <td>2</td>\n",
       "      <td>155</td>\n",
       "      <td>2</td>\n",
       "    </tr>\n",
       "    <tr>\n",
       "      <th>7</th>\n",
       "      <td>8</td>\n",
       "      <td>3</td>\n",
       "      <td>45</td>\n",
       "      <td>2</td>\n",
       "      <td>82</td>\n",
       "      <td>4.0</td>\n",
       "      <td>119</td>\n",
       "      <td>1</td>\n",
       "      <td>156</td>\n",
       "      <td>3</td>\n",
       "    </tr>\n",
       "    <tr>\n",
       "      <th>8</th>\n",
       "      <td>9</td>\n",
       "      <td>4</td>\n",
       "      <td>46</td>\n",
       "      <td>3</td>\n",
       "      <td>83</td>\n",
       "      <td>2.0</td>\n",
       "      <td>120</td>\n",
       "      <td>2</td>\n",
       "      <td>157</td>\n",
       "      <td>1</td>\n",
       "    </tr>\n",
       "    <tr>\n",
       "      <th>9</th>\n",
       "      <td>10</td>\n",
       "      <td>1</td>\n",
       "      <td>47</td>\n",
       "      <td>4</td>\n",
       "      <td>84</td>\n",
       "      <td>4.0</td>\n",
       "      <td>121</td>\n",
       "      <td>1</td>\n",
       "      <td>158</td>\n",
       "      <td>1</td>\n",
       "    </tr>\n",
       "  </tbody>\n",
       "</table>\n",
       "</div>"
      ],
      "text/plain": [
       "    V  RC  V.1  RC.1  V.2  RC.2  V.3  RC.3  V.4  RC.4\n",
       "0   1   1   38     3   75   4.0  112     1  149     2\n",
       "1   2   3   39     2   76   3.0  113     2  150     1\n",
       "2   3   3   40     3   77   1.0  114     4  151     3\n",
       "3   4   2   41     4   78   1.0  115     2  152     2\n",
       "4   5   3   42     2   79   4.0  116     4  153     3\n",
       "5   6   1   43     2   80   2.0  117     4  154     3\n",
       "6   7   3   44     4   81   1.0  118     2  155     2\n",
       "7   8   3   45     2   82   4.0  119     1  156     3\n",
       "8   9   4   46     3   83   2.0  120     2  157     1\n",
       "9  10   1   47     4   84   4.0  121     1  158     1"
      ]
     },
     "execution_count": 27,
     "metadata": {},
     "output_type": "execute_result"
    }
   ],
   "source": [
    "raw_answers_df: pd.DataFrame = pd.read_table(f\"../data/raw/type_1/Raw_Cuaderno_{year}_{topic}_0_C_Respuestas.tsv\")\n",
    "raw_answers_df.head(10)"
   ]
  },
  {
   "cell_type": "markdown",
   "metadata": {
    "id": "uFFlTADP8Jo7"
   },
   "source": [
    "# Data Transformation"
   ]
  },
  {
   "cell_type": "markdown",
   "metadata": {},
   "source": [
    "## Exam pdf"
   ]
  },
  {
   "cell_type": "markdown",
   "metadata": {},
   "source": [
    "### Removing white space"
   ]
  },
  {
   "cell_type": "markdown",
   "metadata": {
    "id": "2QavIIOK8Jo7"
   },
   "source": [
    "This section focuses on cleaning the raw text extracted from the PDF exam file, preparing it for further processing. This involves removing extraneous whitespace, handling empty lines, and resetting the DataFrame index.\n",
    "\n",
    "**1. Removing Page Number Artifacts:**\n",
    "\n",
    "The extracted text may contain page number artifacts, which are removed by filtering out rows containing the string \"Página\"."
   ]
  },
  {
   "cell_type": "code",
   "execution_count": 28,
   "metadata": {},
   "outputs": [],
   "source": [
    "raw_exam_df = raw_exam_df[~raw_exam_df[\"text\"].str.contains(\"Página\")]\n",
    "raw_exam_df = raw_exam_df[~raw_exam_df[\"text\"].str.contains(\"Pagina\")]\n",
    "raw_exam_df = raw_exam_df[~raw_exam_df[\"text\"].str.contains(topic)]\n",
    "\n",
    "footer_list: list = [f\"- {npag} -\" for npag in range(0,30,1)]\n",
    "\n",
    "for footer in footer_list:\n",
    "    raw_exam_df[\"text\"] = raw_exam_df[\"text\"].str.replace(footer, \"\")"
   ]
  },
  {
   "cell_type": "markdown",
   "metadata": {},
   "source": [
    "**2. Striping Leading/Trailing Whitespaces**\n",
    "\n",
    "Leading and trailing whitespace characters are removed from each text entry using the .str.strip() method."
   ]
  },
  {
   "cell_type": "code",
   "execution_count": 29,
   "metadata": {},
   "outputs": [],
   "source": [
    "raw_exam_df = raw_exam_df[\"text\"].str.strip()"
   ]
  },
  {
   "cell_type": "markdown",
   "metadata": {},
   "source": [
    "**3. Handling Empty Lines**\n",
    "\n",
    "Empty lines, represented as empty strings, are replaced with NaN (Not a Number) values. \n",
    "\n",
    "Then rows containing NaN values, representing empty lines, are removed from the DataFrame using .dropna()"
   ]
  },
  {
   "cell_type": "code",
   "execution_count": 30,
   "metadata": {},
   "outputs": [],
   "source": [
    "raw_exam_df = raw_exam_df.replace(\"\", np.nan)\n",
    "raw_exam_df = raw_exam_df.dropna()"
   ]
  },
  {
   "cell_type": "markdown",
   "metadata": {},
   "source": [
    "**4. Reseting DataFrame Index**\n",
    "\n",
    "The DataFrame index is reset after removing rows, ensuring a contiguous index and dropping the old index."
   ]
  },
  {
   "cell_type": "code",
   "execution_count": 31,
   "metadata": {},
   "outputs": [],
   "source": [
    "raw_exam_df = raw_exam_df.reset_index(drop=True)"
   ]
  },
  {
   "cell_type": "markdown",
   "metadata": {},
   "source": [
    "**5. Displays the first 10 rows of the DataFrame**"
   ]
  },
  {
   "cell_type": "code",
   "execution_count": 32,
   "metadata": {},
   "outputs": [
    {
     "data": {
      "text/plain": [
       "0    1. Las ortopramidas son un grupo de antipsicót...\n",
       "1            se caracterizan estructuralmente por ser:\n",
       "2         1. Benzamidas con un grupo metoxilo en orto.\n",
       "3          2. Benzoatos con un grupo metoxilo en orto.\n",
       "4            3. Benzamidas con un grupo amino en orto.\n",
       "5             4. Benzoatos con un grupo amino en orto.\n",
       "6    2. Las moléculas que tienen propiedades física...\n",
       "7    micas semejantes y que producen efectos fisiol...\n",
       "8                             similares, se denominan:\n",
       "9                           1. Isómeros estructurales.\n",
       "Name: text, dtype: object"
      ]
     },
     "execution_count": 32,
     "metadata": {},
     "output_type": "execute_result"
    }
   ],
   "source": [
    "raw_exam_df.head(10)"
   ]
  },
  {
   "cell_type": "code",
   "execution_count": 33,
   "metadata": {},
   "outputs": [
    {
     "data": {
      "text/plain": [
       "1576                                              alfa-2.\n",
       "1577         4. Fisostigmina/inhibidor de colinesterasas.\n",
       "1578    185. Señale la respuesta correcta con respecto...\n",
       "1579     tóxicos conocidos como “bifenilos policlorados”:\n",
       "1580    1. Son contaminantes con escasa persistencia e...\n",
       "1581                                      medio ambiente.\n",
       "1582             2. Actúan como disruptores estrogénicos.\n",
       "1583    3. En su mayoría son sustancias de origen natu...\n",
       "1584    4. No se conocen efectos de estos compuestos a...\n",
       "1585                             de la glándula tiroides.\n",
       "Name: text, dtype: object"
      ]
     },
     "execution_count": 33,
     "metadata": {},
     "output_type": "execute_result"
    }
   ],
   "source": [
    "raw_exam_df.tail(10)"
   ]
  },
  {
   "cell_type": "markdown",
   "metadata": {},
   "source": [
    "### Joining Truncated Lines"
   ]
  },
  {
   "cell_type": "markdown",
   "metadata": {},
   "source": [
    "This section addresses the issue of truncated lines and multi-line questions or options within the extracted exam text. A custom function, `process_multi_line_str`, is used to concatenate these lines, ensuring that each question and option is presented as a single, coherent string.\n",
    "\n",
    "**Function: `process_multi_line_str(df)`**\n",
    "\n",
    "This function iterates through the DataFrame, performing two main tasks:\n",
    "\n",
    "1.  **Joining Truncated Words:**\n",
    "    * It checks if a line ends with a hyphen (\"-\"), indicating a word that has been truncated at the end of a line.\n",
    "    * If a line is truncated, it removes the hyphen and appends the content of the following line to the current line.\n",
    "    * The following line is then removed from the DataFrame, and the index is reset.\n",
    "\n",
    "2.  **Joining Multi-Line Questions/Options:**\n",
    "    * It checks if the first character of the next line can be converted to an integer. This is used as a heuristic to identify the start of a new question or option.\n",
    "    * If the next line does not start with an integer (i.e., it's a continuation of the current question or option), it is appended to the current line, separated by a space.\n",
    "    * The next line is then removed, and the index is reset."
   ]
  },
  {
   "cell_type": "code",
   "execution_count": 34,
   "metadata": {
    "id": "rYZHjn_C8Jo8"
   },
   "outputs": [],
   "source": [
    "def process_multi_line_str(df: pd.DataFrame) -> pd.DataFrame:\n",
    "    \"\"\"Function to handle truncated lines\n",
    "\n",
    "    Args:\n",
    "        df (pd.DataFrame): A pandas dataframe\n",
    "\n",
    "    Returns:\n",
    "        pd.DataFrame: Returns the DataFrame without truncated lines\n",
    "    \"\"\"\n",
    "    i: int = 0\n",
    "    while i < len(df) - 1:\n",
    "        if i < len(df) -1  and df.iloc[i].endswith(\"-\"):\n",
    "            df.iloc[i] = df.iloc[i][:-1] + df.iloc[i + 1]\n",
    "            df = df.drop(i + 1)\n",
    "            df = df.reset_index(drop=True)\n",
    "        else:\n",
    "            i += 1\n",
    "    n: int = 0\n",
    "    while n < len(df) -1:\n",
    "        if n + 1 < len(df):\n",
    "            try:\n",
    "                int(df.iloc[n + 1][0:1])\n",
    "                n += 1\n",
    "            except ValueError:\n",
    "                df.iloc[n] = df.iloc[n] + \" \" + df.iloc[n + 1]\n",
    "                df = df.drop(n +1)\n",
    "                df = df.reset_index(drop= True)\n",
    "        else:\n",
    "            break\n",
    "    return df"
   ]
  },
  {
   "cell_type": "markdown",
   "metadata": {},
   "source": [
    "The process_multi_line_str function is applied to the cleaned raw_exam_df DataFrame, and the resulting DataFrame is stored in exam_df_concat. The first few rows of the concatenated DataFrame are displayed to verify the results."
   ]
  },
  {
   "cell_type": "code",
   "execution_count": 35,
   "metadata": {
    "colab": {
     "base_uri": "https://localhost:8080/",
     "height": 206
    },
    "id": "2v6dmQuM8_v1",
    "outputId": "215f5328-a43d-4bbb-f221-fba6fc10a5c1"
   },
   "outputs": [
    {
     "data": {
      "text/plain": [
       "0    1. Las ortopramidas son un grupo de antipsicót...\n",
       "1         1. Benzamidas con un grupo metoxilo en orto.\n",
       "2          2. Benzoatos con un grupo metoxilo en orto.\n",
       "3            3. Benzamidas con un grupo amino en orto.\n",
       "4             4. Benzoatos con un grupo amino en orto.\n",
       "5    2. Las moléculas que tienen propiedades física...\n",
       "6                           1. Isómeros estructurales.\n",
       "7                        2. Isómeros conformacionales.\n",
       "8                                     3. Bioisósteros.\n",
       "9                                     4. Enantiómeros.\n",
       "Name: text, dtype: object"
      ]
     },
     "execution_count": 35,
     "metadata": {},
     "output_type": "execute_result"
    }
   ],
   "source": [
    "exam_df_concat: pd.DataFrame = process_multi_line_str(raw_exam_df)\n",
    "exam_df_concat.head(10)"
   ]
  },
  {
   "cell_type": "markdown",
   "metadata": {},
   "source": [
    "### Validating and Correction Incorrect Rows"
   ]
  },
  {
   "cell_type": "markdown",
   "metadata": {},
   "source": [
    "This section focuses on validating the number of rows in the cleaned DataFrame against the expected number and correcting any rows that do not conform to the expected format.\n",
    "\n",
    "**1. Calculating Expected and Actual Incorrect Rows:**\n",
    "\n",
    "We calculate the expected number of incorrect rows by subtracting the total expected rows from the current number of rows in the DataFrame. We then identify the actual number of incorrect rows by counting the rows that do not end with a period (\".\"), a colon (\":\") or interrogation sign (\"?\")."
   ]
  },
  {
   "cell_type": "code",
   "execution_count": 36,
   "metadata": {},
   "outputs": [
    {
     "name": "stdout",
     "output_type": "stream",
     "text": [
      "Number of expected incorrect rows = 3\n",
      "Number of rows not ending with '.', ':' or '?' = 3\n",
      "[91, 338, 818]\n"
     ]
    }
   ],
   "source": [
    "num_rows_incorrect_expected: int = len(exam_df_concat) - total_num_rows\n",
    "num_rows_incorrect: int = exam_df_concat[~exam_df_concat.str.endswith((\".\", \":\", \"?\"))].count()\n",
    "id_rows_incorrect: list = exam_df_concat[~exam_df_concat.str.endswith((\".\", \":\", \"?\"))].index.to_list()\n",
    "print(f\"Number of expected incorrect rows = {num_rows_incorrect_expected}\")\n",
    "print(f\"Number of rows not ending with '.', ':' or '?' = {num_rows_incorrect}\")\n",
    "print(id_rows_incorrect)"
   ]
  },
  {
   "cell_type": "markdown",
   "metadata": {},
   "source": [
    "**2. Function: print_rows_incorrrect(wrong_id, df):**\n",
    "\n",
    "This function takes a list of incorrect row indices and the DataFrame as input. It then prints the row identified as incorrect along with the 2 rows before and 2 rows after, providing context to help determine how to fix the error."
   ]
  },
  {
   "cell_type": "code",
   "execution_count": 37,
   "metadata": {},
   "outputs": [],
   "source": [
    "def print_rows_incorrrect(wrong_id: list[int], df: pd.DataFrame) -> None:\n",
    "    \"\"\"Print +/- 2 rows for context\n",
    "\n",
    "    Args:\n",
    "        wrong_id (list): Generated list of wrong row_id\n",
    "        df (pd.DataFrame): DataFrame corresponding with the worng_id list\n",
    "    \"\"\"\n",
    "    for wid in wrong_id:\n",
    "        print(f\"Id to fix {wid}:\")\n",
    "        print(df.iloc[wid -2: wid +3])"
   ]
  },
  {
   "cell_type": "markdown",
   "metadata": {},
   "source": [
    "**3. Function: fix_incorrect(num_row, df):**\n",
    "\n",
    "This function takes a list of row indices to fix and the DataFrame. It iterates through the indices in reverse order to avoid index shifting problems. Each incorrect row is concatenated with the row immediately following it, and the subsequent row is then dropped. The DataFrame index is reset after each concatenation."
   ]
  },
  {
   "cell_type": "code",
   "execution_count": 38,
   "metadata": {},
   "outputs": [],
   "source": [
    "def fix_incorrect(num_row: list[int], df: pd.DataFrame) -> pd.DataFrame:\n",
    "    \"\"\"Fix the incorrect rows in the DataFrame\n",
    "\n",
    "    Args:\n",
    "        num_row (list): List of ids to fix\n",
    "        df (pd.DataFrame): The DataFrame to fix\n",
    "\n",
    "    Returns:\n",
    "        pd.DataFrame: Fixed\n",
    "    \"\"\"\n",
    "    num_row: list = sorted(num_row, reverse=True)\n",
    "    for n in num_row:\n",
    "        df.iloc[n] = df.iloc[n] + df.iloc[n + 1]\n",
    "        df = df.drop(n + 1)\n",
    "        df = df.reset_index(drop= True)\n",
    "    return df"
   ]
  },
  {
   "cell_type": "markdown",
   "metadata": {},
   "source": [
    "**4. Validation and Correction Logic:**\n",
    "\n",
    "We compare the expected and actual number of incorrect rows. If they match, we proceed to fix the incorrect rows using the `fix_incorrect` function. Otherwise, we print the context of the incorrect rows and raise a warning, indicating that manual inspection and correction are required."
   ]
  },
  {
   "cell_type": "code",
   "execution_count": 39,
   "metadata": {},
   "outputs": [],
   "source": [
    "if num_rows_incorrect_expected == num_rows_incorrect:\n",
    "    exam_df_fixed = fix_incorrect(id_rows_incorrect, exam_df_concat)\n",
    "    df_correct_rows: bool = len(exam_df_fixed) == num_rows_incorrect_expected\n",
    "else:\n",
    "    print_rows_incorrrect(id_rows_incorrect, exam_df_concat)\n",
    "    raise Warning(\"More incorrect rows that expected, uncomment the lines below and add ids to the list, and comment this line\")\n",
    "    # rows_fix: list[int] = [90, 337, 817]\n",
    "    # exam_df_fixed: pd.DataFrame = fix_incorrect(rows_fix, exam_df_concat)"
   ]
  },
  {
   "cell_type": "markdown",
   "metadata": {},
   "source": [
    "**5. Verification of Corrected Rows:**\n",
    "\n",
    "We print the expected total number of rows and the actual number of rows in the corrected DataFrame to verify the results of the correction process."
   ]
  },
  {
   "cell_type": "code",
   "execution_count": 40,
   "metadata": {},
   "outputs": [
    {
     "name": "stdout",
     "output_type": "stream",
     "text": [
      "Correct number of rows = 925\n",
      "925\n"
     ]
    }
   ],
   "source": [
    "print(f\"Correct number of rows = {total_num_rows}\")\n",
    "print(exam_df_fixed.shape[0])"
   ]
  },
  {
   "cell_type": "markdown",
   "metadata": {},
   "source": [
    "### Pivoting the DataFrame\n",
    "\n",
    "This section focuses on transforming the cleaned exam data into a structured format suitable for analysis. The DataFrame is pivoted to create columns for each question and its corresponding options.\n",
    "\n",
    "**1. Preparing the DataFrame for Pivoting:**\n",
    "\n",
    "The `exam_df_fixed` Series is converted to a DataFrame, and a 'group' column is created to identify each question and its options. An 'option_num' column is then generated to enumerate the options within each group.\n"
   ]
  },
  {
   "cell_type": "code",
   "execution_count": 41,
   "metadata": {},
   "outputs": [],
   "source": [
    "exam_df_fixed = exam_df_fixed.to_frame()\n",
    "groups: pd.Series = pd.Series((exam_df_fixed.index // (num_questions+1)) +1)\n",
    "exam_df_fixed[\"group\"] = groups  \n",
    "exam_df_fixed[\"option_num\"] = exam_df_fixed.groupby(\"group\").cumcount() + 1"
   ]
  },
  {
   "cell_type": "markdown",
   "metadata": {},
   "source": [
    "**2. Pivoting the DataFrame:**\n",
    "\n",
    "The DataFrame is pivoted using the 'group' column as the index, the 'option_num' column as the columns, and the 'text' column as the values. The index is then reset."
   ]
  },
  {
   "cell_type": "code",
   "execution_count": 42,
   "metadata": {},
   "outputs": [],
   "source": [
    "exam_df_pivot: pd.DataFrame = exam_df_fixed.pivot(index=\"group\", columns=\"option_num\", values=\"text\")\n",
    "exam_df_pivot = exam_df_pivot.reset_index()"
   ]
  },
  {
   "cell_type": "markdown",
   "metadata": {},
   "source": [
    "**3. Renaming Columns:**\n",
    "\n",
    "The columns are renamed to more descriptive names, such as \"Question\", \"Option_1\", \"Option_2\", etc."
   ]
  },
  {
   "cell_type": "code",
   "execution_count": 43,
   "metadata": {},
   "outputs": [],
   "source": [
    "key_list: list = [x for x in range(1, num_questions+2, 1)]\n",
    "val_list: list = [\"Question\"] + [f\"Option_{x}\" for x in range(1, 4 + 1, 1)]\n",
    "\n",
    "exam_df_pivot = exam_df_pivot.rename_axis(None, axis=1).rename(columns=dict(zip(key_list, val_list)))"
   ]
  },
  {
   "cell_type": "markdown",
   "metadata": {},
   "source": [
    "**4. Dropping the 'group' Column:**\n",
    "\n",
    "The 'group' column is dropped as it is no longer needed"
   ]
  },
  {
   "cell_type": "code",
   "execution_count": 44,
   "metadata": {},
   "outputs": [],
   "source": [
    "exam_df_pivot = exam_df_pivot.drop(columns=[\"group\"])"
   ]
  },
  {
   "cell_type": "markdown",
   "metadata": {},
   "source": [
    "**5. Displaying the Pivoted DataFrame:**\n",
    "\n",
    "The first 10 rows of the pivoted DataFrame are displayed to verify the results of the transformation."
   ]
  },
  {
   "cell_type": "code",
   "execution_count": 45,
   "metadata": {},
   "outputs": [
    {
     "data": {
      "application/vnd.microsoft.datawrangler.viewer.v0+json": {
       "columns": [
        {
         "name": "index",
         "rawType": "int64",
         "type": "integer"
        },
        {
         "name": "Question",
         "rawType": "object",
         "type": "string"
        },
        {
         "name": "Option_1",
         "rawType": "object",
         "type": "string"
        },
        {
         "name": "Option_2",
         "rawType": "object",
         "type": "string"
        },
        {
         "name": "Option_3",
         "rawType": "object",
         "type": "string"
        },
        {
         "name": "Option_4",
         "rawType": "object",
         "type": "string"
        }
       ],
       "conversionMethod": "pd.DataFrame",
       "ref": "ff979ada-de4f-4437-b576-1b5670bf4c47",
       "rows": [
        [
         "0",
         "1. Las ortopramidas son un grupo de antipsicóticos que se caracterizan estructuralmente por ser:",
         "1. Benzamidas con un grupo metoxilo en orto.",
         "2. Benzoatos con un grupo metoxilo en orto.",
         "3. Benzamidas con un grupo amino en orto.",
         "4. Benzoatos con un grupo amino en orto."
        ],
        [
         "1",
         "2. Las moléculas que tienen propiedades físicas y químicas semejantes y que producen efectos fisiológicos similares, se denominan:",
         "1. Isómeros estructurales.",
         "2. Isómeros conformacionales.",
         "3. Bioisósteros.",
         "4. Enantiómeros."
        ],
        [
         "2",
         "3. ¿Cuál es la especie reactiva que se forma durante el proceso de bioactivación del fármaco antitumoral dacarbazina (derivado de triazenoimidazol)?:",
         "1. Radical hidroxilo.",
         "2. Catión aziridinio.",
         "3. Catión metildiazonio.",
         "4. Un grupo imino."
        ],
        [
         "3",
         "4. ¿Qué es el suxametonio (succinilcolina) respecto al decametonio?:",
         "1. Un profármaco.",
         "2. Un análogo blando.",
         "3. Un antagonista competitivo.",
         "4. Un análogo más lipófilo."
        ],
        [
         "4",
         "5. El captopril, primer inhibidor comercializado de la enzima conversora de angiotensina (ECA), tiene un grupo tiol (mercapto). ¿Por qué razón este grupo no se ha conservado en los análogos diseñados con posterioridad?:",
         "1. No es importante para la actividad del captopril.",
         "2. Un grupo carboxílico interacciona mejor con el catión zinc de la metaloenzima.",
         "3. Su presencia se asocia con efectos secundarios, tales como la aparición de erupciones cutáneas.",
         "4. Porque se mejoran las propiedades organolépticas de los análogos."
        ],
        [
         "5",
         "6. El cloroformiato de bencilo, también denominado cloruro de benciloxicarbonilo (Cl-Cbz), es un reactivo muy utilizado en síntesis de péptidos. ¿Cuál es su finalidad?:",
         "1. Proteger un grupo amino.",
         "2. Proteger un grupo carboxílico.",
         "3. Activar un grupo carboxílico.",
         "4. Acoplar un grupo amino con un grupo carboxílico."
        ],
        [
         "6",
         "7. Señale la respuesta correcta en relación con las ariloxipropanolaminas que actúan de manera selectiva en receptores adrenérgicos beta-1:",
         "1. Presentan un sustituyente pequeño sobre el nitrógeno.",
         "2. El grupo arilo debe ser un ciclo condensado para establecer una fuerte interacción hidrofóbica con la diana.",
         "3. Presentan un sustituyente en posición para del anillo aromático, que establece un enlace de hidrógeno adicional con la diana.",
         "4. La amina debe ser terciaria."
        ],
        [
         "7",
         "8. ¿Qué requisito estructural debe estar presente en los derivados de testosterona para que sean activos por vía oral?:",
         "1. Un grupo éster en la posición 17 beta.",
         "2. Un átomo de flúor en la posición 9 alfa.",
         "3. Un sustituyente en la posición 17 alfa.",
         "4. Un heteroátomo en la posición 2."
        ],
        [
         "8",
         "9. ¿Cuál de las siguientes relaciones estructuraactividad NO es correcta para la morfina?:",
         "1. La presencia de un grupo ciclopropilmetilo en el nitrógeno conduce a compuestos con actividad agonista parcial.",
         "2. La N-fenetilnormorfina tiene una acción analgésica más potente que la morfina.",
         "3. La alquilación del hidroxilo fenólico reduce la actividad analgésica.",
         "4. La reducción del doble enlace reduce la actividad analgésica."
        ],
        [
         "9",
         "10. ¿Cuál de los siguientes compuestos puede considerarse un profármaco?:",
         "1. Omeprazol.",
         "2. Tolazamida.",
         "3. Fentanilo.",
         "4. Salbutamol."
        ]
       ],
       "shape": {
        "columns": 5,
        "rows": 10
       }
      },
      "text/html": [
       "<div>\n",
       "<style scoped>\n",
       "    .dataframe tbody tr th:only-of-type {\n",
       "        vertical-align: middle;\n",
       "    }\n",
       "\n",
       "    .dataframe tbody tr th {\n",
       "        vertical-align: top;\n",
       "    }\n",
       "\n",
       "    .dataframe thead th {\n",
       "        text-align: right;\n",
       "    }\n",
       "</style>\n",
       "<table border=\"1\" class=\"dataframe\">\n",
       "  <thead>\n",
       "    <tr style=\"text-align: right;\">\n",
       "      <th></th>\n",
       "      <th>Question</th>\n",
       "      <th>Option_1</th>\n",
       "      <th>Option_2</th>\n",
       "      <th>Option_3</th>\n",
       "      <th>Option_4</th>\n",
       "    </tr>\n",
       "  </thead>\n",
       "  <tbody>\n",
       "    <tr>\n",
       "      <th>0</th>\n",
       "      <td>1. Las ortopramidas son un grupo de antipsicót...</td>\n",
       "      <td>1. Benzamidas con un grupo metoxilo en orto.</td>\n",
       "      <td>2. Benzoatos con un grupo metoxilo en orto.</td>\n",
       "      <td>3. Benzamidas con un grupo amino en orto.</td>\n",
       "      <td>4. Benzoatos con un grupo amino en orto.</td>\n",
       "    </tr>\n",
       "    <tr>\n",
       "      <th>1</th>\n",
       "      <td>2. Las moléculas que tienen propiedades física...</td>\n",
       "      <td>1. Isómeros estructurales.</td>\n",
       "      <td>2. Isómeros conformacionales.</td>\n",
       "      <td>3. Bioisósteros.</td>\n",
       "      <td>4. Enantiómeros.</td>\n",
       "    </tr>\n",
       "    <tr>\n",
       "      <th>2</th>\n",
       "      <td>3. ¿Cuál es la especie reactiva que se forma d...</td>\n",
       "      <td>1. Radical hidroxilo.</td>\n",
       "      <td>2. Catión aziridinio.</td>\n",
       "      <td>3. Catión metildiazonio.</td>\n",
       "      <td>4. Un grupo imino.</td>\n",
       "    </tr>\n",
       "    <tr>\n",
       "      <th>3</th>\n",
       "      <td>4. ¿Qué es el suxametonio (succinilcolina) res...</td>\n",
       "      <td>1. Un profármaco.</td>\n",
       "      <td>2. Un análogo blando.</td>\n",
       "      <td>3. Un antagonista competitivo.</td>\n",
       "      <td>4. Un análogo más lipófilo.</td>\n",
       "    </tr>\n",
       "    <tr>\n",
       "      <th>4</th>\n",
       "      <td>5. El captopril, primer inhibidor comercializa...</td>\n",
       "      <td>1. No es importante para la actividad del capt...</td>\n",
       "      <td>2. Un grupo carboxílico interacciona mejor con...</td>\n",
       "      <td>3. Su presencia se asocia con efectos secundar...</td>\n",
       "      <td>4. Porque se mejoran las propiedades organolép...</td>\n",
       "    </tr>\n",
       "    <tr>\n",
       "      <th>5</th>\n",
       "      <td>6. El cloroformiato de bencilo, también denomi...</td>\n",
       "      <td>1. Proteger un grupo amino.</td>\n",
       "      <td>2. Proteger un grupo carboxílico.</td>\n",
       "      <td>3. Activar un grupo carboxílico.</td>\n",
       "      <td>4. Acoplar un grupo amino con un grupo carboxí...</td>\n",
       "    </tr>\n",
       "    <tr>\n",
       "      <th>6</th>\n",
       "      <td>7. Señale la respuesta correcta en relación co...</td>\n",
       "      <td>1. Presentan un sustituyente pequeño sobre el ...</td>\n",
       "      <td>2. El grupo arilo debe ser un ciclo condensado...</td>\n",
       "      <td>3. Presentan un sustituyente en posición para ...</td>\n",
       "      <td>4. La amina debe ser terciaria.</td>\n",
       "    </tr>\n",
       "    <tr>\n",
       "      <th>7</th>\n",
       "      <td>8. ¿Qué requisito estructural debe estar prese...</td>\n",
       "      <td>1. Un grupo éster en la posición 17 beta.</td>\n",
       "      <td>2. Un átomo de flúor en la posición 9 alfa.</td>\n",
       "      <td>3. Un sustituyente en la posición 17 alfa.</td>\n",
       "      <td>4. Un heteroátomo en la posición 2.</td>\n",
       "    </tr>\n",
       "    <tr>\n",
       "      <th>8</th>\n",
       "      <td>9. ¿Cuál de las siguientes relaciones estructu...</td>\n",
       "      <td>1. La presencia de un grupo ciclopropilmetilo ...</td>\n",
       "      <td>2. La N-fenetilnormorfina tiene una acción ana...</td>\n",
       "      <td>3. La alquilación del hidroxilo fenólico reduc...</td>\n",
       "      <td>4. La reducción del doble enlace reduce la act...</td>\n",
       "    </tr>\n",
       "    <tr>\n",
       "      <th>9</th>\n",
       "      <td>10. ¿Cuál de los siguientes compuestos puede c...</td>\n",
       "      <td>1. Omeprazol.</td>\n",
       "      <td>2. Tolazamida.</td>\n",
       "      <td>3. Fentanilo.</td>\n",
       "      <td>4. Salbutamol.</td>\n",
       "    </tr>\n",
       "  </tbody>\n",
       "</table>\n",
       "</div>"
      ],
      "text/plain": [
       "                                            Question  \\\n",
       "0  1. Las ortopramidas son un grupo de antipsicót...   \n",
       "1  2. Las moléculas que tienen propiedades física...   \n",
       "2  3. ¿Cuál es la especie reactiva que se forma d...   \n",
       "3  4. ¿Qué es el suxametonio (succinilcolina) res...   \n",
       "4  5. El captopril, primer inhibidor comercializa...   \n",
       "5  6. El cloroformiato de bencilo, también denomi...   \n",
       "6  7. Señale la respuesta correcta en relación co...   \n",
       "7  8. ¿Qué requisito estructural debe estar prese...   \n",
       "8  9. ¿Cuál de las siguientes relaciones estructu...   \n",
       "9  10. ¿Cuál de los siguientes compuestos puede c...   \n",
       "\n",
       "                                            Option_1  \\\n",
       "0       1. Benzamidas con un grupo metoxilo en orto.   \n",
       "1                         1. Isómeros estructurales.   \n",
       "2                              1. Radical hidroxilo.   \n",
       "3                                  1. Un profármaco.   \n",
       "4  1. No es importante para la actividad del capt...   \n",
       "5                        1. Proteger un grupo amino.   \n",
       "6  1. Presentan un sustituyente pequeño sobre el ...   \n",
       "7          1. Un grupo éster en la posición 17 beta.   \n",
       "8  1. La presencia de un grupo ciclopropilmetilo ...   \n",
       "9                                      1. Omeprazol.   \n",
       "\n",
       "                                            Option_2  \\\n",
       "0        2. Benzoatos con un grupo metoxilo en orto.   \n",
       "1                      2. Isómeros conformacionales.   \n",
       "2                              2. Catión aziridinio.   \n",
       "3                              2. Un análogo blando.   \n",
       "4  2. Un grupo carboxílico interacciona mejor con...   \n",
       "5                  2. Proteger un grupo carboxílico.   \n",
       "6  2. El grupo arilo debe ser un ciclo condensado...   \n",
       "7        2. Un átomo de flúor en la posición 9 alfa.   \n",
       "8  2. La N-fenetilnormorfina tiene una acción ana...   \n",
       "9                                     2. Tolazamida.   \n",
       "\n",
       "                                            Option_3  \\\n",
       "0          3. Benzamidas con un grupo amino en orto.   \n",
       "1                                   3. Bioisósteros.   \n",
       "2                           3. Catión metildiazonio.   \n",
       "3                     3. Un antagonista competitivo.   \n",
       "4  3. Su presencia se asocia con efectos secundar...   \n",
       "5                   3. Activar un grupo carboxílico.   \n",
       "6  3. Presentan un sustituyente en posición para ...   \n",
       "7         3. Un sustituyente en la posición 17 alfa.   \n",
       "8  3. La alquilación del hidroxilo fenólico reduc...   \n",
       "9                                      3. Fentanilo.   \n",
       "\n",
       "                                            Option_4  \n",
       "0           4. Benzoatos con un grupo amino en orto.  \n",
       "1                                   4. Enantiómeros.  \n",
       "2                                 4. Un grupo imino.  \n",
       "3                        4. Un análogo más lipófilo.  \n",
       "4  4. Porque se mejoran las propiedades organolép...  \n",
       "5  4. Acoplar un grupo amino con un grupo carboxí...  \n",
       "6                    4. La amina debe ser terciaria.  \n",
       "7                4. Un heteroátomo en la posición 2.  \n",
       "8  4. La reducción del doble enlace reduce la act...  \n",
       "9                                     4. Salbutamol.  "
      ]
     },
     "execution_count": 45,
     "metadata": {},
     "output_type": "execute_result"
    }
   ],
   "source": [
    "exam_df_pivot.head(10)"
   ]
  },
  {
   "cell_type": "markdown",
   "metadata": {},
   "source": [
    "## Answers tsv\n",
    "\n",
    "This section focuses on cleaning and consolidating the answer key data from the TSV file. The original data contains duplicate columns, which are processed and combined into a single, clean DataFrame.\n",
    "\n",
    "**1. Defining Column Lists:**\n",
    "\n",
    "We define lists containing the original column names and the duplicate column names."
   ]
  },
  {
   "cell_type": "code",
   "execution_count": 46,
   "metadata": {},
   "outputs": [],
   "source": [
    "original_col: list[str] = [\"V\", \"RC\"]\n",
    "duplicate_cols: list[str] = [\"V.1\", \"RC.1\", \"V.2\", \"RC.2\", \"V.3\", \"RC.3\", \"V.4\", \"RC.4\"]"
   ]
  },
  {
   "cell_type": "markdown",
   "metadata": {},
   "source": [
    "**2. Processing Duplicate Columns:**\n",
    "\n",
    "We iterate through the duplicate_cols list in pairs, extracting the corresponding columns, renaming them to the original column names, and appending them to a list of DataFrames."
   ]
  },
  {
   "cell_type": "code",
   "execution_count": 47,
   "metadata": {},
   "outputs": [],
   "source": [
    "answers_df_list: list[pd.DataFrame] = [raw_answers_df[original_col]]\n",
    "\n",
    "for i in range(0, len(duplicate_cols), 2):\n",
    "    pair_cols: list = duplicate_cols[i:i+2]\n",
    "    df_pair_col: pd.DataFrame = raw_answers_df[pair_cols].rename(columns={pair_cols[0]: \"V\", pair_cols[1]: \"RC\"})\n",
    "    answers_df_list.append(df_pair_col)"
   ]
  },
  {
   "cell_type": "markdown",
   "metadata": {},
   "source": [
    "**3. Concatenating DataFrames:**\n",
    "\n",
    "The list of DataFrames is concatenated into a single DataFrame, ignoring the original index."
   ]
  },
  {
   "cell_type": "code",
   "execution_count": 48,
   "metadata": {},
   "outputs": [],
   "source": [
    "answers_df_clean: pd.DataFrame = pd.concat(answers_df_list, ignore_index=True)"
   ]
  },
  {
   "cell_type": "markdown",
   "metadata": {},
   "source": [
    "**4. Displaying the Cleaned DataFrame:**\n",
    "\n",
    "The cleaned DataFrame is printed to verify the results of the consolidation process."
   ]
  },
  {
   "cell_type": "code",
   "execution_count": 49,
   "metadata": {},
   "outputs": [
    {
     "data": {
      "application/vnd.microsoft.datawrangler.viewer.v0+json": {
       "columns": [
        {
         "name": "index",
         "rawType": "int64",
         "type": "integer"
        },
        {
         "name": "V",
         "rawType": "int64",
         "type": "integer"
        },
        {
         "name": "RC",
         "rawType": "float64",
         "type": "float"
        }
       ],
       "conversionMethod": "pd.DataFrame",
       "ref": "01bf6314-82a8-4a9b-addd-c2c0465e8991",
       "rows": [
        [
         "0",
         "1",
         "1.0"
        ],
        [
         "1",
         "2",
         "3.0"
        ],
        [
         "2",
         "3",
         "3.0"
        ],
        [
         "3",
         "4",
         "2.0"
        ],
        [
         "4",
         "5",
         "3.0"
        ],
        [
         "5",
         "6",
         "1.0"
        ],
        [
         "6",
         "7",
         "3.0"
        ],
        [
         "7",
         "8",
         "3.0"
        ],
        [
         "8",
         "9",
         "4.0"
        ],
        [
         "9",
         "10",
         "1.0"
        ]
       ],
       "shape": {
        "columns": 2,
        "rows": 10
       }
      },
      "text/html": [
       "<div>\n",
       "<style scoped>\n",
       "    .dataframe tbody tr th:only-of-type {\n",
       "        vertical-align: middle;\n",
       "    }\n",
       "\n",
       "    .dataframe tbody tr th {\n",
       "        vertical-align: top;\n",
       "    }\n",
       "\n",
       "    .dataframe thead th {\n",
       "        text-align: right;\n",
       "    }\n",
       "</style>\n",
       "<table border=\"1\" class=\"dataframe\">\n",
       "  <thead>\n",
       "    <tr style=\"text-align: right;\">\n",
       "      <th></th>\n",
       "      <th>V</th>\n",
       "      <th>RC</th>\n",
       "    </tr>\n",
       "  </thead>\n",
       "  <tbody>\n",
       "    <tr>\n",
       "      <th>0</th>\n",
       "      <td>1</td>\n",
       "      <td>1.0</td>\n",
       "    </tr>\n",
       "    <tr>\n",
       "      <th>1</th>\n",
       "      <td>2</td>\n",
       "      <td>3.0</td>\n",
       "    </tr>\n",
       "    <tr>\n",
       "      <th>2</th>\n",
       "      <td>3</td>\n",
       "      <td>3.0</td>\n",
       "    </tr>\n",
       "    <tr>\n",
       "      <th>3</th>\n",
       "      <td>4</td>\n",
       "      <td>2.0</td>\n",
       "    </tr>\n",
       "    <tr>\n",
       "      <th>4</th>\n",
       "      <td>5</td>\n",
       "      <td>3.0</td>\n",
       "    </tr>\n",
       "    <tr>\n",
       "      <th>5</th>\n",
       "      <td>6</td>\n",
       "      <td>1.0</td>\n",
       "    </tr>\n",
       "    <tr>\n",
       "      <th>6</th>\n",
       "      <td>7</td>\n",
       "      <td>3.0</td>\n",
       "    </tr>\n",
       "    <tr>\n",
       "      <th>7</th>\n",
       "      <td>8</td>\n",
       "      <td>3.0</td>\n",
       "    </tr>\n",
       "    <tr>\n",
       "      <th>8</th>\n",
       "      <td>9</td>\n",
       "      <td>4.0</td>\n",
       "    </tr>\n",
       "    <tr>\n",
       "      <th>9</th>\n",
       "      <td>10</td>\n",
       "      <td>1.0</td>\n",
       "    </tr>\n",
       "  </tbody>\n",
       "</table>\n",
       "</div>"
      ],
      "text/plain": [
       "    V   RC\n",
       "0   1  1.0\n",
       "1   2  3.0\n",
       "2   3  3.0\n",
       "3   4  2.0\n",
       "4   5  3.0\n",
       "5   6  1.0\n",
       "6   7  3.0\n",
       "7   8  3.0\n",
       "8   9  4.0\n",
       "9  10  1.0"
      ]
     },
     "execution_count": 49,
     "metadata": {},
     "output_type": "execute_result"
    }
   ],
   "source": [
    "answers_df_clean.head(10)"
   ]
  },
  {
   "cell_type": "markdown",
   "metadata": {},
   "source": [
    "## Joining the DataFrames\n",
    "\n",
    "This section focuses on merging the processed exam questions DataFrame with the cleaned answers DataFrame, performing final data cleaning, and verifying the integrity of the joined data.\n",
    "\n",
    "**1. Joining the DataFrames:**\n",
    "\n",
    "The pivoted exam questions DataFrame (`exam_df_pivot`) and the cleaned answers DataFrame (`answers_df_clean`) are joined horizontally using `pd.concat`. The 'V0' column, which represents the question number from the answers DataFrame, is then dropped. The first 10 rows of the joined DataFrame are displayed."
   ]
  },
  {
   "cell_type": "code",
   "execution_count": 50,
   "metadata": {},
   "outputs": [
    {
     "data": {
      "application/vnd.microsoft.datawrangler.viewer.v0+json": {
       "columns": [
        {
         "name": "index",
         "rawType": "int64",
         "type": "integer"
        },
        {
         "name": "Question",
         "rawType": "object",
         "type": "string"
        },
        {
         "name": "Option_1",
         "rawType": "object",
         "type": "string"
        },
        {
         "name": "Option_2",
         "rawType": "object",
         "type": "string"
        },
        {
         "name": "Option_3",
         "rawType": "object",
         "type": "string"
        },
        {
         "name": "Option_4",
         "rawType": "object",
         "type": "string"
        },
        {
         "name": "RC",
         "rawType": "float64",
         "type": "float"
        }
       ],
       "conversionMethod": "pd.DataFrame",
       "ref": "e4941a71-2f69-42ba-951d-b38d14dd6296",
       "rows": [
        [
         "0",
         "1. Las ortopramidas son un grupo de antipsicóticos que se caracterizan estructuralmente por ser:",
         "1. Benzamidas con un grupo metoxilo en orto.",
         "2. Benzoatos con un grupo metoxilo en orto.",
         "3. Benzamidas con un grupo amino en orto.",
         "4. Benzoatos con un grupo amino en orto.",
         "1.0"
        ],
        [
         "1",
         "2. Las moléculas que tienen propiedades físicas y químicas semejantes y que producen efectos fisiológicos similares, se denominan:",
         "1. Isómeros estructurales.",
         "2. Isómeros conformacionales.",
         "3. Bioisósteros.",
         "4. Enantiómeros.",
         "3.0"
        ],
        [
         "2",
         "3. ¿Cuál es la especie reactiva que se forma durante el proceso de bioactivación del fármaco antitumoral dacarbazina (derivado de triazenoimidazol)?:",
         "1. Radical hidroxilo.",
         "2. Catión aziridinio.",
         "3. Catión metildiazonio.",
         "4. Un grupo imino.",
         "3.0"
        ],
        [
         "3",
         "4. ¿Qué es el suxametonio (succinilcolina) respecto al decametonio?:",
         "1. Un profármaco.",
         "2. Un análogo blando.",
         "3. Un antagonista competitivo.",
         "4. Un análogo más lipófilo.",
         "2.0"
        ],
        [
         "4",
         "5. El captopril, primer inhibidor comercializado de la enzima conversora de angiotensina (ECA), tiene un grupo tiol (mercapto). ¿Por qué razón este grupo no se ha conservado en los análogos diseñados con posterioridad?:",
         "1. No es importante para la actividad del captopril.",
         "2. Un grupo carboxílico interacciona mejor con el catión zinc de la metaloenzima.",
         "3. Su presencia se asocia con efectos secundarios, tales como la aparición de erupciones cutáneas.",
         "4. Porque se mejoran las propiedades organolépticas de los análogos.",
         "3.0"
        ],
        [
         "5",
         "6. El cloroformiato de bencilo, también denominado cloruro de benciloxicarbonilo (Cl-Cbz), es un reactivo muy utilizado en síntesis de péptidos. ¿Cuál es su finalidad?:",
         "1. Proteger un grupo amino.",
         "2. Proteger un grupo carboxílico.",
         "3. Activar un grupo carboxílico.",
         "4. Acoplar un grupo amino con un grupo carboxílico.",
         "1.0"
        ],
        [
         "6",
         "7. Señale la respuesta correcta en relación con las ariloxipropanolaminas que actúan de manera selectiva en receptores adrenérgicos beta-1:",
         "1. Presentan un sustituyente pequeño sobre el nitrógeno.",
         "2. El grupo arilo debe ser un ciclo condensado para establecer una fuerte interacción hidrofóbica con la diana.",
         "3. Presentan un sustituyente en posición para del anillo aromático, que establece un enlace de hidrógeno adicional con la diana.",
         "4. La amina debe ser terciaria.",
         "3.0"
        ],
        [
         "7",
         "8. ¿Qué requisito estructural debe estar presente en los derivados de testosterona para que sean activos por vía oral?:",
         "1. Un grupo éster en la posición 17 beta.",
         "2. Un átomo de flúor en la posición 9 alfa.",
         "3. Un sustituyente en la posición 17 alfa.",
         "4. Un heteroátomo en la posición 2.",
         "3.0"
        ],
        [
         "8",
         "9. ¿Cuál de las siguientes relaciones estructuraactividad NO es correcta para la morfina?:",
         "1. La presencia de un grupo ciclopropilmetilo en el nitrógeno conduce a compuestos con actividad agonista parcial.",
         "2. La N-fenetilnormorfina tiene una acción analgésica más potente que la morfina.",
         "3. La alquilación del hidroxilo fenólico reduce la actividad analgésica.",
         "4. La reducción del doble enlace reduce la actividad analgésica.",
         "4.0"
        ],
        [
         "9",
         "10. ¿Cuál de los siguientes compuestos puede considerarse un profármaco?:",
         "1. Omeprazol.",
         "2. Tolazamida.",
         "3. Fentanilo.",
         "4. Salbutamol.",
         "1.0"
        ]
       ],
       "shape": {
        "columns": 6,
        "rows": 10
       }
      },
      "text/html": [
       "<div>\n",
       "<style scoped>\n",
       "    .dataframe tbody tr th:only-of-type {\n",
       "        vertical-align: middle;\n",
       "    }\n",
       "\n",
       "    .dataframe tbody tr th {\n",
       "        vertical-align: top;\n",
       "    }\n",
       "\n",
       "    .dataframe thead th {\n",
       "        text-align: right;\n",
       "    }\n",
       "</style>\n",
       "<table border=\"1\" class=\"dataframe\">\n",
       "  <thead>\n",
       "    <tr style=\"text-align: right;\">\n",
       "      <th></th>\n",
       "      <th>Question</th>\n",
       "      <th>Option_1</th>\n",
       "      <th>Option_2</th>\n",
       "      <th>Option_3</th>\n",
       "      <th>Option_4</th>\n",
       "      <th>RC</th>\n",
       "    </tr>\n",
       "  </thead>\n",
       "  <tbody>\n",
       "    <tr>\n",
       "      <th>0</th>\n",
       "      <td>1. Las ortopramidas son un grupo de antipsicót...</td>\n",
       "      <td>1. Benzamidas con un grupo metoxilo en orto.</td>\n",
       "      <td>2. Benzoatos con un grupo metoxilo en orto.</td>\n",
       "      <td>3. Benzamidas con un grupo amino en orto.</td>\n",
       "      <td>4. Benzoatos con un grupo amino en orto.</td>\n",
       "      <td>1.0</td>\n",
       "    </tr>\n",
       "    <tr>\n",
       "      <th>1</th>\n",
       "      <td>2. Las moléculas que tienen propiedades física...</td>\n",
       "      <td>1. Isómeros estructurales.</td>\n",
       "      <td>2. Isómeros conformacionales.</td>\n",
       "      <td>3. Bioisósteros.</td>\n",
       "      <td>4. Enantiómeros.</td>\n",
       "      <td>3.0</td>\n",
       "    </tr>\n",
       "    <tr>\n",
       "      <th>2</th>\n",
       "      <td>3. ¿Cuál es la especie reactiva que se forma d...</td>\n",
       "      <td>1. Radical hidroxilo.</td>\n",
       "      <td>2. Catión aziridinio.</td>\n",
       "      <td>3. Catión metildiazonio.</td>\n",
       "      <td>4. Un grupo imino.</td>\n",
       "      <td>3.0</td>\n",
       "    </tr>\n",
       "    <tr>\n",
       "      <th>3</th>\n",
       "      <td>4. ¿Qué es el suxametonio (succinilcolina) res...</td>\n",
       "      <td>1. Un profármaco.</td>\n",
       "      <td>2. Un análogo blando.</td>\n",
       "      <td>3. Un antagonista competitivo.</td>\n",
       "      <td>4. Un análogo más lipófilo.</td>\n",
       "      <td>2.0</td>\n",
       "    </tr>\n",
       "    <tr>\n",
       "      <th>4</th>\n",
       "      <td>5. El captopril, primer inhibidor comercializa...</td>\n",
       "      <td>1. No es importante para la actividad del capt...</td>\n",
       "      <td>2. Un grupo carboxílico interacciona mejor con...</td>\n",
       "      <td>3. Su presencia se asocia con efectos secundar...</td>\n",
       "      <td>4. Porque se mejoran las propiedades organolép...</td>\n",
       "      <td>3.0</td>\n",
       "    </tr>\n",
       "    <tr>\n",
       "      <th>5</th>\n",
       "      <td>6. El cloroformiato de bencilo, también denomi...</td>\n",
       "      <td>1. Proteger un grupo amino.</td>\n",
       "      <td>2. Proteger un grupo carboxílico.</td>\n",
       "      <td>3. Activar un grupo carboxílico.</td>\n",
       "      <td>4. Acoplar un grupo amino con un grupo carboxí...</td>\n",
       "      <td>1.0</td>\n",
       "    </tr>\n",
       "    <tr>\n",
       "      <th>6</th>\n",
       "      <td>7. Señale la respuesta correcta en relación co...</td>\n",
       "      <td>1. Presentan un sustituyente pequeño sobre el ...</td>\n",
       "      <td>2. El grupo arilo debe ser un ciclo condensado...</td>\n",
       "      <td>3. Presentan un sustituyente en posición para ...</td>\n",
       "      <td>4. La amina debe ser terciaria.</td>\n",
       "      <td>3.0</td>\n",
       "    </tr>\n",
       "    <tr>\n",
       "      <th>7</th>\n",
       "      <td>8. ¿Qué requisito estructural debe estar prese...</td>\n",
       "      <td>1. Un grupo éster en la posición 17 beta.</td>\n",
       "      <td>2. Un átomo de flúor en la posición 9 alfa.</td>\n",
       "      <td>3. Un sustituyente en la posición 17 alfa.</td>\n",
       "      <td>4. Un heteroátomo en la posición 2.</td>\n",
       "      <td>3.0</td>\n",
       "    </tr>\n",
       "    <tr>\n",
       "      <th>8</th>\n",
       "      <td>9. ¿Cuál de las siguientes relaciones estructu...</td>\n",
       "      <td>1. La presencia de un grupo ciclopropilmetilo ...</td>\n",
       "      <td>2. La N-fenetilnormorfina tiene una acción ana...</td>\n",
       "      <td>3. La alquilación del hidroxilo fenólico reduc...</td>\n",
       "      <td>4. La reducción del doble enlace reduce la act...</td>\n",
       "      <td>4.0</td>\n",
       "    </tr>\n",
       "    <tr>\n",
       "      <th>9</th>\n",
       "      <td>10. ¿Cuál de los siguientes compuestos puede c...</td>\n",
       "      <td>1. Omeprazol.</td>\n",
       "      <td>2. Tolazamida.</td>\n",
       "      <td>3. Fentanilo.</td>\n",
       "      <td>4. Salbutamol.</td>\n",
       "      <td>1.0</td>\n",
       "    </tr>\n",
       "  </tbody>\n",
       "</table>\n",
       "</div>"
      ],
      "text/plain": [
       "                                            Question  \\\n",
       "0  1. Las ortopramidas son un grupo de antipsicót...   \n",
       "1  2. Las moléculas que tienen propiedades física...   \n",
       "2  3. ¿Cuál es la especie reactiva que se forma d...   \n",
       "3  4. ¿Qué es el suxametonio (succinilcolina) res...   \n",
       "4  5. El captopril, primer inhibidor comercializa...   \n",
       "5  6. El cloroformiato de bencilo, también denomi...   \n",
       "6  7. Señale la respuesta correcta en relación co...   \n",
       "7  8. ¿Qué requisito estructural debe estar prese...   \n",
       "8  9. ¿Cuál de las siguientes relaciones estructu...   \n",
       "9  10. ¿Cuál de los siguientes compuestos puede c...   \n",
       "\n",
       "                                            Option_1  \\\n",
       "0       1. Benzamidas con un grupo metoxilo en orto.   \n",
       "1                         1. Isómeros estructurales.   \n",
       "2                              1. Radical hidroxilo.   \n",
       "3                                  1. Un profármaco.   \n",
       "4  1. No es importante para la actividad del capt...   \n",
       "5                        1. Proteger un grupo amino.   \n",
       "6  1. Presentan un sustituyente pequeño sobre el ...   \n",
       "7          1. Un grupo éster en la posición 17 beta.   \n",
       "8  1. La presencia de un grupo ciclopropilmetilo ...   \n",
       "9                                      1. Omeprazol.   \n",
       "\n",
       "                                            Option_2  \\\n",
       "0        2. Benzoatos con un grupo metoxilo en orto.   \n",
       "1                      2. Isómeros conformacionales.   \n",
       "2                              2. Catión aziridinio.   \n",
       "3                              2. Un análogo blando.   \n",
       "4  2. Un grupo carboxílico interacciona mejor con...   \n",
       "5                  2. Proteger un grupo carboxílico.   \n",
       "6  2. El grupo arilo debe ser un ciclo condensado...   \n",
       "7        2. Un átomo de flúor en la posición 9 alfa.   \n",
       "8  2. La N-fenetilnormorfina tiene una acción ana...   \n",
       "9                                     2. Tolazamida.   \n",
       "\n",
       "                                            Option_3  \\\n",
       "0          3. Benzamidas con un grupo amino en orto.   \n",
       "1                                   3. Bioisósteros.   \n",
       "2                           3. Catión metildiazonio.   \n",
       "3                     3. Un antagonista competitivo.   \n",
       "4  3. Su presencia se asocia con efectos secundar...   \n",
       "5                   3. Activar un grupo carboxílico.   \n",
       "6  3. Presentan un sustituyente en posición para ...   \n",
       "7         3. Un sustituyente en la posición 17 alfa.   \n",
       "8  3. La alquilación del hidroxilo fenólico reduc...   \n",
       "9                                      3. Fentanilo.   \n",
       "\n",
       "                                            Option_4   RC  \n",
       "0           4. Benzoatos con un grupo amino en orto.  1.0  \n",
       "1                                   4. Enantiómeros.  3.0  \n",
       "2                                 4. Un grupo imino.  3.0  \n",
       "3                        4. Un análogo más lipófilo.  2.0  \n",
       "4  4. Porque se mejoran las propiedades organolép...  3.0  \n",
       "5  4. Acoplar un grupo amino con un grupo carboxí...  1.0  \n",
       "6                    4. La amina debe ser terciaria.  3.0  \n",
       "7                4. Un heteroátomo en la posición 2.  3.0  \n",
       "8  4. La reducción del doble enlace reduce la act...  4.0  \n",
       "9                                     4. Salbutamol.  1.0  "
      ]
     },
     "execution_count": 50,
     "metadata": {},
     "output_type": "execute_result"
    }
   ],
   "source": [
    "processed_exam_df: pd.DataFrame = pd.concat([exam_df_pivot, answers_df_clean], axis=1)\n",
    "processed_exam_df = processed_exam_df.drop(columns=[\"V\"])\n",
    "processed_exam_df.head(10)"
   ]
  },
  {
   "cell_type": "markdown",
   "metadata": {},
   "source": [
    "**2. Identifying and Handling Missing Values:**\n",
    "\n",
    "Missing values are then replaced with 0."
   ]
  },
  {
   "cell_type": "code",
   "execution_count": 51,
   "metadata": {},
   "outputs": [],
   "source": [
    "processed_exam_df = processed_exam_df.fillna(0)"
   ]
  },
  {
   "cell_type": "markdown",
   "metadata": {},
   "source": [
    "**3. Verifying Missing Values and Data Types:**\n",
    "\n",
    "The number of missing values in each column is checked, and the data types of the columns are displayed. The 'RC' (correct answer) column is then converted to integer type."
   ]
  },
  {
   "cell_type": "code",
   "execution_count": 52,
   "metadata": {},
   "outputs": [
    {
     "data": {
      "text/plain": [
       "Question    object\n",
       "Option_1    object\n",
       "Option_2    object\n",
       "Option_3    object\n",
       "Option_4    object\n",
       "RC           int32\n",
       "dtype: object"
      ]
     },
     "execution_count": 52,
     "metadata": {},
     "output_type": "execute_result"
    }
   ],
   "source": [
    "processed_exam_df.isnull().sum()\n",
    "processed_exam_df[\"RC\"] = processed_exam_df[\"RC\"].astype(int)\n",
    "processed_exam_df.dtypes"
   ]
  },
  {
   "cell_type": "markdown",
   "metadata": {},
   "source": [
    "**4. Adding year column**\n",
    "\n",
    "A column containing the year of the exam is added to the DataFrame."
   ]
  },
  {
   "cell_type": "code",
   "execution_count": 53,
   "metadata": {},
   "outputs": [],
   "source": [
    "processed_exam_df[\"year\"] = year"
   ]
  },
  {
   "cell_type": "markdown",
   "metadata": {},
   "source": [
    "**5. Displaying the Final DataFrame:**\n",
    "\n",
    "The first 10 rows of the final joined and cleaned DataFrame are displayed."
   ]
  },
  {
   "cell_type": "code",
   "execution_count": 54,
   "metadata": {},
   "outputs": [
    {
     "data": {
      "application/vnd.microsoft.datawrangler.viewer.v0+json": {
       "columns": [
        {
         "name": "index",
         "rawType": "int64",
         "type": "integer"
        },
        {
         "name": "Question",
         "rawType": "object",
         "type": "string"
        },
        {
         "name": "Option_1",
         "rawType": "object",
         "type": "string"
        },
        {
         "name": "Option_2",
         "rawType": "object",
         "type": "string"
        },
        {
         "name": "Option_3",
         "rawType": "object",
         "type": "string"
        },
        {
         "name": "Option_4",
         "rawType": "object",
         "type": "string"
        },
        {
         "name": "RC",
         "rawType": "int32",
         "type": "integer"
        },
        {
         "name": "year",
         "rawType": "int64",
         "type": "integer"
        }
       ],
       "conversionMethod": "pd.DataFrame",
       "ref": "21b2c597-06c9-4749-a22e-35718b20460c",
       "rows": [
        [
         "0",
         "1. Las ortopramidas son un grupo de antipsicóticos que se caracterizan estructuralmente por ser:",
         "1. Benzamidas con un grupo metoxilo en orto.",
         "2. Benzoatos con un grupo metoxilo en orto.",
         "3. Benzamidas con un grupo amino en orto.",
         "4. Benzoatos con un grupo amino en orto.",
         "1",
         "2020"
        ],
        [
         "1",
         "2. Las moléculas que tienen propiedades físicas y químicas semejantes y que producen efectos fisiológicos similares, se denominan:",
         "1. Isómeros estructurales.",
         "2. Isómeros conformacionales.",
         "3. Bioisósteros.",
         "4. Enantiómeros.",
         "3",
         "2020"
        ],
        [
         "2",
         "3. ¿Cuál es la especie reactiva que se forma durante el proceso de bioactivación del fármaco antitumoral dacarbazina (derivado de triazenoimidazol)?:",
         "1. Radical hidroxilo.",
         "2. Catión aziridinio.",
         "3. Catión metildiazonio.",
         "4. Un grupo imino.",
         "3",
         "2020"
        ],
        [
         "3",
         "4. ¿Qué es el suxametonio (succinilcolina) respecto al decametonio?:",
         "1. Un profármaco.",
         "2. Un análogo blando.",
         "3. Un antagonista competitivo.",
         "4. Un análogo más lipófilo.",
         "2",
         "2020"
        ],
        [
         "4",
         "5. El captopril, primer inhibidor comercializado de la enzima conversora de angiotensina (ECA), tiene un grupo tiol (mercapto). ¿Por qué razón este grupo no se ha conservado en los análogos diseñados con posterioridad?:",
         "1. No es importante para la actividad del captopril.",
         "2. Un grupo carboxílico interacciona mejor con el catión zinc de la metaloenzima.",
         "3. Su presencia se asocia con efectos secundarios, tales como la aparición de erupciones cutáneas.",
         "4. Porque se mejoran las propiedades organolépticas de los análogos.",
         "3",
         "2020"
        ],
        [
         "5",
         "6. El cloroformiato de bencilo, también denominado cloruro de benciloxicarbonilo (Cl-Cbz), es un reactivo muy utilizado en síntesis de péptidos. ¿Cuál es su finalidad?:",
         "1. Proteger un grupo amino.",
         "2. Proteger un grupo carboxílico.",
         "3. Activar un grupo carboxílico.",
         "4. Acoplar un grupo amino con un grupo carboxílico.",
         "1",
         "2020"
        ],
        [
         "6",
         "7. Señale la respuesta correcta en relación con las ariloxipropanolaminas que actúan de manera selectiva en receptores adrenérgicos beta-1:",
         "1. Presentan un sustituyente pequeño sobre el nitrógeno.",
         "2. El grupo arilo debe ser un ciclo condensado para establecer una fuerte interacción hidrofóbica con la diana.",
         "3. Presentan un sustituyente en posición para del anillo aromático, que establece un enlace de hidrógeno adicional con la diana.",
         "4. La amina debe ser terciaria.",
         "3",
         "2020"
        ],
        [
         "7",
         "8. ¿Qué requisito estructural debe estar presente en los derivados de testosterona para que sean activos por vía oral?:",
         "1. Un grupo éster en la posición 17 beta.",
         "2. Un átomo de flúor en la posición 9 alfa.",
         "3. Un sustituyente en la posición 17 alfa.",
         "4. Un heteroátomo en la posición 2.",
         "3",
         "2020"
        ],
        [
         "8",
         "9. ¿Cuál de las siguientes relaciones estructuraactividad NO es correcta para la morfina?:",
         "1. La presencia de un grupo ciclopropilmetilo en el nitrógeno conduce a compuestos con actividad agonista parcial.",
         "2. La N-fenetilnormorfina tiene una acción analgésica más potente que la morfina.",
         "3. La alquilación del hidroxilo fenólico reduce la actividad analgésica.",
         "4. La reducción del doble enlace reduce la actividad analgésica.",
         "4",
         "2020"
        ],
        [
         "9",
         "10. ¿Cuál de los siguientes compuestos puede considerarse un profármaco?:",
         "1. Omeprazol.",
         "2. Tolazamida.",
         "3. Fentanilo.",
         "4. Salbutamol.",
         "1",
         "2020"
        ]
       ],
       "shape": {
        "columns": 7,
        "rows": 10
       }
      },
      "text/html": [
       "<div>\n",
       "<style scoped>\n",
       "    .dataframe tbody tr th:only-of-type {\n",
       "        vertical-align: middle;\n",
       "    }\n",
       "\n",
       "    .dataframe tbody tr th {\n",
       "        vertical-align: top;\n",
       "    }\n",
       "\n",
       "    .dataframe thead th {\n",
       "        text-align: right;\n",
       "    }\n",
       "</style>\n",
       "<table border=\"1\" class=\"dataframe\">\n",
       "  <thead>\n",
       "    <tr style=\"text-align: right;\">\n",
       "      <th></th>\n",
       "      <th>Question</th>\n",
       "      <th>Option_1</th>\n",
       "      <th>Option_2</th>\n",
       "      <th>Option_3</th>\n",
       "      <th>Option_4</th>\n",
       "      <th>RC</th>\n",
       "      <th>year</th>\n",
       "    </tr>\n",
       "  </thead>\n",
       "  <tbody>\n",
       "    <tr>\n",
       "      <th>0</th>\n",
       "      <td>1. Las ortopramidas son un grupo de antipsicót...</td>\n",
       "      <td>1. Benzamidas con un grupo metoxilo en orto.</td>\n",
       "      <td>2. Benzoatos con un grupo metoxilo en orto.</td>\n",
       "      <td>3. Benzamidas con un grupo amino en orto.</td>\n",
       "      <td>4. Benzoatos con un grupo amino en orto.</td>\n",
       "      <td>1</td>\n",
       "      <td>2020</td>\n",
       "    </tr>\n",
       "    <tr>\n",
       "      <th>1</th>\n",
       "      <td>2. Las moléculas que tienen propiedades física...</td>\n",
       "      <td>1. Isómeros estructurales.</td>\n",
       "      <td>2. Isómeros conformacionales.</td>\n",
       "      <td>3. Bioisósteros.</td>\n",
       "      <td>4. Enantiómeros.</td>\n",
       "      <td>3</td>\n",
       "      <td>2020</td>\n",
       "    </tr>\n",
       "    <tr>\n",
       "      <th>2</th>\n",
       "      <td>3. ¿Cuál es la especie reactiva que se forma d...</td>\n",
       "      <td>1. Radical hidroxilo.</td>\n",
       "      <td>2. Catión aziridinio.</td>\n",
       "      <td>3. Catión metildiazonio.</td>\n",
       "      <td>4. Un grupo imino.</td>\n",
       "      <td>3</td>\n",
       "      <td>2020</td>\n",
       "    </tr>\n",
       "    <tr>\n",
       "      <th>3</th>\n",
       "      <td>4. ¿Qué es el suxametonio (succinilcolina) res...</td>\n",
       "      <td>1. Un profármaco.</td>\n",
       "      <td>2. Un análogo blando.</td>\n",
       "      <td>3. Un antagonista competitivo.</td>\n",
       "      <td>4. Un análogo más lipófilo.</td>\n",
       "      <td>2</td>\n",
       "      <td>2020</td>\n",
       "    </tr>\n",
       "    <tr>\n",
       "      <th>4</th>\n",
       "      <td>5. El captopril, primer inhibidor comercializa...</td>\n",
       "      <td>1. No es importante para la actividad del capt...</td>\n",
       "      <td>2. Un grupo carboxílico interacciona mejor con...</td>\n",
       "      <td>3. Su presencia se asocia con efectos secundar...</td>\n",
       "      <td>4. Porque se mejoran las propiedades organolép...</td>\n",
       "      <td>3</td>\n",
       "      <td>2020</td>\n",
       "    </tr>\n",
       "    <tr>\n",
       "      <th>5</th>\n",
       "      <td>6. El cloroformiato de bencilo, también denomi...</td>\n",
       "      <td>1. Proteger un grupo amino.</td>\n",
       "      <td>2. Proteger un grupo carboxílico.</td>\n",
       "      <td>3. Activar un grupo carboxílico.</td>\n",
       "      <td>4. Acoplar un grupo amino con un grupo carboxí...</td>\n",
       "      <td>1</td>\n",
       "      <td>2020</td>\n",
       "    </tr>\n",
       "    <tr>\n",
       "      <th>6</th>\n",
       "      <td>7. Señale la respuesta correcta en relación co...</td>\n",
       "      <td>1. Presentan un sustituyente pequeño sobre el ...</td>\n",
       "      <td>2. El grupo arilo debe ser un ciclo condensado...</td>\n",
       "      <td>3. Presentan un sustituyente en posición para ...</td>\n",
       "      <td>4. La amina debe ser terciaria.</td>\n",
       "      <td>3</td>\n",
       "      <td>2020</td>\n",
       "    </tr>\n",
       "    <tr>\n",
       "      <th>7</th>\n",
       "      <td>8. ¿Qué requisito estructural debe estar prese...</td>\n",
       "      <td>1. Un grupo éster en la posición 17 beta.</td>\n",
       "      <td>2. Un átomo de flúor en la posición 9 alfa.</td>\n",
       "      <td>3. Un sustituyente en la posición 17 alfa.</td>\n",
       "      <td>4. Un heteroátomo en la posición 2.</td>\n",
       "      <td>3</td>\n",
       "      <td>2020</td>\n",
       "    </tr>\n",
       "    <tr>\n",
       "      <th>8</th>\n",
       "      <td>9. ¿Cuál de las siguientes relaciones estructu...</td>\n",
       "      <td>1. La presencia de un grupo ciclopropilmetilo ...</td>\n",
       "      <td>2. La N-fenetilnormorfina tiene una acción ana...</td>\n",
       "      <td>3. La alquilación del hidroxilo fenólico reduc...</td>\n",
       "      <td>4. La reducción del doble enlace reduce la act...</td>\n",
       "      <td>4</td>\n",
       "      <td>2020</td>\n",
       "    </tr>\n",
       "    <tr>\n",
       "      <th>9</th>\n",
       "      <td>10. ¿Cuál de los siguientes compuestos puede c...</td>\n",
       "      <td>1. Omeprazol.</td>\n",
       "      <td>2. Tolazamida.</td>\n",
       "      <td>3. Fentanilo.</td>\n",
       "      <td>4. Salbutamol.</td>\n",
       "      <td>1</td>\n",
       "      <td>2020</td>\n",
       "    </tr>\n",
       "  </tbody>\n",
       "</table>\n",
       "</div>"
      ],
      "text/plain": [
       "                                            Question  \\\n",
       "0  1. Las ortopramidas son un grupo de antipsicót...   \n",
       "1  2. Las moléculas que tienen propiedades física...   \n",
       "2  3. ¿Cuál es la especie reactiva que se forma d...   \n",
       "3  4. ¿Qué es el suxametonio (succinilcolina) res...   \n",
       "4  5. El captopril, primer inhibidor comercializa...   \n",
       "5  6. El cloroformiato de bencilo, también denomi...   \n",
       "6  7. Señale la respuesta correcta en relación co...   \n",
       "7  8. ¿Qué requisito estructural debe estar prese...   \n",
       "8  9. ¿Cuál de las siguientes relaciones estructu...   \n",
       "9  10. ¿Cuál de los siguientes compuestos puede c...   \n",
       "\n",
       "                                            Option_1  \\\n",
       "0       1. Benzamidas con un grupo metoxilo en orto.   \n",
       "1                         1. Isómeros estructurales.   \n",
       "2                              1. Radical hidroxilo.   \n",
       "3                                  1. Un profármaco.   \n",
       "4  1. No es importante para la actividad del capt...   \n",
       "5                        1. Proteger un grupo amino.   \n",
       "6  1. Presentan un sustituyente pequeño sobre el ...   \n",
       "7          1. Un grupo éster en la posición 17 beta.   \n",
       "8  1. La presencia de un grupo ciclopropilmetilo ...   \n",
       "9                                      1. Omeprazol.   \n",
       "\n",
       "                                            Option_2  \\\n",
       "0        2. Benzoatos con un grupo metoxilo en orto.   \n",
       "1                      2. Isómeros conformacionales.   \n",
       "2                              2. Catión aziridinio.   \n",
       "3                              2. Un análogo blando.   \n",
       "4  2. Un grupo carboxílico interacciona mejor con...   \n",
       "5                  2. Proteger un grupo carboxílico.   \n",
       "6  2. El grupo arilo debe ser un ciclo condensado...   \n",
       "7        2. Un átomo de flúor en la posición 9 alfa.   \n",
       "8  2. La N-fenetilnormorfina tiene una acción ana...   \n",
       "9                                     2. Tolazamida.   \n",
       "\n",
       "                                            Option_3  \\\n",
       "0          3. Benzamidas con un grupo amino en orto.   \n",
       "1                                   3. Bioisósteros.   \n",
       "2                           3. Catión metildiazonio.   \n",
       "3                     3. Un antagonista competitivo.   \n",
       "4  3. Su presencia se asocia con efectos secundar...   \n",
       "5                   3. Activar un grupo carboxílico.   \n",
       "6  3. Presentan un sustituyente en posición para ...   \n",
       "7         3. Un sustituyente en la posición 17 alfa.   \n",
       "8  3. La alquilación del hidroxilo fenólico reduc...   \n",
       "9                                      3. Fentanilo.   \n",
       "\n",
       "                                            Option_4  RC  year  \n",
       "0           4. Benzoatos con un grupo amino en orto.   1  2020  \n",
       "1                                   4. Enantiómeros.   3  2020  \n",
       "2                                 4. Un grupo imino.   3  2020  \n",
       "3                        4. Un análogo más lipófilo.   2  2020  \n",
       "4  4. Porque se mejoran las propiedades organolép...   3  2020  \n",
       "5  4. Acoplar un grupo amino con un grupo carboxí...   1  2020  \n",
       "6                    4. La amina debe ser terciaria.   3  2020  \n",
       "7                4. Un heteroátomo en la posición 2.   3  2020  \n",
       "8  4. La reducción del doble enlace reduce la act...   4  2020  \n",
       "9                                     4. Salbutamol.   1  2020  "
      ]
     },
     "execution_count": 54,
     "metadata": {},
     "output_type": "execute_result"
    }
   ],
   "source": [
    "processed_exam_df.head(10)"
   ]
  },
  {
   "cell_type": "markdown",
   "metadata": {},
   "source": [
    "### Filtering by relevant questions\n",
    "\n",
    "**1. Filtering for id**\n",
    "\n",
    "A list of the number of question is used to filter the DataFrame, but first doing a -1 so it matches with the id. \n",
    "\n",
    "Finally the indexes are reseted"
   ]
  },
  {
   "cell_type": "code",
   "execution_count": 55,
   "metadata": {},
   "outputs": [
    {
     "name": "stdout",
     "output_type": "stream",
     "text": [
      "Expected number of rows = 96\n",
      "Number of rows in filtered df = 96\n"
     ]
    }
   ],
   "source": [
    "id_filter = [x-1 for x in add_list]\n",
    "processed_exam_df_filtered = processed_exam_df.iloc[id_filter]\n",
    "processed_exam_df_filtered = processed_exam_df_filtered.reset_index(drop= True)\n",
    "print(f\"Expected number of rows = {len(id_filter)}\\nNumber of rows in filtered df = {processed_exam_df_filtered.shape[0]}\")"
   ]
  },
  {
   "cell_type": "markdown",
   "metadata": {},
   "source": [
    "**2. Showing the filtered DataFrame**\n",
    "\n",
    "Using head and tail"
   ]
  },
  {
   "cell_type": "code",
   "execution_count": 56,
   "metadata": {},
   "outputs": [
    {
     "data": {
      "application/vnd.microsoft.datawrangler.viewer.v0+json": {
       "columns": [
        {
         "name": "index",
         "rawType": "int64",
         "type": "integer"
        },
        {
         "name": "Question",
         "rawType": "object",
         "type": "string"
        },
        {
         "name": "Option_1",
         "rawType": "object",
         "type": "string"
        },
        {
         "name": "Option_2",
         "rawType": "object",
         "type": "string"
        },
        {
         "name": "Option_3",
         "rawType": "object",
         "type": "string"
        },
        {
         "name": "Option_4",
         "rawType": "object",
         "type": "string"
        },
        {
         "name": "RC",
         "rawType": "int32",
         "type": "integer"
        },
        {
         "name": "year",
         "rawType": "int64",
         "type": "integer"
        }
       ],
       "conversionMethod": "pd.DataFrame",
       "ref": "087cd510-aeea-4f2b-a85e-fd21d395207c",
       "rows": [
        [
         "0",
         "14. Las siguientes especies son dermatofitos, EXCEPTO:",
         "1. Microsporum canis.",
         "2. Trichophyton rubrum.",
         "3. Trichosporon asahii.",
         "4. Epidermophyton floccosum.",
         "3",
         "2020"
        ],
        [
         "1",
         "15. El biomarcador 1-3-beta-D-glucano es útil para el diagnóstico de las infecciones fúngicas invasivas EXCEPTO las causadas por:",
         "1. Aspergillus terreus.",
         "2. Candida albicans.",
         "3. Cryptococcus neoformans.",
         "4. Pneumocystis jirovecii.",
         "3",
         "2020"
        ],
        [
         "2",
         "16. En el cultivo de un exudado ótico, tras 24 horas de incubación a 35 ºC, existe crecimiento en placas de agar chocolate, pero NO en agar sangre NI en agar MacConkey. Las colonias son oxidasa positivas y en la tinción de Gram se observan cocobacilos gramnegativos. ¿Cuál sería la identificación más probable?:",
         "1. Klebsiella pneumoniae.",
         "2. Pseudomonas aeruginosa.",
         "3. Haemophilus influenzae.",
         "4. Staphylococcus aureus.",
         "3",
         "2020"
        ],
        [
         "3",
         "17. ¿Cuál es el mecanismo de resistencia a quinolonas más frecuente en bacterias gramnegativas?:",
         "1. Mutaciones en el gen de la ADN girasa (gyrA).",
         "2. Mutaciones en el gen de la ARN polimerasa (rpoB).",
         "3. Modificación de la diana por metilación del ribosoma (genes erm).",
         "4. Beta-lactamasas de clase C de Ambler.",
         "1",
         "2020"
        ],
        [
         "4",
         "18. ¿Qué característica de las siguientes NO es propia de neumococo?:",
         "1. Puede causar neumonía, meningitis, bacteriemia y otitis, entre otras infecciones.",
         "2. En la tinción de Gram se observan diplococos grampositivos.",
         "3. La colistina es el fármaco de elección para el tratamiento de la meningitis por neumococo.",
         "4. La detección de antígeno polisacárido C de neumococo en orina es útil en el diagnóstico de neumonía en población adulta.",
         "3",
         "2020"
        ],
        [
         "5",
         "19. Señale la opción FALSA respecto a Legionella:",
         "1. Legionella pneumophila serogrupo 1 causa más del95% de los casos de legionelosis adquirida en la comunidad.",
         "2. La infección se adquiere por inhalación de aerosoles de agua contaminada.",
         "3. Levofloxacino y azitromicina son fármacos de elección para el tratamiento de enfermedad grave en pacientes inmunodeprimidos.",
         "4. La fiebre de Pontiac causada por Legionella tiene una mortalidad superior al 30% sin tratamiento.",
         "4",
         "2020"
        ],
        [
         "6",
         "20. ¿Qué opción considera correcta en relación a Neisseria?:",
         "1. Nesseria gonorrhoeae es un patógeno exclusivamente humano.",
         "2. La presencia de diplococos grampositivos en la tinción de Gram, sugiere un diagnóstico presuntivo de uretritis gonocócica en varones.",
         "3. En función de su cápsula polisacarídica, se han descrito solamente 4 serogrupos en Neisseria meningitidis (A, C, W, Y).",
         "4. Neisseria subflava es un patógeno de la orofaringe humana que siempre se asocia con enfermedad invasiva.",
         "1",
         "2020"
        ],
        [
         "7",
         "21. El agente etiológico más frecuente como causante de faringitis bacteriana es:",
         "1. Streptococcus dysgalactiae.",
         "2. Estreptococo beta-hemolítico grupo G.",
         "3. Arcanobacterium haemolyticum.",
         "4. Streptococcus pyogenes.",
         "4",
         "2020"
        ],
        [
         "8",
         "22. ¿Cuál es la respuesta correcta con respecto al diagnóstico de la infección causada por Mycobacterium tuberculosis?:",
         "1. Para el diagnóstico de enfermedad pulmonar se deben obtener tres muestras respiratorias matinales tomadas en días consecutivos.",
         "2. La reactividad de la prueba cutánea de la tuberculina se interpreta a las 24 horas.",
         "3. La tinción microscópica de Ziehl-Neelsen utiliza colorantes fluorescentes.",
         "4. Se puede medir la liberación de IFN-γ producido por los linfocitos B sensibilizados por los antígenos de M. tuberculosis.",
         "1",
         "2020"
        ],
        [
         "9",
         "23. ¿Cuál es la respuesta correcta con respecto al patógeno Listeria monocytogenes?:",
         "1. Es intracelular obligado.",
         "2. Es muy sensible a altas concentraciones de NaCl.",
         "3. Los neonatos, ancianos y mujeres gestantes tienen un mayor riesgo de padecer bacteriemia y meningoencefalitis causadas por el mismo.",
         "4. El tratamiento de elección de la enfermedad que causa es ciprofloxacino.",
         "3",
         "2020"
        ]
       ],
       "shape": {
        "columns": 7,
        "rows": 10
       }
      },
      "text/html": [
       "<div>\n",
       "<style scoped>\n",
       "    .dataframe tbody tr th:only-of-type {\n",
       "        vertical-align: middle;\n",
       "    }\n",
       "\n",
       "    .dataframe tbody tr th {\n",
       "        vertical-align: top;\n",
       "    }\n",
       "\n",
       "    .dataframe thead th {\n",
       "        text-align: right;\n",
       "    }\n",
       "</style>\n",
       "<table border=\"1\" class=\"dataframe\">\n",
       "  <thead>\n",
       "    <tr style=\"text-align: right;\">\n",
       "      <th></th>\n",
       "      <th>Question</th>\n",
       "      <th>Option_1</th>\n",
       "      <th>Option_2</th>\n",
       "      <th>Option_3</th>\n",
       "      <th>Option_4</th>\n",
       "      <th>RC</th>\n",
       "      <th>year</th>\n",
       "    </tr>\n",
       "  </thead>\n",
       "  <tbody>\n",
       "    <tr>\n",
       "      <th>0</th>\n",
       "      <td>14. Las siguientes especies son dermatofitos, ...</td>\n",
       "      <td>1. Microsporum canis.</td>\n",
       "      <td>2. Trichophyton rubrum.</td>\n",
       "      <td>3. Trichosporon asahii.</td>\n",
       "      <td>4. Epidermophyton floccosum.</td>\n",
       "      <td>3</td>\n",
       "      <td>2020</td>\n",
       "    </tr>\n",
       "    <tr>\n",
       "      <th>1</th>\n",
       "      <td>15. El biomarcador 1-3-beta-D-glucano es útil ...</td>\n",
       "      <td>1. Aspergillus terreus.</td>\n",
       "      <td>2. Candida albicans.</td>\n",
       "      <td>3. Cryptococcus neoformans.</td>\n",
       "      <td>4. Pneumocystis jirovecii.</td>\n",
       "      <td>3</td>\n",
       "      <td>2020</td>\n",
       "    </tr>\n",
       "    <tr>\n",
       "      <th>2</th>\n",
       "      <td>16. En el cultivo de un exudado ótico, tras 24...</td>\n",
       "      <td>1. Klebsiella pneumoniae.</td>\n",
       "      <td>2. Pseudomonas aeruginosa.</td>\n",
       "      <td>3. Haemophilus influenzae.</td>\n",
       "      <td>4. Staphylococcus aureus.</td>\n",
       "      <td>3</td>\n",
       "      <td>2020</td>\n",
       "    </tr>\n",
       "    <tr>\n",
       "      <th>3</th>\n",
       "      <td>17. ¿Cuál es el mecanismo de resistencia a qui...</td>\n",
       "      <td>1. Mutaciones en el gen de la ADN girasa (gyrA).</td>\n",
       "      <td>2. Mutaciones en el gen de la ARN polimerasa (...</td>\n",
       "      <td>3. Modificación de la diana por metilación del...</td>\n",
       "      <td>4. Beta-lactamasas de clase C de Ambler.</td>\n",
       "      <td>1</td>\n",
       "      <td>2020</td>\n",
       "    </tr>\n",
       "    <tr>\n",
       "      <th>4</th>\n",
       "      <td>18. ¿Qué característica de las siguientes NO e...</td>\n",
       "      <td>1. Puede causar neumonía, meningitis, bacterie...</td>\n",
       "      <td>2. En la tinción de Gram se observan diplococo...</td>\n",
       "      <td>3. La colistina es el fármaco de elección para...</td>\n",
       "      <td>4. La detección de antígeno polisacárido C de ...</td>\n",
       "      <td>3</td>\n",
       "      <td>2020</td>\n",
       "    </tr>\n",
       "    <tr>\n",
       "      <th>5</th>\n",
       "      <td>19. Señale la opción FALSA respecto a Legionella:</td>\n",
       "      <td>1. Legionella pneumophila serogrupo 1 causa má...</td>\n",
       "      <td>2. La infección se adquiere por inhalación de ...</td>\n",
       "      <td>3. Levofloxacino y azitromicina son fármacos d...</td>\n",
       "      <td>4. La fiebre de Pontiac causada por Legionella...</td>\n",
       "      <td>4</td>\n",
       "      <td>2020</td>\n",
       "    </tr>\n",
       "    <tr>\n",
       "      <th>6</th>\n",
       "      <td>20. ¿Qué opción considera correcta en relación...</td>\n",
       "      <td>1. Nesseria gonorrhoeae es un patógeno exclusi...</td>\n",
       "      <td>2. La presencia de diplococos grampositivos en...</td>\n",
       "      <td>3. En función de su cápsula polisacarídica, se...</td>\n",
       "      <td>4. Neisseria subflava es un patógeno de la oro...</td>\n",
       "      <td>1</td>\n",
       "      <td>2020</td>\n",
       "    </tr>\n",
       "    <tr>\n",
       "      <th>7</th>\n",
       "      <td>21. El agente etiológico más frecuente como ca...</td>\n",
       "      <td>1. Streptococcus dysgalactiae.</td>\n",
       "      <td>2. Estreptococo beta-hemolítico grupo G.</td>\n",
       "      <td>3. Arcanobacterium haemolyticum.</td>\n",
       "      <td>4. Streptococcus pyogenes.</td>\n",
       "      <td>4</td>\n",
       "      <td>2020</td>\n",
       "    </tr>\n",
       "    <tr>\n",
       "      <th>8</th>\n",
       "      <td>22. ¿Cuál es la respuesta correcta con respect...</td>\n",
       "      <td>1. Para el diagnóstico de enfermedad pulmonar ...</td>\n",
       "      <td>2. La reactividad de la prueba cutánea de la t...</td>\n",
       "      <td>3. La tinción microscópica de Ziehl-Neelsen ut...</td>\n",
       "      <td>4. Se puede medir la liberación de IFN-γ produ...</td>\n",
       "      <td>1</td>\n",
       "      <td>2020</td>\n",
       "    </tr>\n",
       "    <tr>\n",
       "      <th>9</th>\n",
       "      <td>23. ¿Cuál es la respuesta correcta con respect...</td>\n",
       "      <td>1. Es intracelular obligado.</td>\n",
       "      <td>2. Es muy sensible a altas concentraciones de ...</td>\n",
       "      <td>3. Los neonatos, ancianos y mujeres gestantes ...</td>\n",
       "      <td>4. El tratamiento de elección de la enfermedad...</td>\n",
       "      <td>3</td>\n",
       "      <td>2020</td>\n",
       "    </tr>\n",
       "  </tbody>\n",
       "</table>\n",
       "</div>"
      ],
      "text/plain": [
       "                                            Question  \\\n",
       "0  14. Las siguientes especies son dermatofitos, ...   \n",
       "1  15. El biomarcador 1-3-beta-D-glucano es útil ...   \n",
       "2  16. En el cultivo de un exudado ótico, tras 24...   \n",
       "3  17. ¿Cuál es el mecanismo de resistencia a qui...   \n",
       "4  18. ¿Qué característica de las siguientes NO e...   \n",
       "5  19. Señale la opción FALSA respecto a Legionella:   \n",
       "6  20. ¿Qué opción considera correcta en relación...   \n",
       "7  21. El agente etiológico más frecuente como ca...   \n",
       "8  22. ¿Cuál es la respuesta correcta con respect...   \n",
       "9  23. ¿Cuál es la respuesta correcta con respect...   \n",
       "\n",
       "                                            Option_1  \\\n",
       "0                              1. Microsporum canis.   \n",
       "1                            1. Aspergillus terreus.   \n",
       "2                          1. Klebsiella pneumoniae.   \n",
       "3   1. Mutaciones en el gen de la ADN girasa (gyrA).   \n",
       "4  1. Puede causar neumonía, meningitis, bacterie...   \n",
       "5  1. Legionella pneumophila serogrupo 1 causa má...   \n",
       "6  1. Nesseria gonorrhoeae es un patógeno exclusi...   \n",
       "7                     1. Streptococcus dysgalactiae.   \n",
       "8  1. Para el diagnóstico de enfermedad pulmonar ...   \n",
       "9                       1. Es intracelular obligado.   \n",
       "\n",
       "                                            Option_2  \\\n",
       "0                            2. Trichophyton rubrum.   \n",
       "1                               2. Candida albicans.   \n",
       "2                         2. Pseudomonas aeruginosa.   \n",
       "3  2. Mutaciones en el gen de la ARN polimerasa (...   \n",
       "4  2. En la tinción de Gram se observan diplococo...   \n",
       "5  2. La infección se adquiere por inhalación de ...   \n",
       "6  2. La presencia de diplococos grampositivos en...   \n",
       "7           2. Estreptococo beta-hemolítico grupo G.   \n",
       "8  2. La reactividad de la prueba cutánea de la t...   \n",
       "9  2. Es muy sensible a altas concentraciones de ...   \n",
       "\n",
       "                                            Option_3  \\\n",
       "0                            3. Trichosporon asahii.   \n",
       "1                        3. Cryptococcus neoformans.   \n",
       "2                         3. Haemophilus influenzae.   \n",
       "3  3. Modificación de la diana por metilación del...   \n",
       "4  3. La colistina es el fármaco de elección para...   \n",
       "5  3. Levofloxacino y azitromicina son fármacos d...   \n",
       "6  3. En función de su cápsula polisacarídica, se...   \n",
       "7                   3. Arcanobacterium haemolyticum.   \n",
       "8  3. La tinción microscópica de Ziehl-Neelsen ut...   \n",
       "9  3. Los neonatos, ancianos y mujeres gestantes ...   \n",
       "\n",
       "                                            Option_4  RC  year  \n",
       "0                       4. Epidermophyton floccosum.   3  2020  \n",
       "1                         4. Pneumocystis jirovecii.   3  2020  \n",
       "2                          4. Staphylococcus aureus.   3  2020  \n",
       "3           4. Beta-lactamasas de clase C de Ambler.   1  2020  \n",
       "4  4. La detección de antígeno polisacárido C de ...   3  2020  \n",
       "5  4. La fiebre de Pontiac causada por Legionella...   4  2020  \n",
       "6  4. Neisseria subflava es un patógeno de la oro...   1  2020  \n",
       "7                         4. Streptococcus pyogenes.   4  2020  \n",
       "8  4. Se puede medir la liberación de IFN-γ produ...   1  2020  \n",
       "9  4. El tratamiento de elección de la enfermedad...   3  2020  "
      ]
     },
     "execution_count": 56,
     "metadata": {},
     "output_type": "execute_result"
    }
   ],
   "source": [
    "processed_exam_df_filtered.head(10)"
   ]
  },
  {
   "cell_type": "code",
   "execution_count": 57,
   "metadata": {},
   "outputs": [
    {
     "data": {
      "application/vnd.microsoft.datawrangler.viewer.v0+json": {
       "columns": [
        {
         "name": "index",
         "rawType": "int64",
         "type": "integer"
        },
        {
         "name": "Question",
         "rawType": "object",
         "type": "string"
        },
        {
         "name": "Option_1",
         "rawType": "object",
         "type": "string"
        },
        {
         "name": "Option_2",
         "rawType": "object",
         "type": "string"
        },
        {
         "name": "Option_3",
         "rawType": "object",
         "type": "string"
        },
        {
         "name": "Option_4",
         "rawType": "object",
         "type": "string"
        },
        {
         "name": "RC",
         "rawType": "int32",
         "type": "integer"
        },
        {
         "name": "year",
         "rawType": "int64",
         "type": "integer"
        }
       ],
       "conversionMethod": "pd.DataFrame",
       "ref": "b3c622ac-c459-4ea0-9909-e209b0c50657",
       "rows": [
        [
         "86",
         "169. ¿Dónde se produce la activación de los linfocitos T específica para un antígeno?:",
         "1. En los ganglios linfáticos, a través del contacto con las células dendríticas.",
         "2. En cualquier sitio donde se encuentren con el antígeno.",
         "3. En cualquier sitio donde encuentren una célula dendrítica inmadura.",
         "4. En el sitio de infección, al entrar en contacto con el patógeno.",
         "1",
         "2020"
        ],
        [
         "87",
         "170. Los antígenos multivalentes de origen microbiano pueden activar los linfocitos B a través del receptor del:",
         "1. Linfocito B (BCR) de señales proporcionadas por la unión de productos microbianos a receptores de reconocimiento del patrón y con la ayuda imprescindible de los linfocitos T.",
         "2. Linfocito B (BCR) y de señales proporcionadas por la unión de productos microbianos a receptores de reconocimiento del patrón, pero sin la ayuda del linfocito T.",
         "3. Linfocito T (TCR) y de señales proporcionadas por la unión de productos microbianos a receptores de reconocimiento del patrón.",
         "4. Linfocito B (BCR) y de citoquinas proporcionadas por los linfocitos T CD8+ colaboradores.",
         "2",
         "2020"
        ],
        [
         "88",
         "171. Las células B se activan y se diferencian hacia células plasmáticas secretoras de anticuerpos de alta afinidad en:",
         "1. El timo.",
         "2. Los ganglios linfáticos.",
         "3. La medula ósea.",
         "4. El momento en que el antígeno se une al TCR y reciben estimulación de una célula dendrítica.",
         "2",
         "2020"
        ],
        [
         "89",
         "172. Los linfocitos T con TCR alfa/beta, CD4+ o CD8+ predominan en la periferia, pero existen otras subpoblaciones. ¿Cuáles son los TCRs y los ligandos principales de estas subpoblaciones?:",
         "1. Células: T CD8+ - TCRalfa/beta. Ligandos: péptidos presentados por MHC-II.",
         "2. Células: T CD4+ reguladoras - TCRalfa/beta. Ligandos no peptídicos y no restringidos por MHC.",
         "3. Células: T gamma-delta – TCRgamma/delta. Ligandos: péptidos hidrofóbicos presentados por MHC-II.",
         "4. Células: NKT - TCRalfa/beta. Ligandos: lípidos presentados por CD1.",
         "4",
         "2020"
        ],
        [
         "90",
         "173. Se entiende por opsonización:",
         "1. El mecanismo de la inmunidad natural de lisis de patógenos mediado por la lisozima.",
         "2. La fijación de proteínas del complemento y/o anticuerpos en la superficie de antígenos particulados para facilitar su fagocitosis.",
         "3. La fijación de citocinas en la superficie de antígenos particulados, que facilitan su fagocitosis.",
         "4. La interacción de anticuerpos con los receptores Fc expresados en las células fagocíticas (ADCC), que facilitan la fagocitosis.",
         "2",
         "2020"
        ],
        [
         "91",
         "174. ¿Cuál de las siguientes relaciones entre moléculas y función es INCORRECTA?:",
         "1. TCR-CD4 - péptido/MHC II, primera señal de activación de los linfocitos T colaboradores.",
         "2. TCR-CD8 - péptido/MHC I, primera señal de activación de los linfocitos T citotóxicos.",
         "3. CTLA4 - CD80/86, segunda señal de activación de los linfocitos T colaboradores.",
         "4. CD40 - CD40L, segunda señal de activación de los linfocitos B.",
         "3",
         "2020"
        ],
        [
         "92",
         "175. El procesamiento general de los antígenos exógenos se produce:",
         "1. Después de la presentación por las APC.",
         "2. Por todas las células nucleadas del organismo.",
         "3. En los compartimentos endosomales con pH bajo.",
         "4. En forma de péptidos por enzimas proteolíticas del citosol.",
         "3",
         "2020"
        ],
        [
         "93",
         "176. La susceptibilidad a desarrollar una reacción alérgica puede ser hereditaria debido a una predisposición genética que favorece la producción de anticuerpos IgE. Sin embargo, el antígeno al que un individuo es alérgico no se hereda. ¿Cuál de las afirmaciones siguientes explica mejor esta aparente contradicción?:",
         "1. El repertorio de linfocitos B del progenitor no se hereda; el reordenamiento del BCR es al azar e independiente del antígeno.",
         "2. Se heredan las moléculas del MHC, que son las que presentan el alérgeno a las células B.",
         "3. El repertorio de linfocitos B en individuos atópicos es sesgado y por ello siempre habrá IgEs específicas para el alérgeno.",
         "4. En respuesta al alérgeno, los individuos atópicos producen más IL-4, que induce el cambio de isotipo a IgE.",
         "4",
         "2020"
        ],
        [
         "94",
         "177. Señale cuál de estas afirmaciones NO es cierta con respecto al coeficiente de correlación de Spearman:",
         "1. Se utiliza para comprobar relaciones lineales.",
         "2. Se utiliza para comparar variables cuantitativas.",
         "3. Está muy afectado por los valores anormalmente alejados de los valores centrales.",
         "4. Se calcula a partir de ordenaciones de valores.",
         "3",
         "2020"
        ],
        [
         "95",
         "178. ¿Cuál de las siguientes afirmaciones sobre la brucelosis es correcta?:",
         "1. Se conoce también como enfermedad de Carrión.",
         "2. Es una enfermedad endémica en la cuenca mediterránea.",
         "3. El tratamiento de elección es doxiciclina combinada con rifampicina durante al menos 2 semanas.",
         "4. Es una enfermedad exclusivamente humana.",
         "2",
         "2020"
        ]
       ],
       "shape": {
        "columns": 7,
        "rows": 10
       }
      },
      "text/html": [
       "<div>\n",
       "<style scoped>\n",
       "    .dataframe tbody tr th:only-of-type {\n",
       "        vertical-align: middle;\n",
       "    }\n",
       "\n",
       "    .dataframe tbody tr th {\n",
       "        vertical-align: top;\n",
       "    }\n",
       "\n",
       "    .dataframe thead th {\n",
       "        text-align: right;\n",
       "    }\n",
       "</style>\n",
       "<table border=\"1\" class=\"dataframe\">\n",
       "  <thead>\n",
       "    <tr style=\"text-align: right;\">\n",
       "      <th></th>\n",
       "      <th>Question</th>\n",
       "      <th>Option_1</th>\n",
       "      <th>Option_2</th>\n",
       "      <th>Option_3</th>\n",
       "      <th>Option_4</th>\n",
       "      <th>RC</th>\n",
       "      <th>year</th>\n",
       "    </tr>\n",
       "  </thead>\n",
       "  <tbody>\n",
       "    <tr>\n",
       "      <th>86</th>\n",
       "      <td>169. ¿Dónde se produce la activación de los li...</td>\n",
       "      <td>1. En los ganglios linfáticos, a través del co...</td>\n",
       "      <td>2. En cualquier sitio donde se encuentren con ...</td>\n",
       "      <td>3. En cualquier sitio donde encuentren una cél...</td>\n",
       "      <td>4. En el sitio de infección, al entrar en cont...</td>\n",
       "      <td>1</td>\n",
       "      <td>2020</td>\n",
       "    </tr>\n",
       "    <tr>\n",
       "      <th>87</th>\n",
       "      <td>170. Los antígenos multivalentes de origen mic...</td>\n",
       "      <td>1. Linfocito B (BCR) de señales proporcionadas...</td>\n",
       "      <td>2. Linfocito B (BCR) y de señales proporcionad...</td>\n",
       "      <td>3. Linfocito T (TCR) y de señales proporcionad...</td>\n",
       "      <td>4. Linfocito B (BCR) y de citoquinas proporcio...</td>\n",
       "      <td>2</td>\n",
       "      <td>2020</td>\n",
       "    </tr>\n",
       "    <tr>\n",
       "      <th>88</th>\n",
       "      <td>171. Las células B se activan y se diferencian...</td>\n",
       "      <td>1. El timo.</td>\n",
       "      <td>2. Los ganglios linfáticos.</td>\n",
       "      <td>3. La medula ósea.</td>\n",
       "      <td>4. El momento en que el antígeno se une al TCR...</td>\n",
       "      <td>2</td>\n",
       "      <td>2020</td>\n",
       "    </tr>\n",
       "    <tr>\n",
       "      <th>89</th>\n",
       "      <td>172. Los linfocitos T con TCR alfa/beta, CD4+ ...</td>\n",
       "      <td>1. Células: T CD8+ - TCRalfa/beta. Ligandos: p...</td>\n",
       "      <td>2. Células: T CD4+ reguladoras - TCRalfa/beta....</td>\n",
       "      <td>3. Células: T gamma-delta – TCRgamma/delta. Li...</td>\n",
       "      <td>4. Células: NKT - TCRalfa/beta. Ligandos: lípi...</td>\n",
       "      <td>4</td>\n",
       "      <td>2020</td>\n",
       "    </tr>\n",
       "    <tr>\n",
       "      <th>90</th>\n",
       "      <td>173. Se entiende por opsonización:</td>\n",
       "      <td>1. El mecanismo de la inmunidad natural de lis...</td>\n",
       "      <td>2. La fijación de proteínas del complemento y/...</td>\n",
       "      <td>3. La fijación de citocinas en la superficie d...</td>\n",
       "      <td>4. La interacción de anticuerpos con los recep...</td>\n",
       "      <td>2</td>\n",
       "      <td>2020</td>\n",
       "    </tr>\n",
       "    <tr>\n",
       "      <th>91</th>\n",
       "      <td>174. ¿Cuál de las siguientes relaciones entre ...</td>\n",
       "      <td>1. TCR-CD4 - péptido/MHC II, primera señal de ...</td>\n",
       "      <td>2. TCR-CD8 - péptido/MHC I, primera señal de a...</td>\n",
       "      <td>3. CTLA4 - CD80/86, segunda señal de activació...</td>\n",
       "      <td>4. CD40 - CD40L, segunda señal de activación d...</td>\n",
       "      <td>3</td>\n",
       "      <td>2020</td>\n",
       "    </tr>\n",
       "    <tr>\n",
       "      <th>92</th>\n",
       "      <td>175. El procesamiento general de los antígenos...</td>\n",
       "      <td>1. Después de la presentación por las APC.</td>\n",
       "      <td>2. Por todas las células nucleadas del organismo.</td>\n",
       "      <td>3. En los compartimentos endosomales con pH bajo.</td>\n",
       "      <td>4. En forma de péptidos por enzimas proteolíti...</td>\n",
       "      <td>3</td>\n",
       "      <td>2020</td>\n",
       "    </tr>\n",
       "    <tr>\n",
       "      <th>93</th>\n",
       "      <td>176. La susceptibilidad a desarrollar una reac...</td>\n",
       "      <td>1. El repertorio de linfocitos B del progenito...</td>\n",
       "      <td>2. Se heredan las moléculas del MHC, que son l...</td>\n",
       "      <td>3. El repertorio de linfocitos B en individuos...</td>\n",
       "      <td>4. En respuesta al alérgeno, los individuos at...</td>\n",
       "      <td>4</td>\n",
       "      <td>2020</td>\n",
       "    </tr>\n",
       "    <tr>\n",
       "      <th>94</th>\n",
       "      <td>177. Señale cuál de estas afirmaciones NO es c...</td>\n",
       "      <td>1. Se utiliza para comprobar relaciones lineales.</td>\n",
       "      <td>2. Se utiliza para comparar variables cuantita...</td>\n",
       "      <td>3. Está muy afectado por los valores anormalme...</td>\n",
       "      <td>4. Se calcula a partir de ordenaciones de valo...</td>\n",
       "      <td>3</td>\n",
       "      <td>2020</td>\n",
       "    </tr>\n",
       "    <tr>\n",
       "      <th>95</th>\n",
       "      <td>178. ¿Cuál de las siguientes afirmaciones sobr...</td>\n",
       "      <td>1. Se conoce también como enfermedad de Carrión.</td>\n",
       "      <td>2. Es una enfermedad endémica en la cuenca med...</td>\n",
       "      <td>3. El tratamiento de elección es doxiciclina c...</td>\n",
       "      <td>4. Es una enfermedad exclusivamente humana.</td>\n",
       "      <td>2</td>\n",
       "      <td>2020</td>\n",
       "    </tr>\n",
       "  </tbody>\n",
       "</table>\n",
       "</div>"
      ],
      "text/plain": [
       "                                             Question  \\\n",
       "86  169. ¿Dónde se produce la activación de los li...   \n",
       "87  170. Los antígenos multivalentes de origen mic...   \n",
       "88  171. Las células B se activan y se diferencian...   \n",
       "89  172. Los linfocitos T con TCR alfa/beta, CD4+ ...   \n",
       "90                 173. Se entiende por opsonización:   \n",
       "91  174. ¿Cuál de las siguientes relaciones entre ...   \n",
       "92  175. El procesamiento general de los antígenos...   \n",
       "93  176. La susceptibilidad a desarrollar una reac...   \n",
       "94  177. Señale cuál de estas afirmaciones NO es c...   \n",
       "95  178. ¿Cuál de las siguientes afirmaciones sobr...   \n",
       "\n",
       "                                             Option_1  \\\n",
       "86  1. En los ganglios linfáticos, a través del co...   \n",
       "87  1. Linfocito B (BCR) de señales proporcionadas...   \n",
       "88                                        1. El timo.   \n",
       "89  1. Células: T CD8+ - TCRalfa/beta. Ligandos: p...   \n",
       "90  1. El mecanismo de la inmunidad natural de lis...   \n",
       "91  1. TCR-CD4 - péptido/MHC II, primera señal de ...   \n",
       "92         1. Después de la presentación por las APC.   \n",
       "93  1. El repertorio de linfocitos B del progenito...   \n",
       "94  1. Se utiliza para comprobar relaciones lineales.   \n",
       "95   1. Se conoce también como enfermedad de Carrión.   \n",
       "\n",
       "                                             Option_2  \\\n",
       "86  2. En cualquier sitio donde se encuentren con ...   \n",
       "87  2. Linfocito B (BCR) y de señales proporcionad...   \n",
       "88                        2. Los ganglios linfáticos.   \n",
       "89  2. Células: T CD4+ reguladoras - TCRalfa/beta....   \n",
       "90  2. La fijación de proteínas del complemento y/...   \n",
       "91  2. TCR-CD8 - péptido/MHC I, primera señal de a...   \n",
       "92  2. Por todas las células nucleadas del organismo.   \n",
       "93  2. Se heredan las moléculas del MHC, que son l...   \n",
       "94  2. Se utiliza para comparar variables cuantita...   \n",
       "95  2. Es una enfermedad endémica en la cuenca med...   \n",
       "\n",
       "                                             Option_3  \\\n",
       "86  3. En cualquier sitio donde encuentren una cél...   \n",
       "87  3. Linfocito T (TCR) y de señales proporcionad...   \n",
       "88                                 3. La medula ósea.   \n",
       "89  3. Células: T gamma-delta – TCRgamma/delta. Li...   \n",
       "90  3. La fijación de citocinas en la superficie d...   \n",
       "91  3. CTLA4 - CD80/86, segunda señal de activació...   \n",
       "92  3. En los compartimentos endosomales con pH bajo.   \n",
       "93  3. El repertorio de linfocitos B en individuos...   \n",
       "94  3. Está muy afectado por los valores anormalme...   \n",
       "95  3. El tratamiento de elección es doxiciclina c...   \n",
       "\n",
       "                                             Option_4  RC  year  \n",
       "86  4. En el sitio de infección, al entrar en cont...   1  2020  \n",
       "87  4. Linfocito B (BCR) y de citoquinas proporcio...   2  2020  \n",
       "88  4. El momento en que el antígeno se une al TCR...   2  2020  \n",
       "89  4. Células: NKT - TCRalfa/beta. Ligandos: lípi...   4  2020  \n",
       "90  4. La interacción de anticuerpos con los recep...   2  2020  \n",
       "91  4. CD40 - CD40L, segunda señal de activación d...   3  2020  \n",
       "92  4. En forma de péptidos por enzimas proteolíti...   3  2020  \n",
       "93  4. En respuesta al alérgeno, los individuos at...   4  2020  \n",
       "94  4. Se calcula a partir de ordenaciones de valo...   3  2020  \n",
       "95        4. Es una enfermedad exclusivamente humana.   2  2020  "
      ]
     },
     "execution_count": 57,
     "metadata": {},
     "output_type": "execute_result"
    }
   ],
   "source": [
    "processed_exam_df_filtered.tail(10)"
   ]
  },
  {
   "cell_type": "markdown",
   "metadata": {},
   "source": [
    "# Data Loading"
   ]
  },
  {
   "cell_type": "markdown",
   "metadata": {},
   "source": [
    "## Saving in csv file\n",
    "\n",
    "The `processed_exam_df_filtered` DataFrame, containing the cleaned and transformed exam data, is saved to a CSV file with the name generatd in the first step in the \"data\" directory. The `index=False` argument ensures that the DataFrame index is not written to the file, resulting in a cleaner output. This CSV file can be used for further analysis or as input for other applications."
   ]
  },
  {
   "cell_type": "code",
   "execution_count": 58,
   "metadata": {},
   "outputs": [],
   "source": [
    "processed_exam_df_filtered.to_csv(save_format, index= False)"
   ]
  },
  {
   "cell_type": "markdown",
   "metadata": {},
   "source": [
    "## Writing into data warehouse\n",
    "\n",
    "This section details the process of loading the cleaned and transformed exam data into an SQLite database, serving as a data warehouse for further analysis and querying.\n",
    "\n",
    "**1. Database Connection and Path:**\n",
    "\n",
    "The path to the SQLite database file is defined, and a connection is established using the `sqlite3` library."
   ]
  },
  {
   "cell_type": "code",
   "execution_count": 59,
   "metadata": {},
   "outputs": [],
   "source": [
    "db_path: str = \"../data/clean/bir_warehouse.db\""
   ]
  },
  {
   "cell_type": "markdown",
   "metadata": {},
   "source": [
    "**2. SQL Queries Definition:**\n",
    "\n",
    "Two SQL queries are defined: one for inserting questions into the questions table and another for inserting options into the questions_options table."
   ]
  },
  {
   "cell_type": "code",
   "execution_count": 60,
   "metadata": {},
   "outputs": [],
   "source": [
    "query_question: str = \"\"\"\n",
    "INSERT INTO questions (exam_year, exam_subject, question) \n",
    "VALUES((SELECT id_year FROM year WHERE year_name = ?),\n",
    "    (SELECT id_type FROM exam WHERE exam_type = ?),\n",
    "    ?);\n",
    "\"\"\"\n",
    "\n",
    "query_options: str = \"\"\"\n",
    "INSERT INTO questions_options (question_id, option_num, option_text, is_correct)\n",
    "VALUES((SELECT id FROM questions WHERE question = ?),\n",
    "    ?,\n",
    "    ?,\n",
    "    ?)\n",
    "\"\"\""
   ]
  },
  {
   "cell_type": "markdown",
   "metadata": {},
   "source": [
    "**3. Database Interaction and Data Insertion:**\n",
    "\n",
    "A with statement is used to establish a connection to the SQLite database, ensuring that the connection is properly closed after use. A cursor is created, and the processed_exam_df DataFrame is iterated over to insert each question and its options"
   ]
  },
  {
   "cell_type": "code",
   "execution_count": 61,
   "metadata": {},
   "outputs": [],
   "source": [
    "\n",
    "with sqlite3.connect(db_path) as bir_warehouse:\n",
    "    cur = bir_warehouse.cursor()\n",
    "    for question in processed_exam_df_filtered.itertuples():\n",
    "        cur.execute(query_question, (str(question[7]), exam_acronym, question[1]))\n",
    "        bir_warehouse.commit()\n",
    "        for n, option in enumerate(question[2:6]):\n",
    "            cur.execute(query_options, (question[1], n+1, option, n+1 == question[6]))\n",
    "            bir_warehouse.commit()"
   ]
  }
 ],
 "metadata": {
  "colab": {
   "provenance": []
  },
  "kernelspec": {
   "display_name": "bir_etl",
   "language": "python",
   "name": "python3"
  },
  "language_info": {
   "codemirror_mode": {
    "name": "ipython",
    "version": 3
   },
   "file_extension": ".py",
   "mimetype": "text/x-python",
   "name": "python",
   "nbconvert_exporter": "python",
   "pygments_lexer": "ipython3",
   "version": "3.12.7"
  }
 },
 "nbformat": 4,
 "nbformat_minor": 4
}
