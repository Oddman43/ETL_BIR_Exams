{
 "cells": [
  {
   "cell_type": "markdown",
   "metadata": {
    "editable": true,
    "id": "56vKIohe8Jou",
    "slideshow": {
     "slide_type": ""
    },
    "tags": []
   },
   "source": [
    "# Data Extraction\n",
    "This section details the process of extracting question data from a PDF file and corresponding answer keys from a TSV file."
   ]
  },
  {
   "cell_type": "markdown",
   "metadata": {
    "id": "8kRORmWM8Joy"
   },
   "source": [
    "## Importing libraries"
   ]
  },
  {
   "cell_type": "markdown",
   "metadata": {},
   "source": [
    "* Pandas for data manipulation\n",
    "* NumPy for the NaN datatype\n",
    "* PyPDF for its ability to read the pfd files, although it requieres post-processing of the extracted text\n",
    "* sqlite3 to create load the clean data into `bir_warehouse.db`"
   ]
  },
  {
   "cell_type": "code",
   "execution_count": 1,
   "metadata": {
    "colab": {
     "base_uri": "https://localhost:8080/"
    },
    "id": "y8DpYYll8Joz",
    "outputId": "40cac5b3-1153-431b-f780-201aa62b5813"
   },
   "outputs": [],
   "source": [
    "import pandas as pd\n",
    "import numpy as np\n",
    "from pypdf import PdfReader\n",
    "import sqlite3"
   ]
  },
  {
   "cell_type": "markdown",
   "metadata": {},
   "source": [
    "## Selecting year and type of exam"
   ]
  },
  {
   "cell_type": "markdown",
   "metadata": {},
   "source": [
    "This function, `compute_expected_rows`, takes the exam year and topic as input and returns metadata crucial for subsequent data cleaning and loading steps. This metadata includes the expected maximum number of rows in the final DataFrame, the number of questions per exam, and the acronym for the exam type.  The maximum number of rows is calculated based on the number of questions and options per question for each year, following a specific pattern:\n",
    "\n",
    "*   2024-2021: 210 questions, 4 options each\n",
    "*   2020-2019: 185 questions, 4 options each\n",
    "*   2018-2015: 235 questions, 4 options each\n",
    "*   2014-2012: 235 questions, 5 options each\n",
    "*   2011-2004: 260 questions, 5 options each\n",
    "\n",
    "This information is essential for validating data integrity during the ETL process.  For example, the expected row count helps verify that all questions and options have been correctly extracted and transformed. The exam type acronym aids in consistent file naming and data organization."
   ]
  },
  {
   "cell_type": "code",
   "execution_count": 2,
   "metadata": {},
   "outputs": [],
   "source": [
    "def compute_expected_rows(year: int, topic: str) -> tuple:\n",
    "    \"\"\"Computes and returns metadata about the exam for a given year and topic\n",
    "\n",
    "    Args:\n",
    "        year (int): The year of the exam\n",
    "        topic (str): The topic of the exam\n",
    "\n",
    "    Returns:\n",
    "        tuple: Contains:\n",
    "            - max_rows: The expected maximum number of rows in the DataFrame\n",
    "            - num_options: The number of questions in the exam\n",
    "            - exam_type_acronym: The acronym for the exam type\n",
    "\n",
    "    \"\"\"\n",
    "    info_year_dict: dict = {\n",
    "        2011: [260, 5],\n",
    "        2014: [235, 5],\n",
    "        2018: [235, 4],\n",
    "        2020: [185, 4],\n",
    "        2021: [210, 4],\n",
    "    }\n",
    "    save_name_dict: dict = {\n",
    "        \"BIOLOGÍA\": \"bir\",\n",
    "        \"FARMACIA\": \"fir\",\n",
    "        \"QUÍMICA\": \"qir\",\n",
    "        \"MEDICINA\": \"mir\",\n",
    "    }\n",
    "    max_rows: int = 0\n",
    "    num_options: int = 0\n",
    "    for target_year, info_list in info_year_dict.items():\n",
    "        if year <= target_year:\n",
    "            max_rows = (info_list[0] * info_list[1]) + info_list[0]\n",
    "            num_options = info_list[1]\n",
    "            break\n",
    "    else:\n",
    "        max_rows = 1050\n",
    "        num_options = 4\n",
    "    return max_rows, num_options, save_name_dict[topic]"
   ]
  },
  {
   "cell_type": "markdown",
   "metadata": {},
   "source": [
    "### Add year of the exam and topic "
   ]
  },
  {
   "cell_type": "code",
   "execution_count": 3,
   "metadata": {},
   "outputs": [],
   "source": [
    "year: int = 2020\n",
    "topic: str = \"QUÍMICA\" # Select from: BIOLOGÍA, FARMACIA, QUÍMICA, MEDICINA\n",
    "total_num_rows: int\n",
    "num_questions: int\n",
    "exam_acronym: str\n",
    "total_num_rows, num_questions, exam_acronym = compute_expected_rows(year, topic)\n",
    "save_format: str = f\"../data/clean/clean_{exam_acronym}_{year}.csv\""
   ]
  },
  {
   "cell_type": "markdown",
   "metadata": {
    "id": "Z1Kjq5ue8Jo1"
   },
   "source": [
    "## Extracting Questions from Pdf file"
   ]
  },
  {
   "cell_type": "markdown",
   "metadata": {},
   "source": [
    "This section focuses on extracting the textual content of the exam questions from the provided PDF file.\n",
    "\n",
    "**Path Definition:**\n",
    "\n",
    "The path to the PDF file is dynamically constructed using the provided `year` and `topic` variables. This ensures flexibility and allows the script to process different exam files without manual path adjustments.\n",
    "\n",
    "Finally it stores the output in a DataFrame and the first 10 rows of the resulting DataFrame are displayed for a quick preview of the loaded data."
   ]
  },
  {
   "cell_type": "code",
   "execution_count": 4,
   "metadata": {
    "id": "AB4M4yfr8Jo3"
   },
   "outputs": [
    {
     "data": {
      "application/vnd.microsoft.datawrangler.viewer.v0+json": {
       "columns": [
        {
         "name": "index",
         "rawType": "int64",
         "type": "integer"
        },
        {
         "name": "text",
         "rawType": "object",
         "type": "string"
        }
       ],
       "conversionMethod": "pd.DataFrame",
       "ref": "e30569dd-a748-46ce-8f67-d0ad88ae4243",
       "rows": [
        [
         "0",
         " "
        ],
        [
         "1",
         "- 1 - "
        ],
        [
         "2",
         "1. En cuanto a las características estructurales del "
        ],
        [
         "3",
         "DNA, señale la respuesta correcta: "
        ],
        [
         "4",
         " "
        ],
        [
         "5",
         "1. La forma A tiene 24 pares de bases por vuelta heli-"
        ],
        [
         "6",
         "coidal. "
        ],
        [
         "7",
         "2. La estructura de la forma B es más corta y gruesa "
        ],
        [
         "8",
         "que las formas A y Z. "
        ],
        [
         "9",
         "3. En la forma B, el desplazamiento por residuo es de "
        ]
       ],
       "shape": {
        "columns": 1,
        "rows": 10
       }
      },
      "text/html": [
       "<div>\n",
       "<style scoped>\n",
       "    .dataframe tbody tr th:only-of-type {\n",
       "        vertical-align: middle;\n",
       "    }\n",
       "\n",
       "    .dataframe tbody tr th {\n",
       "        vertical-align: top;\n",
       "    }\n",
       "\n",
       "    .dataframe thead th {\n",
       "        text-align: right;\n",
       "    }\n",
       "</style>\n",
       "<table border=\"1\" class=\"dataframe\">\n",
       "  <thead>\n",
       "    <tr style=\"text-align: right;\">\n",
       "      <th></th>\n",
       "      <th>text</th>\n",
       "    </tr>\n",
       "  </thead>\n",
       "  <tbody>\n",
       "    <tr>\n",
       "      <th>0</th>\n",
       "      <td></td>\n",
       "    </tr>\n",
       "    <tr>\n",
       "      <th>1</th>\n",
       "      <td>- 1 -</td>\n",
       "    </tr>\n",
       "    <tr>\n",
       "      <th>2</th>\n",
       "      <td>1. En cuanto a las características estructural...</td>\n",
       "    </tr>\n",
       "    <tr>\n",
       "      <th>3</th>\n",
       "      <td>DNA, señale la respuesta correcta:</td>\n",
       "    </tr>\n",
       "    <tr>\n",
       "      <th>4</th>\n",
       "      <td></td>\n",
       "    </tr>\n",
       "    <tr>\n",
       "      <th>5</th>\n",
       "      <td>1. La forma A tiene 24 pares de bases por vuel...</td>\n",
       "    </tr>\n",
       "    <tr>\n",
       "      <th>6</th>\n",
       "      <td>coidal.</td>\n",
       "    </tr>\n",
       "    <tr>\n",
       "      <th>7</th>\n",
       "      <td>2. La estructura de la forma B es más corta y ...</td>\n",
       "    </tr>\n",
       "    <tr>\n",
       "      <th>8</th>\n",
       "      <td>que las formas A y Z.</td>\n",
       "    </tr>\n",
       "    <tr>\n",
       "      <th>9</th>\n",
       "      <td>3. En la forma B, el desplazamiento por residu...</td>\n",
       "    </tr>\n",
       "  </tbody>\n",
       "</table>\n",
       "</div>"
      ],
      "text/plain": [
       "                                                text\n",
       "0                                                   \n",
       "1                                             - 1 - \n",
       "2  1. En cuanto a las características estructural...\n",
       "3                DNA, señale la respuesta correcta: \n",
       "4                                                   \n",
       "5  1. La forma A tiene 24 pares de bases por vuel...\n",
       "6                                           coidal. \n",
       "7  2. La estructura de la forma B es más corta y ...\n",
       "8                             que las formas A y Z. \n",
       "9  3. En la forma B, el desplazamiento por residu..."
      ]
     },
     "execution_count": 4,
     "metadata": {},
     "output_type": "execute_result"
    }
   ],
   "source": [
    "path: str = f\"../data/raw/type_1/Raw_Cuaderno_{year}_{topic}_0_C.pdf\"\n",
    "with PdfReader(path) as pdf_file:\n",
    "    full_text: list = []\n",
    "    for n in range(2, len(pdf_file.pages)):\n",
    "        page = pdf_file.pages[n]\n",
    "        text: str = page.extract_text()\n",
    "        full_text.extend(text.splitlines())\n",
    "raw_exam_df: pd.DataFrame = pd.DataFrame(full_text, columns=[\"text\"])\n",
    "raw_exam_df.head(10)"
   ]
  },
  {
   "cell_type": "markdown",
   "metadata": {
    "id": "IBhc5aFQ8Jo6"
   },
   "source": [
    "## Extracting Answers from .tsv file into a DataFrame"
   ]
  },
  {
   "cell_type": "markdown",
   "metadata": {},
   "source": [
    "This section focuses on extracting the answer key data from the provided .tsv file and loading it into a Pandas DataFrame.\n",
    "\n",
    "**Path Definition and Data Loading:**\n",
    "\n",
    "The path to the .tsv file is dynamically constructed using the `year` and `topic` variables, mirroring the approach used for the PDF file. This ensures consistency and flexibility in processing different exam files. \n",
    "\n",
    "The `pd.read_table()` function is then used to read the .tsv file directly into a Pandas DataFrame. Finally, the first 10 rows of the resulting DataFrame are displayed for a quick preview of the loaded data."
   ]
  },
  {
   "cell_type": "code",
   "execution_count": 5,
   "metadata": {
    "colab": {
     "base_uri": "https://localhost:8080/",
     "height": 206
    },
    "id": "O1ouB9mQ8Jo7",
    "outputId": "70b7615d-9c90-4f2d-b9e1-a5c86b507ef6"
   },
   "outputs": [
    {
     "data": {
      "application/vnd.microsoft.datawrangler.viewer.v0+json": {
       "columns": [
        {
         "name": "index",
         "rawType": "int64",
         "type": "integer"
        },
        {
         "name": "V",
         "rawType": "int64",
         "type": "integer"
        },
        {
         "name": "RC",
         "rawType": "float64",
         "type": "float"
        },
        {
         "name": "V.1",
         "rawType": "int64",
         "type": "integer"
        },
        {
         "name": "RC.1",
         "rawType": "float64",
         "type": "float"
        },
        {
         "name": "V.2",
         "rawType": "int64",
         "type": "integer"
        },
        {
         "name": "RC.2",
         "rawType": "int64",
         "type": "integer"
        },
        {
         "name": "V.3",
         "rawType": "int64",
         "type": "integer"
        },
        {
         "name": "RC.3",
         "rawType": "float64",
         "type": "float"
        },
        {
         "name": "V.4",
         "rawType": "int64",
         "type": "integer"
        },
        {
         "name": "RC.4",
         "rawType": "float64",
         "type": "float"
        }
       ],
       "conversionMethod": "pd.DataFrame",
       "ref": "6dbcb585-ac24-42aa-a515-4223c8883fe0",
       "rows": [
        [
         "0",
         "1",
         "3.0",
         "38",
         "2.0",
         "75",
         "4",
         "112",
         "3.0",
         "149",
         "1.0"
        ],
        [
         "1",
         "2",
         "2.0",
         "39",
         "2.0",
         "76",
         "1",
         "113",
         null,
         "150",
         "2.0"
        ],
        [
         "2",
         "3",
         "1.0",
         "40",
         "4.0",
         "77",
         "2",
         "114",
         "1.0",
         "151",
         "2.0"
        ],
        [
         "3",
         "4",
         "3.0",
         "41",
         null,
         "78",
         "3",
         "115",
         "4.0",
         "152",
         "2.0"
        ],
        [
         "4",
         "5",
         "4.0",
         "42",
         "4.0",
         "79",
         "4",
         "116",
         "1.0",
         "153",
         "4.0"
        ],
        [
         "5",
         "6",
         "3.0",
         "43",
         "1.0",
         "80",
         "1",
         "117",
         "3.0",
         "154",
         "2.0"
        ],
        [
         "6",
         "7",
         "1.0",
         "44",
         "2.0",
         "81",
         "2",
         "118",
         "2.0",
         "155",
         "4.0"
        ],
        [
         "7",
         "8",
         "3.0",
         "45",
         "4.0",
         "82",
         "3",
         "119",
         "2.0",
         "156",
         "4.0"
        ],
        [
         "8",
         "9",
         "4.0",
         "46",
         "1.0",
         "83",
         "3",
         "120",
         "1.0",
         "157",
         "2.0"
        ],
        [
         "9",
         "10",
         "4.0",
         "47",
         "4.0",
         "84",
         "4",
         "121",
         "3.0",
         "158",
         "3.0"
        ]
       ],
       "shape": {
        "columns": 10,
        "rows": 10
       }
      },
      "text/html": [
       "<div>\n",
       "<style scoped>\n",
       "    .dataframe tbody tr th:only-of-type {\n",
       "        vertical-align: middle;\n",
       "    }\n",
       "\n",
       "    .dataframe tbody tr th {\n",
       "        vertical-align: top;\n",
       "    }\n",
       "\n",
       "    .dataframe thead th {\n",
       "        text-align: right;\n",
       "    }\n",
       "</style>\n",
       "<table border=\"1\" class=\"dataframe\">\n",
       "  <thead>\n",
       "    <tr style=\"text-align: right;\">\n",
       "      <th></th>\n",
       "      <th>V</th>\n",
       "      <th>RC</th>\n",
       "      <th>V.1</th>\n",
       "      <th>RC.1</th>\n",
       "      <th>V.2</th>\n",
       "      <th>RC.2</th>\n",
       "      <th>V.3</th>\n",
       "      <th>RC.3</th>\n",
       "      <th>V.4</th>\n",
       "      <th>RC.4</th>\n",
       "    </tr>\n",
       "  </thead>\n",
       "  <tbody>\n",
       "    <tr>\n",
       "      <th>0</th>\n",
       "      <td>1</td>\n",
       "      <td>3.0</td>\n",
       "      <td>38</td>\n",
       "      <td>2.0</td>\n",
       "      <td>75</td>\n",
       "      <td>4</td>\n",
       "      <td>112</td>\n",
       "      <td>3.0</td>\n",
       "      <td>149</td>\n",
       "      <td>1.0</td>\n",
       "    </tr>\n",
       "    <tr>\n",
       "      <th>1</th>\n",
       "      <td>2</td>\n",
       "      <td>2.0</td>\n",
       "      <td>39</td>\n",
       "      <td>2.0</td>\n",
       "      <td>76</td>\n",
       "      <td>1</td>\n",
       "      <td>113</td>\n",
       "      <td>NaN</td>\n",
       "      <td>150</td>\n",
       "      <td>2.0</td>\n",
       "    </tr>\n",
       "    <tr>\n",
       "      <th>2</th>\n",
       "      <td>3</td>\n",
       "      <td>1.0</td>\n",
       "      <td>40</td>\n",
       "      <td>4.0</td>\n",
       "      <td>77</td>\n",
       "      <td>2</td>\n",
       "      <td>114</td>\n",
       "      <td>1.0</td>\n",
       "      <td>151</td>\n",
       "      <td>2.0</td>\n",
       "    </tr>\n",
       "    <tr>\n",
       "      <th>3</th>\n",
       "      <td>4</td>\n",
       "      <td>3.0</td>\n",
       "      <td>41</td>\n",
       "      <td>NaN</td>\n",
       "      <td>78</td>\n",
       "      <td>3</td>\n",
       "      <td>115</td>\n",
       "      <td>4.0</td>\n",
       "      <td>152</td>\n",
       "      <td>2.0</td>\n",
       "    </tr>\n",
       "    <tr>\n",
       "      <th>4</th>\n",
       "      <td>5</td>\n",
       "      <td>4.0</td>\n",
       "      <td>42</td>\n",
       "      <td>4.0</td>\n",
       "      <td>79</td>\n",
       "      <td>4</td>\n",
       "      <td>116</td>\n",
       "      <td>1.0</td>\n",
       "      <td>153</td>\n",
       "      <td>4.0</td>\n",
       "    </tr>\n",
       "    <tr>\n",
       "      <th>5</th>\n",
       "      <td>6</td>\n",
       "      <td>3.0</td>\n",
       "      <td>43</td>\n",
       "      <td>1.0</td>\n",
       "      <td>80</td>\n",
       "      <td>1</td>\n",
       "      <td>117</td>\n",
       "      <td>3.0</td>\n",
       "      <td>154</td>\n",
       "      <td>2.0</td>\n",
       "    </tr>\n",
       "    <tr>\n",
       "      <th>6</th>\n",
       "      <td>7</td>\n",
       "      <td>1.0</td>\n",
       "      <td>44</td>\n",
       "      <td>2.0</td>\n",
       "      <td>81</td>\n",
       "      <td>2</td>\n",
       "      <td>118</td>\n",
       "      <td>2.0</td>\n",
       "      <td>155</td>\n",
       "      <td>4.0</td>\n",
       "    </tr>\n",
       "    <tr>\n",
       "      <th>7</th>\n",
       "      <td>8</td>\n",
       "      <td>3.0</td>\n",
       "      <td>45</td>\n",
       "      <td>4.0</td>\n",
       "      <td>82</td>\n",
       "      <td>3</td>\n",
       "      <td>119</td>\n",
       "      <td>2.0</td>\n",
       "      <td>156</td>\n",
       "      <td>4.0</td>\n",
       "    </tr>\n",
       "    <tr>\n",
       "      <th>8</th>\n",
       "      <td>9</td>\n",
       "      <td>4.0</td>\n",
       "      <td>46</td>\n",
       "      <td>1.0</td>\n",
       "      <td>83</td>\n",
       "      <td>3</td>\n",
       "      <td>120</td>\n",
       "      <td>1.0</td>\n",
       "      <td>157</td>\n",
       "      <td>2.0</td>\n",
       "    </tr>\n",
       "    <tr>\n",
       "      <th>9</th>\n",
       "      <td>10</td>\n",
       "      <td>4.0</td>\n",
       "      <td>47</td>\n",
       "      <td>4.0</td>\n",
       "      <td>84</td>\n",
       "      <td>4</td>\n",
       "      <td>121</td>\n",
       "      <td>3.0</td>\n",
       "      <td>158</td>\n",
       "      <td>3.0</td>\n",
       "    </tr>\n",
       "  </tbody>\n",
       "</table>\n",
       "</div>"
      ],
      "text/plain": [
       "    V   RC  V.1  RC.1  V.2  RC.2  V.3  RC.3  V.4  RC.4\n",
       "0   1  3.0   38   2.0   75     4  112   3.0  149   1.0\n",
       "1   2  2.0   39   2.0   76     1  113   NaN  150   2.0\n",
       "2   3  1.0   40   4.0   77     2  114   1.0  151   2.0\n",
       "3   4  3.0   41   NaN   78     3  115   4.0  152   2.0\n",
       "4   5  4.0   42   4.0   79     4  116   1.0  153   4.0\n",
       "5   6  3.0   43   1.0   80     1  117   3.0  154   2.0\n",
       "6   7  1.0   44   2.0   81     2  118   2.0  155   4.0\n",
       "7   8  3.0   45   4.0   82     3  119   2.0  156   4.0\n",
       "8   9  4.0   46   1.0   83     3  120   1.0  157   2.0\n",
       "9  10  4.0   47   4.0   84     4  121   3.0  158   3.0"
      ]
     },
     "execution_count": 5,
     "metadata": {},
     "output_type": "execute_result"
    }
   ],
   "source": [
    "raw_answers_df: pd.DataFrame = pd.read_table(f\"../data/raw/type_1/Raw_Cuaderno_{year}_{topic}_0_C_Respuestas.tsv\")\n",
    "raw_answers_df.head(10)"
   ]
  },
  {
   "cell_type": "markdown",
   "metadata": {
    "id": "uFFlTADP8Jo7"
   },
   "source": [
    "# Data Transformation"
   ]
  },
  {
   "cell_type": "markdown",
   "metadata": {},
   "source": [
    "## Exam pdf"
   ]
  },
  {
   "cell_type": "markdown",
   "metadata": {},
   "source": [
    "### Removing white space"
   ]
  },
  {
   "cell_type": "markdown",
   "metadata": {
    "id": "2QavIIOK8Jo7"
   },
   "source": [
    "This section focuses on cleaning the raw text extracted from the PDF exam file, preparing it for further processing. This involves removing extraneous whitespace, handling empty lines, and resetting the DataFrame index.\n",
    "\n",
    "**1. Removing Page Number Artifacts:**\n",
    "\n",
    "The extracted text may contain page number artifacts, which are removed by filtering out rows containing the string \"Página\"."
   ]
  },
  {
   "cell_type": "code",
   "execution_count": 6,
   "metadata": {},
   "outputs": [],
   "source": [
    "raw_exam_df = raw_exam_df[~raw_exam_df[\"text\"].str.contains(\"Página\")]\n",
    "raw_exam_df = raw_exam_df[~raw_exam_df[\"text\"].str.contains(\"Pagina\")]\n",
    "raw_exam_df = raw_exam_df[~raw_exam_df[\"text\"].str.contains(topic)]\n",
    "\n",
    "footer_list: list = [f\"- {npag} -\" for npag in range(0,30,1)]\n",
    "\n",
    "for footer in footer_list:\n",
    "    raw_exam_df[\"text\"] = raw_exam_df[\"text\"].str.replace(footer, \"\")"
   ]
  },
  {
   "cell_type": "markdown",
   "metadata": {},
   "source": [
    "**2. Striping Leading/Trailing Whitespaces**\n",
    "\n",
    "Leading and trailing whitespace characters are removed from each text entry using the .str.strip() method."
   ]
  },
  {
   "cell_type": "code",
   "execution_count": 7,
   "metadata": {},
   "outputs": [],
   "source": [
    "raw_exam_df = raw_exam_df[\"text\"].str.strip()"
   ]
  },
  {
   "cell_type": "markdown",
   "metadata": {},
   "source": [
    "**3. Handling Empty Lines**\n",
    "\n",
    "Empty lines, represented as empty strings, are replaced with NaN (Not a Number) values. \n",
    "\n",
    "Then rows containing NaN values, representing empty lines, are removed from the DataFrame using .dropna()"
   ]
  },
  {
   "cell_type": "code",
   "execution_count": 8,
   "metadata": {},
   "outputs": [],
   "source": [
    "raw_exam_df = raw_exam_df.replace(\"\", np.nan)\n",
    "raw_exam_df = raw_exam_df.dropna()"
   ]
  },
  {
   "cell_type": "markdown",
   "metadata": {},
   "source": [
    "**4. Reseting DataFrame Index**\n",
    "\n",
    "The DataFrame index is reset after removing rows, ensuring a contiguous index and dropping the old index."
   ]
  },
  {
   "cell_type": "code",
   "execution_count": 9,
   "metadata": {},
   "outputs": [],
   "source": [
    "raw_exam_df = raw_exam_df.reset_index(drop=True)"
   ]
  },
  {
   "cell_type": "markdown",
   "metadata": {},
   "source": [
    "**5. Displays the first 10 rows of the DataFrame**"
   ]
  },
  {
   "cell_type": "code",
   "execution_count": 10,
   "metadata": {},
   "outputs": [
    {
     "data": {
      "text/plain": [
       "0    1. En cuanto a las características estructural...\n",
       "1                   DNA, señale la respuesta correcta:\n",
       "2    1. La forma A tiene 24 pares de bases por vuel...\n",
       "3                                              coidal.\n",
       "4    2. La estructura de la forma B es más corta y ...\n",
       "5                                que las formas A y Z.\n",
       "6    3. En la forma B, el desplazamiento por residu...\n",
       "7                                          unos 3.4 A.\n",
       "8    4. La forma Z consiste en una doble hélice dex...\n",
       "9    2. La hemólisis afecta sensiblemente a las con...\n",
       "Name: text, dtype: object"
      ]
     },
     "execution_count": 10,
     "metadata": {},
     "output_type": "execute_result"
    }
   ],
   "source": [
    "raw_exam_df.head(10)"
   ]
  },
  {
   "cell_type": "code",
   "execution_count": 11,
   "metadata": {},
   "outputs": [
    {
     "data": {
      "text/plain": [
       "1594                                 4. Errores anómalos.\n",
       "1595    185. ¿Cuál de las siguientes afirmaciones es l...\n",
       "1596                            una reacción enzimática?:\n",
       "1597    1. La enzima empuja a la derecha el equilibrio...\n",
       "1598                                            reacción.\n",
       "1599    2. La enzima cambia el equilibrio constante de la\n",
       "1600                                            reacción.\n",
       "1601       3. La enzima aumenta la velocidad de reacción.\n",
       "1602    4. La enzima altera la diferencia de energía e...\n",
       "1603                              reactantes y productos.\n",
       "Name: text, dtype: object"
      ]
     },
     "execution_count": 11,
     "metadata": {},
     "output_type": "execute_result"
    }
   ],
   "source": [
    "raw_exam_df.tail(10)"
   ]
  },
  {
   "cell_type": "markdown",
   "metadata": {},
   "source": [
    "### Joining Truncated Lines"
   ]
  },
  {
   "cell_type": "markdown",
   "metadata": {},
   "source": [
    "This section addresses the issue of truncated lines and multi-line questions or options within the extracted exam text. A custom function, `process_multi_line_str`, is used to concatenate these lines, ensuring that each question and option is presented as a single, coherent string.\n",
    "\n",
    "**Function: `process_multi_line_str(df)`**\n",
    "\n",
    "This function iterates through the DataFrame, performing two main tasks:\n",
    "\n",
    "1.  **Joining Truncated Words:**\n",
    "    * It checks if a line ends with a hyphen (\"-\"), indicating a word that has been truncated at the end of a line.\n",
    "    * If a line is truncated, it removes the hyphen and appends the content of the following line to the current line.\n",
    "    * The following line is then removed from the DataFrame, and the index is reset.\n",
    "\n",
    "2.  **Joining Multi-Line Questions/Options:**\n",
    "    * It checks if the first character of the next line can be converted to an integer. This is used as a heuristic to identify the start of a new question or option.\n",
    "    * If the next line does not start with an integer (i.e., it's a continuation of the current question or option), it is appended to the current line, separated by a space.\n",
    "    * The next line is then removed, and the index is reset."
   ]
  },
  {
   "cell_type": "code",
   "execution_count": 12,
   "metadata": {
    "id": "rYZHjn_C8Jo8"
   },
   "outputs": [],
   "source": [
    "def process_multi_line_str(df: pd.DataFrame) -> pd.DataFrame:\n",
    "    \"\"\"Function to handle truncated lines\n",
    "\n",
    "    Args:\n",
    "        df (pd.DataFrame): A pandas dataframe\n",
    "\n",
    "    Returns:\n",
    "        pd.DataFrame: Returns the DataFrame without truncated lines\n",
    "    \"\"\"\n",
    "    i: int = 0\n",
    "    while i < len(df) - 1:\n",
    "        if i < len(df) -1  and df.iloc[i].endswith(\"-\"):\n",
    "            df.iloc[i] = df.iloc[i][:-1] + df.iloc[i + 1]\n",
    "            df = df.drop(i + 1)\n",
    "            df = df.reset_index(drop=True)\n",
    "        else:\n",
    "            i += 1\n",
    "    n: int = 0\n",
    "    while n < len(df) -1:\n",
    "        if n + 1 < len(df):\n",
    "            try:\n",
    "                int(df.iloc[n + 1][0:1])\n",
    "                n += 1\n",
    "            except ValueError:\n",
    "                df.iloc[n] = df.iloc[n] + \" \" + df.iloc[n + 1]\n",
    "                df = df.drop(n +1)\n",
    "                df = df.reset_index(drop= True)\n",
    "        else:\n",
    "            break\n",
    "    return df"
   ]
  },
  {
   "cell_type": "markdown",
   "metadata": {},
   "source": [
    "The process_multi_line_str function is applied to the cleaned raw_exam_df DataFrame, and the resulting DataFrame is stored in exam_df_concat. The first few rows of the concatenated DataFrame are displayed to verify the results."
   ]
  },
  {
   "cell_type": "code",
   "execution_count": 13,
   "metadata": {
    "colab": {
     "base_uri": "https://localhost:8080/",
     "height": 206
    },
    "id": "2v6dmQuM8_v1",
    "outputId": "215f5328-a43d-4bbb-f221-fba6fc10a5c1"
   },
   "outputs": [
    {
     "data": {
      "text/plain": [
       "0    1. En cuanto a las características estructural...\n",
       "1    1. La forma A tiene 24 pares de bases por vuel...\n",
       "2    2. La estructura de la forma B es más corta y ...\n",
       "3    3. En la forma B, el desplazamiento por residu...\n",
       "4    4. La forma Z consiste en una doble hélice dex...\n",
       "5    2. La hemólisis afecta sensiblemente a las con...\n",
       "6     1. Aumenta el potasio y bajan el sodio y la LDH.\n",
       "7     2. Aumentan la LDH y el potasio y baja el sodio.\n",
       "8           3. Aumentan el sodio, la LDH y el potasio.\n",
       "9    4. Aumentan la LDH y bajan el sodio y el potasio.\n",
       "Name: text, dtype: object"
      ]
     },
     "execution_count": 13,
     "metadata": {},
     "output_type": "execute_result"
    }
   ],
   "source": [
    "exam_df_concat: pd.DataFrame = process_multi_line_str(raw_exam_df)\n",
    "exam_df_concat.head(10)"
   ]
  },
  {
   "cell_type": "markdown",
   "metadata": {},
   "source": [
    "### Validating and Correction Incorrect Rows"
   ]
  },
  {
   "cell_type": "markdown",
   "metadata": {},
   "source": [
    "This section focuses on validating the number of rows in the cleaned DataFrame against the expected number and correcting any rows that do not conform to the expected format.\n",
    "\n",
    "**1. Calculating Expected and Actual Incorrect Rows:**\n",
    "\n",
    "We calculate the expected number of incorrect rows by subtracting the total expected rows from the current number of rows in the DataFrame. We then identify the actual number of incorrect rows by counting the rows that do not end with a period (\".\"), a colon (\":\") or interrogation sign (\"?\")."
   ]
  },
  {
   "cell_type": "code",
   "execution_count": 14,
   "metadata": {},
   "outputs": [
    {
     "name": "stdout",
     "output_type": "stream",
     "text": [
      "Number of expected incorrect rows = 4\n",
      "Number of rows not ending with '.', ':' or '?' = 12\n",
      "[47, 136, 206, 556, 671, 672, 673, 763, 845, 846, 847, 848]\n"
     ]
    }
   ],
   "source": [
    "num_rows_incorrect_expected: int = len(exam_df_concat) - total_num_rows\n",
    "num_rows_incorrect: int = exam_df_concat[~exam_df_concat.str.endswith((\".\", \":\", \"?\"))].count()\n",
    "id_rows_incorrect: list = exam_df_concat[~exam_df_concat.str.endswith((\".\", \":\", \"?\"))].index.to_list()\n",
    "print(f\"Number of expected incorrect rows = {num_rows_incorrect_expected}\")\n",
    "print(f\"Number of rows not ending with '.', ':' or '?' = {num_rows_incorrect}\")\n",
    "print(id_rows_incorrect)"
   ]
  },
  {
   "cell_type": "markdown",
   "metadata": {},
   "source": [
    "**2. Function: print_rows_incorrrect(wrong_id, df):**\n",
    "\n",
    "This function takes a list of incorrect row indices and the DataFrame as input. It then prints the row identified as incorrect along with the 2 rows before and 2 rows after, providing context to help determine how to fix the error."
   ]
  },
  {
   "cell_type": "code",
   "execution_count": 15,
   "metadata": {},
   "outputs": [],
   "source": [
    "def print_rows_incorrrect(wrong_id: list[int], df: pd.DataFrame) -> None:\n",
    "    \"\"\"Print +/- 2 rows for context\n",
    "\n",
    "    Args:\n",
    "        wrong_id (list): Generated list of wrong row_id\n",
    "        df (pd.DataFrame): DataFrame corresponding with the worng_id list\n",
    "    \"\"\"\n",
    "    for wid in wrong_id:\n",
    "        print(f\"Id to fix {wid}:\")\n",
    "        print(df.iloc[wid -2: wid +3])"
   ]
  },
  {
   "cell_type": "markdown",
   "metadata": {},
   "source": [
    "**3. Function: fix_incorrect(num_row, df):**\n",
    "\n",
    "This function takes a list of row indices to fix and the DataFrame. It iterates through the indices in reverse order to avoid index shifting problems. Each incorrect row is concatenated with the row immediately following it, and the subsequent row is then dropped. The DataFrame index is reset after each concatenation."
   ]
  },
  {
   "cell_type": "code",
   "execution_count": 16,
   "metadata": {},
   "outputs": [],
   "source": [
    "def fix_incorrect(num_row: list[int], df: pd.DataFrame) -> pd.DataFrame:\n",
    "    \"\"\"Fix the incorrect rows in the DataFrame\n",
    "\n",
    "    Args:\n",
    "        num_row (list): List of ids to fix\n",
    "        df (pd.DataFrame): The DataFrame to fix\n",
    "\n",
    "    Returns:\n",
    "        pd.DataFrame: Fixed\n",
    "    \"\"\"\n",
    "    num_row: list = sorted(num_row, reverse=True)\n",
    "    for n in num_row:\n",
    "        df.iloc[n] = df.iloc[n] + df.iloc[n + 1]\n",
    "        df = df.drop(n + 1)\n",
    "        df = df.reset_index(drop= True)\n",
    "    return df"
   ]
  },
  {
   "cell_type": "markdown",
   "metadata": {},
   "source": [
    "**4. Validation and Correction Logic:**\n",
    "\n",
    "We compare the expected and actual number of incorrect rows. If they match, we proceed to fix the incorrect rows using the `fix_incorrect` function. Otherwise, we print the context of the incorrect rows and raise a warning, indicating that manual inspection and correction are required."
   ]
  },
  {
   "cell_type": "code",
   "execution_count": 18,
   "metadata": {},
   "outputs": [
    {
     "name": "stdout",
     "output_type": "stream",
     "text": [
      "Id to fix 47:\n",
      "45                         10. Los ácidos grasos trans:\n",
      "46    1. Constituyen la forma natural de los ácidos ...\n",
      "47    2. Promueven un aumento en la concentración de...\n",
      "48    3. Presentan una temperatura de fusión inferio...\n",
      "49    4. Se generan mayoritariamente en procesos ind...\n",
      "Name: text, dtype: object\n",
      "Id to fix 136:\n",
      "134    4. La subunidad F0 sintetiza ATP gracias a cam...\n",
      "135                             28. El DNA recombinante:\n",
      "136    1. Se obtiene mediante la formación de heterod...\n",
      "137    2. Es DNA híbrido obtenido mediante recombinac...\n",
      "138            3. Es DNA híbrido celular superenrollado.\n",
      "Name: text, dtype: object\n",
      "Id to fix 206:\n",
      "204                           4. 2,3,4-Trimetilpentanal.\n",
      "205    42. Todas las siguientes especies son bases de...\n",
      "206                        1: CH3OH 2: H2S 3: NH3 4: CH4\n",
      "207                                                1. 1.\n",
      "208                                                2. 2.\n",
      "Name: text, dtype: object\n",
      "Id to fix 556:\n",
      "554    3. La Ley Beer puede ser utilizada para calcul...\n",
      "555    4. De acuerdo con la Ley de Beer, la absorbanc...\n",
      "556    112. Se desean preparar 500 mL de una disoluci...\n",
      "557    0.1 M del reactivo A. Para ello, se dispone de...\n",
      "558                                           1. 0.1 mL.\n",
      "Name: text, dtype: object\n",
      "Id to fix 671:\n",
      "669    2. Cromatografía de gases con detección por io...\n",
      "670                                        3. MALDI-TOF.\n",
      "671    4. Inmunoensayo turbidimétrico (inmunoturbidim...\n",
      "672    135. ¿Cuál es el pH de la disolución que resul...\n",
      "673    20 mL de NaOH 0.10 M sobre 40 mL de ácido fórm...\n",
      "Name: text, dtype: object\n",
      "Id to fix 672:\n",
      "670                                        3. MALDI-TOF.\n",
      "671    4. Inmunoensayo turbidimétrico (inmunoturbidim...\n",
      "672    135. ¿Cuál es el pH de la disolución que resul...\n",
      "673    20 mL de NaOH 0.10 M sobre 40 mL de ácido fórm...\n",
      "674                                           1. pH=2.8.\n",
      "Name: text, dtype: object\n",
      "Id to fix 673:\n",
      "671    4. Inmunoensayo turbidimétrico (inmunoturbidim...\n",
      "672    135. ¿Cuál es el pH de la disolución que resul...\n",
      "673    20 mL de NaOH 0.10 M sobre 40 mL de ácido fórm...\n",
      "674                                           1. pH=2.8.\n",
      "675                                           2. pH=3.8.\n",
      "Name: text, dtype: object\n",
      "Id to fix 763:\n",
      "761    3. Justificar que la geometría de los carbonos...\n",
      "762    4. Explicar la formación de enlaces químicos p...\n",
      "763    153. La distancia media recorrida en una direc...\n",
      "764    3 cm en 1 minuto en un gas a P y T ambiente. ¿...\n",
      "765    1. La molécula causante del aroma cítrico en e...\n",
      "Name: text, dtype: object\n",
      "Id to fix 845:\n",
      "843                      4. El Pb2+ actúa como oxidante.\n",
      "844    169. ¿Cuál de las siguientes combinaciones de ...\n",
      "845                      1. n = 4 l = 4 ml = -3 s = +1/2\n",
      "846                      2. n = 4 l = 2 ml = +1 s = +1/2\n",
      "847                      3. n = 4 l = 1 ml = -2 s = -1/2\n",
      "Name: text, dtype: object\n",
      "Id to fix 846:\n",
      "844    169. ¿Cuál de las siguientes combinaciones de ...\n",
      "845                      1. n = 4 l = 4 ml = -3 s = +1/2\n",
      "846                      2. n = 4 l = 2 ml = +1 s = +1/2\n",
      "847                      3. n = 4 l = 1 ml = -2 s = -1/2\n",
      "848                      4. n = 4 l = 3 ml = -2 s = +1/2\n",
      "Name: text, dtype: object\n",
      "Id to fix 847:\n",
      "845                      1. n = 4 l = 4 ml = -3 s = +1/2\n",
      "846                      2. n = 4 l = 2 ml = +1 s = +1/2\n",
      "847                      3. n = 4 l = 1 ml = -2 s = -1/2\n",
      "848                      4. n = 4 l = 3 ml = -2 s = +1/2\n",
      "849    170. Las variables intensivas independientes p...\n",
      "Name: text, dtype: object\n",
      "Id to fix 848:\n",
      "846                      2. n = 4 l = 2 ml = +1 s = +1/2\n",
      "847                      3. n = 4 l = 1 ml = -2 s = -1/2\n",
      "848                      4. n = 4 l = 3 ml = -2 s = +1/2\n",
      "849    170. Las variables intensivas independientes p...\n",
      "850    1. Presión, temperatura y fracción molar de sa...\n",
      "Name: text, dtype: object\n"
     ]
    }
   ],
   "source": [
    "if num_rows_incorrect_expected == num_rows_incorrect:\n",
    "    exam_df_fixed = fix_incorrect(id_rows_incorrect, exam_df_concat)\n",
    "    df_correct_rows: bool = len(exam_df_fixed) == num_rows_incorrect_expected\n",
    "else:\n",
    "    print_rows_incorrrect(id_rows_incorrect, exam_df_concat)\n",
    "    # raise Warning(\"More incorrect rows that expected, uncomment the lines below and add ids to the list, and comment this line\")\n",
    "    rows_fix: list[int] = [206, 556, 672, 763,]\n",
    "    exam_df_fixed: pd.DataFrame = fix_incorrect(rows_fix, exam_df_concat)"
   ]
  },
  {
   "cell_type": "markdown",
   "metadata": {},
   "source": [
    "**5. Verification of Corrected Rows:**\n",
    "\n",
    "We print the expected total number of rows and the actual number of rows in the corrected DataFrame to verify the results of the correction process."
   ]
  },
  {
   "cell_type": "code",
   "execution_count": 19,
   "metadata": {},
   "outputs": [
    {
     "name": "stdout",
     "output_type": "stream",
     "text": [
      "Correct number of rows = 925\n",
      "925\n"
     ]
    }
   ],
   "source": [
    "print(f\"Correct number of rows = {total_num_rows}\")\n",
    "print(exam_df_fixed.shape[0])"
   ]
  },
  {
   "cell_type": "markdown",
   "metadata": {},
   "source": [
    "### Pivoting the DataFrame\n",
    "\n",
    "This section focuses on transforming the cleaned exam data into a structured format suitable for analysis. The DataFrame is pivoted to create columns for each question and its corresponding options.\n",
    "\n",
    "**1. Preparing the DataFrame for Pivoting:**\n",
    "\n",
    "The `exam_df_fixed` Series is converted to a DataFrame, and a 'group' column is created to identify each question and its options. An 'option_num' column is then generated to enumerate the options within each group.\n"
   ]
  },
  {
   "cell_type": "code",
   "execution_count": 20,
   "metadata": {},
   "outputs": [],
   "source": [
    "exam_df_fixed = exam_df_fixed.to_frame()\n",
    "groups: pd.Series = pd.Series((exam_df_fixed.index // (num_questions+1)) +1)\n",
    "exam_df_fixed[\"group\"] = groups  \n",
    "exam_df_fixed[\"option_num\"] = exam_df_fixed.groupby(\"group\").cumcount() + 1"
   ]
  },
  {
   "cell_type": "markdown",
   "metadata": {},
   "source": [
    "**2. Pivoting the DataFrame:**\n",
    "\n",
    "The DataFrame is pivoted using the 'group' column as the index, the 'option_num' column as the columns, and the 'text' column as the values. The index is then reset."
   ]
  },
  {
   "cell_type": "code",
   "execution_count": 21,
   "metadata": {},
   "outputs": [],
   "source": [
    "exam_df_pivot: pd.DataFrame = exam_df_fixed.pivot(index=\"group\", columns=\"option_num\", values=\"text\")\n",
    "exam_df_pivot = exam_df_pivot.reset_index()"
   ]
  },
  {
   "cell_type": "markdown",
   "metadata": {},
   "source": [
    "**3. Renaming Columns:**\n",
    "\n",
    "The columns are renamed to more descriptive names, such as \"Question\", \"Option_1\", \"Option_2\", etc."
   ]
  },
  {
   "cell_type": "code",
   "execution_count": 22,
   "metadata": {},
   "outputs": [],
   "source": [
    "key_list: list = [x for x in range(1, num_questions+2, 1)]\n",
    "val_list: list = [\"Question\"] + [f\"Option_{x}\" for x in range(1, 4 + 1, 1)]\n",
    "\n",
    "exam_df_pivot = exam_df_pivot.rename_axis(None, axis=1).rename(columns=dict(zip(key_list, val_list)))"
   ]
  },
  {
   "cell_type": "markdown",
   "metadata": {},
   "source": [
    "**4. Dropping the 'group' Column:**\n",
    "\n",
    "The 'group' column is dropped as it is no longer needed"
   ]
  },
  {
   "cell_type": "code",
   "execution_count": 23,
   "metadata": {},
   "outputs": [],
   "source": [
    "exam_df_pivot = exam_df_pivot.drop(columns=[\"group\"])"
   ]
  },
  {
   "cell_type": "markdown",
   "metadata": {},
   "source": [
    "**5. Displaying the Pivoted DataFrame:**\n",
    "\n",
    "The first 10 rows of the pivoted DataFrame are displayed to verify the results of the transformation."
   ]
  },
  {
   "cell_type": "code",
   "execution_count": 24,
   "metadata": {},
   "outputs": [
    {
     "data": {
      "application/vnd.microsoft.datawrangler.viewer.v0+json": {
       "columns": [
        {
         "name": "index",
         "rawType": "int64",
         "type": "integer"
        },
        {
         "name": "Question",
         "rawType": "object",
         "type": "string"
        },
        {
         "name": "Option_1",
         "rawType": "object",
         "type": "string"
        },
        {
         "name": "Option_2",
         "rawType": "object",
         "type": "string"
        },
        {
         "name": "Option_3",
         "rawType": "object",
         "type": "string"
        },
        {
         "name": "Option_4",
         "rawType": "object",
         "type": "string"
        }
       ],
       "conversionMethod": "pd.DataFrame",
       "ref": "681d4a60-3fb9-4630-b088-03fb1969c422",
       "rows": [
        [
         "0",
         "1. En cuanto a las características estructurales del DNA, señale la respuesta correcta:",
         "1. La forma A tiene 24 pares de bases por vuelta helicoidal.",
         "2. La estructura de la forma B es más corta y gruesa que las formas A y Z.",
         "3. En la forma B, el desplazamiento por residuo es de unos 3.4 A.",
         "4. La forma Z consiste en una doble hélice dextrógira."
        ],
        [
         "1",
         "2. La hemólisis afecta sensiblemente a las concentraciones séricas de diferentes constituyentes. De las siguientes, ¿cuál es la afirmación correcta?:",
         "1. Aumenta el potasio y bajan el sodio y la LDH.",
         "2. Aumentan la LDH y el potasio y baja el sodio.",
         "3. Aumentan el sodio, la LDH y el potasio.",
         "4. Aumentan la LDH y bajan el sodio y el potasio."
        ],
        [
         "2",
         "3. La mayor parte de los equivalente reductores que se utilizan para la síntesis de ácidos grasos se generan en:",
         "1. La ruta de las pentosas fosfato.",
         "2. La glucólisis.",
         "3. El ciclo del ácido cítrico.",
         "4. La gluconeogénesis."
        ],
        [
         "3",
         "4. Si la secuencia de un fragmento de una cadena de DNA es 5‘- AATGCCTACGGCTTA-3‘, ¿cuál será la secuencia de la cadena complementaria?:",
         "1. 5‘- TTACGGATGCCGAAT-3‘.",
         "2. 5‘- AATGCCTACGGCTTA-3‘.",
         "3. 5‘- TAAGCCGTAGGCATT-3‘.",
         "4. 5‘- UAAGCCGUAGGCAUU-3‘."
        ],
        [
         "4",
         "5. ¿Qué enzima NO interviene en la ruta de las pentosas fosfato?:",
         "1. 6-fosfogluconolactonasa.",
         "2. Glucosa 6-fosfato deshidrogenasa.",
         "3. 6-fosfogluconato deshidrogenasa.",
         "4. Fosfoglucosa isomerasa."
        ],
        [
         "5",
         "6. En referencia a la Somatostatina, señale la respuesta FALSA:",
         "1. Es un tetradecapéptido que inhibe la hormona del crecimiento.",
         "2. Es una hormona hipotalámica.",
         "3. Es una hormona que estimula la secreción de glucagón.",
         "4. Es una hormona que inhibe la insulina pancreática."
        ],
        [
         "6",
         "7. Una enzima que sigue una cinética clásica de Michaelis-Menten presenta una Vmax= 100  μM/min y una Km = 15 μM. ¿Cuál será la velocidad de reacción, V0, cuando [S] = 10 μM? :",
         "1. 40 μM/min.",
         "2. 50 μM/min.",
         "3. 70 μM/min.",
         "4. 100 μM/min."
        ],
        [
         "7",
         "8. ¿Cuál de las siguientes afirmaciones es correcta para el ciclo del ácido cítrico?:",
         "1. Produce varias moléculas de ATP en cada vuelta.",
         "2. Se gastan varias moléculas de oxígeno directamente en la oxidación del acetil-CoA.",
         "3. Sus intermediarios se pueden reponer por reacciones anapleróticas.",
         "4. El principal punto de control del ciclo es la primera reacción del mismo, inhibida por ADP."
        ],
        [
         "8",
         "9. El término proteoma se refiere a:",
         "1. El conjunto de todos los genes codificantes de proteína de un organismo.",
         "2. Las modificaciones post-traduccionales que sufren las proteínas.",
         "3. El conjunto de proteínas presentes en los lisosomas.",
         "4. El conjunto de proteínas producido por el genoma de una célula."
        ],
        [
         "9",
         "10. Los ácidos grasos trans:",
         "1. Constituyen la forma natural de los ácidos grasos insaturados en los tejidos animales.",
         "2. Promueven un aumento en la concentración de las lipopotreínas de alta densidad (HDL)",
         "3. Presentan una temperatura de fusión inferior a la de sus equivalentes en configuración cis con el mismo número de átomos de C y de insaturaciones.",
         "4. Se generan mayoritariamente en procesos industriales de hidrogenación parcial."
        ]
       ],
       "shape": {
        "columns": 5,
        "rows": 10
       }
      },
      "text/html": [
       "<div>\n",
       "<style scoped>\n",
       "    .dataframe tbody tr th:only-of-type {\n",
       "        vertical-align: middle;\n",
       "    }\n",
       "\n",
       "    .dataframe tbody tr th {\n",
       "        vertical-align: top;\n",
       "    }\n",
       "\n",
       "    .dataframe thead th {\n",
       "        text-align: right;\n",
       "    }\n",
       "</style>\n",
       "<table border=\"1\" class=\"dataframe\">\n",
       "  <thead>\n",
       "    <tr style=\"text-align: right;\">\n",
       "      <th></th>\n",
       "      <th>Question</th>\n",
       "      <th>Option_1</th>\n",
       "      <th>Option_2</th>\n",
       "      <th>Option_3</th>\n",
       "      <th>Option_4</th>\n",
       "    </tr>\n",
       "  </thead>\n",
       "  <tbody>\n",
       "    <tr>\n",
       "      <th>0</th>\n",
       "      <td>1. En cuanto a las características estructural...</td>\n",
       "      <td>1. La forma A tiene 24 pares de bases por vuel...</td>\n",
       "      <td>2. La estructura de la forma B es más corta y ...</td>\n",
       "      <td>3. En la forma B, el desplazamiento por residu...</td>\n",
       "      <td>4. La forma Z consiste en una doble hélice dex...</td>\n",
       "    </tr>\n",
       "    <tr>\n",
       "      <th>1</th>\n",
       "      <td>2. La hemólisis afecta sensiblemente a las con...</td>\n",
       "      <td>1. Aumenta el potasio y bajan el sodio y la LDH.</td>\n",
       "      <td>2. Aumentan la LDH y el potasio y baja el sodio.</td>\n",
       "      <td>3. Aumentan el sodio, la LDH y el potasio.</td>\n",
       "      <td>4. Aumentan la LDH y bajan el sodio y el potasio.</td>\n",
       "    </tr>\n",
       "    <tr>\n",
       "      <th>2</th>\n",
       "      <td>3. La mayor parte de los equivalente reductore...</td>\n",
       "      <td>1. La ruta de las pentosas fosfato.</td>\n",
       "      <td>2. La glucólisis.</td>\n",
       "      <td>3. El ciclo del ácido cítrico.</td>\n",
       "      <td>4. La gluconeogénesis.</td>\n",
       "    </tr>\n",
       "    <tr>\n",
       "      <th>3</th>\n",
       "      <td>4. Si la secuencia de un fragmento de una cade...</td>\n",
       "      <td>1. 5‘- TTACGGATGCCGAAT-3‘.</td>\n",
       "      <td>2. 5‘- AATGCCTACGGCTTA-3‘.</td>\n",
       "      <td>3. 5‘- TAAGCCGTAGGCATT-3‘.</td>\n",
       "      <td>4. 5‘- UAAGCCGUAGGCAUU-3‘.</td>\n",
       "    </tr>\n",
       "    <tr>\n",
       "      <th>4</th>\n",
       "      <td>5. ¿Qué enzima NO interviene en la ruta de las...</td>\n",
       "      <td>1. 6-fosfogluconolactonasa.</td>\n",
       "      <td>2. Glucosa 6-fosfato deshidrogenasa.</td>\n",
       "      <td>3. 6-fosfogluconato deshidrogenasa.</td>\n",
       "      <td>4. Fosfoglucosa isomerasa.</td>\n",
       "    </tr>\n",
       "    <tr>\n",
       "      <th>5</th>\n",
       "      <td>6. En referencia a la Somatostatina, señale la...</td>\n",
       "      <td>1. Es un tetradecapéptido que inhibe la hormon...</td>\n",
       "      <td>2. Es una hormona hipotalámica.</td>\n",
       "      <td>3. Es una hormona que estimula la secreción de...</td>\n",
       "      <td>4. Es una hormona que inhibe la insulina pancr...</td>\n",
       "    </tr>\n",
       "    <tr>\n",
       "      <th>6</th>\n",
       "      <td>7. Una enzima que sigue una cinética clásica d...</td>\n",
       "      <td>1. 40 μM/min.</td>\n",
       "      <td>2. 50 μM/min.</td>\n",
       "      <td>3. 70 μM/min.</td>\n",
       "      <td>4. 100 μM/min.</td>\n",
       "    </tr>\n",
       "    <tr>\n",
       "      <th>7</th>\n",
       "      <td>8. ¿Cuál de las siguientes afirmaciones es cor...</td>\n",
       "      <td>1. Produce varias moléculas de ATP en cada vue...</td>\n",
       "      <td>2. Se gastan varias moléculas de oxígeno direc...</td>\n",
       "      <td>3. Sus intermediarios se pueden reponer por re...</td>\n",
       "      <td>4. El principal punto de control del ciclo es ...</td>\n",
       "    </tr>\n",
       "    <tr>\n",
       "      <th>8</th>\n",
       "      <td>9. El término proteoma se refiere a:</td>\n",
       "      <td>1. El conjunto de todos los genes codificantes...</td>\n",
       "      <td>2. Las modificaciones post-traduccionales que ...</td>\n",
       "      <td>3. El conjunto de proteínas presentes en los l...</td>\n",
       "      <td>4. El conjunto de proteínas producido por el g...</td>\n",
       "    </tr>\n",
       "    <tr>\n",
       "      <th>9</th>\n",
       "      <td>10. Los ácidos grasos trans:</td>\n",
       "      <td>1. Constituyen la forma natural de los ácidos ...</td>\n",
       "      <td>2. Promueven un aumento en la concentración de...</td>\n",
       "      <td>3. Presentan una temperatura de fusión inferio...</td>\n",
       "      <td>4. Se generan mayoritariamente en procesos ind...</td>\n",
       "    </tr>\n",
       "  </tbody>\n",
       "</table>\n",
       "</div>"
      ],
      "text/plain": [
       "                                            Question  \\\n",
       "0  1. En cuanto a las características estructural...   \n",
       "1  2. La hemólisis afecta sensiblemente a las con...   \n",
       "2  3. La mayor parte de los equivalente reductore...   \n",
       "3  4. Si la secuencia de un fragmento de una cade...   \n",
       "4  5. ¿Qué enzima NO interviene en la ruta de las...   \n",
       "5  6. En referencia a la Somatostatina, señale la...   \n",
       "6  7. Una enzima que sigue una cinética clásica d...   \n",
       "7  8. ¿Cuál de las siguientes afirmaciones es cor...   \n",
       "8               9. El término proteoma se refiere a:   \n",
       "9                       10. Los ácidos grasos trans:   \n",
       "\n",
       "                                            Option_1  \\\n",
       "0  1. La forma A tiene 24 pares de bases por vuel...   \n",
       "1   1. Aumenta el potasio y bajan el sodio y la LDH.   \n",
       "2                1. La ruta de las pentosas fosfato.   \n",
       "3                         1. 5‘- TTACGGATGCCGAAT-3‘.   \n",
       "4                        1. 6-fosfogluconolactonasa.   \n",
       "5  1. Es un tetradecapéptido que inhibe la hormon...   \n",
       "6                                      1. 40 μM/min.   \n",
       "7  1. Produce varias moléculas de ATP en cada vue...   \n",
       "8  1. El conjunto de todos los genes codificantes...   \n",
       "9  1. Constituyen la forma natural de los ácidos ...   \n",
       "\n",
       "                                            Option_2  \\\n",
       "0  2. La estructura de la forma B es más corta y ...   \n",
       "1   2. Aumentan la LDH y el potasio y baja el sodio.   \n",
       "2                                  2. La glucólisis.   \n",
       "3                         2. 5‘- AATGCCTACGGCTTA-3‘.   \n",
       "4               2. Glucosa 6-fosfato deshidrogenasa.   \n",
       "5                    2. Es una hormona hipotalámica.   \n",
       "6                                      2. 50 μM/min.   \n",
       "7  2. Se gastan varias moléculas de oxígeno direc...   \n",
       "8  2. Las modificaciones post-traduccionales que ...   \n",
       "9  2. Promueven un aumento en la concentración de...   \n",
       "\n",
       "                                            Option_3  \\\n",
       "0  3. En la forma B, el desplazamiento por residu...   \n",
       "1         3. Aumentan el sodio, la LDH y el potasio.   \n",
       "2                     3. El ciclo del ácido cítrico.   \n",
       "3                         3. 5‘- TAAGCCGTAGGCATT-3‘.   \n",
       "4                3. 6-fosfogluconato deshidrogenasa.   \n",
       "5  3. Es una hormona que estimula la secreción de...   \n",
       "6                                      3. 70 μM/min.   \n",
       "7  3. Sus intermediarios se pueden reponer por re...   \n",
       "8  3. El conjunto de proteínas presentes en los l...   \n",
       "9  3. Presentan una temperatura de fusión inferio...   \n",
       "\n",
       "                                            Option_4  \n",
       "0  4. La forma Z consiste en una doble hélice dex...  \n",
       "1  4. Aumentan la LDH y bajan el sodio y el potasio.  \n",
       "2                             4. La gluconeogénesis.  \n",
       "3                         4. 5‘- UAAGCCGUAGGCAUU-3‘.  \n",
       "4                         4. Fosfoglucosa isomerasa.  \n",
       "5  4. Es una hormona que inhibe la insulina pancr...  \n",
       "6                                     4. 100 μM/min.  \n",
       "7  4. El principal punto de control del ciclo es ...  \n",
       "8  4. El conjunto de proteínas producido por el g...  \n",
       "9  4. Se generan mayoritariamente en procesos ind...  "
      ]
     },
     "execution_count": 24,
     "metadata": {},
     "output_type": "execute_result"
    }
   ],
   "source": [
    "exam_df_pivot.head(10)"
   ]
  },
  {
   "cell_type": "code",
   "execution_count": 25,
   "metadata": {},
   "outputs": [
    {
     "data": {
      "application/vnd.microsoft.datawrangler.viewer.v0+json": {
       "columns": [
        {
         "name": "index",
         "rawType": "int64",
         "type": "integer"
        },
        {
         "name": "Question",
         "rawType": "object",
         "type": "string"
        },
        {
         "name": "Option_1",
         "rawType": "object",
         "type": "string"
        },
        {
         "name": "Option_2",
         "rawType": "object",
         "type": "string"
        },
        {
         "name": "Option_3",
         "rawType": "object",
         "type": "string"
        },
        {
         "name": "Option_4",
         "rawType": "object",
         "type": "string"
        }
       ],
       "conversionMethod": "pd.DataFrame",
       "ref": "a3e4a26c-eef1-4685-9928-89f2b8a3d89c",
       "rows": [
        [
         "175",
         "176. El valor predictivo positivo de una prueba se define como:",
         "1. El cociente de verdaderos positivos dividido por verdaderos positivos más falsos positivos.",
         "2. El cociente de verdaderos positivos dividido por verdaderos positivos más falsos negativos.",
         "3. La sensibilidad de la prueba dividida por 1- especificidad.",
         "4. El cociente de verdaderos negativos dividido por verdaderos negativos más falsos negativos."
        ],
        [
         "176",
         "177. La anemia perniciosa es uno de los síntomas obvios de la deficiencia de:",
         "1. Níquel.",
         "2. Calcio.",
         "3. Magnesio.",
         "4. Cobalto."
        ],
        [
         "177",
         "178. ¿Qué afirmación es correcta?:",
         "1. En las células se producen modos de transporte de iones tanto activos como pasivos.",
         "2. En las células se producen modos de transporte de iones pasivos.",
         "3. En las células se producen modos de transporte de iones activos primarios.",
         "4. En las células se producen modos de transporte de iones activos secundarios."
        ],
        [
         "178",
         "179. ¿Qué es la fotoconductividad?:",
         "1. Es el cambio de color que presenta un sólido cuando sobre él incide luz.",
         "2. Es el incremento de conductividad debido al aumento de transportadores de carga como consecuencia de transiciones electrónicas inducidas por fotones en las cuales se absorbe luz.",
         "3. Es el incremento de conductividad debido al aumento de transportadores de carga como consecuencia de transiciones electrónicas inducidas por fotones en las cuales se emite luz.",
         "4. Es la disminución de conductividad debido al aumento de transportadores de carga como consecuencia de transiciones electrónicas inducidas por fotones en las cuales se emite luz."
        ],
        [
         "179",
         "180. ¿Cuál de las siguientes es una enzima que contiene selenio?:",
         "1. Dopamina beta-hidroxilasa.",
         "2. Tirosinasa.",
         "3. Ureasa.",
         "4. Glutatión peroxidasa."
        ],
        [
         "180",
         "181. Si queremos estudiar la exactitud de un método utilizando un material de referencia certificado, ¿qué test estadísticos debemos aplicar?:",
         "1. Test t de Student de comparación de una media experimental con el valor certificado.",
         "2. Test t de Student de comparación de pares de valores.",
         "3. Test F de Fisher para comparar una media experimental con el valor certificado.",
         "4. Test Q de Dixon de comparación de pares de valores."
        ],
        [
         "181",
         "182. ¿Cuál de las siguientes frases es verdadera al hablar de un par de diastereómeros?:",
         "1. Tienen idénticas propiedades fisiológicas.",
         "2. Tienen rotaciones específicas de signos opuestos.",
         "3. Tienen idénticas propiedades químicas (por ej., reactividad).",
         "4. Tienen diferentes propiedades físicas."
        ],
        [
         "182",
         "183. Las formas de hemiacetal de los carbohidratos son inconvertibles en agua. La mezcla de equilibrio puede contener anómeros α y β de las estructuras de furanosa y piranosa. El cambio de una forma a la mezcla al equilibrio está acompañado de un cambio en la rotación óptica llamado:",
         "1. Efecto anomérico.",
         "2. Mutarrotación.",
         "3. Inversión óptica.",
         "4. Racemización."
        ],
        [
         "183",
         "184. ¿Cuál de los errores que pueden producirse en un método cualitativo es más grave cuando se busca la identificación/cuantificación de un tóxico?:",
         "1. Falsos negativos.",
         "2. Errores aleatorios.",
         "3. Falsos positivos.",
         "4. Errores anómalos."
        ],
        [
         "184",
         "185. ¿Cuál de las siguientes afirmaciones es la correcta en una reacción enzimática?:",
         "1. La enzima empuja a la derecha el equilibrio de la reacción.",
         "2. La enzima cambia el equilibrio constante de la reacción.",
         "3. La enzima aumenta la velocidad de reacción.",
         "4. La enzima altera la diferencia de energía entre reactantes y productos."
        ]
       ],
       "shape": {
        "columns": 5,
        "rows": 10
       }
      },
      "text/html": [
       "<div>\n",
       "<style scoped>\n",
       "    .dataframe tbody tr th:only-of-type {\n",
       "        vertical-align: middle;\n",
       "    }\n",
       "\n",
       "    .dataframe tbody tr th {\n",
       "        vertical-align: top;\n",
       "    }\n",
       "\n",
       "    .dataframe thead th {\n",
       "        text-align: right;\n",
       "    }\n",
       "</style>\n",
       "<table border=\"1\" class=\"dataframe\">\n",
       "  <thead>\n",
       "    <tr style=\"text-align: right;\">\n",
       "      <th></th>\n",
       "      <th>Question</th>\n",
       "      <th>Option_1</th>\n",
       "      <th>Option_2</th>\n",
       "      <th>Option_3</th>\n",
       "      <th>Option_4</th>\n",
       "    </tr>\n",
       "  </thead>\n",
       "  <tbody>\n",
       "    <tr>\n",
       "      <th>175</th>\n",
       "      <td>176. El valor predictivo positivo de una prueb...</td>\n",
       "      <td>1. El cociente de verdaderos positivos dividid...</td>\n",
       "      <td>2. El cociente de verdaderos positivos dividid...</td>\n",
       "      <td>3. La sensibilidad de la prueba dividida por 1...</td>\n",
       "      <td>4. El cociente de verdaderos negativos dividid...</td>\n",
       "    </tr>\n",
       "    <tr>\n",
       "      <th>176</th>\n",
       "      <td>177. La anemia perniciosa es uno de los síntom...</td>\n",
       "      <td>1. Níquel.</td>\n",
       "      <td>2. Calcio.</td>\n",
       "      <td>3. Magnesio.</td>\n",
       "      <td>4. Cobalto.</td>\n",
       "    </tr>\n",
       "    <tr>\n",
       "      <th>177</th>\n",
       "      <td>178. ¿Qué afirmación es correcta?:</td>\n",
       "      <td>1. En las células se producen modos de transpo...</td>\n",
       "      <td>2. En las células se producen modos de transpo...</td>\n",
       "      <td>3. En las células se producen modos de transpo...</td>\n",
       "      <td>4. En las células se producen modos de transpo...</td>\n",
       "    </tr>\n",
       "    <tr>\n",
       "      <th>178</th>\n",
       "      <td>179. ¿Qué es la fotoconductividad?:</td>\n",
       "      <td>1. Es el cambio de color que presenta un sólid...</td>\n",
       "      <td>2. Es el incremento de conductividad debido al...</td>\n",
       "      <td>3. Es el incremento de conductividad debido al...</td>\n",
       "      <td>4. Es la disminución de conductividad debido a...</td>\n",
       "    </tr>\n",
       "    <tr>\n",
       "      <th>179</th>\n",
       "      <td>180. ¿Cuál de las siguientes es una enzima que...</td>\n",
       "      <td>1. Dopamina beta-hidroxilasa.</td>\n",
       "      <td>2. Tirosinasa.</td>\n",
       "      <td>3. Ureasa.</td>\n",
       "      <td>4. Glutatión peroxidasa.</td>\n",
       "    </tr>\n",
       "    <tr>\n",
       "      <th>180</th>\n",
       "      <td>181. Si queremos estudiar la exactitud de un m...</td>\n",
       "      <td>1. Test t de Student de comparación de una med...</td>\n",
       "      <td>2. Test t de Student de comparación de pares d...</td>\n",
       "      <td>3. Test F de Fisher para comparar una media ex...</td>\n",
       "      <td>4. Test Q de Dixon de comparación de pares de ...</td>\n",
       "    </tr>\n",
       "    <tr>\n",
       "      <th>181</th>\n",
       "      <td>182. ¿Cuál de las siguientes frases es verdade...</td>\n",
       "      <td>1. Tienen idénticas propiedades fisiológicas.</td>\n",
       "      <td>2. Tienen rotaciones específicas de signos opu...</td>\n",
       "      <td>3. Tienen idénticas propiedades químicas (por ...</td>\n",
       "      <td>4. Tienen diferentes propiedades físicas.</td>\n",
       "    </tr>\n",
       "    <tr>\n",
       "      <th>182</th>\n",
       "      <td>183. Las formas de hemiacetal de los carbohidr...</td>\n",
       "      <td>1. Efecto anomérico.</td>\n",
       "      <td>2. Mutarrotación.</td>\n",
       "      <td>3. Inversión óptica.</td>\n",
       "      <td>4. Racemización.</td>\n",
       "    </tr>\n",
       "    <tr>\n",
       "      <th>183</th>\n",
       "      <td>184. ¿Cuál de los errores que pueden producirs...</td>\n",
       "      <td>1. Falsos negativos.</td>\n",
       "      <td>2. Errores aleatorios.</td>\n",
       "      <td>3. Falsos positivos.</td>\n",
       "      <td>4. Errores anómalos.</td>\n",
       "    </tr>\n",
       "    <tr>\n",
       "      <th>184</th>\n",
       "      <td>185. ¿Cuál de las siguientes afirmaciones es l...</td>\n",
       "      <td>1. La enzima empuja a la derecha el equilibrio...</td>\n",
       "      <td>2. La enzima cambia el equilibrio constante de...</td>\n",
       "      <td>3. La enzima aumenta la velocidad de reacción.</td>\n",
       "      <td>4. La enzima altera la diferencia de energía e...</td>\n",
       "    </tr>\n",
       "  </tbody>\n",
       "</table>\n",
       "</div>"
      ],
      "text/plain": [
       "                                              Question  \\\n",
       "175  176. El valor predictivo positivo de una prueb...   \n",
       "176  177. La anemia perniciosa es uno de los síntom...   \n",
       "177                 178. ¿Qué afirmación es correcta?:   \n",
       "178                179. ¿Qué es la fotoconductividad?:   \n",
       "179  180. ¿Cuál de las siguientes es una enzima que...   \n",
       "180  181. Si queremos estudiar la exactitud de un m...   \n",
       "181  182. ¿Cuál de las siguientes frases es verdade...   \n",
       "182  183. Las formas de hemiacetal de los carbohidr...   \n",
       "183  184. ¿Cuál de los errores que pueden producirs...   \n",
       "184  185. ¿Cuál de las siguientes afirmaciones es l...   \n",
       "\n",
       "                                              Option_1  \\\n",
       "175  1. El cociente de verdaderos positivos dividid...   \n",
       "176                                         1. Níquel.   \n",
       "177  1. En las células se producen modos de transpo...   \n",
       "178  1. Es el cambio de color que presenta un sólid...   \n",
       "179                      1. Dopamina beta-hidroxilasa.   \n",
       "180  1. Test t de Student de comparación de una med...   \n",
       "181      1. Tienen idénticas propiedades fisiológicas.   \n",
       "182                               1. Efecto anomérico.   \n",
       "183                               1. Falsos negativos.   \n",
       "184  1. La enzima empuja a la derecha el equilibrio...   \n",
       "\n",
       "                                              Option_2  \\\n",
       "175  2. El cociente de verdaderos positivos dividid...   \n",
       "176                                         2. Calcio.   \n",
       "177  2. En las células se producen modos de transpo...   \n",
       "178  2. Es el incremento de conductividad debido al...   \n",
       "179                                     2. Tirosinasa.   \n",
       "180  2. Test t de Student de comparación de pares d...   \n",
       "181  2. Tienen rotaciones específicas de signos opu...   \n",
       "182                                  2. Mutarrotación.   \n",
       "183                             2. Errores aleatorios.   \n",
       "184  2. La enzima cambia el equilibrio constante de...   \n",
       "\n",
       "                                              Option_3  \\\n",
       "175  3. La sensibilidad de la prueba dividida por 1...   \n",
       "176                                       3. Magnesio.   \n",
       "177  3. En las células se producen modos de transpo...   \n",
       "178  3. Es el incremento de conductividad debido al...   \n",
       "179                                         3. Ureasa.   \n",
       "180  3. Test F de Fisher para comparar una media ex...   \n",
       "181  3. Tienen idénticas propiedades químicas (por ...   \n",
       "182                               3. Inversión óptica.   \n",
       "183                               3. Falsos positivos.   \n",
       "184     3. La enzima aumenta la velocidad de reacción.   \n",
       "\n",
       "                                              Option_4  \n",
       "175  4. El cociente de verdaderos negativos dividid...  \n",
       "176                                        4. Cobalto.  \n",
       "177  4. En las células se producen modos de transpo...  \n",
       "178  4. Es la disminución de conductividad debido a...  \n",
       "179                           4. Glutatión peroxidasa.  \n",
       "180  4. Test Q de Dixon de comparación de pares de ...  \n",
       "181          4. Tienen diferentes propiedades físicas.  \n",
       "182                                   4. Racemización.  \n",
       "183                               4. Errores anómalos.  \n",
       "184  4. La enzima altera la diferencia de energía e...  "
      ]
     },
     "execution_count": 25,
     "metadata": {},
     "output_type": "execute_result"
    }
   ],
   "source": [
    "exam_df_pivot.tail(10)"
   ]
  },
  {
   "cell_type": "markdown",
   "metadata": {},
   "source": [
    "## Answers tsv\n",
    "\n",
    "This section focuses on cleaning and consolidating the answer key data from the TSV file. The original data contains duplicate columns, which are processed and combined into a single, clean DataFrame.\n",
    "\n",
    "**1. Defining Column Lists:**\n",
    "\n",
    "We define lists containing the original column names and the duplicate column names."
   ]
  },
  {
   "cell_type": "code",
   "execution_count": 26,
   "metadata": {},
   "outputs": [],
   "source": [
    "original_col: list[str] = [\"V\", \"RC\"]\n",
    "duplicate_cols: list[str] = [\"V.1\", \"RC.1\", \"V.2\", \"RC.2\", \"V.3\", \"RC.3\", \"V.4\", \"RC.4\"]"
   ]
  },
  {
   "cell_type": "markdown",
   "metadata": {},
   "source": [
    "**2. Processing Duplicate Columns:**\n",
    "\n",
    "We iterate through the duplicate_cols list in pairs, extracting the corresponding columns, renaming them to the original column names, and appending them to a list of DataFrames."
   ]
  },
  {
   "cell_type": "code",
   "execution_count": 27,
   "metadata": {},
   "outputs": [],
   "source": [
    "answers_df_list: list[pd.DataFrame] = [raw_answers_df[original_col]]\n",
    "\n",
    "for i in range(0, len(duplicate_cols), 2):\n",
    "    pair_cols: list = duplicate_cols[i:i+2]\n",
    "    df_pair_col: pd.DataFrame = raw_answers_df[pair_cols].rename(columns={pair_cols[0]: \"V\", pair_cols[1]: \"RC\"})\n",
    "    answers_df_list.append(df_pair_col)"
   ]
  },
  {
   "cell_type": "markdown",
   "metadata": {},
   "source": [
    "**3. Concatenating DataFrames:**\n",
    "\n",
    "The list of DataFrames is concatenated into a single DataFrame, ignoring the original index."
   ]
  },
  {
   "cell_type": "code",
   "execution_count": 28,
   "metadata": {},
   "outputs": [],
   "source": [
    "answers_df_clean: pd.DataFrame = pd.concat(answers_df_list, ignore_index=True)"
   ]
  },
  {
   "cell_type": "markdown",
   "metadata": {},
   "source": [
    "**4. Displaying the Cleaned DataFrame:**\n",
    "\n",
    "The cleaned DataFrame is printed to verify the results of the consolidation process."
   ]
  },
  {
   "cell_type": "code",
   "execution_count": 29,
   "metadata": {},
   "outputs": [
    {
     "data": {
      "application/vnd.microsoft.datawrangler.viewer.v0+json": {
       "columns": [
        {
         "name": "index",
         "rawType": "int64",
         "type": "integer"
        },
        {
         "name": "V",
         "rawType": "int64",
         "type": "integer"
        },
        {
         "name": "RC",
         "rawType": "float64",
         "type": "float"
        }
       ],
       "conversionMethod": "pd.DataFrame",
       "ref": "892cef5b-849b-4303-85aa-f3c5df188a4b",
       "rows": [
        [
         "0",
         "1",
         "3.0"
        ],
        [
         "1",
         "2",
         "2.0"
        ],
        [
         "2",
         "3",
         "1.0"
        ],
        [
         "3",
         "4",
         "3.0"
        ],
        [
         "4",
         "5",
         "4.0"
        ],
        [
         "5",
         "6",
         "3.0"
        ],
        [
         "6",
         "7",
         "1.0"
        ],
        [
         "7",
         "8",
         "3.0"
        ],
        [
         "8",
         "9",
         "4.0"
        ],
        [
         "9",
         "10",
         "4.0"
        ]
       ],
       "shape": {
        "columns": 2,
        "rows": 10
       }
      },
      "text/html": [
       "<div>\n",
       "<style scoped>\n",
       "    .dataframe tbody tr th:only-of-type {\n",
       "        vertical-align: middle;\n",
       "    }\n",
       "\n",
       "    .dataframe tbody tr th {\n",
       "        vertical-align: top;\n",
       "    }\n",
       "\n",
       "    .dataframe thead th {\n",
       "        text-align: right;\n",
       "    }\n",
       "</style>\n",
       "<table border=\"1\" class=\"dataframe\">\n",
       "  <thead>\n",
       "    <tr style=\"text-align: right;\">\n",
       "      <th></th>\n",
       "      <th>V</th>\n",
       "      <th>RC</th>\n",
       "    </tr>\n",
       "  </thead>\n",
       "  <tbody>\n",
       "    <tr>\n",
       "      <th>0</th>\n",
       "      <td>1</td>\n",
       "      <td>3.0</td>\n",
       "    </tr>\n",
       "    <tr>\n",
       "      <th>1</th>\n",
       "      <td>2</td>\n",
       "      <td>2.0</td>\n",
       "    </tr>\n",
       "    <tr>\n",
       "      <th>2</th>\n",
       "      <td>3</td>\n",
       "      <td>1.0</td>\n",
       "    </tr>\n",
       "    <tr>\n",
       "      <th>3</th>\n",
       "      <td>4</td>\n",
       "      <td>3.0</td>\n",
       "    </tr>\n",
       "    <tr>\n",
       "      <th>4</th>\n",
       "      <td>5</td>\n",
       "      <td>4.0</td>\n",
       "    </tr>\n",
       "    <tr>\n",
       "      <th>5</th>\n",
       "      <td>6</td>\n",
       "      <td>3.0</td>\n",
       "    </tr>\n",
       "    <tr>\n",
       "      <th>6</th>\n",
       "      <td>7</td>\n",
       "      <td>1.0</td>\n",
       "    </tr>\n",
       "    <tr>\n",
       "      <th>7</th>\n",
       "      <td>8</td>\n",
       "      <td>3.0</td>\n",
       "    </tr>\n",
       "    <tr>\n",
       "      <th>8</th>\n",
       "      <td>9</td>\n",
       "      <td>4.0</td>\n",
       "    </tr>\n",
       "    <tr>\n",
       "      <th>9</th>\n",
       "      <td>10</td>\n",
       "      <td>4.0</td>\n",
       "    </tr>\n",
       "  </tbody>\n",
       "</table>\n",
       "</div>"
      ],
      "text/plain": [
       "    V   RC\n",
       "0   1  3.0\n",
       "1   2  2.0\n",
       "2   3  1.0\n",
       "3   4  3.0\n",
       "4   5  4.0\n",
       "5   6  3.0\n",
       "6   7  1.0\n",
       "7   8  3.0\n",
       "8   9  4.0\n",
       "9  10  4.0"
      ]
     },
     "execution_count": 29,
     "metadata": {},
     "output_type": "execute_result"
    }
   ],
   "source": [
    "answers_df_clean.head(10)"
   ]
  },
  {
   "cell_type": "markdown",
   "metadata": {},
   "source": [
    "## Joining the DataFrames\n",
    "\n",
    "This section focuses on merging the processed exam questions DataFrame with the cleaned answers DataFrame, performing final data cleaning, and verifying the integrity of the joined data.\n",
    "\n",
    "**1. Joining the DataFrames:**\n",
    "\n",
    "The pivoted exam questions DataFrame (`exam_df_pivot`) and the cleaned answers DataFrame (`answers_df_clean`) are joined horizontally using `pd.concat`. The 'V0' column, which represents the question number from the answers DataFrame, is then dropped. The first 10 rows of the joined DataFrame are displayed."
   ]
  },
  {
   "cell_type": "code",
   "execution_count": 30,
   "metadata": {},
   "outputs": [
    {
     "data": {
      "application/vnd.microsoft.datawrangler.viewer.v0+json": {
       "columns": [
        {
         "name": "index",
         "rawType": "int64",
         "type": "integer"
        },
        {
         "name": "Question",
         "rawType": "object",
         "type": "string"
        },
        {
         "name": "Option_1",
         "rawType": "object",
         "type": "string"
        },
        {
         "name": "Option_2",
         "rawType": "object",
         "type": "string"
        },
        {
         "name": "Option_3",
         "rawType": "object",
         "type": "string"
        },
        {
         "name": "Option_4",
         "rawType": "object",
         "type": "string"
        },
        {
         "name": "RC",
         "rawType": "float64",
         "type": "float"
        }
       ],
       "conversionMethod": "pd.DataFrame",
       "ref": "a523dc32-6939-411d-9ca0-523d2da21a3b",
       "rows": [
        [
         "0",
         "1. En cuanto a las características estructurales del DNA, señale la respuesta correcta:",
         "1. La forma A tiene 24 pares de bases por vuelta helicoidal.",
         "2. La estructura de la forma B es más corta y gruesa que las formas A y Z.",
         "3. En la forma B, el desplazamiento por residuo es de unos 3.4 A.",
         "4. La forma Z consiste en una doble hélice dextrógira.",
         "3.0"
        ],
        [
         "1",
         "2. La hemólisis afecta sensiblemente a las concentraciones séricas de diferentes constituyentes. De las siguientes, ¿cuál es la afirmación correcta?:",
         "1. Aumenta el potasio y bajan el sodio y la LDH.",
         "2. Aumentan la LDH y el potasio y baja el sodio.",
         "3. Aumentan el sodio, la LDH y el potasio.",
         "4. Aumentan la LDH y bajan el sodio y el potasio.",
         "2.0"
        ],
        [
         "2",
         "3. La mayor parte de los equivalente reductores que se utilizan para la síntesis de ácidos grasos se generan en:",
         "1. La ruta de las pentosas fosfato.",
         "2. La glucólisis.",
         "3. El ciclo del ácido cítrico.",
         "4. La gluconeogénesis.",
         "1.0"
        ],
        [
         "3",
         "4. Si la secuencia de un fragmento de una cadena de DNA es 5‘- AATGCCTACGGCTTA-3‘, ¿cuál será la secuencia de la cadena complementaria?:",
         "1. 5‘- TTACGGATGCCGAAT-3‘.",
         "2. 5‘- AATGCCTACGGCTTA-3‘.",
         "3. 5‘- TAAGCCGTAGGCATT-3‘.",
         "4. 5‘- UAAGCCGUAGGCAUU-3‘.",
         "3.0"
        ],
        [
         "4",
         "5. ¿Qué enzima NO interviene en la ruta de las pentosas fosfato?:",
         "1. 6-fosfogluconolactonasa.",
         "2. Glucosa 6-fosfato deshidrogenasa.",
         "3. 6-fosfogluconato deshidrogenasa.",
         "4. Fosfoglucosa isomerasa.",
         "4.0"
        ],
        [
         "5",
         "6. En referencia a la Somatostatina, señale la respuesta FALSA:",
         "1. Es un tetradecapéptido que inhibe la hormona del crecimiento.",
         "2. Es una hormona hipotalámica.",
         "3. Es una hormona que estimula la secreción de glucagón.",
         "4. Es una hormona que inhibe la insulina pancreática.",
         "3.0"
        ],
        [
         "6",
         "7. Una enzima que sigue una cinética clásica de Michaelis-Menten presenta una Vmax= 100  μM/min y una Km = 15 μM. ¿Cuál será la velocidad de reacción, V0, cuando [S] = 10 μM? :",
         "1. 40 μM/min.",
         "2. 50 μM/min.",
         "3. 70 μM/min.",
         "4. 100 μM/min.",
         "1.0"
        ],
        [
         "7",
         "8. ¿Cuál de las siguientes afirmaciones es correcta para el ciclo del ácido cítrico?:",
         "1. Produce varias moléculas de ATP en cada vuelta.",
         "2. Se gastan varias moléculas de oxígeno directamente en la oxidación del acetil-CoA.",
         "3. Sus intermediarios se pueden reponer por reacciones anapleróticas.",
         "4. El principal punto de control del ciclo es la primera reacción del mismo, inhibida por ADP.",
         "3.0"
        ],
        [
         "8",
         "9. El término proteoma se refiere a:",
         "1. El conjunto de todos los genes codificantes de proteína de un organismo.",
         "2. Las modificaciones post-traduccionales que sufren las proteínas.",
         "3. El conjunto de proteínas presentes en los lisosomas.",
         "4. El conjunto de proteínas producido por el genoma de una célula.",
         "4.0"
        ],
        [
         "9",
         "10. Los ácidos grasos trans:",
         "1. Constituyen la forma natural de los ácidos grasos insaturados en los tejidos animales.",
         "2. Promueven un aumento en la concentración de las lipopotreínas de alta densidad (HDL)",
         "3. Presentan una temperatura de fusión inferior a la de sus equivalentes en configuración cis con el mismo número de átomos de C y de insaturaciones.",
         "4. Se generan mayoritariamente en procesos industriales de hidrogenación parcial.",
         "4.0"
        ]
       ],
       "shape": {
        "columns": 6,
        "rows": 10
       }
      },
      "text/html": [
       "<div>\n",
       "<style scoped>\n",
       "    .dataframe tbody tr th:only-of-type {\n",
       "        vertical-align: middle;\n",
       "    }\n",
       "\n",
       "    .dataframe tbody tr th {\n",
       "        vertical-align: top;\n",
       "    }\n",
       "\n",
       "    .dataframe thead th {\n",
       "        text-align: right;\n",
       "    }\n",
       "</style>\n",
       "<table border=\"1\" class=\"dataframe\">\n",
       "  <thead>\n",
       "    <tr style=\"text-align: right;\">\n",
       "      <th></th>\n",
       "      <th>Question</th>\n",
       "      <th>Option_1</th>\n",
       "      <th>Option_2</th>\n",
       "      <th>Option_3</th>\n",
       "      <th>Option_4</th>\n",
       "      <th>RC</th>\n",
       "    </tr>\n",
       "  </thead>\n",
       "  <tbody>\n",
       "    <tr>\n",
       "      <th>0</th>\n",
       "      <td>1. En cuanto a las características estructural...</td>\n",
       "      <td>1. La forma A tiene 24 pares de bases por vuel...</td>\n",
       "      <td>2. La estructura de la forma B es más corta y ...</td>\n",
       "      <td>3. En la forma B, el desplazamiento por residu...</td>\n",
       "      <td>4. La forma Z consiste en una doble hélice dex...</td>\n",
       "      <td>3.0</td>\n",
       "    </tr>\n",
       "    <tr>\n",
       "      <th>1</th>\n",
       "      <td>2. La hemólisis afecta sensiblemente a las con...</td>\n",
       "      <td>1. Aumenta el potasio y bajan el sodio y la LDH.</td>\n",
       "      <td>2. Aumentan la LDH y el potasio y baja el sodio.</td>\n",
       "      <td>3. Aumentan el sodio, la LDH y el potasio.</td>\n",
       "      <td>4. Aumentan la LDH y bajan el sodio y el potasio.</td>\n",
       "      <td>2.0</td>\n",
       "    </tr>\n",
       "    <tr>\n",
       "      <th>2</th>\n",
       "      <td>3. La mayor parte de los equivalente reductore...</td>\n",
       "      <td>1. La ruta de las pentosas fosfato.</td>\n",
       "      <td>2. La glucólisis.</td>\n",
       "      <td>3. El ciclo del ácido cítrico.</td>\n",
       "      <td>4. La gluconeogénesis.</td>\n",
       "      <td>1.0</td>\n",
       "    </tr>\n",
       "    <tr>\n",
       "      <th>3</th>\n",
       "      <td>4. Si la secuencia de un fragmento de una cade...</td>\n",
       "      <td>1. 5‘- TTACGGATGCCGAAT-3‘.</td>\n",
       "      <td>2. 5‘- AATGCCTACGGCTTA-3‘.</td>\n",
       "      <td>3. 5‘- TAAGCCGTAGGCATT-3‘.</td>\n",
       "      <td>4. 5‘- UAAGCCGUAGGCAUU-3‘.</td>\n",
       "      <td>3.0</td>\n",
       "    </tr>\n",
       "    <tr>\n",
       "      <th>4</th>\n",
       "      <td>5. ¿Qué enzima NO interviene en la ruta de las...</td>\n",
       "      <td>1. 6-fosfogluconolactonasa.</td>\n",
       "      <td>2. Glucosa 6-fosfato deshidrogenasa.</td>\n",
       "      <td>3. 6-fosfogluconato deshidrogenasa.</td>\n",
       "      <td>4. Fosfoglucosa isomerasa.</td>\n",
       "      <td>4.0</td>\n",
       "    </tr>\n",
       "    <tr>\n",
       "      <th>5</th>\n",
       "      <td>6. En referencia a la Somatostatina, señale la...</td>\n",
       "      <td>1. Es un tetradecapéptido que inhibe la hormon...</td>\n",
       "      <td>2. Es una hormona hipotalámica.</td>\n",
       "      <td>3. Es una hormona que estimula la secreción de...</td>\n",
       "      <td>4. Es una hormona que inhibe la insulina pancr...</td>\n",
       "      <td>3.0</td>\n",
       "    </tr>\n",
       "    <tr>\n",
       "      <th>6</th>\n",
       "      <td>7. Una enzima que sigue una cinética clásica d...</td>\n",
       "      <td>1. 40 μM/min.</td>\n",
       "      <td>2. 50 μM/min.</td>\n",
       "      <td>3. 70 μM/min.</td>\n",
       "      <td>4. 100 μM/min.</td>\n",
       "      <td>1.0</td>\n",
       "    </tr>\n",
       "    <tr>\n",
       "      <th>7</th>\n",
       "      <td>8. ¿Cuál de las siguientes afirmaciones es cor...</td>\n",
       "      <td>1. Produce varias moléculas de ATP en cada vue...</td>\n",
       "      <td>2. Se gastan varias moléculas de oxígeno direc...</td>\n",
       "      <td>3. Sus intermediarios se pueden reponer por re...</td>\n",
       "      <td>4. El principal punto de control del ciclo es ...</td>\n",
       "      <td>3.0</td>\n",
       "    </tr>\n",
       "    <tr>\n",
       "      <th>8</th>\n",
       "      <td>9. El término proteoma se refiere a:</td>\n",
       "      <td>1. El conjunto de todos los genes codificantes...</td>\n",
       "      <td>2. Las modificaciones post-traduccionales que ...</td>\n",
       "      <td>3. El conjunto de proteínas presentes en los l...</td>\n",
       "      <td>4. El conjunto de proteínas producido por el g...</td>\n",
       "      <td>4.0</td>\n",
       "    </tr>\n",
       "    <tr>\n",
       "      <th>9</th>\n",
       "      <td>10. Los ácidos grasos trans:</td>\n",
       "      <td>1. Constituyen la forma natural de los ácidos ...</td>\n",
       "      <td>2. Promueven un aumento en la concentración de...</td>\n",
       "      <td>3. Presentan una temperatura de fusión inferio...</td>\n",
       "      <td>4. Se generan mayoritariamente en procesos ind...</td>\n",
       "      <td>4.0</td>\n",
       "    </tr>\n",
       "  </tbody>\n",
       "</table>\n",
       "</div>"
      ],
      "text/plain": [
       "                                            Question  \\\n",
       "0  1. En cuanto a las características estructural...   \n",
       "1  2. La hemólisis afecta sensiblemente a las con...   \n",
       "2  3. La mayor parte de los equivalente reductore...   \n",
       "3  4. Si la secuencia de un fragmento de una cade...   \n",
       "4  5. ¿Qué enzima NO interviene en la ruta de las...   \n",
       "5  6. En referencia a la Somatostatina, señale la...   \n",
       "6  7. Una enzima que sigue una cinética clásica d...   \n",
       "7  8. ¿Cuál de las siguientes afirmaciones es cor...   \n",
       "8               9. El término proteoma se refiere a:   \n",
       "9                       10. Los ácidos grasos trans:   \n",
       "\n",
       "                                            Option_1  \\\n",
       "0  1. La forma A tiene 24 pares de bases por vuel...   \n",
       "1   1. Aumenta el potasio y bajan el sodio y la LDH.   \n",
       "2                1. La ruta de las pentosas fosfato.   \n",
       "3                         1. 5‘- TTACGGATGCCGAAT-3‘.   \n",
       "4                        1. 6-fosfogluconolactonasa.   \n",
       "5  1. Es un tetradecapéptido que inhibe la hormon...   \n",
       "6                                      1. 40 μM/min.   \n",
       "7  1. Produce varias moléculas de ATP en cada vue...   \n",
       "8  1. El conjunto de todos los genes codificantes...   \n",
       "9  1. Constituyen la forma natural de los ácidos ...   \n",
       "\n",
       "                                            Option_2  \\\n",
       "0  2. La estructura de la forma B es más corta y ...   \n",
       "1   2. Aumentan la LDH y el potasio y baja el sodio.   \n",
       "2                                  2. La glucólisis.   \n",
       "3                         2. 5‘- AATGCCTACGGCTTA-3‘.   \n",
       "4               2. Glucosa 6-fosfato deshidrogenasa.   \n",
       "5                    2. Es una hormona hipotalámica.   \n",
       "6                                      2. 50 μM/min.   \n",
       "7  2. Se gastan varias moléculas de oxígeno direc...   \n",
       "8  2. Las modificaciones post-traduccionales que ...   \n",
       "9  2. Promueven un aumento en la concentración de...   \n",
       "\n",
       "                                            Option_3  \\\n",
       "0  3. En la forma B, el desplazamiento por residu...   \n",
       "1         3. Aumentan el sodio, la LDH y el potasio.   \n",
       "2                     3. El ciclo del ácido cítrico.   \n",
       "3                         3. 5‘- TAAGCCGTAGGCATT-3‘.   \n",
       "4                3. 6-fosfogluconato deshidrogenasa.   \n",
       "5  3. Es una hormona que estimula la secreción de...   \n",
       "6                                      3. 70 μM/min.   \n",
       "7  3. Sus intermediarios se pueden reponer por re...   \n",
       "8  3. El conjunto de proteínas presentes en los l...   \n",
       "9  3. Presentan una temperatura de fusión inferio...   \n",
       "\n",
       "                                            Option_4   RC  \n",
       "0  4. La forma Z consiste en una doble hélice dex...  3.0  \n",
       "1  4. Aumentan la LDH y bajan el sodio y el potasio.  2.0  \n",
       "2                             4. La gluconeogénesis.  1.0  \n",
       "3                         4. 5‘- UAAGCCGUAGGCAUU-3‘.  3.0  \n",
       "4                         4. Fosfoglucosa isomerasa.  4.0  \n",
       "5  4. Es una hormona que inhibe la insulina pancr...  3.0  \n",
       "6                                     4. 100 μM/min.  1.0  \n",
       "7  4. El principal punto de control del ciclo es ...  3.0  \n",
       "8  4. El conjunto de proteínas producido por el g...  4.0  \n",
       "9  4. Se generan mayoritariamente en procesos ind...  4.0  "
      ]
     },
     "execution_count": 30,
     "metadata": {},
     "output_type": "execute_result"
    }
   ],
   "source": [
    "processed_exam_df: pd.DataFrame = pd.concat([exam_df_pivot, answers_df_clean], axis=1)\n",
    "processed_exam_df = processed_exam_df.drop(columns=[\"V\"])\n",
    "processed_exam_df.head(10)"
   ]
  },
  {
   "cell_type": "markdown",
   "metadata": {},
   "source": [
    "**2. Identifying and Handling Missing Values:**\n",
    "\n",
    "Missing values are then replaced with 0."
   ]
  },
  {
   "cell_type": "code",
   "execution_count": 31,
   "metadata": {},
   "outputs": [],
   "source": [
    "processed_exam_df = processed_exam_df.fillna(0)"
   ]
  },
  {
   "cell_type": "markdown",
   "metadata": {},
   "source": [
    "**3. Verifying Missing Values and Data Types:**\n",
    "\n",
    "The number of missing values in each column is checked, and the data types of the columns are displayed. The 'RC' (correct answer) column is then converted to integer type."
   ]
  },
  {
   "cell_type": "code",
   "execution_count": 32,
   "metadata": {},
   "outputs": [
    {
     "data": {
      "text/plain": [
       "Question    object\n",
       "Option_1    object\n",
       "Option_2    object\n",
       "Option_3    object\n",
       "Option_4    object\n",
       "RC           int32\n",
       "dtype: object"
      ]
     },
     "execution_count": 32,
     "metadata": {},
     "output_type": "execute_result"
    }
   ],
   "source": [
    "processed_exam_df.isnull().sum()\n",
    "processed_exam_df[\"RC\"] = processed_exam_df[\"RC\"].astype(int)\n",
    "processed_exam_df.dtypes"
   ]
  },
  {
   "cell_type": "markdown",
   "metadata": {},
   "source": [
    "**4. Adding year column**\n",
    "\n",
    "A column containing the year of the exam is added to the DataFrame."
   ]
  },
  {
   "cell_type": "code",
   "execution_count": 33,
   "metadata": {},
   "outputs": [],
   "source": [
    "processed_exam_df[\"year\"] = year"
   ]
  },
  {
   "cell_type": "markdown",
   "metadata": {},
   "source": [
    "**5. Displaying the Final DataFrame:**\n",
    "\n",
    "The first 10 rows of the final joined and cleaned DataFrame are displayed."
   ]
  },
  {
   "cell_type": "code",
   "execution_count": 34,
   "metadata": {},
   "outputs": [
    {
     "data": {
      "application/vnd.microsoft.datawrangler.viewer.v0+json": {
       "columns": [
        {
         "name": "index",
         "rawType": "int64",
         "type": "integer"
        },
        {
         "name": "Question",
         "rawType": "object",
         "type": "string"
        },
        {
         "name": "Option_1",
         "rawType": "object",
         "type": "string"
        },
        {
         "name": "Option_2",
         "rawType": "object",
         "type": "string"
        },
        {
         "name": "Option_3",
         "rawType": "object",
         "type": "string"
        },
        {
         "name": "Option_4",
         "rawType": "object",
         "type": "string"
        },
        {
         "name": "RC",
         "rawType": "int32",
         "type": "integer"
        },
        {
         "name": "year",
         "rawType": "int64",
         "type": "integer"
        }
       ],
       "conversionMethod": "pd.DataFrame",
       "ref": "151ff7bb-3b7e-4b80-bf3b-60219b5da79c",
       "rows": [
        [
         "0",
         "1. En cuanto a las características estructurales del DNA, señale la respuesta correcta:",
         "1. La forma A tiene 24 pares de bases por vuelta helicoidal.",
         "2. La estructura de la forma B es más corta y gruesa que las formas A y Z.",
         "3. En la forma B, el desplazamiento por residuo es de unos 3.4 A.",
         "4. La forma Z consiste en una doble hélice dextrógira.",
         "3",
         "2020"
        ],
        [
         "1",
         "2. La hemólisis afecta sensiblemente a las concentraciones séricas de diferentes constituyentes. De las siguientes, ¿cuál es la afirmación correcta?:",
         "1. Aumenta el potasio y bajan el sodio y la LDH.",
         "2. Aumentan la LDH y el potasio y baja el sodio.",
         "3. Aumentan el sodio, la LDH y el potasio.",
         "4. Aumentan la LDH y bajan el sodio y el potasio.",
         "2",
         "2020"
        ],
        [
         "2",
         "3. La mayor parte de los equivalente reductores que se utilizan para la síntesis de ácidos grasos se generan en:",
         "1. La ruta de las pentosas fosfato.",
         "2. La glucólisis.",
         "3. El ciclo del ácido cítrico.",
         "4. La gluconeogénesis.",
         "1",
         "2020"
        ],
        [
         "3",
         "4. Si la secuencia de un fragmento de una cadena de DNA es 5‘- AATGCCTACGGCTTA-3‘, ¿cuál será la secuencia de la cadena complementaria?:",
         "1. 5‘- TTACGGATGCCGAAT-3‘.",
         "2. 5‘- AATGCCTACGGCTTA-3‘.",
         "3. 5‘- TAAGCCGTAGGCATT-3‘.",
         "4. 5‘- UAAGCCGUAGGCAUU-3‘.",
         "3",
         "2020"
        ],
        [
         "4",
         "5. ¿Qué enzima NO interviene en la ruta de las pentosas fosfato?:",
         "1. 6-fosfogluconolactonasa.",
         "2. Glucosa 6-fosfato deshidrogenasa.",
         "3. 6-fosfogluconato deshidrogenasa.",
         "4. Fosfoglucosa isomerasa.",
         "4",
         "2020"
        ],
        [
         "5",
         "6. En referencia a la Somatostatina, señale la respuesta FALSA:",
         "1. Es un tetradecapéptido que inhibe la hormona del crecimiento.",
         "2. Es una hormona hipotalámica.",
         "3. Es una hormona que estimula la secreción de glucagón.",
         "4. Es una hormona que inhibe la insulina pancreática.",
         "3",
         "2020"
        ],
        [
         "6",
         "7. Una enzima que sigue una cinética clásica de Michaelis-Menten presenta una Vmax= 100  μM/min y una Km = 15 μM. ¿Cuál será la velocidad de reacción, V0, cuando [S] = 10 μM? :",
         "1. 40 μM/min.",
         "2. 50 μM/min.",
         "3. 70 μM/min.",
         "4. 100 μM/min.",
         "1",
         "2020"
        ],
        [
         "7",
         "8. ¿Cuál de las siguientes afirmaciones es correcta para el ciclo del ácido cítrico?:",
         "1. Produce varias moléculas de ATP en cada vuelta.",
         "2. Se gastan varias moléculas de oxígeno directamente en la oxidación del acetil-CoA.",
         "3. Sus intermediarios se pueden reponer por reacciones anapleróticas.",
         "4. El principal punto de control del ciclo es la primera reacción del mismo, inhibida por ADP.",
         "3",
         "2020"
        ],
        [
         "8",
         "9. El término proteoma se refiere a:",
         "1. El conjunto de todos los genes codificantes de proteína de un organismo.",
         "2. Las modificaciones post-traduccionales que sufren las proteínas.",
         "3. El conjunto de proteínas presentes en los lisosomas.",
         "4. El conjunto de proteínas producido por el genoma de una célula.",
         "4",
         "2020"
        ],
        [
         "9",
         "10. Los ácidos grasos trans:",
         "1. Constituyen la forma natural de los ácidos grasos insaturados en los tejidos animales.",
         "2. Promueven un aumento en la concentración de las lipopotreínas de alta densidad (HDL)",
         "3. Presentan una temperatura de fusión inferior a la de sus equivalentes en configuración cis con el mismo número de átomos de C y de insaturaciones.",
         "4. Se generan mayoritariamente en procesos industriales de hidrogenación parcial.",
         "4",
         "2020"
        ]
       ],
       "shape": {
        "columns": 7,
        "rows": 10
       }
      },
      "text/html": [
       "<div>\n",
       "<style scoped>\n",
       "    .dataframe tbody tr th:only-of-type {\n",
       "        vertical-align: middle;\n",
       "    }\n",
       "\n",
       "    .dataframe tbody tr th {\n",
       "        vertical-align: top;\n",
       "    }\n",
       "\n",
       "    .dataframe thead th {\n",
       "        text-align: right;\n",
       "    }\n",
       "</style>\n",
       "<table border=\"1\" class=\"dataframe\">\n",
       "  <thead>\n",
       "    <tr style=\"text-align: right;\">\n",
       "      <th></th>\n",
       "      <th>Question</th>\n",
       "      <th>Option_1</th>\n",
       "      <th>Option_2</th>\n",
       "      <th>Option_3</th>\n",
       "      <th>Option_4</th>\n",
       "      <th>RC</th>\n",
       "      <th>year</th>\n",
       "    </tr>\n",
       "  </thead>\n",
       "  <tbody>\n",
       "    <tr>\n",
       "      <th>0</th>\n",
       "      <td>1. En cuanto a las características estructural...</td>\n",
       "      <td>1. La forma A tiene 24 pares de bases por vuel...</td>\n",
       "      <td>2. La estructura de la forma B es más corta y ...</td>\n",
       "      <td>3. En la forma B, el desplazamiento por residu...</td>\n",
       "      <td>4. La forma Z consiste en una doble hélice dex...</td>\n",
       "      <td>3</td>\n",
       "      <td>2020</td>\n",
       "    </tr>\n",
       "    <tr>\n",
       "      <th>1</th>\n",
       "      <td>2. La hemólisis afecta sensiblemente a las con...</td>\n",
       "      <td>1. Aumenta el potasio y bajan el sodio y la LDH.</td>\n",
       "      <td>2. Aumentan la LDH y el potasio y baja el sodio.</td>\n",
       "      <td>3. Aumentan el sodio, la LDH y el potasio.</td>\n",
       "      <td>4. Aumentan la LDH y bajan el sodio y el potasio.</td>\n",
       "      <td>2</td>\n",
       "      <td>2020</td>\n",
       "    </tr>\n",
       "    <tr>\n",
       "      <th>2</th>\n",
       "      <td>3. La mayor parte de los equivalente reductore...</td>\n",
       "      <td>1. La ruta de las pentosas fosfato.</td>\n",
       "      <td>2. La glucólisis.</td>\n",
       "      <td>3. El ciclo del ácido cítrico.</td>\n",
       "      <td>4. La gluconeogénesis.</td>\n",
       "      <td>1</td>\n",
       "      <td>2020</td>\n",
       "    </tr>\n",
       "    <tr>\n",
       "      <th>3</th>\n",
       "      <td>4. Si la secuencia de un fragmento de una cade...</td>\n",
       "      <td>1. 5‘- TTACGGATGCCGAAT-3‘.</td>\n",
       "      <td>2. 5‘- AATGCCTACGGCTTA-3‘.</td>\n",
       "      <td>3. 5‘- TAAGCCGTAGGCATT-3‘.</td>\n",
       "      <td>4. 5‘- UAAGCCGUAGGCAUU-3‘.</td>\n",
       "      <td>3</td>\n",
       "      <td>2020</td>\n",
       "    </tr>\n",
       "    <tr>\n",
       "      <th>4</th>\n",
       "      <td>5. ¿Qué enzima NO interviene en la ruta de las...</td>\n",
       "      <td>1. 6-fosfogluconolactonasa.</td>\n",
       "      <td>2. Glucosa 6-fosfato deshidrogenasa.</td>\n",
       "      <td>3. 6-fosfogluconato deshidrogenasa.</td>\n",
       "      <td>4. Fosfoglucosa isomerasa.</td>\n",
       "      <td>4</td>\n",
       "      <td>2020</td>\n",
       "    </tr>\n",
       "    <tr>\n",
       "      <th>5</th>\n",
       "      <td>6. En referencia a la Somatostatina, señale la...</td>\n",
       "      <td>1. Es un tetradecapéptido que inhibe la hormon...</td>\n",
       "      <td>2. Es una hormona hipotalámica.</td>\n",
       "      <td>3. Es una hormona que estimula la secreción de...</td>\n",
       "      <td>4. Es una hormona que inhibe la insulina pancr...</td>\n",
       "      <td>3</td>\n",
       "      <td>2020</td>\n",
       "    </tr>\n",
       "    <tr>\n",
       "      <th>6</th>\n",
       "      <td>7. Una enzima que sigue una cinética clásica d...</td>\n",
       "      <td>1. 40 μM/min.</td>\n",
       "      <td>2. 50 μM/min.</td>\n",
       "      <td>3. 70 μM/min.</td>\n",
       "      <td>4. 100 μM/min.</td>\n",
       "      <td>1</td>\n",
       "      <td>2020</td>\n",
       "    </tr>\n",
       "    <tr>\n",
       "      <th>7</th>\n",
       "      <td>8. ¿Cuál de las siguientes afirmaciones es cor...</td>\n",
       "      <td>1. Produce varias moléculas de ATP en cada vue...</td>\n",
       "      <td>2. Se gastan varias moléculas de oxígeno direc...</td>\n",
       "      <td>3. Sus intermediarios se pueden reponer por re...</td>\n",
       "      <td>4. El principal punto de control del ciclo es ...</td>\n",
       "      <td>3</td>\n",
       "      <td>2020</td>\n",
       "    </tr>\n",
       "    <tr>\n",
       "      <th>8</th>\n",
       "      <td>9. El término proteoma se refiere a:</td>\n",
       "      <td>1. El conjunto de todos los genes codificantes...</td>\n",
       "      <td>2. Las modificaciones post-traduccionales que ...</td>\n",
       "      <td>3. El conjunto de proteínas presentes en los l...</td>\n",
       "      <td>4. El conjunto de proteínas producido por el g...</td>\n",
       "      <td>4</td>\n",
       "      <td>2020</td>\n",
       "    </tr>\n",
       "    <tr>\n",
       "      <th>9</th>\n",
       "      <td>10. Los ácidos grasos trans:</td>\n",
       "      <td>1. Constituyen la forma natural de los ácidos ...</td>\n",
       "      <td>2. Promueven un aumento en la concentración de...</td>\n",
       "      <td>3. Presentan una temperatura de fusión inferio...</td>\n",
       "      <td>4. Se generan mayoritariamente en procesos ind...</td>\n",
       "      <td>4</td>\n",
       "      <td>2020</td>\n",
       "    </tr>\n",
       "  </tbody>\n",
       "</table>\n",
       "</div>"
      ],
      "text/plain": [
       "                                            Question  \\\n",
       "0  1. En cuanto a las características estructural...   \n",
       "1  2. La hemólisis afecta sensiblemente a las con...   \n",
       "2  3. La mayor parte de los equivalente reductore...   \n",
       "3  4. Si la secuencia de un fragmento de una cade...   \n",
       "4  5. ¿Qué enzima NO interviene en la ruta de las...   \n",
       "5  6. En referencia a la Somatostatina, señale la...   \n",
       "6  7. Una enzima que sigue una cinética clásica d...   \n",
       "7  8. ¿Cuál de las siguientes afirmaciones es cor...   \n",
       "8               9. El término proteoma se refiere a:   \n",
       "9                       10. Los ácidos grasos trans:   \n",
       "\n",
       "                                            Option_1  \\\n",
       "0  1. La forma A tiene 24 pares de bases por vuel...   \n",
       "1   1. Aumenta el potasio y bajan el sodio y la LDH.   \n",
       "2                1. La ruta de las pentosas fosfato.   \n",
       "3                         1. 5‘- TTACGGATGCCGAAT-3‘.   \n",
       "4                        1. 6-fosfogluconolactonasa.   \n",
       "5  1. Es un tetradecapéptido que inhibe la hormon...   \n",
       "6                                      1. 40 μM/min.   \n",
       "7  1. Produce varias moléculas de ATP en cada vue...   \n",
       "8  1. El conjunto de todos los genes codificantes...   \n",
       "9  1. Constituyen la forma natural de los ácidos ...   \n",
       "\n",
       "                                            Option_2  \\\n",
       "0  2. La estructura de la forma B es más corta y ...   \n",
       "1   2. Aumentan la LDH y el potasio y baja el sodio.   \n",
       "2                                  2. La glucólisis.   \n",
       "3                         2. 5‘- AATGCCTACGGCTTA-3‘.   \n",
       "4               2. Glucosa 6-fosfato deshidrogenasa.   \n",
       "5                    2. Es una hormona hipotalámica.   \n",
       "6                                      2. 50 μM/min.   \n",
       "7  2. Se gastan varias moléculas de oxígeno direc...   \n",
       "8  2. Las modificaciones post-traduccionales que ...   \n",
       "9  2. Promueven un aumento en la concentración de...   \n",
       "\n",
       "                                            Option_3  \\\n",
       "0  3. En la forma B, el desplazamiento por residu...   \n",
       "1         3. Aumentan el sodio, la LDH y el potasio.   \n",
       "2                     3. El ciclo del ácido cítrico.   \n",
       "3                         3. 5‘- TAAGCCGTAGGCATT-3‘.   \n",
       "4                3. 6-fosfogluconato deshidrogenasa.   \n",
       "5  3. Es una hormona que estimula la secreción de...   \n",
       "6                                      3. 70 μM/min.   \n",
       "7  3. Sus intermediarios se pueden reponer por re...   \n",
       "8  3. El conjunto de proteínas presentes en los l...   \n",
       "9  3. Presentan una temperatura de fusión inferio...   \n",
       "\n",
       "                                            Option_4  RC  year  \n",
       "0  4. La forma Z consiste en una doble hélice dex...   3  2020  \n",
       "1  4. Aumentan la LDH y bajan el sodio y el potasio.   2  2020  \n",
       "2                             4. La gluconeogénesis.   1  2020  \n",
       "3                         4. 5‘- UAAGCCGUAGGCAUU-3‘.   3  2020  \n",
       "4                         4. Fosfoglucosa isomerasa.   4  2020  \n",
       "5  4. Es una hormona que inhibe la insulina pancr...   3  2020  \n",
       "6                                     4. 100 μM/min.   1  2020  \n",
       "7  4. El principal punto de control del ciclo es ...   3  2020  \n",
       "8  4. El conjunto de proteínas producido por el g...   4  2020  \n",
       "9  4. Se generan mayoritariamente en procesos ind...   4  2020  "
      ]
     },
     "execution_count": 34,
     "metadata": {},
     "output_type": "execute_result"
    }
   ],
   "source": [
    "processed_exam_df.head(10)"
   ]
  },
  {
   "cell_type": "code",
   "execution_count": 35,
   "metadata": {},
   "outputs": [
    {
     "data": {
      "application/vnd.microsoft.datawrangler.viewer.v0+json": {
       "columns": [
        {
         "name": "index",
         "rawType": "int64",
         "type": "integer"
        },
        {
         "name": "Question",
         "rawType": "object",
         "type": "string"
        },
        {
         "name": "Option_1",
         "rawType": "object",
         "type": "string"
        },
        {
         "name": "Option_2",
         "rawType": "object",
         "type": "string"
        },
        {
         "name": "Option_3",
         "rawType": "object",
         "type": "string"
        },
        {
         "name": "Option_4",
         "rawType": "object",
         "type": "string"
        },
        {
         "name": "RC",
         "rawType": "int32",
         "type": "integer"
        },
        {
         "name": "year",
         "rawType": "int64",
         "type": "integer"
        }
       ],
       "conversionMethod": "pd.DataFrame",
       "ref": "cb0fc514-4cce-4ae8-8803-1eafae9d1971",
       "rows": [
        [
         "175",
         "176. El valor predictivo positivo de una prueba se define como:",
         "1. El cociente de verdaderos positivos dividido por verdaderos positivos más falsos positivos.",
         "2. El cociente de verdaderos positivos dividido por verdaderos positivos más falsos negativos.",
         "3. La sensibilidad de la prueba dividida por 1- especificidad.",
         "4. El cociente de verdaderos negativos dividido por verdaderos negativos más falsos negativos.",
         "1",
         "2020"
        ],
        [
         "176",
         "177. La anemia perniciosa es uno de los síntomas obvios de la deficiencia de:",
         "1. Níquel.",
         "2. Calcio.",
         "3. Magnesio.",
         "4. Cobalto.",
         "4",
         "2020"
        ],
        [
         "177",
         "178. ¿Qué afirmación es correcta?:",
         "1. En las células se producen modos de transporte de iones tanto activos como pasivos.",
         "2. En las células se producen modos de transporte de iones pasivos.",
         "3. En las células se producen modos de transporte de iones activos primarios.",
         "4. En las células se producen modos de transporte de iones activos secundarios.",
         "1",
         "2020"
        ],
        [
         "178",
         "179. ¿Qué es la fotoconductividad?:",
         "1. Es el cambio de color que presenta un sólido cuando sobre él incide luz.",
         "2. Es el incremento de conductividad debido al aumento de transportadores de carga como consecuencia de transiciones electrónicas inducidas por fotones en las cuales se absorbe luz.",
         "3. Es el incremento de conductividad debido al aumento de transportadores de carga como consecuencia de transiciones electrónicas inducidas por fotones en las cuales se emite luz.",
         "4. Es la disminución de conductividad debido al aumento de transportadores de carga como consecuencia de transiciones electrónicas inducidas por fotones en las cuales se emite luz.",
         "2",
         "2020"
        ],
        [
         "179",
         "180. ¿Cuál de las siguientes es una enzima que contiene selenio?:",
         "1. Dopamina beta-hidroxilasa.",
         "2. Tirosinasa.",
         "3. Ureasa.",
         "4. Glutatión peroxidasa.",
         "4",
         "2020"
        ],
        [
         "180",
         "181. Si queremos estudiar la exactitud de un método utilizando un material de referencia certificado, ¿qué test estadísticos debemos aplicar?:",
         "1. Test t de Student de comparación de una media experimental con el valor certificado.",
         "2. Test t de Student de comparación de pares de valores.",
         "3. Test F de Fisher para comparar una media experimental con el valor certificado.",
         "4. Test Q de Dixon de comparación de pares de valores.",
         "1",
         "2020"
        ],
        [
         "181",
         "182. ¿Cuál de las siguientes frases es verdadera al hablar de un par de diastereómeros?:",
         "1. Tienen idénticas propiedades fisiológicas.",
         "2. Tienen rotaciones específicas de signos opuestos.",
         "3. Tienen idénticas propiedades químicas (por ej., reactividad).",
         "4. Tienen diferentes propiedades físicas.",
         "4",
         "2020"
        ],
        [
         "182",
         "183. Las formas de hemiacetal de los carbohidratos son inconvertibles en agua. La mezcla de equilibrio puede contener anómeros α y β de las estructuras de furanosa y piranosa. El cambio de una forma a la mezcla al equilibrio está acompañado de un cambio en la rotación óptica llamado:",
         "1. Efecto anomérico.",
         "2. Mutarrotación.",
         "3. Inversión óptica.",
         "4. Racemización.",
         "2",
         "2020"
        ],
        [
         "183",
         "184. ¿Cuál de los errores que pueden producirse en un método cualitativo es más grave cuando se busca la identificación/cuantificación de un tóxico?:",
         "1. Falsos negativos.",
         "2. Errores aleatorios.",
         "3. Falsos positivos.",
         "4. Errores anómalos.",
         "1",
         "2020"
        ],
        [
         "184",
         "185. ¿Cuál de las siguientes afirmaciones es la correcta en una reacción enzimática?:",
         "1. La enzima empuja a la derecha el equilibrio de la reacción.",
         "2. La enzima cambia el equilibrio constante de la reacción.",
         "3. La enzima aumenta la velocidad de reacción.",
         "4. La enzima altera la diferencia de energía entre reactantes y productos.",
         "3",
         "2020"
        ]
       ],
       "shape": {
        "columns": 7,
        "rows": 10
       }
      },
      "text/html": [
       "<div>\n",
       "<style scoped>\n",
       "    .dataframe tbody tr th:only-of-type {\n",
       "        vertical-align: middle;\n",
       "    }\n",
       "\n",
       "    .dataframe tbody tr th {\n",
       "        vertical-align: top;\n",
       "    }\n",
       "\n",
       "    .dataframe thead th {\n",
       "        text-align: right;\n",
       "    }\n",
       "</style>\n",
       "<table border=\"1\" class=\"dataframe\">\n",
       "  <thead>\n",
       "    <tr style=\"text-align: right;\">\n",
       "      <th></th>\n",
       "      <th>Question</th>\n",
       "      <th>Option_1</th>\n",
       "      <th>Option_2</th>\n",
       "      <th>Option_3</th>\n",
       "      <th>Option_4</th>\n",
       "      <th>RC</th>\n",
       "      <th>year</th>\n",
       "    </tr>\n",
       "  </thead>\n",
       "  <tbody>\n",
       "    <tr>\n",
       "      <th>175</th>\n",
       "      <td>176. El valor predictivo positivo de una prueb...</td>\n",
       "      <td>1. El cociente de verdaderos positivos dividid...</td>\n",
       "      <td>2. El cociente de verdaderos positivos dividid...</td>\n",
       "      <td>3. La sensibilidad de la prueba dividida por 1...</td>\n",
       "      <td>4. El cociente de verdaderos negativos dividid...</td>\n",
       "      <td>1</td>\n",
       "      <td>2020</td>\n",
       "    </tr>\n",
       "    <tr>\n",
       "      <th>176</th>\n",
       "      <td>177. La anemia perniciosa es uno de los síntom...</td>\n",
       "      <td>1. Níquel.</td>\n",
       "      <td>2. Calcio.</td>\n",
       "      <td>3. Magnesio.</td>\n",
       "      <td>4. Cobalto.</td>\n",
       "      <td>4</td>\n",
       "      <td>2020</td>\n",
       "    </tr>\n",
       "    <tr>\n",
       "      <th>177</th>\n",
       "      <td>178. ¿Qué afirmación es correcta?:</td>\n",
       "      <td>1. En las células se producen modos de transpo...</td>\n",
       "      <td>2. En las células se producen modos de transpo...</td>\n",
       "      <td>3. En las células se producen modos de transpo...</td>\n",
       "      <td>4. En las células se producen modos de transpo...</td>\n",
       "      <td>1</td>\n",
       "      <td>2020</td>\n",
       "    </tr>\n",
       "    <tr>\n",
       "      <th>178</th>\n",
       "      <td>179. ¿Qué es la fotoconductividad?:</td>\n",
       "      <td>1. Es el cambio de color que presenta un sólid...</td>\n",
       "      <td>2. Es el incremento de conductividad debido al...</td>\n",
       "      <td>3. Es el incremento de conductividad debido al...</td>\n",
       "      <td>4. Es la disminución de conductividad debido a...</td>\n",
       "      <td>2</td>\n",
       "      <td>2020</td>\n",
       "    </tr>\n",
       "    <tr>\n",
       "      <th>179</th>\n",
       "      <td>180. ¿Cuál de las siguientes es una enzima que...</td>\n",
       "      <td>1. Dopamina beta-hidroxilasa.</td>\n",
       "      <td>2. Tirosinasa.</td>\n",
       "      <td>3. Ureasa.</td>\n",
       "      <td>4. Glutatión peroxidasa.</td>\n",
       "      <td>4</td>\n",
       "      <td>2020</td>\n",
       "    </tr>\n",
       "    <tr>\n",
       "      <th>180</th>\n",
       "      <td>181. Si queremos estudiar la exactitud de un m...</td>\n",
       "      <td>1. Test t de Student de comparación de una med...</td>\n",
       "      <td>2. Test t de Student de comparación de pares d...</td>\n",
       "      <td>3. Test F de Fisher para comparar una media ex...</td>\n",
       "      <td>4. Test Q de Dixon de comparación de pares de ...</td>\n",
       "      <td>1</td>\n",
       "      <td>2020</td>\n",
       "    </tr>\n",
       "    <tr>\n",
       "      <th>181</th>\n",
       "      <td>182. ¿Cuál de las siguientes frases es verdade...</td>\n",
       "      <td>1. Tienen idénticas propiedades fisiológicas.</td>\n",
       "      <td>2. Tienen rotaciones específicas de signos opu...</td>\n",
       "      <td>3. Tienen idénticas propiedades químicas (por ...</td>\n",
       "      <td>4. Tienen diferentes propiedades físicas.</td>\n",
       "      <td>4</td>\n",
       "      <td>2020</td>\n",
       "    </tr>\n",
       "    <tr>\n",
       "      <th>182</th>\n",
       "      <td>183. Las formas de hemiacetal de los carbohidr...</td>\n",
       "      <td>1. Efecto anomérico.</td>\n",
       "      <td>2. Mutarrotación.</td>\n",
       "      <td>3. Inversión óptica.</td>\n",
       "      <td>4. Racemización.</td>\n",
       "      <td>2</td>\n",
       "      <td>2020</td>\n",
       "    </tr>\n",
       "    <tr>\n",
       "      <th>183</th>\n",
       "      <td>184. ¿Cuál de los errores que pueden producirs...</td>\n",
       "      <td>1. Falsos negativos.</td>\n",
       "      <td>2. Errores aleatorios.</td>\n",
       "      <td>3. Falsos positivos.</td>\n",
       "      <td>4. Errores anómalos.</td>\n",
       "      <td>1</td>\n",
       "      <td>2020</td>\n",
       "    </tr>\n",
       "    <tr>\n",
       "      <th>184</th>\n",
       "      <td>185. ¿Cuál de las siguientes afirmaciones es l...</td>\n",
       "      <td>1. La enzima empuja a la derecha el equilibrio...</td>\n",
       "      <td>2. La enzima cambia el equilibrio constante de...</td>\n",
       "      <td>3. La enzima aumenta la velocidad de reacción.</td>\n",
       "      <td>4. La enzima altera la diferencia de energía e...</td>\n",
       "      <td>3</td>\n",
       "      <td>2020</td>\n",
       "    </tr>\n",
       "  </tbody>\n",
       "</table>\n",
       "</div>"
      ],
      "text/plain": [
       "                                              Question  \\\n",
       "175  176. El valor predictivo positivo de una prueb...   \n",
       "176  177. La anemia perniciosa es uno de los síntom...   \n",
       "177                 178. ¿Qué afirmación es correcta?:   \n",
       "178                179. ¿Qué es la fotoconductividad?:   \n",
       "179  180. ¿Cuál de las siguientes es una enzima que...   \n",
       "180  181. Si queremos estudiar la exactitud de un m...   \n",
       "181  182. ¿Cuál de las siguientes frases es verdade...   \n",
       "182  183. Las formas de hemiacetal de los carbohidr...   \n",
       "183  184. ¿Cuál de los errores que pueden producirs...   \n",
       "184  185. ¿Cuál de las siguientes afirmaciones es l...   \n",
       "\n",
       "                                              Option_1  \\\n",
       "175  1. El cociente de verdaderos positivos dividid...   \n",
       "176                                         1. Níquel.   \n",
       "177  1. En las células se producen modos de transpo...   \n",
       "178  1. Es el cambio de color que presenta un sólid...   \n",
       "179                      1. Dopamina beta-hidroxilasa.   \n",
       "180  1. Test t de Student de comparación de una med...   \n",
       "181      1. Tienen idénticas propiedades fisiológicas.   \n",
       "182                               1. Efecto anomérico.   \n",
       "183                               1. Falsos negativos.   \n",
       "184  1. La enzima empuja a la derecha el equilibrio...   \n",
       "\n",
       "                                              Option_2  \\\n",
       "175  2. El cociente de verdaderos positivos dividid...   \n",
       "176                                         2. Calcio.   \n",
       "177  2. En las células se producen modos de transpo...   \n",
       "178  2. Es el incremento de conductividad debido al...   \n",
       "179                                     2. Tirosinasa.   \n",
       "180  2. Test t de Student de comparación de pares d...   \n",
       "181  2. Tienen rotaciones específicas de signos opu...   \n",
       "182                                  2. Mutarrotación.   \n",
       "183                             2. Errores aleatorios.   \n",
       "184  2. La enzima cambia el equilibrio constante de...   \n",
       "\n",
       "                                              Option_3  \\\n",
       "175  3. La sensibilidad de la prueba dividida por 1...   \n",
       "176                                       3. Magnesio.   \n",
       "177  3. En las células se producen modos de transpo...   \n",
       "178  3. Es el incremento de conductividad debido al...   \n",
       "179                                         3. Ureasa.   \n",
       "180  3. Test F de Fisher para comparar una media ex...   \n",
       "181  3. Tienen idénticas propiedades químicas (por ...   \n",
       "182                               3. Inversión óptica.   \n",
       "183                               3. Falsos positivos.   \n",
       "184     3. La enzima aumenta la velocidad de reacción.   \n",
       "\n",
       "                                              Option_4  RC  year  \n",
       "175  4. El cociente de verdaderos negativos dividid...   1  2020  \n",
       "176                                        4. Cobalto.   4  2020  \n",
       "177  4. En las células se producen modos de transpo...   1  2020  \n",
       "178  4. Es la disminución de conductividad debido a...   2  2020  \n",
       "179                           4. Glutatión peroxidasa.   4  2020  \n",
       "180  4. Test Q de Dixon de comparación de pares de ...   1  2020  \n",
       "181          4. Tienen diferentes propiedades físicas.   4  2020  \n",
       "182                                   4. Racemización.   2  2020  \n",
       "183                               4. Errores anómalos.   1  2020  \n",
       "184  4. La enzima altera la diferencia de energía e...   3  2020  "
      ]
     },
     "execution_count": 35,
     "metadata": {},
     "output_type": "execute_result"
    }
   ],
   "source": [
    "processed_exam_df.tail(10)"
   ]
  },
  {
   "cell_type": "markdown",
   "metadata": {},
   "source": [
    "### Filtering by relevant questions\n",
    "\n",
    "**1. Filtering for id**\n",
    "\n",
    "A list of the number of question is used to filter the DataFrame, but first doing a -1 so it matches with the id. \n",
    "\n",
    "Finally the indexes are reseted"
   ]
  },
  {
   "cell_type": "code",
   "execution_count": 36,
   "metadata": {},
   "outputs": [
    {
     "name": "stdout",
     "output_type": "stream",
     "text": [
      "Expected number of rows = 35\n",
      "Number of rows in filtered df = 35\n"
     ]
    }
   ],
   "source": [
    "id_filter = [x for x in range(0, 33, 1)] + [179, 184]\n",
    "processed_exam_df_filtered = processed_exam_df.iloc[id_filter]\n",
    "processed_exam_df_filtered = processed_exam_df_filtered.reset_index(drop= True)\n",
    "print(f\"Expected number of rows = {len(id_filter)}\\nNumber of rows in filtered df = {processed_exam_df_filtered.shape[0]}\")"
   ]
  },
  {
   "cell_type": "markdown",
   "metadata": {},
   "source": [
    "**2. Showing the filtered DataFrame**\n",
    "\n",
    "Using head and tail"
   ]
  },
  {
   "cell_type": "code",
   "execution_count": 37,
   "metadata": {},
   "outputs": [
    {
     "data": {
      "application/vnd.microsoft.datawrangler.viewer.v0+json": {
       "columns": [
        {
         "name": "index",
         "rawType": "int64",
         "type": "integer"
        },
        {
         "name": "Question",
         "rawType": "object",
         "type": "string"
        },
        {
         "name": "Option_1",
         "rawType": "object",
         "type": "string"
        },
        {
         "name": "Option_2",
         "rawType": "object",
         "type": "string"
        },
        {
         "name": "Option_3",
         "rawType": "object",
         "type": "string"
        },
        {
         "name": "Option_4",
         "rawType": "object",
         "type": "string"
        },
        {
         "name": "RC",
         "rawType": "int32",
         "type": "integer"
        },
        {
         "name": "year",
         "rawType": "int64",
         "type": "integer"
        }
       ],
       "conversionMethod": "pd.DataFrame",
       "ref": "8cb85c7e-c3ae-4acf-9fee-e5ee0ca0310d",
       "rows": [
        [
         "0",
         "1. En cuanto a las características estructurales del DNA, señale la respuesta correcta:",
         "1. La forma A tiene 24 pares de bases por vuelta helicoidal.",
         "2. La estructura de la forma B es más corta y gruesa que las formas A y Z.",
         "3. En la forma B, el desplazamiento por residuo es de unos 3.4 A.",
         "4. La forma Z consiste en una doble hélice dextrógira.",
         "3",
         "2020"
        ],
        [
         "1",
         "2. La hemólisis afecta sensiblemente a las concentraciones séricas de diferentes constituyentes. De las siguientes, ¿cuál es la afirmación correcta?:",
         "1. Aumenta el potasio y bajan el sodio y la LDH.",
         "2. Aumentan la LDH y el potasio y baja el sodio.",
         "3. Aumentan el sodio, la LDH y el potasio.",
         "4. Aumentan la LDH y bajan el sodio y el potasio.",
         "2",
         "2020"
        ],
        [
         "2",
         "3. La mayor parte de los equivalente reductores que se utilizan para la síntesis de ácidos grasos se generan en:",
         "1. La ruta de las pentosas fosfato.",
         "2. La glucólisis.",
         "3. El ciclo del ácido cítrico.",
         "4. La gluconeogénesis.",
         "1",
         "2020"
        ],
        [
         "3",
         "4. Si la secuencia de un fragmento de una cadena de DNA es 5‘- AATGCCTACGGCTTA-3‘, ¿cuál será la secuencia de la cadena complementaria?:",
         "1. 5‘- TTACGGATGCCGAAT-3‘.",
         "2. 5‘- AATGCCTACGGCTTA-3‘.",
         "3. 5‘- TAAGCCGTAGGCATT-3‘.",
         "4. 5‘- UAAGCCGUAGGCAUU-3‘.",
         "3",
         "2020"
        ],
        [
         "4",
         "5. ¿Qué enzima NO interviene en la ruta de las pentosas fosfato?:",
         "1. 6-fosfogluconolactonasa.",
         "2. Glucosa 6-fosfato deshidrogenasa.",
         "3. 6-fosfogluconato deshidrogenasa.",
         "4. Fosfoglucosa isomerasa.",
         "4",
         "2020"
        ],
        [
         "5",
         "6. En referencia a la Somatostatina, señale la respuesta FALSA:",
         "1. Es un tetradecapéptido que inhibe la hormona del crecimiento.",
         "2. Es una hormona hipotalámica.",
         "3. Es una hormona que estimula la secreción de glucagón.",
         "4. Es una hormona que inhibe la insulina pancreática.",
         "3",
         "2020"
        ],
        [
         "6",
         "7. Una enzima que sigue una cinética clásica de Michaelis-Menten presenta una Vmax= 100  μM/min y una Km = 15 μM. ¿Cuál será la velocidad de reacción, V0, cuando [S] = 10 μM? :",
         "1. 40 μM/min.",
         "2. 50 μM/min.",
         "3. 70 μM/min.",
         "4. 100 μM/min.",
         "1",
         "2020"
        ],
        [
         "7",
         "8. ¿Cuál de las siguientes afirmaciones es correcta para el ciclo del ácido cítrico?:",
         "1. Produce varias moléculas de ATP en cada vuelta.",
         "2. Se gastan varias moléculas de oxígeno directamente en la oxidación del acetil-CoA.",
         "3. Sus intermediarios se pueden reponer por reacciones anapleróticas.",
         "4. El principal punto de control del ciclo es la primera reacción del mismo, inhibida por ADP.",
         "3",
         "2020"
        ],
        [
         "8",
         "9. El término proteoma se refiere a:",
         "1. El conjunto de todos los genes codificantes de proteína de un organismo.",
         "2. Las modificaciones post-traduccionales que sufren las proteínas.",
         "3. El conjunto de proteínas presentes en los lisosomas.",
         "4. El conjunto de proteínas producido por el genoma de una célula.",
         "4",
         "2020"
        ],
        [
         "9",
         "10. Los ácidos grasos trans:",
         "1. Constituyen la forma natural de los ácidos grasos insaturados en los tejidos animales.",
         "2. Promueven un aumento en la concentración de las lipopotreínas de alta densidad (HDL)",
         "3. Presentan una temperatura de fusión inferior a la de sus equivalentes en configuración cis con el mismo número de átomos de C y de insaturaciones.",
         "4. Se generan mayoritariamente en procesos industriales de hidrogenación parcial.",
         "4",
         "2020"
        ]
       ],
       "shape": {
        "columns": 7,
        "rows": 10
       }
      },
      "text/html": [
       "<div>\n",
       "<style scoped>\n",
       "    .dataframe tbody tr th:only-of-type {\n",
       "        vertical-align: middle;\n",
       "    }\n",
       "\n",
       "    .dataframe tbody tr th {\n",
       "        vertical-align: top;\n",
       "    }\n",
       "\n",
       "    .dataframe thead th {\n",
       "        text-align: right;\n",
       "    }\n",
       "</style>\n",
       "<table border=\"1\" class=\"dataframe\">\n",
       "  <thead>\n",
       "    <tr style=\"text-align: right;\">\n",
       "      <th></th>\n",
       "      <th>Question</th>\n",
       "      <th>Option_1</th>\n",
       "      <th>Option_2</th>\n",
       "      <th>Option_3</th>\n",
       "      <th>Option_4</th>\n",
       "      <th>RC</th>\n",
       "      <th>year</th>\n",
       "    </tr>\n",
       "  </thead>\n",
       "  <tbody>\n",
       "    <tr>\n",
       "      <th>0</th>\n",
       "      <td>1. En cuanto a las características estructural...</td>\n",
       "      <td>1. La forma A tiene 24 pares de bases por vuel...</td>\n",
       "      <td>2. La estructura de la forma B es más corta y ...</td>\n",
       "      <td>3. En la forma B, el desplazamiento por residu...</td>\n",
       "      <td>4. La forma Z consiste en una doble hélice dex...</td>\n",
       "      <td>3</td>\n",
       "      <td>2020</td>\n",
       "    </tr>\n",
       "    <tr>\n",
       "      <th>1</th>\n",
       "      <td>2. La hemólisis afecta sensiblemente a las con...</td>\n",
       "      <td>1. Aumenta el potasio y bajan el sodio y la LDH.</td>\n",
       "      <td>2. Aumentan la LDH y el potasio y baja el sodio.</td>\n",
       "      <td>3. Aumentan el sodio, la LDH y el potasio.</td>\n",
       "      <td>4. Aumentan la LDH y bajan el sodio y el potasio.</td>\n",
       "      <td>2</td>\n",
       "      <td>2020</td>\n",
       "    </tr>\n",
       "    <tr>\n",
       "      <th>2</th>\n",
       "      <td>3. La mayor parte de los equivalente reductore...</td>\n",
       "      <td>1. La ruta de las pentosas fosfato.</td>\n",
       "      <td>2. La glucólisis.</td>\n",
       "      <td>3. El ciclo del ácido cítrico.</td>\n",
       "      <td>4. La gluconeogénesis.</td>\n",
       "      <td>1</td>\n",
       "      <td>2020</td>\n",
       "    </tr>\n",
       "    <tr>\n",
       "      <th>3</th>\n",
       "      <td>4. Si la secuencia de un fragmento de una cade...</td>\n",
       "      <td>1. 5‘- TTACGGATGCCGAAT-3‘.</td>\n",
       "      <td>2. 5‘- AATGCCTACGGCTTA-3‘.</td>\n",
       "      <td>3. 5‘- TAAGCCGTAGGCATT-3‘.</td>\n",
       "      <td>4. 5‘- UAAGCCGUAGGCAUU-3‘.</td>\n",
       "      <td>3</td>\n",
       "      <td>2020</td>\n",
       "    </tr>\n",
       "    <tr>\n",
       "      <th>4</th>\n",
       "      <td>5. ¿Qué enzima NO interviene en la ruta de las...</td>\n",
       "      <td>1. 6-fosfogluconolactonasa.</td>\n",
       "      <td>2. Glucosa 6-fosfato deshidrogenasa.</td>\n",
       "      <td>3. 6-fosfogluconato deshidrogenasa.</td>\n",
       "      <td>4. Fosfoglucosa isomerasa.</td>\n",
       "      <td>4</td>\n",
       "      <td>2020</td>\n",
       "    </tr>\n",
       "    <tr>\n",
       "      <th>5</th>\n",
       "      <td>6. En referencia a la Somatostatina, señale la...</td>\n",
       "      <td>1. Es un tetradecapéptido que inhibe la hormon...</td>\n",
       "      <td>2. Es una hormona hipotalámica.</td>\n",
       "      <td>3. Es una hormona que estimula la secreción de...</td>\n",
       "      <td>4. Es una hormona que inhibe la insulina pancr...</td>\n",
       "      <td>3</td>\n",
       "      <td>2020</td>\n",
       "    </tr>\n",
       "    <tr>\n",
       "      <th>6</th>\n",
       "      <td>7. Una enzima que sigue una cinética clásica d...</td>\n",
       "      <td>1. 40 μM/min.</td>\n",
       "      <td>2. 50 μM/min.</td>\n",
       "      <td>3. 70 μM/min.</td>\n",
       "      <td>4. 100 μM/min.</td>\n",
       "      <td>1</td>\n",
       "      <td>2020</td>\n",
       "    </tr>\n",
       "    <tr>\n",
       "      <th>7</th>\n",
       "      <td>8. ¿Cuál de las siguientes afirmaciones es cor...</td>\n",
       "      <td>1. Produce varias moléculas de ATP en cada vue...</td>\n",
       "      <td>2. Se gastan varias moléculas de oxígeno direc...</td>\n",
       "      <td>3. Sus intermediarios se pueden reponer por re...</td>\n",
       "      <td>4. El principal punto de control del ciclo es ...</td>\n",
       "      <td>3</td>\n",
       "      <td>2020</td>\n",
       "    </tr>\n",
       "    <tr>\n",
       "      <th>8</th>\n",
       "      <td>9. El término proteoma se refiere a:</td>\n",
       "      <td>1. El conjunto de todos los genes codificantes...</td>\n",
       "      <td>2. Las modificaciones post-traduccionales que ...</td>\n",
       "      <td>3. El conjunto de proteínas presentes en los l...</td>\n",
       "      <td>4. El conjunto de proteínas producido por el g...</td>\n",
       "      <td>4</td>\n",
       "      <td>2020</td>\n",
       "    </tr>\n",
       "    <tr>\n",
       "      <th>9</th>\n",
       "      <td>10. Los ácidos grasos trans:</td>\n",
       "      <td>1. Constituyen la forma natural de los ácidos ...</td>\n",
       "      <td>2. Promueven un aumento en la concentración de...</td>\n",
       "      <td>3. Presentan una temperatura de fusión inferio...</td>\n",
       "      <td>4. Se generan mayoritariamente en procesos ind...</td>\n",
       "      <td>4</td>\n",
       "      <td>2020</td>\n",
       "    </tr>\n",
       "  </tbody>\n",
       "</table>\n",
       "</div>"
      ],
      "text/plain": [
       "                                            Question  \\\n",
       "0  1. En cuanto a las características estructural...   \n",
       "1  2. La hemólisis afecta sensiblemente a las con...   \n",
       "2  3. La mayor parte de los equivalente reductore...   \n",
       "3  4. Si la secuencia de un fragmento de una cade...   \n",
       "4  5. ¿Qué enzima NO interviene en la ruta de las...   \n",
       "5  6. En referencia a la Somatostatina, señale la...   \n",
       "6  7. Una enzima que sigue una cinética clásica d...   \n",
       "7  8. ¿Cuál de las siguientes afirmaciones es cor...   \n",
       "8               9. El término proteoma se refiere a:   \n",
       "9                       10. Los ácidos grasos trans:   \n",
       "\n",
       "                                            Option_1  \\\n",
       "0  1. La forma A tiene 24 pares de bases por vuel...   \n",
       "1   1. Aumenta el potasio y bajan el sodio y la LDH.   \n",
       "2                1. La ruta de las pentosas fosfato.   \n",
       "3                         1. 5‘- TTACGGATGCCGAAT-3‘.   \n",
       "4                        1. 6-fosfogluconolactonasa.   \n",
       "5  1. Es un tetradecapéptido que inhibe la hormon...   \n",
       "6                                      1. 40 μM/min.   \n",
       "7  1. Produce varias moléculas de ATP en cada vue...   \n",
       "8  1. El conjunto de todos los genes codificantes...   \n",
       "9  1. Constituyen la forma natural de los ácidos ...   \n",
       "\n",
       "                                            Option_2  \\\n",
       "0  2. La estructura de la forma B es más corta y ...   \n",
       "1   2. Aumentan la LDH y el potasio y baja el sodio.   \n",
       "2                                  2. La glucólisis.   \n",
       "3                         2. 5‘- AATGCCTACGGCTTA-3‘.   \n",
       "4               2. Glucosa 6-fosfato deshidrogenasa.   \n",
       "5                    2. Es una hormona hipotalámica.   \n",
       "6                                      2. 50 μM/min.   \n",
       "7  2. Se gastan varias moléculas de oxígeno direc...   \n",
       "8  2. Las modificaciones post-traduccionales que ...   \n",
       "9  2. Promueven un aumento en la concentración de...   \n",
       "\n",
       "                                            Option_3  \\\n",
       "0  3. En la forma B, el desplazamiento por residu...   \n",
       "1         3. Aumentan el sodio, la LDH y el potasio.   \n",
       "2                     3. El ciclo del ácido cítrico.   \n",
       "3                         3. 5‘- TAAGCCGTAGGCATT-3‘.   \n",
       "4                3. 6-fosfogluconato deshidrogenasa.   \n",
       "5  3. Es una hormona que estimula la secreción de...   \n",
       "6                                      3. 70 μM/min.   \n",
       "7  3. Sus intermediarios se pueden reponer por re...   \n",
       "8  3. El conjunto de proteínas presentes en los l...   \n",
       "9  3. Presentan una temperatura de fusión inferio...   \n",
       "\n",
       "                                            Option_4  RC  year  \n",
       "0  4. La forma Z consiste en una doble hélice dex...   3  2020  \n",
       "1  4. Aumentan la LDH y bajan el sodio y el potasio.   2  2020  \n",
       "2                             4. La gluconeogénesis.   1  2020  \n",
       "3                         4. 5‘- UAAGCCGUAGGCAUU-3‘.   3  2020  \n",
       "4                         4. Fosfoglucosa isomerasa.   4  2020  \n",
       "5  4. Es una hormona que inhibe la insulina pancr...   3  2020  \n",
       "6                                     4. 100 μM/min.   1  2020  \n",
       "7  4. El principal punto de control del ciclo es ...   3  2020  \n",
       "8  4. El conjunto de proteínas producido por el g...   4  2020  \n",
       "9  4. Se generan mayoritariamente en procesos ind...   4  2020  "
      ]
     },
     "execution_count": 37,
     "metadata": {},
     "output_type": "execute_result"
    }
   ],
   "source": [
    "processed_exam_df_filtered.head(10)"
   ]
  },
  {
   "cell_type": "code",
   "execution_count": 38,
   "metadata": {},
   "outputs": [
    {
     "data": {
      "application/vnd.microsoft.datawrangler.viewer.v0+json": {
       "columns": [
        {
         "name": "index",
         "rawType": "int64",
         "type": "integer"
        },
        {
         "name": "Question",
         "rawType": "object",
         "type": "string"
        },
        {
         "name": "Option_1",
         "rawType": "object",
         "type": "string"
        },
        {
         "name": "Option_2",
         "rawType": "object",
         "type": "string"
        },
        {
         "name": "Option_3",
         "rawType": "object",
         "type": "string"
        },
        {
         "name": "Option_4",
         "rawType": "object",
         "type": "string"
        },
        {
         "name": "RC",
         "rawType": "int32",
         "type": "integer"
        },
        {
         "name": "year",
         "rawType": "int64",
         "type": "integer"
        }
       ],
       "conversionMethod": "pd.DataFrame",
       "ref": "abf1d777-c8be-43da-9df4-63f9cc5a8035",
       "rows": [
        [
         "25",
         "26. ¿Qué oligoelemento ejerce una función importante como cofactor de la anhidrasa carbónica?:",
         "1. Selenio.",
         "2. Manganeso.",
         "3. Zinc.",
         "4. Cobre.",
         "3",
         "2020"
        ],
        [
         "26",
         "27. ¿Cuál de las siguientes afirmaciones es correcta para la ATP sintasa?:",
         "1. La subunidad F1, orientada al espacio intermembrana, es capaz de hidrolizar ATP.",
         "2. La subunidad F0 tiene semicanales que permiten la vuelta de los protones desde el espacio intermenbrana a la matriz.",
         "3. La subunidad F1 canaliza el paso de protones desde el espacio intermenbrana hasta la matriz y sintetiza ATP.",
         "4. La subunidad F0 sintetiza ATP gracias a cambios conformacionales.",
         "2",
         "2020"
        ],
        [
         "27",
         "28. El DNA recombinante:",
         "1. Se obtiene mediante la formación de heteroduplex por hibridación de fragmentos de DNA de diferentes orígenes",
         "2. Es DNA híbrido obtenido mediante recombinación homóloga.",
         "3. Es DNA híbrido celular superenrollado.",
         "4. Se obtiene utilizando endonucleasas de restricción y DNA ligasa.",
         "4",
         "2020"
        ],
        [
         "28",
         "29. En los estudios enzimáticos, una gráfica sigmoidea al representar la concentración de sustrato [S] frente a la velocidad de reacción [V] indica:",
         "1. Cinética de Michaelis-Menten.",
         "2. Unión cooperativa.",
         "3. Inhibición competitiva.",
         "4. Inhibición no competitiva.",
         "2",
         "2020"
        ],
        [
         "29",
         "30. ¿Cuál de las siguientes afirmaciones es correcta para las membranas biológicas?:",
         "1. Se sustentan por enlaces covalentes entre sus componentes: fosfolípidos, colesterol y proteínas.",
         "2. El colesterol forma asociaciones estables con esfingolípidos constituyendo microdominios más gruesos y menos fluidos llamados balsas lipídicas.",
         "3. Son simétricas, con una distribución de fosfolípidos similar en ambas hemimembranas.",
         "4. El porcentaje en peso de proteína no varía entre distintos tipos celulares.",
         "2",
         "2020"
        ],
        [
         "30",
         "31. ¿En qué lugar se localiza la enzima glucoquinasa?:",
         "1. Hígado.",
         "2. Músculo esquelético.",
         "3. Riñón.",
         "4. Tejido adiposo.",
         "1",
         "2020"
        ],
        [
         "31",
         "32. Los quilomicrones son:",
         "1. Partículas pequeñas que contienen principalmente proteínas, colesterol y fosfolípidos.",
         "2. Partículas pequeñas pobres en triglicéridos y ricas en colesterol.",
         "3. Partículas grandes producidas por el intestino que transportan lípidos de la dieta a los tejidos.",
         "4. Partículas grandes producidas por el hígado involucradas en el transporte inverso del colesterol.",
         "3",
         "2020"
        ],
        [
         "32",
         "33. La cromatina está compuesta por:",
         "1. DNA y 4 tipos de histonas.",
         "2. DNA y proteínas.",
         "3. DNA de doble cadena y heteroduplex DNA-RNA.",
         "4. Nucleosomas.",
         "0",
         "2020"
        ],
        [
         "33",
         "180. ¿Cuál de las siguientes es una enzima que contiene selenio?:",
         "1. Dopamina beta-hidroxilasa.",
         "2. Tirosinasa.",
         "3. Ureasa.",
         "4. Glutatión peroxidasa.",
         "4",
         "2020"
        ],
        [
         "34",
         "185. ¿Cuál de las siguientes afirmaciones es la correcta en una reacción enzimática?:",
         "1. La enzima empuja a la derecha el equilibrio de la reacción.",
         "2. La enzima cambia el equilibrio constante de la reacción.",
         "3. La enzima aumenta la velocidad de reacción.",
         "4. La enzima altera la diferencia de energía entre reactantes y productos.",
         "3",
         "2020"
        ]
       ],
       "shape": {
        "columns": 7,
        "rows": 10
       }
      },
      "text/html": [
       "<div>\n",
       "<style scoped>\n",
       "    .dataframe tbody tr th:only-of-type {\n",
       "        vertical-align: middle;\n",
       "    }\n",
       "\n",
       "    .dataframe tbody tr th {\n",
       "        vertical-align: top;\n",
       "    }\n",
       "\n",
       "    .dataframe thead th {\n",
       "        text-align: right;\n",
       "    }\n",
       "</style>\n",
       "<table border=\"1\" class=\"dataframe\">\n",
       "  <thead>\n",
       "    <tr style=\"text-align: right;\">\n",
       "      <th></th>\n",
       "      <th>Question</th>\n",
       "      <th>Option_1</th>\n",
       "      <th>Option_2</th>\n",
       "      <th>Option_3</th>\n",
       "      <th>Option_4</th>\n",
       "      <th>RC</th>\n",
       "      <th>year</th>\n",
       "    </tr>\n",
       "  </thead>\n",
       "  <tbody>\n",
       "    <tr>\n",
       "      <th>25</th>\n",
       "      <td>26. ¿Qué oligoelemento ejerce una función impo...</td>\n",
       "      <td>1. Selenio.</td>\n",
       "      <td>2. Manganeso.</td>\n",
       "      <td>3. Zinc.</td>\n",
       "      <td>4. Cobre.</td>\n",
       "      <td>3</td>\n",
       "      <td>2020</td>\n",
       "    </tr>\n",
       "    <tr>\n",
       "      <th>26</th>\n",
       "      <td>27. ¿Cuál de las siguientes afirmaciones es co...</td>\n",
       "      <td>1. La subunidad F1, orientada al espacio inter...</td>\n",
       "      <td>2. La subunidad F0 tiene semicanales que permi...</td>\n",
       "      <td>3. La subunidad F1 canaliza el paso de protone...</td>\n",
       "      <td>4. La subunidad F0 sintetiza ATP gracias a cam...</td>\n",
       "      <td>2</td>\n",
       "      <td>2020</td>\n",
       "    </tr>\n",
       "    <tr>\n",
       "      <th>27</th>\n",
       "      <td>28. El DNA recombinante:</td>\n",
       "      <td>1. Se obtiene mediante la formación de heterod...</td>\n",
       "      <td>2. Es DNA híbrido obtenido mediante recombinac...</td>\n",
       "      <td>3. Es DNA híbrido celular superenrollado.</td>\n",
       "      <td>4. Se obtiene utilizando endonucleasas de rest...</td>\n",
       "      <td>4</td>\n",
       "      <td>2020</td>\n",
       "    </tr>\n",
       "    <tr>\n",
       "      <th>28</th>\n",
       "      <td>29. En los estudios enzimáticos, una gráfica s...</td>\n",
       "      <td>1. Cinética de Michaelis-Menten.</td>\n",
       "      <td>2. Unión cooperativa.</td>\n",
       "      <td>3. Inhibición competitiva.</td>\n",
       "      <td>4. Inhibición no competitiva.</td>\n",
       "      <td>2</td>\n",
       "      <td>2020</td>\n",
       "    </tr>\n",
       "    <tr>\n",
       "      <th>29</th>\n",
       "      <td>30. ¿Cuál de las siguientes afirmaciones es co...</td>\n",
       "      <td>1. Se sustentan por enlaces covalentes entre s...</td>\n",
       "      <td>2. El colesterol forma asociaciones estables c...</td>\n",
       "      <td>3. Son simétricas, con una distribución de fos...</td>\n",
       "      <td>4. El porcentaje en peso de proteína no varía ...</td>\n",
       "      <td>2</td>\n",
       "      <td>2020</td>\n",
       "    </tr>\n",
       "    <tr>\n",
       "      <th>30</th>\n",
       "      <td>31. ¿En qué lugar se localiza la enzima glucoq...</td>\n",
       "      <td>1. Hígado.</td>\n",
       "      <td>2. Músculo esquelético.</td>\n",
       "      <td>3. Riñón.</td>\n",
       "      <td>4. Tejido adiposo.</td>\n",
       "      <td>1</td>\n",
       "      <td>2020</td>\n",
       "    </tr>\n",
       "    <tr>\n",
       "      <th>31</th>\n",
       "      <td>32. Los quilomicrones son:</td>\n",
       "      <td>1. Partículas pequeñas que contienen principal...</td>\n",
       "      <td>2. Partículas pequeñas pobres en triglicéridos...</td>\n",
       "      <td>3. Partículas grandes producidas por el intest...</td>\n",
       "      <td>4. Partículas grandes producidas por el hígado...</td>\n",
       "      <td>3</td>\n",
       "      <td>2020</td>\n",
       "    </tr>\n",
       "    <tr>\n",
       "      <th>32</th>\n",
       "      <td>33. La cromatina está compuesta por:</td>\n",
       "      <td>1. DNA y 4 tipos de histonas.</td>\n",
       "      <td>2. DNA y proteínas.</td>\n",
       "      <td>3. DNA de doble cadena y heteroduplex DNA-RNA.</td>\n",
       "      <td>4. Nucleosomas.</td>\n",
       "      <td>0</td>\n",
       "      <td>2020</td>\n",
       "    </tr>\n",
       "    <tr>\n",
       "      <th>33</th>\n",
       "      <td>180. ¿Cuál de las siguientes es una enzima que...</td>\n",
       "      <td>1. Dopamina beta-hidroxilasa.</td>\n",
       "      <td>2. Tirosinasa.</td>\n",
       "      <td>3. Ureasa.</td>\n",
       "      <td>4. Glutatión peroxidasa.</td>\n",
       "      <td>4</td>\n",
       "      <td>2020</td>\n",
       "    </tr>\n",
       "    <tr>\n",
       "      <th>34</th>\n",
       "      <td>185. ¿Cuál de las siguientes afirmaciones es l...</td>\n",
       "      <td>1. La enzima empuja a la derecha el equilibrio...</td>\n",
       "      <td>2. La enzima cambia el equilibrio constante de...</td>\n",
       "      <td>3. La enzima aumenta la velocidad de reacción.</td>\n",
       "      <td>4. La enzima altera la diferencia de energía e...</td>\n",
       "      <td>3</td>\n",
       "      <td>2020</td>\n",
       "    </tr>\n",
       "  </tbody>\n",
       "</table>\n",
       "</div>"
      ],
      "text/plain": [
       "                                             Question  \\\n",
       "25  26. ¿Qué oligoelemento ejerce una función impo...   \n",
       "26  27. ¿Cuál de las siguientes afirmaciones es co...   \n",
       "27                           28. El DNA recombinante:   \n",
       "28  29. En los estudios enzimáticos, una gráfica s...   \n",
       "29  30. ¿Cuál de las siguientes afirmaciones es co...   \n",
       "30  31. ¿En qué lugar se localiza la enzima glucoq...   \n",
       "31                         32. Los quilomicrones son:   \n",
       "32               33. La cromatina está compuesta por:   \n",
       "33  180. ¿Cuál de las siguientes es una enzima que...   \n",
       "34  185. ¿Cuál de las siguientes afirmaciones es l...   \n",
       "\n",
       "                                             Option_1  \\\n",
       "25                                        1. Selenio.   \n",
       "26  1. La subunidad F1, orientada al espacio inter...   \n",
       "27  1. Se obtiene mediante la formación de heterod...   \n",
       "28                   1. Cinética de Michaelis-Menten.   \n",
       "29  1. Se sustentan por enlaces covalentes entre s...   \n",
       "30                                         1. Hígado.   \n",
       "31  1. Partículas pequeñas que contienen principal...   \n",
       "32                      1. DNA y 4 tipos de histonas.   \n",
       "33                      1. Dopamina beta-hidroxilasa.   \n",
       "34  1. La enzima empuja a la derecha el equilibrio...   \n",
       "\n",
       "                                             Option_2  \\\n",
       "25                                      2. Manganeso.   \n",
       "26  2. La subunidad F0 tiene semicanales que permi...   \n",
       "27  2. Es DNA híbrido obtenido mediante recombinac...   \n",
       "28                              2. Unión cooperativa.   \n",
       "29  2. El colesterol forma asociaciones estables c...   \n",
       "30                            2. Músculo esquelético.   \n",
       "31  2. Partículas pequeñas pobres en triglicéridos...   \n",
       "32                                2. DNA y proteínas.   \n",
       "33                                     2. Tirosinasa.   \n",
       "34  2. La enzima cambia el equilibrio constante de...   \n",
       "\n",
       "                                             Option_3  \\\n",
       "25                                           3. Zinc.   \n",
       "26  3. La subunidad F1 canaliza el paso de protone...   \n",
       "27          3. Es DNA híbrido celular superenrollado.   \n",
       "28                         3. Inhibición competitiva.   \n",
       "29  3. Son simétricas, con una distribución de fos...   \n",
       "30                                          3. Riñón.   \n",
       "31  3. Partículas grandes producidas por el intest...   \n",
       "32     3. DNA de doble cadena y heteroduplex DNA-RNA.   \n",
       "33                                         3. Ureasa.   \n",
       "34     3. La enzima aumenta la velocidad de reacción.   \n",
       "\n",
       "                                             Option_4  RC  year  \n",
       "25                                          4. Cobre.   3  2020  \n",
       "26  4. La subunidad F0 sintetiza ATP gracias a cam...   2  2020  \n",
       "27  4. Se obtiene utilizando endonucleasas de rest...   4  2020  \n",
       "28                      4. Inhibición no competitiva.   2  2020  \n",
       "29  4. El porcentaje en peso de proteína no varía ...   2  2020  \n",
       "30                                 4. Tejido adiposo.   1  2020  \n",
       "31  4. Partículas grandes producidas por el hígado...   3  2020  \n",
       "32                                    4. Nucleosomas.   0  2020  \n",
       "33                           4. Glutatión peroxidasa.   4  2020  \n",
       "34  4. La enzima altera la diferencia de energía e...   3  2020  "
      ]
     },
     "execution_count": 38,
     "metadata": {},
     "output_type": "execute_result"
    }
   ],
   "source": [
    "processed_exam_df_filtered.tail(10)"
   ]
  },
  {
   "cell_type": "markdown",
   "metadata": {},
   "source": [
    "# Data Loading"
   ]
  },
  {
   "cell_type": "markdown",
   "metadata": {},
   "source": [
    "## Saving in csv file\n",
    "\n",
    "The `processed_exam_df_filtered` DataFrame, containing the cleaned and transformed exam data, is saved to a CSV file with the name generatd in the first step in the \"data\" directory. The `index=False` argument ensures that the DataFrame index is not written to the file, resulting in a cleaner output. This CSV file can be used for further analysis or as input for other applications."
   ]
  },
  {
   "cell_type": "code",
   "execution_count": 39,
   "metadata": {},
   "outputs": [],
   "source": [
    "processed_exam_df_filtered.to_csv(save_format, index= False)"
   ]
  },
  {
   "cell_type": "markdown",
   "metadata": {},
   "source": [
    "## Writing into data warehouse\n",
    "\n",
    "This section details the process of loading the cleaned and transformed exam data into an SQLite database, serving as a data warehouse for further analysis and querying.\n",
    "\n",
    "**1. Database Connection and Path:**\n",
    "\n",
    "The path to the SQLite database file is defined, and a connection is established using the `sqlite3` library."
   ]
  },
  {
   "cell_type": "code",
   "execution_count": 40,
   "metadata": {},
   "outputs": [],
   "source": [
    "db_path: str = \"../data/clean/bir_warehouse.db\""
   ]
  },
  {
   "cell_type": "markdown",
   "metadata": {},
   "source": [
    "**2. SQL Queries Definition:**\n",
    "\n",
    "Two SQL queries are defined: one for inserting questions into the questions table and another for inserting options into the questions_options table."
   ]
  },
  {
   "cell_type": "code",
   "execution_count": 41,
   "metadata": {},
   "outputs": [],
   "source": [
    "query_question: str = \"\"\"\n",
    "INSERT INTO questions (exam_year, exam_subject, question) \n",
    "VALUES((SELECT id_year FROM year WHERE year_name = ?),\n",
    "    (SELECT id_type FROM exam WHERE exam_type = ?),\n",
    "    ?);\n",
    "\"\"\"\n",
    "\n",
    "query_options: str = \"\"\"\n",
    "INSERT INTO questions_options (question_id, option_num, option_text, is_correct)\n",
    "VALUES((SELECT id FROM questions WHERE question = ?),\n",
    "    ?,\n",
    "    ?,\n",
    "    ?)\n",
    "\"\"\""
   ]
  },
  {
   "cell_type": "markdown",
   "metadata": {},
   "source": [
    "**3. Database Interaction and Data Insertion:**\n",
    "\n",
    "A with statement is used to establish a connection to the SQLite database, ensuring that the connection is properly closed after use. A cursor is created, and the processed_exam_df DataFrame is iterated over to insert each question and its options"
   ]
  },
  {
   "cell_type": "code",
   "execution_count": 42,
   "metadata": {},
   "outputs": [],
   "source": [
    "with sqlite3.connect(db_path) as bir_warehouse:\n",
    "    cur = bir_warehouse.cursor()\n",
    "    for question in processed_exam_df_filtered.itertuples():\n",
    "        cur.execute(query_question, (str(question[7]), exam_acronym, question[1]))\n",
    "        bir_warehouse.commit()\n",
    "        for n, option in enumerate(question[2:6]):\n",
    "            cur.execute(query_options, (question[1], n+1, option, n+1 == question[6]))\n",
    "            bir_warehouse.commit()"
   ]
  }
 ],
 "metadata": {
  "colab": {
   "provenance": []
  },
  "kernelspec": {
   "display_name": "bir_etl",
   "language": "python",
   "name": "python3"
  },
  "language_info": {
   "codemirror_mode": {
    "name": "ipython",
    "version": 3
   },
   "file_extension": ".py",
   "mimetype": "text/x-python",
   "name": "python",
   "nbconvert_exporter": "python",
   "pygments_lexer": "ipython3",
   "version": "3.12.7"
  }
 },
 "nbformat": 4,
 "nbformat_minor": 4
}
