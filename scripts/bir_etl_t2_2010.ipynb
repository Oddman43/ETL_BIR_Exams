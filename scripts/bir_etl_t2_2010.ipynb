{
 "cells": [
  {
   "cell_type": "markdown",
   "metadata": {
    "editable": true,
    "id": "56vKIohe8Jou",
    "slideshow": {
     "slide_type": ""
    },
    "tags": []
   },
   "source": [
    "# Data Extraction\n",
    "This section details the process of extracting question data from a PDF file and corresponding answer keys from a TSV file."
   ]
  },
  {
   "cell_type": "markdown",
   "metadata": {
    "id": "8kRORmWM8Joy"
   },
   "source": [
    "## Importing libraries"
   ]
  },
  {
   "cell_type": "markdown",
   "metadata": {},
   "source": [
    "* Pandas for data manipulation\n",
    "* NumPy for the NaN datatype\n",
    "* PyPDF for its ability to read the pfd files, although it requieres post-processing of the extracted text\n",
    "* sqlite3 to create load the clean data into `bir_warehouse.db`"
   ]
  },
  {
   "cell_type": "code",
   "execution_count": 1,
   "metadata": {
    "colab": {
     "base_uri": "https://localhost:8080/"
    },
    "id": "y8DpYYll8Joz",
    "outputId": "40cac5b3-1153-431b-f780-201aa62b5813"
   },
   "outputs": [],
   "source": [
    "import pandas as pd\n",
    "import numpy as np\n",
    "from pypdf import PdfReader\n",
    "import sqlite3"
   ]
  },
  {
   "cell_type": "markdown",
   "metadata": {},
   "source": [
    "## Selecting year and type of exam"
   ]
  },
  {
   "cell_type": "markdown",
   "metadata": {},
   "source": [
    "This function, `compute_expected_rows`, takes the exam year and topic as input and returns metadata crucial for subsequent data cleaning and loading steps. This metadata includes the expected maximum number of rows in the final DataFrame, the number of questions per exam, and the acronym for the exam type.  The maximum number of rows is calculated based on the number of questions and options per question for each year, following a specific pattern:\n",
    "\n",
    "*   2024-2021: 210 questions, 4 options each\n",
    "*   2020-2019: 185 questions, 4 options each\n",
    "*   2018-2015: 235 questions, 4 options each\n",
    "*   2014-2012: 235 questions, 5 options each\n",
    "*   2011-2004: 260 questions, 5 options each\n",
    "\n",
    "This information is essential for validating data integrity during the ETL process.  For example, the expected row count helps verify that all questions and options have been correctly extracted and transformed. The exam type acronym aids in consistent file naming and data organization."
   ]
  },
  {
   "cell_type": "code",
   "execution_count": 2,
   "metadata": {},
   "outputs": [],
   "source": [
    "def compute_expected_rows(year: int, topic: str) -> tuple:\n",
    "    \"\"\"Computes and returns metadata about the exam for a given year and topic\n",
    "\n",
    "    Args:\n",
    "        year (int): The year of the exam\n",
    "        topic (str): The topic of the exam\n",
    "\n",
    "    Returns:\n",
    "        tuple: Contains:\n",
    "            - max_rows: The expected maximum number of rows in the DataFrame\n",
    "            - num_options: The number of questions in the exam\n",
    "            - exam_type_acronym: The acronym for the exam type\n",
    "\n",
    "    \"\"\"\n",
    "    info_year_dict: dict = {\n",
    "        2011: [260, 5],\n",
    "        2014: [235, 5],\n",
    "        2018: [235, 4],\n",
    "        2020: [185, 4],\n",
    "        2021: [210, 4],\n",
    "    }\n",
    "    max_rows: int = 0\n",
    "    num_options: int = 0\n",
    "    for target_year, info_list in info_year_dict.items():\n",
    "        if year <= target_year:\n",
    "            max_rows = (info_list[0] * info_list[1]) + info_list[0]\n",
    "            num_options = info_list[1]\n",
    "            break\n",
    "    else:\n",
    "        max_rows = 1050\n",
    "        num_options = 4\n",
    "    return max_rows, num_options"
   ]
  },
  {
   "cell_type": "markdown",
   "metadata": {},
   "source": [
    "### Add year of the exam and topic "
   ]
  },
  {
   "cell_type": "code",
   "execution_count": 3,
   "metadata": {},
   "outputs": [],
   "source": [
    "year: int = 2010\n",
    "topic: str = \"BIOLOGÍA\"\n",
    "exam_acronym: str = \"bir\"\n",
    "total_num_rows: int\n",
    "num_questions: int\n",
    "total_num_rows, num_questions= compute_expected_rows(year, topic)\n",
    "save_format: str = f\"../data/clean/clean_{exam_acronym}_{year}.csv\""
   ]
  },
  {
   "cell_type": "markdown",
   "metadata": {
    "id": "Z1Kjq5ue8Jo1"
   },
   "source": [
    "## Extracting Questions from Pdf file"
   ]
  },
  {
   "cell_type": "markdown",
   "metadata": {},
   "source": [
    "This section focuses on extracting the textual content of the exam questions from the provided PDF file.\n",
    "\n",
    "**Path Definition:**\n",
    "\n",
    "The path to the PDF file is dynamically constructed using the provided `year` and `topic` variables. This ensures flexibility and allows the script to process different exam files without manual path adjustments.\n",
    "\n",
    "Finally it stores the output in a DataFrame and the first 10 rows of the resulting DataFrame are displayed for a quick preview of the loaded data."
   ]
  },
  {
   "cell_type": "code",
   "execution_count": 5,
   "metadata": {
    "id": "AB4M4yfr8Jo3"
   },
   "outputs": [
    {
     "data": {
      "application/vnd.microsoft.datawrangler.viewer.v0+json": {
       "columns": [
        {
         "name": "index",
         "rawType": "int64",
         "type": "integer"
        },
        {
         "name": "text",
         "rawType": "object",
         "type": "string"
        }
       ],
       "conversionMethod": "pd.DataFrame",
       "ref": "dcaeda46-2a8a-463f-8ec0-06bfb0aefb97",
       "rows": [
        [
         "0",
         " "
        ],
        [
         "1",
         "y 2 y "
        ],
        [
         "2",
         "1. La estimulación del Sistema Activador Reticu8 "
        ],
        [
         "3",
         "lar Ascendente (SARA) provoca: "
        ],
        [
         "4",
         " "
        ],
        [
         "5",
         "1.  Hambre. "
        ],
        [
         "6",
         "2.  Desordenes emocionales. "
        ],
        [
         "7",
         "3.  Vigilia. "
        ],
        [
         "8",
         "4.  Sueño REM. "
        ],
        [
         "9",
         "5.  Sueño profundo. "
        ]
       ],
       "shape": {
        "columns": 1,
        "rows": 10
       }
      },
      "text/html": [
       "<div>\n",
       "<style scoped>\n",
       "    .dataframe tbody tr th:only-of-type {\n",
       "        vertical-align: middle;\n",
       "    }\n",
       "\n",
       "    .dataframe tbody tr th {\n",
       "        vertical-align: top;\n",
       "    }\n",
       "\n",
       "    .dataframe thead th {\n",
       "        text-align: right;\n",
       "    }\n",
       "</style>\n",
       "<table border=\"1\" class=\"dataframe\">\n",
       "  <thead>\n",
       "    <tr style=\"text-align: right;\">\n",
       "      <th></th>\n",
       "      <th>text</th>\n",
       "    </tr>\n",
       "  </thead>\n",
       "  <tbody>\n",
       "    <tr>\n",
       "      <th>0</th>\n",
       "      <td></td>\n",
       "    </tr>\n",
       "    <tr>\n",
       "      <th>1</th>\n",
       "      <td>y 2 y</td>\n",
       "    </tr>\n",
       "    <tr>\n",
       "      <th>2</th>\n",
       "      <td>1. La estimulación del Sistema Activador Reticu8</td>\n",
       "    </tr>\n",
       "    <tr>\n",
       "      <th>3</th>\n",
       "      <td>lar Ascendente (SARA) provoca:</td>\n",
       "    </tr>\n",
       "    <tr>\n",
       "      <th>4</th>\n",
       "      <td></td>\n",
       "    </tr>\n",
       "    <tr>\n",
       "      <th>5</th>\n",
       "      <td>1.  Hambre.</td>\n",
       "    </tr>\n",
       "    <tr>\n",
       "      <th>6</th>\n",
       "      <td>2.  Desordenes emocionales.</td>\n",
       "    </tr>\n",
       "    <tr>\n",
       "      <th>7</th>\n",
       "      <td>3.  Vigilia.</td>\n",
       "    </tr>\n",
       "    <tr>\n",
       "      <th>8</th>\n",
       "      <td>4.  Sueño REM.</td>\n",
       "    </tr>\n",
       "    <tr>\n",
       "      <th>9</th>\n",
       "      <td>5.  Sueño profundo.</td>\n",
       "    </tr>\n",
       "  </tbody>\n",
       "</table>\n",
       "</div>"
      ],
      "text/plain": [
       "                                                text\n",
       "0                                                   \n",
       "1                                             y 2 y \n",
       "2  1. La estimulación del Sistema Activador Reticu8 \n",
       "3                    lar Ascendente (SARA) provoca: \n",
       "4                                                   \n",
       "5                                       1.  Hambre. \n",
       "6                       2.  Desordenes emocionales. \n",
       "7                                      3.  Vigilia. \n",
       "8                                    4.  Sueño REM. \n",
       "9                               5.  Sueño profundo. "
      ]
     },
     "execution_count": 5,
     "metadata": {},
     "output_type": "execute_result"
    }
   ],
   "source": [
    "path: str = f\"../data/raw/type_2/Raw_Cuaderno_{year}_{topic}_0_C.pdf\"\n",
    "with PdfReader(path) as pdf_file:\n",
    "    full_text: list = []\n",
    "    for n in range(1, len(pdf_file.pages)):\n",
    "        page = pdf_file.pages[n]\n",
    "        text: str = page.extract_text()\n",
    "        full_text.extend(text.splitlines())\n",
    "raw_exam_df: pd.DataFrame = pd.DataFrame(full_text, columns=[\"text\"])\n",
    "raw_exam_df.head(10)"
   ]
  },
  {
   "cell_type": "markdown",
   "metadata": {
    "id": "IBhc5aFQ8Jo6"
   },
   "source": [
    "## Extracting Answers from .tsv file into a DataFrame"
   ]
  },
  {
   "cell_type": "markdown",
   "metadata": {},
   "source": [
    "This section focuses on extracting the answer key data from the provided .tsv file and loading it into a Pandas DataFrame.\n",
    "\n",
    "**Path Definition and Data Loading:**\n",
    "\n",
    "The path to the .tsv file is dynamically constructed using the `year` and `topic` variables, mirroring the approach used for the PDF file. This ensures consistency and flexibility in processing different exam files. \n",
    "\n",
    "The `pd.read_table()` function is then used to read the .tsv file directly into a Pandas DataFrame. Finally, the first 10 rows of the resulting DataFrame are displayed for a quick preview of the loaded data."
   ]
  },
  {
   "cell_type": "code",
   "execution_count": 6,
   "metadata": {
    "colab": {
     "base_uri": "https://localhost:8080/",
     "height": 206
    },
    "id": "O1ouB9mQ8Jo7",
    "outputId": "70b7615d-9c90-4f2d-b9e1-a5c86b507ef6"
   },
   "outputs": [
    {
     "data": {
      "application/vnd.microsoft.datawrangler.viewer.v0+json": {
       "columns": [
        {
         "name": "index",
         "rawType": "int64",
         "type": "integer"
        },
        {
         "name": "0",
         "rawType": "object",
         "type": "string"
        },
        {
         "name": "1",
         "rawType": "int64",
         "type": "integer"
        },
        {
         "name": "2",
         "rawType": "int64",
         "type": "integer"
        },
        {
         "name": "3",
         "rawType": "object",
         "type": "string"
        },
        {
         "name": "4",
         "rawType": "object",
         "type": "string"
        },
        {
         "name": "5",
         "rawType": "object",
         "type": "string"
        },
        {
         "name": "6",
         "rawType": "object",
         "type": "string"
        },
        {
         "name": "7",
         "rawType": "int64",
         "type": "integer"
        },
        {
         "name": "8",
         "rawType": "object",
         "type": "string"
        },
        {
         "name": "9",
         "rawType": "int64",
         "type": "integer"
        }
       ],
       "conversionMethod": "pd.DataFrame",
       "ref": "dff55deb-84e4-4cdc-84a0-26a155111f72",
       "rows": [
        [
         "0",
         "1",
         "2",
         "3",
         "4",
         "5",
         "6",
         "7",
         "8",
         "9",
         "10"
        ],
        [
         "1",
         "3",
         "4",
         "2",
         "5",
         "2",
         "1",
         "5",
         "1",
         "4",
         "3"
        ],
        [
         "2",
         "21",
         "22",
         "23",
         "24",
         "25",
         "26",
         "27",
         "28",
         "29",
         "30"
        ],
        [
         "3",
         "3",
         "1",
         "4",
         "3",
         "1",
         "4",
         "3",
         "5",
         "3",
         "5"
        ],
        [
         "4",
         "41",
         "42",
         "43",
         "44",
         "45",
         "46",
         "47",
         "48",
         "49",
         "50"
        ],
        [
         "5",
         "3",
         "3",
         "1",
         "2",
         "5",
         "4",
         "4",
         "5",
         "2",
         "3"
        ],
        [
         "6",
         "61",
         "62",
         "63",
         "64",
         "65",
         "66",
         "67",
         "68",
         "69",
         "70"
        ],
        [
         "7",
         "3",
         "3",
         "5",
         "2",
         "3",
         "1",
         "1",
         "4",
         "3",
         "1"
        ],
        [
         "8",
         "81",
         "82",
         "83",
         "84",
         "85",
         "86",
         "87",
         "88",
         "89",
         "90"
        ],
        [
         "9",
         "2",
         "4",
         "4",
         "5",
         "2",
         "3",
         "1",
         "3",
         "4",
         "1"
        ]
       ],
       "shape": {
        "columns": 10,
        "rows": 10
       }
      },
      "text/html": [
       "<div>\n",
       "<style scoped>\n",
       "    .dataframe tbody tr th:only-of-type {\n",
       "        vertical-align: middle;\n",
       "    }\n",
       "\n",
       "    .dataframe tbody tr th {\n",
       "        vertical-align: top;\n",
       "    }\n",
       "\n",
       "    .dataframe thead th {\n",
       "        text-align: right;\n",
       "    }\n",
       "</style>\n",
       "<table border=\"1\" class=\"dataframe\">\n",
       "  <thead>\n",
       "    <tr style=\"text-align: right;\">\n",
       "      <th></th>\n",
       "      <th>0</th>\n",
       "      <th>1</th>\n",
       "      <th>2</th>\n",
       "      <th>3</th>\n",
       "      <th>4</th>\n",
       "      <th>5</th>\n",
       "      <th>6</th>\n",
       "      <th>7</th>\n",
       "      <th>8</th>\n",
       "      <th>9</th>\n",
       "    </tr>\n",
       "  </thead>\n",
       "  <tbody>\n",
       "    <tr>\n",
       "      <th>0</th>\n",
       "      <td>1</td>\n",
       "      <td>2</td>\n",
       "      <td>3</td>\n",
       "      <td>4</td>\n",
       "      <td>5</td>\n",
       "      <td>6</td>\n",
       "      <td>7</td>\n",
       "      <td>8</td>\n",
       "      <td>9</td>\n",
       "      <td>10</td>\n",
       "    </tr>\n",
       "    <tr>\n",
       "      <th>1</th>\n",
       "      <td>3</td>\n",
       "      <td>4</td>\n",
       "      <td>2</td>\n",
       "      <td>5</td>\n",
       "      <td>2</td>\n",
       "      <td>1</td>\n",
       "      <td>5</td>\n",
       "      <td>1</td>\n",
       "      <td>4</td>\n",
       "      <td>3</td>\n",
       "    </tr>\n",
       "    <tr>\n",
       "      <th>2</th>\n",
       "      <td>21</td>\n",
       "      <td>22</td>\n",
       "      <td>23</td>\n",
       "      <td>24</td>\n",
       "      <td>25</td>\n",
       "      <td>26</td>\n",
       "      <td>27</td>\n",
       "      <td>28</td>\n",
       "      <td>29</td>\n",
       "      <td>30</td>\n",
       "    </tr>\n",
       "    <tr>\n",
       "      <th>3</th>\n",
       "      <td>3</td>\n",
       "      <td>1</td>\n",
       "      <td>4</td>\n",
       "      <td>3</td>\n",
       "      <td>1</td>\n",
       "      <td>4</td>\n",
       "      <td>3</td>\n",
       "      <td>5</td>\n",
       "      <td>3</td>\n",
       "      <td>5</td>\n",
       "    </tr>\n",
       "    <tr>\n",
       "      <th>4</th>\n",
       "      <td>41</td>\n",
       "      <td>42</td>\n",
       "      <td>43</td>\n",
       "      <td>44</td>\n",
       "      <td>45</td>\n",
       "      <td>46</td>\n",
       "      <td>47</td>\n",
       "      <td>48</td>\n",
       "      <td>49</td>\n",
       "      <td>50</td>\n",
       "    </tr>\n",
       "    <tr>\n",
       "      <th>5</th>\n",
       "      <td>3</td>\n",
       "      <td>3</td>\n",
       "      <td>1</td>\n",
       "      <td>2</td>\n",
       "      <td>5</td>\n",
       "      <td>4</td>\n",
       "      <td>4</td>\n",
       "      <td>5</td>\n",
       "      <td>2</td>\n",
       "      <td>3</td>\n",
       "    </tr>\n",
       "    <tr>\n",
       "      <th>6</th>\n",
       "      <td>61</td>\n",
       "      <td>62</td>\n",
       "      <td>63</td>\n",
       "      <td>64</td>\n",
       "      <td>65</td>\n",
       "      <td>66</td>\n",
       "      <td>67</td>\n",
       "      <td>68</td>\n",
       "      <td>69</td>\n",
       "      <td>70</td>\n",
       "    </tr>\n",
       "    <tr>\n",
       "      <th>7</th>\n",
       "      <td>3</td>\n",
       "      <td>3</td>\n",
       "      <td>5</td>\n",
       "      <td>2</td>\n",
       "      <td>3</td>\n",
       "      <td>1</td>\n",
       "      <td>1</td>\n",
       "      <td>4</td>\n",
       "      <td>3</td>\n",
       "      <td>1</td>\n",
       "    </tr>\n",
       "    <tr>\n",
       "      <th>8</th>\n",
       "      <td>81</td>\n",
       "      <td>82</td>\n",
       "      <td>83</td>\n",
       "      <td>84</td>\n",
       "      <td>85</td>\n",
       "      <td>86</td>\n",
       "      <td>87</td>\n",
       "      <td>88</td>\n",
       "      <td>89</td>\n",
       "      <td>90</td>\n",
       "    </tr>\n",
       "    <tr>\n",
       "      <th>9</th>\n",
       "      <td>2</td>\n",
       "      <td>4</td>\n",
       "      <td>4</td>\n",
       "      <td>5</td>\n",
       "      <td>2</td>\n",
       "      <td>3</td>\n",
       "      <td>1</td>\n",
       "      <td>3</td>\n",
       "      <td>4</td>\n",
       "      <td>1</td>\n",
       "    </tr>\n",
       "  </tbody>\n",
       "</table>\n",
       "</div>"
      ],
      "text/plain": [
       "    0   1   2   3   4   5   6   7   8   9\n",
       "0   1   2   3   4   5   6   7   8   9  10\n",
       "1   3   4   2   5   2   1   5   1   4   3\n",
       "2  21  22  23  24  25  26  27  28  29  30\n",
       "3   3   1   4   3   1   4   3   5   3   5\n",
       "4  41  42  43  44  45  46  47  48  49  50\n",
       "5   3   3   1   2   5   4   4   5   2   3\n",
       "6  61  62  63  64  65  66  67  68  69  70\n",
       "7   3   3   5   2   3   1   1   4   3   1\n",
       "8  81  82  83  84  85  86  87  88  89  90\n",
       "9   2   4   4   5   2   3   1   3   4   1"
      ]
     },
     "execution_count": 6,
     "metadata": {},
     "output_type": "execute_result"
    }
   ],
   "source": [
    "raw_answers_df: pd.DataFrame = pd.read_table(f\"../data/raw/type_2/Raw_Cuaderno_{year}_{topic}_0_C_Respuestas.txt\", sep= \" \", header=None)\n",
    "raw_answers_df.head(10)"
   ]
  },
  {
   "cell_type": "markdown",
   "metadata": {
    "id": "uFFlTADP8Jo7"
   },
   "source": [
    "# Data Transformation"
   ]
  },
  {
   "cell_type": "markdown",
   "metadata": {},
   "source": [
    "## Exam pdf"
   ]
  },
  {
   "cell_type": "markdown",
   "metadata": {},
   "source": [
    "### Removing white space"
   ]
  },
  {
   "cell_type": "markdown",
   "metadata": {
    "id": "2QavIIOK8Jo7"
   },
   "source": [
    "This section focuses on cleaning the raw text extracted from the PDF exam file, preparing it for further processing. This involves removing extraneous whitespace, handling empty lines, and resetting the DataFrame index.\n",
    "\n",
    "**1. Removing Page Number Artifacts:**\n",
    "\n",
    "The extracted text may contain page number artifacts, which are removed by filtering out rows containing the string \"Página\"."
   ]
  },
  {
   "cell_type": "code",
   "execution_count": 7,
   "metadata": {},
   "outputs": [],
   "source": [
    "raw_exam_df = raw_exam_df[~raw_exam_df[\"text\"].str.contains(\"Página\")]\n",
    "raw_exam_df = raw_exam_df[~raw_exam_df[\"text\"].str.contains(\"Pagina\")]\n",
    "\n",
    "footer_list: list = [f\"y {npag} y\" for npag in range(0,30,1)]\n",
    "\n",
    "for footer in footer_list:\n",
    "    raw_exam_df[\"text\"] = raw_exam_df[\"text\"].str.replace(footer, \"\")"
   ]
  },
  {
   "cell_type": "markdown",
   "metadata": {},
   "source": [
    "**2. Striping Leading/Trailing Whitespaces**\n",
    "\n",
    "Leading and trailing whitespace characters are removed from each text entry using the .str.strip() method."
   ]
  },
  {
   "cell_type": "code",
   "execution_count": 8,
   "metadata": {},
   "outputs": [],
   "source": [
    "raw_exam_df = raw_exam_df[\"text\"].str.strip()"
   ]
  },
  {
   "cell_type": "markdown",
   "metadata": {},
   "source": [
    "**3. Handling Empty Lines**\n",
    "\n",
    "Empty lines, represented as empty strings, are replaced with NaN (Not a Number) values. \n",
    "\n",
    "Then rows containing NaN values, representing empty lines, are removed from the DataFrame using .dropna()"
   ]
  },
  {
   "cell_type": "code",
   "execution_count": 9,
   "metadata": {},
   "outputs": [],
   "source": [
    "raw_exam_df = raw_exam_df.replace(\"\", np.nan)\n",
    "raw_exam_df = raw_exam_df.dropna()"
   ]
  },
  {
   "cell_type": "markdown",
   "metadata": {},
   "source": [
    "**4. Reseting DataFrame Index**\n",
    "\n",
    "The DataFrame index is reset after removing rows, ensuring a contiguous index and dropping the old index."
   ]
  },
  {
   "cell_type": "code",
   "execution_count": 10,
   "metadata": {},
   "outputs": [],
   "source": [
    "raw_exam_df = raw_exam_df.reset_index(drop=True)"
   ]
  },
  {
   "cell_type": "markdown",
   "metadata": {},
   "source": [
    "**5. Displays the first 10 rows of the DataFrame**"
   ]
  },
  {
   "cell_type": "code",
   "execution_count": 11,
   "metadata": {},
   "outputs": [
    {
     "data": {
      "text/plain": [
       "0    1. La estimulación del Sistema Activador Reticu8\n",
       "1                      lar Ascendente (SARA) provoca:\n",
       "2                                         1.  Hambre.\n",
       "3                         2.  Desordenes emocionales.\n",
       "4                                        3.  Vigilia.\n",
       "5                                      4.  Sueño REM.\n",
       "6                                 5.  Sueño profundo.\n",
       "7                           2. La insulina inhibe la:\n",
       "8                              1.  Glucogenosíntesis.\n",
       "9                          2.  Síntesis de proteínas.\n",
       "Name: text, dtype: object"
      ]
     },
     "execution_count": 11,
     "metadata": {},
     "output_type": "execute_result"
    }
   ],
   "source": [
    "raw_exam_df.head(10)"
   ]
  },
  {
   "cell_type": "markdown",
   "metadata": {},
   "source": [
    "### Joining Truncated Lines"
   ]
  },
  {
   "cell_type": "markdown",
   "metadata": {},
   "source": [
    "This section addresses the issue of truncated lines and multi-line questions or options within the extracted exam text. A custom function, `process_multi_line_str`, is used to concatenate these lines, ensuring that each question and option is presented as a single, coherent string.\n",
    "\n",
    "**Function: `process_multi_line_str(df)`**\n",
    "\n",
    "This function iterates through the DataFrame, performing two main tasks:\n",
    "\n",
    "1.  **Joining Truncated Words:**\n",
    "    * It checks if a line ends with a hyphen (\"-\"), indicating a word that has been truncated at the end of a line.\n",
    "    * If a line is truncated, it removes the hyphen and appends the content of the following line to the current line.\n",
    "    * The following line is then removed from the DataFrame, and the index is reset.\n",
    "\n",
    "2.  **Joining Multi-Line Questions/Options:**\n",
    "    * It checks if the first character of the next line can be converted to an integer. This is used as a heuristic to identify the start of a new question or option.\n",
    "    * If the next line does not start with an integer (i.e., it's a continuation of the current question or option), it is appended to the current line, separated by a space.\n",
    "    * The next line is then removed, and the index is reset."
   ]
  },
  {
   "cell_type": "code",
   "execution_count": 12,
   "metadata": {
    "id": "rYZHjn_C8Jo8"
   },
   "outputs": [],
   "source": [
    "def process_multi_line_str(df: pd.DataFrame) -> pd.DataFrame:\n",
    "    \"\"\"Function to handle truncated lines\n",
    "\n",
    "    Args:\n",
    "        df (pd.DataFrame): A pandas dataframe\n",
    "\n",
    "    Returns:\n",
    "        pd.DataFrame: Returns the DataFrame without truncated lines\n",
    "    \"\"\"\n",
    "    i: int = 0\n",
    "    while i < len(df) - 1:\n",
    "        if i < len(df) -1  and df.iloc[i].endswith(\"8\"):\n",
    "            df.iloc[i] = df.iloc[i][:-1] + df.iloc[i + 1]\n",
    "            df = df.drop(i + 1)\n",
    "            df = df.reset_index(drop=True)\n",
    "        else:\n",
    "            i += 1\n",
    "    n: int = 0\n",
    "    while n < len(df) -1:\n",
    "        if n + 1 < len(df):\n",
    "            try:\n",
    "                int(df.iloc[n + 1][0:1])\n",
    "                n += 1\n",
    "            except ValueError:\n",
    "                df.iloc[n] = df.iloc[n] + \" \" + df.iloc[n + 1]\n",
    "                df = df.drop(n +1)\n",
    "                df = df.reset_index(drop= True)\n",
    "        else:\n",
    "            break\n",
    "    return df"
   ]
  },
  {
   "cell_type": "markdown",
   "metadata": {},
   "source": [
    "The process_multi_line_str function is applied to the cleaned raw_exam_df DataFrame, and the resulting DataFrame is stored in exam_df_concat. The first few rows of the concatenated DataFrame are displayed to verify the results."
   ]
  },
  {
   "cell_type": "code",
   "execution_count": 20,
   "metadata": {
    "colab": {
     "base_uri": "https://localhost:8080/",
     "height": 206
    },
    "id": "2v6dmQuM8_v1",
    "outputId": "215f5328-a43d-4bbb-f221-fba6fc10a5c1"
   },
   "outputs": [
    {
     "data": {
      "text/plain": [
       "0    1. La estimulación del Sistema Activador Retic...\n",
       "1                                          1.  Hambre.\n",
       "2                          2.  Desordenes emocionales.\n",
       "3                                         3.  Vigilia.\n",
       "4                                       4.  Sueño REM.\n",
       "5                                  5.  Sueño profundo.\n",
       "6                            2. La insulina inhibe la:\n",
       "7                               1.  Glucogenosíntesis.\n",
       "8                           2.  Síntesis de proteínas.\n",
       "9                                      3.  Glucólisis.\n",
       "Name: text, dtype: object"
      ]
     },
     "execution_count": 20,
     "metadata": {},
     "output_type": "execute_result"
    }
   ],
   "source": [
    "exam_df_concat: pd.DataFrame = process_multi_line_str(raw_exam_df)\n",
    "exam_df_concat.head(10)"
   ]
  },
  {
   "cell_type": "markdown",
   "metadata": {},
   "source": [
    "### Validating and Correction Incorrect Rows"
   ]
  },
  {
   "cell_type": "markdown",
   "metadata": {},
   "source": [
    "This section focuses on validating the number of rows in the cleaned DataFrame against the expected number and correcting any rows that do not conform to the expected format.\n",
    "\n",
    "**1. Calculating Expected and Actual Incorrect Rows:**\n",
    "\n",
    "We calculate the expected number of incorrect rows by subtracting the total expected rows from the current number of rows in the DataFrame. We then identify the actual number of incorrect rows by counting the rows that do not end with a period (\".\"), a colon (\":\") or interrogation sign (\"?\")."
   ]
  },
  {
   "cell_type": "code",
   "execution_count": 21,
   "metadata": {},
   "outputs": [
    {
     "name": "stdout",
     "output_type": "stream",
     "text": [
      "Number of expected incorrect rows = 13\n",
      "Number of rows not ending with '.', ':' or '?' = 20\n",
      "[52, 101, 617, 820, 1017, 1067, 1096, 1097, 1099, 1100, 1155, 1219, 1221, 1263, 1271, 1290, 1298, 1379, 1511, 1562]\n"
     ]
    }
   ],
   "source": [
    "num_rows_incorrect_expected: int = len(exam_df_concat) - total_num_rows\n",
    "num_rows_incorrect: int = exam_df_concat[~exam_df_concat.str.endswith((\".\", \":\", \"?\"))].count()\n",
    "id_rows_incorrect: list = exam_df_concat[~exam_df_concat.str.endswith((\".\", \":\", \"?\"))].index.to_list()\n",
    "print(f\"Number of expected incorrect rows = {num_rows_incorrect_expected}\")\n",
    "print(f\"Number of rows not ending with '.', ':' or '?' = {num_rows_incorrect}\")\n",
    "print(id_rows_incorrect)"
   ]
  },
  {
   "cell_type": "markdown",
   "metadata": {},
   "source": [
    "**2. Function: print_rows_incorrrect(wrong_id, df):**\n",
    "\n",
    "This function takes a list of incorrect row indices and the DataFrame as input. It then prints the row identified as incorrect along with the 2 rows before and 2 rows after, providing context to help determine how to fix the error."
   ]
  },
  {
   "cell_type": "code",
   "execution_count": 15,
   "metadata": {},
   "outputs": [],
   "source": [
    "def print_rows_incorrrect(wrong_id: list[int], df: pd.DataFrame) -> None:\n",
    "    \"\"\"Print +/- 2 rows for context\n",
    "\n",
    "    Args:\n",
    "        wrong_id (list): Generated list of wrong row_id\n",
    "        df (pd.DataFrame): DataFrame corresponding with the worng_id list\n",
    "    \"\"\"\n",
    "    for wid in wrong_id:\n",
    "        print(f\"Id to fix {wid}:\")\n",
    "        print(df.iloc[wid -2: wid +3])"
   ]
  },
  {
   "cell_type": "markdown",
   "metadata": {},
   "source": [
    "**3. Function: fix_incorrect(num_row, df):**\n",
    "\n",
    "This function takes a list of row indices to fix and the DataFrame. It iterates through the indices in reverse order to avoid index shifting problems. Each incorrect row is concatenated with the row immediately following it, and the subsequent row is then dropped. The DataFrame index is reset after each concatenation."
   ]
  },
  {
   "cell_type": "code",
   "execution_count": 16,
   "metadata": {},
   "outputs": [],
   "source": [
    "def fix_incorrect(num_row: list[int], df: pd.DataFrame) -> pd.DataFrame:\n",
    "    \"\"\"Fix the incorrect rows in the DataFrame\n",
    "\n",
    "    Args:\n",
    "        num_row (list): List of ids to fix\n",
    "        df (pd.DataFrame): The DataFrame to fix\n",
    "\n",
    "    Returns:\n",
    "        pd.DataFrame: Fixed\n",
    "    \"\"\"\n",
    "    num_row: list = sorted(num_row, reverse=True)\n",
    "    for n in num_row:\n",
    "        df.iloc[n] = df.iloc[n] + df.iloc[n + 1]\n",
    "        df = df.drop(n + 1)\n",
    "        df = df.reset_index(drop= True)\n",
    "    return df"
   ]
  },
  {
   "cell_type": "markdown",
   "metadata": {},
   "source": [
    "**4. Validation and Correction Logic:**\n",
    "\n",
    "We compare the expected and actual number of incorrect rows. If they match, we proceed to fix the incorrect rows using the `fix_incorrect` function. Otherwise, we print the context of the incorrect rows and raise a warning, indicating that manual inspection and correction are required."
   ]
  },
  {
   "cell_type": "code",
   "execution_count": 22,
   "metadata": {},
   "outputs": [
    {
     "name": "stdout",
     "output_type": "stream",
     "text": [
      "Id to fix 52:\n",
      "50                    2.  Colecistocinina.\n",
      "51                          3.  Secretina.\n",
      "52                            4.  Gastrina\n",
      "53                                5.  VIP.\n",
      "54    10. Inhibe la secreción gástrica la:\n",
      "Name: text, dtype: object\n",
      "Id to fix 101:\n",
      "99                   3.  Del volumen del espacio muerto.\n",
      "100                             4.  Del flujo sanguíneo.\n",
      "101                        5.  De la concentración de CO\n",
      "102                                                   2.\n",
      "103    18. El volumen de aire presente en el pulmón t...\n",
      "Name: text, dtype: object\n",
      "Id to fix 617:\n",
      "615    2.  Carecen de cadenas transportadoras de elec...\n",
      "616                        3.  Pueden respirar sulfatos.\n",
      "617                                4.  Pueden respirar H\n",
      "618                                                  2O.\n",
      "619                         5.  Son todas fermentadoras.\n",
      "Name: text, dtype: object\n",
      "Id to fix 820:\n",
      "818    137. Las respuestas de tipo Th1 se caracteriza...\n",
      "819                                1.  Anticuerpos IgG4.\n",
      "820                                            2.  ILy17\n",
      "821                                   3.  ILy10 y TGFyβ.\n",
      "822                                    4.  ILy2 e IFNyγ.\n",
      "Name: text, dtype: object\n",
      "Id to fix 1017:\n",
      "1015                       5.  Factores de transcripción.\n",
      "1016    170. El nucleótido que se añade en la posición...\n",
      "1017                                                1.  m\n",
      "1018                                                  3G.\n",
      "1019                                             2.  m3C.\n",
      "Name: text, dtype: object\n",
      "Id to fix 1067:\n",
      "1065    178. La deriva génica se produce cuando:\n",
      "1066            1.  Hay altas tasas de mutación.\n",
      "1067        2.  El tamaño poblacional es pequeño\n",
      "1068            3.  Ocurren grandes migraciones.\n",
      "1069         4.  Aparecen mutaciones dominantes.\n",
      "Name: text, dtype: object\n",
      "Id to fix 1096:\n",
      "1094                    5.  Inducir cromosomas en anillo.\n",
      "1095    183. La abreviatura utilizada para describir m...\n",
      "1096                                              1.  fra\n",
      "1097                                                2.  /\n",
      "1098                                               3.  ::\n",
      "Name: text, dtype: object\n",
      "Id to fix 1097:\n",
      "1095    183. La abreviatura utilizada para describir m...\n",
      "1096                                              1.  fra\n",
      "1097                                                2.  /\n",
      "1098                                               3.  ::\n",
      "1099                                              4.  cen\n",
      "Name: text, dtype: object\n",
      "Id to fix 1099:\n",
      "1097                                        2.  /\n",
      "1098                                       3.  ::\n",
      "1099                                      4.  cen\n",
      "1100                                      5.  mar\n",
      "1101    184. El gen APC  se asocia con cáncer de:\n",
      "Name: text, dtype: object\n",
      "Id to fix 1100:\n",
      "1098                                       3.  ::\n",
      "1099                                      4.  cen\n",
      "1100                                      5.  mar\n",
      "1101    184. El gen APC  se asocia con cáncer de:\n",
      "1102                                    1.  Mama.\n",
      "Name: text, dtype: object\n",
      "Id to fix 1155:\n",
      "1153                                   4.  A      NN.\n",
      "1154                                  5.  0       MN.\n",
      "1155    193. La aneuploidia que define a un individuo\n",
      "1156                                    2n+1+1 es la:\n",
      "1157                              1.  Trisomía doble.\n",
      "Name: text, dtype: object\n",
      "Id to fix 1219:\n",
      "1217    1.  Glicólisis hepática suministra glucosa a l...\n",
      "1218    2.  Ruta de los fosfatos de pentosa suministra...\n",
      "1219    3.  Degradación de ácidos grasos suministra en...\n",
      "1220                                                   2.\n",
      "1221    4.  Función del ciclo del ácido cítrico es la ...\n",
      "Name: text, dtype: object\n",
      "Id to fix 1221:\n",
      "1219    3.  Degradación de ácidos grasos suministra en...\n",
      "1220                                                   2.\n",
      "1221    4.  Función del ciclo del ácido cítrico es la ...\n",
      "1222                              2 en forma de azúcares.\n",
      "1223    5.  Función de la gluconeogénesis es la formac...\n",
      "Name: text, dtype: object\n",
      "Id to fix 1263:\n",
      "1261    1.  Producir aminoácidos para la síntesis de p...\n",
      "1262    2.  Generar un gradiente de protones para la s...\n",
      "1263                       3.  Oxidar la glucosa hasta CO\n",
      "1264                                            2 y agua.\n",
      "1265                               4.  Producir pentosas.\n",
      "Name: text, dtype: object\n",
      "Id to fix 1271:\n",
      "1269               2.  Los cofactores de oxidorreducción.\n",
      "1270    3.  La formación de enlaces tioéster de los in...\n",
      "1271                           4.  La intervención del CO\n",
      "1272                                                   2.\n",
      "1273    5.  Que el alargamiento o el acortamiento de l...\n",
      "Name: text, dtype: object\n",
      "Id to fix 1290:\n",
      "1288    2.  La lactato deshidrogenasa será más activa ...\n",
      "1289    3.  Después de realizar un ejercicio muscular ...\n",
      "1290                4.  La fermentación láctica genera CO\n",
      "1291                                                   2.\n",
      "1292                5.  Se permite la generación de NADH.\n",
      "Name: text, dtype: object\n",
      "Id to fix 1298:\n",
      "1296    3.  El tratamiento por diálisis provoca su rot...\n",
      "1297    4.  Sólo se encuentran en proteínas fibrosas, ...\n",
      "1298    5.  Se rompen por tratamiento con βymercaptoet...\n",
      "1299                                          2yCH 2yOH).\n",
      "1300    216. Del enlace glucosídico entre monosacárido...\n",
      "Name: text, dtype: object\n",
      "Id to fix 1379:\n",
      "1377    5.  Un inhibidor competitivo actúa aumentando ...\n",
      "1378                            229. El ciclo de la urea:\n",
      "1379                            1.  Transforma urea en CO\n",
      "1380                                      2 e ión amonio.\n",
      "1381    2.  Es la ruta más importante de incorporación...\n",
      "Name: text, dtype: object\n",
      "Id to fix 1511:\n",
      "1509    4.  Algunos no presentan ácidos grasos en su e...\n",
      "1510      5.  Su función es el almacenamiento de energía.\n",
      "1511                                   251. La vitamina D\n",
      "1512                               3 activa o calcitriol:\n",
      "1513                         1.  Se sintetiza en la piel.\n",
      "Name: text, dtype: object\n",
      "Id to fix 1562:\n",
      "1560    259. En cada vuelta de la beta oxidación se:\n",
      "1561              1.  Generan dos moléculas de NADH.\n",
      "1562                 2.  Genera una molécula de FADH\n",
      "1563                                              2.\n",
      "1564                 3.  Produce una deshidratación.\n",
      "Name: text, dtype: object\n"
     ]
    }
   ],
   "source": [
    "if num_rows_incorrect_expected == num_rows_incorrect:\n",
    "    exam_df_fixed = fix_incorrect(id_rows_incorrect, exam_df_concat)\n",
    "    df_correct_rows: bool = len(exam_df_fixed) == num_rows_incorrect_expected\n",
    "elif num_rows_incorrect == 0:\n",
    "    exam_df_fixed = exam_df_concat\n",
    "else:\n",
    "    print_rows_incorrrect(id_rows_incorrect, exam_df_concat)\n",
    "    # raise Warning(\"More incorrect rows that expected, uncomment the lines below and add ids to the list, and comment this line\")\n",
    "    rows_fix: list[int] = [101, 617, 1017, 1155, 1219, 1221, 1263, 1271, 1290, 1298, 1379, 1511, 1562]\n",
    "    exam_df_fixed: pd.DataFrame = fix_incorrect(rows_fix, exam_df_concat)"
   ]
  },
  {
   "cell_type": "markdown",
   "metadata": {},
   "source": [
    "**5. Verification of Corrected Rows:**\n",
    "\n",
    "We print the expected total number of rows and the actual number of rows in the corrected DataFrame to verify the results of the correction process.\n",
    "\n",
    "If the number is diferent it raises a Warning"
   ]
  },
  {
   "cell_type": "code",
   "execution_count": 23,
   "metadata": {},
   "outputs": [
    {
     "name": "stdout",
     "output_type": "stream",
     "text": [
      "Correct number of rows = 1560\n",
      "Number of rows in df = 1560\n"
     ]
    }
   ],
   "source": [
    "print(f\"Correct number of rows = {total_num_rows}\\nNumber of rows in df = {exam_df_fixed.shape[0]}\")\n",
    "if total_num_rows != exam_df_fixed.shape[0]:\n",
    "    raise Warning(\"More or Less rows than expected\")"
   ]
  },
  {
   "cell_type": "markdown",
   "metadata": {},
   "source": [
    "### Pivoting the DataFrame\n",
    "\n",
    "This section focuses on transforming the cleaned exam data into a structured format suitable for analysis. The DataFrame is pivoted to create columns for each question and its corresponding options.\n",
    "\n",
    "**1. Preparing the DataFrame for Pivoting:**\n",
    "\n",
    "The `exam_df_fixed` Series is converted to a DataFrame, and a 'group' column is created to identify each question and its options. An 'option_num' column is then generated to enumerate the options within each group.\n"
   ]
  },
  {
   "cell_type": "code",
   "execution_count": 24,
   "metadata": {},
   "outputs": [],
   "source": [
    "exam_df_fixed = exam_df_fixed.to_frame()\n",
    "groups: pd.Series = pd.Series((exam_df_fixed.index // (num_questions+1)) +1)\n",
    "exam_df_fixed[\"group\"] = groups  \n",
    "exam_df_fixed[\"option_num\"] = exam_df_fixed.groupby(\"group\").cumcount() + 1"
   ]
  },
  {
   "cell_type": "markdown",
   "metadata": {},
   "source": [
    "**2. Pivoting the DataFrame:**\n",
    "\n",
    "The DataFrame is pivoted using the 'group' column as the index, the 'option_num' column as the columns, and the 'text' column as the values. The index is then reset."
   ]
  },
  {
   "cell_type": "code",
   "execution_count": 25,
   "metadata": {},
   "outputs": [],
   "source": [
    "exam_df_pivot: pd.DataFrame = exam_df_fixed.pivot(index=\"group\", columns=\"option_num\", values=\"text\")\n",
    "exam_df_pivot = exam_df_pivot.reset_index()"
   ]
  },
  {
   "cell_type": "markdown",
   "metadata": {},
   "source": [
    "**3. Renaming Columns:**\n",
    "\n",
    "The columns are renamed to more descriptive names, such as \"Question\", \"Option_1\", \"Option_2\", etc."
   ]
  },
  {
   "cell_type": "code",
   "execution_count": 26,
   "metadata": {},
   "outputs": [],
   "source": [
    "key_list: list = [x for x in range(1, num_questions+2, 1)]\n",
    "val_list: list = [\"Question\"] + [f\"Option_{x}\" for x in range(1, num_questions + 1, 1)]\n",
    "\n",
    "exam_df_pivot = exam_df_pivot.rename_axis(None, axis=1).rename(columns=dict(zip(key_list, val_list)))"
   ]
  },
  {
   "cell_type": "markdown",
   "metadata": {},
   "source": [
    "**4. Dropping the 'group' Column:**\n",
    "\n",
    "The 'group' column is dropped as it is no longer needed"
   ]
  },
  {
   "cell_type": "code",
   "execution_count": 27,
   "metadata": {},
   "outputs": [],
   "source": [
    "exam_df_pivot = exam_df_pivot.drop(columns=[\"group\"])"
   ]
  },
  {
   "cell_type": "markdown",
   "metadata": {},
   "source": [
    "**5. Displaying the Pivoted DataFrame:**\n",
    "\n",
    "The first 10 rows of the pivoted DataFrame are displayed to verify the results of the transformation."
   ]
  },
  {
   "cell_type": "code",
   "execution_count": 28,
   "metadata": {},
   "outputs": [
    {
     "data": {
      "application/vnd.microsoft.datawrangler.viewer.v0+json": {
       "columns": [
        {
         "name": "index",
         "rawType": "int64",
         "type": "integer"
        },
        {
         "name": "Question",
         "rawType": "object",
         "type": "string"
        },
        {
         "name": "Option_1",
         "rawType": "object",
         "type": "string"
        },
        {
         "name": "Option_2",
         "rawType": "object",
         "type": "string"
        },
        {
         "name": "Option_3",
         "rawType": "object",
         "type": "string"
        },
        {
         "name": "Option_4",
         "rawType": "object",
         "type": "string"
        },
        {
         "name": "Option_5",
         "rawType": "object",
         "type": "string"
        }
       ],
       "conversionMethod": "pd.DataFrame",
       "ref": "748a623a-70f9-4981-88e7-57ce4aa5ee38",
       "rows": [
        [
         "0",
         "1. La estimulación del Sistema Activador Reticular Ascendente (SARA) provoca: lar Ascendente (SARA) provoca:",
         "1.  Hambre.",
         "2.  Desordenes emocionales.",
         "3.  Vigilia.",
         "4.  Sueño REM.",
         "5.  Sueño profundo."
        ],
        [
         "1",
         "2. La insulina inhibe la:",
         "1.  Glucogenosíntesis.",
         "2.  Síntesis de proteínas.",
         "3.  Glucólisis.",
         "4.  Lipólisis.",
         "5.  Na +yK+yATPasa."
        ],
        [
         "2",
         "3. Regula la producción de plaquetas:",
         "1.  Eritropoyetina.",
         "2.  Trombopoyetina.",
         "3.  Factor activador de plaquetas.",
         "4.  Interleucinas.",
         "5.  Factor de células madre."
        ],
        [
         "3",
         "4. Disminuye la excitabilidad del músculo gastrointestinal la:",
         "1.  Distensión.",
         "2.  Estimulación parasimpática.",
         "3.  Gastrina.",
         "4.  Acetilcolina.",
         "5.  Estimulación simpática."
        ],
        [
         "4",
         "5. La glucosa se absorbe fundamentalmente en:",
         "1.  Estómago.",
         "2.  Duodeno y yeyuno.",
         "3.  Ileon terminal.",
         "4.  Colon.",
         "5.  Ileon y colon."
        ],
        [
         "5",
         "6. Estimulan la secreción de la hormona gastrina:",
         "1.  Péptidos y aminoácidos.",
         "2.  Ácido.",
         "3.  Somatostatina.",
         "4.  Secretina.",
         "5.  GIP."
        ],
        [
         "6",
         "7. El páncreas exocrino segrega:",
         "1.  Tripsina.",
         "2.  Enterocinasa.",
         "3.  Somatostatina.",
         "4.  Insulina.",
         "5.  Lipasa."
        ],
        [
         "7",
         "8. La glándula parótida:",
         "1.  Produce saliva serosa.",
         "2.  Es inervada por el vago.",
         "3.  Produce secreción mixta.",
         "4.  Carece de acinos.",
         "5.  Produce secreción hipertónica."
        ],
        [
         "8",
         "9. Aumenta la motilidad gástrica el/la:",
         "1.  Péptido inhibidor gástrico.",
         "2.  Colecistocinina.",
         "3.  Secretina.",
         "4.  Gastrina",
         "5.  VIP."
        ],
        [
         "9",
         "10. Inhibe la secreción gástrica la:",
         "1.  Gastrina.",
         "2.  Histamina.",
         "3.  Somatostatina.",
         "4.  Acetilcolina.",
         "5.  Estimulación vagal."
        ]
       ],
       "shape": {
        "columns": 6,
        "rows": 10
       }
      },
      "text/html": [
       "<div>\n",
       "<style scoped>\n",
       "    .dataframe tbody tr th:only-of-type {\n",
       "        vertical-align: middle;\n",
       "    }\n",
       "\n",
       "    .dataframe tbody tr th {\n",
       "        vertical-align: top;\n",
       "    }\n",
       "\n",
       "    .dataframe thead th {\n",
       "        text-align: right;\n",
       "    }\n",
       "</style>\n",
       "<table border=\"1\" class=\"dataframe\">\n",
       "  <thead>\n",
       "    <tr style=\"text-align: right;\">\n",
       "      <th></th>\n",
       "      <th>Question</th>\n",
       "      <th>Option_1</th>\n",
       "      <th>Option_2</th>\n",
       "      <th>Option_3</th>\n",
       "      <th>Option_4</th>\n",
       "      <th>Option_5</th>\n",
       "    </tr>\n",
       "  </thead>\n",
       "  <tbody>\n",
       "    <tr>\n",
       "      <th>0</th>\n",
       "      <td>1. La estimulación del Sistema Activador Retic...</td>\n",
       "      <td>1.  Hambre.</td>\n",
       "      <td>2.  Desordenes emocionales.</td>\n",
       "      <td>3.  Vigilia.</td>\n",
       "      <td>4.  Sueño REM.</td>\n",
       "      <td>5.  Sueño profundo.</td>\n",
       "    </tr>\n",
       "    <tr>\n",
       "      <th>1</th>\n",
       "      <td>2. La insulina inhibe la:</td>\n",
       "      <td>1.  Glucogenosíntesis.</td>\n",
       "      <td>2.  Síntesis de proteínas.</td>\n",
       "      <td>3.  Glucólisis.</td>\n",
       "      <td>4.  Lipólisis.</td>\n",
       "      <td>5.  Na +yK+yATPasa.</td>\n",
       "    </tr>\n",
       "    <tr>\n",
       "      <th>2</th>\n",
       "      <td>3. Regula la producción de plaquetas:</td>\n",
       "      <td>1.  Eritropoyetina.</td>\n",
       "      <td>2.  Trombopoyetina.</td>\n",
       "      <td>3.  Factor activador de plaquetas.</td>\n",
       "      <td>4.  Interleucinas.</td>\n",
       "      <td>5.  Factor de células madre.</td>\n",
       "    </tr>\n",
       "    <tr>\n",
       "      <th>3</th>\n",
       "      <td>4. Disminuye la excitabilidad del músculo gast...</td>\n",
       "      <td>1.  Distensión.</td>\n",
       "      <td>2.  Estimulación parasimpática.</td>\n",
       "      <td>3.  Gastrina.</td>\n",
       "      <td>4.  Acetilcolina.</td>\n",
       "      <td>5.  Estimulación simpática.</td>\n",
       "    </tr>\n",
       "    <tr>\n",
       "      <th>4</th>\n",
       "      <td>5. La glucosa se absorbe fundamentalmente en:</td>\n",
       "      <td>1.  Estómago.</td>\n",
       "      <td>2.  Duodeno y yeyuno.</td>\n",
       "      <td>3.  Ileon terminal.</td>\n",
       "      <td>4.  Colon.</td>\n",
       "      <td>5.  Ileon y colon.</td>\n",
       "    </tr>\n",
       "    <tr>\n",
       "      <th>5</th>\n",
       "      <td>6. Estimulan la secreción de la hormona gastrina:</td>\n",
       "      <td>1.  Péptidos y aminoácidos.</td>\n",
       "      <td>2.  Ácido.</td>\n",
       "      <td>3.  Somatostatina.</td>\n",
       "      <td>4.  Secretina.</td>\n",
       "      <td>5.  GIP.</td>\n",
       "    </tr>\n",
       "    <tr>\n",
       "      <th>6</th>\n",
       "      <td>7. El páncreas exocrino segrega:</td>\n",
       "      <td>1.  Tripsina.</td>\n",
       "      <td>2.  Enterocinasa.</td>\n",
       "      <td>3.  Somatostatina.</td>\n",
       "      <td>4.  Insulina.</td>\n",
       "      <td>5.  Lipasa.</td>\n",
       "    </tr>\n",
       "    <tr>\n",
       "      <th>7</th>\n",
       "      <td>8. La glándula parótida:</td>\n",
       "      <td>1.  Produce saliva serosa.</td>\n",
       "      <td>2.  Es inervada por el vago.</td>\n",
       "      <td>3.  Produce secreción mixta.</td>\n",
       "      <td>4.  Carece de acinos.</td>\n",
       "      <td>5.  Produce secreción hipertónica.</td>\n",
       "    </tr>\n",
       "    <tr>\n",
       "      <th>8</th>\n",
       "      <td>9. Aumenta la motilidad gástrica el/la:</td>\n",
       "      <td>1.  Péptido inhibidor gástrico.</td>\n",
       "      <td>2.  Colecistocinina.</td>\n",
       "      <td>3.  Secretina.</td>\n",
       "      <td>4.  Gastrina</td>\n",
       "      <td>5.  VIP.</td>\n",
       "    </tr>\n",
       "    <tr>\n",
       "      <th>9</th>\n",
       "      <td>10. Inhibe la secreción gástrica la:</td>\n",
       "      <td>1.  Gastrina.</td>\n",
       "      <td>2.  Histamina.</td>\n",
       "      <td>3.  Somatostatina.</td>\n",
       "      <td>4.  Acetilcolina.</td>\n",
       "      <td>5.  Estimulación vagal.</td>\n",
       "    </tr>\n",
       "  </tbody>\n",
       "</table>\n",
       "</div>"
      ],
      "text/plain": [
       "                                            Question  \\\n",
       "0  1. La estimulación del Sistema Activador Retic...   \n",
       "1                          2. La insulina inhibe la:   \n",
       "2              3. Regula la producción de plaquetas:   \n",
       "3  4. Disminuye la excitabilidad del músculo gast...   \n",
       "4      5. La glucosa se absorbe fundamentalmente en:   \n",
       "5  6. Estimulan la secreción de la hormona gastrina:   \n",
       "6                   7. El páncreas exocrino segrega:   \n",
       "7                           8. La glándula parótida:   \n",
       "8            9. Aumenta la motilidad gástrica el/la:   \n",
       "9               10. Inhibe la secreción gástrica la:   \n",
       "\n",
       "                          Option_1                         Option_2  \\\n",
       "0                      1.  Hambre.      2.  Desordenes emocionales.   \n",
       "1           1.  Glucogenosíntesis.       2.  Síntesis de proteínas.   \n",
       "2              1.  Eritropoyetina.              2.  Trombopoyetina.   \n",
       "3                  1.  Distensión.  2.  Estimulación parasimpática.   \n",
       "4                    1.  Estómago.            2.  Duodeno y yeyuno.   \n",
       "5      1.  Péptidos y aminoácidos.                       2.  Ácido.   \n",
       "6                    1.  Tripsina.                2.  Enterocinasa.   \n",
       "7       1.  Produce saliva serosa.     2.  Es inervada por el vago.   \n",
       "8  1.  Péptido inhibidor gástrico.             2.  Colecistocinina.   \n",
       "9                    1.  Gastrina.                   2.  Histamina.   \n",
       "\n",
       "                             Option_3               Option_4  \\\n",
       "0                        3.  Vigilia.         4.  Sueño REM.   \n",
       "1                     3.  Glucólisis.         4.  Lipólisis.   \n",
       "2  3.  Factor activador de plaquetas.     4.  Interleucinas.   \n",
       "3                       3.  Gastrina.      4.  Acetilcolina.   \n",
       "4                 3.  Ileon terminal.             4.  Colon.   \n",
       "5                  3.  Somatostatina.         4.  Secretina.   \n",
       "6                  3.  Somatostatina.          4.  Insulina.   \n",
       "7        3.  Produce secreción mixta.  4.  Carece de acinos.   \n",
       "8                      3.  Secretina.           4.  Gastrina   \n",
       "9                  3.  Somatostatina.      4.  Acetilcolina.   \n",
       "\n",
       "                             Option_5  \n",
       "0                 5.  Sueño profundo.  \n",
       "1                 5.  Na +yK+yATPasa.  \n",
       "2        5.  Factor de células madre.  \n",
       "3         5.  Estimulación simpática.  \n",
       "4                  5.  Ileon y colon.  \n",
       "5                            5.  GIP.  \n",
       "6                         5.  Lipasa.  \n",
       "7  5.  Produce secreción hipertónica.  \n",
       "8                            5.  VIP.  \n",
       "9             5.  Estimulación vagal.  "
      ]
     },
     "execution_count": 28,
     "metadata": {},
     "output_type": "execute_result"
    }
   ],
   "source": [
    "exam_df_pivot.head(10)"
   ]
  },
  {
   "cell_type": "markdown",
   "metadata": {},
   "source": [
    "## Answers tsv\n",
    "\n",
    "This section focuses on cleaning and consolidating the answer key data from the TSV file. The original data contains duplicate columns, which are processed and combined into a single, clean DataFrame.\n",
    "\n",
    "**1. Initial Cleaning and Numeric Conversion:**\n",
    "\n",
    "* Iterates through all columns of the `raw_answers_df` DataFrame.\n",
    "* For string-type columns, replaces all occurrences of \"A\" with \"0\".\n",
    "* Non-string columns are ignored.\n",
    "* Applies `pd.to_numeric` to all columns, converting values to numbers (floats) and handling conversion errors with `errors='coerce'`, which replaces non-numeric values with `NaN`.\n",
    "* Replaces all `NaN` values with `999.9`.\n",
    "* Displays the first few rows of the transformed DataFrame (`raw_answers_df_2`)."
   ]
  },
  {
   "cell_type": "code",
   "execution_count": 29,
   "metadata": {},
   "outputs": [
    {
     "data": {
      "application/vnd.microsoft.datawrangler.viewer.v0+json": {
       "columns": [
        {
         "name": "index",
         "rawType": "int64",
         "type": "integer"
        },
        {
         "name": "0",
         "rawType": "int64",
         "type": "integer"
        },
        {
         "name": "1",
         "rawType": "int64",
         "type": "integer"
        },
        {
         "name": "2",
         "rawType": "int64",
         "type": "integer"
        },
        {
         "name": "3",
         "rawType": "int64",
         "type": "integer"
        },
        {
         "name": "4",
         "rawType": "int64",
         "type": "integer"
        },
        {
         "name": "5",
         "rawType": "int64",
         "type": "integer"
        },
        {
         "name": "6",
         "rawType": "int64",
         "type": "integer"
        },
        {
         "name": "7",
         "rawType": "int64",
         "type": "integer"
        },
        {
         "name": "8",
         "rawType": "int64",
         "type": "integer"
        },
        {
         "name": "9",
         "rawType": "int64",
         "type": "integer"
        }
       ],
       "conversionMethod": "pd.DataFrame",
       "ref": "6bc16683-0cec-4239-a17d-21718f83b0b0",
       "rows": [
        [
         "0",
         "1",
         "2",
         "3",
         "4",
         "5",
         "6",
         "7",
         "8",
         "9",
         "10"
        ],
        [
         "1",
         "3",
         "4",
         "2",
         "5",
         "2",
         "1",
         "5",
         "1",
         "4",
         "3"
        ],
        [
         "2",
         "21",
         "22",
         "23",
         "24",
         "25",
         "26",
         "27",
         "28",
         "29",
         "30"
        ],
        [
         "3",
         "3",
         "1",
         "4",
         "3",
         "1",
         "4",
         "3",
         "5",
         "3",
         "5"
        ],
        [
         "4",
         "41",
         "42",
         "43",
         "44",
         "45",
         "46",
         "47",
         "48",
         "49",
         "50"
        ],
        [
         "5",
         "3",
         "3",
         "1",
         "2",
         "5",
         "4",
         "4",
         "5",
         "2",
         "3"
        ],
        [
         "6",
         "61",
         "62",
         "63",
         "64",
         "65",
         "66",
         "67",
         "68",
         "69",
         "70"
        ],
        [
         "7",
         "3",
         "3",
         "5",
         "2",
         "3",
         "1",
         "1",
         "4",
         "3",
         "1"
        ],
        [
         "8",
         "81",
         "82",
         "83",
         "84",
         "85",
         "86",
         "87",
         "88",
         "89",
         "90"
        ],
        [
         "9",
         "2",
         "4",
         "4",
         "5",
         "2",
         "3",
         "1",
         "3",
         "4",
         "1"
        ]
       ],
       "shape": {
        "columns": 10,
        "rows": 10
       }
      },
      "text/html": [
       "<div>\n",
       "<style scoped>\n",
       "    .dataframe tbody tr th:only-of-type {\n",
       "        vertical-align: middle;\n",
       "    }\n",
       "\n",
       "    .dataframe tbody tr th {\n",
       "        vertical-align: top;\n",
       "    }\n",
       "\n",
       "    .dataframe thead th {\n",
       "        text-align: right;\n",
       "    }\n",
       "</style>\n",
       "<table border=\"1\" class=\"dataframe\">\n",
       "  <thead>\n",
       "    <tr style=\"text-align: right;\">\n",
       "      <th></th>\n",
       "      <th>0</th>\n",
       "      <th>1</th>\n",
       "      <th>2</th>\n",
       "      <th>3</th>\n",
       "      <th>4</th>\n",
       "      <th>5</th>\n",
       "      <th>6</th>\n",
       "      <th>7</th>\n",
       "      <th>8</th>\n",
       "      <th>9</th>\n",
       "    </tr>\n",
       "  </thead>\n",
       "  <tbody>\n",
       "    <tr>\n",
       "      <th>0</th>\n",
       "      <td>1</td>\n",
       "      <td>2</td>\n",
       "      <td>3</td>\n",
       "      <td>4</td>\n",
       "      <td>5</td>\n",
       "      <td>6</td>\n",
       "      <td>7</td>\n",
       "      <td>8</td>\n",
       "      <td>9</td>\n",
       "      <td>10</td>\n",
       "    </tr>\n",
       "    <tr>\n",
       "      <th>1</th>\n",
       "      <td>3</td>\n",
       "      <td>4</td>\n",
       "      <td>2</td>\n",
       "      <td>5</td>\n",
       "      <td>2</td>\n",
       "      <td>1</td>\n",
       "      <td>5</td>\n",
       "      <td>1</td>\n",
       "      <td>4</td>\n",
       "      <td>3</td>\n",
       "    </tr>\n",
       "    <tr>\n",
       "      <th>2</th>\n",
       "      <td>21</td>\n",
       "      <td>22</td>\n",
       "      <td>23</td>\n",
       "      <td>24</td>\n",
       "      <td>25</td>\n",
       "      <td>26</td>\n",
       "      <td>27</td>\n",
       "      <td>28</td>\n",
       "      <td>29</td>\n",
       "      <td>30</td>\n",
       "    </tr>\n",
       "    <tr>\n",
       "      <th>3</th>\n",
       "      <td>3</td>\n",
       "      <td>1</td>\n",
       "      <td>4</td>\n",
       "      <td>3</td>\n",
       "      <td>1</td>\n",
       "      <td>4</td>\n",
       "      <td>3</td>\n",
       "      <td>5</td>\n",
       "      <td>3</td>\n",
       "      <td>5</td>\n",
       "    </tr>\n",
       "    <tr>\n",
       "      <th>4</th>\n",
       "      <td>41</td>\n",
       "      <td>42</td>\n",
       "      <td>43</td>\n",
       "      <td>44</td>\n",
       "      <td>45</td>\n",
       "      <td>46</td>\n",
       "      <td>47</td>\n",
       "      <td>48</td>\n",
       "      <td>49</td>\n",
       "      <td>50</td>\n",
       "    </tr>\n",
       "    <tr>\n",
       "      <th>5</th>\n",
       "      <td>3</td>\n",
       "      <td>3</td>\n",
       "      <td>1</td>\n",
       "      <td>2</td>\n",
       "      <td>5</td>\n",
       "      <td>4</td>\n",
       "      <td>4</td>\n",
       "      <td>5</td>\n",
       "      <td>2</td>\n",
       "      <td>3</td>\n",
       "    </tr>\n",
       "    <tr>\n",
       "      <th>6</th>\n",
       "      <td>61</td>\n",
       "      <td>62</td>\n",
       "      <td>63</td>\n",
       "      <td>64</td>\n",
       "      <td>65</td>\n",
       "      <td>66</td>\n",
       "      <td>67</td>\n",
       "      <td>68</td>\n",
       "      <td>69</td>\n",
       "      <td>70</td>\n",
       "    </tr>\n",
       "    <tr>\n",
       "      <th>7</th>\n",
       "      <td>3</td>\n",
       "      <td>3</td>\n",
       "      <td>5</td>\n",
       "      <td>2</td>\n",
       "      <td>3</td>\n",
       "      <td>1</td>\n",
       "      <td>1</td>\n",
       "      <td>4</td>\n",
       "      <td>3</td>\n",
       "      <td>1</td>\n",
       "    </tr>\n",
       "    <tr>\n",
       "      <th>8</th>\n",
       "      <td>81</td>\n",
       "      <td>82</td>\n",
       "      <td>83</td>\n",
       "      <td>84</td>\n",
       "      <td>85</td>\n",
       "      <td>86</td>\n",
       "      <td>87</td>\n",
       "      <td>88</td>\n",
       "      <td>89</td>\n",
       "      <td>90</td>\n",
       "    </tr>\n",
       "    <tr>\n",
       "      <th>9</th>\n",
       "      <td>2</td>\n",
       "      <td>4</td>\n",
       "      <td>4</td>\n",
       "      <td>5</td>\n",
       "      <td>2</td>\n",
       "      <td>3</td>\n",
       "      <td>1</td>\n",
       "      <td>3</td>\n",
       "      <td>4</td>\n",
       "      <td>1</td>\n",
       "    </tr>\n",
       "  </tbody>\n",
       "</table>\n",
       "</div>"
      ],
      "text/plain": [
       "    0   1   2   3   4   5   6   7   8   9\n",
       "0   1   2   3   4   5   6   7   8   9  10\n",
       "1   3   4   2   5   2   1   5   1   4   3\n",
       "2  21  22  23  24  25  26  27  28  29  30\n",
       "3   3   1   4   3   1   4   3   5   3   5\n",
       "4  41  42  43  44  45  46  47  48  49  50\n",
       "5   3   3   1   2   5   4   4   5   2   3\n",
       "6  61  62  63  64  65  66  67  68  69  70\n",
       "7   3   3   5   2   3   1   1   4   3   1\n",
       "8  81  82  83  84  85  86  87  88  89  90\n",
       "9   2   4   4   5   2   3   1   3   4   1"
      ]
     },
     "execution_count": 29,
     "metadata": {},
     "output_type": "execute_result"
    }
   ],
   "source": [
    "for col in raw_answers_df:\n",
    "    try:\n",
    "        raw_answers_df[col] = raw_answers_df[col].str.replace(\"A\", \"0\")\n",
    "    except AttributeError:\n",
    "        pass\n",
    "\n",
    "raw_answers_df_2 = raw_answers_df.apply(pd.to_numeric, errors= 'coerce')\n",
    "raw_answers_df_2 = raw_answers_df_2.fillna(999.9)\n",
    "raw_answers_df_2.head(10)"
   ]
  },
  {
   "cell_type": "code",
   "execution_count": 30,
   "metadata": {},
   "outputs": [
    {
     "data": {
      "application/vnd.microsoft.datawrangler.viewer.v0+json": {
       "columns": [
        {
         "name": "index",
         "rawType": "int64",
         "type": "integer"
        },
        {
         "name": "0",
         "rawType": "int64",
         "type": "integer"
        },
        {
         "name": "1",
         "rawType": "int64",
         "type": "integer"
        },
        {
         "name": "2",
         "rawType": "int64",
         "type": "integer"
        },
        {
         "name": "3",
         "rawType": "int64",
         "type": "integer"
        },
        {
         "name": "4",
         "rawType": "int64",
         "type": "integer"
        },
        {
         "name": "5",
         "rawType": "int64",
         "type": "integer"
        },
        {
         "name": "6",
         "rawType": "int64",
         "type": "integer"
        },
        {
         "name": "7",
         "rawType": "int64",
         "type": "integer"
        },
        {
         "name": "8",
         "rawType": "int64",
         "type": "integer"
        },
        {
         "name": "9",
         "rawType": "int64",
         "type": "integer"
        }
       ],
       "conversionMethod": "pd.DataFrame",
       "ref": "8927ce62-df5c-453c-a10c-c0172d8917f6",
       "rows": [
        [
         "42",
         "171",
         "172",
         "173",
         "174",
         "175",
         "176",
         "177",
         "178",
         "179",
         "180"
        ],
        [
         "43",
         "5",
         "4",
         "2",
         "5",
         "2",
         "3",
         "3",
         "2",
         "0",
         "3"
        ],
        [
         "44",
         "191",
         "192",
         "193",
         "194",
         "195",
         "196",
         "197",
         "198",
         "199",
         "200"
        ],
        [
         "45",
         "2",
         "2",
         "1",
         "4",
         "4",
         "2",
         "4",
         "5",
         "1",
         "2"
        ],
        [
         "46",
         "211",
         "212",
         "213",
         "214",
         "215",
         "216",
         "217",
         "218",
         "219",
         "220"
        ],
        [
         "47",
         "5",
         "1",
         "1",
         "1",
         "5",
         "3",
         "4",
         "1",
         "1",
         "3"
        ],
        [
         "48",
         "231",
         "232",
         "233",
         "234",
         "235",
         "236",
         "237",
         "238",
         "239",
         "240"
        ],
        [
         "49",
         "2",
         "4",
         "2",
         "1",
         "4",
         "3",
         "5",
         "2",
         "3",
         "1"
        ],
        [
         "50",
         "251",
         "252",
         "253",
         "254",
         "255",
         "256",
         "257",
         "258",
         "259",
         "260"
        ],
        [
         "51",
         "3",
         "2",
         "5",
         "1",
         "5",
         "4",
         "1",
         "1",
         "2",
         "3"
        ]
       ],
       "shape": {
        "columns": 10,
        "rows": 10
       }
      },
      "text/html": [
       "<div>\n",
       "<style scoped>\n",
       "    .dataframe tbody tr th:only-of-type {\n",
       "        vertical-align: middle;\n",
       "    }\n",
       "\n",
       "    .dataframe tbody tr th {\n",
       "        vertical-align: top;\n",
       "    }\n",
       "\n",
       "    .dataframe thead th {\n",
       "        text-align: right;\n",
       "    }\n",
       "</style>\n",
       "<table border=\"1\" class=\"dataframe\">\n",
       "  <thead>\n",
       "    <tr style=\"text-align: right;\">\n",
       "      <th></th>\n",
       "      <th>0</th>\n",
       "      <th>1</th>\n",
       "      <th>2</th>\n",
       "      <th>3</th>\n",
       "      <th>4</th>\n",
       "      <th>5</th>\n",
       "      <th>6</th>\n",
       "      <th>7</th>\n",
       "      <th>8</th>\n",
       "      <th>9</th>\n",
       "    </tr>\n",
       "  </thead>\n",
       "  <tbody>\n",
       "    <tr>\n",
       "      <th>42</th>\n",
       "      <td>171</td>\n",
       "      <td>172</td>\n",
       "      <td>173</td>\n",
       "      <td>174</td>\n",
       "      <td>175</td>\n",
       "      <td>176</td>\n",
       "      <td>177</td>\n",
       "      <td>178</td>\n",
       "      <td>179</td>\n",
       "      <td>180</td>\n",
       "    </tr>\n",
       "    <tr>\n",
       "      <th>43</th>\n",
       "      <td>5</td>\n",
       "      <td>4</td>\n",
       "      <td>2</td>\n",
       "      <td>5</td>\n",
       "      <td>2</td>\n",
       "      <td>3</td>\n",
       "      <td>3</td>\n",
       "      <td>2</td>\n",
       "      <td>0</td>\n",
       "      <td>3</td>\n",
       "    </tr>\n",
       "    <tr>\n",
       "      <th>44</th>\n",
       "      <td>191</td>\n",
       "      <td>192</td>\n",
       "      <td>193</td>\n",
       "      <td>194</td>\n",
       "      <td>195</td>\n",
       "      <td>196</td>\n",
       "      <td>197</td>\n",
       "      <td>198</td>\n",
       "      <td>199</td>\n",
       "      <td>200</td>\n",
       "    </tr>\n",
       "    <tr>\n",
       "      <th>45</th>\n",
       "      <td>2</td>\n",
       "      <td>2</td>\n",
       "      <td>1</td>\n",
       "      <td>4</td>\n",
       "      <td>4</td>\n",
       "      <td>2</td>\n",
       "      <td>4</td>\n",
       "      <td>5</td>\n",
       "      <td>1</td>\n",
       "      <td>2</td>\n",
       "    </tr>\n",
       "    <tr>\n",
       "      <th>46</th>\n",
       "      <td>211</td>\n",
       "      <td>212</td>\n",
       "      <td>213</td>\n",
       "      <td>214</td>\n",
       "      <td>215</td>\n",
       "      <td>216</td>\n",
       "      <td>217</td>\n",
       "      <td>218</td>\n",
       "      <td>219</td>\n",
       "      <td>220</td>\n",
       "    </tr>\n",
       "    <tr>\n",
       "      <th>47</th>\n",
       "      <td>5</td>\n",
       "      <td>1</td>\n",
       "      <td>1</td>\n",
       "      <td>1</td>\n",
       "      <td>5</td>\n",
       "      <td>3</td>\n",
       "      <td>4</td>\n",
       "      <td>1</td>\n",
       "      <td>1</td>\n",
       "      <td>3</td>\n",
       "    </tr>\n",
       "    <tr>\n",
       "      <th>48</th>\n",
       "      <td>231</td>\n",
       "      <td>232</td>\n",
       "      <td>233</td>\n",
       "      <td>234</td>\n",
       "      <td>235</td>\n",
       "      <td>236</td>\n",
       "      <td>237</td>\n",
       "      <td>238</td>\n",
       "      <td>239</td>\n",
       "      <td>240</td>\n",
       "    </tr>\n",
       "    <tr>\n",
       "      <th>49</th>\n",
       "      <td>2</td>\n",
       "      <td>4</td>\n",
       "      <td>2</td>\n",
       "      <td>1</td>\n",
       "      <td>4</td>\n",
       "      <td>3</td>\n",
       "      <td>5</td>\n",
       "      <td>2</td>\n",
       "      <td>3</td>\n",
       "      <td>1</td>\n",
       "    </tr>\n",
       "    <tr>\n",
       "      <th>50</th>\n",
       "      <td>251</td>\n",
       "      <td>252</td>\n",
       "      <td>253</td>\n",
       "      <td>254</td>\n",
       "      <td>255</td>\n",
       "      <td>256</td>\n",
       "      <td>257</td>\n",
       "      <td>258</td>\n",
       "      <td>259</td>\n",
       "      <td>260</td>\n",
       "    </tr>\n",
       "    <tr>\n",
       "      <th>51</th>\n",
       "      <td>3</td>\n",
       "      <td>2</td>\n",
       "      <td>5</td>\n",
       "      <td>1</td>\n",
       "      <td>5</td>\n",
       "      <td>4</td>\n",
       "      <td>1</td>\n",
       "      <td>1</td>\n",
       "      <td>2</td>\n",
       "      <td>3</td>\n",
       "    </tr>\n",
       "  </tbody>\n",
       "</table>\n",
       "</div>"
      ],
      "text/plain": [
       "      0    1    2    3    4    5    6    7    8    9\n",
       "42  171  172  173  174  175  176  177  178  179  180\n",
       "43    5    4    2    5    2    3    3    2    0    3\n",
       "44  191  192  193  194  195  196  197  198  199  200\n",
       "45    2    2    1    4    4    2    4    5    1    2\n",
       "46  211  212  213  214  215  216  217  218  219  220\n",
       "47    5    1    1    1    5    3    4    1    1    3\n",
       "48  231  232  233  234  235  236  237  238  239  240\n",
       "49    2    4    2    1    4    3    5    2    3    1\n",
       "50  251  252  253  254  255  256  257  258  259  260\n",
       "51    3    2    5    1    5    4    1    1    2    3"
      ]
     },
     "execution_count": 30,
     "metadata": {},
     "output_type": "execute_result"
    }
   ],
   "source": [
    "raw_answers_df_2.tail(10)"
   ]
  },
  {
   "cell_type": "markdown",
   "metadata": {},
   "source": [
    "**2. Transformation to \"Longer\" Format:**\n",
    "\n",
    "* Creates two empty lists, number_question_answers and number_question_correct.\n",
    "* Iterates through the rows of raw_answers_df_2 in steps of two.\n",
    "* For each pair of rows, the values from the first row are appended to the number_question_answers list, and the values from the second row are appended to the number_question_correct list.\n",
    "* Creates a new DataFrame raw_answers_df_longer with the number_question_answers and number_question_correct lists as columns \"V\" and \"RC\", respectively.\n",
    "* Displays the first few rows of raw_answers_df_longer."
   ]
  },
  {
   "cell_type": "code",
   "execution_count": 31,
   "metadata": {},
   "outputs": [
    {
     "data": {
      "application/vnd.microsoft.datawrangler.viewer.v0+json": {
       "columns": [
        {
         "name": "index",
         "rawType": "int64",
         "type": "integer"
        },
        {
         "name": "V",
         "rawType": "int64",
         "type": "integer"
        },
        {
         "name": "RC",
         "rawType": "int64",
         "type": "integer"
        }
       ],
       "conversionMethod": "pd.DataFrame",
       "ref": "7f6f791a-4776-4d1f-9a57-3cd3c71f63d6",
       "rows": [
        [
         "0",
         "1",
         "3"
        ],
        [
         "1",
         "2",
         "4"
        ],
        [
         "2",
         "3",
         "2"
        ],
        [
         "3",
         "4",
         "5"
        ],
        [
         "4",
         "5",
         "2"
        ],
        [
         "5",
         "6",
         "1"
        ],
        [
         "6",
         "7",
         "5"
        ],
        [
         "7",
         "8",
         "1"
        ],
        [
         "8",
         "9",
         "4"
        ],
        [
         "9",
         "10",
         "3"
        ]
       ],
       "shape": {
        "columns": 2,
        "rows": 10
       }
      },
      "text/html": [
       "<div>\n",
       "<style scoped>\n",
       "    .dataframe tbody tr th:only-of-type {\n",
       "        vertical-align: middle;\n",
       "    }\n",
       "\n",
       "    .dataframe tbody tr th {\n",
       "        vertical-align: top;\n",
       "    }\n",
       "\n",
       "    .dataframe thead th {\n",
       "        text-align: right;\n",
       "    }\n",
       "</style>\n",
       "<table border=\"1\" class=\"dataframe\">\n",
       "  <thead>\n",
       "    <tr style=\"text-align: right;\">\n",
       "      <th></th>\n",
       "      <th>V</th>\n",
       "      <th>RC</th>\n",
       "    </tr>\n",
       "  </thead>\n",
       "  <tbody>\n",
       "    <tr>\n",
       "      <th>0</th>\n",
       "      <td>1</td>\n",
       "      <td>3</td>\n",
       "    </tr>\n",
       "    <tr>\n",
       "      <th>1</th>\n",
       "      <td>2</td>\n",
       "      <td>4</td>\n",
       "    </tr>\n",
       "    <tr>\n",
       "      <th>2</th>\n",
       "      <td>3</td>\n",
       "      <td>2</td>\n",
       "    </tr>\n",
       "    <tr>\n",
       "      <th>3</th>\n",
       "      <td>4</td>\n",
       "      <td>5</td>\n",
       "    </tr>\n",
       "    <tr>\n",
       "      <th>4</th>\n",
       "      <td>5</td>\n",
       "      <td>2</td>\n",
       "    </tr>\n",
       "    <tr>\n",
       "      <th>5</th>\n",
       "      <td>6</td>\n",
       "      <td>1</td>\n",
       "    </tr>\n",
       "    <tr>\n",
       "      <th>6</th>\n",
       "      <td>7</td>\n",
       "      <td>5</td>\n",
       "    </tr>\n",
       "    <tr>\n",
       "      <th>7</th>\n",
       "      <td>8</td>\n",
       "      <td>1</td>\n",
       "    </tr>\n",
       "    <tr>\n",
       "      <th>8</th>\n",
       "      <td>9</td>\n",
       "      <td>4</td>\n",
       "    </tr>\n",
       "    <tr>\n",
       "      <th>9</th>\n",
       "      <td>10</td>\n",
       "      <td>3</td>\n",
       "    </tr>\n",
       "  </tbody>\n",
       "</table>\n",
       "</div>"
      ],
      "text/plain": [
       "    V  RC\n",
       "0   1   3\n",
       "1   2   4\n",
       "2   3   2\n",
       "3   4   5\n",
       "4   5   2\n",
       "5   6   1\n",
       "6   7   5\n",
       "7   8   1\n",
       "8   9   4\n",
       "9  10   3"
      ]
     },
     "execution_count": 31,
     "metadata": {},
     "output_type": "execute_result"
    }
   ],
   "source": [
    "number_question_answers: list = []\n",
    "number_question_correct: list = []\n",
    "\n",
    "for i in range(0, len(raw_answers_df_2), 2):\n",
    "    number_question_answers.extend(raw_answers_df_2.iloc[i].tolist())\n",
    "    number_question_correct.extend(raw_answers_df_2.iloc[i + 1].tolist())\n",
    "\n",
    "raw_answers_df_longer: pd.DataFrame = pd.DataFrame({\"V\": number_question_answers, \"RC\": number_question_correct})\n",
    "raw_answers_df_longer.head(10)"
   ]
  },
  {
   "cell_type": "markdown",
   "metadata": {},
   "source": [
    "**3. Final Sorting and Cleaning:**\n",
    "\n",
    "* Sorts the raw_answers_df_longer DataFrame by the \"V\" column.\n",
    "* Replaces all 999.9 values with NaN.\n",
    "* Removes all rows containing NaN.\n",
    "* Displays the first few rows of the cleaned DataFrame (answers_df_clean)."
   ]
  },
  {
   "cell_type": "code",
   "execution_count": 32,
   "metadata": {},
   "outputs": [
    {
     "data": {
      "application/vnd.microsoft.datawrangler.viewer.v0+json": {
       "columns": [
        {
         "name": "index",
         "rawType": "int64",
         "type": "integer"
        },
        {
         "name": "V",
         "rawType": "int64",
         "type": "integer"
        },
        {
         "name": "RC",
         "rawType": "int64",
         "type": "integer"
        }
       ],
       "conversionMethod": "pd.DataFrame",
       "ref": "135012c5-d53f-4aee-9c25-c227c176ce38",
       "rows": [
        [
         "0",
         "1",
         "3"
        ],
        [
         "1",
         "2",
         "4"
        ],
        [
         "2",
         "3",
         "2"
        ],
        [
         "3",
         "4",
         "5"
        ],
        [
         "4",
         "5",
         "2"
        ],
        [
         "5",
         "6",
         "1"
        ],
        [
         "6",
         "7",
         "5"
        ],
        [
         "7",
         "8",
         "1"
        ],
        [
         "8",
         "9",
         "4"
        ],
        [
         "9",
         "10",
         "3"
        ]
       ],
       "shape": {
        "columns": 2,
        "rows": 10
       }
      },
      "text/html": [
       "<div>\n",
       "<style scoped>\n",
       "    .dataframe tbody tr th:only-of-type {\n",
       "        vertical-align: middle;\n",
       "    }\n",
       "\n",
       "    .dataframe tbody tr th {\n",
       "        vertical-align: top;\n",
       "    }\n",
       "\n",
       "    .dataframe thead th {\n",
       "        text-align: right;\n",
       "    }\n",
       "</style>\n",
       "<table border=\"1\" class=\"dataframe\">\n",
       "  <thead>\n",
       "    <tr style=\"text-align: right;\">\n",
       "      <th></th>\n",
       "      <th>V</th>\n",
       "      <th>RC</th>\n",
       "    </tr>\n",
       "  </thead>\n",
       "  <tbody>\n",
       "    <tr>\n",
       "      <th>0</th>\n",
       "      <td>1</td>\n",
       "      <td>3</td>\n",
       "    </tr>\n",
       "    <tr>\n",
       "      <th>1</th>\n",
       "      <td>2</td>\n",
       "      <td>4</td>\n",
       "    </tr>\n",
       "    <tr>\n",
       "      <th>2</th>\n",
       "      <td>3</td>\n",
       "      <td>2</td>\n",
       "    </tr>\n",
       "    <tr>\n",
       "      <th>3</th>\n",
       "      <td>4</td>\n",
       "      <td>5</td>\n",
       "    </tr>\n",
       "    <tr>\n",
       "      <th>4</th>\n",
       "      <td>5</td>\n",
       "      <td>2</td>\n",
       "    </tr>\n",
       "    <tr>\n",
       "      <th>5</th>\n",
       "      <td>6</td>\n",
       "      <td>1</td>\n",
       "    </tr>\n",
       "    <tr>\n",
       "      <th>6</th>\n",
       "      <td>7</td>\n",
       "      <td>5</td>\n",
       "    </tr>\n",
       "    <tr>\n",
       "      <th>7</th>\n",
       "      <td>8</td>\n",
       "      <td>1</td>\n",
       "    </tr>\n",
       "    <tr>\n",
       "      <th>8</th>\n",
       "      <td>9</td>\n",
       "      <td>4</td>\n",
       "    </tr>\n",
       "    <tr>\n",
       "      <th>9</th>\n",
       "      <td>10</td>\n",
       "      <td>3</td>\n",
       "    </tr>\n",
       "  </tbody>\n",
       "</table>\n",
       "</div>"
      ],
      "text/plain": [
       "    V  RC\n",
       "0   1   3\n",
       "1   2   4\n",
       "2   3   2\n",
       "3   4   5\n",
       "4   5   2\n",
       "5   6   1\n",
       "6   7   5\n",
       "7   8   1\n",
       "8   9   4\n",
       "9  10   3"
      ]
     },
     "execution_count": 32,
     "metadata": {},
     "output_type": "execute_result"
    }
   ],
   "source": [
    "raw_answers_df_sorted = raw_answers_df_longer.sort_values(by=\"V\")\n",
    "raw_answers_df_sorted = raw_answers_df_sorted.replace(999.9, np.nan)\n",
    "answers_df_clean = raw_answers_df_sorted.dropna()\n",
    "answers_df_clean = answers_df_clean.reset_index(drop=True)\n",
    "answers_df_clean.head(10)"
   ]
  },
  {
   "cell_type": "code",
   "execution_count": 33,
   "metadata": {},
   "outputs": [
    {
     "data": {
      "application/vnd.microsoft.datawrangler.viewer.v0+json": {
       "columns": [
        {
         "name": "index",
         "rawType": "int64",
         "type": "integer"
        },
        {
         "name": "V",
         "rawType": "int64",
         "type": "integer"
        },
        {
         "name": "RC",
         "rawType": "int64",
         "type": "integer"
        }
       ],
       "conversionMethod": "pd.DataFrame",
       "ref": "79769859-4921-4945-96c2-242f370a0d2b",
       "rows": [
        [
         "250",
         "251",
         "3"
        ],
        [
         "251",
         "252",
         "2"
        ],
        [
         "252",
         "253",
         "5"
        ],
        [
         "253",
         "254",
         "1"
        ],
        [
         "254",
         "255",
         "5"
        ],
        [
         "255",
         "256",
         "4"
        ],
        [
         "256",
         "257",
         "1"
        ],
        [
         "257",
         "258",
         "1"
        ],
        [
         "258",
         "259",
         "2"
        ],
        [
         "259",
         "260",
         "3"
        ]
       ],
       "shape": {
        "columns": 2,
        "rows": 10
       }
      },
      "text/html": [
       "<div>\n",
       "<style scoped>\n",
       "    .dataframe tbody tr th:only-of-type {\n",
       "        vertical-align: middle;\n",
       "    }\n",
       "\n",
       "    .dataframe tbody tr th {\n",
       "        vertical-align: top;\n",
       "    }\n",
       "\n",
       "    .dataframe thead th {\n",
       "        text-align: right;\n",
       "    }\n",
       "</style>\n",
       "<table border=\"1\" class=\"dataframe\">\n",
       "  <thead>\n",
       "    <tr style=\"text-align: right;\">\n",
       "      <th></th>\n",
       "      <th>V</th>\n",
       "      <th>RC</th>\n",
       "    </tr>\n",
       "  </thead>\n",
       "  <tbody>\n",
       "    <tr>\n",
       "      <th>250</th>\n",
       "      <td>251</td>\n",
       "      <td>3</td>\n",
       "    </tr>\n",
       "    <tr>\n",
       "      <th>251</th>\n",
       "      <td>252</td>\n",
       "      <td>2</td>\n",
       "    </tr>\n",
       "    <tr>\n",
       "      <th>252</th>\n",
       "      <td>253</td>\n",
       "      <td>5</td>\n",
       "    </tr>\n",
       "    <tr>\n",
       "      <th>253</th>\n",
       "      <td>254</td>\n",
       "      <td>1</td>\n",
       "    </tr>\n",
       "    <tr>\n",
       "      <th>254</th>\n",
       "      <td>255</td>\n",
       "      <td>5</td>\n",
       "    </tr>\n",
       "    <tr>\n",
       "      <th>255</th>\n",
       "      <td>256</td>\n",
       "      <td>4</td>\n",
       "    </tr>\n",
       "    <tr>\n",
       "      <th>256</th>\n",
       "      <td>257</td>\n",
       "      <td>1</td>\n",
       "    </tr>\n",
       "    <tr>\n",
       "      <th>257</th>\n",
       "      <td>258</td>\n",
       "      <td>1</td>\n",
       "    </tr>\n",
       "    <tr>\n",
       "      <th>258</th>\n",
       "      <td>259</td>\n",
       "      <td>2</td>\n",
       "    </tr>\n",
       "    <tr>\n",
       "      <th>259</th>\n",
       "      <td>260</td>\n",
       "      <td>3</td>\n",
       "    </tr>\n",
       "  </tbody>\n",
       "</table>\n",
       "</div>"
      ],
      "text/plain": [
       "       V  RC\n",
       "250  251   3\n",
       "251  252   2\n",
       "252  253   5\n",
       "253  254   1\n",
       "254  255   5\n",
       "255  256   4\n",
       "256  257   1\n",
       "257  258   1\n",
       "258  259   2\n",
       "259  260   3"
      ]
     },
     "execution_count": 33,
     "metadata": {},
     "output_type": "execute_result"
    }
   ],
   "source": [
    "answers_df_clean.tail(10)"
   ]
  },
  {
   "cell_type": "markdown",
   "metadata": {},
   "source": [
    "## Joining the DataFrames\n",
    "\n",
    "This section focuses on merging the processed exam questions DataFrame with the cleaned answers DataFrame, performing final data cleaning, and verifying the integrity of the joined data.\n",
    "\n",
    "**1. Joining the DataFrames:**\n",
    "\n",
    "The pivoted exam questions DataFrame (`exam_df_pivot`) and the cleaned answers DataFrame (`answers_df_clean`) are joined horizontally using `pd.concat`. The 'V0' column, which represents the question number from the answers DataFrame, is then dropped. The first 10 rows of the joined DataFrame are displayed."
   ]
  },
  {
   "cell_type": "code",
   "execution_count": 34,
   "metadata": {},
   "outputs": [
    {
     "data": {
      "application/vnd.microsoft.datawrangler.viewer.v0+json": {
       "columns": [
        {
         "name": "index",
         "rawType": "int64",
         "type": "integer"
        },
        {
         "name": "Question",
         "rawType": "object",
         "type": "string"
        },
        {
         "name": "Option_1",
         "rawType": "object",
         "type": "string"
        },
        {
         "name": "Option_2",
         "rawType": "object",
         "type": "string"
        },
        {
         "name": "Option_3",
         "rawType": "object",
         "type": "string"
        },
        {
         "name": "Option_4",
         "rawType": "object",
         "type": "string"
        },
        {
         "name": "Option_5",
         "rawType": "object",
         "type": "string"
        },
        {
         "name": "RC",
         "rawType": "int64",
         "type": "integer"
        }
       ],
       "conversionMethod": "pd.DataFrame",
       "ref": "806f3ce4-739a-4e9c-bf14-9253cd6138f8",
       "rows": [
        [
         "0",
         "1. La estimulación del Sistema Activador Reticular Ascendente (SARA) provoca: lar Ascendente (SARA) provoca:",
         "1.  Hambre.",
         "2.  Desordenes emocionales.",
         "3.  Vigilia.",
         "4.  Sueño REM.",
         "5.  Sueño profundo.",
         "3"
        ],
        [
         "1",
         "2. La insulina inhibe la:",
         "1.  Glucogenosíntesis.",
         "2.  Síntesis de proteínas.",
         "3.  Glucólisis.",
         "4.  Lipólisis.",
         "5.  Na +yK+yATPasa.",
         "4"
        ],
        [
         "2",
         "3. Regula la producción de plaquetas:",
         "1.  Eritropoyetina.",
         "2.  Trombopoyetina.",
         "3.  Factor activador de plaquetas.",
         "4.  Interleucinas.",
         "5.  Factor de células madre.",
         "2"
        ],
        [
         "3",
         "4. Disminuye la excitabilidad del músculo gastrointestinal la:",
         "1.  Distensión.",
         "2.  Estimulación parasimpática.",
         "3.  Gastrina.",
         "4.  Acetilcolina.",
         "5.  Estimulación simpática.",
         "5"
        ],
        [
         "4",
         "5. La glucosa se absorbe fundamentalmente en:",
         "1.  Estómago.",
         "2.  Duodeno y yeyuno.",
         "3.  Ileon terminal.",
         "4.  Colon.",
         "5.  Ileon y colon.",
         "2"
        ],
        [
         "5",
         "6. Estimulan la secreción de la hormona gastrina:",
         "1.  Péptidos y aminoácidos.",
         "2.  Ácido.",
         "3.  Somatostatina.",
         "4.  Secretina.",
         "5.  GIP.",
         "1"
        ],
        [
         "6",
         "7. El páncreas exocrino segrega:",
         "1.  Tripsina.",
         "2.  Enterocinasa.",
         "3.  Somatostatina.",
         "4.  Insulina.",
         "5.  Lipasa.",
         "5"
        ],
        [
         "7",
         "8. La glándula parótida:",
         "1.  Produce saliva serosa.",
         "2.  Es inervada por el vago.",
         "3.  Produce secreción mixta.",
         "4.  Carece de acinos.",
         "5.  Produce secreción hipertónica.",
         "1"
        ],
        [
         "8",
         "9. Aumenta la motilidad gástrica el/la:",
         "1.  Péptido inhibidor gástrico.",
         "2.  Colecistocinina.",
         "3.  Secretina.",
         "4.  Gastrina",
         "5.  VIP.",
         "4"
        ],
        [
         "9",
         "10. Inhibe la secreción gástrica la:",
         "1.  Gastrina.",
         "2.  Histamina.",
         "3.  Somatostatina.",
         "4.  Acetilcolina.",
         "5.  Estimulación vagal.",
         "3"
        ]
       ],
       "shape": {
        "columns": 7,
        "rows": 10
       }
      },
      "text/html": [
       "<div>\n",
       "<style scoped>\n",
       "    .dataframe tbody tr th:only-of-type {\n",
       "        vertical-align: middle;\n",
       "    }\n",
       "\n",
       "    .dataframe tbody tr th {\n",
       "        vertical-align: top;\n",
       "    }\n",
       "\n",
       "    .dataframe thead th {\n",
       "        text-align: right;\n",
       "    }\n",
       "</style>\n",
       "<table border=\"1\" class=\"dataframe\">\n",
       "  <thead>\n",
       "    <tr style=\"text-align: right;\">\n",
       "      <th></th>\n",
       "      <th>Question</th>\n",
       "      <th>Option_1</th>\n",
       "      <th>Option_2</th>\n",
       "      <th>Option_3</th>\n",
       "      <th>Option_4</th>\n",
       "      <th>Option_5</th>\n",
       "      <th>RC</th>\n",
       "    </tr>\n",
       "  </thead>\n",
       "  <tbody>\n",
       "    <tr>\n",
       "      <th>0</th>\n",
       "      <td>1. La estimulación del Sistema Activador Retic...</td>\n",
       "      <td>1.  Hambre.</td>\n",
       "      <td>2.  Desordenes emocionales.</td>\n",
       "      <td>3.  Vigilia.</td>\n",
       "      <td>4.  Sueño REM.</td>\n",
       "      <td>5.  Sueño profundo.</td>\n",
       "      <td>3</td>\n",
       "    </tr>\n",
       "    <tr>\n",
       "      <th>1</th>\n",
       "      <td>2. La insulina inhibe la:</td>\n",
       "      <td>1.  Glucogenosíntesis.</td>\n",
       "      <td>2.  Síntesis de proteínas.</td>\n",
       "      <td>3.  Glucólisis.</td>\n",
       "      <td>4.  Lipólisis.</td>\n",
       "      <td>5.  Na +yK+yATPasa.</td>\n",
       "      <td>4</td>\n",
       "    </tr>\n",
       "    <tr>\n",
       "      <th>2</th>\n",
       "      <td>3. Regula la producción de plaquetas:</td>\n",
       "      <td>1.  Eritropoyetina.</td>\n",
       "      <td>2.  Trombopoyetina.</td>\n",
       "      <td>3.  Factor activador de plaquetas.</td>\n",
       "      <td>4.  Interleucinas.</td>\n",
       "      <td>5.  Factor de células madre.</td>\n",
       "      <td>2</td>\n",
       "    </tr>\n",
       "    <tr>\n",
       "      <th>3</th>\n",
       "      <td>4. Disminuye la excitabilidad del músculo gast...</td>\n",
       "      <td>1.  Distensión.</td>\n",
       "      <td>2.  Estimulación parasimpática.</td>\n",
       "      <td>3.  Gastrina.</td>\n",
       "      <td>4.  Acetilcolina.</td>\n",
       "      <td>5.  Estimulación simpática.</td>\n",
       "      <td>5</td>\n",
       "    </tr>\n",
       "    <tr>\n",
       "      <th>4</th>\n",
       "      <td>5. La glucosa se absorbe fundamentalmente en:</td>\n",
       "      <td>1.  Estómago.</td>\n",
       "      <td>2.  Duodeno y yeyuno.</td>\n",
       "      <td>3.  Ileon terminal.</td>\n",
       "      <td>4.  Colon.</td>\n",
       "      <td>5.  Ileon y colon.</td>\n",
       "      <td>2</td>\n",
       "    </tr>\n",
       "    <tr>\n",
       "      <th>5</th>\n",
       "      <td>6. Estimulan la secreción de la hormona gastrina:</td>\n",
       "      <td>1.  Péptidos y aminoácidos.</td>\n",
       "      <td>2.  Ácido.</td>\n",
       "      <td>3.  Somatostatina.</td>\n",
       "      <td>4.  Secretina.</td>\n",
       "      <td>5.  GIP.</td>\n",
       "      <td>1</td>\n",
       "    </tr>\n",
       "    <tr>\n",
       "      <th>6</th>\n",
       "      <td>7. El páncreas exocrino segrega:</td>\n",
       "      <td>1.  Tripsina.</td>\n",
       "      <td>2.  Enterocinasa.</td>\n",
       "      <td>3.  Somatostatina.</td>\n",
       "      <td>4.  Insulina.</td>\n",
       "      <td>5.  Lipasa.</td>\n",
       "      <td>5</td>\n",
       "    </tr>\n",
       "    <tr>\n",
       "      <th>7</th>\n",
       "      <td>8. La glándula parótida:</td>\n",
       "      <td>1.  Produce saliva serosa.</td>\n",
       "      <td>2.  Es inervada por el vago.</td>\n",
       "      <td>3.  Produce secreción mixta.</td>\n",
       "      <td>4.  Carece de acinos.</td>\n",
       "      <td>5.  Produce secreción hipertónica.</td>\n",
       "      <td>1</td>\n",
       "    </tr>\n",
       "    <tr>\n",
       "      <th>8</th>\n",
       "      <td>9. Aumenta la motilidad gástrica el/la:</td>\n",
       "      <td>1.  Péptido inhibidor gástrico.</td>\n",
       "      <td>2.  Colecistocinina.</td>\n",
       "      <td>3.  Secretina.</td>\n",
       "      <td>4.  Gastrina</td>\n",
       "      <td>5.  VIP.</td>\n",
       "      <td>4</td>\n",
       "    </tr>\n",
       "    <tr>\n",
       "      <th>9</th>\n",
       "      <td>10. Inhibe la secreción gástrica la:</td>\n",
       "      <td>1.  Gastrina.</td>\n",
       "      <td>2.  Histamina.</td>\n",
       "      <td>3.  Somatostatina.</td>\n",
       "      <td>4.  Acetilcolina.</td>\n",
       "      <td>5.  Estimulación vagal.</td>\n",
       "      <td>3</td>\n",
       "    </tr>\n",
       "  </tbody>\n",
       "</table>\n",
       "</div>"
      ],
      "text/plain": [
       "                                            Question  \\\n",
       "0  1. La estimulación del Sistema Activador Retic...   \n",
       "1                          2. La insulina inhibe la:   \n",
       "2              3. Regula la producción de plaquetas:   \n",
       "3  4. Disminuye la excitabilidad del músculo gast...   \n",
       "4      5. La glucosa se absorbe fundamentalmente en:   \n",
       "5  6. Estimulan la secreción de la hormona gastrina:   \n",
       "6                   7. El páncreas exocrino segrega:   \n",
       "7                           8. La glándula parótida:   \n",
       "8            9. Aumenta la motilidad gástrica el/la:   \n",
       "9               10. Inhibe la secreción gástrica la:   \n",
       "\n",
       "                          Option_1                         Option_2  \\\n",
       "0                      1.  Hambre.      2.  Desordenes emocionales.   \n",
       "1           1.  Glucogenosíntesis.       2.  Síntesis de proteínas.   \n",
       "2              1.  Eritropoyetina.              2.  Trombopoyetina.   \n",
       "3                  1.  Distensión.  2.  Estimulación parasimpática.   \n",
       "4                    1.  Estómago.            2.  Duodeno y yeyuno.   \n",
       "5      1.  Péptidos y aminoácidos.                       2.  Ácido.   \n",
       "6                    1.  Tripsina.                2.  Enterocinasa.   \n",
       "7       1.  Produce saliva serosa.     2.  Es inervada por el vago.   \n",
       "8  1.  Péptido inhibidor gástrico.             2.  Colecistocinina.   \n",
       "9                    1.  Gastrina.                   2.  Histamina.   \n",
       "\n",
       "                             Option_3               Option_4  \\\n",
       "0                        3.  Vigilia.         4.  Sueño REM.   \n",
       "1                     3.  Glucólisis.         4.  Lipólisis.   \n",
       "2  3.  Factor activador de plaquetas.     4.  Interleucinas.   \n",
       "3                       3.  Gastrina.      4.  Acetilcolina.   \n",
       "4                 3.  Ileon terminal.             4.  Colon.   \n",
       "5                  3.  Somatostatina.         4.  Secretina.   \n",
       "6                  3.  Somatostatina.          4.  Insulina.   \n",
       "7        3.  Produce secreción mixta.  4.  Carece de acinos.   \n",
       "8                      3.  Secretina.           4.  Gastrina   \n",
       "9                  3.  Somatostatina.      4.  Acetilcolina.   \n",
       "\n",
       "                             Option_5  RC  \n",
       "0                 5.  Sueño profundo.   3  \n",
       "1                 5.  Na +yK+yATPasa.   4  \n",
       "2        5.  Factor de células madre.   2  \n",
       "3         5.  Estimulación simpática.   5  \n",
       "4                  5.  Ileon y colon.   2  \n",
       "5                            5.  GIP.   1  \n",
       "6                         5.  Lipasa.   5  \n",
       "7  5.  Produce secreción hipertónica.   1  \n",
       "8                            5.  VIP.   4  \n",
       "9             5.  Estimulación vagal.   3  "
      ]
     },
     "execution_count": 34,
     "metadata": {},
     "output_type": "execute_result"
    }
   ],
   "source": [
    "processed_exam_df: pd.DataFrame = pd.concat([exam_df_pivot, answers_df_clean], axis=1)\n",
    "processed_exam_df = processed_exam_df.drop(columns=[\"V\"])\n",
    "processed_exam_df.head(10)"
   ]
  },
  {
   "cell_type": "markdown",
   "metadata": {},
   "source": [
    "**2. Identifying and Handling Missing Values:**\n",
    "\n",
    "Missing values are then replaced with 0."
   ]
  },
  {
   "cell_type": "code",
   "execution_count": 35,
   "metadata": {},
   "outputs": [],
   "source": [
    "processed_exam_df = processed_exam_df.fillna(0)"
   ]
  },
  {
   "cell_type": "markdown",
   "metadata": {},
   "source": [
    "**3. Verifying Missing Values and Data Types:**\n",
    "\n",
    "The number of missing values in each column is checked, and the data types of the columns are displayed. The 'RC' (correct answer) column is then converted to integer type."
   ]
  },
  {
   "cell_type": "code",
   "execution_count": 36,
   "metadata": {},
   "outputs": [
    {
     "data": {
      "text/plain": [
       "Question    object\n",
       "Option_1    object\n",
       "Option_2    object\n",
       "Option_3    object\n",
       "Option_4    object\n",
       "Option_5    object\n",
       "RC           int32\n",
       "dtype: object"
      ]
     },
     "execution_count": 36,
     "metadata": {},
     "output_type": "execute_result"
    }
   ],
   "source": [
    "processed_exam_df.isnull().sum()\n",
    "processed_exam_df[\"RC\"] = processed_exam_df[\"RC\"].astype(int)\n",
    "processed_exam_df.dtypes"
   ]
  },
  {
   "cell_type": "markdown",
   "metadata": {},
   "source": [
    "**4. Adding year column**\n",
    "\n",
    "A column containing the year of the exam is added to the DataFrame."
   ]
  },
  {
   "cell_type": "code",
   "execution_count": 37,
   "metadata": {},
   "outputs": [],
   "source": [
    "processed_exam_df[\"year\"] = year"
   ]
  },
  {
   "cell_type": "markdown",
   "metadata": {},
   "source": [
    "**5. Displaying the Final DataFrame:**\n",
    "\n",
    "The first 10 rows of the final joined and cleaned DataFrame are displayed."
   ]
  },
  {
   "cell_type": "code",
   "execution_count": 38,
   "metadata": {},
   "outputs": [
    {
     "data": {
      "application/vnd.microsoft.datawrangler.viewer.v0+json": {
       "columns": [
        {
         "name": "index",
         "rawType": "int64",
         "type": "integer"
        },
        {
         "name": "Question",
         "rawType": "object",
         "type": "string"
        },
        {
         "name": "Option_1",
         "rawType": "object",
         "type": "string"
        },
        {
         "name": "Option_2",
         "rawType": "object",
         "type": "string"
        },
        {
         "name": "Option_3",
         "rawType": "object",
         "type": "string"
        },
        {
         "name": "Option_4",
         "rawType": "object",
         "type": "string"
        },
        {
         "name": "Option_5",
         "rawType": "object",
         "type": "string"
        },
        {
         "name": "RC",
         "rawType": "int32",
         "type": "integer"
        },
        {
         "name": "year",
         "rawType": "int64",
         "type": "integer"
        }
       ],
       "conversionMethod": "pd.DataFrame",
       "ref": "39f757ec-8200-4df4-be74-6e5db5e97998",
       "rows": [
        [
         "0",
         "1. La estimulación del Sistema Activador Reticular Ascendente (SARA) provoca: lar Ascendente (SARA) provoca:",
         "1.  Hambre.",
         "2.  Desordenes emocionales.",
         "3.  Vigilia.",
         "4.  Sueño REM.",
         "5.  Sueño profundo.",
         "3",
         "2010"
        ],
        [
         "1",
         "2. La insulina inhibe la:",
         "1.  Glucogenosíntesis.",
         "2.  Síntesis de proteínas.",
         "3.  Glucólisis.",
         "4.  Lipólisis.",
         "5.  Na +yK+yATPasa.",
         "4",
         "2010"
        ],
        [
         "2",
         "3. Regula la producción de plaquetas:",
         "1.  Eritropoyetina.",
         "2.  Trombopoyetina.",
         "3.  Factor activador de plaquetas.",
         "4.  Interleucinas.",
         "5.  Factor de células madre.",
         "2",
         "2010"
        ],
        [
         "3",
         "4. Disminuye la excitabilidad del músculo gastrointestinal la:",
         "1.  Distensión.",
         "2.  Estimulación parasimpática.",
         "3.  Gastrina.",
         "4.  Acetilcolina.",
         "5.  Estimulación simpática.",
         "5",
         "2010"
        ],
        [
         "4",
         "5. La glucosa se absorbe fundamentalmente en:",
         "1.  Estómago.",
         "2.  Duodeno y yeyuno.",
         "3.  Ileon terminal.",
         "4.  Colon.",
         "5.  Ileon y colon.",
         "2",
         "2010"
        ],
        [
         "5",
         "6. Estimulan la secreción de la hormona gastrina:",
         "1.  Péptidos y aminoácidos.",
         "2.  Ácido.",
         "3.  Somatostatina.",
         "4.  Secretina.",
         "5.  GIP.",
         "1",
         "2010"
        ],
        [
         "6",
         "7. El páncreas exocrino segrega:",
         "1.  Tripsina.",
         "2.  Enterocinasa.",
         "3.  Somatostatina.",
         "4.  Insulina.",
         "5.  Lipasa.",
         "5",
         "2010"
        ],
        [
         "7",
         "8. La glándula parótida:",
         "1.  Produce saliva serosa.",
         "2.  Es inervada por el vago.",
         "3.  Produce secreción mixta.",
         "4.  Carece de acinos.",
         "5.  Produce secreción hipertónica.",
         "1",
         "2010"
        ],
        [
         "8",
         "9. Aumenta la motilidad gástrica el/la:",
         "1.  Péptido inhibidor gástrico.",
         "2.  Colecistocinina.",
         "3.  Secretina.",
         "4.  Gastrina",
         "5.  VIP.",
         "4",
         "2010"
        ],
        [
         "9",
         "10. Inhibe la secreción gástrica la:",
         "1.  Gastrina.",
         "2.  Histamina.",
         "3.  Somatostatina.",
         "4.  Acetilcolina.",
         "5.  Estimulación vagal.",
         "3",
         "2010"
        ]
       ],
       "shape": {
        "columns": 8,
        "rows": 10
       }
      },
      "text/html": [
       "<div>\n",
       "<style scoped>\n",
       "    .dataframe tbody tr th:only-of-type {\n",
       "        vertical-align: middle;\n",
       "    }\n",
       "\n",
       "    .dataframe tbody tr th {\n",
       "        vertical-align: top;\n",
       "    }\n",
       "\n",
       "    .dataframe thead th {\n",
       "        text-align: right;\n",
       "    }\n",
       "</style>\n",
       "<table border=\"1\" class=\"dataframe\">\n",
       "  <thead>\n",
       "    <tr style=\"text-align: right;\">\n",
       "      <th></th>\n",
       "      <th>Question</th>\n",
       "      <th>Option_1</th>\n",
       "      <th>Option_2</th>\n",
       "      <th>Option_3</th>\n",
       "      <th>Option_4</th>\n",
       "      <th>Option_5</th>\n",
       "      <th>RC</th>\n",
       "      <th>year</th>\n",
       "    </tr>\n",
       "  </thead>\n",
       "  <tbody>\n",
       "    <tr>\n",
       "      <th>0</th>\n",
       "      <td>1. La estimulación del Sistema Activador Retic...</td>\n",
       "      <td>1.  Hambre.</td>\n",
       "      <td>2.  Desordenes emocionales.</td>\n",
       "      <td>3.  Vigilia.</td>\n",
       "      <td>4.  Sueño REM.</td>\n",
       "      <td>5.  Sueño profundo.</td>\n",
       "      <td>3</td>\n",
       "      <td>2010</td>\n",
       "    </tr>\n",
       "    <tr>\n",
       "      <th>1</th>\n",
       "      <td>2. La insulina inhibe la:</td>\n",
       "      <td>1.  Glucogenosíntesis.</td>\n",
       "      <td>2.  Síntesis de proteínas.</td>\n",
       "      <td>3.  Glucólisis.</td>\n",
       "      <td>4.  Lipólisis.</td>\n",
       "      <td>5.  Na +yK+yATPasa.</td>\n",
       "      <td>4</td>\n",
       "      <td>2010</td>\n",
       "    </tr>\n",
       "    <tr>\n",
       "      <th>2</th>\n",
       "      <td>3. Regula la producción de plaquetas:</td>\n",
       "      <td>1.  Eritropoyetina.</td>\n",
       "      <td>2.  Trombopoyetina.</td>\n",
       "      <td>3.  Factor activador de plaquetas.</td>\n",
       "      <td>4.  Interleucinas.</td>\n",
       "      <td>5.  Factor de células madre.</td>\n",
       "      <td>2</td>\n",
       "      <td>2010</td>\n",
       "    </tr>\n",
       "    <tr>\n",
       "      <th>3</th>\n",
       "      <td>4. Disminuye la excitabilidad del músculo gast...</td>\n",
       "      <td>1.  Distensión.</td>\n",
       "      <td>2.  Estimulación parasimpática.</td>\n",
       "      <td>3.  Gastrina.</td>\n",
       "      <td>4.  Acetilcolina.</td>\n",
       "      <td>5.  Estimulación simpática.</td>\n",
       "      <td>5</td>\n",
       "      <td>2010</td>\n",
       "    </tr>\n",
       "    <tr>\n",
       "      <th>4</th>\n",
       "      <td>5. La glucosa se absorbe fundamentalmente en:</td>\n",
       "      <td>1.  Estómago.</td>\n",
       "      <td>2.  Duodeno y yeyuno.</td>\n",
       "      <td>3.  Ileon terminal.</td>\n",
       "      <td>4.  Colon.</td>\n",
       "      <td>5.  Ileon y colon.</td>\n",
       "      <td>2</td>\n",
       "      <td>2010</td>\n",
       "    </tr>\n",
       "    <tr>\n",
       "      <th>5</th>\n",
       "      <td>6. Estimulan la secreción de la hormona gastrina:</td>\n",
       "      <td>1.  Péptidos y aminoácidos.</td>\n",
       "      <td>2.  Ácido.</td>\n",
       "      <td>3.  Somatostatina.</td>\n",
       "      <td>4.  Secretina.</td>\n",
       "      <td>5.  GIP.</td>\n",
       "      <td>1</td>\n",
       "      <td>2010</td>\n",
       "    </tr>\n",
       "    <tr>\n",
       "      <th>6</th>\n",
       "      <td>7. El páncreas exocrino segrega:</td>\n",
       "      <td>1.  Tripsina.</td>\n",
       "      <td>2.  Enterocinasa.</td>\n",
       "      <td>3.  Somatostatina.</td>\n",
       "      <td>4.  Insulina.</td>\n",
       "      <td>5.  Lipasa.</td>\n",
       "      <td>5</td>\n",
       "      <td>2010</td>\n",
       "    </tr>\n",
       "    <tr>\n",
       "      <th>7</th>\n",
       "      <td>8. La glándula parótida:</td>\n",
       "      <td>1.  Produce saliva serosa.</td>\n",
       "      <td>2.  Es inervada por el vago.</td>\n",
       "      <td>3.  Produce secreción mixta.</td>\n",
       "      <td>4.  Carece de acinos.</td>\n",
       "      <td>5.  Produce secreción hipertónica.</td>\n",
       "      <td>1</td>\n",
       "      <td>2010</td>\n",
       "    </tr>\n",
       "    <tr>\n",
       "      <th>8</th>\n",
       "      <td>9. Aumenta la motilidad gástrica el/la:</td>\n",
       "      <td>1.  Péptido inhibidor gástrico.</td>\n",
       "      <td>2.  Colecistocinina.</td>\n",
       "      <td>3.  Secretina.</td>\n",
       "      <td>4.  Gastrina</td>\n",
       "      <td>5.  VIP.</td>\n",
       "      <td>4</td>\n",
       "      <td>2010</td>\n",
       "    </tr>\n",
       "    <tr>\n",
       "      <th>9</th>\n",
       "      <td>10. Inhibe la secreción gástrica la:</td>\n",
       "      <td>1.  Gastrina.</td>\n",
       "      <td>2.  Histamina.</td>\n",
       "      <td>3.  Somatostatina.</td>\n",
       "      <td>4.  Acetilcolina.</td>\n",
       "      <td>5.  Estimulación vagal.</td>\n",
       "      <td>3</td>\n",
       "      <td>2010</td>\n",
       "    </tr>\n",
       "  </tbody>\n",
       "</table>\n",
       "</div>"
      ],
      "text/plain": [
       "                                            Question  \\\n",
       "0  1. La estimulación del Sistema Activador Retic...   \n",
       "1                          2. La insulina inhibe la:   \n",
       "2              3. Regula la producción de plaquetas:   \n",
       "3  4. Disminuye la excitabilidad del músculo gast...   \n",
       "4      5. La glucosa se absorbe fundamentalmente en:   \n",
       "5  6. Estimulan la secreción de la hormona gastrina:   \n",
       "6                   7. El páncreas exocrino segrega:   \n",
       "7                           8. La glándula parótida:   \n",
       "8            9. Aumenta la motilidad gástrica el/la:   \n",
       "9               10. Inhibe la secreción gástrica la:   \n",
       "\n",
       "                          Option_1                         Option_2  \\\n",
       "0                      1.  Hambre.      2.  Desordenes emocionales.   \n",
       "1           1.  Glucogenosíntesis.       2.  Síntesis de proteínas.   \n",
       "2              1.  Eritropoyetina.              2.  Trombopoyetina.   \n",
       "3                  1.  Distensión.  2.  Estimulación parasimpática.   \n",
       "4                    1.  Estómago.            2.  Duodeno y yeyuno.   \n",
       "5      1.  Péptidos y aminoácidos.                       2.  Ácido.   \n",
       "6                    1.  Tripsina.                2.  Enterocinasa.   \n",
       "7       1.  Produce saliva serosa.     2.  Es inervada por el vago.   \n",
       "8  1.  Péptido inhibidor gástrico.             2.  Colecistocinina.   \n",
       "9                    1.  Gastrina.                   2.  Histamina.   \n",
       "\n",
       "                             Option_3               Option_4  \\\n",
       "0                        3.  Vigilia.         4.  Sueño REM.   \n",
       "1                     3.  Glucólisis.         4.  Lipólisis.   \n",
       "2  3.  Factor activador de plaquetas.     4.  Interleucinas.   \n",
       "3                       3.  Gastrina.      4.  Acetilcolina.   \n",
       "4                 3.  Ileon terminal.             4.  Colon.   \n",
       "5                  3.  Somatostatina.         4.  Secretina.   \n",
       "6                  3.  Somatostatina.          4.  Insulina.   \n",
       "7        3.  Produce secreción mixta.  4.  Carece de acinos.   \n",
       "8                      3.  Secretina.           4.  Gastrina   \n",
       "9                  3.  Somatostatina.      4.  Acetilcolina.   \n",
       "\n",
       "                             Option_5  RC  year  \n",
       "0                 5.  Sueño profundo.   3  2010  \n",
       "1                 5.  Na +yK+yATPasa.   4  2010  \n",
       "2        5.  Factor de células madre.   2  2010  \n",
       "3         5.  Estimulación simpática.   5  2010  \n",
       "4                  5.  Ileon y colon.   2  2010  \n",
       "5                            5.  GIP.   1  2010  \n",
       "6                         5.  Lipasa.   5  2010  \n",
       "7  5.  Produce secreción hipertónica.   1  2010  \n",
       "8                            5.  VIP.   4  2010  \n",
       "9             5.  Estimulación vagal.   3  2010  "
      ]
     },
     "execution_count": 38,
     "metadata": {},
     "output_type": "execute_result"
    }
   ],
   "source": [
    "processed_exam_df.head(10)"
   ]
  },
  {
   "cell_type": "markdown",
   "metadata": {},
   "source": [
    "# Data Loading"
   ]
  },
  {
   "cell_type": "markdown",
   "metadata": {},
   "source": [
    "## Saving in csv file\n",
    "\n",
    "The `processed_exam_df` DataFrame, containing the cleaned and transformed exam data, is saved to a CSV file with the name generatd in the first step in the \"data\" directory. The `index=False` argument ensures that the DataFrame index is not written to the file, resulting in a cleaner output. This CSV file can be used for further analysis or as input for other applications."
   ]
  },
  {
   "cell_type": "code",
   "execution_count": 39,
   "metadata": {},
   "outputs": [],
   "source": [
    "processed_exam_df.to_csv(save_format, index= False)"
   ]
  },
  {
   "cell_type": "markdown",
   "metadata": {},
   "source": [
    "## Writing into data warehouse\n",
    "\n",
    "This section details the process of loading the cleaned and transformed exam data into an SQLite database, serving as a data warehouse for further analysis and querying.\n",
    "\n",
    "**1. Database Connection and Path:**\n",
    "\n",
    "The path to the SQLite database file is defined, and a connection is established using the `sqlite3` library."
   ]
  },
  {
   "cell_type": "code",
   "execution_count": 40,
   "metadata": {},
   "outputs": [],
   "source": [
    "db_path: str = \"../data/clean/bir_warehouse.db\""
   ]
  },
  {
   "cell_type": "markdown",
   "metadata": {},
   "source": [
    "**2. SQL Queries Definition:**\n",
    "\n",
    "Two SQL queries are defined: one for inserting questions into the questions table and another for inserting options into the questions_options table."
   ]
  },
  {
   "cell_type": "code",
   "execution_count": 41,
   "metadata": {},
   "outputs": [],
   "source": [
    "query_question: str = \"\"\"\n",
    "INSERT INTO questions (exam_year, exam_subject, question) \n",
    "VALUES((SELECT id_year FROM year WHERE year_name = ?),\n",
    "    (SELECT id_type FROM exam WHERE exam_type = ?),\n",
    "    ?);\n",
    "\"\"\"\n",
    "\n",
    "query_options: str = \"\"\"\n",
    "INSERT INTO questions_options (question_id, option_num, option_text, is_correct)\n",
    "VALUES((SELECT id FROM questions WHERE question = ?),\n",
    "    ?,\n",
    "    ?,\n",
    "    ?)\n",
    "\"\"\""
   ]
  },
  {
   "cell_type": "markdown",
   "metadata": {},
   "source": [
    "**3. Database Interaction and Data Insertion:**\n",
    "\n",
    "A with statement is used to establish a connection to the SQLite database, ensuring that the connection is properly closed after use. A cursor is created, and the processed_exam_df DataFrame is iterated over to insert each question and its options"
   ]
  },
  {
   "cell_type": "code",
   "execution_count": 42,
   "metadata": {},
   "outputs": [],
   "source": [
    "with sqlite3.connect(db_path) as bir_warehouse:\n",
    "    cur = bir_warehouse.cursor()\n",
    "    for question in processed_exam_df.itertuples():\n",
    "        cur.execute(query_question, (str(question[8]), exam_acronym, question[1]))\n",
    "        bir_warehouse.commit()\n",
    "        for n, option in enumerate(question[2:7]):\n",
    "            cur.execute(query_options, (question[1], n+1, option, n+1 == question[7]))\n",
    "            bir_warehouse.commit()"
   ]
  }
 ],
 "metadata": {
  "colab": {
   "provenance": []
  },
  "kernelspec": {
   "display_name": "bir_etl",
   "language": "python",
   "name": "python3"
  },
  "language_info": {
   "codemirror_mode": {
    "name": "ipython",
    "version": 3
   },
   "file_extension": ".py",
   "mimetype": "text/x-python",
   "name": "python",
   "nbconvert_exporter": "python",
   "pygments_lexer": "ipython3",
   "version": "3.12.7"
  }
 },
 "nbformat": 4,
 "nbformat_minor": 4
}
