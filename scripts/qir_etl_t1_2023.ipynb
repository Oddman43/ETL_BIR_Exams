{
 "cells": [
  {
   "cell_type": "markdown",
   "metadata": {
    "editable": true,
    "id": "56vKIohe8Jou",
    "slideshow": {
     "slide_type": ""
    },
    "tags": []
   },
   "source": [
    "# Data Extraction\n",
    "This section details the process of extracting question data from a PDF file and corresponding answer keys from a TSV file."
   ]
  },
  {
   "cell_type": "markdown",
   "metadata": {
    "id": "8kRORmWM8Joy"
   },
   "source": [
    "## Importing libraries"
   ]
  },
  {
   "cell_type": "markdown",
   "metadata": {},
   "source": [
    "* Pandas for data manipulation\n",
    "* NumPy for the NaN datatype\n",
    "* PyPDF for its ability to read the pfd files, although it requieres post-processing of the extracted text\n",
    "* sqlite3 to create load the clean data into `bir_warehouse.db`"
   ]
  },
  {
   "cell_type": "code",
   "execution_count": 1,
   "metadata": {
    "colab": {
     "base_uri": "https://localhost:8080/"
    },
    "id": "y8DpYYll8Joz",
    "outputId": "40cac5b3-1153-431b-f780-201aa62b5813"
   },
   "outputs": [],
   "source": [
    "import pandas as pd\n",
    "import numpy as np\n",
    "from pypdf import PdfReader\n",
    "import sqlite3"
   ]
  },
  {
   "cell_type": "markdown",
   "metadata": {},
   "source": [
    "## Selecting year and type of exam"
   ]
  },
  {
   "cell_type": "markdown",
   "metadata": {},
   "source": [
    "This function, `compute_expected_rows`, takes the exam year and topic as input and returns metadata crucial for subsequent data cleaning and loading steps. This metadata includes the expected maximum number of rows in the final DataFrame, the number of questions per exam, and the acronym for the exam type.  The maximum number of rows is calculated based on the number of questions and options per question for each year, following a specific pattern:\n",
    "\n",
    "*   2024-2021: 210 questions, 4 options each\n",
    "*   2020-2019: 185 questions, 4 options each\n",
    "*   2018-2015: 235 questions, 4 options each\n",
    "*   2014-2012: 235 questions, 5 options each\n",
    "*   2011-2004: 260 questions, 5 options each\n",
    "\n",
    "This information is essential for validating data integrity during the ETL process.  For example, the expected row count helps verify that all questions and options have been correctly extracted and transformed. The exam type acronym aids in consistent file naming and data organization."
   ]
  },
  {
   "cell_type": "code",
   "execution_count": 2,
   "metadata": {},
   "outputs": [],
   "source": [
    "def compute_expected_rows(year: int, topic: str) -> tuple:\n",
    "    \"\"\"Computes and returns metadata about the exam for a given year and topic\n",
    "\n",
    "    Args:\n",
    "        year (int): The year of the exam\n",
    "        topic (str): The topic of the exam\n",
    "\n",
    "    Returns:\n",
    "        tuple: Contains:\n",
    "            - max_rows: The expected maximum number of rows in the DataFrame\n",
    "            - num_options: The number of questions in the exam\n",
    "            - exam_type_acronym: The acronym for the exam type\n",
    "\n",
    "    \"\"\"\n",
    "    info_year_dict: dict = {\n",
    "        2011: [260, 5],\n",
    "        2014: [235, 5],\n",
    "        2018: [235, 4],\n",
    "        2020: [185, 4],\n",
    "        2021: [210, 4],\n",
    "    }\n",
    "    save_name_dict: dict = {\n",
    "        \"BIOLOGÍA\": \"bir\",\n",
    "        \"FARMACIA\": \"fir\",\n",
    "        \"QUÍMICA\": \"qir\",\n",
    "        \"MEDICINA\": \"mir\",\n",
    "    }\n",
    "    max_rows: int = 0\n",
    "    num_options: int = 0\n",
    "    for target_year, info_list in info_year_dict.items():\n",
    "        if year <= target_year:\n",
    "            max_rows = (info_list[0] * info_list[1]) + info_list[0]\n",
    "            num_options = info_list[1]\n",
    "            break\n",
    "    else:\n",
    "        max_rows = 1050\n",
    "        num_options = 4\n",
    "    return max_rows, num_options, save_name_dict[topic]"
   ]
  },
  {
   "cell_type": "markdown",
   "metadata": {},
   "source": [
    "### Add year of the exam and topic "
   ]
  },
  {
   "cell_type": "code",
   "execution_count": 3,
   "metadata": {},
   "outputs": [],
   "source": [
    "year: int = 2023\n",
    "topic: str = \"QUÍMICA\" # Select from: BIOLOGÍA, FARMACIA, QUÍMICA, MEDICINA\n",
    "total_num_rows: int\n",
    "num_questions: int\n",
    "exam_acronym: str\n",
    "total_num_rows, num_questions, exam_acronym = compute_expected_rows(year, topic)\n",
    "save_format: str = f\"../data/clean/clean_{exam_acronym}_{year}.csv\""
   ]
  },
  {
   "cell_type": "code",
   "execution_count": 4,
   "metadata": {},
   "outputs": [],
   "source": [
    "cols_keep_id = [x for x in range(0, 202, 1)]"
   ]
  },
  {
   "cell_type": "markdown",
   "metadata": {
    "id": "Z1Kjq5ue8Jo1"
   },
   "source": [
    "## Extracting Questions from Pdf file"
   ]
  },
  {
   "cell_type": "markdown",
   "metadata": {},
   "source": [
    "This section focuses on extracting the textual content of the exam questions from the provided PDF file.\n",
    "\n",
    "**Path Definition:**\n",
    "\n",
    "The path to the PDF file is dynamically constructed using the provided `year` and `topic` variables. This ensures flexibility and allows the script to process different exam files without manual path adjustments.\n",
    "\n",
    "Finally it stores the output in a DataFrame and the first 10 rows of the resulting DataFrame are displayed for a quick preview of the loaded data."
   ]
  },
  {
   "cell_type": "code",
   "execution_count": 5,
   "metadata": {
    "id": "AB4M4yfr8Jo3"
   },
   "outputs": [
    {
     "data": {
      "application/vnd.microsoft.datawrangler.viewer.v0+json": {
       "columns": [
        {
         "name": "index",
         "rawType": "int64",
         "type": "integer"
        },
        {
         "name": "text",
         "rawType": "object",
         "type": "string"
        }
       ],
       "conversionMethod": "pd.DataFrame",
       "ref": "577caebb-87f8-43c7-8ef5-bdee5bc1cd6a",
       "rows": [
        [
         "0",
         "1. Sobre el colágeno de tipo I, señale la respuesta"
        ],
        [
         "1",
         "correcta:"
        ],
        [
         "2",
         "1. Es una proteína fibrosa muy soluble en agua."
        ],
        [
         "3",
         "2. La presencia de los aminoácidos hidroxilados"
        ],
        [
         "4",
         "4-hidroxilisina y 5-hidroxiprolina contribuye"
        ],
        [
         "5",
         "a estabilizar su estructura."
        ],
        [
         "6",
         "3. Presenta un enrollamiento superhelicoidal"
        ],
        [
         "7",
         "dextrógiro, en sentido opuesto a la hélice le-"
        ],
        [
         "8",
         "vógira de sus cadenas alfa."
        ],
        [
         "9",
         "4. La cisteína es su aminoácido más abundante."
        ]
       ],
       "shape": {
        "columns": 1,
        "rows": 10
       }
      },
      "text/html": [
       "<div>\n",
       "<style scoped>\n",
       "    .dataframe tbody tr th:only-of-type {\n",
       "        vertical-align: middle;\n",
       "    }\n",
       "\n",
       "    .dataframe tbody tr th {\n",
       "        vertical-align: top;\n",
       "    }\n",
       "\n",
       "    .dataframe thead th {\n",
       "        text-align: right;\n",
       "    }\n",
       "</style>\n",
       "<table border=\"1\" class=\"dataframe\">\n",
       "  <thead>\n",
       "    <tr style=\"text-align: right;\">\n",
       "      <th></th>\n",
       "      <th>text</th>\n",
       "    </tr>\n",
       "  </thead>\n",
       "  <tbody>\n",
       "    <tr>\n",
       "      <th>0</th>\n",
       "      <td>1. Sobre el colágeno de tipo I, señale la resp...</td>\n",
       "    </tr>\n",
       "    <tr>\n",
       "      <th>1</th>\n",
       "      <td>correcta:</td>\n",
       "    </tr>\n",
       "    <tr>\n",
       "      <th>2</th>\n",
       "      <td>1. Es una proteína fibrosa muy soluble en agua.</td>\n",
       "    </tr>\n",
       "    <tr>\n",
       "      <th>3</th>\n",
       "      <td>2. La presencia de los aminoácidos hidroxilados</td>\n",
       "    </tr>\n",
       "    <tr>\n",
       "      <th>4</th>\n",
       "      <td>4-hidroxilisina y 5-hidroxiprolina contribuye</td>\n",
       "    </tr>\n",
       "    <tr>\n",
       "      <th>5</th>\n",
       "      <td>a estabilizar su estructura.</td>\n",
       "    </tr>\n",
       "    <tr>\n",
       "      <th>6</th>\n",
       "      <td>3. Presenta un enrollamiento superhelicoidal</td>\n",
       "    </tr>\n",
       "    <tr>\n",
       "      <th>7</th>\n",
       "      <td>dextrógiro, en sentido opuesto a la hélice le-</td>\n",
       "    </tr>\n",
       "    <tr>\n",
       "      <th>8</th>\n",
       "      <td>vógira de sus cadenas alfa.</td>\n",
       "    </tr>\n",
       "    <tr>\n",
       "      <th>9</th>\n",
       "      <td>4. La cisteína es su aminoácido más abundante.</td>\n",
       "    </tr>\n",
       "  </tbody>\n",
       "</table>\n",
       "</div>"
      ],
      "text/plain": [
       "                                                text\n",
       "0  1. Sobre el colágeno de tipo I, señale la resp...\n",
       "1                                          correcta:\n",
       "2    1. Es una proteína fibrosa muy soluble en agua.\n",
       "3    2. La presencia de los aminoácidos hidroxilados\n",
       "4      4-hidroxilisina y 5-hidroxiprolina contribuye\n",
       "5                       a estabilizar su estructura.\n",
       "6       3. Presenta un enrollamiento superhelicoidal\n",
       "7     dextrógiro, en sentido opuesto a la hélice le-\n",
       "8                        vógira de sus cadenas alfa.\n",
       "9     4. La cisteína es su aminoácido más abundante."
      ]
     },
     "execution_count": 5,
     "metadata": {},
     "output_type": "execute_result"
    }
   ],
   "source": [
    "path: str = f\"../data/raw/type_1/Raw_Cuaderno_{year}_{topic}_0_C.pdf\"\n",
    "with PdfReader(path) as pdf_file:\n",
    "    full_text: list = []\n",
    "    for n in range(2, len(pdf_file.pages)):\n",
    "        page = pdf_file.pages[n]\n",
    "        text: str = page.extract_text()\n",
    "        full_text.extend(text.splitlines())\n",
    "raw_exam_df: pd.DataFrame = pd.DataFrame(full_text, columns=[\"text\"])\n",
    "raw_exam_df.head(10)"
   ]
  },
  {
   "cell_type": "markdown",
   "metadata": {
    "id": "IBhc5aFQ8Jo6"
   },
   "source": [
    "## Extracting Answers from .tsv file into a DataFrame"
   ]
  },
  {
   "cell_type": "markdown",
   "metadata": {},
   "source": [
    "This section focuses on extracting the answer key data from the provided .tsv file and loading it into a Pandas DataFrame.\n",
    "\n",
    "**Path Definition and Data Loading:**\n",
    "\n",
    "The path to the .tsv file is dynamically constructed using the `year` and `topic` variables, mirroring the approach used for the PDF file. This ensures consistency and flexibility in processing different exam files. \n",
    "\n",
    "The `pd.read_table()` function is then used to read the .tsv file directly into a Pandas DataFrame. Finally, the first 10 rows of the resulting DataFrame are displayed for a quick preview of the loaded data."
   ]
  },
  {
   "cell_type": "code",
   "execution_count": 6,
   "metadata": {
    "colab": {
     "base_uri": "https://localhost:8080/",
     "height": 206
    },
    "id": "O1ouB9mQ8Jo7",
    "outputId": "70b7615d-9c90-4f2d-b9e1-a5c86b507ef6"
   },
   "outputs": [
    {
     "data": {
      "application/vnd.microsoft.datawrangler.viewer.v0+json": {
       "columns": [
        {
         "name": "index",
         "rawType": "int64",
         "type": "integer"
        },
        {
         "name": "V",
         "rawType": "int64",
         "type": "integer"
        },
        {
         "name": "RC",
         "rawType": "int64",
         "type": "integer"
        },
        {
         "name": "V.1",
         "rawType": "int64",
         "type": "integer"
        },
        {
         "name": "RC.1",
         "rawType": "float64",
         "type": "float"
        },
        {
         "name": "V.2",
         "rawType": "int64",
         "type": "integer"
        },
        {
         "name": "RC.2",
         "rawType": "int64",
         "type": "integer"
        },
        {
         "name": "V.3",
         "rawType": "int64",
         "type": "integer"
        },
        {
         "name": "RC.3",
         "rawType": "int64",
         "type": "integer"
        },
        {
         "name": "V.4",
         "rawType": "int64",
         "type": "integer"
        },
        {
         "name": "RC.4",
         "rawType": "float64",
         "type": "float"
        }
       ],
       "conversionMethod": "pd.DataFrame",
       "ref": "4a8c6a05-ef7e-4a5d-9cf3-43ebc0417340",
       "rows": [
        [
         "0",
         "1",
         "3",
         "43",
         "4.0",
         "85",
         "3",
         "127",
         "3",
         "169",
         "1.0"
        ],
        [
         "1",
         "2",
         "1",
         "44",
         "4.0",
         "86",
         "4",
         "128",
         "1",
         "170",
         "1.0"
        ],
        [
         "2",
         "3",
         "3",
         "45",
         "2.0",
         "87",
         "3",
         "129",
         "3",
         "171",
         "2.0"
        ],
        [
         "3",
         "4",
         "4",
         "46",
         "1.0",
         "88",
         "3",
         "130",
         "4",
         "172",
         "2.0"
        ],
        [
         "4",
         "5",
         "3",
         "47",
         "2.0",
         "89",
         "2",
         "131",
         "2",
         "173",
         "3.0"
        ],
        [
         "5",
         "6",
         "4",
         "48",
         "4.0",
         "90",
         "4",
         "132",
         "2",
         "174",
         "1.0"
        ],
        [
         "6",
         "7",
         "2",
         "49",
         "2.0",
         "91",
         "4",
         "133",
         "3",
         "175",
         "3.0"
        ],
        [
         "7",
         "8",
         "4",
         "50",
         "4.0",
         "92",
         "3",
         "134",
         "2",
         "176",
         "3.0"
        ],
        [
         "8",
         "9",
         "4",
         "51",
         "4.0",
         "93",
         "3",
         "135",
         "2",
         "177",
         "1.0"
        ],
        [
         "9",
         "10",
         "1",
         "52",
         "1.0",
         "94",
         "3",
         "136",
         "3",
         "178",
         "1.0"
        ]
       ],
       "shape": {
        "columns": 10,
        "rows": 10
       }
      },
      "text/html": [
       "<div>\n",
       "<style scoped>\n",
       "    .dataframe tbody tr th:only-of-type {\n",
       "        vertical-align: middle;\n",
       "    }\n",
       "\n",
       "    .dataframe tbody tr th {\n",
       "        vertical-align: top;\n",
       "    }\n",
       "\n",
       "    .dataframe thead th {\n",
       "        text-align: right;\n",
       "    }\n",
       "</style>\n",
       "<table border=\"1\" class=\"dataframe\">\n",
       "  <thead>\n",
       "    <tr style=\"text-align: right;\">\n",
       "      <th></th>\n",
       "      <th>V</th>\n",
       "      <th>RC</th>\n",
       "      <th>V.1</th>\n",
       "      <th>RC.1</th>\n",
       "      <th>V.2</th>\n",
       "      <th>RC.2</th>\n",
       "      <th>V.3</th>\n",
       "      <th>RC.3</th>\n",
       "      <th>V.4</th>\n",
       "      <th>RC.4</th>\n",
       "    </tr>\n",
       "  </thead>\n",
       "  <tbody>\n",
       "    <tr>\n",
       "      <th>0</th>\n",
       "      <td>1</td>\n",
       "      <td>3</td>\n",
       "      <td>43</td>\n",
       "      <td>4.0</td>\n",
       "      <td>85</td>\n",
       "      <td>3</td>\n",
       "      <td>127</td>\n",
       "      <td>3</td>\n",
       "      <td>169</td>\n",
       "      <td>1.0</td>\n",
       "    </tr>\n",
       "    <tr>\n",
       "      <th>1</th>\n",
       "      <td>2</td>\n",
       "      <td>1</td>\n",
       "      <td>44</td>\n",
       "      <td>4.0</td>\n",
       "      <td>86</td>\n",
       "      <td>4</td>\n",
       "      <td>128</td>\n",
       "      <td>1</td>\n",
       "      <td>170</td>\n",
       "      <td>1.0</td>\n",
       "    </tr>\n",
       "    <tr>\n",
       "      <th>2</th>\n",
       "      <td>3</td>\n",
       "      <td>3</td>\n",
       "      <td>45</td>\n",
       "      <td>2.0</td>\n",
       "      <td>87</td>\n",
       "      <td>3</td>\n",
       "      <td>129</td>\n",
       "      <td>3</td>\n",
       "      <td>171</td>\n",
       "      <td>2.0</td>\n",
       "    </tr>\n",
       "    <tr>\n",
       "      <th>3</th>\n",
       "      <td>4</td>\n",
       "      <td>4</td>\n",
       "      <td>46</td>\n",
       "      <td>1.0</td>\n",
       "      <td>88</td>\n",
       "      <td>3</td>\n",
       "      <td>130</td>\n",
       "      <td>4</td>\n",
       "      <td>172</td>\n",
       "      <td>2.0</td>\n",
       "    </tr>\n",
       "    <tr>\n",
       "      <th>4</th>\n",
       "      <td>5</td>\n",
       "      <td>3</td>\n",
       "      <td>47</td>\n",
       "      <td>2.0</td>\n",
       "      <td>89</td>\n",
       "      <td>2</td>\n",
       "      <td>131</td>\n",
       "      <td>2</td>\n",
       "      <td>173</td>\n",
       "      <td>3.0</td>\n",
       "    </tr>\n",
       "    <tr>\n",
       "      <th>5</th>\n",
       "      <td>6</td>\n",
       "      <td>4</td>\n",
       "      <td>48</td>\n",
       "      <td>4.0</td>\n",
       "      <td>90</td>\n",
       "      <td>4</td>\n",
       "      <td>132</td>\n",
       "      <td>2</td>\n",
       "      <td>174</td>\n",
       "      <td>1.0</td>\n",
       "    </tr>\n",
       "    <tr>\n",
       "      <th>6</th>\n",
       "      <td>7</td>\n",
       "      <td>2</td>\n",
       "      <td>49</td>\n",
       "      <td>2.0</td>\n",
       "      <td>91</td>\n",
       "      <td>4</td>\n",
       "      <td>133</td>\n",
       "      <td>3</td>\n",
       "      <td>175</td>\n",
       "      <td>3.0</td>\n",
       "    </tr>\n",
       "    <tr>\n",
       "      <th>7</th>\n",
       "      <td>8</td>\n",
       "      <td>4</td>\n",
       "      <td>50</td>\n",
       "      <td>4.0</td>\n",
       "      <td>92</td>\n",
       "      <td>3</td>\n",
       "      <td>134</td>\n",
       "      <td>2</td>\n",
       "      <td>176</td>\n",
       "      <td>3.0</td>\n",
       "    </tr>\n",
       "    <tr>\n",
       "      <th>8</th>\n",
       "      <td>9</td>\n",
       "      <td>4</td>\n",
       "      <td>51</td>\n",
       "      <td>4.0</td>\n",
       "      <td>93</td>\n",
       "      <td>3</td>\n",
       "      <td>135</td>\n",
       "      <td>2</td>\n",
       "      <td>177</td>\n",
       "      <td>1.0</td>\n",
       "    </tr>\n",
       "    <tr>\n",
       "      <th>9</th>\n",
       "      <td>10</td>\n",
       "      <td>1</td>\n",
       "      <td>52</td>\n",
       "      <td>1.0</td>\n",
       "      <td>94</td>\n",
       "      <td>3</td>\n",
       "      <td>136</td>\n",
       "      <td>3</td>\n",
       "      <td>178</td>\n",
       "      <td>1.0</td>\n",
       "    </tr>\n",
       "  </tbody>\n",
       "</table>\n",
       "</div>"
      ],
      "text/plain": [
       "    V  RC  V.1  RC.1  V.2  RC.2  V.3  RC.3  V.4  RC.4\n",
       "0   1   3   43   4.0   85     3  127     3  169   1.0\n",
       "1   2   1   44   4.0   86     4  128     1  170   1.0\n",
       "2   3   3   45   2.0   87     3  129     3  171   2.0\n",
       "3   4   4   46   1.0   88     3  130     4  172   2.0\n",
       "4   5   3   47   2.0   89     2  131     2  173   3.0\n",
       "5   6   4   48   4.0   90     4  132     2  174   1.0\n",
       "6   7   2   49   2.0   91     4  133     3  175   3.0\n",
       "7   8   4   50   4.0   92     3  134     2  176   3.0\n",
       "8   9   4   51   4.0   93     3  135     2  177   1.0\n",
       "9  10   1   52   1.0   94     3  136     3  178   1.0"
      ]
     },
     "execution_count": 6,
     "metadata": {},
     "output_type": "execute_result"
    }
   ],
   "source": [
    "raw_answers_df: pd.DataFrame = pd.read_table(f\"../data/raw/type_1/Raw_Cuaderno_{year}_{topic}_0_C_Respuestas.tsv\")\n",
    "raw_answers_df.head(10)"
   ]
  },
  {
   "cell_type": "markdown",
   "metadata": {
    "id": "uFFlTADP8Jo7"
   },
   "source": [
    "# Data Transformation"
   ]
  },
  {
   "cell_type": "markdown",
   "metadata": {},
   "source": [
    "## Exam pdf"
   ]
  },
  {
   "cell_type": "markdown",
   "metadata": {},
   "source": [
    "### Removing white space"
   ]
  },
  {
   "cell_type": "markdown",
   "metadata": {
    "id": "2QavIIOK8Jo7"
   },
   "source": [
    "This section focuses on cleaning the raw text extracted from the PDF exam file, preparing it for further processing. This involves removing extraneous whitespace, handling empty lines, and resetting the DataFrame index.\n",
    "\n",
    "**1. Removing Page Number Artifacts:**\n",
    "\n",
    "The extracted text may contain page number artifacts, which are removed by filtering out rows containing the string \"Página\"."
   ]
  },
  {
   "cell_type": "code",
   "execution_count": 7,
   "metadata": {},
   "outputs": [],
   "source": [
    "raw_exam_df = raw_exam_df[~raw_exam_df[\"text\"].str.contains(\"Página\")]\n",
    "raw_exam_df = raw_exam_df[~raw_exam_df[\"text\"].str.contains(\"Pagina\")]\n",
    "raw_exam_df = raw_exam_df[~raw_exam_df[\"text\"].str.contains(topic)]\n",
    "\n",
    "footer_list: list = [f\"- {npag} -\" for npag in range(0,30,1)]\n",
    "\n",
    "for footer in footer_list:\n",
    "    raw_exam_df[\"text\"] = raw_exam_df[\"text\"].str.replace(footer, \"\")"
   ]
  },
  {
   "cell_type": "markdown",
   "metadata": {},
   "source": [
    "**2. Striping Leading/Trailing Whitespaces**\n",
    "\n",
    "Leading and trailing whitespace characters are removed from each text entry using the .str.strip() method."
   ]
  },
  {
   "cell_type": "code",
   "execution_count": 8,
   "metadata": {},
   "outputs": [],
   "source": [
    "raw_exam_df = raw_exam_df[\"text\"].str.strip()"
   ]
  },
  {
   "cell_type": "markdown",
   "metadata": {},
   "source": [
    "**3. Handling Empty Lines**\n",
    "\n",
    "Empty lines, represented as empty strings, are replaced with NaN (Not a Number) values. \n",
    "\n",
    "Then rows containing NaN values, representing empty lines, are removed from the DataFrame using .dropna()"
   ]
  },
  {
   "cell_type": "code",
   "execution_count": 9,
   "metadata": {},
   "outputs": [],
   "source": [
    "raw_exam_df = raw_exam_df.replace(\"\", np.nan)\n",
    "raw_exam_df = raw_exam_df.dropna()"
   ]
  },
  {
   "cell_type": "markdown",
   "metadata": {},
   "source": [
    "**4. Reseting DataFrame Index**\n",
    "\n",
    "The DataFrame index is reset after removing rows, ensuring a contiguous index and dropping the old index."
   ]
  },
  {
   "cell_type": "code",
   "execution_count": 10,
   "metadata": {},
   "outputs": [],
   "source": [
    "raw_exam_df = raw_exam_df.reset_index(drop=True)"
   ]
  },
  {
   "cell_type": "markdown",
   "metadata": {},
   "source": [
    "**5. Displays the first 10 rows of the DataFrame**"
   ]
  },
  {
   "cell_type": "code",
   "execution_count": 11,
   "metadata": {},
   "outputs": [
    {
     "data": {
      "text/plain": [
       "0    1. Sobre el colágeno de tipo I, señale la resp...\n",
       "1                                            correcta:\n",
       "2      1. Es una proteína fibrosa muy soluble en agua.\n",
       "3      2. La presencia de los aminoácidos hidroxilados\n",
       "4        4-hidroxilisina y 5-hidroxiprolina contribuye\n",
       "5                         a estabilizar su estructura.\n",
       "6         3. Presenta un enrollamiento superhelicoidal\n",
       "7       dextrógiro, en sentido opuesto a la hélice le-\n",
       "8                          vógira de sus cadenas alfa.\n",
       "9       4. La cisteína es su aminoácido más abundante.\n",
       "Name: text, dtype: object"
      ]
     },
     "execution_count": 11,
     "metadata": {},
     "output_type": "execute_result"
    }
   ],
   "source": [
    "raw_exam_df.head(10)"
   ]
  },
  {
   "cell_type": "code",
   "execution_count": 12,
   "metadata": {},
   "outputs": [
    {
     "data": {
      "text/plain": [
       "1806    210. En el alcoholismo se puede ocasionar hipo...\n",
       "1807          cemia como consecuencia del metabolismo he-\n",
       "1808                pático del etanol y ello es debido a:\n",
       "1809        1. Aumento de la formación de cuerpos cetóni-\n",
       "1810                                                 cos.\n",
       "1811      2. Aumento de la reducción de piruvato a lacta-\n",
       "1812                                                  to.\n",
       "1813                        3. Aumento de la β-oxidación.\n",
       "1814          4. Disminución de la velocidad del ciclo de\n",
       "1815                                               Krebs.\n",
       "Name: text, dtype: object"
      ]
     },
     "execution_count": 12,
     "metadata": {},
     "output_type": "execute_result"
    }
   ],
   "source": [
    "raw_exam_df.tail(10)"
   ]
  },
  {
   "cell_type": "markdown",
   "metadata": {},
   "source": [
    "### Joining Truncated Lines"
   ]
  },
  {
   "cell_type": "markdown",
   "metadata": {},
   "source": [
    "This section addresses the issue of truncated lines and multi-line questions or options within the extracted exam text. A custom function, `process_multi_line_str`, is used to concatenate these lines, ensuring that each question and option is presented as a single, coherent string.\n",
    "\n",
    "**Function: `process_multi_line_str(df)`**\n",
    "\n",
    "This function iterates through the DataFrame, performing two main tasks:\n",
    "\n",
    "1.  **Joining Truncated Words:**\n",
    "    * It checks if a line ends with a hyphen (\"-\"), indicating a word that has been truncated at the end of a line.\n",
    "    * If a line is truncated, it removes the hyphen and appends the content of the following line to the current line.\n",
    "    * The following line is then removed from the DataFrame, and the index is reset.\n",
    "\n",
    "2.  **Joining Multi-Line Questions/Options:**\n",
    "    * It checks if the first character of the next line can be converted to an integer. This is used as a heuristic to identify the start of a new question or option.\n",
    "    * If the next line does not start with an integer (i.e., it's a continuation of the current question or option), it is appended to the current line, separated by a space.\n",
    "    * The next line is then removed, and the index is reset."
   ]
  },
  {
   "cell_type": "code",
   "execution_count": 13,
   "metadata": {
    "id": "rYZHjn_C8Jo8"
   },
   "outputs": [],
   "source": [
    "def process_multi_line_str(df: pd.DataFrame) -> pd.DataFrame:\n",
    "    \"\"\"Function to handle truncated lines\n",
    "\n",
    "    Args:\n",
    "        df (pd.DataFrame): A pandas dataframe\n",
    "\n",
    "    Returns:\n",
    "        pd.DataFrame: Returns the DataFrame without truncated lines\n",
    "    \"\"\"\n",
    "    i: int = 0\n",
    "    while i < len(df) - 1:\n",
    "        if i < len(df) -1  and df.iloc[i].endswith(\"-\"):\n",
    "            df.iloc[i] = df.iloc[i][:-1] + df.iloc[i + 1]\n",
    "            df = df.drop(i + 1)\n",
    "            df = df.reset_index(drop=True)\n",
    "        else:\n",
    "            i += 1\n",
    "    n: int = 0\n",
    "    while n < len(df) -1:\n",
    "        if n + 1 < len(df):\n",
    "            try:\n",
    "                int(df.iloc[n + 1][0:1])\n",
    "                n += 1\n",
    "            except ValueError:\n",
    "                df.iloc[n] = df.iloc[n] + \" \" + df.iloc[n + 1]\n",
    "                df = df.drop(n +1)\n",
    "                df = df.reset_index(drop= True)\n",
    "        else:\n",
    "            break\n",
    "    return df"
   ]
  },
  {
   "cell_type": "markdown",
   "metadata": {},
   "source": [
    "The process_multi_line_str function is applied to the cleaned raw_exam_df DataFrame, and the resulting DataFrame is stored in exam_df_concat. The first few rows of the concatenated DataFrame are displayed to verify the results."
   ]
  },
  {
   "cell_type": "code",
   "execution_count": 14,
   "metadata": {
    "colab": {
     "base_uri": "https://localhost:8080/",
     "height": 206
    },
    "id": "2v6dmQuM8_v1",
    "outputId": "215f5328-a43d-4bbb-f221-fba6fc10a5c1"
   },
   "outputs": [
    {
     "data": {
      "text/plain": [
       "0    1. Sobre el colágeno de tipo I, señale la resp...\n",
       "1      1. Es una proteína fibrosa muy soluble en agua.\n",
       "2      2. La presencia de los aminoácidos hidroxilados\n",
       "3    4-hidroxilisina y 5-hidroxiprolina contribuye ...\n",
       "4    3. Presenta un enrollamiento superhelicoidal d...\n",
       "5       4. La cisteína es su aminoácido más abundante.\n",
       "6    2. ¿Cuál de los siguientes aminoácidos present...\n",
       "7                                           1. Lisina.\n",
       "8                                        2. Aspartato.\n",
       "9                                        3. Glutamato.\n",
       "Name: text, dtype: object"
      ]
     },
     "execution_count": 14,
     "metadata": {},
     "output_type": "execute_result"
    }
   ],
   "source": [
    "exam_df_concat: pd.DataFrame = process_multi_line_str(raw_exam_df)\n",
    "exam_df_concat = exam_df_concat.iloc[cols_keep_id]\n",
    "exam_df_concat.head(10)"
   ]
  },
  {
   "cell_type": "markdown",
   "metadata": {},
   "source": [
    "### Validating and Correction Incorrect Rows"
   ]
  },
  {
   "cell_type": "markdown",
   "metadata": {},
   "source": [
    "This section focuses on validating the number of rows in the cleaned DataFrame against the expected number and correcting any rows that do not conform to the expected format.\n",
    "\n",
    "**1. Calculating Expected and Actual Incorrect Rows:**\n",
    "\n",
    "We calculate the expected number of incorrect rows by subtracting the total expected rows from the current number of rows in the DataFrame. We then identify the actual number of incorrect rows by counting the rows that do not end with a period (\".\"), a colon (\":\") or interrogation sign (\"?\")."
   ]
  },
  {
   "cell_type": "code",
   "execution_count": 15,
   "metadata": {},
   "outputs": [
    {
     "name": "stdout",
     "output_type": "stream",
     "text": [
      "Number of expected incorrect rows = -848\n",
      "Number of rows not ending with '.', ':' or '?' = 6\n",
      "[2, 57, 58, 59, 60, 86]\n"
     ]
    }
   ],
   "source": [
    "num_rows_incorrect_expected: int = len(exam_df_concat) - total_num_rows\n",
    "num_rows_incorrect: int = exam_df_concat[~exam_df_concat.str.endswith((\".\", \":\", \"?\"))].count()\n",
    "id_rows_incorrect: list = exam_df_concat[~exam_df_concat.str.endswith((\".\", \":\", \"?\"))].index.to_list()\n",
    "print(f\"Number of expected incorrect rows = {num_rows_incorrect_expected}\")\n",
    "print(f\"Number of rows not ending with '.', ':' or '?' = {num_rows_incorrect}\")\n",
    "print(id_rows_incorrect)"
   ]
  },
  {
   "cell_type": "markdown",
   "metadata": {},
   "source": [
    "**2. Function: print_rows_incorrrect(wrong_id, df):**\n",
    "\n",
    "This function takes a list of incorrect row indices and the DataFrame as input. It then prints the row identified as incorrect along with the 2 rows before and 2 rows after, providing context to help determine how to fix the error."
   ]
  },
  {
   "cell_type": "code",
   "execution_count": 16,
   "metadata": {},
   "outputs": [],
   "source": [
    "def print_rows_incorrrect(wrong_id: list[int], df: pd.DataFrame) -> None:\n",
    "    \"\"\"Print +/- 2 rows for context\n",
    "\n",
    "    Args:\n",
    "        wrong_id (list): Generated list of wrong row_id\n",
    "        df (pd.DataFrame): DataFrame corresponding with the worng_id list\n",
    "    \"\"\"\n",
    "    for wid in wrong_id:\n",
    "        print(f\"Id to fix {wid}:\")\n",
    "        print(df.iloc[wid -2: wid +3])"
   ]
  },
  {
   "cell_type": "markdown",
   "metadata": {},
   "source": [
    "**3. Function: fix_incorrect(num_row, df):**\n",
    "\n",
    "This function takes a list of row indices to fix and the DataFrame. It iterates through the indices in reverse order to avoid index shifting problems. Each incorrect row is concatenated with the row immediately following it, and the subsequent row is then dropped. The DataFrame index is reset after each concatenation."
   ]
  },
  {
   "cell_type": "code",
   "execution_count": 17,
   "metadata": {},
   "outputs": [],
   "source": [
    "def fix_incorrect(num_row: list[int], df: pd.DataFrame) -> pd.DataFrame:\n",
    "    \"\"\"Fix the incorrect rows in the DataFrame\n",
    "\n",
    "    Args:\n",
    "        num_row (list): List of ids to fix\n",
    "        df (pd.DataFrame): The DataFrame to fix\n",
    "\n",
    "    Returns:\n",
    "        pd.DataFrame: Fixed\n",
    "    \"\"\"\n",
    "    num_row: list = sorted(num_row, reverse=True)\n",
    "    for n in num_row:\n",
    "        df.iloc[n] = df.iloc[n] + df.iloc[n + 1]\n",
    "        df = df.drop(n + 1)\n",
    "        df = df.reset_index(drop= True)\n",
    "    return df"
   ]
  },
  {
   "cell_type": "markdown",
   "metadata": {},
   "source": [
    "**4. Validation and Correction Logic:**\n",
    "\n",
    "We compare the expected and actual number of incorrect rows. If they match, we proceed to fix the incorrect rows using the `fix_incorrect` function. Otherwise, we print the context of the incorrect rows and raise a warning, indicating that manual inspection and correction are required."
   ]
  },
  {
   "cell_type": "code",
   "execution_count": 22,
   "metadata": {},
   "outputs": [
    {
     "name": "stdout",
     "output_type": "stream",
     "text": [
      "Id to fix 2:\n",
      "0    1. Sobre el colágeno de tipo I, señale la resp...\n",
      "1      1. Es una proteína fibrosa muy soluble en agua.\n",
      "2      2. La presencia de los aminoácidos hidroxilados\n",
      "3    4-hidroxilisina y 5-hidroxiprolina contribuye ...\n",
      "4    3. Presenta un enrollamiento superhelicoidal d...\n",
      "Name: text, dtype: object\n",
      "Id to fix 57:\n",
      "55                         4. Ornitin transcarbamilasa.\n",
      "56    12. ¿Cuál de las siguientes vitaminas NO es li...\n",
      "57                                                 1. A\n",
      "58                                                 2. C\n",
      "59                                                 3. D\n",
      "Name: text, dtype: object\n",
      "Id to fix 58:\n",
      "56    12. ¿Cuál de las siguientes vitaminas NO es li...\n",
      "57                                                 1. A\n",
      "58                                                 2. C\n",
      "59                                                 3. D\n",
      "60                                                 4. K\n",
      "Name: text, dtype: object\n",
      "Id to fix 59:\n",
      "57                                                 1. A\n",
      "58                                                 2. C\n",
      "59                                                 3. D\n",
      "60                                                 4. K\n",
      "61    13. Sobre las enzimas glucoquinasa y hexoquina...\n",
      "Name: text, dtype: object\n",
      "Id to fix 60:\n",
      "58                                                 2. C\n",
      "59                                                 3. D\n",
      "60                                                 4. K\n",
      "61    13. Sobre las enzimas glucoquinasa y hexoquina...\n",
      "62    1. La constante de Michaelis (Km) de la glucoq...\n",
      "Name: text, dtype: object\n",
      "Id to fix 86:\n",
      "84                                          3. Lipoato.\n",
      "85                                 4. Tetrahidrofolato.\n",
      "86    18. ¿Cuál de los siguientes monosacáridos NO t...\n",
      "87                                6 átomos de carbono?:\n",
      "88                                         1. Ribulosa.\n",
      "Name: text, dtype: object\n"
     ]
    }
   ],
   "source": [
    "if num_rows_incorrect_expected == num_rows_incorrect:\n",
    "    exam_df_fixed = fix_incorrect(id_rows_incorrect, exam_df_concat)\n",
    "    df_correct_rows: bool = len(exam_df_fixed) == num_rows_incorrect_expected\n",
    "else:\n",
    "    print_rows_incorrrect(id_rows_incorrect, exam_df_concat)\n",
    "    # raise Warning(\"More incorrect rows that expected, uncomment the lines below and add ids to the list, and comment this line\")\n",
    "    rows_fix: list[int] = [2, 86]\n",
    "    exam_df_fixed: pd.DataFrame = fix_incorrect(rows_fix, exam_df_concat)"
   ]
  },
  {
   "cell_type": "markdown",
   "metadata": {},
   "source": [
    "**5. Verification of Corrected Rows:**\n",
    "\n",
    "We print the expected total number of rows and the actual number of rows in the corrected DataFrame to verify the results of the correction process."
   ]
  },
  {
   "cell_type": "code",
   "execution_count": 24,
   "metadata": {},
   "outputs": [
    {
     "name": "stdout",
     "output_type": "stream",
     "text": [
      "Correct number of rows = 200\n",
      "200\n"
     ]
    }
   ],
   "source": [
    "print(\"Correct number of rows = 200\")\n",
    "print(exam_df_fixed.shape[0])"
   ]
  },
  {
   "cell_type": "markdown",
   "metadata": {},
   "source": [
    "### Pivoting the DataFrame\n",
    "\n",
    "This section focuses on transforming the cleaned exam data into a structured format suitable for analysis. The DataFrame is pivoted to create columns for each question and its corresponding options.\n",
    "\n",
    "**1. Preparing the DataFrame for Pivoting:**\n",
    "\n",
    "The `exam_df_fixed` Series is converted to a DataFrame, and a 'group' column is created to identify each question and its options. An 'option_num' column is then generated to enumerate the options within each group.\n"
   ]
  },
  {
   "cell_type": "code",
   "execution_count": 25,
   "metadata": {},
   "outputs": [],
   "source": [
    "exam_df_fixed = exam_df_fixed.to_frame()\n",
    "groups: pd.Series = pd.Series((exam_df_fixed.index // (num_questions+1)) +1)\n",
    "exam_df_fixed[\"group\"] = groups  \n",
    "exam_df_fixed[\"option_num\"] = exam_df_fixed.groupby(\"group\").cumcount() + 1"
   ]
  },
  {
   "cell_type": "markdown",
   "metadata": {},
   "source": [
    "**2. Pivoting the DataFrame:**\n",
    "\n",
    "The DataFrame is pivoted using the 'group' column as the index, the 'option_num' column as the columns, and the 'text' column as the values. The index is then reset."
   ]
  },
  {
   "cell_type": "code",
   "execution_count": 26,
   "metadata": {},
   "outputs": [],
   "source": [
    "exam_df_pivot: pd.DataFrame = exam_df_fixed.pivot(index=\"group\", columns=\"option_num\", values=\"text\")\n",
    "exam_df_pivot = exam_df_pivot.reset_index()"
   ]
  },
  {
   "cell_type": "markdown",
   "metadata": {},
   "source": [
    "**3. Renaming Columns:**\n",
    "\n",
    "The columns are renamed to more descriptive names, such as \"Question\", \"Option_1\", \"Option_2\", etc."
   ]
  },
  {
   "cell_type": "code",
   "execution_count": 27,
   "metadata": {},
   "outputs": [],
   "source": [
    "key_list: list = [x for x in range(1, num_questions+2, 1)]\n",
    "val_list: list = [\"Question\"] + [f\"Option_{x}\" for x in range(1, 4 + 1, 1)]\n",
    "\n",
    "exam_df_pivot = exam_df_pivot.rename_axis(None, axis=1).rename(columns=dict(zip(key_list, val_list)))"
   ]
  },
  {
   "cell_type": "markdown",
   "metadata": {},
   "source": [
    "**4. Dropping the 'group' Column:**\n",
    "\n",
    "The 'group' column is dropped as it is no longer needed"
   ]
  },
  {
   "cell_type": "code",
   "execution_count": 28,
   "metadata": {},
   "outputs": [],
   "source": [
    "exam_df_pivot = exam_df_pivot.drop(columns=[\"group\"])"
   ]
  },
  {
   "cell_type": "markdown",
   "metadata": {},
   "source": [
    "**5. Displaying the Pivoted DataFrame:**\n",
    "\n",
    "The first 10 rows of the pivoted DataFrame are displayed to verify the results of the transformation."
   ]
  },
  {
   "cell_type": "code",
   "execution_count": 29,
   "metadata": {},
   "outputs": [
    {
     "data": {
      "application/vnd.microsoft.datawrangler.viewer.v0+json": {
       "columns": [
        {
         "name": "index",
         "rawType": "int64",
         "type": "integer"
        },
        {
         "name": "Question",
         "rawType": "object",
         "type": "string"
        },
        {
         "name": "Option_1",
         "rawType": "object",
         "type": "string"
        },
        {
         "name": "Option_2",
         "rawType": "object",
         "type": "string"
        },
        {
         "name": "Option_3",
         "rawType": "object",
         "type": "string"
        },
        {
         "name": "Option_4",
         "rawType": "object",
         "type": "string"
        }
       ],
       "conversionMethod": "pd.DataFrame",
       "ref": "2af109f4-79d9-475c-ad6f-ba3dfebdc6af",
       "rows": [
        [
         "0",
         "1. Sobre el colágeno de tipo I, señale la respuesta correcta:",
         "1. Es una proteína fibrosa muy soluble en agua.",
         "2. La presencia de los aminoácidos hidroxilados4-hidroxilisina y 5-hidroxiprolina contribuye a estabilizar su estructura.",
         "3. Presenta un enrollamiento superhelicoidal dextrógiro, en sentido opuesto a la hélice levógira de sus cadenas alfa.",
         "4. La cisteína es su aminoácido más abundante."
        ],
        [
         "1",
         "2. ¿Cuál de los siguientes aminoácidos presenta carga neta positiva a pH neutro?:",
         "1. Lisina.",
         "2. Aspartato.",
         "3. Glutamato.",
         "4. Serina."
        ],
        [
         "2",
         "3. ¿Cuál de las siguientes rutas metabólicas permite obtener glucosa a partir de ácidos grasos?:",
         "1. Ciclo de Krebs.",
         "2. Ciclo de Cori.",
         "3. Ciclo del glioxilato.",
         "4. Vía de las pentosas fosfato."
        ],
        [
         "3",
         "4. La ATP sintasa mitocondrial es:",
         "1. El complejo I de la cadena de transporte de electrones.",
         "2. Un canal de NADH.",
         "3. El complejo III de la cadena de transporte de electrones.",
         "4. Un canal de protones."
        ],
        [
         "4",
         "5. ¿Cuál de los siguientes disacáridos carece de poder reductor?:",
         "1. Maltosa.",
         "2. Lactosa.",
         "3. Sacarosa.",
         "4. Celobiosa."
        ],
        [
         "5",
         "6. ¿Qué lipoproteínas recogen el exceso de colesterol depositado en los tejidos periféricos y lo transportan al hígado?:",
         "1. Quilomicrones.",
         "2. VLDL.",
         "3. LDL.",
         "4. HDL."
        ],
        [
         "6",
         "7. El mecanismo de “splicing”:",
         "1. Separa los fragmentos de ADN no codificantes.",
         "2. Elimina los intrones y deja los exones unidos en un ARN mensajero maduro.",
         "3. Es un mecanismo universal en todos los organismos.",
         "4. Tiene lugar en el citoplasma, antes de que el mensaje sea traducido."
        ],
        [
         "7",
         "8. La temperatura de fusión (Tm) de una molécula de ADN será menor cuanto:",
         "1. Mayor proporción de pirimidinas tenga.",
         "2. Mayor proporción de purinas tenga.",
         "3. Mayor proporción de G y C tenga.",
         "4. Mayor proporción de A y T tenga."
        ],
        [
         "8",
         "9. ¿Cuál de las siguientes afirmaciones sobre el efecto de los inhibidores reversibles sobre la cinética de una enzima NO es cierta?:",
         "1. Los inhibidores competitivos aumentan la Km.",
         "2. Los inhibidores no competitivos no modifican la Km.",
         "3. Los inhibidores competitivos no modifican la Vmax, mientras que los inhibidores no competitivos la disminuyen.",
         "4. Los inhibidores competitivos disminuyen la Vmax, mientras que los inhibidores no competitivos no la modifican."
        ],
        [
         "9",
         "10. ¿Cuál de las siguientes afirmaciones sobre la estructura en hélice α de las proteínas NO es cierta?:",
         "1. El giro es hacia la izquierda.",
         "2. Las cadenas laterales de los aminoácidos se disponen hacia el exterior de la hélice.",
         "3. Está estabilizada por enlaces de hidrógeno entre el grupo CO y el grupo NH, ambos del enlace peptídico, situados a varios residuos de distancia.",
         "4. También se las denomina hélices 3,613 porque hay 3,6 aminoácidos y 13 átomos por vuelta."
        ]
       ],
       "shape": {
        "columns": 5,
        "rows": 10
       }
      },
      "text/html": [
       "<div>\n",
       "<style scoped>\n",
       "    .dataframe tbody tr th:only-of-type {\n",
       "        vertical-align: middle;\n",
       "    }\n",
       "\n",
       "    .dataframe tbody tr th {\n",
       "        vertical-align: top;\n",
       "    }\n",
       "\n",
       "    .dataframe thead th {\n",
       "        text-align: right;\n",
       "    }\n",
       "</style>\n",
       "<table border=\"1\" class=\"dataframe\">\n",
       "  <thead>\n",
       "    <tr style=\"text-align: right;\">\n",
       "      <th></th>\n",
       "      <th>Question</th>\n",
       "      <th>Option_1</th>\n",
       "      <th>Option_2</th>\n",
       "      <th>Option_3</th>\n",
       "      <th>Option_4</th>\n",
       "    </tr>\n",
       "  </thead>\n",
       "  <tbody>\n",
       "    <tr>\n",
       "      <th>0</th>\n",
       "      <td>1. Sobre el colágeno de tipo I, señale la resp...</td>\n",
       "      <td>1. Es una proteína fibrosa muy soluble en agua.</td>\n",
       "      <td>2. La presencia de los aminoácidos hidroxilado...</td>\n",
       "      <td>3. Presenta un enrollamiento superhelicoidal d...</td>\n",
       "      <td>4. La cisteína es su aminoácido más abundante.</td>\n",
       "    </tr>\n",
       "    <tr>\n",
       "      <th>1</th>\n",
       "      <td>2. ¿Cuál de los siguientes aminoácidos present...</td>\n",
       "      <td>1. Lisina.</td>\n",
       "      <td>2. Aspartato.</td>\n",
       "      <td>3. Glutamato.</td>\n",
       "      <td>4. Serina.</td>\n",
       "    </tr>\n",
       "    <tr>\n",
       "      <th>2</th>\n",
       "      <td>3. ¿Cuál de las siguientes rutas metabólicas p...</td>\n",
       "      <td>1. Ciclo de Krebs.</td>\n",
       "      <td>2. Ciclo de Cori.</td>\n",
       "      <td>3. Ciclo del glioxilato.</td>\n",
       "      <td>4. Vía de las pentosas fosfato.</td>\n",
       "    </tr>\n",
       "    <tr>\n",
       "      <th>3</th>\n",
       "      <td>4. La ATP sintasa mitocondrial es:</td>\n",
       "      <td>1. El complejo I de la cadena de transporte de...</td>\n",
       "      <td>2. Un canal de NADH.</td>\n",
       "      <td>3. El complejo III de la cadena de transporte ...</td>\n",
       "      <td>4. Un canal de protones.</td>\n",
       "    </tr>\n",
       "    <tr>\n",
       "      <th>4</th>\n",
       "      <td>5. ¿Cuál de los siguientes disacáridos carece ...</td>\n",
       "      <td>1. Maltosa.</td>\n",
       "      <td>2. Lactosa.</td>\n",
       "      <td>3. Sacarosa.</td>\n",
       "      <td>4. Celobiosa.</td>\n",
       "    </tr>\n",
       "    <tr>\n",
       "      <th>5</th>\n",
       "      <td>6. ¿Qué lipoproteínas recogen el exceso de col...</td>\n",
       "      <td>1. Quilomicrones.</td>\n",
       "      <td>2. VLDL.</td>\n",
       "      <td>3. LDL.</td>\n",
       "      <td>4. HDL.</td>\n",
       "    </tr>\n",
       "    <tr>\n",
       "      <th>6</th>\n",
       "      <td>7. El mecanismo de “splicing”:</td>\n",
       "      <td>1. Separa los fragmentos de ADN no codificantes.</td>\n",
       "      <td>2. Elimina los intrones y deja los exones unid...</td>\n",
       "      <td>3. Es un mecanismo universal en todos los orga...</td>\n",
       "      <td>4. Tiene lugar en el citoplasma, antes de que ...</td>\n",
       "    </tr>\n",
       "    <tr>\n",
       "      <th>7</th>\n",
       "      <td>8. La temperatura de fusión (Tm) de una molécu...</td>\n",
       "      <td>1. Mayor proporción de pirimidinas tenga.</td>\n",
       "      <td>2. Mayor proporción de purinas tenga.</td>\n",
       "      <td>3. Mayor proporción de G y C tenga.</td>\n",
       "      <td>4. Mayor proporción de A y T tenga.</td>\n",
       "    </tr>\n",
       "    <tr>\n",
       "      <th>8</th>\n",
       "      <td>9. ¿Cuál de las siguientes afirmaciones sobre ...</td>\n",
       "      <td>1. Los inhibidores competitivos aumentan la Km.</td>\n",
       "      <td>2. Los inhibidores no competitivos no modifica...</td>\n",
       "      <td>3. Los inhibidores competitivos no modifican l...</td>\n",
       "      <td>4. Los inhibidores competitivos disminuyen la ...</td>\n",
       "    </tr>\n",
       "    <tr>\n",
       "      <th>9</th>\n",
       "      <td>10. ¿Cuál de las siguientes afirmaciones sobre...</td>\n",
       "      <td>1. El giro es hacia la izquierda.</td>\n",
       "      <td>2. Las cadenas laterales de los aminoácidos se...</td>\n",
       "      <td>3. Está estabilizada por enlaces de hidrógeno ...</td>\n",
       "      <td>4. También se las denomina hélices 3,613 porqu...</td>\n",
       "    </tr>\n",
       "  </tbody>\n",
       "</table>\n",
       "</div>"
      ],
      "text/plain": [
       "                                            Question  \\\n",
       "0  1. Sobre el colágeno de tipo I, señale la resp...   \n",
       "1  2. ¿Cuál de los siguientes aminoácidos present...   \n",
       "2  3. ¿Cuál de las siguientes rutas metabólicas p...   \n",
       "3                 4. La ATP sintasa mitocondrial es:   \n",
       "4  5. ¿Cuál de los siguientes disacáridos carece ...   \n",
       "5  6. ¿Qué lipoproteínas recogen el exceso de col...   \n",
       "6                     7. El mecanismo de “splicing”:   \n",
       "7  8. La temperatura de fusión (Tm) de una molécu...   \n",
       "8  9. ¿Cuál de las siguientes afirmaciones sobre ...   \n",
       "9  10. ¿Cuál de las siguientes afirmaciones sobre...   \n",
       "\n",
       "                                            Option_1  \\\n",
       "0    1. Es una proteína fibrosa muy soluble en agua.   \n",
       "1                                         1. Lisina.   \n",
       "2                                 1. Ciclo de Krebs.   \n",
       "3  1. El complejo I de la cadena de transporte de...   \n",
       "4                                        1. Maltosa.   \n",
       "5                                  1. Quilomicrones.   \n",
       "6   1. Separa los fragmentos de ADN no codificantes.   \n",
       "7          1. Mayor proporción de pirimidinas tenga.   \n",
       "8    1. Los inhibidores competitivos aumentan la Km.   \n",
       "9                  1. El giro es hacia la izquierda.   \n",
       "\n",
       "                                            Option_2  \\\n",
       "0  2. La presencia de los aminoácidos hidroxilado...   \n",
       "1                                      2. Aspartato.   \n",
       "2                                  2. Ciclo de Cori.   \n",
       "3                               2. Un canal de NADH.   \n",
       "4                                        2. Lactosa.   \n",
       "5                                           2. VLDL.   \n",
       "6  2. Elimina los intrones y deja los exones unid...   \n",
       "7              2. Mayor proporción de purinas tenga.   \n",
       "8  2. Los inhibidores no competitivos no modifica...   \n",
       "9  2. Las cadenas laterales de los aminoácidos se...   \n",
       "\n",
       "                                            Option_3  \\\n",
       "0  3. Presenta un enrollamiento superhelicoidal d...   \n",
       "1                                      3. Glutamato.   \n",
       "2                           3. Ciclo del glioxilato.   \n",
       "3  3. El complejo III de la cadena de transporte ...   \n",
       "4                                       3. Sacarosa.   \n",
       "5                                            3. LDL.   \n",
       "6  3. Es un mecanismo universal en todos los orga...   \n",
       "7                3. Mayor proporción de G y C tenga.   \n",
       "8  3. Los inhibidores competitivos no modifican l...   \n",
       "9  3. Está estabilizada por enlaces de hidrógeno ...   \n",
       "\n",
       "                                            Option_4  \n",
       "0     4. La cisteína es su aminoácido más abundante.  \n",
       "1                                         4. Serina.  \n",
       "2                    4. Vía de las pentosas fosfato.  \n",
       "3                           4. Un canal de protones.  \n",
       "4                                      4. Celobiosa.  \n",
       "5                                            4. HDL.  \n",
       "6  4. Tiene lugar en el citoplasma, antes de que ...  \n",
       "7                4. Mayor proporción de A y T tenga.  \n",
       "8  4. Los inhibidores competitivos disminuyen la ...  \n",
       "9  4. También se las denomina hélices 3,613 porqu...  "
      ]
     },
     "execution_count": 29,
     "metadata": {},
     "output_type": "execute_result"
    }
   ],
   "source": [
    "exam_df_pivot.head(10)"
   ]
  },
  {
   "cell_type": "code",
   "execution_count": 30,
   "metadata": {},
   "outputs": [
    {
     "data": {
      "application/vnd.microsoft.datawrangler.viewer.v0+json": {
       "columns": [
        {
         "name": "index",
         "rawType": "int64",
         "type": "integer"
        },
        {
         "name": "Question",
         "rawType": "object",
         "type": "string"
        },
        {
         "name": "Option_1",
         "rawType": "object",
         "type": "string"
        },
        {
         "name": "Option_2",
         "rawType": "object",
         "type": "string"
        },
        {
         "name": "Option_3",
         "rawType": "object",
         "type": "string"
        },
        {
         "name": "Option_4",
         "rawType": "object",
         "type": "string"
        }
       ],
       "conversionMethod": "pd.DataFrame",
       "ref": "a1b5e6b7-9a06-4d53-b3f1-8bce3ff70391",
       "rows": [
        [
         "30",
         "31. El ATP es un ejemplo de:",
         "1. Desoxirribonucleótido trifosfato.",
         "2. Ribonucleósido.",
         "3. Ribonucleótido.",
         "4. Ácido nucleico."
        ],
        [
         "31",
         "32. Señale la opción que NO deriva en anemia megaloblástica:",
         "1. Déficit de cobalamina.",
         "2. Déficit de hierro.",
         "3. Déficit de ácido fólico.",
         "4. Síndrome de Lesch-Nyhan."
        ],
        [
         "32",
         "33. En el metabolismo del glucógeno, señale la respuesta INCORRECTA:",
         "1. La síntesis del glucógeno requiere la intervención de la enzima fosforilasa.",
         "2. La fosforilasa se regula por interacciones alostéricas y por fosforilación reversible.",
         "3. La adrenalina y el glucagón indican la necesidad de degradar el glucógeno.",
         "4. El glucógeno está formado por unidades de glucosa unidas por enlaces glicosídicos α-1,4 y ramificaciones con enlaces glicosídicos α1,6."
        ],
        [
         "33",
         "34. ¿Cuál de las siguientes enzimas cataliza una reacción irreversible de la gluconeogénesis?:",
         "1. Gliceraldehido 3-fosfato deshidrogenasa.",
         "2. Fosfoglicerato quinasa.",
         "3. Fructosa 1,6-bisfosfatasa.",
         "4. Enolasa."
        ],
        [
         "34",
         "35. ¿Cómo afecta la unión de 2,3-bisfosfoglicerato (BPG) a la afinidad de la hemoglobina por el oxígeno?:",
         "1. Reduce la afinidad uniéndose a un sitio alejado del sitio de fijación del O2.",
         "2. Aumenta la afinidad uniéndose a un sitio alejado del sitio de fijación del O2.",
         "3. Reduce la afinidad uniéndose al sitio de fijación del O2.",
         "4. Aumenta la afinidad uniéndose al sitio de fijación del O2."
        ],
        [
         "35",
         "36. ¿Cuál de los siguientes elementos traza NO tiene ninguna función conocida en el organismo y puede ser un importante agente tóxico?:",
         "1. Molibdeno.",
         "2. Selenio.",
         "3. Aluminio.",
         "4. Cromo."
        ],
        [
         "36",
         "37. La prueba de referencia para identificar la presencia del SARS-CoV-2 es la reacción en cadena de la polimerasa con transcriptasa inversa (RT-qPCR). ¿Qué parámetro se valora para interpretar un resultado como positivo o negativo?:",
         "1. El tiempo que tarda en realizarse la RTqPCR.",
         "2. El valor umbral del número de ciclos (Ct).",
         "3. La temperatura de desnaturalización de las hebras de ADN.",
         "4. La intensidad de la señal fluorescente en el décimo ciclo de amplificación."
        ],
        [
         "37",
         "38. Indique cuál de las siguientes parejas de “transportador de glucosa (GLUT) – tejido de expresión principal” es la correcta:",
         "1. GLUT2 – Hígado.",
         "2. GLUT3 – Músculo.",
         "3. GLUT1 – Intestino delgado.",
         "4. GLUT4 – Cerebro."
        ],
        [
         "38",
         "39. La osmolaridad es la medición de la concentración de solutos definida como:",
         "1. Número de osmoles de un soluto por litro de disolución (Osm/L).",
         "2. Número de osmoles de un soluto por kilogramo de disolución (Osm/kg).",
         "3. Número de osmoles de un soluto por mililitro de disolución (Osm/mL).",
         "4. Número de osmoles de un soluto por miligramo de disolución (Osm/mg)."
        ],
        [
         "39",
         "40. La enfermedad de la orina con olor a jarabe de arce está causada por una deficiencia de:",
         "1. Fenilalanina hidroxilasa.",
         "2. Complejo deshidrogenasa del α-cetoácido de cadena ramificada.",
         "3. Arginasa.",
         "4. Cistationina β-sintasa."
        ]
       ],
       "shape": {
        "columns": 5,
        "rows": 10
       }
      },
      "text/html": [
       "<div>\n",
       "<style scoped>\n",
       "    .dataframe tbody tr th:only-of-type {\n",
       "        vertical-align: middle;\n",
       "    }\n",
       "\n",
       "    .dataframe tbody tr th {\n",
       "        vertical-align: top;\n",
       "    }\n",
       "\n",
       "    .dataframe thead th {\n",
       "        text-align: right;\n",
       "    }\n",
       "</style>\n",
       "<table border=\"1\" class=\"dataframe\">\n",
       "  <thead>\n",
       "    <tr style=\"text-align: right;\">\n",
       "      <th></th>\n",
       "      <th>Question</th>\n",
       "      <th>Option_1</th>\n",
       "      <th>Option_2</th>\n",
       "      <th>Option_3</th>\n",
       "      <th>Option_4</th>\n",
       "    </tr>\n",
       "  </thead>\n",
       "  <tbody>\n",
       "    <tr>\n",
       "      <th>30</th>\n",
       "      <td>31. El ATP es un ejemplo de:</td>\n",
       "      <td>1. Desoxirribonucleótido trifosfato.</td>\n",
       "      <td>2. Ribonucleósido.</td>\n",
       "      <td>3. Ribonucleótido.</td>\n",
       "      <td>4. Ácido nucleico.</td>\n",
       "    </tr>\n",
       "    <tr>\n",
       "      <th>31</th>\n",
       "      <td>32. Señale la opción que NO deriva en anemia m...</td>\n",
       "      <td>1. Déficit de cobalamina.</td>\n",
       "      <td>2. Déficit de hierro.</td>\n",
       "      <td>3. Déficit de ácido fólico.</td>\n",
       "      <td>4. Síndrome de Lesch-Nyhan.</td>\n",
       "    </tr>\n",
       "    <tr>\n",
       "      <th>32</th>\n",
       "      <td>33. En el metabolismo del glucógeno, señale la...</td>\n",
       "      <td>1. La síntesis del glucógeno requiere la inter...</td>\n",
       "      <td>2. La fosforilasa se regula por interacciones ...</td>\n",
       "      <td>3. La adrenalina y el glucagón indican la nece...</td>\n",
       "      <td>4. El glucógeno está formado por unidades de g...</td>\n",
       "    </tr>\n",
       "    <tr>\n",
       "      <th>33</th>\n",
       "      <td>34. ¿Cuál de las siguientes enzimas cataliza u...</td>\n",
       "      <td>1. Gliceraldehido 3-fosfato deshidrogenasa.</td>\n",
       "      <td>2. Fosfoglicerato quinasa.</td>\n",
       "      <td>3. Fructosa 1,6-bisfosfatasa.</td>\n",
       "      <td>4. Enolasa.</td>\n",
       "    </tr>\n",
       "    <tr>\n",
       "      <th>34</th>\n",
       "      <td>35. ¿Cómo afecta la unión de 2,3-bisfosfoglice...</td>\n",
       "      <td>1. Reduce la afinidad uniéndose a un sitio ale...</td>\n",
       "      <td>2. Aumenta la afinidad uniéndose a un sitio al...</td>\n",
       "      <td>3. Reduce la afinidad uniéndose al sitio de fi...</td>\n",
       "      <td>4. Aumenta la afinidad uniéndose al sitio de f...</td>\n",
       "    </tr>\n",
       "    <tr>\n",
       "      <th>35</th>\n",
       "      <td>36. ¿Cuál de los siguientes elementos traza NO...</td>\n",
       "      <td>1. Molibdeno.</td>\n",
       "      <td>2. Selenio.</td>\n",
       "      <td>3. Aluminio.</td>\n",
       "      <td>4. Cromo.</td>\n",
       "    </tr>\n",
       "    <tr>\n",
       "      <th>36</th>\n",
       "      <td>37. La prueba de referencia para identificar l...</td>\n",
       "      <td>1. El tiempo que tarda en realizarse la RTqPCR.</td>\n",
       "      <td>2. El valor umbral del número de ciclos (Ct).</td>\n",
       "      <td>3. La temperatura de desnaturalización de las ...</td>\n",
       "      <td>4. La intensidad de la señal fluorescente en e...</td>\n",
       "    </tr>\n",
       "    <tr>\n",
       "      <th>37</th>\n",
       "      <td>38. Indique cuál de las siguientes parejas de ...</td>\n",
       "      <td>1. GLUT2 – Hígado.</td>\n",
       "      <td>2. GLUT3 – Músculo.</td>\n",
       "      <td>3. GLUT1 – Intestino delgado.</td>\n",
       "      <td>4. GLUT4 – Cerebro.</td>\n",
       "    </tr>\n",
       "    <tr>\n",
       "      <th>38</th>\n",
       "      <td>39. La osmolaridad es la medición de la concen...</td>\n",
       "      <td>1. Número de osmoles de un soluto por litro de...</td>\n",
       "      <td>2. Número de osmoles de un soluto por kilogram...</td>\n",
       "      <td>3. Número de osmoles de un soluto por mililitr...</td>\n",
       "      <td>4. Número de osmoles de un soluto por miligram...</td>\n",
       "    </tr>\n",
       "    <tr>\n",
       "      <th>39</th>\n",
       "      <td>40. La enfermedad de la orina con olor a jarab...</td>\n",
       "      <td>1. Fenilalanina hidroxilasa.</td>\n",
       "      <td>2. Complejo deshidrogenasa del α-cetoácido de ...</td>\n",
       "      <td>3. Arginasa.</td>\n",
       "      <td>4. Cistationina β-sintasa.</td>\n",
       "    </tr>\n",
       "  </tbody>\n",
       "</table>\n",
       "</div>"
      ],
      "text/plain": [
       "                                             Question  \\\n",
       "30                       31. El ATP es un ejemplo de:   \n",
       "31  32. Señale la opción que NO deriva en anemia m...   \n",
       "32  33. En el metabolismo del glucógeno, señale la...   \n",
       "33  34. ¿Cuál de las siguientes enzimas cataliza u...   \n",
       "34  35. ¿Cómo afecta la unión de 2,3-bisfosfoglice...   \n",
       "35  36. ¿Cuál de los siguientes elementos traza NO...   \n",
       "36  37. La prueba de referencia para identificar l...   \n",
       "37  38. Indique cuál de las siguientes parejas de ...   \n",
       "38  39. La osmolaridad es la medición de la concen...   \n",
       "39  40. La enfermedad de la orina con olor a jarab...   \n",
       "\n",
       "                                             Option_1  \\\n",
       "30               1. Desoxirribonucleótido trifosfato.   \n",
       "31                          1. Déficit de cobalamina.   \n",
       "32  1. La síntesis del glucógeno requiere la inter...   \n",
       "33        1. Gliceraldehido 3-fosfato deshidrogenasa.   \n",
       "34  1. Reduce la afinidad uniéndose a un sitio ale...   \n",
       "35                                      1. Molibdeno.   \n",
       "36    1. El tiempo que tarda en realizarse la RTqPCR.   \n",
       "37                                 1. GLUT2 – Hígado.   \n",
       "38  1. Número de osmoles de un soluto por litro de...   \n",
       "39                       1. Fenilalanina hidroxilasa.   \n",
       "\n",
       "                                             Option_2  \\\n",
       "30                                 2. Ribonucleósido.   \n",
       "31                              2. Déficit de hierro.   \n",
       "32  2. La fosforilasa se regula por interacciones ...   \n",
       "33                         2. Fosfoglicerato quinasa.   \n",
       "34  2. Aumenta la afinidad uniéndose a un sitio al...   \n",
       "35                                        2. Selenio.   \n",
       "36      2. El valor umbral del número de ciclos (Ct).   \n",
       "37                                2. GLUT3 – Músculo.   \n",
       "38  2. Número de osmoles de un soluto por kilogram...   \n",
       "39  2. Complejo deshidrogenasa del α-cetoácido de ...   \n",
       "\n",
       "                                             Option_3  \\\n",
       "30                                 3. Ribonucleótido.   \n",
       "31                        3. Déficit de ácido fólico.   \n",
       "32  3. La adrenalina y el glucagón indican la nece...   \n",
       "33                      3. Fructosa 1,6-bisfosfatasa.   \n",
       "34  3. Reduce la afinidad uniéndose al sitio de fi...   \n",
       "35                                       3. Aluminio.   \n",
       "36  3. La temperatura de desnaturalización de las ...   \n",
       "37                      3. GLUT1 – Intestino delgado.   \n",
       "38  3. Número de osmoles de un soluto por mililitr...   \n",
       "39                                       3. Arginasa.   \n",
       "\n",
       "                                             Option_4  \n",
       "30                                 4. Ácido nucleico.  \n",
       "31                        4. Síndrome de Lesch-Nyhan.  \n",
       "32  4. El glucógeno está formado por unidades de g...  \n",
       "33                                        4. Enolasa.  \n",
       "34  4. Aumenta la afinidad uniéndose al sitio de f...  \n",
       "35                                          4. Cromo.  \n",
       "36  4. La intensidad de la señal fluorescente en e...  \n",
       "37                                4. GLUT4 – Cerebro.  \n",
       "38  4. Número de osmoles de un soluto por miligram...  \n",
       "39                         4. Cistationina β-sintasa.  "
      ]
     },
     "execution_count": 30,
     "metadata": {},
     "output_type": "execute_result"
    }
   ],
   "source": [
    "exam_df_pivot.tail(10)"
   ]
  },
  {
   "cell_type": "markdown",
   "metadata": {},
   "source": [
    "## Answers tsv\n",
    "\n",
    "This section focuses on cleaning and consolidating the answer key data from the TSV file. The original data contains duplicate columns, which are processed and combined into a single, clean DataFrame.\n",
    "\n",
    "**1. Defining Column Lists:**\n",
    "\n",
    "We define lists containing the original column names and the duplicate column names."
   ]
  },
  {
   "cell_type": "code",
   "execution_count": 31,
   "metadata": {},
   "outputs": [],
   "source": [
    "original_col: list[str] = [\"V\", \"RC\"]\n",
    "duplicate_cols: list[str] = [\"V.1\", \"RC.1\", \"V.2\", \"RC.2\", \"V.3\", \"RC.3\", \"V.4\", \"RC.4\"]"
   ]
  },
  {
   "cell_type": "markdown",
   "metadata": {},
   "source": [
    "**2. Processing Duplicate Columns:**\n",
    "\n",
    "We iterate through the duplicate_cols list in pairs, extracting the corresponding columns, renaming them to the original column names, and appending them to a list of DataFrames."
   ]
  },
  {
   "cell_type": "code",
   "execution_count": 32,
   "metadata": {},
   "outputs": [],
   "source": [
    "answers_df_list: list[pd.DataFrame] = [raw_answers_df[original_col]]\n",
    "\n",
    "for i in range(0, len(duplicate_cols), 2):\n",
    "    pair_cols: list = duplicate_cols[i:i+2]\n",
    "    df_pair_col: pd.DataFrame = raw_answers_df[pair_cols].rename(columns={pair_cols[0]: \"V\", pair_cols[1]: \"RC\"})\n",
    "    answers_df_list.append(df_pair_col)"
   ]
  },
  {
   "cell_type": "markdown",
   "metadata": {},
   "source": [
    "**3. Concatenating DataFrames:**\n",
    "\n",
    "The list of DataFrames is concatenated into a single DataFrame, ignoring the original index."
   ]
  },
  {
   "cell_type": "code",
   "execution_count": 41,
   "metadata": {},
   "outputs": [],
   "source": [
    "answers_df_clean: pd.DataFrame = pd.concat(answers_df_list, ignore_index=True)\n",
    "answers_df_clean = answers_df_clean.iloc[[x for x in range(0,40, 1)]]"
   ]
  },
  {
   "cell_type": "markdown",
   "metadata": {},
   "source": [
    "**4. Displaying the Cleaned DataFrame:**\n",
    "\n",
    "The cleaned DataFrame is printed to verify the results of the consolidation process."
   ]
  },
  {
   "cell_type": "code",
   "execution_count": 42,
   "metadata": {},
   "outputs": [
    {
     "data": {
      "application/vnd.microsoft.datawrangler.viewer.v0+json": {
       "columns": [
        {
         "name": "index",
         "rawType": "int64",
         "type": "integer"
        },
        {
         "name": "V",
         "rawType": "int64",
         "type": "integer"
        },
        {
         "name": "RC",
         "rawType": "float64",
         "type": "float"
        }
       ],
       "conversionMethod": "pd.DataFrame",
       "ref": "3eb5e3f3-695f-47a4-b8d5-8f8314e2db34",
       "rows": [
        [
         "0",
         "1",
         "3.0"
        ],
        [
         "1",
         "2",
         "1.0"
        ],
        [
         "2",
         "3",
         "3.0"
        ],
        [
         "3",
         "4",
         "4.0"
        ],
        [
         "4",
         "5",
         "3.0"
        ],
        [
         "5",
         "6",
         "4.0"
        ],
        [
         "6",
         "7",
         "2.0"
        ],
        [
         "7",
         "8",
         "4.0"
        ],
        [
         "8",
         "9",
         "4.0"
        ],
        [
         "9",
         "10",
         "1.0"
        ]
       ],
       "shape": {
        "columns": 2,
        "rows": 10
       }
      },
      "text/html": [
       "<div>\n",
       "<style scoped>\n",
       "    .dataframe tbody tr th:only-of-type {\n",
       "        vertical-align: middle;\n",
       "    }\n",
       "\n",
       "    .dataframe tbody tr th {\n",
       "        vertical-align: top;\n",
       "    }\n",
       "\n",
       "    .dataframe thead th {\n",
       "        text-align: right;\n",
       "    }\n",
       "</style>\n",
       "<table border=\"1\" class=\"dataframe\">\n",
       "  <thead>\n",
       "    <tr style=\"text-align: right;\">\n",
       "      <th></th>\n",
       "      <th>V</th>\n",
       "      <th>RC</th>\n",
       "    </tr>\n",
       "  </thead>\n",
       "  <tbody>\n",
       "    <tr>\n",
       "      <th>0</th>\n",
       "      <td>1</td>\n",
       "      <td>3.0</td>\n",
       "    </tr>\n",
       "    <tr>\n",
       "      <th>1</th>\n",
       "      <td>2</td>\n",
       "      <td>1.0</td>\n",
       "    </tr>\n",
       "    <tr>\n",
       "      <th>2</th>\n",
       "      <td>3</td>\n",
       "      <td>3.0</td>\n",
       "    </tr>\n",
       "    <tr>\n",
       "      <th>3</th>\n",
       "      <td>4</td>\n",
       "      <td>4.0</td>\n",
       "    </tr>\n",
       "    <tr>\n",
       "      <th>4</th>\n",
       "      <td>5</td>\n",
       "      <td>3.0</td>\n",
       "    </tr>\n",
       "    <tr>\n",
       "      <th>5</th>\n",
       "      <td>6</td>\n",
       "      <td>4.0</td>\n",
       "    </tr>\n",
       "    <tr>\n",
       "      <th>6</th>\n",
       "      <td>7</td>\n",
       "      <td>2.0</td>\n",
       "    </tr>\n",
       "    <tr>\n",
       "      <th>7</th>\n",
       "      <td>8</td>\n",
       "      <td>4.0</td>\n",
       "    </tr>\n",
       "    <tr>\n",
       "      <th>8</th>\n",
       "      <td>9</td>\n",
       "      <td>4.0</td>\n",
       "    </tr>\n",
       "    <tr>\n",
       "      <th>9</th>\n",
       "      <td>10</td>\n",
       "      <td>1.0</td>\n",
       "    </tr>\n",
       "  </tbody>\n",
       "</table>\n",
       "</div>"
      ],
      "text/plain": [
       "    V   RC\n",
       "0   1  3.0\n",
       "1   2  1.0\n",
       "2   3  3.0\n",
       "3   4  4.0\n",
       "4   5  3.0\n",
       "5   6  4.0\n",
       "6   7  2.0\n",
       "7   8  4.0\n",
       "8   9  4.0\n",
       "9  10  1.0"
      ]
     },
     "execution_count": 42,
     "metadata": {},
     "output_type": "execute_result"
    }
   ],
   "source": [
    "answers_df_clean.head(10)"
   ]
  },
  {
   "cell_type": "markdown",
   "metadata": {},
   "source": [
    "## Joining the DataFrames\n",
    "\n",
    "This section focuses on merging the processed exam questions DataFrame with the cleaned answers DataFrame, performing final data cleaning, and verifying the integrity of the joined data.\n",
    "\n",
    "**1. Joining the DataFrames:**\n",
    "\n",
    "The pivoted exam questions DataFrame (`exam_df_pivot`) and the cleaned answers DataFrame (`answers_df_clean`) are joined horizontally using `pd.concat`. The 'V0' column, which represents the question number from the answers DataFrame, is then dropped. The first 10 rows of the joined DataFrame are displayed."
   ]
  },
  {
   "cell_type": "code",
   "execution_count": 43,
   "metadata": {},
   "outputs": [
    {
     "data": {
      "application/vnd.microsoft.datawrangler.viewer.v0+json": {
       "columns": [
        {
         "name": "index",
         "rawType": "int64",
         "type": "integer"
        },
        {
         "name": "Question",
         "rawType": "object",
         "type": "string"
        },
        {
         "name": "Option_1",
         "rawType": "object",
         "type": "string"
        },
        {
         "name": "Option_2",
         "rawType": "object",
         "type": "string"
        },
        {
         "name": "Option_3",
         "rawType": "object",
         "type": "string"
        },
        {
         "name": "Option_4",
         "rawType": "object",
         "type": "string"
        },
        {
         "name": "RC",
         "rawType": "float64",
         "type": "float"
        }
       ],
       "conversionMethod": "pd.DataFrame",
       "ref": "7bb680e1-261a-4ab0-a302-d7c79a9f72d4",
       "rows": [
        [
         "0",
         "1. Sobre el colágeno de tipo I, señale la respuesta correcta:",
         "1. Es una proteína fibrosa muy soluble en agua.",
         "2. La presencia de los aminoácidos hidroxilados4-hidroxilisina y 5-hidroxiprolina contribuye a estabilizar su estructura.",
         "3. Presenta un enrollamiento superhelicoidal dextrógiro, en sentido opuesto a la hélice levógira de sus cadenas alfa.",
         "4. La cisteína es su aminoácido más abundante.",
         "3.0"
        ],
        [
         "1",
         "2. ¿Cuál de los siguientes aminoácidos presenta carga neta positiva a pH neutro?:",
         "1. Lisina.",
         "2. Aspartato.",
         "3. Glutamato.",
         "4. Serina.",
         "1.0"
        ],
        [
         "2",
         "3. ¿Cuál de las siguientes rutas metabólicas permite obtener glucosa a partir de ácidos grasos?:",
         "1. Ciclo de Krebs.",
         "2. Ciclo de Cori.",
         "3. Ciclo del glioxilato.",
         "4. Vía de las pentosas fosfato.",
         "3.0"
        ],
        [
         "3",
         "4. La ATP sintasa mitocondrial es:",
         "1. El complejo I de la cadena de transporte de electrones.",
         "2. Un canal de NADH.",
         "3. El complejo III de la cadena de transporte de electrones.",
         "4. Un canal de protones.",
         "4.0"
        ],
        [
         "4",
         "5. ¿Cuál de los siguientes disacáridos carece de poder reductor?:",
         "1. Maltosa.",
         "2. Lactosa.",
         "3. Sacarosa.",
         "4. Celobiosa.",
         "3.0"
        ],
        [
         "5",
         "6. ¿Qué lipoproteínas recogen el exceso de colesterol depositado en los tejidos periféricos y lo transportan al hígado?:",
         "1. Quilomicrones.",
         "2. VLDL.",
         "3. LDL.",
         "4. HDL.",
         "4.0"
        ],
        [
         "6",
         "7. El mecanismo de “splicing”:",
         "1. Separa los fragmentos de ADN no codificantes.",
         "2. Elimina los intrones y deja los exones unidos en un ARN mensajero maduro.",
         "3. Es un mecanismo universal en todos los organismos.",
         "4. Tiene lugar en el citoplasma, antes de que el mensaje sea traducido.",
         "2.0"
        ],
        [
         "7",
         "8. La temperatura de fusión (Tm) de una molécula de ADN será menor cuanto:",
         "1. Mayor proporción de pirimidinas tenga.",
         "2. Mayor proporción de purinas tenga.",
         "3. Mayor proporción de G y C tenga.",
         "4. Mayor proporción de A y T tenga.",
         "4.0"
        ],
        [
         "8",
         "9. ¿Cuál de las siguientes afirmaciones sobre el efecto de los inhibidores reversibles sobre la cinética de una enzima NO es cierta?:",
         "1. Los inhibidores competitivos aumentan la Km.",
         "2. Los inhibidores no competitivos no modifican la Km.",
         "3. Los inhibidores competitivos no modifican la Vmax, mientras que los inhibidores no competitivos la disminuyen.",
         "4. Los inhibidores competitivos disminuyen la Vmax, mientras que los inhibidores no competitivos no la modifican.",
         "4.0"
        ],
        [
         "9",
         "10. ¿Cuál de las siguientes afirmaciones sobre la estructura en hélice α de las proteínas NO es cierta?:",
         "1. El giro es hacia la izquierda.",
         "2. Las cadenas laterales de los aminoácidos se disponen hacia el exterior de la hélice.",
         "3. Está estabilizada por enlaces de hidrógeno entre el grupo CO y el grupo NH, ambos del enlace peptídico, situados a varios residuos de distancia.",
         "4. También se las denomina hélices 3,613 porque hay 3,6 aminoácidos y 13 átomos por vuelta.",
         "1.0"
        ]
       ],
       "shape": {
        "columns": 6,
        "rows": 10
       }
      },
      "text/html": [
       "<div>\n",
       "<style scoped>\n",
       "    .dataframe tbody tr th:only-of-type {\n",
       "        vertical-align: middle;\n",
       "    }\n",
       "\n",
       "    .dataframe tbody tr th {\n",
       "        vertical-align: top;\n",
       "    }\n",
       "\n",
       "    .dataframe thead th {\n",
       "        text-align: right;\n",
       "    }\n",
       "</style>\n",
       "<table border=\"1\" class=\"dataframe\">\n",
       "  <thead>\n",
       "    <tr style=\"text-align: right;\">\n",
       "      <th></th>\n",
       "      <th>Question</th>\n",
       "      <th>Option_1</th>\n",
       "      <th>Option_2</th>\n",
       "      <th>Option_3</th>\n",
       "      <th>Option_4</th>\n",
       "      <th>RC</th>\n",
       "    </tr>\n",
       "  </thead>\n",
       "  <tbody>\n",
       "    <tr>\n",
       "      <th>0</th>\n",
       "      <td>1. Sobre el colágeno de tipo I, señale la resp...</td>\n",
       "      <td>1. Es una proteína fibrosa muy soluble en agua.</td>\n",
       "      <td>2. La presencia de los aminoácidos hidroxilado...</td>\n",
       "      <td>3. Presenta un enrollamiento superhelicoidal d...</td>\n",
       "      <td>4. La cisteína es su aminoácido más abundante.</td>\n",
       "      <td>3.0</td>\n",
       "    </tr>\n",
       "    <tr>\n",
       "      <th>1</th>\n",
       "      <td>2. ¿Cuál de los siguientes aminoácidos present...</td>\n",
       "      <td>1. Lisina.</td>\n",
       "      <td>2. Aspartato.</td>\n",
       "      <td>3. Glutamato.</td>\n",
       "      <td>4. Serina.</td>\n",
       "      <td>1.0</td>\n",
       "    </tr>\n",
       "    <tr>\n",
       "      <th>2</th>\n",
       "      <td>3. ¿Cuál de las siguientes rutas metabólicas p...</td>\n",
       "      <td>1. Ciclo de Krebs.</td>\n",
       "      <td>2. Ciclo de Cori.</td>\n",
       "      <td>3. Ciclo del glioxilato.</td>\n",
       "      <td>4. Vía de las pentosas fosfato.</td>\n",
       "      <td>3.0</td>\n",
       "    </tr>\n",
       "    <tr>\n",
       "      <th>3</th>\n",
       "      <td>4. La ATP sintasa mitocondrial es:</td>\n",
       "      <td>1. El complejo I de la cadena de transporte de...</td>\n",
       "      <td>2. Un canal de NADH.</td>\n",
       "      <td>3. El complejo III de la cadena de transporte ...</td>\n",
       "      <td>4. Un canal de protones.</td>\n",
       "      <td>4.0</td>\n",
       "    </tr>\n",
       "    <tr>\n",
       "      <th>4</th>\n",
       "      <td>5. ¿Cuál de los siguientes disacáridos carece ...</td>\n",
       "      <td>1. Maltosa.</td>\n",
       "      <td>2. Lactosa.</td>\n",
       "      <td>3. Sacarosa.</td>\n",
       "      <td>4. Celobiosa.</td>\n",
       "      <td>3.0</td>\n",
       "    </tr>\n",
       "    <tr>\n",
       "      <th>5</th>\n",
       "      <td>6. ¿Qué lipoproteínas recogen el exceso de col...</td>\n",
       "      <td>1. Quilomicrones.</td>\n",
       "      <td>2. VLDL.</td>\n",
       "      <td>3. LDL.</td>\n",
       "      <td>4. HDL.</td>\n",
       "      <td>4.0</td>\n",
       "    </tr>\n",
       "    <tr>\n",
       "      <th>6</th>\n",
       "      <td>7. El mecanismo de “splicing”:</td>\n",
       "      <td>1. Separa los fragmentos de ADN no codificantes.</td>\n",
       "      <td>2. Elimina los intrones y deja los exones unid...</td>\n",
       "      <td>3. Es un mecanismo universal en todos los orga...</td>\n",
       "      <td>4. Tiene lugar en el citoplasma, antes de que ...</td>\n",
       "      <td>2.0</td>\n",
       "    </tr>\n",
       "    <tr>\n",
       "      <th>7</th>\n",
       "      <td>8. La temperatura de fusión (Tm) de una molécu...</td>\n",
       "      <td>1. Mayor proporción de pirimidinas tenga.</td>\n",
       "      <td>2. Mayor proporción de purinas tenga.</td>\n",
       "      <td>3. Mayor proporción de G y C tenga.</td>\n",
       "      <td>4. Mayor proporción de A y T tenga.</td>\n",
       "      <td>4.0</td>\n",
       "    </tr>\n",
       "    <tr>\n",
       "      <th>8</th>\n",
       "      <td>9. ¿Cuál de las siguientes afirmaciones sobre ...</td>\n",
       "      <td>1. Los inhibidores competitivos aumentan la Km.</td>\n",
       "      <td>2. Los inhibidores no competitivos no modifica...</td>\n",
       "      <td>3. Los inhibidores competitivos no modifican l...</td>\n",
       "      <td>4. Los inhibidores competitivos disminuyen la ...</td>\n",
       "      <td>4.0</td>\n",
       "    </tr>\n",
       "    <tr>\n",
       "      <th>9</th>\n",
       "      <td>10. ¿Cuál de las siguientes afirmaciones sobre...</td>\n",
       "      <td>1. El giro es hacia la izquierda.</td>\n",
       "      <td>2. Las cadenas laterales de los aminoácidos se...</td>\n",
       "      <td>3. Está estabilizada por enlaces de hidrógeno ...</td>\n",
       "      <td>4. También se las denomina hélices 3,613 porqu...</td>\n",
       "      <td>1.0</td>\n",
       "    </tr>\n",
       "  </tbody>\n",
       "</table>\n",
       "</div>"
      ],
      "text/plain": [
       "                                            Question  \\\n",
       "0  1. Sobre el colágeno de tipo I, señale la resp...   \n",
       "1  2. ¿Cuál de los siguientes aminoácidos present...   \n",
       "2  3. ¿Cuál de las siguientes rutas metabólicas p...   \n",
       "3                 4. La ATP sintasa mitocondrial es:   \n",
       "4  5. ¿Cuál de los siguientes disacáridos carece ...   \n",
       "5  6. ¿Qué lipoproteínas recogen el exceso de col...   \n",
       "6                     7. El mecanismo de “splicing”:   \n",
       "7  8. La temperatura de fusión (Tm) de una molécu...   \n",
       "8  9. ¿Cuál de las siguientes afirmaciones sobre ...   \n",
       "9  10. ¿Cuál de las siguientes afirmaciones sobre...   \n",
       "\n",
       "                                            Option_1  \\\n",
       "0    1. Es una proteína fibrosa muy soluble en agua.   \n",
       "1                                         1. Lisina.   \n",
       "2                                 1. Ciclo de Krebs.   \n",
       "3  1. El complejo I de la cadena de transporte de...   \n",
       "4                                        1. Maltosa.   \n",
       "5                                  1. Quilomicrones.   \n",
       "6   1. Separa los fragmentos de ADN no codificantes.   \n",
       "7          1. Mayor proporción de pirimidinas tenga.   \n",
       "8    1. Los inhibidores competitivos aumentan la Km.   \n",
       "9                  1. El giro es hacia la izquierda.   \n",
       "\n",
       "                                            Option_2  \\\n",
       "0  2. La presencia de los aminoácidos hidroxilado...   \n",
       "1                                      2. Aspartato.   \n",
       "2                                  2. Ciclo de Cori.   \n",
       "3                               2. Un canal de NADH.   \n",
       "4                                        2. Lactosa.   \n",
       "5                                           2. VLDL.   \n",
       "6  2. Elimina los intrones y deja los exones unid...   \n",
       "7              2. Mayor proporción de purinas tenga.   \n",
       "8  2. Los inhibidores no competitivos no modifica...   \n",
       "9  2. Las cadenas laterales de los aminoácidos se...   \n",
       "\n",
       "                                            Option_3  \\\n",
       "0  3. Presenta un enrollamiento superhelicoidal d...   \n",
       "1                                      3. Glutamato.   \n",
       "2                           3. Ciclo del glioxilato.   \n",
       "3  3. El complejo III de la cadena de transporte ...   \n",
       "4                                       3. Sacarosa.   \n",
       "5                                            3. LDL.   \n",
       "6  3. Es un mecanismo universal en todos los orga...   \n",
       "7                3. Mayor proporción de G y C tenga.   \n",
       "8  3. Los inhibidores competitivos no modifican l...   \n",
       "9  3. Está estabilizada por enlaces de hidrógeno ...   \n",
       "\n",
       "                                            Option_4   RC  \n",
       "0     4. La cisteína es su aminoácido más abundante.  3.0  \n",
       "1                                         4. Serina.  1.0  \n",
       "2                    4. Vía de las pentosas fosfato.  3.0  \n",
       "3                           4. Un canal de protones.  4.0  \n",
       "4                                      4. Celobiosa.  3.0  \n",
       "5                                            4. HDL.  4.0  \n",
       "6  4. Tiene lugar en el citoplasma, antes de que ...  2.0  \n",
       "7                4. Mayor proporción de A y T tenga.  4.0  \n",
       "8  4. Los inhibidores competitivos disminuyen la ...  4.0  \n",
       "9  4. También se las denomina hélices 3,613 porqu...  1.0  "
      ]
     },
     "execution_count": 43,
     "metadata": {},
     "output_type": "execute_result"
    }
   ],
   "source": [
    "processed_exam_df: pd.DataFrame = pd.concat([exam_df_pivot, answers_df_clean], axis=1)\n",
    "processed_exam_df = processed_exam_df.drop(columns=[\"V\"])\n",
    "processed_exam_df.head(10)"
   ]
  },
  {
   "cell_type": "markdown",
   "metadata": {},
   "source": [
    "**2. Identifying and Handling Missing Values:**\n",
    "\n",
    "Missing values are then replaced with 0."
   ]
  },
  {
   "cell_type": "code",
   "execution_count": 44,
   "metadata": {},
   "outputs": [],
   "source": [
    "processed_exam_df = processed_exam_df.fillna(0)"
   ]
  },
  {
   "cell_type": "markdown",
   "metadata": {},
   "source": [
    "**3. Verifying Missing Values and Data Types:**\n",
    "\n",
    "The number of missing values in each column is checked, and the data types of the columns are displayed. The 'RC' (correct answer) column is then converted to integer type."
   ]
  },
  {
   "cell_type": "code",
   "execution_count": 45,
   "metadata": {},
   "outputs": [
    {
     "data": {
      "text/plain": [
       "Question    object\n",
       "Option_1    object\n",
       "Option_2    object\n",
       "Option_3    object\n",
       "Option_4    object\n",
       "RC           int32\n",
       "dtype: object"
      ]
     },
     "execution_count": 45,
     "metadata": {},
     "output_type": "execute_result"
    }
   ],
   "source": [
    "processed_exam_df.isnull().sum()\n",
    "processed_exam_df[\"RC\"] = processed_exam_df[\"RC\"].astype(int)\n",
    "processed_exam_df.dtypes"
   ]
  },
  {
   "cell_type": "markdown",
   "metadata": {},
   "source": [
    "**4. Adding year column**\n",
    "\n",
    "A column containing the year of the exam is added to the DataFrame."
   ]
  },
  {
   "cell_type": "code",
   "execution_count": 46,
   "metadata": {},
   "outputs": [],
   "source": [
    "processed_exam_df[\"year\"] = year"
   ]
  },
  {
   "cell_type": "markdown",
   "metadata": {},
   "source": [
    "**5. Displaying the Final DataFrame:**\n",
    "\n",
    "The first 10 rows of the final joined and cleaned DataFrame are displayed."
   ]
  },
  {
   "cell_type": "code",
   "execution_count": 47,
   "metadata": {},
   "outputs": [
    {
     "data": {
      "application/vnd.microsoft.datawrangler.viewer.v0+json": {
       "columns": [
        {
         "name": "index",
         "rawType": "int64",
         "type": "integer"
        },
        {
         "name": "Question",
         "rawType": "object",
         "type": "string"
        },
        {
         "name": "Option_1",
         "rawType": "object",
         "type": "string"
        },
        {
         "name": "Option_2",
         "rawType": "object",
         "type": "string"
        },
        {
         "name": "Option_3",
         "rawType": "object",
         "type": "string"
        },
        {
         "name": "Option_4",
         "rawType": "object",
         "type": "string"
        },
        {
         "name": "RC",
         "rawType": "int32",
         "type": "integer"
        },
        {
         "name": "year",
         "rawType": "int64",
         "type": "integer"
        }
       ],
       "conversionMethod": "pd.DataFrame",
       "ref": "e45c40e6-6973-47b9-ad6d-0ea21daea412",
       "rows": [
        [
         "0",
         "1. Sobre el colágeno de tipo I, señale la respuesta correcta:",
         "1. Es una proteína fibrosa muy soluble en agua.",
         "2. La presencia de los aminoácidos hidroxilados4-hidroxilisina y 5-hidroxiprolina contribuye a estabilizar su estructura.",
         "3. Presenta un enrollamiento superhelicoidal dextrógiro, en sentido opuesto a la hélice levógira de sus cadenas alfa.",
         "4. La cisteína es su aminoácido más abundante.",
         "3",
         "2023"
        ],
        [
         "1",
         "2. ¿Cuál de los siguientes aminoácidos presenta carga neta positiva a pH neutro?:",
         "1. Lisina.",
         "2. Aspartato.",
         "3. Glutamato.",
         "4. Serina.",
         "1",
         "2023"
        ],
        [
         "2",
         "3. ¿Cuál de las siguientes rutas metabólicas permite obtener glucosa a partir de ácidos grasos?:",
         "1. Ciclo de Krebs.",
         "2. Ciclo de Cori.",
         "3. Ciclo del glioxilato.",
         "4. Vía de las pentosas fosfato.",
         "3",
         "2023"
        ],
        [
         "3",
         "4. La ATP sintasa mitocondrial es:",
         "1. El complejo I de la cadena de transporte de electrones.",
         "2. Un canal de NADH.",
         "3. El complejo III de la cadena de transporte de electrones.",
         "4. Un canal de protones.",
         "4",
         "2023"
        ],
        [
         "4",
         "5. ¿Cuál de los siguientes disacáridos carece de poder reductor?:",
         "1. Maltosa.",
         "2. Lactosa.",
         "3. Sacarosa.",
         "4. Celobiosa.",
         "3",
         "2023"
        ],
        [
         "5",
         "6. ¿Qué lipoproteínas recogen el exceso de colesterol depositado en los tejidos periféricos y lo transportan al hígado?:",
         "1. Quilomicrones.",
         "2. VLDL.",
         "3. LDL.",
         "4. HDL.",
         "4",
         "2023"
        ],
        [
         "6",
         "7. El mecanismo de “splicing”:",
         "1. Separa los fragmentos de ADN no codificantes.",
         "2. Elimina los intrones y deja los exones unidos en un ARN mensajero maduro.",
         "3. Es un mecanismo universal en todos los organismos.",
         "4. Tiene lugar en el citoplasma, antes de que el mensaje sea traducido.",
         "2",
         "2023"
        ],
        [
         "7",
         "8. La temperatura de fusión (Tm) de una molécula de ADN será menor cuanto:",
         "1. Mayor proporción de pirimidinas tenga.",
         "2. Mayor proporción de purinas tenga.",
         "3. Mayor proporción de G y C tenga.",
         "4. Mayor proporción de A y T tenga.",
         "4",
         "2023"
        ],
        [
         "8",
         "9. ¿Cuál de las siguientes afirmaciones sobre el efecto de los inhibidores reversibles sobre la cinética de una enzima NO es cierta?:",
         "1. Los inhibidores competitivos aumentan la Km.",
         "2. Los inhibidores no competitivos no modifican la Km.",
         "3. Los inhibidores competitivos no modifican la Vmax, mientras que los inhibidores no competitivos la disminuyen.",
         "4. Los inhibidores competitivos disminuyen la Vmax, mientras que los inhibidores no competitivos no la modifican.",
         "4",
         "2023"
        ],
        [
         "9",
         "10. ¿Cuál de las siguientes afirmaciones sobre la estructura en hélice α de las proteínas NO es cierta?:",
         "1. El giro es hacia la izquierda.",
         "2. Las cadenas laterales de los aminoácidos se disponen hacia el exterior de la hélice.",
         "3. Está estabilizada por enlaces de hidrógeno entre el grupo CO y el grupo NH, ambos del enlace peptídico, situados a varios residuos de distancia.",
         "4. También se las denomina hélices 3,613 porque hay 3,6 aminoácidos y 13 átomos por vuelta.",
         "1",
         "2023"
        ]
       ],
       "shape": {
        "columns": 7,
        "rows": 10
       }
      },
      "text/html": [
       "<div>\n",
       "<style scoped>\n",
       "    .dataframe tbody tr th:only-of-type {\n",
       "        vertical-align: middle;\n",
       "    }\n",
       "\n",
       "    .dataframe tbody tr th {\n",
       "        vertical-align: top;\n",
       "    }\n",
       "\n",
       "    .dataframe thead th {\n",
       "        text-align: right;\n",
       "    }\n",
       "</style>\n",
       "<table border=\"1\" class=\"dataframe\">\n",
       "  <thead>\n",
       "    <tr style=\"text-align: right;\">\n",
       "      <th></th>\n",
       "      <th>Question</th>\n",
       "      <th>Option_1</th>\n",
       "      <th>Option_2</th>\n",
       "      <th>Option_3</th>\n",
       "      <th>Option_4</th>\n",
       "      <th>RC</th>\n",
       "      <th>year</th>\n",
       "    </tr>\n",
       "  </thead>\n",
       "  <tbody>\n",
       "    <tr>\n",
       "      <th>0</th>\n",
       "      <td>1. Sobre el colágeno de tipo I, señale la resp...</td>\n",
       "      <td>1. Es una proteína fibrosa muy soluble en agua.</td>\n",
       "      <td>2. La presencia de los aminoácidos hidroxilado...</td>\n",
       "      <td>3. Presenta un enrollamiento superhelicoidal d...</td>\n",
       "      <td>4. La cisteína es su aminoácido más abundante.</td>\n",
       "      <td>3</td>\n",
       "      <td>2023</td>\n",
       "    </tr>\n",
       "    <tr>\n",
       "      <th>1</th>\n",
       "      <td>2. ¿Cuál de los siguientes aminoácidos present...</td>\n",
       "      <td>1. Lisina.</td>\n",
       "      <td>2. Aspartato.</td>\n",
       "      <td>3. Glutamato.</td>\n",
       "      <td>4. Serina.</td>\n",
       "      <td>1</td>\n",
       "      <td>2023</td>\n",
       "    </tr>\n",
       "    <tr>\n",
       "      <th>2</th>\n",
       "      <td>3. ¿Cuál de las siguientes rutas metabólicas p...</td>\n",
       "      <td>1. Ciclo de Krebs.</td>\n",
       "      <td>2. Ciclo de Cori.</td>\n",
       "      <td>3. Ciclo del glioxilato.</td>\n",
       "      <td>4. Vía de las pentosas fosfato.</td>\n",
       "      <td>3</td>\n",
       "      <td>2023</td>\n",
       "    </tr>\n",
       "    <tr>\n",
       "      <th>3</th>\n",
       "      <td>4. La ATP sintasa mitocondrial es:</td>\n",
       "      <td>1. El complejo I de la cadena de transporte de...</td>\n",
       "      <td>2. Un canal de NADH.</td>\n",
       "      <td>3. El complejo III de la cadena de transporte ...</td>\n",
       "      <td>4. Un canal de protones.</td>\n",
       "      <td>4</td>\n",
       "      <td>2023</td>\n",
       "    </tr>\n",
       "    <tr>\n",
       "      <th>4</th>\n",
       "      <td>5. ¿Cuál de los siguientes disacáridos carece ...</td>\n",
       "      <td>1. Maltosa.</td>\n",
       "      <td>2. Lactosa.</td>\n",
       "      <td>3. Sacarosa.</td>\n",
       "      <td>4. Celobiosa.</td>\n",
       "      <td>3</td>\n",
       "      <td>2023</td>\n",
       "    </tr>\n",
       "    <tr>\n",
       "      <th>5</th>\n",
       "      <td>6. ¿Qué lipoproteínas recogen el exceso de col...</td>\n",
       "      <td>1. Quilomicrones.</td>\n",
       "      <td>2. VLDL.</td>\n",
       "      <td>3. LDL.</td>\n",
       "      <td>4. HDL.</td>\n",
       "      <td>4</td>\n",
       "      <td>2023</td>\n",
       "    </tr>\n",
       "    <tr>\n",
       "      <th>6</th>\n",
       "      <td>7. El mecanismo de “splicing”:</td>\n",
       "      <td>1. Separa los fragmentos de ADN no codificantes.</td>\n",
       "      <td>2. Elimina los intrones y deja los exones unid...</td>\n",
       "      <td>3. Es un mecanismo universal en todos los orga...</td>\n",
       "      <td>4. Tiene lugar en el citoplasma, antes de que ...</td>\n",
       "      <td>2</td>\n",
       "      <td>2023</td>\n",
       "    </tr>\n",
       "    <tr>\n",
       "      <th>7</th>\n",
       "      <td>8. La temperatura de fusión (Tm) de una molécu...</td>\n",
       "      <td>1. Mayor proporción de pirimidinas tenga.</td>\n",
       "      <td>2. Mayor proporción de purinas tenga.</td>\n",
       "      <td>3. Mayor proporción de G y C tenga.</td>\n",
       "      <td>4. Mayor proporción de A y T tenga.</td>\n",
       "      <td>4</td>\n",
       "      <td>2023</td>\n",
       "    </tr>\n",
       "    <tr>\n",
       "      <th>8</th>\n",
       "      <td>9. ¿Cuál de las siguientes afirmaciones sobre ...</td>\n",
       "      <td>1. Los inhibidores competitivos aumentan la Km.</td>\n",
       "      <td>2. Los inhibidores no competitivos no modifica...</td>\n",
       "      <td>3. Los inhibidores competitivos no modifican l...</td>\n",
       "      <td>4. Los inhibidores competitivos disminuyen la ...</td>\n",
       "      <td>4</td>\n",
       "      <td>2023</td>\n",
       "    </tr>\n",
       "    <tr>\n",
       "      <th>9</th>\n",
       "      <td>10. ¿Cuál de las siguientes afirmaciones sobre...</td>\n",
       "      <td>1. El giro es hacia la izquierda.</td>\n",
       "      <td>2. Las cadenas laterales de los aminoácidos se...</td>\n",
       "      <td>3. Está estabilizada por enlaces de hidrógeno ...</td>\n",
       "      <td>4. También se las denomina hélices 3,613 porqu...</td>\n",
       "      <td>1</td>\n",
       "      <td>2023</td>\n",
       "    </tr>\n",
       "  </tbody>\n",
       "</table>\n",
       "</div>"
      ],
      "text/plain": [
       "                                            Question  \\\n",
       "0  1. Sobre el colágeno de tipo I, señale la resp...   \n",
       "1  2. ¿Cuál de los siguientes aminoácidos present...   \n",
       "2  3. ¿Cuál de las siguientes rutas metabólicas p...   \n",
       "3                 4. La ATP sintasa mitocondrial es:   \n",
       "4  5. ¿Cuál de los siguientes disacáridos carece ...   \n",
       "5  6. ¿Qué lipoproteínas recogen el exceso de col...   \n",
       "6                     7. El mecanismo de “splicing”:   \n",
       "7  8. La temperatura de fusión (Tm) de una molécu...   \n",
       "8  9. ¿Cuál de las siguientes afirmaciones sobre ...   \n",
       "9  10. ¿Cuál de las siguientes afirmaciones sobre...   \n",
       "\n",
       "                                            Option_1  \\\n",
       "0    1. Es una proteína fibrosa muy soluble en agua.   \n",
       "1                                         1. Lisina.   \n",
       "2                                 1. Ciclo de Krebs.   \n",
       "3  1. El complejo I de la cadena de transporte de...   \n",
       "4                                        1. Maltosa.   \n",
       "5                                  1. Quilomicrones.   \n",
       "6   1. Separa los fragmentos de ADN no codificantes.   \n",
       "7          1. Mayor proporción de pirimidinas tenga.   \n",
       "8    1. Los inhibidores competitivos aumentan la Km.   \n",
       "9                  1. El giro es hacia la izquierda.   \n",
       "\n",
       "                                            Option_2  \\\n",
       "0  2. La presencia de los aminoácidos hidroxilado...   \n",
       "1                                      2. Aspartato.   \n",
       "2                                  2. Ciclo de Cori.   \n",
       "3                               2. Un canal de NADH.   \n",
       "4                                        2. Lactosa.   \n",
       "5                                           2. VLDL.   \n",
       "6  2. Elimina los intrones y deja los exones unid...   \n",
       "7              2. Mayor proporción de purinas tenga.   \n",
       "8  2. Los inhibidores no competitivos no modifica...   \n",
       "9  2. Las cadenas laterales de los aminoácidos se...   \n",
       "\n",
       "                                            Option_3  \\\n",
       "0  3. Presenta un enrollamiento superhelicoidal d...   \n",
       "1                                      3. Glutamato.   \n",
       "2                           3. Ciclo del glioxilato.   \n",
       "3  3. El complejo III de la cadena de transporte ...   \n",
       "4                                       3. Sacarosa.   \n",
       "5                                            3. LDL.   \n",
       "6  3. Es un mecanismo universal en todos los orga...   \n",
       "7                3. Mayor proporción de G y C tenga.   \n",
       "8  3. Los inhibidores competitivos no modifican l...   \n",
       "9  3. Está estabilizada por enlaces de hidrógeno ...   \n",
       "\n",
       "                                            Option_4  RC  year  \n",
       "0     4. La cisteína es su aminoácido más abundante.   3  2023  \n",
       "1                                         4. Serina.   1  2023  \n",
       "2                    4. Vía de las pentosas fosfato.   3  2023  \n",
       "3                           4. Un canal de protones.   4  2023  \n",
       "4                                      4. Celobiosa.   3  2023  \n",
       "5                                            4. HDL.   4  2023  \n",
       "6  4. Tiene lugar en el citoplasma, antes de que ...   2  2023  \n",
       "7                4. Mayor proporción de A y T tenga.   4  2023  \n",
       "8  4. Los inhibidores competitivos disminuyen la ...   4  2023  \n",
       "9  4. También se las denomina hélices 3,613 porqu...   1  2023  "
      ]
     },
     "execution_count": 47,
     "metadata": {},
     "output_type": "execute_result"
    }
   ],
   "source": [
    "processed_exam_df.head(10)"
   ]
  },
  {
   "cell_type": "code",
   "execution_count": 48,
   "metadata": {},
   "outputs": [
    {
     "data": {
      "application/vnd.microsoft.datawrangler.viewer.v0+json": {
       "columns": [
        {
         "name": "index",
         "rawType": "int64",
         "type": "integer"
        },
        {
         "name": "Question",
         "rawType": "object",
         "type": "string"
        },
        {
         "name": "Option_1",
         "rawType": "object",
         "type": "string"
        },
        {
         "name": "Option_2",
         "rawType": "object",
         "type": "string"
        },
        {
         "name": "Option_3",
         "rawType": "object",
         "type": "string"
        },
        {
         "name": "Option_4",
         "rawType": "object",
         "type": "string"
        },
        {
         "name": "RC",
         "rawType": "int32",
         "type": "integer"
        },
        {
         "name": "year",
         "rawType": "int64",
         "type": "integer"
        }
       ],
       "conversionMethod": "pd.DataFrame",
       "ref": "fd0ba905-1908-4744-97da-b74ea312f231",
       "rows": [
        [
         "30",
         "31. El ATP es un ejemplo de:",
         "1. Desoxirribonucleótido trifosfato.",
         "2. Ribonucleósido.",
         "3. Ribonucleótido.",
         "4. Ácido nucleico.",
         "3",
         "2023"
        ],
        [
         "31",
         "32. Señale la opción que NO deriva en anemia megaloblástica:",
         "1. Déficit de cobalamina.",
         "2. Déficit de hierro.",
         "3. Déficit de ácido fólico.",
         "4. Síndrome de Lesch-Nyhan.",
         "2",
         "2023"
        ],
        [
         "32",
         "33. En el metabolismo del glucógeno, señale la respuesta INCORRECTA:",
         "1. La síntesis del glucógeno requiere la intervención de la enzima fosforilasa.",
         "2. La fosforilasa se regula por interacciones alostéricas y por fosforilación reversible.",
         "3. La adrenalina y el glucagón indican la necesidad de degradar el glucógeno.",
         "4. El glucógeno está formado por unidades de glucosa unidas por enlaces glicosídicos α-1,4 y ramificaciones con enlaces glicosídicos α1,6.",
         "1",
         "2023"
        ],
        [
         "33",
         "34. ¿Cuál de las siguientes enzimas cataliza una reacción irreversible de la gluconeogénesis?:",
         "1. Gliceraldehido 3-fosfato deshidrogenasa.",
         "2. Fosfoglicerato quinasa.",
         "3. Fructosa 1,6-bisfosfatasa.",
         "4. Enolasa.",
         "3",
         "2023"
        ],
        [
         "34",
         "35. ¿Cómo afecta la unión de 2,3-bisfosfoglicerato (BPG) a la afinidad de la hemoglobina por el oxígeno?:",
         "1. Reduce la afinidad uniéndose a un sitio alejado del sitio de fijación del O2.",
         "2. Aumenta la afinidad uniéndose a un sitio alejado del sitio de fijación del O2.",
         "3. Reduce la afinidad uniéndose al sitio de fijación del O2.",
         "4. Aumenta la afinidad uniéndose al sitio de fijación del O2.",
         "1",
         "2023"
        ],
        [
         "35",
         "36. ¿Cuál de los siguientes elementos traza NO tiene ninguna función conocida en el organismo y puede ser un importante agente tóxico?:",
         "1. Molibdeno.",
         "2. Selenio.",
         "3. Aluminio.",
         "4. Cromo.",
         "3",
         "2023"
        ],
        [
         "36",
         "37. La prueba de referencia para identificar la presencia del SARS-CoV-2 es la reacción en cadena de la polimerasa con transcriptasa inversa (RT-qPCR). ¿Qué parámetro se valora para interpretar un resultado como positivo o negativo?:",
         "1. El tiempo que tarda en realizarse la RTqPCR.",
         "2. El valor umbral del número de ciclos (Ct).",
         "3. La temperatura de desnaturalización de las hebras de ADN.",
         "4. La intensidad de la señal fluorescente en el décimo ciclo de amplificación.",
         "2",
         "2023"
        ],
        [
         "37",
         "38. Indique cuál de las siguientes parejas de “transportador de glucosa (GLUT) – tejido de expresión principal” es la correcta:",
         "1. GLUT2 – Hígado.",
         "2. GLUT3 – Músculo.",
         "3. GLUT1 – Intestino delgado.",
         "4. GLUT4 – Cerebro.",
         "1",
         "2023"
        ],
        [
         "38",
         "39. La osmolaridad es la medición de la concentración de solutos definida como:",
         "1. Número de osmoles de un soluto por litro de disolución (Osm/L).",
         "2. Número de osmoles de un soluto por kilogramo de disolución (Osm/kg).",
         "3. Número de osmoles de un soluto por mililitro de disolución (Osm/mL).",
         "4. Número de osmoles de un soluto por miligramo de disolución (Osm/mg).",
         "1",
         "2023"
        ],
        [
         "39",
         "40. La enfermedad de la orina con olor a jarabe de arce está causada por una deficiencia de:",
         "1. Fenilalanina hidroxilasa.",
         "2. Complejo deshidrogenasa del α-cetoácido de cadena ramificada.",
         "3. Arginasa.",
         "4. Cistationina β-sintasa.",
         "2",
         "2023"
        ]
       ],
       "shape": {
        "columns": 7,
        "rows": 10
       }
      },
      "text/html": [
       "<div>\n",
       "<style scoped>\n",
       "    .dataframe tbody tr th:only-of-type {\n",
       "        vertical-align: middle;\n",
       "    }\n",
       "\n",
       "    .dataframe tbody tr th {\n",
       "        vertical-align: top;\n",
       "    }\n",
       "\n",
       "    .dataframe thead th {\n",
       "        text-align: right;\n",
       "    }\n",
       "</style>\n",
       "<table border=\"1\" class=\"dataframe\">\n",
       "  <thead>\n",
       "    <tr style=\"text-align: right;\">\n",
       "      <th></th>\n",
       "      <th>Question</th>\n",
       "      <th>Option_1</th>\n",
       "      <th>Option_2</th>\n",
       "      <th>Option_3</th>\n",
       "      <th>Option_4</th>\n",
       "      <th>RC</th>\n",
       "      <th>year</th>\n",
       "    </tr>\n",
       "  </thead>\n",
       "  <tbody>\n",
       "    <tr>\n",
       "      <th>30</th>\n",
       "      <td>31. El ATP es un ejemplo de:</td>\n",
       "      <td>1. Desoxirribonucleótido trifosfato.</td>\n",
       "      <td>2. Ribonucleósido.</td>\n",
       "      <td>3. Ribonucleótido.</td>\n",
       "      <td>4. Ácido nucleico.</td>\n",
       "      <td>3</td>\n",
       "      <td>2023</td>\n",
       "    </tr>\n",
       "    <tr>\n",
       "      <th>31</th>\n",
       "      <td>32. Señale la opción que NO deriva en anemia m...</td>\n",
       "      <td>1. Déficit de cobalamina.</td>\n",
       "      <td>2. Déficit de hierro.</td>\n",
       "      <td>3. Déficit de ácido fólico.</td>\n",
       "      <td>4. Síndrome de Lesch-Nyhan.</td>\n",
       "      <td>2</td>\n",
       "      <td>2023</td>\n",
       "    </tr>\n",
       "    <tr>\n",
       "      <th>32</th>\n",
       "      <td>33. En el metabolismo del glucógeno, señale la...</td>\n",
       "      <td>1. La síntesis del glucógeno requiere la inter...</td>\n",
       "      <td>2. La fosforilasa se regula por interacciones ...</td>\n",
       "      <td>3. La adrenalina y el glucagón indican la nece...</td>\n",
       "      <td>4. El glucógeno está formado por unidades de g...</td>\n",
       "      <td>1</td>\n",
       "      <td>2023</td>\n",
       "    </tr>\n",
       "    <tr>\n",
       "      <th>33</th>\n",
       "      <td>34. ¿Cuál de las siguientes enzimas cataliza u...</td>\n",
       "      <td>1. Gliceraldehido 3-fosfato deshidrogenasa.</td>\n",
       "      <td>2. Fosfoglicerato quinasa.</td>\n",
       "      <td>3. Fructosa 1,6-bisfosfatasa.</td>\n",
       "      <td>4. Enolasa.</td>\n",
       "      <td>3</td>\n",
       "      <td>2023</td>\n",
       "    </tr>\n",
       "    <tr>\n",
       "      <th>34</th>\n",
       "      <td>35. ¿Cómo afecta la unión de 2,3-bisfosfoglice...</td>\n",
       "      <td>1. Reduce la afinidad uniéndose a un sitio ale...</td>\n",
       "      <td>2. Aumenta la afinidad uniéndose a un sitio al...</td>\n",
       "      <td>3. Reduce la afinidad uniéndose al sitio de fi...</td>\n",
       "      <td>4. Aumenta la afinidad uniéndose al sitio de f...</td>\n",
       "      <td>1</td>\n",
       "      <td>2023</td>\n",
       "    </tr>\n",
       "    <tr>\n",
       "      <th>35</th>\n",
       "      <td>36. ¿Cuál de los siguientes elementos traza NO...</td>\n",
       "      <td>1. Molibdeno.</td>\n",
       "      <td>2. Selenio.</td>\n",
       "      <td>3. Aluminio.</td>\n",
       "      <td>4. Cromo.</td>\n",
       "      <td>3</td>\n",
       "      <td>2023</td>\n",
       "    </tr>\n",
       "    <tr>\n",
       "      <th>36</th>\n",
       "      <td>37. La prueba de referencia para identificar l...</td>\n",
       "      <td>1. El tiempo que tarda en realizarse la RTqPCR.</td>\n",
       "      <td>2. El valor umbral del número de ciclos (Ct).</td>\n",
       "      <td>3. La temperatura de desnaturalización de las ...</td>\n",
       "      <td>4. La intensidad de la señal fluorescente en e...</td>\n",
       "      <td>2</td>\n",
       "      <td>2023</td>\n",
       "    </tr>\n",
       "    <tr>\n",
       "      <th>37</th>\n",
       "      <td>38. Indique cuál de las siguientes parejas de ...</td>\n",
       "      <td>1. GLUT2 – Hígado.</td>\n",
       "      <td>2. GLUT3 – Músculo.</td>\n",
       "      <td>3. GLUT1 – Intestino delgado.</td>\n",
       "      <td>4. GLUT4 – Cerebro.</td>\n",
       "      <td>1</td>\n",
       "      <td>2023</td>\n",
       "    </tr>\n",
       "    <tr>\n",
       "      <th>38</th>\n",
       "      <td>39. La osmolaridad es la medición de la concen...</td>\n",
       "      <td>1. Número de osmoles de un soluto por litro de...</td>\n",
       "      <td>2. Número de osmoles de un soluto por kilogram...</td>\n",
       "      <td>3. Número de osmoles de un soluto por mililitr...</td>\n",
       "      <td>4. Número de osmoles de un soluto por miligram...</td>\n",
       "      <td>1</td>\n",
       "      <td>2023</td>\n",
       "    </tr>\n",
       "    <tr>\n",
       "      <th>39</th>\n",
       "      <td>40. La enfermedad de la orina con olor a jarab...</td>\n",
       "      <td>1. Fenilalanina hidroxilasa.</td>\n",
       "      <td>2. Complejo deshidrogenasa del α-cetoácido de ...</td>\n",
       "      <td>3. Arginasa.</td>\n",
       "      <td>4. Cistationina β-sintasa.</td>\n",
       "      <td>2</td>\n",
       "      <td>2023</td>\n",
       "    </tr>\n",
       "  </tbody>\n",
       "</table>\n",
       "</div>"
      ],
      "text/plain": [
       "                                             Question  \\\n",
       "30                       31. El ATP es un ejemplo de:   \n",
       "31  32. Señale la opción que NO deriva en anemia m...   \n",
       "32  33. En el metabolismo del glucógeno, señale la...   \n",
       "33  34. ¿Cuál de las siguientes enzimas cataliza u...   \n",
       "34  35. ¿Cómo afecta la unión de 2,3-bisfosfoglice...   \n",
       "35  36. ¿Cuál de los siguientes elementos traza NO...   \n",
       "36  37. La prueba de referencia para identificar l...   \n",
       "37  38. Indique cuál de las siguientes parejas de ...   \n",
       "38  39. La osmolaridad es la medición de la concen...   \n",
       "39  40. La enfermedad de la orina con olor a jarab...   \n",
       "\n",
       "                                             Option_1  \\\n",
       "30               1. Desoxirribonucleótido trifosfato.   \n",
       "31                          1. Déficit de cobalamina.   \n",
       "32  1. La síntesis del glucógeno requiere la inter...   \n",
       "33        1. Gliceraldehido 3-fosfato deshidrogenasa.   \n",
       "34  1. Reduce la afinidad uniéndose a un sitio ale...   \n",
       "35                                      1. Molibdeno.   \n",
       "36    1. El tiempo que tarda en realizarse la RTqPCR.   \n",
       "37                                 1. GLUT2 – Hígado.   \n",
       "38  1. Número de osmoles de un soluto por litro de...   \n",
       "39                       1. Fenilalanina hidroxilasa.   \n",
       "\n",
       "                                             Option_2  \\\n",
       "30                                 2. Ribonucleósido.   \n",
       "31                              2. Déficit de hierro.   \n",
       "32  2. La fosforilasa se regula por interacciones ...   \n",
       "33                         2. Fosfoglicerato quinasa.   \n",
       "34  2. Aumenta la afinidad uniéndose a un sitio al...   \n",
       "35                                        2. Selenio.   \n",
       "36      2. El valor umbral del número de ciclos (Ct).   \n",
       "37                                2. GLUT3 – Músculo.   \n",
       "38  2. Número de osmoles de un soluto por kilogram...   \n",
       "39  2. Complejo deshidrogenasa del α-cetoácido de ...   \n",
       "\n",
       "                                             Option_3  \\\n",
       "30                                 3. Ribonucleótido.   \n",
       "31                        3. Déficit de ácido fólico.   \n",
       "32  3. La adrenalina y el glucagón indican la nece...   \n",
       "33                      3. Fructosa 1,6-bisfosfatasa.   \n",
       "34  3. Reduce la afinidad uniéndose al sitio de fi...   \n",
       "35                                       3. Aluminio.   \n",
       "36  3. La temperatura de desnaturalización de las ...   \n",
       "37                      3. GLUT1 – Intestino delgado.   \n",
       "38  3. Número de osmoles de un soluto por mililitr...   \n",
       "39                                       3. Arginasa.   \n",
       "\n",
       "                                             Option_4  RC  year  \n",
       "30                                 4. Ácido nucleico.   3  2023  \n",
       "31                        4. Síndrome de Lesch-Nyhan.   2  2023  \n",
       "32  4. El glucógeno está formado por unidades de g...   1  2023  \n",
       "33                                        4. Enolasa.   3  2023  \n",
       "34  4. Aumenta la afinidad uniéndose al sitio de f...   1  2023  \n",
       "35                                          4. Cromo.   3  2023  \n",
       "36  4. La intensidad de la señal fluorescente en e...   2  2023  \n",
       "37                                4. GLUT4 – Cerebro.   1  2023  \n",
       "38  4. Número de osmoles de un soluto por miligram...   1  2023  \n",
       "39                         4. Cistationina β-sintasa.   2  2023  "
      ]
     },
     "execution_count": 48,
     "metadata": {},
     "output_type": "execute_result"
    }
   ],
   "source": [
    "processed_exam_df.tail(10)"
   ]
  },
  {
   "cell_type": "markdown",
   "metadata": {},
   "source": [
    "# Data Loading"
   ]
  },
  {
   "cell_type": "markdown",
   "metadata": {},
   "source": [
    "## Saving in csv file\n",
    "\n",
    "The `processed_exam_df_filtered` DataFrame, containing the cleaned and transformed exam data, is saved to a CSV file with the name generatd in the first step in the \"data\" directory. The `index=False` argument ensures that the DataFrame index is not written to the file, resulting in a cleaner output. This CSV file can be used for further analysis or as input for other applications."
   ]
  },
  {
   "cell_type": "code",
   "execution_count": 49,
   "metadata": {},
   "outputs": [],
   "source": [
    "processed_exam_df.to_csv(save_format, index= False)"
   ]
  },
  {
   "cell_type": "markdown",
   "metadata": {},
   "source": [
    "## Writing into data warehouse\n",
    "\n",
    "This section details the process of loading the cleaned and transformed exam data into an SQLite database, serving as a data warehouse for further analysis and querying.\n",
    "\n",
    "**1. Database Connection and Path:**\n",
    "\n",
    "The path to the SQLite database file is defined, and a connection is established using the `sqlite3` library."
   ]
  },
  {
   "cell_type": "code",
   "execution_count": 50,
   "metadata": {},
   "outputs": [],
   "source": [
    "db_path: str = \"../data/clean/bir_warehouse.db\""
   ]
  },
  {
   "cell_type": "markdown",
   "metadata": {},
   "source": [
    "**2. SQL Queries Definition:**\n",
    "\n",
    "Two SQL queries are defined: one for inserting questions into the questions table and another for inserting options into the questions_options table."
   ]
  },
  {
   "cell_type": "code",
   "execution_count": 51,
   "metadata": {},
   "outputs": [],
   "source": [
    "query_question: str = \"\"\"\n",
    "INSERT INTO questions (exam_year, exam_subject, question) \n",
    "VALUES((SELECT id_year FROM year WHERE year_name = ?),\n",
    "    (SELECT id_type FROM exam WHERE exam_type = ?),\n",
    "    ?);\n",
    "\"\"\"\n",
    "\n",
    "query_options: str = \"\"\"\n",
    "INSERT INTO questions_options (question_id, option_num, option_text, is_correct)\n",
    "VALUES((SELECT id FROM questions WHERE question = ?),\n",
    "    ?,\n",
    "    ?,\n",
    "    ?)\n",
    "\"\"\""
   ]
  },
  {
   "cell_type": "markdown",
   "metadata": {},
   "source": [
    "**3. Database Interaction and Data Insertion:**\n",
    "\n",
    "A with statement is used to establish a connection to the SQLite database, ensuring that the connection is properly closed after use. A cursor is created, and the processed_exam_df DataFrame is iterated over to insert each question and its options"
   ]
  },
  {
   "cell_type": "code",
   "execution_count": 52,
   "metadata": {},
   "outputs": [],
   "source": [
    "with sqlite3.connect(db_path) as bir_warehouse:\n",
    "    cur = bir_warehouse.cursor()\n",
    "    for question in processed_exam_df.itertuples():\n",
    "        cur.execute(query_question, (str(question[7]), exam_acronym, question[1]))\n",
    "        bir_warehouse.commit()\n",
    "        for n, option in enumerate(question[2:6]):\n",
    "            cur.execute(query_options, (question[1], n+1, option, n+1 == question[6]))\n",
    "            bir_warehouse.commit()"
   ]
  }
 ],
 "metadata": {
  "colab": {
   "provenance": []
  },
  "kernelspec": {
   "display_name": "bir_etl",
   "language": "python",
   "name": "python3"
  },
  "language_info": {
   "codemirror_mode": {
    "name": "ipython",
    "version": 3
   },
   "file_extension": ".py",
   "mimetype": "text/x-python",
   "name": "python",
   "nbconvert_exporter": "python",
   "pygments_lexer": "ipython3",
   "version": "3.12.7"
  }
 },
 "nbformat": 4,
 "nbformat_minor": 4
}
