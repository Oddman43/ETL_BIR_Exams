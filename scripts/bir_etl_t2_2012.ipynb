{
 "cells": [
  {
   "cell_type": "markdown",
   "metadata": {
    "editable": true,
    "id": "56vKIohe8Jou",
    "slideshow": {
     "slide_type": ""
    },
    "tags": []
   },
   "source": [
    "# Data Extraction\n",
    "This section details the process of extracting question data from a PDF file and corresponding answer keys from a TSV file."
   ]
  },
  {
   "cell_type": "markdown",
   "metadata": {
    "id": "8kRORmWM8Joy"
   },
   "source": [
    "## Importing libraries"
   ]
  },
  {
   "cell_type": "markdown",
   "metadata": {},
   "source": [
    "* Pandas for data manipulation\n",
    "* NumPy for the NaN datatype\n",
    "* PyPDF for its ability to read the pfd files, although it requieres post-processing of the extracted text\n",
    "* sqlite3 to create load the clean data into `bir_warehouse.db`"
   ]
  },
  {
   "cell_type": "code",
   "execution_count": 1,
   "metadata": {
    "colab": {
     "base_uri": "https://localhost:8080/"
    },
    "id": "y8DpYYll8Joz",
    "outputId": "40cac5b3-1153-431b-f780-201aa62b5813"
   },
   "outputs": [],
   "source": [
    "import pandas as pd\n",
    "import numpy as np\n",
    "from pypdf import PdfReader\n",
    "import sqlite3"
   ]
  },
  {
   "cell_type": "markdown",
   "metadata": {},
   "source": [
    "## Selecting year and type of exam"
   ]
  },
  {
   "cell_type": "markdown",
   "metadata": {},
   "source": [
    "This function, `compute_expected_rows`, takes the exam year and topic as input and returns metadata crucial for subsequent data cleaning and loading steps. This metadata includes the expected maximum number of rows in the final DataFrame, the number of questions per exam, and the acronym for the exam type.  The maximum number of rows is calculated based on the number of questions and options per question for each year, following a specific pattern:\n",
    "\n",
    "*   2024-2021: 210 questions, 4 options each\n",
    "*   2020-2019: 185 questions, 4 options each\n",
    "*   2018-2015: 235 questions, 4 options each\n",
    "*   2014-2012: 235 questions, 5 options each\n",
    "*   2011-2004: 260 questions, 5 options each\n",
    "\n",
    "This information is essential for validating data integrity during the ETL process.  For example, the expected row count helps verify that all questions and options have been correctly extracted and transformed. The exam type acronym aids in consistent file naming and data organization."
   ]
  },
  {
   "cell_type": "code",
   "execution_count": 2,
   "metadata": {},
   "outputs": [],
   "source": [
    "def compute_expected_rows(year: int, topic: str) -> tuple:\n",
    "    \"\"\"Computes and returns metadata about the exam for a given year and topic\n",
    "\n",
    "    Args:\n",
    "        year (int): The year of the exam\n",
    "        topic (str): The topic of the exam\n",
    "\n",
    "    Returns:\n",
    "        tuple: Contains:\n",
    "            - max_rows: The expected maximum number of rows in the DataFrame\n",
    "            - num_options: The number of questions in the exam\n",
    "            - exam_type_acronym: The acronym for the exam type\n",
    "\n",
    "    \"\"\"\n",
    "    info_year_dict: dict = {\n",
    "        2011: [260, 5],\n",
    "        2014: [235, 5],\n",
    "        2018: [235, 4],\n",
    "        2020: [185, 4],\n",
    "        2021: [210, 4],\n",
    "    }\n",
    "    max_rows: int = 0\n",
    "    num_options: int = 0\n",
    "    for target_year, info_list in info_year_dict.items():\n",
    "        if year <= target_year:\n",
    "            max_rows = (info_list[0] * info_list[1]) + info_list[0]\n",
    "            num_options = info_list[1]\n",
    "            break\n",
    "    else:\n",
    "        max_rows = 1050\n",
    "        num_options = 4\n",
    "    return max_rows, num_options"
   ]
  },
  {
   "cell_type": "markdown",
   "metadata": {},
   "source": [
    "### Add year of the exam and topic "
   ]
  },
  {
   "cell_type": "code",
   "execution_count": 3,
   "metadata": {},
   "outputs": [],
   "source": [
    "year: int = 2012\n",
    "topic: str = \"BIOLOGÍA\"\n",
    "exam_acronym: str = \"bir\"\n",
    "total_num_rows: int\n",
    "num_questions: int\n",
    "total_num_rows, num_questions= compute_expected_rows(year, topic)\n",
    "save_format: str = f\"../data/clean/clean_{exam_acronym}_{year}.csv\""
   ]
  },
  {
   "cell_type": "markdown",
   "metadata": {
    "id": "Z1Kjq5ue8Jo1"
   },
   "source": [
    "## Extracting Questions from Pdf file"
   ]
  },
  {
   "cell_type": "markdown",
   "metadata": {},
   "source": [
    "This section focuses on extracting the textual content of the exam questions from the provided PDF file.\n",
    "\n",
    "**Path Definition:**\n",
    "\n",
    "The path to the PDF file is dynamically constructed using the provided `year` and `topic` variables. This ensures flexibility and allows the script to process different exam files without manual path adjustments.\n",
    "\n",
    "Finally it stores the output in a DataFrame and the first 10 rows of the resulting DataFrame are displayed for a quick preview of the loaded data."
   ]
  },
  {
   "cell_type": "code",
   "execution_count": 4,
   "metadata": {
    "id": "AB4M4yfr8Jo3"
   },
   "outputs": [
    {
     "data": {
      "application/vnd.microsoft.datawrangler.viewer.v0+json": {
       "columns": [
        {
         "name": "index",
         "rawType": "int64",
         "type": "integer"
        },
        {
         "name": "text",
         "rawType": "object",
         "type": "string"
        }
       ],
       "conversionMethod": "pd.DataFrame",
       "ref": "a46c523f-2cc3-4d42-ba1a-ec15fc3a5837",
       "rows": [
        [
         "0",
         " - 2 - "
        ],
        [
         "1",
         "1. La fase de meseta del potencial de acción car- "
        ],
        [
         "2",
         "díaco: "
        ],
        [
         "3",
         "   "
        ],
        [
         "4",
         " 1. "
        ],
        [
         "5",
         " Es característica de las células del nodo sinu- "
        ],
        [
         "6",
         "sal. "
        ],
        [
         "7",
         " 2. "
        ],
        [
         "8",
         " Se origina por activación de canales de K +. "
        ],
        [
         "9",
         " 3.  Se debe a una conductancia al Na +  no inacti- "
        ]
       ],
       "shape": {
        "columns": 1,
        "rows": 10
       }
      },
      "text/html": [
       "<div>\n",
       "<style scoped>\n",
       "    .dataframe tbody tr th:only-of-type {\n",
       "        vertical-align: middle;\n",
       "    }\n",
       "\n",
       "    .dataframe tbody tr th {\n",
       "        vertical-align: top;\n",
       "    }\n",
       "\n",
       "    .dataframe thead th {\n",
       "        text-align: right;\n",
       "    }\n",
       "</style>\n",
       "<table border=\"1\" class=\"dataframe\">\n",
       "  <thead>\n",
       "    <tr style=\"text-align: right;\">\n",
       "      <th></th>\n",
       "      <th>text</th>\n",
       "    </tr>\n",
       "  </thead>\n",
       "  <tbody>\n",
       "    <tr>\n",
       "      <th>0</th>\n",
       "      <td>- 2 -</td>\n",
       "    </tr>\n",
       "    <tr>\n",
       "      <th>1</th>\n",
       "      <td>1. La fase de meseta del potencial de acción c...</td>\n",
       "    </tr>\n",
       "    <tr>\n",
       "      <th>2</th>\n",
       "      <td>díaco:</td>\n",
       "    </tr>\n",
       "    <tr>\n",
       "      <th>3</th>\n",
       "      <td></td>\n",
       "    </tr>\n",
       "    <tr>\n",
       "      <th>4</th>\n",
       "      <td>1.</td>\n",
       "    </tr>\n",
       "    <tr>\n",
       "      <th>5</th>\n",
       "      <td>Es característica de las células del nodo sinu-</td>\n",
       "    </tr>\n",
       "    <tr>\n",
       "      <th>6</th>\n",
       "      <td>sal.</td>\n",
       "    </tr>\n",
       "    <tr>\n",
       "      <th>7</th>\n",
       "      <td>2.</td>\n",
       "    </tr>\n",
       "    <tr>\n",
       "      <th>8</th>\n",
       "      <td>Se origina por activación de canales de K +.</td>\n",
       "    </tr>\n",
       "    <tr>\n",
       "      <th>9</th>\n",
       "      <td>3.  Se debe a una conductancia al Na +  no in...</td>\n",
       "    </tr>\n",
       "  </tbody>\n",
       "</table>\n",
       "</div>"
      ],
      "text/plain": [
       "                                                text\n",
       "0                                             - 2 - \n",
       "1  1. La fase de meseta del potencial de acción c...\n",
       "2                                            díaco: \n",
       "3                                                   \n",
       "4                                                1. \n",
       "5   Es característica de las células del nodo sinu- \n",
       "6                                              sal. \n",
       "7                                                2. \n",
       "8      Se origina por activación de canales de K +. \n",
       "9   3.  Se debe a una conductancia al Na +  no in..."
      ]
     },
     "execution_count": 4,
     "metadata": {},
     "output_type": "execute_result"
    }
   ],
   "source": [
    "path: str = f\"../data/raw/type_2/Raw_Cuaderno_{year}_{topic}_0_C.pdf\"\n",
    "with PdfReader(path) as pdf_file:\n",
    "    full_text: list = []\n",
    "    for n in range(1, len(pdf_file.pages)):\n",
    "        page = pdf_file.pages[n]\n",
    "        text: str = page.extract_text()\n",
    "        full_text.extend(text.splitlines())\n",
    "raw_exam_df: pd.DataFrame = pd.DataFrame(full_text, columns=[\"text\"])\n",
    "raw_exam_df.head(10)"
   ]
  },
  {
   "cell_type": "markdown",
   "metadata": {
    "id": "IBhc5aFQ8Jo6"
   },
   "source": [
    "## Extracting Answers from .tsv file into a DataFrame"
   ]
  },
  {
   "cell_type": "markdown",
   "metadata": {},
   "source": [
    "This section focuses on extracting the answer key data from the provided .tsv file and loading it into a Pandas DataFrame.\n",
    "\n",
    "**Path Definition and Data Loading:**\n",
    "\n",
    "The path to the .tsv file is dynamically constructed using the `year` and `topic` variables, mirroring the approach used for the PDF file. This ensures consistency and flexibility in processing different exam files. \n",
    "\n",
    "The `pd.read_table()` function is then used to read the .tsv file directly into a Pandas DataFrame. Finally, the first 10 rows of the resulting DataFrame are displayed for a quick preview of the loaded data."
   ]
  },
  {
   "cell_type": "code",
   "execution_count": 5,
   "metadata": {
    "colab": {
     "base_uri": "https://localhost:8080/",
     "height": 206
    },
    "id": "O1ouB9mQ8Jo7",
    "outputId": "70b7615d-9c90-4f2d-b9e1-a5c86b507ef6"
   },
   "outputs": [
    {
     "data": {
      "application/vnd.microsoft.datawrangler.viewer.v0+json": {
       "columns": [
        {
         "name": "index",
         "rawType": "int64",
         "type": "integer"
        },
        {
         "name": "0",
         "rawType": "int64",
         "type": "integer"
        },
        {
         "name": "1",
         "rawType": "object",
         "type": "string"
        },
        {
         "name": "2",
         "rawType": "object",
         "type": "string"
        },
        {
         "name": "3",
         "rawType": "int64",
         "type": "integer"
        },
        {
         "name": "4",
         "rawType": "object",
         "type": "string"
        },
        {
         "name": "5",
         "rawType": "object",
         "type": "string"
        },
        {
         "name": "6",
         "rawType": "object",
         "type": "string"
        },
        {
         "name": "7",
         "rawType": "float64",
         "type": "float"
        },
        {
         "name": "8",
         "rawType": "float64",
         "type": "float"
        },
        {
         "name": "9",
         "rawType": "object",
         "type": "string"
        }
       ],
       "conversionMethod": "pd.DataFrame",
       "ref": "bffd63aa-09ab-434e-86c3-43d9f4f6fecb",
       "rows": [
        [
         "0",
         "1",
         "2",
         "3",
         "4",
         "5",
         "6",
         "7",
         "8.0",
         "9.0",
         "10"
        ],
        [
         "1",
         "4",
         "4",
         "4",
         "1",
         "1",
         "2",
         "4",
         "4.0",
         "5.0",
         "5"
        ],
        [
         "2",
         "21",
         "22",
         "23",
         "24",
         "25",
         "26",
         "27",
         "28.0",
         "29.0",
         "30"
        ],
        [
         "3",
         "5",
         "3",
         "2",
         "2",
         "5",
         "1",
         "5",
         "1.0",
         "4.0",
         "1"
        ],
        [
         "4",
         "41",
         "42",
         "43",
         "44",
         "45",
         "46",
         "47",
         "48.0",
         "49.0",
         "50"
        ],
        [
         "5",
         "4",
         "2",
         "1",
         "5",
         "2",
         "1",
         "A",
         "3.0",
         "4.0",
         "3"
        ],
        [
         "6",
         "61",
         "62",
         "63",
         "64",
         "65",
         "66",
         "67",
         "68.0",
         "69.0",
         "70"
        ],
        [
         "7",
         "3",
         "A",
         "3",
         "4",
         "2",
         "3",
         "1",
         "2.0",
         "3.0",
         "1"
        ],
        [
         "8",
         "81",
         "82",
         "83",
         "84",
         "85",
         "86",
         "87",
         "88.0",
         "89.0",
         "90"
        ],
        [
         "9",
         "4",
         "1",
         "3",
         "4",
         "1",
         "1",
         "3",
         "1.0",
         "1.0",
         "1"
        ]
       ],
       "shape": {
        "columns": 10,
        "rows": 10
       }
      },
      "text/html": [
       "<div>\n",
       "<style scoped>\n",
       "    .dataframe tbody tr th:only-of-type {\n",
       "        vertical-align: middle;\n",
       "    }\n",
       "\n",
       "    .dataframe tbody tr th {\n",
       "        vertical-align: top;\n",
       "    }\n",
       "\n",
       "    .dataframe thead th {\n",
       "        text-align: right;\n",
       "    }\n",
       "</style>\n",
       "<table border=\"1\" class=\"dataframe\">\n",
       "  <thead>\n",
       "    <tr style=\"text-align: right;\">\n",
       "      <th></th>\n",
       "      <th>0</th>\n",
       "      <th>1</th>\n",
       "      <th>2</th>\n",
       "      <th>3</th>\n",
       "      <th>4</th>\n",
       "      <th>5</th>\n",
       "      <th>6</th>\n",
       "      <th>7</th>\n",
       "      <th>8</th>\n",
       "      <th>9</th>\n",
       "    </tr>\n",
       "  </thead>\n",
       "  <tbody>\n",
       "    <tr>\n",
       "      <th>0</th>\n",
       "      <td>1</td>\n",
       "      <td>2</td>\n",
       "      <td>3</td>\n",
       "      <td>4</td>\n",
       "      <td>5</td>\n",
       "      <td>6</td>\n",
       "      <td>7</td>\n",
       "      <td>8.0</td>\n",
       "      <td>9.0</td>\n",
       "      <td>10</td>\n",
       "    </tr>\n",
       "    <tr>\n",
       "      <th>1</th>\n",
       "      <td>4</td>\n",
       "      <td>4</td>\n",
       "      <td>4</td>\n",
       "      <td>1</td>\n",
       "      <td>1</td>\n",
       "      <td>2</td>\n",
       "      <td>4</td>\n",
       "      <td>4.0</td>\n",
       "      <td>5.0</td>\n",
       "      <td>5</td>\n",
       "    </tr>\n",
       "    <tr>\n",
       "      <th>2</th>\n",
       "      <td>21</td>\n",
       "      <td>22</td>\n",
       "      <td>23</td>\n",
       "      <td>24</td>\n",
       "      <td>25</td>\n",
       "      <td>26</td>\n",
       "      <td>27</td>\n",
       "      <td>28.0</td>\n",
       "      <td>29.0</td>\n",
       "      <td>30</td>\n",
       "    </tr>\n",
       "    <tr>\n",
       "      <th>3</th>\n",
       "      <td>5</td>\n",
       "      <td>3</td>\n",
       "      <td>2</td>\n",
       "      <td>2</td>\n",
       "      <td>5</td>\n",
       "      <td>1</td>\n",
       "      <td>5</td>\n",
       "      <td>1.0</td>\n",
       "      <td>4.0</td>\n",
       "      <td>1</td>\n",
       "    </tr>\n",
       "    <tr>\n",
       "      <th>4</th>\n",
       "      <td>41</td>\n",
       "      <td>42</td>\n",
       "      <td>43</td>\n",
       "      <td>44</td>\n",
       "      <td>45</td>\n",
       "      <td>46</td>\n",
       "      <td>47</td>\n",
       "      <td>48.0</td>\n",
       "      <td>49.0</td>\n",
       "      <td>50</td>\n",
       "    </tr>\n",
       "    <tr>\n",
       "      <th>5</th>\n",
       "      <td>4</td>\n",
       "      <td>2</td>\n",
       "      <td>1</td>\n",
       "      <td>5</td>\n",
       "      <td>2</td>\n",
       "      <td>1</td>\n",
       "      <td>A</td>\n",
       "      <td>3.0</td>\n",
       "      <td>4.0</td>\n",
       "      <td>3</td>\n",
       "    </tr>\n",
       "    <tr>\n",
       "      <th>6</th>\n",
       "      <td>61</td>\n",
       "      <td>62</td>\n",
       "      <td>63</td>\n",
       "      <td>64</td>\n",
       "      <td>65</td>\n",
       "      <td>66</td>\n",
       "      <td>67</td>\n",
       "      <td>68.0</td>\n",
       "      <td>69.0</td>\n",
       "      <td>70</td>\n",
       "    </tr>\n",
       "    <tr>\n",
       "      <th>7</th>\n",
       "      <td>3</td>\n",
       "      <td>A</td>\n",
       "      <td>3</td>\n",
       "      <td>4</td>\n",
       "      <td>2</td>\n",
       "      <td>3</td>\n",
       "      <td>1</td>\n",
       "      <td>2.0</td>\n",
       "      <td>3.0</td>\n",
       "      <td>1</td>\n",
       "    </tr>\n",
       "    <tr>\n",
       "      <th>8</th>\n",
       "      <td>81</td>\n",
       "      <td>82</td>\n",
       "      <td>83</td>\n",
       "      <td>84</td>\n",
       "      <td>85</td>\n",
       "      <td>86</td>\n",
       "      <td>87</td>\n",
       "      <td>88.0</td>\n",
       "      <td>89.0</td>\n",
       "      <td>90</td>\n",
       "    </tr>\n",
       "    <tr>\n",
       "      <th>9</th>\n",
       "      <td>4</td>\n",
       "      <td>1</td>\n",
       "      <td>3</td>\n",
       "      <td>4</td>\n",
       "      <td>1</td>\n",
       "      <td>1</td>\n",
       "      <td>3</td>\n",
       "      <td>1.0</td>\n",
       "      <td>1.0</td>\n",
       "      <td>1</td>\n",
       "    </tr>\n",
       "  </tbody>\n",
       "</table>\n",
       "</div>"
      ],
      "text/plain": [
       "    0   1   2   3   4   5   6     7     8   9\n",
       "0   1   2   3   4   5   6   7   8.0   9.0  10\n",
       "1   4   4   4   1   1   2   4   4.0   5.0   5\n",
       "2  21  22  23  24  25  26  27  28.0  29.0  30\n",
       "3   5   3   2   2   5   1   5   1.0   4.0   1\n",
       "4  41  42  43  44  45  46  47  48.0  49.0  50\n",
       "5   4   2   1   5   2   1   A   3.0   4.0   3\n",
       "6  61  62  63  64  65  66  67  68.0  69.0  70\n",
       "7   3   A   3   4   2   3   1   2.0   3.0   1\n",
       "8  81  82  83  84  85  86  87  88.0  89.0  90\n",
       "9   4   1   3   4   1   1   3   1.0   1.0   1"
      ]
     },
     "execution_count": 5,
     "metadata": {},
     "output_type": "execute_result"
    }
   ],
   "source": [
    "raw_answers_df: pd.DataFrame = pd.read_table(f\"../data/raw/type_2/Raw_Cuaderno_{year}_{topic}_0_C_Respuestas.txt\", sep= \" \", header=None)\n",
    "raw_answers_df.head(10)"
   ]
  },
  {
   "cell_type": "markdown",
   "metadata": {
    "id": "uFFlTADP8Jo7"
   },
   "source": [
    "# Data Transformation"
   ]
  },
  {
   "cell_type": "markdown",
   "metadata": {},
   "source": [
    "## Exam pdf"
   ]
  },
  {
   "cell_type": "markdown",
   "metadata": {},
   "source": [
    "### Removing white space"
   ]
  },
  {
   "cell_type": "markdown",
   "metadata": {
    "id": "2QavIIOK8Jo7"
   },
   "source": [
    "This section focuses on cleaning the raw text extracted from the PDF exam file, preparing it for further processing. This involves removing extraneous whitespace, handling empty lines, and resetting the DataFrame index.\n",
    "\n",
    "**1. Removing Page Number Artifacts:**\n",
    "\n",
    "The extracted text may contain page number artifacts, which are removed by filtering out rows containing the string \"Página\"."
   ]
  },
  {
   "cell_type": "code",
   "execution_count": 6,
   "metadata": {},
   "outputs": [],
   "source": [
    "raw_exam_df = raw_exam_df[~raw_exam_df[\"text\"].str.contains(\"Página\")]\n",
    "raw_exam_df = raw_exam_df[~raw_exam_df[\"text\"].str.contains(\"Pagina\")]\n",
    "\n",
    "footer_list: list = [f\"- {npag} -\" for npag in range(0,30,1)]\n",
    "\n",
    "for footer in footer_list:\n",
    "    raw_exam_df[\"text\"] = raw_exam_df[\"text\"].str.replace(footer, \"\")"
   ]
  },
  {
   "cell_type": "markdown",
   "metadata": {},
   "source": [
    "**2. Striping Leading/Trailing Whitespaces**\n",
    "\n",
    "Leading and trailing whitespace characters are removed from each text entry using the .str.strip() method."
   ]
  },
  {
   "cell_type": "code",
   "execution_count": 7,
   "metadata": {},
   "outputs": [],
   "source": [
    "raw_exam_df = raw_exam_df[\"text\"].str.strip()"
   ]
  },
  {
   "cell_type": "markdown",
   "metadata": {},
   "source": [
    "**3. Handling Empty Lines**\n",
    "\n",
    "Empty lines, represented as empty strings, are replaced with NaN (Not a Number) values. \n",
    "\n",
    "Then rows containing NaN values, representing empty lines, are removed from the DataFrame using .dropna()"
   ]
  },
  {
   "cell_type": "code",
   "execution_count": 8,
   "metadata": {},
   "outputs": [],
   "source": [
    "raw_exam_df = raw_exam_df.replace(\"\", np.nan)\n",
    "raw_exam_df = raw_exam_df.dropna()"
   ]
  },
  {
   "cell_type": "markdown",
   "metadata": {},
   "source": [
    "**4. Reseting DataFrame Index**\n",
    "\n",
    "The DataFrame index is reset after removing rows, ensuring a contiguous index and dropping the old index."
   ]
  },
  {
   "cell_type": "code",
   "execution_count": 9,
   "metadata": {},
   "outputs": [],
   "source": [
    "raw_exam_df = raw_exam_df.reset_index(drop=True)"
   ]
  },
  {
   "cell_type": "markdown",
   "metadata": {},
   "source": [
    "**5. Displays the first 10 rows of the DataFrame**"
   ]
  },
  {
   "cell_type": "code",
   "execution_count": 10,
   "metadata": {},
   "outputs": [
    {
     "data": {
      "text/plain": [
       "0    1. La fase de meseta del potencial de acción car-\n",
       "1                                               díaco:\n",
       "2                                                   1.\n",
       "3      Es característica de las células del nodo sinu-\n",
       "4                                                 sal.\n",
       "5                                                   2.\n",
       "6         Se origina por activación de canales de K +.\n",
       "7    3.  Se debe a una conductancia al Na +  no ina...\n",
       "8                                               vante.\n",
       "9    4.  Se origina por activación de canales de Ca...\n",
       "Name: text, dtype: object"
      ]
     },
     "execution_count": 10,
     "metadata": {},
     "output_type": "execute_result"
    }
   ],
   "source": [
    "raw_exam_df.head(10)"
   ]
  },
  {
   "cell_type": "markdown",
   "metadata": {},
   "source": [
    "### Joining Truncated Lines"
   ]
  },
  {
   "cell_type": "markdown",
   "metadata": {},
   "source": [
    "This section addresses the issue of truncated lines and multi-line questions or options within the extracted exam text. A custom function, `process_multi_line_str`, is used to concatenate these lines, ensuring that each question and option is presented as a single, coherent string.\n",
    "\n",
    "**Function: `process_multi_line_str(df)`**\n",
    "\n",
    "This function iterates through the DataFrame, performing two main tasks:\n",
    "\n",
    "1.  **Joining Truncated Words:**\n",
    "    * It checks if a line ends with a hyphen (\"-\"), indicating a word that has been truncated at the end of a line.\n",
    "    * If a line is truncated, it removes the hyphen and appends the content of the following line to the current line.\n",
    "    * The following line is then removed from the DataFrame, and the index is reset.\n",
    "\n",
    "2.  **Joining Multi-Line Questions/Options:**\n",
    "    * It checks if the first character of the next line can be converted to an integer. This is used as a heuristic to identify the start of a new question or option.\n",
    "    * If the next line does not start with an integer (i.e., it's a continuation of the current question or option), it is appended to the current line, separated by a space.\n",
    "    * The next line is then removed, and the index is reset."
   ]
  },
  {
   "cell_type": "code",
   "execution_count": 11,
   "metadata": {
    "id": "rYZHjn_C8Jo8"
   },
   "outputs": [],
   "source": [
    "def process_multi_line_str(df: pd.DataFrame) -> pd.DataFrame:\n",
    "    \"\"\"Function to handle truncated lines\n",
    "\n",
    "    Args:\n",
    "        df (pd.DataFrame): A pandas dataframe\n",
    "\n",
    "    Returns:\n",
    "        pd.DataFrame: Returns the DataFrame without truncated lines\n",
    "    \"\"\"\n",
    "    i: int = 0\n",
    "    while i < len(df) - 1:\n",
    "        if i < len(df) -1  and df.iloc[i].endswith(\"-\"):\n",
    "            df.iloc[i] = df.iloc[i][:-1] + df.iloc[i + 1]\n",
    "            df = df.drop(i + 1)\n",
    "            df = df.reset_index(drop=True)\n",
    "        else:\n",
    "            i += 1\n",
    "    n: int = 0\n",
    "    while n < len(df) -1:\n",
    "        if n + 1 < len(df):\n",
    "            try:\n",
    "                int(df.iloc[n + 1][0:1])\n",
    "                n += 1\n",
    "            except ValueError:\n",
    "                df.iloc[n] = df.iloc[n] + \" \" + df.iloc[n + 1]\n",
    "                df = df.drop(n +1)\n",
    "                df = df.reset_index(drop= True)\n",
    "        else:\n",
    "            break\n",
    "    return df"
   ]
  },
  {
   "cell_type": "markdown",
   "metadata": {},
   "source": [
    "The process_multi_line_str function is applied to the cleaned raw_exam_df DataFrame, and the resulting DataFrame is stored in exam_df_concat. The first few rows of the concatenated DataFrame are displayed to verify the results."
   ]
  },
  {
   "cell_type": "code",
   "execution_count": 12,
   "metadata": {
    "colab": {
     "base_uri": "https://localhost:8080/",
     "height": 206
    },
    "id": "2v6dmQuM8_v1",
    "outputId": "215f5328-a43d-4bbb-f221-fba6fc10a5c1"
   },
   "outputs": [
    {
     "data": {
      "text/plain": [
       "0    1. La fase de meseta del potencial de acción c...\n",
       "1    1. Es característica de las células del nodo s...\n",
       "2      2. Se origina por activación de canales de K +.\n",
       "3    3.  Se debe a una conductancia al Na +  no ina...\n",
       "4    4.  Se origina por activación de canales de Ca...\n",
       "5    5.  Está medida por la inactivación de canales...\n",
       "6                        2. Una solución 50 mM de CaCl\n",
       "7                        2 es isoosmótica con otra de:\n",
       "8                                                   1.\n",
       "9                                          50 mM NaCl.\n",
       "Name: text, dtype: object"
      ]
     },
     "execution_count": 12,
     "metadata": {},
     "output_type": "execute_result"
    }
   ],
   "source": [
    "exam_df_concat: pd.DataFrame = process_multi_line_str(raw_exam_df)\n",
    "exam_df_concat.head(10)"
   ]
  },
  {
   "cell_type": "markdown",
   "metadata": {},
   "source": [
    "### Validating and Correction Incorrect Rows"
   ]
  },
  {
   "cell_type": "markdown",
   "metadata": {},
   "source": [
    "This section focuses on validating the number of rows in the cleaned DataFrame against the expected number and correcting any rows that do not conform to the expected format.\n",
    "\n",
    "**1. Calculating Expected and Actual Incorrect Rows:**\n",
    "\n",
    "We calculate the expected number of incorrect rows by subtracting the total expected rows from the current number of rows in the DataFrame. We then identify the actual number of incorrect rows by counting the rows that do not end with a period (\".\"), a colon (\":\") or interrogation sign (\"?\")."
   ]
  },
  {
   "cell_type": "code",
   "execution_count": 13,
   "metadata": {},
   "outputs": [
    {
     "name": "stdout",
     "output_type": "stream",
     "text": [
      "Number of expected incorrect rows = 20\n",
      "Number of rows not ending with '.', ':' or '?' = 14\n",
      "[6, 77, 116, 338, 344, 405, 1048, 1143, 1145, 1239, 1241, 1258, 1327, 1329]\n"
     ]
    }
   ],
   "source": [
    "num_rows_incorrect_expected: int = len(exam_df_concat) - total_num_rows\n",
    "num_rows_incorrect: int = exam_df_concat[~exam_df_concat.str.endswith((\".\", \":\", \"?\"))].count()\n",
    "id_rows_incorrect: list = exam_df_concat[~exam_df_concat.str.endswith((\".\", \":\", \"?\"))].index.to_list()\n",
    "print(f\"Number of expected incorrect rows = {num_rows_incorrect_expected}\")\n",
    "print(f\"Number of rows not ending with '.', ':' or '?' = {num_rows_incorrect}\")\n",
    "print(id_rows_incorrect)"
   ]
  },
  {
   "cell_type": "markdown",
   "metadata": {},
   "source": [
    "**2. Function: print_rows_incorrrect(wrong_id, df):**\n",
    "\n",
    "This function takes a list of incorrect row indices and the DataFrame as input. It then prints the row identified as incorrect along with the 2 rows before and 2 rows after, providing context to help determine how to fix the error."
   ]
  },
  {
   "cell_type": "code",
   "execution_count": 14,
   "metadata": {},
   "outputs": [],
   "source": [
    "def print_rows_incorrrect(wrong_id: list[int], df: pd.DataFrame) -> None:\n",
    "    \"\"\"Print +/- 2 rows for context\n",
    "\n",
    "    Args:\n",
    "        wrong_id (list): Generated list of wrong row_id\n",
    "        df (pd.DataFrame): DataFrame corresponding with the worng_id list\n",
    "    \"\"\"\n",
    "    for wid in wrong_id:\n",
    "        print(f\"Id to fix {wid}:\")\n",
    "        print(df.iloc[wid -2: wid +3])"
   ]
  },
  {
   "cell_type": "markdown",
   "metadata": {},
   "source": [
    "**3. Function: fix_incorrect(num_row, df):**\n",
    "\n",
    "This function takes a list of row indices to fix and the DataFrame. It iterates through the indices in reverse order to avoid index shifting problems. Each incorrect row is concatenated with the row immediately following it, and the subsequent row is then dropped. The DataFrame index is reset after each concatenation."
   ]
  },
  {
   "cell_type": "code",
   "execution_count": 15,
   "metadata": {},
   "outputs": [],
   "source": [
    "def fix_incorrect(num_row: list[int], df: pd.DataFrame) -> pd.DataFrame:\n",
    "    \"\"\"Fix the incorrect rows in the DataFrame\n",
    "\n",
    "    Args:\n",
    "        num_row (list): List of ids to fix\n",
    "        df (pd.DataFrame): The DataFrame to fix\n",
    "\n",
    "    Returns:\n",
    "        pd.DataFrame: Fixed\n",
    "    \"\"\"\n",
    "    num_row: list = sorted(num_row, reverse=True)\n",
    "    for n in num_row:\n",
    "        df.iloc[n] = df.iloc[n] + df.iloc[n + 1]\n",
    "        df = df.drop(n + 1)\n",
    "        df = df.reset_index(drop= True)\n",
    "    return df"
   ]
  },
  {
   "cell_type": "markdown",
   "metadata": {},
   "source": [
    "**4. Validation and Correction Logic:**\n",
    "\n",
    "We compare the expected and actual number of incorrect rows. If they match, we proceed to fix the incorrect rows using the `fix_incorrect` function. Otherwise, we print the context of the incorrect rows and raise a warning, indicating that manual inspection and correction are required."
   ]
  },
  {
   "cell_type": "code",
   "execution_count": 22,
   "metadata": {},
   "outputs": [
    {
     "name": "stdout",
     "output_type": "stream",
     "text": [
      "Id to fix 6:\n",
      "4    4.  Se origina por activación de canales de Ca...\n",
      "5    5.  Está medida por la inactivación de canales...\n",
      "6                        2. Una solución 50 mM de CaCl\n",
      "7                        2 es isoosmótica con otra de:\n",
      "8                                                   1.\n",
      "Name: text, dtype: object\n",
      "Id to fix 77:\n",
      "75               1. Son terminaciones nerviosas libres.\n",
      "76    2.  Están inervados por fibras mielínicas de g...\n",
      "77       3. Responden a cambios térmico entre 20 y 40ºC\n",
      "78         4.  Su proteína receptora es la transducina.\n",
      "79                          5.  Son receptores fásicos.\n",
      "Name: text, dtype: object\n",
      "Id to fix 116:\n",
      "114                    4.  La libera la mucosa duodenal.\n",
      "115                  5.  Inhibe el esfínter íleco-cecal.\n",
      "116    20. La principal hormona implicada en la secre...\n",
      "117                                             3 -  es:\n",
      "118                                  1. Colecistocinina.\n",
      "Name: text, dtype: object\n",
      "Id to fix 338:\n",
      "336                            3.  La secreción celular.\n",
      "337                      4.  El empaquetamiento del DNA.\n",
      "338                                 5.  La transcripción\n",
      "339    57. Las glucoproteínas que rodea la membrana p...\n",
      "340                                   1. Membrana basal.\n",
      "Name: text, dtype: object\n",
      "Id to fix 344:\n",
      "342            3.  Lámina basal.\n",
      "343           4.  Zona pelúcida.\n",
      "344     5.  Membrana de Descemet\n",
      "345    58. El epitelio urinario:\n",
      "346          1. Cilíndrico alto.\n",
      "Name: text, dtype: object\n",
      "Id to fix 405:\n",
      "403                4.  Fagocitosis.\n",
      "404                  5.  Apoptosis.\n",
      "405             68. La ATPasa de Ca\n",
      "406    2+  está en la membrana del:\n",
      "407              1. Núcleo celular.\n",
      "Name: text, dtype: object\n",
      "Id to fix 1048:\n",
      "1046                                              3.  34.\n",
      "1047                                              4.  32.\n",
      "1048                                               5.  42\n",
      "1049    174. ¿Cuántas moléculas de ADN contiene una cé...\n",
      "1050                                                   1.\n",
      "Name: text, dtype: object\n",
      "Id to fix 1143:\n",
      "1141    1. La glucólisis hepática suministra glucosa a...\n",
      "1142    2. La ruta de los fosfatos de pentosa suminist...\n",
      "1143    3. La degradación de ác. Grasos suministra ene...\n",
      "1144                                                   2.\n",
      "1145    4.  La función del ciclo del ácido cítrico es ...\n",
      "Name: text, dtype: object\n",
      "Id to fix 1145:\n",
      "1143    3. La degradación de ác. Grasos suministra ene...\n",
      "1144                                                   2.\n",
      "1145    4.  La función del ciclo del ácido cítrico es ...\n",
      "1146                              2 en forma de azúcares.\n",
      "1147    5.  La función de la gluconeogénesis es la for...\n",
      "Name: text, dtype: object\n",
      "Id to fix 1239:\n",
      "1237         5. En ambas abundan los residuos de prolina.\n",
      "1238                       205. El 2,3 bisfosfoglicerato:\n",
      "1239    1. Disminuye la afinidad de la mioglobina por ...\n",
      "1240                                                   2.\n",
      "1241    2.  Aumenta la afinidad de la hemoglobina por ...\n",
      "Name: text, dtype: object\n",
      "Id to fix 1241:\n",
      "1239    1. Disminuye la afinidad de la mioglobina por ...\n",
      "1240                                                   2.\n",
      "1241    2.  Aumenta la afinidad de la hemoglobina por ...\n",
      "1242                                                   2.\n",
      "1243                   3.  Se una a la desoxihemoglobina.\n",
      "Name: text, dtype: object\n",
      "Id to fix 1258:\n",
      "1256    4. Son la mayoría de los que intervienen en un...\n",
      "1257    5. Suelen estar controlados por varios mecanis...\n",
      "1258            208. Si la secuencia de la hebra molde es\n",
      "1259    5´ATTGCCATT3´, la secuencia correspondiente a ...\n",
      "1260                                        1. AATGGCAAT.\n",
      "Name: text, dtype: object\n",
      "Id to fix 1327:\n",
      "1325                            5.  Fosforilasa muscular.\n",
      "1326                   219. El dióxido de carbono (CO 2):\n",
      "1327     1. Aumenta la afinidad de la mioglobina por el O\n",
      "1328                                                   2.\n",
      "1329    2.  Aumenta la afinidad de la hemoglobina por ...\n",
      "Name: text, dtype: object\n",
      "Id to fix 1329:\n",
      "1327     1. Aumenta la afinidad de la mioglobina por el O\n",
      "1328                                                   2.\n",
      "1329    2.  Aumenta la afinidad de la hemoglobina por ...\n",
      "1330                                                   2.\n",
      "1331    3.  Se   une   a  la  hemoglobina  en  los gru...\n",
      "Name: text, dtype: object\n"
     ]
    }
   ],
   "source": [
    "if num_rows_incorrect_expected == num_rows_incorrect:\n",
    "    exam_df_fixed = fix_incorrect(id_rows_incorrect, exam_df_concat)\n",
    "    df_correct_rows: bool = len(exam_df_fixed) == num_rows_incorrect_expected\n",
    "else:\n",
    "    print_rows_incorrrect(id_rows_incorrect, exam_df_concat)\n",
    "    # raise Warning(\"More incorrect rows that expected, uncomment the lines below and add ids to the list, and comment this line\")\n",
    "    rows_fix: list[int] = [6, 8, 116, 405, 557, 882, 967, 980, 993, 1030, 1043, 1050, 1143, 1145,1239, 1241, 1258, 1271, 1327, 1329]\n",
    "    exam_df_fixed: pd.DataFrame = fix_incorrect(rows_fix, exam_df_concat)"
   ]
  },
  {
   "cell_type": "markdown",
   "metadata": {},
   "source": [
    "**5. Verification of Corrected Rows:**\n",
    "\n",
    "We print the expected total number of rows and the actual number of rows in the corrected DataFrame to verify the results of the correction process.\n",
    "\n",
    "If the number is diferent it raises a Warning"
   ]
  },
  {
   "cell_type": "code",
   "execution_count": 23,
   "metadata": {},
   "outputs": [
    {
     "name": "stdout",
     "output_type": "stream",
     "text": [
      "Correct number of rows = 1410\n",
      "Number of rows in df = 1410\n"
     ]
    }
   ],
   "source": [
    "print(f\"Correct number of rows = {total_num_rows}\\nNumber of rows in df = {exam_df_fixed.shape[0]}\")\n",
    "if total_num_rows != exam_df_fixed.shape[0]:\n",
    "    raise Warning(\"More or Less rows than expected\")"
   ]
  },
  {
   "cell_type": "markdown",
   "metadata": {},
   "source": [
    "### Pivoting the DataFrame\n",
    "\n",
    "This section focuses on transforming the cleaned exam data into a structured format suitable for analysis. The DataFrame is pivoted to create columns for each question and its corresponding options.\n",
    "\n",
    "**1. Preparing the DataFrame for Pivoting:**\n",
    "\n",
    "The `exam_df_fixed` Series is converted to a DataFrame, and a 'group' column is created to identify each question and its options. An 'option_num' column is then generated to enumerate the options within each group.\n"
   ]
  },
  {
   "cell_type": "code",
   "execution_count": 24,
   "metadata": {},
   "outputs": [],
   "source": [
    "exam_df_fixed = exam_df_fixed.to_frame()\n",
    "groups: pd.Series = pd.Series((exam_df_fixed.index // (num_questions+1)) +1)\n",
    "exam_df_fixed[\"group\"] = groups  \n",
    "exam_df_fixed[\"option_num\"] = exam_df_fixed.groupby(\"group\").cumcount() + 1"
   ]
  },
  {
   "cell_type": "markdown",
   "metadata": {},
   "source": [
    "**2. Pivoting the DataFrame:**\n",
    "\n",
    "The DataFrame is pivoted using the 'group' column as the index, the 'option_num' column as the columns, and the 'text' column as the values. The index is then reset."
   ]
  },
  {
   "cell_type": "code",
   "execution_count": 25,
   "metadata": {},
   "outputs": [],
   "source": [
    "exam_df_pivot: pd.DataFrame = exam_df_fixed.pivot(index=\"group\", columns=\"option_num\", values=\"text\")\n",
    "exam_df_pivot = exam_df_pivot.reset_index()"
   ]
  },
  {
   "cell_type": "markdown",
   "metadata": {},
   "source": [
    "**3. Renaming Columns:**\n",
    "\n",
    "The columns are renamed to more descriptive names, such as \"Question\", \"Option_1\", \"Option_2\", etc."
   ]
  },
  {
   "cell_type": "code",
   "execution_count": 26,
   "metadata": {},
   "outputs": [],
   "source": [
    "key_list: list = [x for x in range(1, num_questions+2, 1)]\n",
    "val_list: list = [\"Question\"] + [f\"Option_{x}\" for x in range(1, num_questions + 1, 1)]\n",
    "\n",
    "exam_df_pivot = exam_df_pivot.rename_axis(None, axis=1).rename(columns=dict(zip(key_list, val_list)))"
   ]
  },
  {
   "cell_type": "markdown",
   "metadata": {},
   "source": [
    "**4. Dropping the 'group' Column:**\n",
    "\n",
    "The 'group' column is dropped as it is no longer needed"
   ]
  },
  {
   "cell_type": "code",
   "execution_count": 27,
   "metadata": {},
   "outputs": [],
   "source": [
    "exam_df_pivot = exam_df_pivot.drop(columns=[\"group\"])"
   ]
  },
  {
   "cell_type": "markdown",
   "metadata": {},
   "source": [
    "**5. Displaying the Pivoted DataFrame:**\n",
    "\n",
    "The first 10 rows of the pivoted DataFrame are displayed to verify the results of the transformation."
   ]
  },
  {
   "cell_type": "code",
   "execution_count": 28,
   "metadata": {},
   "outputs": [
    {
     "data": {
      "application/vnd.microsoft.datawrangler.viewer.v0+json": {
       "columns": [
        {
         "name": "index",
         "rawType": "int64",
         "type": "integer"
        },
        {
         "name": "Question",
         "rawType": "object",
         "type": "string"
        },
        {
         "name": "Option_1",
         "rawType": "object",
         "type": "string"
        },
        {
         "name": "Option_2",
         "rawType": "object",
         "type": "string"
        },
        {
         "name": "Option_3",
         "rawType": "object",
         "type": "string"
        },
        {
         "name": "Option_4",
         "rawType": "object",
         "type": "string"
        },
        {
         "name": "Option_5",
         "rawType": "object",
         "type": "string"
        }
       ],
       "conversionMethod": "pd.DataFrame",
       "ref": "6f1bffa2-25fb-4c75-a9c7-087fed99b884",
       "rows": [
        [
         "0",
         "1. La fase de meseta del potencial de acción cardíaco:",
         "1. Es característica de las células del nodo sinusal.",
         "2. Se origina por activación de canales de K +.",
         "3.  Se debe a una conductancia al Na +  no inactivante.",
         "4.  Se origina por activación de canales de Ca 2+ .",
         "5.  Está medida por la inactivación de canales de K +."
        ],
        [
         "1",
         "2. Una solución 50 mM de CaCl2 es isoosmótica con otra de:",
         "1.50 mM NaCl.",
         "2.  100 mM urea.",
         "3.  150 mM NaCl.",
         "4.  150 mM urea.",
         "5.  100 mM NaCl."
        ],
        [
         "2",
         "3. Las sinapsis eléctricas:",
         "1. Permiten sólo el paso de iones.",
         "2.  Presentan gran retardo sináptico.",
         "3.  Son unidireccionales.",
         "4.  Están medidas por conexones.",
         "5.  Están en la unión neuromuscular."
        ],
        [
         "3",
         "4. Permea Cl - el receptor:",
         "1. Glicinérgico.",
         "2.  Nicotínico.",
         "3.  Adrenérgico alfa.",
         "4.  Glutamatérgico tipo NMDA.",
         "5.  Glutamatérgico tipo AMPA."
        ],
        [
         "4",
         "5. La corteza motora primaria:",
         "1. Está en la circunvolución precental.",
         "2.  Evoca contracción de músculos ipsilaterales.",
         "3.  Sus principales eferencias directas son al cerebelo.",
         "4.  Recibe aferencias exclusivamente del área premotora.",
         "5.  Su lesión no impide realizar movimientos voluntarios."
        ],
        [
         "5",
         "6. Es un núcleo motor troncoencefálico:",
         "1. Putamen.",
         "2.  Núcleo rojo.",
         "3.  Fastigial.",
         "4.  Caudado.",
         "5.  Dentado."
        ],
        [
         "6",
         "7. En el reflejo tendinoso de Golgi se inhiben:",
         "1. Los órganos tendinosos de Golgi.",
         "2.  Las fibras aferentes Ia.",
         "3.  Las fibras aferentes Ib.",
         "4.  Las motoneuronas α.",
         "5.  Las motoneuronas γ."
        ],
        [
         "7",
         "8. Las fibras trepadoras de la corteza cerebelosa:",
         "1. Son inhibidoras.",
         "2.  Proceden de los núcleos pontinos.",
         "3.  Se proyectan en las células granulosas.",
         "4.  Sinaptan directamente con las células de Purkinje.",
         "5. Forman las fibras paralelas."
        ],
        [
         "8",
         "9. Los canales semicirculares, el utrículo y el sác ulo tienen en común:",
         "1. Presentar otolitos.",
         "2.  Detectar la aceleración lineal.",
         "3.  Detectar la aceleración angular.",
         "4.  Tener un extremo llamado ampolla.",
         "5.  Estar llenos de endolinfa."
        ],
        [
         "9",
         "10. Son amielínicas las fibras:",
         "1. A alfa.",
         "2.  A beta.",
         "3.  A gamma.",
         "4.  B.",
         "5.  C."
        ]
       ],
       "shape": {
        "columns": 6,
        "rows": 10
       }
      },
      "text/html": [
       "<div>\n",
       "<style scoped>\n",
       "    .dataframe tbody tr th:only-of-type {\n",
       "        vertical-align: middle;\n",
       "    }\n",
       "\n",
       "    .dataframe tbody tr th {\n",
       "        vertical-align: top;\n",
       "    }\n",
       "\n",
       "    .dataframe thead th {\n",
       "        text-align: right;\n",
       "    }\n",
       "</style>\n",
       "<table border=\"1\" class=\"dataframe\">\n",
       "  <thead>\n",
       "    <tr style=\"text-align: right;\">\n",
       "      <th></th>\n",
       "      <th>Question</th>\n",
       "      <th>Option_1</th>\n",
       "      <th>Option_2</th>\n",
       "      <th>Option_3</th>\n",
       "      <th>Option_4</th>\n",
       "      <th>Option_5</th>\n",
       "    </tr>\n",
       "  </thead>\n",
       "  <tbody>\n",
       "    <tr>\n",
       "      <th>0</th>\n",
       "      <td>1. La fase de meseta del potencial de acción c...</td>\n",
       "      <td>1. Es característica de las células del nodo s...</td>\n",
       "      <td>2. Se origina por activación de canales de K +.</td>\n",
       "      <td>3.  Se debe a una conductancia al Na +  no ina...</td>\n",
       "      <td>4.  Se origina por activación de canales de Ca...</td>\n",
       "      <td>5.  Está medida por la inactivación de canales...</td>\n",
       "    </tr>\n",
       "    <tr>\n",
       "      <th>1</th>\n",
       "      <td>2. Una solución 50 mM de CaCl2 es isoosmótica ...</td>\n",
       "      <td>1.50 mM NaCl.</td>\n",
       "      <td>2.  100 mM urea.</td>\n",
       "      <td>3.  150 mM NaCl.</td>\n",
       "      <td>4.  150 mM urea.</td>\n",
       "      <td>5.  100 mM NaCl.</td>\n",
       "    </tr>\n",
       "    <tr>\n",
       "      <th>2</th>\n",
       "      <td>3. Las sinapsis eléctricas:</td>\n",
       "      <td>1. Permiten sólo el paso de iones.</td>\n",
       "      <td>2.  Presentan gran retardo sináptico.</td>\n",
       "      <td>3.  Son unidireccionales.</td>\n",
       "      <td>4.  Están medidas por conexones.</td>\n",
       "      <td>5.  Están en la unión neuromuscular.</td>\n",
       "    </tr>\n",
       "    <tr>\n",
       "      <th>3</th>\n",
       "      <td>4. Permea Cl - el receptor:</td>\n",
       "      <td>1. Glicinérgico.</td>\n",
       "      <td>2.  Nicotínico.</td>\n",
       "      <td>3.  Adrenérgico alfa.</td>\n",
       "      <td>4.  Glutamatérgico tipo NMDA.</td>\n",
       "      <td>5.  Glutamatérgico tipo AMPA.</td>\n",
       "    </tr>\n",
       "    <tr>\n",
       "      <th>4</th>\n",
       "      <td>5. La corteza motora primaria:</td>\n",
       "      <td>1. Está en la circunvolución precental.</td>\n",
       "      <td>2.  Evoca contracción de músculos ipsilaterales.</td>\n",
       "      <td>3.  Sus principales eferencias directas son al...</td>\n",
       "      <td>4.  Recibe aferencias exclusivamente del área ...</td>\n",
       "      <td>5.  Su lesión no impide realizar movimientos v...</td>\n",
       "    </tr>\n",
       "    <tr>\n",
       "      <th>5</th>\n",
       "      <td>6. Es un núcleo motor troncoencefálico:</td>\n",
       "      <td>1. Putamen.</td>\n",
       "      <td>2.  Núcleo rojo.</td>\n",
       "      <td>3.  Fastigial.</td>\n",
       "      <td>4.  Caudado.</td>\n",
       "      <td>5.  Dentado.</td>\n",
       "    </tr>\n",
       "    <tr>\n",
       "      <th>6</th>\n",
       "      <td>7. En el reflejo tendinoso de Golgi se inhiben:</td>\n",
       "      <td>1. Los órganos tendinosos de Golgi.</td>\n",
       "      <td>2.  Las fibras aferentes Ia.</td>\n",
       "      <td>3.  Las fibras aferentes Ib.</td>\n",
       "      <td>4.  Las motoneuronas α.</td>\n",
       "      <td>5.  Las motoneuronas γ.</td>\n",
       "    </tr>\n",
       "    <tr>\n",
       "      <th>7</th>\n",
       "      <td>8. Las fibras trepadoras de la corteza cerebel...</td>\n",
       "      <td>1. Son inhibidoras.</td>\n",
       "      <td>2.  Proceden de los núcleos pontinos.</td>\n",
       "      <td>3.  Se proyectan en las células granulosas.</td>\n",
       "      <td>4.  Sinaptan directamente con las células de P...</td>\n",
       "      <td>5. Forman las fibras paralelas.</td>\n",
       "    </tr>\n",
       "    <tr>\n",
       "      <th>8</th>\n",
       "      <td>9. Los canales semicirculares, el utrículo y e...</td>\n",
       "      <td>1. Presentar otolitos.</td>\n",
       "      <td>2.  Detectar la aceleración lineal.</td>\n",
       "      <td>3.  Detectar la aceleración angular.</td>\n",
       "      <td>4.  Tener un extremo llamado ampolla.</td>\n",
       "      <td>5.  Estar llenos de endolinfa.</td>\n",
       "    </tr>\n",
       "    <tr>\n",
       "      <th>9</th>\n",
       "      <td>10. Son amielínicas las fibras:</td>\n",
       "      <td>1. A alfa.</td>\n",
       "      <td>2.  A beta.</td>\n",
       "      <td>3.  A gamma.</td>\n",
       "      <td>4.  B.</td>\n",
       "      <td>5.  C.</td>\n",
       "    </tr>\n",
       "  </tbody>\n",
       "</table>\n",
       "</div>"
      ],
      "text/plain": [
       "                                            Question  \\\n",
       "0  1. La fase de meseta del potencial de acción c...   \n",
       "1  2. Una solución 50 mM de CaCl2 es isoosmótica ...   \n",
       "2                        3. Las sinapsis eléctricas:   \n",
       "3                        4. Permea Cl - el receptor:   \n",
       "4                     5. La corteza motora primaria:   \n",
       "5            6. Es un núcleo motor troncoencefálico:   \n",
       "6    7. En el reflejo tendinoso de Golgi se inhiben:   \n",
       "7  8. Las fibras trepadoras de la corteza cerebel...   \n",
       "8  9. Los canales semicirculares, el utrículo y e...   \n",
       "9                    10. Son amielínicas las fibras:   \n",
       "\n",
       "                                            Option_1  \\\n",
       "0  1. Es característica de las células del nodo s...   \n",
       "1                                      1.50 mM NaCl.   \n",
       "2                 1. Permiten sólo el paso de iones.   \n",
       "3                                   1. Glicinérgico.   \n",
       "4            1. Está en la circunvolución precental.   \n",
       "5                                        1. Putamen.   \n",
       "6                1. Los órganos tendinosos de Golgi.   \n",
       "7                                1. Son inhibidoras.   \n",
       "8                             1. Presentar otolitos.   \n",
       "9                                         1. A alfa.   \n",
       "\n",
       "                                           Option_2  \\\n",
       "0   2. Se origina por activación de canales de K +.   \n",
       "1                                  2.  100 mM urea.   \n",
       "2             2.  Presentan gran retardo sináptico.   \n",
       "3                                   2.  Nicotínico.   \n",
       "4  2.  Evoca contracción de músculos ipsilaterales.   \n",
       "5                                  2.  Núcleo rojo.   \n",
       "6                      2.  Las fibras aferentes Ia.   \n",
       "7             2.  Proceden de los núcleos pontinos.   \n",
       "8               2.  Detectar la aceleración lineal.   \n",
       "9                                       2.  A beta.   \n",
       "\n",
       "                                            Option_3  \\\n",
       "0  3.  Se debe a una conductancia al Na +  no ina...   \n",
       "1                                   3.  150 mM NaCl.   \n",
       "2                          3.  Son unidireccionales.   \n",
       "3                              3.  Adrenérgico alfa.   \n",
       "4  3.  Sus principales eferencias directas son al...   \n",
       "5                                     3.  Fastigial.   \n",
       "6                       3.  Las fibras aferentes Ib.   \n",
       "7        3.  Se proyectan en las células granulosas.   \n",
       "8               3.  Detectar la aceleración angular.   \n",
       "9                                       3.  A gamma.   \n",
       "\n",
       "                                            Option_4  \\\n",
       "0  4.  Se origina por activación de canales de Ca...   \n",
       "1                                   4.  150 mM urea.   \n",
       "2                   4.  Están medidas por conexones.   \n",
       "3                      4.  Glutamatérgico tipo NMDA.   \n",
       "4  4.  Recibe aferencias exclusivamente del área ...   \n",
       "5                                       4.  Caudado.   \n",
       "6                            4.  Las motoneuronas α.   \n",
       "7  4.  Sinaptan directamente con las células de P...   \n",
       "8              4.  Tener un extremo llamado ampolla.   \n",
       "9                                             4.  B.   \n",
       "\n",
       "                                            Option_5  \n",
       "0  5.  Está medida por la inactivación de canales...  \n",
       "1                                   5.  100 mM NaCl.  \n",
       "2               5.  Están en la unión neuromuscular.  \n",
       "3                      5.  Glutamatérgico tipo AMPA.  \n",
       "4  5.  Su lesión no impide realizar movimientos v...  \n",
       "5                                       5.  Dentado.  \n",
       "6                            5.  Las motoneuronas γ.  \n",
       "7                    5. Forman las fibras paralelas.  \n",
       "8                     5.  Estar llenos de endolinfa.  \n",
       "9                                             5.  C.  "
      ]
     },
     "execution_count": 28,
     "metadata": {},
     "output_type": "execute_result"
    }
   ],
   "source": [
    "exam_df_pivot.head(10)"
   ]
  },
  {
   "cell_type": "markdown",
   "metadata": {},
   "source": [
    "## Answers tsv\n",
    "\n",
    "This section focuses on cleaning and consolidating the answer key data from the TSV file. The original data contains duplicate columns, which are processed and combined into a single, clean DataFrame.\n",
    "\n",
    "**1. Initial Cleaning and Numeric Conversion:**\n",
    "\n",
    "* Iterates through all columns of the `raw_answers_df` DataFrame.\n",
    "* For string-type columns, replaces all occurrences of \"A\" with \"0\".\n",
    "* Non-string columns are ignored.\n",
    "* Applies `pd.to_numeric` to all columns, converting values to numbers (floats) and handling conversion errors with `errors='coerce'`, which replaces non-numeric values with `NaN`.\n",
    "* Replaces all `NaN` values with `999.9`.\n",
    "* Displays the first few rows of the transformed DataFrame (`raw_answers_df_2`)."
   ]
  },
  {
   "cell_type": "code",
   "execution_count": 29,
   "metadata": {},
   "outputs": [
    {
     "data": {
      "application/vnd.microsoft.datawrangler.viewer.v0+json": {
       "columns": [
        {
         "name": "index",
         "rawType": "int64",
         "type": "integer"
        },
        {
         "name": "0",
         "rawType": "int64",
         "type": "integer"
        },
        {
         "name": "1",
         "rawType": "int64",
         "type": "integer"
        },
        {
         "name": "2",
         "rawType": "int64",
         "type": "integer"
        },
        {
         "name": "3",
         "rawType": "int64",
         "type": "integer"
        },
        {
         "name": "4",
         "rawType": "int64",
         "type": "integer"
        },
        {
         "name": "5",
         "rawType": "float64",
         "type": "float"
        },
        {
         "name": "6",
         "rawType": "float64",
         "type": "float"
        },
        {
         "name": "7",
         "rawType": "float64",
         "type": "float"
        },
        {
         "name": "8",
         "rawType": "float64",
         "type": "float"
        },
        {
         "name": "9",
         "rawType": "float64",
         "type": "float"
        }
       ],
       "conversionMethod": "pd.DataFrame",
       "ref": "be464a60-2768-423f-81b9-559b710e63f8",
       "rows": [
        [
         "0",
         "1",
         "2",
         "3",
         "4",
         "5",
         "6.0",
         "7.0",
         "8.0",
         "9.0",
         "10.0"
        ],
        [
         "1",
         "4",
         "4",
         "4",
         "1",
         "1",
         "2.0",
         "4.0",
         "4.0",
         "5.0",
         "5.0"
        ],
        [
         "2",
         "21",
         "22",
         "23",
         "24",
         "25",
         "26.0",
         "27.0",
         "28.0",
         "29.0",
         "30.0"
        ],
        [
         "3",
         "5",
         "3",
         "2",
         "2",
         "5",
         "1.0",
         "5.0",
         "1.0",
         "4.0",
         "1.0"
        ],
        [
         "4",
         "41",
         "42",
         "43",
         "44",
         "45",
         "46.0",
         "47.0",
         "48.0",
         "49.0",
         "50.0"
        ],
        [
         "5",
         "4",
         "2",
         "1",
         "5",
         "2",
         "1.0",
         "0.0",
         "3.0",
         "4.0",
         "3.0"
        ],
        [
         "6",
         "61",
         "62",
         "63",
         "64",
         "65",
         "66.0",
         "67.0",
         "68.0",
         "69.0",
         "70.0"
        ],
        [
         "7",
         "3",
         "0",
         "3",
         "4",
         "2",
         "3.0",
         "1.0",
         "2.0",
         "3.0",
         "1.0"
        ],
        [
         "8",
         "81",
         "82",
         "83",
         "84",
         "85",
         "86.0",
         "87.0",
         "88.0",
         "89.0",
         "90.0"
        ],
        [
         "9",
         "4",
         "1",
         "3",
         "4",
         "1",
         "1.0",
         "3.0",
         "1.0",
         "1.0",
         "1.0"
        ]
       ],
       "shape": {
        "columns": 10,
        "rows": 10
       }
      },
      "text/html": [
       "<div>\n",
       "<style scoped>\n",
       "    .dataframe tbody tr th:only-of-type {\n",
       "        vertical-align: middle;\n",
       "    }\n",
       "\n",
       "    .dataframe tbody tr th {\n",
       "        vertical-align: top;\n",
       "    }\n",
       "\n",
       "    .dataframe thead th {\n",
       "        text-align: right;\n",
       "    }\n",
       "</style>\n",
       "<table border=\"1\" class=\"dataframe\">\n",
       "  <thead>\n",
       "    <tr style=\"text-align: right;\">\n",
       "      <th></th>\n",
       "      <th>0</th>\n",
       "      <th>1</th>\n",
       "      <th>2</th>\n",
       "      <th>3</th>\n",
       "      <th>4</th>\n",
       "      <th>5</th>\n",
       "      <th>6</th>\n",
       "      <th>7</th>\n",
       "      <th>8</th>\n",
       "      <th>9</th>\n",
       "    </tr>\n",
       "  </thead>\n",
       "  <tbody>\n",
       "    <tr>\n",
       "      <th>0</th>\n",
       "      <td>1</td>\n",
       "      <td>2</td>\n",
       "      <td>3</td>\n",
       "      <td>4</td>\n",
       "      <td>5</td>\n",
       "      <td>6.0</td>\n",
       "      <td>7.0</td>\n",
       "      <td>8.0</td>\n",
       "      <td>9.0</td>\n",
       "      <td>10.0</td>\n",
       "    </tr>\n",
       "    <tr>\n",
       "      <th>1</th>\n",
       "      <td>4</td>\n",
       "      <td>4</td>\n",
       "      <td>4</td>\n",
       "      <td>1</td>\n",
       "      <td>1</td>\n",
       "      <td>2.0</td>\n",
       "      <td>4.0</td>\n",
       "      <td>4.0</td>\n",
       "      <td>5.0</td>\n",
       "      <td>5.0</td>\n",
       "    </tr>\n",
       "    <tr>\n",
       "      <th>2</th>\n",
       "      <td>21</td>\n",
       "      <td>22</td>\n",
       "      <td>23</td>\n",
       "      <td>24</td>\n",
       "      <td>25</td>\n",
       "      <td>26.0</td>\n",
       "      <td>27.0</td>\n",
       "      <td>28.0</td>\n",
       "      <td>29.0</td>\n",
       "      <td>30.0</td>\n",
       "    </tr>\n",
       "    <tr>\n",
       "      <th>3</th>\n",
       "      <td>5</td>\n",
       "      <td>3</td>\n",
       "      <td>2</td>\n",
       "      <td>2</td>\n",
       "      <td>5</td>\n",
       "      <td>1.0</td>\n",
       "      <td>5.0</td>\n",
       "      <td>1.0</td>\n",
       "      <td>4.0</td>\n",
       "      <td>1.0</td>\n",
       "    </tr>\n",
       "    <tr>\n",
       "      <th>4</th>\n",
       "      <td>41</td>\n",
       "      <td>42</td>\n",
       "      <td>43</td>\n",
       "      <td>44</td>\n",
       "      <td>45</td>\n",
       "      <td>46.0</td>\n",
       "      <td>47.0</td>\n",
       "      <td>48.0</td>\n",
       "      <td>49.0</td>\n",
       "      <td>50.0</td>\n",
       "    </tr>\n",
       "    <tr>\n",
       "      <th>5</th>\n",
       "      <td>4</td>\n",
       "      <td>2</td>\n",
       "      <td>1</td>\n",
       "      <td>5</td>\n",
       "      <td>2</td>\n",
       "      <td>1.0</td>\n",
       "      <td>0.0</td>\n",
       "      <td>3.0</td>\n",
       "      <td>4.0</td>\n",
       "      <td>3.0</td>\n",
       "    </tr>\n",
       "    <tr>\n",
       "      <th>6</th>\n",
       "      <td>61</td>\n",
       "      <td>62</td>\n",
       "      <td>63</td>\n",
       "      <td>64</td>\n",
       "      <td>65</td>\n",
       "      <td>66.0</td>\n",
       "      <td>67.0</td>\n",
       "      <td>68.0</td>\n",
       "      <td>69.0</td>\n",
       "      <td>70.0</td>\n",
       "    </tr>\n",
       "    <tr>\n",
       "      <th>7</th>\n",
       "      <td>3</td>\n",
       "      <td>0</td>\n",
       "      <td>3</td>\n",
       "      <td>4</td>\n",
       "      <td>2</td>\n",
       "      <td>3.0</td>\n",
       "      <td>1.0</td>\n",
       "      <td>2.0</td>\n",
       "      <td>3.0</td>\n",
       "      <td>1.0</td>\n",
       "    </tr>\n",
       "    <tr>\n",
       "      <th>8</th>\n",
       "      <td>81</td>\n",
       "      <td>82</td>\n",
       "      <td>83</td>\n",
       "      <td>84</td>\n",
       "      <td>85</td>\n",
       "      <td>86.0</td>\n",
       "      <td>87.0</td>\n",
       "      <td>88.0</td>\n",
       "      <td>89.0</td>\n",
       "      <td>90.0</td>\n",
       "    </tr>\n",
       "    <tr>\n",
       "      <th>9</th>\n",
       "      <td>4</td>\n",
       "      <td>1</td>\n",
       "      <td>3</td>\n",
       "      <td>4</td>\n",
       "      <td>1</td>\n",
       "      <td>1.0</td>\n",
       "      <td>3.0</td>\n",
       "      <td>1.0</td>\n",
       "      <td>1.0</td>\n",
       "      <td>1.0</td>\n",
       "    </tr>\n",
       "  </tbody>\n",
       "</table>\n",
       "</div>"
      ],
      "text/plain": [
       "    0   1   2   3   4     5     6     7     8     9\n",
       "0   1   2   3   4   5   6.0   7.0   8.0   9.0  10.0\n",
       "1   4   4   4   1   1   2.0   4.0   4.0   5.0   5.0\n",
       "2  21  22  23  24  25  26.0  27.0  28.0  29.0  30.0\n",
       "3   5   3   2   2   5   1.0   5.0   1.0   4.0   1.0\n",
       "4  41  42  43  44  45  46.0  47.0  48.0  49.0  50.0\n",
       "5   4   2   1   5   2   1.0   0.0   3.0   4.0   3.0\n",
       "6  61  62  63  64  65  66.0  67.0  68.0  69.0  70.0\n",
       "7   3   0   3   4   2   3.0   1.0   2.0   3.0   1.0\n",
       "8  81  82  83  84  85  86.0  87.0  88.0  89.0  90.0\n",
       "9   4   1   3   4   1   1.0   3.0   1.0   1.0   1.0"
      ]
     },
     "execution_count": 29,
     "metadata": {},
     "output_type": "execute_result"
    }
   ],
   "source": [
    "for col in raw_answers_df:\n",
    "    try:\n",
    "        raw_answers_df[col] = raw_answers_df[col].str.replace(\"A\", \"0\")\n",
    "    except AttributeError:\n",
    "        pass\n",
    "\n",
    "raw_answers_df_2 = raw_answers_df.apply(pd.to_numeric, errors= 'coerce')\n",
    "raw_answers_df_2 = raw_answers_df_2.fillna(999.9)\n",
    "raw_answers_df_2.head(10)"
   ]
  },
  {
   "cell_type": "code",
   "execution_count": 30,
   "metadata": {},
   "outputs": [
    {
     "data": {
      "application/vnd.microsoft.datawrangler.viewer.v0+json": {
       "columns": [
        {
         "name": "index",
         "rawType": "int64",
         "type": "integer"
        },
        {
         "name": "0",
         "rawType": "int64",
         "type": "integer"
        },
        {
         "name": "1",
         "rawType": "int64",
         "type": "integer"
        },
        {
         "name": "2",
         "rawType": "int64",
         "type": "integer"
        },
        {
         "name": "3",
         "rawType": "int64",
         "type": "integer"
        },
        {
         "name": "4",
         "rawType": "int64",
         "type": "integer"
        },
        {
         "name": "5",
         "rawType": "float64",
         "type": "float"
        },
        {
         "name": "6",
         "rawType": "float64",
         "type": "float"
        },
        {
         "name": "7",
         "rawType": "float64",
         "type": "float"
        },
        {
         "name": "8",
         "rawType": "float64",
         "type": "float"
        },
        {
         "name": "9",
         "rawType": "float64",
         "type": "float"
        }
       ],
       "conversionMethod": "pd.DataFrame",
       "ref": "aa4ce724-4893-4290-b1d1-2993c09c4ab2",
       "rows": [
        [
         "38",
         "151",
         "152",
         "153",
         "154",
         "155",
         "156.0",
         "157.0",
         "158.0",
         "159.0",
         "160.0"
        ],
        [
         "39",
         "3",
         "5",
         "5",
         "3",
         "1",
         "4.0",
         "4.0",
         "2.0",
         "5.0",
         "3.0"
        ],
        [
         "40",
         "171",
         "172",
         "173",
         "174",
         "175",
         "176.0",
         "177.0",
         "178.0",
         "179.0",
         "180.0"
        ],
        [
         "41",
         "5",
         "2",
         "4",
         "3",
         "4",
         "2.0",
         "4.0",
         "3.0",
         "2.0",
         "1.0"
        ],
        [
         "42",
         "191",
         "192",
         "193",
         "194",
         "195",
         "196.0",
         "197.0",
         "198.0",
         "199.0",
         "200.0"
        ],
        [
         "43",
         "1",
         "1",
         "2",
         "5",
         "4",
         "2.0",
         "3.0",
         "1.0",
         "5.0",
         "0.0"
        ],
        [
         "44",
         "211",
         "212",
         "213",
         "214",
         "215",
         "216.0",
         "217.0",
         "218.0",
         "219.0",
         "220.0"
        ],
        [
         "45",
         "4",
         "1",
         "4",
         "5",
         "3",
         "3.0",
         "2.0",
         "2.0",
         "4.0",
         "5.0"
        ],
        [
         "46",
         "231",
         "232",
         "233",
         "234",
         "235",
         "999.9",
         "999.9",
         "999.9",
         "999.9",
         "999.9"
        ],
        [
         "47",
         "4",
         "3",
         "1",
         "1",
         "4",
         "999.9",
         "999.9",
         "999.9",
         "999.9",
         "999.9"
        ]
       ],
       "shape": {
        "columns": 10,
        "rows": 10
       }
      },
      "text/html": [
       "<div>\n",
       "<style scoped>\n",
       "    .dataframe tbody tr th:only-of-type {\n",
       "        vertical-align: middle;\n",
       "    }\n",
       "\n",
       "    .dataframe tbody tr th {\n",
       "        vertical-align: top;\n",
       "    }\n",
       "\n",
       "    .dataframe thead th {\n",
       "        text-align: right;\n",
       "    }\n",
       "</style>\n",
       "<table border=\"1\" class=\"dataframe\">\n",
       "  <thead>\n",
       "    <tr style=\"text-align: right;\">\n",
       "      <th></th>\n",
       "      <th>0</th>\n",
       "      <th>1</th>\n",
       "      <th>2</th>\n",
       "      <th>3</th>\n",
       "      <th>4</th>\n",
       "      <th>5</th>\n",
       "      <th>6</th>\n",
       "      <th>7</th>\n",
       "      <th>8</th>\n",
       "      <th>9</th>\n",
       "    </tr>\n",
       "  </thead>\n",
       "  <tbody>\n",
       "    <tr>\n",
       "      <th>38</th>\n",
       "      <td>151</td>\n",
       "      <td>152</td>\n",
       "      <td>153</td>\n",
       "      <td>154</td>\n",
       "      <td>155</td>\n",
       "      <td>156.0</td>\n",
       "      <td>157.0</td>\n",
       "      <td>158.0</td>\n",
       "      <td>159.0</td>\n",
       "      <td>160.0</td>\n",
       "    </tr>\n",
       "    <tr>\n",
       "      <th>39</th>\n",
       "      <td>3</td>\n",
       "      <td>5</td>\n",
       "      <td>5</td>\n",
       "      <td>3</td>\n",
       "      <td>1</td>\n",
       "      <td>4.0</td>\n",
       "      <td>4.0</td>\n",
       "      <td>2.0</td>\n",
       "      <td>5.0</td>\n",
       "      <td>3.0</td>\n",
       "    </tr>\n",
       "    <tr>\n",
       "      <th>40</th>\n",
       "      <td>171</td>\n",
       "      <td>172</td>\n",
       "      <td>173</td>\n",
       "      <td>174</td>\n",
       "      <td>175</td>\n",
       "      <td>176.0</td>\n",
       "      <td>177.0</td>\n",
       "      <td>178.0</td>\n",
       "      <td>179.0</td>\n",
       "      <td>180.0</td>\n",
       "    </tr>\n",
       "    <tr>\n",
       "      <th>41</th>\n",
       "      <td>5</td>\n",
       "      <td>2</td>\n",
       "      <td>4</td>\n",
       "      <td>3</td>\n",
       "      <td>4</td>\n",
       "      <td>2.0</td>\n",
       "      <td>4.0</td>\n",
       "      <td>3.0</td>\n",
       "      <td>2.0</td>\n",
       "      <td>1.0</td>\n",
       "    </tr>\n",
       "    <tr>\n",
       "      <th>42</th>\n",
       "      <td>191</td>\n",
       "      <td>192</td>\n",
       "      <td>193</td>\n",
       "      <td>194</td>\n",
       "      <td>195</td>\n",
       "      <td>196.0</td>\n",
       "      <td>197.0</td>\n",
       "      <td>198.0</td>\n",
       "      <td>199.0</td>\n",
       "      <td>200.0</td>\n",
       "    </tr>\n",
       "    <tr>\n",
       "      <th>43</th>\n",
       "      <td>1</td>\n",
       "      <td>1</td>\n",
       "      <td>2</td>\n",
       "      <td>5</td>\n",
       "      <td>4</td>\n",
       "      <td>2.0</td>\n",
       "      <td>3.0</td>\n",
       "      <td>1.0</td>\n",
       "      <td>5.0</td>\n",
       "      <td>0.0</td>\n",
       "    </tr>\n",
       "    <tr>\n",
       "      <th>44</th>\n",
       "      <td>211</td>\n",
       "      <td>212</td>\n",
       "      <td>213</td>\n",
       "      <td>214</td>\n",
       "      <td>215</td>\n",
       "      <td>216.0</td>\n",
       "      <td>217.0</td>\n",
       "      <td>218.0</td>\n",
       "      <td>219.0</td>\n",
       "      <td>220.0</td>\n",
       "    </tr>\n",
       "    <tr>\n",
       "      <th>45</th>\n",
       "      <td>4</td>\n",
       "      <td>1</td>\n",
       "      <td>4</td>\n",
       "      <td>5</td>\n",
       "      <td>3</td>\n",
       "      <td>3.0</td>\n",
       "      <td>2.0</td>\n",
       "      <td>2.0</td>\n",
       "      <td>4.0</td>\n",
       "      <td>5.0</td>\n",
       "    </tr>\n",
       "    <tr>\n",
       "      <th>46</th>\n",
       "      <td>231</td>\n",
       "      <td>232</td>\n",
       "      <td>233</td>\n",
       "      <td>234</td>\n",
       "      <td>235</td>\n",
       "      <td>999.9</td>\n",
       "      <td>999.9</td>\n",
       "      <td>999.9</td>\n",
       "      <td>999.9</td>\n",
       "      <td>999.9</td>\n",
       "    </tr>\n",
       "    <tr>\n",
       "      <th>47</th>\n",
       "      <td>4</td>\n",
       "      <td>3</td>\n",
       "      <td>1</td>\n",
       "      <td>1</td>\n",
       "      <td>4</td>\n",
       "      <td>999.9</td>\n",
       "      <td>999.9</td>\n",
       "      <td>999.9</td>\n",
       "      <td>999.9</td>\n",
       "      <td>999.9</td>\n",
       "    </tr>\n",
       "  </tbody>\n",
       "</table>\n",
       "</div>"
      ],
      "text/plain": [
       "      0    1    2    3    4      5      6      7      8      9\n",
       "38  151  152  153  154  155  156.0  157.0  158.0  159.0  160.0\n",
       "39    3    5    5    3    1    4.0    4.0    2.0    5.0    3.0\n",
       "40  171  172  173  174  175  176.0  177.0  178.0  179.0  180.0\n",
       "41    5    2    4    3    4    2.0    4.0    3.0    2.0    1.0\n",
       "42  191  192  193  194  195  196.0  197.0  198.0  199.0  200.0\n",
       "43    1    1    2    5    4    2.0    3.0    1.0    5.0    0.0\n",
       "44  211  212  213  214  215  216.0  217.0  218.0  219.0  220.0\n",
       "45    4    1    4    5    3    3.0    2.0    2.0    4.0    5.0\n",
       "46  231  232  233  234  235  999.9  999.9  999.9  999.9  999.9\n",
       "47    4    3    1    1    4  999.9  999.9  999.9  999.9  999.9"
      ]
     },
     "execution_count": 30,
     "metadata": {},
     "output_type": "execute_result"
    }
   ],
   "source": [
    "raw_answers_df_2.tail(10)"
   ]
  },
  {
   "cell_type": "markdown",
   "metadata": {},
   "source": [
    "**2. Transformation to \"Longer\" Format:**\n",
    "\n",
    "* Creates two empty lists, number_question_answers and number_question_correct.\n",
    "* Iterates through the rows of raw_answers_df_2 in steps of two.\n",
    "* For each pair of rows, the values from the first row are appended to the number_question_answers list, and the values from the second row are appended to the number_question_correct list.\n",
    "* Creates a new DataFrame raw_answers_df_longer with the number_question_answers and number_question_correct lists as columns \"V\" and \"RC\", respectively.\n",
    "* Displays the first few rows of raw_answers_df_longer."
   ]
  },
  {
   "cell_type": "code",
   "execution_count": 31,
   "metadata": {},
   "outputs": [
    {
     "data": {
      "application/vnd.microsoft.datawrangler.viewer.v0+json": {
       "columns": [
        {
         "name": "index",
         "rawType": "int64",
         "type": "integer"
        },
        {
         "name": "V",
         "rawType": "float64",
         "type": "float"
        },
        {
         "name": "RC",
         "rawType": "float64",
         "type": "float"
        }
       ],
       "conversionMethod": "pd.DataFrame",
       "ref": "42d88930-3183-4991-bd57-f828094642d9",
       "rows": [
        [
         "0",
         "1.0",
         "4.0"
        ],
        [
         "1",
         "2.0",
         "4.0"
        ],
        [
         "2",
         "3.0",
         "4.0"
        ],
        [
         "3",
         "4.0",
         "1.0"
        ],
        [
         "4",
         "5.0",
         "1.0"
        ],
        [
         "5",
         "6.0",
         "2.0"
        ],
        [
         "6",
         "7.0",
         "4.0"
        ],
        [
         "7",
         "8.0",
         "4.0"
        ],
        [
         "8",
         "9.0",
         "5.0"
        ],
        [
         "9",
         "10.0",
         "5.0"
        ]
       ],
       "shape": {
        "columns": 2,
        "rows": 10
       }
      },
      "text/html": [
       "<div>\n",
       "<style scoped>\n",
       "    .dataframe tbody tr th:only-of-type {\n",
       "        vertical-align: middle;\n",
       "    }\n",
       "\n",
       "    .dataframe tbody tr th {\n",
       "        vertical-align: top;\n",
       "    }\n",
       "\n",
       "    .dataframe thead th {\n",
       "        text-align: right;\n",
       "    }\n",
       "</style>\n",
       "<table border=\"1\" class=\"dataframe\">\n",
       "  <thead>\n",
       "    <tr style=\"text-align: right;\">\n",
       "      <th></th>\n",
       "      <th>V</th>\n",
       "      <th>RC</th>\n",
       "    </tr>\n",
       "  </thead>\n",
       "  <tbody>\n",
       "    <tr>\n",
       "      <th>0</th>\n",
       "      <td>1.0</td>\n",
       "      <td>4.0</td>\n",
       "    </tr>\n",
       "    <tr>\n",
       "      <th>1</th>\n",
       "      <td>2.0</td>\n",
       "      <td>4.0</td>\n",
       "    </tr>\n",
       "    <tr>\n",
       "      <th>2</th>\n",
       "      <td>3.0</td>\n",
       "      <td>4.0</td>\n",
       "    </tr>\n",
       "    <tr>\n",
       "      <th>3</th>\n",
       "      <td>4.0</td>\n",
       "      <td>1.0</td>\n",
       "    </tr>\n",
       "    <tr>\n",
       "      <th>4</th>\n",
       "      <td>5.0</td>\n",
       "      <td>1.0</td>\n",
       "    </tr>\n",
       "    <tr>\n",
       "      <th>5</th>\n",
       "      <td>6.0</td>\n",
       "      <td>2.0</td>\n",
       "    </tr>\n",
       "    <tr>\n",
       "      <th>6</th>\n",
       "      <td>7.0</td>\n",
       "      <td>4.0</td>\n",
       "    </tr>\n",
       "    <tr>\n",
       "      <th>7</th>\n",
       "      <td>8.0</td>\n",
       "      <td>4.0</td>\n",
       "    </tr>\n",
       "    <tr>\n",
       "      <th>8</th>\n",
       "      <td>9.0</td>\n",
       "      <td>5.0</td>\n",
       "    </tr>\n",
       "    <tr>\n",
       "      <th>9</th>\n",
       "      <td>10.0</td>\n",
       "      <td>5.0</td>\n",
       "    </tr>\n",
       "  </tbody>\n",
       "</table>\n",
       "</div>"
      ],
      "text/plain": [
       "      V   RC\n",
       "0   1.0  4.0\n",
       "1   2.0  4.0\n",
       "2   3.0  4.0\n",
       "3   4.0  1.0\n",
       "4   5.0  1.0\n",
       "5   6.0  2.0\n",
       "6   7.0  4.0\n",
       "7   8.0  4.0\n",
       "8   9.0  5.0\n",
       "9  10.0  5.0"
      ]
     },
     "execution_count": 31,
     "metadata": {},
     "output_type": "execute_result"
    }
   ],
   "source": [
    "number_question_answers: list = []\n",
    "number_question_correct: list = []\n",
    "\n",
    "for i in range(0, len(raw_answers_df_2), 2):\n",
    "    number_question_answers.extend(raw_answers_df_2.iloc[i].tolist())\n",
    "    number_question_correct.extend(raw_answers_df_2.iloc[i + 1].tolist())\n",
    "\n",
    "raw_answers_df_longer: pd.DataFrame = pd.DataFrame({\"V\": number_question_answers, \"RC\": number_question_correct})\n",
    "raw_answers_df_longer.head(10)"
   ]
  },
  {
   "cell_type": "markdown",
   "metadata": {},
   "source": [
    "**3. Final Sorting and Cleaning:**\n",
    "\n",
    "* Sorts the raw_answers_df_longer DataFrame by the \"V\" column.\n",
    "* Replaces all 999.9 values with NaN.\n",
    "* Removes all rows containing NaN.\n",
    "* Displays the first few rows of the cleaned DataFrame (answers_df_clean)."
   ]
  },
  {
   "cell_type": "code",
   "execution_count": 32,
   "metadata": {},
   "outputs": [
    {
     "data": {
      "application/vnd.microsoft.datawrangler.viewer.v0+json": {
       "columns": [
        {
         "name": "index",
         "rawType": "int64",
         "type": "integer"
        },
        {
         "name": "V",
         "rawType": "float64",
         "type": "float"
        },
        {
         "name": "RC",
         "rawType": "float64",
         "type": "float"
        }
       ],
       "conversionMethod": "pd.DataFrame",
       "ref": "3c8c1499-fbc1-4821-8c2b-9d23f7a82b9a",
       "rows": [
        [
         "0",
         "1.0",
         "4.0"
        ],
        [
         "1",
         "2.0",
         "4.0"
        ],
        [
         "2",
         "3.0",
         "4.0"
        ],
        [
         "3",
         "4.0",
         "1.0"
        ],
        [
         "4",
         "5.0",
         "1.0"
        ],
        [
         "5",
         "6.0",
         "2.0"
        ],
        [
         "6",
         "7.0",
         "4.0"
        ],
        [
         "7",
         "8.0",
         "4.0"
        ],
        [
         "8",
         "9.0",
         "5.0"
        ],
        [
         "9",
         "10.0",
         "5.0"
        ]
       ],
       "shape": {
        "columns": 2,
        "rows": 10
       }
      },
      "text/html": [
       "<div>\n",
       "<style scoped>\n",
       "    .dataframe tbody tr th:only-of-type {\n",
       "        vertical-align: middle;\n",
       "    }\n",
       "\n",
       "    .dataframe tbody tr th {\n",
       "        vertical-align: top;\n",
       "    }\n",
       "\n",
       "    .dataframe thead th {\n",
       "        text-align: right;\n",
       "    }\n",
       "</style>\n",
       "<table border=\"1\" class=\"dataframe\">\n",
       "  <thead>\n",
       "    <tr style=\"text-align: right;\">\n",
       "      <th></th>\n",
       "      <th>V</th>\n",
       "      <th>RC</th>\n",
       "    </tr>\n",
       "  </thead>\n",
       "  <tbody>\n",
       "    <tr>\n",
       "      <th>0</th>\n",
       "      <td>1.0</td>\n",
       "      <td>4.0</td>\n",
       "    </tr>\n",
       "    <tr>\n",
       "      <th>1</th>\n",
       "      <td>2.0</td>\n",
       "      <td>4.0</td>\n",
       "    </tr>\n",
       "    <tr>\n",
       "      <th>2</th>\n",
       "      <td>3.0</td>\n",
       "      <td>4.0</td>\n",
       "    </tr>\n",
       "    <tr>\n",
       "      <th>3</th>\n",
       "      <td>4.0</td>\n",
       "      <td>1.0</td>\n",
       "    </tr>\n",
       "    <tr>\n",
       "      <th>4</th>\n",
       "      <td>5.0</td>\n",
       "      <td>1.0</td>\n",
       "    </tr>\n",
       "    <tr>\n",
       "      <th>5</th>\n",
       "      <td>6.0</td>\n",
       "      <td>2.0</td>\n",
       "    </tr>\n",
       "    <tr>\n",
       "      <th>6</th>\n",
       "      <td>7.0</td>\n",
       "      <td>4.0</td>\n",
       "    </tr>\n",
       "    <tr>\n",
       "      <th>7</th>\n",
       "      <td>8.0</td>\n",
       "      <td>4.0</td>\n",
       "    </tr>\n",
       "    <tr>\n",
       "      <th>8</th>\n",
       "      <td>9.0</td>\n",
       "      <td>5.0</td>\n",
       "    </tr>\n",
       "    <tr>\n",
       "      <th>9</th>\n",
       "      <td>10.0</td>\n",
       "      <td>5.0</td>\n",
       "    </tr>\n",
       "  </tbody>\n",
       "</table>\n",
       "</div>"
      ],
      "text/plain": [
       "      V   RC\n",
       "0   1.0  4.0\n",
       "1   2.0  4.0\n",
       "2   3.0  4.0\n",
       "3   4.0  1.0\n",
       "4   5.0  1.0\n",
       "5   6.0  2.0\n",
       "6   7.0  4.0\n",
       "7   8.0  4.0\n",
       "8   9.0  5.0\n",
       "9  10.0  5.0"
      ]
     },
     "execution_count": 32,
     "metadata": {},
     "output_type": "execute_result"
    }
   ],
   "source": [
    "raw_answers_df_sorted = raw_answers_df_longer.sort_values(by=\"V\")\n",
    "raw_answers_df_sorted = raw_answers_df_sorted.replace(999.9, np.nan)\n",
    "answers_df_clean = raw_answers_df_sorted.dropna()\n",
    "answers_df_clean = answers_df_clean.reset_index(drop=True)\n",
    "answers_df_clean.head(10)"
   ]
  },
  {
   "cell_type": "code",
   "execution_count": 33,
   "metadata": {},
   "outputs": [
    {
     "data": {
      "application/vnd.microsoft.datawrangler.viewer.v0+json": {
       "columns": [
        {
         "name": "index",
         "rawType": "int64",
         "type": "integer"
        },
        {
         "name": "V",
         "rawType": "float64",
         "type": "float"
        },
        {
         "name": "RC",
         "rawType": "float64",
         "type": "float"
        }
       ],
       "conversionMethod": "pd.DataFrame",
       "ref": "29944a79-a7ea-4067-af85-27b966d1d56b",
       "rows": [
        [
         "225",
         "226.0",
         "1.0"
        ],
        [
         "226",
         "227.0",
         "1.0"
        ],
        [
         "227",
         "228.0",
         "5.0"
        ],
        [
         "228",
         "229.0",
         "4.0"
        ],
        [
         "229",
         "230.0",
         "3.0"
        ],
        [
         "230",
         "231.0",
         "4.0"
        ],
        [
         "231",
         "232.0",
         "3.0"
        ],
        [
         "232",
         "233.0",
         "1.0"
        ],
        [
         "233",
         "234.0",
         "1.0"
        ],
        [
         "234",
         "235.0",
         "4.0"
        ]
       ],
       "shape": {
        "columns": 2,
        "rows": 10
       }
      },
      "text/html": [
       "<div>\n",
       "<style scoped>\n",
       "    .dataframe tbody tr th:only-of-type {\n",
       "        vertical-align: middle;\n",
       "    }\n",
       "\n",
       "    .dataframe tbody tr th {\n",
       "        vertical-align: top;\n",
       "    }\n",
       "\n",
       "    .dataframe thead th {\n",
       "        text-align: right;\n",
       "    }\n",
       "</style>\n",
       "<table border=\"1\" class=\"dataframe\">\n",
       "  <thead>\n",
       "    <tr style=\"text-align: right;\">\n",
       "      <th></th>\n",
       "      <th>V</th>\n",
       "      <th>RC</th>\n",
       "    </tr>\n",
       "  </thead>\n",
       "  <tbody>\n",
       "    <tr>\n",
       "      <th>225</th>\n",
       "      <td>226.0</td>\n",
       "      <td>1.0</td>\n",
       "    </tr>\n",
       "    <tr>\n",
       "      <th>226</th>\n",
       "      <td>227.0</td>\n",
       "      <td>1.0</td>\n",
       "    </tr>\n",
       "    <tr>\n",
       "      <th>227</th>\n",
       "      <td>228.0</td>\n",
       "      <td>5.0</td>\n",
       "    </tr>\n",
       "    <tr>\n",
       "      <th>228</th>\n",
       "      <td>229.0</td>\n",
       "      <td>4.0</td>\n",
       "    </tr>\n",
       "    <tr>\n",
       "      <th>229</th>\n",
       "      <td>230.0</td>\n",
       "      <td>3.0</td>\n",
       "    </tr>\n",
       "    <tr>\n",
       "      <th>230</th>\n",
       "      <td>231.0</td>\n",
       "      <td>4.0</td>\n",
       "    </tr>\n",
       "    <tr>\n",
       "      <th>231</th>\n",
       "      <td>232.0</td>\n",
       "      <td>3.0</td>\n",
       "    </tr>\n",
       "    <tr>\n",
       "      <th>232</th>\n",
       "      <td>233.0</td>\n",
       "      <td>1.0</td>\n",
       "    </tr>\n",
       "    <tr>\n",
       "      <th>233</th>\n",
       "      <td>234.0</td>\n",
       "      <td>1.0</td>\n",
       "    </tr>\n",
       "    <tr>\n",
       "      <th>234</th>\n",
       "      <td>235.0</td>\n",
       "      <td>4.0</td>\n",
       "    </tr>\n",
       "  </tbody>\n",
       "</table>\n",
       "</div>"
      ],
      "text/plain": [
       "         V   RC\n",
       "225  226.0  1.0\n",
       "226  227.0  1.0\n",
       "227  228.0  5.0\n",
       "228  229.0  4.0\n",
       "229  230.0  3.0\n",
       "230  231.0  4.0\n",
       "231  232.0  3.0\n",
       "232  233.0  1.0\n",
       "233  234.0  1.0\n",
       "234  235.0  4.0"
      ]
     },
     "execution_count": 33,
     "metadata": {},
     "output_type": "execute_result"
    }
   ],
   "source": [
    "answers_df_clean.tail(10)"
   ]
  },
  {
   "cell_type": "markdown",
   "metadata": {},
   "source": [
    "## Joining the DataFrames\n",
    "\n",
    "This section focuses on merging the processed exam questions DataFrame with the cleaned answers DataFrame, performing final data cleaning, and verifying the integrity of the joined data.\n",
    "\n",
    "**1. Joining the DataFrames:**\n",
    "\n",
    "The pivoted exam questions DataFrame (`exam_df_pivot`) and the cleaned answers DataFrame (`answers_df_clean`) are joined horizontally using `pd.concat`. The 'V0' column, which represents the question number from the answers DataFrame, is then dropped. The first 10 rows of the joined DataFrame are displayed."
   ]
  },
  {
   "cell_type": "code",
   "execution_count": 34,
   "metadata": {},
   "outputs": [
    {
     "data": {
      "application/vnd.microsoft.datawrangler.viewer.v0+json": {
       "columns": [
        {
         "name": "index",
         "rawType": "int64",
         "type": "integer"
        },
        {
         "name": "Question",
         "rawType": "object",
         "type": "string"
        },
        {
         "name": "Option_1",
         "rawType": "object",
         "type": "string"
        },
        {
         "name": "Option_2",
         "rawType": "object",
         "type": "string"
        },
        {
         "name": "Option_3",
         "rawType": "object",
         "type": "string"
        },
        {
         "name": "Option_4",
         "rawType": "object",
         "type": "string"
        },
        {
         "name": "Option_5",
         "rawType": "object",
         "type": "string"
        },
        {
         "name": "RC",
         "rawType": "float64",
         "type": "float"
        }
       ],
       "conversionMethod": "pd.DataFrame",
       "ref": "4dca0e74-909d-46d1-97f4-adaf6be106fe",
       "rows": [
        [
         "0",
         "1. La fase de meseta del potencial de acción cardíaco:",
         "1. Es característica de las células del nodo sinusal.",
         "2. Se origina por activación de canales de K +.",
         "3.  Se debe a una conductancia al Na +  no inactivante.",
         "4.  Se origina por activación de canales de Ca 2+ .",
         "5.  Está medida por la inactivación de canales de K +.",
         "4.0"
        ],
        [
         "1",
         "2. Una solución 50 mM de CaCl2 es isoosmótica con otra de:",
         "1.50 mM NaCl.",
         "2.  100 mM urea.",
         "3.  150 mM NaCl.",
         "4.  150 mM urea.",
         "5.  100 mM NaCl.",
         "4.0"
        ],
        [
         "2",
         "3. Las sinapsis eléctricas:",
         "1. Permiten sólo el paso de iones.",
         "2.  Presentan gran retardo sináptico.",
         "3.  Son unidireccionales.",
         "4.  Están medidas por conexones.",
         "5.  Están en la unión neuromuscular.",
         "4.0"
        ],
        [
         "3",
         "4. Permea Cl - el receptor:",
         "1. Glicinérgico.",
         "2.  Nicotínico.",
         "3.  Adrenérgico alfa.",
         "4.  Glutamatérgico tipo NMDA.",
         "5.  Glutamatérgico tipo AMPA.",
         "1.0"
        ],
        [
         "4",
         "5. La corteza motora primaria:",
         "1. Está en la circunvolución precental.",
         "2.  Evoca contracción de músculos ipsilaterales.",
         "3.  Sus principales eferencias directas son al cerebelo.",
         "4.  Recibe aferencias exclusivamente del área premotora.",
         "5.  Su lesión no impide realizar movimientos voluntarios.",
         "1.0"
        ],
        [
         "5",
         "6. Es un núcleo motor troncoencefálico:",
         "1. Putamen.",
         "2.  Núcleo rojo.",
         "3.  Fastigial.",
         "4.  Caudado.",
         "5.  Dentado.",
         "2.0"
        ],
        [
         "6",
         "7. En el reflejo tendinoso de Golgi se inhiben:",
         "1. Los órganos tendinosos de Golgi.",
         "2.  Las fibras aferentes Ia.",
         "3.  Las fibras aferentes Ib.",
         "4.  Las motoneuronas α.",
         "5.  Las motoneuronas γ.",
         "4.0"
        ],
        [
         "7",
         "8. Las fibras trepadoras de la corteza cerebelosa:",
         "1. Son inhibidoras.",
         "2.  Proceden de los núcleos pontinos.",
         "3.  Se proyectan en las células granulosas.",
         "4.  Sinaptan directamente con las células de Purkinje.",
         "5. Forman las fibras paralelas.",
         "4.0"
        ],
        [
         "8",
         "9. Los canales semicirculares, el utrículo y el sác ulo tienen en común:",
         "1. Presentar otolitos.",
         "2.  Detectar la aceleración lineal.",
         "3.  Detectar la aceleración angular.",
         "4.  Tener un extremo llamado ampolla.",
         "5.  Estar llenos de endolinfa.",
         "5.0"
        ],
        [
         "9",
         "10. Son amielínicas las fibras:",
         "1. A alfa.",
         "2.  A beta.",
         "3.  A gamma.",
         "4.  B.",
         "5.  C.",
         "5.0"
        ]
       ],
       "shape": {
        "columns": 7,
        "rows": 10
       }
      },
      "text/html": [
       "<div>\n",
       "<style scoped>\n",
       "    .dataframe tbody tr th:only-of-type {\n",
       "        vertical-align: middle;\n",
       "    }\n",
       "\n",
       "    .dataframe tbody tr th {\n",
       "        vertical-align: top;\n",
       "    }\n",
       "\n",
       "    .dataframe thead th {\n",
       "        text-align: right;\n",
       "    }\n",
       "</style>\n",
       "<table border=\"1\" class=\"dataframe\">\n",
       "  <thead>\n",
       "    <tr style=\"text-align: right;\">\n",
       "      <th></th>\n",
       "      <th>Question</th>\n",
       "      <th>Option_1</th>\n",
       "      <th>Option_2</th>\n",
       "      <th>Option_3</th>\n",
       "      <th>Option_4</th>\n",
       "      <th>Option_5</th>\n",
       "      <th>RC</th>\n",
       "    </tr>\n",
       "  </thead>\n",
       "  <tbody>\n",
       "    <tr>\n",
       "      <th>0</th>\n",
       "      <td>1. La fase de meseta del potencial de acción c...</td>\n",
       "      <td>1. Es característica de las células del nodo s...</td>\n",
       "      <td>2. Se origina por activación de canales de K +.</td>\n",
       "      <td>3.  Se debe a una conductancia al Na +  no ina...</td>\n",
       "      <td>4.  Se origina por activación de canales de Ca...</td>\n",
       "      <td>5.  Está medida por la inactivación de canales...</td>\n",
       "      <td>4.0</td>\n",
       "    </tr>\n",
       "    <tr>\n",
       "      <th>1</th>\n",
       "      <td>2. Una solución 50 mM de CaCl2 es isoosmótica ...</td>\n",
       "      <td>1.50 mM NaCl.</td>\n",
       "      <td>2.  100 mM urea.</td>\n",
       "      <td>3.  150 mM NaCl.</td>\n",
       "      <td>4.  150 mM urea.</td>\n",
       "      <td>5.  100 mM NaCl.</td>\n",
       "      <td>4.0</td>\n",
       "    </tr>\n",
       "    <tr>\n",
       "      <th>2</th>\n",
       "      <td>3. Las sinapsis eléctricas:</td>\n",
       "      <td>1. Permiten sólo el paso de iones.</td>\n",
       "      <td>2.  Presentan gran retardo sináptico.</td>\n",
       "      <td>3.  Son unidireccionales.</td>\n",
       "      <td>4.  Están medidas por conexones.</td>\n",
       "      <td>5.  Están en la unión neuromuscular.</td>\n",
       "      <td>4.0</td>\n",
       "    </tr>\n",
       "    <tr>\n",
       "      <th>3</th>\n",
       "      <td>4. Permea Cl - el receptor:</td>\n",
       "      <td>1. Glicinérgico.</td>\n",
       "      <td>2.  Nicotínico.</td>\n",
       "      <td>3.  Adrenérgico alfa.</td>\n",
       "      <td>4.  Glutamatérgico tipo NMDA.</td>\n",
       "      <td>5.  Glutamatérgico tipo AMPA.</td>\n",
       "      <td>1.0</td>\n",
       "    </tr>\n",
       "    <tr>\n",
       "      <th>4</th>\n",
       "      <td>5. La corteza motora primaria:</td>\n",
       "      <td>1. Está en la circunvolución precental.</td>\n",
       "      <td>2.  Evoca contracción de músculos ipsilaterales.</td>\n",
       "      <td>3.  Sus principales eferencias directas son al...</td>\n",
       "      <td>4.  Recibe aferencias exclusivamente del área ...</td>\n",
       "      <td>5.  Su lesión no impide realizar movimientos v...</td>\n",
       "      <td>1.0</td>\n",
       "    </tr>\n",
       "    <tr>\n",
       "      <th>5</th>\n",
       "      <td>6. Es un núcleo motor troncoencefálico:</td>\n",
       "      <td>1. Putamen.</td>\n",
       "      <td>2.  Núcleo rojo.</td>\n",
       "      <td>3.  Fastigial.</td>\n",
       "      <td>4.  Caudado.</td>\n",
       "      <td>5.  Dentado.</td>\n",
       "      <td>2.0</td>\n",
       "    </tr>\n",
       "    <tr>\n",
       "      <th>6</th>\n",
       "      <td>7. En el reflejo tendinoso de Golgi se inhiben:</td>\n",
       "      <td>1. Los órganos tendinosos de Golgi.</td>\n",
       "      <td>2.  Las fibras aferentes Ia.</td>\n",
       "      <td>3.  Las fibras aferentes Ib.</td>\n",
       "      <td>4.  Las motoneuronas α.</td>\n",
       "      <td>5.  Las motoneuronas γ.</td>\n",
       "      <td>4.0</td>\n",
       "    </tr>\n",
       "    <tr>\n",
       "      <th>7</th>\n",
       "      <td>8. Las fibras trepadoras de la corteza cerebel...</td>\n",
       "      <td>1. Son inhibidoras.</td>\n",
       "      <td>2.  Proceden de los núcleos pontinos.</td>\n",
       "      <td>3.  Se proyectan en las células granulosas.</td>\n",
       "      <td>4.  Sinaptan directamente con las células de P...</td>\n",
       "      <td>5. Forman las fibras paralelas.</td>\n",
       "      <td>4.0</td>\n",
       "    </tr>\n",
       "    <tr>\n",
       "      <th>8</th>\n",
       "      <td>9. Los canales semicirculares, el utrículo y e...</td>\n",
       "      <td>1. Presentar otolitos.</td>\n",
       "      <td>2.  Detectar la aceleración lineal.</td>\n",
       "      <td>3.  Detectar la aceleración angular.</td>\n",
       "      <td>4.  Tener un extremo llamado ampolla.</td>\n",
       "      <td>5.  Estar llenos de endolinfa.</td>\n",
       "      <td>5.0</td>\n",
       "    </tr>\n",
       "    <tr>\n",
       "      <th>9</th>\n",
       "      <td>10. Son amielínicas las fibras:</td>\n",
       "      <td>1. A alfa.</td>\n",
       "      <td>2.  A beta.</td>\n",
       "      <td>3.  A gamma.</td>\n",
       "      <td>4.  B.</td>\n",
       "      <td>5.  C.</td>\n",
       "      <td>5.0</td>\n",
       "    </tr>\n",
       "  </tbody>\n",
       "</table>\n",
       "</div>"
      ],
      "text/plain": [
       "                                            Question  \\\n",
       "0  1. La fase de meseta del potencial de acción c...   \n",
       "1  2. Una solución 50 mM de CaCl2 es isoosmótica ...   \n",
       "2                        3. Las sinapsis eléctricas:   \n",
       "3                        4. Permea Cl - el receptor:   \n",
       "4                     5. La corteza motora primaria:   \n",
       "5            6. Es un núcleo motor troncoencefálico:   \n",
       "6    7. En el reflejo tendinoso de Golgi se inhiben:   \n",
       "7  8. Las fibras trepadoras de la corteza cerebel...   \n",
       "8  9. Los canales semicirculares, el utrículo y e...   \n",
       "9                    10. Son amielínicas las fibras:   \n",
       "\n",
       "                                            Option_1  \\\n",
       "0  1. Es característica de las células del nodo s...   \n",
       "1                                      1.50 mM NaCl.   \n",
       "2                 1. Permiten sólo el paso de iones.   \n",
       "3                                   1. Glicinérgico.   \n",
       "4            1. Está en la circunvolución precental.   \n",
       "5                                        1. Putamen.   \n",
       "6                1. Los órganos tendinosos de Golgi.   \n",
       "7                                1. Son inhibidoras.   \n",
       "8                             1. Presentar otolitos.   \n",
       "9                                         1. A alfa.   \n",
       "\n",
       "                                           Option_2  \\\n",
       "0   2. Se origina por activación de canales de K +.   \n",
       "1                                  2.  100 mM urea.   \n",
       "2             2.  Presentan gran retardo sináptico.   \n",
       "3                                   2.  Nicotínico.   \n",
       "4  2.  Evoca contracción de músculos ipsilaterales.   \n",
       "5                                  2.  Núcleo rojo.   \n",
       "6                      2.  Las fibras aferentes Ia.   \n",
       "7             2.  Proceden de los núcleos pontinos.   \n",
       "8               2.  Detectar la aceleración lineal.   \n",
       "9                                       2.  A beta.   \n",
       "\n",
       "                                            Option_3  \\\n",
       "0  3.  Se debe a una conductancia al Na +  no ina...   \n",
       "1                                   3.  150 mM NaCl.   \n",
       "2                          3.  Son unidireccionales.   \n",
       "3                              3.  Adrenérgico alfa.   \n",
       "4  3.  Sus principales eferencias directas son al...   \n",
       "5                                     3.  Fastigial.   \n",
       "6                       3.  Las fibras aferentes Ib.   \n",
       "7        3.  Se proyectan en las células granulosas.   \n",
       "8               3.  Detectar la aceleración angular.   \n",
       "9                                       3.  A gamma.   \n",
       "\n",
       "                                            Option_4  \\\n",
       "0  4.  Se origina por activación de canales de Ca...   \n",
       "1                                   4.  150 mM urea.   \n",
       "2                   4.  Están medidas por conexones.   \n",
       "3                      4.  Glutamatérgico tipo NMDA.   \n",
       "4  4.  Recibe aferencias exclusivamente del área ...   \n",
       "5                                       4.  Caudado.   \n",
       "6                            4.  Las motoneuronas α.   \n",
       "7  4.  Sinaptan directamente con las células de P...   \n",
       "8              4.  Tener un extremo llamado ampolla.   \n",
       "9                                             4.  B.   \n",
       "\n",
       "                                            Option_5   RC  \n",
       "0  5.  Está medida por la inactivación de canales...  4.0  \n",
       "1                                   5.  100 mM NaCl.  4.0  \n",
       "2               5.  Están en la unión neuromuscular.  4.0  \n",
       "3                      5.  Glutamatérgico tipo AMPA.  1.0  \n",
       "4  5.  Su lesión no impide realizar movimientos v...  1.0  \n",
       "5                                       5.  Dentado.  2.0  \n",
       "6                            5.  Las motoneuronas γ.  4.0  \n",
       "7                    5. Forman las fibras paralelas.  4.0  \n",
       "8                     5.  Estar llenos de endolinfa.  5.0  \n",
       "9                                             5.  C.  5.0  "
      ]
     },
     "execution_count": 34,
     "metadata": {},
     "output_type": "execute_result"
    }
   ],
   "source": [
    "processed_exam_df: pd.DataFrame = pd.concat([exam_df_pivot, answers_df_clean], axis=1)\n",
    "processed_exam_df = processed_exam_df.drop(columns=[\"V\"])\n",
    "processed_exam_df.head(10)"
   ]
  },
  {
   "cell_type": "markdown",
   "metadata": {},
   "source": [
    "**2. Identifying and Handling Missing Values:**\n",
    "\n",
    "Missing values are then replaced with 0."
   ]
  },
  {
   "cell_type": "code",
   "execution_count": 35,
   "metadata": {},
   "outputs": [],
   "source": [
    "processed_exam_df = processed_exam_df.fillna(0)"
   ]
  },
  {
   "cell_type": "markdown",
   "metadata": {},
   "source": [
    "**3. Verifying Missing Values and Data Types:**\n",
    "\n",
    "The number of missing values in each column is checked, and the data types of the columns are displayed. The 'RC' (correct answer) column is then converted to integer type."
   ]
  },
  {
   "cell_type": "code",
   "execution_count": 36,
   "metadata": {},
   "outputs": [
    {
     "data": {
      "text/plain": [
       "Question    object\n",
       "Option_1    object\n",
       "Option_2    object\n",
       "Option_3    object\n",
       "Option_4    object\n",
       "Option_5    object\n",
       "RC           int32\n",
       "dtype: object"
      ]
     },
     "execution_count": 36,
     "metadata": {},
     "output_type": "execute_result"
    }
   ],
   "source": [
    "processed_exam_df.isnull().sum()\n",
    "processed_exam_df[\"RC\"] = processed_exam_df[\"RC\"].astype(int)\n",
    "processed_exam_df.dtypes"
   ]
  },
  {
   "cell_type": "markdown",
   "metadata": {},
   "source": [
    "**4. Adding year column**\n",
    "\n",
    "A column containing the year of the exam is added to the DataFrame."
   ]
  },
  {
   "cell_type": "code",
   "execution_count": 37,
   "metadata": {},
   "outputs": [],
   "source": [
    "processed_exam_df[\"year\"] = year"
   ]
  },
  {
   "cell_type": "markdown",
   "metadata": {},
   "source": [
    "**5. Displaying the Final DataFrame:**\n",
    "\n",
    "The first 10 rows of the final joined and cleaned DataFrame are displayed."
   ]
  },
  {
   "cell_type": "code",
   "execution_count": 38,
   "metadata": {},
   "outputs": [
    {
     "data": {
      "application/vnd.microsoft.datawrangler.viewer.v0+json": {
       "columns": [
        {
         "name": "index",
         "rawType": "int64",
         "type": "integer"
        },
        {
         "name": "Question",
         "rawType": "object",
         "type": "string"
        },
        {
         "name": "Option_1",
         "rawType": "object",
         "type": "string"
        },
        {
         "name": "Option_2",
         "rawType": "object",
         "type": "string"
        },
        {
         "name": "Option_3",
         "rawType": "object",
         "type": "string"
        },
        {
         "name": "Option_4",
         "rawType": "object",
         "type": "string"
        },
        {
         "name": "Option_5",
         "rawType": "object",
         "type": "string"
        },
        {
         "name": "RC",
         "rawType": "int32",
         "type": "integer"
        },
        {
         "name": "year",
         "rawType": "int64",
         "type": "integer"
        }
       ],
       "conversionMethod": "pd.DataFrame",
       "ref": "77c16a8f-ea26-4311-8c98-63da6a349f5a",
       "rows": [
        [
         "0",
         "1. La fase de meseta del potencial de acción cardíaco:",
         "1. Es característica de las células del nodo sinusal.",
         "2. Se origina por activación de canales de K +.",
         "3.  Se debe a una conductancia al Na +  no inactivante.",
         "4.  Se origina por activación de canales de Ca 2+ .",
         "5.  Está medida por la inactivación de canales de K +.",
         "4",
         "2012"
        ],
        [
         "1",
         "2. Una solución 50 mM de CaCl2 es isoosmótica con otra de:",
         "1.50 mM NaCl.",
         "2.  100 mM urea.",
         "3.  150 mM NaCl.",
         "4.  150 mM urea.",
         "5.  100 mM NaCl.",
         "4",
         "2012"
        ],
        [
         "2",
         "3. Las sinapsis eléctricas:",
         "1. Permiten sólo el paso de iones.",
         "2.  Presentan gran retardo sináptico.",
         "3.  Son unidireccionales.",
         "4.  Están medidas por conexones.",
         "5.  Están en la unión neuromuscular.",
         "4",
         "2012"
        ],
        [
         "3",
         "4. Permea Cl - el receptor:",
         "1. Glicinérgico.",
         "2.  Nicotínico.",
         "3.  Adrenérgico alfa.",
         "4.  Glutamatérgico tipo NMDA.",
         "5.  Glutamatérgico tipo AMPA.",
         "1",
         "2012"
        ],
        [
         "4",
         "5. La corteza motora primaria:",
         "1. Está en la circunvolución precental.",
         "2.  Evoca contracción de músculos ipsilaterales.",
         "3.  Sus principales eferencias directas son al cerebelo.",
         "4.  Recibe aferencias exclusivamente del área premotora.",
         "5.  Su lesión no impide realizar movimientos voluntarios.",
         "1",
         "2012"
        ],
        [
         "5",
         "6. Es un núcleo motor troncoencefálico:",
         "1. Putamen.",
         "2.  Núcleo rojo.",
         "3.  Fastigial.",
         "4.  Caudado.",
         "5.  Dentado.",
         "2",
         "2012"
        ],
        [
         "6",
         "7. En el reflejo tendinoso de Golgi se inhiben:",
         "1. Los órganos tendinosos de Golgi.",
         "2.  Las fibras aferentes Ia.",
         "3.  Las fibras aferentes Ib.",
         "4.  Las motoneuronas α.",
         "5.  Las motoneuronas γ.",
         "4",
         "2012"
        ],
        [
         "7",
         "8. Las fibras trepadoras de la corteza cerebelosa:",
         "1. Son inhibidoras.",
         "2.  Proceden de los núcleos pontinos.",
         "3.  Se proyectan en las células granulosas.",
         "4.  Sinaptan directamente con las células de Purkinje.",
         "5. Forman las fibras paralelas.",
         "4",
         "2012"
        ],
        [
         "8",
         "9. Los canales semicirculares, el utrículo y el sác ulo tienen en común:",
         "1. Presentar otolitos.",
         "2.  Detectar la aceleración lineal.",
         "3.  Detectar la aceleración angular.",
         "4.  Tener un extremo llamado ampolla.",
         "5.  Estar llenos de endolinfa.",
         "5",
         "2012"
        ],
        [
         "9",
         "10. Son amielínicas las fibras:",
         "1. A alfa.",
         "2.  A beta.",
         "3.  A gamma.",
         "4.  B.",
         "5.  C.",
         "5",
         "2012"
        ]
       ],
       "shape": {
        "columns": 8,
        "rows": 10
       }
      },
      "text/html": [
       "<div>\n",
       "<style scoped>\n",
       "    .dataframe tbody tr th:only-of-type {\n",
       "        vertical-align: middle;\n",
       "    }\n",
       "\n",
       "    .dataframe tbody tr th {\n",
       "        vertical-align: top;\n",
       "    }\n",
       "\n",
       "    .dataframe thead th {\n",
       "        text-align: right;\n",
       "    }\n",
       "</style>\n",
       "<table border=\"1\" class=\"dataframe\">\n",
       "  <thead>\n",
       "    <tr style=\"text-align: right;\">\n",
       "      <th></th>\n",
       "      <th>Question</th>\n",
       "      <th>Option_1</th>\n",
       "      <th>Option_2</th>\n",
       "      <th>Option_3</th>\n",
       "      <th>Option_4</th>\n",
       "      <th>Option_5</th>\n",
       "      <th>RC</th>\n",
       "      <th>year</th>\n",
       "    </tr>\n",
       "  </thead>\n",
       "  <tbody>\n",
       "    <tr>\n",
       "      <th>0</th>\n",
       "      <td>1. La fase de meseta del potencial de acción c...</td>\n",
       "      <td>1. Es característica de las células del nodo s...</td>\n",
       "      <td>2. Se origina por activación de canales de K +.</td>\n",
       "      <td>3.  Se debe a una conductancia al Na +  no ina...</td>\n",
       "      <td>4.  Se origina por activación de canales de Ca...</td>\n",
       "      <td>5.  Está medida por la inactivación de canales...</td>\n",
       "      <td>4</td>\n",
       "      <td>2012</td>\n",
       "    </tr>\n",
       "    <tr>\n",
       "      <th>1</th>\n",
       "      <td>2. Una solución 50 mM de CaCl2 es isoosmótica ...</td>\n",
       "      <td>1.50 mM NaCl.</td>\n",
       "      <td>2.  100 mM urea.</td>\n",
       "      <td>3.  150 mM NaCl.</td>\n",
       "      <td>4.  150 mM urea.</td>\n",
       "      <td>5.  100 mM NaCl.</td>\n",
       "      <td>4</td>\n",
       "      <td>2012</td>\n",
       "    </tr>\n",
       "    <tr>\n",
       "      <th>2</th>\n",
       "      <td>3. Las sinapsis eléctricas:</td>\n",
       "      <td>1. Permiten sólo el paso de iones.</td>\n",
       "      <td>2.  Presentan gran retardo sináptico.</td>\n",
       "      <td>3.  Son unidireccionales.</td>\n",
       "      <td>4.  Están medidas por conexones.</td>\n",
       "      <td>5.  Están en la unión neuromuscular.</td>\n",
       "      <td>4</td>\n",
       "      <td>2012</td>\n",
       "    </tr>\n",
       "    <tr>\n",
       "      <th>3</th>\n",
       "      <td>4. Permea Cl - el receptor:</td>\n",
       "      <td>1. Glicinérgico.</td>\n",
       "      <td>2.  Nicotínico.</td>\n",
       "      <td>3.  Adrenérgico alfa.</td>\n",
       "      <td>4.  Glutamatérgico tipo NMDA.</td>\n",
       "      <td>5.  Glutamatérgico tipo AMPA.</td>\n",
       "      <td>1</td>\n",
       "      <td>2012</td>\n",
       "    </tr>\n",
       "    <tr>\n",
       "      <th>4</th>\n",
       "      <td>5. La corteza motora primaria:</td>\n",
       "      <td>1. Está en la circunvolución precental.</td>\n",
       "      <td>2.  Evoca contracción de músculos ipsilaterales.</td>\n",
       "      <td>3.  Sus principales eferencias directas son al...</td>\n",
       "      <td>4.  Recibe aferencias exclusivamente del área ...</td>\n",
       "      <td>5.  Su lesión no impide realizar movimientos v...</td>\n",
       "      <td>1</td>\n",
       "      <td>2012</td>\n",
       "    </tr>\n",
       "    <tr>\n",
       "      <th>5</th>\n",
       "      <td>6. Es un núcleo motor troncoencefálico:</td>\n",
       "      <td>1. Putamen.</td>\n",
       "      <td>2.  Núcleo rojo.</td>\n",
       "      <td>3.  Fastigial.</td>\n",
       "      <td>4.  Caudado.</td>\n",
       "      <td>5.  Dentado.</td>\n",
       "      <td>2</td>\n",
       "      <td>2012</td>\n",
       "    </tr>\n",
       "    <tr>\n",
       "      <th>6</th>\n",
       "      <td>7. En el reflejo tendinoso de Golgi se inhiben:</td>\n",
       "      <td>1. Los órganos tendinosos de Golgi.</td>\n",
       "      <td>2.  Las fibras aferentes Ia.</td>\n",
       "      <td>3.  Las fibras aferentes Ib.</td>\n",
       "      <td>4.  Las motoneuronas α.</td>\n",
       "      <td>5.  Las motoneuronas γ.</td>\n",
       "      <td>4</td>\n",
       "      <td>2012</td>\n",
       "    </tr>\n",
       "    <tr>\n",
       "      <th>7</th>\n",
       "      <td>8. Las fibras trepadoras de la corteza cerebel...</td>\n",
       "      <td>1. Son inhibidoras.</td>\n",
       "      <td>2.  Proceden de los núcleos pontinos.</td>\n",
       "      <td>3.  Se proyectan en las células granulosas.</td>\n",
       "      <td>4.  Sinaptan directamente con las células de P...</td>\n",
       "      <td>5. Forman las fibras paralelas.</td>\n",
       "      <td>4</td>\n",
       "      <td>2012</td>\n",
       "    </tr>\n",
       "    <tr>\n",
       "      <th>8</th>\n",
       "      <td>9. Los canales semicirculares, el utrículo y e...</td>\n",
       "      <td>1. Presentar otolitos.</td>\n",
       "      <td>2.  Detectar la aceleración lineal.</td>\n",
       "      <td>3.  Detectar la aceleración angular.</td>\n",
       "      <td>4.  Tener un extremo llamado ampolla.</td>\n",
       "      <td>5.  Estar llenos de endolinfa.</td>\n",
       "      <td>5</td>\n",
       "      <td>2012</td>\n",
       "    </tr>\n",
       "    <tr>\n",
       "      <th>9</th>\n",
       "      <td>10. Son amielínicas las fibras:</td>\n",
       "      <td>1. A alfa.</td>\n",
       "      <td>2.  A beta.</td>\n",
       "      <td>3.  A gamma.</td>\n",
       "      <td>4.  B.</td>\n",
       "      <td>5.  C.</td>\n",
       "      <td>5</td>\n",
       "      <td>2012</td>\n",
       "    </tr>\n",
       "  </tbody>\n",
       "</table>\n",
       "</div>"
      ],
      "text/plain": [
       "                                            Question  \\\n",
       "0  1. La fase de meseta del potencial de acción c...   \n",
       "1  2. Una solución 50 mM de CaCl2 es isoosmótica ...   \n",
       "2                        3. Las sinapsis eléctricas:   \n",
       "3                        4. Permea Cl - el receptor:   \n",
       "4                     5. La corteza motora primaria:   \n",
       "5            6. Es un núcleo motor troncoencefálico:   \n",
       "6    7. En el reflejo tendinoso de Golgi se inhiben:   \n",
       "7  8. Las fibras trepadoras de la corteza cerebel...   \n",
       "8  9. Los canales semicirculares, el utrículo y e...   \n",
       "9                    10. Son amielínicas las fibras:   \n",
       "\n",
       "                                            Option_1  \\\n",
       "0  1. Es característica de las células del nodo s...   \n",
       "1                                      1.50 mM NaCl.   \n",
       "2                 1. Permiten sólo el paso de iones.   \n",
       "3                                   1. Glicinérgico.   \n",
       "4            1. Está en la circunvolución precental.   \n",
       "5                                        1. Putamen.   \n",
       "6                1. Los órganos tendinosos de Golgi.   \n",
       "7                                1. Son inhibidoras.   \n",
       "8                             1. Presentar otolitos.   \n",
       "9                                         1. A alfa.   \n",
       "\n",
       "                                           Option_2  \\\n",
       "0   2. Se origina por activación de canales de K +.   \n",
       "1                                  2.  100 mM urea.   \n",
       "2             2.  Presentan gran retardo sináptico.   \n",
       "3                                   2.  Nicotínico.   \n",
       "4  2.  Evoca contracción de músculos ipsilaterales.   \n",
       "5                                  2.  Núcleo rojo.   \n",
       "6                      2.  Las fibras aferentes Ia.   \n",
       "7             2.  Proceden de los núcleos pontinos.   \n",
       "8               2.  Detectar la aceleración lineal.   \n",
       "9                                       2.  A beta.   \n",
       "\n",
       "                                            Option_3  \\\n",
       "0  3.  Se debe a una conductancia al Na +  no ina...   \n",
       "1                                   3.  150 mM NaCl.   \n",
       "2                          3.  Son unidireccionales.   \n",
       "3                              3.  Adrenérgico alfa.   \n",
       "4  3.  Sus principales eferencias directas son al...   \n",
       "5                                     3.  Fastigial.   \n",
       "6                       3.  Las fibras aferentes Ib.   \n",
       "7        3.  Se proyectan en las células granulosas.   \n",
       "8               3.  Detectar la aceleración angular.   \n",
       "9                                       3.  A gamma.   \n",
       "\n",
       "                                            Option_4  \\\n",
       "0  4.  Se origina por activación de canales de Ca...   \n",
       "1                                   4.  150 mM urea.   \n",
       "2                   4.  Están medidas por conexones.   \n",
       "3                      4.  Glutamatérgico tipo NMDA.   \n",
       "4  4.  Recibe aferencias exclusivamente del área ...   \n",
       "5                                       4.  Caudado.   \n",
       "6                            4.  Las motoneuronas α.   \n",
       "7  4.  Sinaptan directamente con las células de P...   \n",
       "8              4.  Tener un extremo llamado ampolla.   \n",
       "9                                             4.  B.   \n",
       "\n",
       "                                            Option_5  RC  year  \n",
       "0  5.  Está medida por la inactivación de canales...   4  2012  \n",
       "1                                   5.  100 mM NaCl.   4  2012  \n",
       "2               5.  Están en la unión neuromuscular.   4  2012  \n",
       "3                      5.  Glutamatérgico tipo AMPA.   1  2012  \n",
       "4  5.  Su lesión no impide realizar movimientos v...   1  2012  \n",
       "5                                       5.  Dentado.   2  2012  \n",
       "6                            5.  Las motoneuronas γ.   4  2012  \n",
       "7                    5. Forman las fibras paralelas.   4  2012  \n",
       "8                     5.  Estar llenos de endolinfa.   5  2012  \n",
       "9                                             5.  C.   5  2012  "
      ]
     },
     "execution_count": 38,
     "metadata": {},
     "output_type": "execute_result"
    }
   ],
   "source": [
    "processed_exam_df.head(10)"
   ]
  },
  {
   "cell_type": "markdown",
   "metadata": {},
   "source": [
    "# Data Loading"
   ]
  },
  {
   "cell_type": "markdown",
   "metadata": {},
   "source": [
    "## Saving in csv file\n",
    "\n",
    "The `processed_exam_df` DataFrame, containing the cleaned and transformed exam data, is saved to a CSV file with the name generatd in the first step in the \"data\" directory. The `index=False` argument ensures that the DataFrame index is not written to the file, resulting in a cleaner output. This CSV file can be used for further analysis or as input for other applications."
   ]
  },
  {
   "cell_type": "code",
   "execution_count": 39,
   "metadata": {},
   "outputs": [],
   "source": [
    "processed_exam_df.to_csv(save_format, index= False)"
   ]
  },
  {
   "cell_type": "markdown",
   "metadata": {},
   "source": [
    "## Writing into data warehouse\n",
    "\n",
    "This section details the process of loading the cleaned and transformed exam data into an SQLite database, serving as a data warehouse for further analysis and querying.\n",
    "\n",
    "**1. Database Connection and Path:**\n",
    "\n",
    "The path to the SQLite database file is defined, and a connection is established using the `sqlite3` library."
   ]
  },
  {
   "cell_type": "code",
   "execution_count": 40,
   "metadata": {},
   "outputs": [],
   "source": [
    "db_path: str = \"../data/clean/bir_warehouse.db\""
   ]
  },
  {
   "cell_type": "markdown",
   "metadata": {},
   "source": [
    "**2. SQL Queries Definition:**\n",
    "\n",
    "Two SQL queries are defined: one for inserting questions into the questions table and another for inserting options into the questions_options table."
   ]
  },
  {
   "cell_type": "code",
   "execution_count": 41,
   "metadata": {},
   "outputs": [],
   "source": [
    "query_question: str = \"\"\"\n",
    "INSERT INTO questions (exam_year, exam_subject, question) \n",
    "VALUES((SELECT id_year FROM year WHERE year_name = ?),\n",
    "    (SELECT id_type FROM exam WHERE exam_type = ?),\n",
    "    ?);\n",
    "\"\"\"\n",
    "\n",
    "query_options: str = \"\"\"\n",
    "INSERT INTO questions_options (question_id, option_num, option_text, is_correct)\n",
    "VALUES((SELECT id FROM questions WHERE question = ?),\n",
    "    ?,\n",
    "    ?,\n",
    "    ?)\n",
    "\"\"\""
   ]
  },
  {
   "cell_type": "markdown",
   "metadata": {},
   "source": [
    "**3. Database Interaction and Data Insertion:**\n",
    "\n",
    "A with statement is used to establish a connection to the SQLite database, ensuring that the connection is properly closed after use. A cursor is created, and the processed_exam_df DataFrame is iterated over to insert each question and its options"
   ]
  },
  {
   "cell_type": "code",
   "execution_count": 42,
   "metadata": {},
   "outputs": [],
   "source": [
    "with sqlite3.connect(db_path) as bir_warehouse:\n",
    "    cur = bir_warehouse.cursor()\n",
    "    for question in processed_exam_df.itertuples():\n",
    "        cur.execute(query_question, (str(question[8]), exam_acronym, question[1]))\n",
    "        bir_warehouse.commit()\n",
    "        for n, option in enumerate(question[2:7]):\n",
    "            cur.execute(query_options, (question[1], n+1, option, n+1 == question[6]))\n",
    "            bir_warehouse.commit()"
   ]
  }
 ],
 "metadata": {
  "colab": {
   "provenance": []
  },
  "kernelspec": {
   "display_name": "bir_etl",
   "language": "python",
   "name": "python3"
  },
  "language_info": {
   "codemirror_mode": {
    "name": "ipython",
    "version": 3
   },
   "file_extension": ".py",
   "mimetype": "text/x-python",
   "name": "python",
   "nbconvert_exporter": "python",
   "pygments_lexer": "ipython3",
   "version": "3.12.7"
  }
 },
 "nbformat": 4,
 "nbformat_minor": 4
}
