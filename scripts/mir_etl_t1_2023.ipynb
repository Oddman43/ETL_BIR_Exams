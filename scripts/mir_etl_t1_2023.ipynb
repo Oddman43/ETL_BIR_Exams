{
 "cells": [
  {
   "cell_type": "markdown",
   "metadata": {
    "editable": true,
    "id": "56vKIohe8Jou",
    "slideshow": {
     "slide_type": ""
    },
    "tags": []
   },
   "source": [
    "# Data Extraction\n",
    "This section details the process of extracting question data from a PDF file and corresponding answer keys from a TSV file."
   ]
  },
  {
   "cell_type": "markdown",
   "metadata": {
    "id": "8kRORmWM8Joy"
   },
   "source": [
    "## Importing libraries"
   ]
  },
  {
   "cell_type": "markdown",
   "metadata": {},
   "source": [
    "* Pandas for data manipulation\n",
    "* NumPy for the NaN datatype\n",
    "* PyPDF for its ability to read the pfd files, although it requieres post-processing of the extracted text\n",
    "* sqlite3 to create load the clean data into `bir_warehouse.db`"
   ]
  },
  {
   "cell_type": "code",
   "execution_count": 1,
   "metadata": {
    "colab": {
     "base_uri": "https://localhost:8080/"
    },
    "id": "y8DpYYll8Joz",
    "outputId": "40cac5b3-1153-431b-f780-201aa62b5813"
   },
   "outputs": [],
   "source": [
    "import pandas as pd\n",
    "import numpy as np\n",
    "from pypdf import PdfReader\n",
    "import sqlite3"
   ]
  },
  {
   "cell_type": "markdown",
   "metadata": {},
   "source": [
    "## Selecting year and type of exam"
   ]
  },
  {
   "cell_type": "markdown",
   "metadata": {},
   "source": [
    "This function, `compute_expected_rows`, takes the exam year and topic as input and returns metadata crucial for subsequent data cleaning and loading steps. This metadata includes the expected maximum number of rows in the final DataFrame, the number of questions per exam, and the acronym for the exam type.  The maximum number of rows is calculated based on the number of questions and options per question for each year, following a specific pattern:\n",
    "\n",
    "*   2024-2021: 210 questions, 4 options each\n",
    "*   2020-2019: 185 questions, 4 options each\n",
    "*   2018-2015: 235 questions, 4 options each\n",
    "*   2014-2012: 235 questions, 5 options each\n",
    "*   2011-2004: 260 questions, 5 options each\n",
    "\n",
    "This information is essential for validating data integrity during the ETL process.  For example, the expected row count helps verify that all questions and options have been correctly extracted and transformed. The exam type acronym aids in consistent file naming and data organization."
   ]
  },
  {
   "cell_type": "code",
   "execution_count": 2,
   "metadata": {},
   "outputs": [],
   "source": [
    "def compute_expected_rows(year: int, topic: str) -> tuple:\n",
    "    \"\"\"Computes and returns metadata about the exam for a given year and topic\n",
    "\n",
    "    Args:\n",
    "        year (int): The year of the exam\n",
    "        topic (str): The topic of the exam\n",
    "\n",
    "    Returns:\n",
    "        tuple: Contains:\n",
    "            - max_rows: The expected maximum number of rows in the DataFrame\n",
    "            - num_options: The number of questions in the exam\n",
    "            - exam_type_acronym: The acronym for the exam type\n",
    "\n",
    "    \"\"\"\n",
    "    info_year_dict: dict = {\n",
    "        2011: [260, 5],\n",
    "        2014: [235, 5],\n",
    "        2018: [235, 4],\n",
    "        2020: [185, 4],\n",
    "        2021: [210, 4],\n",
    "    }\n",
    "    save_name_dict: dict = {\n",
    "        \"BIOLOGÍA\": \"bir\",\n",
    "        \"FARMACIA\": \"fir\",\n",
    "        \"QUÍMICA\": \"qir\",\n",
    "        \"MEDICINA\": \"mir\",\n",
    "    }\n",
    "    max_rows: int = 0\n",
    "    num_options: int = 0\n",
    "    for target_year, info_list in info_year_dict.items():\n",
    "        if year <= target_year:\n",
    "            max_rows = (info_list[0] * info_list[1]) + info_list[0]\n",
    "            num_options = info_list[1]\n",
    "            break\n",
    "    else:\n",
    "        max_rows = 1050\n",
    "        num_options = 4\n",
    "    return max_rows, num_options, save_name_dict[topic]"
   ]
  },
  {
   "cell_type": "markdown",
   "metadata": {},
   "source": [
    "### Add year of the exam and topic "
   ]
  },
  {
   "cell_type": "code",
   "execution_count": 3,
   "metadata": {},
   "outputs": [],
   "source": [
    "year: int = 2023\n",
    "topic: str = \"MEDICINA\" # Select from: BIOLOGÍA, FARMACIA, QUÍMICA, MEDICINA\n",
    "total_num_rows: int\n",
    "num_questions: int\n",
    "exam_acronym: str\n",
    "total_num_rows, num_questions, exam_acronym = compute_expected_rows(year, topic)\n",
    "save_format: str = f\"../data/clean/clean_{exam_acronym}_{year}.csv\""
   ]
  },
  {
   "cell_type": "code",
   "execution_count": 4,
   "metadata": {},
   "outputs": [],
   "source": [
    "add_list: list = [27, 28] + [x for x in range(33, 40, 1)] + [43, 46, 75, 129, 146, 151, 162, 170]"
   ]
  },
  {
   "cell_type": "markdown",
   "metadata": {
    "id": "Z1Kjq5ue8Jo1"
   },
   "source": [
    "## Extracting Questions from Pdf file"
   ]
  },
  {
   "cell_type": "markdown",
   "metadata": {},
   "source": [
    "This section focuses on extracting the textual content of the exam questions from the provided PDF file.\n",
    "\n",
    "**Path Definition:**\n",
    "\n",
    "The path to the PDF file is dynamically constructed using the provided `year` and `topic` variables. This ensures flexibility and allows the script to process different exam files without manual path adjustments.\n",
    "\n",
    "Finally it stores the output in a DataFrame and the first 10 rows of the resulting DataFrame are displayed for a quick preview of the loaded data."
   ]
  },
  {
   "cell_type": "code",
   "execution_count": 5,
   "metadata": {
    "id": "AB4M4yfr8Jo3"
   },
   "outputs": [
    {
     "data": {
      "application/vnd.microsoft.datawrangler.viewer.v0+json": {
       "columns": [
        {
         "name": "index",
         "rawType": "int64",
         "type": "integer"
        },
        {
         "name": "text",
         "rawType": "object",
         "type": "string"
        }
       ],
       "conversionMethod": "pd.DataFrame",
       "ref": "f9f7b1ff-14de-4f43-af7c-da4e5358ce40",
       "rows": [
        [
         "0",
         "1. Pregunta asociada a la imagen 1."
        ],
        [
         "1",
         "Hombre d e 56  a ños con un t umor p alpable en el"
        ],
        [
         "2",
         "lado izquierdo del cuello móvil a la deglución. Se"
        ],
        [
         "3",
         "acompaña d e di sfagia y d isfonía. Tiene historia"
        ],
        [
         "4",
         "familiar de tumo res endocrinos. ¿Cuál de l os"
        ],
        [
         "5",
         "siguientes es el diagnóstico anatomopatológico más"
        ],
        [
         "6",
         "probable de la lesión que aparece en la imagen?:"
        ],
        [
         "7",
         "1. Carcinoma papilar de tiroides."
        ],
        [
         "8",
         "2. Carcinoma medular de tiroides."
        ],
        [
         "9",
         "3. Linfoma difuso de célula grande."
        ]
       ],
       "shape": {
        "columns": 1,
        "rows": 10
       }
      },
      "text/html": [
       "<div>\n",
       "<style scoped>\n",
       "    .dataframe tbody tr th:only-of-type {\n",
       "        vertical-align: middle;\n",
       "    }\n",
       "\n",
       "    .dataframe tbody tr th {\n",
       "        vertical-align: top;\n",
       "    }\n",
       "\n",
       "    .dataframe thead th {\n",
       "        text-align: right;\n",
       "    }\n",
       "</style>\n",
       "<table border=\"1\" class=\"dataframe\">\n",
       "  <thead>\n",
       "    <tr style=\"text-align: right;\">\n",
       "      <th></th>\n",
       "      <th>text</th>\n",
       "    </tr>\n",
       "  </thead>\n",
       "  <tbody>\n",
       "    <tr>\n",
       "      <th>0</th>\n",
       "      <td>1. Pregunta asociada a la imagen 1.</td>\n",
       "    </tr>\n",
       "    <tr>\n",
       "      <th>1</th>\n",
       "      <td>Hombre d e 56  a ños con un t umor p alpable e...</td>\n",
       "    </tr>\n",
       "    <tr>\n",
       "      <th>2</th>\n",
       "      <td>lado izquierdo del cuello móvil a la deglución...</td>\n",
       "    </tr>\n",
       "    <tr>\n",
       "      <th>3</th>\n",
       "      <td>acompaña d e di sfagia y d isfonía. Tiene hist...</td>\n",
       "    </tr>\n",
       "    <tr>\n",
       "      <th>4</th>\n",
       "      <td>familiar de tumo res endocrinos. ¿Cuál de l os</td>\n",
       "    </tr>\n",
       "    <tr>\n",
       "      <th>5</th>\n",
       "      <td>siguientes es el diagnóstico anatomopatológico...</td>\n",
       "    </tr>\n",
       "    <tr>\n",
       "      <th>6</th>\n",
       "      <td>probable de la lesión que aparece en la imagen?:</td>\n",
       "    </tr>\n",
       "    <tr>\n",
       "      <th>7</th>\n",
       "      <td>1. Carcinoma papilar de tiroides.</td>\n",
       "    </tr>\n",
       "    <tr>\n",
       "      <th>8</th>\n",
       "      <td>2. Carcinoma medular de tiroides.</td>\n",
       "    </tr>\n",
       "    <tr>\n",
       "      <th>9</th>\n",
       "      <td>3. Linfoma difuso de célula grande.</td>\n",
       "    </tr>\n",
       "  </tbody>\n",
       "</table>\n",
       "</div>"
      ],
      "text/plain": [
       "                                                text\n",
       "0                1. Pregunta asociada a la imagen 1.\n",
       "1  Hombre d e 56  a ños con un t umor p alpable e...\n",
       "2  lado izquierdo del cuello móvil a la deglución...\n",
       "3  acompaña d e di sfagia y d isfonía. Tiene hist...\n",
       "4     familiar de tumo res endocrinos. ¿Cuál de l os\n",
       "5  siguientes es el diagnóstico anatomopatológico...\n",
       "6   probable de la lesión que aparece en la imagen?:\n",
       "7                  1. Carcinoma papilar de tiroides.\n",
       "8                  2. Carcinoma medular de tiroides.\n",
       "9                3. Linfoma difuso de célula grande."
      ]
     },
     "execution_count": 5,
     "metadata": {},
     "output_type": "execute_result"
    }
   ],
   "source": [
    "path: str = f\"../data/raw/type_1/Raw_Cuaderno_{year}_{topic}_0_C.pdf\"\n",
    "with PdfReader(path) as pdf_file:\n",
    "    full_text: list = []\n",
    "    for n in range(2, len(pdf_file.pages)):\n",
    "        page = pdf_file.pages[n]\n",
    "        text: str = page.extract_text()\n",
    "        full_text.extend(text.splitlines())\n",
    "raw_exam_df: pd.DataFrame = pd.DataFrame(full_text, columns=[\"text\"])\n",
    "raw_exam_df.head(10)"
   ]
  },
  {
   "cell_type": "markdown",
   "metadata": {
    "id": "IBhc5aFQ8Jo6"
   },
   "source": [
    "## Extracting Answers from .tsv file into a DataFrame"
   ]
  },
  {
   "cell_type": "markdown",
   "metadata": {},
   "source": [
    "This section focuses on extracting the answer key data from the provided .tsv file and loading it into a Pandas DataFrame.\n",
    "\n",
    "**Path Definition and Data Loading:**\n",
    "\n",
    "The path to the .tsv file is dynamically constructed using the `year` and `topic` variables, mirroring the approach used for the PDF file. This ensures consistency and flexibility in processing different exam files. \n",
    "\n",
    "The `pd.read_table()` function is then used to read the .tsv file directly into a Pandas DataFrame. Finally, the first 10 rows of the resulting DataFrame are displayed for a quick preview of the loaded data."
   ]
  },
  {
   "cell_type": "code",
   "execution_count": 6,
   "metadata": {
    "colab": {
     "base_uri": "https://localhost:8080/",
     "height": 206
    },
    "id": "O1ouB9mQ8Jo7",
    "outputId": "70b7615d-9c90-4f2d-b9e1-a5c86b507ef6"
   },
   "outputs": [
    {
     "data": {
      "application/vnd.microsoft.datawrangler.viewer.v0+json": {
       "columns": [
        {
         "name": "index",
         "rawType": "int64",
         "type": "integer"
        },
        {
         "name": "V",
         "rawType": "int64",
         "type": "integer"
        },
        {
         "name": "RC",
         "rawType": "int64",
         "type": "integer"
        },
        {
         "name": "V.1",
         "rawType": "int64",
         "type": "integer"
        },
        {
         "name": "RC.1",
         "rawType": "float64",
         "type": "float"
        },
        {
         "name": "V.2",
         "rawType": "int64",
         "type": "integer"
        },
        {
         "name": "RC.2",
         "rawType": "float64",
         "type": "float"
        },
        {
         "name": "V.3",
         "rawType": "int64",
         "type": "integer"
        },
        {
         "name": "RC.3",
         "rawType": "int64",
         "type": "integer"
        },
        {
         "name": "V.4",
         "rawType": "int64",
         "type": "integer"
        },
        {
         "name": "RC.4",
         "rawType": "float64",
         "type": "float"
        }
       ],
       "conversionMethod": "pd.DataFrame",
       "ref": "1d3eb654-0760-4873-a2eb-f64edaa3e1e6",
       "rows": [
        [
         "0",
         "1",
         "2",
         "43",
         "1.0",
         "85",
         "1.0",
         "127",
         "1",
         "169",
         "3.0"
        ],
        [
         "1",
         "2",
         "4",
         "44",
         "4.0",
         "86",
         "1.0",
         "128",
         "2",
         "170",
         "1.0"
        ],
        [
         "2",
         "3",
         "2",
         "45",
         "4.0",
         "87",
         "2.0",
         "129",
         "4",
         "171",
         "4.0"
        ],
        [
         "3",
         "4",
         "3",
         "46",
         "2.0",
         "88",
         "4.0",
         "130",
         "3",
         "172",
         "2.0"
        ],
        [
         "4",
         "5",
         "3",
         "47",
         "3.0",
         "89",
         "2.0",
         "131",
         "3",
         "173",
         "1.0"
        ],
        [
         "5",
         "6",
         "2",
         "48",
         "3.0",
         "90",
         "1.0",
         "132",
         "4",
         "174",
         "2.0"
        ],
        [
         "6",
         "7",
         "4",
         "49",
         "2.0",
         "91",
         "4.0",
         "133",
         "1",
         "175",
         "1.0"
        ],
        [
         "7",
         "8",
         "3",
         "50",
         "3.0",
         "92",
         "1.0",
         "134",
         "3",
         "176",
         "3.0"
        ],
        [
         "8",
         "9",
         "1",
         "51",
         "1.0",
         "93",
         "3.0",
         "135",
         "1",
         "177",
         "3.0"
        ],
        [
         "9",
         "10",
         "4",
         "52",
         "4.0",
         "94",
         "2.0",
         "136",
         "4",
         "178",
         "2.0"
        ]
       ],
       "shape": {
        "columns": 10,
        "rows": 10
       }
      },
      "text/html": [
       "<div>\n",
       "<style scoped>\n",
       "    .dataframe tbody tr th:only-of-type {\n",
       "        vertical-align: middle;\n",
       "    }\n",
       "\n",
       "    .dataframe tbody tr th {\n",
       "        vertical-align: top;\n",
       "    }\n",
       "\n",
       "    .dataframe thead th {\n",
       "        text-align: right;\n",
       "    }\n",
       "</style>\n",
       "<table border=\"1\" class=\"dataframe\">\n",
       "  <thead>\n",
       "    <tr style=\"text-align: right;\">\n",
       "      <th></th>\n",
       "      <th>V</th>\n",
       "      <th>RC</th>\n",
       "      <th>V.1</th>\n",
       "      <th>RC.1</th>\n",
       "      <th>V.2</th>\n",
       "      <th>RC.2</th>\n",
       "      <th>V.3</th>\n",
       "      <th>RC.3</th>\n",
       "      <th>V.4</th>\n",
       "      <th>RC.4</th>\n",
       "    </tr>\n",
       "  </thead>\n",
       "  <tbody>\n",
       "    <tr>\n",
       "      <th>0</th>\n",
       "      <td>1</td>\n",
       "      <td>2</td>\n",
       "      <td>43</td>\n",
       "      <td>1.0</td>\n",
       "      <td>85</td>\n",
       "      <td>1.0</td>\n",
       "      <td>127</td>\n",
       "      <td>1</td>\n",
       "      <td>169</td>\n",
       "      <td>3.0</td>\n",
       "    </tr>\n",
       "    <tr>\n",
       "      <th>1</th>\n",
       "      <td>2</td>\n",
       "      <td>4</td>\n",
       "      <td>44</td>\n",
       "      <td>4.0</td>\n",
       "      <td>86</td>\n",
       "      <td>1.0</td>\n",
       "      <td>128</td>\n",
       "      <td>2</td>\n",
       "      <td>170</td>\n",
       "      <td>1.0</td>\n",
       "    </tr>\n",
       "    <tr>\n",
       "      <th>2</th>\n",
       "      <td>3</td>\n",
       "      <td>2</td>\n",
       "      <td>45</td>\n",
       "      <td>4.0</td>\n",
       "      <td>87</td>\n",
       "      <td>2.0</td>\n",
       "      <td>129</td>\n",
       "      <td>4</td>\n",
       "      <td>171</td>\n",
       "      <td>4.0</td>\n",
       "    </tr>\n",
       "    <tr>\n",
       "      <th>3</th>\n",
       "      <td>4</td>\n",
       "      <td>3</td>\n",
       "      <td>46</td>\n",
       "      <td>2.0</td>\n",
       "      <td>88</td>\n",
       "      <td>4.0</td>\n",
       "      <td>130</td>\n",
       "      <td>3</td>\n",
       "      <td>172</td>\n",
       "      <td>2.0</td>\n",
       "    </tr>\n",
       "    <tr>\n",
       "      <th>4</th>\n",
       "      <td>5</td>\n",
       "      <td>3</td>\n",
       "      <td>47</td>\n",
       "      <td>3.0</td>\n",
       "      <td>89</td>\n",
       "      <td>2.0</td>\n",
       "      <td>131</td>\n",
       "      <td>3</td>\n",
       "      <td>173</td>\n",
       "      <td>1.0</td>\n",
       "    </tr>\n",
       "    <tr>\n",
       "      <th>5</th>\n",
       "      <td>6</td>\n",
       "      <td>2</td>\n",
       "      <td>48</td>\n",
       "      <td>3.0</td>\n",
       "      <td>90</td>\n",
       "      <td>1.0</td>\n",
       "      <td>132</td>\n",
       "      <td>4</td>\n",
       "      <td>174</td>\n",
       "      <td>2.0</td>\n",
       "    </tr>\n",
       "    <tr>\n",
       "      <th>6</th>\n",
       "      <td>7</td>\n",
       "      <td>4</td>\n",
       "      <td>49</td>\n",
       "      <td>2.0</td>\n",
       "      <td>91</td>\n",
       "      <td>4.0</td>\n",
       "      <td>133</td>\n",
       "      <td>1</td>\n",
       "      <td>175</td>\n",
       "      <td>1.0</td>\n",
       "    </tr>\n",
       "    <tr>\n",
       "      <th>7</th>\n",
       "      <td>8</td>\n",
       "      <td>3</td>\n",
       "      <td>50</td>\n",
       "      <td>3.0</td>\n",
       "      <td>92</td>\n",
       "      <td>1.0</td>\n",
       "      <td>134</td>\n",
       "      <td>3</td>\n",
       "      <td>176</td>\n",
       "      <td>3.0</td>\n",
       "    </tr>\n",
       "    <tr>\n",
       "      <th>8</th>\n",
       "      <td>9</td>\n",
       "      <td>1</td>\n",
       "      <td>51</td>\n",
       "      <td>1.0</td>\n",
       "      <td>93</td>\n",
       "      <td>3.0</td>\n",
       "      <td>135</td>\n",
       "      <td>1</td>\n",
       "      <td>177</td>\n",
       "      <td>3.0</td>\n",
       "    </tr>\n",
       "    <tr>\n",
       "      <th>9</th>\n",
       "      <td>10</td>\n",
       "      <td>4</td>\n",
       "      <td>52</td>\n",
       "      <td>4.0</td>\n",
       "      <td>94</td>\n",
       "      <td>2.0</td>\n",
       "      <td>136</td>\n",
       "      <td>4</td>\n",
       "      <td>178</td>\n",
       "      <td>2.0</td>\n",
       "    </tr>\n",
       "  </tbody>\n",
       "</table>\n",
       "</div>"
      ],
      "text/plain": [
       "    V  RC  V.1  RC.1  V.2  RC.2  V.3  RC.3  V.4  RC.4\n",
       "0   1   2   43   1.0   85   1.0  127     1  169   3.0\n",
       "1   2   4   44   4.0   86   1.0  128     2  170   1.0\n",
       "2   3   2   45   4.0   87   2.0  129     4  171   4.0\n",
       "3   4   3   46   2.0   88   4.0  130     3  172   2.0\n",
       "4   5   3   47   3.0   89   2.0  131     3  173   1.0\n",
       "5   6   2   48   3.0   90   1.0  132     4  174   2.0\n",
       "6   7   4   49   2.0   91   4.0  133     1  175   1.0\n",
       "7   8   3   50   3.0   92   1.0  134     3  176   3.0\n",
       "8   9   1   51   1.0   93   3.0  135     1  177   3.0\n",
       "9  10   4   52   4.0   94   2.0  136     4  178   2.0"
      ]
     },
     "execution_count": 6,
     "metadata": {},
     "output_type": "execute_result"
    }
   ],
   "source": [
    "raw_answers_df: pd.DataFrame = pd.read_table(f\"../data/raw/type_1/Raw_Cuaderno_{year}_{topic}_0_C_Respuestas.tsv\")\n",
    "raw_answers_df.head(10)"
   ]
  },
  {
   "cell_type": "markdown",
   "metadata": {
    "id": "uFFlTADP8Jo7"
   },
   "source": [
    "# Data Transformation"
   ]
  },
  {
   "cell_type": "markdown",
   "metadata": {},
   "source": [
    "## Exam pdf"
   ]
  },
  {
   "cell_type": "markdown",
   "metadata": {},
   "source": [
    "### Removing white space"
   ]
  },
  {
   "cell_type": "markdown",
   "metadata": {
    "id": "2QavIIOK8Jo7"
   },
   "source": [
    "This section focuses on cleaning the raw text extracted from the PDF exam file, preparing it for further processing. This involves removing extraneous whitespace, handling empty lines, and resetting the DataFrame index.\n",
    "\n",
    "**1. Removing Page Number Artifacts:**\n",
    "\n",
    "The extracted text may contain page number artifacts, which are removed by filtering out rows containing the string \"Página\"."
   ]
  },
  {
   "cell_type": "code",
   "execution_count": 7,
   "metadata": {},
   "outputs": [],
   "source": [
    "raw_exam_df = raw_exam_df[~raw_exam_df[\"text\"].str.contains(\"Página\")]\n",
    "raw_exam_df = raw_exam_df[~raw_exam_df[\"text\"].str.contains(\"Pagina\")]\n",
    "raw_exam_df = raw_exam_df[~raw_exam_df[\"text\"].str.contains(topic)]\n",
    "\n",
    "footer_list: list = [f\"- {npag} -\" for npag in range(0,30,1)]\n",
    "\n",
    "for footer in footer_list:\n",
    "    raw_exam_df[\"text\"] = raw_exam_df[\"text\"].str.replace(footer, \"\")"
   ]
  },
  {
   "cell_type": "markdown",
   "metadata": {},
   "source": [
    "**2. Striping Leading/Trailing Whitespaces**\n",
    "\n",
    "Leading and trailing whitespace characters are removed from each text entry using the .str.strip() method."
   ]
  },
  {
   "cell_type": "code",
   "execution_count": 8,
   "metadata": {},
   "outputs": [],
   "source": [
    "raw_exam_df = raw_exam_df[\"text\"].str.strip()"
   ]
  },
  {
   "cell_type": "markdown",
   "metadata": {},
   "source": [
    "**3. Handling Empty Lines**\n",
    "\n",
    "Empty lines, represented as empty strings, are replaced with NaN (Not a Number) values. \n",
    "\n",
    "Then rows containing NaN values, representing empty lines, are removed from the DataFrame using .dropna()"
   ]
  },
  {
   "cell_type": "code",
   "execution_count": 9,
   "metadata": {},
   "outputs": [],
   "source": [
    "raw_exam_df = raw_exam_df.replace(\"\", np.nan)\n",
    "raw_exam_df = raw_exam_df.dropna()"
   ]
  },
  {
   "cell_type": "markdown",
   "metadata": {},
   "source": [
    "**4. Reseting DataFrame Index**\n",
    "\n",
    "The DataFrame index is reset after removing rows, ensuring a contiguous index and dropping the old index."
   ]
  },
  {
   "cell_type": "code",
   "execution_count": 10,
   "metadata": {},
   "outputs": [],
   "source": [
    "raw_exam_df = raw_exam_df.reset_index(drop=True)"
   ]
  },
  {
   "cell_type": "markdown",
   "metadata": {},
   "source": [
    "**5. Displays the first 10 rows of the DataFrame**"
   ]
  },
  {
   "cell_type": "code",
   "execution_count": 11,
   "metadata": {},
   "outputs": [
    {
     "data": {
      "text/plain": [
       "0                  1. Pregunta asociada a la imagen 1.\n",
       "1    Hombre d e 56  a ños con un t umor p alpable e...\n",
       "2    lado izquierdo del cuello móvil a la deglución...\n",
       "3    acompaña d e di sfagia y d isfonía. Tiene hist...\n",
       "4       familiar de tumo res endocrinos. ¿Cuál de l os\n",
       "5    siguientes es el diagnóstico anatomopatológico...\n",
       "6     probable de la lesión que aparece en la imagen?:\n",
       "7                    1. Carcinoma papilar de tiroides.\n",
       "8                    2. Carcinoma medular de tiroides.\n",
       "9                  3. Linfoma difuso de célula grande.\n",
       "Name: text, dtype: object"
      ]
     },
     "execution_count": 11,
     "metadata": {},
     "output_type": "execute_result"
    }
   ],
   "source": [
    "raw_exam_df.head(10)"
   ]
  },
  {
   "cell_type": "code",
   "execution_count": 12,
   "metadata": {},
   "outputs": [
    {
     "data": {
      "text/plain": [
       "3055      2. No se puede cumplimentar el CMD por tratarse\n",
       "3056                de muerte sospechosa de criminalidad.\n",
       "3057      3. No se puede cumplimentar el CMD por que sólo\n",
       "3058     se di spone de  cri terios de presunción y no de\n",
       "3059        confirmación, au nque la s circunstancias del\n",
       "3060                fallecimiento y la patobiografía sean\n",
       "3061                                         compatibles.\n",
       "3062    4. Se hará constar la infección por COVID-19 e...\n",
       "3063           apartado de causa fund amental y no e n el\n",
       "3064                         apartado de causa inmediata.\n",
       "Name: text, dtype: object"
      ]
     },
     "execution_count": 12,
     "metadata": {},
     "output_type": "execute_result"
    }
   ],
   "source": [
    "raw_exam_df.tail(10)"
   ]
  },
  {
   "cell_type": "markdown",
   "metadata": {},
   "source": [
    "### Joining Truncated Lines"
   ]
  },
  {
   "cell_type": "markdown",
   "metadata": {},
   "source": [
    "This section addresses the issue of truncated lines and multi-line questions or options within the extracted exam text. A custom function, `process_multi_line_str`, is used to concatenate these lines, ensuring that each question and option is presented as a single, coherent string.\n",
    "\n",
    "**Function: `process_multi_line_str(df)`**\n",
    "\n",
    "This function iterates through the DataFrame, performing two main tasks:\n",
    "\n",
    "1.  **Joining Truncated Words:**\n",
    "    * It checks if a line ends with a hyphen (\"-\"), indicating a word that has been truncated at the end of a line.\n",
    "    * If a line is truncated, it removes the hyphen and appends the content of the following line to the current line.\n",
    "    * The following line is then removed from the DataFrame, and the index is reset.\n",
    "\n",
    "2.  **Joining Multi-Line Questions/Options:**\n",
    "    * It checks if the first character of the next line can be converted to an integer. This is used as a heuristic to identify the start of a new question or option.\n",
    "    * If the next line does not start with an integer (i.e., it's a continuation of the current question or option), it is appended to the current line, separated by a space.\n",
    "    * The next line is then removed, and the index is reset."
   ]
  },
  {
   "cell_type": "code",
   "execution_count": 13,
   "metadata": {
    "id": "rYZHjn_C8Jo8"
   },
   "outputs": [],
   "source": [
    "def process_multi_line_str(df: pd.DataFrame) -> pd.DataFrame:\n",
    "    \"\"\"Function to handle truncated lines\n",
    "\n",
    "    Args:\n",
    "        df (pd.DataFrame): A pandas dataframe\n",
    "\n",
    "    Returns:\n",
    "        pd.DataFrame: Returns the DataFrame without truncated lines\n",
    "    \"\"\"\n",
    "    i: int = 0\n",
    "    while i < len(df) - 1:\n",
    "        if i < len(df) -1  and df.iloc[i].endswith(\"-\"):\n",
    "            df.iloc[i] = df.iloc[i][:-1] + df.iloc[i + 1]\n",
    "            df = df.drop(i + 1)\n",
    "            df = df.reset_index(drop=True)\n",
    "        else:\n",
    "            i += 1\n",
    "    n: int = 0\n",
    "    while n < len(df) -1:\n",
    "        if n + 1 < len(df):\n",
    "            try:\n",
    "                int(df.iloc[n + 1][0:1])\n",
    "                n += 1\n",
    "            except ValueError:\n",
    "                df.iloc[n] = df.iloc[n] + \" \" + df.iloc[n + 1]\n",
    "                df = df.drop(n +1)\n",
    "                df = df.reset_index(drop= True)\n",
    "        else:\n",
    "            break\n",
    "    return df"
   ]
  },
  {
   "cell_type": "markdown",
   "metadata": {},
   "source": [
    "The process_multi_line_str function is applied to the cleaned raw_exam_df DataFrame, and the resulting DataFrame is stored in exam_df_concat. The first few rows of the concatenated DataFrame are displayed to verify the results."
   ]
  },
  {
   "cell_type": "code",
   "execution_count": 14,
   "metadata": {
    "colab": {
     "base_uri": "https://localhost:8080/",
     "height": 206
    },
    "id": "2v6dmQuM8_v1",
    "outputId": "215f5328-a43d-4bbb-f221-fba6fc10a5c1"
   },
   "outputs": [
    {
     "data": {
      "text/plain": [
       "0    1. Pregunta asociada a la imagen 1. Hombre d e...\n",
       "1                    1. Carcinoma papilar de tiroides.\n",
       "2                    2. Carcinoma medular de tiroides.\n",
       "3                  3. Linfoma difuso de célula grande.\n",
       "4                                 4. Sarcoma sinovial.\n",
       "5    2. Pregunta asociada a la imagen 2. Paciente q...\n",
       "6                 1. Fractura panfacial tipo Lefort I.\n",
       "7                2. Fractura panfacial tipo Lefort II.\n",
       "8         3. Fractura mandibular bicondílea inestable.\n",
       "9    4. Fractura ma ndibular bilateral en ramas hor...\n",
       "Name: text, dtype: object"
      ]
     },
     "execution_count": 14,
     "metadata": {},
     "output_type": "execute_result"
    }
   ],
   "source": [
    "exam_df_concat: pd.DataFrame = process_multi_line_str(raw_exam_df)\n",
    "exam_df_concat.head(10)"
   ]
  },
  {
   "cell_type": "markdown",
   "metadata": {},
   "source": [
    "### Validating and Correction Incorrect Rows"
   ]
  },
  {
   "cell_type": "markdown",
   "metadata": {},
   "source": [
    "This section focuses on validating the number of rows in the cleaned DataFrame against the expected number and correcting any rows that do not conform to the expected format.\n",
    "\n",
    "**1. Calculating Expected and Actual Incorrect Rows:**\n",
    "\n",
    "We calculate the expected number of incorrect rows by subtracting the total expected rows from the current number of rows in the DataFrame. We then identify the actual number of incorrect rows by counting the rows that do not end with a period (\".\"), a colon (\":\") or interrogation sign (\"?\")."
   ]
  },
  {
   "cell_type": "code",
   "execution_count": 15,
   "metadata": {},
   "outputs": [
    {
     "name": "stdout",
     "output_type": "stream",
     "text": [
      "Number of expected incorrect rows = 27\n",
      "Number of rows not ending with '.', ':' or '?' = 33\n",
      "[55, 81, 242, 269, 270, 271, 272, 288, 289, 295, 336, 364, 366, 368, 375, 386, 498, 506, 509, 623, 634, 665, 752, 837, 859, 894, 905, 916, 917, 933, 944, 967, 1041]\n"
     ]
    }
   ],
   "source": [
    "num_rows_incorrect_expected: int = len(exam_df_concat) - total_num_rows\n",
    "num_rows_incorrect: int = exam_df_concat[~exam_df_concat.str.endswith((\".\", \":\", \"?\"))].count()\n",
    "id_rows_incorrect: list = exam_df_concat[~exam_df_concat.str.endswith((\".\", \":\", \"?\"))].index.to_list()\n",
    "print(f\"Number of expected incorrect rows = {num_rows_incorrect_expected}\")\n",
    "print(f\"Number of rows not ending with '.', ':' or '?' = {num_rows_incorrect}\")\n",
    "print(id_rows_incorrect)"
   ]
  },
  {
   "cell_type": "markdown",
   "metadata": {},
   "source": [
    "**2. Function: print_rows_incorrrect(wrong_id, df):**\n",
    "\n",
    "This function takes a list of incorrect row indices and the DataFrame as input. It then prints the row identified as incorrect along with the 2 rows before and 2 rows after, providing context to help determine how to fix the error."
   ]
  },
  {
   "cell_type": "code",
   "execution_count": 16,
   "metadata": {},
   "outputs": [],
   "source": [
    "def print_rows_incorrrect(wrong_id: list[int], df: pd.DataFrame) -> None:\n",
    "    \"\"\"Print +/- 2 rows for context\n",
    "\n",
    "    Args:\n",
    "        wrong_id (list): Generated list of wrong row_id\n",
    "        df (pd.DataFrame): DataFrame corresponding with the worng_id list\n",
    "    \"\"\"\n",
    "    for wid in wrong_id:\n",
    "        print(f\"Id to fix {wid}:\")\n",
    "        print(df.iloc[wid -2: wid +3])"
   ]
  },
  {
   "cell_type": "markdown",
   "metadata": {},
   "source": [
    "**3. Function: fix_incorrect(num_row, df):**\n",
    "\n",
    "This function takes a list of row indices to fix and the DataFrame. It iterates through the indices in reverse order to avoid index shifting problems. Each incorrect row is concatenated with the row immediately following it, and the subsequent row is then dropped. The DataFrame index is reset after each concatenation."
   ]
  },
  {
   "cell_type": "code",
   "execution_count": 17,
   "metadata": {},
   "outputs": [],
   "source": [
    "def fix_incorrect(num_row: list[int], df: pd.DataFrame) -> pd.DataFrame:\n",
    "    \"\"\"Fix the incorrect rows in the DataFrame\n",
    "\n",
    "    Args:\n",
    "        num_row (list): List of ids to fix\n",
    "        df (pd.DataFrame): The DataFrame to fix\n",
    "\n",
    "    Returns:\n",
    "        pd.DataFrame: Fixed\n",
    "    \"\"\"\n",
    "    num_row: list = sorted(num_row, reverse=True)\n",
    "    for n in num_row:\n",
    "        df.iloc[n] = df.iloc[n] + df.iloc[n + 1]\n",
    "        df = df.drop(n + 1)\n",
    "        df = df.reset_index(drop= True)\n",
    "    return df"
   ]
  },
  {
   "cell_type": "markdown",
   "metadata": {},
   "source": [
    "**4. Validation and Correction Logic:**\n",
    "\n",
    "We compare the expected and actual number of incorrect rows. If they match, we proceed to fix the incorrect rows using the `fix_incorrect` function. Otherwise, we print the context of the incorrect rows and raise a warning, indicating that manual inspection and correction are required."
   ]
  },
  {
   "cell_type": "code",
   "execution_count": 18,
   "metadata": {},
   "outputs": [
    {
     "name": "stdout",
     "output_type": "stream",
     "text": [
      "Id to fix 55:\n",
      "53                         3. Pseudoaneurisma de aorta.\n",
      "54            4. Disección de aorta tipo A de Stanford.\n",
      "55    12. Pregunta asociada a la imagen 12. Hombre d...\n",
      "56    0,95 cm2 (imagen). ¿Cuál es el diagnóstico más...\n",
      "57    1. Estenosis valvular aórtica grave con indica...\n",
      "Name: text, dtype: object\n",
      "Id to fix 81:\n",
      "79                                    3. Esquistocitos.\n",
      "80                                      4. Acantocitos.\n",
      "81    17. Pregunta asociada a la imagen 17. Hombre d...\n",
      "82    180/110 mm Hg, iniciá ndose tratamiento con en...\n",
      "83    1. Tiene una estenosis unilateral de la arteri...\n",
      "Name: text, dtype: object\n",
      "Id to fix 242:\n",
      "240                                      3. Acamprosato.\n",
      "241                                          4. Tiamina.\n",
      "242    49. Un artículo describe un ensayo clínico ale...\n",
      "243    42 centr os sanitari os de  16 países dis tint...\n",
      "244    1. Al ser una investigación alea torizada, el ...\n",
      "Name: text, dtype: object\n",
      "Id to fix 269:\n",
      "267                                      4. Sevoflurano.\n",
      "268    54. Se gún la cla sificación del esta do físic...\n",
      "269                                                1. IV\n",
      "270                                               2. III\n",
      "271                                                3. II\n",
      "Name: text, dtype: object\n",
      "Id to fix 270:\n",
      "268    54. Se gún la cla sificación del esta do físic...\n",
      "269                                                1. IV\n",
      "270                                               2. III\n",
      "271                                                3. II\n",
      "272                                                 4. I\n",
      "Name: text, dtype: object\n",
      "Id to fix 271:\n",
      "269                                  1. IV\n",
      "270                                 2. III\n",
      "271                                  3. II\n",
      "272                                   4. I\n",
      "273    55. El carcinoma adenoide quístico:\n",
      "Name: text, dtype: object\n",
      "Id to fix 272:\n",
      "270                                               2. III\n",
      "271                                                3. II\n",
      "272                                                 4. I\n",
      "273                  55. El carcinoma adenoide quístico:\n",
      "274    1. Es el t umor malign o más frecu ente de las...\n",
      "Name: text, dtype: object\n",
      "Id to fix 288:\n",
      "286    3. Colgajo pediculado de t rapecio (musculocut...\n",
      "287    4. Colgajo lib re SCIP (d erivado d el sistema...\n",
      "288    58. Hombre de 45 años con antecedentes de quer...\n",
      "289    1,0 en OD y 0,6 en OI, la presión intr aocular...\n",
      "290    18 mmH g en OD y 35 mmH g en OI. L a exploraci...\n",
      "Name: text, dtype: object\n",
      "Id to fix 289:\n",
      "287    4. Colgajo lib re SCIP (d erivado d el sistema...\n",
      "288    58. Hombre de 45 años con antecedentes de quer...\n",
      "289    1,0 en OD y 0,6 en OI, la presión intr aocular...\n",
      "290    18 mmH g en OD y 35 mmH g en OI. L a exploraci...\n",
      "291                             1. Uveítis hipertensiva.\n",
      "Name: text, dtype: object\n",
      "Id to fix 295:\n",
      "293                             3. Glaucoma neovascular.\n",
      "294                   4. Queratitis epitelial herpética.\n",
      "295    59. Mu jer de 57 años que c onsulta para una r...\n",
      "296    16 m mHg en ambos o jos. ¿Cuál de las si guien...\n",
      "297    1. Realizar un e studio ref ractivo para valor...\n",
      "Name: text, dtype: object\n",
      "Id to fix 336:\n",
      "334                      3. Progresión a leiomiosarcoma.\n",
      "335                                 4. Parto pretérmino.\n",
      "336    67. Mujer de  35 años sin antecedentes de inte...\n",
      "337    2011), a nejos norm ales, no líquido libre e n...\n",
      "338    1. Le explica los hallazgos y descarta que el ...\n",
      "Name: text, dtype: object\n",
      "Id to fix 364:\n",
      "362    72. Gestante de 29 sem anas remitida por s osp...\n",
      "363    1. Se t rata de un feto pequeño para l a edad ...\n",
      "364    2. Se trata de un feto CIR tipo 1: finalizació...\n",
      "365                                          37 semanas.\n",
      "366    3. Se trata de un feto CIR tipo 2: finalizació...\n",
      "Name: text, dtype: object\n",
      "Id to fix 366:\n",
      "364    2. Se trata de un feto CIR tipo 1: finalizació...\n",
      "365                                          37 semanas.\n",
      "366    3. Se trata de un feto CIR tipo 2: finalizació...\n",
      "367                                          34 semanas.\n",
      "368    4. Se trata de un feto CIR tipo 3: finalizació...\n",
      "Name: text, dtype: object\n",
      "Id to fix 368:\n",
      "366    3. Se trata de un feto CIR tipo 2: finalizació...\n",
      "367                                          34 semanas.\n",
      "368    4. Se trata de un feto CIR tipo 3: finalizació...\n",
      "369                                          30 semanas.\n",
      "370    73. En relación con la tos fe rina pr oducida ...\n",
      "Name: text, dtype: object\n",
      "Id to fix 375:\n",
      "373    3. El \"g allo\" (esfuerzo inspiratorio masivo) ...\n",
      "374    4. Los vómito s po steriores al ep isodio paro...\n",
      "375    74. Paciente de 3 años que ac ude a ur gencias...\n",
      "376    50.000/mm3 y elevaci ón de tr ansaminasas. En ...\n",
      "377                          1. Fascitis estreptocócica.\n",
      "Name: text, dtype: object\n",
      "Id to fix 386:\n",
      "384    3. La bro nquiolitis se produce po r obstrucci...\n",
      "385    4. El tratamient o se  basa  e n aeros oles de...\n",
      "386    76. Niña de  10 años que presenta e n un  anál...\n",
      "387    1 (a nti-LKM-1). El cua dro que presenta tiene...\n",
      "388                            1. Hipogammaglobulinemia.\n",
      "Name: text, dtype: object\n",
      "Id to fix 498:\n",
      "496                                       4. Cefotaxima.\n",
      "497    98. Paciente de 27 años que sufre un accidente...\n",
      "498                        1. Fractura-luxación de C7-T1\n",
      "499    2. Fractura esta llido de L 2 con a fectación ...\n",
      "500    3. Isquemia med ular lum bar s ecundaria a l t...\n",
      "Name: text, dtype: object\n",
      "Id to fix 506:\n",
      "504    2. Proponer u na revisión en 6 meses con un es...\n",
      "505    3. Derivar a  fi sioterapia para estiramientos...\n",
      "506    4. Recomendar natación para corregir y revisió...\n",
      "507                                             6 meses.\n",
      "508    100. Mujer de 52 años, c arnicera de pr ofesió...\n",
      "Name: text, dtype: object\n",
      "Id to fix 509:\n",
      "507                                             6 meses.\n",
      "508    100. Mujer de 52 años, c arnicera de pr ofesió...\n",
      "509    1. Iniciar t ratamiento con AINE, so licitar u...\n",
      "510    2. Derivar a un cirujano especialista para hac...\n",
      "511    3. Si hay l imitación pasiva del  bal ance art...\n",
      "Name: text, dtype: object\n",
      "Id to fix 623:\n",
      "621    3. Ensayo terapéutico con prótesis de avanzami...\n",
      "622         4. Iniciar tratamiento con servoventilación.\n",
      "623    123. Paciente de 75 años, fumador (IPA 35), qu...\n",
      "624    1720 mL (62 %) , FE V1 610 mL (30 %) y FEV1/FE...\n",
      "625    1. Se trata d e una alteración ventilatoria mi...\n",
      "Name: text, dtype: object\n",
      "Id to fix 634:\n",
      "632    3. En ocasiones se asocia a enfermedades del t...\n",
      "633    4. La terap ia an tifibrótica (p irfenidona y ...\n",
      "634    125. Hombre de 65 años dia gnosticado de E POC...\n",
      "635    49 mmHg en la gasometría arterial. En la analí...\n",
      "636      1. Iniciar oxigenoterapia crónica domiciliaria.\n",
      "Name: text, dtype: object\n",
      "Id to fix 665:\n",
      "663    3. Aparece más fecuentemente en fases previas ...\n",
      "664    4. Presenta una incidencia acumulada anual may...\n",
      "665    131. Mujer de 24 años que c onsulta p or u n c...\n",
      "666    10 K g de peso en 3 mes es. En l a exploración...\n",
      "667                  1. Hemicolectomía derecha ampliada.\n",
      "Name: text, dtype: object\n",
      "Id to fix 752:\n",
      "750                   4. Repetir la ecografía abdominal.\n",
      "751    148. Hombre de 1 7 años que a cude a urgencias...\n",
      "752    1. Intento de detorsión testicular manual en r...\n",
      "753                                            24 horas.\n",
      "754    2. Toma d e constantes, an alítica u rgente (h...\n",
      "Name: text, dtype: object\n",
      "Id to fix 837:\n",
      "835                           3. Tiroidectomía subtotal.\n",
      "836                              4. Tiroidectomía total.\n",
      "837    165. Mujer de 25 años, obesa, que consulta por...\n",
      "838    110 lpm y no presenta bocio. Se rea liza a nal...\n",
      "839                           1. Tirotoxicosis facticia.\n",
      "Name: text, dtype: object\n",
      "Id to fix 859:\n",
      "857    4. Sólo está  indicado en pacientes inmunodepr...\n",
      "858    169. Ante un  c aso de sarna e n u n paci ente...\n",
      "859    1. El tratamiento de elección es permetrina tó...\n",
      "860    5 % desde la línea mandibular hasta los dedos ...\n",
      "861    2. Es preci so lavar l a ropa u sada en l as 4...\n",
      "Name: text, dtype: object\n",
      "Id to fix 894:\n",
      "892    3. Su perfil lipídico es adecuado porque su HD...\n",
      "893    4. Al dejar de fumar y ser mujer su riesgo es ...\n",
      "894    176. Paciente de 39 años que c onsulta para co...\n",
      "895    125 nmol/L). Respecto a esta lipoproteína, señ...\n",
      "896    1. Es un f actor d e riesgo independiente p ar...\n",
      "Name: text, dtype: object\n",
      "Id to fix 905:\n",
      "903                                     3. Acenocumarol.\n",
      "904                                     4. Fondaparinux.\n",
      "905    178. Hombre de 78 años con antecedentes de fib...\n",
      "906    171 U/L), función renal normal y  cLDL 1 08 mg...\n",
      "907    1. Hay qu e añadir ot ro hi polipemiante como ...\n",
      "Name: text, dtype: object\n",
      "Id to fix 916:\n",
      "914    3. La V SG normal descartaría el diagnóstico d...\n",
      "915    4. Un est udio angiográfico co n re sonancia m...\n",
      "916    180. Mujer de 45 años con antecede ntes de col...\n",
      "917    40ºC acompañada de escalofríos, astenia, anore...\n",
      "918    3M], Hb 9, 7, Hct o 28,6 % , V CM 9 5, C HCM 3...\n",
      "Name: text, dtype: object\n",
      "Id to fix 917:\n",
      "915    4. Un est udio angiográfico co n re sonancia m...\n",
      "916    180. Mujer de 45 años con antecede ntes de col...\n",
      "917    40ºC acompañada de escalofríos, astenia, anore...\n",
      "918    3M], Hb 9, 7, Hct o 28,6 % , V CM 9 5, C HCM 3...\n",
      "919    1. Puede asociarse a un sínd rome linfoprolife...\n",
      "Name: text, dtype: object\n",
      "Id to fix 933:\n",
      "931    3. Plantear la rotación del  trat amiento a na...\n",
      "932    4. Preguntar al paciente acerca de la intensid...\n",
      "933    183. Hombre de 73 años de edad diagnosticado h...\n",
      "934    25 mcg/h ca da 72 ho ras y metamizol  e n caso...\n",
      "935    1. En el cas o de dolor por metástasis óseas e...\n",
      "Name: text, dtype: object\n",
      "Id to fix 944:\n",
      "942    3. La de xametasona que s e emplea c omo antii...\n",
      "943    4. El h aloperidol qu e se u tiliza p ara pali...\n",
      "944    185. Mujer de 79 años con EPOC avanzada y FEV1...\n",
      "945    20 %, con disnea de mínimos esfuerzos y episod...\n",
      "946    1. No está i ndicada por deprimir el c entro r...\n",
      "Name: text, dtype: object\n",
      "Id to fix 967:\n",
      "965    189. En rela ción co n el índice tobillo-brazo...\n",
      "966    1. Se obtiene calculando la relación entre la ...\n",
      "967    2. Se considera normal si se obtienen valores ...\n",
      "968                                             1 y 1,5.\n",
      "969    3. Tiene una sen sibilidad del 95 % y una espe...\n",
      "Name: text, dtype: object\n",
      "Id to fix 1041:\n",
      "1039    3. EGFR, NRAS, KR AS, BRAF, proteínas reparado...\n",
      "1040    4. NRAS, KRAS, B RAF, p roteínas re paradoras,...\n",
      "1041    204. Hombre de 4 5 años que en las últimas 6 s...\n",
      "1042    3 días des arrolla una livedo reti cularis y v...\n",
      "1043    1. A d iferencia de lo objetivado en el p acie...\n",
      "Name: text, dtype: object\n"
     ]
    }
   ],
   "source": [
    "if num_rows_incorrect_expected == num_rows_incorrect:\n",
    "    exam_df_fixed = fix_incorrect(id_rows_incorrect, exam_df_concat)\n",
    "    df_correct_rows: bool = len(exam_df_fixed) == num_rows_incorrect_expected\n",
    "else:\n",
    "    print_rows_incorrrect(id_rows_incorrect, exam_df_concat)\n",
    "    # raise Warning(\"More incorrect rows that expected, uncomment the lines below and add ids to the list, and comment this line\")\n",
    "    rows_fix: list[int] = [55, 81, 242, 288, 289, 295, 336, 364, 366, 368, 375, 386, 506, 623, 634, 665, 752, 837, 859, 894, 905, 916, 917, 933, 944, 967, 1041]\n",
    "    exam_df_fixed: pd.DataFrame = fix_incorrect(rows_fix, exam_df_concat)"
   ]
  },
  {
   "cell_type": "markdown",
   "metadata": {},
   "source": [
    "**5. Verification of Corrected Rows:**\n",
    "\n",
    "We print the expected total number of rows and the actual number of rows in the corrected DataFrame to verify the results of the correction process."
   ]
  },
  {
   "cell_type": "code",
   "execution_count": 19,
   "metadata": {},
   "outputs": [
    {
     "name": "stdout",
     "output_type": "stream",
     "text": [
      "Correct number of rows = 1050\n",
      "1050\n"
     ]
    }
   ],
   "source": [
    "print(f\"Correct number of rows = {total_num_rows}\")\n",
    "print(exam_df_fixed.shape[0])"
   ]
  },
  {
   "cell_type": "markdown",
   "metadata": {},
   "source": [
    "### Pivoting the DataFrame\n",
    "\n",
    "This section focuses on transforming the cleaned exam data into a structured format suitable for analysis. The DataFrame is pivoted to create columns for each question and its corresponding options.\n",
    "\n",
    "**1. Preparing the DataFrame for Pivoting:**\n",
    "\n",
    "The `exam_df_fixed` Series is converted to a DataFrame, and a 'group' column is created to identify each question and its options. An 'option_num' column is then generated to enumerate the options within each group.\n"
   ]
  },
  {
   "cell_type": "code",
   "execution_count": 20,
   "metadata": {},
   "outputs": [],
   "source": [
    "exam_df_fixed = exam_df_fixed.to_frame()\n",
    "groups: pd.Series = pd.Series((exam_df_fixed.index // (num_questions+1)) +1)\n",
    "exam_df_fixed[\"group\"] = groups  \n",
    "exam_df_fixed[\"option_num\"] = exam_df_fixed.groupby(\"group\").cumcount() + 1"
   ]
  },
  {
   "cell_type": "markdown",
   "metadata": {},
   "source": [
    "**2. Pivoting the DataFrame:**\n",
    "\n",
    "The DataFrame is pivoted using the 'group' column as the index, the 'option_num' column as the columns, and the 'text' column as the values. The index is then reset."
   ]
  },
  {
   "cell_type": "code",
   "execution_count": 21,
   "metadata": {},
   "outputs": [],
   "source": [
    "exam_df_pivot: pd.DataFrame = exam_df_fixed.pivot(index=\"group\", columns=\"option_num\", values=\"text\")\n",
    "exam_df_pivot = exam_df_pivot.reset_index()"
   ]
  },
  {
   "cell_type": "markdown",
   "metadata": {},
   "source": [
    "**3. Renaming Columns:**\n",
    "\n",
    "The columns are renamed to more descriptive names, such as \"Question\", \"Option_1\", \"Option_2\", etc."
   ]
  },
  {
   "cell_type": "code",
   "execution_count": 22,
   "metadata": {},
   "outputs": [],
   "source": [
    "key_list: list = [x for x in range(1, num_questions+2, 1)]\n",
    "val_list: list = [\"Question\"] + [f\"Option_{x}\" for x in range(1, 4 + 1, 1)]\n",
    "\n",
    "exam_df_pivot = exam_df_pivot.rename_axis(None, axis=1).rename(columns=dict(zip(key_list, val_list)))"
   ]
  },
  {
   "cell_type": "markdown",
   "metadata": {},
   "source": [
    "**4. Dropping the 'group' Column:**\n",
    "\n",
    "The 'group' column is dropped as it is no longer needed"
   ]
  },
  {
   "cell_type": "code",
   "execution_count": 23,
   "metadata": {},
   "outputs": [],
   "source": [
    "exam_df_pivot = exam_df_pivot.drop(columns=[\"group\"])"
   ]
  },
  {
   "cell_type": "markdown",
   "metadata": {},
   "source": [
    "**5. Displaying the Pivoted DataFrame:**\n",
    "\n",
    "The first 10 rows of the pivoted DataFrame are displayed to verify the results of the transformation."
   ]
  },
  {
   "cell_type": "code",
   "execution_count": 24,
   "metadata": {},
   "outputs": [
    {
     "data": {
      "application/vnd.microsoft.datawrangler.viewer.v0+json": {
       "columns": [
        {
         "name": "index",
         "rawType": "int64",
         "type": "integer"
        },
        {
         "name": "Question",
         "rawType": "object",
         "type": "string"
        },
        {
         "name": "Option_1",
         "rawType": "object",
         "type": "string"
        },
        {
         "name": "Option_2",
         "rawType": "object",
         "type": "string"
        },
        {
         "name": "Option_3",
         "rawType": "object",
         "type": "string"
        },
        {
         "name": "Option_4",
         "rawType": "object",
         "type": "string"
        }
       ],
       "conversionMethod": "pd.DataFrame",
       "ref": "9db27a7c-59eb-4292-af4e-901416e07cd3",
       "rows": [
        [
         "0",
         "1. Pregunta asociada a la imagen 1. Hombre d e 56  a ños con un t umor p alpable en el lado izquierdo del cuello móvil a la deglución. Se acompaña d e di sfagia y d isfonía. Tiene historia familiar de tumo res endocrinos. ¿Cuál de l os siguientes es el diagnóstico anatomopatológico más probable de la lesión que aparece en la imagen?:",
         "1. Carcinoma papilar de tiroides.",
         "2. Carcinoma medular de tiroides.",
         "3. Linfoma difuso de célula grande.",
         "4. Sarcoma sinovial."
        ],
        [
         "1",
         "2. Pregunta asociada a la imagen 2. Paciente que ha sufrido un accide nte de  bicicleta con traumatismo facial di recto s obre l a región anterior de la mandíbula. Se realiza la tomo grafía computarizada (T C) d e la imagen que confirma una:",
         "1. Fractura panfacial tipo Lefort I.",
         "2. Fractura panfacial tipo Lefort II.",
         "3. Fractura mandibular bicondílea inestable.",
         "4. Fractura ma ndibular bilateral en ramas horizontales inestable."
        ],
        [
         "2",
         "3. Pregunta asociada a la imagen 3. Hombre de 75 años, sin antecedentes personales de interés, a gricultor jubilado, que a cude a la consulta re firiendo que  e n los últimos 10 años ha notado la aparición progresiva en cuer o cabelludo (es c alvo des de h ace años) de pequeñas pl acas eritematosas, muchas de el las c on desc amación y rasposas al tacto, siendo la mayoría asintomáticas, si bien alguna le molesta al tacto. Ante este cuadro clínico y la imagen ¿cuál de los si guientes sería el diagnóstico?:",
         "1. Dermatitis seborreica.",
         "2. Queratosis actínica.",
         "3. Liquen nitidus.",
         "4. Psoriasis."
        ],
        [
         "3",
         "4. Pregunta asociada a la imagen 4. Hombre de 25 años sin antecedentes personales de interés que acude a la c onsulta de der matología porque desde hace 4 semanas nota la aparición de unas pápul as aterci opeladas en l a zona peri anal (imagen), asintomáticas , que van aume ntado e n número poc o a poc o. ¿Cuál de  los siguientes diagnósticos es más probable?:",
         "1. Condiloma lata.",
         "2. Molluscum contagiosum.",
         "3. Condiloma acuminado.",
         "4. Liquen plano."
        ],
        [
         "4",
         "5. Pregunta asociada a la imagen 5. Mujer de 32 añ os co n dia gnóstico re ciente de carcinoma ductal infiltr ante G3 de mama izquierda, fenotipo triple negativo. Se muestran las imágenes de la PET-T C con  18F-FDG c on proyección de  intensidad máxima (MIP) y c ortes axiales a ni vel de m ama y a xila. De las siguientes afirmaciones, señale la correcta:",
         "1. El tratamiento electivo de inicio es tumorectomía y biopsia selectiva de ganglio centinela.",
         "2. El tratamiento electivo de inicio es mastectomía y biopsia selectiva del ganglio centinela.",
         "3. Se vis ualiza afectación en mama izquie rda y axilar ipsilateral.",
         "4. Se visualiza afectación en mama izquierda, axila izquierda y metástasis a distancia."
        ],
        [
         "5",
         "6. Pregunta asociada a la imagen 6. Mujer de 27 años, sin antecedentes de interés, que acude a ur gencias p or e pisodios tr ansitorios de pérdida de visió n bilateral de 15 segundos de duración, cefalea al despertarse y acúfenos de unas semanas de evolución. Tiene un IMC de 29. La RM craneal descarta lesiones ocupantes de  esp acio. Con la clínica referida y la imagen de fondo de ojo ¿cuál de las siguientes afirmaciones es correcta?:",
         "1. La pérdida de peso no es eficaz en esta situación.",
         "2. La acetazolamida y la furosemida s on fármacos empleados habitualmente.",
         "3. Se debe realizar una punción lumbar a ntes de la prueba de imagen.",
         "4. Los corticoides orales se usan ampliamente en el manejo de esta entidad."
        ],
        [
         "6",
         "7. Pregunta asociada a la imagen 7. Mujer de 57 añ os que c onsulta p or hipoacusi a derecha neur osensorial progresiva y ac úfenos. En relación c on l a imagen mostrada, indiq ue de qué exploración se trata y el diagnóstico más probable:",
         "1. RM sin contraste. Meningioma.",
         "2. TC con contraste. Tumor epidermoide.",
         "3. RM con contraste. Tumor glial.",
         "4. RM con contraste. Schwannoma vestibular."
        ],
        [
         "7",
         "8. Pregunta asociada a la imagen 8. Hombre de  84 años con antec edentes de hipertensión arterial, dislipemia e infarto agudo de miocardio. Acude a ur gencias por deterioro cognitivo r ápidamente progresivo, a mnesia, inestabilidad para la ma rcha y h emianopsia homónima izquierda. Se le  realiza la si guiente TC craneal. Señale cuál es el diagnóstico más probable ante el hallazgo mostrado:",
         "1. Absceso cerebral secundario a otitis media aguda derecha.",
         "2. Trombosis venosa del seno sigmoide derecho.",
         "3. Infarto i squémico ag udo e n t erritorio de a rteria cerebral posterior derecha.",
         "4. Neoplasia ce rebral de  origen glial c on e dema perilesional asociado."
        ],
        [
         "8",
         "9. Pregunta asociada a la imagen 9. Hombre de 72 años c on diagnóstico de carcinoma de cavidad oral inter venido hace tre s meses con resección c ompleta, e n tratamiento c on quimioterapia, po rtador de g astrostomía endoscópica percutánea profilác tica, que acude a urgencias por dolor y distensión abdominal de tres días de  evolu ción, intolerancia oral y ausencia de deposiciones. Se realiza l a TC abdominopélvica con c ontraste intr avenoso que se muestra en la imagen. ¿Cuál de lo s si guientes e s el diagnóstico más probable?:",
         "1. Obstrucción intestinal secunda ria a neoplasia estenosante de colon descendente.",
         "2. Obstrucción intestinal d e cau sa ex trínseca por carcinomatosis peritoneal.",
         "3. Obstrucción intestinal por mi gración e impactación de la sonda de gastrostomía.",
         "4. Obstrucción funcional o íleo pseudoobstructivo por fármacos."
        ],
        [
         "9",
         "10. Pregunta asociada a la imagen 10. Hombre de 61 años, que  recibió un trasplante alogénico haploidéntico hace 20 meses por linfoma no Hodgkin T, en respuesta completa, que consulta por un síndrome febril desde hace 72 horas con tos y expectoración blanquecina y disnea progresiva a moderados esfuerzos. Re fiere asteni a de sde hace un mes y me dio. Se realiz a la T C torácica que se muestra en la ima gen. ¿Cuál de los siguientes es el diagnóstico más probable?:",
         "1. Neumonía por Mycobacterium tuberculosis.",
         "2. Neumonía por Aspergillus.",
         "3. Neumonía por Streptococcus pneumoniae.",
         "4. Neumonía por Pneumocystis jirovecii."
        ]
       ],
       "shape": {
        "columns": 5,
        "rows": 10
       }
      },
      "text/html": [
       "<div>\n",
       "<style scoped>\n",
       "    .dataframe tbody tr th:only-of-type {\n",
       "        vertical-align: middle;\n",
       "    }\n",
       "\n",
       "    .dataframe tbody tr th {\n",
       "        vertical-align: top;\n",
       "    }\n",
       "\n",
       "    .dataframe thead th {\n",
       "        text-align: right;\n",
       "    }\n",
       "</style>\n",
       "<table border=\"1\" class=\"dataframe\">\n",
       "  <thead>\n",
       "    <tr style=\"text-align: right;\">\n",
       "      <th></th>\n",
       "      <th>Question</th>\n",
       "      <th>Option_1</th>\n",
       "      <th>Option_2</th>\n",
       "      <th>Option_3</th>\n",
       "      <th>Option_4</th>\n",
       "    </tr>\n",
       "  </thead>\n",
       "  <tbody>\n",
       "    <tr>\n",
       "      <th>0</th>\n",
       "      <td>1. Pregunta asociada a la imagen 1. Hombre d e...</td>\n",
       "      <td>1. Carcinoma papilar de tiroides.</td>\n",
       "      <td>2. Carcinoma medular de tiroides.</td>\n",
       "      <td>3. Linfoma difuso de célula grande.</td>\n",
       "      <td>4. Sarcoma sinovial.</td>\n",
       "    </tr>\n",
       "    <tr>\n",
       "      <th>1</th>\n",
       "      <td>2. Pregunta asociada a la imagen 2. Paciente q...</td>\n",
       "      <td>1. Fractura panfacial tipo Lefort I.</td>\n",
       "      <td>2. Fractura panfacial tipo Lefort II.</td>\n",
       "      <td>3. Fractura mandibular bicondílea inestable.</td>\n",
       "      <td>4. Fractura ma ndibular bilateral en ramas hor...</td>\n",
       "    </tr>\n",
       "    <tr>\n",
       "      <th>2</th>\n",
       "      <td>3. Pregunta asociada a la imagen 3. Hombre de ...</td>\n",
       "      <td>1. Dermatitis seborreica.</td>\n",
       "      <td>2. Queratosis actínica.</td>\n",
       "      <td>3. Liquen nitidus.</td>\n",
       "      <td>4. Psoriasis.</td>\n",
       "    </tr>\n",
       "    <tr>\n",
       "      <th>3</th>\n",
       "      <td>4. Pregunta asociada a la imagen 4. Hombre de ...</td>\n",
       "      <td>1. Condiloma lata.</td>\n",
       "      <td>2. Molluscum contagiosum.</td>\n",
       "      <td>3. Condiloma acuminado.</td>\n",
       "      <td>4. Liquen plano.</td>\n",
       "    </tr>\n",
       "    <tr>\n",
       "      <th>4</th>\n",
       "      <td>5. Pregunta asociada a la imagen 5. Mujer de 3...</td>\n",
       "      <td>1. El tratamiento electivo de inicio es tumore...</td>\n",
       "      <td>2. El tratamiento electivo de inicio es mastec...</td>\n",
       "      <td>3. Se vis ualiza afectación en mama izquie rda...</td>\n",
       "      <td>4. Se visualiza afectación en mama izquierda, ...</td>\n",
       "    </tr>\n",
       "    <tr>\n",
       "      <th>5</th>\n",
       "      <td>6. Pregunta asociada a la imagen 6. Mujer de 2...</td>\n",
       "      <td>1. La pérdida de peso no es eficaz en esta sit...</td>\n",
       "      <td>2. La acetazolamida y la furosemida s on fárma...</td>\n",
       "      <td>3. Se debe realizar una punción lumbar a ntes ...</td>\n",
       "      <td>4. Los corticoides orales se usan ampliamente ...</td>\n",
       "    </tr>\n",
       "    <tr>\n",
       "      <th>6</th>\n",
       "      <td>7. Pregunta asociada a la imagen 7. Mujer de 5...</td>\n",
       "      <td>1. RM sin contraste. Meningioma.</td>\n",
       "      <td>2. TC con contraste. Tumor epidermoide.</td>\n",
       "      <td>3. RM con contraste. Tumor glial.</td>\n",
       "      <td>4. RM con contraste. Schwannoma vestibular.</td>\n",
       "    </tr>\n",
       "    <tr>\n",
       "      <th>7</th>\n",
       "      <td>8. Pregunta asociada a la imagen 8. Hombre de ...</td>\n",
       "      <td>1. Absceso cerebral secundario a otitis media ...</td>\n",
       "      <td>2. Trombosis venosa del seno sigmoide derecho.</td>\n",
       "      <td>3. Infarto i squémico ag udo e n t erritorio d...</td>\n",
       "      <td>4. Neoplasia ce rebral de  origen glial c on e...</td>\n",
       "    </tr>\n",
       "    <tr>\n",
       "      <th>8</th>\n",
       "      <td>9. Pregunta asociada a la imagen 9. Hombre de ...</td>\n",
       "      <td>1. Obstrucción intestinal secunda ria a neopla...</td>\n",
       "      <td>2. Obstrucción intestinal d e cau sa ex trínse...</td>\n",
       "      <td>3. Obstrucción intestinal por mi gración e imp...</td>\n",
       "      <td>4. Obstrucción funcional o íleo pseudoobstruct...</td>\n",
       "    </tr>\n",
       "    <tr>\n",
       "      <th>9</th>\n",
       "      <td>10. Pregunta asociada a la imagen 10. Hombre d...</td>\n",
       "      <td>1. Neumonía por Mycobacterium tuberculosis.</td>\n",
       "      <td>2. Neumonía por Aspergillus.</td>\n",
       "      <td>3. Neumonía por Streptococcus pneumoniae.</td>\n",
       "      <td>4. Neumonía por Pneumocystis jirovecii.</td>\n",
       "    </tr>\n",
       "  </tbody>\n",
       "</table>\n",
       "</div>"
      ],
      "text/plain": [
       "                                            Question  \\\n",
       "0  1. Pregunta asociada a la imagen 1. Hombre d e...   \n",
       "1  2. Pregunta asociada a la imagen 2. Paciente q...   \n",
       "2  3. Pregunta asociada a la imagen 3. Hombre de ...   \n",
       "3  4. Pregunta asociada a la imagen 4. Hombre de ...   \n",
       "4  5. Pregunta asociada a la imagen 5. Mujer de 3...   \n",
       "5  6. Pregunta asociada a la imagen 6. Mujer de 2...   \n",
       "6  7. Pregunta asociada a la imagen 7. Mujer de 5...   \n",
       "7  8. Pregunta asociada a la imagen 8. Hombre de ...   \n",
       "8  9. Pregunta asociada a la imagen 9. Hombre de ...   \n",
       "9  10. Pregunta asociada a la imagen 10. Hombre d...   \n",
       "\n",
       "                                            Option_1  \\\n",
       "0                  1. Carcinoma papilar de tiroides.   \n",
       "1               1. Fractura panfacial tipo Lefort I.   \n",
       "2                          1. Dermatitis seborreica.   \n",
       "3                                 1. Condiloma lata.   \n",
       "4  1. El tratamiento electivo de inicio es tumore...   \n",
       "5  1. La pérdida de peso no es eficaz en esta sit...   \n",
       "6                   1. RM sin contraste. Meningioma.   \n",
       "7  1. Absceso cerebral secundario a otitis media ...   \n",
       "8  1. Obstrucción intestinal secunda ria a neopla...   \n",
       "9        1. Neumonía por Mycobacterium tuberculosis.   \n",
       "\n",
       "                                            Option_2  \\\n",
       "0                  2. Carcinoma medular de tiroides.   \n",
       "1              2. Fractura panfacial tipo Lefort II.   \n",
       "2                            2. Queratosis actínica.   \n",
       "3                          2. Molluscum contagiosum.   \n",
       "4  2. El tratamiento electivo de inicio es mastec...   \n",
       "5  2. La acetazolamida y la furosemida s on fárma...   \n",
       "6            2. TC con contraste. Tumor epidermoide.   \n",
       "7     2. Trombosis venosa del seno sigmoide derecho.   \n",
       "8  2. Obstrucción intestinal d e cau sa ex trínse...   \n",
       "9                       2. Neumonía por Aspergillus.   \n",
       "\n",
       "                                            Option_3  \\\n",
       "0                3. Linfoma difuso de célula grande.   \n",
       "1       3. Fractura mandibular bicondílea inestable.   \n",
       "2                                 3. Liquen nitidus.   \n",
       "3                            3. Condiloma acuminado.   \n",
       "4  3. Se vis ualiza afectación en mama izquie rda...   \n",
       "5  3. Se debe realizar una punción lumbar a ntes ...   \n",
       "6                  3. RM con contraste. Tumor glial.   \n",
       "7  3. Infarto i squémico ag udo e n t erritorio d...   \n",
       "8  3. Obstrucción intestinal por mi gración e imp...   \n",
       "9          3. Neumonía por Streptococcus pneumoniae.   \n",
       "\n",
       "                                            Option_4  \n",
       "0                               4. Sarcoma sinovial.  \n",
       "1  4. Fractura ma ndibular bilateral en ramas hor...  \n",
       "2                                      4. Psoriasis.  \n",
       "3                                   4. Liquen plano.  \n",
       "4  4. Se visualiza afectación en mama izquierda, ...  \n",
       "5  4. Los corticoides orales se usan ampliamente ...  \n",
       "6        4. RM con contraste. Schwannoma vestibular.  \n",
       "7  4. Neoplasia ce rebral de  origen glial c on e...  \n",
       "8  4. Obstrucción funcional o íleo pseudoobstruct...  \n",
       "9            4. Neumonía por Pneumocystis jirovecii.  "
      ]
     },
     "execution_count": 24,
     "metadata": {},
     "output_type": "execute_result"
    }
   ],
   "source": [
    "exam_df_pivot.head(10)"
   ]
  },
  {
   "cell_type": "markdown",
   "metadata": {},
   "source": [
    "## Answers tsv\n",
    "\n",
    "This section focuses on cleaning and consolidating the answer key data from the TSV file. The original data contains duplicate columns, which are processed and combined into a single, clean DataFrame.\n",
    "\n",
    "**1. Defining Column Lists:**\n",
    "\n",
    "We define lists containing the original column names and the duplicate column names."
   ]
  },
  {
   "cell_type": "code",
   "execution_count": 25,
   "metadata": {},
   "outputs": [],
   "source": [
    "original_col: list[str] = [\"V\", \"RC\"]\n",
    "duplicate_cols: list[str] = [\"V.1\", \"RC.1\", \"V.2\", \"RC.2\", \"V.3\", \"RC.3\", \"V.4\", \"RC.4\"]"
   ]
  },
  {
   "cell_type": "markdown",
   "metadata": {},
   "source": [
    "**2. Processing Duplicate Columns:**\n",
    "\n",
    "We iterate through the duplicate_cols list in pairs, extracting the corresponding columns, renaming them to the original column names, and appending them to a list of DataFrames."
   ]
  },
  {
   "cell_type": "code",
   "execution_count": 26,
   "metadata": {},
   "outputs": [],
   "source": [
    "answers_df_list: list[pd.DataFrame] = [raw_answers_df[original_col]]\n",
    "\n",
    "for i in range(0, len(duplicate_cols), 2):\n",
    "    pair_cols: list = duplicate_cols[i:i+2]\n",
    "    df_pair_col: pd.DataFrame = raw_answers_df[pair_cols].rename(columns={pair_cols[0]: \"V\", pair_cols[1]: \"RC\"})\n",
    "    answers_df_list.append(df_pair_col)"
   ]
  },
  {
   "cell_type": "markdown",
   "metadata": {},
   "source": [
    "**3. Concatenating DataFrames:**\n",
    "\n",
    "The list of DataFrames is concatenated into a single DataFrame, ignoring the original index."
   ]
  },
  {
   "cell_type": "code",
   "execution_count": 27,
   "metadata": {},
   "outputs": [],
   "source": [
    "answers_df_clean: pd.DataFrame = pd.concat(answers_df_list, ignore_index=True)"
   ]
  },
  {
   "cell_type": "markdown",
   "metadata": {},
   "source": [
    "**4. Displaying the Cleaned DataFrame:**\n",
    "\n",
    "The cleaned DataFrame is printed to verify the results of the consolidation process."
   ]
  },
  {
   "cell_type": "code",
   "execution_count": 28,
   "metadata": {},
   "outputs": [
    {
     "data": {
      "application/vnd.microsoft.datawrangler.viewer.v0+json": {
       "columns": [
        {
         "name": "index",
         "rawType": "int64",
         "type": "integer"
        },
        {
         "name": "V",
         "rawType": "int64",
         "type": "integer"
        },
        {
         "name": "RC",
         "rawType": "float64",
         "type": "float"
        }
       ],
       "conversionMethod": "pd.DataFrame",
       "ref": "3eec1ac5-7e68-4548-b9d1-10ce7be22278",
       "rows": [
        [
         "0",
         "1",
         "2.0"
        ],
        [
         "1",
         "2",
         "4.0"
        ],
        [
         "2",
         "3",
         "2.0"
        ],
        [
         "3",
         "4",
         "3.0"
        ],
        [
         "4",
         "5",
         "3.0"
        ],
        [
         "5",
         "6",
         "2.0"
        ],
        [
         "6",
         "7",
         "4.0"
        ],
        [
         "7",
         "8",
         "3.0"
        ],
        [
         "8",
         "9",
         "1.0"
        ],
        [
         "9",
         "10",
         "4.0"
        ]
       ],
       "shape": {
        "columns": 2,
        "rows": 10
       }
      },
      "text/html": [
       "<div>\n",
       "<style scoped>\n",
       "    .dataframe tbody tr th:only-of-type {\n",
       "        vertical-align: middle;\n",
       "    }\n",
       "\n",
       "    .dataframe tbody tr th {\n",
       "        vertical-align: top;\n",
       "    }\n",
       "\n",
       "    .dataframe thead th {\n",
       "        text-align: right;\n",
       "    }\n",
       "</style>\n",
       "<table border=\"1\" class=\"dataframe\">\n",
       "  <thead>\n",
       "    <tr style=\"text-align: right;\">\n",
       "      <th></th>\n",
       "      <th>V</th>\n",
       "      <th>RC</th>\n",
       "    </tr>\n",
       "  </thead>\n",
       "  <tbody>\n",
       "    <tr>\n",
       "      <th>0</th>\n",
       "      <td>1</td>\n",
       "      <td>2.0</td>\n",
       "    </tr>\n",
       "    <tr>\n",
       "      <th>1</th>\n",
       "      <td>2</td>\n",
       "      <td>4.0</td>\n",
       "    </tr>\n",
       "    <tr>\n",
       "      <th>2</th>\n",
       "      <td>3</td>\n",
       "      <td>2.0</td>\n",
       "    </tr>\n",
       "    <tr>\n",
       "      <th>3</th>\n",
       "      <td>4</td>\n",
       "      <td>3.0</td>\n",
       "    </tr>\n",
       "    <tr>\n",
       "      <th>4</th>\n",
       "      <td>5</td>\n",
       "      <td>3.0</td>\n",
       "    </tr>\n",
       "    <tr>\n",
       "      <th>5</th>\n",
       "      <td>6</td>\n",
       "      <td>2.0</td>\n",
       "    </tr>\n",
       "    <tr>\n",
       "      <th>6</th>\n",
       "      <td>7</td>\n",
       "      <td>4.0</td>\n",
       "    </tr>\n",
       "    <tr>\n",
       "      <th>7</th>\n",
       "      <td>8</td>\n",
       "      <td>3.0</td>\n",
       "    </tr>\n",
       "    <tr>\n",
       "      <th>8</th>\n",
       "      <td>9</td>\n",
       "      <td>1.0</td>\n",
       "    </tr>\n",
       "    <tr>\n",
       "      <th>9</th>\n",
       "      <td>10</td>\n",
       "      <td>4.0</td>\n",
       "    </tr>\n",
       "  </tbody>\n",
       "</table>\n",
       "</div>"
      ],
      "text/plain": [
       "    V   RC\n",
       "0   1  2.0\n",
       "1   2  4.0\n",
       "2   3  2.0\n",
       "3   4  3.0\n",
       "4   5  3.0\n",
       "5   6  2.0\n",
       "6   7  4.0\n",
       "7   8  3.0\n",
       "8   9  1.0\n",
       "9  10  4.0"
      ]
     },
     "execution_count": 28,
     "metadata": {},
     "output_type": "execute_result"
    }
   ],
   "source": [
    "answers_df_clean.head(10)"
   ]
  },
  {
   "cell_type": "markdown",
   "metadata": {},
   "source": [
    "## Joining the DataFrames\n",
    "\n",
    "This section focuses on merging the processed exam questions DataFrame with the cleaned answers DataFrame, performing final data cleaning, and verifying the integrity of the joined data.\n",
    "\n",
    "**1. Joining the DataFrames:**\n",
    "\n",
    "The pivoted exam questions DataFrame (`exam_df_pivot`) and the cleaned answers DataFrame (`answers_df_clean`) are joined horizontally using `pd.concat`. The 'V0' column, which represents the question number from the answers DataFrame, is then dropped. The first 10 rows of the joined DataFrame are displayed."
   ]
  },
  {
   "cell_type": "code",
   "execution_count": 29,
   "metadata": {},
   "outputs": [
    {
     "data": {
      "application/vnd.microsoft.datawrangler.viewer.v0+json": {
       "columns": [
        {
         "name": "index",
         "rawType": "int64",
         "type": "integer"
        },
        {
         "name": "Question",
         "rawType": "object",
         "type": "string"
        },
        {
         "name": "Option_1",
         "rawType": "object",
         "type": "string"
        },
        {
         "name": "Option_2",
         "rawType": "object",
         "type": "string"
        },
        {
         "name": "Option_3",
         "rawType": "object",
         "type": "string"
        },
        {
         "name": "Option_4",
         "rawType": "object",
         "type": "string"
        },
        {
         "name": "RC",
         "rawType": "float64",
         "type": "float"
        }
       ],
       "conversionMethod": "pd.DataFrame",
       "ref": "7b812240-42f5-4488-8198-f63a5eeed2ad",
       "rows": [
        [
         "0",
         "1. Pregunta asociada a la imagen 1. Hombre d e 56  a ños con un t umor p alpable en el lado izquierdo del cuello móvil a la deglución. Se acompaña d e di sfagia y d isfonía. Tiene historia familiar de tumo res endocrinos. ¿Cuál de l os siguientes es el diagnóstico anatomopatológico más probable de la lesión que aparece en la imagen?:",
         "1. Carcinoma papilar de tiroides.",
         "2. Carcinoma medular de tiroides.",
         "3. Linfoma difuso de célula grande.",
         "4. Sarcoma sinovial.",
         "2.0"
        ],
        [
         "1",
         "2. Pregunta asociada a la imagen 2. Paciente que ha sufrido un accide nte de  bicicleta con traumatismo facial di recto s obre l a región anterior de la mandíbula. Se realiza la tomo grafía computarizada (T C) d e la imagen que confirma una:",
         "1. Fractura panfacial tipo Lefort I.",
         "2. Fractura panfacial tipo Lefort II.",
         "3. Fractura mandibular bicondílea inestable.",
         "4. Fractura ma ndibular bilateral en ramas horizontales inestable.",
         "4.0"
        ],
        [
         "2",
         "3. Pregunta asociada a la imagen 3. Hombre de 75 años, sin antecedentes personales de interés, a gricultor jubilado, que a cude a la consulta re firiendo que  e n los últimos 10 años ha notado la aparición progresiva en cuer o cabelludo (es c alvo des de h ace años) de pequeñas pl acas eritematosas, muchas de el las c on desc amación y rasposas al tacto, siendo la mayoría asintomáticas, si bien alguna le molesta al tacto. Ante este cuadro clínico y la imagen ¿cuál de los si guientes sería el diagnóstico?:",
         "1. Dermatitis seborreica.",
         "2. Queratosis actínica.",
         "3. Liquen nitidus.",
         "4. Psoriasis.",
         "2.0"
        ],
        [
         "3",
         "4. Pregunta asociada a la imagen 4. Hombre de 25 años sin antecedentes personales de interés que acude a la c onsulta de der matología porque desde hace 4 semanas nota la aparición de unas pápul as aterci opeladas en l a zona peri anal (imagen), asintomáticas , que van aume ntado e n número poc o a poc o. ¿Cuál de  los siguientes diagnósticos es más probable?:",
         "1. Condiloma lata.",
         "2. Molluscum contagiosum.",
         "3. Condiloma acuminado.",
         "4. Liquen plano.",
         "3.0"
        ],
        [
         "4",
         "5. Pregunta asociada a la imagen 5. Mujer de 32 añ os co n dia gnóstico re ciente de carcinoma ductal infiltr ante G3 de mama izquierda, fenotipo triple negativo. Se muestran las imágenes de la PET-T C con  18F-FDG c on proyección de  intensidad máxima (MIP) y c ortes axiales a ni vel de m ama y a xila. De las siguientes afirmaciones, señale la correcta:",
         "1. El tratamiento electivo de inicio es tumorectomía y biopsia selectiva de ganglio centinela.",
         "2. El tratamiento electivo de inicio es mastectomía y biopsia selectiva del ganglio centinela.",
         "3. Se vis ualiza afectación en mama izquie rda y axilar ipsilateral.",
         "4. Se visualiza afectación en mama izquierda, axila izquierda y metástasis a distancia.",
         "3.0"
        ],
        [
         "5",
         "6. Pregunta asociada a la imagen 6. Mujer de 27 años, sin antecedentes de interés, que acude a ur gencias p or e pisodios tr ansitorios de pérdida de visió n bilateral de 15 segundos de duración, cefalea al despertarse y acúfenos de unas semanas de evolución. Tiene un IMC de 29. La RM craneal descarta lesiones ocupantes de  esp acio. Con la clínica referida y la imagen de fondo de ojo ¿cuál de las siguientes afirmaciones es correcta?:",
         "1. La pérdida de peso no es eficaz en esta situación.",
         "2. La acetazolamida y la furosemida s on fármacos empleados habitualmente.",
         "3. Se debe realizar una punción lumbar a ntes de la prueba de imagen.",
         "4. Los corticoides orales se usan ampliamente en el manejo de esta entidad.",
         "2.0"
        ],
        [
         "6",
         "7. Pregunta asociada a la imagen 7. Mujer de 57 añ os que c onsulta p or hipoacusi a derecha neur osensorial progresiva y ac úfenos. En relación c on l a imagen mostrada, indiq ue de qué exploración se trata y el diagnóstico más probable:",
         "1. RM sin contraste. Meningioma.",
         "2. TC con contraste. Tumor epidermoide.",
         "3. RM con contraste. Tumor glial.",
         "4. RM con contraste. Schwannoma vestibular.",
         "4.0"
        ],
        [
         "7",
         "8. Pregunta asociada a la imagen 8. Hombre de  84 años con antec edentes de hipertensión arterial, dislipemia e infarto agudo de miocardio. Acude a ur gencias por deterioro cognitivo r ápidamente progresivo, a mnesia, inestabilidad para la ma rcha y h emianopsia homónima izquierda. Se le  realiza la si guiente TC craneal. Señale cuál es el diagnóstico más probable ante el hallazgo mostrado:",
         "1. Absceso cerebral secundario a otitis media aguda derecha.",
         "2. Trombosis venosa del seno sigmoide derecho.",
         "3. Infarto i squémico ag udo e n t erritorio de a rteria cerebral posterior derecha.",
         "4. Neoplasia ce rebral de  origen glial c on e dema perilesional asociado.",
         "3.0"
        ],
        [
         "8",
         "9. Pregunta asociada a la imagen 9. Hombre de 72 años c on diagnóstico de carcinoma de cavidad oral inter venido hace tre s meses con resección c ompleta, e n tratamiento c on quimioterapia, po rtador de g astrostomía endoscópica percutánea profilác tica, que acude a urgencias por dolor y distensión abdominal de tres días de  evolu ción, intolerancia oral y ausencia de deposiciones. Se realiza l a TC abdominopélvica con c ontraste intr avenoso que se muestra en la imagen. ¿Cuál de lo s si guientes e s el diagnóstico más probable?:",
         "1. Obstrucción intestinal secunda ria a neoplasia estenosante de colon descendente.",
         "2. Obstrucción intestinal d e cau sa ex trínseca por carcinomatosis peritoneal.",
         "3. Obstrucción intestinal por mi gración e impactación de la sonda de gastrostomía.",
         "4. Obstrucción funcional o íleo pseudoobstructivo por fármacos.",
         "1.0"
        ],
        [
         "9",
         "10. Pregunta asociada a la imagen 10. Hombre de 61 años, que  recibió un trasplante alogénico haploidéntico hace 20 meses por linfoma no Hodgkin T, en respuesta completa, que consulta por un síndrome febril desde hace 72 horas con tos y expectoración blanquecina y disnea progresiva a moderados esfuerzos. Re fiere asteni a de sde hace un mes y me dio. Se realiz a la T C torácica que se muestra en la ima gen. ¿Cuál de los siguientes es el diagnóstico más probable?:",
         "1. Neumonía por Mycobacterium tuberculosis.",
         "2. Neumonía por Aspergillus.",
         "3. Neumonía por Streptococcus pneumoniae.",
         "4. Neumonía por Pneumocystis jirovecii.",
         "4.0"
        ]
       ],
       "shape": {
        "columns": 6,
        "rows": 10
       }
      },
      "text/html": [
       "<div>\n",
       "<style scoped>\n",
       "    .dataframe tbody tr th:only-of-type {\n",
       "        vertical-align: middle;\n",
       "    }\n",
       "\n",
       "    .dataframe tbody tr th {\n",
       "        vertical-align: top;\n",
       "    }\n",
       "\n",
       "    .dataframe thead th {\n",
       "        text-align: right;\n",
       "    }\n",
       "</style>\n",
       "<table border=\"1\" class=\"dataframe\">\n",
       "  <thead>\n",
       "    <tr style=\"text-align: right;\">\n",
       "      <th></th>\n",
       "      <th>Question</th>\n",
       "      <th>Option_1</th>\n",
       "      <th>Option_2</th>\n",
       "      <th>Option_3</th>\n",
       "      <th>Option_4</th>\n",
       "      <th>RC</th>\n",
       "    </tr>\n",
       "  </thead>\n",
       "  <tbody>\n",
       "    <tr>\n",
       "      <th>0</th>\n",
       "      <td>1. Pregunta asociada a la imagen 1. Hombre d e...</td>\n",
       "      <td>1. Carcinoma papilar de tiroides.</td>\n",
       "      <td>2. Carcinoma medular de tiroides.</td>\n",
       "      <td>3. Linfoma difuso de célula grande.</td>\n",
       "      <td>4. Sarcoma sinovial.</td>\n",
       "      <td>2.0</td>\n",
       "    </tr>\n",
       "    <tr>\n",
       "      <th>1</th>\n",
       "      <td>2. Pregunta asociada a la imagen 2. Paciente q...</td>\n",
       "      <td>1. Fractura panfacial tipo Lefort I.</td>\n",
       "      <td>2. Fractura panfacial tipo Lefort II.</td>\n",
       "      <td>3. Fractura mandibular bicondílea inestable.</td>\n",
       "      <td>4. Fractura ma ndibular bilateral en ramas hor...</td>\n",
       "      <td>4.0</td>\n",
       "    </tr>\n",
       "    <tr>\n",
       "      <th>2</th>\n",
       "      <td>3. Pregunta asociada a la imagen 3. Hombre de ...</td>\n",
       "      <td>1. Dermatitis seborreica.</td>\n",
       "      <td>2. Queratosis actínica.</td>\n",
       "      <td>3. Liquen nitidus.</td>\n",
       "      <td>4. Psoriasis.</td>\n",
       "      <td>2.0</td>\n",
       "    </tr>\n",
       "    <tr>\n",
       "      <th>3</th>\n",
       "      <td>4. Pregunta asociada a la imagen 4. Hombre de ...</td>\n",
       "      <td>1. Condiloma lata.</td>\n",
       "      <td>2. Molluscum contagiosum.</td>\n",
       "      <td>3. Condiloma acuminado.</td>\n",
       "      <td>4. Liquen plano.</td>\n",
       "      <td>3.0</td>\n",
       "    </tr>\n",
       "    <tr>\n",
       "      <th>4</th>\n",
       "      <td>5. Pregunta asociada a la imagen 5. Mujer de 3...</td>\n",
       "      <td>1. El tratamiento electivo de inicio es tumore...</td>\n",
       "      <td>2. El tratamiento electivo de inicio es mastec...</td>\n",
       "      <td>3. Se vis ualiza afectación en mama izquie rda...</td>\n",
       "      <td>4. Se visualiza afectación en mama izquierda, ...</td>\n",
       "      <td>3.0</td>\n",
       "    </tr>\n",
       "    <tr>\n",
       "      <th>5</th>\n",
       "      <td>6. Pregunta asociada a la imagen 6. Mujer de 2...</td>\n",
       "      <td>1. La pérdida de peso no es eficaz en esta sit...</td>\n",
       "      <td>2. La acetazolamida y la furosemida s on fárma...</td>\n",
       "      <td>3. Se debe realizar una punción lumbar a ntes ...</td>\n",
       "      <td>4. Los corticoides orales se usan ampliamente ...</td>\n",
       "      <td>2.0</td>\n",
       "    </tr>\n",
       "    <tr>\n",
       "      <th>6</th>\n",
       "      <td>7. Pregunta asociada a la imagen 7. Mujer de 5...</td>\n",
       "      <td>1. RM sin contraste. Meningioma.</td>\n",
       "      <td>2. TC con contraste. Tumor epidermoide.</td>\n",
       "      <td>3. RM con contraste. Tumor glial.</td>\n",
       "      <td>4. RM con contraste. Schwannoma vestibular.</td>\n",
       "      <td>4.0</td>\n",
       "    </tr>\n",
       "    <tr>\n",
       "      <th>7</th>\n",
       "      <td>8. Pregunta asociada a la imagen 8. Hombre de ...</td>\n",
       "      <td>1. Absceso cerebral secundario a otitis media ...</td>\n",
       "      <td>2. Trombosis venosa del seno sigmoide derecho.</td>\n",
       "      <td>3. Infarto i squémico ag udo e n t erritorio d...</td>\n",
       "      <td>4. Neoplasia ce rebral de  origen glial c on e...</td>\n",
       "      <td>3.0</td>\n",
       "    </tr>\n",
       "    <tr>\n",
       "      <th>8</th>\n",
       "      <td>9. Pregunta asociada a la imagen 9. Hombre de ...</td>\n",
       "      <td>1. Obstrucción intestinal secunda ria a neopla...</td>\n",
       "      <td>2. Obstrucción intestinal d e cau sa ex trínse...</td>\n",
       "      <td>3. Obstrucción intestinal por mi gración e imp...</td>\n",
       "      <td>4. Obstrucción funcional o íleo pseudoobstruct...</td>\n",
       "      <td>1.0</td>\n",
       "    </tr>\n",
       "    <tr>\n",
       "      <th>9</th>\n",
       "      <td>10. Pregunta asociada a la imagen 10. Hombre d...</td>\n",
       "      <td>1. Neumonía por Mycobacterium tuberculosis.</td>\n",
       "      <td>2. Neumonía por Aspergillus.</td>\n",
       "      <td>3. Neumonía por Streptococcus pneumoniae.</td>\n",
       "      <td>4. Neumonía por Pneumocystis jirovecii.</td>\n",
       "      <td>4.0</td>\n",
       "    </tr>\n",
       "  </tbody>\n",
       "</table>\n",
       "</div>"
      ],
      "text/plain": [
       "                                            Question  \\\n",
       "0  1. Pregunta asociada a la imagen 1. Hombre d e...   \n",
       "1  2. Pregunta asociada a la imagen 2. Paciente q...   \n",
       "2  3. Pregunta asociada a la imagen 3. Hombre de ...   \n",
       "3  4. Pregunta asociada a la imagen 4. Hombre de ...   \n",
       "4  5. Pregunta asociada a la imagen 5. Mujer de 3...   \n",
       "5  6. Pregunta asociada a la imagen 6. Mujer de 2...   \n",
       "6  7. Pregunta asociada a la imagen 7. Mujer de 5...   \n",
       "7  8. Pregunta asociada a la imagen 8. Hombre de ...   \n",
       "8  9. Pregunta asociada a la imagen 9. Hombre de ...   \n",
       "9  10. Pregunta asociada a la imagen 10. Hombre d...   \n",
       "\n",
       "                                            Option_1  \\\n",
       "0                  1. Carcinoma papilar de tiroides.   \n",
       "1               1. Fractura panfacial tipo Lefort I.   \n",
       "2                          1. Dermatitis seborreica.   \n",
       "3                                 1. Condiloma lata.   \n",
       "4  1. El tratamiento electivo de inicio es tumore...   \n",
       "5  1. La pérdida de peso no es eficaz en esta sit...   \n",
       "6                   1. RM sin contraste. Meningioma.   \n",
       "7  1. Absceso cerebral secundario a otitis media ...   \n",
       "8  1. Obstrucción intestinal secunda ria a neopla...   \n",
       "9        1. Neumonía por Mycobacterium tuberculosis.   \n",
       "\n",
       "                                            Option_2  \\\n",
       "0                  2. Carcinoma medular de tiroides.   \n",
       "1              2. Fractura panfacial tipo Lefort II.   \n",
       "2                            2. Queratosis actínica.   \n",
       "3                          2. Molluscum contagiosum.   \n",
       "4  2. El tratamiento electivo de inicio es mastec...   \n",
       "5  2. La acetazolamida y la furosemida s on fárma...   \n",
       "6            2. TC con contraste. Tumor epidermoide.   \n",
       "7     2. Trombosis venosa del seno sigmoide derecho.   \n",
       "8  2. Obstrucción intestinal d e cau sa ex trínse...   \n",
       "9                       2. Neumonía por Aspergillus.   \n",
       "\n",
       "                                            Option_3  \\\n",
       "0                3. Linfoma difuso de célula grande.   \n",
       "1       3. Fractura mandibular bicondílea inestable.   \n",
       "2                                 3. Liquen nitidus.   \n",
       "3                            3. Condiloma acuminado.   \n",
       "4  3. Se vis ualiza afectación en mama izquie rda...   \n",
       "5  3. Se debe realizar una punción lumbar a ntes ...   \n",
       "6                  3. RM con contraste. Tumor glial.   \n",
       "7  3. Infarto i squémico ag udo e n t erritorio d...   \n",
       "8  3. Obstrucción intestinal por mi gración e imp...   \n",
       "9          3. Neumonía por Streptococcus pneumoniae.   \n",
       "\n",
       "                                            Option_4   RC  \n",
       "0                               4. Sarcoma sinovial.  2.0  \n",
       "1  4. Fractura ma ndibular bilateral en ramas hor...  4.0  \n",
       "2                                      4. Psoriasis.  2.0  \n",
       "3                                   4. Liquen plano.  3.0  \n",
       "4  4. Se visualiza afectación en mama izquierda, ...  3.0  \n",
       "5  4. Los corticoides orales se usan ampliamente ...  2.0  \n",
       "6        4. RM con contraste. Schwannoma vestibular.  4.0  \n",
       "7  4. Neoplasia ce rebral de  origen glial c on e...  3.0  \n",
       "8  4. Obstrucción funcional o íleo pseudoobstruct...  1.0  \n",
       "9            4. Neumonía por Pneumocystis jirovecii.  4.0  "
      ]
     },
     "execution_count": 29,
     "metadata": {},
     "output_type": "execute_result"
    }
   ],
   "source": [
    "processed_exam_df: pd.DataFrame = pd.concat([exam_df_pivot, answers_df_clean], axis=1)\n",
    "processed_exam_df = processed_exam_df.drop(columns=[\"V\"])\n",
    "processed_exam_df.head(10)"
   ]
  },
  {
   "cell_type": "markdown",
   "metadata": {},
   "source": [
    "**2. Identifying and Handling Missing Values:**\n",
    "\n",
    "Missing values are then replaced with 0."
   ]
  },
  {
   "cell_type": "code",
   "execution_count": 30,
   "metadata": {},
   "outputs": [],
   "source": [
    "processed_exam_df = processed_exam_df.fillna(0)"
   ]
  },
  {
   "cell_type": "markdown",
   "metadata": {},
   "source": [
    "**3. Verifying Missing Values and Data Types:**\n",
    "\n",
    "The number of missing values in each column is checked, and the data types of the columns are displayed. The 'RC' (correct answer) column is then converted to integer type."
   ]
  },
  {
   "cell_type": "code",
   "execution_count": 31,
   "metadata": {},
   "outputs": [
    {
     "data": {
      "text/plain": [
       "Question    object\n",
       "Option_1    object\n",
       "Option_2    object\n",
       "Option_3    object\n",
       "Option_4    object\n",
       "RC           int32\n",
       "dtype: object"
      ]
     },
     "execution_count": 31,
     "metadata": {},
     "output_type": "execute_result"
    }
   ],
   "source": [
    "processed_exam_df.isnull().sum()\n",
    "processed_exam_df[\"RC\"] = processed_exam_df[\"RC\"].astype(int)\n",
    "processed_exam_df.dtypes"
   ]
  },
  {
   "cell_type": "markdown",
   "metadata": {},
   "source": [
    "**4. Adding year column**\n",
    "\n",
    "A column containing the year of the exam is added to the DataFrame."
   ]
  },
  {
   "cell_type": "code",
   "execution_count": 32,
   "metadata": {},
   "outputs": [],
   "source": [
    "processed_exam_df[\"year\"] = year"
   ]
  },
  {
   "cell_type": "markdown",
   "metadata": {},
   "source": [
    "**5. Displaying the Final DataFrame:**\n",
    "\n",
    "The first 10 rows of the final joined and cleaned DataFrame are displayed."
   ]
  },
  {
   "cell_type": "code",
   "execution_count": 33,
   "metadata": {},
   "outputs": [
    {
     "data": {
      "application/vnd.microsoft.datawrangler.viewer.v0+json": {
       "columns": [
        {
         "name": "index",
         "rawType": "int64",
         "type": "integer"
        },
        {
         "name": "Question",
         "rawType": "object",
         "type": "string"
        },
        {
         "name": "Option_1",
         "rawType": "object",
         "type": "string"
        },
        {
         "name": "Option_2",
         "rawType": "object",
         "type": "string"
        },
        {
         "name": "Option_3",
         "rawType": "object",
         "type": "string"
        },
        {
         "name": "Option_4",
         "rawType": "object",
         "type": "string"
        },
        {
         "name": "RC",
         "rawType": "int32",
         "type": "integer"
        },
        {
         "name": "year",
         "rawType": "int64",
         "type": "integer"
        }
       ],
       "conversionMethod": "pd.DataFrame",
       "ref": "4c7ec601-9027-4f9f-a21d-327f2b2bc2ec",
       "rows": [
        [
         "0",
         "1. Pregunta asociada a la imagen 1. Hombre d e 56  a ños con un t umor p alpable en el lado izquierdo del cuello móvil a la deglución. Se acompaña d e di sfagia y d isfonía. Tiene historia familiar de tumo res endocrinos. ¿Cuál de l os siguientes es el diagnóstico anatomopatológico más probable de la lesión que aparece en la imagen?:",
         "1. Carcinoma papilar de tiroides.",
         "2. Carcinoma medular de tiroides.",
         "3. Linfoma difuso de célula grande.",
         "4. Sarcoma sinovial.",
         "2",
         "2023"
        ],
        [
         "1",
         "2. Pregunta asociada a la imagen 2. Paciente que ha sufrido un accide nte de  bicicleta con traumatismo facial di recto s obre l a región anterior de la mandíbula. Se realiza la tomo grafía computarizada (T C) d e la imagen que confirma una:",
         "1. Fractura panfacial tipo Lefort I.",
         "2. Fractura panfacial tipo Lefort II.",
         "3. Fractura mandibular bicondílea inestable.",
         "4. Fractura ma ndibular bilateral en ramas horizontales inestable.",
         "4",
         "2023"
        ],
        [
         "2",
         "3. Pregunta asociada a la imagen 3. Hombre de 75 años, sin antecedentes personales de interés, a gricultor jubilado, que a cude a la consulta re firiendo que  e n los últimos 10 años ha notado la aparición progresiva en cuer o cabelludo (es c alvo des de h ace años) de pequeñas pl acas eritematosas, muchas de el las c on desc amación y rasposas al tacto, siendo la mayoría asintomáticas, si bien alguna le molesta al tacto. Ante este cuadro clínico y la imagen ¿cuál de los si guientes sería el diagnóstico?:",
         "1. Dermatitis seborreica.",
         "2. Queratosis actínica.",
         "3. Liquen nitidus.",
         "4. Psoriasis.",
         "2",
         "2023"
        ],
        [
         "3",
         "4. Pregunta asociada a la imagen 4. Hombre de 25 años sin antecedentes personales de interés que acude a la c onsulta de der matología porque desde hace 4 semanas nota la aparición de unas pápul as aterci opeladas en l a zona peri anal (imagen), asintomáticas , que van aume ntado e n número poc o a poc o. ¿Cuál de  los siguientes diagnósticos es más probable?:",
         "1. Condiloma lata.",
         "2. Molluscum contagiosum.",
         "3. Condiloma acuminado.",
         "4. Liquen plano.",
         "3",
         "2023"
        ],
        [
         "4",
         "5. Pregunta asociada a la imagen 5. Mujer de 32 añ os co n dia gnóstico re ciente de carcinoma ductal infiltr ante G3 de mama izquierda, fenotipo triple negativo. Se muestran las imágenes de la PET-T C con  18F-FDG c on proyección de  intensidad máxima (MIP) y c ortes axiales a ni vel de m ama y a xila. De las siguientes afirmaciones, señale la correcta:",
         "1. El tratamiento electivo de inicio es tumorectomía y biopsia selectiva de ganglio centinela.",
         "2. El tratamiento electivo de inicio es mastectomía y biopsia selectiva del ganglio centinela.",
         "3. Se vis ualiza afectación en mama izquie rda y axilar ipsilateral.",
         "4. Se visualiza afectación en mama izquierda, axila izquierda y metástasis a distancia.",
         "3",
         "2023"
        ],
        [
         "5",
         "6. Pregunta asociada a la imagen 6. Mujer de 27 años, sin antecedentes de interés, que acude a ur gencias p or e pisodios tr ansitorios de pérdida de visió n bilateral de 15 segundos de duración, cefalea al despertarse y acúfenos de unas semanas de evolución. Tiene un IMC de 29. La RM craneal descarta lesiones ocupantes de  esp acio. Con la clínica referida y la imagen de fondo de ojo ¿cuál de las siguientes afirmaciones es correcta?:",
         "1. La pérdida de peso no es eficaz en esta situación.",
         "2. La acetazolamida y la furosemida s on fármacos empleados habitualmente.",
         "3. Se debe realizar una punción lumbar a ntes de la prueba de imagen.",
         "4. Los corticoides orales se usan ampliamente en el manejo de esta entidad.",
         "2",
         "2023"
        ],
        [
         "6",
         "7. Pregunta asociada a la imagen 7. Mujer de 57 añ os que c onsulta p or hipoacusi a derecha neur osensorial progresiva y ac úfenos. En relación c on l a imagen mostrada, indiq ue de qué exploración se trata y el diagnóstico más probable:",
         "1. RM sin contraste. Meningioma.",
         "2. TC con contraste. Tumor epidermoide.",
         "3. RM con contraste. Tumor glial.",
         "4. RM con contraste. Schwannoma vestibular.",
         "4",
         "2023"
        ],
        [
         "7",
         "8. Pregunta asociada a la imagen 8. Hombre de  84 años con antec edentes de hipertensión arterial, dislipemia e infarto agudo de miocardio. Acude a ur gencias por deterioro cognitivo r ápidamente progresivo, a mnesia, inestabilidad para la ma rcha y h emianopsia homónima izquierda. Se le  realiza la si guiente TC craneal. Señale cuál es el diagnóstico más probable ante el hallazgo mostrado:",
         "1. Absceso cerebral secundario a otitis media aguda derecha.",
         "2. Trombosis venosa del seno sigmoide derecho.",
         "3. Infarto i squémico ag udo e n t erritorio de a rteria cerebral posterior derecha.",
         "4. Neoplasia ce rebral de  origen glial c on e dema perilesional asociado.",
         "3",
         "2023"
        ],
        [
         "8",
         "9. Pregunta asociada a la imagen 9. Hombre de 72 años c on diagnóstico de carcinoma de cavidad oral inter venido hace tre s meses con resección c ompleta, e n tratamiento c on quimioterapia, po rtador de g astrostomía endoscópica percutánea profilác tica, que acude a urgencias por dolor y distensión abdominal de tres días de  evolu ción, intolerancia oral y ausencia de deposiciones. Se realiza l a TC abdominopélvica con c ontraste intr avenoso que se muestra en la imagen. ¿Cuál de lo s si guientes e s el diagnóstico más probable?:",
         "1. Obstrucción intestinal secunda ria a neoplasia estenosante de colon descendente.",
         "2. Obstrucción intestinal d e cau sa ex trínseca por carcinomatosis peritoneal.",
         "3. Obstrucción intestinal por mi gración e impactación de la sonda de gastrostomía.",
         "4. Obstrucción funcional o íleo pseudoobstructivo por fármacos.",
         "1",
         "2023"
        ],
        [
         "9",
         "10. Pregunta asociada a la imagen 10. Hombre de 61 años, que  recibió un trasplante alogénico haploidéntico hace 20 meses por linfoma no Hodgkin T, en respuesta completa, que consulta por un síndrome febril desde hace 72 horas con tos y expectoración blanquecina y disnea progresiva a moderados esfuerzos. Re fiere asteni a de sde hace un mes y me dio. Se realiz a la T C torácica que se muestra en la ima gen. ¿Cuál de los siguientes es el diagnóstico más probable?:",
         "1. Neumonía por Mycobacterium tuberculosis.",
         "2. Neumonía por Aspergillus.",
         "3. Neumonía por Streptococcus pneumoniae.",
         "4. Neumonía por Pneumocystis jirovecii.",
         "4",
         "2023"
        ]
       ],
       "shape": {
        "columns": 7,
        "rows": 10
       }
      },
      "text/html": [
       "<div>\n",
       "<style scoped>\n",
       "    .dataframe tbody tr th:only-of-type {\n",
       "        vertical-align: middle;\n",
       "    }\n",
       "\n",
       "    .dataframe tbody tr th {\n",
       "        vertical-align: top;\n",
       "    }\n",
       "\n",
       "    .dataframe thead th {\n",
       "        text-align: right;\n",
       "    }\n",
       "</style>\n",
       "<table border=\"1\" class=\"dataframe\">\n",
       "  <thead>\n",
       "    <tr style=\"text-align: right;\">\n",
       "      <th></th>\n",
       "      <th>Question</th>\n",
       "      <th>Option_1</th>\n",
       "      <th>Option_2</th>\n",
       "      <th>Option_3</th>\n",
       "      <th>Option_4</th>\n",
       "      <th>RC</th>\n",
       "      <th>year</th>\n",
       "    </tr>\n",
       "  </thead>\n",
       "  <tbody>\n",
       "    <tr>\n",
       "      <th>0</th>\n",
       "      <td>1. Pregunta asociada a la imagen 1. Hombre d e...</td>\n",
       "      <td>1. Carcinoma papilar de tiroides.</td>\n",
       "      <td>2. Carcinoma medular de tiroides.</td>\n",
       "      <td>3. Linfoma difuso de célula grande.</td>\n",
       "      <td>4. Sarcoma sinovial.</td>\n",
       "      <td>2</td>\n",
       "      <td>2023</td>\n",
       "    </tr>\n",
       "    <tr>\n",
       "      <th>1</th>\n",
       "      <td>2. Pregunta asociada a la imagen 2. Paciente q...</td>\n",
       "      <td>1. Fractura panfacial tipo Lefort I.</td>\n",
       "      <td>2. Fractura panfacial tipo Lefort II.</td>\n",
       "      <td>3. Fractura mandibular bicondílea inestable.</td>\n",
       "      <td>4. Fractura ma ndibular bilateral en ramas hor...</td>\n",
       "      <td>4</td>\n",
       "      <td>2023</td>\n",
       "    </tr>\n",
       "    <tr>\n",
       "      <th>2</th>\n",
       "      <td>3. Pregunta asociada a la imagen 3. Hombre de ...</td>\n",
       "      <td>1. Dermatitis seborreica.</td>\n",
       "      <td>2. Queratosis actínica.</td>\n",
       "      <td>3. Liquen nitidus.</td>\n",
       "      <td>4. Psoriasis.</td>\n",
       "      <td>2</td>\n",
       "      <td>2023</td>\n",
       "    </tr>\n",
       "    <tr>\n",
       "      <th>3</th>\n",
       "      <td>4. Pregunta asociada a la imagen 4. Hombre de ...</td>\n",
       "      <td>1. Condiloma lata.</td>\n",
       "      <td>2. Molluscum contagiosum.</td>\n",
       "      <td>3. Condiloma acuminado.</td>\n",
       "      <td>4. Liquen plano.</td>\n",
       "      <td>3</td>\n",
       "      <td>2023</td>\n",
       "    </tr>\n",
       "    <tr>\n",
       "      <th>4</th>\n",
       "      <td>5. Pregunta asociada a la imagen 5. Mujer de 3...</td>\n",
       "      <td>1. El tratamiento electivo de inicio es tumore...</td>\n",
       "      <td>2. El tratamiento electivo de inicio es mastec...</td>\n",
       "      <td>3. Se vis ualiza afectación en mama izquie rda...</td>\n",
       "      <td>4. Se visualiza afectación en mama izquierda, ...</td>\n",
       "      <td>3</td>\n",
       "      <td>2023</td>\n",
       "    </tr>\n",
       "    <tr>\n",
       "      <th>5</th>\n",
       "      <td>6. Pregunta asociada a la imagen 6. Mujer de 2...</td>\n",
       "      <td>1. La pérdida de peso no es eficaz en esta sit...</td>\n",
       "      <td>2. La acetazolamida y la furosemida s on fárma...</td>\n",
       "      <td>3. Se debe realizar una punción lumbar a ntes ...</td>\n",
       "      <td>4. Los corticoides orales se usan ampliamente ...</td>\n",
       "      <td>2</td>\n",
       "      <td>2023</td>\n",
       "    </tr>\n",
       "    <tr>\n",
       "      <th>6</th>\n",
       "      <td>7. Pregunta asociada a la imagen 7. Mujer de 5...</td>\n",
       "      <td>1. RM sin contraste. Meningioma.</td>\n",
       "      <td>2. TC con contraste. Tumor epidermoide.</td>\n",
       "      <td>3. RM con contraste. Tumor glial.</td>\n",
       "      <td>4. RM con contraste. Schwannoma vestibular.</td>\n",
       "      <td>4</td>\n",
       "      <td>2023</td>\n",
       "    </tr>\n",
       "    <tr>\n",
       "      <th>7</th>\n",
       "      <td>8. Pregunta asociada a la imagen 8. Hombre de ...</td>\n",
       "      <td>1. Absceso cerebral secundario a otitis media ...</td>\n",
       "      <td>2. Trombosis venosa del seno sigmoide derecho.</td>\n",
       "      <td>3. Infarto i squémico ag udo e n t erritorio d...</td>\n",
       "      <td>4. Neoplasia ce rebral de  origen glial c on e...</td>\n",
       "      <td>3</td>\n",
       "      <td>2023</td>\n",
       "    </tr>\n",
       "    <tr>\n",
       "      <th>8</th>\n",
       "      <td>9. Pregunta asociada a la imagen 9. Hombre de ...</td>\n",
       "      <td>1. Obstrucción intestinal secunda ria a neopla...</td>\n",
       "      <td>2. Obstrucción intestinal d e cau sa ex trínse...</td>\n",
       "      <td>3. Obstrucción intestinal por mi gración e imp...</td>\n",
       "      <td>4. Obstrucción funcional o íleo pseudoobstruct...</td>\n",
       "      <td>1</td>\n",
       "      <td>2023</td>\n",
       "    </tr>\n",
       "    <tr>\n",
       "      <th>9</th>\n",
       "      <td>10. Pregunta asociada a la imagen 10. Hombre d...</td>\n",
       "      <td>1. Neumonía por Mycobacterium tuberculosis.</td>\n",
       "      <td>2. Neumonía por Aspergillus.</td>\n",
       "      <td>3. Neumonía por Streptococcus pneumoniae.</td>\n",
       "      <td>4. Neumonía por Pneumocystis jirovecii.</td>\n",
       "      <td>4</td>\n",
       "      <td>2023</td>\n",
       "    </tr>\n",
       "  </tbody>\n",
       "</table>\n",
       "</div>"
      ],
      "text/plain": [
       "                                            Question  \\\n",
       "0  1. Pregunta asociada a la imagen 1. Hombre d e...   \n",
       "1  2. Pregunta asociada a la imagen 2. Paciente q...   \n",
       "2  3. Pregunta asociada a la imagen 3. Hombre de ...   \n",
       "3  4. Pregunta asociada a la imagen 4. Hombre de ...   \n",
       "4  5. Pregunta asociada a la imagen 5. Mujer de 3...   \n",
       "5  6. Pregunta asociada a la imagen 6. Mujer de 2...   \n",
       "6  7. Pregunta asociada a la imagen 7. Mujer de 5...   \n",
       "7  8. Pregunta asociada a la imagen 8. Hombre de ...   \n",
       "8  9. Pregunta asociada a la imagen 9. Hombre de ...   \n",
       "9  10. Pregunta asociada a la imagen 10. Hombre d...   \n",
       "\n",
       "                                            Option_1  \\\n",
       "0                  1. Carcinoma papilar de tiroides.   \n",
       "1               1. Fractura panfacial tipo Lefort I.   \n",
       "2                          1. Dermatitis seborreica.   \n",
       "3                                 1. Condiloma lata.   \n",
       "4  1. El tratamiento electivo de inicio es tumore...   \n",
       "5  1. La pérdida de peso no es eficaz en esta sit...   \n",
       "6                   1. RM sin contraste. Meningioma.   \n",
       "7  1. Absceso cerebral secundario a otitis media ...   \n",
       "8  1. Obstrucción intestinal secunda ria a neopla...   \n",
       "9        1. Neumonía por Mycobacterium tuberculosis.   \n",
       "\n",
       "                                            Option_2  \\\n",
       "0                  2. Carcinoma medular de tiroides.   \n",
       "1              2. Fractura panfacial tipo Lefort II.   \n",
       "2                            2. Queratosis actínica.   \n",
       "3                          2. Molluscum contagiosum.   \n",
       "4  2. El tratamiento electivo de inicio es mastec...   \n",
       "5  2. La acetazolamida y la furosemida s on fárma...   \n",
       "6            2. TC con contraste. Tumor epidermoide.   \n",
       "7     2. Trombosis venosa del seno sigmoide derecho.   \n",
       "8  2. Obstrucción intestinal d e cau sa ex trínse...   \n",
       "9                       2. Neumonía por Aspergillus.   \n",
       "\n",
       "                                            Option_3  \\\n",
       "0                3. Linfoma difuso de célula grande.   \n",
       "1       3. Fractura mandibular bicondílea inestable.   \n",
       "2                                 3. Liquen nitidus.   \n",
       "3                            3. Condiloma acuminado.   \n",
       "4  3. Se vis ualiza afectación en mama izquie rda...   \n",
       "5  3. Se debe realizar una punción lumbar a ntes ...   \n",
       "6                  3. RM con contraste. Tumor glial.   \n",
       "7  3. Infarto i squémico ag udo e n t erritorio d...   \n",
       "8  3. Obstrucción intestinal por mi gración e imp...   \n",
       "9          3. Neumonía por Streptococcus pneumoniae.   \n",
       "\n",
       "                                            Option_4  RC  year  \n",
       "0                               4. Sarcoma sinovial.   2  2023  \n",
       "1  4. Fractura ma ndibular bilateral en ramas hor...   4  2023  \n",
       "2                                      4. Psoriasis.   2  2023  \n",
       "3                                   4. Liquen plano.   3  2023  \n",
       "4  4. Se visualiza afectación en mama izquierda, ...   3  2023  \n",
       "5  4. Los corticoides orales se usan ampliamente ...   2  2023  \n",
       "6        4. RM con contraste. Schwannoma vestibular.   4  2023  \n",
       "7  4. Neoplasia ce rebral de  origen glial c on e...   3  2023  \n",
       "8  4. Obstrucción funcional o íleo pseudoobstruct...   1  2023  \n",
       "9            4. Neumonía por Pneumocystis jirovecii.   4  2023  "
      ]
     },
     "execution_count": 33,
     "metadata": {},
     "output_type": "execute_result"
    }
   ],
   "source": [
    "processed_exam_df.head(10)"
   ]
  },
  {
   "cell_type": "markdown",
   "metadata": {},
   "source": [
    "### Filtering by relevant questions\n",
    "\n",
    "**1. Filtering for id**\n",
    "\n",
    "A list of the number of question is used to filter the DataFrame, but first doing a -1 so it matches with the id. \n",
    "\n",
    "Finally the indexes are reseted"
   ]
  },
  {
   "cell_type": "code",
   "execution_count": 34,
   "metadata": {},
   "outputs": [
    {
     "name": "stdout",
     "output_type": "stream",
     "text": [
      "Expected number of rows = 17\n",
      "Number of rows in filtered df = 17\n"
     ]
    }
   ],
   "source": [
    "id_filter = [x-1 for x in add_list]\n",
    "processed_exam_df_filtered = processed_exam_df.iloc[id_filter]\n",
    "processed_exam_df_filtered = processed_exam_df_filtered.reset_index(drop= True)\n",
    "print(f\"Expected number of rows = {len(id_filter)}\\nNumber of rows in filtered df = {processed_exam_df_filtered.shape[0]}\")"
   ]
  },
  {
   "cell_type": "markdown",
   "metadata": {},
   "source": [
    "**2. Showing the filtered DataFrame**\n",
    "\n",
    "Using head and tail"
   ]
  },
  {
   "cell_type": "code",
   "execution_count": 35,
   "metadata": {},
   "outputs": [
    {
     "data": {
      "application/vnd.microsoft.datawrangler.viewer.v0+json": {
       "columns": [
        {
         "name": "index",
         "rawType": "int64",
         "type": "integer"
        },
        {
         "name": "Question",
         "rawType": "object",
         "type": "string"
        },
        {
         "name": "Option_1",
         "rawType": "object",
         "type": "string"
        },
        {
         "name": "Option_2",
         "rawType": "object",
         "type": "string"
        },
        {
         "name": "Option_3",
         "rawType": "object",
         "type": "string"
        },
        {
         "name": "Option_4",
         "rawType": "object",
         "type": "string"
        },
        {
         "name": "RC",
         "rawType": "int32",
         "type": "integer"
        },
        {
         "name": "year",
         "rawType": "int64",
         "type": "integer"
        }
       ],
       "conversionMethod": "pd.DataFrame",
       "ref": "377ead74-e20b-4e74-a2a7-67905f9352f2",
       "rows": [
        [
         "0",
         "27. ¿Cuál de las siguientes alteraciones bioquímicas se observa en e l reordenamiento met abólico de l a diabetes mellitus?:",
         "1. La disminuci ón de la traslocación de  los transportadores de gl ucosa GLU T2 y GL UT4 desde las vesículas de almacenamiento intracelular a la membrana plasmática.",
         "2. El aumento de la producción de urea por una mayor degradación nucleotídica.",
         "3. El incre mento de la síntesis he pática de triglicéridos.",
         "4. El aume nto de la síntesis hepática de glicerol como sustrato gluconeogénico.",
         "3",
         "2023"
        ],
        [
         "1",
         "28. Una persona sana s ufre una des hidratación tras realizar e jercicio fí sico intenso a al tas temperaturas sin in gerir l íquidos. Res pecto a l a activación del sist ema renina- angiotensinaaldosterona en esas c ondiciones, s eñale la respuesta INCORRECTA:",
         "1. Los cambios de presión arterial se acompañan de cambios p roporcionales en la filtració n glomerular.",
         "2. Se produce vasoconstricción de las arte riolas eferentes.",
         "3. Aumenta la activ idad d e los núcleos hipotalámicos supraóptico y paraventricular.",
         "4. Aumenta la secreción renal de potasio.",
         "1",
         "2023"
        ],
        [
         "2",
         "33. Una de las siguientes enfermedades se produce por hipermetilación de una expansión de tripletes CGG en la región promotora:",
         "1. Enfermedad de Hungtinton.",
         "2. Ataxia de Friedreich.",
         "3. Síndrome del cromosoma X frágil.",
         "4. Distrofia miotónica tipo 1.",
         "3",
         "2023"
        ],
        [
         "3",
         "34. Un  rasgo que  aparece  e n todas las generaciones, tanto e n varones como en m ujeres, per o los varones no lo transmiten a sus hi jos v arones, se corresponde con uno de los siguientes patrones de herencia:",
         "1. Autosómica dominante.",
         "2. Ligada al sexo dominante.",
         "3. Ligada al sexo recesiva.",
         "4. Mitocondrial.",
         "2",
         "2023"
        ],
        [
         "4",
         "35. Las células tumorales desarrollan diferentes mecanismos diri gidos a evitar la a ctivación de la respuesta inmunitaria antitum oral. Entre las inmunoterapias an titumorales diri gidas a contrarrestar estos mec anismos de evasión destaca:",
         "1. La i noculación intratumoral de cél ulas T reguladoras específicas frente a antígenos tumorales.",
         "2. La inoculación de células de la inmunidad innata con cap acidad antitumoral como las célu las reguladoras de origen mieloide (myeloid-derived suppressor cells, MDSC).",
         "3. El uso de citocinas como el TGF-beta o la IL-10 que frenan el crecimiento tumoral.",
         "4. El uso de anticuerpos monoclonales inmunomoduladores frente a PD-1 o los ligandos de PD-1.",
         "4",
         "2023"
        ],
        [
         "5",
         "36. En relación con el m ecanismo inmunol ógico implicado e l rechazo de ór ganos só lidos trasplantados, señale la respuesta INCORRECTA:",
         "1. El rechazo agudo mediado por linfocitos T puede ser controlado mediante el uso de fármacos como la ciclosporina A o los corticoides.",
         "2. La prese ncia en el receptor de a nticuerpos específicos c ontra el  don ante (DSA) previa al trasplante es una contraindicación para el mismo.",
         "3. El rechazo crónico o lesión crónica del injerto se asocia al da ño del endotelio mediado por anticuerpos anti-HLA.",
         "4. El rechazo hiperagudo es mediado por linfocitos T ci totóxicos cont ra antígenos del donante presentes en el receptor.",
         "4",
         "2023"
        ],
        [
         "6",
         "37. La vacunación utilizando ARN mensa jero de la proteína S (Spike) del SARS-CoV-2 va dirigida a la protección de la poblaci ón frente a la COVID-19. En relación c on la re spuesta a esta vacuna señale la afirmación INCORRECTA:",
         "1. La r espuesta n o requiere l a c olaboración de l os linfocitos T, al ser un antígeno timo independiente.",
         "2. Un ele vado porce ntaje de pacientes inmunodeprimidos, como aquellos con trasplante de ór ganos o con inmunodeficiencia, tienen u n defecto en la respuesta a esta vacuna.",
         "3. Es una forma de inmuniz ación activa cuyo resultado se aso cia al camb io d e iso tipo de lo s anticuerpos.",
         "4. Induce memoria inmuno lógica b asada en la activación de linfocitos B.",
         "1",
         "2023"
        ],
        [
         "7",
         "38. En relación con las enfer medades as ociadas al mecanismo de hipersensibi lidad tipo II , señale l a respuesta INCORRECTA:",
         "1. La presencia de anticue rpos frente al receptor de las hormo nas tiroideas T3 y T4 se asocia a la enfermedad de Graves.",
         "2. La prese ncia de autoanticuerpos antidesmogleína se asocia al pénfigo vulgar.",
         "3. La miastenia  gravis se asocia a la presencia de anticuerpos frente al receptor de la acetilcolina.",
         "4. El síndrome de G oodpasture se asoci a a l a presencia de a nticuerpos frente a  l a membrana basal glomerular renal y pulmonar.",
         "1",
         "2023"
        ],
        [
         "8",
         "39. En el asma bronquial son numer osas las cél ulas que par ticipan en la inflamación de la ví a aérea. En relación con las diferentes poblaci ones linfocitarias y las citocinas que liberan ¿cuál de las siguientes afirmaciones es correcta?:",
         "1. Los lin focitos B so n los responsables de la coordinación de la respuesta inflamatoria.",
         "2. En el asma bronquial hay un predominio de fenotipo linfocitario TH1.",
         "3. Las citocinas IL4 e IL 13 son las fa vorecedoras de la síntesis de IgE.",
         "4. La población de linfocitos T reguladores (CD4+ y CD25+) está aumentada.",
         "3",
         "2023"
        ],
        [
         "9",
         "43. En relación con las condiciones necesarias para la implementación de  un programa de cribado poblacional de c áncer, señale la respue sta INCORRECTA:",
         "1. Debe e xistir una prueba adecu ada para l a detección, independientemente de  la aceptabilidad de la prueba en la población.",
         "2. La enfermeda d que se detecta mediant e el cribado debe ser relevante desde el punto de vista de salud pública.",
         "3. La enfermeda d que se detecta mediant e el cribado de be ser tratabl e en la e tapa presintomática y el daño po tencial de la intervención debe ser in ferior al del tratamiento en la etapa sintomática.",
         "4. Se debe disponer de recursos suficientes para la implementación de la est rategia a medio / largo plazo.",
         "1",
         "2023"
        ]
       ],
       "shape": {
        "columns": 7,
        "rows": 10
       }
      },
      "text/html": [
       "<div>\n",
       "<style scoped>\n",
       "    .dataframe tbody tr th:only-of-type {\n",
       "        vertical-align: middle;\n",
       "    }\n",
       "\n",
       "    .dataframe tbody tr th {\n",
       "        vertical-align: top;\n",
       "    }\n",
       "\n",
       "    .dataframe thead th {\n",
       "        text-align: right;\n",
       "    }\n",
       "</style>\n",
       "<table border=\"1\" class=\"dataframe\">\n",
       "  <thead>\n",
       "    <tr style=\"text-align: right;\">\n",
       "      <th></th>\n",
       "      <th>Question</th>\n",
       "      <th>Option_1</th>\n",
       "      <th>Option_2</th>\n",
       "      <th>Option_3</th>\n",
       "      <th>Option_4</th>\n",
       "      <th>RC</th>\n",
       "      <th>year</th>\n",
       "    </tr>\n",
       "  </thead>\n",
       "  <tbody>\n",
       "    <tr>\n",
       "      <th>0</th>\n",
       "      <td>27. ¿Cuál de las siguientes alteraciones bioqu...</td>\n",
       "      <td>1. La disminuci ón de la traslocación de  los ...</td>\n",
       "      <td>2. El aumento de la producción de urea por una...</td>\n",
       "      <td>3. El incre mento de la síntesis he pática de ...</td>\n",
       "      <td>4. El aume nto de la síntesis hepática de glic...</td>\n",
       "      <td>3</td>\n",
       "      <td>2023</td>\n",
       "    </tr>\n",
       "    <tr>\n",
       "      <th>1</th>\n",
       "      <td>28. Una persona sana s ufre una des hidratació...</td>\n",
       "      <td>1. Los cambios de presión arterial se acompaña...</td>\n",
       "      <td>2. Se produce vasoconstricción de las arte rio...</td>\n",
       "      <td>3. Aumenta la activ idad d e los núcleos hipot...</td>\n",
       "      <td>4. Aumenta la secreción renal de potasio.</td>\n",
       "      <td>1</td>\n",
       "      <td>2023</td>\n",
       "    </tr>\n",
       "    <tr>\n",
       "      <th>2</th>\n",
       "      <td>33. Una de las siguientes enfermedades se prod...</td>\n",
       "      <td>1. Enfermedad de Hungtinton.</td>\n",
       "      <td>2. Ataxia de Friedreich.</td>\n",
       "      <td>3. Síndrome del cromosoma X frágil.</td>\n",
       "      <td>4. Distrofia miotónica tipo 1.</td>\n",
       "      <td>3</td>\n",
       "      <td>2023</td>\n",
       "    </tr>\n",
       "    <tr>\n",
       "      <th>3</th>\n",
       "      <td>34. Un  rasgo que  aparece  e n todas las gene...</td>\n",
       "      <td>1. Autosómica dominante.</td>\n",
       "      <td>2. Ligada al sexo dominante.</td>\n",
       "      <td>3. Ligada al sexo recesiva.</td>\n",
       "      <td>4. Mitocondrial.</td>\n",
       "      <td>2</td>\n",
       "      <td>2023</td>\n",
       "    </tr>\n",
       "    <tr>\n",
       "      <th>4</th>\n",
       "      <td>35. Las células tumorales desarrollan diferent...</td>\n",
       "      <td>1. La i noculación intratumoral de cél ulas T ...</td>\n",
       "      <td>2. La inoculación de células de la inmunidad i...</td>\n",
       "      <td>3. El uso de citocinas como el TGF-beta o la I...</td>\n",
       "      <td>4. El uso de anticuerpos monoclonales inmunomo...</td>\n",
       "      <td>4</td>\n",
       "      <td>2023</td>\n",
       "    </tr>\n",
       "    <tr>\n",
       "      <th>5</th>\n",
       "      <td>36. En relación con el m ecanismo inmunol ógic...</td>\n",
       "      <td>1. El rechazo agudo mediado por linfocitos T p...</td>\n",
       "      <td>2. La prese ncia en el receptor de a nticuerpo...</td>\n",
       "      <td>3. El rechazo crónico o lesión crónica del inj...</td>\n",
       "      <td>4. El rechazo hiperagudo es mediado por linfoc...</td>\n",
       "      <td>4</td>\n",
       "      <td>2023</td>\n",
       "    </tr>\n",
       "    <tr>\n",
       "      <th>6</th>\n",
       "      <td>37. La vacunación utilizando ARN mensa jero de...</td>\n",
       "      <td>1. La r espuesta n o requiere l a c olaboració...</td>\n",
       "      <td>2. Un ele vado porce ntaje de pacientes inmuno...</td>\n",
       "      <td>3. Es una forma de inmuniz ación activa cuyo r...</td>\n",
       "      <td>4. Induce memoria inmuno lógica b asada en la ...</td>\n",
       "      <td>1</td>\n",
       "      <td>2023</td>\n",
       "    </tr>\n",
       "    <tr>\n",
       "      <th>7</th>\n",
       "      <td>38. En relación con las enfer medades as ociad...</td>\n",
       "      <td>1. La presencia de anticue rpos frente al rece...</td>\n",
       "      <td>2. La prese ncia de autoanticuerpos antidesmog...</td>\n",
       "      <td>3. La miastenia  gravis se asocia a la presenc...</td>\n",
       "      <td>4. El síndrome de G oodpasture se asoci a a l ...</td>\n",
       "      <td>1</td>\n",
       "      <td>2023</td>\n",
       "    </tr>\n",
       "    <tr>\n",
       "      <th>8</th>\n",
       "      <td>39. En el asma bronquial son numer osas las cé...</td>\n",
       "      <td>1. Los lin focitos B so n los responsables de ...</td>\n",
       "      <td>2. En el asma bronquial hay un predominio de f...</td>\n",
       "      <td>3. Las citocinas IL4 e IL 13 son las fa vorece...</td>\n",
       "      <td>4. La población de linfocitos T reguladores (C...</td>\n",
       "      <td>3</td>\n",
       "      <td>2023</td>\n",
       "    </tr>\n",
       "    <tr>\n",
       "      <th>9</th>\n",
       "      <td>43. En relación con las condiciones necesarias...</td>\n",
       "      <td>1. Debe e xistir una prueba adecu ada para l a...</td>\n",
       "      <td>2. La enfermeda d que se detecta mediant e el ...</td>\n",
       "      <td>3. La enfermeda d que se detecta mediant e el ...</td>\n",
       "      <td>4. Se debe disponer de recursos suficientes pa...</td>\n",
       "      <td>1</td>\n",
       "      <td>2023</td>\n",
       "    </tr>\n",
       "  </tbody>\n",
       "</table>\n",
       "</div>"
      ],
      "text/plain": [
       "                                            Question  \\\n",
       "0  27. ¿Cuál de las siguientes alteraciones bioqu...   \n",
       "1  28. Una persona sana s ufre una des hidratació...   \n",
       "2  33. Una de las siguientes enfermedades se prod...   \n",
       "3  34. Un  rasgo que  aparece  e n todas las gene...   \n",
       "4  35. Las células tumorales desarrollan diferent...   \n",
       "5  36. En relación con el m ecanismo inmunol ógic...   \n",
       "6  37. La vacunación utilizando ARN mensa jero de...   \n",
       "7  38. En relación con las enfer medades as ociad...   \n",
       "8  39. En el asma bronquial son numer osas las cé...   \n",
       "9  43. En relación con las condiciones necesarias...   \n",
       "\n",
       "                                            Option_1  \\\n",
       "0  1. La disminuci ón de la traslocación de  los ...   \n",
       "1  1. Los cambios de presión arterial se acompaña...   \n",
       "2                       1. Enfermedad de Hungtinton.   \n",
       "3                           1. Autosómica dominante.   \n",
       "4  1. La i noculación intratumoral de cél ulas T ...   \n",
       "5  1. El rechazo agudo mediado por linfocitos T p...   \n",
       "6  1. La r espuesta n o requiere l a c olaboració...   \n",
       "7  1. La presencia de anticue rpos frente al rece...   \n",
       "8  1. Los lin focitos B so n los responsables de ...   \n",
       "9  1. Debe e xistir una prueba adecu ada para l a...   \n",
       "\n",
       "                                            Option_2  \\\n",
       "0  2. El aumento de la producción de urea por una...   \n",
       "1  2. Se produce vasoconstricción de las arte rio...   \n",
       "2                           2. Ataxia de Friedreich.   \n",
       "3                       2. Ligada al sexo dominante.   \n",
       "4  2. La inoculación de células de la inmunidad i...   \n",
       "5  2. La prese ncia en el receptor de a nticuerpo...   \n",
       "6  2. Un ele vado porce ntaje de pacientes inmuno...   \n",
       "7  2. La prese ncia de autoanticuerpos antidesmog...   \n",
       "8  2. En el asma bronquial hay un predominio de f...   \n",
       "9  2. La enfermeda d que se detecta mediant e el ...   \n",
       "\n",
       "                                            Option_3  \\\n",
       "0  3. El incre mento de la síntesis he pática de ...   \n",
       "1  3. Aumenta la activ idad d e los núcleos hipot...   \n",
       "2                3. Síndrome del cromosoma X frágil.   \n",
       "3                        3. Ligada al sexo recesiva.   \n",
       "4  3. El uso de citocinas como el TGF-beta o la I...   \n",
       "5  3. El rechazo crónico o lesión crónica del inj...   \n",
       "6  3. Es una forma de inmuniz ación activa cuyo r...   \n",
       "7  3. La miastenia  gravis se asocia a la presenc...   \n",
       "8  3. Las citocinas IL4 e IL 13 son las fa vorece...   \n",
       "9  3. La enfermeda d que se detecta mediant e el ...   \n",
       "\n",
       "                                            Option_4  RC  year  \n",
       "0  4. El aume nto de la síntesis hepática de glic...   3  2023  \n",
       "1          4. Aumenta la secreción renal de potasio.   1  2023  \n",
       "2                     4. Distrofia miotónica tipo 1.   3  2023  \n",
       "3                                   4. Mitocondrial.   2  2023  \n",
       "4  4. El uso de anticuerpos monoclonales inmunomo...   4  2023  \n",
       "5  4. El rechazo hiperagudo es mediado por linfoc...   4  2023  \n",
       "6  4. Induce memoria inmuno lógica b asada en la ...   1  2023  \n",
       "7  4. El síndrome de G oodpasture se asoci a a l ...   1  2023  \n",
       "8  4. La población de linfocitos T reguladores (C...   3  2023  \n",
       "9  4. Se debe disponer de recursos suficientes pa...   1  2023  "
      ]
     },
     "execution_count": 35,
     "metadata": {},
     "output_type": "execute_result"
    }
   ],
   "source": [
    "processed_exam_df_filtered.head(10)"
   ]
  },
  {
   "cell_type": "code",
   "execution_count": 36,
   "metadata": {},
   "outputs": [
    {
     "data": {
      "application/vnd.microsoft.datawrangler.viewer.v0+json": {
       "columns": [
        {
         "name": "index",
         "rawType": "int64",
         "type": "integer"
        },
        {
         "name": "Question",
         "rawType": "object",
         "type": "string"
        },
        {
         "name": "Option_1",
         "rawType": "object",
         "type": "string"
        },
        {
         "name": "Option_2",
         "rawType": "object",
         "type": "string"
        },
        {
         "name": "Option_3",
         "rawType": "object",
         "type": "string"
        },
        {
         "name": "Option_4",
         "rawType": "object",
         "type": "string"
        },
        {
         "name": "RC",
         "rawType": "int32",
         "type": "integer"
        },
        {
         "name": "year",
         "rawType": "int64",
         "type": "integer"
        }
       ],
       "conversionMethod": "pd.DataFrame",
       "ref": "718caee1-9c06-483e-8ea4-727a10c368e9",
       "rows": [
        [
         "7",
         "38. En relación con las enfer medades as ociadas al mecanismo de hipersensibi lidad tipo II , señale l a respuesta INCORRECTA:",
         "1. La presencia de anticue rpos frente al receptor de las hormo nas tiroideas T3 y T4 se asocia a la enfermedad de Graves.",
         "2. La prese ncia de autoanticuerpos antidesmogleína se asocia al pénfigo vulgar.",
         "3. La miastenia  gravis se asocia a la presencia de anticuerpos frente al receptor de la acetilcolina.",
         "4. El síndrome de G oodpasture se asoci a a l a presencia de a nticuerpos frente a  l a membrana basal glomerular renal y pulmonar.",
         "1",
         "2023"
        ],
        [
         "8",
         "39. En el asma bronquial son numer osas las cél ulas que par ticipan en la inflamación de la ví a aérea. En relación con las diferentes poblaci ones linfocitarias y las citocinas que liberan ¿cuál de las siguientes afirmaciones es correcta?:",
         "1. Los lin focitos B so n los responsables de la coordinación de la respuesta inflamatoria.",
         "2. En el asma bronquial hay un predominio de fenotipo linfocitario TH1.",
         "3. Las citocinas IL4 e IL 13 son las fa vorecedoras de la síntesis de IgE.",
         "4. La población de linfocitos T reguladores (CD4+ y CD25+) está aumentada.",
         "3",
         "2023"
        ],
        [
         "9",
         "43. En relación con las condiciones necesarias para la implementación de  un programa de cribado poblacional de c áncer, señale la respue sta INCORRECTA:",
         "1. Debe e xistir una prueba adecu ada para l a detección, independientemente de  la aceptabilidad de la prueba en la población.",
         "2. La enfermeda d que se detecta mediant e el cribado debe ser relevante desde el punto de vista de salud pública.",
         "3. La enfermeda d que se detecta mediant e el cribado de be ser tratabl e en la e tapa presintomática y el daño po tencial de la intervención debe ser in ferior al del tratamiento en la etapa sintomática.",
         "4. Se debe disponer de recursos suficientes para la implementación de la est rategia a medio / largo plazo.",
         "1",
         "2023"
        ],
        [
         "10",
         "46. En un estudio s obre la validez de  un a pr ueba diagnóstica, para resumir la relación entre la sensibilidad y la especi ficidad de la p rueba se puede usar:",
         "1. El índice de Kappa.",
         "2. La curv a ROC (receiver operating characteristics).",
         "3. El coeficiente de correlación intraclase.",
         "4. El gráfico de Altman y Bland.",
         "2",
         "2023"
        ],
        [
         "11",
         "75. Acerca de la bronquiolitis aguda en la infa ncia, señale la respuesta correcta:",
         "1. El v irus resp iratorio sincitial (VRS) es la segunda cau sa d e bronquiolitis agu da y neumonía vírica en menores de 1 año.",
         "2. Se recomienda la administración de palivizumab para protege r a niños con riesgo alto cont ra las complicaciones gra ves de la enfe rmedad por el VRS.",
         "3. La bro nquiolitis se produce po r obstrucción y colapso d e las ví as res piratorias de me diano y gran calibre durante la espiración.",
         "4. El tratamient o se  basa  e n aeros oles de  suero salino hipertónico, a drenalina y/ o beta-2 agonistas según la gravedad.",
         "2",
         "2023"
        ],
        [
         "12",
         "129. ¿Cuál de lo s siguientes genes puede es tar afectado en fa milias que desa rrollan tumo res ma lignos de colon en sucesivas generaciones?:",
         "1. RAS.",
         "2. p53.",
         "3. BRCA1.",
         "4. MLH1.",
         "4",
         "2023"
        ],
        [
         "13",
         "146. En relación c on el cáncer de prós tata, señale la respuesta INCORRECTA:",
         "1. El principal factor de riesgo es la edad.",
         "2. Los por tadores del gen BR CA-1 tienen mayor predisposición a sufrir la enfermedad.",
         "3. Es más frecuente en varones caucásicos.",
         "4. Las grasas animales, la ob esidad, el háb ito tabáquico y el cad mio tamb ién se h an relacionado con su etiopatogenia.",
         "3",
         "2023"
        ],
        [
         "14",
         "151. ¿Cuál de  las si guientes al teraciones es  m ás frecuente en el cáncer de pulmón no m icrocítico metastásico?:",
         "1. Mutación de KRAS.",
         "2. Mutación de BRAF.",
         "3. Reordenamiento de ALK.",
         "4. Fusión de NTRK.",
         "1",
         "2023"
        ],
        [
         "15",
         "162. Respecto a los c ambios d el sistema in munitario que aparece n con el enve jecimiento, definidos como inmunosenescencia, señale la respues ta correcta:",
         "1. La di sminución de i nterleuquina 6 se relaciona con fragilidad y demencia.",
         "2. Disminuye el número de linfocitos T.",
         "3. Disminuye el factor de necrosis tumoral.",
         "4. Disminuye la producción de autoanticuerpos por los linfocitos B.",
         "2",
         "2023"
        ],
        [
         "16",
         "170. El tratamiento de la leishmaniasis visceral en personas con infección por VIH con inmunodeficiencia grave se basa en el uso de:",
         "1. Anfotericina B liposomal.",
         "2. Voriconazol y anfotericina B liposomal.",
         "3. Anfotericina B liposomal y miltefosina.",
         "4. Miltefosina y paromomicina.",
         "1",
         "2023"
        ]
       ],
       "shape": {
        "columns": 7,
        "rows": 10
       }
      },
      "text/html": [
       "<div>\n",
       "<style scoped>\n",
       "    .dataframe tbody tr th:only-of-type {\n",
       "        vertical-align: middle;\n",
       "    }\n",
       "\n",
       "    .dataframe tbody tr th {\n",
       "        vertical-align: top;\n",
       "    }\n",
       "\n",
       "    .dataframe thead th {\n",
       "        text-align: right;\n",
       "    }\n",
       "</style>\n",
       "<table border=\"1\" class=\"dataframe\">\n",
       "  <thead>\n",
       "    <tr style=\"text-align: right;\">\n",
       "      <th></th>\n",
       "      <th>Question</th>\n",
       "      <th>Option_1</th>\n",
       "      <th>Option_2</th>\n",
       "      <th>Option_3</th>\n",
       "      <th>Option_4</th>\n",
       "      <th>RC</th>\n",
       "      <th>year</th>\n",
       "    </tr>\n",
       "  </thead>\n",
       "  <tbody>\n",
       "    <tr>\n",
       "      <th>7</th>\n",
       "      <td>38. En relación con las enfer medades as ociad...</td>\n",
       "      <td>1. La presencia de anticue rpos frente al rece...</td>\n",
       "      <td>2. La prese ncia de autoanticuerpos antidesmog...</td>\n",
       "      <td>3. La miastenia  gravis se asocia a la presenc...</td>\n",
       "      <td>4. El síndrome de G oodpasture se asoci a a l ...</td>\n",
       "      <td>1</td>\n",
       "      <td>2023</td>\n",
       "    </tr>\n",
       "    <tr>\n",
       "      <th>8</th>\n",
       "      <td>39. En el asma bronquial son numer osas las cé...</td>\n",
       "      <td>1. Los lin focitos B so n los responsables de ...</td>\n",
       "      <td>2. En el asma bronquial hay un predominio de f...</td>\n",
       "      <td>3. Las citocinas IL4 e IL 13 son las fa vorece...</td>\n",
       "      <td>4. La población de linfocitos T reguladores (C...</td>\n",
       "      <td>3</td>\n",
       "      <td>2023</td>\n",
       "    </tr>\n",
       "    <tr>\n",
       "      <th>9</th>\n",
       "      <td>43. En relación con las condiciones necesarias...</td>\n",
       "      <td>1. Debe e xistir una prueba adecu ada para l a...</td>\n",
       "      <td>2. La enfermeda d que se detecta mediant e el ...</td>\n",
       "      <td>3. La enfermeda d que se detecta mediant e el ...</td>\n",
       "      <td>4. Se debe disponer de recursos suficientes pa...</td>\n",
       "      <td>1</td>\n",
       "      <td>2023</td>\n",
       "    </tr>\n",
       "    <tr>\n",
       "      <th>10</th>\n",
       "      <td>46. En un estudio s obre la validez de  un a p...</td>\n",
       "      <td>1. El índice de Kappa.</td>\n",
       "      <td>2. La curv a ROC (receiver operating character...</td>\n",
       "      <td>3. El coeficiente de correlación intraclase.</td>\n",
       "      <td>4. El gráfico de Altman y Bland.</td>\n",
       "      <td>2</td>\n",
       "      <td>2023</td>\n",
       "    </tr>\n",
       "    <tr>\n",
       "      <th>11</th>\n",
       "      <td>75. Acerca de la bronquiolitis aguda en la inf...</td>\n",
       "      <td>1. El v irus resp iratorio sincitial (VRS) es ...</td>\n",
       "      <td>2. Se recomienda la administración de palivizu...</td>\n",
       "      <td>3. La bro nquiolitis se produce po r obstrucci...</td>\n",
       "      <td>4. El tratamient o se  basa  e n aeros oles de...</td>\n",
       "      <td>2</td>\n",
       "      <td>2023</td>\n",
       "    </tr>\n",
       "    <tr>\n",
       "      <th>12</th>\n",
       "      <td>129. ¿Cuál de lo s siguientes genes puede es t...</td>\n",
       "      <td>1. RAS.</td>\n",
       "      <td>2. p53.</td>\n",
       "      <td>3. BRCA1.</td>\n",
       "      <td>4. MLH1.</td>\n",
       "      <td>4</td>\n",
       "      <td>2023</td>\n",
       "    </tr>\n",
       "    <tr>\n",
       "      <th>13</th>\n",
       "      <td>146. En relación c on el cáncer de prós tata, ...</td>\n",
       "      <td>1. El principal factor de riesgo es la edad.</td>\n",
       "      <td>2. Los por tadores del gen BR CA-1 tienen mayo...</td>\n",
       "      <td>3. Es más frecuente en varones caucásicos.</td>\n",
       "      <td>4. Las grasas animales, la ob esidad, el háb i...</td>\n",
       "      <td>3</td>\n",
       "      <td>2023</td>\n",
       "    </tr>\n",
       "    <tr>\n",
       "      <th>14</th>\n",
       "      <td>151. ¿Cuál de  las si guientes al teraciones e...</td>\n",
       "      <td>1. Mutación de KRAS.</td>\n",
       "      <td>2. Mutación de BRAF.</td>\n",
       "      <td>3. Reordenamiento de ALK.</td>\n",
       "      <td>4. Fusión de NTRK.</td>\n",
       "      <td>1</td>\n",
       "      <td>2023</td>\n",
       "    </tr>\n",
       "    <tr>\n",
       "      <th>15</th>\n",
       "      <td>162. Respecto a los c ambios d el sistema in m...</td>\n",
       "      <td>1. La di sminución de i nterleuquina 6 se rela...</td>\n",
       "      <td>2. Disminuye el número de linfocitos T.</td>\n",
       "      <td>3. Disminuye el factor de necrosis tumoral.</td>\n",
       "      <td>4. Disminuye la producción de autoanticuerpos ...</td>\n",
       "      <td>2</td>\n",
       "      <td>2023</td>\n",
       "    </tr>\n",
       "    <tr>\n",
       "      <th>16</th>\n",
       "      <td>170. El tratamiento de la leishmaniasis viscer...</td>\n",
       "      <td>1. Anfotericina B liposomal.</td>\n",
       "      <td>2. Voriconazol y anfotericina B liposomal.</td>\n",
       "      <td>3. Anfotericina B liposomal y miltefosina.</td>\n",
       "      <td>4. Miltefosina y paromomicina.</td>\n",
       "      <td>1</td>\n",
       "      <td>2023</td>\n",
       "    </tr>\n",
       "  </tbody>\n",
       "</table>\n",
       "</div>"
      ],
      "text/plain": [
       "                                             Question  \\\n",
       "7   38. En relación con las enfer medades as ociad...   \n",
       "8   39. En el asma bronquial son numer osas las cé...   \n",
       "9   43. En relación con las condiciones necesarias...   \n",
       "10  46. En un estudio s obre la validez de  un a p...   \n",
       "11  75. Acerca de la bronquiolitis aguda en la inf...   \n",
       "12  129. ¿Cuál de lo s siguientes genes puede es t...   \n",
       "13  146. En relación c on el cáncer de prós tata, ...   \n",
       "14  151. ¿Cuál de  las si guientes al teraciones e...   \n",
       "15  162. Respecto a los c ambios d el sistema in m...   \n",
       "16  170. El tratamiento de la leishmaniasis viscer...   \n",
       "\n",
       "                                             Option_1  \\\n",
       "7   1. La presencia de anticue rpos frente al rece...   \n",
       "8   1. Los lin focitos B so n los responsables de ...   \n",
       "9   1. Debe e xistir una prueba adecu ada para l a...   \n",
       "10                             1. El índice de Kappa.   \n",
       "11  1. El v irus resp iratorio sincitial (VRS) es ...   \n",
       "12                                            1. RAS.   \n",
       "13       1. El principal factor de riesgo es la edad.   \n",
       "14                               1. Mutación de KRAS.   \n",
       "15  1. La di sminución de i nterleuquina 6 se rela...   \n",
       "16                       1. Anfotericina B liposomal.   \n",
       "\n",
       "                                             Option_2  \\\n",
       "7   2. La prese ncia de autoanticuerpos antidesmog...   \n",
       "8   2. En el asma bronquial hay un predominio de f...   \n",
       "9   2. La enfermeda d que se detecta mediant e el ...   \n",
       "10  2. La curv a ROC (receiver operating character...   \n",
       "11  2. Se recomienda la administración de palivizu...   \n",
       "12                                            2. p53.   \n",
       "13  2. Los por tadores del gen BR CA-1 tienen mayo...   \n",
       "14                               2. Mutación de BRAF.   \n",
       "15            2. Disminuye el número de linfocitos T.   \n",
       "16         2. Voriconazol y anfotericina B liposomal.   \n",
       "\n",
       "                                             Option_3  \\\n",
       "7   3. La miastenia  gravis se asocia a la presenc...   \n",
       "8   3. Las citocinas IL4 e IL 13 son las fa vorece...   \n",
       "9   3. La enfermeda d que se detecta mediant e el ...   \n",
       "10       3. El coeficiente de correlación intraclase.   \n",
       "11  3. La bro nquiolitis se produce po r obstrucci...   \n",
       "12                                          3. BRCA1.   \n",
       "13         3. Es más frecuente en varones caucásicos.   \n",
       "14                          3. Reordenamiento de ALK.   \n",
       "15        3. Disminuye el factor de necrosis tumoral.   \n",
       "16         3. Anfotericina B liposomal y miltefosina.   \n",
       "\n",
       "                                             Option_4  RC  year  \n",
       "7   4. El síndrome de G oodpasture se asoci a a l ...   1  2023  \n",
       "8   4. La población de linfocitos T reguladores (C...   3  2023  \n",
       "9   4. Se debe disponer de recursos suficientes pa...   1  2023  \n",
       "10                   4. El gráfico de Altman y Bland.   2  2023  \n",
       "11  4. El tratamient o se  basa  e n aeros oles de...   2  2023  \n",
       "12                                           4. MLH1.   4  2023  \n",
       "13  4. Las grasas animales, la ob esidad, el háb i...   3  2023  \n",
       "14                                 4. Fusión de NTRK.   1  2023  \n",
       "15  4. Disminuye la producción de autoanticuerpos ...   2  2023  \n",
       "16                     4. Miltefosina y paromomicina.   1  2023  "
      ]
     },
     "execution_count": 36,
     "metadata": {},
     "output_type": "execute_result"
    }
   ],
   "source": [
    "processed_exam_df_filtered.tail(10)"
   ]
  },
  {
   "cell_type": "markdown",
   "metadata": {},
   "source": [
    "# Data Loading"
   ]
  },
  {
   "cell_type": "markdown",
   "metadata": {},
   "source": [
    "## Saving in csv file\n",
    "\n",
    "The `processed_exam_df_filtered` DataFrame, containing the cleaned and transformed exam data, is saved to a CSV file with the name generatd in the first step in the \"data\" directory. The `index=False` argument ensures that the DataFrame index is not written to the file, resulting in a cleaner output. This CSV file can be used for further analysis or as input for other applications."
   ]
  },
  {
   "cell_type": "code",
   "execution_count": 37,
   "metadata": {},
   "outputs": [],
   "source": [
    "processed_exam_df_filtered.to_csv(save_format, index= False)"
   ]
  },
  {
   "cell_type": "markdown",
   "metadata": {},
   "source": [
    "## Writing into data warehouse\n",
    "\n",
    "This section details the process of loading the cleaned and transformed exam data into an SQLite database, serving as a data warehouse for further analysis and querying.\n",
    "\n",
    "**1. Database Connection and Path:**\n",
    "\n",
    "The path to the SQLite database file is defined, and a connection is established using the `sqlite3` library."
   ]
  },
  {
   "cell_type": "code",
   "execution_count": 38,
   "metadata": {},
   "outputs": [],
   "source": [
    "db_path: str = \"../data/clean/bir_warehouse.db\""
   ]
  },
  {
   "cell_type": "markdown",
   "metadata": {},
   "source": [
    "**2. SQL Queries Definition:**\n",
    "\n",
    "Two SQL queries are defined: one for inserting questions into the questions table and another for inserting options into the questions_options table."
   ]
  },
  {
   "cell_type": "code",
   "execution_count": 39,
   "metadata": {},
   "outputs": [],
   "source": [
    "query_question: str = \"\"\"\n",
    "INSERT INTO questions (exam_year, exam_subject, question) \n",
    "VALUES((SELECT id_year FROM year WHERE year_name = ?),\n",
    "    (SELECT id_type FROM exam WHERE exam_type = ?),\n",
    "    ?);\n",
    "\"\"\"\n",
    "\n",
    "query_options: str = \"\"\"\n",
    "INSERT INTO questions_options (question_id, option_num, option_text, is_correct)\n",
    "VALUES((SELECT q.id \n",
    "        FROM questions AS q\n",
    "        JOIN year AS y ON q.exam_year = y.id_year\n",
    "        WHERE q.question = ? AND y.year_name = ?),\n",
    "    ?,\n",
    "    ?,\n",
    "    ?)\n",
    "\"\"\"\n"
   ]
  },
  {
   "cell_type": "markdown",
   "metadata": {},
   "source": [
    "**3. Database Interaction and Data Insertion:**\n",
    "\n",
    "A with statement is used to establish a connection to the SQLite database, ensuring that the connection is properly closed after use. A cursor is created, and the processed_exam_df DataFrame is iterated over to insert each question and its options"
   ]
  },
  {
   "cell_type": "code",
   "execution_count": 40,
   "metadata": {},
   "outputs": [],
   "source": [
    "with sqlite3.connect(db_path) as bir_warehouse:\n",
    "    cur = bir_warehouse.cursor()\n",
    "    for question in processed_exam_df_filtered.itertuples():\n",
    "        cur.execute(query_question, (str(question[7]), exam_acronym, question[1]))\n",
    "        bir_warehouse.commit()\n",
    "        for n, option in enumerate(question[2:6]):\n",
    "            cur.execute(query_options, (question[1], str(year), n+1, option, n+1 == question[6]))\n",
    "            bir_warehouse.commit()"
   ]
  }
 ],
 "metadata": {
  "colab": {
   "provenance": []
  },
  "kernelspec": {
   "display_name": "bir_etl",
   "language": "python",
   "name": "python3"
  },
  "language_info": {
   "codemirror_mode": {
    "name": "ipython",
    "version": 3
   },
   "file_extension": ".py",
   "mimetype": "text/x-python",
   "name": "python",
   "nbconvert_exporter": "python",
   "pygments_lexer": "ipython3",
   "version": "3.12.7"
  }
 },
 "nbformat": 4,
 "nbformat_minor": 4
}
