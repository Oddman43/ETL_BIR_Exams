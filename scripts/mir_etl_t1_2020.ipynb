{
 "cells": [
  {
   "cell_type": "markdown",
   "metadata": {
    "editable": true,
    "id": "56vKIohe8Jou",
    "slideshow": {
     "slide_type": ""
    },
    "tags": []
   },
   "source": [
    "# Data Extraction\n",
    "This section details the process of extracting question data from a PDF file and corresponding answer keys from a TSV file."
   ]
  },
  {
   "cell_type": "markdown",
   "metadata": {
    "id": "8kRORmWM8Joy"
   },
   "source": [
    "## Importing libraries"
   ]
  },
  {
   "cell_type": "markdown",
   "metadata": {},
   "source": [
    "* Pandas for data manipulation\n",
    "* NumPy for the NaN datatype\n",
    "* PyPDF for its ability to read the pfd files, although it requieres post-processing of the extracted text\n",
    "* sqlite3 to create load the clean data into `bir_warehouse.db`"
   ]
  },
  {
   "cell_type": "code",
   "execution_count": 5,
   "metadata": {
    "colab": {
     "base_uri": "https://localhost:8080/"
    },
    "id": "y8DpYYll8Joz",
    "outputId": "40cac5b3-1153-431b-f780-201aa62b5813"
   },
   "outputs": [],
   "source": [
    "import pandas as pd\n",
    "import numpy as np\n",
    "from pypdf import PdfReader\n",
    "import sqlite3"
   ]
  },
  {
   "cell_type": "markdown",
   "metadata": {},
   "source": [
    "## Selecting year and type of exam"
   ]
  },
  {
   "cell_type": "markdown",
   "metadata": {},
   "source": [
    "This function, `compute_expected_rows`, takes the exam year and topic as input and returns metadata crucial for subsequent data cleaning and loading steps. This metadata includes the expected maximum number of rows in the final DataFrame, the number of questions per exam, and the acronym for the exam type.  The maximum number of rows is calculated based on the number of questions and options per question for each year, following a specific pattern:\n",
    "\n",
    "*   2024-2021: 210 questions, 4 options each\n",
    "*   2020-2019: 185 questions, 4 options each\n",
    "*   2018-2015: 235 questions, 4 options each\n",
    "*   2014-2012: 235 questions, 5 options each\n",
    "*   2011-2004: 260 questions, 5 options each\n",
    "\n",
    "This information is essential for validating data integrity during the ETL process.  For example, the expected row count helps verify that all questions and options have been correctly extracted and transformed. The exam type acronym aids in consistent file naming and data organization."
   ]
  },
  {
   "cell_type": "code",
   "execution_count": 6,
   "metadata": {},
   "outputs": [],
   "source": [
    "def compute_expected_rows(year: int, topic: str) -> tuple:\n",
    "    \"\"\"Computes and returns metadata about the exam for a given year and topic\n",
    "\n",
    "    Args:\n",
    "        year (int): The year of the exam\n",
    "        topic (str): The topic of the exam\n",
    "\n",
    "    Returns:\n",
    "        tuple: Contains:\n",
    "            - max_rows: The expected maximum number of rows in the DataFrame\n",
    "            - num_options: The number of questions in the exam\n",
    "            - exam_type_acronym: The acronym for the exam type\n",
    "\n",
    "    \"\"\"\n",
    "    info_year_dict: dict = {\n",
    "        2011: [260, 5],\n",
    "        2014: [235, 5],\n",
    "        2018: [235, 4],\n",
    "        2020: [185, 4],\n",
    "        2021: [210, 4],\n",
    "    }\n",
    "    save_name_dict: dict = {\n",
    "        \"BIOLOGÍA\": \"bir\",\n",
    "        \"FARMACIA\": \"fir\",\n",
    "        \"QUÍMICA\": \"qir\",\n",
    "        \"MEDICINA\": \"mir\",\n",
    "    }\n",
    "    max_rows: int = 0\n",
    "    num_options: int = 0\n",
    "    for target_year, info_list in info_year_dict.items():\n",
    "        if year <= target_year:\n",
    "            max_rows = (info_list[0] * info_list[1]) + info_list[0]\n",
    "            num_options = info_list[1]\n",
    "            break\n",
    "    else:\n",
    "        max_rows = 1050\n",
    "        num_options = 4\n",
    "    return max_rows, num_options, save_name_dict[topic]"
   ]
  },
  {
   "cell_type": "markdown",
   "metadata": {},
   "source": [
    "### Add year of the exam and topic "
   ]
  },
  {
   "cell_type": "code",
   "execution_count": 7,
   "metadata": {},
   "outputs": [],
   "source": [
    "year: int = 2020\n",
    "topic: str = \"MEDICINA\" # Select from: BIOLOGÍA, FARMACIA, QUÍMICA, MEDICINA\n",
    "total_num_rows: int\n",
    "num_questions: int\n",
    "exam_acronym: str\n",
    "total_num_rows, num_questions, exam_acronym = compute_expected_rows(year, topic)\n",
    "save_format: str = f\"../data/clean/clean_{exam_acronym}_{year}.csv\""
   ]
  },
  {
   "cell_type": "code",
   "execution_count": 8,
   "metadata": {},
   "outputs": [],
   "source": [
    "add_list: list = [x for x in range(26, 30, 1)] + [31, 32, 33, 35, 37, 78, 81, 169]"
   ]
  },
  {
   "cell_type": "markdown",
   "metadata": {
    "id": "Z1Kjq5ue8Jo1"
   },
   "source": [
    "## Extracting Questions from Pdf file"
   ]
  },
  {
   "cell_type": "markdown",
   "metadata": {},
   "source": [
    "This section focuses on extracting the textual content of the exam questions from the provided PDF file.\n",
    "\n",
    "**Path Definition:**\n",
    "\n",
    "The path to the PDF file is dynamically constructed using the provided `year` and `topic` variables. This ensures flexibility and allows the script to process different exam files without manual path adjustments.\n",
    "\n",
    "Finally it stores the output in a DataFrame and the first 10 rows of the resulting DataFrame are displayed for a quick preview of the loaded data."
   ]
  },
  {
   "cell_type": "code",
   "execution_count": 9,
   "metadata": {
    "id": "AB4M4yfr8Jo3"
   },
   "outputs": [
    {
     "data": {
      "application/vnd.microsoft.datawrangler.viewer.v0+json": {
       "columns": [
        {
         "name": "index",
         "rawType": "int64",
         "type": "integer"
        },
        {
         "name": "text",
         "rawType": "object",
         "type": "string"
        }
       ],
       "conversionMethod": "pd.DataFrame",
       "ref": "222949ba-bce3-4959-8dc4-f856f334d960",
       "rows": [
        [
         "0",
         " "
        ],
        [
         "1",
         "- 1 - "
        ],
        [
         "2",
         "1. Pregunta asociada a la imagen 1. "
        ],
        [
         "3",
         " "
        ],
        [
         "4",
         "Paciente miope que consulta por pérdida de visión en "
        ],
        [
         "5",
         "ojo derecho. La exploración del fondo de ojo se ob-"
        ],
        [
         "6",
         "serva en la imagen. ¿Cuál de las siguientes afirma-"
        ],
        [
         "7",
         "ciones es correcta respecto a este paciente?: "
        ],
        [
         "8",
         " "
        ],
        [
         "9",
         "1. Tiene una mejoría de los síntomas al despertarse, "
        ]
       ],
       "shape": {
        "columns": 1,
        "rows": 10
       }
      },
      "text/html": [
       "<div>\n",
       "<style scoped>\n",
       "    .dataframe tbody tr th:only-of-type {\n",
       "        vertical-align: middle;\n",
       "    }\n",
       "\n",
       "    .dataframe tbody tr th {\n",
       "        vertical-align: top;\n",
       "    }\n",
       "\n",
       "    .dataframe thead th {\n",
       "        text-align: right;\n",
       "    }\n",
       "</style>\n",
       "<table border=\"1\" class=\"dataframe\">\n",
       "  <thead>\n",
       "    <tr style=\"text-align: right;\">\n",
       "      <th></th>\n",
       "      <th>text</th>\n",
       "    </tr>\n",
       "  </thead>\n",
       "  <tbody>\n",
       "    <tr>\n",
       "      <th>0</th>\n",
       "      <td></td>\n",
       "    </tr>\n",
       "    <tr>\n",
       "      <th>1</th>\n",
       "      <td>- 1 -</td>\n",
       "    </tr>\n",
       "    <tr>\n",
       "      <th>2</th>\n",
       "      <td>1. Pregunta asociada a la imagen 1.</td>\n",
       "    </tr>\n",
       "    <tr>\n",
       "      <th>3</th>\n",
       "      <td></td>\n",
       "    </tr>\n",
       "    <tr>\n",
       "      <th>4</th>\n",
       "      <td>Paciente miope que consulta por pérdida de vis...</td>\n",
       "    </tr>\n",
       "    <tr>\n",
       "      <th>5</th>\n",
       "      <td>ojo derecho. La exploración del fondo de ojo s...</td>\n",
       "    </tr>\n",
       "    <tr>\n",
       "      <th>6</th>\n",
       "      <td>serva en la imagen. ¿Cuál de las siguientes af...</td>\n",
       "    </tr>\n",
       "    <tr>\n",
       "      <th>7</th>\n",
       "      <td>ciones es correcta respecto a este paciente?:</td>\n",
       "    </tr>\n",
       "    <tr>\n",
       "      <th>8</th>\n",
       "      <td></td>\n",
       "    </tr>\n",
       "    <tr>\n",
       "      <th>9</th>\n",
       "      <td>1. Tiene una mejoría de los síntomas al desper...</td>\n",
       "    </tr>\n",
       "  </tbody>\n",
       "</table>\n",
       "</div>"
      ],
      "text/plain": [
       "                                                text\n",
       "0                                                   \n",
       "1                                             - 1 - \n",
       "2               1. Pregunta asociada a la imagen 1. \n",
       "3                                                   \n",
       "4  Paciente miope que consulta por pérdida de vis...\n",
       "5  ojo derecho. La exploración del fondo de ojo s...\n",
       "6  serva en la imagen. ¿Cuál de las siguientes af...\n",
       "7     ciones es correcta respecto a este paciente?: \n",
       "8                                                   \n",
       "9  1. Tiene una mejoría de los síntomas al desper..."
      ]
     },
     "execution_count": 9,
     "metadata": {},
     "output_type": "execute_result"
    }
   ],
   "source": [
    "path: str = f\"../data/raw/type_1/Raw_Cuaderno_{year}_{topic}_0_C.pdf\"\n",
    "with PdfReader(path) as pdf_file:\n",
    "    full_text: list = []\n",
    "    for n in range(2, len(pdf_file.pages)):\n",
    "        page = pdf_file.pages[n]\n",
    "        text: str = page.extract_text()\n",
    "        full_text.extend(text.splitlines())\n",
    "raw_exam_df: pd.DataFrame = pd.DataFrame(full_text, columns=[\"text\"])\n",
    "raw_exam_df.head(10)"
   ]
  },
  {
   "cell_type": "markdown",
   "metadata": {
    "id": "IBhc5aFQ8Jo6"
   },
   "source": [
    "## Extracting Answers from .tsv file into a DataFrame"
   ]
  },
  {
   "cell_type": "markdown",
   "metadata": {},
   "source": [
    "This section focuses on extracting the answer key data from the provided .tsv file and loading it into a Pandas DataFrame.\n",
    "\n",
    "**Path Definition and Data Loading:**\n",
    "\n",
    "The path to the .tsv file is dynamically constructed using the `year` and `topic` variables, mirroring the approach used for the PDF file. This ensures consistency and flexibility in processing different exam files. \n",
    "\n",
    "The `pd.read_table()` function is then used to read the .tsv file directly into a Pandas DataFrame. Finally, the first 10 rows of the resulting DataFrame are displayed for a quick preview of the loaded data."
   ]
  },
  {
   "cell_type": "code",
   "execution_count": 10,
   "metadata": {
    "colab": {
     "base_uri": "https://localhost:8080/",
     "height": 206
    },
    "id": "O1ouB9mQ8Jo7",
    "outputId": "70b7615d-9c90-4f2d-b9e1-a5c86b507ef6"
   },
   "outputs": [
    {
     "data": {
      "application/vnd.microsoft.datawrangler.viewer.v0+json": {
       "columns": [
        {
         "name": "index",
         "rawType": "int64",
         "type": "integer"
        },
        {
         "name": "V",
         "rawType": "int64",
         "type": "integer"
        },
        {
         "name": "RC",
         "rawType": "int64",
         "type": "integer"
        },
        {
         "name": "V.1",
         "rawType": "int64",
         "type": "integer"
        },
        {
         "name": "RC.1",
         "rawType": "int64",
         "type": "integer"
        },
        {
         "name": "V.2",
         "rawType": "int64",
         "type": "integer"
        },
        {
         "name": "RC.2",
         "rawType": "int64",
         "type": "integer"
        },
        {
         "name": "V.3",
         "rawType": "int64",
         "type": "integer"
        },
        {
         "name": "RC.3",
         "rawType": "float64",
         "type": "float"
        },
        {
         "name": "V.4",
         "rawType": "int64",
         "type": "integer"
        },
        {
         "name": "RC.4",
         "rawType": "float64",
         "type": "float"
        }
       ],
       "conversionMethod": "pd.DataFrame",
       "ref": "a95b3a00-87e9-448c-aeb1-6f2b9f13f92e",
       "rows": [
        [
         "0",
         "1",
         "1",
         "38",
         "1",
         "75",
         "3",
         "112",
         "3.0",
         "149",
         "4.0"
        ],
        [
         "1",
         "2",
         "3",
         "39",
         "2",
         "76",
         "3",
         "113",
         "3.0",
         "150",
         "1.0"
        ],
        [
         "2",
         "3",
         "2",
         "40",
         "3",
         "77",
         "1",
         "114",
         "4.0",
         "151",
         "2.0"
        ],
        [
         "3",
         "4",
         "4",
         "41",
         "3",
         "78",
         "3",
         "115",
         "1.0",
         "152",
         "1.0"
        ],
        [
         "4",
         "5",
         "3",
         "42",
         "2",
         "79",
         "1",
         "116",
         "4.0",
         "153",
         "1.0"
        ],
        [
         "5",
         "6",
         "3",
         "43",
         "4",
         "80",
         "2",
         "117",
         "3.0",
         "154",
         "1.0"
        ],
        [
         "6",
         "7",
         "4",
         "44",
         "3",
         "81",
         "1",
         "118",
         "3.0",
         "155",
         "2.0"
        ],
        [
         "7",
         "8",
         "4",
         "45",
         "2",
         "82",
         "4",
         "119",
         "1.0",
         "156",
         "2.0"
        ],
        [
         "8",
         "9",
         "2",
         "46",
         "1",
         "83",
         "1",
         "120",
         "3.0",
         "157",
         "3.0"
        ],
        [
         "9",
         "10",
         "3",
         "47",
         "4",
         "84",
         "3",
         "121",
         "4.0",
         "158",
         "1.0"
        ]
       ],
       "shape": {
        "columns": 10,
        "rows": 10
       }
      },
      "text/html": [
       "<div>\n",
       "<style scoped>\n",
       "    .dataframe tbody tr th:only-of-type {\n",
       "        vertical-align: middle;\n",
       "    }\n",
       "\n",
       "    .dataframe tbody tr th {\n",
       "        vertical-align: top;\n",
       "    }\n",
       "\n",
       "    .dataframe thead th {\n",
       "        text-align: right;\n",
       "    }\n",
       "</style>\n",
       "<table border=\"1\" class=\"dataframe\">\n",
       "  <thead>\n",
       "    <tr style=\"text-align: right;\">\n",
       "      <th></th>\n",
       "      <th>V</th>\n",
       "      <th>RC</th>\n",
       "      <th>V.1</th>\n",
       "      <th>RC.1</th>\n",
       "      <th>V.2</th>\n",
       "      <th>RC.2</th>\n",
       "      <th>V.3</th>\n",
       "      <th>RC.3</th>\n",
       "      <th>V.4</th>\n",
       "      <th>RC.4</th>\n",
       "    </tr>\n",
       "  </thead>\n",
       "  <tbody>\n",
       "    <tr>\n",
       "      <th>0</th>\n",
       "      <td>1</td>\n",
       "      <td>1</td>\n",
       "      <td>38</td>\n",
       "      <td>1</td>\n",
       "      <td>75</td>\n",
       "      <td>3</td>\n",
       "      <td>112</td>\n",
       "      <td>3.0</td>\n",
       "      <td>149</td>\n",
       "      <td>4.0</td>\n",
       "    </tr>\n",
       "    <tr>\n",
       "      <th>1</th>\n",
       "      <td>2</td>\n",
       "      <td>3</td>\n",
       "      <td>39</td>\n",
       "      <td>2</td>\n",
       "      <td>76</td>\n",
       "      <td>3</td>\n",
       "      <td>113</td>\n",
       "      <td>3.0</td>\n",
       "      <td>150</td>\n",
       "      <td>1.0</td>\n",
       "    </tr>\n",
       "    <tr>\n",
       "      <th>2</th>\n",
       "      <td>3</td>\n",
       "      <td>2</td>\n",
       "      <td>40</td>\n",
       "      <td>3</td>\n",
       "      <td>77</td>\n",
       "      <td>1</td>\n",
       "      <td>114</td>\n",
       "      <td>4.0</td>\n",
       "      <td>151</td>\n",
       "      <td>2.0</td>\n",
       "    </tr>\n",
       "    <tr>\n",
       "      <th>3</th>\n",
       "      <td>4</td>\n",
       "      <td>4</td>\n",
       "      <td>41</td>\n",
       "      <td>3</td>\n",
       "      <td>78</td>\n",
       "      <td>3</td>\n",
       "      <td>115</td>\n",
       "      <td>1.0</td>\n",
       "      <td>152</td>\n",
       "      <td>1.0</td>\n",
       "    </tr>\n",
       "    <tr>\n",
       "      <th>4</th>\n",
       "      <td>5</td>\n",
       "      <td>3</td>\n",
       "      <td>42</td>\n",
       "      <td>2</td>\n",
       "      <td>79</td>\n",
       "      <td>1</td>\n",
       "      <td>116</td>\n",
       "      <td>4.0</td>\n",
       "      <td>153</td>\n",
       "      <td>1.0</td>\n",
       "    </tr>\n",
       "    <tr>\n",
       "      <th>5</th>\n",
       "      <td>6</td>\n",
       "      <td>3</td>\n",
       "      <td>43</td>\n",
       "      <td>4</td>\n",
       "      <td>80</td>\n",
       "      <td>2</td>\n",
       "      <td>117</td>\n",
       "      <td>3.0</td>\n",
       "      <td>154</td>\n",
       "      <td>1.0</td>\n",
       "    </tr>\n",
       "    <tr>\n",
       "      <th>6</th>\n",
       "      <td>7</td>\n",
       "      <td>4</td>\n",
       "      <td>44</td>\n",
       "      <td>3</td>\n",
       "      <td>81</td>\n",
       "      <td>1</td>\n",
       "      <td>118</td>\n",
       "      <td>3.0</td>\n",
       "      <td>155</td>\n",
       "      <td>2.0</td>\n",
       "    </tr>\n",
       "    <tr>\n",
       "      <th>7</th>\n",
       "      <td>8</td>\n",
       "      <td>4</td>\n",
       "      <td>45</td>\n",
       "      <td>2</td>\n",
       "      <td>82</td>\n",
       "      <td>4</td>\n",
       "      <td>119</td>\n",
       "      <td>1.0</td>\n",
       "      <td>156</td>\n",
       "      <td>2.0</td>\n",
       "    </tr>\n",
       "    <tr>\n",
       "      <th>8</th>\n",
       "      <td>9</td>\n",
       "      <td>2</td>\n",
       "      <td>46</td>\n",
       "      <td>1</td>\n",
       "      <td>83</td>\n",
       "      <td>1</td>\n",
       "      <td>120</td>\n",
       "      <td>3.0</td>\n",
       "      <td>157</td>\n",
       "      <td>3.0</td>\n",
       "    </tr>\n",
       "    <tr>\n",
       "      <th>9</th>\n",
       "      <td>10</td>\n",
       "      <td>3</td>\n",
       "      <td>47</td>\n",
       "      <td>4</td>\n",
       "      <td>84</td>\n",
       "      <td>3</td>\n",
       "      <td>121</td>\n",
       "      <td>4.0</td>\n",
       "      <td>158</td>\n",
       "      <td>1.0</td>\n",
       "    </tr>\n",
       "  </tbody>\n",
       "</table>\n",
       "</div>"
      ],
      "text/plain": [
       "    V  RC  V.1  RC.1  V.2  RC.2  V.3  RC.3  V.4  RC.4\n",
       "0   1   1   38     1   75     3  112   3.0  149   4.0\n",
       "1   2   3   39     2   76     3  113   3.0  150   1.0\n",
       "2   3   2   40     3   77     1  114   4.0  151   2.0\n",
       "3   4   4   41     3   78     3  115   1.0  152   1.0\n",
       "4   5   3   42     2   79     1  116   4.0  153   1.0\n",
       "5   6   3   43     4   80     2  117   3.0  154   1.0\n",
       "6   7   4   44     3   81     1  118   3.0  155   2.0\n",
       "7   8   4   45     2   82     4  119   1.0  156   2.0\n",
       "8   9   2   46     1   83     1  120   3.0  157   3.0\n",
       "9  10   3   47     4   84     3  121   4.0  158   1.0"
      ]
     },
     "execution_count": 10,
     "metadata": {},
     "output_type": "execute_result"
    }
   ],
   "source": [
    "raw_answers_df: pd.DataFrame = pd.read_table(f\"../data/raw/type_1/Raw_Cuaderno_{year}_{topic}_0_C_Respuestas.tsv\")\n",
    "raw_answers_df.head(10)"
   ]
  },
  {
   "cell_type": "markdown",
   "metadata": {
    "id": "uFFlTADP8Jo7"
   },
   "source": [
    "# Data Transformation"
   ]
  },
  {
   "cell_type": "markdown",
   "metadata": {},
   "source": [
    "## Exam pdf"
   ]
  },
  {
   "cell_type": "markdown",
   "metadata": {},
   "source": [
    "### Removing white space"
   ]
  },
  {
   "cell_type": "markdown",
   "metadata": {
    "id": "2QavIIOK8Jo7"
   },
   "source": [
    "This section focuses on cleaning the raw text extracted from the PDF exam file, preparing it for further processing. This involves removing extraneous whitespace, handling empty lines, and resetting the DataFrame index.\n",
    "\n",
    "**1. Removing Page Number Artifacts:**\n",
    "\n",
    "The extracted text may contain page number artifacts, which are removed by filtering out rows containing the string \"Página\"."
   ]
  },
  {
   "cell_type": "code",
   "execution_count": 11,
   "metadata": {},
   "outputs": [],
   "source": [
    "raw_exam_df = raw_exam_df[~raw_exam_df[\"text\"].str.contains(\"Página\")]\n",
    "raw_exam_df = raw_exam_df[~raw_exam_df[\"text\"].str.contains(\"Pagina\")]\n",
    "raw_exam_df = raw_exam_df[~raw_exam_df[\"text\"].str.contains(topic)]\n",
    "\n",
    "footer_list: list = [f\"- {npag} -\" for npag in range(0,35,1)]\n",
    "\n",
    "for footer in footer_list:\n",
    "    raw_exam_df[\"text\"] = raw_exam_df[\"text\"].str.replace(footer, \"\")"
   ]
  },
  {
   "cell_type": "markdown",
   "metadata": {},
   "source": [
    "**2. Striping Leading/Trailing Whitespaces**\n",
    "\n",
    "Leading and trailing whitespace characters are removed from each text entry using the .str.strip() method."
   ]
  },
  {
   "cell_type": "code",
   "execution_count": 12,
   "metadata": {},
   "outputs": [],
   "source": [
    "raw_exam_df = raw_exam_df[\"text\"].str.strip()"
   ]
  },
  {
   "cell_type": "markdown",
   "metadata": {},
   "source": [
    "**3. Handling Empty Lines**\n",
    "\n",
    "Empty lines, represented as empty strings, are replaced with NaN (Not a Number) values. \n",
    "\n",
    "Then rows containing NaN values, representing empty lines, are removed from the DataFrame using .dropna()"
   ]
  },
  {
   "cell_type": "code",
   "execution_count": 13,
   "metadata": {},
   "outputs": [],
   "source": [
    "raw_exam_df = raw_exam_df.replace(\"\", np.nan)\n",
    "raw_exam_df = raw_exam_df.dropna()"
   ]
  },
  {
   "cell_type": "markdown",
   "metadata": {},
   "source": [
    "**4. Reseting DataFrame Index**\n",
    "\n",
    "The DataFrame index is reset after removing rows, ensuring a contiguous index and dropping the old index."
   ]
  },
  {
   "cell_type": "code",
   "execution_count": 14,
   "metadata": {},
   "outputs": [],
   "source": [
    "raw_exam_df = raw_exam_df.reset_index(drop=True)"
   ]
  },
  {
   "cell_type": "markdown",
   "metadata": {},
   "source": [
    "**5. Displays the first 10 rows of the DataFrame**"
   ]
  },
  {
   "cell_type": "code",
   "execution_count": 15,
   "metadata": {},
   "outputs": [
    {
     "data": {
      "text/plain": [
       "0                  1. Pregunta asociada a la imagen 1.\n",
       "1    Paciente miope que consulta por pérdida de vis...\n",
       "2    ojo derecho. La exploración del fondo de ojo s...\n",
       "3    serva en la imagen. ¿Cuál de las siguientes af...\n",
       "4        ciones es correcta respecto a este paciente?:\n",
       "5    1. Tiene una mejoría de los síntomas al desper...\n",
       "6                    que empeoran según avanza el día.\n",
       "7    2. Refiere una pérdida de visión, como una cor...\n",
       "8    que le afecta a la zona superior del campo vis...\n",
       "9    3. Sería necesario realizar un tratamiento con...\n",
       "Name: text, dtype: object"
      ]
     },
     "execution_count": 15,
     "metadata": {},
     "output_type": "execute_result"
    }
   ],
   "source": [
    "raw_exam_df.head(10)"
   ]
  },
  {
   "cell_type": "code",
   "execution_count": 16,
   "metadata": {},
   "outputs": [
    {
     "data": {
      "text/plain": [
       "2269              alarga el intervalo interdosis a 20 h).\n",
       "2270    4. 40 mg/kg/20 h (solo se alarga el intervalo ...\n",
       "2271                                         sis a 20 h).\n",
       "2272    185. En un paciente de quién se conoce que ten...\n",
       "2273    unos años un Mantoux negativo se produce un vi...\n",
       "2274                      del mismo. La primera reacción:\n",
       "2275                         1. Es un verdadero negativo.\n",
       "2276                             2. Es un falso negativo.\n",
       "2277                         3. Es un verdadero positivo.\n",
       "2278                             4. Es un falso positivo.\n",
       "Name: text, dtype: object"
      ]
     },
     "execution_count": 16,
     "metadata": {},
     "output_type": "execute_result"
    }
   ],
   "source": [
    "raw_exam_df.tail(10)"
   ]
  },
  {
   "cell_type": "markdown",
   "metadata": {},
   "source": [
    "### Joining Truncated Lines"
   ]
  },
  {
   "cell_type": "markdown",
   "metadata": {},
   "source": [
    "This section addresses the issue of truncated lines and multi-line questions or options within the extracted exam text. A custom function, `process_multi_line_str`, is used to concatenate these lines, ensuring that each question and option is presented as a single, coherent string.\n",
    "\n",
    "**Function: `process_multi_line_str(df)`**\n",
    "\n",
    "This function iterates through the DataFrame, performing two main tasks:\n",
    "\n",
    "1.  **Joining Truncated Words:**\n",
    "    * It checks if a line ends with a hyphen (\"-\"), indicating a word that has been truncated at the end of a line.\n",
    "    * If a line is truncated, it removes the hyphen and appends the content of the following line to the current line.\n",
    "    * The following line is then removed from the DataFrame, and the index is reset.\n",
    "\n",
    "2.  **Joining Multi-Line Questions/Options:**\n",
    "    * It checks if the first character of the next line can be converted to an integer. This is used as a heuristic to identify the start of a new question or option.\n",
    "    * If the next line does not start with an integer (i.e., it's a continuation of the current question or option), it is appended to the current line, separated by a space.\n",
    "    * The next line is then removed, and the index is reset."
   ]
  },
  {
   "cell_type": "code",
   "execution_count": 17,
   "metadata": {
    "id": "rYZHjn_C8Jo8"
   },
   "outputs": [],
   "source": [
    "def process_multi_line_str(df: pd.DataFrame) -> pd.DataFrame:\n",
    "    \"\"\"Function to handle truncated lines\n",
    "\n",
    "    Args:\n",
    "        df (pd.DataFrame): A pandas dataframe\n",
    "\n",
    "    Returns:\n",
    "        pd.DataFrame: Returns the DataFrame without truncated lines\n",
    "    \"\"\"\n",
    "    i: int = 0\n",
    "    while i < len(df) - 1:\n",
    "        if i < len(df) -1  and df.iloc[i].endswith(\"-\"):\n",
    "            df.iloc[i] = df.iloc[i][:-1] + df.iloc[i + 1]\n",
    "            df = df.drop(i + 1)\n",
    "            df = df.reset_index(drop=True)\n",
    "        else:\n",
    "            i += 1\n",
    "    n: int = 0\n",
    "    while n < len(df) -1:\n",
    "        if n + 1 < len(df):\n",
    "            try:\n",
    "                int(df.iloc[n + 1][0:1])\n",
    "                n += 1\n",
    "            except ValueError:\n",
    "                df.iloc[n] = df.iloc[n] + \" \" + df.iloc[n + 1]\n",
    "                df = df.drop(n +1)\n",
    "                df = df.reset_index(drop= True)\n",
    "        else:\n",
    "            break\n",
    "    return df"
   ]
  },
  {
   "cell_type": "markdown",
   "metadata": {},
   "source": [
    "The process_multi_line_str function is applied to the cleaned raw_exam_df DataFrame, and the resulting DataFrame is stored in exam_df_concat. The first few rows of the concatenated DataFrame are displayed to verify the results."
   ]
  },
  {
   "cell_type": "code",
   "execution_count": 18,
   "metadata": {
    "colab": {
     "base_uri": "https://localhost:8080/",
     "height": 206
    },
    "id": "2v6dmQuM8_v1",
    "outputId": "215f5328-a43d-4bbb-f221-fba6fc10a5c1"
   },
   "outputs": [
    {
     "data": {
      "text/plain": [
       "0    1. Pregunta asociada a la imagen 1. Paciente m...\n",
       "1    1. Tiene una mejoría de los síntomas al desper...\n",
       "2    2. Refiere una pérdida de visión, como una cor...\n",
       "3    3. Sería necesario realizar un tratamiento con...\n",
       "4    4. Debe realizarse tratamiento quirúrgico medi...\n",
       "5    2. Pregunta asociada a la imagen 2. Profesora ...\n",
       "6                                  1. Pólipos vocales.\n",
       "7                     2. Carcinoma de cuerdas vocales.\n",
       "8                                  3. Nódulos vocales.\n",
       "9                                  4. Quistes vocales.\n",
       "Name: text, dtype: object"
      ]
     },
     "execution_count": 18,
     "metadata": {},
     "output_type": "execute_result"
    }
   ],
   "source": [
    "exam_df_concat: pd.DataFrame = process_multi_line_str(raw_exam_df)\n",
    "exam_df_concat.head(10)"
   ]
  },
  {
   "cell_type": "markdown",
   "metadata": {},
   "source": [
    "### Validating and Correction Incorrect Rows"
   ]
  },
  {
   "cell_type": "markdown",
   "metadata": {},
   "source": [
    "This section focuses on validating the number of rows in the cleaned DataFrame against the expected number and correcting any rows that do not conform to the expected format.\n",
    "\n",
    "**1. Calculating Expected and Actual Incorrect Rows:**\n",
    "\n",
    "We calculate the expected number of incorrect rows by subtracting the total expected rows from the current number of rows in the DataFrame. We then identify the actual number of incorrect rows by counting the rows that do not end with a period (\".\"), a colon (\":\") or interrogation sign (\"?\")."
   ]
  },
  {
   "cell_type": "code",
   "execution_count": 19,
   "metadata": {},
   "outputs": [
    {
     "name": "stdout",
     "output_type": "stream",
     "text": [
      "Number of expected incorrect rows = 20\n",
      "Number of rows not ending with '.', ':' or '?' = 20\n",
      "[80, 87, 89, 91, 93, 139, 371, 502, 558, 609, 612, 619, 657, 663, 678, 680, 686, 748, 896, 934]\n"
     ]
    }
   ],
   "source": [
    "num_rows_incorrect_expected: int = len(exam_df_concat) - total_num_rows\n",
    "num_rows_incorrect: int = exam_df_concat[~exam_df_concat.str.endswith((\".\", \":\", \"?\"))].count()\n",
    "id_rows_incorrect: list = exam_df_concat[~exam_df_concat.str.endswith((\".\", \":\", \"?\"))].index.to_list()\n",
    "print(f\"Number of expected incorrect rows = {num_rows_incorrect_expected}\")\n",
    "print(f\"Number of rows not ending with '.', ':' or '?' = {num_rows_incorrect}\")\n",
    "print(id_rows_incorrect)"
   ]
  },
  {
   "cell_type": "markdown",
   "metadata": {},
   "source": [
    "**2. Function: print_rows_incorrrect(wrong_id, df):**\n",
    "\n",
    "This function takes a list of incorrect row indices and the DataFrame as input. It then prints the row identified as incorrect along with the 2 rows before and 2 rows after, providing context to help determine how to fix the error."
   ]
  },
  {
   "cell_type": "code",
   "execution_count": 20,
   "metadata": {},
   "outputs": [],
   "source": [
    "def print_rows_incorrrect(wrong_id: list[int], df: pd.DataFrame) -> None:\n",
    "    \"\"\"Print +/- 2 rows for context\n",
    "\n",
    "    Args:\n",
    "        wrong_id (list): Generated list of wrong row_id\n",
    "        df (pd.DataFrame): DataFrame corresponding with the worng_id list\n",
    "    \"\"\"\n",
    "    for wid in wrong_id:\n",
    "        print(f\"Id to fix {wid}:\")\n",
    "        print(df.iloc[wid -2: wid +3])"
   ]
  },
  {
   "cell_type": "markdown",
   "metadata": {},
   "source": [
    "**3. Function: fix_incorrect(num_row, df):**\n",
    "\n",
    "This function takes a list of row indices to fix and the DataFrame. It iterates through the indices in reverse order to avoid index shifting problems. Each incorrect row is concatenated with the row immediately following it, and the subsequent row is then dropped. The DataFrame index is reset after each concatenation."
   ]
  },
  {
   "cell_type": "code",
   "execution_count": 21,
   "metadata": {},
   "outputs": [],
   "source": [
    "def fix_incorrect(num_row: list[int], df: pd.DataFrame) -> pd.DataFrame:\n",
    "    \"\"\"Fix the incorrect rows in the DataFrame\n",
    "\n",
    "    Args:\n",
    "        num_row (list): List of ids to fix\n",
    "        df (pd.DataFrame): The DataFrame to fix\n",
    "\n",
    "    Returns:\n",
    "        pd.DataFrame: Fixed\n",
    "    \"\"\"\n",
    "    num_row: list = sorted(num_row, reverse=True)\n",
    "    for n in num_row:\n",
    "        df.iloc[n] = df.iloc[n] + df.iloc[n + 1]\n",
    "        df = df.drop(n + 1)\n",
    "        df = df.reset_index(drop= True)\n",
    "    return df"
   ]
  },
  {
   "cell_type": "markdown",
   "metadata": {},
   "source": [
    "**4. Validation and Correction Logic:**\n",
    "\n",
    "We compare the expected and actual number of incorrect rows. If they match, we proceed to fix the incorrect rows using the `fix_incorrect` function. Otherwise, we print the context of the incorrect rows and raise a warning, indicating that manual inspection and correction are required."
   ]
  },
  {
   "cell_type": "code",
   "execution_count": 22,
   "metadata": {},
   "outputs": [],
   "source": [
    "if num_rows_incorrect_expected == num_rows_incorrect:\n",
    "    exam_df_fixed = fix_incorrect(id_rows_incorrect, exam_df_concat)\n",
    "    df_correct_rows: bool = len(exam_df_fixed) == num_rows_incorrect_expected\n",
    "else:\n",
    "    print_rows_incorrrect(id_rows_incorrect, exam_df_concat)\n",
    "    raise Warning(\"More incorrect rows that expected, uncomment the lines below and add ids to the list, and comment this line\")\n",
    "    # rows_fix: list[int] = []\n",
    "    # exam_df_fixed: pd.DataFrame = fix_incorrect(rows_fix, exam_df_concat)"
   ]
  },
  {
   "cell_type": "markdown",
   "metadata": {},
   "source": [
    "**5. Verification of Corrected Rows:**\n",
    "\n",
    "We print the expected total number of rows and the actual number of rows in the corrected DataFrame to verify the results of the correction process."
   ]
  },
  {
   "cell_type": "code",
   "execution_count": 23,
   "metadata": {},
   "outputs": [
    {
     "name": "stdout",
     "output_type": "stream",
     "text": [
      "Correct number of rows = 925\n",
      "925\n"
     ]
    }
   ],
   "source": [
    "print(f\"Correct number of rows = {total_num_rows}\")\n",
    "print(exam_df_fixed.shape[0])"
   ]
  },
  {
   "cell_type": "markdown",
   "metadata": {},
   "source": [
    "### Pivoting the DataFrame\n",
    "\n",
    "This section focuses on transforming the cleaned exam data into a structured format suitable for analysis. The DataFrame is pivoted to create columns for each question and its corresponding options.\n",
    "\n",
    "**1. Preparing the DataFrame for Pivoting:**\n",
    "\n",
    "The `exam_df_fixed` Series is converted to a DataFrame, and a 'group' column is created to identify each question and its options. An 'option_num' column is then generated to enumerate the options within each group.\n"
   ]
  },
  {
   "cell_type": "code",
   "execution_count": 24,
   "metadata": {},
   "outputs": [],
   "source": [
    "exam_df_fixed = exam_df_fixed.to_frame()\n",
    "groups: pd.Series = pd.Series((exam_df_fixed.index // (num_questions+1)) +1)\n",
    "exam_df_fixed[\"group\"] = groups  \n",
    "exam_df_fixed[\"option_num\"] = exam_df_fixed.groupby(\"group\").cumcount() + 1"
   ]
  },
  {
   "cell_type": "markdown",
   "metadata": {},
   "source": [
    "**2. Pivoting the DataFrame:**\n",
    "\n",
    "The DataFrame is pivoted using the 'group' column as the index, the 'option_num' column as the columns, and the 'text' column as the values. The index is then reset."
   ]
  },
  {
   "cell_type": "code",
   "execution_count": 25,
   "metadata": {},
   "outputs": [],
   "source": [
    "exam_df_pivot: pd.DataFrame = exam_df_fixed.pivot(index=\"group\", columns=\"option_num\", values=\"text\")\n",
    "exam_df_pivot = exam_df_pivot.reset_index()"
   ]
  },
  {
   "cell_type": "markdown",
   "metadata": {},
   "source": [
    "**3. Renaming Columns:**\n",
    "\n",
    "The columns are renamed to more descriptive names, such as \"Question\", \"Option_1\", \"Option_2\", etc."
   ]
  },
  {
   "cell_type": "code",
   "execution_count": 26,
   "metadata": {},
   "outputs": [],
   "source": [
    "key_list: list = [x for x in range(1, num_questions+2, 1)]\n",
    "val_list: list = [\"Question\"] + [f\"Option_{x}\" for x in range(1, 4 + 1, 1)]\n",
    "\n",
    "exam_df_pivot = exam_df_pivot.rename_axis(None, axis=1).rename(columns=dict(zip(key_list, val_list)))"
   ]
  },
  {
   "cell_type": "markdown",
   "metadata": {},
   "source": [
    "**4. Dropping the 'group' Column:**\n",
    "\n",
    "The 'group' column is dropped as it is no longer needed"
   ]
  },
  {
   "cell_type": "code",
   "execution_count": 27,
   "metadata": {},
   "outputs": [],
   "source": [
    "exam_df_pivot = exam_df_pivot.drop(columns=[\"group\"])"
   ]
  },
  {
   "cell_type": "markdown",
   "metadata": {},
   "source": [
    "**5. Displaying the Pivoted DataFrame:**\n",
    "\n",
    "The first 10 rows of the pivoted DataFrame are displayed to verify the results of the transformation."
   ]
  },
  {
   "cell_type": "code",
   "execution_count": 28,
   "metadata": {},
   "outputs": [
    {
     "data": {
      "application/vnd.microsoft.datawrangler.viewer.v0+json": {
       "columns": [
        {
         "name": "index",
         "rawType": "int64",
         "type": "integer"
        },
        {
         "name": "Question",
         "rawType": "object",
         "type": "string"
        },
        {
         "name": "Option_1",
         "rawType": "object",
         "type": "string"
        },
        {
         "name": "Option_2",
         "rawType": "object",
         "type": "string"
        },
        {
         "name": "Option_3",
         "rawType": "object",
         "type": "string"
        },
        {
         "name": "Option_4",
         "rawType": "object",
         "type": "string"
        }
       ],
       "conversionMethod": "pd.DataFrame",
       "ref": "262fc052-222b-411a-a438-1b421d820937",
       "rows": [
        [
         "0",
         "1. Pregunta asociada a la imagen 1. Paciente miope que consulta por pérdida de visión en ojo derecho. La exploración del fondo de ojo se observa en la imagen. ¿Cuál de las siguientes afirmaciones es correcta respecto a este paciente?:",
         "1. Tiene una mejoría de los síntomas al despertarse, que empeoran según avanza el día.",
         "2. Refiere una pérdida de visión, como una cortina, que le afecta a la zona superior del campo visual.",
         "3. Sería necesario realizar un tratamiento con láser YAG previo a la cirugía.",
         "4. Debe realizarse tratamiento quirúrgico mediante trabeculectomía ab-externo."
        ],
        [
         "1",
         "2. Pregunta asociada a la imagen 2. Profesora de educación infantil que consulta por disfonía y fonastenia de 6 meses de evolución relacionada con el esfuerzo vocal. Durante la semana la voz empeora y en el fin de semana mejora parcialmente. De los siguientes, ¿cuál es el diagnóstico de sospecha más probable con la imagen de la laringoscopia que se aporta?:",
         "1. Pólipos vocales.",
         "2. Carcinoma de cuerdas vocales.",
         "3. Nódulos vocales.",
         "4. Quistes vocales."
        ],
        [
         "2",
         "3. Pregunta asociada a la imagen 3. Mujer de 60 años, sin antecedentes patológicos de interés, que acude al hospital por pirosis. Durante el proceso diagnóstico se observa en un TC toracoabdominal una lesión nodular de 3 cm en la pared posterior de la región cardial, por lo que se realiza una resección gástrica atípica. Se muestran dos imágenes, una macroscópica y otra microscópica. Las tinciones inmunohistoquímicas de la lesión son positivas para c-KIT y DOG1, y negativas para citoqueratinas, actina, desmina y S100. ¿Cuál es el diagnóstico anatomopatológico de la lesión gástrica?:",
         "1. Leiomiosarcoma.",
         "2. Tumor del estroma gastrointestinal.",
         "3. Schwannoma.",
         "4. Adenocarcinoma poco diferenciado."
        ],
        [
         "3",
         "4. Pregunta asociada a la imagen 4. Hombre de 68 años que consulta al dermatólogo por lesiones cutáneas ulceradas perianales. El dermatólogo se plantea dentro del diagnóstico diferencial un pioderma gangrenoso, una enfermedad ampollosa y una etiología infecciosa. Realiza una biopsia para estudio histológico y solicita también estudio de immunofluorescencia directa. La inmunofluorescencia directa es negativa y se muestra la histología de la lesión. ¿Cuál es el diagnóstico anatomopatológico de la lesión cutánea perianal?:",
         "1. Pioderma gangrenoso.",
         "2. Pénfigo vulgar.",
         "3. Infección micótica.",
         "4. Infección por el virus del herpes simple."
        ],
        [
         "4",
         "5. Pregunta asociada a la imagen 5. Las células indiferenciadas (blastos) de la imagen son típicas, por sus granulaciones en forma de bastones alargados, de:",
         "1. Mieloma secretor de IgA leucemizado.",
         "2. Linfoma folicular leucemizado.",
         "3. Leucemia aguda mieloide.",
         "4. Leucemia aguda linfoide."
        ],
        [
         "5",
         "6. Pregunta asociada a la imagen 6. Hombre de 55 años, fumador y con hábito enólico hasta hace 3 meses. Ingresa por deterioro del estado general e ictericia. En la exploración física se palpa hepatomegalia y en la analítica se constata fracaso renal con una creatinina de 4,6 mg/dl. Durante el ingreso presenta shock séptico por Staphylococcus aureus y abdomen agudo que se atribuye a isquemia entérica secundaria al shock séptico, por lo que se indica laparotomía exploradora donde se aprovecha para realizar una biopsia hepática. ¿Cuál es el diagnóstico anatomopatológico de la lesión hepática?:",
         "1. Cirrosis.",
         "2. Infiltración por carcinoma.",
         "3. Amiloidosis.",
         "4. Hepatitis alcohólica."
        ],
        [
         "6",
         "7. Pregunta asociada a la imagen 7. Varón de 58 años con masa mediastínica. El estudio microscópico muestra los hallazgos de la figura 1A. En la figura 1B, tinción para citoqueratinas. El diagnóstico más probable sería:",
         "1. Metástasis mediastínica de carcinoma sarcomatoide.",
         "2. Sarcoma de nervio periférico.",
         "3. Schwannoma.",
         "4. Timoma."
        ],
        [
         "7",
         "8. Pregunta asociada a la imagen 8. Mujer de 47 años con debilidad muscular proximal progresiva de extremidades superiores e inferiores de 7 meses de evolución. Sin antecedentes familiares de interés. Toma arroz rojo para tratar una dislipemia. Exploración física: fuerza en psoas 3/5, cuádriceps 4/5 y deltoides 4/5. CK de 3675 UI/L (normal <150 UI/L). Se solicitó un análisis inmunológico y se practicó una biopsia en el músculo deltoides derecho (figura). Marque la opción correcta:",
         "1. Análisis inmunológico: Ac. anti-cN1A positivos. Biopsia: infiltrado inflamatorio perivascular y presencia de vacuolas ribeteadas. Diagnóstico: miositis con cuerpos de inclusión.",
         "2. Análisis inmunológico: Ac. anti-TIF-1 gamma positivos. Biopsia: infiltrado inflamatorio perivascular y células en anillo. Diagnóstico: dermatomiositis.",
         "3. Análisis inmunológico: Ac. anti-mitocondriales positivos. Biopsia: necrosis coagulativa y regeneración de fibras musculares con escaso infiltrado inflamatorio. Diagnóstico: distrofia muscular congénita de Ullrich.",
         "4. Análisis inmunológico: Ac. anti-HMG-CoA reductasa positivos. Biopsia: necrosis coagulativa y regeneración de fibras musculares con escaso infiltrado inflamatorio. Diagnóstico: miopatía necrosante inmunomediada."
        ],
        [
         "8",
         "9. Pregunta asociada a la imagen 9. Mujer de 85 años, trabajadora del campo jubilada, que presenta desde hace un año y medio en la nariz una lesión papulosa, redondeada y brillante que le sangra con facilidad y  crece lentamente. De entre las opciones señaladas, ¿cuál es el diagnóstico más probable?:",
         "1. Queratoacantoma.",
         "2. Carcinoma basocelular.",
         "3. Queratosis actínica hipertrófica.",
         "4. Herpes simple crónico."
        ],
        [
         "9",
         "10. Pregunta asociada a la imagen 10. Varón de 45 años, diabético e hipertenso  que acude porque desde hace 3 meses presenta placas eritematosas con descamación blanca en cuero cabelludo, tronco, rodillas y codos (ver imagen), con  afectación de 4 uñas de las manos. Refiere prurito y decaimiento. ¿Cuál de las siguientes opciones terapéuticas es la más adecuada?:",
         "1. Prednisona oral.",
         "2. Leflunomida.",
         "3. Adalimumab.",
         "4. Rituximab."
        ]
       ],
       "shape": {
        "columns": 5,
        "rows": 10
       }
      },
      "text/html": [
       "<div>\n",
       "<style scoped>\n",
       "    .dataframe tbody tr th:only-of-type {\n",
       "        vertical-align: middle;\n",
       "    }\n",
       "\n",
       "    .dataframe tbody tr th {\n",
       "        vertical-align: top;\n",
       "    }\n",
       "\n",
       "    .dataframe thead th {\n",
       "        text-align: right;\n",
       "    }\n",
       "</style>\n",
       "<table border=\"1\" class=\"dataframe\">\n",
       "  <thead>\n",
       "    <tr style=\"text-align: right;\">\n",
       "      <th></th>\n",
       "      <th>Question</th>\n",
       "      <th>Option_1</th>\n",
       "      <th>Option_2</th>\n",
       "      <th>Option_3</th>\n",
       "      <th>Option_4</th>\n",
       "    </tr>\n",
       "  </thead>\n",
       "  <tbody>\n",
       "    <tr>\n",
       "      <th>0</th>\n",
       "      <td>1. Pregunta asociada a la imagen 1. Paciente m...</td>\n",
       "      <td>1. Tiene una mejoría de los síntomas al desper...</td>\n",
       "      <td>2. Refiere una pérdida de visión, como una cor...</td>\n",
       "      <td>3. Sería necesario realizar un tratamiento con...</td>\n",
       "      <td>4. Debe realizarse tratamiento quirúrgico medi...</td>\n",
       "    </tr>\n",
       "    <tr>\n",
       "      <th>1</th>\n",
       "      <td>2. Pregunta asociada a la imagen 2. Profesora ...</td>\n",
       "      <td>1. Pólipos vocales.</td>\n",
       "      <td>2. Carcinoma de cuerdas vocales.</td>\n",
       "      <td>3. Nódulos vocales.</td>\n",
       "      <td>4. Quistes vocales.</td>\n",
       "    </tr>\n",
       "    <tr>\n",
       "      <th>2</th>\n",
       "      <td>3. Pregunta asociada a la imagen 3. Mujer de 6...</td>\n",
       "      <td>1. Leiomiosarcoma.</td>\n",
       "      <td>2. Tumor del estroma gastrointestinal.</td>\n",
       "      <td>3. Schwannoma.</td>\n",
       "      <td>4. Adenocarcinoma poco diferenciado.</td>\n",
       "    </tr>\n",
       "    <tr>\n",
       "      <th>3</th>\n",
       "      <td>4. Pregunta asociada a la imagen 4. Hombre de ...</td>\n",
       "      <td>1. Pioderma gangrenoso.</td>\n",
       "      <td>2. Pénfigo vulgar.</td>\n",
       "      <td>3. Infección micótica.</td>\n",
       "      <td>4. Infección por el virus del herpes simple.</td>\n",
       "    </tr>\n",
       "    <tr>\n",
       "      <th>4</th>\n",
       "      <td>5. Pregunta asociada a la imagen 5. Las célula...</td>\n",
       "      <td>1. Mieloma secretor de IgA leucemizado.</td>\n",
       "      <td>2. Linfoma folicular leucemizado.</td>\n",
       "      <td>3. Leucemia aguda mieloide.</td>\n",
       "      <td>4. Leucemia aguda linfoide.</td>\n",
       "    </tr>\n",
       "    <tr>\n",
       "      <th>5</th>\n",
       "      <td>6. Pregunta asociada a la imagen 6. Hombre de ...</td>\n",
       "      <td>1. Cirrosis.</td>\n",
       "      <td>2. Infiltración por carcinoma.</td>\n",
       "      <td>3. Amiloidosis.</td>\n",
       "      <td>4. Hepatitis alcohólica.</td>\n",
       "    </tr>\n",
       "    <tr>\n",
       "      <th>6</th>\n",
       "      <td>7. Pregunta asociada a la imagen 7. Varón de 5...</td>\n",
       "      <td>1. Metástasis mediastínica de carcinoma sarcom...</td>\n",
       "      <td>2. Sarcoma de nervio periférico.</td>\n",
       "      <td>3. Schwannoma.</td>\n",
       "      <td>4. Timoma.</td>\n",
       "    </tr>\n",
       "    <tr>\n",
       "      <th>7</th>\n",
       "      <td>8. Pregunta asociada a la imagen 8. Mujer de 4...</td>\n",
       "      <td>1. Análisis inmunológico: Ac. anti-cN1A positi...</td>\n",
       "      <td>2. Análisis inmunológico: Ac. anti-TIF-1 gamma...</td>\n",
       "      <td>3. Análisis inmunológico: Ac. anti-mitocondria...</td>\n",
       "      <td>4. Análisis inmunológico: Ac. anti-HMG-CoA red...</td>\n",
       "    </tr>\n",
       "    <tr>\n",
       "      <th>8</th>\n",
       "      <td>9. Pregunta asociada a la imagen 9. Mujer de 8...</td>\n",
       "      <td>1. Queratoacantoma.</td>\n",
       "      <td>2. Carcinoma basocelular.</td>\n",
       "      <td>3. Queratosis actínica hipertrófica.</td>\n",
       "      <td>4. Herpes simple crónico.</td>\n",
       "    </tr>\n",
       "    <tr>\n",
       "      <th>9</th>\n",
       "      <td>10. Pregunta asociada a la imagen 10. Varón de...</td>\n",
       "      <td>1. Prednisona oral.</td>\n",
       "      <td>2. Leflunomida.</td>\n",
       "      <td>3. Adalimumab.</td>\n",
       "      <td>4. Rituximab.</td>\n",
       "    </tr>\n",
       "  </tbody>\n",
       "</table>\n",
       "</div>"
      ],
      "text/plain": [
       "                                            Question  \\\n",
       "0  1. Pregunta asociada a la imagen 1. Paciente m...   \n",
       "1  2. Pregunta asociada a la imagen 2. Profesora ...   \n",
       "2  3. Pregunta asociada a la imagen 3. Mujer de 6...   \n",
       "3  4. Pregunta asociada a la imagen 4. Hombre de ...   \n",
       "4  5. Pregunta asociada a la imagen 5. Las célula...   \n",
       "5  6. Pregunta asociada a la imagen 6. Hombre de ...   \n",
       "6  7. Pregunta asociada a la imagen 7. Varón de 5...   \n",
       "7  8. Pregunta asociada a la imagen 8. Mujer de 4...   \n",
       "8  9. Pregunta asociada a la imagen 9. Mujer de 8...   \n",
       "9  10. Pregunta asociada a la imagen 10. Varón de...   \n",
       "\n",
       "                                            Option_1  \\\n",
       "0  1. Tiene una mejoría de los síntomas al desper...   \n",
       "1                                1. Pólipos vocales.   \n",
       "2                                 1. Leiomiosarcoma.   \n",
       "3                            1. Pioderma gangrenoso.   \n",
       "4            1. Mieloma secretor de IgA leucemizado.   \n",
       "5                                       1. Cirrosis.   \n",
       "6  1. Metástasis mediastínica de carcinoma sarcom...   \n",
       "7  1. Análisis inmunológico: Ac. anti-cN1A positi...   \n",
       "8                                1. Queratoacantoma.   \n",
       "9                                1. Prednisona oral.   \n",
       "\n",
       "                                            Option_2  \\\n",
       "0  2. Refiere una pérdida de visión, como una cor...   \n",
       "1                   2. Carcinoma de cuerdas vocales.   \n",
       "2             2. Tumor del estroma gastrointestinal.   \n",
       "3                                 2. Pénfigo vulgar.   \n",
       "4                  2. Linfoma folicular leucemizado.   \n",
       "5                     2. Infiltración por carcinoma.   \n",
       "6                   2. Sarcoma de nervio periférico.   \n",
       "7  2. Análisis inmunológico: Ac. anti-TIF-1 gamma...   \n",
       "8                          2. Carcinoma basocelular.   \n",
       "9                                    2. Leflunomida.   \n",
       "\n",
       "                                            Option_3  \\\n",
       "0  3. Sería necesario realizar un tratamiento con...   \n",
       "1                                3. Nódulos vocales.   \n",
       "2                                     3. Schwannoma.   \n",
       "3                             3. Infección micótica.   \n",
       "4                        3. Leucemia aguda mieloide.   \n",
       "5                                    3. Amiloidosis.   \n",
       "6                                     3. Schwannoma.   \n",
       "7  3. Análisis inmunológico: Ac. anti-mitocondria...   \n",
       "8               3. Queratosis actínica hipertrófica.   \n",
       "9                                     3. Adalimumab.   \n",
       "\n",
       "                                            Option_4  \n",
       "0  4. Debe realizarse tratamiento quirúrgico medi...  \n",
       "1                                4. Quistes vocales.  \n",
       "2               4. Adenocarcinoma poco diferenciado.  \n",
       "3       4. Infección por el virus del herpes simple.  \n",
       "4                        4. Leucemia aguda linfoide.  \n",
       "5                           4. Hepatitis alcohólica.  \n",
       "6                                         4. Timoma.  \n",
       "7  4. Análisis inmunológico: Ac. anti-HMG-CoA red...  \n",
       "8                          4. Herpes simple crónico.  \n",
       "9                                      4. Rituximab.  "
      ]
     },
     "execution_count": 28,
     "metadata": {},
     "output_type": "execute_result"
    }
   ],
   "source": [
    "exam_df_pivot.head(10)"
   ]
  },
  {
   "cell_type": "markdown",
   "metadata": {},
   "source": [
    "## Answers tsv\n",
    "\n",
    "This section focuses on cleaning and consolidating the answer key data from the TSV file. The original data contains duplicate columns, which are processed and combined into a single, clean DataFrame.\n",
    "\n",
    "**1. Defining Column Lists:**\n",
    "\n",
    "We define lists containing the original column names and the duplicate column names."
   ]
  },
  {
   "cell_type": "code",
   "execution_count": 29,
   "metadata": {},
   "outputs": [],
   "source": [
    "original_col: list[str] = [\"V\", \"RC\"]\n",
    "duplicate_cols: list[str] = [\"V.1\", \"RC.1\", \"V.2\", \"RC.2\", \"V.3\", \"RC.3\", \"V.4\", \"RC.4\"]"
   ]
  },
  {
   "cell_type": "markdown",
   "metadata": {},
   "source": [
    "**2. Processing Duplicate Columns:**\n",
    "\n",
    "We iterate through the duplicate_cols list in pairs, extracting the corresponding columns, renaming them to the original column names, and appending them to a list of DataFrames."
   ]
  },
  {
   "cell_type": "code",
   "execution_count": 30,
   "metadata": {},
   "outputs": [],
   "source": [
    "answers_df_list: list[pd.DataFrame] = [raw_answers_df[original_col]]\n",
    "\n",
    "for i in range(0, len(duplicate_cols), 2):\n",
    "    pair_cols: list = duplicate_cols[i:i+2]\n",
    "    df_pair_col: pd.DataFrame = raw_answers_df[pair_cols].rename(columns={pair_cols[0]: \"V\", pair_cols[1]: \"RC\"})\n",
    "    answers_df_list.append(df_pair_col)"
   ]
  },
  {
   "cell_type": "markdown",
   "metadata": {},
   "source": [
    "**3. Concatenating DataFrames:**\n",
    "\n",
    "The list of DataFrames is concatenated into a single DataFrame, ignoring the original index."
   ]
  },
  {
   "cell_type": "code",
   "execution_count": 31,
   "metadata": {},
   "outputs": [],
   "source": [
    "answers_df_clean: pd.DataFrame = pd.concat(answers_df_list, ignore_index=True)"
   ]
  },
  {
   "cell_type": "markdown",
   "metadata": {},
   "source": [
    "**4. Displaying the Cleaned DataFrame:**\n",
    "\n",
    "The cleaned DataFrame is printed to verify the results of the consolidation process."
   ]
  },
  {
   "cell_type": "code",
   "execution_count": 32,
   "metadata": {},
   "outputs": [
    {
     "data": {
      "application/vnd.microsoft.datawrangler.viewer.v0+json": {
       "columns": [
        {
         "name": "index",
         "rawType": "int64",
         "type": "integer"
        },
        {
         "name": "V",
         "rawType": "int64",
         "type": "integer"
        },
        {
         "name": "RC",
         "rawType": "float64",
         "type": "float"
        }
       ],
       "conversionMethod": "pd.DataFrame",
       "ref": "ead11bb6-17b1-4f2c-9d8f-8bddc63e1c4d",
       "rows": [
        [
         "0",
         "1",
         "1.0"
        ],
        [
         "1",
         "2",
         "3.0"
        ],
        [
         "2",
         "3",
         "2.0"
        ],
        [
         "3",
         "4",
         "4.0"
        ],
        [
         "4",
         "5",
         "3.0"
        ],
        [
         "5",
         "6",
         "3.0"
        ],
        [
         "6",
         "7",
         "4.0"
        ],
        [
         "7",
         "8",
         "4.0"
        ],
        [
         "8",
         "9",
         "2.0"
        ],
        [
         "9",
         "10",
         "3.0"
        ]
       ],
       "shape": {
        "columns": 2,
        "rows": 10
       }
      },
      "text/html": [
       "<div>\n",
       "<style scoped>\n",
       "    .dataframe tbody tr th:only-of-type {\n",
       "        vertical-align: middle;\n",
       "    }\n",
       "\n",
       "    .dataframe tbody tr th {\n",
       "        vertical-align: top;\n",
       "    }\n",
       "\n",
       "    .dataframe thead th {\n",
       "        text-align: right;\n",
       "    }\n",
       "</style>\n",
       "<table border=\"1\" class=\"dataframe\">\n",
       "  <thead>\n",
       "    <tr style=\"text-align: right;\">\n",
       "      <th></th>\n",
       "      <th>V</th>\n",
       "      <th>RC</th>\n",
       "    </tr>\n",
       "  </thead>\n",
       "  <tbody>\n",
       "    <tr>\n",
       "      <th>0</th>\n",
       "      <td>1</td>\n",
       "      <td>1.0</td>\n",
       "    </tr>\n",
       "    <tr>\n",
       "      <th>1</th>\n",
       "      <td>2</td>\n",
       "      <td>3.0</td>\n",
       "    </tr>\n",
       "    <tr>\n",
       "      <th>2</th>\n",
       "      <td>3</td>\n",
       "      <td>2.0</td>\n",
       "    </tr>\n",
       "    <tr>\n",
       "      <th>3</th>\n",
       "      <td>4</td>\n",
       "      <td>4.0</td>\n",
       "    </tr>\n",
       "    <tr>\n",
       "      <th>4</th>\n",
       "      <td>5</td>\n",
       "      <td>3.0</td>\n",
       "    </tr>\n",
       "    <tr>\n",
       "      <th>5</th>\n",
       "      <td>6</td>\n",
       "      <td>3.0</td>\n",
       "    </tr>\n",
       "    <tr>\n",
       "      <th>6</th>\n",
       "      <td>7</td>\n",
       "      <td>4.0</td>\n",
       "    </tr>\n",
       "    <tr>\n",
       "      <th>7</th>\n",
       "      <td>8</td>\n",
       "      <td>4.0</td>\n",
       "    </tr>\n",
       "    <tr>\n",
       "      <th>8</th>\n",
       "      <td>9</td>\n",
       "      <td>2.0</td>\n",
       "    </tr>\n",
       "    <tr>\n",
       "      <th>9</th>\n",
       "      <td>10</td>\n",
       "      <td>3.0</td>\n",
       "    </tr>\n",
       "  </tbody>\n",
       "</table>\n",
       "</div>"
      ],
      "text/plain": [
       "    V   RC\n",
       "0   1  1.0\n",
       "1   2  3.0\n",
       "2   3  2.0\n",
       "3   4  4.0\n",
       "4   5  3.0\n",
       "5   6  3.0\n",
       "6   7  4.0\n",
       "7   8  4.0\n",
       "8   9  2.0\n",
       "9  10  3.0"
      ]
     },
     "execution_count": 32,
     "metadata": {},
     "output_type": "execute_result"
    }
   ],
   "source": [
    "answers_df_clean.head(10)"
   ]
  },
  {
   "cell_type": "markdown",
   "metadata": {},
   "source": [
    "## Joining the DataFrames\n",
    "\n",
    "This section focuses on merging the processed exam questions DataFrame with the cleaned answers DataFrame, performing final data cleaning, and verifying the integrity of the joined data.\n",
    "\n",
    "**1. Joining the DataFrames:**\n",
    "\n",
    "The pivoted exam questions DataFrame (`exam_df_pivot`) and the cleaned answers DataFrame (`answers_df_clean`) are joined horizontally using `pd.concat`. The 'V0' column, which represents the question number from the answers DataFrame, is then dropped. The first 10 rows of the joined DataFrame are displayed."
   ]
  },
  {
   "cell_type": "code",
   "execution_count": 33,
   "metadata": {},
   "outputs": [
    {
     "data": {
      "application/vnd.microsoft.datawrangler.viewer.v0+json": {
       "columns": [
        {
         "name": "index",
         "rawType": "int64",
         "type": "integer"
        },
        {
         "name": "Question",
         "rawType": "object",
         "type": "string"
        },
        {
         "name": "Option_1",
         "rawType": "object",
         "type": "string"
        },
        {
         "name": "Option_2",
         "rawType": "object",
         "type": "string"
        },
        {
         "name": "Option_3",
         "rawType": "object",
         "type": "string"
        },
        {
         "name": "Option_4",
         "rawType": "object",
         "type": "string"
        },
        {
         "name": "RC",
         "rawType": "float64",
         "type": "float"
        }
       ],
       "conversionMethod": "pd.DataFrame",
       "ref": "76ce3fa7-043f-41db-93a4-785442edfc06",
       "rows": [
        [
         "0",
         "1. Pregunta asociada a la imagen 1. Paciente miope que consulta por pérdida de visión en ojo derecho. La exploración del fondo de ojo se observa en la imagen. ¿Cuál de las siguientes afirmaciones es correcta respecto a este paciente?:",
         "1. Tiene una mejoría de los síntomas al despertarse, que empeoran según avanza el día.",
         "2. Refiere una pérdida de visión, como una cortina, que le afecta a la zona superior del campo visual.",
         "3. Sería necesario realizar un tratamiento con láser YAG previo a la cirugía.",
         "4. Debe realizarse tratamiento quirúrgico mediante trabeculectomía ab-externo.",
         "1.0"
        ],
        [
         "1",
         "2. Pregunta asociada a la imagen 2. Profesora de educación infantil que consulta por disfonía y fonastenia de 6 meses de evolución relacionada con el esfuerzo vocal. Durante la semana la voz empeora y en el fin de semana mejora parcialmente. De los siguientes, ¿cuál es el diagnóstico de sospecha más probable con la imagen de la laringoscopia que se aporta?:",
         "1. Pólipos vocales.",
         "2. Carcinoma de cuerdas vocales.",
         "3. Nódulos vocales.",
         "4. Quistes vocales.",
         "3.0"
        ],
        [
         "2",
         "3. Pregunta asociada a la imagen 3. Mujer de 60 años, sin antecedentes patológicos de interés, que acude al hospital por pirosis. Durante el proceso diagnóstico se observa en un TC toracoabdominal una lesión nodular de 3 cm en la pared posterior de la región cardial, por lo que se realiza una resección gástrica atípica. Se muestran dos imágenes, una macroscópica y otra microscópica. Las tinciones inmunohistoquímicas de la lesión son positivas para c-KIT y DOG1, y negativas para citoqueratinas, actina, desmina y S100. ¿Cuál es el diagnóstico anatomopatológico de la lesión gástrica?:",
         "1. Leiomiosarcoma.",
         "2. Tumor del estroma gastrointestinal.",
         "3. Schwannoma.",
         "4. Adenocarcinoma poco diferenciado.",
         "2.0"
        ],
        [
         "3",
         "4. Pregunta asociada a la imagen 4. Hombre de 68 años que consulta al dermatólogo por lesiones cutáneas ulceradas perianales. El dermatólogo se plantea dentro del diagnóstico diferencial un pioderma gangrenoso, una enfermedad ampollosa y una etiología infecciosa. Realiza una biopsia para estudio histológico y solicita también estudio de immunofluorescencia directa. La inmunofluorescencia directa es negativa y se muestra la histología de la lesión. ¿Cuál es el diagnóstico anatomopatológico de la lesión cutánea perianal?:",
         "1. Pioderma gangrenoso.",
         "2. Pénfigo vulgar.",
         "3. Infección micótica.",
         "4. Infección por el virus del herpes simple.",
         "4.0"
        ],
        [
         "4",
         "5. Pregunta asociada a la imagen 5. Las células indiferenciadas (blastos) de la imagen son típicas, por sus granulaciones en forma de bastones alargados, de:",
         "1. Mieloma secretor de IgA leucemizado.",
         "2. Linfoma folicular leucemizado.",
         "3. Leucemia aguda mieloide.",
         "4. Leucemia aguda linfoide.",
         "3.0"
        ],
        [
         "5",
         "6. Pregunta asociada a la imagen 6. Hombre de 55 años, fumador y con hábito enólico hasta hace 3 meses. Ingresa por deterioro del estado general e ictericia. En la exploración física se palpa hepatomegalia y en la analítica se constata fracaso renal con una creatinina de 4,6 mg/dl. Durante el ingreso presenta shock séptico por Staphylococcus aureus y abdomen agudo que se atribuye a isquemia entérica secundaria al shock séptico, por lo que se indica laparotomía exploradora donde se aprovecha para realizar una biopsia hepática. ¿Cuál es el diagnóstico anatomopatológico de la lesión hepática?:",
         "1. Cirrosis.",
         "2. Infiltración por carcinoma.",
         "3. Amiloidosis.",
         "4. Hepatitis alcohólica.",
         "3.0"
        ],
        [
         "6",
         "7. Pregunta asociada a la imagen 7. Varón de 58 años con masa mediastínica. El estudio microscópico muestra los hallazgos de la figura 1A. En la figura 1B, tinción para citoqueratinas. El diagnóstico más probable sería:",
         "1. Metástasis mediastínica de carcinoma sarcomatoide.",
         "2. Sarcoma de nervio periférico.",
         "3. Schwannoma.",
         "4. Timoma.",
         "4.0"
        ],
        [
         "7",
         "8. Pregunta asociada a la imagen 8. Mujer de 47 años con debilidad muscular proximal progresiva de extremidades superiores e inferiores de 7 meses de evolución. Sin antecedentes familiares de interés. Toma arroz rojo para tratar una dislipemia. Exploración física: fuerza en psoas 3/5, cuádriceps 4/5 y deltoides 4/5. CK de 3675 UI/L (normal <150 UI/L). Se solicitó un análisis inmunológico y se practicó una biopsia en el músculo deltoides derecho (figura). Marque la opción correcta:",
         "1. Análisis inmunológico: Ac. anti-cN1A positivos. Biopsia: infiltrado inflamatorio perivascular y presencia de vacuolas ribeteadas. Diagnóstico: miositis con cuerpos de inclusión.",
         "2. Análisis inmunológico: Ac. anti-TIF-1 gamma positivos. Biopsia: infiltrado inflamatorio perivascular y células en anillo. Diagnóstico: dermatomiositis.",
         "3. Análisis inmunológico: Ac. anti-mitocondriales positivos. Biopsia: necrosis coagulativa y regeneración de fibras musculares con escaso infiltrado inflamatorio. Diagnóstico: distrofia muscular congénita de Ullrich.",
         "4. Análisis inmunológico: Ac. anti-HMG-CoA reductasa positivos. Biopsia: necrosis coagulativa y regeneración de fibras musculares con escaso infiltrado inflamatorio. Diagnóstico: miopatía necrosante inmunomediada.",
         "4.0"
        ],
        [
         "8",
         "9. Pregunta asociada a la imagen 9. Mujer de 85 años, trabajadora del campo jubilada, que presenta desde hace un año y medio en la nariz una lesión papulosa, redondeada y brillante que le sangra con facilidad y  crece lentamente. De entre las opciones señaladas, ¿cuál es el diagnóstico más probable?:",
         "1. Queratoacantoma.",
         "2. Carcinoma basocelular.",
         "3. Queratosis actínica hipertrófica.",
         "4. Herpes simple crónico.",
         "2.0"
        ],
        [
         "9",
         "10. Pregunta asociada a la imagen 10. Varón de 45 años, diabético e hipertenso  que acude porque desde hace 3 meses presenta placas eritematosas con descamación blanca en cuero cabelludo, tronco, rodillas y codos (ver imagen), con  afectación de 4 uñas de las manos. Refiere prurito y decaimiento. ¿Cuál de las siguientes opciones terapéuticas es la más adecuada?:",
         "1. Prednisona oral.",
         "2. Leflunomida.",
         "3. Adalimumab.",
         "4. Rituximab.",
         "3.0"
        ]
       ],
       "shape": {
        "columns": 6,
        "rows": 10
       }
      },
      "text/html": [
       "<div>\n",
       "<style scoped>\n",
       "    .dataframe tbody tr th:only-of-type {\n",
       "        vertical-align: middle;\n",
       "    }\n",
       "\n",
       "    .dataframe tbody tr th {\n",
       "        vertical-align: top;\n",
       "    }\n",
       "\n",
       "    .dataframe thead th {\n",
       "        text-align: right;\n",
       "    }\n",
       "</style>\n",
       "<table border=\"1\" class=\"dataframe\">\n",
       "  <thead>\n",
       "    <tr style=\"text-align: right;\">\n",
       "      <th></th>\n",
       "      <th>Question</th>\n",
       "      <th>Option_1</th>\n",
       "      <th>Option_2</th>\n",
       "      <th>Option_3</th>\n",
       "      <th>Option_4</th>\n",
       "      <th>RC</th>\n",
       "    </tr>\n",
       "  </thead>\n",
       "  <tbody>\n",
       "    <tr>\n",
       "      <th>0</th>\n",
       "      <td>1. Pregunta asociada a la imagen 1. Paciente m...</td>\n",
       "      <td>1. Tiene una mejoría de los síntomas al desper...</td>\n",
       "      <td>2. Refiere una pérdida de visión, como una cor...</td>\n",
       "      <td>3. Sería necesario realizar un tratamiento con...</td>\n",
       "      <td>4. Debe realizarse tratamiento quirúrgico medi...</td>\n",
       "      <td>1.0</td>\n",
       "    </tr>\n",
       "    <tr>\n",
       "      <th>1</th>\n",
       "      <td>2. Pregunta asociada a la imagen 2. Profesora ...</td>\n",
       "      <td>1. Pólipos vocales.</td>\n",
       "      <td>2. Carcinoma de cuerdas vocales.</td>\n",
       "      <td>3. Nódulos vocales.</td>\n",
       "      <td>4. Quistes vocales.</td>\n",
       "      <td>3.0</td>\n",
       "    </tr>\n",
       "    <tr>\n",
       "      <th>2</th>\n",
       "      <td>3. Pregunta asociada a la imagen 3. Mujer de 6...</td>\n",
       "      <td>1. Leiomiosarcoma.</td>\n",
       "      <td>2. Tumor del estroma gastrointestinal.</td>\n",
       "      <td>3. Schwannoma.</td>\n",
       "      <td>4. Adenocarcinoma poco diferenciado.</td>\n",
       "      <td>2.0</td>\n",
       "    </tr>\n",
       "    <tr>\n",
       "      <th>3</th>\n",
       "      <td>4. Pregunta asociada a la imagen 4. Hombre de ...</td>\n",
       "      <td>1. Pioderma gangrenoso.</td>\n",
       "      <td>2. Pénfigo vulgar.</td>\n",
       "      <td>3. Infección micótica.</td>\n",
       "      <td>4. Infección por el virus del herpes simple.</td>\n",
       "      <td>4.0</td>\n",
       "    </tr>\n",
       "    <tr>\n",
       "      <th>4</th>\n",
       "      <td>5. Pregunta asociada a la imagen 5. Las célula...</td>\n",
       "      <td>1. Mieloma secretor de IgA leucemizado.</td>\n",
       "      <td>2. Linfoma folicular leucemizado.</td>\n",
       "      <td>3. Leucemia aguda mieloide.</td>\n",
       "      <td>4. Leucemia aguda linfoide.</td>\n",
       "      <td>3.0</td>\n",
       "    </tr>\n",
       "    <tr>\n",
       "      <th>5</th>\n",
       "      <td>6. Pregunta asociada a la imagen 6. Hombre de ...</td>\n",
       "      <td>1. Cirrosis.</td>\n",
       "      <td>2. Infiltración por carcinoma.</td>\n",
       "      <td>3. Amiloidosis.</td>\n",
       "      <td>4. Hepatitis alcohólica.</td>\n",
       "      <td>3.0</td>\n",
       "    </tr>\n",
       "    <tr>\n",
       "      <th>6</th>\n",
       "      <td>7. Pregunta asociada a la imagen 7. Varón de 5...</td>\n",
       "      <td>1. Metástasis mediastínica de carcinoma sarcom...</td>\n",
       "      <td>2. Sarcoma de nervio periférico.</td>\n",
       "      <td>3. Schwannoma.</td>\n",
       "      <td>4. Timoma.</td>\n",
       "      <td>4.0</td>\n",
       "    </tr>\n",
       "    <tr>\n",
       "      <th>7</th>\n",
       "      <td>8. Pregunta asociada a la imagen 8. Mujer de 4...</td>\n",
       "      <td>1. Análisis inmunológico: Ac. anti-cN1A positi...</td>\n",
       "      <td>2. Análisis inmunológico: Ac. anti-TIF-1 gamma...</td>\n",
       "      <td>3. Análisis inmunológico: Ac. anti-mitocondria...</td>\n",
       "      <td>4. Análisis inmunológico: Ac. anti-HMG-CoA red...</td>\n",
       "      <td>4.0</td>\n",
       "    </tr>\n",
       "    <tr>\n",
       "      <th>8</th>\n",
       "      <td>9. Pregunta asociada a la imagen 9. Mujer de 8...</td>\n",
       "      <td>1. Queratoacantoma.</td>\n",
       "      <td>2. Carcinoma basocelular.</td>\n",
       "      <td>3. Queratosis actínica hipertrófica.</td>\n",
       "      <td>4. Herpes simple crónico.</td>\n",
       "      <td>2.0</td>\n",
       "    </tr>\n",
       "    <tr>\n",
       "      <th>9</th>\n",
       "      <td>10. Pregunta asociada a la imagen 10. Varón de...</td>\n",
       "      <td>1. Prednisona oral.</td>\n",
       "      <td>2. Leflunomida.</td>\n",
       "      <td>3. Adalimumab.</td>\n",
       "      <td>4. Rituximab.</td>\n",
       "      <td>3.0</td>\n",
       "    </tr>\n",
       "  </tbody>\n",
       "</table>\n",
       "</div>"
      ],
      "text/plain": [
       "                                            Question  \\\n",
       "0  1. Pregunta asociada a la imagen 1. Paciente m...   \n",
       "1  2. Pregunta asociada a la imagen 2. Profesora ...   \n",
       "2  3. Pregunta asociada a la imagen 3. Mujer de 6...   \n",
       "3  4. Pregunta asociada a la imagen 4. Hombre de ...   \n",
       "4  5. Pregunta asociada a la imagen 5. Las célula...   \n",
       "5  6. Pregunta asociada a la imagen 6. Hombre de ...   \n",
       "6  7. Pregunta asociada a la imagen 7. Varón de 5...   \n",
       "7  8. Pregunta asociada a la imagen 8. Mujer de 4...   \n",
       "8  9. Pregunta asociada a la imagen 9. Mujer de 8...   \n",
       "9  10. Pregunta asociada a la imagen 10. Varón de...   \n",
       "\n",
       "                                            Option_1  \\\n",
       "0  1. Tiene una mejoría de los síntomas al desper...   \n",
       "1                                1. Pólipos vocales.   \n",
       "2                                 1. Leiomiosarcoma.   \n",
       "3                            1. Pioderma gangrenoso.   \n",
       "4            1. Mieloma secretor de IgA leucemizado.   \n",
       "5                                       1. Cirrosis.   \n",
       "6  1. Metástasis mediastínica de carcinoma sarcom...   \n",
       "7  1. Análisis inmunológico: Ac. anti-cN1A positi...   \n",
       "8                                1. Queratoacantoma.   \n",
       "9                                1. Prednisona oral.   \n",
       "\n",
       "                                            Option_2  \\\n",
       "0  2. Refiere una pérdida de visión, como una cor...   \n",
       "1                   2. Carcinoma de cuerdas vocales.   \n",
       "2             2. Tumor del estroma gastrointestinal.   \n",
       "3                                 2. Pénfigo vulgar.   \n",
       "4                  2. Linfoma folicular leucemizado.   \n",
       "5                     2. Infiltración por carcinoma.   \n",
       "6                   2. Sarcoma de nervio periférico.   \n",
       "7  2. Análisis inmunológico: Ac. anti-TIF-1 gamma...   \n",
       "8                          2. Carcinoma basocelular.   \n",
       "9                                    2. Leflunomida.   \n",
       "\n",
       "                                            Option_3  \\\n",
       "0  3. Sería necesario realizar un tratamiento con...   \n",
       "1                                3. Nódulos vocales.   \n",
       "2                                     3. Schwannoma.   \n",
       "3                             3. Infección micótica.   \n",
       "4                        3. Leucemia aguda mieloide.   \n",
       "5                                    3. Amiloidosis.   \n",
       "6                                     3. Schwannoma.   \n",
       "7  3. Análisis inmunológico: Ac. anti-mitocondria...   \n",
       "8               3. Queratosis actínica hipertrófica.   \n",
       "9                                     3. Adalimumab.   \n",
       "\n",
       "                                            Option_4   RC  \n",
       "0  4. Debe realizarse tratamiento quirúrgico medi...  1.0  \n",
       "1                                4. Quistes vocales.  3.0  \n",
       "2               4. Adenocarcinoma poco diferenciado.  2.0  \n",
       "3       4. Infección por el virus del herpes simple.  4.0  \n",
       "4                        4. Leucemia aguda linfoide.  3.0  \n",
       "5                           4. Hepatitis alcohólica.  3.0  \n",
       "6                                         4. Timoma.  4.0  \n",
       "7  4. Análisis inmunológico: Ac. anti-HMG-CoA red...  4.0  \n",
       "8                          4. Herpes simple crónico.  2.0  \n",
       "9                                      4. Rituximab.  3.0  "
      ]
     },
     "execution_count": 33,
     "metadata": {},
     "output_type": "execute_result"
    }
   ],
   "source": [
    "processed_exam_df: pd.DataFrame = pd.concat([exam_df_pivot, answers_df_clean], axis=1)\n",
    "processed_exam_df = processed_exam_df.drop(columns=[\"V\"])\n",
    "processed_exam_df.head(10)"
   ]
  },
  {
   "cell_type": "markdown",
   "metadata": {},
   "source": [
    "**2. Identifying and Handling Missing Values:**\n",
    "\n",
    "Missing values are then replaced with 0."
   ]
  },
  {
   "cell_type": "code",
   "execution_count": 34,
   "metadata": {},
   "outputs": [],
   "source": [
    "processed_exam_df = processed_exam_df.fillna(0)"
   ]
  },
  {
   "cell_type": "markdown",
   "metadata": {},
   "source": [
    "**3. Verifying Missing Values and Data Types:**\n",
    "\n",
    "The number of missing values in each column is checked, and the data types of the columns are displayed. The 'RC' (correct answer) column is then converted to integer type."
   ]
  },
  {
   "cell_type": "code",
   "execution_count": 35,
   "metadata": {},
   "outputs": [
    {
     "data": {
      "text/plain": [
       "Question    object\n",
       "Option_1    object\n",
       "Option_2    object\n",
       "Option_3    object\n",
       "Option_4    object\n",
       "RC           int32\n",
       "dtype: object"
      ]
     },
     "execution_count": 35,
     "metadata": {},
     "output_type": "execute_result"
    }
   ],
   "source": [
    "processed_exam_df.isnull().sum()\n",
    "processed_exam_df[\"RC\"] = processed_exam_df[\"RC\"].astype(int)\n",
    "processed_exam_df.dtypes"
   ]
  },
  {
   "cell_type": "markdown",
   "metadata": {},
   "source": [
    "**4. Adding year column**\n",
    "\n",
    "A column containing the year of the exam is added to the DataFrame."
   ]
  },
  {
   "cell_type": "code",
   "execution_count": 36,
   "metadata": {},
   "outputs": [],
   "source": [
    "processed_exam_df[\"year\"] = year"
   ]
  },
  {
   "cell_type": "markdown",
   "metadata": {},
   "source": [
    "**5. Displaying the Final DataFrame:**\n",
    "\n",
    "The first 10 rows of the final joined and cleaned DataFrame are displayed."
   ]
  },
  {
   "cell_type": "code",
   "execution_count": 37,
   "metadata": {},
   "outputs": [
    {
     "data": {
      "application/vnd.microsoft.datawrangler.viewer.v0+json": {
       "columns": [
        {
         "name": "index",
         "rawType": "int64",
         "type": "integer"
        },
        {
         "name": "Question",
         "rawType": "object",
         "type": "string"
        },
        {
         "name": "Option_1",
         "rawType": "object",
         "type": "string"
        },
        {
         "name": "Option_2",
         "rawType": "object",
         "type": "string"
        },
        {
         "name": "Option_3",
         "rawType": "object",
         "type": "string"
        },
        {
         "name": "Option_4",
         "rawType": "object",
         "type": "string"
        },
        {
         "name": "RC",
         "rawType": "int32",
         "type": "integer"
        },
        {
         "name": "year",
         "rawType": "int64",
         "type": "integer"
        }
       ],
       "conversionMethod": "pd.DataFrame",
       "ref": "8bc440fb-3c72-4545-972f-610397eebbb6",
       "rows": [
        [
         "0",
         "1. Pregunta asociada a la imagen 1. Paciente miope que consulta por pérdida de visión en ojo derecho. La exploración del fondo de ojo se observa en la imagen. ¿Cuál de las siguientes afirmaciones es correcta respecto a este paciente?:",
         "1. Tiene una mejoría de los síntomas al despertarse, que empeoran según avanza el día.",
         "2. Refiere una pérdida de visión, como una cortina, que le afecta a la zona superior del campo visual.",
         "3. Sería necesario realizar un tratamiento con láser YAG previo a la cirugía.",
         "4. Debe realizarse tratamiento quirúrgico mediante trabeculectomía ab-externo.",
         "1",
         "2020"
        ],
        [
         "1",
         "2. Pregunta asociada a la imagen 2. Profesora de educación infantil que consulta por disfonía y fonastenia de 6 meses de evolución relacionada con el esfuerzo vocal. Durante la semana la voz empeora y en el fin de semana mejora parcialmente. De los siguientes, ¿cuál es el diagnóstico de sospecha más probable con la imagen de la laringoscopia que se aporta?:",
         "1. Pólipos vocales.",
         "2. Carcinoma de cuerdas vocales.",
         "3. Nódulos vocales.",
         "4. Quistes vocales.",
         "3",
         "2020"
        ],
        [
         "2",
         "3. Pregunta asociada a la imagen 3. Mujer de 60 años, sin antecedentes patológicos de interés, que acude al hospital por pirosis. Durante el proceso diagnóstico se observa en un TC toracoabdominal una lesión nodular de 3 cm en la pared posterior de la región cardial, por lo que se realiza una resección gástrica atípica. Se muestran dos imágenes, una macroscópica y otra microscópica. Las tinciones inmunohistoquímicas de la lesión son positivas para c-KIT y DOG1, y negativas para citoqueratinas, actina, desmina y S100. ¿Cuál es el diagnóstico anatomopatológico de la lesión gástrica?:",
         "1. Leiomiosarcoma.",
         "2. Tumor del estroma gastrointestinal.",
         "3. Schwannoma.",
         "4. Adenocarcinoma poco diferenciado.",
         "2",
         "2020"
        ],
        [
         "3",
         "4. Pregunta asociada a la imagen 4. Hombre de 68 años que consulta al dermatólogo por lesiones cutáneas ulceradas perianales. El dermatólogo se plantea dentro del diagnóstico diferencial un pioderma gangrenoso, una enfermedad ampollosa y una etiología infecciosa. Realiza una biopsia para estudio histológico y solicita también estudio de immunofluorescencia directa. La inmunofluorescencia directa es negativa y se muestra la histología de la lesión. ¿Cuál es el diagnóstico anatomopatológico de la lesión cutánea perianal?:",
         "1. Pioderma gangrenoso.",
         "2. Pénfigo vulgar.",
         "3. Infección micótica.",
         "4. Infección por el virus del herpes simple.",
         "4",
         "2020"
        ],
        [
         "4",
         "5. Pregunta asociada a la imagen 5. Las células indiferenciadas (blastos) de la imagen son típicas, por sus granulaciones en forma de bastones alargados, de:",
         "1. Mieloma secretor de IgA leucemizado.",
         "2. Linfoma folicular leucemizado.",
         "3. Leucemia aguda mieloide.",
         "4. Leucemia aguda linfoide.",
         "3",
         "2020"
        ],
        [
         "5",
         "6. Pregunta asociada a la imagen 6. Hombre de 55 años, fumador y con hábito enólico hasta hace 3 meses. Ingresa por deterioro del estado general e ictericia. En la exploración física se palpa hepatomegalia y en la analítica se constata fracaso renal con una creatinina de 4,6 mg/dl. Durante el ingreso presenta shock séptico por Staphylococcus aureus y abdomen agudo que se atribuye a isquemia entérica secundaria al shock séptico, por lo que se indica laparotomía exploradora donde se aprovecha para realizar una biopsia hepática. ¿Cuál es el diagnóstico anatomopatológico de la lesión hepática?:",
         "1. Cirrosis.",
         "2. Infiltración por carcinoma.",
         "3. Amiloidosis.",
         "4. Hepatitis alcohólica.",
         "3",
         "2020"
        ],
        [
         "6",
         "7. Pregunta asociada a la imagen 7. Varón de 58 años con masa mediastínica. El estudio microscópico muestra los hallazgos de la figura 1A. En la figura 1B, tinción para citoqueratinas. El diagnóstico más probable sería:",
         "1. Metástasis mediastínica de carcinoma sarcomatoide.",
         "2. Sarcoma de nervio periférico.",
         "3. Schwannoma.",
         "4. Timoma.",
         "4",
         "2020"
        ],
        [
         "7",
         "8. Pregunta asociada a la imagen 8. Mujer de 47 años con debilidad muscular proximal progresiva de extremidades superiores e inferiores de 7 meses de evolución. Sin antecedentes familiares de interés. Toma arroz rojo para tratar una dislipemia. Exploración física: fuerza en psoas 3/5, cuádriceps 4/5 y deltoides 4/5. CK de 3675 UI/L (normal <150 UI/L). Se solicitó un análisis inmunológico y se practicó una biopsia en el músculo deltoides derecho (figura). Marque la opción correcta:",
         "1. Análisis inmunológico: Ac. anti-cN1A positivos. Biopsia: infiltrado inflamatorio perivascular y presencia de vacuolas ribeteadas. Diagnóstico: miositis con cuerpos de inclusión.",
         "2. Análisis inmunológico: Ac. anti-TIF-1 gamma positivos. Biopsia: infiltrado inflamatorio perivascular y células en anillo. Diagnóstico: dermatomiositis.",
         "3. Análisis inmunológico: Ac. anti-mitocondriales positivos. Biopsia: necrosis coagulativa y regeneración de fibras musculares con escaso infiltrado inflamatorio. Diagnóstico: distrofia muscular congénita de Ullrich.",
         "4. Análisis inmunológico: Ac. anti-HMG-CoA reductasa positivos. Biopsia: necrosis coagulativa y regeneración de fibras musculares con escaso infiltrado inflamatorio. Diagnóstico: miopatía necrosante inmunomediada.",
         "4",
         "2020"
        ],
        [
         "8",
         "9. Pregunta asociada a la imagen 9. Mujer de 85 años, trabajadora del campo jubilada, que presenta desde hace un año y medio en la nariz una lesión papulosa, redondeada y brillante que le sangra con facilidad y  crece lentamente. De entre las opciones señaladas, ¿cuál es el diagnóstico más probable?:",
         "1. Queratoacantoma.",
         "2. Carcinoma basocelular.",
         "3. Queratosis actínica hipertrófica.",
         "4. Herpes simple crónico.",
         "2",
         "2020"
        ],
        [
         "9",
         "10. Pregunta asociada a la imagen 10. Varón de 45 años, diabético e hipertenso  que acude porque desde hace 3 meses presenta placas eritematosas con descamación blanca en cuero cabelludo, tronco, rodillas y codos (ver imagen), con  afectación de 4 uñas de las manos. Refiere prurito y decaimiento. ¿Cuál de las siguientes opciones terapéuticas es la más adecuada?:",
         "1. Prednisona oral.",
         "2. Leflunomida.",
         "3. Adalimumab.",
         "4. Rituximab.",
         "3",
         "2020"
        ]
       ],
       "shape": {
        "columns": 7,
        "rows": 10
       }
      },
      "text/html": [
       "<div>\n",
       "<style scoped>\n",
       "    .dataframe tbody tr th:only-of-type {\n",
       "        vertical-align: middle;\n",
       "    }\n",
       "\n",
       "    .dataframe tbody tr th {\n",
       "        vertical-align: top;\n",
       "    }\n",
       "\n",
       "    .dataframe thead th {\n",
       "        text-align: right;\n",
       "    }\n",
       "</style>\n",
       "<table border=\"1\" class=\"dataframe\">\n",
       "  <thead>\n",
       "    <tr style=\"text-align: right;\">\n",
       "      <th></th>\n",
       "      <th>Question</th>\n",
       "      <th>Option_1</th>\n",
       "      <th>Option_2</th>\n",
       "      <th>Option_3</th>\n",
       "      <th>Option_4</th>\n",
       "      <th>RC</th>\n",
       "      <th>year</th>\n",
       "    </tr>\n",
       "  </thead>\n",
       "  <tbody>\n",
       "    <tr>\n",
       "      <th>0</th>\n",
       "      <td>1. Pregunta asociada a la imagen 1. Paciente m...</td>\n",
       "      <td>1. Tiene una mejoría de los síntomas al desper...</td>\n",
       "      <td>2. Refiere una pérdida de visión, como una cor...</td>\n",
       "      <td>3. Sería necesario realizar un tratamiento con...</td>\n",
       "      <td>4. Debe realizarse tratamiento quirúrgico medi...</td>\n",
       "      <td>1</td>\n",
       "      <td>2020</td>\n",
       "    </tr>\n",
       "    <tr>\n",
       "      <th>1</th>\n",
       "      <td>2. Pregunta asociada a la imagen 2. Profesora ...</td>\n",
       "      <td>1. Pólipos vocales.</td>\n",
       "      <td>2. Carcinoma de cuerdas vocales.</td>\n",
       "      <td>3. Nódulos vocales.</td>\n",
       "      <td>4. Quistes vocales.</td>\n",
       "      <td>3</td>\n",
       "      <td>2020</td>\n",
       "    </tr>\n",
       "    <tr>\n",
       "      <th>2</th>\n",
       "      <td>3. Pregunta asociada a la imagen 3. Mujer de 6...</td>\n",
       "      <td>1. Leiomiosarcoma.</td>\n",
       "      <td>2. Tumor del estroma gastrointestinal.</td>\n",
       "      <td>3. Schwannoma.</td>\n",
       "      <td>4. Adenocarcinoma poco diferenciado.</td>\n",
       "      <td>2</td>\n",
       "      <td>2020</td>\n",
       "    </tr>\n",
       "    <tr>\n",
       "      <th>3</th>\n",
       "      <td>4. Pregunta asociada a la imagen 4. Hombre de ...</td>\n",
       "      <td>1. Pioderma gangrenoso.</td>\n",
       "      <td>2. Pénfigo vulgar.</td>\n",
       "      <td>3. Infección micótica.</td>\n",
       "      <td>4. Infección por el virus del herpes simple.</td>\n",
       "      <td>4</td>\n",
       "      <td>2020</td>\n",
       "    </tr>\n",
       "    <tr>\n",
       "      <th>4</th>\n",
       "      <td>5. Pregunta asociada a la imagen 5. Las célula...</td>\n",
       "      <td>1. Mieloma secretor de IgA leucemizado.</td>\n",
       "      <td>2. Linfoma folicular leucemizado.</td>\n",
       "      <td>3. Leucemia aguda mieloide.</td>\n",
       "      <td>4. Leucemia aguda linfoide.</td>\n",
       "      <td>3</td>\n",
       "      <td>2020</td>\n",
       "    </tr>\n",
       "    <tr>\n",
       "      <th>5</th>\n",
       "      <td>6. Pregunta asociada a la imagen 6. Hombre de ...</td>\n",
       "      <td>1. Cirrosis.</td>\n",
       "      <td>2. Infiltración por carcinoma.</td>\n",
       "      <td>3. Amiloidosis.</td>\n",
       "      <td>4. Hepatitis alcohólica.</td>\n",
       "      <td>3</td>\n",
       "      <td>2020</td>\n",
       "    </tr>\n",
       "    <tr>\n",
       "      <th>6</th>\n",
       "      <td>7. Pregunta asociada a la imagen 7. Varón de 5...</td>\n",
       "      <td>1. Metástasis mediastínica de carcinoma sarcom...</td>\n",
       "      <td>2. Sarcoma de nervio periférico.</td>\n",
       "      <td>3. Schwannoma.</td>\n",
       "      <td>4. Timoma.</td>\n",
       "      <td>4</td>\n",
       "      <td>2020</td>\n",
       "    </tr>\n",
       "    <tr>\n",
       "      <th>7</th>\n",
       "      <td>8. Pregunta asociada a la imagen 8. Mujer de 4...</td>\n",
       "      <td>1. Análisis inmunológico: Ac. anti-cN1A positi...</td>\n",
       "      <td>2. Análisis inmunológico: Ac. anti-TIF-1 gamma...</td>\n",
       "      <td>3. Análisis inmunológico: Ac. anti-mitocondria...</td>\n",
       "      <td>4. Análisis inmunológico: Ac. anti-HMG-CoA red...</td>\n",
       "      <td>4</td>\n",
       "      <td>2020</td>\n",
       "    </tr>\n",
       "    <tr>\n",
       "      <th>8</th>\n",
       "      <td>9. Pregunta asociada a la imagen 9. Mujer de 8...</td>\n",
       "      <td>1. Queratoacantoma.</td>\n",
       "      <td>2. Carcinoma basocelular.</td>\n",
       "      <td>3. Queratosis actínica hipertrófica.</td>\n",
       "      <td>4. Herpes simple crónico.</td>\n",
       "      <td>2</td>\n",
       "      <td>2020</td>\n",
       "    </tr>\n",
       "    <tr>\n",
       "      <th>9</th>\n",
       "      <td>10. Pregunta asociada a la imagen 10. Varón de...</td>\n",
       "      <td>1. Prednisona oral.</td>\n",
       "      <td>2. Leflunomida.</td>\n",
       "      <td>3. Adalimumab.</td>\n",
       "      <td>4. Rituximab.</td>\n",
       "      <td>3</td>\n",
       "      <td>2020</td>\n",
       "    </tr>\n",
       "  </tbody>\n",
       "</table>\n",
       "</div>"
      ],
      "text/plain": [
       "                                            Question  \\\n",
       "0  1. Pregunta asociada a la imagen 1. Paciente m...   \n",
       "1  2. Pregunta asociada a la imagen 2. Profesora ...   \n",
       "2  3. Pregunta asociada a la imagen 3. Mujer de 6...   \n",
       "3  4. Pregunta asociada a la imagen 4. Hombre de ...   \n",
       "4  5. Pregunta asociada a la imagen 5. Las célula...   \n",
       "5  6. Pregunta asociada a la imagen 6. Hombre de ...   \n",
       "6  7. Pregunta asociada a la imagen 7. Varón de 5...   \n",
       "7  8. Pregunta asociada a la imagen 8. Mujer de 4...   \n",
       "8  9. Pregunta asociada a la imagen 9. Mujer de 8...   \n",
       "9  10. Pregunta asociada a la imagen 10. Varón de...   \n",
       "\n",
       "                                            Option_1  \\\n",
       "0  1. Tiene una mejoría de los síntomas al desper...   \n",
       "1                                1. Pólipos vocales.   \n",
       "2                                 1. Leiomiosarcoma.   \n",
       "3                            1. Pioderma gangrenoso.   \n",
       "4            1. Mieloma secretor de IgA leucemizado.   \n",
       "5                                       1. Cirrosis.   \n",
       "6  1. Metástasis mediastínica de carcinoma sarcom...   \n",
       "7  1. Análisis inmunológico: Ac. anti-cN1A positi...   \n",
       "8                                1. Queratoacantoma.   \n",
       "9                                1. Prednisona oral.   \n",
       "\n",
       "                                            Option_2  \\\n",
       "0  2. Refiere una pérdida de visión, como una cor...   \n",
       "1                   2. Carcinoma de cuerdas vocales.   \n",
       "2             2. Tumor del estroma gastrointestinal.   \n",
       "3                                 2. Pénfigo vulgar.   \n",
       "4                  2. Linfoma folicular leucemizado.   \n",
       "5                     2. Infiltración por carcinoma.   \n",
       "6                   2. Sarcoma de nervio periférico.   \n",
       "7  2. Análisis inmunológico: Ac. anti-TIF-1 gamma...   \n",
       "8                          2. Carcinoma basocelular.   \n",
       "9                                    2. Leflunomida.   \n",
       "\n",
       "                                            Option_3  \\\n",
       "0  3. Sería necesario realizar un tratamiento con...   \n",
       "1                                3. Nódulos vocales.   \n",
       "2                                     3. Schwannoma.   \n",
       "3                             3. Infección micótica.   \n",
       "4                        3. Leucemia aguda mieloide.   \n",
       "5                                    3. Amiloidosis.   \n",
       "6                                     3. Schwannoma.   \n",
       "7  3. Análisis inmunológico: Ac. anti-mitocondria...   \n",
       "8               3. Queratosis actínica hipertrófica.   \n",
       "9                                     3. Adalimumab.   \n",
       "\n",
       "                                            Option_4  RC  year  \n",
       "0  4. Debe realizarse tratamiento quirúrgico medi...   1  2020  \n",
       "1                                4. Quistes vocales.   3  2020  \n",
       "2               4. Adenocarcinoma poco diferenciado.   2  2020  \n",
       "3       4. Infección por el virus del herpes simple.   4  2020  \n",
       "4                        4. Leucemia aguda linfoide.   3  2020  \n",
       "5                           4. Hepatitis alcohólica.   3  2020  \n",
       "6                                         4. Timoma.   4  2020  \n",
       "7  4. Análisis inmunológico: Ac. anti-HMG-CoA red...   4  2020  \n",
       "8                          4. Herpes simple crónico.   2  2020  \n",
       "9                                      4. Rituximab.   3  2020  "
      ]
     },
     "execution_count": 37,
     "metadata": {},
     "output_type": "execute_result"
    }
   ],
   "source": [
    "processed_exam_df.head(10)"
   ]
  },
  {
   "cell_type": "markdown",
   "metadata": {},
   "source": [
    "### Filtering by relevant questions\n",
    "\n",
    "**1. Filtering for id**\n",
    "\n",
    "A list of the number of question is used to filter the DataFrame, but first doing a -1 so it matches with the id. \n",
    "\n",
    "Finally the indexes are reseted"
   ]
  },
  {
   "cell_type": "code",
   "execution_count": 38,
   "metadata": {},
   "outputs": [
    {
     "name": "stdout",
     "output_type": "stream",
     "text": [
      "Expected number of rows = 12\n",
      "Number of rows in filtered df = 12\n"
     ]
    }
   ],
   "source": [
    "id_filter = [x-1 for x in add_list]\n",
    "processed_exam_df_filtered = processed_exam_df.iloc[id_filter]\n",
    "processed_exam_df_filtered = processed_exam_df_filtered.reset_index(drop= True)\n",
    "print(f\"Expected number of rows = {len(id_filter)}\\nNumber of rows in filtered df = {processed_exam_df_filtered.shape[0]}\")"
   ]
  },
  {
   "cell_type": "markdown",
   "metadata": {},
   "source": [
    "**2. Showing the filtered DataFrame**\n",
    "\n",
    "Using head and tail"
   ]
  },
  {
   "cell_type": "code",
   "execution_count": 39,
   "metadata": {},
   "outputs": [
    {
     "data": {
      "application/vnd.microsoft.datawrangler.viewer.v0+json": {
       "columns": [
        {
         "name": "index",
         "rawType": "int64",
         "type": "integer"
        },
        {
         "name": "Question",
         "rawType": "object",
         "type": "string"
        },
        {
         "name": "Option_1",
         "rawType": "object",
         "type": "string"
        },
        {
         "name": "Option_2",
         "rawType": "object",
         "type": "string"
        },
        {
         "name": "Option_3",
         "rawType": "object",
         "type": "string"
        },
        {
         "name": "Option_4",
         "rawType": "object",
         "type": "string"
        },
        {
         "name": "RC",
         "rawType": "int32",
         "type": "integer"
        },
        {
         "name": "year",
         "rawType": "int64",
         "type": "integer"
        }
       ],
       "conversionMethod": "pd.DataFrame",
       "ref": "36c64d66-ac91-4e1a-981f-946737b8df18",
       "rows": [
        [
         "0",
         "26. La adaptación metabólica al inicio del ayuno intermedio (por encima de 24 horas) va acompañado de un aumento en la proteólisis y la liberación de aminoácidos desde el músculo. En esta situación, ¿cuál de las siguientes afirmaciones es cierta?:",
         "1. Los aminoácidos ramificados son degradados en el hígado.",
         "2. La alanina liberada es captada por el hígado para su uso como sustrato gluconeogénico.",
         "3. La glutamina es transformada en los enterocitos en alanina, generándose amonio y arginina.",
         "4. Los aminoácidos son utilizados en gran parte en el hígado para la síntesis de proteínas plasmáticas.",
         "2",
         "2020"
        ],
        [
         "1",
         "27. El 2,3-BPG (2,3-bisfosfoglicerato) es un compuesto orgánico que modula la unión de oxígeno a la hemoglobina. Este metabolito es sintetizado en los hematíes a través de una derivación de la vía glicolítica. Señale la respuesta FALSA:",
         "1. La concentración de 2,3-BPG en los eritrocitos (normalmente cercana a 5 mM) aumenta en situaciones de hipoxia, anemia grave y de adaptación a altitudes elevadas.",
         "2. La presencia de 2,3-BPG apenas influye en la oxigenación de la hemoglobina a nivel de los capilares pulmonares en condiciones fisiológicas.",
         "3. La adición de 2,3-BPG a la sangre almacenada para transfusiones es ineficaz.",
         "4. La hemoglobina fetal tiene mayor afinidad por el2,3-BPG que la hemoglobina A1.",
         "4",
         "2020"
        ],
        [
         "2",
         "28. En cuanto a las interrelaciones entre la presión, el flujo y la resistencia de los vasos sanguíneos, señale la afirmación INCORRECTA:",
         "1. La resistencia es directamente proporcional a la diferencia de presión e inversamente proporcional al flujo.",
         "2. En el flujo laminar, la velocidad del flujo en el centro del vaso es mayor que en los bordes exteriores.",
         "3. Cambios pequeños en el diámetro de un vaso provocan cambios importantes en su conductancia.",
         "4. Si se añaden vasos sanguíneos en paralelo en un circuito, aumenta la resistencia vascular total.",
         "4",
         "2020"
        ],
        [
         "3",
         "29. En relación con la autorregulación de la filtración glomerular (FG) y del flujo sanguíneo renal (FSR) en condiciones fisiológicas señale la afirmación INCORRECTA:",
         "1. Los valores de FG y FSR se mantienen relativamente constantes a pesar de cambios acentuados en la presión arterial sistémica.",
         "2. Se autorregulan en paralelo, pero en ciertas condiciones es más eficiente la autorregulación del FSR.",
         "3. La reducción del cloruro de sodio en la mácula densa dilata las arteriolas aferentes y aumenta la liberación de renina.",
         "4. La angiotensina II ejerce una acción vasoconstrictora preferente sobre las arteriolas eferentes renales.",
         "2",
         "2020"
        ],
        [
         "4",
         "31. El  resultado de la gasometría arterial de un paciente es: pH: 7,40, PaCO2 60 mmHg; bicarbonato 36 mM/L. ¿Cuál es la alteración que presenta?:",
         "1. Ninguna, el pH es normal.",
         "2. Acidosis respiratoria.",
         "3. Acidosis respiratoria y alcalosis metabólica.",
         "4. Alcalosis metabólica.",
         "3",
         "2020"
        ],
        [
         "5",
         "32. ¿Cuál de las siguientes consecuencias puede tener una mutación del nucleótido G por el nucleótido A en el primer nucleótido de un intrón?:",
         "1. Al ser una mutación intrónica no tiene ninguna repercusión.",
         "2. Al ser una transición (los dos nucleótidos tienen la misma estructura) no tiene ninguna repercusión.",
         "3. Aunque es una mutación intrónica produce la exclusión de todos los exones que están situados detrás de la mutación.",
         "4. La mutación en este nucleótido puede afectar a la maduración del ARN (splicing) y cambiar la estructura del ARN y, por consiguiente de la proteína.",
         "4",
         "2020"
        ],
        [
         "6",
         "33. Cuando un mismo cuadro clínico (o con pequeñas modificaciones) está causado por mutaciones diferentes de un mismo gen nos referimos a la:",
         "1. Heterogeneidad de locus.",
         "2. Heterogeneidad alélica.",
         "3. Heterogeneidad genética.",
         "4. Impronta parental.",
         "2",
         "2020"
        ],
        [
         "7",
         "35. Los receptores para los fragmentos Fc de las diferentes clases de inmunoglobulinas (Ig) se pueden expresar en distintos tipos de células que llevan a cabo funciones efectoras. Indique cuál de las siguientes afirmaciones es FALSA:",
         "1. La IgG se une al receptor III para Fc-gamma (Fcgamma-RIII) en las células NK activando la citotoxicidad celular dependiente de anticuerpos (ADCC).",
         "2. La IgA se une al receptor poli-Ig (pIgR) del epitelio intestinal para llegar a la luz intestinal.",
         "3. La IgM se une al receptor Fc neonatal (FcRn) en el sincitiotrofoblasto para atravesar la placenta.",
         "4. La IgE se une al receptor para Fc-epsilon (Fcepsilon-R) en mastocitos e induce su desgranulación.",
         "3",
         "2020"
        ],
        [
         "8",
         "37. En relación con la inmunoterapia basada en linfocitos T con receptores antigénicos quiméricos (chimeric antigen receptor, CAR) que reconocen CD19 (CART19):",
         "1. Está aprobada para el tratamiento de leucemia mieloblástica aguda refractaria o en recaída.",
         "2. Un efecto secundario grave de esta terapia es el síndrome de liberación de citoquinas.",
         "3. El receptor CAR reconoce CD19 de forma restringida por el HLA.",
         "4. Se asocia a hipergammaglobulinemia permanente por activación crónica de linfocitos B CD19+.",
         "2",
         "2020"
        ],
        [
         "9",
         "78. Referida a la parotiditis epidémica en la infancia, señale la respuesta FALSA:",
         "1. El virus de la parotiditis solo presenta un inmunotipo y el ser humano es el único huésped natural.",
         "2. La vacuna de la parotiditis está incluida en la vacuna triple vírica y en la tetravírica y precisa dos dosis.",
         "3. La orquitis como complicación es más frecuente en la infancia más temprana.",
         "4. La pancreatitis puede producirse en la parotiditis con o sin afectación clínica de las glándulas parotídeas.",
         "3",
         "2020"
        ]
       ],
       "shape": {
        "columns": 7,
        "rows": 10
       }
      },
      "text/html": [
       "<div>\n",
       "<style scoped>\n",
       "    .dataframe tbody tr th:only-of-type {\n",
       "        vertical-align: middle;\n",
       "    }\n",
       "\n",
       "    .dataframe tbody tr th {\n",
       "        vertical-align: top;\n",
       "    }\n",
       "\n",
       "    .dataframe thead th {\n",
       "        text-align: right;\n",
       "    }\n",
       "</style>\n",
       "<table border=\"1\" class=\"dataframe\">\n",
       "  <thead>\n",
       "    <tr style=\"text-align: right;\">\n",
       "      <th></th>\n",
       "      <th>Question</th>\n",
       "      <th>Option_1</th>\n",
       "      <th>Option_2</th>\n",
       "      <th>Option_3</th>\n",
       "      <th>Option_4</th>\n",
       "      <th>RC</th>\n",
       "      <th>year</th>\n",
       "    </tr>\n",
       "  </thead>\n",
       "  <tbody>\n",
       "    <tr>\n",
       "      <th>0</th>\n",
       "      <td>26. La adaptación metabólica al inicio del ayu...</td>\n",
       "      <td>1. Los aminoácidos ramificados son degradados ...</td>\n",
       "      <td>2. La alanina liberada es captada por el hígad...</td>\n",
       "      <td>3. La glutamina es transformada en los enteroc...</td>\n",
       "      <td>4. Los aminoácidos son utilizados en gran part...</td>\n",
       "      <td>2</td>\n",
       "      <td>2020</td>\n",
       "    </tr>\n",
       "    <tr>\n",
       "      <th>1</th>\n",
       "      <td>27. El 2,3-BPG (2,3-bisfosfoglicerato) es un c...</td>\n",
       "      <td>1. La concentración de 2,3-BPG en los eritroci...</td>\n",
       "      <td>2. La presencia de 2,3-BPG apenas influye en l...</td>\n",
       "      <td>3. La adición de 2,3-BPG a la sangre almacenad...</td>\n",
       "      <td>4. La hemoglobina fetal tiene mayor afinidad p...</td>\n",
       "      <td>4</td>\n",
       "      <td>2020</td>\n",
       "    </tr>\n",
       "    <tr>\n",
       "      <th>2</th>\n",
       "      <td>28. En cuanto a las interrelaciones entre la p...</td>\n",
       "      <td>1. La resistencia es directamente proporcional...</td>\n",
       "      <td>2. En el flujo laminar, la velocidad del flujo...</td>\n",
       "      <td>3. Cambios pequeños en el diámetro de un vaso ...</td>\n",
       "      <td>4. Si se añaden vasos sanguíneos en paralelo e...</td>\n",
       "      <td>4</td>\n",
       "      <td>2020</td>\n",
       "    </tr>\n",
       "    <tr>\n",
       "      <th>3</th>\n",
       "      <td>29. En relación con la autorregulación de la f...</td>\n",
       "      <td>1. Los valores de FG y FSR se mantienen relati...</td>\n",
       "      <td>2. Se autorregulan en paralelo, pero en cierta...</td>\n",
       "      <td>3. La reducción del cloruro de sodio en la mác...</td>\n",
       "      <td>4. La angiotensina II ejerce una acción vasoco...</td>\n",
       "      <td>2</td>\n",
       "      <td>2020</td>\n",
       "    </tr>\n",
       "    <tr>\n",
       "      <th>4</th>\n",
       "      <td>31. El  resultado de la gasometría arterial de...</td>\n",
       "      <td>1. Ninguna, el pH es normal.</td>\n",
       "      <td>2. Acidosis respiratoria.</td>\n",
       "      <td>3. Acidosis respiratoria y alcalosis metabólica.</td>\n",
       "      <td>4. Alcalosis metabólica.</td>\n",
       "      <td>3</td>\n",
       "      <td>2020</td>\n",
       "    </tr>\n",
       "    <tr>\n",
       "      <th>5</th>\n",
       "      <td>32. ¿Cuál de las siguientes consecuencias pued...</td>\n",
       "      <td>1. Al ser una mutación intrónica no tiene ning...</td>\n",
       "      <td>2. Al ser una transición (los dos nucleótidos ...</td>\n",
       "      <td>3. Aunque es una mutación intrónica produce la...</td>\n",
       "      <td>4. La mutación en este nucleótido puede afecta...</td>\n",
       "      <td>4</td>\n",
       "      <td>2020</td>\n",
       "    </tr>\n",
       "    <tr>\n",
       "      <th>6</th>\n",
       "      <td>33. Cuando un mismo cuadro clínico (o con pequ...</td>\n",
       "      <td>1. Heterogeneidad de locus.</td>\n",
       "      <td>2. Heterogeneidad alélica.</td>\n",
       "      <td>3. Heterogeneidad genética.</td>\n",
       "      <td>4. Impronta parental.</td>\n",
       "      <td>2</td>\n",
       "      <td>2020</td>\n",
       "    </tr>\n",
       "    <tr>\n",
       "      <th>7</th>\n",
       "      <td>35. Los receptores para los fragmentos Fc de l...</td>\n",
       "      <td>1. La IgG se une al receptor III para Fc-gamma...</td>\n",
       "      <td>2. La IgA se une al receptor poli-Ig (pIgR) de...</td>\n",
       "      <td>3. La IgM se une al receptor Fc neonatal (FcRn...</td>\n",
       "      <td>4. La IgE se une al receptor para Fc-epsilon (...</td>\n",
       "      <td>3</td>\n",
       "      <td>2020</td>\n",
       "    </tr>\n",
       "    <tr>\n",
       "      <th>8</th>\n",
       "      <td>37. En relación con la inmunoterapia basada en...</td>\n",
       "      <td>1. Está aprobada para el tratamiento de leucem...</td>\n",
       "      <td>2. Un efecto secundario grave de esta terapia ...</td>\n",
       "      <td>3. El receptor CAR reconoce CD19 de forma rest...</td>\n",
       "      <td>4. Se asocia a hipergammaglobulinemia permanen...</td>\n",
       "      <td>2</td>\n",
       "      <td>2020</td>\n",
       "    </tr>\n",
       "    <tr>\n",
       "      <th>9</th>\n",
       "      <td>78. Referida a la parotiditis epidémica en la ...</td>\n",
       "      <td>1. El virus de la parotiditis solo presenta un...</td>\n",
       "      <td>2. La vacuna de la parotiditis está incluida e...</td>\n",
       "      <td>3. La orquitis como complicación es más frecue...</td>\n",
       "      <td>4. La pancreatitis puede producirse en la paro...</td>\n",
       "      <td>3</td>\n",
       "      <td>2020</td>\n",
       "    </tr>\n",
       "  </tbody>\n",
       "</table>\n",
       "</div>"
      ],
      "text/plain": [
       "                                            Question  \\\n",
       "0  26. La adaptación metabólica al inicio del ayu...   \n",
       "1  27. El 2,3-BPG (2,3-bisfosfoglicerato) es un c...   \n",
       "2  28. En cuanto a las interrelaciones entre la p...   \n",
       "3  29. En relación con la autorregulación de la f...   \n",
       "4  31. El  resultado de la gasometría arterial de...   \n",
       "5  32. ¿Cuál de las siguientes consecuencias pued...   \n",
       "6  33. Cuando un mismo cuadro clínico (o con pequ...   \n",
       "7  35. Los receptores para los fragmentos Fc de l...   \n",
       "8  37. En relación con la inmunoterapia basada en...   \n",
       "9  78. Referida a la parotiditis epidémica en la ...   \n",
       "\n",
       "                                            Option_1  \\\n",
       "0  1. Los aminoácidos ramificados son degradados ...   \n",
       "1  1. La concentración de 2,3-BPG en los eritroci...   \n",
       "2  1. La resistencia es directamente proporcional...   \n",
       "3  1. Los valores de FG y FSR se mantienen relati...   \n",
       "4                       1. Ninguna, el pH es normal.   \n",
       "5  1. Al ser una mutación intrónica no tiene ning...   \n",
       "6                        1. Heterogeneidad de locus.   \n",
       "7  1. La IgG se une al receptor III para Fc-gamma...   \n",
       "8  1. Está aprobada para el tratamiento de leucem...   \n",
       "9  1. El virus de la parotiditis solo presenta un...   \n",
       "\n",
       "                                            Option_2  \\\n",
       "0  2. La alanina liberada es captada por el hígad...   \n",
       "1  2. La presencia de 2,3-BPG apenas influye en l...   \n",
       "2  2. En el flujo laminar, la velocidad del flujo...   \n",
       "3  2. Se autorregulan en paralelo, pero en cierta...   \n",
       "4                          2. Acidosis respiratoria.   \n",
       "5  2. Al ser una transición (los dos nucleótidos ...   \n",
       "6                         2. Heterogeneidad alélica.   \n",
       "7  2. La IgA se une al receptor poli-Ig (pIgR) de...   \n",
       "8  2. Un efecto secundario grave de esta terapia ...   \n",
       "9  2. La vacuna de la parotiditis está incluida e...   \n",
       "\n",
       "                                            Option_3  \\\n",
       "0  3. La glutamina es transformada en los enteroc...   \n",
       "1  3. La adición de 2,3-BPG a la sangre almacenad...   \n",
       "2  3. Cambios pequeños en el diámetro de un vaso ...   \n",
       "3  3. La reducción del cloruro de sodio en la mác...   \n",
       "4   3. Acidosis respiratoria y alcalosis metabólica.   \n",
       "5  3. Aunque es una mutación intrónica produce la...   \n",
       "6                        3. Heterogeneidad genética.   \n",
       "7  3. La IgM se une al receptor Fc neonatal (FcRn...   \n",
       "8  3. El receptor CAR reconoce CD19 de forma rest...   \n",
       "9  3. La orquitis como complicación es más frecue...   \n",
       "\n",
       "                                            Option_4  RC  year  \n",
       "0  4. Los aminoácidos son utilizados en gran part...   2  2020  \n",
       "1  4. La hemoglobina fetal tiene mayor afinidad p...   4  2020  \n",
       "2  4. Si se añaden vasos sanguíneos en paralelo e...   4  2020  \n",
       "3  4. La angiotensina II ejerce una acción vasoco...   2  2020  \n",
       "4                           4. Alcalosis metabólica.   3  2020  \n",
       "5  4. La mutación en este nucleótido puede afecta...   4  2020  \n",
       "6                              4. Impronta parental.   2  2020  \n",
       "7  4. La IgE se une al receptor para Fc-epsilon (...   3  2020  \n",
       "8  4. Se asocia a hipergammaglobulinemia permanen...   2  2020  \n",
       "9  4. La pancreatitis puede producirse en la paro...   3  2020  "
      ]
     },
     "execution_count": 39,
     "metadata": {},
     "output_type": "execute_result"
    }
   ],
   "source": [
    "processed_exam_df_filtered.head(10)"
   ]
  },
  {
   "cell_type": "code",
   "execution_count": 40,
   "metadata": {},
   "outputs": [
    {
     "data": {
      "application/vnd.microsoft.datawrangler.viewer.v0+json": {
       "columns": [
        {
         "name": "index",
         "rawType": "int64",
         "type": "integer"
        },
        {
         "name": "Question",
         "rawType": "object",
         "type": "string"
        },
        {
         "name": "Option_1",
         "rawType": "object",
         "type": "string"
        },
        {
         "name": "Option_2",
         "rawType": "object",
         "type": "string"
        },
        {
         "name": "Option_3",
         "rawType": "object",
         "type": "string"
        },
        {
         "name": "Option_4",
         "rawType": "object",
         "type": "string"
        },
        {
         "name": "RC",
         "rawType": "int32",
         "type": "integer"
        },
        {
         "name": "year",
         "rawType": "int64",
         "type": "integer"
        }
       ],
       "conversionMethod": "pd.DataFrame",
       "ref": "ae456491-c801-49af-afdb-39a41cb762e2",
       "rows": [
        [
         "2",
         "28. En cuanto a las interrelaciones entre la presión, el flujo y la resistencia de los vasos sanguíneos, señale la afirmación INCORRECTA:",
         "1. La resistencia es directamente proporcional a la diferencia de presión e inversamente proporcional al flujo.",
         "2. En el flujo laminar, la velocidad del flujo en el centro del vaso es mayor que en los bordes exteriores.",
         "3. Cambios pequeños en el diámetro de un vaso provocan cambios importantes en su conductancia.",
         "4. Si se añaden vasos sanguíneos en paralelo en un circuito, aumenta la resistencia vascular total.",
         "4",
         "2020"
        ],
        [
         "3",
         "29. En relación con la autorregulación de la filtración glomerular (FG) y del flujo sanguíneo renal (FSR) en condiciones fisiológicas señale la afirmación INCORRECTA:",
         "1. Los valores de FG y FSR se mantienen relativamente constantes a pesar de cambios acentuados en la presión arterial sistémica.",
         "2. Se autorregulan en paralelo, pero en ciertas condiciones es más eficiente la autorregulación del FSR.",
         "3. La reducción del cloruro de sodio en la mácula densa dilata las arteriolas aferentes y aumenta la liberación de renina.",
         "4. La angiotensina II ejerce una acción vasoconstrictora preferente sobre las arteriolas eferentes renales.",
         "2",
         "2020"
        ],
        [
         "4",
         "31. El  resultado de la gasometría arterial de un paciente es: pH: 7,40, PaCO2 60 mmHg; bicarbonato 36 mM/L. ¿Cuál es la alteración que presenta?:",
         "1. Ninguna, el pH es normal.",
         "2. Acidosis respiratoria.",
         "3. Acidosis respiratoria y alcalosis metabólica.",
         "4. Alcalosis metabólica.",
         "3",
         "2020"
        ],
        [
         "5",
         "32. ¿Cuál de las siguientes consecuencias puede tener una mutación del nucleótido G por el nucleótido A en el primer nucleótido de un intrón?:",
         "1. Al ser una mutación intrónica no tiene ninguna repercusión.",
         "2. Al ser una transición (los dos nucleótidos tienen la misma estructura) no tiene ninguna repercusión.",
         "3. Aunque es una mutación intrónica produce la exclusión de todos los exones que están situados detrás de la mutación.",
         "4. La mutación en este nucleótido puede afectar a la maduración del ARN (splicing) y cambiar la estructura del ARN y, por consiguiente de la proteína.",
         "4",
         "2020"
        ],
        [
         "6",
         "33. Cuando un mismo cuadro clínico (o con pequeñas modificaciones) está causado por mutaciones diferentes de un mismo gen nos referimos a la:",
         "1. Heterogeneidad de locus.",
         "2. Heterogeneidad alélica.",
         "3. Heterogeneidad genética.",
         "4. Impronta parental.",
         "2",
         "2020"
        ],
        [
         "7",
         "35. Los receptores para los fragmentos Fc de las diferentes clases de inmunoglobulinas (Ig) se pueden expresar en distintos tipos de células que llevan a cabo funciones efectoras. Indique cuál de las siguientes afirmaciones es FALSA:",
         "1. La IgG se une al receptor III para Fc-gamma (Fcgamma-RIII) en las células NK activando la citotoxicidad celular dependiente de anticuerpos (ADCC).",
         "2. La IgA se une al receptor poli-Ig (pIgR) del epitelio intestinal para llegar a la luz intestinal.",
         "3. La IgM se une al receptor Fc neonatal (FcRn) en el sincitiotrofoblasto para atravesar la placenta.",
         "4. La IgE se une al receptor para Fc-epsilon (Fcepsilon-R) en mastocitos e induce su desgranulación.",
         "3",
         "2020"
        ],
        [
         "8",
         "37. En relación con la inmunoterapia basada en linfocitos T con receptores antigénicos quiméricos (chimeric antigen receptor, CAR) que reconocen CD19 (CART19):",
         "1. Está aprobada para el tratamiento de leucemia mieloblástica aguda refractaria o en recaída.",
         "2. Un efecto secundario grave de esta terapia es el síndrome de liberación de citoquinas.",
         "3. El receptor CAR reconoce CD19 de forma restringida por el HLA.",
         "4. Se asocia a hipergammaglobulinemia permanente por activación crónica de linfocitos B CD19+.",
         "2",
         "2020"
        ],
        [
         "9",
         "78. Referida a la parotiditis epidémica en la infancia, señale la respuesta FALSA:",
         "1. El virus de la parotiditis solo presenta un inmunotipo y el ser humano es el único huésped natural.",
         "2. La vacuna de la parotiditis está incluida en la vacuna triple vírica y en la tetravírica y precisa dos dosis.",
         "3. La orquitis como complicación es más frecuente en la infancia más temprana.",
         "4. La pancreatitis puede producirse en la parotiditis con o sin afectación clínica de las glándulas parotídeas.",
         "3",
         "2020"
        ],
        [
         "10",
         "81. En relación con la anemia de Fanconi indique la respuesta INCORRECTA:",
         "1. La anemia aplásica suele estar ya presente en los primeros meses de vida.",
         "2. Son típicas las malformaciones esqueléticas.",
         "3. El trasplante de progenitores hematopoyéticos es el tratamiento curativo, pero no hace desaparecer el riesgo de cáncer.",
         "4. Los andrógenos suelen producir una respuesta favorable pero transitoria.",
         "1",
         "2020"
        ],
        [
         "11",
         "169. ¿Cuál de los siguientes iones urinarios favorece la formación de litiasis urinaria?:",
         "1. Citrato.",
         "2. Magnesio.",
         "3. Sodio.",
         "4. Sulfato.",
         "3",
         "2020"
        ]
       ],
       "shape": {
        "columns": 7,
        "rows": 10
       }
      },
      "text/html": [
       "<div>\n",
       "<style scoped>\n",
       "    .dataframe tbody tr th:only-of-type {\n",
       "        vertical-align: middle;\n",
       "    }\n",
       "\n",
       "    .dataframe tbody tr th {\n",
       "        vertical-align: top;\n",
       "    }\n",
       "\n",
       "    .dataframe thead th {\n",
       "        text-align: right;\n",
       "    }\n",
       "</style>\n",
       "<table border=\"1\" class=\"dataframe\">\n",
       "  <thead>\n",
       "    <tr style=\"text-align: right;\">\n",
       "      <th></th>\n",
       "      <th>Question</th>\n",
       "      <th>Option_1</th>\n",
       "      <th>Option_2</th>\n",
       "      <th>Option_3</th>\n",
       "      <th>Option_4</th>\n",
       "      <th>RC</th>\n",
       "      <th>year</th>\n",
       "    </tr>\n",
       "  </thead>\n",
       "  <tbody>\n",
       "    <tr>\n",
       "      <th>2</th>\n",
       "      <td>28. En cuanto a las interrelaciones entre la p...</td>\n",
       "      <td>1. La resistencia es directamente proporcional...</td>\n",
       "      <td>2. En el flujo laminar, la velocidad del flujo...</td>\n",
       "      <td>3. Cambios pequeños en el diámetro de un vaso ...</td>\n",
       "      <td>4. Si se añaden vasos sanguíneos en paralelo e...</td>\n",
       "      <td>4</td>\n",
       "      <td>2020</td>\n",
       "    </tr>\n",
       "    <tr>\n",
       "      <th>3</th>\n",
       "      <td>29. En relación con la autorregulación de la f...</td>\n",
       "      <td>1. Los valores de FG y FSR se mantienen relati...</td>\n",
       "      <td>2. Se autorregulan en paralelo, pero en cierta...</td>\n",
       "      <td>3. La reducción del cloruro de sodio en la mác...</td>\n",
       "      <td>4. La angiotensina II ejerce una acción vasoco...</td>\n",
       "      <td>2</td>\n",
       "      <td>2020</td>\n",
       "    </tr>\n",
       "    <tr>\n",
       "      <th>4</th>\n",
       "      <td>31. El  resultado de la gasometría arterial de...</td>\n",
       "      <td>1. Ninguna, el pH es normal.</td>\n",
       "      <td>2. Acidosis respiratoria.</td>\n",
       "      <td>3. Acidosis respiratoria y alcalosis metabólica.</td>\n",
       "      <td>4. Alcalosis metabólica.</td>\n",
       "      <td>3</td>\n",
       "      <td>2020</td>\n",
       "    </tr>\n",
       "    <tr>\n",
       "      <th>5</th>\n",
       "      <td>32. ¿Cuál de las siguientes consecuencias pued...</td>\n",
       "      <td>1. Al ser una mutación intrónica no tiene ning...</td>\n",
       "      <td>2. Al ser una transición (los dos nucleótidos ...</td>\n",
       "      <td>3. Aunque es una mutación intrónica produce la...</td>\n",
       "      <td>4. La mutación en este nucleótido puede afecta...</td>\n",
       "      <td>4</td>\n",
       "      <td>2020</td>\n",
       "    </tr>\n",
       "    <tr>\n",
       "      <th>6</th>\n",
       "      <td>33. Cuando un mismo cuadro clínico (o con pequ...</td>\n",
       "      <td>1. Heterogeneidad de locus.</td>\n",
       "      <td>2. Heterogeneidad alélica.</td>\n",
       "      <td>3. Heterogeneidad genética.</td>\n",
       "      <td>4. Impronta parental.</td>\n",
       "      <td>2</td>\n",
       "      <td>2020</td>\n",
       "    </tr>\n",
       "    <tr>\n",
       "      <th>7</th>\n",
       "      <td>35. Los receptores para los fragmentos Fc de l...</td>\n",
       "      <td>1. La IgG se une al receptor III para Fc-gamma...</td>\n",
       "      <td>2. La IgA se une al receptor poli-Ig (pIgR) de...</td>\n",
       "      <td>3. La IgM se une al receptor Fc neonatal (FcRn...</td>\n",
       "      <td>4. La IgE se une al receptor para Fc-epsilon (...</td>\n",
       "      <td>3</td>\n",
       "      <td>2020</td>\n",
       "    </tr>\n",
       "    <tr>\n",
       "      <th>8</th>\n",
       "      <td>37. En relación con la inmunoterapia basada en...</td>\n",
       "      <td>1. Está aprobada para el tratamiento de leucem...</td>\n",
       "      <td>2. Un efecto secundario grave de esta terapia ...</td>\n",
       "      <td>3. El receptor CAR reconoce CD19 de forma rest...</td>\n",
       "      <td>4. Se asocia a hipergammaglobulinemia permanen...</td>\n",
       "      <td>2</td>\n",
       "      <td>2020</td>\n",
       "    </tr>\n",
       "    <tr>\n",
       "      <th>9</th>\n",
       "      <td>78. Referida a la parotiditis epidémica en la ...</td>\n",
       "      <td>1. El virus de la parotiditis solo presenta un...</td>\n",
       "      <td>2. La vacuna de la parotiditis está incluida e...</td>\n",
       "      <td>3. La orquitis como complicación es más frecue...</td>\n",
       "      <td>4. La pancreatitis puede producirse en la paro...</td>\n",
       "      <td>3</td>\n",
       "      <td>2020</td>\n",
       "    </tr>\n",
       "    <tr>\n",
       "      <th>10</th>\n",
       "      <td>81. En relación con la anemia de Fanconi indiq...</td>\n",
       "      <td>1. La anemia aplásica suele estar ya presente ...</td>\n",
       "      <td>2. Son típicas las malformaciones esqueléticas.</td>\n",
       "      <td>3. El trasplante de progenitores hematopoyétic...</td>\n",
       "      <td>4. Los andrógenos suelen producir una respuest...</td>\n",
       "      <td>1</td>\n",
       "      <td>2020</td>\n",
       "    </tr>\n",
       "    <tr>\n",
       "      <th>11</th>\n",
       "      <td>169. ¿Cuál de los siguientes iones urinarios f...</td>\n",
       "      <td>1. Citrato.</td>\n",
       "      <td>2. Magnesio.</td>\n",
       "      <td>3. Sodio.</td>\n",
       "      <td>4. Sulfato.</td>\n",
       "      <td>3</td>\n",
       "      <td>2020</td>\n",
       "    </tr>\n",
       "  </tbody>\n",
       "</table>\n",
       "</div>"
      ],
      "text/plain": [
       "                                             Question  \\\n",
       "2   28. En cuanto a las interrelaciones entre la p...   \n",
       "3   29. En relación con la autorregulación de la f...   \n",
       "4   31. El  resultado de la gasometría arterial de...   \n",
       "5   32. ¿Cuál de las siguientes consecuencias pued...   \n",
       "6   33. Cuando un mismo cuadro clínico (o con pequ...   \n",
       "7   35. Los receptores para los fragmentos Fc de l...   \n",
       "8   37. En relación con la inmunoterapia basada en...   \n",
       "9   78. Referida a la parotiditis epidémica en la ...   \n",
       "10  81. En relación con la anemia de Fanconi indiq...   \n",
       "11  169. ¿Cuál de los siguientes iones urinarios f...   \n",
       "\n",
       "                                             Option_1  \\\n",
       "2   1. La resistencia es directamente proporcional...   \n",
       "3   1. Los valores de FG y FSR se mantienen relati...   \n",
       "4                        1. Ninguna, el pH es normal.   \n",
       "5   1. Al ser una mutación intrónica no tiene ning...   \n",
       "6                         1. Heterogeneidad de locus.   \n",
       "7   1. La IgG se une al receptor III para Fc-gamma...   \n",
       "8   1. Está aprobada para el tratamiento de leucem...   \n",
       "9   1. El virus de la parotiditis solo presenta un...   \n",
       "10  1. La anemia aplásica suele estar ya presente ...   \n",
       "11                                        1. Citrato.   \n",
       "\n",
       "                                             Option_2  \\\n",
       "2   2. En el flujo laminar, la velocidad del flujo...   \n",
       "3   2. Se autorregulan en paralelo, pero en cierta...   \n",
       "4                           2. Acidosis respiratoria.   \n",
       "5   2. Al ser una transición (los dos nucleótidos ...   \n",
       "6                          2. Heterogeneidad alélica.   \n",
       "7   2. La IgA se une al receptor poli-Ig (pIgR) de...   \n",
       "8   2. Un efecto secundario grave de esta terapia ...   \n",
       "9   2. La vacuna de la parotiditis está incluida e...   \n",
       "10    2. Son típicas las malformaciones esqueléticas.   \n",
       "11                                       2. Magnesio.   \n",
       "\n",
       "                                             Option_3  \\\n",
       "2   3. Cambios pequeños en el diámetro de un vaso ...   \n",
       "3   3. La reducción del cloruro de sodio en la mác...   \n",
       "4    3. Acidosis respiratoria y alcalosis metabólica.   \n",
       "5   3. Aunque es una mutación intrónica produce la...   \n",
       "6                         3. Heterogeneidad genética.   \n",
       "7   3. La IgM se une al receptor Fc neonatal (FcRn...   \n",
       "8   3. El receptor CAR reconoce CD19 de forma rest...   \n",
       "9   3. La orquitis como complicación es más frecue...   \n",
       "10  3. El trasplante de progenitores hematopoyétic...   \n",
       "11                                          3. Sodio.   \n",
       "\n",
       "                                             Option_4  RC  year  \n",
       "2   4. Si se añaden vasos sanguíneos en paralelo e...   4  2020  \n",
       "3   4. La angiotensina II ejerce una acción vasoco...   2  2020  \n",
       "4                            4. Alcalosis metabólica.   3  2020  \n",
       "5   4. La mutación en este nucleótido puede afecta...   4  2020  \n",
       "6                               4. Impronta parental.   2  2020  \n",
       "7   4. La IgE se une al receptor para Fc-epsilon (...   3  2020  \n",
       "8   4. Se asocia a hipergammaglobulinemia permanen...   2  2020  \n",
       "9   4. La pancreatitis puede producirse en la paro...   3  2020  \n",
       "10  4. Los andrógenos suelen producir una respuest...   1  2020  \n",
       "11                                        4. Sulfato.   3  2020  "
      ]
     },
     "execution_count": 40,
     "metadata": {},
     "output_type": "execute_result"
    }
   ],
   "source": [
    "processed_exam_df_filtered.tail(10)"
   ]
  },
  {
   "cell_type": "markdown",
   "metadata": {},
   "source": [
    "# Data Loading"
   ]
  },
  {
   "cell_type": "markdown",
   "metadata": {},
   "source": [
    "## Saving in csv file\n",
    "\n",
    "The `processed_exam_df_filtered` DataFrame, containing the cleaned and transformed exam data, is saved to a CSV file with the name generatd in the first step in the \"data\" directory. The `index=False` argument ensures that the DataFrame index is not written to the file, resulting in a cleaner output. This CSV file can be used for further analysis or as input for other applications."
   ]
  },
  {
   "cell_type": "code",
   "execution_count": 41,
   "metadata": {},
   "outputs": [],
   "source": [
    "processed_exam_df_filtered.to_csv(save_format, index= False)"
   ]
  },
  {
   "cell_type": "markdown",
   "metadata": {},
   "source": [
    "## Writing into data warehouse\n",
    "\n",
    "This section details the process of loading the cleaned and transformed exam data into an SQLite database, serving as a data warehouse for further analysis and querying.\n",
    "\n",
    "**1. Database Connection and Path:**\n",
    "\n",
    "The path to the SQLite database file is defined, and a connection is established using the `sqlite3` library."
   ]
  },
  {
   "cell_type": "code",
   "execution_count": 42,
   "metadata": {},
   "outputs": [],
   "source": [
    "db_path: str = \"../data/clean/bir_warehouse.db\""
   ]
  },
  {
   "cell_type": "markdown",
   "metadata": {},
   "source": [
    "**2. SQL Queries Definition:**\n",
    "\n",
    "Two SQL queries are defined: one for inserting questions into the questions table and another for inserting options into the questions_options table."
   ]
  },
  {
   "cell_type": "code",
   "execution_count": 43,
   "metadata": {},
   "outputs": [],
   "source": [
    "query_question: str = \"\"\"\n",
    "INSERT INTO questions (exam_year, exam_subject, question) \n",
    "VALUES((SELECT id_year FROM year WHERE year_name = ?),\n",
    "    (SELECT id_type FROM exam WHERE exam_type = ?),\n",
    "    ?);\n",
    "\"\"\"\n",
    "\n",
    "query_options: str = \"\"\"\n",
    "INSERT INTO questions_options (question_id, option_num, option_text, is_correct)\n",
    "VALUES((SELECT id FROM questions WHERE question = ?),\n",
    "    ?,\n",
    "    ?,\n",
    "    ?)\n",
    "\"\"\""
   ]
  },
  {
   "cell_type": "markdown",
   "metadata": {},
   "source": [
    "**3. Database Interaction and Data Insertion:**\n",
    "\n",
    "A with statement is used to establish a connection to the SQLite database, ensuring that the connection is properly closed after use. A cursor is created, and the processed_exam_df DataFrame is iterated over to insert each question and its options"
   ]
  },
  {
   "cell_type": "code",
   "execution_count": 44,
   "metadata": {},
   "outputs": [],
   "source": [
    "with sqlite3.connect(db_path) as bir_warehouse:\n",
    "    cur = bir_warehouse.cursor()\n",
    "    for question in processed_exam_df_filtered.itertuples():\n",
    "        cur.execute(query_question, (str(question[7]), exam_acronym, question[1]))\n",
    "        bir_warehouse.commit()\n",
    "        for n, option in enumerate(question[2:6]):\n",
    "            cur.execute(query_options, (question[1], n+1, option, n+1 == question[6]))\n",
    "            bir_warehouse.commit()"
   ]
  }
 ],
 "metadata": {
  "colab": {
   "provenance": []
  },
  "kernelspec": {
   "display_name": "bir_etl",
   "language": "python",
   "name": "python3"
  },
  "language_info": {
   "codemirror_mode": {
    "name": "ipython",
    "version": 3
   },
   "file_extension": ".py",
   "mimetype": "text/x-python",
   "name": "python",
   "nbconvert_exporter": "python",
   "pygments_lexer": "ipython3",
   "version": "3.12.7"
  }
 },
 "nbformat": 4,
 "nbformat_minor": 4
}
