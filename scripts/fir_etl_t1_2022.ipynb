{
 "cells": [
  {
   "cell_type": "markdown",
   "metadata": {
    "editable": true,
    "id": "56vKIohe8Jou",
    "slideshow": {
     "slide_type": ""
    },
    "tags": []
   },
   "source": [
    "# Data Extraction\n",
    "This section details the process of extracting question data from a PDF file and corresponding answer keys from a TSV file."
   ]
  },
  {
   "cell_type": "markdown",
   "metadata": {
    "id": "8kRORmWM8Joy"
   },
   "source": [
    "## Importing libraries"
   ]
  },
  {
   "cell_type": "markdown",
   "metadata": {},
   "source": [
    "* Pandas for data manipulation\n",
    "* NumPy for the NaN datatype\n",
    "* PyPDF for its ability to read the pfd files, although it requieres post-processing of the extracted text\n",
    "* sqlite3 to create load the clean data into `bir_warehouse.db`"
   ]
  },
  {
   "cell_type": "code",
   "execution_count": 2,
   "metadata": {
    "colab": {
     "base_uri": "https://localhost:8080/"
    },
    "id": "y8DpYYll8Joz",
    "outputId": "40cac5b3-1153-431b-f780-201aa62b5813"
   },
   "outputs": [],
   "source": [
    "import pandas as pd\n",
    "import numpy as np\n",
    "from pypdf import PdfReader\n",
    "import sqlite3"
   ]
  },
  {
   "cell_type": "markdown",
   "metadata": {},
   "source": [
    "## Selecting year and type of exam"
   ]
  },
  {
   "cell_type": "markdown",
   "metadata": {},
   "source": [
    "This function, `compute_expected_rows`, takes the exam year and topic as input and returns metadata crucial for subsequent data cleaning and loading steps. This metadata includes the expected maximum number of rows in the final DataFrame, the number of questions per exam, and the acronym for the exam type.  The maximum number of rows is calculated based on the number of questions and options per question for each year, following a specific pattern:\n",
    "\n",
    "*   2024-2021: 210 questions, 4 options each\n",
    "*   2020-2019: 185 questions, 4 options each\n",
    "*   2018-2015: 235 questions, 4 options each\n",
    "*   2014-2012: 235 questions, 5 options each\n",
    "*   2011-2004: 260 questions, 5 options each\n",
    "\n",
    "This information is essential for validating data integrity during the ETL process.  For example, the expected row count helps verify that all questions and options have been correctly extracted and transformed. The exam type acronym aids in consistent file naming and data organization."
   ]
  },
  {
   "cell_type": "code",
   "execution_count": 3,
   "metadata": {},
   "outputs": [],
   "source": [
    "def compute_expected_rows(year: int, topic: str) -> tuple:\n",
    "    \"\"\"Computes and returns metadata about the exam for a given year and topic\n",
    "\n",
    "    Args:\n",
    "        year (int): The year of the exam\n",
    "        topic (str): The topic of the exam\n",
    "\n",
    "    Returns:\n",
    "        tuple: Contains:\n",
    "            - max_rows: The expected maximum number of rows in the DataFrame\n",
    "            - num_options: The number of questions in the exam\n",
    "            - exam_type_acronym: The acronym for the exam type\n",
    "\n",
    "    \"\"\"\n",
    "    info_year_dict: dict = {\n",
    "        2011: [260, 5],\n",
    "        2014: [235, 5],\n",
    "        2018: [235, 4],\n",
    "        2020: [185, 4],\n",
    "        2021: [210, 4],\n",
    "    }\n",
    "    save_name_dict: dict = {\n",
    "        \"BIOLOGÍA\": \"bir\",\n",
    "        \"FARMACIA\": \"fir\",\n",
    "        \"QUÍMICA\": \"qir\",\n",
    "        \"MEDICINA\": \"mir\",\n",
    "    }\n",
    "    max_rows: int = 0\n",
    "    num_options: int = 0\n",
    "    for target_year, info_list in info_year_dict.items():\n",
    "        if year <= target_year:\n",
    "            max_rows = (info_list[0] * info_list[1]) + info_list[0]\n",
    "            num_options = info_list[1]\n",
    "            break\n",
    "    else:\n",
    "        max_rows = 1050\n",
    "        num_options = 4\n",
    "    return max_rows, num_options, save_name_dict[topic]"
   ]
  },
  {
   "cell_type": "markdown",
   "metadata": {},
   "source": [
    "### Add year of the exam and topic "
   ]
  },
  {
   "cell_type": "code",
   "execution_count": 4,
   "metadata": {},
   "outputs": [],
   "source": [
    "year: int = 2022\n",
    "topic: str = \"FARMACIA\" # Select from: BIOLOGÍA, FARMACIA, QUÍMICA, MEDICINA\n",
    "total_num_rows: int\n",
    "num_questions: int\n",
    "exam_acronym: str\n",
    "total_num_rows, num_questions, exam_acronym = compute_expected_rows(year, topic)\n",
    "save_format: str = f\"../data/clean/clean_{exam_acronym}_{year}.csv\""
   ]
  },
  {
   "cell_type": "code",
   "execution_count": 4,
   "metadata": {},
   "outputs": [],
   "source": [
    "add_list: list = [x for x in range(19, 79, 1)] + [85, 86, 87] + [x for x in range(123, 151, 1)] + [x for x in range(183, 189, 1)] + [x for x in range(195, 200, 1)] + [202, 204, 205, 206, 208, 210]"
   ]
  },
  {
   "cell_type": "markdown",
   "metadata": {
    "id": "Z1Kjq5ue8Jo1"
   },
   "source": [
    "## Extracting Questions from Pdf file"
   ]
  },
  {
   "cell_type": "markdown",
   "metadata": {},
   "source": [
    "This section focuses on extracting the textual content of the exam questions from the provided PDF file.\n",
    "\n",
    "**Path Definition:**\n",
    "\n",
    "The path to the PDF file is dynamically constructed using the provided `year` and `topic` variables. This ensures flexibility and allows the script to process different exam files without manual path adjustments.\n",
    "\n",
    "Finally it stores the output in a DataFrame and the first 10 rows of the resulting DataFrame are displayed for a quick preview of the loaded data."
   ]
  },
  {
   "cell_type": "code",
   "execution_count": 5,
   "metadata": {
    "id": "AB4M4yfr8Jo3"
   },
   "outputs": [
    {
     "data": {
      "application/vnd.microsoft.datawrangler.viewer.v0+json": {
       "columns": [
        {
         "name": "index",
         "rawType": "int64",
         "type": "integer"
        },
        {
         "name": "text",
         "rawType": "object",
         "type": "string"
        }
       ],
       "conversionMethod": "pd.DataFrame",
       "ref": "43222cfd-3578-4f3e-8b0f-b9ace3c3c5f2",
       "rows": [
        [
         "0",
         " "
        ],
        [
         "1",
         "- 1 - "
        ],
        [
         "2",
         "1. Saquinavir y ritonavir son fármacos utilizados "
        ],
        [
         "3",
         "en el tratamiento del SIDA que son además un "
        ],
        [
         "4",
         "ejemplo de diseño racional basado en la estruc-"
        ],
        [
         "5",
         "tura. ¿Cuál de las siguientes afirmaciones des-"
        ],
        [
         "6",
         "cribe correctamente a estos compuestos?: "
        ],
        [
         "7",
         " "
        ],
        [
         "8",
         "1. Son peptidomiméticos diseñados para inhibir "
        ],
        [
         "9",
         "la proteasa del VIH y actuar como análogos "
        ]
       ],
       "shape": {
        "columns": 1,
        "rows": 10
       }
      },
      "text/html": [
       "<div>\n",
       "<style scoped>\n",
       "    .dataframe tbody tr th:only-of-type {\n",
       "        vertical-align: middle;\n",
       "    }\n",
       "\n",
       "    .dataframe tbody tr th {\n",
       "        vertical-align: top;\n",
       "    }\n",
       "\n",
       "    .dataframe thead th {\n",
       "        text-align: right;\n",
       "    }\n",
       "</style>\n",
       "<table border=\"1\" class=\"dataframe\">\n",
       "  <thead>\n",
       "    <tr style=\"text-align: right;\">\n",
       "      <th></th>\n",
       "      <th>text</th>\n",
       "    </tr>\n",
       "  </thead>\n",
       "  <tbody>\n",
       "    <tr>\n",
       "      <th>0</th>\n",
       "      <td></td>\n",
       "    </tr>\n",
       "    <tr>\n",
       "      <th>1</th>\n",
       "      <td>- 1 -</td>\n",
       "    </tr>\n",
       "    <tr>\n",
       "      <th>2</th>\n",
       "      <td>1. Saquinavir y ritonavir son fármacos utiliza...</td>\n",
       "    </tr>\n",
       "    <tr>\n",
       "      <th>3</th>\n",
       "      <td>en el tratamiento del SIDA que son además un</td>\n",
       "    </tr>\n",
       "    <tr>\n",
       "      <th>4</th>\n",
       "      <td>ejemplo de diseño racional basado en la estruc-</td>\n",
       "    </tr>\n",
       "    <tr>\n",
       "      <th>5</th>\n",
       "      <td>tura. ¿Cuál de las siguientes afirmaciones des-</td>\n",
       "    </tr>\n",
       "    <tr>\n",
       "      <th>6</th>\n",
       "      <td>cribe correctamente a estos compuestos?:</td>\n",
       "    </tr>\n",
       "    <tr>\n",
       "      <th>7</th>\n",
       "      <td></td>\n",
       "    </tr>\n",
       "    <tr>\n",
       "      <th>8</th>\n",
       "      <td>1. Son peptidomiméticos diseñados para inhibir</td>\n",
       "    </tr>\n",
       "    <tr>\n",
       "      <th>9</th>\n",
       "      <td>la proteasa del VIH y actuar como análogos</td>\n",
       "    </tr>\n",
       "  </tbody>\n",
       "</table>\n",
       "</div>"
      ],
      "text/plain": [
       "                                                text\n",
       "0                                                   \n",
       "1                                             - 1 - \n",
       "2  1. Saquinavir y ritonavir son fármacos utiliza...\n",
       "3      en el tratamiento del SIDA que son además un \n",
       "4    ejemplo de diseño racional basado en la estruc-\n",
       "5    tura. ¿Cuál de las siguientes afirmaciones des-\n",
       "6          cribe correctamente a estos compuestos?: \n",
       "7                                                   \n",
       "8    1. Son peptidomiméticos diseñados para inhibir \n",
       "9        la proteasa del VIH y actuar como análogos "
      ]
     },
     "execution_count": 5,
     "metadata": {},
     "output_type": "execute_result"
    }
   ],
   "source": [
    "path: str = f\"../data/raw/type_1/Raw_Cuaderno_{year}_{topic}_0_C.pdf\"\n",
    "with PdfReader(path) as pdf_file:\n",
    "    full_text: list = []\n",
    "    for n in range(2, len(pdf_file.pages)):\n",
    "        page = pdf_file.pages[n]\n",
    "        text: str = page.extract_text()\n",
    "        full_text.extend(text.splitlines())\n",
    "raw_exam_df: pd.DataFrame = pd.DataFrame(full_text, columns=[\"text\"])\n",
    "raw_exam_df.head(10)"
   ]
  },
  {
   "cell_type": "markdown",
   "metadata": {
    "id": "IBhc5aFQ8Jo6"
   },
   "source": [
    "## Extracting Answers from .tsv file into a DataFrame"
   ]
  },
  {
   "cell_type": "markdown",
   "metadata": {},
   "source": [
    "This section focuses on extracting the answer key data from the provided .tsv file and loading it into a Pandas DataFrame.\n",
    "\n",
    "**Path Definition and Data Loading:**\n",
    "\n",
    "The path to the .tsv file is dynamically constructed using the `year` and `topic` variables, mirroring the approach used for the PDF file. This ensures consistency and flexibility in processing different exam files. \n",
    "\n",
    "The `pd.read_table()` function is then used to read the .tsv file directly into a Pandas DataFrame. Finally, the first 10 rows of the resulting DataFrame are displayed for a quick preview of the loaded data."
   ]
  },
  {
   "cell_type": "code",
   "execution_count": 6,
   "metadata": {
    "colab": {
     "base_uri": "https://localhost:8080/",
     "height": 206
    },
    "id": "O1ouB9mQ8Jo7",
    "outputId": "70b7615d-9c90-4f2d-b9e1-a5c86b507ef6"
   },
   "outputs": [
    {
     "data": {
      "application/vnd.microsoft.datawrangler.viewer.v0+json": {
       "columns": [
        {
         "name": "index",
         "rawType": "int64",
         "type": "integer"
        },
        {
         "name": "V",
         "rawType": "int64",
         "type": "integer"
        },
        {
         "name": "RC",
         "rawType": "int64",
         "type": "integer"
        },
        {
         "name": "V.1",
         "rawType": "int64",
         "type": "integer"
        },
        {
         "name": "RC.1",
         "rawType": "int64",
         "type": "integer"
        },
        {
         "name": "V.2",
         "rawType": "int64",
         "type": "integer"
        },
        {
         "name": "RC.2",
         "rawType": "int64",
         "type": "integer"
        },
        {
         "name": "V.3",
         "rawType": "int64",
         "type": "integer"
        },
        {
         "name": "RC.3",
         "rawType": "int64",
         "type": "integer"
        },
        {
         "name": "V.4",
         "rawType": "int64",
         "type": "integer"
        },
        {
         "name": "RC.4",
         "rawType": "int64",
         "type": "integer"
        }
       ],
       "conversionMethod": "pd.DataFrame",
       "ref": "2483ca8e-f438-4950-8931-a9d2fff5ffad",
       "rows": [
        [
         "0",
         "1",
         "1",
         "43",
         "4",
         "85",
         "2",
         "127",
         "2",
         "169",
         "2"
        ],
        [
         "1",
         "2",
         "3",
         "44",
         "1",
         "86",
         "2",
         "128",
         "1",
         "170",
         "3"
        ],
        [
         "2",
         "3",
         "2",
         "45",
         "4",
         "87",
         "2",
         "129",
         "1",
         "171",
         "4"
        ],
        [
         "3",
         "4",
         "1",
         "46",
         "2",
         "88",
         "1",
         "130",
         "3",
         "172",
         "2"
        ],
        [
         "4",
         "5",
         "2",
         "47",
         "1",
         "89",
         "4",
         "131",
         "2",
         "173",
         "1"
        ],
        [
         "5",
         "6",
         "4",
         "48",
         "4",
         "90",
         "3",
         "132",
         "2",
         "174",
         "3"
        ],
        [
         "6",
         "7",
         "2",
         "49",
         "2",
         "91",
         "1",
         "133",
         "3",
         "175",
         "3"
        ],
        [
         "7",
         "8",
         "3",
         "50",
         "2",
         "92",
         "1",
         "134",
         "4",
         "176",
         "1"
        ],
        [
         "8",
         "9",
         "3",
         "51",
         "1",
         "93",
         "2",
         "135",
         "4",
         "177",
         "4"
        ],
        [
         "9",
         "10",
         "2",
         "52",
         "2",
         "94",
         "3",
         "136",
         "2",
         "178",
         "3"
        ]
       ],
       "shape": {
        "columns": 10,
        "rows": 10
       }
      },
      "text/html": [
       "<div>\n",
       "<style scoped>\n",
       "    .dataframe tbody tr th:only-of-type {\n",
       "        vertical-align: middle;\n",
       "    }\n",
       "\n",
       "    .dataframe tbody tr th {\n",
       "        vertical-align: top;\n",
       "    }\n",
       "\n",
       "    .dataframe thead th {\n",
       "        text-align: right;\n",
       "    }\n",
       "</style>\n",
       "<table border=\"1\" class=\"dataframe\">\n",
       "  <thead>\n",
       "    <tr style=\"text-align: right;\">\n",
       "      <th></th>\n",
       "      <th>V</th>\n",
       "      <th>RC</th>\n",
       "      <th>V.1</th>\n",
       "      <th>RC.1</th>\n",
       "      <th>V.2</th>\n",
       "      <th>RC.2</th>\n",
       "      <th>V.3</th>\n",
       "      <th>RC.3</th>\n",
       "      <th>V.4</th>\n",
       "      <th>RC.4</th>\n",
       "    </tr>\n",
       "  </thead>\n",
       "  <tbody>\n",
       "    <tr>\n",
       "      <th>0</th>\n",
       "      <td>1</td>\n",
       "      <td>1</td>\n",
       "      <td>43</td>\n",
       "      <td>4</td>\n",
       "      <td>85</td>\n",
       "      <td>2</td>\n",
       "      <td>127</td>\n",
       "      <td>2</td>\n",
       "      <td>169</td>\n",
       "      <td>2</td>\n",
       "    </tr>\n",
       "    <tr>\n",
       "      <th>1</th>\n",
       "      <td>2</td>\n",
       "      <td>3</td>\n",
       "      <td>44</td>\n",
       "      <td>1</td>\n",
       "      <td>86</td>\n",
       "      <td>2</td>\n",
       "      <td>128</td>\n",
       "      <td>1</td>\n",
       "      <td>170</td>\n",
       "      <td>3</td>\n",
       "    </tr>\n",
       "    <tr>\n",
       "      <th>2</th>\n",
       "      <td>3</td>\n",
       "      <td>2</td>\n",
       "      <td>45</td>\n",
       "      <td>4</td>\n",
       "      <td>87</td>\n",
       "      <td>2</td>\n",
       "      <td>129</td>\n",
       "      <td>1</td>\n",
       "      <td>171</td>\n",
       "      <td>4</td>\n",
       "    </tr>\n",
       "    <tr>\n",
       "      <th>3</th>\n",
       "      <td>4</td>\n",
       "      <td>1</td>\n",
       "      <td>46</td>\n",
       "      <td>2</td>\n",
       "      <td>88</td>\n",
       "      <td>1</td>\n",
       "      <td>130</td>\n",
       "      <td>3</td>\n",
       "      <td>172</td>\n",
       "      <td>2</td>\n",
       "    </tr>\n",
       "    <tr>\n",
       "      <th>4</th>\n",
       "      <td>5</td>\n",
       "      <td>2</td>\n",
       "      <td>47</td>\n",
       "      <td>1</td>\n",
       "      <td>89</td>\n",
       "      <td>4</td>\n",
       "      <td>131</td>\n",
       "      <td>2</td>\n",
       "      <td>173</td>\n",
       "      <td>1</td>\n",
       "    </tr>\n",
       "    <tr>\n",
       "      <th>5</th>\n",
       "      <td>6</td>\n",
       "      <td>4</td>\n",
       "      <td>48</td>\n",
       "      <td>4</td>\n",
       "      <td>90</td>\n",
       "      <td>3</td>\n",
       "      <td>132</td>\n",
       "      <td>2</td>\n",
       "      <td>174</td>\n",
       "      <td>3</td>\n",
       "    </tr>\n",
       "    <tr>\n",
       "      <th>6</th>\n",
       "      <td>7</td>\n",
       "      <td>2</td>\n",
       "      <td>49</td>\n",
       "      <td>2</td>\n",
       "      <td>91</td>\n",
       "      <td>1</td>\n",
       "      <td>133</td>\n",
       "      <td>3</td>\n",
       "      <td>175</td>\n",
       "      <td>3</td>\n",
       "    </tr>\n",
       "    <tr>\n",
       "      <th>7</th>\n",
       "      <td>8</td>\n",
       "      <td>3</td>\n",
       "      <td>50</td>\n",
       "      <td>2</td>\n",
       "      <td>92</td>\n",
       "      <td>1</td>\n",
       "      <td>134</td>\n",
       "      <td>4</td>\n",
       "      <td>176</td>\n",
       "      <td>1</td>\n",
       "    </tr>\n",
       "    <tr>\n",
       "      <th>8</th>\n",
       "      <td>9</td>\n",
       "      <td>3</td>\n",
       "      <td>51</td>\n",
       "      <td>1</td>\n",
       "      <td>93</td>\n",
       "      <td>2</td>\n",
       "      <td>135</td>\n",
       "      <td>4</td>\n",
       "      <td>177</td>\n",
       "      <td>4</td>\n",
       "    </tr>\n",
       "    <tr>\n",
       "      <th>9</th>\n",
       "      <td>10</td>\n",
       "      <td>2</td>\n",
       "      <td>52</td>\n",
       "      <td>2</td>\n",
       "      <td>94</td>\n",
       "      <td>3</td>\n",
       "      <td>136</td>\n",
       "      <td>2</td>\n",
       "      <td>178</td>\n",
       "      <td>3</td>\n",
       "    </tr>\n",
       "  </tbody>\n",
       "</table>\n",
       "</div>"
      ],
      "text/plain": [
       "    V  RC  V.1  RC.1  V.2  RC.2  V.3  RC.3  V.4  RC.4\n",
       "0   1   1   43     4   85     2  127     2  169     2\n",
       "1   2   3   44     1   86     2  128     1  170     3\n",
       "2   3   2   45     4   87     2  129     1  171     4\n",
       "3   4   1   46     2   88     1  130     3  172     2\n",
       "4   5   2   47     1   89     4  131     2  173     1\n",
       "5   6   4   48     4   90     3  132     2  174     3\n",
       "6   7   2   49     2   91     1  133     3  175     3\n",
       "7   8   3   50     2   92     1  134     4  176     1\n",
       "8   9   3   51     1   93     2  135     4  177     4\n",
       "9  10   2   52     2   94     3  136     2  178     3"
      ]
     },
     "execution_count": 6,
     "metadata": {},
     "output_type": "execute_result"
    }
   ],
   "source": [
    "raw_answers_df: pd.DataFrame = pd.read_table(f\"../data/raw/type_1/Raw_Cuaderno_{year}_{topic}_0_C_Respuestas.tsv\")\n",
    "raw_answers_df.head(10)"
   ]
  },
  {
   "cell_type": "markdown",
   "metadata": {
    "id": "uFFlTADP8Jo7"
   },
   "source": [
    "# Data Transformation"
   ]
  },
  {
   "cell_type": "markdown",
   "metadata": {},
   "source": [
    "## Exam pdf"
   ]
  },
  {
   "cell_type": "markdown",
   "metadata": {},
   "source": [
    "### Removing white space"
   ]
  },
  {
   "cell_type": "markdown",
   "metadata": {
    "id": "2QavIIOK8Jo7"
   },
   "source": [
    "This section focuses on cleaning the raw text extracted from the PDF exam file, preparing it for further processing. This involves removing extraneous whitespace, handling empty lines, and resetting the DataFrame index.\n",
    "\n",
    "**1. Removing Page Number Artifacts:**\n",
    "\n",
    "The extracted text may contain page number artifacts, which are removed by filtering out rows containing the string \"Página\"."
   ]
  },
  {
   "cell_type": "code",
   "execution_count": 7,
   "metadata": {},
   "outputs": [],
   "source": [
    "raw_exam_df = raw_exam_df[~raw_exam_df[\"text\"].str.contains(\"Página\")]\n",
    "raw_exam_df = raw_exam_df[~raw_exam_df[\"text\"].str.contains(\"Pagina\")]\n",
    "raw_exam_df = raw_exam_df[~raw_exam_df[\"text\"].str.contains(topic)]\n",
    "\n",
    "footer_list: list = [f\"- {npag} -\" for npag in range(0,30,1)]\n",
    "\n",
    "for footer in footer_list:\n",
    "    raw_exam_df[\"text\"] = raw_exam_df[\"text\"].str.replace(footer, \"\")"
   ]
  },
  {
   "cell_type": "markdown",
   "metadata": {},
   "source": [
    "**2. Striping Leading/Trailing Whitespaces**\n",
    "\n",
    "Leading and trailing whitespace characters are removed from each text entry using the .str.strip() method."
   ]
  },
  {
   "cell_type": "code",
   "execution_count": 8,
   "metadata": {},
   "outputs": [],
   "source": [
    "raw_exam_df = raw_exam_df[\"text\"].str.strip()"
   ]
  },
  {
   "cell_type": "markdown",
   "metadata": {},
   "source": [
    "**3. Handling Empty Lines**\n",
    "\n",
    "Empty lines, represented as empty strings, are replaced with NaN (Not a Number) values. \n",
    "\n",
    "Then rows containing NaN values, representing empty lines, are removed from the DataFrame using .dropna()"
   ]
  },
  {
   "cell_type": "code",
   "execution_count": 9,
   "metadata": {},
   "outputs": [],
   "source": [
    "raw_exam_df = raw_exam_df.replace(\"\", np.nan)\n",
    "raw_exam_df = raw_exam_df.dropna()"
   ]
  },
  {
   "cell_type": "markdown",
   "metadata": {},
   "source": [
    "**4. Reseting DataFrame Index**\n",
    "\n",
    "The DataFrame index is reset after removing rows, ensuring a contiguous index and dropping the old index."
   ]
  },
  {
   "cell_type": "code",
   "execution_count": 10,
   "metadata": {},
   "outputs": [],
   "source": [
    "raw_exam_df = raw_exam_df.reset_index(drop=True)"
   ]
  },
  {
   "cell_type": "markdown",
   "metadata": {},
   "source": [
    "**5. Displays the first 10 rows of the DataFrame**"
   ]
  },
  {
   "cell_type": "code",
   "execution_count": 11,
   "metadata": {},
   "outputs": [
    {
     "data": {
      "text/plain": [
       "0    1. Saquinavir y ritonavir son fármacos utilizados\n",
       "1         en el tratamiento del SIDA que son además un\n",
       "2      ejemplo de diseño racional basado en la estruc-\n",
       "3      tura. ¿Cuál de las siguientes afirmaciones des-\n",
       "4             cribe correctamente a estos compuestos?:\n",
       "5       1. Son peptidomiméticos diseñados para inhibir\n",
       "6           la proteasa del VIH y actuar como análogos\n",
       "7                            del estado de transición.\n",
       "8     2. Son análogos de los ácidos nucleicos y actúan\n",
       "9           como inhibidores competitivos de la trans-\n",
       "Name: text, dtype: object"
      ]
     },
     "execution_count": 11,
     "metadata": {},
     "output_type": "execute_result"
    }
   ],
   "source": [
    "raw_exam_df.head(10)"
   ]
  },
  {
   "cell_type": "code",
   "execution_count": 12,
   "metadata": {},
   "outputs": [
    {
     "data": {
      "text/plain": [
       "2197                                      2. Es una odds.\n",
       "2198                                      3. Es una tasa.\n",
       "2199                                     4. Es una razón.\n",
       "2200    210. En un método analítico, la concordancia e...\n",
       "2201     el valor medido y el valor real se relaciona con\n",
       "2202                    la siguiente propiedad analítica:\n",
       "2203                                  1. La selectividad.\n",
       "2204                                     2. La precisión.\n",
       "2205                                     3. La exactitud.\n",
       "2206                                  4. La sensibilidad.\n",
       "Name: text, dtype: object"
      ]
     },
     "execution_count": 12,
     "metadata": {},
     "output_type": "execute_result"
    }
   ],
   "source": [
    "raw_exam_df.tail(10)"
   ]
  },
  {
   "cell_type": "markdown",
   "metadata": {},
   "source": [
    "### Joining Truncated Lines"
   ]
  },
  {
   "cell_type": "markdown",
   "metadata": {},
   "source": [
    "This section addresses the issue of truncated lines and multi-line questions or options within the extracted exam text. A custom function, `process_multi_line_str`, is used to concatenate these lines, ensuring that each question and option is presented as a single, coherent string.\n",
    "\n",
    "**Function: `process_multi_line_str(df)`**\n",
    "\n",
    "This function iterates through the DataFrame, performing two main tasks:\n",
    "\n",
    "1.  **Joining Truncated Words:**\n",
    "    * It checks if a line ends with a hyphen (\"-\"), indicating a word that has been truncated at the end of a line.\n",
    "    * If a line is truncated, it removes the hyphen and appends the content of the following line to the current line.\n",
    "    * The following line is then removed from the DataFrame, and the index is reset.\n",
    "\n",
    "2.  **Joining Multi-Line Questions/Options:**\n",
    "    * It checks if the first character of the next line can be converted to an integer. This is used as a heuristic to identify the start of a new question or option.\n",
    "    * If the next line does not start with an integer (i.e., it's a continuation of the current question or option), it is appended to the current line, separated by a space.\n",
    "    * The next line is then removed, and the index is reset."
   ]
  },
  {
   "cell_type": "code",
   "execution_count": 13,
   "metadata": {
    "id": "rYZHjn_C8Jo8"
   },
   "outputs": [],
   "source": [
    "def process_multi_line_str(df: pd.DataFrame) -> pd.DataFrame:\n",
    "    \"\"\"Function to handle truncated lines\n",
    "\n",
    "    Args:\n",
    "        df (pd.DataFrame): A pandas dataframe\n",
    "\n",
    "    Returns:\n",
    "        pd.DataFrame: Returns the DataFrame without truncated lines\n",
    "    \"\"\"\n",
    "    i: int = 0\n",
    "    while i < len(df) - 1:\n",
    "        if i < len(df) -1  and df.iloc[i].endswith(\"-\"):\n",
    "            df.iloc[i] = df.iloc[i][:-1] + df.iloc[i + 1]\n",
    "            df = df.drop(i + 1)\n",
    "            df = df.reset_index(drop=True)\n",
    "        else:\n",
    "            i += 1\n",
    "    n: int = 0\n",
    "    while n < len(df) -1:\n",
    "        if n + 1 < len(df):\n",
    "            try:\n",
    "                int(df.iloc[n + 1][0:1])\n",
    "                n += 1\n",
    "            except ValueError:\n",
    "                df.iloc[n] = df.iloc[n] + \" \" + df.iloc[n + 1]\n",
    "                df = df.drop(n +1)\n",
    "                df = df.reset_index(drop= True)\n",
    "        else:\n",
    "            break\n",
    "    return df"
   ]
  },
  {
   "cell_type": "markdown",
   "metadata": {},
   "source": [
    "The process_multi_line_str function is applied to the cleaned raw_exam_df DataFrame, and the resulting DataFrame is stored in exam_df_concat. The first few rows of the concatenated DataFrame are displayed to verify the results."
   ]
  },
  {
   "cell_type": "code",
   "execution_count": 14,
   "metadata": {
    "colab": {
     "base_uri": "https://localhost:8080/",
     "height": 206
    },
    "id": "2v6dmQuM8_v1",
    "outputId": "215f5328-a43d-4bbb-f221-fba6fc10a5c1"
   },
   "outputs": [
    {
     "data": {
      "text/plain": [
       "0    1. Saquinavir y ritonavir son fármacos utiliza...\n",
       "1    1. Son peptidomiméticos diseñados para inhibir...\n",
       "2    2. Son análogos de los ácidos nucleicos y actú...\n",
       "3    3. Son peptidomiméticos diseñados para inhibir...\n",
       "4    4. Son compuestos que contienen en su estructu...\n",
       "5    2. Las penicilinas poseen una estructura bicíc...\n",
       "6    1. Confiere una elevada tensión que dificulta ...\n",
       "7    2. Mimetiza el enlace glicosídico entre Naceti...\n",
       "8    3. Mimetiza el dímero de D-Ala-D-Ala presente ...\n",
       "9    4. Puede ser modificado bioisostéricamente, su...\n",
       "Name: text, dtype: object"
      ]
     },
     "execution_count": 14,
     "metadata": {},
     "output_type": "execute_result"
    }
   ],
   "source": [
    "exam_df_concat: pd.DataFrame = process_multi_line_str(raw_exam_df)\n",
    "exam_df_concat.head(10)"
   ]
  },
  {
   "cell_type": "markdown",
   "metadata": {},
   "source": [
    "### Validating and Correction Incorrect Rows"
   ]
  },
  {
   "cell_type": "markdown",
   "metadata": {},
   "source": [
    "This section focuses on validating the number of rows in the cleaned DataFrame against the expected number and correcting any rows that do not conform to the expected format.\n",
    "\n",
    "**1. Calculating Expected and Actual Incorrect Rows:**\n",
    "\n",
    "We calculate the expected number of incorrect rows by subtracting the total expected rows from the current number of rows in the DataFrame. We then identify the actual number of incorrect rows by counting the rows that do not end with a period (\".\"), a colon (\":\") or interrogation sign (\"?\")."
   ]
  },
  {
   "cell_type": "code",
   "execution_count": 15,
   "metadata": {},
   "outputs": [
    {
     "name": "stdout",
     "output_type": "stream",
     "text": [
      "Number of expected incorrect rows = 6\n",
      "Number of rows not ending with '.', ':' or '?' = 7\n",
      "[345, 352, 475, 504, 521, 701, 1015]\n"
     ]
    }
   ],
   "source": [
    "num_rows_incorrect_expected: int = len(exam_df_concat) - total_num_rows\n",
    "num_rows_incorrect: int = exam_df_concat[~exam_df_concat.str.endswith((\".\", \":\", \"?\"))].count()\n",
    "id_rows_incorrect: list = exam_df_concat[~exam_df_concat.str.endswith((\".\", \":\", \"?\"))].index.to_list()\n",
    "print(f\"Number of expected incorrect rows = {num_rows_incorrect_expected}\")\n",
    "print(f\"Number of rows not ending with '.', ':' or '?' = {num_rows_incorrect}\")\n",
    "print(id_rows_incorrect)"
   ]
  },
  {
   "cell_type": "markdown",
   "metadata": {},
   "source": [
    "**2. Function: print_rows_incorrrect(wrong_id, df):**\n",
    "\n",
    "This function takes a list of incorrect row indices and the DataFrame as input. It then prints the row identified as incorrect along with the 2 rows before and 2 rows after, providing context to help determine how to fix the error."
   ]
  },
  {
   "cell_type": "code",
   "execution_count": 16,
   "metadata": {},
   "outputs": [],
   "source": [
    "def print_rows_incorrrect(wrong_id: list[int], df: pd.DataFrame) -> None:\n",
    "    \"\"\"Print +/- 2 rows for context\n",
    "\n",
    "    Args:\n",
    "        wrong_id (list): Generated list of wrong row_id\n",
    "        df (pd.DataFrame): DataFrame corresponding with the worng_id list\n",
    "    \"\"\"\n",
    "    for wid in wrong_id:\n",
    "        print(f\"Id to fix {wid}:\")\n",
    "        print(df.iloc[wid -2: wid +3])"
   ]
  },
  {
   "cell_type": "markdown",
   "metadata": {},
   "source": [
    "**3. Function: fix_incorrect(num_row, df):**\n",
    "\n",
    "This function takes a list of row indices to fix and the DataFrame. It iterates through the indices in reverse order to avoid index shifting problems. Each incorrect row is concatenated with the row immediately following it, and the subsequent row is then dropped. The DataFrame index is reset after each concatenation."
   ]
  },
  {
   "cell_type": "code",
   "execution_count": 17,
   "metadata": {},
   "outputs": [],
   "source": [
    "def fix_incorrect(num_row: list[int], df: pd.DataFrame) -> pd.DataFrame:\n",
    "    \"\"\"Fix the incorrect rows in the DataFrame\n",
    "\n",
    "    Args:\n",
    "        num_row (list): List of ids to fix\n",
    "        df (pd.DataFrame): The DataFrame to fix\n",
    "\n",
    "    Returns:\n",
    "        pd.DataFrame: Fixed\n",
    "    \"\"\"\n",
    "    num_row: list = sorted(num_row, reverse=True)\n",
    "    for n in num_row:\n",
    "        df.iloc[n] = df.iloc[n] + df.iloc[n + 1]\n",
    "        df = df.drop(n + 1)\n",
    "        df = df.reset_index(drop= True)\n",
    "    return df"
   ]
  },
  {
   "cell_type": "markdown",
   "metadata": {},
   "source": [
    "**4. Validation and Correction Logic:**\n",
    "\n",
    "We compare the expected and actual number of incorrect rows. If they match, we proceed to fix the incorrect rows using the `fix_incorrect` function. Otherwise, we print the context of the incorrect rows and raise a warning, indicating that manual inspection and correction are required."
   ]
  },
  {
   "cell_type": "code",
   "execution_count": 18,
   "metadata": {},
   "outputs": [
    {
     "name": "stdout",
     "output_type": "stream",
     "text": [
      "Id to fix 345:\n",
      "343    3. La noradrenalina se utiliza frecuentemente ...\n",
      "344    4. En un shock cardiogénico no hay manifestaci...\n",
      "345    70. AG es una mujer de 82 años, con antecedent...\n",
      "346    24 horas, diabetes mellitus tipo 2 insulinodep...\n",
      "347    1. Realizar un control de ritmo con fármacos q...\n",
      "Name: text, dtype: object\n",
      "Id to fix 352:\n",
      "350    4. Es esencial observar el tamaño de las ondas...\n",
      "351    71. Acerca del accidente isquémico transitorio...\n",
      "352      1. Se trata de una lesión isquémica de menos de\n",
      "353    24 horas de evolución, detectada radiológicame...\n",
      "354    2. Cuando se diagnostica, es necesario comenza...\n",
      "Name: text, dtype: object\n",
      "Id to fix 475:\n",
      "473    1. La afinidad de la insulina detemir es 4-5 v...\n",
      "474    2. La insulina glargina se formula a un pH bás...\n",
      "475    3. En la insulina degludec, los monómeros se l...\n",
      "476                                                42 h.\n",
      "477    4. En la insulina NPH la dosis regula el perfi...\n",
      "Name: text, dtype: object\n",
      "Id to fix 504:\n",
      "502       4. Se utiliza preferentemente como antitusivo.\n",
      "503    101. La Kd (constante de disociación) de un fá...\n",
      "504       1. Coincide con la CE 50 (concentración eficaz\n",
      "505                                50) de dicho fármaco.\n",
      "506    2. Se corresponde con la concentración de fárm...\n",
      "Name: text, dtype: object\n",
      "Id to fix 521:\n",
      "519    104. ¿Cuál de las siguientes es una reacción m...\n",
      "520                                    1. Desulfuración.\n",
      "521                                   2. Glucuronidación\n",
      "522                                      3. Acetilación.\n",
      "523                                 4. Descarboxilación.\n",
      "Name: text, dtype: object\n",
      "Id to fix 701:\n",
      "699    140. Respecto al aminoácid o cisteína, señale ...\n",
      "700    1. Es uno de los aminoácidos esenciales en el ...\n",
      "701    2. Tiene capacidad de absorber luz ultravioleta a\n",
      "702                                              280 nm.\n",
      "703    3. Forma parte del tetrapéptido glutatión, que...\n",
      "Name: text, dtype: object\n",
      "Id to fix 1015:\n",
      "1013                                 3. Rickettsia typhi.\n",
      "1014                                4. Coxiella burnetti.\n",
      "1015    203. En una unidad de urgencias pediátricas se...\n",
      "1016    3,3% y NaCl 0,3%; o lo que es lo mismo, glucos...\n",
      "1017     1. Es hiposmótico con respecto al plasma humano.\n",
      "Name: text, dtype: object\n"
     ]
    }
   ],
   "source": [
    "if num_rows_incorrect_expected == num_rows_incorrect:\n",
    "    exam_df_fixed = fix_incorrect(id_rows_incorrect, exam_df_concat)\n",
    "    df_correct_rows: bool = len(exam_df_fixed) == num_rows_incorrect_expected\n",
    "else:\n",
    "    print_rows_incorrrect(id_rows_incorrect, exam_df_concat)\n",
    "    # raise Warning(\"More incorrect rows that expected, uncomment the lines below and add ids to the list, and comment this line\")\n",
    "    rows_fix: list[int] = [345, 352, 475, 504, 701, 1015]\n",
    "    exam_df_fixed: pd.DataFrame = fix_incorrect(rows_fix, exam_df_concat)"
   ]
  },
  {
   "cell_type": "markdown",
   "metadata": {},
   "source": [
    "**5. Verification of Corrected Rows:**\n",
    "\n",
    "We print the expected total number of rows and the actual number of rows in the corrected DataFrame to verify the results of the correction process."
   ]
  },
  {
   "cell_type": "code",
   "execution_count": 19,
   "metadata": {},
   "outputs": [
    {
     "name": "stdout",
     "output_type": "stream",
     "text": [
      "Correct number of rows = 1050\n",
      "1050\n"
     ]
    }
   ],
   "source": [
    "print(f\"Correct number of rows = {total_num_rows}\")\n",
    "print(exam_df_fixed.shape[0])"
   ]
  },
  {
   "cell_type": "markdown",
   "metadata": {},
   "source": [
    "### Pivoting the DataFrame\n",
    "\n",
    "This section focuses on transforming the cleaned exam data into a structured format suitable for analysis. The DataFrame is pivoted to create columns for each question and its corresponding options.\n",
    "\n",
    "**1. Preparing the DataFrame for Pivoting:**\n",
    "\n",
    "The `exam_df_fixed` Series is converted to a DataFrame, and a 'group' column is created to identify each question and its options. An 'option_num' column is then generated to enumerate the options within each group.\n"
   ]
  },
  {
   "cell_type": "code",
   "execution_count": 20,
   "metadata": {},
   "outputs": [],
   "source": [
    "exam_df_fixed = exam_df_fixed.to_frame()\n",
    "groups: pd.Series = pd.Series((exam_df_fixed.index // (num_questions+1)) +1)\n",
    "exam_df_fixed[\"group\"] = groups  \n",
    "exam_df_fixed[\"option_num\"] = exam_df_fixed.groupby(\"group\").cumcount() + 1"
   ]
  },
  {
   "cell_type": "markdown",
   "metadata": {},
   "source": [
    "**2. Pivoting the DataFrame:**\n",
    "\n",
    "The DataFrame is pivoted using the 'group' column as the index, the 'option_num' column as the columns, and the 'text' column as the values. The index is then reset."
   ]
  },
  {
   "cell_type": "code",
   "execution_count": 21,
   "metadata": {},
   "outputs": [],
   "source": [
    "exam_df_pivot: pd.DataFrame = exam_df_fixed.pivot(index=\"group\", columns=\"option_num\", values=\"text\")\n",
    "exam_df_pivot = exam_df_pivot.reset_index()"
   ]
  },
  {
   "cell_type": "markdown",
   "metadata": {},
   "source": [
    "**3. Renaming Columns:**\n",
    "\n",
    "The columns are renamed to more descriptive names, such as \"Question\", \"Option_1\", \"Option_2\", etc."
   ]
  },
  {
   "cell_type": "code",
   "execution_count": 22,
   "metadata": {},
   "outputs": [],
   "source": [
    "key_list: list = [x for x in range(1, num_questions+2, 1)]\n",
    "val_list: list = [\"Question\"] + [f\"Option_{x}\" for x in range(1, 4 + 1, 1)]\n",
    "\n",
    "exam_df_pivot = exam_df_pivot.rename_axis(None, axis=1).rename(columns=dict(zip(key_list, val_list)))"
   ]
  },
  {
   "cell_type": "markdown",
   "metadata": {},
   "source": [
    "**4. Dropping the 'group' Column:**\n",
    "\n",
    "The 'group' column is dropped as it is no longer needed"
   ]
  },
  {
   "cell_type": "code",
   "execution_count": 23,
   "metadata": {},
   "outputs": [],
   "source": [
    "exam_df_pivot = exam_df_pivot.drop(columns=[\"group\"])"
   ]
  },
  {
   "cell_type": "markdown",
   "metadata": {},
   "source": [
    "**5. Displaying the Pivoted DataFrame:**\n",
    "\n",
    "The first 10 rows of the pivoted DataFrame are displayed to verify the results of the transformation."
   ]
  },
  {
   "cell_type": "code",
   "execution_count": 24,
   "metadata": {},
   "outputs": [
    {
     "data": {
      "application/vnd.microsoft.datawrangler.viewer.v0+json": {
       "columns": [
        {
         "name": "index",
         "rawType": "int64",
         "type": "integer"
        },
        {
         "name": "Question",
         "rawType": "object",
         "type": "string"
        },
        {
         "name": "Option_1",
         "rawType": "object",
         "type": "string"
        },
        {
         "name": "Option_2",
         "rawType": "object",
         "type": "string"
        },
        {
         "name": "Option_3",
         "rawType": "object",
         "type": "string"
        },
        {
         "name": "Option_4",
         "rawType": "object",
         "type": "string"
        }
       ],
       "conversionMethod": "pd.DataFrame",
       "ref": "ff81cedc-17bb-4e57-a927-73cee4d69648",
       "rows": [
        [
         "0",
         "1. Saquinavir y ritonavir son fármacos utilizados en el tratamiento del SIDA que son además un ejemplo de diseño racional basado en la estructura. ¿Cuál de las siguientes afirmaciones describe correctamente a estos compuestos?:",
         "1. Son peptidomiméticos diseñados para inhibir la proteasa del VIH y actuar como análogos del estado de transición.",
         "2. Son análogos de los ácidos nucleicos y actúan como inhibidores competitivos de la transcriptasa inversa.",
         "3. Son peptidomiméticos diseñados para inhibir la integrasa del VIH y actuar como inhibidores reversibles.",
         "4. Son compuestos que contienen en su estructura un sistema de didesoxiribosa, diseñados para actuar como inhibidores de una proteasa del VIH."
        ],
        [
         "1",
         "2. Las penicilinas poseen una estructura bicíclica que contiene una β-lactama fundamental para su actividad antibacteriana. Este sistema bicíclico:",
         "1. Confiere una elevada tensión que dificulta su apertura por las β-lactamasas bacterianas, confiriéndole así resistencia a estas enzimas.",
         "2. Mimetiza el enlace glicosídico entre Nacetilmurámico y N-acetilglucosamina impidiendo así la síntesis del peptidoglicano presente en la pared celular bacteriana.",
         "3. Mimetiza el dímero de D-Ala-D-Ala presente en el peptidoglicano, inhibiendo irreversiblemente la transpeptidasa.",
         "4. Puede ser modificado bioisostéricamente, sustituyendo el nitrógeno por un oxígeno y dando lugar a una β-lactona química y enzimáticamente más estable."
        ],
        [
         "2",
         "3. Los β-bloqueantes fueron diseñados para actuar como antagonistas de los receptores β-1 del corazón. Estructuralmente son ariloxipropanolaminas y su selectividad cardiaca se consigue:",
         "1. Introduciendo un grupo pequeño (H, metilo) en el grupo amino.",
         "2. Introduciendo un grupo moderadamente voluminoso (isopropilo) en el grupo amino.",
         "3. Eliminando el grupo catecol y sustituyéndolo por un arilo más voluminoso.",
         "4. Epimerizando el grupo hidroxilo."
        ],
        [
         "3",
         "4. El sistema de quinolina forma parte de la estructura de muchos fármacos. Su síntesis se puede llevar a cabo mediante el método de Skraup, que implica hacer reaccionar derivados de:",
         "1. Anilina con ácido sulfúrico y glicerina en presencia de nitrobenceno.",
         "2. Piridina con malonato de dietilo en medio básico.",
         "3. Fenilpropilamina en condiciones de ciclación.",
         "4. Anilina con propanol en condiciones de sustitución nucleófila aromática."
        ],
        [
         "4",
         "5. ¿Cuál de los siguientes antagonistas de los canales NMDA del ácido glutámico es además un agente antiviral?:",
         "1. Ketamina.",
         "2. Amantadina.",
         "3. Ganciclovir.",
         "4. Dextrometorfano."
        ],
        [
         "5",
         "6. ¿Con qué nombre se describen los fármacos que mantienen la actividad opioide de la morfina y carecen del anillo de epóxido y del anillo C de esta?:",
         "1. Morfinanos.",
         "2. Fenilpiperidinas.",
         "3. Anilinopiperidinas.",
         "4. Benzomorfanos."
        ],
        [
         "6",
         "7. En el diseño de las estatinas, ¿qué fragmento de la estructura se considera esencial para realizar la actividad inhibidora del enzima HMG-CoA reductasa?:",
         "1. El fragmento de decalina.",
         "2. El fragmento de β-hidroxi-δ-lactona o su correspondiente dihidroxiácido.",
         "3. El anillo aromático halogenado.",
         "4. El grupo isopropilo."
        ],
        [
         "7",
         "8. ¿Cuál de las siguientes ecuaciones define al coeficiente de partición (P) de un fármaco, siendo [fármaco] la concentración de dicho fármaco en el disolvente indicado?:",
         "1. P = [fármaco]agua /[fármaco]octanol.",
         "2. P = Log[fármaco]agua.",
         "3. P = [fármaco]octanol /[fármaco]agua.",
         "4. P = Log[fármaco]octanol."
        ],
        [
         "8",
         "9. ¿Qué tipo de intermedio reactivo se forma en el metabolismo oxidativo de los anillos aromáticos y es responsable de su toxicidad?:",
         "1. Quinona.",
         "2. 1,2-Diol.",
         "3. Epóxido.",
         "4. Radical hidroxilo."
        ],
        [
         "9",
         "10. La metodología utilizada para preparar, en un proceso único y eficiente, una mezcla o colección de compuestos estructuralmente relacionados, se denomina:",
         "1. Química supramolecular.",
         "2. Química combinatoria.",
         "3. Química divergente.",
         "4. Química sostenible."
        ]
       ],
       "shape": {
        "columns": 5,
        "rows": 10
       }
      },
      "text/html": [
       "<div>\n",
       "<style scoped>\n",
       "    .dataframe tbody tr th:only-of-type {\n",
       "        vertical-align: middle;\n",
       "    }\n",
       "\n",
       "    .dataframe tbody tr th {\n",
       "        vertical-align: top;\n",
       "    }\n",
       "\n",
       "    .dataframe thead th {\n",
       "        text-align: right;\n",
       "    }\n",
       "</style>\n",
       "<table border=\"1\" class=\"dataframe\">\n",
       "  <thead>\n",
       "    <tr style=\"text-align: right;\">\n",
       "      <th></th>\n",
       "      <th>Question</th>\n",
       "      <th>Option_1</th>\n",
       "      <th>Option_2</th>\n",
       "      <th>Option_3</th>\n",
       "      <th>Option_4</th>\n",
       "    </tr>\n",
       "  </thead>\n",
       "  <tbody>\n",
       "    <tr>\n",
       "      <th>0</th>\n",
       "      <td>1. Saquinavir y ritonavir son fármacos utiliza...</td>\n",
       "      <td>1. Son peptidomiméticos diseñados para inhibir...</td>\n",
       "      <td>2. Son análogos de los ácidos nucleicos y actú...</td>\n",
       "      <td>3. Son peptidomiméticos diseñados para inhibir...</td>\n",
       "      <td>4. Son compuestos que contienen en su estructu...</td>\n",
       "    </tr>\n",
       "    <tr>\n",
       "      <th>1</th>\n",
       "      <td>2. Las penicilinas poseen una estructura bicíc...</td>\n",
       "      <td>1. Confiere una elevada tensión que dificulta ...</td>\n",
       "      <td>2. Mimetiza el enlace glicosídico entre Naceti...</td>\n",
       "      <td>3. Mimetiza el dímero de D-Ala-D-Ala presente ...</td>\n",
       "      <td>4. Puede ser modificado bioisostéricamente, su...</td>\n",
       "    </tr>\n",
       "    <tr>\n",
       "      <th>2</th>\n",
       "      <td>3. Los β-bloqueantes fueron diseñados para act...</td>\n",
       "      <td>1. Introduciendo un grupo pequeño (H, metilo) ...</td>\n",
       "      <td>2. Introduciendo un grupo moderadamente volumi...</td>\n",
       "      <td>3. Eliminando el grupo catecol y sustituyéndol...</td>\n",
       "      <td>4. Epimerizando el grupo hidroxilo.</td>\n",
       "    </tr>\n",
       "    <tr>\n",
       "      <th>3</th>\n",
       "      <td>4. El sistema de quinolina forma parte de la e...</td>\n",
       "      <td>1. Anilina con ácido sulfúrico y glicerina en ...</td>\n",
       "      <td>2. Piridina con malonato de dietilo en medio b...</td>\n",
       "      <td>3. Fenilpropilamina en condiciones de ciclación.</td>\n",
       "      <td>4. Anilina con propanol en condiciones de sust...</td>\n",
       "    </tr>\n",
       "    <tr>\n",
       "      <th>4</th>\n",
       "      <td>5. ¿Cuál de los siguientes antagonistas de los...</td>\n",
       "      <td>1. Ketamina.</td>\n",
       "      <td>2. Amantadina.</td>\n",
       "      <td>3. Ganciclovir.</td>\n",
       "      <td>4. Dextrometorfano.</td>\n",
       "    </tr>\n",
       "    <tr>\n",
       "      <th>5</th>\n",
       "      <td>6. ¿Con qué nombre se describen los fármacos q...</td>\n",
       "      <td>1. Morfinanos.</td>\n",
       "      <td>2. Fenilpiperidinas.</td>\n",
       "      <td>3. Anilinopiperidinas.</td>\n",
       "      <td>4. Benzomorfanos.</td>\n",
       "    </tr>\n",
       "    <tr>\n",
       "      <th>6</th>\n",
       "      <td>7. En el diseño de las estatinas, ¿qué fragmen...</td>\n",
       "      <td>1. El fragmento de decalina.</td>\n",
       "      <td>2. El fragmento de β-hidroxi-δ-lactona o su co...</td>\n",
       "      <td>3. El anillo aromático halogenado.</td>\n",
       "      <td>4. El grupo isopropilo.</td>\n",
       "    </tr>\n",
       "    <tr>\n",
       "      <th>7</th>\n",
       "      <td>8. ¿Cuál de las siguientes ecuaciones define a...</td>\n",
       "      <td>1. P = [fármaco]agua /[fármaco]octanol.</td>\n",
       "      <td>2. P = Log[fármaco]agua.</td>\n",
       "      <td>3. P = [fármaco]octanol /[fármaco]agua.</td>\n",
       "      <td>4. P = Log[fármaco]octanol.</td>\n",
       "    </tr>\n",
       "    <tr>\n",
       "      <th>8</th>\n",
       "      <td>9. ¿Qué tipo de intermedio reactivo se forma e...</td>\n",
       "      <td>1. Quinona.</td>\n",
       "      <td>2. 1,2-Diol.</td>\n",
       "      <td>3. Epóxido.</td>\n",
       "      <td>4. Radical hidroxilo.</td>\n",
       "    </tr>\n",
       "    <tr>\n",
       "      <th>9</th>\n",
       "      <td>10. La metodología utilizada para preparar, en...</td>\n",
       "      <td>1. Química supramolecular.</td>\n",
       "      <td>2. Química combinatoria.</td>\n",
       "      <td>3. Química divergente.</td>\n",
       "      <td>4. Química sostenible.</td>\n",
       "    </tr>\n",
       "  </tbody>\n",
       "</table>\n",
       "</div>"
      ],
      "text/plain": [
       "                                            Question  \\\n",
       "0  1. Saquinavir y ritonavir son fármacos utiliza...   \n",
       "1  2. Las penicilinas poseen una estructura bicíc...   \n",
       "2  3. Los β-bloqueantes fueron diseñados para act...   \n",
       "3  4. El sistema de quinolina forma parte de la e...   \n",
       "4  5. ¿Cuál de los siguientes antagonistas de los...   \n",
       "5  6. ¿Con qué nombre se describen los fármacos q...   \n",
       "6  7. En el diseño de las estatinas, ¿qué fragmen...   \n",
       "7  8. ¿Cuál de las siguientes ecuaciones define a...   \n",
       "8  9. ¿Qué tipo de intermedio reactivo se forma e...   \n",
       "9  10. La metodología utilizada para preparar, en...   \n",
       "\n",
       "                                            Option_1  \\\n",
       "0  1. Son peptidomiméticos diseñados para inhibir...   \n",
       "1  1. Confiere una elevada tensión que dificulta ...   \n",
       "2  1. Introduciendo un grupo pequeño (H, metilo) ...   \n",
       "3  1. Anilina con ácido sulfúrico y glicerina en ...   \n",
       "4                                       1. Ketamina.   \n",
       "5                                     1. Morfinanos.   \n",
       "6                       1. El fragmento de decalina.   \n",
       "7            1. P = [fármaco]agua /[fármaco]octanol.   \n",
       "8                                        1. Quinona.   \n",
       "9                         1. Química supramolecular.   \n",
       "\n",
       "                                            Option_2  \\\n",
       "0  2. Son análogos de los ácidos nucleicos y actú...   \n",
       "1  2. Mimetiza el enlace glicosídico entre Naceti...   \n",
       "2  2. Introduciendo un grupo moderadamente volumi...   \n",
       "3  2. Piridina con malonato de dietilo en medio b...   \n",
       "4                                     2. Amantadina.   \n",
       "5                               2. Fenilpiperidinas.   \n",
       "6  2. El fragmento de β-hidroxi-δ-lactona o su co...   \n",
       "7                           2. P = Log[fármaco]agua.   \n",
       "8                                       2. 1,2-Diol.   \n",
       "9                           2. Química combinatoria.   \n",
       "\n",
       "                                            Option_3  \\\n",
       "0  3. Son peptidomiméticos diseñados para inhibir...   \n",
       "1  3. Mimetiza el dímero de D-Ala-D-Ala presente ...   \n",
       "2  3. Eliminando el grupo catecol y sustituyéndol...   \n",
       "3   3. Fenilpropilamina en condiciones de ciclación.   \n",
       "4                                    3. Ganciclovir.   \n",
       "5                             3. Anilinopiperidinas.   \n",
       "6                 3. El anillo aromático halogenado.   \n",
       "7            3. P = [fármaco]octanol /[fármaco]agua.   \n",
       "8                                        3. Epóxido.   \n",
       "9                             3. Química divergente.   \n",
       "\n",
       "                                            Option_4  \n",
       "0  4. Son compuestos que contienen en su estructu...  \n",
       "1  4. Puede ser modificado bioisostéricamente, su...  \n",
       "2                4. Epimerizando el grupo hidroxilo.  \n",
       "3  4. Anilina con propanol en condiciones de sust...  \n",
       "4                                4. Dextrometorfano.  \n",
       "5                                  4. Benzomorfanos.  \n",
       "6                            4. El grupo isopropilo.  \n",
       "7                        4. P = Log[fármaco]octanol.  \n",
       "8                              4. Radical hidroxilo.  \n",
       "9                             4. Química sostenible.  "
      ]
     },
     "execution_count": 24,
     "metadata": {},
     "output_type": "execute_result"
    }
   ],
   "source": [
    "exam_df_pivot.head(10)"
   ]
  },
  {
   "cell_type": "markdown",
   "metadata": {},
   "source": [
    "## Answers tsv\n",
    "\n",
    "This section focuses on cleaning and consolidating the answer key data from the TSV file. The original data contains duplicate columns, which are processed and combined into a single, clean DataFrame.\n",
    "\n",
    "**1. Defining Column Lists:**\n",
    "\n",
    "We define lists containing the original column names and the duplicate column names."
   ]
  },
  {
   "cell_type": "code",
   "execution_count": 25,
   "metadata": {},
   "outputs": [],
   "source": [
    "original_col: list[str] = [\"V\", \"RC\"]\n",
    "duplicate_cols: list[str] = [\"V.1\", \"RC.1\", \"V.2\", \"RC.2\", \"V.3\", \"RC.3\", \"V.4\", \"RC.4\"]"
   ]
  },
  {
   "cell_type": "markdown",
   "metadata": {},
   "source": [
    "**2. Processing Duplicate Columns:**\n",
    "\n",
    "We iterate through the duplicate_cols list in pairs, extracting the corresponding columns, renaming them to the original column names, and appending them to a list of DataFrames."
   ]
  },
  {
   "cell_type": "code",
   "execution_count": 26,
   "metadata": {},
   "outputs": [],
   "source": [
    "answers_df_list: list[pd.DataFrame] = [raw_answers_df[original_col]]\n",
    "\n",
    "for i in range(0, len(duplicate_cols), 2):\n",
    "    pair_cols: list = duplicate_cols[i:i+2]\n",
    "    df_pair_col: pd.DataFrame = raw_answers_df[pair_cols].rename(columns={pair_cols[0]: \"V\", pair_cols[1]: \"RC\"})\n",
    "    answers_df_list.append(df_pair_col)"
   ]
  },
  {
   "cell_type": "markdown",
   "metadata": {},
   "source": [
    "**3. Concatenating DataFrames:**\n",
    "\n",
    "The list of DataFrames is concatenated into a single DataFrame, ignoring the original index."
   ]
  },
  {
   "cell_type": "code",
   "execution_count": 27,
   "metadata": {},
   "outputs": [],
   "source": [
    "answers_df_clean: pd.DataFrame = pd.concat(answers_df_list, ignore_index=True)"
   ]
  },
  {
   "cell_type": "markdown",
   "metadata": {},
   "source": [
    "**4. Displaying the Cleaned DataFrame:**\n",
    "\n",
    "The cleaned DataFrame is printed to verify the results of the consolidation process."
   ]
  },
  {
   "cell_type": "code",
   "execution_count": 28,
   "metadata": {},
   "outputs": [
    {
     "data": {
      "application/vnd.microsoft.datawrangler.viewer.v0+json": {
       "columns": [
        {
         "name": "index",
         "rawType": "int64",
         "type": "integer"
        },
        {
         "name": "V",
         "rawType": "int64",
         "type": "integer"
        },
        {
         "name": "RC",
         "rawType": "int64",
         "type": "integer"
        }
       ],
       "conversionMethod": "pd.DataFrame",
       "ref": "48100918-b281-4d99-a140-6382c8d61ace",
       "rows": [
        [
         "0",
         "1",
         "1"
        ],
        [
         "1",
         "2",
         "3"
        ],
        [
         "2",
         "3",
         "2"
        ],
        [
         "3",
         "4",
         "1"
        ],
        [
         "4",
         "5",
         "2"
        ],
        [
         "5",
         "6",
         "4"
        ],
        [
         "6",
         "7",
         "2"
        ],
        [
         "7",
         "8",
         "3"
        ],
        [
         "8",
         "9",
         "3"
        ],
        [
         "9",
         "10",
         "2"
        ]
       ],
       "shape": {
        "columns": 2,
        "rows": 10
       }
      },
      "text/html": [
       "<div>\n",
       "<style scoped>\n",
       "    .dataframe tbody tr th:only-of-type {\n",
       "        vertical-align: middle;\n",
       "    }\n",
       "\n",
       "    .dataframe tbody tr th {\n",
       "        vertical-align: top;\n",
       "    }\n",
       "\n",
       "    .dataframe thead th {\n",
       "        text-align: right;\n",
       "    }\n",
       "</style>\n",
       "<table border=\"1\" class=\"dataframe\">\n",
       "  <thead>\n",
       "    <tr style=\"text-align: right;\">\n",
       "      <th></th>\n",
       "      <th>V</th>\n",
       "      <th>RC</th>\n",
       "    </tr>\n",
       "  </thead>\n",
       "  <tbody>\n",
       "    <tr>\n",
       "      <th>0</th>\n",
       "      <td>1</td>\n",
       "      <td>1</td>\n",
       "    </tr>\n",
       "    <tr>\n",
       "      <th>1</th>\n",
       "      <td>2</td>\n",
       "      <td>3</td>\n",
       "    </tr>\n",
       "    <tr>\n",
       "      <th>2</th>\n",
       "      <td>3</td>\n",
       "      <td>2</td>\n",
       "    </tr>\n",
       "    <tr>\n",
       "      <th>3</th>\n",
       "      <td>4</td>\n",
       "      <td>1</td>\n",
       "    </tr>\n",
       "    <tr>\n",
       "      <th>4</th>\n",
       "      <td>5</td>\n",
       "      <td>2</td>\n",
       "    </tr>\n",
       "    <tr>\n",
       "      <th>5</th>\n",
       "      <td>6</td>\n",
       "      <td>4</td>\n",
       "    </tr>\n",
       "    <tr>\n",
       "      <th>6</th>\n",
       "      <td>7</td>\n",
       "      <td>2</td>\n",
       "    </tr>\n",
       "    <tr>\n",
       "      <th>7</th>\n",
       "      <td>8</td>\n",
       "      <td>3</td>\n",
       "    </tr>\n",
       "    <tr>\n",
       "      <th>8</th>\n",
       "      <td>9</td>\n",
       "      <td>3</td>\n",
       "    </tr>\n",
       "    <tr>\n",
       "      <th>9</th>\n",
       "      <td>10</td>\n",
       "      <td>2</td>\n",
       "    </tr>\n",
       "  </tbody>\n",
       "</table>\n",
       "</div>"
      ],
      "text/plain": [
       "    V  RC\n",
       "0   1   1\n",
       "1   2   3\n",
       "2   3   2\n",
       "3   4   1\n",
       "4   5   2\n",
       "5   6   4\n",
       "6   7   2\n",
       "7   8   3\n",
       "8   9   3\n",
       "9  10   2"
      ]
     },
     "execution_count": 28,
     "metadata": {},
     "output_type": "execute_result"
    }
   ],
   "source": [
    "answers_df_clean.head(10)"
   ]
  },
  {
   "cell_type": "markdown",
   "metadata": {},
   "source": [
    "## Joining the DataFrames\n",
    "\n",
    "This section focuses on merging the processed exam questions DataFrame with the cleaned answers DataFrame, performing final data cleaning, and verifying the integrity of the joined data.\n",
    "\n",
    "**1. Joining the DataFrames:**\n",
    "\n",
    "The pivoted exam questions DataFrame (`exam_df_pivot`) and the cleaned answers DataFrame (`answers_df_clean`) are joined horizontally using `pd.concat`. The 'V0' column, which represents the question number from the answers DataFrame, is then dropped. The first 10 rows of the joined DataFrame are displayed."
   ]
  },
  {
   "cell_type": "code",
   "execution_count": 29,
   "metadata": {},
   "outputs": [
    {
     "data": {
      "application/vnd.microsoft.datawrangler.viewer.v0+json": {
       "columns": [
        {
         "name": "index",
         "rawType": "int64",
         "type": "integer"
        },
        {
         "name": "Question",
         "rawType": "object",
         "type": "string"
        },
        {
         "name": "Option_1",
         "rawType": "object",
         "type": "string"
        },
        {
         "name": "Option_2",
         "rawType": "object",
         "type": "string"
        },
        {
         "name": "Option_3",
         "rawType": "object",
         "type": "string"
        },
        {
         "name": "Option_4",
         "rawType": "object",
         "type": "string"
        },
        {
         "name": "RC",
         "rawType": "int64",
         "type": "integer"
        }
       ],
       "conversionMethod": "pd.DataFrame",
       "ref": "95a56e7a-72cf-4b5d-b00d-1775aead674e",
       "rows": [
        [
         "0",
         "1. Saquinavir y ritonavir son fármacos utilizados en el tratamiento del SIDA que son además un ejemplo de diseño racional basado en la estructura. ¿Cuál de las siguientes afirmaciones describe correctamente a estos compuestos?:",
         "1. Son peptidomiméticos diseñados para inhibir la proteasa del VIH y actuar como análogos del estado de transición.",
         "2. Son análogos de los ácidos nucleicos y actúan como inhibidores competitivos de la transcriptasa inversa.",
         "3. Son peptidomiméticos diseñados para inhibir la integrasa del VIH y actuar como inhibidores reversibles.",
         "4. Son compuestos que contienen en su estructura un sistema de didesoxiribosa, diseñados para actuar como inhibidores de una proteasa del VIH.",
         "1"
        ],
        [
         "1",
         "2. Las penicilinas poseen una estructura bicíclica que contiene una β-lactama fundamental para su actividad antibacteriana. Este sistema bicíclico:",
         "1. Confiere una elevada tensión que dificulta su apertura por las β-lactamasas bacterianas, confiriéndole así resistencia a estas enzimas.",
         "2. Mimetiza el enlace glicosídico entre Nacetilmurámico y N-acetilglucosamina impidiendo así la síntesis del peptidoglicano presente en la pared celular bacteriana.",
         "3. Mimetiza el dímero de D-Ala-D-Ala presente en el peptidoglicano, inhibiendo irreversiblemente la transpeptidasa.",
         "4. Puede ser modificado bioisostéricamente, sustituyendo el nitrógeno por un oxígeno y dando lugar a una β-lactona química y enzimáticamente más estable.",
         "3"
        ],
        [
         "2",
         "3. Los β-bloqueantes fueron diseñados para actuar como antagonistas de los receptores β-1 del corazón. Estructuralmente son ariloxipropanolaminas y su selectividad cardiaca se consigue:",
         "1. Introduciendo un grupo pequeño (H, metilo) en el grupo amino.",
         "2. Introduciendo un grupo moderadamente voluminoso (isopropilo) en el grupo amino.",
         "3. Eliminando el grupo catecol y sustituyéndolo por un arilo más voluminoso.",
         "4. Epimerizando el grupo hidroxilo.",
         "2"
        ],
        [
         "3",
         "4. El sistema de quinolina forma parte de la estructura de muchos fármacos. Su síntesis se puede llevar a cabo mediante el método de Skraup, que implica hacer reaccionar derivados de:",
         "1. Anilina con ácido sulfúrico y glicerina en presencia de nitrobenceno.",
         "2. Piridina con malonato de dietilo en medio básico.",
         "3. Fenilpropilamina en condiciones de ciclación.",
         "4. Anilina con propanol en condiciones de sustitución nucleófila aromática.",
         "1"
        ],
        [
         "4",
         "5. ¿Cuál de los siguientes antagonistas de los canales NMDA del ácido glutámico es además un agente antiviral?:",
         "1. Ketamina.",
         "2. Amantadina.",
         "3. Ganciclovir.",
         "4. Dextrometorfano.",
         "2"
        ],
        [
         "5",
         "6. ¿Con qué nombre se describen los fármacos que mantienen la actividad opioide de la morfina y carecen del anillo de epóxido y del anillo C de esta?:",
         "1. Morfinanos.",
         "2. Fenilpiperidinas.",
         "3. Anilinopiperidinas.",
         "4. Benzomorfanos.",
         "4"
        ],
        [
         "6",
         "7. En el diseño de las estatinas, ¿qué fragmento de la estructura se considera esencial para realizar la actividad inhibidora del enzima HMG-CoA reductasa?:",
         "1. El fragmento de decalina.",
         "2. El fragmento de β-hidroxi-δ-lactona o su correspondiente dihidroxiácido.",
         "3. El anillo aromático halogenado.",
         "4. El grupo isopropilo.",
         "2"
        ],
        [
         "7",
         "8. ¿Cuál de las siguientes ecuaciones define al coeficiente de partición (P) de un fármaco, siendo [fármaco] la concentración de dicho fármaco en el disolvente indicado?:",
         "1. P = [fármaco]agua /[fármaco]octanol.",
         "2. P = Log[fármaco]agua.",
         "3. P = [fármaco]octanol /[fármaco]agua.",
         "4. P = Log[fármaco]octanol.",
         "3"
        ],
        [
         "8",
         "9. ¿Qué tipo de intermedio reactivo se forma en el metabolismo oxidativo de los anillos aromáticos y es responsable de su toxicidad?:",
         "1. Quinona.",
         "2. 1,2-Diol.",
         "3. Epóxido.",
         "4. Radical hidroxilo.",
         "3"
        ],
        [
         "9",
         "10. La metodología utilizada para preparar, en un proceso único y eficiente, una mezcla o colección de compuestos estructuralmente relacionados, se denomina:",
         "1. Química supramolecular.",
         "2. Química combinatoria.",
         "3. Química divergente.",
         "4. Química sostenible.",
         "2"
        ]
       ],
       "shape": {
        "columns": 6,
        "rows": 10
       }
      },
      "text/html": [
       "<div>\n",
       "<style scoped>\n",
       "    .dataframe tbody tr th:only-of-type {\n",
       "        vertical-align: middle;\n",
       "    }\n",
       "\n",
       "    .dataframe tbody tr th {\n",
       "        vertical-align: top;\n",
       "    }\n",
       "\n",
       "    .dataframe thead th {\n",
       "        text-align: right;\n",
       "    }\n",
       "</style>\n",
       "<table border=\"1\" class=\"dataframe\">\n",
       "  <thead>\n",
       "    <tr style=\"text-align: right;\">\n",
       "      <th></th>\n",
       "      <th>Question</th>\n",
       "      <th>Option_1</th>\n",
       "      <th>Option_2</th>\n",
       "      <th>Option_3</th>\n",
       "      <th>Option_4</th>\n",
       "      <th>RC</th>\n",
       "    </tr>\n",
       "  </thead>\n",
       "  <tbody>\n",
       "    <tr>\n",
       "      <th>0</th>\n",
       "      <td>1. Saquinavir y ritonavir son fármacos utiliza...</td>\n",
       "      <td>1. Son peptidomiméticos diseñados para inhibir...</td>\n",
       "      <td>2. Son análogos de los ácidos nucleicos y actú...</td>\n",
       "      <td>3. Son peptidomiméticos diseñados para inhibir...</td>\n",
       "      <td>4. Son compuestos que contienen en su estructu...</td>\n",
       "      <td>1</td>\n",
       "    </tr>\n",
       "    <tr>\n",
       "      <th>1</th>\n",
       "      <td>2. Las penicilinas poseen una estructura bicíc...</td>\n",
       "      <td>1. Confiere una elevada tensión que dificulta ...</td>\n",
       "      <td>2. Mimetiza el enlace glicosídico entre Naceti...</td>\n",
       "      <td>3. Mimetiza el dímero de D-Ala-D-Ala presente ...</td>\n",
       "      <td>4. Puede ser modificado bioisostéricamente, su...</td>\n",
       "      <td>3</td>\n",
       "    </tr>\n",
       "    <tr>\n",
       "      <th>2</th>\n",
       "      <td>3. Los β-bloqueantes fueron diseñados para act...</td>\n",
       "      <td>1. Introduciendo un grupo pequeño (H, metilo) ...</td>\n",
       "      <td>2. Introduciendo un grupo moderadamente volumi...</td>\n",
       "      <td>3. Eliminando el grupo catecol y sustituyéndol...</td>\n",
       "      <td>4. Epimerizando el grupo hidroxilo.</td>\n",
       "      <td>2</td>\n",
       "    </tr>\n",
       "    <tr>\n",
       "      <th>3</th>\n",
       "      <td>4. El sistema de quinolina forma parte de la e...</td>\n",
       "      <td>1. Anilina con ácido sulfúrico y glicerina en ...</td>\n",
       "      <td>2. Piridina con malonato de dietilo en medio b...</td>\n",
       "      <td>3. Fenilpropilamina en condiciones de ciclación.</td>\n",
       "      <td>4. Anilina con propanol en condiciones de sust...</td>\n",
       "      <td>1</td>\n",
       "    </tr>\n",
       "    <tr>\n",
       "      <th>4</th>\n",
       "      <td>5. ¿Cuál de los siguientes antagonistas de los...</td>\n",
       "      <td>1. Ketamina.</td>\n",
       "      <td>2. Amantadina.</td>\n",
       "      <td>3. Ganciclovir.</td>\n",
       "      <td>4. Dextrometorfano.</td>\n",
       "      <td>2</td>\n",
       "    </tr>\n",
       "    <tr>\n",
       "      <th>5</th>\n",
       "      <td>6. ¿Con qué nombre se describen los fármacos q...</td>\n",
       "      <td>1. Morfinanos.</td>\n",
       "      <td>2. Fenilpiperidinas.</td>\n",
       "      <td>3. Anilinopiperidinas.</td>\n",
       "      <td>4. Benzomorfanos.</td>\n",
       "      <td>4</td>\n",
       "    </tr>\n",
       "    <tr>\n",
       "      <th>6</th>\n",
       "      <td>7. En el diseño de las estatinas, ¿qué fragmen...</td>\n",
       "      <td>1. El fragmento de decalina.</td>\n",
       "      <td>2. El fragmento de β-hidroxi-δ-lactona o su co...</td>\n",
       "      <td>3. El anillo aromático halogenado.</td>\n",
       "      <td>4. El grupo isopropilo.</td>\n",
       "      <td>2</td>\n",
       "    </tr>\n",
       "    <tr>\n",
       "      <th>7</th>\n",
       "      <td>8. ¿Cuál de las siguientes ecuaciones define a...</td>\n",
       "      <td>1. P = [fármaco]agua /[fármaco]octanol.</td>\n",
       "      <td>2. P = Log[fármaco]agua.</td>\n",
       "      <td>3. P = [fármaco]octanol /[fármaco]agua.</td>\n",
       "      <td>4. P = Log[fármaco]octanol.</td>\n",
       "      <td>3</td>\n",
       "    </tr>\n",
       "    <tr>\n",
       "      <th>8</th>\n",
       "      <td>9. ¿Qué tipo de intermedio reactivo se forma e...</td>\n",
       "      <td>1. Quinona.</td>\n",
       "      <td>2. 1,2-Diol.</td>\n",
       "      <td>3. Epóxido.</td>\n",
       "      <td>4. Radical hidroxilo.</td>\n",
       "      <td>3</td>\n",
       "    </tr>\n",
       "    <tr>\n",
       "      <th>9</th>\n",
       "      <td>10. La metodología utilizada para preparar, en...</td>\n",
       "      <td>1. Química supramolecular.</td>\n",
       "      <td>2. Química combinatoria.</td>\n",
       "      <td>3. Química divergente.</td>\n",
       "      <td>4. Química sostenible.</td>\n",
       "      <td>2</td>\n",
       "    </tr>\n",
       "  </tbody>\n",
       "</table>\n",
       "</div>"
      ],
      "text/plain": [
       "                                            Question  \\\n",
       "0  1. Saquinavir y ritonavir son fármacos utiliza...   \n",
       "1  2. Las penicilinas poseen una estructura bicíc...   \n",
       "2  3. Los β-bloqueantes fueron diseñados para act...   \n",
       "3  4. El sistema de quinolina forma parte de la e...   \n",
       "4  5. ¿Cuál de los siguientes antagonistas de los...   \n",
       "5  6. ¿Con qué nombre se describen los fármacos q...   \n",
       "6  7. En el diseño de las estatinas, ¿qué fragmen...   \n",
       "7  8. ¿Cuál de las siguientes ecuaciones define a...   \n",
       "8  9. ¿Qué tipo de intermedio reactivo se forma e...   \n",
       "9  10. La metodología utilizada para preparar, en...   \n",
       "\n",
       "                                            Option_1  \\\n",
       "0  1. Son peptidomiméticos diseñados para inhibir...   \n",
       "1  1. Confiere una elevada tensión que dificulta ...   \n",
       "2  1. Introduciendo un grupo pequeño (H, metilo) ...   \n",
       "3  1. Anilina con ácido sulfúrico y glicerina en ...   \n",
       "4                                       1. Ketamina.   \n",
       "5                                     1. Morfinanos.   \n",
       "6                       1. El fragmento de decalina.   \n",
       "7            1. P = [fármaco]agua /[fármaco]octanol.   \n",
       "8                                        1. Quinona.   \n",
       "9                         1. Química supramolecular.   \n",
       "\n",
       "                                            Option_2  \\\n",
       "0  2. Son análogos de los ácidos nucleicos y actú...   \n",
       "1  2. Mimetiza el enlace glicosídico entre Naceti...   \n",
       "2  2. Introduciendo un grupo moderadamente volumi...   \n",
       "3  2. Piridina con malonato de dietilo en medio b...   \n",
       "4                                     2. Amantadina.   \n",
       "5                               2. Fenilpiperidinas.   \n",
       "6  2. El fragmento de β-hidroxi-δ-lactona o su co...   \n",
       "7                           2. P = Log[fármaco]agua.   \n",
       "8                                       2. 1,2-Diol.   \n",
       "9                           2. Química combinatoria.   \n",
       "\n",
       "                                            Option_3  \\\n",
       "0  3. Son peptidomiméticos diseñados para inhibir...   \n",
       "1  3. Mimetiza el dímero de D-Ala-D-Ala presente ...   \n",
       "2  3. Eliminando el grupo catecol y sustituyéndol...   \n",
       "3   3. Fenilpropilamina en condiciones de ciclación.   \n",
       "4                                    3. Ganciclovir.   \n",
       "5                             3. Anilinopiperidinas.   \n",
       "6                 3. El anillo aromático halogenado.   \n",
       "7            3. P = [fármaco]octanol /[fármaco]agua.   \n",
       "8                                        3. Epóxido.   \n",
       "9                             3. Química divergente.   \n",
       "\n",
       "                                            Option_4  RC  \n",
       "0  4. Son compuestos que contienen en su estructu...   1  \n",
       "1  4. Puede ser modificado bioisostéricamente, su...   3  \n",
       "2                4. Epimerizando el grupo hidroxilo.   2  \n",
       "3  4. Anilina con propanol en condiciones de sust...   1  \n",
       "4                                4. Dextrometorfano.   2  \n",
       "5                                  4. Benzomorfanos.   4  \n",
       "6                            4. El grupo isopropilo.   2  \n",
       "7                        4. P = Log[fármaco]octanol.   3  \n",
       "8                              4. Radical hidroxilo.   3  \n",
       "9                             4. Química sostenible.   2  "
      ]
     },
     "execution_count": 29,
     "metadata": {},
     "output_type": "execute_result"
    }
   ],
   "source": [
    "processed_exam_df: pd.DataFrame = pd.concat([exam_df_pivot, answers_df_clean], axis=1)\n",
    "processed_exam_df = processed_exam_df.drop(columns=[\"V\"])\n",
    "processed_exam_df.head(10)"
   ]
  },
  {
   "cell_type": "markdown",
   "metadata": {},
   "source": [
    "**2. Identifying and Handling Missing Values:**\n",
    "\n",
    "Missing values are then replaced with 0."
   ]
  },
  {
   "cell_type": "code",
   "execution_count": 30,
   "metadata": {},
   "outputs": [],
   "source": [
    "processed_exam_df = processed_exam_df.fillna(0)"
   ]
  },
  {
   "cell_type": "markdown",
   "metadata": {},
   "source": [
    "**3. Verifying Missing Values and Data Types:**\n",
    "\n",
    "The number of missing values in each column is checked, and the data types of the columns are displayed. The 'RC' (correct answer) column is then converted to integer type."
   ]
  },
  {
   "cell_type": "code",
   "execution_count": 31,
   "metadata": {},
   "outputs": [
    {
     "data": {
      "text/plain": [
       "Question    object\n",
       "Option_1    object\n",
       "Option_2    object\n",
       "Option_3    object\n",
       "Option_4    object\n",
       "RC           int32\n",
       "dtype: object"
      ]
     },
     "execution_count": 31,
     "metadata": {},
     "output_type": "execute_result"
    }
   ],
   "source": [
    "processed_exam_df.isnull().sum()\n",
    "processed_exam_df[\"RC\"] = processed_exam_df[\"RC\"].astype(int)\n",
    "processed_exam_df.dtypes"
   ]
  },
  {
   "cell_type": "markdown",
   "metadata": {},
   "source": [
    "**4. Adding year column**\n",
    "\n",
    "A column containing the year of the exam is added to the DataFrame."
   ]
  },
  {
   "cell_type": "code",
   "execution_count": 32,
   "metadata": {},
   "outputs": [],
   "source": [
    "processed_exam_df[\"year\"] = year"
   ]
  },
  {
   "cell_type": "markdown",
   "metadata": {},
   "source": [
    "**5. Displaying the Final DataFrame:**\n",
    "\n",
    "The first 10 rows of the final joined and cleaned DataFrame are displayed."
   ]
  },
  {
   "cell_type": "code",
   "execution_count": 33,
   "metadata": {},
   "outputs": [
    {
     "data": {
      "application/vnd.microsoft.datawrangler.viewer.v0+json": {
       "columns": [
        {
         "name": "index",
         "rawType": "int64",
         "type": "integer"
        },
        {
         "name": "Question",
         "rawType": "object",
         "type": "string"
        },
        {
         "name": "Option_1",
         "rawType": "object",
         "type": "string"
        },
        {
         "name": "Option_2",
         "rawType": "object",
         "type": "string"
        },
        {
         "name": "Option_3",
         "rawType": "object",
         "type": "string"
        },
        {
         "name": "Option_4",
         "rawType": "object",
         "type": "string"
        },
        {
         "name": "RC",
         "rawType": "int32",
         "type": "integer"
        },
        {
         "name": "year",
         "rawType": "int64",
         "type": "integer"
        }
       ],
       "conversionMethod": "pd.DataFrame",
       "ref": "283f8695-4bb2-47d2-970c-1618e3f5f79d",
       "rows": [
        [
         "0",
         "1. Saquinavir y ritonavir son fármacos utilizados en el tratamiento del SIDA que son además un ejemplo de diseño racional basado en la estructura. ¿Cuál de las siguientes afirmaciones describe correctamente a estos compuestos?:",
         "1. Son peptidomiméticos diseñados para inhibir la proteasa del VIH y actuar como análogos del estado de transición.",
         "2. Son análogos de los ácidos nucleicos y actúan como inhibidores competitivos de la transcriptasa inversa.",
         "3. Son peptidomiméticos diseñados para inhibir la integrasa del VIH y actuar como inhibidores reversibles.",
         "4. Son compuestos que contienen en su estructura un sistema de didesoxiribosa, diseñados para actuar como inhibidores de una proteasa del VIH.",
         "1",
         "2022"
        ],
        [
         "1",
         "2. Las penicilinas poseen una estructura bicíclica que contiene una β-lactama fundamental para su actividad antibacteriana. Este sistema bicíclico:",
         "1. Confiere una elevada tensión que dificulta su apertura por las β-lactamasas bacterianas, confiriéndole así resistencia a estas enzimas.",
         "2. Mimetiza el enlace glicosídico entre Nacetilmurámico y N-acetilglucosamina impidiendo así la síntesis del peptidoglicano presente en la pared celular bacteriana.",
         "3. Mimetiza el dímero de D-Ala-D-Ala presente en el peptidoglicano, inhibiendo irreversiblemente la transpeptidasa.",
         "4. Puede ser modificado bioisostéricamente, sustituyendo el nitrógeno por un oxígeno y dando lugar a una β-lactona química y enzimáticamente más estable.",
         "3",
         "2022"
        ],
        [
         "2",
         "3. Los β-bloqueantes fueron diseñados para actuar como antagonistas de los receptores β-1 del corazón. Estructuralmente son ariloxipropanolaminas y su selectividad cardiaca se consigue:",
         "1. Introduciendo un grupo pequeño (H, metilo) en el grupo amino.",
         "2. Introduciendo un grupo moderadamente voluminoso (isopropilo) en el grupo amino.",
         "3. Eliminando el grupo catecol y sustituyéndolo por un arilo más voluminoso.",
         "4. Epimerizando el grupo hidroxilo.",
         "2",
         "2022"
        ],
        [
         "3",
         "4. El sistema de quinolina forma parte de la estructura de muchos fármacos. Su síntesis se puede llevar a cabo mediante el método de Skraup, que implica hacer reaccionar derivados de:",
         "1. Anilina con ácido sulfúrico y glicerina en presencia de nitrobenceno.",
         "2. Piridina con malonato de dietilo en medio básico.",
         "3. Fenilpropilamina en condiciones de ciclación.",
         "4. Anilina con propanol en condiciones de sustitución nucleófila aromática.",
         "1",
         "2022"
        ],
        [
         "4",
         "5. ¿Cuál de los siguientes antagonistas de los canales NMDA del ácido glutámico es además un agente antiviral?:",
         "1. Ketamina.",
         "2. Amantadina.",
         "3. Ganciclovir.",
         "4. Dextrometorfano.",
         "2",
         "2022"
        ],
        [
         "5",
         "6. ¿Con qué nombre se describen los fármacos que mantienen la actividad opioide de la morfina y carecen del anillo de epóxido y del anillo C de esta?:",
         "1. Morfinanos.",
         "2. Fenilpiperidinas.",
         "3. Anilinopiperidinas.",
         "4. Benzomorfanos.",
         "4",
         "2022"
        ],
        [
         "6",
         "7. En el diseño de las estatinas, ¿qué fragmento de la estructura se considera esencial para realizar la actividad inhibidora del enzima HMG-CoA reductasa?:",
         "1. El fragmento de decalina.",
         "2. El fragmento de β-hidroxi-δ-lactona o su correspondiente dihidroxiácido.",
         "3. El anillo aromático halogenado.",
         "4. El grupo isopropilo.",
         "2",
         "2022"
        ],
        [
         "7",
         "8. ¿Cuál de las siguientes ecuaciones define al coeficiente de partición (P) de un fármaco, siendo [fármaco] la concentración de dicho fármaco en el disolvente indicado?:",
         "1. P = [fármaco]agua /[fármaco]octanol.",
         "2. P = Log[fármaco]agua.",
         "3. P = [fármaco]octanol /[fármaco]agua.",
         "4. P = Log[fármaco]octanol.",
         "3",
         "2022"
        ],
        [
         "8",
         "9. ¿Qué tipo de intermedio reactivo se forma en el metabolismo oxidativo de los anillos aromáticos y es responsable de su toxicidad?:",
         "1. Quinona.",
         "2. 1,2-Diol.",
         "3. Epóxido.",
         "4. Radical hidroxilo.",
         "3",
         "2022"
        ],
        [
         "9",
         "10. La metodología utilizada para preparar, en un proceso único y eficiente, una mezcla o colección de compuestos estructuralmente relacionados, se denomina:",
         "1. Química supramolecular.",
         "2. Química combinatoria.",
         "3. Química divergente.",
         "4. Química sostenible.",
         "2",
         "2022"
        ]
       ],
       "shape": {
        "columns": 7,
        "rows": 10
       }
      },
      "text/html": [
       "<div>\n",
       "<style scoped>\n",
       "    .dataframe tbody tr th:only-of-type {\n",
       "        vertical-align: middle;\n",
       "    }\n",
       "\n",
       "    .dataframe tbody tr th {\n",
       "        vertical-align: top;\n",
       "    }\n",
       "\n",
       "    .dataframe thead th {\n",
       "        text-align: right;\n",
       "    }\n",
       "</style>\n",
       "<table border=\"1\" class=\"dataframe\">\n",
       "  <thead>\n",
       "    <tr style=\"text-align: right;\">\n",
       "      <th></th>\n",
       "      <th>Question</th>\n",
       "      <th>Option_1</th>\n",
       "      <th>Option_2</th>\n",
       "      <th>Option_3</th>\n",
       "      <th>Option_4</th>\n",
       "      <th>RC</th>\n",
       "      <th>year</th>\n",
       "    </tr>\n",
       "  </thead>\n",
       "  <tbody>\n",
       "    <tr>\n",
       "      <th>0</th>\n",
       "      <td>1. Saquinavir y ritonavir son fármacos utiliza...</td>\n",
       "      <td>1. Son peptidomiméticos diseñados para inhibir...</td>\n",
       "      <td>2. Son análogos de los ácidos nucleicos y actú...</td>\n",
       "      <td>3. Son peptidomiméticos diseñados para inhibir...</td>\n",
       "      <td>4. Son compuestos que contienen en su estructu...</td>\n",
       "      <td>1</td>\n",
       "      <td>2022</td>\n",
       "    </tr>\n",
       "    <tr>\n",
       "      <th>1</th>\n",
       "      <td>2. Las penicilinas poseen una estructura bicíc...</td>\n",
       "      <td>1. Confiere una elevada tensión que dificulta ...</td>\n",
       "      <td>2. Mimetiza el enlace glicosídico entre Naceti...</td>\n",
       "      <td>3. Mimetiza el dímero de D-Ala-D-Ala presente ...</td>\n",
       "      <td>4. Puede ser modificado bioisostéricamente, su...</td>\n",
       "      <td>3</td>\n",
       "      <td>2022</td>\n",
       "    </tr>\n",
       "    <tr>\n",
       "      <th>2</th>\n",
       "      <td>3. Los β-bloqueantes fueron diseñados para act...</td>\n",
       "      <td>1. Introduciendo un grupo pequeño (H, metilo) ...</td>\n",
       "      <td>2. Introduciendo un grupo moderadamente volumi...</td>\n",
       "      <td>3. Eliminando el grupo catecol y sustituyéndol...</td>\n",
       "      <td>4. Epimerizando el grupo hidroxilo.</td>\n",
       "      <td>2</td>\n",
       "      <td>2022</td>\n",
       "    </tr>\n",
       "    <tr>\n",
       "      <th>3</th>\n",
       "      <td>4. El sistema de quinolina forma parte de la e...</td>\n",
       "      <td>1. Anilina con ácido sulfúrico y glicerina en ...</td>\n",
       "      <td>2. Piridina con malonato de dietilo en medio b...</td>\n",
       "      <td>3. Fenilpropilamina en condiciones de ciclación.</td>\n",
       "      <td>4. Anilina con propanol en condiciones de sust...</td>\n",
       "      <td>1</td>\n",
       "      <td>2022</td>\n",
       "    </tr>\n",
       "    <tr>\n",
       "      <th>4</th>\n",
       "      <td>5. ¿Cuál de los siguientes antagonistas de los...</td>\n",
       "      <td>1. Ketamina.</td>\n",
       "      <td>2. Amantadina.</td>\n",
       "      <td>3. Ganciclovir.</td>\n",
       "      <td>4. Dextrometorfano.</td>\n",
       "      <td>2</td>\n",
       "      <td>2022</td>\n",
       "    </tr>\n",
       "    <tr>\n",
       "      <th>5</th>\n",
       "      <td>6. ¿Con qué nombre se describen los fármacos q...</td>\n",
       "      <td>1. Morfinanos.</td>\n",
       "      <td>2. Fenilpiperidinas.</td>\n",
       "      <td>3. Anilinopiperidinas.</td>\n",
       "      <td>4. Benzomorfanos.</td>\n",
       "      <td>4</td>\n",
       "      <td>2022</td>\n",
       "    </tr>\n",
       "    <tr>\n",
       "      <th>6</th>\n",
       "      <td>7. En el diseño de las estatinas, ¿qué fragmen...</td>\n",
       "      <td>1. El fragmento de decalina.</td>\n",
       "      <td>2. El fragmento de β-hidroxi-δ-lactona o su co...</td>\n",
       "      <td>3. El anillo aromático halogenado.</td>\n",
       "      <td>4. El grupo isopropilo.</td>\n",
       "      <td>2</td>\n",
       "      <td>2022</td>\n",
       "    </tr>\n",
       "    <tr>\n",
       "      <th>7</th>\n",
       "      <td>8. ¿Cuál de las siguientes ecuaciones define a...</td>\n",
       "      <td>1. P = [fármaco]agua /[fármaco]octanol.</td>\n",
       "      <td>2. P = Log[fármaco]agua.</td>\n",
       "      <td>3. P = [fármaco]octanol /[fármaco]agua.</td>\n",
       "      <td>4. P = Log[fármaco]octanol.</td>\n",
       "      <td>3</td>\n",
       "      <td>2022</td>\n",
       "    </tr>\n",
       "    <tr>\n",
       "      <th>8</th>\n",
       "      <td>9. ¿Qué tipo de intermedio reactivo se forma e...</td>\n",
       "      <td>1. Quinona.</td>\n",
       "      <td>2. 1,2-Diol.</td>\n",
       "      <td>3. Epóxido.</td>\n",
       "      <td>4. Radical hidroxilo.</td>\n",
       "      <td>3</td>\n",
       "      <td>2022</td>\n",
       "    </tr>\n",
       "    <tr>\n",
       "      <th>9</th>\n",
       "      <td>10. La metodología utilizada para preparar, en...</td>\n",
       "      <td>1. Química supramolecular.</td>\n",
       "      <td>2. Química combinatoria.</td>\n",
       "      <td>3. Química divergente.</td>\n",
       "      <td>4. Química sostenible.</td>\n",
       "      <td>2</td>\n",
       "      <td>2022</td>\n",
       "    </tr>\n",
       "  </tbody>\n",
       "</table>\n",
       "</div>"
      ],
      "text/plain": [
       "                                            Question  \\\n",
       "0  1. Saquinavir y ritonavir son fármacos utiliza...   \n",
       "1  2. Las penicilinas poseen una estructura bicíc...   \n",
       "2  3. Los β-bloqueantes fueron diseñados para act...   \n",
       "3  4. El sistema de quinolina forma parte de la e...   \n",
       "4  5. ¿Cuál de los siguientes antagonistas de los...   \n",
       "5  6. ¿Con qué nombre se describen los fármacos q...   \n",
       "6  7. En el diseño de las estatinas, ¿qué fragmen...   \n",
       "7  8. ¿Cuál de las siguientes ecuaciones define a...   \n",
       "8  9. ¿Qué tipo de intermedio reactivo se forma e...   \n",
       "9  10. La metodología utilizada para preparar, en...   \n",
       "\n",
       "                                            Option_1  \\\n",
       "0  1. Son peptidomiméticos diseñados para inhibir...   \n",
       "1  1. Confiere una elevada tensión que dificulta ...   \n",
       "2  1. Introduciendo un grupo pequeño (H, metilo) ...   \n",
       "3  1. Anilina con ácido sulfúrico y glicerina en ...   \n",
       "4                                       1. Ketamina.   \n",
       "5                                     1. Morfinanos.   \n",
       "6                       1. El fragmento de decalina.   \n",
       "7            1. P = [fármaco]agua /[fármaco]octanol.   \n",
       "8                                        1. Quinona.   \n",
       "9                         1. Química supramolecular.   \n",
       "\n",
       "                                            Option_2  \\\n",
       "0  2. Son análogos de los ácidos nucleicos y actú...   \n",
       "1  2. Mimetiza el enlace glicosídico entre Naceti...   \n",
       "2  2. Introduciendo un grupo moderadamente volumi...   \n",
       "3  2. Piridina con malonato de dietilo en medio b...   \n",
       "4                                     2. Amantadina.   \n",
       "5                               2. Fenilpiperidinas.   \n",
       "6  2. El fragmento de β-hidroxi-δ-lactona o su co...   \n",
       "7                           2. P = Log[fármaco]agua.   \n",
       "8                                       2. 1,2-Diol.   \n",
       "9                           2. Química combinatoria.   \n",
       "\n",
       "                                            Option_3  \\\n",
       "0  3. Son peptidomiméticos diseñados para inhibir...   \n",
       "1  3. Mimetiza el dímero de D-Ala-D-Ala presente ...   \n",
       "2  3. Eliminando el grupo catecol y sustituyéndol...   \n",
       "3   3. Fenilpropilamina en condiciones de ciclación.   \n",
       "4                                    3. Ganciclovir.   \n",
       "5                             3. Anilinopiperidinas.   \n",
       "6                 3. El anillo aromático halogenado.   \n",
       "7            3. P = [fármaco]octanol /[fármaco]agua.   \n",
       "8                                        3. Epóxido.   \n",
       "9                             3. Química divergente.   \n",
       "\n",
       "                                            Option_4  RC  year  \n",
       "0  4. Son compuestos que contienen en su estructu...   1  2022  \n",
       "1  4. Puede ser modificado bioisostéricamente, su...   3  2022  \n",
       "2                4. Epimerizando el grupo hidroxilo.   2  2022  \n",
       "3  4. Anilina con propanol en condiciones de sust...   1  2022  \n",
       "4                                4. Dextrometorfano.   2  2022  \n",
       "5                                  4. Benzomorfanos.   4  2022  \n",
       "6                            4. El grupo isopropilo.   2  2022  \n",
       "7                        4. P = Log[fármaco]octanol.   3  2022  \n",
       "8                              4. Radical hidroxilo.   3  2022  \n",
       "9                             4. Química sostenible.   2  2022  "
      ]
     },
     "execution_count": 33,
     "metadata": {},
     "output_type": "execute_result"
    }
   ],
   "source": [
    "processed_exam_df.head(10)"
   ]
  },
  {
   "cell_type": "markdown",
   "metadata": {},
   "source": [
    "### Filtering by relevant questions\n",
    "\n",
    "**1. Filtering for id**\n",
    "\n",
    "A list of the number of question is used to filter the DataFrame, but first doing a -1 so it matches with the id. \n",
    "\n",
    "Finally the indexes are reseted"
   ]
  },
  {
   "cell_type": "code",
   "execution_count": 34,
   "metadata": {},
   "outputs": [
    {
     "name": "stdout",
     "output_type": "stream",
     "text": [
      "Expected number of rows = 108\n",
      "Number of rows in filtered df = 108\n"
     ]
    }
   ],
   "source": [
    "id_filter = [x-1 for x in add_list]\n",
    "processed_exam_df_filtered = processed_exam_df.iloc[id_filter]\n",
    "processed_exam_df_filtered = processed_exam_df_filtered.reset_index(drop= True)\n",
    "print(f\"Expected number of rows = {len(id_filter)}\\nNumber of rows in filtered df = {processed_exam_df_filtered.shape[0]}\")"
   ]
  },
  {
   "cell_type": "markdown",
   "metadata": {},
   "source": [
    "**2. Showing the filtered DataFrame**\n",
    "\n",
    "Using head and tail"
   ]
  },
  {
   "cell_type": "code",
   "execution_count": 35,
   "metadata": {},
   "outputs": [
    {
     "data": {
      "application/vnd.microsoft.datawrangler.viewer.v0+json": {
       "columns": [
        {
         "name": "index",
         "rawType": "int64",
         "type": "integer"
        },
        {
         "name": "Question",
         "rawType": "object",
         "type": "string"
        },
        {
         "name": "Option_1",
         "rawType": "object",
         "type": "string"
        },
        {
         "name": "Option_2",
         "rawType": "object",
         "type": "string"
        },
        {
         "name": "Option_3",
         "rawType": "object",
         "type": "string"
        },
        {
         "name": "Option_4",
         "rawType": "object",
         "type": "string"
        },
        {
         "name": "RC",
         "rawType": "int32",
         "type": "integer"
        },
        {
         "name": "year",
         "rawType": "int64",
         "type": "integer"
        }
       ],
       "conversionMethod": "pd.DataFrame",
       "ref": "6bc297d5-97a1-41b7-bafd-f56863161664",
       "rows": [
        [
         "0",
         "19. ¿Cuál es la respuesta correcta respecto al microorganismo Hafnia alvei?:",
         "1. Es una enterobacteria.",
         "2. Es un bacilo gramnegativo no fermentador.",
         "3. Es una espiroqueta.",
         "4. Es una bacteria intracelular.",
         "1",
         "2022"
        ],
        [
         "1",
         "20. ¿Cuál es la respuesta INCORRECTA respecto al virus de la parotiditis?:",
         "1. Pertenece a la familia Paramyxoviridae.",
         "2. El único hospedador es el ser humano.",
         "3. Puede producir epidídimo-orquitis.",
         "4. Es un virus ARN monocatenario con simetría icosaédrica.",
         "4",
         "2022"
        ],
        [
         "2",
         "21. ¿Cuál de las siguientes respuestas es correcta respecto al virus SARS-CoV-2?:",
         "1. Es un virus ARN bicatenario de simetría helicoidal.",
         "2. Reconoce el receptor humano ACE2 (enzima convertidora de angiotensina 2).",
         "3. El gen estructural S es idéntico al del virus SARS-CoV-1.",
         "4. Pertenece a la familia Orthomyxoviridae.",
         "2",
         "2022"
        ],
        [
         "3",
         "22. ¿Por qué es difícil el aislamiento microbiológico de Francisella tularensis?:",
         "1. Solo crece en anaerobiosis tras una incubación prolongada.",
         "2. Necesita medios de cultivo enriquecidos con cisteína y una incubación prolongada.",
         "3. Necesita medios de cultivo enriquecidos con carbón vegetal y una incubación prolongada.",
         "4. Necesita sistemas de cultivo celulares y una incubación prolongada.",
         "2",
         "2022"
        ],
        [
         "4",
         "23. ¿Cuál de las siguientes afirmaciones es INCORRECTA respecto al género Bartonella?:",
         "1. Son pequeños cocobacilos o bacilos gramnegativos con requerimientos de crecimiento exigentes.",
         "2. Bartonella bacilliformis es responsable de la enfermedad de Carrión.",
         "3. Bartonella quintana se transmite de persona a persona a través de los piojos.",
         "4. Bartonella henselae s e  t r a n s m i t e  a  t r a v é s  d e las moscas de la arena.",
         "4",
         "2022"
        ],
        [
         "5",
         "24. Señale cuál de las siguientes afirmaciones sobre Campylobacter jejuni es INCORRECTA:",
         "1. Es un bacilo gramnegativo curvo.",
         "2. Gran parte de las infecciones que produce están relacionadas con el consumo de pollo.",
         "3. Para su aislamiento a partir de heces se requiere la incubación con atmósfera de microaerofilia.",
         "4. Es resistente a los macrólidos.",
         "4",
         "2022"
        ],
        [
         "6",
         "25. ¿Cuál de los siguientes microorganismos es grampositivo?:",
         "1. Listeria monocytogenes.",
         "2. Bordetella pertussis.",
         "3. Francisella tularensis.",
         "4. Helicobacter pylori.",
         "1",
         "2022"
        ],
        [
         "7",
         "26. Señale la respuesta correcta sobre el género Mycobacterium:",
         "1. Mycobacterium chelonae es una micobacteria de crecimiento lento.",
         "2. Mycobacterium kansasii es una micobacteria no cromógena.",
         "3. Mycobacterium tuberculosis  da positiva la prueba de niacina.",
         "4. Mycobacterium bovis  es sensible a pirazinamida.",
         "3",
         "2022"
        ],
        [
         "8",
         "27. Las micosis sistémica s endémicas son aquellas causadas por:",
         "1. Dermatofitos.",
         "2. Hongos dimórficos.",
         "3. Mucorales.",
         "4. Hongos hialinos.",
         "2",
         "2022"
        ],
        [
         "9",
         "28. Señale cuál de los siguientes microorganismos presenta resistencia int rínseca de bajo nivel a vancomicina:",
         "1. Enterococcus casseliflavus.",
         "2. Abiotrophia defectiva.",
         "3. Streptococcus gallolyticus.",
         "4. Gemella haemolysans.",
         "1",
         "2022"
        ]
       ],
       "shape": {
        "columns": 7,
        "rows": 10
       }
      },
      "text/html": [
       "<div>\n",
       "<style scoped>\n",
       "    .dataframe tbody tr th:only-of-type {\n",
       "        vertical-align: middle;\n",
       "    }\n",
       "\n",
       "    .dataframe tbody tr th {\n",
       "        vertical-align: top;\n",
       "    }\n",
       "\n",
       "    .dataframe thead th {\n",
       "        text-align: right;\n",
       "    }\n",
       "</style>\n",
       "<table border=\"1\" class=\"dataframe\">\n",
       "  <thead>\n",
       "    <tr style=\"text-align: right;\">\n",
       "      <th></th>\n",
       "      <th>Question</th>\n",
       "      <th>Option_1</th>\n",
       "      <th>Option_2</th>\n",
       "      <th>Option_3</th>\n",
       "      <th>Option_4</th>\n",
       "      <th>RC</th>\n",
       "      <th>year</th>\n",
       "    </tr>\n",
       "  </thead>\n",
       "  <tbody>\n",
       "    <tr>\n",
       "      <th>0</th>\n",
       "      <td>19. ¿Cuál es la respuesta correcta respecto al...</td>\n",
       "      <td>1. Es una enterobacteria.</td>\n",
       "      <td>2. Es un bacilo gramnegativo no fermentador.</td>\n",
       "      <td>3. Es una espiroqueta.</td>\n",
       "      <td>4. Es una bacteria intracelular.</td>\n",
       "      <td>1</td>\n",
       "      <td>2022</td>\n",
       "    </tr>\n",
       "    <tr>\n",
       "      <th>1</th>\n",
       "      <td>20. ¿Cuál es la respuesta INCORRECTA respecto ...</td>\n",
       "      <td>1. Pertenece a la familia Paramyxoviridae.</td>\n",
       "      <td>2. El único hospedador es el ser humano.</td>\n",
       "      <td>3. Puede producir epidídimo-orquitis.</td>\n",
       "      <td>4. Es un virus ARN monocatenario con simetría ...</td>\n",
       "      <td>4</td>\n",
       "      <td>2022</td>\n",
       "    </tr>\n",
       "    <tr>\n",
       "      <th>2</th>\n",
       "      <td>21. ¿Cuál de las siguientes respuestas es corr...</td>\n",
       "      <td>1. Es un virus ARN bicatenario de simetría hel...</td>\n",
       "      <td>2. Reconoce el receptor humano ACE2 (enzima co...</td>\n",
       "      <td>3. El gen estructural S es idéntico al del vir...</td>\n",
       "      <td>4. Pertenece a la familia Orthomyxoviridae.</td>\n",
       "      <td>2</td>\n",
       "      <td>2022</td>\n",
       "    </tr>\n",
       "    <tr>\n",
       "      <th>3</th>\n",
       "      <td>22. ¿Por qué es difícil el aislamiento microbi...</td>\n",
       "      <td>1. Solo crece en anaerobiosis tras una incubac...</td>\n",
       "      <td>2. Necesita medios de cultivo enriquecidos con...</td>\n",
       "      <td>3. Necesita medios de cultivo enriquecidos con...</td>\n",
       "      <td>4. Necesita sistemas de cultivo celulares y un...</td>\n",
       "      <td>2</td>\n",
       "      <td>2022</td>\n",
       "    </tr>\n",
       "    <tr>\n",
       "      <th>4</th>\n",
       "      <td>23. ¿Cuál de las siguientes afirmaciones es IN...</td>\n",
       "      <td>1. Son pequeños cocobacilos o bacilos gramnega...</td>\n",
       "      <td>2. Bartonella bacilliformis es responsable de ...</td>\n",
       "      <td>3. Bartonella quintana se transmite de persona...</td>\n",
       "      <td>4. Bartonella henselae s e  t r a n s m i t e ...</td>\n",
       "      <td>4</td>\n",
       "      <td>2022</td>\n",
       "    </tr>\n",
       "    <tr>\n",
       "      <th>5</th>\n",
       "      <td>24. Señale cuál de las siguientes afirmaciones...</td>\n",
       "      <td>1. Es un bacilo gramnegativo curvo.</td>\n",
       "      <td>2. Gran parte de las infecciones que produce e...</td>\n",
       "      <td>3. Para su aislamiento a partir de heces se re...</td>\n",
       "      <td>4. Es resistente a los macrólidos.</td>\n",
       "      <td>4</td>\n",
       "      <td>2022</td>\n",
       "    </tr>\n",
       "    <tr>\n",
       "      <th>6</th>\n",
       "      <td>25. ¿Cuál de los siguientes microorganismos es...</td>\n",
       "      <td>1. Listeria monocytogenes.</td>\n",
       "      <td>2. Bordetella pertussis.</td>\n",
       "      <td>3. Francisella tularensis.</td>\n",
       "      <td>4. Helicobacter pylori.</td>\n",
       "      <td>1</td>\n",
       "      <td>2022</td>\n",
       "    </tr>\n",
       "    <tr>\n",
       "      <th>7</th>\n",
       "      <td>26. Señale la respuesta correcta sobre el géne...</td>\n",
       "      <td>1. Mycobacterium chelonae es una micobacteria ...</td>\n",
       "      <td>2. Mycobacterium kansasii es una micobacteria ...</td>\n",
       "      <td>3. Mycobacterium tuberculosis  da positiva la ...</td>\n",
       "      <td>4. Mycobacterium bovis  es sensible a pirazina...</td>\n",
       "      <td>3</td>\n",
       "      <td>2022</td>\n",
       "    </tr>\n",
       "    <tr>\n",
       "      <th>8</th>\n",
       "      <td>27. Las micosis sistémica s endémicas son aque...</td>\n",
       "      <td>1. Dermatofitos.</td>\n",
       "      <td>2. Hongos dimórficos.</td>\n",
       "      <td>3. Mucorales.</td>\n",
       "      <td>4. Hongos hialinos.</td>\n",
       "      <td>2</td>\n",
       "      <td>2022</td>\n",
       "    </tr>\n",
       "    <tr>\n",
       "      <th>9</th>\n",
       "      <td>28. Señale cuál de los siguientes microorganis...</td>\n",
       "      <td>1. Enterococcus casseliflavus.</td>\n",
       "      <td>2. Abiotrophia defectiva.</td>\n",
       "      <td>3. Streptococcus gallolyticus.</td>\n",
       "      <td>4. Gemella haemolysans.</td>\n",
       "      <td>1</td>\n",
       "      <td>2022</td>\n",
       "    </tr>\n",
       "  </tbody>\n",
       "</table>\n",
       "</div>"
      ],
      "text/plain": [
       "                                            Question  \\\n",
       "0  19. ¿Cuál es la respuesta correcta respecto al...   \n",
       "1  20. ¿Cuál es la respuesta INCORRECTA respecto ...   \n",
       "2  21. ¿Cuál de las siguientes respuestas es corr...   \n",
       "3  22. ¿Por qué es difícil el aislamiento microbi...   \n",
       "4  23. ¿Cuál de las siguientes afirmaciones es IN...   \n",
       "5  24. Señale cuál de las siguientes afirmaciones...   \n",
       "6  25. ¿Cuál de los siguientes microorganismos es...   \n",
       "7  26. Señale la respuesta correcta sobre el géne...   \n",
       "8  27. Las micosis sistémica s endémicas son aque...   \n",
       "9  28. Señale cuál de los siguientes microorganis...   \n",
       "\n",
       "                                            Option_1  \\\n",
       "0                          1. Es una enterobacteria.   \n",
       "1         1. Pertenece a la familia Paramyxoviridae.   \n",
       "2  1. Es un virus ARN bicatenario de simetría hel...   \n",
       "3  1. Solo crece en anaerobiosis tras una incubac...   \n",
       "4  1. Son pequeños cocobacilos o bacilos gramnega...   \n",
       "5                1. Es un bacilo gramnegativo curvo.   \n",
       "6                         1. Listeria monocytogenes.   \n",
       "7  1. Mycobacterium chelonae es una micobacteria ...   \n",
       "8                                   1. Dermatofitos.   \n",
       "9                     1. Enterococcus casseliflavus.   \n",
       "\n",
       "                                            Option_2  \\\n",
       "0       2. Es un bacilo gramnegativo no fermentador.   \n",
       "1           2. El único hospedador es el ser humano.   \n",
       "2  2. Reconoce el receptor humano ACE2 (enzima co...   \n",
       "3  2. Necesita medios de cultivo enriquecidos con...   \n",
       "4  2. Bartonella bacilliformis es responsable de ...   \n",
       "5  2. Gran parte de las infecciones que produce e...   \n",
       "6                           2. Bordetella pertussis.   \n",
       "7  2. Mycobacterium kansasii es una micobacteria ...   \n",
       "8                              2. Hongos dimórficos.   \n",
       "9                          2. Abiotrophia defectiva.   \n",
       "\n",
       "                                            Option_3  \\\n",
       "0                             3. Es una espiroqueta.   \n",
       "1              3. Puede producir epidídimo-orquitis.   \n",
       "2  3. El gen estructural S es idéntico al del vir...   \n",
       "3  3. Necesita medios de cultivo enriquecidos con...   \n",
       "4  3. Bartonella quintana se transmite de persona...   \n",
       "5  3. Para su aislamiento a partir de heces se re...   \n",
       "6                         3. Francisella tularensis.   \n",
       "7  3. Mycobacterium tuberculosis  da positiva la ...   \n",
       "8                                      3. Mucorales.   \n",
       "9                     3. Streptococcus gallolyticus.   \n",
       "\n",
       "                                            Option_4  RC  year  \n",
       "0                   4. Es una bacteria intracelular.   1  2022  \n",
       "1  4. Es un virus ARN monocatenario con simetría ...   4  2022  \n",
       "2        4. Pertenece a la familia Orthomyxoviridae.   2  2022  \n",
       "3  4. Necesita sistemas de cultivo celulares y un...   2  2022  \n",
       "4  4. Bartonella henselae s e  t r a n s m i t e ...   4  2022  \n",
       "5                 4. Es resistente a los macrólidos.   4  2022  \n",
       "6                            4. Helicobacter pylori.   1  2022  \n",
       "7  4. Mycobacterium bovis  es sensible a pirazina...   3  2022  \n",
       "8                                4. Hongos hialinos.   2  2022  \n",
       "9                            4. Gemella haemolysans.   1  2022  "
      ]
     },
     "execution_count": 35,
     "metadata": {},
     "output_type": "execute_result"
    }
   ],
   "source": [
    "processed_exam_df_filtered.head(10)"
   ]
  },
  {
   "cell_type": "code",
   "execution_count": 36,
   "metadata": {},
   "outputs": [
    {
     "data": {
      "application/vnd.microsoft.datawrangler.viewer.v0+json": {
       "columns": [
        {
         "name": "index",
         "rawType": "int64",
         "type": "integer"
        },
        {
         "name": "Question",
         "rawType": "object",
         "type": "string"
        },
        {
         "name": "Option_1",
         "rawType": "object",
         "type": "string"
        },
        {
         "name": "Option_2",
         "rawType": "object",
         "type": "string"
        },
        {
         "name": "Option_3",
         "rawType": "object",
         "type": "string"
        },
        {
         "name": "Option_4",
         "rawType": "object",
         "type": "string"
        },
        {
         "name": "RC",
         "rawType": "int32",
         "type": "integer"
        },
        {
         "name": "year",
         "rawType": "int64",
         "type": "integer"
        }
       ],
       "conversionMethod": "pd.DataFrame",
       "ref": "48d81667-6723-49dc-980f-4819549ba650",
       "rows": [
        [
         "98",
         "196. La reacción en el centro germinal es una parte importante del desarrollo  dependiente de antígeno de los linfocitos B. ¿Mediante cuáles de los mecanismos siguientes se produce?:",
         "1. La expansión clonal, la proliferación, el cambio de clase de inmunoglobulina y la exclusión alélica.",
         "2. La hipermutación somática, la edición del TCR, el cambio de isotipo y la diferenciación.",
         "3. La expansión clonal, el cambio de isotipo, la hipermutación somática y la diferenciación.",
         "4. La hipermutación somática, el reordenamiento del segmento variable del BCR y la activación de los linfocitos B.",
         "3",
         "2022"
        ],
        [
         "99",
         "197. La activación de las células B para producir anticuerpos de alta afi nidad requiere la unión del antígeno por el receptor de célula B (BCR):",
         "1. Como contacto directo con una célula T cooperadora CD8+ activada en el timo.",
         "2. Como contacto directo con una célula T cooperadora CD4+ activada en el timo.",
         "3. Como contacto directo con una célula T cooperadora CD4+ activada en el ganglio linfático.",
         "4. Como contacto directo con una célula T cooperadora CD8+ activada en el ganglio linfático.",
         "3",
         "2022"
        ],
        [
         "100",
         "198. ¿Cuál de las siguientes moléculas participa en la señalización y activación de los linfocitos T, constituyendo la segunda señal de activación?:",
         "1. CD3.",
         "2. CD4 y CD8.",
         "3. CD5.",
         "4. CD28.",
         "4",
         "2022"
        ],
        [
         "101",
         "199. Indique cuál de las siguientes afirmaciones sobre las inmunodeficiencias (IDs) es INCORRECTA:",
         "1. Las IDs que afectan a los mecanismos de fagocitosis van asociadas de forma frecuente a infecciones por bacterias extracelulares.",
         "2. Las IDs de proteínas del sistema del complemento provocan una mayor incidencia de infecciones víricas.",
         "3. La severidad de las IDs causadas por linfocitos B depende del isotipo de Ig afectado.",
         "4. Las IDs primarias son congénitas y las secundarias son inducidas por agentes externos.",
         "2",
         "2022"
        ],
        [
         "102",
         "202. ¿Cuál de los siguientes microorganismos se transmite por mordedura de rata?:",
         "1. Streptobacillus moniliformis.",
         "2. Bartonella bacilliformis.",
         "3. Rickettsia typhi.",
         "4. Coxiella burnetti.",
         "1",
         "2022"
        ],
        [
         "103",
         "204. ¿Cuál de los siguientes antivíricos está indicado solo en profilaxis de la reactivación del citomegalovirus (CMV) y no en el tratamiento de la enfermedad causada por este virus en pacientes receptores de un trasplante?:",
         "1. Foscarnet.",
         "2. Letermovir.",
         "3. Cidofovir.",
         "4. Valganciclovir.",
         "2",
         "2022"
        ],
        [
         "104",
         "205. Señale la opción correc ta en relación a los fosfoglicéridos:",
         "1. El factor activador de plaquetas pertenece a esta clase.",
         "2. Son lípidos insaponificables si tienen carga neta neutra, y saponificables si negativa.",
         "3. El fosfatidilinositol, que se encuentra libre en el citoplasma celular, es un importante precursor de segundos mensajeros intracelulares.",
         "4. La cardiolipina es el principal componente de la membrana plasmática del músculo cardiaco estriado.",
         "1",
         "2022"
        ],
        [
         "105",
         "206. ¿Cuál de los siguientes antibióticos es inactivado por el surfactante pulmonar?:",
         "1. Ceftriaxona.",
         "2. Levofloxacino.",
         "3. Linezolid.",
         "4. Daptomicina.",
         "4",
         "2022"
        ],
        [
         "106",
         "208. Los llamados inhibidores mixtos son un tipo de inhibidores enzimáticos. Con respecto a estos:",
         "1. Se denominan así en referencia a que pueden unirse al mismo sitio que el sustrato o a otro diferente.",
         "2. Afectan a la Km aparente, pero no a la velocidad máxima (Vmax).",
         "3. En la práctica, sólo se observan en enzimas con un único sustrato.",
         "4. Pueden provocar un aumento o disminución de la Km aparente según sea la forma del enzima a la que más fuertemente se une el inhibidor.",
         "4",
         "2022"
        ],
        [
         "107",
         "210. En un método analítico, la concordancia entre el valor medido y el valor real se relaciona con la siguiente propiedad analítica:",
         "1. La selectividad.",
         "2. La precisión.",
         "3. La exactitud.",
         "4. La sensibilidad.",
         "3",
         "2022"
        ]
       ],
       "shape": {
        "columns": 7,
        "rows": 10
       }
      },
      "text/html": [
       "<div>\n",
       "<style scoped>\n",
       "    .dataframe tbody tr th:only-of-type {\n",
       "        vertical-align: middle;\n",
       "    }\n",
       "\n",
       "    .dataframe tbody tr th {\n",
       "        vertical-align: top;\n",
       "    }\n",
       "\n",
       "    .dataframe thead th {\n",
       "        text-align: right;\n",
       "    }\n",
       "</style>\n",
       "<table border=\"1\" class=\"dataframe\">\n",
       "  <thead>\n",
       "    <tr style=\"text-align: right;\">\n",
       "      <th></th>\n",
       "      <th>Question</th>\n",
       "      <th>Option_1</th>\n",
       "      <th>Option_2</th>\n",
       "      <th>Option_3</th>\n",
       "      <th>Option_4</th>\n",
       "      <th>RC</th>\n",
       "      <th>year</th>\n",
       "    </tr>\n",
       "  </thead>\n",
       "  <tbody>\n",
       "    <tr>\n",
       "      <th>98</th>\n",
       "      <td>196. La reacción en el centro germinal es una ...</td>\n",
       "      <td>1. La expansión clonal, la proliferación, el c...</td>\n",
       "      <td>2. La hipermutación somática, la edición del T...</td>\n",
       "      <td>3. La expansión clonal, el cambio de isotipo, ...</td>\n",
       "      <td>4. La hipermutación somática, el reordenamient...</td>\n",
       "      <td>3</td>\n",
       "      <td>2022</td>\n",
       "    </tr>\n",
       "    <tr>\n",
       "      <th>99</th>\n",
       "      <td>197. La activación de las células B para produ...</td>\n",
       "      <td>1. Como contacto directo con una célula T coop...</td>\n",
       "      <td>2. Como contacto directo con una célula T coop...</td>\n",
       "      <td>3. Como contacto directo con una célula T coop...</td>\n",
       "      <td>4. Como contacto directo con una célula T coop...</td>\n",
       "      <td>3</td>\n",
       "      <td>2022</td>\n",
       "    </tr>\n",
       "    <tr>\n",
       "      <th>100</th>\n",
       "      <td>198. ¿Cuál de las siguientes moléculas partici...</td>\n",
       "      <td>1. CD3.</td>\n",
       "      <td>2. CD4 y CD8.</td>\n",
       "      <td>3. CD5.</td>\n",
       "      <td>4. CD28.</td>\n",
       "      <td>4</td>\n",
       "      <td>2022</td>\n",
       "    </tr>\n",
       "    <tr>\n",
       "      <th>101</th>\n",
       "      <td>199. Indique cuál de las siguientes afirmacion...</td>\n",
       "      <td>1. Las IDs que afectan a los mecanismos de fag...</td>\n",
       "      <td>2. Las IDs de proteínas del sistema del comple...</td>\n",
       "      <td>3. La severidad de las IDs causadas por linfoc...</td>\n",
       "      <td>4. Las IDs primarias son congénitas y las secu...</td>\n",
       "      <td>2</td>\n",
       "      <td>2022</td>\n",
       "    </tr>\n",
       "    <tr>\n",
       "      <th>102</th>\n",
       "      <td>202. ¿Cuál de los siguientes microorganismos s...</td>\n",
       "      <td>1. Streptobacillus moniliformis.</td>\n",
       "      <td>2. Bartonella bacilliformis.</td>\n",
       "      <td>3. Rickettsia typhi.</td>\n",
       "      <td>4. Coxiella burnetti.</td>\n",
       "      <td>1</td>\n",
       "      <td>2022</td>\n",
       "    </tr>\n",
       "    <tr>\n",
       "      <th>103</th>\n",
       "      <td>204. ¿Cuál de los siguientes antivíricos está ...</td>\n",
       "      <td>1. Foscarnet.</td>\n",
       "      <td>2. Letermovir.</td>\n",
       "      <td>3. Cidofovir.</td>\n",
       "      <td>4. Valganciclovir.</td>\n",
       "      <td>2</td>\n",
       "      <td>2022</td>\n",
       "    </tr>\n",
       "    <tr>\n",
       "      <th>104</th>\n",
       "      <td>205. Señale la opción correc ta en relación a ...</td>\n",
       "      <td>1. El factor activador de plaquetas pertenece ...</td>\n",
       "      <td>2. Son lípidos insaponificables si tienen carg...</td>\n",
       "      <td>3. El fosfatidilinositol, que se encuentra lib...</td>\n",
       "      <td>4. La cardiolipina es el principal componente ...</td>\n",
       "      <td>1</td>\n",
       "      <td>2022</td>\n",
       "    </tr>\n",
       "    <tr>\n",
       "      <th>105</th>\n",
       "      <td>206. ¿Cuál de los siguientes antibióticos es i...</td>\n",
       "      <td>1. Ceftriaxona.</td>\n",
       "      <td>2. Levofloxacino.</td>\n",
       "      <td>3. Linezolid.</td>\n",
       "      <td>4. Daptomicina.</td>\n",
       "      <td>4</td>\n",
       "      <td>2022</td>\n",
       "    </tr>\n",
       "    <tr>\n",
       "      <th>106</th>\n",
       "      <td>208. Los llamados inhibidores mixtos son un ti...</td>\n",
       "      <td>1. Se denominan así en referencia a que pueden...</td>\n",
       "      <td>2. Afectan a la Km aparente, pero no a la velo...</td>\n",
       "      <td>3. En la práctica, sólo se observan en enzimas...</td>\n",
       "      <td>4. Pueden provocar un aumento o disminución de...</td>\n",
       "      <td>4</td>\n",
       "      <td>2022</td>\n",
       "    </tr>\n",
       "    <tr>\n",
       "      <th>107</th>\n",
       "      <td>210. En un método analítico, la concordancia e...</td>\n",
       "      <td>1. La selectividad.</td>\n",
       "      <td>2. La precisión.</td>\n",
       "      <td>3. La exactitud.</td>\n",
       "      <td>4. La sensibilidad.</td>\n",
       "      <td>3</td>\n",
       "      <td>2022</td>\n",
       "    </tr>\n",
       "  </tbody>\n",
       "</table>\n",
       "</div>"
      ],
      "text/plain": [
       "                                              Question  \\\n",
       "98   196. La reacción en el centro germinal es una ...   \n",
       "99   197. La activación de las células B para produ...   \n",
       "100  198. ¿Cuál de las siguientes moléculas partici...   \n",
       "101  199. Indique cuál de las siguientes afirmacion...   \n",
       "102  202. ¿Cuál de los siguientes microorganismos s...   \n",
       "103  204. ¿Cuál de los siguientes antivíricos está ...   \n",
       "104  205. Señale la opción correc ta en relación a ...   \n",
       "105  206. ¿Cuál de los siguientes antibióticos es i...   \n",
       "106  208. Los llamados inhibidores mixtos son un ti...   \n",
       "107  210. En un método analítico, la concordancia e...   \n",
       "\n",
       "                                              Option_1  \\\n",
       "98   1. La expansión clonal, la proliferación, el c...   \n",
       "99   1. Como contacto directo con una célula T coop...   \n",
       "100                                            1. CD3.   \n",
       "101  1. Las IDs que afectan a los mecanismos de fag...   \n",
       "102                   1. Streptobacillus moniliformis.   \n",
       "103                                      1. Foscarnet.   \n",
       "104  1. El factor activador de plaquetas pertenece ...   \n",
       "105                                    1. Ceftriaxona.   \n",
       "106  1. Se denominan así en referencia a que pueden...   \n",
       "107                                1. La selectividad.   \n",
       "\n",
       "                                              Option_2  \\\n",
       "98   2. La hipermutación somática, la edición del T...   \n",
       "99   2. Como contacto directo con una célula T coop...   \n",
       "100                                      2. CD4 y CD8.   \n",
       "101  2. Las IDs de proteínas del sistema del comple...   \n",
       "102                       2. Bartonella bacilliformis.   \n",
       "103                                     2. Letermovir.   \n",
       "104  2. Son lípidos insaponificables si tienen carg...   \n",
       "105                                  2. Levofloxacino.   \n",
       "106  2. Afectan a la Km aparente, pero no a la velo...   \n",
       "107                                   2. La precisión.   \n",
       "\n",
       "                                              Option_3  \\\n",
       "98   3. La expansión clonal, el cambio de isotipo, ...   \n",
       "99   3. Como contacto directo con una célula T coop...   \n",
       "100                                            3. CD5.   \n",
       "101  3. La severidad de las IDs causadas por linfoc...   \n",
       "102                               3. Rickettsia typhi.   \n",
       "103                                      3. Cidofovir.   \n",
       "104  3. El fosfatidilinositol, que se encuentra lib...   \n",
       "105                                      3. Linezolid.   \n",
       "106  3. En la práctica, sólo se observan en enzimas...   \n",
       "107                                   3. La exactitud.   \n",
       "\n",
       "                                              Option_4  RC  year  \n",
       "98   4. La hipermutación somática, el reordenamient...   3  2022  \n",
       "99   4. Como contacto directo con una célula T coop...   3  2022  \n",
       "100                                           4. CD28.   4  2022  \n",
       "101  4. Las IDs primarias son congénitas y las secu...   2  2022  \n",
       "102                              4. Coxiella burnetti.   1  2022  \n",
       "103                                 4. Valganciclovir.   2  2022  \n",
       "104  4. La cardiolipina es el principal componente ...   1  2022  \n",
       "105                                    4. Daptomicina.   4  2022  \n",
       "106  4. Pueden provocar un aumento o disminución de...   4  2022  \n",
       "107                                4. La sensibilidad.   3  2022  "
      ]
     },
     "execution_count": 36,
     "metadata": {},
     "output_type": "execute_result"
    }
   ],
   "source": [
    "processed_exam_df_filtered.tail(10)"
   ]
  },
  {
   "cell_type": "markdown",
   "metadata": {},
   "source": [
    "# Data Loading"
   ]
  },
  {
   "cell_type": "markdown",
   "metadata": {},
   "source": [
    "## Saving in csv file\n",
    "\n",
    "The `processed_exam_df_filtered` DataFrame, containing the cleaned and transformed exam data, is saved to a CSV file with the name generatd in the first step in the \"data\" directory. The `index=False` argument ensures that the DataFrame index is not written to the file, resulting in a cleaner output. This CSV file can be used for further analysis or as input for other applications."
   ]
  },
  {
   "cell_type": "code",
   "execution_count": 37,
   "metadata": {},
   "outputs": [],
   "source": [
    "processed_exam_df_filtered.to_csv(save_format, index= False)"
   ]
  },
  {
   "cell_type": "markdown",
   "metadata": {},
   "source": [
    "## Writing into data warehouse\n",
    "\n",
    "This section details the process of loading the cleaned and transformed exam data into an SQLite database, serving as a data warehouse for further analysis and querying.\n",
    "\n",
    "**1. Database Connection and Path:**\n",
    "\n",
    "The path to the SQLite database file is defined, and a connection is established using the `sqlite3` library."
   ]
  },
  {
   "cell_type": "code",
   "execution_count": 5,
   "metadata": {},
   "outputs": [],
   "source": [
    "db_path: str = \"../data/clean/bir_warehouse.db\""
   ]
  },
  {
   "cell_type": "markdown",
   "metadata": {},
   "source": [
    "**2. SQL Queries Definition:**\n",
    "\n",
    "Two SQL queries are defined: one for inserting questions into the questions table and another for inserting options into the questions_options table."
   ]
  },
  {
   "cell_type": "code",
   "execution_count": 6,
   "metadata": {},
   "outputs": [],
   "source": [
    "query_question: str = \"\"\"\n",
    "INSERT INTO questions (exam_year, exam_subject, question) \n",
    "VALUES((SELECT id_year FROM year WHERE year_name = ?),\n",
    "    (SELECT id_type FROM exam WHERE exam_type = ?),\n",
    "    ?);\n",
    "\"\"\"\n",
    "\n",
    "query_options: str = \"\"\"\n",
    "INSERT INTO questions_options (question_id, option_num, option_text, is_correct)\n",
    "VALUES((SELECT q.id \n",
    "        FROM questions AS q\n",
    "        JOIN year AS y ON q.exam_year = y.id_year\n",
    "        WHERE q.question = ? AND y.year_name = ?),\n",
    "    ?,\n",
    "    ?,\n",
    "    ?)\n",
    "\"\"\""
   ]
  },
  {
   "cell_type": "markdown",
   "metadata": {},
   "source": [
    "**3. Database Interaction and Data Insertion:**\n",
    "\n",
    "A with statement is used to establish a connection to the SQLite database, ensuring that the connection is properly closed after use. A cursor is created, and the processed_exam_df DataFrame is iterated over to insert each question and its options\n",
    "\n",
    "Some spacing issues were fixed manually in the csv file, so the DataFrame will be loadaded from the csv file"
   ]
  },
  {
   "cell_type": "code",
   "execution_count": 7,
   "metadata": {},
   "outputs": [
    {
     "data": {
      "application/vnd.microsoft.datawrangler.viewer.v0+json": {
       "columns": [
        {
         "name": "index",
         "rawType": "int64",
         "type": "integer"
        },
        {
         "name": "Question",
         "rawType": "object",
         "type": "string"
        },
        {
         "name": "Option_1",
         "rawType": "object",
         "type": "string"
        },
        {
         "name": "Option_2",
         "rawType": "object",
         "type": "string"
        },
        {
         "name": "Option_3",
         "rawType": "object",
         "type": "string"
        },
        {
         "name": "Option_4",
         "rawType": "object",
         "type": "string"
        },
        {
         "name": "RC",
         "rawType": "int64",
         "type": "integer"
        },
        {
         "name": "year",
         "rawType": "int64",
         "type": "integer"
        }
       ],
       "conversionMethod": "pd.DataFrame",
       "ref": "281b8944-974f-44f7-84f9-c43bfe9cbc50",
       "rows": [
        [
         "0",
         "19. ¿Cuál es la respuesta correcta respecto al microorganismo Hafnia alvei?:",
         "1. Es una enterobacteria.",
         "2. Es un bacilo gramnegativo no fermentador.",
         "3. Es una espiroqueta.",
         "4. Es una bacteria intracelular.",
         "1",
         "2022"
        ],
        [
         "1",
         "20. ¿Cuál es la respuesta INCORRECTA respecto al virus de la parotiditis?:",
         "1. Pertenece a la familia Paramyxoviridae.",
         "2. El único hospedador es el ser humano.",
         "3. Puede producir epidídimo-orquitis.",
         "4. Es un virus ARN monocatenario con simetría icosaédrica.",
         "4",
         "2022"
        ],
        [
         "2",
         "21. ¿Cuál de las siguientes respuestas es correcta respecto al virus SARS-CoV-2?:",
         "1. Es un virus ARN bicatenario de simetría helicoidal.",
         "2. Reconoce el receptor humano ACE2 (enzima convertidora de angiotensina 2).",
         "3. El gen estructural S es idéntico al del virus SARS-CoV-1.",
         "4. Pertenece a la familia Orthomyxoviridae.",
         "2",
         "2022"
        ],
        [
         "3",
         "22. ¿Por qué es difícil el aislamiento microbiológico de Francisella tularensis?:",
         "1. Solo crece en anaerobiosis tras una incubación prolongada.",
         "2. Necesita medios de cultivo enriquecidos con cisteína y una incubación prolongada.",
         "3. Necesita medios de cultivo enriquecidos con carbón vegetal y una incubación prolongada.",
         "4. Necesita sistemas de cultivo celulares y una incubación prolongada.",
         "2",
         "2022"
        ],
        [
         "4",
         "23. ¿Cuál de las siguientes afirmaciones es INCORRECTA respecto al género Bartonella?:",
         "1. Son pequeños cocobacilos o bacilos gramnegativos con requerimientos de crecimiento exigentes.",
         "2. Bartonella bacilliformis es responsable de la enfermedad de Carrión.",
         "3. Bartonella quintana se transmite de persona a persona a través de los piojos.",
         "4. Bartonella henselae se transmite a través de las moscas de la arena.",
         "4",
         "2022"
        ]
       ],
       "shape": {
        "columns": 7,
        "rows": 5
       }
      },
      "text/html": [
       "<div>\n",
       "<style scoped>\n",
       "    .dataframe tbody tr th:only-of-type {\n",
       "        vertical-align: middle;\n",
       "    }\n",
       "\n",
       "    .dataframe tbody tr th {\n",
       "        vertical-align: top;\n",
       "    }\n",
       "\n",
       "    .dataframe thead th {\n",
       "        text-align: right;\n",
       "    }\n",
       "</style>\n",
       "<table border=\"1\" class=\"dataframe\">\n",
       "  <thead>\n",
       "    <tr style=\"text-align: right;\">\n",
       "      <th></th>\n",
       "      <th>Question</th>\n",
       "      <th>Option_1</th>\n",
       "      <th>Option_2</th>\n",
       "      <th>Option_3</th>\n",
       "      <th>Option_4</th>\n",
       "      <th>RC</th>\n",
       "      <th>year</th>\n",
       "    </tr>\n",
       "  </thead>\n",
       "  <tbody>\n",
       "    <tr>\n",
       "      <th>0</th>\n",
       "      <td>19. ¿Cuál es la respuesta correcta respecto al...</td>\n",
       "      <td>1. Es una enterobacteria.</td>\n",
       "      <td>2. Es un bacilo gramnegativo no fermentador.</td>\n",
       "      <td>3. Es una espiroqueta.</td>\n",
       "      <td>4. Es una bacteria intracelular.</td>\n",
       "      <td>1</td>\n",
       "      <td>2022</td>\n",
       "    </tr>\n",
       "    <tr>\n",
       "      <th>1</th>\n",
       "      <td>20. ¿Cuál es la respuesta INCORRECTA respecto ...</td>\n",
       "      <td>1. Pertenece a la familia Paramyxoviridae.</td>\n",
       "      <td>2. El único hospedador es el ser humano.</td>\n",
       "      <td>3. Puede producir epidídimo-orquitis.</td>\n",
       "      <td>4. Es un virus ARN monocatenario con simetría ...</td>\n",
       "      <td>4</td>\n",
       "      <td>2022</td>\n",
       "    </tr>\n",
       "    <tr>\n",
       "      <th>2</th>\n",
       "      <td>21. ¿Cuál de las siguientes respuestas es corr...</td>\n",
       "      <td>1. Es un virus ARN bicatenario de simetría hel...</td>\n",
       "      <td>2. Reconoce el receptor humano ACE2 (enzima co...</td>\n",
       "      <td>3. El gen estructural S es idéntico al del vir...</td>\n",
       "      <td>4. Pertenece a la familia Orthomyxoviridae.</td>\n",
       "      <td>2</td>\n",
       "      <td>2022</td>\n",
       "    </tr>\n",
       "    <tr>\n",
       "      <th>3</th>\n",
       "      <td>22. ¿Por qué es difícil el aislamiento microbi...</td>\n",
       "      <td>1. Solo crece en anaerobiosis tras una incubac...</td>\n",
       "      <td>2. Necesita medios de cultivo enriquecidos con...</td>\n",
       "      <td>3. Necesita medios de cultivo enriquecidos con...</td>\n",
       "      <td>4. Necesita sistemas de cultivo celulares y un...</td>\n",
       "      <td>2</td>\n",
       "      <td>2022</td>\n",
       "    </tr>\n",
       "    <tr>\n",
       "      <th>4</th>\n",
       "      <td>23. ¿Cuál de las siguientes afirmaciones es IN...</td>\n",
       "      <td>1. Son pequeños cocobacilos o bacilos gramnega...</td>\n",
       "      <td>2. Bartonella bacilliformis es responsable de ...</td>\n",
       "      <td>3. Bartonella quintana se transmite de persona...</td>\n",
       "      <td>4. Bartonella henselae se transmite a través d...</td>\n",
       "      <td>4</td>\n",
       "      <td>2022</td>\n",
       "    </tr>\n",
       "  </tbody>\n",
       "</table>\n",
       "</div>"
      ],
      "text/plain": [
       "                                            Question  \\\n",
       "0  19. ¿Cuál es la respuesta correcta respecto al...   \n",
       "1  20. ¿Cuál es la respuesta INCORRECTA respecto ...   \n",
       "2  21. ¿Cuál de las siguientes respuestas es corr...   \n",
       "3  22. ¿Por qué es difícil el aislamiento microbi...   \n",
       "4  23. ¿Cuál de las siguientes afirmaciones es IN...   \n",
       "\n",
       "                                            Option_1  \\\n",
       "0                          1. Es una enterobacteria.   \n",
       "1         1. Pertenece a la familia Paramyxoviridae.   \n",
       "2  1. Es un virus ARN bicatenario de simetría hel...   \n",
       "3  1. Solo crece en anaerobiosis tras una incubac...   \n",
       "4  1. Son pequeños cocobacilos o bacilos gramnega...   \n",
       "\n",
       "                                            Option_2  \\\n",
       "0       2. Es un bacilo gramnegativo no fermentador.   \n",
       "1           2. El único hospedador es el ser humano.   \n",
       "2  2. Reconoce el receptor humano ACE2 (enzima co...   \n",
       "3  2. Necesita medios de cultivo enriquecidos con...   \n",
       "4  2. Bartonella bacilliformis es responsable de ...   \n",
       "\n",
       "                                            Option_3  \\\n",
       "0                             3. Es una espiroqueta.   \n",
       "1              3. Puede producir epidídimo-orquitis.   \n",
       "2  3. El gen estructural S es idéntico al del vir...   \n",
       "3  3. Necesita medios de cultivo enriquecidos con...   \n",
       "4  3. Bartonella quintana se transmite de persona...   \n",
       "\n",
       "                                            Option_4  RC  year  \n",
       "0                   4. Es una bacteria intracelular.   1  2022  \n",
       "1  4. Es un virus ARN monocatenario con simetría ...   4  2022  \n",
       "2        4. Pertenece a la familia Orthomyxoviridae.   2  2022  \n",
       "3  4. Necesita sistemas de cultivo celulares y un...   2  2022  \n",
       "4  4. Bartonella henselae se transmite a través d...   4  2022  "
      ]
     },
     "execution_count": 7,
     "metadata": {},
     "output_type": "execute_result"
    }
   ],
   "source": [
    "processed_exam_df_filtered = pd.read_csv(\"../data/clean/clean_fir_2022.csv\")\n",
    "processed_exam_df_filtered.head()"
   ]
  },
  {
   "cell_type": "code",
   "execution_count": 8,
   "metadata": {},
   "outputs": [
    {
     "data": {
      "application/vnd.microsoft.datawrangler.viewer.v0+json": {
       "columns": [
        {
         "name": "index",
         "rawType": "int64",
         "type": "integer"
        },
        {
         "name": "Question",
         "rawType": "object",
         "type": "string"
        },
        {
         "name": "Option_1",
         "rawType": "object",
         "type": "string"
        },
        {
         "name": "Option_2",
         "rawType": "object",
         "type": "string"
        },
        {
         "name": "Option_3",
         "rawType": "object",
         "type": "string"
        },
        {
         "name": "Option_4",
         "rawType": "object",
         "type": "string"
        },
        {
         "name": "RC",
         "rawType": "int64",
         "type": "integer"
        },
        {
         "name": "year",
         "rawType": "int64",
         "type": "integer"
        }
       ],
       "conversionMethod": "pd.DataFrame",
       "ref": "ee08a886-ec7d-4c6a-8227-50ac2ed7ace2",
       "rows": [
        [
         "98",
         "196. La reacción en el centro germinal es una parte importante del desarrollo  dependiente de antígeno de los linfocitos B. ¿Mediante cuáles de los mecanismos siguientes se produce?:",
         "1. La expansión clonal, la proliferación, el cambio de clase de inmunoglobulina y la exclusión alélica.",
         "2. La hipermutación somática, la edición del TCR, el cambio de isotipo y la diferenciación.",
         "3. La expansión clonal, el cambio de isotipo, la hipermutación somática y la diferenciación.",
         "4. La hipermutación somática, el reordenamiento del segmento variable del BCR y la activación de los linfocitos B.",
         "3",
         "2022"
        ],
        [
         "99",
         "197. La activación de las células B para producir anticuerpos de alta afi nidad requiere la unión del antígeno por el receptor de célula B (BCR):",
         "1. Como contacto directo con una célula T cooperadora CD8+ activada en el timo.",
         "2. Como contacto directo con una célula T cooperadora CD4+ activada en el timo.",
         "3. Como contacto directo con una célula T cooperadora CD4+ activada en el ganglio linfático.",
         "4. Como contacto directo con una célula T cooperadora CD8+ activada en el ganglio linfático.",
         "3",
         "2022"
        ],
        [
         "100",
         "198. ¿Cuál de las siguientes moléculas participa en la señalización y activación de los linfocitos T, constituyendo la segunda señal de activación?:",
         "1. CD3.",
         "2. CD4 y CD8.",
         "3. CD5.",
         "4. CD28.",
         "4",
         "2022"
        ],
        [
         "101",
         "199. Indique cuál de las siguientes afirmaciones sobre las inmunodeficiencias (IDs) es INCORRECTA:",
         "1. Las IDs que afectan a los mecanismos de fagocitosis van asociadas de forma frecuente a infecciones por bacterias extracelulares.",
         "2. Las IDs de proteínas del sistema del complemento provocan una mayor incidencia de infecciones víricas.",
         "3. La severidad de las IDs causadas por linfocitos B depende del isotipo de Ig afectado.",
         "4. Las IDs primarias son congénitas y las secundarias son inducidas por agentes externos.",
         "2",
         "2022"
        ],
        [
         "102",
         "202. ¿Cuál de los siguientes microorganismos se transmite por mordedura de rata?:",
         "1. Streptobacillus moniliformis.",
         "2. Bartonella bacilliformis.",
         "3. Rickettsia typhi.",
         "4. Coxiella burnetti.",
         "1",
         "2022"
        ],
        [
         "103",
         "204. ¿Cuál de los siguientes antivíricos está indicado solo en profilaxis de la reactivación del citomegalovirus (CMV) y no en el tratamiento de la enfermedad causada por este virus en pacientes receptores de un trasplante?:",
         "1. Foscarnet.",
         "2. Letermovir.",
         "3. Cidofovir.",
         "4. Valganciclovir.",
         "2",
         "2022"
        ],
        [
         "104",
         "205. Señale la opción correc ta en relación a los fosfoglicéridos:",
         "1. El factor activador de plaquetas pertenece a esta clase.",
         "2. Son lípidos insaponificables si tienen carga neta neutra, y saponificables si negativa.",
         "3. El fosfatidilinositol, que se encuentra libre en el citoplasma celular, es un importante precursor de segundos mensajeros intracelulares.",
         "4. La cardiolipina es el principal componente de la membrana plasmática del músculo cardiaco estriado.",
         "1",
         "2022"
        ],
        [
         "105",
         "206. ¿Cuál de los siguientes antibióticos es inactivado por el surfactante pulmonar?:",
         "1. Ceftriaxona.",
         "2. Levofloxacino.",
         "3. Linezolid.",
         "4. Daptomicina.",
         "4",
         "2022"
        ],
        [
         "106",
         "208. Los llamados inhibidores mixtos son un tipo de inhibidores enzimáticos. Con respecto a estos:",
         "1. Se denominan así en referencia a que pueden unirse al mismo sitio que el sustrato o a otro diferente.",
         "2. Afectan a la Km aparente, pero no a la velocidad máxima (Vmax).",
         "3. En la práctica, sólo se observan en enzimas con un único sustrato.",
         "4. Pueden provocar un aumento o disminución de la Km aparente según sea la forma del enzima a la que más fuertemente se une el inhibidor.",
         "4",
         "2022"
        ],
        [
         "107",
         "210. En un método analítico, la concordancia entre el valor medido y el valor real se relaciona con la siguiente propiedad analítica:",
         "1. La selectividad.",
         "2. La precisión.",
         "3. La exactitud.",
         "4. La sensibilidad.",
         "3",
         "2022"
        ]
       ],
       "shape": {
        "columns": 7,
        "rows": 10
       }
      },
      "text/html": [
       "<div>\n",
       "<style scoped>\n",
       "    .dataframe tbody tr th:only-of-type {\n",
       "        vertical-align: middle;\n",
       "    }\n",
       "\n",
       "    .dataframe tbody tr th {\n",
       "        vertical-align: top;\n",
       "    }\n",
       "\n",
       "    .dataframe thead th {\n",
       "        text-align: right;\n",
       "    }\n",
       "</style>\n",
       "<table border=\"1\" class=\"dataframe\">\n",
       "  <thead>\n",
       "    <tr style=\"text-align: right;\">\n",
       "      <th></th>\n",
       "      <th>Question</th>\n",
       "      <th>Option_1</th>\n",
       "      <th>Option_2</th>\n",
       "      <th>Option_3</th>\n",
       "      <th>Option_4</th>\n",
       "      <th>RC</th>\n",
       "      <th>year</th>\n",
       "    </tr>\n",
       "  </thead>\n",
       "  <tbody>\n",
       "    <tr>\n",
       "      <th>98</th>\n",
       "      <td>196. La reacción en el centro germinal es una ...</td>\n",
       "      <td>1. La expansión clonal, la proliferación, el c...</td>\n",
       "      <td>2. La hipermutación somática, la edición del T...</td>\n",
       "      <td>3. La expansión clonal, el cambio de isotipo, ...</td>\n",
       "      <td>4. La hipermutación somática, el reordenamient...</td>\n",
       "      <td>3</td>\n",
       "      <td>2022</td>\n",
       "    </tr>\n",
       "    <tr>\n",
       "      <th>99</th>\n",
       "      <td>197. La activación de las células B para produ...</td>\n",
       "      <td>1. Como contacto directo con una célula T coop...</td>\n",
       "      <td>2. Como contacto directo con una célula T coop...</td>\n",
       "      <td>3. Como contacto directo con una célula T coop...</td>\n",
       "      <td>4. Como contacto directo con una célula T coop...</td>\n",
       "      <td>3</td>\n",
       "      <td>2022</td>\n",
       "    </tr>\n",
       "    <tr>\n",
       "      <th>100</th>\n",
       "      <td>198. ¿Cuál de las siguientes moléculas partici...</td>\n",
       "      <td>1. CD3.</td>\n",
       "      <td>2. CD4 y CD8.</td>\n",
       "      <td>3. CD5.</td>\n",
       "      <td>4. CD28.</td>\n",
       "      <td>4</td>\n",
       "      <td>2022</td>\n",
       "    </tr>\n",
       "    <tr>\n",
       "      <th>101</th>\n",
       "      <td>199. Indique cuál de las siguientes afirmacion...</td>\n",
       "      <td>1. Las IDs que afectan a los mecanismos de fag...</td>\n",
       "      <td>2. Las IDs de proteínas del sistema del comple...</td>\n",
       "      <td>3. La severidad de las IDs causadas por linfoc...</td>\n",
       "      <td>4. Las IDs primarias son congénitas y las secu...</td>\n",
       "      <td>2</td>\n",
       "      <td>2022</td>\n",
       "    </tr>\n",
       "    <tr>\n",
       "      <th>102</th>\n",
       "      <td>202. ¿Cuál de los siguientes microorganismos s...</td>\n",
       "      <td>1. Streptobacillus moniliformis.</td>\n",
       "      <td>2. Bartonella bacilliformis.</td>\n",
       "      <td>3. Rickettsia typhi.</td>\n",
       "      <td>4. Coxiella burnetti.</td>\n",
       "      <td>1</td>\n",
       "      <td>2022</td>\n",
       "    </tr>\n",
       "    <tr>\n",
       "      <th>103</th>\n",
       "      <td>204. ¿Cuál de los siguientes antivíricos está ...</td>\n",
       "      <td>1. Foscarnet.</td>\n",
       "      <td>2. Letermovir.</td>\n",
       "      <td>3. Cidofovir.</td>\n",
       "      <td>4. Valganciclovir.</td>\n",
       "      <td>2</td>\n",
       "      <td>2022</td>\n",
       "    </tr>\n",
       "    <tr>\n",
       "      <th>104</th>\n",
       "      <td>205. Señale la opción correc ta en relación a ...</td>\n",
       "      <td>1. El factor activador de plaquetas pertenece ...</td>\n",
       "      <td>2. Son lípidos insaponificables si tienen carg...</td>\n",
       "      <td>3. El fosfatidilinositol, que se encuentra lib...</td>\n",
       "      <td>4. La cardiolipina es el principal componente ...</td>\n",
       "      <td>1</td>\n",
       "      <td>2022</td>\n",
       "    </tr>\n",
       "    <tr>\n",
       "      <th>105</th>\n",
       "      <td>206. ¿Cuál de los siguientes antibióticos es i...</td>\n",
       "      <td>1. Ceftriaxona.</td>\n",
       "      <td>2. Levofloxacino.</td>\n",
       "      <td>3. Linezolid.</td>\n",
       "      <td>4. Daptomicina.</td>\n",
       "      <td>4</td>\n",
       "      <td>2022</td>\n",
       "    </tr>\n",
       "    <tr>\n",
       "      <th>106</th>\n",
       "      <td>208. Los llamados inhibidores mixtos son un ti...</td>\n",
       "      <td>1. Se denominan así en referencia a que pueden...</td>\n",
       "      <td>2. Afectan a la Km aparente, pero no a la velo...</td>\n",
       "      <td>3. En la práctica, sólo se observan en enzimas...</td>\n",
       "      <td>4. Pueden provocar un aumento o disminución de...</td>\n",
       "      <td>4</td>\n",
       "      <td>2022</td>\n",
       "    </tr>\n",
       "    <tr>\n",
       "      <th>107</th>\n",
       "      <td>210. En un método analítico, la concordancia e...</td>\n",
       "      <td>1. La selectividad.</td>\n",
       "      <td>2. La precisión.</td>\n",
       "      <td>3. La exactitud.</td>\n",
       "      <td>4. La sensibilidad.</td>\n",
       "      <td>3</td>\n",
       "      <td>2022</td>\n",
       "    </tr>\n",
       "  </tbody>\n",
       "</table>\n",
       "</div>"
      ],
      "text/plain": [
       "                                              Question  \\\n",
       "98   196. La reacción en el centro germinal es una ...   \n",
       "99   197. La activación de las células B para produ...   \n",
       "100  198. ¿Cuál de las siguientes moléculas partici...   \n",
       "101  199. Indique cuál de las siguientes afirmacion...   \n",
       "102  202. ¿Cuál de los siguientes microorganismos s...   \n",
       "103  204. ¿Cuál de los siguientes antivíricos está ...   \n",
       "104  205. Señale la opción correc ta en relación a ...   \n",
       "105  206. ¿Cuál de los siguientes antibióticos es i...   \n",
       "106  208. Los llamados inhibidores mixtos son un ti...   \n",
       "107  210. En un método analítico, la concordancia e...   \n",
       "\n",
       "                                              Option_1  \\\n",
       "98   1. La expansión clonal, la proliferación, el c...   \n",
       "99   1. Como contacto directo con una célula T coop...   \n",
       "100                                            1. CD3.   \n",
       "101  1. Las IDs que afectan a los mecanismos de fag...   \n",
       "102                   1. Streptobacillus moniliformis.   \n",
       "103                                      1. Foscarnet.   \n",
       "104  1. El factor activador de plaquetas pertenece ...   \n",
       "105                                    1. Ceftriaxona.   \n",
       "106  1. Se denominan así en referencia a que pueden...   \n",
       "107                                1. La selectividad.   \n",
       "\n",
       "                                              Option_2  \\\n",
       "98   2. La hipermutación somática, la edición del T...   \n",
       "99   2. Como contacto directo con una célula T coop...   \n",
       "100                                      2. CD4 y CD8.   \n",
       "101  2. Las IDs de proteínas del sistema del comple...   \n",
       "102                       2. Bartonella bacilliformis.   \n",
       "103                                     2. Letermovir.   \n",
       "104  2. Son lípidos insaponificables si tienen carg...   \n",
       "105                                  2. Levofloxacino.   \n",
       "106  2. Afectan a la Km aparente, pero no a la velo...   \n",
       "107                                   2. La precisión.   \n",
       "\n",
       "                                              Option_3  \\\n",
       "98   3. La expansión clonal, el cambio de isotipo, ...   \n",
       "99   3. Como contacto directo con una célula T coop...   \n",
       "100                                            3. CD5.   \n",
       "101  3. La severidad de las IDs causadas por linfoc...   \n",
       "102                               3. Rickettsia typhi.   \n",
       "103                                      3. Cidofovir.   \n",
       "104  3. El fosfatidilinositol, que se encuentra lib...   \n",
       "105                                      3. Linezolid.   \n",
       "106  3. En la práctica, sólo se observan en enzimas...   \n",
       "107                                   3. La exactitud.   \n",
       "\n",
       "                                              Option_4  RC  year  \n",
       "98   4. La hipermutación somática, el reordenamient...   3  2022  \n",
       "99   4. Como contacto directo con una célula T coop...   3  2022  \n",
       "100                                           4. CD28.   4  2022  \n",
       "101  4. Las IDs primarias son congénitas y las secu...   2  2022  \n",
       "102                              4. Coxiella burnetti.   1  2022  \n",
       "103                                 4. Valganciclovir.   2  2022  \n",
       "104  4. La cardiolipina es el principal componente ...   1  2022  \n",
       "105                                    4. Daptomicina.   4  2022  \n",
       "106  4. Pueden provocar un aumento o disminución de...   4  2022  \n",
       "107                                4. La sensibilidad.   3  2022  "
      ]
     },
     "execution_count": 8,
     "metadata": {},
     "output_type": "execute_result"
    }
   ],
   "source": [
    "processed_exam_df_filtered.tail(10)"
   ]
  },
  {
   "cell_type": "code",
   "execution_count": 10,
   "metadata": {},
   "outputs": [],
   "source": [
    "with sqlite3.connect(db_path) as bir_warehouse:\n",
    "    cur = bir_warehouse.cursor()\n",
    "    for question in processed_exam_df_filtered.itertuples():\n",
    "        cur.execute(query_question, (str(question[7]), exam_acronym, question[1]))\n",
    "        bir_warehouse.commit()\n",
    "        for n, option in enumerate(question[2:6]):\n",
    "            cur.execute(query_options, (question[1], str(year), n+1, option, n+1 == question[6]))\n",
    "            bir_warehouse.commit()"
   ]
  }
 ],
 "metadata": {
  "colab": {
   "provenance": []
  },
  "kernelspec": {
   "display_name": "bir_etl",
   "language": "python",
   "name": "python3"
  },
  "language_info": {
   "codemirror_mode": {
    "name": "ipython",
    "version": 3
   },
   "file_extension": ".py",
   "mimetype": "text/x-python",
   "name": "python",
   "nbconvert_exporter": "python",
   "pygments_lexer": "ipython3",
   "version": "3.12.7"
  }
 },
 "nbformat": 4,
 "nbformat_minor": 4
}
