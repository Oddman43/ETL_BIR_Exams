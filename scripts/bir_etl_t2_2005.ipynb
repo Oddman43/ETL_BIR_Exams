{
 "cells": [
  {
   "cell_type": "markdown",
   "metadata": {
    "editable": true,
    "id": "56vKIohe8Jou",
    "slideshow": {
     "slide_type": ""
    },
    "tags": []
   },
   "source": [
    "# Data Extraction\n",
    "This section details the process of extracting question data from a PDF file and corresponding answer keys from a TSV file."
   ]
  },
  {
   "cell_type": "markdown",
   "metadata": {
    "id": "8kRORmWM8Joy"
   },
   "source": [
    "## Importing libraries"
   ]
  },
  {
   "cell_type": "markdown",
   "metadata": {},
   "source": [
    "* Pandas for data manipulation\n",
    "* NumPy for the NaN datatype\n",
    "* PyPDF for its ability to read the pfd files, although it requieres post-processing of the extracted text\n",
    "* sqlite3 to create load the clean data into `bir_warehouse.db`"
   ]
  },
  {
   "cell_type": "code",
   "execution_count": 1,
   "metadata": {
    "colab": {
     "base_uri": "https://localhost:8080/"
    },
    "id": "y8DpYYll8Joz",
    "outputId": "40cac5b3-1153-431b-f780-201aa62b5813"
   },
   "outputs": [],
   "source": [
    "import pandas as pd\n",
    "import numpy as np\n",
    "from pypdf import PdfReader\n",
    "import sqlite3"
   ]
  },
  {
   "cell_type": "markdown",
   "metadata": {},
   "source": [
    "## Selecting year and type of exam"
   ]
  },
  {
   "cell_type": "markdown",
   "metadata": {},
   "source": [
    "This function, `compute_expected_rows`, takes the exam year and topic as input and returns metadata crucial for subsequent data cleaning and loading steps. This metadata includes the expected maximum number of rows in the final DataFrame, the number of questions per exam, and the acronym for the exam type.  The maximum number of rows is calculated based on the number of questions and options per question for each year, following a specific pattern:\n",
    "\n",
    "*   2024-2021: 210 questions, 4 options each\n",
    "*   2020-2019: 185 questions, 4 options each\n",
    "*   2018-2015: 235 questions, 4 options each\n",
    "*   2014-2012: 235 questions, 5 options each\n",
    "*   2011-2004: 260 questions, 5 options each\n",
    "\n",
    "This information is essential for validating data integrity during the ETL process.  For example, the expected row count helps verify that all questions and options have been correctly extracted and transformed. The exam type acronym aids in consistent file naming and data organization."
   ]
  },
  {
   "cell_type": "code",
   "execution_count": 2,
   "metadata": {},
   "outputs": [],
   "source": [
    "def compute_expected_rows(year: int, topic: str) -> tuple:\n",
    "    \"\"\"Computes and returns metadata about the exam for a given year and topic\n",
    "\n",
    "    Args:\n",
    "        year (int): The year of the exam\n",
    "        topic (str): The topic of the exam\n",
    "\n",
    "    Returns:\n",
    "        tuple: Contains:\n",
    "            - max_rows: The expected maximum number of rows in the DataFrame\n",
    "            - num_options: The number of questions in the exam\n",
    "            - exam_type_acronym: The acronym for the exam type\n",
    "\n",
    "    \"\"\"\n",
    "    info_year_dict: dict = {\n",
    "        2011: [260, 5],\n",
    "        2014: [235, 5],\n",
    "        2018: [235, 4],\n",
    "        2020: [185, 4],\n",
    "        2021: [210, 4],\n",
    "    }\n",
    "    max_rows: int = 0\n",
    "    num_options: int = 0\n",
    "    for target_year, info_list in info_year_dict.items():\n",
    "        if year <= target_year:\n",
    "            max_rows = (info_list[0] * info_list[1]) + info_list[0]\n",
    "            num_options = info_list[1]\n",
    "            break\n",
    "    else:\n",
    "        max_rows = 1050\n",
    "        num_options = 4\n",
    "    return max_rows, num_options"
   ]
  },
  {
   "cell_type": "markdown",
   "metadata": {},
   "source": [
    "### Add year of the exam and topic "
   ]
  },
  {
   "cell_type": "code",
   "execution_count": 3,
   "metadata": {},
   "outputs": [],
   "source": [
    "year: int = 2005\n",
    "topic: str = \"BIOLOGÍA\"\n",
    "exam_acronym: str = \"bir\"\n",
    "total_num_rows: int\n",
    "num_questions: int\n",
    "total_num_rows, num_questions= compute_expected_rows(year, topic)\n",
    "save_format: str = f\"../data/clean/clean_{exam_acronym}_{year}.csv\""
   ]
  },
  {
   "cell_type": "markdown",
   "metadata": {
    "id": "Z1Kjq5ue8Jo1"
   },
   "source": [
    "## Extracting Questions from Pdf file"
   ]
  },
  {
   "cell_type": "markdown",
   "metadata": {},
   "source": [
    "This section focuses on extracting the textual content of the exam questions from the provided PDF file.\n",
    "\n",
    "**Path Definition:**\n",
    "\n",
    "The path to the PDF file is dynamically constructed using the provided `year` and `topic` variables. This ensures flexibility and allows the script to process different exam files without manual path adjustments.\n",
    "\n",
    "Finally it stores the output in a DataFrame and the first 10 rows of the resulting DataFrame are displayed for a quick preview of the loaded data."
   ]
  },
  {
   "cell_type": "code",
   "execution_count": 4,
   "metadata": {
    "id": "AB4M4yfr8Jo3"
   },
   "outputs": [
    {
     "data": {
      "application/vnd.microsoft.datawrangler.viewer.v0+json": {
       "columns": [
        {
         "name": "index",
         "rawType": "int64",
         "type": "integer"
        },
        {
         "name": "text",
         "rawType": "object",
         "type": "string"
        }
       ],
       "conversionMethod": "pd.DataFrame",
       "ref": "513a2b77-5f10-4ce7-a14d-8528450752e7",
       "rows": [
        [
         "0",
         " "
        ],
        [
         "1",
         "- 2 - "
        ],
        [
         "2",
         "1. Un agente que está impidiendo la división bac-"
        ],
        [
         "3",
         "teriana actúa como: "
        ],
        [
         "4",
         " "
        ],
        [
         "5",
         "1. Antibiótico. "
        ],
        [
         "6",
         "2. Bactericida. "
        ],
        [
         "7",
         "3. Bacteriostático. "
        ],
        [
         "8",
         "4. Desinfectante. "
        ],
        [
         "9",
         "5. Esterilizante. "
        ]
       ],
       "shape": {
        "columns": 1,
        "rows": 10
       }
      },
      "text/html": [
       "<div>\n",
       "<style scoped>\n",
       "    .dataframe tbody tr th:only-of-type {\n",
       "        vertical-align: middle;\n",
       "    }\n",
       "\n",
       "    .dataframe tbody tr th {\n",
       "        vertical-align: top;\n",
       "    }\n",
       "\n",
       "    .dataframe thead th {\n",
       "        text-align: right;\n",
       "    }\n",
       "</style>\n",
       "<table border=\"1\" class=\"dataframe\">\n",
       "  <thead>\n",
       "    <tr style=\"text-align: right;\">\n",
       "      <th></th>\n",
       "      <th>text</th>\n",
       "    </tr>\n",
       "  </thead>\n",
       "  <tbody>\n",
       "    <tr>\n",
       "      <th>0</th>\n",
       "      <td></td>\n",
       "    </tr>\n",
       "    <tr>\n",
       "      <th>1</th>\n",
       "      <td>- 2 -</td>\n",
       "    </tr>\n",
       "    <tr>\n",
       "      <th>2</th>\n",
       "      <td>1. Un agente que está impidiendo la división bac-</td>\n",
       "    </tr>\n",
       "    <tr>\n",
       "      <th>3</th>\n",
       "      <td>teriana actúa como:</td>\n",
       "    </tr>\n",
       "    <tr>\n",
       "      <th>4</th>\n",
       "      <td></td>\n",
       "    </tr>\n",
       "    <tr>\n",
       "      <th>5</th>\n",
       "      <td>1. Antibiótico.</td>\n",
       "    </tr>\n",
       "    <tr>\n",
       "      <th>6</th>\n",
       "      <td>2. Bactericida.</td>\n",
       "    </tr>\n",
       "    <tr>\n",
       "      <th>7</th>\n",
       "      <td>3. Bacteriostático.</td>\n",
       "    </tr>\n",
       "    <tr>\n",
       "      <th>8</th>\n",
       "      <td>4. Desinfectante.</td>\n",
       "    </tr>\n",
       "    <tr>\n",
       "      <th>9</th>\n",
       "      <td>5. Esterilizante.</td>\n",
       "    </tr>\n",
       "  </tbody>\n",
       "</table>\n",
       "</div>"
      ],
      "text/plain": [
       "                                                text\n",
       "0                                                   \n",
       "1                                             - 2 - \n",
       "2  1. Un agente que está impidiendo la división bac-\n",
       "3                               teriana actúa como: \n",
       "4                                                   \n",
       "5                                   1. Antibiótico. \n",
       "6                                   2. Bactericida. \n",
       "7                               3. Bacteriostático. \n",
       "8                                 4. Desinfectante. \n",
       "9                                 5. Esterilizante. "
      ]
     },
     "execution_count": 4,
     "metadata": {},
     "output_type": "execute_result"
    }
   ],
   "source": [
    "path: str = f\"../data/raw/type_2/Raw_Cuaderno_{year}_{topic}_0_C.pdf\"\n",
    "with PdfReader(path) as pdf_file:\n",
    "    full_text: list = []\n",
    "    for n in range(1, len(pdf_file.pages)):\n",
    "        page = pdf_file.pages[n]\n",
    "        text: str = page.extract_text()\n",
    "        full_text.extend(text.splitlines())\n",
    "raw_exam_df: pd.DataFrame = pd.DataFrame(full_text, columns=[\"text\"])\n",
    "raw_exam_df.head(10)"
   ]
  },
  {
   "cell_type": "markdown",
   "metadata": {
    "id": "IBhc5aFQ8Jo6"
   },
   "source": [
    "## Extracting Answers from .tsv file into a DataFrame"
   ]
  },
  {
   "cell_type": "markdown",
   "metadata": {},
   "source": [
    "This section focuses on extracting the answer key data from the provided .tsv file and loading it into a Pandas DataFrame.\n",
    "\n",
    "**Path Definition and Data Loading:**\n",
    "\n",
    "The path to the .tsv file is dynamically constructed using the `year` and `topic` variables, mirroring the approach used for the PDF file. This ensures consistency and flexibility in processing different exam files. \n",
    "\n",
    "The `pd.read_table()` function is then used to read the .tsv file directly into a Pandas DataFrame. Finally, the first 10 rows of the resulting DataFrame are displayed for a quick preview of the loaded data."
   ]
  },
  {
   "cell_type": "code",
   "execution_count": 5,
   "metadata": {
    "colab": {
     "base_uri": "https://localhost:8080/",
     "height": 206
    },
    "id": "O1ouB9mQ8Jo7",
    "outputId": "70b7615d-9c90-4f2d-b9e1-a5c86b507ef6"
   },
   "outputs": [
    {
     "data": {
      "application/vnd.microsoft.datawrangler.viewer.v0+json": {
       "columns": [
        {
         "name": "index",
         "rawType": "int64",
         "type": "integer"
        },
        {
         "name": "0",
         "rawType": "int64",
         "type": "integer"
        },
        {
         "name": "1",
         "rawType": "object",
         "type": "string"
        },
        {
         "name": "2",
         "rawType": "object",
         "type": "string"
        },
        {
         "name": "3",
         "rawType": "object",
         "type": "string"
        },
        {
         "name": "4",
         "rawType": "int64",
         "type": "integer"
        },
        {
         "name": "5",
         "rawType": "int64",
         "type": "integer"
        },
        {
         "name": "6",
         "rawType": "object",
         "type": "string"
        },
        {
         "name": "7",
         "rawType": "object",
         "type": "string"
        },
        {
         "name": "8",
         "rawType": "int64",
         "type": "integer"
        },
        {
         "name": "9",
         "rawType": "int64",
         "type": "integer"
        }
       ],
       "conversionMethod": "pd.DataFrame",
       "ref": "db901070-dff5-496c-8289-98cc8080a1c5",
       "rows": [
        [
         "0",
         "1",
         "2",
         "3",
         "4",
         "5",
         "6",
         "7",
         "8",
         "9",
         "10"
        ],
        [
         "1",
         "3",
         "4",
         "4",
         "2",
         "1",
         "5",
         "2",
         "5",
         "3",
         "5"
        ],
        [
         "2",
         "21",
         "22",
         "23",
         "24",
         "25",
         "26",
         "27",
         "28",
         "29",
         "30"
        ],
        [
         "3",
         "1",
         "3",
         "2",
         "2",
         "1",
         "2",
         "5",
         "3",
         "4",
         "1"
        ],
        [
         "4",
         "41",
         "42",
         "43",
         "44",
         "45",
         "46",
         "47",
         "48",
         "49",
         "50"
        ],
        [
         "5",
         "1",
         "1",
         "2",
         "4",
         "4",
         "3",
         "4",
         "5",
         "2",
         "4"
        ],
        [
         "6",
         "61",
         "62",
         "63",
         "64",
         "65",
         "66",
         "67",
         "68",
         "69",
         "70"
        ],
        [
         "7",
         "1",
         "3",
         "3",
         "4",
         "1",
         "2",
         "4",
         "2",
         "4",
         "3"
        ],
        [
         "8",
         "81",
         "82",
         "83",
         "84",
         "85",
         "86",
         "87",
         "88",
         "89",
         "90"
        ],
        [
         "9",
         "5",
         "4",
         "5",
         "2",
         "2",
         "3",
         "2",
         "5",
         "1",
         "4"
        ]
       ],
       "shape": {
        "columns": 10,
        "rows": 10
       }
      },
      "text/html": [
       "<div>\n",
       "<style scoped>\n",
       "    .dataframe tbody tr th:only-of-type {\n",
       "        vertical-align: middle;\n",
       "    }\n",
       "\n",
       "    .dataframe tbody tr th {\n",
       "        vertical-align: top;\n",
       "    }\n",
       "\n",
       "    .dataframe thead th {\n",
       "        text-align: right;\n",
       "    }\n",
       "</style>\n",
       "<table border=\"1\" class=\"dataframe\">\n",
       "  <thead>\n",
       "    <tr style=\"text-align: right;\">\n",
       "      <th></th>\n",
       "      <th>0</th>\n",
       "      <th>1</th>\n",
       "      <th>2</th>\n",
       "      <th>3</th>\n",
       "      <th>4</th>\n",
       "      <th>5</th>\n",
       "      <th>6</th>\n",
       "      <th>7</th>\n",
       "      <th>8</th>\n",
       "      <th>9</th>\n",
       "    </tr>\n",
       "  </thead>\n",
       "  <tbody>\n",
       "    <tr>\n",
       "      <th>0</th>\n",
       "      <td>1</td>\n",
       "      <td>2</td>\n",
       "      <td>3</td>\n",
       "      <td>4</td>\n",
       "      <td>5</td>\n",
       "      <td>6</td>\n",
       "      <td>7</td>\n",
       "      <td>8</td>\n",
       "      <td>9</td>\n",
       "      <td>10</td>\n",
       "    </tr>\n",
       "    <tr>\n",
       "      <th>1</th>\n",
       "      <td>3</td>\n",
       "      <td>4</td>\n",
       "      <td>4</td>\n",
       "      <td>2</td>\n",
       "      <td>1</td>\n",
       "      <td>5</td>\n",
       "      <td>2</td>\n",
       "      <td>5</td>\n",
       "      <td>3</td>\n",
       "      <td>5</td>\n",
       "    </tr>\n",
       "    <tr>\n",
       "      <th>2</th>\n",
       "      <td>21</td>\n",
       "      <td>22</td>\n",
       "      <td>23</td>\n",
       "      <td>24</td>\n",
       "      <td>25</td>\n",
       "      <td>26</td>\n",
       "      <td>27</td>\n",
       "      <td>28</td>\n",
       "      <td>29</td>\n",
       "      <td>30</td>\n",
       "    </tr>\n",
       "    <tr>\n",
       "      <th>3</th>\n",
       "      <td>1</td>\n",
       "      <td>3</td>\n",
       "      <td>2</td>\n",
       "      <td>2</td>\n",
       "      <td>1</td>\n",
       "      <td>2</td>\n",
       "      <td>5</td>\n",
       "      <td>3</td>\n",
       "      <td>4</td>\n",
       "      <td>1</td>\n",
       "    </tr>\n",
       "    <tr>\n",
       "      <th>4</th>\n",
       "      <td>41</td>\n",
       "      <td>42</td>\n",
       "      <td>43</td>\n",
       "      <td>44</td>\n",
       "      <td>45</td>\n",
       "      <td>46</td>\n",
       "      <td>47</td>\n",
       "      <td>48</td>\n",
       "      <td>49</td>\n",
       "      <td>50</td>\n",
       "    </tr>\n",
       "    <tr>\n",
       "      <th>5</th>\n",
       "      <td>1</td>\n",
       "      <td>1</td>\n",
       "      <td>2</td>\n",
       "      <td>4</td>\n",
       "      <td>4</td>\n",
       "      <td>3</td>\n",
       "      <td>4</td>\n",
       "      <td>5</td>\n",
       "      <td>2</td>\n",
       "      <td>4</td>\n",
       "    </tr>\n",
       "    <tr>\n",
       "      <th>6</th>\n",
       "      <td>61</td>\n",
       "      <td>62</td>\n",
       "      <td>63</td>\n",
       "      <td>64</td>\n",
       "      <td>65</td>\n",
       "      <td>66</td>\n",
       "      <td>67</td>\n",
       "      <td>68</td>\n",
       "      <td>69</td>\n",
       "      <td>70</td>\n",
       "    </tr>\n",
       "    <tr>\n",
       "      <th>7</th>\n",
       "      <td>1</td>\n",
       "      <td>3</td>\n",
       "      <td>3</td>\n",
       "      <td>4</td>\n",
       "      <td>1</td>\n",
       "      <td>2</td>\n",
       "      <td>4</td>\n",
       "      <td>2</td>\n",
       "      <td>4</td>\n",
       "      <td>3</td>\n",
       "    </tr>\n",
       "    <tr>\n",
       "      <th>8</th>\n",
       "      <td>81</td>\n",
       "      <td>82</td>\n",
       "      <td>83</td>\n",
       "      <td>84</td>\n",
       "      <td>85</td>\n",
       "      <td>86</td>\n",
       "      <td>87</td>\n",
       "      <td>88</td>\n",
       "      <td>89</td>\n",
       "      <td>90</td>\n",
       "    </tr>\n",
       "    <tr>\n",
       "      <th>9</th>\n",
       "      <td>5</td>\n",
       "      <td>4</td>\n",
       "      <td>5</td>\n",
       "      <td>2</td>\n",
       "      <td>2</td>\n",
       "      <td>3</td>\n",
       "      <td>2</td>\n",
       "      <td>5</td>\n",
       "      <td>1</td>\n",
       "      <td>4</td>\n",
       "    </tr>\n",
       "  </tbody>\n",
       "</table>\n",
       "</div>"
      ],
      "text/plain": [
       "    0   1   2   3   4   5   6   7   8   9\n",
       "0   1   2   3   4   5   6   7   8   9  10\n",
       "1   3   4   4   2   1   5   2   5   3   5\n",
       "2  21  22  23  24  25  26  27  28  29  30\n",
       "3   1   3   2   2   1   2   5   3   4   1\n",
       "4  41  42  43  44  45  46  47  48  49  50\n",
       "5   1   1   2   4   4   3   4   5   2   4\n",
       "6  61  62  63  64  65  66  67  68  69  70\n",
       "7   1   3   3   4   1   2   4   2   4   3\n",
       "8  81  82  83  84  85  86  87  88  89  90\n",
       "9   5   4   5   2   2   3   2   5   1   4"
      ]
     },
     "execution_count": 5,
     "metadata": {},
     "output_type": "execute_result"
    }
   ],
   "source": [
    "raw_answers_df: pd.DataFrame = pd.read_table(f\"../data/raw/type_2/Raw_Cuaderno_{year}_{topic}_0_C_Respuestas.txt\", sep= \" \", header=None)\n",
    "raw_answers_df.head(10)"
   ]
  },
  {
   "cell_type": "markdown",
   "metadata": {
    "id": "uFFlTADP8Jo7"
   },
   "source": [
    "# Data Transformation"
   ]
  },
  {
   "cell_type": "markdown",
   "metadata": {},
   "source": [
    "## Exam pdf"
   ]
  },
  {
   "cell_type": "markdown",
   "metadata": {},
   "source": [
    "### Removing white space"
   ]
  },
  {
   "cell_type": "markdown",
   "metadata": {
    "id": "2QavIIOK8Jo7"
   },
   "source": [
    "This section focuses on cleaning the raw text extracted from the PDF exam file, preparing it for further processing. This involves removing extraneous whitespace, handling empty lines, and resetting the DataFrame index.\n",
    "\n",
    "**1. Removing Page Number Artifacts:**\n",
    "\n",
    "The extracted text may contain page number artifacts, which are removed by filtering out rows containing the string \"Página\"."
   ]
  },
  {
   "cell_type": "code",
   "execution_count": 6,
   "metadata": {},
   "outputs": [],
   "source": [
    "raw_exam_df = raw_exam_df[~raw_exam_df[\"text\"].str.contains(\"Página\")]\n",
    "raw_exam_df = raw_exam_df[~raw_exam_df[\"text\"].str.contains(\"Pagina\")]\n",
    "\n",
    "footer_list: list = [f\"- {npag} -\" for npag in range(0,30,1)]\n",
    "\n",
    "for footer in footer_list:\n",
    "    raw_exam_df[\"text\"] = raw_exam_df[\"text\"].str.replace(footer, \"\")"
   ]
  },
  {
   "cell_type": "markdown",
   "metadata": {},
   "source": [
    "**2. Striping Leading/Trailing Whitespaces**\n",
    "\n",
    "Leading and trailing whitespace characters are removed from each text entry using the .str.strip() method."
   ]
  },
  {
   "cell_type": "code",
   "execution_count": 7,
   "metadata": {},
   "outputs": [],
   "source": [
    "raw_exam_df = raw_exam_df[\"text\"].str.strip()"
   ]
  },
  {
   "cell_type": "markdown",
   "metadata": {},
   "source": [
    "**3. Handling Empty Lines**\n",
    "\n",
    "Empty lines, represented as empty strings, are replaced with NaN (Not a Number) values. \n",
    "\n",
    "Then rows containing NaN values, representing empty lines, are removed from the DataFrame using .dropna()"
   ]
  },
  {
   "cell_type": "code",
   "execution_count": 8,
   "metadata": {},
   "outputs": [],
   "source": [
    "raw_exam_df = raw_exam_df.replace(\"\", np.nan)\n",
    "raw_exam_df = raw_exam_df.dropna()"
   ]
  },
  {
   "cell_type": "markdown",
   "metadata": {},
   "source": [
    "**4. Reseting DataFrame Index**\n",
    "\n",
    "The DataFrame index is reset after removing rows, ensuring a contiguous index and dropping the old index."
   ]
  },
  {
   "cell_type": "code",
   "execution_count": 9,
   "metadata": {},
   "outputs": [],
   "source": [
    "raw_exam_df = raw_exam_df.reset_index(drop=True)"
   ]
  },
  {
   "cell_type": "markdown",
   "metadata": {},
   "source": [
    "**5. Displays the first 10 rows of the DataFrame**"
   ]
  },
  {
   "cell_type": "code",
   "execution_count": 10,
   "metadata": {},
   "outputs": [
    {
     "data": {
      "text/plain": [
       "0    1. Un agente que está impidiendo la división bac-\n",
       "1                                  teriana actúa como:\n",
       "2                                      1. Antibiótico.\n",
       "3                                      2. Bactericida.\n",
       "4                                  3. Bacteriostático.\n",
       "5                                    4. Desinfectante.\n",
       "6                                    5. Esterilizante.\n",
       "7    2. Para esterilizar un catéter de plástico, se...\n",
       "8                                             emplear:\n",
       "9                                 1. Un horno Pasteur.\n",
       "Name: text, dtype: object"
      ]
     },
     "execution_count": 10,
     "metadata": {},
     "output_type": "execute_result"
    }
   ],
   "source": [
    "raw_exam_df.head(10)"
   ]
  },
  {
   "cell_type": "markdown",
   "metadata": {},
   "source": [
    "### Joining Truncated Lines"
   ]
  },
  {
   "cell_type": "markdown",
   "metadata": {},
   "source": [
    "This section addresses the issue of truncated lines and multi-line questions or options within the extracted exam text. A custom function, `process_multi_line_str`, is used to concatenate these lines, ensuring that each question and option is presented as a single, coherent string.\n",
    "\n",
    "**Function: `process_multi_line_str(df)`**\n",
    "\n",
    "This function iterates through the DataFrame, performing two main tasks:\n",
    "\n",
    "1.  **Joining Truncated Words:**\n",
    "    * It checks if a line ends with a hyphen (\"-\"), indicating a word that has been truncated at the end of a line.\n",
    "    * If a line is truncated, it removes the hyphen and appends the content of the following line to the current line.\n",
    "    * The following line is then removed from the DataFrame, and the index is reset.\n",
    "\n",
    "2.  **Joining Multi-Line Questions/Options:**\n",
    "    * It checks if the first character of the next line can be converted to an integer. This is used as a heuristic to identify the start of a new question or option.\n",
    "    * If the next line does not start with an integer (i.e., it's a continuation of the current question or option), it is appended to the current line, separated by a space.\n",
    "    * The next line is then removed, and the index is reset."
   ]
  },
  {
   "cell_type": "code",
   "execution_count": 11,
   "metadata": {
    "id": "rYZHjn_C8Jo8"
   },
   "outputs": [],
   "source": [
    "def process_multi_line_str(df: pd.DataFrame) -> pd.DataFrame:\n",
    "    \"\"\"Function to handle truncated lines\n",
    "\n",
    "    Args:\n",
    "        df (pd.DataFrame): A pandas dataframe\n",
    "\n",
    "    Returns:\n",
    "        pd.DataFrame: Returns the DataFrame without truncated lines\n",
    "    \"\"\"\n",
    "    i: int = 0\n",
    "    while i < len(df) - 1:\n",
    "        if i < len(df) -1  and df.iloc[i].endswith(\"-\"):\n",
    "            df.iloc[i] = df.iloc[i][:-1] + df.iloc[i + 1]\n",
    "            df = df.drop(i + 1)\n",
    "            df = df.reset_index(drop=True)\n",
    "        else:\n",
    "            i += 1\n",
    "    n: int = 0\n",
    "    while n < len(df) -1:\n",
    "        if n + 1 < len(df):\n",
    "            try:\n",
    "                int(df.iloc[n + 1][0:1])\n",
    "                n += 1\n",
    "            except ValueError:\n",
    "                df.iloc[n] = df.iloc[n] + \" \" + df.iloc[n + 1]\n",
    "                df = df.drop(n +1)\n",
    "                df = df.reset_index(drop= True)\n",
    "        else:\n",
    "            break\n",
    "    return df"
   ]
  },
  {
   "cell_type": "markdown",
   "metadata": {},
   "source": [
    "The process_multi_line_str function is applied to the cleaned raw_exam_df DataFrame, and the resulting DataFrame is stored in exam_df_concat. The first few rows of the concatenated DataFrame are displayed to verify the results."
   ]
  },
  {
   "cell_type": "code",
   "execution_count": 12,
   "metadata": {
    "colab": {
     "base_uri": "https://localhost:8080/",
     "height": 206
    },
    "id": "2v6dmQuM8_v1",
    "outputId": "215f5328-a43d-4bbb-f221-fba6fc10a5c1"
   },
   "outputs": [
    {
     "data": {
      "text/plain": [
       "0    1. Un agente que está impidiendo la división b...\n",
       "1                                      1. Antibiótico.\n",
       "2                                      2. Bactericida.\n",
       "3                                  3. Bacteriostático.\n",
       "4                                    4. Desinfectante.\n",
       "5                                    5. Esterilizante.\n",
       "6    2. Para esterilizar un catéter de plástico, se...\n",
       "7                                 1. Un horno Pasteur.\n",
       "8                                       2. Filtración.\n",
       "9                    3. Una sal de amonio cuaternario.\n",
       "Name: text, dtype: object"
      ]
     },
     "execution_count": 12,
     "metadata": {},
     "output_type": "execute_result"
    }
   ],
   "source": [
    "exam_df_concat: pd.DataFrame = process_multi_line_str(raw_exam_df)\n",
    "exam_df_concat.head(10)"
   ]
  },
  {
   "cell_type": "markdown",
   "metadata": {},
   "source": [
    "### Validating and Correction Incorrect Rows"
   ]
  },
  {
   "cell_type": "markdown",
   "metadata": {},
   "source": [
    "This section focuses on validating the number of rows in the cleaned DataFrame against the expected number and correcting any rows that do not conform to the expected format.\n",
    "\n",
    "**1. Calculating Expected and Actual Incorrect Rows:**\n",
    "\n",
    "We calculate the expected number of incorrect rows by subtracting the total expected rows from the current number of rows in the DataFrame. We then identify the actual number of incorrect rows by counting the rows that do not end with a period (\".\"), a colon (\":\") or interrogation sign (\"?\")."
   ]
  },
  {
   "cell_type": "code",
   "execution_count": 13,
   "metadata": {},
   "outputs": [
    {
     "name": "stdout",
     "output_type": "stream",
     "text": [
      "Number of expected incorrect rows = 8\n",
      "Number of rows not ending with '.', ':' or '?' = 10\n",
      "[873, 913, 944, 945, 1034, 1111, 1285, 1288, 1319, 1506]\n"
     ]
    }
   ],
   "source": [
    "num_rows_incorrect_expected: int = len(exam_df_concat) - total_num_rows\n",
    "num_rows_incorrect: int = exam_df_concat[~exam_df_concat.str.endswith((\".\", \":\", \"?\"))].count()\n",
    "id_rows_incorrect: list = exam_df_concat[~exam_df_concat.str.endswith((\".\", \":\", \"?\"))].index.to_list()\n",
    "print(f\"Number of expected incorrect rows = {num_rows_incorrect_expected}\")\n",
    "print(f\"Number of rows not ending with '.', ':' or '?' = {num_rows_incorrect}\")\n",
    "print(id_rows_incorrect)"
   ]
  },
  {
   "cell_type": "markdown",
   "metadata": {},
   "source": [
    "**2. Function: print_rows_incorrrect(wrong_id, df):**\n",
    "\n",
    "This function takes a list of incorrect row indices and the DataFrame as input. It then prints the row identified as incorrect along with the 2 rows before and 2 rows after, providing context to help determine how to fix the error."
   ]
  },
  {
   "cell_type": "code",
   "execution_count": 14,
   "metadata": {},
   "outputs": [],
   "source": [
    "def print_rows_incorrrect(wrong_id: list[int], df: pd.DataFrame) -> None:\n",
    "    \"\"\"Print +/- 2 rows for context\n",
    "\n",
    "    Args:\n",
    "        wrong_id (list): Generated list of wrong row_id\n",
    "        df (pd.DataFrame): DataFrame corresponding with the worng_id list\n",
    "    \"\"\"\n",
    "    for wid in wrong_id:\n",
    "        print(f\"Id to fix {wid}:\")\n",
    "        print(df.iloc[wid -2: wid +3])"
   ]
  },
  {
   "cell_type": "markdown",
   "metadata": {},
   "source": [
    "**3. Function: fix_incorrect(num_row, df):**\n",
    "\n",
    "This function takes a list of row indices to fix and the DataFrame. It iterates through the indices in reverse order to avoid index shifting problems. Each incorrect row is concatenated with the row immediately following it, and the subsequent row is then dropped. The DataFrame index is reset after each concatenation."
   ]
  },
  {
   "cell_type": "code",
   "execution_count": 15,
   "metadata": {},
   "outputs": [],
   "source": [
    "def fix_incorrect(num_row: list[int], df: pd.DataFrame) -> pd.DataFrame:\n",
    "    \"\"\"Fix the incorrect rows in the DataFrame\n",
    "\n",
    "    Args:\n",
    "        num_row (list): List of ids to fix\n",
    "        df (pd.DataFrame): The DataFrame to fix\n",
    "\n",
    "    Returns:\n",
    "        pd.DataFrame: Fixed\n",
    "    \"\"\"\n",
    "    num_row: list = sorted(num_row, reverse=True)\n",
    "    for n in num_row:\n",
    "        df.iloc[n] = df.iloc[n] + df.iloc[n + 1]\n",
    "        df = df.drop(n + 1)\n",
    "        df = df.reset_index(drop= True)\n",
    "    return df"
   ]
  },
  {
   "cell_type": "markdown",
   "metadata": {},
   "source": [
    "**4. Validation and Correction Logic:**\n",
    "\n",
    "We compare the expected and actual number of incorrect rows. If they match, we proceed to fix the incorrect rows using the `fix_incorrect` function. Otherwise, we print the context of the incorrect rows and raise a warning, indicating that manual inspection and correction are required."
   ]
  },
  {
   "cell_type": "code",
   "execution_count": 17,
   "metadata": {},
   "outputs": [
    {
     "name": "stdout",
     "output_type": "stream",
     "text": [
      "Id to fix 873:\n",
      "871    1. El número de filas y de columnas no puede s...\n",
      "872    2. Debe haber por lo menos un 20% de esperados...\n",
      "873     3. Es válido para cualquier test de contingencia\n",
      "874                                                 2x2.\n",
      "875    4. Es preferible utilizar el test de Chi-cuadr...\n",
      "Name: text, dtype: object\n",
      "Id to fix 913:\n",
      "911    4. Su denominador es n y el de la poblacional ...\n",
      "912                   5. No hay diferencias algebraicas.\n",
      "913    153. En un test de hipótesis con un error alfa de\n",
      "914                                                0,01:\n",
      "915    1. Un 1% de veces se rechazaría la hipótesis n...\n",
      "Name: text, dtype: object\n",
      "Id to fix 944:\n",
      "942                                   4. Centralización.\n",
      "943                                        5. Tendencia.\n",
      "944    158. Siempre que la variable en estudio siga u...\n",
      "945                                              2 / S 2\n",
      "946                            2 sigue una distribución:\n",
      "Name: text, dtype: object\n",
      "Id to fix 945:\n",
      "943                                        5. Tendencia.\n",
      "944    158. Siempre que la variable en estudio siga u...\n",
      "945                                              2 / S 2\n",
      "946                            2 sigue una distribución:\n",
      "947                          1. Chi cuadrado de Pearson.\n",
      "Name: text, dtype: object\n",
      "Id to fix 1034:\n",
      "1032                                      2. 33%.\n",
      "1033                                      3. 50%.\n",
      "1034                                      4. 75%,\n",
      "1035                                     5. 100%.\n",
      "1036    173. Corresponde a un síndrome de Turner:\n",
      "Name: text, dtype: object\n",
      "Id to fix 1111:\n",
      "1109          1. Todos los descendientes serán afectados.\n",
      "1110    2. Los hijos varones tienen un riesgo del 50% ...\n",
      "1111      3. Todos los descendientes tienen un riesgo del\n",
      "1112                                50% de ser afectados.\n",
      "1113     4. Sólo las hijas heredarán la mutación materna.\n",
      "Name: text, dtype: object\n",
      "Id to fix 1285:\n",
      "1283      214. En el corazón, la acción de la adrenalina:\n",
      "1284             1. Produce un aumento de 2,6-fisfosfato.\n",
      "1285                            2. Desfosforila la enzima\n",
      "1286    6-fosfofructo-2-quinasa/fructosa 2,6-bisfosfat...\n",
      "1287                  3.    Inhibe la proteína quinasa A.\n",
      "Name: text, dtype: object\n",
      "Id to fix 1288:\n",
      "1286    6-fosfofructo-2-quinasa/fructosa 2,6-bisfosfat...\n",
      "1287                  3.    Inhibe la proteína quinasa A.\n",
      "1288                   4.    Disminuye la actividad de la\n",
      "1289                             6-fosfofructo-1-quinasa.\n",
      "1290                          5.    Inhibe la glucolisis.\n",
      "Name: text, dtype: object\n",
      "Id to fix 1319:\n",
      "1317                              2. Lipoproteína lipasa.\n",
      "1318                       3. Monoacilglicerol hidrolasa.\n",
      "1319             4. Lecitina: colesterol acil transferasa\n",
      "1320                          5. Acil-CoA deshidrogenasa.\n",
      "1321    220. La apolipoproteína B-100 está presente pr...\n",
      "Name: text, dtype: object\n",
      "Id to fix 1506:\n",
      "1504    3. La RNA polimerasa tienen sistema de correcc...\n",
      "1505    4. La RNA polimerasa cataliza la eliminación d...\n",
      "1506         5. La RNA polimerasa polimeriza en dirección\n",
      "1507                                               5’→3’.\n",
      "1508                                 251. Las quinolonas:\n",
      "Name: text, dtype: object\n"
     ]
    }
   ],
   "source": [
    "if num_rows_incorrect_expected == num_rows_incorrect:\n",
    "    exam_df_fixed = fix_incorrect(id_rows_incorrect, exam_df_concat)\n",
    "    df_correct_rows: bool = len(exam_df_fixed) == num_rows_incorrect_expected\n",
    "elif num_rows_incorrect == 0:\n",
    "    exam_df_fixed = exam_df_concat\n",
    "else:\n",
    "    print_rows_incorrrect(id_rows_incorrect, exam_df_concat)\n",
    "    # raise Warning(\"More incorrect rows that expected, uncomment the lines below and add ids to the list, and comment this line\")\n",
    "    rows_fix: list[int] = [873, 913, 944, 945, 1111, 1285, 1288, 1506]\n",
    "    exam_df_fixed: pd.DataFrame = fix_incorrect(rows_fix, exam_df_concat)"
   ]
  },
  {
   "cell_type": "markdown",
   "metadata": {},
   "source": [
    "**5. Verification of Corrected Rows:**\n",
    "\n",
    "We print the expected total number of rows and the actual number of rows in the corrected DataFrame to verify the results of the correction process.\n",
    "\n",
    "If the number is diferent it raises a Warning"
   ]
  },
  {
   "cell_type": "code",
   "execution_count": 18,
   "metadata": {},
   "outputs": [
    {
     "name": "stdout",
     "output_type": "stream",
     "text": [
      "Correct number of rows = 1560\n",
      "Number of rows in df = 1560\n"
     ]
    }
   ],
   "source": [
    "print(f\"Correct number of rows = {total_num_rows}\\nNumber of rows in df = {exam_df_fixed.shape[0]}\")\n",
    "if total_num_rows != exam_df_fixed.shape[0]:\n",
    "    raise Warning(\"More or Less rows than expected\")"
   ]
  },
  {
   "cell_type": "markdown",
   "metadata": {},
   "source": [
    "### Pivoting the DataFrame\n",
    "\n",
    "This section focuses on transforming the cleaned exam data into a structured format suitable for analysis. The DataFrame is pivoted to create columns for each question and its corresponding options.\n",
    "\n",
    "**1. Preparing the DataFrame for Pivoting:**\n",
    "\n",
    "The `exam_df_fixed` Series is converted to a DataFrame, and a 'group' column is created to identify each question and its options. An 'option_num' column is then generated to enumerate the options within each group.\n"
   ]
  },
  {
   "cell_type": "code",
   "execution_count": 19,
   "metadata": {},
   "outputs": [],
   "source": [
    "exam_df_fixed = exam_df_fixed.to_frame()\n",
    "groups: pd.Series = pd.Series((exam_df_fixed.index // (num_questions+1)) +1)\n",
    "exam_df_fixed[\"group\"] = groups  \n",
    "exam_df_fixed[\"option_num\"] = exam_df_fixed.groupby(\"group\").cumcount() + 1"
   ]
  },
  {
   "cell_type": "markdown",
   "metadata": {},
   "source": [
    "**2. Pivoting the DataFrame:**\n",
    "\n",
    "The DataFrame is pivoted using the 'group' column as the index, the 'option_num' column as the columns, and the 'text' column as the values. The index is then reset."
   ]
  },
  {
   "cell_type": "code",
   "execution_count": 20,
   "metadata": {},
   "outputs": [],
   "source": [
    "exam_df_pivot: pd.DataFrame = exam_df_fixed.pivot(index=\"group\", columns=\"option_num\", values=\"text\")\n",
    "exam_df_pivot = exam_df_pivot.reset_index()"
   ]
  },
  {
   "cell_type": "markdown",
   "metadata": {},
   "source": [
    "**3. Renaming Columns:**\n",
    "\n",
    "The columns are renamed to more descriptive names, such as \"Question\", \"Option_1\", \"Option_2\", etc."
   ]
  },
  {
   "cell_type": "code",
   "execution_count": 21,
   "metadata": {},
   "outputs": [],
   "source": [
    "key_list: list = [x for x in range(1, num_questions+2, 1)]\n",
    "val_list: list = [\"Question\"] + [f\"Option_{x}\" for x in range(1, num_questions + 1, 1)]\n",
    "\n",
    "exam_df_pivot = exam_df_pivot.rename_axis(None, axis=1).rename(columns=dict(zip(key_list, val_list)))"
   ]
  },
  {
   "cell_type": "markdown",
   "metadata": {},
   "source": [
    "**4. Dropping the 'group' Column:**\n",
    "\n",
    "The 'group' column is dropped as it is no longer needed"
   ]
  },
  {
   "cell_type": "code",
   "execution_count": 22,
   "metadata": {},
   "outputs": [],
   "source": [
    "exam_df_pivot = exam_df_pivot.drop(columns=[\"group\"])"
   ]
  },
  {
   "cell_type": "markdown",
   "metadata": {},
   "source": [
    "**5. Displaying the Pivoted DataFrame:**\n",
    "\n",
    "The first 10 rows of the pivoted DataFrame are displayed to verify the results of the transformation."
   ]
  },
  {
   "cell_type": "code",
   "execution_count": 23,
   "metadata": {},
   "outputs": [
    {
     "data": {
      "application/vnd.microsoft.datawrangler.viewer.v0+json": {
       "columns": [
        {
         "name": "index",
         "rawType": "int64",
         "type": "integer"
        },
        {
         "name": "Question",
         "rawType": "object",
         "type": "string"
        },
        {
         "name": "Option_1",
         "rawType": "object",
         "type": "string"
        },
        {
         "name": "Option_2",
         "rawType": "object",
         "type": "string"
        },
        {
         "name": "Option_3",
         "rawType": "object",
         "type": "string"
        },
        {
         "name": "Option_4",
         "rawType": "object",
         "type": "string"
        },
        {
         "name": "Option_5",
         "rawType": "object",
         "type": "string"
        }
       ],
       "conversionMethod": "pd.DataFrame",
       "ref": "c55969d3-e66f-43aa-a58c-168b34ec58c2",
       "rows": [
        [
         "0",
         "1. Un agente que está impidiendo la división bacteriana actúa como:",
         "1. Antibiótico.",
         "2. Bactericida.",
         "3. Bacteriostático.",
         "4. Desinfectante.",
         "5. Esterilizante."
        ],
        [
         "1",
         "2. Para esterilizar un catéter de plástico, se puede emplear:",
         "1. Un horno Pasteur.",
         "2. Filtración.",
         "3. Una sal de amonio cuaternario.",
         "4. Un autoclave de óxido de etileno.",
         "5. Un autoclave convencional."
        ],
        [
         "2",
         "3. Un medio de cultivo es diferencial cuando:",
         "1. Provoca la generación de esporas u otras formas de resistencia.",
         "2. Inhibe algunos microorganismos, pero no otros.",
         "3. Favorece el crecimiento de determinados microorganismos.",
         "4. Permite distinguir determinados microorganismos con respecto al resto.",
         "5. Sólo permite el desarrollo de bacterias anaerobias."
        ],
        [
         "3",
         "4. Durante la síntesis del peptidoglucano bacteriano:",
         "1. Se sintetiza un hexapéptido en el citoplasma.",
         "2. Hay reacciones de transpeptidación.",
         "3. Se libera L-alanina.",
         "4. Actúan las murámico-permeasas.",
         "5. La bacteria es insensible a las cefalosporinas."
        ],
        [
         "4",
         "5. En la endospora bacteriana, el peptidoglicano está:",
         "1. En el córtex.",
         "2. En la cutícula.",
         "3. En el periplasma.",
         "4. En el exosporio.",
         "5. Ausente."
        ],
        [
         "5",
         "6. Energéticamente, el movimiento flagelar bacteriano depende directamente de:",
         "1. El ATP.",
         "2. El fosfoenolpiruvato.",
         "3. La contracción de la flagelina.",
         "4. Una quinasa específica.",
         "5. El gradiente electroquímico."
        ],
        [
         "6",
         "7. E. coli es un microorganismo:",
         "1. Psicrófilo.",
         "2. Mesófilo.",
         "3. Termófilo.",
         "4. Xerófilo.",
         "5. Acidófilo."
        ],
        [
         "7",
         "8. Una diferencia importante entre las bacterias respiradoras y fermentadoras es que las segundas:",
         "1. Son anaerobias estrictas.",
         "2. Son heterótrofos.",
         "3. Sólo usan azúcares.",
         "4. No generan gradiente electroquímico.",
         "5. Usan principalmente fosforilación a nivel de sustrato."
        ],
        [
         "8",
         "9. Los plásmidos se caracterizan por:",
         "1. Integrarse en el genoma de la célula hospedadora.",
         "2. Dirigir el proceso de conjugación bacteriana.",
         "3. Replicarse autónomamente.",
         "4. Portar genes de resistencia a antibióticos o de virulencia.",
         "5. Ser moléculas de DNA circular."
        ],
        [
         "9",
         "10. Los transposones bacterianos:",
         "1. Poseen replicación autónoma.",
         "2. Son un tipo de propfago.",
         "3. No tienen secuencias de inserción.",
         "4. Son plásmidos especializados.",
         "5. Pueden incluir genes de  resistencia a antibióticos."
        ]
       ],
       "shape": {
        "columns": 6,
        "rows": 10
       }
      },
      "text/html": [
       "<div>\n",
       "<style scoped>\n",
       "    .dataframe tbody tr th:only-of-type {\n",
       "        vertical-align: middle;\n",
       "    }\n",
       "\n",
       "    .dataframe tbody tr th {\n",
       "        vertical-align: top;\n",
       "    }\n",
       "\n",
       "    .dataframe thead th {\n",
       "        text-align: right;\n",
       "    }\n",
       "</style>\n",
       "<table border=\"1\" class=\"dataframe\">\n",
       "  <thead>\n",
       "    <tr style=\"text-align: right;\">\n",
       "      <th></th>\n",
       "      <th>Question</th>\n",
       "      <th>Option_1</th>\n",
       "      <th>Option_2</th>\n",
       "      <th>Option_3</th>\n",
       "      <th>Option_4</th>\n",
       "      <th>Option_5</th>\n",
       "    </tr>\n",
       "  </thead>\n",
       "  <tbody>\n",
       "    <tr>\n",
       "      <th>0</th>\n",
       "      <td>1. Un agente que está impidiendo la división b...</td>\n",
       "      <td>1. Antibiótico.</td>\n",
       "      <td>2. Bactericida.</td>\n",
       "      <td>3. Bacteriostático.</td>\n",
       "      <td>4. Desinfectante.</td>\n",
       "      <td>5. Esterilizante.</td>\n",
       "    </tr>\n",
       "    <tr>\n",
       "      <th>1</th>\n",
       "      <td>2. Para esterilizar un catéter de plástico, se...</td>\n",
       "      <td>1. Un horno Pasteur.</td>\n",
       "      <td>2. Filtración.</td>\n",
       "      <td>3. Una sal de amonio cuaternario.</td>\n",
       "      <td>4. Un autoclave de óxido de etileno.</td>\n",
       "      <td>5. Un autoclave convencional.</td>\n",
       "    </tr>\n",
       "    <tr>\n",
       "      <th>2</th>\n",
       "      <td>3. Un medio de cultivo es diferencial cuando:</td>\n",
       "      <td>1. Provoca la generación de esporas u otras fo...</td>\n",
       "      <td>2. Inhibe algunos microorganismos, pero no otros.</td>\n",
       "      <td>3. Favorece el crecimiento de determinados mic...</td>\n",
       "      <td>4. Permite distinguir determinados microorgani...</td>\n",
       "      <td>5. Sólo permite el desarrollo de bacterias ana...</td>\n",
       "    </tr>\n",
       "    <tr>\n",
       "      <th>3</th>\n",
       "      <td>4. Durante la síntesis del peptidoglucano bact...</td>\n",
       "      <td>1. Se sintetiza un hexapéptido en el citoplasma.</td>\n",
       "      <td>2. Hay reacciones de transpeptidación.</td>\n",
       "      <td>3. Se libera L-alanina.</td>\n",
       "      <td>4. Actúan las murámico-permeasas.</td>\n",
       "      <td>5. La bacteria es insensible a las cefalospori...</td>\n",
       "    </tr>\n",
       "    <tr>\n",
       "      <th>4</th>\n",
       "      <td>5. En la endospora bacteriana, el peptidoglica...</td>\n",
       "      <td>1. En el córtex.</td>\n",
       "      <td>2. En la cutícula.</td>\n",
       "      <td>3. En el periplasma.</td>\n",
       "      <td>4. En el exosporio.</td>\n",
       "      <td>5. Ausente.</td>\n",
       "    </tr>\n",
       "    <tr>\n",
       "      <th>5</th>\n",
       "      <td>6. Energéticamente, el movimiento flagelar bac...</td>\n",
       "      <td>1. El ATP.</td>\n",
       "      <td>2. El fosfoenolpiruvato.</td>\n",
       "      <td>3. La contracción de la flagelina.</td>\n",
       "      <td>4. Una quinasa específica.</td>\n",
       "      <td>5. El gradiente electroquímico.</td>\n",
       "    </tr>\n",
       "    <tr>\n",
       "      <th>6</th>\n",
       "      <td>7. E. coli es un microorganismo:</td>\n",
       "      <td>1. Psicrófilo.</td>\n",
       "      <td>2. Mesófilo.</td>\n",
       "      <td>3. Termófilo.</td>\n",
       "      <td>4. Xerófilo.</td>\n",
       "      <td>5. Acidófilo.</td>\n",
       "    </tr>\n",
       "    <tr>\n",
       "      <th>7</th>\n",
       "      <td>8. Una diferencia importante entre las bacteri...</td>\n",
       "      <td>1. Son anaerobias estrictas.</td>\n",
       "      <td>2. Son heterótrofos.</td>\n",
       "      <td>3. Sólo usan azúcares.</td>\n",
       "      <td>4. No generan gradiente electroquímico.</td>\n",
       "      <td>5. Usan principalmente fosforilación a nivel d...</td>\n",
       "    </tr>\n",
       "    <tr>\n",
       "      <th>8</th>\n",
       "      <td>9. Los plásmidos se caracterizan por:</td>\n",
       "      <td>1. Integrarse en el genoma de la célula hosped...</td>\n",
       "      <td>2. Dirigir el proceso de conjugación bacteriana.</td>\n",
       "      <td>3. Replicarse autónomamente.</td>\n",
       "      <td>4. Portar genes de resistencia a antibióticos ...</td>\n",
       "      <td>5. Ser moléculas de DNA circular.</td>\n",
       "    </tr>\n",
       "    <tr>\n",
       "      <th>9</th>\n",
       "      <td>10. Los transposones bacterianos:</td>\n",
       "      <td>1. Poseen replicación autónoma.</td>\n",
       "      <td>2. Son un tipo de propfago.</td>\n",
       "      <td>3. No tienen secuencias de inserción.</td>\n",
       "      <td>4. Son plásmidos especializados.</td>\n",
       "      <td>5. Pueden incluir genes de  resistencia a anti...</td>\n",
       "    </tr>\n",
       "  </tbody>\n",
       "</table>\n",
       "</div>"
      ],
      "text/plain": [
       "                                            Question  \\\n",
       "0  1. Un agente que está impidiendo la división b...   \n",
       "1  2. Para esterilizar un catéter de plástico, se...   \n",
       "2      3. Un medio de cultivo es diferencial cuando:   \n",
       "3  4. Durante la síntesis del peptidoglucano bact...   \n",
       "4  5. En la endospora bacteriana, el peptidoglica...   \n",
       "5  6. Energéticamente, el movimiento flagelar bac...   \n",
       "6                   7. E. coli es un microorganismo:   \n",
       "7  8. Una diferencia importante entre las bacteri...   \n",
       "8              9. Los plásmidos se caracterizan por:   \n",
       "9                  10. Los transposones bacterianos:   \n",
       "\n",
       "                                            Option_1  \\\n",
       "0                                    1. Antibiótico.   \n",
       "1                               1. Un horno Pasteur.   \n",
       "2  1. Provoca la generación de esporas u otras fo...   \n",
       "3   1. Se sintetiza un hexapéptido en el citoplasma.   \n",
       "4                                   1. En el córtex.   \n",
       "5                                         1. El ATP.   \n",
       "6                                     1. Psicrófilo.   \n",
       "7                       1. Son anaerobias estrictas.   \n",
       "8  1. Integrarse en el genoma de la célula hosped...   \n",
       "9                    1. Poseen replicación autónoma.   \n",
       "\n",
       "                                            Option_2  \\\n",
       "0                                    2. Bactericida.   \n",
       "1                                     2. Filtración.   \n",
       "2  2. Inhibe algunos microorganismos, pero no otros.   \n",
       "3             2. Hay reacciones de transpeptidación.   \n",
       "4                                 2. En la cutícula.   \n",
       "5                           2. El fosfoenolpiruvato.   \n",
       "6                                       2. Mesófilo.   \n",
       "7                               2. Son heterótrofos.   \n",
       "8   2. Dirigir el proceso de conjugación bacteriana.   \n",
       "9                        2. Son un tipo de propfago.   \n",
       "\n",
       "                                            Option_3  \\\n",
       "0                                3. Bacteriostático.   \n",
       "1                  3. Una sal de amonio cuaternario.   \n",
       "2  3. Favorece el crecimiento de determinados mic...   \n",
       "3                            3. Se libera L-alanina.   \n",
       "4                               3. En el periplasma.   \n",
       "5                 3. La contracción de la flagelina.   \n",
       "6                                      3. Termófilo.   \n",
       "7                             3. Sólo usan azúcares.   \n",
       "8                       3. Replicarse autónomamente.   \n",
       "9              3. No tienen secuencias de inserción.   \n",
       "\n",
       "                                            Option_4  \\\n",
       "0                                  4. Desinfectante.   \n",
       "1               4. Un autoclave de óxido de etileno.   \n",
       "2  4. Permite distinguir determinados microorgani...   \n",
       "3                  4. Actúan las murámico-permeasas.   \n",
       "4                                4. En el exosporio.   \n",
       "5                         4. Una quinasa específica.   \n",
       "6                                       4. Xerófilo.   \n",
       "7            4. No generan gradiente electroquímico.   \n",
       "8  4. Portar genes de resistencia a antibióticos ...   \n",
       "9                   4. Son plásmidos especializados.   \n",
       "\n",
       "                                            Option_5  \n",
       "0                                  5. Esterilizante.  \n",
       "1                      5. Un autoclave convencional.  \n",
       "2  5. Sólo permite el desarrollo de bacterias ana...  \n",
       "3  5. La bacteria es insensible a las cefalospori...  \n",
       "4                                        5. Ausente.  \n",
       "5                    5. El gradiente electroquímico.  \n",
       "6                                      5. Acidófilo.  \n",
       "7  5. Usan principalmente fosforilación a nivel d...  \n",
       "8                  5. Ser moléculas de DNA circular.  \n",
       "9  5. Pueden incluir genes de  resistencia a anti...  "
      ]
     },
     "execution_count": 23,
     "metadata": {},
     "output_type": "execute_result"
    }
   ],
   "source": [
    "exam_df_pivot.head(10)"
   ]
  },
  {
   "cell_type": "markdown",
   "metadata": {},
   "source": [
    "## Answers tsv\n",
    "\n",
    "This section focuses on cleaning and consolidating the answer key data from the TSV file. The original data contains duplicate columns, which are processed and combined into a single, clean DataFrame.\n",
    "\n",
    "**1. Initial Cleaning and Numeric Conversion:**\n",
    "\n",
    "* Iterates through all columns of the `raw_answers_df` DataFrame.\n",
    "* For string-type columns, replaces all occurrences of \"A\" with \"0\".\n",
    "* Non-string columns are ignored.\n",
    "* Applies `pd.to_numeric` to all columns, converting values to numbers (floats) and handling conversion errors with `errors='coerce'`, which replaces non-numeric values with `NaN`.\n",
    "* Replaces all `NaN` values with `999.9`.\n",
    "* Displays the first few rows of the transformed DataFrame (`raw_answers_df_2`)."
   ]
  },
  {
   "cell_type": "code",
   "execution_count": 24,
   "metadata": {},
   "outputs": [
    {
     "data": {
      "application/vnd.microsoft.datawrangler.viewer.v0+json": {
       "columns": [
        {
         "name": "index",
         "rawType": "int64",
         "type": "integer"
        },
        {
         "name": "0",
         "rawType": "int64",
         "type": "integer"
        },
        {
         "name": "1",
         "rawType": "int64",
         "type": "integer"
        },
        {
         "name": "2",
         "rawType": "int64",
         "type": "integer"
        },
        {
         "name": "3",
         "rawType": "int64",
         "type": "integer"
        },
        {
         "name": "4",
         "rawType": "int64",
         "type": "integer"
        },
        {
         "name": "5",
         "rawType": "int64",
         "type": "integer"
        },
        {
         "name": "6",
         "rawType": "int64",
         "type": "integer"
        },
        {
         "name": "7",
         "rawType": "int64",
         "type": "integer"
        },
        {
         "name": "8",
         "rawType": "int64",
         "type": "integer"
        },
        {
         "name": "9",
         "rawType": "int64",
         "type": "integer"
        }
       ],
       "conversionMethod": "pd.DataFrame",
       "ref": "a85e056b-ecff-45fc-9ff3-5701e4443a73",
       "rows": [
        [
         "0",
         "1",
         "2",
         "3",
         "4",
         "5",
         "6",
         "7",
         "8",
         "9",
         "10"
        ],
        [
         "1",
         "3",
         "4",
         "4",
         "2",
         "1",
         "5",
         "2",
         "5",
         "3",
         "5"
        ],
        [
         "2",
         "21",
         "22",
         "23",
         "24",
         "25",
         "26",
         "27",
         "28",
         "29",
         "30"
        ],
        [
         "3",
         "1",
         "3",
         "2",
         "2",
         "1",
         "2",
         "5",
         "3",
         "4",
         "1"
        ],
        [
         "4",
         "41",
         "42",
         "43",
         "44",
         "45",
         "46",
         "47",
         "48",
         "49",
         "50"
        ],
        [
         "5",
         "1",
         "1",
         "2",
         "4",
         "4",
         "3",
         "4",
         "5",
         "2",
         "4"
        ],
        [
         "6",
         "61",
         "62",
         "63",
         "64",
         "65",
         "66",
         "67",
         "68",
         "69",
         "70"
        ],
        [
         "7",
         "1",
         "3",
         "3",
         "4",
         "1",
         "2",
         "4",
         "2",
         "4",
         "3"
        ],
        [
         "8",
         "81",
         "82",
         "83",
         "84",
         "85",
         "86",
         "87",
         "88",
         "89",
         "90"
        ],
        [
         "9",
         "5",
         "4",
         "5",
         "2",
         "2",
         "3",
         "2",
         "5",
         "1",
         "4"
        ]
       ],
       "shape": {
        "columns": 10,
        "rows": 10
       }
      },
      "text/html": [
       "<div>\n",
       "<style scoped>\n",
       "    .dataframe tbody tr th:only-of-type {\n",
       "        vertical-align: middle;\n",
       "    }\n",
       "\n",
       "    .dataframe tbody tr th {\n",
       "        vertical-align: top;\n",
       "    }\n",
       "\n",
       "    .dataframe thead th {\n",
       "        text-align: right;\n",
       "    }\n",
       "</style>\n",
       "<table border=\"1\" class=\"dataframe\">\n",
       "  <thead>\n",
       "    <tr style=\"text-align: right;\">\n",
       "      <th></th>\n",
       "      <th>0</th>\n",
       "      <th>1</th>\n",
       "      <th>2</th>\n",
       "      <th>3</th>\n",
       "      <th>4</th>\n",
       "      <th>5</th>\n",
       "      <th>6</th>\n",
       "      <th>7</th>\n",
       "      <th>8</th>\n",
       "      <th>9</th>\n",
       "    </tr>\n",
       "  </thead>\n",
       "  <tbody>\n",
       "    <tr>\n",
       "      <th>0</th>\n",
       "      <td>1</td>\n",
       "      <td>2</td>\n",
       "      <td>3</td>\n",
       "      <td>4</td>\n",
       "      <td>5</td>\n",
       "      <td>6</td>\n",
       "      <td>7</td>\n",
       "      <td>8</td>\n",
       "      <td>9</td>\n",
       "      <td>10</td>\n",
       "    </tr>\n",
       "    <tr>\n",
       "      <th>1</th>\n",
       "      <td>3</td>\n",
       "      <td>4</td>\n",
       "      <td>4</td>\n",
       "      <td>2</td>\n",
       "      <td>1</td>\n",
       "      <td>5</td>\n",
       "      <td>2</td>\n",
       "      <td>5</td>\n",
       "      <td>3</td>\n",
       "      <td>5</td>\n",
       "    </tr>\n",
       "    <tr>\n",
       "      <th>2</th>\n",
       "      <td>21</td>\n",
       "      <td>22</td>\n",
       "      <td>23</td>\n",
       "      <td>24</td>\n",
       "      <td>25</td>\n",
       "      <td>26</td>\n",
       "      <td>27</td>\n",
       "      <td>28</td>\n",
       "      <td>29</td>\n",
       "      <td>30</td>\n",
       "    </tr>\n",
       "    <tr>\n",
       "      <th>3</th>\n",
       "      <td>1</td>\n",
       "      <td>3</td>\n",
       "      <td>2</td>\n",
       "      <td>2</td>\n",
       "      <td>1</td>\n",
       "      <td>2</td>\n",
       "      <td>5</td>\n",
       "      <td>3</td>\n",
       "      <td>4</td>\n",
       "      <td>1</td>\n",
       "    </tr>\n",
       "    <tr>\n",
       "      <th>4</th>\n",
       "      <td>41</td>\n",
       "      <td>42</td>\n",
       "      <td>43</td>\n",
       "      <td>44</td>\n",
       "      <td>45</td>\n",
       "      <td>46</td>\n",
       "      <td>47</td>\n",
       "      <td>48</td>\n",
       "      <td>49</td>\n",
       "      <td>50</td>\n",
       "    </tr>\n",
       "    <tr>\n",
       "      <th>5</th>\n",
       "      <td>1</td>\n",
       "      <td>1</td>\n",
       "      <td>2</td>\n",
       "      <td>4</td>\n",
       "      <td>4</td>\n",
       "      <td>3</td>\n",
       "      <td>4</td>\n",
       "      <td>5</td>\n",
       "      <td>2</td>\n",
       "      <td>4</td>\n",
       "    </tr>\n",
       "    <tr>\n",
       "      <th>6</th>\n",
       "      <td>61</td>\n",
       "      <td>62</td>\n",
       "      <td>63</td>\n",
       "      <td>64</td>\n",
       "      <td>65</td>\n",
       "      <td>66</td>\n",
       "      <td>67</td>\n",
       "      <td>68</td>\n",
       "      <td>69</td>\n",
       "      <td>70</td>\n",
       "    </tr>\n",
       "    <tr>\n",
       "      <th>7</th>\n",
       "      <td>1</td>\n",
       "      <td>3</td>\n",
       "      <td>3</td>\n",
       "      <td>4</td>\n",
       "      <td>1</td>\n",
       "      <td>2</td>\n",
       "      <td>4</td>\n",
       "      <td>2</td>\n",
       "      <td>4</td>\n",
       "      <td>3</td>\n",
       "    </tr>\n",
       "    <tr>\n",
       "      <th>8</th>\n",
       "      <td>81</td>\n",
       "      <td>82</td>\n",
       "      <td>83</td>\n",
       "      <td>84</td>\n",
       "      <td>85</td>\n",
       "      <td>86</td>\n",
       "      <td>87</td>\n",
       "      <td>88</td>\n",
       "      <td>89</td>\n",
       "      <td>90</td>\n",
       "    </tr>\n",
       "    <tr>\n",
       "      <th>9</th>\n",
       "      <td>5</td>\n",
       "      <td>4</td>\n",
       "      <td>5</td>\n",
       "      <td>2</td>\n",
       "      <td>2</td>\n",
       "      <td>3</td>\n",
       "      <td>2</td>\n",
       "      <td>5</td>\n",
       "      <td>1</td>\n",
       "      <td>4</td>\n",
       "    </tr>\n",
       "  </tbody>\n",
       "</table>\n",
       "</div>"
      ],
      "text/plain": [
       "    0   1   2   3   4   5   6   7   8   9\n",
       "0   1   2   3   4   5   6   7   8   9  10\n",
       "1   3   4   4   2   1   5   2   5   3   5\n",
       "2  21  22  23  24  25  26  27  28  29  30\n",
       "3   1   3   2   2   1   2   5   3   4   1\n",
       "4  41  42  43  44  45  46  47  48  49  50\n",
       "5   1   1   2   4   4   3   4   5   2   4\n",
       "6  61  62  63  64  65  66  67  68  69  70\n",
       "7   1   3   3   4   1   2   4   2   4   3\n",
       "8  81  82  83  84  85  86  87  88  89  90\n",
       "9   5   4   5   2   2   3   2   5   1   4"
      ]
     },
     "execution_count": 24,
     "metadata": {},
     "output_type": "execute_result"
    }
   ],
   "source": [
    "for col in raw_answers_df:\n",
    "    try:\n",
    "        raw_answers_df[col] = raw_answers_df[col].str.replace(\"A\", \"0\")\n",
    "    except AttributeError:\n",
    "        pass\n",
    "\n",
    "raw_answers_df_2 = raw_answers_df.apply(pd.to_numeric, errors= 'coerce')\n",
    "raw_answers_df_2 = raw_answers_df_2.fillna(999.9)\n",
    "raw_answers_df_2.head(10)"
   ]
  },
  {
   "cell_type": "code",
   "execution_count": 25,
   "metadata": {},
   "outputs": [
    {
     "data": {
      "application/vnd.microsoft.datawrangler.viewer.v0+json": {
       "columns": [
        {
         "name": "index",
         "rawType": "int64",
         "type": "integer"
        },
        {
         "name": "0",
         "rawType": "int64",
         "type": "integer"
        },
        {
         "name": "1",
         "rawType": "int64",
         "type": "integer"
        },
        {
         "name": "2",
         "rawType": "int64",
         "type": "integer"
        },
        {
         "name": "3",
         "rawType": "int64",
         "type": "integer"
        },
        {
         "name": "4",
         "rawType": "int64",
         "type": "integer"
        },
        {
         "name": "5",
         "rawType": "int64",
         "type": "integer"
        },
        {
         "name": "6",
         "rawType": "int64",
         "type": "integer"
        },
        {
         "name": "7",
         "rawType": "int64",
         "type": "integer"
        },
        {
         "name": "8",
         "rawType": "int64",
         "type": "integer"
        },
        {
         "name": "9",
         "rawType": "int64",
         "type": "integer"
        }
       ],
       "conversionMethod": "pd.DataFrame",
       "ref": "c1c58be5-316c-4041-9840-97ad23e96ad5",
       "rows": [
        [
         "42",
         "171",
         "172",
         "173",
         "174",
         "175",
         "176",
         "177",
         "178",
         "179",
         "180"
        ],
        [
         "43",
         "3",
         "5",
         "4",
         "4",
         "1",
         "4",
         "5",
         "1",
         "5",
         "5"
        ],
        [
         "44",
         "191",
         "192",
         "193",
         "194",
         "195",
         "196",
         "197",
         "198",
         "199",
         "200"
        ],
        [
         "45",
         "2",
         "2",
         "1",
         "5",
         "1",
         "2",
         "2",
         "4",
         "5",
         "3"
        ],
        [
         "46",
         "211",
         "212",
         "213",
         "214",
         "215",
         "216",
         "217",
         "218",
         "219",
         "220"
        ],
        [
         "47",
         "2",
         "1",
         "3",
         "0",
         "4",
         "1",
         "4",
         "0",
         "2",
         "2"
        ],
        [
         "48",
         "231",
         "232",
         "233",
         "234",
         "235",
         "236",
         "237",
         "238",
         "239",
         "240"
        ],
        [
         "49",
         "5",
         "2",
         "4",
         "5",
         "4",
         "5",
         "4",
         "0",
         "4",
         "2"
        ],
        [
         "50",
         "251",
         "252",
         "253",
         "254",
         "255",
         "256",
         "257",
         "258",
         "259",
         "260"
        ],
        [
         "51",
         "5",
         "2",
         "4",
         "2",
         "3",
         "2",
         "2",
         "3",
         "3",
         "1"
        ]
       ],
       "shape": {
        "columns": 10,
        "rows": 10
       }
      },
      "text/html": [
       "<div>\n",
       "<style scoped>\n",
       "    .dataframe tbody tr th:only-of-type {\n",
       "        vertical-align: middle;\n",
       "    }\n",
       "\n",
       "    .dataframe tbody tr th {\n",
       "        vertical-align: top;\n",
       "    }\n",
       "\n",
       "    .dataframe thead th {\n",
       "        text-align: right;\n",
       "    }\n",
       "</style>\n",
       "<table border=\"1\" class=\"dataframe\">\n",
       "  <thead>\n",
       "    <tr style=\"text-align: right;\">\n",
       "      <th></th>\n",
       "      <th>0</th>\n",
       "      <th>1</th>\n",
       "      <th>2</th>\n",
       "      <th>3</th>\n",
       "      <th>4</th>\n",
       "      <th>5</th>\n",
       "      <th>6</th>\n",
       "      <th>7</th>\n",
       "      <th>8</th>\n",
       "      <th>9</th>\n",
       "    </tr>\n",
       "  </thead>\n",
       "  <tbody>\n",
       "    <tr>\n",
       "      <th>42</th>\n",
       "      <td>171</td>\n",
       "      <td>172</td>\n",
       "      <td>173</td>\n",
       "      <td>174</td>\n",
       "      <td>175</td>\n",
       "      <td>176</td>\n",
       "      <td>177</td>\n",
       "      <td>178</td>\n",
       "      <td>179</td>\n",
       "      <td>180</td>\n",
       "    </tr>\n",
       "    <tr>\n",
       "      <th>43</th>\n",
       "      <td>3</td>\n",
       "      <td>5</td>\n",
       "      <td>4</td>\n",
       "      <td>4</td>\n",
       "      <td>1</td>\n",
       "      <td>4</td>\n",
       "      <td>5</td>\n",
       "      <td>1</td>\n",
       "      <td>5</td>\n",
       "      <td>5</td>\n",
       "    </tr>\n",
       "    <tr>\n",
       "      <th>44</th>\n",
       "      <td>191</td>\n",
       "      <td>192</td>\n",
       "      <td>193</td>\n",
       "      <td>194</td>\n",
       "      <td>195</td>\n",
       "      <td>196</td>\n",
       "      <td>197</td>\n",
       "      <td>198</td>\n",
       "      <td>199</td>\n",
       "      <td>200</td>\n",
       "    </tr>\n",
       "    <tr>\n",
       "      <th>45</th>\n",
       "      <td>2</td>\n",
       "      <td>2</td>\n",
       "      <td>1</td>\n",
       "      <td>5</td>\n",
       "      <td>1</td>\n",
       "      <td>2</td>\n",
       "      <td>2</td>\n",
       "      <td>4</td>\n",
       "      <td>5</td>\n",
       "      <td>3</td>\n",
       "    </tr>\n",
       "    <tr>\n",
       "      <th>46</th>\n",
       "      <td>211</td>\n",
       "      <td>212</td>\n",
       "      <td>213</td>\n",
       "      <td>214</td>\n",
       "      <td>215</td>\n",
       "      <td>216</td>\n",
       "      <td>217</td>\n",
       "      <td>218</td>\n",
       "      <td>219</td>\n",
       "      <td>220</td>\n",
       "    </tr>\n",
       "    <tr>\n",
       "      <th>47</th>\n",
       "      <td>2</td>\n",
       "      <td>1</td>\n",
       "      <td>3</td>\n",
       "      <td>0</td>\n",
       "      <td>4</td>\n",
       "      <td>1</td>\n",
       "      <td>4</td>\n",
       "      <td>0</td>\n",
       "      <td>2</td>\n",
       "      <td>2</td>\n",
       "    </tr>\n",
       "    <tr>\n",
       "      <th>48</th>\n",
       "      <td>231</td>\n",
       "      <td>232</td>\n",
       "      <td>233</td>\n",
       "      <td>234</td>\n",
       "      <td>235</td>\n",
       "      <td>236</td>\n",
       "      <td>237</td>\n",
       "      <td>238</td>\n",
       "      <td>239</td>\n",
       "      <td>240</td>\n",
       "    </tr>\n",
       "    <tr>\n",
       "      <th>49</th>\n",
       "      <td>5</td>\n",
       "      <td>2</td>\n",
       "      <td>4</td>\n",
       "      <td>5</td>\n",
       "      <td>4</td>\n",
       "      <td>5</td>\n",
       "      <td>4</td>\n",
       "      <td>0</td>\n",
       "      <td>4</td>\n",
       "      <td>2</td>\n",
       "    </tr>\n",
       "    <tr>\n",
       "      <th>50</th>\n",
       "      <td>251</td>\n",
       "      <td>252</td>\n",
       "      <td>253</td>\n",
       "      <td>254</td>\n",
       "      <td>255</td>\n",
       "      <td>256</td>\n",
       "      <td>257</td>\n",
       "      <td>258</td>\n",
       "      <td>259</td>\n",
       "      <td>260</td>\n",
       "    </tr>\n",
       "    <tr>\n",
       "      <th>51</th>\n",
       "      <td>5</td>\n",
       "      <td>2</td>\n",
       "      <td>4</td>\n",
       "      <td>2</td>\n",
       "      <td>3</td>\n",
       "      <td>2</td>\n",
       "      <td>2</td>\n",
       "      <td>3</td>\n",
       "      <td>3</td>\n",
       "      <td>1</td>\n",
       "    </tr>\n",
       "  </tbody>\n",
       "</table>\n",
       "</div>"
      ],
      "text/plain": [
       "      0    1    2    3    4    5    6    7    8    9\n",
       "42  171  172  173  174  175  176  177  178  179  180\n",
       "43    3    5    4    4    1    4    5    1    5    5\n",
       "44  191  192  193  194  195  196  197  198  199  200\n",
       "45    2    2    1    5    1    2    2    4    5    3\n",
       "46  211  212  213  214  215  216  217  218  219  220\n",
       "47    2    1    3    0    4    1    4    0    2    2\n",
       "48  231  232  233  234  235  236  237  238  239  240\n",
       "49    5    2    4    5    4    5    4    0    4    2\n",
       "50  251  252  253  254  255  256  257  258  259  260\n",
       "51    5    2    4    2    3    2    2    3    3    1"
      ]
     },
     "execution_count": 25,
     "metadata": {},
     "output_type": "execute_result"
    }
   ],
   "source": [
    "raw_answers_df_2.tail(10)"
   ]
  },
  {
   "cell_type": "markdown",
   "metadata": {},
   "source": [
    "**2. Transformation to \"Longer\" Format:**\n",
    "\n",
    "* Creates two empty lists, number_question_answers and number_question_correct.\n",
    "* Iterates through the rows of raw_answers_df_2 in steps of two.\n",
    "* For each pair of rows, the values from the first row are appended to the number_question_answers list, and the values from the second row are appended to the number_question_correct list.\n",
    "* Creates a new DataFrame raw_answers_df_longer with the number_question_answers and number_question_correct lists as columns \"V\" and \"RC\", respectively.\n",
    "* Displays the first few rows of raw_answers_df_longer."
   ]
  },
  {
   "cell_type": "code",
   "execution_count": 26,
   "metadata": {},
   "outputs": [
    {
     "data": {
      "application/vnd.microsoft.datawrangler.viewer.v0+json": {
       "columns": [
        {
         "name": "index",
         "rawType": "int64",
         "type": "integer"
        },
        {
         "name": "V",
         "rawType": "int64",
         "type": "integer"
        },
        {
         "name": "RC",
         "rawType": "int64",
         "type": "integer"
        }
       ],
       "conversionMethod": "pd.DataFrame",
       "ref": "55a95e76-1938-4f37-895d-3e31f4a3c7d2",
       "rows": [
        [
         "0",
         "1",
         "3"
        ],
        [
         "1",
         "2",
         "4"
        ],
        [
         "2",
         "3",
         "4"
        ],
        [
         "3",
         "4",
         "2"
        ],
        [
         "4",
         "5",
         "1"
        ],
        [
         "5",
         "6",
         "5"
        ],
        [
         "6",
         "7",
         "2"
        ],
        [
         "7",
         "8",
         "5"
        ],
        [
         "8",
         "9",
         "3"
        ],
        [
         "9",
         "10",
         "5"
        ]
       ],
       "shape": {
        "columns": 2,
        "rows": 10
       }
      },
      "text/html": [
       "<div>\n",
       "<style scoped>\n",
       "    .dataframe tbody tr th:only-of-type {\n",
       "        vertical-align: middle;\n",
       "    }\n",
       "\n",
       "    .dataframe tbody tr th {\n",
       "        vertical-align: top;\n",
       "    }\n",
       "\n",
       "    .dataframe thead th {\n",
       "        text-align: right;\n",
       "    }\n",
       "</style>\n",
       "<table border=\"1\" class=\"dataframe\">\n",
       "  <thead>\n",
       "    <tr style=\"text-align: right;\">\n",
       "      <th></th>\n",
       "      <th>V</th>\n",
       "      <th>RC</th>\n",
       "    </tr>\n",
       "  </thead>\n",
       "  <tbody>\n",
       "    <tr>\n",
       "      <th>0</th>\n",
       "      <td>1</td>\n",
       "      <td>3</td>\n",
       "    </tr>\n",
       "    <tr>\n",
       "      <th>1</th>\n",
       "      <td>2</td>\n",
       "      <td>4</td>\n",
       "    </tr>\n",
       "    <tr>\n",
       "      <th>2</th>\n",
       "      <td>3</td>\n",
       "      <td>4</td>\n",
       "    </tr>\n",
       "    <tr>\n",
       "      <th>3</th>\n",
       "      <td>4</td>\n",
       "      <td>2</td>\n",
       "    </tr>\n",
       "    <tr>\n",
       "      <th>4</th>\n",
       "      <td>5</td>\n",
       "      <td>1</td>\n",
       "    </tr>\n",
       "    <tr>\n",
       "      <th>5</th>\n",
       "      <td>6</td>\n",
       "      <td>5</td>\n",
       "    </tr>\n",
       "    <tr>\n",
       "      <th>6</th>\n",
       "      <td>7</td>\n",
       "      <td>2</td>\n",
       "    </tr>\n",
       "    <tr>\n",
       "      <th>7</th>\n",
       "      <td>8</td>\n",
       "      <td>5</td>\n",
       "    </tr>\n",
       "    <tr>\n",
       "      <th>8</th>\n",
       "      <td>9</td>\n",
       "      <td>3</td>\n",
       "    </tr>\n",
       "    <tr>\n",
       "      <th>9</th>\n",
       "      <td>10</td>\n",
       "      <td>5</td>\n",
       "    </tr>\n",
       "  </tbody>\n",
       "</table>\n",
       "</div>"
      ],
      "text/plain": [
       "    V  RC\n",
       "0   1   3\n",
       "1   2   4\n",
       "2   3   4\n",
       "3   4   2\n",
       "4   5   1\n",
       "5   6   5\n",
       "6   7   2\n",
       "7   8   5\n",
       "8   9   3\n",
       "9  10   5"
      ]
     },
     "execution_count": 26,
     "metadata": {},
     "output_type": "execute_result"
    }
   ],
   "source": [
    "number_question_answers: list = []\n",
    "number_question_correct: list = []\n",
    "\n",
    "for i in range(0, len(raw_answers_df_2), 2):\n",
    "    number_question_answers.extend(raw_answers_df_2.iloc[i].tolist())\n",
    "    number_question_correct.extend(raw_answers_df_2.iloc[i + 1].tolist())\n",
    "\n",
    "raw_answers_df_longer: pd.DataFrame = pd.DataFrame({\"V\": number_question_answers, \"RC\": number_question_correct})\n",
    "raw_answers_df_longer.head(10)"
   ]
  },
  {
   "cell_type": "markdown",
   "metadata": {},
   "source": [
    "**3. Final Sorting and Cleaning:**\n",
    "\n",
    "* Sorts the raw_answers_df_longer DataFrame by the \"V\" column.\n",
    "* Replaces all 999.9 values with NaN.\n",
    "* Removes all rows containing NaN.\n",
    "* Displays the first few rows of the cleaned DataFrame (answers_df_clean)."
   ]
  },
  {
   "cell_type": "code",
   "execution_count": 27,
   "metadata": {},
   "outputs": [
    {
     "data": {
      "application/vnd.microsoft.datawrangler.viewer.v0+json": {
       "columns": [
        {
         "name": "index",
         "rawType": "int64",
         "type": "integer"
        },
        {
         "name": "V",
         "rawType": "int64",
         "type": "integer"
        },
        {
         "name": "RC",
         "rawType": "int64",
         "type": "integer"
        }
       ],
       "conversionMethod": "pd.DataFrame",
       "ref": "36ade57a-297f-4cd6-b64e-c5f4e5abe5b2",
       "rows": [
        [
         "0",
         "1",
         "3"
        ],
        [
         "1",
         "2",
         "4"
        ],
        [
         "2",
         "3",
         "4"
        ],
        [
         "3",
         "4",
         "2"
        ],
        [
         "4",
         "5",
         "1"
        ],
        [
         "5",
         "6",
         "5"
        ],
        [
         "6",
         "7",
         "2"
        ],
        [
         "7",
         "8",
         "5"
        ],
        [
         "8",
         "9",
         "3"
        ],
        [
         "9",
         "10",
         "5"
        ]
       ],
       "shape": {
        "columns": 2,
        "rows": 10
       }
      },
      "text/html": [
       "<div>\n",
       "<style scoped>\n",
       "    .dataframe tbody tr th:only-of-type {\n",
       "        vertical-align: middle;\n",
       "    }\n",
       "\n",
       "    .dataframe tbody tr th {\n",
       "        vertical-align: top;\n",
       "    }\n",
       "\n",
       "    .dataframe thead th {\n",
       "        text-align: right;\n",
       "    }\n",
       "</style>\n",
       "<table border=\"1\" class=\"dataframe\">\n",
       "  <thead>\n",
       "    <tr style=\"text-align: right;\">\n",
       "      <th></th>\n",
       "      <th>V</th>\n",
       "      <th>RC</th>\n",
       "    </tr>\n",
       "  </thead>\n",
       "  <tbody>\n",
       "    <tr>\n",
       "      <th>0</th>\n",
       "      <td>1</td>\n",
       "      <td>3</td>\n",
       "    </tr>\n",
       "    <tr>\n",
       "      <th>1</th>\n",
       "      <td>2</td>\n",
       "      <td>4</td>\n",
       "    </tr>\n",
       "    <tr>\n",
       "      <th>2</th>\n",
       "      <td>3</td>\n",
       "      <td>4</td>\n",
       "    </tr>\n",
       "    <tr>\n",
       "      <th>3</th>\n",
       "      <td>4</td>\n",
       "      <td>2</td>\n",
       "    </tr>\n",
       "    <tr>\n",
       "      <th>4</th>\n",
       "      <td>5</td>\n",
       "      <td>1</td>\n",
       "    </tr>\n",
       "    <tr>\n",
       "      <th>5</th>\n",
       "      <td>6</td>\n",
       "      <td>5</td>\n",
       "    </tr>\n",
       "    <tr>\n",
       "      <th>6</th>\n",
       "      <td>7</td>\n",
       "      <td>2</td>\n",
       "    </tr>\n",
       "    <tr>\n",
       "      <th>7</th>\n",
       "      <td>8</td>\n",
       "      <td>5</td>\n",
       "    </tr>\n",
       "    <tr>\n",
       "      <th>8</th>\n",
       "      <td>9</td>\n",
       "      <td>3</td>\n",
       "    </tr>\n",
       "    <tr>\n",
       "      <th>9</th>\n",
       "      <td>10</td>\n",
       "      <td>5</td>\n",
       "    </tr>\n",
       "  </tbody>\n",
       "</table>\n",
       "</div>"
      ],
      "text/plain": [
       "    V  RC\n",
       "0   1   3\n",
       "1   2   4\n",
       "2   3   4\n",
       "3   4   2\n",
       "4   5   1\n",
       "5   6   5\n",
       "6   7   2\n",
       "7   8   5\n",
       "8   9   3\n",
       "9  10   5"
      ]
     },
     "execution_count": 27,
     "metadata": {},
     "output_type": "execute_result"
    }
   ],
   "source": [
    "raw_answers_df_sorted = raw_answers_df_longer.sort_values(by=\"V\")\n",
    "raw_answers_df_sorted = raw_answers_df_sorted.replace(999.9, np.nan)\n",
    "answers_df_clean = raw_answers_df_sorted.dropna()\n",
    "answers_df_clean = answers_df_clean.reset_index(drop=True)\n",
    "answers_df_clean.head(10)"
   ]
  },
  {
   "cell_type": "code",
   "execution_count": null,
   "metadata": {},
   "outputs": [],
   "source": [
    "answers_df_clean.tail(10)"
   ]
  },
  {
   "cell_type": "markdown",
   "metadata": {},
   "source": [
    "## Joining the DataFrames\n",
    "\n",
    "This section focuses on merging the processed exam questions DataFrame with the cleaned answers DataFrame, performing final data cleaning, and verifying the integrity of the joined data.\n",
    "\n",
    "**1. Joining the DataFrames:**\n",
    "\n",
    "The pivoted exam questions DataFrame (`exam_df_pivot`) and the cleaned answers DataFrame (`answers_df_clean`) are joined horizontally using `pd.concat`. The 'V0' column, which represents the question number from the answers DataFrame, is then dropped. The first 10 rows of the joined DataFrame are displayed."
   ]
  },
  {
   "cell_type": "code",
   "execution_count": 28,
   "metadata": {},
   "outputs": [
    {
     "data": {
      "application/vnd.microsoft.datawrangler.viewer.v0+json": {
       "columns": [
        {
         "name": "index",
         "rawType": "int64",
         "type": "integer"
        },
        {
         "name": "Question",
         "rawType": "object",
         "type": "string"
        },
        {
         "name": "Option_1",
         "rawType": "object",
         "type": "string"
        },
        {
         "name": "Option_2",
         "rawType": "object",
         "type": "string"
        },
        {
         "name": "Option_3",
         "rawType": "object",
         "type": "string"
        },
        {
         "name": "Option_4",
         "rawType": "object",
         "type": "string"
        },
        {
         "name": "Option_5",
         "rawType": "object",
         "type": "string"
        },
        {
         "name": "RC",
         "rawType": "int64",
         "type": "integer"
        }
       ],
       "conversionMethod": "pd.DataFrame",
       "ref": "a0b612b3-e42c-47db-a3ab-bf141d5e595f",
       "rows": [
        [
         "0",
         "1. Un agente que está impidiendo la división bacteriana actúa como:",
         "1. Antibiótico.",
         "2. Bactericida.",
         "3. Bacteriostático.",
         "4. Desinfectante.",
         "5. Esterilizante.",
         "3"
        ],
        [
         "1",
         "2. Para esterilizar un catéter de plástico, se puede emplear:",
         "1. Un horno Pasteur.",
         "2. Filtración.",
         "3. Una sal de amonio cuaternario.",
         "4. Un autoclave de óxido de etileno.",
         "5. Un autoclave convencional.",
         "4"
        ],
        [
         "2",
         "3. Un medio de cultivo es diferencial cuando:",
         "1. Provoca la generación de esporas u otras formas de resistencia.",
         "2. Inhibe algunos microorganismos, pero no otros.",
         "3. Favorece el crecimiento de determinados microorganismos.",
         "4. Permite distinguir determinados microorganismos con respecto al resto.",
         "5. Sólo permite el desarrollo de bacterias anaerobias.",
         "4"
        ],
        [
         "3",
         "4. Durante la síntesis del peptidoglucano bacteriano:",
         "1. Se sintetiza un hexapéptido en el citoplasma.",
         "2. Hay reacciones de transpeptidación.",
         "3. Se libera L-alanina.",
         "4. Actúan las murámico-permeasas.",
         "5. La bacteria es insensible a las cefalosporinas.",
         "2"
        ],
        [
         "4",
         "5. En la endospora bacteriana, el peptidoglicano está:",
         "1. En el córtex.",
         "2. En la cutícula.",
         "3. En el periplasma.",
         "4. En el exosporio.",
         "5. Ausente.",
         "1"
        ],
        [
         "5",
         "6. Energéticamente, el movimiento flagelar bacteriano depende directamente de:",
         "1. El ATP.",
         "2. El fosfoenolpiruvato.",
         "3. La contracción de la flagelina.",
         "4. Una quinasa específica.",
         "5. El gradiente electroquímico.",
         "5"
        ],
        [
         "6",
         "7. E. coli es un microorganismo:",
         "1. Psicrófilo.",
         "2. Mesófilo.",
         "3. Termófilo.",
         "4. Xerófilo.",
         "5. Acidófilo.",
         "2"
        ],
        [
         "7",
         "8. Una diferencia importante entre las bacterias respiradoras y fermentadoras es que las segundas:",
         "1. Son anaerobias estrictas.",
         "2. Son heterótrofos.",
         "3. Sólo usan azúcares.",
         "4. No generan gradiente electroquímico.",
         "5. Usan principalmente fosforilación a nivel de sustrato.",
         "5"
        ],
        [
         "8",
         "9. Los plásmidos se caracterizan por:",
         "1. Integrarse en el genoma de la célula hospedadora.",
         "2. Dirigir el proceso de conjugación bacteriana.",
         "3. Replicarse autónomamente.",
         "4. Portar genes de resistencia a antibióticos o de virulencia.",
         "5. Ser moléculas de DNA circular.",
         "3"
        ],
        [
         "9",
         "10. Los transposones bacterianos:",
         "1. Poseen replicación autónoma.",
         "2. Son un tipo de propfago.",
         "3. No tienen secuencias de inserción.",
         "4. Son plásmidos especializados.",
         "5. Pueden incluir genes de  resistencia a antibióticos.",
         "5"
        ]
       ],
       "shape": {
        "columns": 7,
        "rows": 10
       }
      },
      "text/html": [
       "<div>\n",
       "<style scoped>\n",
       "    .dataframe tbody tr th:only-of-type {\n",
       "        vertical-align: middle;\n",
       "    }\n",
       "\n",
       "    .dataframe tbody tr th {\n",
       "        vertical-align: top;\n",
       "    }\n",
       "\n",
       "    .dataframe thead th {\n",
       "        text-align: right;\n",
       "    }\n",
       "</style>\n",
       "<table border=\"1\" class=\"dataframe\">\n",
       "  <thead>\n",
       "    <tr style=\"text-align: right;\">\n",
       "      <th></th>\n",
       "      <th>Question</th>\n",
       "      <th>Option_1</th>\n",
       "      <th>Option_2</th>\n",
       "      <th>Option_3</th>\n",
       "      <th>Option_4</th>\n",
       "      <th>Option_5</th>\n",
       "      <th>RC</th>\n",
       "    </tr>\n",
       "  </thead>\n",
       "  <tbody>\n",
       "    <tr>\n",
       "      <th>0</th>\n",
       "      <td>1. Un agente que está impidiendo la división b...</td>\n",
       "      <td>1. Antibiótico.</td>\n",
       "      <td>2. Bactericida.</td>\n",
       "      <td>3. Bacteriostático.</td>\n",
       "      <td>4. Desinfectante.</td>\n",
       "      <td>5. Esterilizante.</td>\n",
       "      <td>3</td>\n",
       "    </tr>\n",
       "    <tr>\n",
       "      <th>1</th>\n",
       "      <td>2. Para esterilizar un catéter de plástico, se...</td>\n",
       "      <td>1. Un horno Pasteur.</td>\n",
       "      <td>2. Filtración.</td>\n",
       "      <td>3. Una sal de amonio cuaternario.</td>\n",
       "      <td>4. Un autoclave de óxido de etileno.</td>\n",
       "      <td>5. Un autoclave convencional.</td>\n",
       "      <td>4</td>\n",
       "    </tr>\n",
       "    <tr>\n",
       "      <th>2</th>\n",
       "      <td>3. Un medio de cultivo es diferencial cuando:</td>\n",
       "      <td>1. Provoca la generación de esporas u otras fo...</td>\n",
       "      <td>2. Inhibe algunos microorganismos, pero no otros.</td>\n",
       "      <td>3. Favorece el crecimiento de determinados mic...</td>\n",
       "      <td>4. Permite distinguir determinados microorgani...</td>\n",
       "      <td>5. Sólo permite el desarrollo de bacterias ana...</td>\n",
       "      <td>4</td>\n",
       "    </tr>\n",
       "    <tr>\n",
       "      <th>3</th>\n",
       "      <td>4. Durante la síntesis del peptidoglucano bact...</td>\n",
       "      <td>1. Se sintetiza un hexapéptido en el citoplasma.</td>\n",
       "      <td>2. Hay reacciones de transpeptidación.</td>\n",
       "      <td>3. Se libera L-alanina.</td>\n",
       "      <td>4. Actúan las murámico-permeasas.</td>\n",
       "      <td>5. La bacteria es insensible a las cefalospori...</td>\n",
       "      <td>2</td>\n",
       "    </tr>\n",
       "    <tr>\n",
       "      <th>4</th>\n",
       "      <td>5. En la endospora bacteriana, el peptidoglica...</td>\n",
       "      <td>1. En el córtex.</td>\n",
       "      <td>2. En la cutícula.</td>\n",
       "      <td>3. En el periplasma.</td>\n",
       "      <td>4. En el exosporio.</td>\n",
       "      <td>5. Ausente.</td>\n",
       "      <td>1</td>\n",
       "    </tr>\n",
       "    <tr>\n",
       "      <th>5</th>\n",
       "      <td>6. Energéticamente, el movimiento flagelar bac...</td>\n",
       "      <td>1. El ATP.</td>\n",
       "      <td>2. El fosfoenolpiruvato.</td>\n",
       "      <td>3. La contracción de la flagelina.</td>\n",
       "      <td>4. Una quinasa específica.</td>\n",
       "      <td>5. El gradiente electroquímico.</td>\n",
       "      <td>5</td>\n",
       "    </tr>\n",
       "    <tr>\n",
       "      <th>6</th>\n",
       "      <td>7. E. coli es un microorganismo:</td>\n",
       "      <td>1. Psicrófilo.</td>\n",
       "      <td>2. Mesófilo.</td>\n",
       "      <td>3. Termófilo.</td>\n",
       "      <td>4. Xerófilo.</td>\n",
       "      <td>5. Acidófilo.</td>\n",
       "      <td>2</td>\n",
       "    </tr>\n",
       "    <tr>\n",
       "      <th>7</th>\n",
       "      <td>8. Una diferencia importante entre las bacteri...</td>\n",
       "      <td>1. Son anaerobias estrictas.</td>\n",
       "      <td>2. Son heterótrofos.</td>\n",
       "      <td>3. Sólo usan azúcares.</td>\n",
       "      <td>4. No generan gradiente electroquímico.</td>\n",
       "      <td>5. Usan principalmente fosforilación a nivel d...</td>\n",
       "      <td>5</td>\n",
       "    </tr>\n",
       "    <tr>\n",
       "      <th>8</th>\n",
       "      <td>9. Los plásmidos se caracterizan por:</td>\n",
       "      <td>1. Integrarse en el genoma de la célula hosped...</td>\n",
       "      <td>2. Dirigir el proceso de conjugación bacteriana.</td>\n",
       "      <td>3. Replicarse autónomamente.</td>\n",
       "      <td>4. Portar genes de resistencia a antibióticos ...</td>\n",
       "      <td>5. Ser moléculas de DNA circular.</td>\n",
       "      <td>3</td>\n",
       "    </tr>\n",
       "    <tr>\n",
       "      <th>9</th>\n",
       "      <td>10. Los transposones bacterianos:</td>\n",
       "      <td>1. Poseen replicación autónoma.</td>\n",
       "      <td>2. Son un tipo de propfago.</td>\n",
       "      <td>3. No tienen secuencias de inserción.</td>\n",
       "      <td>4. Son plásmidos especializados.</td>\n",
       "      <td>5. Pueden incluir genes de  resistencia a anti...</td>\n",
       "      <td>5</td>\n",
       "    </tr>\n",
       "  </tbody>\n",
       "</table>\n",
       "</div>"
      ],
      "text/plain": [
       "                                            Question  \\\n",
       "0  1. Un agente que está impidiendo la división b...   \n",
       "1  2. Para esterilizar un catéter de plástico, se...   \n",
       "2      3. Un medio de cultivo es diferencial cuando:   \n",
       "3  4. Durante la síntesis del peptidoglucano bact...   \n",
       "4  5. En la endospora bacteriana, el peptidoglica...   \n",
       "5  6. Energéticamente, el movimiento flagelar bac...   \n",
       "6                   7. E. coli es un microorganismo:   \n",
       "7  8. Una diferencia importante entre las bacteri...   \n",
       "8              9. Los plásmidos se caracterizan por:   \n",
       "9                  10. Los transposones bacterianos:   \n",
       "\n",
       "                                            Option_1  \\\n",
       "0                                    1. Antibiótico.   \n",
       "1                               1. Un horno Pasteur.   \n",
       "2  1. Provoca la generación de esporas u otras fo...   \n",
       "3   1. Se sintetiza un hexapéptido en el citoplasma.   \n",
       "4                                   1. En el córtex.   \n",
       "5                                         1. El ATP.   \n",
       "6                                     1. Psicrófilo.   \n",
       "7                       1. Son anaerobias estrictas.   \n",
       "8  1. Integrarse en el genoma de la célula hosped...   \n",
       "9                    1. Poseen replicación autónoma.   \n",
       "\n",
       "                                            Option_2  \\\n",
       "0                                    2. Bactericida.   \n",
       "1                                     2. Filtración.   \n",
       "2  2. Inhibe algunos microorganismos, pero no otros.   \n",
       "3             2. Hay reacciones de transpeptidación.   \n",
       "4                                 2. En la cutícula.   \n",
       "5                           2. El fosfoenolpiruvato.   \n",
       "6                                       2. Mesófilo.   \n",
       "7                               2. Son heterótrofos.   \n",
       "8   2. Dirigir el proceso de conjugación bacteriana.   \n",
       "9                        2. Son un tipo de propfago.   \n",
       "\n",
       "                                            Option_3  \\\n",
       "0                                3. Bacteriostático.   \n",
       "1                  3. Una sal de amonio cuaternario.   \n",
       "2  3. Favorece el crecimiento de determinados mic...   \n",
       "3                            3. Se libera L-alanina.   \n",
       "4                               3. En el periplasma.   \n",
       "5                 3. La contracción de la flagelina.   \n",
       "6                                      3. Termófilo.   \n",
       "7                             3. Sólo usan azúcares.   \n",
       "8                       3. Replicarse autónomamente.   \n",
       "9              3. No tienen secuencias de inserción.   \n",
       "\n",
       "                                            Option_4  \\\n",
       "0                                  4. Desinfectante.   \n",
       "1               4. Un autoclave de óxido de etileno.   \n",
       "2  4. Permite distinguir determinados microorgani...   \n",
       "3                  4. Actúan las murámico-permeasas.   \n",
       "4                                4. En el exosporio.   \n",
       "5                         4. Una quinasa específica.   \n",
       "6                                       4. Xerófilo.   \n",
       "7            4. No generan gradiente electroquímico.   \n",
       "8  4. Portar genes de resistencia a antibióticos ...   \n",
       "9                   4. Son plásmidos especializados.   \n",
       "\n",
       "                                            Option_5  RC  \n",
       "0                                  5. Esterilizante.   3  \n",
       "1                      5. Un autoclave convencional.   4  \n",
       "2  5. Sólo permite el desarrollo de bacterias ana...   4  \n",
       "3  5. La bacteria es insensible a las cefalospori...   2  \n",
       "4                                        5. Ausente.   1  \n",
       "5                    5. El gradiente electroquímico.   5  \n",
       "6                                      5. Acidófilo.   2  \n",
       "7  5. Usan principalmente fosforilación a nivel d...   5  \n",
       "8                  5. Ser moléculas de DNA circular.   3  \n",
       "9  5. Pueden incluir genes de  resistencia a anti...   5  "
      ]
     },
     "execution_count": 28,
     "metadata": {},
     "output_type": "execute_result"
    }
   ],
   "source": [
    "processed_exam_df: pd.DataFrame = pd.concat([exam_df_pivot, answers_df_clean], axis=1)\n",
    "processed_exam_df = processed_exam_df.drop(columns=[\"V\"])\n",
    "processed_exam_df.head(10)"
   ]
  },
  {
   "cell_type": "markdown",
   "metadata": {},
   "source": [
    "**2. Identifying and Handling Missing Values:**\n",
    "\n",
    "Missing values are then replaced with 0."
   ]
  },
  {
   "cell_type": "code",
   "execution_count": 29,
   "metadata": {},
   "outputs": [],
   "source": [
    "processed_exam_df = processed_exam_df.fillna(0)"
   ]
  },
  {
   "cell_type": "markdown",
   "metadata": {},
   "source": [
    "**3. Verifying Missing Values and Data Types:**\n",
    "\n",
    "The number of missing values in each column is checked, and the data types of the columns are displayed. The 'RC' (correct answer) column is then converted to integer type."
   ]
  },
  {
   "cell_type": "code",
   "execution_count": 30,
   "metadata": {},
   "outputs": [
    {
     "data": {
      "text/plain": [
       "Question    object\n",
       "Option_1    object\n",
       "Option_2    object\n",
       "Option_3    object\n",
       "Option_4    object\n",
       "Option_5    object\n",
       "RC           int32\n",
       "dtype: object"
      ]
     },
     "execution_count": 30,
     "metadata": {},
     "output_type": "execute_result"
    }
   ],
   "source": [
    "processed_exam_df.isnull().sum()\n",
    "processed_exam_df[\"RC\"] = processed_exam_df[\"RC\"].astype(int)\n",
    "processed_exam_df.dtypes"
   ]
  },
  {
   "cell_type": "markdown",
   "metadata": {},
   "source": [
    "**4. Adding year column**\n",
    "\n",
    "A column containing the year of the exam is added to the DataFrame."
   ]
  },
  {
   "cell_type": "code",
   "execution_count": 31,
   "metadata": {},
   "outputs": [],
   "source": [
    "processed_exam_df[\"year\"] = year"
   ]
  },
  {
   "cell_type": "markdown",
   "metadata": {},
   "source": [
    "**5. Displaying the Final DataFrame:**\n",
    "\n",
    "The first 10 rows of the final joined and cleaned DataFrame are displayed."
   ]
  },
  {
   "cell_type": "code",
   "execution_count": 32,
   "metadata": {},
   "outputs": [
    {
     "data": {
      "application/vnd.microsoft.datawrangler.viewer.v0+json": {
       "columns": [
        {
         "name": "index",
         "rawType": "int64",
         "type": "integer"
        },
        {
         "name": "Question",
         "rawType": "object",
         "type": "string"
        },
        {
         "name": "Option_1",
         "rawType": "object",
         "type": "string"
        },
        {
         "name": "Option_2",
         "rawType": "object",
         "type": "string"
        },
        {
         "name": "Option_3",
         "rawType": "object",
         "type": "string"
        },
        {
         "name": "Option_4",
         "rawType": "object",
         "type": "string"
        },
        {
         "name": "Option_5",
         "rawType": "object",
         "type": "string"
        },
        {
         "name": "RC",
         "rawType": "int32",
         "type": "integer"
        },
        {
         "name": "year",
         "rawType": "int64",
         "type": "integer"
        }
       ],
       "conversionMethod": "pd.DataFrame",
       "ref": "da8e9bec-924c-44a5-b7b5-90eeabfbf452",
       "rows": [
        [
         "0",
         "1. Un agente que está impidiendo la división bacteriana actúa como:",
         "1. Antibiótico.",
         "2. Bactericida.",
         "3. Bacteriostático.",
         "4. Desinfectante.",
         "5. Esterilizante.",
         "3",
         "2005"
        ],
        [
         "1",
         "2. Para esterilizar un catéter de plástico, se puede emplear:",
         "1. Un horno Pasteur.",
         "2. Filtración.",
         "3. Una sal de amonio cuaternario.",
         "4. Un autoclave de óxido de etileno.",
         "5. Un autoclave convencional.",
         "4",
         "2005"
        ],
        [
         "2",
         "3. Un medio de cultivo es diferencial cuando:",
         "1. Provoca la generación de esporas u otras formas de resistencia.",
         "2. Inhibe algunos microorganismos, pero no otros.",
         "3. Favorece el crecimiento de determinados microorganismos.",
         "4. Permite distinguir determinados microorganismos con respecto al resto.",
         "5. Sólo permite el desarrollo de bacterias anaerobias.",
         "4",
         "2005"
        ],
        [
         "3",
         "4. Durante la síntesis del peptidoglucano bacteriano:",
         "1. Se sintetiza un hexapéptido en el citoplasma.",
         "2. Hay reacciones de transpeptidación.",
         "3. Se libera L-alanina.",
         "4. Actúan las murámico-permeasas.",
         "5. La bacteria es insensible a las cefalosporinas.",
         "2",
         "2005"
        ],
        [
         "4",
         "5. En la endospora bacteriana, el peptidoglicano está:",
         "1. En el córtex.",
         "2. En la cutícula.",
         "3. En el periplasma.",
         "4. En el exosporio.",
         "5. Ausente.",
         "1",
         "2005"
        ],
        [
         "5",
         "6. Energéticamente, el movimiento flagelar bacteriano depende directamente de:",
         "1. El ATP.",
         "2. El fosfoenolpiruvato.",
         "3. La contracción de la flagelina.",
         "4. Una quinasa específica.",
         "5. El gradiente electroquímico.",
         "5",
         "2005"
        ],
        [
         "6",
         "7. E. coli es un microorganismo:",
         "1. Psicrófilo.",
         "2. Mesófilo.",
         "3. Termófilo.",
         "4. Xerófilo.",
         "5. Acidófilo.",
         "2",
         "2005"
        ],
        [
         "7",
         "8. Una diferencia importante entre las bacterias respiradoras y fermentadoras es que las segundas:",
         "1. Son anaerobias estrictas.",
         "2. Son heterótrofos.",
         "3. Sólo usan azúcares.",
         "4. No generan gradiente electroquímico.",
         "5. Usan principalmente fosforilación a nivel de sustrato.",
         "5",
         "2005"
        ],
        [
         "8",
         "9. Los plásmidos se caracterizan por:",
         "1. Integrarse en el genoma de la célula hospedadora.",
         "2. Dirigir el proceso de conjugación bacteriana.",
         "3. Replicarse autónomamente.",
         "4. Portar genes de resistencia a antibióticos o de virulencia.",
         "5. Ser moléculas de DNA circular.",
         "3",
         "2005"
        ],
        [
         "9",
         "10. Los transposones bacterianos:",
         "1. Poseen replicación autónoma.",
         "2. Son un tipo de propfago.",
         "3. No tienen secuencias de inserción.",
         "4. Son plásmidos especializados.",
         "5. Pueden incluir genes de  resistencia a antibióticos.",
         "5",
         "2005"
        ]
       ],
       "shape": {
        "columns": 8,
        "rows": 10
       }
      },
      "text/html": [
       "<div>\n",
       "<style scoped>\n",
       "    .dataframe tbody tr th:only-of-type {\n",
       "        vertical-align: middle;\n",
       "    }\n",
       "\n",
       "    .dataframe tbody tr th {\n",
       "        vertical-align: top;\n",
       "    }\n",
       "\n",
       "    .dataframe thead th {\n",
       "        text-align: right;\n",
       "    }\n",
       "</style>\n",
       "<table border=\"1\" class=\"dataframe\">\n",
       "  <thead>\n",
       "    <tr style=\"text-align: right;\">\n",
       "      <th></th>\n",
       "      <th>Question</th>\n",
       "      <th>Option_1</th>\n",
       "      <th>Option_2</th>\n",
       "      <th>Option_3</th>\n",
       "      <th>Option_4</th>\n",
       "      <th>Option_5</th>\n",
       "      <th>RC</th>\n",
       "      <th>year</th>\n",
       "    </tr>\n",
       "  </thead>\n",
       "  <tbody>\n",
       "    <tr>\n",
       "      <th>0</th>\n",
       "      <td>1. Un agente que está impidiendo la división b...</td>\n",
       "      <td>1. Antibiótico.</td>\n",
       "      <td>2. Bactericida.</td>\n",
       "      <td>3. Bacteriostático.</td>\n",
       "      <td>4. Desinfectante.</td>\n",
       "      <td>5. Esterilizante.</td>\n",
       "      <td>3</td>\n",
       "      <td>2005</td>\n",
       "    </tr>\n",
       "    <tr>\n",
       "      <th>1</th>\n",
       "      <td>2. Para esterilizar un catéter de plástico, se...</td>\n",
       "      <td>1. Un horno Pasteur.</td>\n",
       "      <td>2. Filtración.</td>\n",
       "      <td>3. Una sal de amonio cuaternario.</td>\n",
       "      <td>4. Un autoclave de óxido de etileno.</td>\n",
       "      <td>5. Un autoclave convencional.</td>\n",
       "      <td>4</td>\n",
       "      <td>2005</td>\n",
       "    </tr>\n",
       "    <tr>\n",
       "      <th>2</th>\n",
       "      <td>3. Un medio de cultivo es diferencial cuando:</td>\n",
       "      <td>1. Provoca la generación de esporas u otras fo...</td>\n",
       "      <td>2. Inhibe algunos microorganismos, pero no otros.</td>\n",
       "      <td>3. Favorece el crecimiento de determinados mic...</td>\n",
       "      <td>4. Permite distinguir determinados microorgani...</td>\n",
       "      <td>5. Sólo permite el desarrollo de bacterias ana...</td>\n",
       "      <td>4</td>\n",
       "      <td>2005</td>\n",
       "    </tr>\n",
       "    <tr>\n",
       "      <th>3</th>\n",
       "      <td>4. Durante la síntesis del peptidoglucano bact...</td>\n",
       "      <td>1. Se sintetiza un hexapéptido en el citoplasma.</td>\n",
       "      <td>2. Hay reacciones de transpeptidación.</td>\n",
       "      <td>3. Se libera L-alanina.</td>\n",
       "      <td>4. Actúan las murámico-permeasas.</td>\n",
       "      <td>5. La bacteria es insensible a las cefalospori...</td>\n",
       "      <td>2</td>\n",
       "      <td>2005</td>\n",
       "    </tr>\n",
       "    <tr>\n",
       "      <th>4</th>\n",
       "      <td>5. En la endospora bacteriana, el peptidoglica...</td>\n",
       "      <td>1. En el córtex.</td>\n",
       "      <td>2. En la cutícula.</td>\n",
       "      <td>3. En el periplasma.</td>\n",
       "      <td>4. En el exosporio.</td>\n",
       "      <td>5. Ausente.</td>\n",
       "      <td>1</td>\n",
       "      <td>2005</td>\n",
       "    </tr>\n",
       "    <tr>\n",
       "      <th>5</th>\n",
       "      <td>6. Energéticamente, el movimiento flagelar bac...</td>\n",
       "      <td>1. El ATP.</td>\n",
       "      <td>2. El fosfoenolpiruvato.</td>\n",
       "      <td>3. La contracción de la flagelina.</td>\n",
       "      <td>4. Una quinasa específica.</td>\n",
       "      <td>5. El gradiente electroquímico.</td>\n",
       "      <td>5</td>\n",
       "      <td>2005</td>\n",
       "    </tr>\n",
       "    <tr>\n",
       "      <th>6</th>\n",
       "      <td>7. E. coli es un microorganismo:</td>\n",
       "      <td>1. Psicrófilo.</td>\n",
       "      <td>2. Mesófilo.</td>\n",
       "      <td>3. Termófilo.</td>\n",
       "      <td>4. Xerófilo.</td>\n",
       "      <td>5. Acidófilo.</td>\n",
       "      <td>2</td>\n",
       "      <td>2005</td>\n",
       "    </tr>\n",
       "    <tr>\n",
       "      <th>7</th>\n",
       "      <td>8. Una diferencia importante entre las bacteri...</td>\n",
       "      <td>1. Son anaerobias estrictas.</td>\n",
       "      <td>2. Son heterótrofos.</td>\n",
       "      <td>3. Sólo usan azúcares.</td>\n",
       "      <td>4. No generan gradiente electroquímico.</td>\n",
       "      <td>5. Usan principalmente fosforilación a nivel d...</td>\n",
       "      <td>5</td>\n",
       "      <td>2005</td>\n",
       "    </tr>\n",
       "    <tr>\n",
       "      <th>8</th>\n",
       "      <td>9. Los plásmidos se caracterizan por:</td>\n",
       "      <td>1. Integrarse en el genoma de la célula hosped...</td>\n",
       "      <td>2. Dirigir el proceso de conjugación bacteriana.</td>\n",
       "      <td>3. Replicarse autónomamente.</td>\n",
       "      <td>4. Portar genes de resistencia a antibióticos ...</td>\n",
       "      <td>5. Ser moléculas de DNA circular.</td>\n",
       "      <td>3</td>\n",
       "      <td>2005</td>\n",
       "    </tr>\n",
       "    <tr>\n",
       "      <th>9</th>\n",
       "      <td>10. Los transposones bacterianos:</td>\n",
       "      <td>1. Poseen replicación autónoma.</td>\n",
       "      <td>2. Son un tipo de propfago.</td>\n",
       "      <td>3. No tienen secuencias de inserción.</td>\n",
       "      <td>4. Son plásmidos especializados.</td>\n",
       "      <td>5. Pueden incluir genes de  resistencia a anti...</td>\n",
       "      <td>5</td>\n",
       "      <td>2005</td>\n",
       "    </tr>\n",
       "  </tbody>\n",
       "</table>\n",
       "</div>"
      ],
      "text/plain": [
       "                                            Question  \\\n",
       "0  1. Un agente que está impidiendo la división b...   \n",
       "1  2. Para esterilizar un catéter de plástico, se...   \n",
       "2      3. Un medio de cultivo es diferencial cuando:   \n",
       "3  4. Durante la síntesis del peptidoglucano bact...   \n",
       "4  5. En la endospora bacteriana, el peptidoglica...   \n",
       "5  6. Energéticamente, el movimiento flagelar bac...   \n",
       "6                   7. E. coli es un microorganismo:   \n",
       "7  8. Una diferencia importante entre las bacteri...   \n",
       "8              9. Los plásmidos se caracterizan por:   \n",
       "9                  10. Los transposones bacterianos:   \n",
       "\n",
       "                                            Option_1  \\\n",
       "0                                    1. Antibiótico.   \n",
       "1                               1. Un horno Pasteur.   \n",
       "2  1. Provoca la generación de esporas u otras fo...   \n",
       "3   1. Se sintetiza un hexapéptido en el citoplasma.   \n",
       "4                                   1. En el córtex.   \n",
       "5                                         1. El ATP.   \n",
       "6                                     1. Psicrófilo.   \n",
       "7                       1. Son anaerobias estrictas.   \n",
       "8  1. Integrarse en el genoma de la célula hosped...   \n",
       "9                    1. Poseen replicación autónoma.   \n",
       "\n",
       "                                            Option_2  \\\n",
       "0                                    2. Bactericida.   \n",
       "1                                     2. Filtración.   \n",
       "2  2. Inhibe algunos microorganismos, pero no otros.   \n",
       "3             2. Hay reacciones de transpeptidación.   \n",
       "4                                 2. En la cutícula.   \n",
       "5                           2. El fosfoenolpiruvato.   \n",
       "6                                       2. Mesófilo.   \n",
       "7                               2. Son heterótrofos.   \n",
       "8   2. Dirigir el proceso de conjugación bacteriana.   \n",
       "9                        2. Son un tipo de propfago.   \n",
       "\n",
       "                                            Option_3  \\\n",
       "0                                3. Bacteriostático.   \n",
       "1                  3. Una sal de amonio cuaternario.   \n",
       "2  3. Favorece el crecimiento de determinados mic...   \n",
       "3                            3. Se libera L-alanina.   \n",
       "4                               3. En el periplasma.   \n",
       "5                 3. La contracción de la flagelina.   \n",
       "6                                      3. Termófilo.   \n",
       "7                             3. Sólo usan azúcares.   \n",
       "8                       3. Replicarse autónomamente.   \n",
       "9              3. No tienen secuencias de inserción.   \n",
       "\n",
       "                                            Option_4  \\\n",
       "0                                  4. Desinfectante.   \n",
       "1               4. Un autoclave de óxido de etileno.   \n",
       "2  4. Permite distinguir determinados microorgani...   \n",
       "3                  4. Actúan las murámico-permeasas.   \n",
       "4                                4. En el exosporio.   \n",
       "5                         4. Una quinasa específica.   \n",
       "6                                       4. Xerófilo.   \n",
       "7            4. No generan gradiente electroquímico.   \n",
       "8  4. Portar genes de resistencia a antibióticos ...   \n",
       "9                   4. Son plásmidos especializados.   \n",
       "\n",
       "                                            Option_5  RC  year  \n",
       "0                                  5. Esterilizante.   3  2005  \n",
       "1                      5. Un autoclave convencional.   4  2005  \n",
       "2  5. Sólo permite el desarrollo de bacterias ana...   4  2005  \n",
       "3  5. La bacteria es insensible a las cefalospori...   2  2005  \n",
       "4                                        5. Ausente.   1  2005  \n",
       "5                    5. El gradiente electroquímico.   5  2005  \n",
       "6                                      5. Acidófilo.   2  2005  \n",
       "7  5. Usan principalmente fosforilación a nivel d...   5  2005  \n",
       "8                  5. Ser moléculas de DNA circular.   3  2005  \n",
       "9  5. Pueden incluir genes de  resistencia a anti...   5  2005  "
      ]
     },
     "execution_count": 32,
     "metadata": {},
     "output_type": "execute_result"
    }
   ],
   "source": [
    "processed_exam_df.head(10)"
   ]
  },
  {
   "cell_type": "markdown",
   "metadata": {},
   "source": [
    "# Data Loading"
   ]
  },
  {
   "cell_type": "markdown",
   "metadata": {},
   "source": [
    "## Saving in csv file\n",
    "\n",
    "The `processed_exam_df` DataFrame, containing the cleaned and transformed exam data, is saved to a CSV file with the name generatd in the first step in the \"data\" directory. The `index=False` argument ensures that the DataFrame index is not written to the file, resulting in a cleaner output. This CSV file can be used for further analysis or as input for other applications."
   ]
  },
  {
   "cell_type": "code",
   "execution_count": 33,
   "metadata": {},
   "outputs": [],
   "source": [
    "processed_exam_df.to_csv(save_format, index= False)"
   ]
  },
  {
   "cell_type": "markdown",
   "metadata": {},
   "source": [
    "## Writing into data warehouse\n",
    "\n",
    "This section details the process of loading the cleaned and transformed exam data into an SQLite database, serving as a data warehouse for further analysis and querying.\n",
    "\n",
    "**1. Database Connection and Path:**\n",
    "\n",
    "The path to the SQLite database file is defined, and a connection is established using the `sqlite3` library."
   ]
  },
  {
   "cell_type": "code",
   "execution_count": 34,
   "metadata": {},
   "outputs": [],
   "source": [
    "db_path: str = \"../data/clean/bir_warehouse.db\""
   ]
  },
  {
   "cell_type": "markdown",
   "metadata": {},
   "source": [
    "**2. SQL Queries Definition:**\n",
    "\n",
    "Two SQL queries are defined: one for inserting questions into the questions table and another for inserting options into the questions_options table."
   ]
  },
  {
   "cell_type": "code",
   "execution_count": 35,
   "metadata": {},
   "outputs": [],
   "source": [
    "query_question: str = \"\"\"\n",
    "INSERT INTO questions (exam_year, exam_subject, question) \n",
    "VALUES((SELECT id_year FROM year WHERE year_name = ?),\n",
    "    (SELECT id_type FROM exam WHERE exam_type = ?),\n",
    "    ?);\n",
    "\"\"\"\n",
    "\n",
    "query_options: str = \"\"\"\n",
    "INSERT INTO questions_options (question_id, option_num, option_text, is_correct)\n",
    "VALUES((SELECT id FROM questions WHERE question = ?),\n",
    "    ?,\n",
    "    ?,\n",
    "    ?)\n",
    "\"\"\""
   ]
  },
  {
   "cell_type": "markdown",
   "metadata": {},
   "source": [
    "**3. Database Interaction and Data Insertion:**\n",
    "\n",
    "A with statement is used to establish a connection to the SQLite database, ensuring that the connection is properly closed after use. A cursor is created, and the processed_exam_df DataFrame is iterated over to insert each question and its options"
   ]
  },
  {
   "cell_type": "code",
   "execution_count": 36,
   "metadata": {},
   "outputs": [],
   "source": [
    "with sqlite3.connect(db_path) as bir_warehouse:\n",
    "    cur = bir_warehouse.cursor()\n",
    "    for question in processed_exam_df.itertuples():\n",
    "        cur.execute(query_question, (str(question[8]), exam_acronym, question[1]))\n",
    "        bir_warehouse.commit()\n",
    "        for n, option in enumerate(question[2:7]):\n",
    "            cur.execute(query_options, (question[1], n+1, option, n+1 == question[7]))\n",
    "            bir_warehouse.commit()"
   ]
  }
 ],
 "metadata": {
  "colab": {
   "provenance": []
  },
  "kernelspec": {
   "display_name": "bir_etl",
   "language": "python",
   "name": "python3"
  },
  "language_info": {
   "codemirror_mode": {
    "name": "ipython",
    "version": 3
   },
   "file_extension": ".py",
   "mimetype": "text/x-python",
   "name": "python",
   "nbconvert_exporter": "python",
   "pygments_lexer": "ipython3",
   "version": "3.12.7"
  }
 },
 "nbformat": 4,
 "nbformat_minor": 4
}
