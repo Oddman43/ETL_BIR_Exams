{
 "cells": [
  {
   "cell_type": "markdown",
   "metadata": {
    "editable": true,
    "id": "56vKIohe8Jou",
    "slideshow": {
     "slide_type": ""
    },
    "tags": []
   },
   "source": [
    "# Data Extraction\n",
    "This section details the process of extracting question data from a PDF file and corresponding answer keys from a TSV file."
   ]
  },
  {
   "cell_type": "markdown",
   "metadata": {
    "id": "8kRORmWM8Joy"
   },
   "source": [
    "## Importing libraries"
   ]
  },
  {
   "cell_type": "markdown",
   "metadata": {},
   "source": [
    "* Pandas for data manipulation\n",
    "* NumPy for the NaN datatype\n",
    "* PyPDF for its ability to read the pfd files, although it requieres post-processing of the extracted text\n",
    "* sqlite3 to create load the clean data into `bir_warehouse.db`"
   ]
  },
  {
   "cell_type": "code",
   "execution_count": 1,
   "metadata": {
    "colab": {
     "base_uri": "https://localhost:8080/"
    },
    "id": "y8DpYYll8Joz",
    "outputId": "40cac5b3-1153-431b-f780-201aa62b5813"
   },
   "outputs": [],
   "source": [
    "import pandas as pd\n",
    "import numpy as np\n",
    "from pypdf import PdfReader\n",
    "import sqlite3"
   ]
  },
  {
   "cell_type": "markdown",
   "metadata": {},
   "source": [
    "## Selecting year and type of exam"
   ]
  },
  {
   "cell_type": "markdown",
   "metadata": {},
   "source": [
    "This function, `compute_expected_rows`, takes the exam year and topic as input and returns metadata crucial for subsequent data cleaning and loading steps. This metadata includes the expected maximum number of rows in the final DataFrame, the number of questions per exam, and the acronym for the exam type.  The maximum number of rows is calculated based on the number of questions and options per question for each year, following a specific pattern:\n",
    "\n",
    "*   2024-2021: 210 questions, 4 options each\n",
    "*   2020-2019: 185 questions, 4 options each\n",
    "*   2018-2015: 235 questions, 4 options each\n",
    "*   2014-2012: 235 questions, 5 options each\n",
    "*   2011-2004: 260 questions, 5 options each\n",
    "\n",
    "This information is essential for validating data integrity during the ETL process.  For example, the expected row count helps verify that all questions and options have been correctly extracted and transformed. The exam type acronym aids in consistent file naming and data organization."
   ]
  },
  {
   "cell_type": "code",
   "execution_count": 2,
   "metadata": {},
   "outputs": [],
   "source": [
    "def compute_expected_rows(year: int, topic: str) -> tuple:\n",
    "    \"\"\"Computes and returns metadata about the exam for a given year and topic\n",
    "\n",
    "    Args:\n",
    "        year (int): The year of the exam\n",
    "        topic (str): The topic of the exam\n",
    "\n",
    "    Returns:\n",
    "        tuple: Contains:\n",
    "            - max_rows: The expected maximum number of rows in the DataFrame\n",
    "            - num_options: The number of questions in the exam\n",
    "            - exam_type_acronym: The acronym for the exam type\n",
    "\n",
    "    \"\"\"\n",
    "    info_year_dict: dict = {\n",
    "        2011: [260, 5],\n",
    "        2014: [235, 5],\n",
    "        2018: [235, 4],\n",
    "        2020: [185, 4],\n",
    "        2021: [210, 4],\n",
    "    }\n",
    "    save_name_dict: dict = {\n",
    "        \"BIOLOGÍA\": \"bir\",\n",
    "        \"FARMACIA\": \"fir\",\n",
    "        \"QUÍMICA\": \"qir\",\n",
    "        \"MEDICINA\": \"mir\",\n",
    "    }\n",
    "    max_rows: int = 0\n",
    "    num_options: int = 0\n",
    "    for target_year, info_list in info_year_dict.items():\n",
    "        if year <= target_year:\n",
    "            max_rows = (info_list[0] * info_list[1]) + info_list[0]\n",
    "            num_options = info_list[1]\n",
    "            break\n",
    "    else:\n",
    "        max_rows = 1050\n",
    "        num_options = 4\n",
    "    return max_rows, num_options, save_name_dict[topic]"
   ]
  },
  {
   "cell_type": "markdown",
   "metadata": {},
   "source": [
    "### Add year of the exam and topic "
   ]
  },
  {
   "cell_type": "code",
   "execution_count": 3,
   "metadata": {},
   "outputs": [],
   "source": [
    "year: int = 2021\n",
    "topic: str = \"FARMACIA\" # Select from: BIOLOGÍA, FARMACIA, QUÍMICA, MEDICINA\n",
    "total_num_rows: int\n",
    "num_questions: int\n",
    "exam_acronym: str\n",
    "total_num_rows, num_questions, exam_acronym = compute_expected_rows(year, topic)\n",
    "save_format: str = f\"../data/clean/clean_{exam_acronym}_{year}.csv\""
   ]
  },
  {
   "cell_type": "code",
   "execution_count": 4,
   "metadata": {},
   "outputs": [],
   "source": [
    "add_list: list = [x for x in range(17, 78, 1)] + [x for x in range(122, 150, 1)] + [x for x in range(183, 188, 1)] + [x for x in range(192, 201, 1)] + [202, 203, 205, 208]"
   ]
  },
  {
   "cell_type": "markdown",
   "metadata": {
    "id": "Z1Kjq5ue8Jo1"
   },
   "source": [
    "## Extracting Questions from Pdf file"
   ]
  },
  {
   "cell_type": "markdown",
   "metadata": {},
   "source": [
    "This section focuses on extracting the textual content of the exam questions from the provided PDF file.\n",
    "\n",
    "**Path Definition:**\n",
    "\n",
    "The path to the PDF file is dynamically constructed using the provided `year` and `topic` variables. This ensures flexibility and allows the script to process different exam files without manual path adjustments.\n",
    "\n",
    "Finally it stores the output in a DataFrame and the first 10 rows of the resulting DataFrame are displayed for a quick preview of the loaded data."
   ]
  },
  {
   "cell_type": "code",
   "execution_count": 5,
   "metadata": {
    "id": "AB4M4yfr8Jo3"
   },
   "outputs": [
    {
     "data": {
      "application/vnd.microsoft.datawrangler.viewer.v0+json": {
       "columns": [
        {
         "name": "index",
         "rawType": "int64",
         "type": "integer"
        },
        {
         "name": "text",
         "rawType": "object",
         "type": "string"
        }
       ],
       "conversionMethod": "pd.DataFrame",
       "ref": "09bd112e-2882-4904-baf4-7b233b6c9015",
       "rows": [
        [
         "0",
         "- 1 "
        ],
        [
         "1",
         "-"
        ],
        [
         "2",
         "1. ¿Qué ventaja tiene el empleo de aciloximetilés-"
        ],
        [
         "3",
         "teres en lugar de ésteres simples en el diseño de"
        ],
        [
         "4",
         "profármacos de ácidos carboxílicos?:"
        ],
        [
         "5",
         "1. Disminuye la velocidad de hidrólisis."
        ],
        [
         "6",
         "2. Aumen"
        ],
        [
         "7",
         "ta la estabilidad del profármaco."
        ],
        [
         "8",
         "3. El grupo éster externo es "
        ],
        [
         "9",
         "más accesible al"
        ]
       ],
       "shape": {
        "columns": 1,
        "rows": 10
       }
      },
      "text/html": [
       "<div>\n",
       "<style scoped>\n",
       "    .dataframe tbody tr th:only-of-type {\n",
       "        vertical-align: middle;\n",
       "    }\n",
       "\n",
       "    .dataframe tbody tr th {\n",
       "        vertical-align: top;\n",
       "    }\n",
       "\n",
       "    .dataframe thead th {\n",
       "        text-align: right;\n",
       "    }\n",
       "</style>\n",
       "<table border=\"1\" class=\"dataframe\">\n",
       "  <thead>\n",
       "    <tr style=\"text-align: right;\">\n",
       "      <th></th>\n",
       "      <th>text</th>\n",
       "    </tr>\n",
       "  </thead>\n",
       "  <tbody>\n",
       "    <tr>\n",
       "      <th>0</th>\n",
       "      <td>- 1</td>\n",
       "    </tr>\n",
       "    <tr>\n",
       "      <th>1</th>\n",
       "      <td>-</td>\n",
       "    </tr>\n",
       "    <tr>\n",
       "      <th>2</th>\n",
       "      <td>1. ¿Qué ventaja tiene el empleo de aciloximeti...</td>\n",
       "    </tr>\n",
       "    <tr>\n",
       "      <th>3</th>\n",
       "      <td>teres en lugar de ésteres simples en el diseño de</td>\n",
       "    </tr>\n",
       "    <tr>\n",
       "      <th>4</th>\n",
       "      <td>profármacos de ácidos carboxílicos?:</td>\n",
       "    </tr>\n",
       "    <tr>\n",
       "      <th>5</th>\n",
       "      <td>1. Disminuye la velocidad de hidrólisis.</td>\n",
       "    </tr>\n",
       "    <tr>\n",
       "      <th>6</th>\n",
       "      <td>2. Aumen</td>\n",
       "    </tr>\n",
       "    <tr>\n",
       "      <th>7</th>\n",
       "      <td>ta la estabilidad del profármaco.</td>\n",
       "    </tr>\n",
       "    <tr>\n",
       "      <th>8</th>\n",
       "      <td>3. El grupo éster externo es</td>\n",
       "    </tr>\n",
       "    <tr>\n",
       "      <th>9</th>\n",
       "      <td>más accesible al</td>\n",
       "    </tr>\n",
       "  </tbody>\n",
       "</table>\n",
       "</div>"
      ],
      "text/plain": [
       "                                                text\n",
       "0                                               - 1 \n",
       "1                                                  -\n",
       "2  1. ¿Qué ventaja tiene el empleo de aciloximeti...\n",
       "3  teres en lugar de ésteres simples en el diseño de\n",
       "4               profármacos de ácidos carboxílicos?:\n",
       "5           1. Disminuye la velocidad de hidrólisis.\n",
       "6                                           2. Aumen\n",
       "7                  ta la estabilidad del profármaco.\n",
       "8                      3. El grupo éster externo es \n",
       "9                                   más accesible al"
      ]
     },
     "execution_count": 5,
     "metadata": {},
     "output_type": "execute_result"
    }
   ],
   "source": [
    "path: str = f\"../data/raw/type_1/Raw_Cuaderno_{year}_{topic}_0_C.pdf\"\n",
    "with PdfReader(path) as pdf_file:\n",
    "    full_text: list = []\n",
    "    for n in range(2, len(pdf_file.pages)):\n",
    "        page = pdf_file.pages[n]\n",
    "        text: str = page.extract_text()\n",
    "        full_text.extend(text.splitlines())\n",
    "raw_exam_df: pd.DataFrame = pd.DataFrame(full_text, columns=[\"text\"])\n",
    "raw_exam_df.head(10)"
   ]
  },
  {
   "cell_type": "markdown",
   "metadata": {
    "id": "IBhc5aFQ8Jo6"
   },
   "source": [
    "## Extracting Answers from .tsv file into a DataFrame"
   ]
  },
  {
   "cell_type": "markdown",
   "metadata": {},
   "source": [
    "This section focuses on extracting the answer key data from the provided .tsv file and loading it into a Pandas DataFrame.\n",
    "\n",
    "**Path Definition and Data Loading:**\n",
    "\n",
    "The path to the .tsv file is dynamically constructed using the `year` and `topic` variables, mirroring the approach used for the PDF file. This ensures consistency and flexibility in processing different exam files. \n",
    "\n",
    "The `pd.read_table()` function is then used to read the .tsv file directly into a Pandas DataFrame. Finally, the first 10 rows of the resulting DataFrame are displayed for a quick preview of the loaded data."
   ]
  },
  {
   "cell_type": "code",
   "execution_count": 6,
   "metadata": {
    "colab": {
     "base_uri": "https://localhost:8080/",
     "height": 206
    },
    "id": "O1ouB9mQ8Jo7",
    "outputId": "70b7615d-9c90-4f2d-b9e1-a5c86b507ef6"
   },
   "outputs": [
    {
     "data": {
      "application/vnd.microsoft.datawrangler.viewer.v0+json": {
       "columns": [
        {
         "name": "index",
         "rawType": "int64",
         "type": "integer"
        },
        {
         "name": "V",
         "rawType": "int64",
         "type": "integer"
        },
        {
         "name": "RC",
         "rawType": "int64",
         "type": "integer"
        },
        {
         "name": "V.1",
         "rawType": "int64",
         "type": "integer"
        },
        {
         "name": "RC.1",
         "rawType": "int64",
         "type": "integer"
        },
        {
         "name": "V.2",
         "rawType": "int64",
         "type": "integer"
        },
        {
         "name": "RC.2",
         "rawType": "float64",
         "type": "float"
        },
        {
         "name": "V.3",
         "rawType": "int64",
         "type": "integer"
        },
        {
         "name": "RC.3",
         "rawType": "int64",
         "type": "integer"
        },
        {
         "name": "V.4",
         "rawType": "int64",
         "type": "integer"
        },
        {
         "name": "RC.4",
         "rawType": "float64",
         "type": "float"
        }
       ],
       "conversionMethod": "pd.DataFrame",
       "ref": "d92fe001-c4aa-4f5e-a4bd-3e4b3ecc1d82",
       "rows": [
        [
         "0",
         "1",
         "3",
         "43",
         "1",
         "85",
         "2.0",
         "127",
         "3",
         "169",
         "3.0"
        ],
        [
         "1",
         "2",
         "1",
         "44",
         "1",
         "86",
         "2.0",
         "128",
         "2",
         "170",
         "1.0"
        ],
        [
         "2",
         "3",
         "3",
         "45",
         "1",
         "87",
         "2.0",
         "129",
         "1",
         "171",
         "2.0"
        ],
        [
         "3",
         "4",
         "4",
         "46",
         "1",
         "88",
         "3.0",
         "130",
         "4",
         "172",
         "1.0"
        ],
        [
         "4",
         "5",
         "3",
         "47",
         "1",
         "89",
         "1.0",
         "131",
         "2",
         "173",
         "2.0"
        ],
        [
         "5",
         "6",
         "1",
         "48",
         "3",
         "90",
         "2.0",
         "132",
         "3",
         "174",
         "4.0"
        ],
        [
         "6",
         "7",
         "3",
         "49",
         "2",
         "91",
         "3.0",
         "133",
         "4",
         "175",
         "3.0"
        ],
        [
         "7",
         "8",
         "2",
         "50",
         "2",
         "92",
         "3.0",
         "134",
         "2",
         "176",
         "1.0"
        ],
        [
         "8",
         "9",
         "4",
         "51",
         "3",
         "93",
         "1.0",
         "135",
         "3",
         "177",
         "3.0"
        ],
        [
         "9",
         "10",
         "4",
         "52",
         "2",
         "94",
         "4.0",
         "136",
         "3",
         "178",
         "2.0"
        ]
       ],
       "shape": {
        "columns": 10,
        "rows": 10
       }
      },
      "text/html": [
       "<div>\n",
       "<style scoped>\n",
       "    .dataframe tbody tr th:only-of-type {\n",
       "        vertical-align: middle;\n",
       "    }\n",
       "\n",
       "    .dataframe tbody tr th {\n",
       "        vertical-align: top;\n",
       "    }\n",
       "\n",
       "    .dataframe thead th {\n",
       "        text-align: right;\n",
       "    }\n",
       "</style>\n",
       "<table border=\"1\" class=\"dataframe\">\n",
       "  <thead>\n",
       "    <tr style=\"text-align: right;\">\n",
       "      <th></th>\n",
       "      <th>V</th>\n",
       "      <th>RC</th>\n",
       "      <th>V.1</th>\n",
       "      <th>RC.1</th>\n",
       "      <th>V.2</th>\n",
       "      <th>RC.2</th>\n",
       "      <th>V.3</th>\n",
       "      <th>RC.3</th>\n",
       "      <th>V.4</th>\n",
       "      <th>RC.4</th>\n",
       "    </tr>\n",
       "  </thead>\n",
       "  <tbody>\n",
       "    <tr>\n",
       "      <th>0</th>\n",
       "      <td>1</td>\n",
       "      <td>3</td>\n",
       "      <td>43</td>\n",
       "      <td>1</td>\n",
       "      <td>85</td>\n",
       "      <td>2.0</td>\n",
       "      <td>127</td>\n",
       "      <td>3</td>\n",
       "      <td>169</td>\n",
       "      <td>3.0</td>\n",
       "    </tr>\n",
       "    <tr>\n",
       "      <th>1</th>\n",
       "      <td>2</td>\n",
       "      <td>1</td>\n",
       "      <td>44</td>\n",
       "      <td>1</td>\n",
       "      <td>86</td>\n",
       "      <td>2.0</td>\n",
       "      <td>128</td>\n",
       "      <td>2</td>\n",
       "      <td>170</td>\n",
       "      <td>1.0</td>\n",
       "    </tr>\n",
       "    <tr>\n",
       "      <th>2</th>\n",
       "      <td>3</td>\n",
       "      <td>3</td>\n",
       "      <td>45</td>\n",
       "      <td>1</td>\n",
       "      <td>87</td>\n",
       "      <td>2.0</td>\n",
       "      <td>129</td>\n",
       "      <td>1</td>\n",
       "      <td>171</td>\n",
       "      <td>2.0</td>\n",
       "    </tr>\n",
       "    <tr>\n",
       "      <th>3</th>\n",
       "      <td>4</td>\n",
       "      <td>4</td>\n",
       "      <td>46</td>\n",
       "      <td>1</td>\n",
       "      <td>88</td>\n",
       "      <td>3.0</td>\n",
       "      <td>130</td>\n",
       "      <td>4</td>\n",
       "      <td>172</td>\n",
       "      <td>1.0</td>\n",
       "    </tr>\n",
       "    <tr>\n",
       "      <th>4</th>\n",
       "      <td>5</td>\n",
       "      <td>3</td>\n",
       "      <td>47</td>\n",
       "      <td>1</td>\n",
       "      <td>89</td>\n",
       "      <td>1.0</td>\n",
       "      <td>131</td>\n",
       "      <td>2</td>\n",
       "      <td>173</td>\n",
       "      <td>2.0</td>\n",
       "    </tr>\n",
       "    <tr>\n",
       "      <th>5</th>\n",
       "      <td>6</td>\n",
       "      <td>1</td>\n",
       "      <td>48</td>\n",
       "      <td>3</td>\n",
       "      <td>90</td>\n",
       "      <td>2.0</td>\n",
       "      <td>132</td>\n",
       "      <td>3</td>\n",
       "      <td>174</td>\n",
       "      <td>4.0</td>\n",
       "    </tr>\n",
       "    <tr>\n",
       "      <th>6</th>\n",
       "      <td>7</td>\n",
       "      <td>3</td>\n",
       "      <td>49</td>\n",
       "      <td>2</td>\n",
       "      <td>91</td>\n",
       "      <td>3.0</td>\n",
       "      <td>133</td>\n",
       "      <td>4</td>\n",
       "      <td>175</td>\n",
       "      <td>3.0</td>\n",
       "    </tr>\n",
       "    <tr>\n",
       "      <th>7</th>\n",
       "      <td>8</td>\n",
       "      <td>2</td>\n",
       "      <td>50</td>\n",
       "      <td>2</td>\n",
       "      <td>92</td>\n",
       "      <td>3.0</td>\n",
       "      <td>134</td>\n",
       "      <td>2</td>\n",
       "      <td>176</td>\n",
       "      <td>1.0</td>\n",
       "    </tr>\n",
       "    <tr>\n",
       "      <th>8</th>\n",
       "      <td>9</td>\n",
       "      <td>4</td>\n",
       "      <td>51</td>\n",
       "      <td>3</td>\n",
       "      <td>93</td>\n",
       "      <td>1.0</td>\n",
       "      <td>135</td>\n",
       "      <td>3</td>\n",
       "      <td>177</td>\n",
       "      <td>3.0</td>\n",
       "    </tr>\n",
       "    <tr>\n",
       "      <th>9</th>\n",
       "      <td>10</td>\n",
       "      <td>4</td>\n",
       "      <td>52</td>\n",
       "      <td>2</td>\n",
       "      <td>94</td>\n",
       "      <td>4.0</td>\n",
       "      <td>136</td>\n",
       "      <td>3</td>\n",
       "      <td>178</td>\n",
       "      <td>2.0</td>\n",
       "    </tr>\n",
       "  </tbody>\n",
       "</table>\n",
       "</div>"
      ],
      "text/plain": [
       "    V  RC  V.1  RC.1  V.2  RC.2  V.3  RC.3  V.4  RC.4\n",
       "0   1   3   43     1   85   2.0  127     3  169   3.0\n",
       "1   2   1   44     1   86   2.0  128     2  170   1.0\n",
       "2   3   3   45     1   87   2.0  129     1  171   2.0\n",
       "3   4   4   46     1   88   3.0  130     4  172   1.0\n",
       "4   5   3   47     1   89   1.0  131     2  173   2.0\n",
       "5   6   1   48     3   90   2.0  132     3  174   4.0\n",
       "6   7   3   49     2   91   3.0  133     4  175   3.0\n",
       "7   8   2   50     2   92   3.0  134     2  176   1.0\n",
       "8   9   4   51     3   93   1.0  135     3  177   3.0\n",
       "9  10   4   52     2   94   4.0  136     3  178   2.0"
      ]
     },
     "execution_count": 6,
     "metadata": {},
     "output_type": "execute_result"
    }
   ],
   "source": [
    "raw_answers_df: pd.DataFrame = pd.read_table(f\"../data/raw/type_1/Raw_Cuaderno_{year}_{topic}_0_C_Respuestas.tsv\")\n",
    "raw_answers_df.head(10)"
   ]
  },
  {
   "cell_type": "markdown",
   "metadata": {
    "id": "uFFlTADP8Jo7"
   },
   "source": [
    "# Data Transformation"
   ]
  },
  {
   "cell_type": "markdown",
   "metadata": {},
   "source": [
    "## Exam pdf"
   ]
  },
  {
   "cell_type": "markdown",
   "metadata": {},
   "source": [
    "### Removing white space"
   ]
  },
  {
   "cell_type": "markdown",
   "metadata": {
    "id": "2QavIIOK8Jo7"
   },
   "source": [
    "This section focuses on cleaning the raw text extracted from the PDF exam file, preparing it for further processing. This involves removing extraneous whitespace, handling empty lines, and resetting the DataFrame index.\n",
    "\n",
    "**1. Removing Page Number Artifacts:**\n",
    "\n",
    "The extracted text may contain page number artifacts, which are removed by filtering out rows containing the string \"Página\"."
   ]
  },
  {
   "cell_type": "code",
   "execution_count": 7,
   "metadata": {},
   "outputs": [],
   "source": [
    "raw_exam_df = raw_exam_df[~raw_exam_df[\"text\"].str.contains(\"Página\")]\n",
    "raw_exam_df = raw_exam_df[~raw_exam_df[\"text\"].str.contains(\"Pagina\")]\n",
    "raw_exam_df = raw_exam_df[~raw_exam_df[\"text\"].str.contains(topic)]\n",
    "\n",
    "footer_list: list = [f\"- {npag} -\" for npag in range(0,30,1)]\n",
    "\n",
    "for footer in footer_list:\n",
    "    raw_exam_df[\"text\"] = raw_exam_df[\"text\"].str.replace(footer, \"\")"
   ]
  },
  {
   "cell_type": "markdown",
   "metadata": {},
   "source": [
    "**2. Striping Leading/Trailing Whitespaces**\n",
    "\n",
    "Leading and trailing whitespace characters are removed from each text entry using the .str.strip() method."
   ]
  },
  {
   "cell_type": "code",
   "execution_count": 8,
   "metadata": {},
   "outputs": [],
   "source": [
    "raw_exam_df = raw_exam_df[\"text\"].str.strip()"
   ]
  },
  {
   "cell_type": "markdown",
   "metadata": {},
   "source": [
    "**3. Handling Empty Lines**\n",
    "\n",
    "Empty lines, represented as empty strings, are replaced with NaN (Not a Number) values. \n",
    "\n",
    "Then rows containing NaN values, representing empty lines, are removed from the DataFrame using .dropna()"
   ]
  },
  {
   "cell_type": "code",
   "execution_count": 9,
   "metadata": {},
   "outputs": [],
   "source": [
    "raw_exam_df = raw_exam_df.replace(\"\", np.nan)\n",
    "raw_exam_df = raw_exam_df.dropna()"
   ]
  },
  {
   "cell_type": "markdown",
   "metadata": {},
   "source": [
    "**4. Reseting DataFrame Index**\n",
    "\n",
    "The DataFrame index is reset after removing rows, ensuring a contiguous index and dropping the old index."
   ]
  },
  {
   "cell_type": "code",
   "execution_count": 13,
   "metadata": {},
   "outputs": [],
   "source": [
    "raw_exam_df = raw_exam_df[2:]\n",
    "raw_exam_df = raw_exam_df.reset_index(drop=True)"
   ]
  },
  {
   "cell_type": "markdown",
   "metadata": {},
   "source": [
    "**5. Displays the first 10 rows of the DataFrame**"
   ]
  },
  {
   "cell_type": "code",
   "execution_count": 14,
   "metadata": {},
   "outputs": [
    {
     "data": {
      "text/plain": [
       "0    1. ¿Qué ventaja tiene el empleo de aciloximeti...\n",
       "1    teres en lugar de ésteres simples en el diseño de\n",
       "2                 profármacos de ácidos carboxílicos?:\n",
       "3             1. Disminuye la velocidad de hidrólisis.\n",
       "4                                             2. Aumen\n",
       "5                    ta la estabilidad del profármaco.\n",
       "6                         3. El grupo éster externo es\n",
       "7                                     más accesible al\n",
       "8                      centro activo de las esterasas.\n",
       "9                                     4. Facilita la b\n",
       "Name: text, dtype: object"
      ]
     },
     "execution_count": 14,
     "metadata": {},
     "output_type": "execute_result"
    }
   ],
   "source": [
    "raw_exam_df.head(10)"
   ]
  },
  {
   "cell_type": "code",
   "execution_count": 15,
   "metadata": {},
   "outputs": [
    {
     "data": {
      "text/plain": [
       "2067                               1. Carga de los iones.\n",
       "2068                                2. Masa de los iones.\n",
       "2069                 3. Relación masa/carga de los iones.\n",
       "2070                 4. Relación carga/masa de los iones.\n",
       "2071    210. ¿Qué antídoto se indica en una sobredosis...\n",
       "2072           anticoagulantes del tipo de la warfarina?:\n",
       "2073                                     1. Idarucizumab.\n",
       "2074                                      2. Flumazenilo.\n",
       "2075                                        3. Andexanet.\n",
       "2076                                       4. Vitamina K.\n",
       "Name: text, dtype: object"
      ]
     },
     "execution_count": 15,
     "metadata": {},
     "output_type": "execute_result"
    }
   ],
   "source": [
    "raw_exam_df.tail(10)"
   ]
  },
  {
   "cell_type": "markdown",
   "metadata": {},
   "source": [
    "### Joining Truncated Lines"
   ]
  },
  {
   "cell_type": "markdown",
   "metadata": {},
   "source": [
    "This section addresses the issue of truncated lines and multi-line questions or options within the extracted exam text. A custom function, `process_multi_line_str`, is used to concatenate these lines, ensuring that each question and option is presented as a single, coherent string.\n",
    "\n",
    "**Function: `process_multi_line_str(df)`**\n",
    "\n",
    "This function iterates through the DataFrame, performing two main tasks:\n",
    "\n",
    "1.  **Joining Truncated Words:**\n",
    "    * It checks if a line ends with a hyphen (\"-\"), indicating a word that has been truncated at the end of a line.\n",
    "    * If a line is truncated, it removes the hyphen and appends the content of the following line to the current line.\n",
    "    * The following line is then removed from the DataFrame, and the index is reset.\n",
    "\n",
    "2.  **Joining Multi-Line Questions/Options:**\n",
    "    * It checks if the first character of the next line can be converted to an integer. This is used as a heuristic to identify the start of a new question or option.\n",
    "    * If the next line does not start with an integer (i.e., it's a continuation of the current question or option), it is appended to the current line, separated by a space.\n",
    "    * The next line is then removed, and the index is reset."
   ]
  },
  {
   "cell_type": "code",
   "execution_count": 16,
   "metadata": {
    "id": "rYZHjn_C8Jo8"
   },
   "outputs": [],
   "source": [
    "def process_multi_line_str(df: pd.DataFrame) -> pd.DataFrame:\n",
    "    \"\"\"Function to handle truncated lines\n",
    "\n",
    "    Args:\n",
    "        df (pd.DataFrame): A pandas dataframe\n",
    "\n",
    "    Returns:\n",
    "        pd.DataFrame: Returns the DataFrame without truncated lines\n",
    "    \"\"\"\n",
    "    i: int = 0\n",
    "    while i < len(df) - 1:\n",
    "        if i < len(df) -1  and df.iloc[i].endswith(\"-\"):\n",
    "            df.iloc[i] = df.iloc[i][:-1] + df.iloc[i + 1]\n",
    "            df = df.drop(i + 1)\n",
    "            df = df.reset_index(drop=True)\n",
    "        else:\n",
    "            i += 1\n",
    "    n: int = 0\n",
    "    while n < len(df) -1:\n",
    "        if n + 1 < len(df):\n",
    "            try:\n",
    "                int(df.iloc[n + 1][0:1])\n",
    "                n += 1\n",
    "            except ValueError:\n",
    "                df.iloc[n] = df.iloc[n] + \" \" + df.iloc[n + 1]\n",
    "                df = df.drop(n +1)\n",
    "                df = df.reset_index(drop= True)\n",
    "        else:\n",
    "            break\n",
    "    return df"
   ]
  },
  {
   "cell_type": "markdown",
   "metadata": {},
   "source": [
    "The process_multi_line_str function is applied to the cleaned raw_exam_df DataFrame, and the resulting DataFrame is stored in exam_df_concat. The first few rows of the concatenated DataFrame are displayed to verify the results."
   ]
  },
  {
   "cell_type": "code",
   "execution_count": 17,
   "metadata": {
    "colab": {
     "base_uri": "https://localhost:8080/",
     "height": 206
    },
    "id": "2v6dmQuM8_v1",
    "outputId": "215f5328-a43d-4bbb-f221-fba6fc10a5c1"
   },
   "outputs": [
    {
     "data": {
      "text/plain": [
       "0    1. ¿Qué ventaja tiene el empleo de aciloximeti...\n",
       "1             1. Disminuye la velocidad de hidrólisis.\n",
       "2           2. Aumen ta la estabilidad del profármaco.\n",
       "3    3. El grupo éster externo es más accesible al ...\n",
       "4    4. Facilita la b ioactivación selectiva en el ...\n",
       "5    2. ¿Qué inconveniente presenta el empleo de ba...\n",
       "6                          1. Son inestables in vitro.\n",
       "7             2. Aumen tan excesivamente la lipofilia.\n",
       "8                  3. So n demasiado estables in vivo.\n",
       "9    4. Fo rman con facilidad redes cristalinas muy...\n",
       "Name: text, dtype: object"
      ]
     },
     "execution_count": 17,
     "metadata": {},
     "output_type": "execute_result"
    }
   ],
   "source": [
    "exam_df_concat: pd.DataFrame = process_multi_line_str(raw_exam_df)\n",
    "exam_df_concat.head(10)"
   ]
  },
  {
   "cell_type": "markdown",
   "metadata": {},
   "source": [
    "### Validating and Correction Incorrect Rows"
   ]
  },
  {
   "cell_type": "markdown",
   "metadata": {},
   "source": [
    "This section focuses on validating the number of rows in the cleaned DataFrame against the expected number and correcting any rows that do not conform to the expected format.\n",
    "\n",
    "**1. Calculating Expected and Actual Incorrect Rows:**\n",
    "\n",
    "We calculate the expected number of incorrect rows by subtracting the total expected rows from the current number of rows in the DataFrame. We then identify the actual number of incorrect rows by counting the rows that do not end with a period (\".\"), a colon (\":\") or interrogation sign (\"?\")."
   ]
  },
  {
   "cell_type": "code",
   "execution_count": 18,
   "metadata": {},
   "outputs": [
    {
     "name": "stdout",
     "output_type": "stream",
     "text": [
      "Number of expected incorrect rows = 5\n",
      "Number of rows not ending with '.', ':' or '?' = 6\n",
      "[300, 383, 436, 598, 890, 1019]\n"
     ]
    }
   ],
   "source": [
    "num_rows_incorrect_expected: int = len(exam_df_concat) - total_num_rows\n",
    "num_rows_incorrect: int = exam_df_concat[~exam_df_concat.str.endswith((\".\", \":\", \"?\"))].count()\n",
    "id_rows_incorrect: list = exam_df_concat[~exam_df_concat.str.endswith((\".\", \":\", \"?\"))].index.to_list()\n",
    "print(f\"Number of expected incorrect rows = {num_rows_incorrect_expected}\")\n",
    "print(f\"Number of rows not ending with '.', ':' or '?' = {num_rows_incorrect}\")\n",
    "print(id_rows_incorrect)"
   ]
  },
  {
   "cell_type": "markdown",
   "metadata": {},
   "source": [
    "**2. Function: print_rows_incorrrect(wrong_id, df):**\n",
    "\n",
    "This function takes a list of incorrect row indices and the DataFrame as input. It then prints the row identified as incorrect along with the 2 rows before and 2 rows after, providing context to help determine how to fix the error."
   ]
  },
  {
   "cell_type": "code",
   "execution_count": 19,
   "metadata": {},
   "outputs": [],
   "source": [
    "def print_rows_incorrrect(wrong_id: list[int], df: pd.DataFrame) -> None:\n",
    "    \"\"\"Print +/- 2 rows for context\n",
    "\n",
    "    Args:\n",
    "        wrong_id (list): Generated list of wrong row_id\n",
    "        df (pd.DataFrame): DataFrame corresponding with the worng_id list\n",
    "    \"\"\"\n",
    "    for wid in wrong_id:\n",
    "        print(f\"Id to fix {wid}:\")\n",
    "        print(df.iloc[wid -2: wid +3])"
   ]
  },
  {
   "cell_type": "markdown",
   "metadata": {},
   "source": [
    "**3. Function: fix_incorrect(num_row, df):**\n",
    "\n",
    "This function takes a list of row indices to fix and the DataFrame. It iterates through the indices in reverse order to avoid index shifting problems. Each incorrect row is concatenated with the row immediately following it, and the subsequent row is then dropped. The DataFrame index is reset after each concatenation."
   ]
  },
  {
   "cell_type": "code",
   "execution_count": 20,
   "metadata": {},
   "outputs": [],
   "source": [
    "def fix_incorrect(num_row: list[int], df: pd.DataFrame) -> pd.DataFrame:\n",
    "    \"\"\"Fix the incorrect rows in the DataFrame\n",
    "\n",
    "    Args:\n",
    "        num_row (list): List of ids to fix\n",
    "        df (pd.DataFrame): The DataFrame to fix\n",
    "\n",
    "    Returns:\n",
    "        pd.DataFrame: Fixed\n",
    "    \"\"\"\n",
    "    num_row: list = sorted(num_row, reverse=True)\n",
    "    for n in num_row:\n",
    "        df.iloc[n] = df.iloc[n] + df.iloc[n + 1]\n",
    "        df = df.drop(n + 1)\n",
    "        df = df.reset_index(drop= True)\n",
    "    return df"
   ]
  },
  {
   "cell_type": "markdown",
   "metadata": {},
   "source": [
    "**4. Validation and Correction Logic:**\n",
    "\n",
    "We compare the expected and actual number of incorrect rows. If they match, we proceed to fix the incorrect rows using the `fix_incorrect` function. Otherwise, we print the context of the incorrect rows and raise a warning, indicating that manual inspection and correction are required."
   ]
  },
  {
   "cell_type": "code",
   "execution_count": 22,
   "metadata": {},
   "outputs": [
    {
     "name": "stdout",
     "output_type": "stream",
     "text": [
      "Id to fix 300:\n",
      "298                                      3. Mieloblasto.\n",
      "299                                     4. Promielocito.\n",
      "300    61. ¿Cuál de las siguientes alteraciones morfo...\n",
      "301                                         100.000/L?:\n",
      "302                                      1. Esferocitos.\n",
      "Name: text, dtype: object\n",
      "Id to fix 383:\n",
      "381    77. ¿Cuál de las siguientes afirmaciones sobre...\n",
      "382           1. Produce hiperplasia suprarrenocortical.\n",
      "383       2. Se reducen las concentraciones urinarias de\n",
      "384                                    17-cetosteroides.\n",
      "385                       3. Cursa con hipocortisolismo.\n",
      "Name: text, dtype: object\n",
      "Id to fix 436:\n",
      "434    2. Puede causar hipermagnesemia en tratamiento...\n",
      "435     3. Puede disminuir la absorción de vitamina B12.\n",
      "436      4. La máxima inhibición ácida se consigue a los\n",
      "437                             3-4 días de tratamiento.\n",
      "438    88. En pacientes en tratamiento para el contro...\n",
      "Name: text, dtype: object\n",
      "Id to fix 598:\n",
      "596                    3. Tres semividas de eliminación.\n",
      "597                  4. Cuatro semividas de eliminación.\n",
      "598    120. Un fármaco cuya cinética de eliminación e...\n",
      "599    10 mg/h a un determinado  paciente. ¿Cuál será...\n",
      "600                                          1. 10 mg/L.\n",
      "Name: text, dtype: object\n",
      "Id to fix 890:\n",
      "888                                     4. p-Aminofenol.\n",
      "889    178. ¿Qué compuesto presenta la mayor energía ...\n",
      "890                                              1. MgF2\n",
      "891                                              2. MgO.\n",
      "892                                             3. Na2O.\n",
      "Name: text, dtype: object\n",
      "Id to fix 1019:\n",
      "1017                      3. Núcleo ciliespinal de Budge.\n",
      "1018                                4. Núcleo de Deiters.\n",
      "1019    204. Una paciente de 70 años, durante un proce...\n",
      "1020    87.000/µL (200.000 plaquetas/µL al inicio) ¿qu...\n",
      "1021                 1. Administrar sulfato de protamina.\n",
      "Name: text, dtype: object\n"
     ]
    }
   ],
   "source": [
    "if num_rows_incorrect_expected == num_rows_incorrect:\n",
    "    exam_df_fixed = fix_incorrect(id_rows_incorrect, exam_df_concat)\n",
    "    df_correct_rows: bool = len(exam_df_fixed) == num_rows_incorrect_expected\n",
    "else:\n",
    "    print_rows_incorrrect(id_rows_incorrect, exam_df_concat)\n",
    "    # raise Warning(\"More incorrect rows that expected, uncomment the lines below and add ids to the list, and comment this line\")\n",
    "    rows_fix: list[int] = [300, 383, 436, 598, 1019]\n",
    "    exam_df_fixed: pd.DataFrame = fix_incorrect(rows_fix, exam_df_concat)"
   ]
  },
  {
   "cell_type": "markdown",
   "metadata": {},
   "source": [
    "**5. Verification of Corrected Rows:**\n",
    "\n",
    "We print the expected total number of rows and the actual number of rows in the corrected DataFrame to verify the results of the correction process."
   ]
  },
  {
   "cell_type": "code",
   "execution_count": 23,
   "metadata": {},
   "outputs": [
    {
     "name": "stdout",
     "output_type": "stream",
     "text": [
      "Correct number of rows = 1050\n",
      "1050\n"
     ]
    }
   ],
   "source": [
    "print(f\"Correct number of rows = {total_num_rows}\")\n",
    "print(exam_df_fixed.shape[0])"
   ]
  },
  {
   "cell_type": "markdown",
   "metadata": {},
   "source": [
    "### Pivoting the DataFrame\n",
    "\n",
    "This section focuses on transforming the cleaned exam data into a structured format suitable for analysis. The DataFrame is pivoted to create columns for each question and its corresponding options.\n",
    "\n",
    "**1. Preparing the DataFrame for Pivoting:**\n",
    "\n",
    "The `exam_df_fixed` Series is converted to a DataFrame, and a 'group' column is created to identify each question and its options. An 'option_num' column is then generated to enumerate the options within each group.\n"
   ]
  },
  {
   "cell_type": "code",
   "execution_count": 24,
   "metadata": {},
   "outputs": [],
   "source": [
    "exam_df_fixed = exam_df_fixed.to_frame()\n",
    "groups: pd.Series = pd.Series((exam_df_fixed.index // (num_questions+1)) +1)\n",
    "exam_df_fixed[\"group\"] = groups  \n",
    "exam_df_fixed[\"option_num\"] = exam_df_fixed.groupby(\"group\").cumcount() + 1"
   ]
  },
  {
   "cell_type": "markdown",
   "metadata": {},
   "source": [
    "**2. Pivoting the DataFrame:**\n",
    "\n",
    "The DataFrame is pivoted using the 'group' column as the index, the 'option_num' column as the columns, and the 'text' column as the values. The index is then reset."
   ]
  },
  {
   "cell_type": "code",
   "execution_count": 25,
   "metadata": {},
   "outputs": [],
   "source": [
    "exam_df_pivot: pd.DataFrame = exam_df_fixed.pivot(index=\"group\", columns=\"option_num\", values=\"text\")\n",
    "exam_df_pivot = exam_df_pivot.reset_index()"
   ]
  },
  {
   "cell_type": "markdown",
   "metadata": {},
   "source": [
    "**3. Renaming Columns:**\n",
    "\n",
    "The columns are renamed to more descriptive names, such as \"Question\", \"Option_1\", \"Option_2\", etc."
   ]
  },
  {
   "cell_type": "code",
   "execution_count": 26,
   "metadata": {},
   "outputs": [],
   "source": [
    "key_list: list = [x for x in range(1, num_questions+2, 1)]\n",
    "val_list: list = [\"Question\"] + [f\"Option_{x}\" for x in range(1, 4 + 1, 1)]\n",
    "\n",
    "exam_df_pivot = exam_df_pivot.rename_axis(None, axis=1).rename(columns=dict(zip(key_list, val_list)))"
   ]
  },
  {
   "cell_type": "markdown",
   "metadata": {},
   "source": [
    "**4. Dropping the 'group' Column:**\n",
    "\n",
    "The 'group' column is dropped as it is no longer needed"
   ]
  },
  {
   "cell_type": "code",
   "execution_count": 27,
   "metadata": {},
   "outputs": [],
   "source": [
    "exam_df_pivot = exam_df_pivot.drop(columns=[\"group\"])"
   ]
  },
  {
   "cell_type": "markdown",
   "metadata": {},
   "source": [
    "**5. Displaying the Pivoted DataFrame:**\n",
    "\n",
    "The first 10 rows of the pivoted DataFrame are displayed to verify the results of the transformation."
   ]
  },
  {
   "cell_type": "code",
   "execution_count": 28,
   "metadata": {},
   "outputs": [
    {
     "data": {
      "application/vnd.microsoft.datawrangler.viewer.v0+json": {
       "columns": [
        {
         "name": "index",
         "rawType": "int64",
         "type": "integer"
        },
        {
         "name": "Question",
         "rawType": "object",
         "type": "string"
        },
        {
         "name": "Option_1",
         "rawType": "object",
         "type": "string"
        },
        {
         "name": "Option_2",
         "rawType": "object",
         "type": "string"
        },
        {
         "name": "Option_3",
         "rawType": "object",
         "type": "string"
        },
        {
         "name": "Option_4",
         "rawType": "object",
         "type": "string"
        }
       ],
       "conversionMethod": "pd.DataFrame",
       "ref": "0dd6c81d-cf79-4d31-a797-e2542d3f25c6",
       "rows": [
        [
         "0",
         "1. ¿Qué ventaja tiene el empleo de aciloximetilésteres en lugar de ésteres simples en el diseño de profármacos de ácidos carboxílicos?:",
         "1. Disminuye la velocidad de hidrólisis.",
         "2. Aumen ta la estabilidad del profármaco.",
         "3. El grupo éster externo es más accesible al centro activo de las esterasas.",
         "4. Facilita la b ioactivación selectiva en el lugar de acción."
        ],
        [
         "1",
         "2. ¿Qué inconveniente presenta el empleo de bases de Mannich como profármacos de amidas?:",
         "1. Son inestables in vitro.",
         "2. Aumen tan excesivamente la lipofilia.",
         "3. So n demasiado estables in vivo.",
         "4. Fo rman con facilidad redes cristalinas muy estables."
        ],
        [
         "2",
         "3. ¿Cuál de los siguientes sustituyentes presentes en la estructura de los antagonistas de los receptores de angiotensina II es ácido y aporta lipofilia?:",
         "1. Bifenilo.",
         "2. Hidrox imetilo.",
         "3. Tetrazol.",
         "4. n -Butilo."
        ],
        [
         "3",
         "4. ¿Qué papel desempeñan los fragmentos de betahidroxicarbonilo de las antraciclinas en su actividad biológica?:",
         "1. Establecen enl aces covalentes con el ADN.",
         "2. Establecen enl aces de hidrógeno con la topoisomerasa I.",
         "3. Fijan la conformación activa a través de enlaces de hidrógeno intramoleculares.",
         "4. Forman quelatos con el Fe 3+ favoreciendo la formación de radicales hidroxilo."
        ],
        [
         "4",
         "5. ¿Qué consecuencia tiene el cambio de posición de uno de l os grupos hidroxilo del anillo  de catec ol en los derivados de ariletanolamina que actúan en los receptores adrenérgicos?:",
         "1. Se fa vorece la degradación por la catecol-Ometil-transferasa.",
         "2. Se pierde actividad al disminuir la analogía con el ligando endógeno.",
         "3. Aumen ta la estabilidad metabólica.",
         "4. Se favo rece la degr adación por monoami no oxi dasas."
        ],
        [
         "5",
         "6. El catión metildiazonio es un metabolito ac tivo de:",
         "1. Procarbazina.",
         "2. C iclofosfamida.",
         "3. Mecloretamina .",
         "4. Busulfán."
        ],
        [
         "6",
         "7. ¿Cuál de los siguientes fármacos se considera un inhibidor suicida?:",
         "1. Lo pinavir.",
         "2. Captopril.",
         "3. Seleg ilina.",
         "4. R ivastigmina."
        ],
        [
         "7",
         "8. ¿Cuál de las siguientes reacciones metabólicas de fase II NO conduce a un metabolito de mayor polaridad?:",
         "1. Gl ucuronidación.",
         "2. Acetilación.",
         "3. C onjugación con sulfato.",
         "4. Conjugación con glutatión."
        ],
        [
         "8",
         "9. Un método general para obtener derivados del ácido barbitúrico consiste en la reacción entre:",
         "1. Fen ilhidrazina y un compuesto carbon ílico enolizable.",
         "2. Un a 1,3-diamina y carbonato de etilo.",
         "3. Acetilacetato de etilo, amoniaco y alde hídos aromáticos.",
         "4. Un éster malón ico convenientemente sustituido y urea."
        ],
        [
         "9",
         "10. Las sulfonilureas ejercen su efecto hipoglucemiante al interaccionar con:",
         "1. Canales de calcio dependientes de potencial.",
         "2. Canales de sodio dependientes de potencial.",
         "3. B ombas iónicas dependientes de ATP.",
         "4. Canales de potasio dependientes de ATP."
        ]
       ],
       "shape": {
        "columns": 5,
        "rows": 10
       }
      },
      "text/html": [
       "<div>\n",
       "<style scoped>\n",
       "    .dataframe tbody tr th:only-of-type {\n",
       "        vertical-align: middle;\n",
       "    }\n",
       "\n",
       "    .dataframe tbody tr th {\n",
       "        vertical-align: top;\n",
       "    }\n",
       "\n",
       "    .dataframe thead th {\n",
       "        text-align: right;\n",
       "    }\n",
       "</style>\n",
       "<table border=\"1\" class=\"dataframe\">\n",
       "  <thead>\n",
       "    <tr style=\"text-align: right;\">\n",
       "      <th></th>\n",
       "      <th>Question</th>\n",
       "      <th>Option_1</th>\n",
       "      <th>Option_2</th>\n",
       "      <th>Option_3</th>\n",
       "      <th>Option_4</th>\n",
       "    </tr>\n",
       "  </thead>\n",
       "  <tbody>\n",
       "    <tr>\n",
       "      <th>0</th>\n",
       "      <td>1. ¿Qué ventaja tiene el empleo de aciloximeti...</td>\n",
       "      <td>1. Disminuye la velocidad de hidrólisis.</td>\n",
       "      <td>2. Aumen ta la estabilidad del profármaco.</td>\n",
       "      <td>3. El grupo éster externo es más accesible al ...</td>\n",
       "      <td>4. Facilita la b ioactivación selectiva en el ...</td>\n",
       "    </tr>\n",
       "    <tr>\n",
       "      <th>1</th>\n",
       "      <td>2. ¿Qué inconveniente presenta el empleo de ba...</td>\n",
       "      <td>1. Son inestables in vitro.</td>\n",
       "      <td>2. Aumen tan excesivamente la lipofilia.</td>\n",
       "      <td>3. So n demasiado estables in vivo.</td>\n",
       "      <td>4. Fo rman con facilidad redes cristalinas muy...</td>\n",
       "    </tr>\n",
       "    <tr>\n",
       "      <th>2</th>\n",
       "      <td>3. ¿Cuál de los siguientes sustituyentes prese...</td>\n",
       "      <td>1. Bifenilo.</td>\n",
       "      <td>2. Hidrox imetilo.</td>\n",
       "      <td>3. Tetrazol.</td>\n",
       "      <td>4. n -Butilo.</td>\n",
       "    </tr>\n",
       "    <tr>\n",
       "      <th>3</th>\n",
       "      <td>4. ¿Qué papel desempeñan los fragmentos de bet...</td>\n",
       "      <td>1. Establecen enl aces covalentes con el ADN.</td>\n",
       "      <td>2. Establecen enl aces de hidrógeno con la top...</td>\n",
       "      <td>3. Fijan la conformación activa a través de en...</td>\n",
       "      <td>4. Forman quelatos con el Fe 3+ favoreciendo l...</td>\n",
       "    </tr>\n",
       "    <tr>\n",
       "      <th>4</th>\n",
       "      <td>5. ¿Qué consecuencia tiene el cambio de posici...</td>\n",
       "      <td>1. Se fa vorece la degradación por la catecol-...</td>\n",
       "      <td>2. Se pierde actividad al disminuir la analogí...</td>\n",
       "      <td>3. Aumen ta la estabilidad metabólica.</td>\n",
       "      <td>4. Se favo rece la degr adación por monoami no...</td>\n",
       "    </tr>\n",
       "    <tr>\n",
       "      <th>5</th>\n",
       "      <td>6. El catión metildiazonio es un metabolito ac...</td>\n",
       "      <td>1. Procarbazina.</td>\n",
       "      <td>2. C iclofosfamida.</td>\n",
       "      <td>3. Mecloretamina .</td>\n",
       "      <td>4. Busulfán.</td>\n",
       "    </tr>\n",
       "    <tr>\n",
       "      <th>6</th>\n",
       "      <td>7. ¿Cuál de los siguientes fármacos se conside...</td>\n",
       "      <td>1. Lo pinavir.</td>\n",
       "      <td>2. Captopril.</td>\n",
       "      <td>3. Seleg ilina.</td>\n",
       "      <td>4. R ivastigmina.</td>\n",
       "    </tr>\n",
       "    <tr>\n",
       "      <th>7</th>\n",
       "      <td>8. ¿Cuál de las siguientes reacciones metabóli...</td>\n",
       "      <td>1. Gl ucuronidación.</td>\n",
       "      <td>2. Acetilación.</td>\n",
       "      <td>3. C onjugación con sulfato.</td>\n",
       "      <td>4. Conjugación con glutatión.</td>\n",
       "    </tr>\n",
       "    <tr>\n",
       "      <th>8</th>\n",
       "      <td>9. Un método general para obtener derivados de...</td>\n",
       "      <td>1. Fen ilhidrazina y un compuesto carbon ílico...</td>\n",
       "      <td>2. Un a 1,3-diamina y carbonato de etilo.</td>\n",
       "      <td>3. Acetilacetato de etilo, amoniaco y alde híd...</td>\n",
       "      <td>4. Un éster malón ico convenientemente sustitu...</td>\n",
       "    </tr>\n",
       "    <tr>\n",
       "      <th>9</th>\n",
       "      <td>10. Las sulfonilureas ejercen su efecto hipogl...</td>\n",
       "      <td>1. Canales de calcio dependientes de potencial.</td>\n",
       "      <td>2. Canales de sodio dependientes de potencial.</td>\n",
       "      <td>3. B ombas iónicas dependientes de ATP.</td>\n",
       "      <td>4. Canales de potasio dependientes de ATP.</td>\n",
       "    </tr>\n",
       "  </tbody>\n",
       "</table>\n",
       "</div>"
      ],
      "text/plain": [
       "                                            Question  \\\n",
       "0  1. ¿Qué ventaja tiene el empleo de aciloximeti...   \n",
       "1  2. ¿Qué inconveniente presenta el empleo de ba...   \n",
       "2  3. ¿Cuál de los siguientes sustituyentes prese...   \n",
       "3  4. ¿Qué papel desempeñan los fragmentos de bet...   \n",
       "4  5. ¿Qué consecuencia tiene el cambio de posici...   \n",
       "5  6. El catión metildiazonio es un metabolito ac...   \n",
       "6  7. ¿Cuál de los siguientes fármacos se conside...   \n",
       "7  8. ¿Cuál de las siguientes reacciones metabóli...   \n",
       "8  9. Un método general para obtener derivados de...   \n",
       "9  10. Las sulfonilureas ejercen su efecto hipogl...   \n",
       "\n",
       "                                            Option_1  \\\n",
       "0           1. Disminuye la velocidad de hidrólisis.   \n",
       "1                        1. Son inestables in vitro.   \n",
       "2                                       1. Bifenilo.   \n",
       "3      1. Establecen enl aces covalentes con el ADN.   \n",
       "4  1. Se fa vorece la degradación por la catecol-...   \n",
       "5                                   1. Procarbazina.   \n",
       "6                                     1. Lo pinavir.   \n",
       "7                               1. Gl ucuronidación.   \n",
       "8  1. Fen ilhidrazina y un compuesto carbon ílico...   \n",
       "9    1. Canales de calcio dependientes de potencial.   \n",
       "\n",
       "                                            Option_2  \\\n",
       "0         2. Aumen ta la estabilidad del profármaco.   \n",
       "1           2. Aumen tan excesivamente la lipofilia.   \n",
       "2                                 2. Hidrox imetilo.   \n",
       "3  2. Establecen enl aces de hidrógeno con la top...   \n",
       "4  2. Se pierde actividad al disminuir la analogí...   \n",
       "5                                2. C iclofosfamida.   \n",
       "6                                      2. Captopril.   \n",
       "7                                    2. Acetilación.   \n",
       "8          2. Un a 1,3-diamina y carbonato de etilo.   \n",
       "9     2. Canales de sodio dependientes de potencial.   \n",
       "\n",
       "                                            Option_3  \\\n",
       "0  3. El grupo éster externo es más accesible al ...   \n",
       "1                3. So n demasiado estables in vivo.   \n",
       "2                                       3. Tetrazol.   \n",
       "3  3. Fijan la conformación activa a través de en...   \n",
       "4             3. Aumen ta la estabilidad metabólica.   \n",
       "5                                 3. Mecloretamina .   \n",
       "6                                    3. Seleg ilina.   \n",
       "7                       3. C onjugación con sulfato.   \n",
       "8  3. Acetilacetato de etilo, amoniaco y alde híd...   \n",
       "9            3. B ombas iónicas dependientes de ATP.   \n",
       "\n",
       "                                            Option_4  \n",
       "0  4. Facilita la b ioactivación selectiva en el ...  \n",
       "1  4. Fo rman con facilidad redes cristalinas muy...  \n",
       "2                                      4. n -Butilo.  \n",
       "3  4. Forman quelatos con el Fe 3+ favoreciendo l...  \n",
       "4  4. Se favo rece la degr adación por monoami no...  \n",
       "5                                       4. Busulfán.  \n",
       "6                                  4. R ivastigmina.  \n",
       "7                      4. Conjugación con glutatión.  \n",
       "8  4. Un éster malón ico convenientemente sustitu...  \n",
       "9         4. Canales de potasio dependientes de ATP.  "
      ]
     },
     "execution_count": 28,
     "metadata": {},
     "output_type": "execute_result"
    }
   ],
   "source": [
    "exam_df_pivot.head(10)"
   ]
  },
  {
   "cell_type": "markdown",
   "metadata": {},
   "source": [
    "## Answers tsv\n",
    "\n",
    "This section focuses on cleaning and consolidating the answer key data from the TSV file. The original data contains duplicate columns, which are processed and combined into a single, clean DataFrame.\n",
    "\n",
    "**1. Defining Column Lists:**\n",
    "\n",
    "We define lists containing the original column names and the duplicate column names."
   ]
  },
  {
   "cell_type": "code",
   "execution_count": 29,
   "metadata": {},
   "outputs": [],
   "source": [
    "original_col: list[str] = [\"V\", \"RC\"]\n",
    "duplicate_cols: list[str] = [\"V.1\", \"RC.1\", \"V.2\", \"RC.2\", \"V.3\", \"RC.3\", \"V.4\", \"RC.4\"]"
   ]
  },
  {
   "cell_type": "markdown",
   "metadata": {},
   "source": [
    "**2. Processing Duplicate Columns:**\n",
    "\n",
    "We iterate through the duplicate_cols list in pairs, extracting the corresponding columns, renaming them to the original column names, and appending them to a list of DataFrames."
   ]
  },
  {
   "cell_type": "code",
   "execution_count": 30,
   "metadata": {},
   "outputs": [],
   "source": [
    "answers_df_list: list[pd.DataFrame] = [raw_answers_df[original_col]]\n",
    "\n",
    "for i in range(0, len(duplicate_cols), 2):\n",
    "    pair_cols: list = duplicate_cols[i:i+2]\n",
    "    df_pair_col: pd.DataFrame = raw_answers_df[pair_cols].rename(columns={pair_cols[0]: \"V\", pair_cols[1]: \"RC\"})\n",
    "    answers_df_list.append(df_pair_col)"
   ]
  },
  {
   "cell_type": "markdown",
   "metadata": {},
   "source": [
    "**3. Concatenating DataFrames:**\n",
    "\n",
    "The list of DataFrames is concatenated into a single DataFrame, ignoring the original index."
   ]
  },
  {
   "cell_type": "code",
   "execution_count": 31,
   "metadata": {},
   "outputs": [],
   "source": [
    "answers_df_clean: pd.DataFrame = pd.concat(answers_df_list, ignore_index=True)"
   ]
  },
  {
   "cell_type": "markdown",
   "metadata": {},
   "source": [
    "**4. Displaying the Cleaned DataFrame:**\n",
    "\n",
    "The cleaned DataFrame is printed to verify the results of the consolidation process."
   ]
  },
  {
   "cell_type": "code",
   "execution_count": 32,
   "metadata": {},
   "outputs": [
    {
     "data": {
      "application/vnd.microsoft.datawrangler.viewer.v0+json": {
       "columns": [
        {
         "name": "index",
         "rawType": "int64",
         "type": "integer"
        },
        {
         "name": "V",
         "rawType": "int64",
         "type": "integer"
        },
        {
         "name": "RC",
         "rawType": "float64",
         "type": "float"
        }
       ],
       "conversionMethod": "pd.DataFrame",
       "ref": "cb707510-3812-4c2f-8587-17a4bbce8eb1",
       "rows": [
        [
         "0",
         "1",
         "3.0"
        ],
        [
         "1",
         "2",
         "1.0"
        ],
        [
         "2",
         "3",
         "3.0"
        ],
        [
         "3",
         "4",
         "4.0"
        ],
        [
         "4",
         "5",
         "3.0"
        ],
        [
         "5",
         "6",
         "1.0"
        ],
        [
         "6",
         "7",
         "3.0"
        ],
        [
         "7",
         "8",
         "2.0"
        ],
        [
         "8",
         "9",
         "4.0"
        ],
        [
         "9",
         "10",
         "4.0"
        ]
       ],
       "shape": {
        "columns": 2,
        "rows": 10
       }
      },
      "text/html": [
       "<div>\n",
       "<style scoped>\n",
       "    .dataframe tbody tr th:only-of-type {\n",
       "        vertical-align: middle;\n",
       "    }\n",
       "\n",
       "    .dataframe tbody tr th {\n",
       "        vertical-align: top;\n",
       "    }\n",
       "\n",
       "    .dataframe thead th {\n",
       "        text-align: right;\n",
       "    }\n",
       "</style>\n",
       "<table border=\"1\" class=\"dataframe\">\n",
       "  <thead>\n",
       "    <tr style=\"text-align: right;\">\n",
       "      <th></th>\n",
       "      <th>V</th>\n",
       "      <th>RC</th>\n",
       "    </tr>\n",
       "  </thead>\n",
       "  <tbody>\n",
       "    <tr>\n",
       "      <th>0</th>\n",
       "      <td>1</td>\n",
       "      <td>3.0</td>\n",
       "    </tr>\n",
       "    <tr>\n",
       "      <th>1</th>\n",
       "      <td>2</td>\n",
       "      <td>1.0</td>\n",
       "    </tr>\n",
       "    <tr>\n",
       "      <th>2</th>\n",
       "      <td>3</td>\n",
       "      <td>3.0</td>\n",
       "    </tr>\n",
       "    <tr>\n",
       "      <th>3</th>\n",
       "      <td>4</td>\n",
       "      <td>4.0</td>\n",
       "    </tr>\n",
       "    <tr>\n",
       "      <th>4</th>\n",
       "      <td>5</td>\n",
       "      <td>3.0</td>\n",
       "    </tr>\n",
       "    <tr>\n",
       "      <th>5</th>\n",
       "      <td>6</td>\n",
       "      <td>1.0</td>\n",
       "    </tr>\n",
       "    <tr>\n",
       "      <th>6</th>\n",
       "      <td>7</td>\n",
       "      <td>3.0</td>\n",
       "    </tr>\n",
       "    <tr>\n",
       "      <th>7</th>\n",
       "      <td>8</td>\n",
       "      <td>2.0</td>\n",
       "    </tr>\n",
       "    <tr>\n",
       "      <th>8</th>\n",
       "      <td>9</td>\n",
       "      <td>4.0</td>\n",
       "    </tr>\n",
       "    <tr>\n",
       "      <th>9</th>\n",
       "      <td>10</td>\n",
       "      <td>4.0</td>\n",
       "    </tr>\n",
       "  </tbody>\n",
       "</table>\n",
       "</div>"
      ],
      "text/plain": [
       "    V   RC\n",
       "0   1  3.0\n",
       "1   2  1.0\n",
       "2   3  3.0\n",
       "3   4  4.0\n",
       "4   5  3.0\n",
       "5   6  1.0\n",
       "6   7  3.0\n",
       "7   8  2.0\n",
       "8   9  4.0\n",
       "9  10  4.0"
      ]
     },
     "execution_count": 32,
     "metadata": {},
     "output_type": "execute_result"
    }
   ],
   "source": [
    "answers_df_clean.head(10)"
   ]
  },
  {
   "cell_type": "markdown",
   "metadata": {},
   "source": [
    "## Joining the DataFrames\n",
    "\n",
    "This section focuses on merging the processed exam questions DataFrame with the cleaned answers DataFrame, performing final data cleaning, and verifying the integrity of the joined data.\n",
    "\n",
    "**1. Joining the DataFrames:**\n",
    "\n",
    "The pivoted exam questions DataFrame (`exam_df_pivot`) and the cleaned answers DataFrame (`answers_df_clean`) are joined horizontally using `pd.concat`. The 'V0' column, which represents the question number from the answers DataFrame, is then dropped. The first 10 rows of the joined DataFrame are displayed."
   ]
  },
  {
   "cell_type": "code",
   "execution_count": 33,
   "metadata": {},
   "outputs": [
    {
     "data": {
      "application/vnd.microsoft.datawrangler.viewer.v0+json": {
       "columns": [
        {
         "name": "index",
         "rawType": "int64",
         "type": "integer"
        },
        {
         "name": "Question",
         "rawType": "object",
         "type": "string"
        },
        {
         "name": "Option_1",
         "rawType": "object",
         "type": "string"
        },
        {
         "name": "Option_2",
         "rawType": "object",
         "type": "string"
        },
        {
         "name": "Option_3",
         "rawType": "object",
         "type": "string"
        },
        {
         "name": "Option_4",
         "rawType": "object",
         "type": "string"
        },
        {
         "name": "RC",
         "rawType": "float64",
         "type": "float"
        }
       ],
       "conversionMethod": "pd.DataFrame",
       "ref": "9378c370-defb-4b2f-98c0-80e1a4d3704b",
       "rows": [
        [
         "0",
         "1. ¿Qué ventaja tiene el empleo de aciloximetilésteres en lugar de ésteres simples en el diseño de profármacos de ácidos carboxílicos?:",
         "1. Disminuye la velocidad de hidrólisis.",
         "2. Aumen ta la estabilidad del profármaco.",
         "3. El grupo éster externo es más accesible al centro activo de las esterasas.",
         "4. Facilita la b ioactivación selectiva en el lugar de acción.",
         "3.0"
        ],
        [
         "1",
         "2. ¿Qué inconveniente presenta el empleo de bases de Mannich como profármacos de amidas?:",
         "1. Son inestables in vitro.",
         "2. Aumen tan excesivamente la lipofilia.",
         "3. So n demasiado estables in vivo.",
         "4. Fo rman con facilidad redes cristalinas muy estables.",
         "1.0"
        ],
        [
         "2",
         "3. ¿Cuál de los siguientes sustituyentes presentes en la estructura de los antagonistas de los receptores de angiotensina II es ácido y aporta lipofilia?:",
         "1. Bifenilo.",
         "2. Hidrox imetilo.",
         "3. Tetrazol.",
         "4. n -Butilo.",
         "3.0"
        ],
        [
         "3",
         "4. ¿Qué papel desempeñan los fragmentos de betahidroxicarbonilo de las antraciclinas en su actividad biológica?:",
         "1. Establecen enl aces covalentes con el ADN.",
         "2. Establecen enl aces de hidrógeno con la topoisomerasa I.",
         "3. Fijan la conformación activa a través de enlaces de hidrógeno intramoleculares.",
         "4. Forman quelatos con el Fe 3+ favoreciendo la formación de radicales hidroxilo.",
         "4.0"
        ],
        [
         "4",
         "5. ¿Qué consecuencia tiene el cambio de posición de uno de l os grupos hidroxilo del anillo  de catec ol en los derivados de ariletanolamina que actúan en los receptores adrenérgicos?:",
         "1. Se fa vorece la degradación por la catecol-Ometil-transferasa.",
         "2. Se pierde actividad al disminuir la analogía con el ligando endógeno.",
         "3. Aumen ta la estabilidad metabólica.",
         "4. Se favo rece la degr adación por monoami no oxi dasas.",
         "3.0"
        ],
        [
         "5",
         "6. El catión metildiazonio es un metabolito ac tivo de:",
         "1. Procarbazina.",
         "2. C iclofosfamida.",
         "3. Mecloretamina .",
         "4. Busulfán.",
         "1.0"
        ],
        [
         "6",
         "7. ¿Cuál de los siguientes fármacos se considera un inhibidor suicida?:",
         "1. Lo pinavir.",
         "2. Captopril.",
         "3. Seleg ilina.",
         "4. R ivastigmina.",
         "3.0"
        ],
        [
         "7",
         "8. ¿Cuál de las siguientes reacciones metabólicas de fase II NO conduce a un metabolito de mayor polaridad?:",
         "1. Gl ucuronidación.",
         "2. Acetilación.",
         "3. C onjugación con sulfato.",
         "4. Conjugación con glutatión.",
         "2.0"
        ],
        [
         "8",
         "9. Un método general para obtener derivados del ácido barbitúrico consiste en la reacción entre:",
         "1. Fen ilhidrazina y un compuesto carbon ílico enolizable.",
         "2. Un a 1,3-diamina y carbonato de etilo.",
         "3. Acetilacetato de etilo, amoniaco y alde hídos aromáticos.",
         "4. Un éster malón ico convenientemente sustituido y urea.",
         "4.0"
        ],
        [
         "9",
         "10. Las sulfonilureas ejercen su efecto hipoglucemiante al interaccionar con:",
         "1. Canales de calcio dependientes de potencial.",
         "2. Canales de sodio dependientes de potencial.",
         "3. B ombas iónicas dependientes de ATP.",
         "4. Canales de potasio dependientes de ATP.",
         "4.0"
        ]
       ],
       "shape": {
        "columns": 6,
        "rows": 10
       }
      },
      "text/html": [
       "<div>\n",
       "<style scoped>\n",
       "    .dataframe tbody tr th:only-of-type {\n",
       "        vertical-align: middle;\n",
       "    }\n",
       "\n",
       "    .dataframe tbody tr th {\n",
       "        vertical-align: top;\n",
       "    }\n",
       "\n",
       "    .dataframe thead th {\n",
       "        text-align: right;\n",
       "    }\n",
       "</style>\n",
       "<table border=\"1\" class=\"dataframe\">\n",
       "  <thead>\n",
       "    <tr style=\"text-align: right;\">\n",
       "      <th></th>\n",
       "      <th>Question</th>\n",
       "      <th>Option_1</th>\n",
       "      <th>Option_2</th>\n",
       "      <th>Option_3</th>\n",
       "      <th>Option_4</th>\n",
       "      <th>RC</th>\n",
       "    </tr>\n",
       "  </thead>\n",
       "  <tbody>\n",
       "    <tr>\n",
       "      <th>0</th>\n",
       "      <td>1. ¿Qué ventaja tiene el empleo de aciloximeti...</td>\n",
       "      <td>1. Disminuye la velocidad de hidrólisis.</td>\n",
       "      <td>2. Aumen ta la estabilidad del profármaco.</td>\n",
       "      <td>3. El grupo éster externo es más accesible al ...</td>\n",
       "      <td>4. Facilita la b ioactivación selectiva en el ...</td>\n",
       "      <td>3.0</td>\n",
       "    </tr>\n",
       "    <tr>\n",
       "      <th>1</th>\n",
       "      <td>2. ¿Qué inconveniente presenta el empleo de ba...</td>\n",
       "      <td>1. Son inestables in vitro.</td>\n",
       "      <td>2. Aumen tan excesivamente la lipofilia.</td>\n",
       "      <td>3. So n demasiado estables in vivo.</td>\n",
       "      <td>4. Fo rman con facilidad redes cristalinas muy...</td>\n",
       "      <td>1.0</td>\n",
       "    </tr>\n",
       "    <tr>\n",
       "      <th>2</th>\n",
       "      <td>3. ¿Cuál de los siguientes sustituyentes prese...</td>\n",
       "      <td>1. Bifenilo.</td>\n",
       "      <td>2. Hidrox imetilo.</td>\n",
       "      <td>3. Tetrazol.</td>\n",
       "      <td>4. n -Butilo.</td>\n",
       "      <td>3.0</td>\n",
       "    </tr>\n",
       "    <tr>\n",
       "      <th>3</th>\n",
       "      <td>4. ¿Qué papel desempeñan los fragmentos de bet...</td>\n",
       "      <td>1. Establecen enl aces covalentes con el ADN.</td>\n",
       "      <td>2. Establecen enl aces de hidrógeno con la top...</td>\n",
       "      <td>3. Fijan la conformación activa a través de en...</td>\n",
       "      <td>4. Forman quelatos con el Fe 3+ favoreciendo l...</td>\n",
       "      <td>4.0</td>\n",
       "    </tr>\n",
       "    <tr>\n",
       "      <th>4</th>\n",
       "      <td>5. ¿Qué consecuencia tiene el cambio de posici...</td>\n",
       "      <td>1. Se fa vorece la degradación por la catecol-...</td>\n",
       "      <td>2. Se pierde actividad al disminuir la analogí...</td>\n",
       "      <td>3. Aumen ta la estabilidad metabólica.</td>\n",
       "      <td>4. Se favo rece la degr adación por monoami no...</td>\n",
       "      <td>3.0</td>\n",
       "    </tr>\n",
       "    <tr>\n",
       "      <th>5</th>\n",
       "      <td>6. El catión metildiazonio es un metabolito ac...</td>\n",
       "      <td>1. Procarbazina.</td>\n",
       "      <td>2. C iclofosfamida.</td>\n",
       "      <td>3. Mecloretamina .</td>\n",
       "      <td>4. Busulfán.</td>\n",
       "      <td>1.0</td>\n",
       "    </tr>\n",
       "    <tr>\n",
       "      <th>6</th>\n",
       "      <td>7. ¿Cuál de los siguientes fármacos se conside...</td>\n",
       "      <td>1. Lo pinavir.</td>\n",
       "      <td>2. Captopril.</td>\n",
       "      <td>3. Seleg ilina.</td>\n",
       "      <td>4. R ivastigmina.</td>\n",
       "      <td>3.0</td>\n",
       "    </tr>\n",
       "    <tr>\n",
       "      <th>7</th>\n",
       "      <td>8. ¿Cuál de las siguientes reacciones metabóli...</td>\n",
       "      <td>1. Gl ucuronidación.</td>\n",
       "      <td>2. Acetilación.</td>\n",
       "      <td>3. C onjugación con sulfato.</td>\n",
       "      <td>4. Conjugación con glutatión.</td>\n",
       "      <td>2.0</td>\n",
       "    </tr>\n",
       "    <tr>\n",
       "      <th>8</th>\n",
       "      <td>9. Un método general para obtener derivados de...</td>\n",
       "      <td>1. Fen ilhidrazina y un compuesto carbon ílico...</td>\n",
       "      <td>2. Un a 1,3-diamina y carbonato de etilo.</td>\n",
       "      <td>3. Acetilacetato de etilo, amoniaco y alde híd...</td>\n",
       "      <td>4. Un éster malón ico convenientemente sustitu...</td>\n",
       "      <td>4.0</td>\n",
       "    </tr>\n",
       "    <tr>\n",
       "      <th>9</th>\n",
       "      <td>10. Las sulfonilureas ejercen su efecto hipogl...</td>\n",
       "      <td>1. Canales de calcio dependientes de potencial.</td>\n",
       "      <td>2. Canales de sodio dependientes de potencial.</td>\n",
       "      <td>3. B ombas iónicas dependientes de ATP.</td>\n",
       "      <td>4. Canales de potasio dependientes de ATP.</td>\n",
       "      <td>4.0</td>\n",
       "    </tr>\n",
       "  </tbody>\n",
       "</table>\n",
       "</div>"
      ],
      "text/plain": [
       "                                            Question  \\\n",
       "0  1. ¿Qué ventaja tiene el empleo de aciloximeti...   \n",
       "1  2. ¿Qué inconveniente presenta el empleo de ba...   \n",
       "2  3. ¿Cuál de los siguientes sustituyentes prese...   \n",
       "3  4. ¿Qué papel desempeñan los fragmentos de bet...   \n",
       "4  5. ¿Qué consecuencia tiene el cambio de posici...   \n",
       "5  6. El catión metildiazonio es un metabolito ac...   \n",
       "6  7. ¿Cuál de los siguientes fármacos se conside...   \n",
       "7  8. ¿Cuál de las siguientes reacciones metabóli...   \n",
       "8  9. Un método general para obtener derivados de...   \n",
       "9  10. Las sulfonilureas ejercen su efecto hipogl...   \n",
       "\n",
       "                                            Option_1  \\\n",
       "0           1. Disminuye la velocidad de hidrólisis.   \n",
       "1                        1. Son inestables in vitro.   \n",
       "2                                       1. Bifenilo.   \n",
       "3      1. Establecen enl aces covalentes con el ADN.   \n",
       "4  1. Se fa vorece la degradación por la catecol-...   \n",
       "5                                   1. Procarbazina.   \n",
       "6                                     1. Lo pinavir.   \n",
       "7                               1. Gl ucuronidación.   \n",
       "8  1. Fen ilhidrazina y un compuesto carbon ílico...   \n",
       "9    1. Canales de calcio dependientes de potencial.   \n",
       "\n",
       "                                            Option_2  \\\n",
       "0         2. Aumen ta la estabilidad del profármaco.   \n",
       "1           2. Aumen tan excesivamente la lipofilia.   \n",
       "2                                 2. Hidrox imetilo.   \n",
       "3  2. Establecen enl aces de hidrógeno con la top...   \n",
       "4  2. Se pierde actividad al disminuir la analogí...   \n",
       "5                                2. C iclofosfamida.   \n",
       "6                                      2. Captopril.   \n",
       "7                                    2. Acetilación.   \n",
       "8          2. Un a 1,3-diamina y carbonato de etilo.   \n",
       "9     2. Canales de sodio dependientes de potencial.   \n",
       "\n",
       "                                            Option_3  \\\n",
       "0  3. El grupo éster externo es más accesible al ...   \n",
       "1                3. So n demasiado estables in vivo.   \n",
       "2                                       3. Tetrazol.   \n",
       "3  3. Fijan la conformación activa a través de en...   \n",
       "4             3. Aumen ta la estabilidad metabólica.   \n",
       "5                                 3. Mecloretamina .   \n",
       "6                                    3. Seleg ilina.   \n",
       "7                       3. C onjugación con sulfato.   \n",
       "8  3. Acetilacetato de etilo, amoniaco y alde híd...   \n",
       "9            3. B ombas iónicas dependientes de ATP.   \n",
       "\n",
       "                                            Option_4   RC  \n",
       "0  4. Facilita la b ioactivación selectiva en el ...  3.0  \n",
       "1  4. Fo rman con facilidad redes cristalinas muy...  1.0  \n",
       "2                                      4. n -Butilo.  3.0  \n",
       "3  4. Forman quelatos con el Fe 3+ favoreciendo l...  4.0  \n",
       "4  4. Se favo rece la degr adación por monoami no...  3.0  \n",
       "5                                       4. Busulfán.  1.0  \n",
       "6                                  4. R ivastigmina.  3.0  \n",
       "7                      4. Conjugación con glutatión.  2.0  \n",
       "8  4. Un éster malón ico convenientemente sustitu...  4.0  \n",
       "9         4. Canales de potasio dependientes de ATP.  4.0  "
      ]
     },
     "execution_count": 33,
     "metadata": {},
     "output_type": "execute_result"
    }
   ],
   "source": [
    "processed_exam_df: pd.DataFrame = pd.concat([exam_df_pivot, answers_df_clean], axis=1)\n",
    "processed_exam_df = processed_exam_df.drop(columns=[\"V\"])\n",
    "processed_exam_df.head(10)"
   ]
  },
  {
   "cell_type": "markdown",
   "metadata": {},
   "source": [
    "**2. Identifying and Handling Missing Values:**\n",
    "\n",
    "Missing values are then replaced with 0."
   ]
  },
  {
   "cell_type": "code",
   "execution_count": 34,
   "metadata": {},
   "outputs": [],
   "source": [
    "processed_exam_df = processed_exam_df.fillna(0)"
   ]
  },
  {
   "cell_type": "markdown",
   "metadata": {},
   "source": [
    "**3. Verifying Missing Values and Data Types:**\n",
    "\n",
    "The number of missing values in each column is checked, and the data types of the columns are displayed. The 'RC' (correct answer) column is then converted to integer type."
   ]
  },
  {
   "cell_type": "code",
   "execution_count": 35,
   "metadata": {},
   "outputs": [
    {
     "data": {
      "text/plain": [
       "Question    object\n",
       "Option_1    object\n",
       "Option_2    object\n",
       "Option_3    object\n",
       "Option_4    object\n",
       "RC           int32\n",
       "dtype: object"
      ]
     },
     "execution_count": 35,
     "metadata": {},
     "output_type": "execute_result"
    }
   ],
   "source": [
    "processed_exam_df.isnull().sum()\n",
    "processed_exam_df[\"RC\"] = processed_exam_df[\"RC\"].astype(int)\n",
    "processed_exam_df.dtypes"
   ]
  },
  {
   "cell_type": "markdown",
   "metadata": {},
   "source": [
    "**4. Adding year column**\n",
    "\n",
    "A column containing the year of the exam is added to the DataFrame."
   ]
  },
  {
   "cell_type": "code",
   "execution_count": 36,
   "metadata": {},
   "outputs": [],
   "source": [
    "processed_exam_df[\"year\"] = year"
   ]
  },
  {
   "cell_type": "markdown",
   "metadata": {},
   "source": [
    "**5. Displaying the Final DataFrame:**\n",
    "\n",
    "The first 10 rows of the final joined and cleaned DataFrame are displayed."
   ]
  },
  {
   "cell_type": "code",
   "execution_count": 37,
   "metadata": {},
   "outputs": [
    {
     "data": {
      "application/vnd.microsoft.datawrangler.viewer.v0+json": {
       "columns": [
        {
         "name": "index",
         "rawType": "int64",
         "type": "integer"
        },
        {
         "name": "Question",
         "rawType": "object",
         "type": "string"
        },
        {
         "name": "Option_1",
         "rawType": "object",
         "type": "string"
        },
        {
         "name": "Option_2",
         "rawType": "object",
         "type": "string"
        },
        {
         "name": "Option_3",
         "rawType": "object",
         "type": "string"
        },
        {
         "name": "Option_4",
         "rawType": "object",
         "type": "string"
        },
        {
         "name": "RC",
         "rawType": "int32",
         "type": "integer"
        },
        {
         "name": "year",
         "rawType": "int64",
         "type": "integer"
        }
       ],
       "conversionMethod": "pd.DataFrame",
       "ref": "d3dad8c0-2b7b-44c4-b658-216e394673e3",
       "rows": [
        [
         "0",
         "1. ¿Qué ventaja tiene el empleo de aciloximetilésteres en lugar de ésteres simples en el diseño de profármacos de ácidos carboxílicos?:",
         "1. Disminuye la velocidad de hidrólisis.",
         "2. Aumen ta la estabilidad del profármaco.",
         "3. El grupo éster externo es más accesible al centro activo de las esterasas.",
         "4. Facilita la b ioactivación selectiva en el lugar de acción.",
         "3",
         "2021"
        ],
        [
         "1",
         "2. ¿Qué inconveniente presenta el empleo de bases de Mannich como profármacos de amidas?:",
         "1. Son inestables in vitro.",
         "2. Aumen tan excesivamente la lipofilia.",
         "3. So n demasiado estables in vivo.",
         "4. Fo rman con facilidad redes cristalinas muy estables.",
         "1",
         "2021"
        ],
        [
         "2",
         "3. ¿Cuál de los siguientes sustituyentes presentes en la estructura de los antagonistas de los receptores de angiotensina II es ácido y aporta lipofilia?:",
         "1. Bifenilo.",
         "2. Hidrox imetilo.",
         "3. Tetrazol.",
         "4. n -Butilo.",
         "3",
         "2021"
        ],
        [
         "3",
         "4. ¿Qué papel desempeñan los fragmentos de betahidroxicarbonilo de las antraciclinas en su actividad biológica?:",
         "1. Establecen enl aces covalentes con el ADN.",
         "2. Establecen enl aces de hidrógeno con la topoisomerasa I.",
         "3. Fijan la conformación activa a través de enlaces de hidrógeno intramoleculares.",
         "4. Forman quelatos con el Fe 3+ favoreciendo la formación de radicales hidroxilo.",
         "4",
         "2021"
        ],
        [
         "4",
         "5. ¿Qué consecuencia tiene el cambio de posición de uno de l os grupos hidroxilo del anillo  de catec ol en los derivados de ariletanolamina que actúan en los receptores adrenérgicos?:",
         "1. Se fa vorece la degradación por la catecol-Ometil-transferasa.",
         "2. Se pierde actividad al disminuir la analogía con el ligando endógeno.",
         "3. Aumen ta la estabilidad metabólica.",
         "4. Se favo rece la degr adación por monoami no oxi dasas.",
         "3",
         "2021"
        ],
        [
         "5",
         "6. El catión metildiazonio es un metabolito ac tivo de:",
         "1. Procarbazina.",
         "2. C iclofosfamida.",
         "3. Mecloretamina .",
         "4. Busulfán.",
         "1",
         "2021"
        ],
        [
         "6",
         "7. ¿Cuál de los siguientes fármacos se considera un inhibidor suicida?:",
         "1. Lo pinavir.",
         "2. Captopril.",
         "3. Seleg ilina.",
         "4. R ivastigmina.",
         "3",
         "2021"
        ],
        [
         "7",
         "8. ¿Cuál de las siguientes reacciones metabólicas de fase II NO conduce a un metabolito de mayor polaridad?:",
         "1. Gl ucuronidación.",
         "2. Acetilación.",
         "3. C onjugación con sulfato.",
         "4. Conjugación con glutatión.",
         "2",
         "2021"
        ],
        [
         "8",
         "9. Un método general para obtener derivados del ácido barbitúrico consiste en la reacción entre:",
         "1. Fen ilhidrazina y un compuesto carbon ílico enolizable.",
         "2. Un a 1,3-diamina y carbonato de etilo.",
         "3. Acetilacetato de etilo, amoniaco y alde hídos aromáticos.",
         "4. Un éster malón ico convenientemente sustituido y urea.",
         "4",
         "2021"
        ],
        [
         "9",
         "10. Las sulfonilureas ejercen su efecto hipoglucemiante al interaccionar con:",
         "1. Canales de calcio dependientes de potencial.",
         "2. Canales de sodio dependientes de potencial.",
         "3. B ombas iónicas dependientes de ATP.",
         "4. Canales de potasio dependientes de ATP.",
         "4",
         "2021"
        ]
       ],
       "shape": {
        "columns": 7,
        "rows": 10
       }
      },
      "text/html": [
       "<div>\n",
       "<style scoped>\n",
       "    .dataframe tbody tr th:only-of-type {\n",
       "        vertical-align: middle;\n",
       "    }\n",
       "\n",
       "    .dataframe tbody tr th {\n",
       "        vertical-align: top;\n",
       "    }\n",
       "\n",
       "    .dataframe thead th {\n",
       "        text-align: right;\n",
       "    }\n",
       "</style>\n",
       "<table border=\"1\" class=\"dataframe\">\n",
       "  <thead>\n",
       "    <tr style=\"text-align: right;\">\n",
       "      <th></th>\n",
       "      <th>Question</th>\n",
       "      <th>Option_1</th>\n",
       "      <th>Option_2</th>\n",
       "      <th>Option_3</th>\n",
       "      <th>Option_4</th>\n",
       "      <th>RC</th>\n",
       "      <th>year</th>\n",
       "    </tr>\n",
       "  </thead>\n",
       "  <tbody>\n",
       "    <tr>\n",
       "      <th>0</th>\n",
       "      <td>1. ¿Qué ventaja tiene el empleo de aciloximeti...</td>\n",
       "      <td>1. Disminuye la velocidad de hidrólisis.</td>\n",
       "      <td>2. Aumen ta la estabilidad del profármaco.</td>\n",
       "      <td>3. El grupo éster externo es más accesible al ...</td>\n",
       "      <td>4. Facilita la b ioactivación selectiva en el ...</td>\n",
       "      <td>3</td>\n",
       "      <td>2021</td>\n",
       "    </tr>\n",
       "    <tr>\n",
       "      <th>1</th>\n",
       "      <td>2. ¿Qué inconveniente presenta el empleo de ba...</td>\n",
       "      <td>1. Son inestables in vitro.</td>\n",
       "      <td>2. Aumen tan excesivamente la lipofilia.</td>\n",
       "      <td>3. So n demasiado estables in vivo.</td>\n",
       "      <td>4. Fo rman con facilidad redes cristalinas muy...</td>\n",
       "      <td>1</td>\n",
       "      <td>2021</td>\n",
       "    </tr>\n",
       "    <tr>\n",
       "      <th>2</th>\n",
       "      <td>3. ¿Cuál de los siguientes sustituyentes prese...</td>\n",
       "      <td>1. Bifenilo.</td>\n",
       "      <td>2. Hidrox imetilo.</td>\n",
       "      <td>3. Tetrazol.</td>\n",
       "      <td>4. n -Butilo.</td>\n",
       "      <td>3</td>\n",
       "      <td>2021</td>\n",
       "    </tr>\n",
       "    <tr>\n",
       "      <th>3</th>\n",
       "      <td>4. ¿Qué papel desempeñan los fragmentos de bet...</td>\n",
       "      <td>1. Establecen enl aces covalentes con el ADN.</td>\n",
       "      <td>2. Establecen enl aces de hidrógeno con la top...</td>\n",
       "      <td>3. Fijan la conformación activa a través de en...</td>\n",
       "      <td>4. Forman quelatos con el Fe 3+ favoreciendo l...</td>\n",
       "      <td>4</td>\n",
       "      <td>2021</td>\n",
       "    </tr>\n",
       "    <tr>\n",
       "      <th>4</th>\n",
       "      <td>5. ¿Qué consecuencia tiene el cambio de posici...</td>\n",
       "      <td>1. Se fa vorece la degradación por la catecol-...</td>\n",
       "      <td>2. Se pierde actividad al disminuir la analogí...</td>\n",
       "      <td>3. Aumen ta la estabilidad metabólica.</td>\n",
       "      <td>4. Se favo rece la degr adación por monoami no...</td>\n",
       "      <td>3</td>\n",
       "      <td>2021</td>\n",
       "    </tr>\n",
       "    <tr>\n",
       "      <th>5</th>\n",
       "      <td>6. El catión metildiazonio es un metabolito ac...</td>\n",
       "      <td>1. Procarbazina.</td>\n",
       "      <td>2. C iclofosfamida.</td>\n",
       "      <td>3. Mecloretamina .</td>\n",
       "      <td>4. Busulfán.</td>\n",
       "      <td>1</td>\n",
       "      <td>2021</td>\n",
       "    </tr>\n",
       "    <tr>\n",
       "      <th>6</th>\n",
       "      <td>7. ¿Cuál de los siguientes fármacos se conside...</td>\n",
       "      <td>1. Lo pinavir.</td>\n",
       "      <td>2. Captopril.</td>\n",
       "      <td>3. Seleg ilina.</td>\n",
       "      <td>4. R ivastigmina.</td>\n",
       "      <td>3</td>\n",
       "      <td>2021</td>\n",
       "    </tr>\n",
       "    <tr>\n",
       "      <th>7</th>\n",
       "      <td>8. ¿Cuál de las siguientes reacciones metabóli...</td>\n",
       "      <td>1. Gl ucuronidación.</td>\n",
       "      <td>2. Acetilación.</td>\n",
       "      <td>3. C onjugación con sulfato.</td>\n",
       "      <td>4. Conjugación con glutatión.</td>\n",
       "      <td>2</td>\n",
       "      <td>2021</td>\n",
       "    </tr>\n",
       "    <tr>\n",
       "      <th>8</th>\n",
       "      <td>9. Un método general para obtener derivados de...</td>\n",
       "      <td>1. Fen ilhidrazina y un compuesto carbon ílico...</td>\n",
       "      <td>2. Un a 1,3-diamina y carbonato de etilo.</td>\n",
       "      <td>3. Acetilacetato de etilo, amoniaco y alde híd...</td>\n",
       "      <td>4. Un éster malón ico convenientemente sustitu...</td>\n",
       "      <td>4</td>\n",
       "      <td>2021</td>\n",
       "    </tr>\n",
       "    <tr>\n",
       "      <th>9</th>\n",
       "      <td>10. Las sulfonilureas ejercen su efecto hipogl...</td>\n",
       "      <td>1. Canales de calcio dependientes de potencial.</td>\n",
       "      <td>2. Canales de sodio dependientes de potencial.</td>\n",
       "      <td>3. B ombas iónicas dependientes de ATP.</td>\n",
       "      <td>4. Canales de potasio dependientes de ATP.</td>\n",
       "      <td>4</td>\n",
       "      <td>2021</td>\n",
       "    </tr>\n",
       "  </tbody>\n",
       "</table>\n",
       "</div>"
      ],
      "text/plain": [
       "                                            Question  \\\n",
       "0  1. ¿Qué ventaja tiene el empleo de aciloximeti...   \n",
       "1  2. ¿Qué inconveniente presenta el empleo de ba...   \n",
       "2  3. ¿Cuál de los siguientes sustituyentes prese...   \n",
       "3  4. ¿Qué papel desempeñan los fragmentos de bet...   \n",
       "4  5. ¿Qué consecuencia tiene el cambio de posici...   \n",
       "5  6. El catión metildiazonio es un metabolito ac...   \n",
       "6  7. ¿Cuál de los siguientes fármacos se conside...   \n",
       "7  8. ¿Cuál de las siguientes reacciones metabóli...   \n",
       "8  9. Un método general para obtener derivados de...   \n",
       "9  10. Las sulfonilureas ejercen su efecto hipogl...   \n",
       "\n",
       "                                            Option_1  \\\n",
       "0           1. Disminuye la velocidad de hidrólisis.   \n",
       "1                        1. Son inestables in vitro.   \n",
       "2                                       1. Bifenilo.   \n",
       "3      1. Establecen enl aces covalentes con el ADN.   \n",
       "4  1. Se fa vorece la degradación por la catecol-...   \n",
       "5                                   1. Procarbazina.   \n",
       "6                                     1. Lo pinavir.   \n",
       "7                               1. Gl ucuronidación.   \n",
       "8  1. Fen ilhidrazina y un compuesto carbon ílico...   \n",
       "9    1. Canales de calcio dependientes de potencial.   \n",
       "\n",
       "                                            Option_2  \\\n",
       "0         2. Aumen ta la estabilidad del profármaco.   \n",
       "1           2. Aumen tan excesivamente la lipofilia.   \n",
       "2                                 2. Hidrox imetilo.   \n",
       "3  2. Establecen enl aces de hidrógeno con la top...   \n",
       "4  2. Se pierde actividad al disminuir la analogí...   \n",
       "5                                2. C iclofosfamida.   \n",
       "6                                      2. Captopril.   \n",
       "7                                    2. Acetilación.   \n",
       "8          2. Un a 1,3-diamina y carbonato de etilo.   \n",
       "9     2. Canales de sodio dependientes de potencial.   \n",
       "\n",
       "                                            Option_3  \\\n",
       "0  3. El grupo éster externo es más accesible al ...   \n",
       "1                3. So n demasiado estables in vivo.   \n",
       "2                                       3. Tetrazol.   \n",
       "3  3. Fijan la conformación activa a través de en...   \n",
       "4             3. Aumen ta la estabilidad metabólica.   \n",
       "5                                 3. Mecloretamina .   \n",
       "6                                    3. Seleg ilina.   \n",
       "7                       3. C onjugación con sulfato.   \n",
       "8  3. Acetilacetato de etilo, amoniaco y alde híd...   \n",
       "9            3. B ombas iónicas dependientes de ATP.   \n",
       "\n",
       "                                            Option_4  RC  year  \n",
       "0  4. Facilita la b ioactivación selectiva en el ...   3  2021  \n",
       "1  4. Fo rman con facilidad redes cristalinas muy...   1  2021  \n",
       "2                                      4. n -Butilo.   3  2021  \n",
       "3  4. Forman quelatos con el Fe 3+ favoreciendo l...   4  2021  \n",
       "4  4. Se favo rece la degr adación por monoami no...   3  2021  \n",
       "5                                       4. Busulfán.   1  2021  \n",
       "6                                  4. R ivastigmina.   3  2021  \n",
       "7                      4. Conjugación con glutatión.   2  2021  \n",
       "8  4. Un éster malón ico convenientemente sustitu...   4  2021  \n",
       "9         4. Canales de potasio dependientes de ATP.   4  2021  "
      ]
     },
     "execution_count": 37,
     "metadata": {},
     "output_type": "execute_result"
    }
   ],
   "source": [
    "processed_exam_df.head(10)"
   ]
  },
  {
   "cell_type": "markdown",
   "metadata": {},
   "source": [
    "### Filtering by relevant questions\n",
    "\n",
    "**1. Filtering for id**\n",
    "\n",
    "A list of the number of question is used to filter the DataFrame, but first doing a -1 so it matches with the id. \n",
    "\n",
    "Finally the indexes are reseted"
   ]
  },
  {
   "cell_type": "code",
   "execution_count": 38,
   "metadata": {},
   "outputs": [
    {
     "name": "stdout",
     "output_type": "stream",
     "text": [
      "Expected number of rows = 107\n",
      "Number of rows in filtered df = 107\n"
     ]
    }
   ],
   "source": [
    "id_filter = [x-1 for x in add_list]\n",
    "processed_exam_df_filtered = processed_exam_df.iloc[id_filter]\n",
    "processed_exam_df_filtered = processed_exam_df_filtered.reset_index(drop= True)\n",
    "print(f\"Expected number of rows = {len(id_filter)}\\nNumber of rows in filtered df = {processed_exam_df_filtered.shape[0]}\")"
   ]
  },
  {
   "cell_type": "markdown",
   "metadata": {},
   "source": [
    "**2. Showing the filtered DataFrame**\n",
    "\n",
    "Using head and tail"
   ]
  },
  {
   "cell_type": "code",
   "execution_count": 39,
   "metadata": {},
   "outputs": [
    {
     "data": {
      "application/vnd.microsoft.datawrangler.viewer.v0+json": {
       "columns": [
        {
         "name": "index",
         "rawType": "int64",
         "type": "integer"
        },
        {
         "name": "Question",
         "rawType": "object",
         "type": "string"
        },
        {
         "name": "Option_1",
         "rawType": "object",
         "type": "string"
        },
        {
         "name": "Option_2",
         "rawType": "object",
         "type": "string"
        },
        {
         "name": "Option_3",
         "rawType": "object",
         "type": "string"
        },
        {
         "name": "Option_4",
         "rawType": "object",
         "type": "string"
        },
        {
         "name": "RC",
         "rawType": "int32",
         "type": "integer"
        },
        {
         "name": "year",
         "rawType": "int64",
         "type": "integer"
        }
       ],
       "conversionMethod": "pd.DataFrame",
       "ref": "3005f324-4ae9-49d4-9a6a-fe0a56338161",
       "rows": [
        [
         "0",
         "17. La anfotericina B es un antifúngico que pertenece al siguiente grupo:",
         "1. Polienos.",
         "2. Triazoles.",
         "3. Candinas.",
         "4. Sulfamidas.",
         "1",
         "2021"
        ],
        [
         "1",
         "18. Respecto a los hongos Mucorales:",
         "1. Son sensibles a voriconazol.",
         "2. Causan infecciones diagnosticables mediante la detección de β-1-3-D-glucano.",
         "3. Causan infección sinusal, rino-órbitocerebral, broncopulmona r, cutánea o diseminada.",
         "4. Tienen afinidad por tejidos queratinizados.",
         "3",
         "2021"
        ],
        [
         "2",
         "19. ¿Qué mecanismo es responsable de la resistencia a las quinolonas?:",
         "1. Presencia de mutaciones cromosómicas en los genes de la ADN girasa y de la topoisomerasa de tipo IV.",
         "2. Modificación enzimática de la quinolona mediada por acetiltransferasas.",
         "3. Adquisición de una β-lactamasa que hidroliza al fármaco.",
         "4. Metilación del ARNr 23S, impidiendo la unión del antibiótico.",
         "1",
         "2021"
        ],
        [
         "3",
         "20. ¿Cuál de los siguientes enunciados respecto a la toxina leucocidina Panton-Valentine de Staphylococcus aureus es INCORRECTO?:",
         "1. Se identifica en la mayoría de cepas de S. aureus resistentes a meticilina asociadas a infecciones comunitarias.",
         "2. Es causante de cuadros cutáneos graves.",
         "3. Es una citotoxina.",
         "4. Se relaciona con intoxicaciones alimentarias.",
         "4",
         "2021"
        ],
        [
         "4",
         "21. ¿Cuál es la respuesta correcta respecto a Staphylococcus saprophyticus?:",
         "1. Produce infecciones del aparato genitourinario en mujeres jóvenes.",
         "2. Es sensible a fosfomicina.",
         "3. Es sensible a novobiocina.",
         "4. Es un estafilococo coagulasa-positivo.",
         "1",
         "2021"
        ],
        [
         "5",
         "22. ¿Cuál de las siguientes bacterias es un bacilo gram-negativo que NO crece en agar MacConkey, es oxidasa positiva y está implicada en infecciones de heridas tras mordedura de animales?:",
         "1. Pasteurella multocida.",
         "2. Francisella tularensis.",
         "3. Neisseria gonorrhoeae.",
         "4. Enterobacter cloacae.",
         "1",
         "2021"
        ],
        [
         "6",
         "23. ¿Cuál es la respuesta INCORRECTA respecto a las infecciones causadas por Legionella pneumophila?:",
         "1. Son asintomáticas con relativa frecuencia.",
         "2. La infección sintomática se presenta en una de las siguientes formas: fiebre de Pontiac o enfermedad de los legionarios.",
         "3. El tratamiento de elección son los macrólidos o las fluoroquinolonas.",
         "4. La fiebre de Pontiac se asocia con enfermedad pulmonar de base.",
         "4",
         "2021"
        ],
        [
         "7",
         "24. ¿Cuál de las siguientes bacterias NO pertenece al denominado grupo HACEK?:",
         "1. Achromobacter xylosoxidans.",
         "2. Cardiobacterium hominis.",
         "3. Kingella kingae.",
         "4. Eikenella corrodens.",
         "1",
         "2021"
        ],
        [
         "8",
         "25. ¿Cuál de las siguientes características fenotípicas supone una identificación presuntiva de Streptococcus pneumoniae?:",
         "1. β-Hemólisis en agar sa ngre, sensibilidad a la optoquina, prueba de solubilidad en bilis positiva.",
         "2. β-Hemólisis en agar sangre, resistencia a la optoquina, prueba de solubilidad en bilis negativa.",
         "3. α-Hemólisis en agar sangre, sensibilidad a la optoquina, prueba de solubilidad en bilis positiva.",
         "4. α-Hemólisis en agar sangre, resistencia a la optoquina, prueba de solubilidad en bilis positiva.",
         "3",
         "2021"
        ],
        [
         "9",
         "26. Avibactam es un inhibidor de β-lactamasas con la EXCEPCIÓN de:",
         "1. β-Lactamasa de espectro extendido (BLEE).",
         "2. β-Lactamasa de clase C (ampC).",
         "3. Carbapenemasa de tipo metalobetalactamasa.",
         "4. Carbapenemasa de clase D (OXA-48).",
         "3",
         "2021"
        ]
       ],
       "shape": {
        "columns": 7,
        "rows": 10
       }
      },
      "text/html": [
       "<div>\n",
       "<style scoped>\n",
       "    .dataframe tbody tr th:only-of-type {\n",
       "        vertical-align: middle;\n",
       "    }\n",
       "\n",
       "    .dataframe tbody tr th {\n",
       "        vertical-align: top;\n",
       "    }\n",
       "\n",
       "    .dataframe thead th {\n",
       "        text-align: right;\n",
       "    }\n",
       "</style>\n",
       "<table border=\"1\" class=\"dataframe\">\n",
       "  <thead>\n",
       "    <tr style=\"text-align: right;\">\n",
       "      <th></th>\n",
       "      <th>Question</th>\n",
       "      <th>Option_1</th>\n",
       "      <th>Option_2</th>\n",
       "      <th>Option_3</th>\n",
       "      <th>Option_4</th>\n",
       "      <th>RC</th>\n",
       "      <th>year</th>\n",
       "    </tr>\n",
       "  </thead>\n",
       "  <tbody>\n",
       "    <tr>\n",
       "      <th>0</th>\n",
       "      <td>17. La anfotericina B es un antifúngico que pe...</td>\n",
       "      <td>1. Polienos.</td>\n",
       "      <td>2. Triazoles.</td>\n",
       "      <td>3. Candinas.</td>\n",
       "      <td>4. Sulfamidas.</td>\n",
       "      <td>1</td>\n",
       "      <td>2021</td>\n",
       "    </tr>\n",
       "    <tr>\n",
       "      <th>1</th>\n",
       "      <td>18. Respecto a los hongos Mucorales:</td>\n",
       "      <td>1. Son sensibles a voriconazol.</td>\n",
       "      <td>2. Causan infecciones diagnosticables mediante...</td>\n",
       "      <td>3. Causan infección sinusal, rino-órbitocerebr...</td>\n",
       "      <td>4. Tienen afinidad por tejidos queratinizados.</td>\n",
       "      <td>3</td>\n",
       "      <td>2021</td>\n",
       "    </tr>\n",
       "    <tr>\n",
       "      <th>2</th>\n",
       "      <td>19. ¿Qué mecanismo es responsable de la resist...</td>\n",
       "      <td>1. Presencia de mutaciones cromosómicas en los...</td>\n",
       "      <td>2. Modificación enzimática de la quinolona med...</td>\n",
       "      <td>3. Adquisición de una β-lactamasa que hidroliz...</td>\n",
       "      <td>4. Metilación del ARNr 23S, impidiendo la unió...</td>\n",
       "      <td>1</td>\n",
       "      <td>2021</td>\n",
       "    </tr>\n",
       "    <tr>\n",
       "      <th>3</th>\n",
       "      <td>20. ¿Cuál de los siguientes enunciados respect...</td>\n",
       "      <td>1. Se identifica en la mayoría de cepas de S. ...</td>\n",
       "      <td>2. Es causante de cuadros cutáneos graves.</td>\n",
       "      <td>3. Es una citotoxina.</td>\n",
       "      <td>4. Se relaciona con intoxicaciones alimentarias.</td>\n",
       "      <td>4</td>\n",
       "      <td>2021</td>\n",
       "    </tr>\n",
       "    <tr>\n",
       "      <th>4</th>\n",
       "      <td>21. ¿Cuál es la respuesta correcta respecto a ...</td>\n",
       "      <td>1. Produce infecciones del aparato genitourina...</td>\n",
       "      <td>2. Es sensible a fosfomicina.</td>\n",
       "      <td>3. Es sensible a novobiocina.</td>\n",
       "      <td>4. Es un estafilococo coagulasa-positivo.</td>\n",
       "      <td>1</td>\n",
       "      <td>2021</td>\n",
       "    </tr>\n",
       "    <tr>\n",
       "      <th>5</th>\n",
       "      <td>22. ¿Cuál de las siguientes bacterias es un ba...</td>\n",
       "      <td>1. Pasteurella multocida.</td>\n",
       "      <td>2. Francisella tularensis.</td>\n",
       "      <td>3. Neisseria gonorrhoeae.</td>\n",
       "      <td>4. Enterobacter cloacae.</td>\n",
       "      <td>1</td>\n",
       "      <td>2021</td>\n",
       "    </tr>\n",
       "    <tr>\n",
       "      <th>6</th>\n",
       "      <td>23. ¿Cuál es la respuesta INCORRECTA respecto ...</td>\n",
       "      <td>1. Son asintomáticas con relativa frecuencia.</td>\n",
       "      <td>2. La infección sintomática se presenta en una...</td>\n",
       "      <td>3. El tratamiento de elección son los macrólid...</td>\n",
       "      <td>4. La fiebre de Pontiac se asocia con enfermed...</td>\n",
       "      <td>4</td>\n",
       "      <td>2021</td>\n",
       "    </tr>\n",
       "    <tr>\n",
       "      <th>7</th>\n",
       "      <td>24. ¿Cuál de las siguientes bacterias NO perte...</td>\n",
       "      <td>1. Achromobacter xylosoxidans.</td>\n",
       "      <td>2. Cardiobacterium hominis.</td>\n",
       "      <td>3. Kingella kingae.</td>\n",
       "      <td>4. Eikenella corrodens.</td>\n",
       "      <td>1</td>\n",
       "      <td>2021</td>\n",
       "    </tr>\n",
       "    <tr>\n",
       "      <th>8</th>\n",
       "      <td>25. ¿Cuál de las siguientes características fe...</td>\n",
       "      <td>1. β-Hemólisis en agar sa ngre, sensibilidad a...</td>\n",
       "      <td>2. β-Hemólisis en agar sangre, resistencia a l...</td>\n",
       "      <td>3. α-Hemólisis en agar sangre, sensibilidad a ...</td>\n",
       "      <td>4. α-Hemólisis en agar sangre, resistencia a l...</td>\n",
       "      <td>3</td>\n",
       "      <td>2021</td>\n",
       "    </tr>\n",
       "    <tr>\n",
       "      <th>9</th>\n",
       "      <td>26. Avibactam es un inhibidor de β-lactamasas ...</td>\n",
       "      <td>1. β-Lactamasa de espectro extendido (BLEE).</td>\n",
       "      <td>2. β-Lactamasa de clase C (ampC).</td>\n",
       "      <td>3. Carbapenemasa de tipo metalobetalactamasa.</td>\n",
       "      <td>4. Carbapenemasa de clase D (OXA-48).</td>\n",
       "      <td>3</td>\n",
       "      <td>2021</td>\n",
       "    </tr>\n",
       "  </tbody>\n",
       "</table>\n",
       "</div>"
      ],
      "text/plain": [
       "                                            Question  \\\n",
       "0  17. La anfotericina B es un antifúngico que pe...   \n",
       "1               18. Respecto a los hongos Mucorales:   \n",
       "2  19. ¿Qué mecanismo es responsable de la resist...   \n",
       "3  20. ¿Cuál de los siguientes enunciados respect...   \n",
       "4  21. ¿Cuál es la respuesta correcta respecto a ...   \n",
       "5  22. ¿Cuál de las siguientes bacterias es un ba...   \n",
       "6  23. ¿Cuál es la respuesta INCORRECTA respecto ...   \n",
       "7  24. ¿Cuál de las siguientes bacterias NO perte...   \n",
       "8  25. ¿Cuál de las siguientes características fe...   \n",
       "9  26. Avibactam es un inhibidor de β-lactamasas ...   \n",
       "\n",
       "                                            Option_1  \\\n",
       "0                                       1. Polienos.   \n",
       "1                    1. Son sensibles a voriconazol.   \n",
       "2  1. Presencia de mutaciones cromosómicas en los...   \n",
       "3  1. Se identifica en la mayoría de cepas de S. ...   \n",
       "4  1. Produce infecciones del aparato genitourina...   \n",
       "5                          1. Pasteurella multocida.   \n",
       "6      1. Son asintomáticas con relativa frecuencia.   \n",
       "7                     1. Achromobacter xylosoxidans.   \n",
       "8  1. β-Hemólisis en agar sa ngre, sensibilidad a...   \n",
       "9       1. β-Lactamasa de espectro extendido (BLEE).   \n",
       "\n",
       "                                            Option_2  \\\n",
       "0                                      2. Triazoles.   \n",
       "1  2. Causan infecciones diagnosticables mediante...   \n",
       "2  2. Modificación enzimática de la quinolona med...   \n",
       "3         2. Es causante de cuadros cutáneos graves.   \n",
       "4                      2. Es sensible a fosfomicina.   \n",
       "5                         2. Francisella tularensis.   \n",
       "6  2. La infección sintomática se presenta en una...   \n",
       "7                        2. Cardiobacterium hominis.   \n",
       "8  2. β-Hemólisis en agar sangre, resistencia a l...   \n",
       "9                  2. β-Lactamasa de clase C (ampC).   \n",
       "\n",
       "                                            Option_3  \\\n",
       "0                                       3. Candinas.   \n",
       "1  3. Causan infección sinusal, rino-órbitocerebr...   \n",
       "2  3. Adquisición de una β-lactamasa que hidroliz...   \n",
       "3                              3. Es una citotoxina.   \n",
       "4                      3. Es sensible a novobiocina.   \n",
       "5                          3. Neisseria gonorrhoeae.   \n",
       "6  3. El tratamiento de elección son los macrólid...   \n",
       "7                                3. Kingella kingae.   \n",
       "8  3. α-Hemólisis en agar sangre, sensibilidad a ...   \n",
       "9      3. Carbapenemasa de tipo metalobetalactamasa.   \n",
       "\n",
       "                                            Option_4  RC  year  \n",
       "0                                     4. Sulfamidas.   1  2021  \n",
       "1     4. Tienen afinidad por tejidos queratinizados.   3  2021  \n",
       "2  4. Metilación del ARNr 23S, impidiendo la unió...   1  2021  \n",
       "3   4. Se relaciona con intoxicaciones alimentarias.   4  2021  \n",
       "4          4. Es un estafilococo coagulasa-positivo.   1  2021  \n",
       "5                           4. Enterobacter cloacae.   1  2021  \n",
       "6  4. La fiebre de Pontiac se asocia con enfermed...   4  2021  \n",
       "7                            4. Eikenella corrodens.   1  2021  \n",
       "8  4. α-Hemólisis en agar sangre, resistencia a l...   3  2021  \n",
       "9              4. Carbapenemasa de clase D (OXA-48).   3  2021  "
      ]
     },
     "execution_count": 39,
     "metadata": {},
     "output_type": "execute_result"
    }
   ],
   "source": [
    "processed_exam_df_filtered.head(10)"
   ]
  },
  {
   "cell_type": "code",
   "execution_count": 40,
   "metadata": {},
   "outputs": [
    {
     "data": {
      "application/vnd.microsoft.datawrangler.viewer.v0+json": {
       "columns": [
        {
         "name": "index",
         "rawType": "int64",
         "type": "integer"
        },
        {
         "name": "Question",
         "rawType": "object",
         "type": "string"
        },
        {
         "name": "Option_1",
         "rawType": "object",
         "type": "string"
        },
        {
         "name": "Option_2",
         "rawType": "object",
         "type": "string"
        },
        {
         "name": "Option_3",
         "rawType": "object",
         "type": "string"
        },
        {
         "name": "Option_4",
         "rawType": "object",
         "type": "string"
        },
        {
         "name": "RC",
         "rawType": "int32",
         "type": "integer"
        },
        {
         "name": "year",
         "rawType": "int64",
         "type": "integer"
        }
       ],
       "conversionMethod": "pd.DataFrame",
       "ref": "e00f3435-6646-4aad-bbbe-991171226b0b",
       "rows": [
        [
         "97",
         "195. ¿En cuál de las siguientes situaciones NO se activaría la vía clásica del Sistema del Complemento para inducir inflamación?:",
         "1. Bacteria gram positiva reconocida por IgM.",
         "2. Bacteria gram negativa reconocida por IgA.",
         "3. Bacteria gram positiva opsonizada con IgG.",
         "4. Bacteria gram negativa opsonizada por Proteína C Reactiva.",
         "2",
         "2021"
        ],
        [
         "98",
         "196. ¿Qué enunciado es una característica de las células T de memoria?:",
         "1. Son de proliferación constante sin antígeno y de reactividad aumentad a a la exposición del antígeno.",
         "2. Son quiescentes, de reactividad aumentada a la exposición del antígeno y por tanto responsables de la autoinmunidad.",
         "3. Son quiescentes y de reactividad aumentada a la exposición del antígeno.",
         "4. Son inmortales y activan a las células T vírgenes mediante la secreción de citoquinas.",
         "3",
         "2021"
        ],
        [
         "99",
         "197. ¿Qué células sanguíneas circulantes se diferencian a macrófagos en los tejidos?:",
         "1. Neutrófilos.",
         "2. Macrófagos inmaduros.",
         "3. Monocitos.",
         "4. Células mieloides progenitoras circulantes.",
         "3",
         "2021"
        ],
        [
         "100",
         "198. ¿Cuál es la función principal del timo?:",
         "1. Es el órgano donde los linfocitos T senescentes van a morir.",
         "2. Es el órgano donde residen los linfocitos de memoria hasta la senescencia.",
         "3. Es el órgano donde se induce la activación de los linfocitos T específica para un antígeno.",
         "4. Es el órgano donde se produce la maduración de los linfocitos T.",
         "4",
         "2021"
        ],
        [
         "101",
         "199. Las células dendrític as, durante una infección, tienen como funciones:",
         "1. Fagocitar microbios y erradicarlos, secretar citocinas inflamatorias (TNF α e IL-1) para fomentar la inflamación local.",
         "2. Migrar desde el sitio de infección hasta el nódulo linfático para producir citoquinas antiinflamatorias para activar a los linfocitos T.",
         "3. Llevar desde el sitio de infección hasta el nódulo linfático a los antígenos para presentárselos a los linfocitos T.",
         "4. Presentar antígenos a los linfocitos T en el sitio de infección.",
         "3",
         "2021"
        ],
        [
         "102",
         "200. ¿Cuál es la función de los linfocitos CD4+ Th17?:",
         "1. Producir IL-1, IL-7 e inducir una respuesta inflamatoria.",
         "2. Producir IL-1, IL-7 e inducir una respuesta antiinflamatoria.",
         "3. Producir IL-17 e inducir una respuesta inflamatoria.",
         "4. Producir IL-17 e inducir una respuesta antiinflamatoria.",
         "3",
         "2021"
        ],
        [
         "103",
         "202. ¿Cuál de las siguie ntes afirmaciones sobre Listeria monocytogenes es INCORRECTA?:",
         "1. Es un bacilo grampositivo.",
         "2. Forma colonias catalasa y CAMP positivas.",
         "3. No crece en hemocultivos.",
         "4. Presenta resistencia intrínseca a la ceftriaxona.",
         "3",
         "2021"
        ],
        [
         "104",
         "203. La vía aferente del re flejo fotomoto r comienza en los fotorreceptores retinianos y continúa por las fibras del nervio óptico hasta el pretectum, donde hacen sinapsis con neuronas, que después conectan con un núcleo denominado:",
         "1. Núcleo geniculado.",
         "2. Núcleo de Edinger-Westphal.",
         "3. Núcleo ciliespinal de Budge.",
         "4. Núcleo de Deiters.",
         "2",
         "2021"
        ],
        [
         "105",
         "205. ¿Cuál de las siguientes afirmaciones acerca de vancomicina es INCORRECTA?:",
         "1. Es un antibiótico del grupo de los lipopéptidos al igual que teicoplanina.",
         "2. Se utiliza por vía oral en el tratamiento de las infecciones gastrointestinales por Clostridioides difficile.",
         "3. Produce como efectos adversos exantemas, ototoxicidad y nefrotoxicidad.",
         "4. Su mecanismo de acción es inhibir la síntesis de la pared celular bacteriana.",
         "1",
         "2021"
        ],
        [
         "106",
         "208. ¿Cuál de las siguientes proteínas plasmáticas NO se suele observar en el proteinograma en suero?:",
         "1. Prealbúmina.",
         "2. Haptoglobina.",
         "3. Ferroxidasa.",
         "4. Proteína transportadora de retinol.",
         "1",
         "2021"
        ]
       ],
       "shape": {
        "columns": 7,
        "rows": 10
       }
      },
      "text/html": [
       "<div>\n",
       "<style scoped>\n",
       "    .dataframe tbody tr th:only-of-type {\n",
       "        vertical-align: middle;\n",
       "    }\n",
       "\n",
       "    .dataframe tbody tr th {\n",
       "        vertical-align: top;\n",
       "    }\n",
       "\n",
       "    .dataframe thead th {\n",
       "        text-align: right;\n",
       "    }\n",
       "</style>\n",
       "<table border=\"1\" class=\"dataframe\">\n",
       "  <thead>\n",
       "    <tr style=\"text-align: right;\">\n",
       "      <th></th>\n",
       "      <th>Question</th>\n",
       "      <th>Option_1</th>\n",
       "      <th>Option_2</th>\n",
       "      <th>Option_3</th>\n",
       "      <th>Option_4</th>\n",
       "      <th>RC</th>\n",
       "      <th>year</th>\n",
       "    </tr>\n",
       "  </thead>\n",
       "  <tbody>\n",
       "    <tr>\n",
       "      <th>97</th>\n",
       "      <td>195. ¿En cuál de las siguientes situaciones NO...</td>\n",
       "      <td>1. Bacteria gram positiva reconocida por IgM.</td>\n",
       "      <td>2. Bacteria gram negativa reconocida por IgA.</td>\n",
       "      <td>3. Bacteria gram positiva opsonizada con IgG.</td>\n",
       "      <td>4. Bacteria gram negativa opsonizada por Prote...</td>\n",
       "      <td>2</td>\n",
       "      <td>2021</td>\n",
       "    </tr>\n",
       "    <tr>\n",
       "      <th>98</th>\n",
       "      <td>196. ¿Qué enunciado es una característica de l...</td>\n",
       "      <td>1. Son de proliferación constante sin antígeno...</td>\n",
       "      <td>2. Son quiescentes, de reactividad aumentada a...</td>\n",
       "      <td>3. Son quiescentes y de reactividad aumentada ...</td>\n",
       "      <td>4. Son inmortales y activan a las células T ví...</td>\n",
       "      <td>3</td>\n",
       "      <td>2021</td>\n",
       "    </tr>\n",
       "    <tr>\n",
       "      <th>99</th>\n",
       "      <td>197. ¿Qué células sanguíneas circulantes se di...</td>\n",
       "      <td>1. Neutrófilos.</td>\n",
       "      <td>2. Macrófagos inmaduros.</td>\n",
       "      <td>3. Monocitos.</td>\n",
       "      <td>4. Células mieloides progenitoras circulantes.</td>\n",
       "      <td>3</td>\n",
       "      <td>2021</td>\n",
       "    </tr>\n",
       "    <tr>\n",
       "      <th>100</th>\n",
       "      <td>198. ¿Cuál es la función principal del timo?:</td>\n",
       "      <td>1. Es el órgano donde los linfocitos T senesce...</td>\n",
       "      <td>2. Es el órgano donde residen los linfocitos d...</td>\n",
       "      <td>3. Es el órgano donde se induce la activación ...</td>\n",
       "      <td>4. Es el órgano donde se produce la maduración...</td>\n",
       "      <td>4</td>\n",
       "      <td>2021</td>\n",
       "    </tr>\n",
       "    <tr>\n",
       "      <th>101</th>\n",
       "      <td>199. Las células dendrític as, durante una inf...</td>\n",
       "      <td>1. Fagocitar microbios y erradicarlos, secreta...</td>\n",
       "      <td>2. Migrar desde el sitio de infección hasta el...</td>\n",
       "      <td>3. Llevar desde el sitio de infección hasta el...</td>\n",
       "      <td>4. Presentar antígenos a los linfocitos T en e...</td>\n",
       "      <td>3</td>\n",
       "      <td>2021</td>\n",
       "    </tr>\n",
       "    <tr>\n",
       "      <th>102</th>\n",
       "      <td>200. ¿Cuál es la función de los linfocitos CD4...</td>\n",
       "      <td>1. Producir IL-1, IL-7 e inducir una respuesta...</td>\n",
       "      <td>2. Producir IL-1, IL-7 e inducir una respuesta...</td>\n",
       "      <td>3. Producir IL-17 e inducir una respuesta infl...</td>\n",
       "      <td>4. Producir IL-17 e inducir una respuesta anti...</td>\n",
       "      <td>3</td>\n",
       "      <td>2021</td>\n",
       "    </tr>\n",
       "    <tr>\n",
       "      <th>103</th>\n",
       "      <td>202. ¿Cuál de las siguie ntes afirmaciones sob...</td>\n",
       "      <td>1. Es un bacilo grampositivo.</td>\n",
       "      <td>2. Forma colonias catalasa y CAMP positivas.</td>\n",
       "      <td>3. No crece en hemocultivos.</td>\n",
       "      <td>4. Presenta resistencia intrínseca a la ceftri...</td>\n",
       "      <td>3</td>\n",
       "      <td>2021</td>\n",
       "    </tr>\n",
       "    <tr>\n",
       "      <th>104</th>\n",
       "      <td>203. La vía aferente del re flejo fotomoto r c...</td>\n",
       "      <td>1. Núcleo geniculado.</td>\n",
       "      <td>2. Núcleo de Edinger-Westphal.</td>\n",
       "      <td>3. Núcleo ciliespinal de Budge.</td>\n",
       "      <td>4. Núcleo de Deiters.</td>\n",
       "      <td>2</td>\n",
       "      <td>2021</td>\n",
       "    </tr>\n",
       "    <tr>\n",
       "      <th>105</th>\n",
       "      <td>205. ¿Cuál de las siguientes afirmaciones acer...</td>\n",
       "      <td>1. Es un antibiótico del grupo de los lipopépt...</td>\n",
       "      <td>2. Se utiliza por vía oral en el tratamiento d...</td>\n",
       "      <td>3. Produce como efectos adversos exantemas, ot...</td>\n",
       "      <td>4. Su mecanismo de acción es inhibir la síntes...</td>\n",
       "      <td>1</td>\n",
       "      <td>2021</td>\n",
       "    </tr>\n",
       "    <tr>\n",
       "      <th>106</th>\n",
       "      <td>208. ¿Cuál de las siguientes proteínas plasmát...</td>\n",
       "      <td>1. Prealbúmina.</td>\n",
       "      <td>2. Haptoglobina.</td>\n",
       "      <td>3. Ferroxidasa.</td>\n",
       "      <td>4. Proteína transportadora de retinol.</td>\n",
       "      <td>1</td>\n",
       "      <td>2021</td>\n",
       "    </tr>\n",
       "  </tbody>\n",
       "</table>\n",
       "</div>"
      ],
      "text/plain": [
       "                                              Question  \\\n",
       "97   195. ¿En cuál de las siguientes situaciones NO...   \n",
       "98   196. ¿Qué enunciado es una característica de l...   \n",
       "99   197. ¿Qué células sanguíneas circulantes se di...   \n",
       "100      198. ¿Cuál es la función principal del timo?:   \n",
       "101  199. Las células dendrític as, durante una inf...   \n",
       "102  200. ¿Cuál es la función de los linfocitos CD4...   \n",
       "103  202. ¿Cuál de las siguie ntes afirmaciones sob...   \n",
       "104  203. La vía aferente del re flejo fotomoto r c...   \n",
       "105  205. ¿Cuál de las siguientes afirmaciones acer...   \n",
       "106  208. ¿Cuál de las siguientes proteínas plasmát...   \n",
       "\n",
       "                                              Option_1  \\\n",
       "97       1. Bacteria gram positiva reconocida por IgM.   \n",
       "98   1. Son de proliferación constante sin antígeno...   \n",
       "99                                     1. Neutrófilos.   \n",
       "100  1. Es el órgano donde los linfocitos T senesce...   \n",
       "101  1. Fagocitar microbios y erradicarlos, secreta...   \n",
       "102  1. Producir IL-1, IL-7 e inducir una respuesta...   \n",
       "103                      1. Es un bacilo grampositivo.   \n",
       "104                              1. Núcleo geniculado.   \n",
       "105  1. Es un antibiótico del grupo de los lipopépt...   \n",
       "106                                    1. Prealbúmina.   \n",
       "\n",
       "                                              Option_2  \\\n",
       "97       2. Bacteria gram negativa reconocida por IgA.   \n",
       "98   2. Son quiescentes, de reactividad aumentada a...   \n",
       "99                            2. Macrófagos inmaduros.   \n",
       "100  2. Es el órgano donde residen los linfocitos d...   \n",
       "101  2. Migrar desde el sitio de infección hasta el...   \n",
       "102  2. Producir IL-1, IL-7 e inducir una respuesta...   \n",
       "103       2. Forma colonias catalasa y CAMP positivas.   \n",
       "104                     2. Núcleo de Edinger-Westphal.   \n",
       "105  2. Se utiliza por vía oral en el tratamiento d...   \n",
       "106                                   2. Haptoglobina.   \n",
       "\n",
       "                                              Option_3  \\\n",
       "97       3. Bacteria gram positiva opsonizada con IgG.   \n",
       "98   3. Son quiescentes y de reactividad aumentada ...   \n",
       "99                                       3. Monocitos.   \n",
       "100  3. Es el órgano donde se induce la activación ...   \n",
       "101  3. Llevar desde el sitio de infección hasta el...   \n",
       "102  3. Producir IL-17 e inducir una respuesta infl...   \n",
       "103                       3. No crece en hemocultivos.   \n",
       "104                    3. Núcleo ciliespinal de Budge.   \n",
       "105  3. Produce como efectos adversos exantemas, ot...   \n",
       "106                                    3. Ferroxidasa.   \n",
       "\n",
       "                                              Option_4  RC  year  \n",
       "97   4. Bacteria gram negativa opsonizada por Prote...   2  2021  \n",
       "98   4. Son inmortales y activan a las células T ví...   3  2021  \n",
       "99      4. Células mieloides progenitoras circulantes.   3  2021  \n",
       "100  4. Es el órgano donde se produce la maduración...   4  2021  \n",
       "101  4. Presentar antígenos a los linfocitos T en e...   3  2021  \n",
       "102  4. Producir IL-17 e inducir una respuesta anti...   3  2021  \n",
       "103  4. Presenta resistencia intrínseca a la ceftri...   3  2021  \n",
       "104                              4. Núcleo de Deiters.   2  2021  \n",
       "105  4. Su mecanismo de acción es inhibir la síntes...   1  2021  \n",
       "106             4. Proteína transportadora de retinol.   1  2021  "
      ]
     },
     "execution_count": 40,
     "metadata": {},
     "output_type": "execute_result"
    }
   ],
   "source": [
    "processed_exam_df_filtered.tail(10)"
   ]
  },
  {
   "cell_type": "markdown",
   "metadata": {},
   "source": [
    "# Data Loading"
   ]
  },
  {
   "cell_type": "markdown",
   "metadata": {},
   "source": [
    "## Saving in csv file\n",
    "\n",
    "The `processed_exam_df_filtered` DataFrame, containing the cleaned and transformed exam data, is saved to a CSV file with the name generatd in the first step in the \"data\" directory. The `index=False` argument ensures that the DataFrame index is not written to the file, resulting in a cleaner output. This CSV file can be used for further analysis or as input for other applications."
   ]
  },
  {
   "cell_type": "code",
   "execution_count": 41,
   "metadata": {},
   "outputs": [],
   "source": [
    "processed_exam_df_filtered.to_csv(save_format, index= False)"
   ]
  },
  {
   "cell_type": "markdown",
   "metadata": {},
   "source": [
    "## Writing into data warehouse\n",
    "\n",
    "This section details the process of loading the cleaned and transformed exam data into an SQLite database, serving as a data warehouse for further analysis and querying.\n",
    "\n",
    "**1. Database Connection and Path:**\n",
    "\n",
    "The path to the SQLite database file is defined, and a connection is established using the `sqlite3` library."
   ]
  },
  {
   "cell_type": "code",
   "execution_count": 42,
   "metadata": {},
   "outputs": [],
   "source": [
    "db_path: str = \"../data/clean/bir_warehouse.db\""
   ]
  },
  {
   "cell_type": "markdown",
   "metadata": {},
   "source": [
    "**2. SQL Queries Definition:**\n",
    "\n",
    "Two SQL queries are defined: one for inserting questions into the questions table and another for inserting options into the questions_options table."
   ]
  },
  {
   "cell_type": "code",
   "execution_count": 43,
   "metadata": {},
   "outputs": [],
   "source": [
    "query_question: str = \"\"\"\n",
    "INSERT INTO questions (exam_year, exam_subject, question) \n",
    "VALUES((SELECT id_year FROM year WHERE year_name = ?),\n",
    "    (SELECT id_type FROM exam WHERE exam_type = ?),\n",
    "    ?);\n",
    "\"\"\"\n",
    "\n",
    "query_options: str = \"\"\"\n",
    "INSERT INTO questions_options (question_id, option_num, option_text, is_correct)\n",
    "VALUES((SELECT id FROM questions WHERE question = ?),\n",
    "    ?,\n",
    "    ?,\n",
    "    ?)\n",
    "\"\"\""
   ]
  },
  {
   "cell_type": "markdown",
   "metadata": {},
   "source": [
    "**3. Database Interaction and Data Insertion:**\n",
    "\n",
    "A with statement is used to establish a connection to the SQLite database, ensuring that the connection is properly closed after use. A cursor is created, and the processed_exam_df DataFrame is iterated over to insert each question and its options"
   ]
  },
  {
   "cell_type": "code",
   "execution_count": 44,
   "metadata": {},
   "outputs": [],
   "source": [
    "\n",
    "with sqlite3.connect(db_path) as bir_warehouse:\n",
    "    cur = bir_warehouse.cursor()\n",
    "    for question in processed_exam_df_filtered.itertuples():\n",
    "        cur.execute(query_question, (str(question[7]), exam_acronym, question[1]))\n",
    "        bir_warehouse.commit()\n",
    "        for n, option in enumerate(question[2:6]):\n",
    "            cur.execute(query_options, (question[1], n+1, option, n+1 == question[6]))\n",
    "            bir_warehouse.commit()"
   ]
  }
 ],
 "metadata": {
  "colab": {
   "provenance": []
  },
  "kernelspec": {
   "display_name": "bir_etl",
   "language": "python",
   "name": "python3"
  },
  "language_info": {
   "codemirror_mode": {
    "name": "ipython",
    "version": 3
   },
   "file_extension": ".py",
   "mimetype": "text/x-python",
   "name": "python",
   "nbconvert_exporter": "python",
   "pygments_lexer": "ipython3",
   "version": "3.12.7"
  }
 },
 "nbformat": 4,
 "nbformat_minor": 4
}
